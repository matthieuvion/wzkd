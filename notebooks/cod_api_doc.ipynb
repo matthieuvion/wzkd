{
 "cells": [
  {
   "cell_type": "markdown",
   "id": "61a68691-f7c8-4b01-bd0e-b54c8f83030a",
   "metadata": {},
   "source": [
    "For better readability, you may visit the html rendered version on my [github page](https://matthieuvion.github.io/wzkd/cod_api_doc.html)"
   ]
  },
  {
   "cell_type": "markdown",
   "id": "f9387bca",
   "metadata": {
    "tags": []
   },
   "source": [
    "# COD private API documentation through CallofDuty.py"
   ]
  },
  {
   "cell_type": "markdown",
   "id": "a37b8bfe",
   "metadata": {},
   "source": [
    "[Credits to github.com/EthanC](https://github.com/EthanC/CallofDuty.py) <br>For this well made Python client <br><br>\n",
    "> *\"CallofDuty.py is an asynchronous, object-oriented Python wrapper for the Call of Duty API.\"*"
   ]
  },
  {
   "cell_type": "markdown",
   "id": "7b2814e1-0852-42f4-bf6d-82015e24d574",
   "metadata": {},
   "source": [
    "---"
   ]
  },
  {
   "cell_type": "markdown",
   "id": "c0a4a20f",
   "metadata": {},
   "source": [
    "#### Context & objectives"
   ]
  },
  {
   "cell_type": "markdown",
   "id": "2a20731d",
   "metadata": {
    "tags": []
   },
   "source": [
    "In this notebook, we will test & learn how to use this **--non official, Call of Duty (COD) client** to access players' stats, with a strong inclination towards **Warzone**. <br>\n",
    "If you didn't know, *Warzone* is a free Battle Royale game, part of the Call of Duty universe, developped by Activision and is --said to be, played by 100 M people.<br> \n",
    "Players (Warzone or the more classic online multiplayers modes of the different COD games) have access to some stats (score, kills/deaths ratio, rank...) on [my.callofduty.com](https://my.callofduty.com/) but they're poorly put together.<br> \n",
    "Cause or consequence, this led to to the creation of a rich ecosytem of --often very popular, websites (codtracker.gg, wzranked...) promising progression trackers and deeper analysis to players. <br>\n",
    "\n",
    "As Activision is using a **\"private\" API** (with no support) on the callofduty.com website and the **documentation** is very **sparse** otherwise, **this notebook intends to** : \n",
    "- Progress back and forth between both client and COD API to get an overall picture of what does what.\n",
    "- Present a quick glance at client's architecture as well are more details about available methods & their outputs. \n",
    "- Detail **additional methods** to test another COD API route that is listed on Postman, or remove some filters that may prevent us from fully exploiting the API.\n",
    "- Provide --though being very, **very far from exhaustive**, a deeper layer of explanation (on top of ressources listed below) on how COD API operates (Warzone oriented)."
   ]
  },
  {
   "cell_type": "markdown",
   "id": "edf2ec15",
   "metadata": {},
   "source": [
    "#### Resources"
   ]
  },
  {
   "cell_type": "markdown",
   "id": "f7d7d8f6",
   "metadata": {},
   "source": [
    "AFAIK, the most complete wrappers for COD API are the one used here and another written in NodeJS [(Github)](https://docs.codapi.dev/getting-started). <br>\n",
    "A good starting point if you want to get your hands dirty in COD stats would be to read both code. Besides, I would also recommend that you read the [documentation](https://docs.codapi.dev/getting-started) of the NodeJS wrapper as well as this [Postman tool](https://documenter.getpostman.com/view/5519582/SzzgAefq).<br>They will give you a good overall idea of which endpoints, authentification and data are at your disposal."
   ]
  },
  {
   "cell_type": "markdown",
   "id": "3f4afc28",
   "metadata": {
    "tags": []
   },
   "source": [
    "#### Install and run"
   ]
  },
  {
   "cell_type": "markdown",
   "id": "69800dde",
   "metadata": {},
   "source": [
    "Personal preferences here but I'm using miniconda (conda) as a environment manager (could be pyenv etc.) and Poetry for dependency managing and packaging. <br>\n",
    "In my conda environment I have Python 3.9 (needed for the client), Jupyter and Poetry installed.\n",
    "1. Create a new project with `poetry new your_project_name` or, if you have already a pre-populated directory, `cd your_existing_project` and then `poetry init`. Cf. [Poetry documentation](https://python-poetry.org/docs/)\n",
    "2. Install the Call of Duty client : `poetry add callofduty.py`. Poetry will make sure to install all the requirements.\n",
    "3. Run this notebook : `poetry run jupyter lab`, or `poetry shell` to start a new shell and then `jupyter lab` in the newly opened terminal.\n",
    "This will ensure you have access to all dependencies, in a custom and clean environment, thus callofduty.py and the notebook perfectly"
   ]
  },
  {
   "cell_type": "code",
   "execution_count": 1,
   "id": "b13ff5dc",
   "metadata": {},
   "outputs": [],
   "source": [
    "import asyncio\n",
    "import os\n",
    "import dotenv\n",
    "from pprint import pprint\n",
    "import datetime\n",
    "from datetime import datetime, timezone\n",
    "\n",
    "\n",
    "import callofduty\n",
    "from callofduty import Mode, Platform, Title, TimeFrame, GameType"
   ]
  },
  {
   "cell_type": "markdown",
   "id": "1e7ff8fe",
   "metadata": {},
   "source": [
    "#### Login to the API, start client session"
   ]
  },
  {
   "cell_type": "markdown",
   "id": "b49078c7",
   "metadata": {},
   "source": [
    "Two ways to authenticate to COD API. Once you're logged in, you will have access to either private (your info) or protected routes that may supply data for any given user. [Postman](https://docs.codapi.dev/getting-started) to further know what's happening under the hood. <br> 1. Login & password with `callofduty.Login(activision_email, pwd)`. I think it doesn't work anymore since Activision added a reCaptcha (but seems to be doable with the [NodeJS package](https://docs.codapi.dev/getting-started) that's using puppeteers + a plugin to bypass it).<br>2. Single Sign On (sso) `callofduty.Login(SSO_TOKEN)<p> added recently, that uses a SSO token you get while logging to Activision through your platform of choice (Bnet, Xbox, PS)."
   ]
  },
  {
   "cell_type": "code",
   "execution_count": 2,
   "id": "71cfe80b",
   "metadata": {},
   "outputs": [],
   "source": [
    "# Using SSO\n",
    "# We're storing our SSO token in an .env file stored locally to separate our config from code (w. python-dotenv). An.env-template file (with help to retrieve token) is provided for you to edit and populate the variable(s)\n",
    "# callofduty.py client .Login() goes through all the authentification steps and initiate a session to access protected routes\n",
    "# The client is asynchronous thus the 'await style'\n",
    "from dotenv import load_dotenv\n",
    "load_dotenv()\n",
    "client = await callofduty.Login(sso=os.environ[\"SSO\"])"
   ]
  },
  {
   "cell_type": "markdown",
   "id": "333c098a",
   "metadata": {},
   "source": [
    "#### COD universe, endpoints & client"
   ]
  },
  {
   "cell_type": "markdown",
   "id": "760a4710",
   "metadata": {},
   "source": [
    "COD ecosystem is indeed diverse :\n",
    "- You can have access to one or multiple titles (*Modern Warfare*, *Black Ops Cold War* ...)\n",
    "- playable locally or more likely online multiplayer\n",
    "- within every game, several 'modes', e.g the the 'Battle Royale' *Warzone*, also with different maps (called 'modes' also :p)\n",
    "- through multiple platforms, depending on the game (Steam, Battle Net, Xbox Live...)"
   ]
  },
  {
   "cell_type": "markdown",
   "id": "5701098b",
   "metadata": {},
   "source": [
    "Players need to have enabled their visibility to 'on' (off by default, since January 2021) in their settings so their profile is searchable.<br>\n",
    "The way the Activision API works is that you generally need to specify, for any given player's, its gamertag associated to a given platform and then the title/mode/sub you want to get data from (a player can have two different gamertags whether he is using BattleNet or Playstation Live).<br>\n",
    "For in-depth access to player's stats, one generally needs to specify the Platform (e.g. Activision), Title (e.g. Modern Warfare) and the Mode (e.g. multiplayer)<br>\n",
    "Since it's our focus here, once we identified a player by his gamertag & associated platform, we will usually specify `title = modernwarfare` and `mode = warzone` as Warzone is a free mode developped within the Modern Warfare engine and thus organized this way in the API.<br>\n",
    "Luckily for us the python wrapper handles the naming in an enums.py file (`Mode, Platform...`) to build the endpoints smoothly, as well as objects/classes (`client.py, match.py, player.py,...`) to work with."
   ]
  },
  {
   "cell_type": "markdown",
   "id": "ebcfb922",
   "metadata": {},
   "source": [
    "Example of a GET request built in the client to access the API : <br>\n",
    "Cf. [Postman](https://docs.codapi.dev/getting-started) for details about API's versions & path variables as well as differences between between private, protected and public routes"
   ]
  },
  {
   "cell_type": "markdown",
   "id": "e1a58905",
   "metadata": {},
   "source": [
    "> `Request(\"GET\",f\"api/papi-client/leaderboards/v2/title/{title}/platform/{platform}/time/{timeFrame}/type/{gameType}/mode/{gameMode}/page/{page}\",)`"
   ]
  },
  {
   "cell_type": "markdown",
   "id": "6f460804",
   "metadata": {},
   "source": [
    "#### Client architecture & table of (some) useful methods"
   ]
  },
  {
   "cell_type": "markdown",
   "id": "47a8f60b",
   "metadata": {},
   "source": [
    "The table below is quite complete but not exhaustive, took long enough to do ^_^ <br>\n",
    "Mainly a good way to have the big picture on protected/public routes, useful to gather player stats.<br>\n",
    "As mentioned on Postman, routes are either private, public or protected; this will be our plan when we explore the API. <br>"
   ]
  },
  {
   "cell_type": "code",
   "execution_count": 3,
   "id": "548367e9",
   "metadata": {},
   "outputs": [
    {
     "data": {
      "text/html": [
       "<style>table {align:left;display:block} </style>"
      ],
      "text/plain": [
       "<IPython.core.display.HTML object>"
      ]
     },
     "execution_count": 3,
     "metadata": {},
     "output_type": "execute_result"
    }
   ],
   "source": [
    "# Do not like when my md table is not aligned to the left\n",
    "from IPython.core.display import HTML\n",
    "table_css = 'table {align:left;display:block} '\n",
    "HTML('<style>{}</style>'.format(table_css))"
   ]
  },
  {
   "cell_type": "markdown",
   "id": "519d32ca",
   "metadata": {
    "tags": []
   },
   "source": [
    "What you can use | ...depends on .py |     ...depends on .py| ... where it does that call to COD API (https://my.callofduty.com/api.papi-client/.)\n",
    ":-------------|:--------------|:------------------|:------------------------------------\n",
    "client.GetPlayer|*returns Player*||\n",
    "client.SearchPlayers|http.SearchPlayer||crm/cod/v2/platform/platform/username/username/search\n",
    "client.GetPlayerProfile|http.GetPlayerProfile||stats/cod/v1/title/title/platform/platform/gamer/username/profile/type/mode\n",
    "client.GetPlayerMatches   -- if user platform = Activision |http.GetPlayerMatchesDetailed||crm/cod/v2/title/title/platform/platform/gamer/username/matches/mode/start/startTime/end/endTime/details?limit=limit\n",
    "client.GetPlayerMatches   -- if user platform = Bnet etc.. |http.GetPlayerMatches||crm/cod/v2/title/title/platform/platform/gamer/username/matches/mode/start/startTime/end/endTime?limit=limit\n",
    "client.GetPlayerMatchesSummary|http.GetPlayerMatchesDetailed||crm/cod/v2/title/title/platform/platform/gamer/username/matches/mode/start/startTime/end/endTime/details?limit=limit\n",
    "client.GetMatchDetails|http.GetMatch||ce/v1/title/title/platform/platform/match/matchId/matchMapEvents\n",
    "client.GetMatch|*returns Match*||\n",
    "client.GetFullMatch|http.GetFullMatch||crm/cod/v2/title/title/platform/platform/fullMatch/mode/matchId/language\n",
    "client.GetLeaderboard|http.GetLaderboard||leaderboards/v2/title/title/platform/platform/time/timeFrame/type/gameType/mode/gameMode/page/page\n",
    "*The preferred matches endpoint does not support Activision (uno) platform*|*should use (cf. postman):*||crm/cod/v2/title/title/platform/platform/uno/username/matches/mode/start/startTime/end/endTime/details?limit=limit\n",
    "Leaderboad & getMatch endpoints matchMapEvents is for multiplayer only (no Warzone)*|||\n",
    "*Others: GetMyFriends etc*|||\n",
    "---|---||\n",
    "player.profile |client.GetPlayerProfile|http.GetPlayerProfile|stats/cod/v1/title/title/platform/platform/gamer/username/profile/type/mode\n",
    "player.matchesSummary|client.GetPlayerMatchesSummary|http.GetPlayerMatchesDetailed|crm/cod/v2/title/title/platform/platform/gamer/username/matches/mode/startTime/start/end/endTime/details?limit=limit\n",
    "player.matches |client.GetPlayerMatches|http.GetPlayerMatches|crm/cod/v2/title/title/platform/platform/gamer/username/matches/mode/startTime/start/end/endTime}?limit=limit\n",
    "*+ player.loadouts, player.loadoutUnlocks...*|||\n",
    "---|---||\n",
    "match.teams|client.GetMatchTeams||ce/v1/title/title/platform/platform/match/matchId/matchMapEvents\n",
    "match.details|client.GetMatchDetails||ce/v1/title/title/platform/platform/match/matchId/matchMapEvents\n",
    "*Endpoint matchMapEvents works for multiplayer only (no Warzone)*|||"
   ]
  },
  {
   "cell_type": "markdown",
   "id": "3e9e4fce",
   "metadata": {
    "tags": []
   },
   "source": [
    "# Private routes"
   ]
  },
  {
   "cell_type": "markdown",
   "id": "7ec673a0",
   "metadata": {},
   "source": [
    "Not our focus here but once logged in, you have access to private routes related to you own account (only) e.g. your friends' profiles (`client.GetMyFriends()`) and activity, account search visibility, used platform (e.g. Battlenet), identifiers linked to your Activision account etc. <br>\n",
    "Cf. the test.py where ethanC have listed all the methods available in his client."
   ]
  },
  {
   "cell_type": "code",
   "execution_count": 4,
   "id": "0bef433c",
   "metadata": {},
   "outputs": [
    {
     "name": "stdout",
     "output_type": "stream",
     "text": [
      "chrissou#9246578, Online: False\n",
      "Marmiton#4932812, Online: False\n",
      "Moinolol#4713832, Online: False\n",
      "nicoyzovitch#7591470, Online: False\n",
      "ninjawariorbob#7568880, Online: False\n",
      "Confetti_Seeker#1916728, Online: False\n"
     ]
    }
   ],
   "source": [
    "# For instance the .GetMyFriends() method, build the private endpoint to retrieve your friends statuses, using the authenticated client (personal credendials & associated gamertag).\n",
    "friends = await client.GetMyFriends()\n",
    "for friend in friends:\n",
    "    print(f\"{friend.username}, Online: {friend.online}\")"
   ]
  },
  {
   "cell_type": "code",
   "execution_count": 5,
   "id": "52753810",
   "metadata": {},
   "outputs": [
    {
     "name": "stdout",
     "output_type": "stream",
     "text": [
      "{'_client': <callofduty.client.Client object at 0x7f9c8c725af0>,\n",
      " 'accountId': '1722124035977126995',\n",
      " 'avatarUrl': None,\n",
      " 'identities': [],\n",
      " 'online': False,\n",
      " 'platform': <Platform.Activision: 'uno'>,\n",
      " 'username': 'chrissou#9246578'}\n"
     ]
    }
   ],
   "source": [
    "# Here, the client nicely returns a list of dict w. friends' info (our client's code exploration hints the COD API usually returns json or txt)\n",
    "pprint(friends[0].__dict__)"
   ]
  },
  {
   "cell_type": "markdown",
   "id": "470690bd",
   "metadata": {
    "tags": []
   },
   "source": [
    "# Public routes"
   ]
  },
  {
   "cell_type": "markdown",
   "id": "6e41762c",
   "metadata": {},
   "source": [
    "Routes you can access without authentification. Mostly the leaderboards for COD classic ultiplayer modes (MW, BO4), as well as maps & modes available for multiplayer.<br>"
   ]
  },
  {
   "cell_type": "markdown",
   "id": "67624cf4",
   "metadata": {},
   "source": [
    "### Leaderboards"
   ]
  },
  {
   "cell_type": "markdown",
   "id": "e5cfef8a",
   "metadata": {},
   "source": [
    "Global ranking of players by their score, kills, kills deaths (kd) ratios etc.<br>\n",
    "Searched a lot and in every manner possible but Warzone leaderboard (you can see in in-game :-p) endpoint is protected/out of my reach.<br>\n",
    "Still, an ex. on how to get the leaderboard from the \"Cyber\" mode in COD Modern Warfare. The client return a leaderboard object, with entries (players) you can also dive into :"
   ]
  },
  {
   "cell_type": "markdown",
   "id": "b5a09e59-7293-45f6-9620-fdc40c5275b8",
   "metadata": {},
   "source": [
    "method | parameters | endpoint\n",
    ":------|:-----------|---------------------------------------------------\n",
    "client.GetPlayer|title, platform, --optional : gameType, gameMode, timeframes, page|leaderboards/v2/title/title/platform/platform/time/timeFrame/type/gameType/mode/gameMode/page/page"
   ]
  },
  {
   "cell_type": "code",
   "execution_count": 6,
   "id": "0972c9f0",
   "metadata": {},
   "outputs": [
    {
     "name": "stdout",
     "output_type": "stream",
     "text": [
      "{'_client': <callofduty.client.Client object at 0x7f9c8c725af0>,\n",
      " 'columns': [...],\n",
      " 'entries': [...],\n",
      " 'gameMode': 'cyber',\n",
      " 'gameType': <GameType.Core: 'core'>,\n",
      " 'page': 1,\n",
      " 'pages': 407731,\n",
      " 'platform': <Platform.BattleNet: 'battle'>,\n",
      " 'timeFrame': <TimeFrame.AllTime: 'alltime'>,\n",
      " 'title': <Title.ModernWarfare: 'mw'>}\n",
      "\n",
      " entries:\n",
      "1: 小赵同学#1148917 (BattleNet)\n",
      "2: BrattySis#6834874 (BattleNet)\n",
      "3: RNYNN#6664890 (BattleNet)\n"
     ]
    }
   ],
   "source": [
    "leaderboard = await client.GetLeaderboard(title=Title.ModernWarfare, platform=Platform.BattleNet, gameType=GameType.Core, gameMode=\"cyber\", timeFrame=TimeFrame.AllTime, page=1)\n",
    "pprint(leaderboard.__dict__, depth=1)\n",
    "print('\\n entries:')\n",
    "for entry in leaderboard.entries[:3]:\n",
    "    print(f\"{entry.rank}: {entry.username} ({entry.platform.name})\")"
   ]
  },
  {
   "cell_type": "markdown",
   "id": "eaa274cd",
   "metadata": {},
   "source": [
    "In the client other methods that access public routes are available such as `.GetPlayerLeaderboard()` (returns the leadeboard'page for a particular user; no Warzone) and `.GetFullMatch()` (Wz compatible)"
   ]
  },
  {
   "cell_type": "markdown",
   "id": "f38ab2e3",
   "metadata": {},
   "source": [
    "<a id='go_match'></a>"
   ]
  },
  {
   "cell_type": "markdown",
   "id": "c3f7d382",
   "metadata": {
    "tags": []
   },
   "source": [
    "#### Match details : match > players stats in a given MatchId"
   ]
  },
  {
   "cell_type": "markdown",
   "id": "192c0197",
   "metadata": {},
   "source": [
    "Get detailed stats about a match given a match ID, (moderwarfare/multiplayer or modernware/Warzone etc.) <br>"
   ]
  },
  {
   "cell_type": "markdown",
   "id": "b008e18a-0b25-4981-8b72-e7e90eda4fa7",
   "metadata": {},
   "source": [
    "method | parameters | endpoint\n",
    ":------|:-----------|---------------------------------------------------\n",
    "client.GetFullMatch|platform, title, mode, matchId, --default : language.English |crm/cod/v2/title/title/platform/platform/fullMatch/mode/matchId/language"
   ]
  },
  {
   "cell_type": "code",
   "execution_count": 7,
   "id": "0fd01245",
   "metadata": {},
   "outputs": [
    {
     "name": "stdout",
     "output_type": "stream",
     "text": [
      "1 exectiger 8250782718598582798\n",
      "2 havengrave 16542688049064972663\n",
      "3 YORKIE BG 9918567729791500373\n",
      "4 gentil_renard 2621859779580650696\n"
     ]
    }
   ],
   "source": [
    "# w. matchID taken from the Postman example. Later we will see how we can retrieve our own MatchIDs. \n",
    "# In this case a battle royale (Warzone) game with 145 players organizezd in teams of 4 (quads).\n",
    "match = await client.GetFullMatch(Platform.Activision, Title.ModernWarfare, Mode.Warzone, matchId=18041330435098084962)\n",
    "\n",
    "for i, dict_ in enumerate(match['allPlayers'][60:64]):\n",
    "    print(i+1, dict_['player']['username'], dict_['player']['uno'])"
   ]
  },
  {
   "cell_type": "markdown",
   "id": "0e8af6ba",
   "metadata": {},
   "source": [
    "Returns a dict with a list of dict, every dict being a player-and-his-stats (here 145).<br>\n",
    "In this match : 145 players, organized in teams of 4 ('br squad').<br>\n",
    "Our selected player had 0 kills (playerStats.kills), 2 deathes (playerStats.deaths) and was moving 87% of the time (.percentTimeMoving) and the whole team ranked 31 (.teamPlacement)"
   ]
  },
  {
   "cell_type": "code",
   "execution_count": 8,
   "id": "c6bef698",
   "metadata": {},
   "outputs": [
    {
     "name": "stdout",
     "output_type": "stream",
     "text": [
      "{'draw': False,\n",
      " 'duration': 1581000,\n",
      " 'gameType': 'wz',\n",
      " 'map': 'mp_don4',\n",
      " 'matchID': '18041330435098084962',\n",
      " 'mode': 'br_brtrios',\n",
      " 'player': {'awards': {},\n",
      "            'brMissionStats': {'missionStatsByType': {},\n",
      "                               'missionsComplete': 0,\n",
      "                               'totalMissionWeaponXpEarned': 0.0,\n",
      "                               'totalMissionXpEarned': 0.0},\n",
      "            'clantag': 'lkf :',\n",
      "            'loadout': [{...}],\n",
      "            'rank': 54.0,\n",
      "            'team': 'team_twenty_three',\n",
      "            'uno': '2621859779580650696',\n",
      "            'username': 'gentil_renard'},\n",
      " 'playerCount': 147,\n",
      " 'playerStats': {'assists': 0.0,\n",
      "                 'bonusXp': 0.0,\n",
      "                 'challengeXp': 0.0,\n",
      "                 'damageDone': 1972.0,\n",
      "                 'damageTaken': 338.0,\n",
      "                 'deaths': 2.0,\n",
      "                 'distanceTraveled': 259886.23,\n",
      "                 'executions': 0.0,\n",
      "                 'gulagDeaths': 1.0,\n",
      "                 'gulagKills': 0.0,\n",
      "                 'headshots': 0.0,\n",
      "                 'kdRatio': 2.5,\n",
      "                 'kills': 5.0,\n",
      "                 'longestStreak': 5.0,\n",
      "                 'matchXp': 8373.0,\n",
      "                 'medalXp': 295.0,\n",
      "                 'miscXp': 0.0,\n",
      "                 'nearmisses': 0.0,\n",
      "                 'objectiveBrCacheOpen': 3.0,\n",
      "                 'objectiveBrDownEnemyCircle1': 7.0,\n",
      "                 'objectiveBrKioskBuy': 2.0,\n",
      "                 'objectiveBrMissionPickupTablet': 1.0,\n",
      "                 'objectiveLastStandKill': 3.0,\n",
      "                 'objectiveReviver': 1.0,\n",
      "                 'objectiveTeamWiped': 1.0,\n",
      "                 'percentTimeMoving': 96.22823,\n",
      "                 'rank': 54.0,\n",
      "                 'score': 5350.0,\n",
      "                 'scorePerMinute': 287.89237668161434,\n",
      "                 'scoreXp': 5950.0,\n",
      "                 'teamPlacement': 21.0,\n",
      "                 'teamSurvivalTime': 1032528.0,\n",
      "                 'timePlayed': 1115.0,\n",
      "                 'totalXp': 16627.0,\n",
      "                 'wallBangs': 0.0},\n",
      " 'playlistName': None,\n",
      " 'privateMatch': False,\n",
      " 'rankedTeams': None,\n",
      " 'teamCount': 50,\n",
      " 'utcEndSeconds': 1633730237,\n",
      " 'utcStartSeconds': 1633728656,\n",
      " 'version': 1}\n"
     ]
    }
   ],
   "source": [
    "# One given player (63th = me) returned stats among the 145 (note: should be 37 teams x 4 players = 148 players initially ?).\n",
    "pprint(match['allPlayers'][63], depth=3)"
   ]
  },
  {
   "cell_type": "markdown",
   "id": "7125185b",
   "metadata": {
    "tags": []
   },
   "source": [
    "# Protected routes"
   ]
  },
  {
   "cell_type": "markdown",
   "id": "e833dd15",
   "metadata": {},
   "source": [
    "Authentification is mandatory to access those. Good thing is that you can retrieve data for other players (w. visibility setting turned ON)"
   ]
  },
  {
   "cell_type": "markdown",
   "id": "d41bad79",
   "metadata": {
    "tags": []
   },
   "source": [
    "## Player search"
   ]
  },
  {
   "cell_type": "markdown",
   "id": "14f17ecd",
   "metadata": {},
   "source": [
    "One can play Warzone through PlayStation, PC (BattleNet) or Xbox (also, cross play), hence the username being tied to a platform when searching.<br>\n",
    "Activision allows to change its own in-game username once in a while (3 months I believe). <br>\n",
    "Players can share the same name, they differentiate with ending numbers (6 digits for Activision, 4 for Bnet). Max number of players returbed by the COD API is 20.<br>\n",
    "The client return a list of `player` objects"
   ]
  },
  {
   "cell_type": "markdown",
   "id": "67d1e5cb-d8f3-4507-9cf9-777dabb9cb27",
   "metadata": {},
   "source": [
    "method | parameters | endpoint\n",
    ":------|:-----------|---------------------------------------------------\n",
    "client.SearchPlayers|platform, username|crm/cod/v2/platform/platform/username/username/search"
   ]
  },
  {
   "cell_type": "code",
   "execution_count": 9,
   "id": "ddfb4b01",
   "metadata": {},
   "outputs": [
    {
     "name": "stdout",
     "output_type": "stream",
     "text": [
      "gentil_renard#3391079 (Activision)\n",
      "Amadevs#1689 (BattleNet)\n"
     ]
    }
   ],
   "source": [
    "# For instance, my in-game --changed, username is gentil_renard, I can retrieve it (gentil_renard#3391079) with platform = Activision (translates into 'Uno' when the client builds the route)\n",
    "results = await client.SearchPlayers(Platform.Activision, \"gentil_renard\")\n",
    "for player in results:\n",
    "    print(f\"{player.username} ({player.platform.name})\")\n",
    "\n",
    "# but though I'm playing via Bnet, can't retrieve if I set platform = Bnet\n",
    "results = await client.SearchPlayers(Platform.BattleNet, \"gentil_renard\")\n",
    "for player in results:\n",
    "    print(f\"{player.username} ({player.platform.name})\")\n",
    "\n",
    "# Only works if I use my Bnet gamertag\n",
    "results = await client.SearchPlayers(Platform.BattleNet, \"AMADEVS#1689\")\n",
    "for player in results:\n",
    "    print(f\"{player.username} ({player.platform.name})\")   "
   ]
  },
  {
   "cell_type": "code",
   "execution_count": 10,
   "id": "c1b1d469",
   "metadata": {},
   "outputs": [
    {
     "name": "stdout",
     "output_type": "stream",
     "text": [
      "nicoyzovitch (PlayStation)\n",
      "nicoyzovitch#7591470 (Activision)\n"
     ]
    }
   ],
   "source": [
    "# A friend of mine uses a PlayStation\n",
    "results = await client.SearchPlayers(Platform.PlayStation, \"Nicoyzovitch\")\n",
    "for player in results:\n",
    "    print(f\"{player.username} ({player.platform.name})\")\n",
    "\n",
    "# Can also retrieve his name via Activision (nicoyzovitch#7591470) has he never changed his name.\n",
    "results = await client.SearchPlayers(Platform.Activision, \"Nicoyzovitch\")\n",
    "for player in results:\n",
    "    print(f\"{player.username} ({player.platform.name})\")"
   ]
  },
  {
   "cell_type": "code",
   "execution_count": 11,
   "id": "21781e8f",
   "metadata": {
    "tags": []
   },
   "outputs": [
    {
     "name": "stdout",
     "output_type": "stream",
     "text": [
      "Huskerrs (Activision)\n",
      "HusKerrs#1009786 (Activision)\n",
      "HusKerrs#1088477 (Activision)\n",
      "HusKerrs#3209982 (Activision)\n",
      "HusKerrs#4249229 (Activision)\n",
      "HusKerrs#4780912 (Activision)\n",
      "HusKerrs#5139476 (Activision)\n",
      "HusKerrs#7232956 (Activision)\n",
      "HusKerrs#7631054 (Activision)\n",
      "HusKerrs#8490490 (Activision)\n",
      "HusKerrs#8638305 (Activision)\n",
      "HusKerrs#8653257 (Activision)\n",
      "HusKerrs#9624907 (Activision)\n",
      "HusKerrs#9783265 (Activision)\n",
      "Huskerrs#2032932 (Activision)\n",
      "Huskerrs#2058640 (Activision)\n",
      "Huskerrs#3542853 (Activision)\n",
      "Huskerrs#7010480 (Activision)\n",
      "Huskerrs#8797872 (Activision)\n",
      "Huskerrs#9357694 (Activision)\n",
      "huskerrs#6821860 (Activision)\n",
      "HusKerrs#1216 (BattleNet)\n",
      "HusKerrs#1343 (BattleNet)\n",
      "HusKerrs#1601 (BattleNet)\n",
      "HusKerrs#1604 (BattleNet)\n"
     ]
    }
   ],
   "source": [
    "# Striking example with 'Huskerrs' (a popular pro player) wannabes . \n",
    "# Good thing Activision has an authenticity stamp you can retrieve with player name and phrase (cf. .authenticityStamp in the client)\n",
    "res = []\n",
    "for platform in [Platform.Activision, Platform.BattleNet]:\n",
    "    res.extend(await client.SearchPlayers(platform, \"HusKerrs\"))\n",
    "\n",
    "for player in res[:25]:\n",
    "    print(f\"{player.username} ({player.platform.name})\")"
   ]
  },
  {
   "cell_type": "markdown",
   "id": "f6260209",
   "metadata": {
    "tags": []
   },
   "source": [
    "## Player profile"
   ]
  },
  {
   "cell_type": "markdown",
   "id": "02da7604-f29c-4fdf-ac2f-7a019ffe049f",
   "metadata": {},
   "source": [
    "### Profile  / client methods"
   ]
  },
  {
   "cell_type": "markdown",
   "id": "22c86254",
   "metadata": {},
   "source": [
    "Two ways to retrieve player's profile in the client (same endpoint) : client.GetPlayerProfile or player.profile <br>"
   ]
  },
  {
   "cell_type": "markdown",
   "id": "8df24e24",
   "metadata": {
    "tags": []
   },
   "source": [
    "##### Profile using client.GetPlayerProfile"
   ]
  },
  {
   "cell_type": "markdown",
   "id": "fc131ff9-84da-472c-be40-7fee56a9a8ae",
   "metadata": {},
   "source": [
    "method | parameters | endpoint\n",
    ":------|:-----------|---------------------------------------------------\n",
    "client.GetPlayerProfile|platform, username, title, mode|stats/cod/v1/title/title/platform/platform/gamer/username/profile/type/mode"
   ]
  },
  {
   "cell_type": "code",
   "execution_count": 12,
   "id": "0b6854a4",
   "metadata": {},
   "outputs": [
    {
     "name": "stdout",
     "output_type": "stream",
     "text": [
      "{'engagement': None,\n",
      " 'level': 14.0,\n",
      " 'levelXpGained': 39309.0,\n",
      " 'levelXpRemainder': 3591.0,\n",
      " 'lifetime': {'accoladeData': {...},\n",
      "              'all': {...},\n",
      "              'itemData': {...},\n",
      "              'map': {},\n",
      "              'mode': {...},\n",
      "              'scorestreakData': {...}},\n",
      " 'maxLevel': 1.0,\n",
      " 'maxPrestige': 0.0,\n",
      " 'p': 0.0,\n",
      " 'paragonId': 0.0,\n",
      " 'paragonRank': 0.0,\n",
      " 'platform': 'battle',\n",
      " 'prestige': 23.0,\n",
      " 'prestigeId': 0.0,\n",
      " 's': 0.0,\n",
      " 'title': 'mw',\n",
      " 'totalXp': 1325315.0,\n",
      " 'type': 'wz',\n",
      " 'username': 'AMADEVS#1689',\n",
      " 'weekly': {'all': {...}, 'map': {}, 'mode': {...}}}\n"
     ]
    }
   ],
   "source": [
    "profile_using_client = await client.GetPlayerProfile(Platform.BattleNet, \"AMADEVS#1689\", Title.ModernWarfare, Mode.Warzone)\n",
    "pprint(profile_using_client, depth=2)"
   ]
  },
  {
   "cell_type": "markdown",
   "id": "1278fef6",
   "metadata": {},
   "source": [
    "##### Profile using player.profile"
   ]
  },
  {
   "cell_type": "markdown",
   "id": "2a551e9d-6942-4af6-89a9-e2611e26eba0",
   "metadata": {},
   "source": [
    "method | parameters | endpoint\n",
    ":------|:-----------|---------------------------------------------------\n",
    "client.GetPlayer|platform, username| returns Player Object -->\n",
    "Player.profile|title, mode|-->\n",
    "client.GetPlayerProfile|platform, username, title, mode|stats/cod/v1/title/title/platform/platform/gamer/username/profile/type/mode"
   ]
  },
  {
   "cell_type": "code",
   "execution_count": 13,
   "id": "a9132933",
   "metadata": {},
   "outputs": [
    {
     "name": "stdout",
     "output_type": "stream",
     "text": [
      "AMADEVS#1689 (BattleNet)\n",
      "{'engagement': None,\n",
      " 'level': 14.0,\n",
      " 'levelXpGained': 39309.0,\n",
      " 'levelXpRemainder': 3591.0,\n",
      " 'lifetime': {'accoladeData': {...},\n",
      "              'all': {...},\n",
      "              'itemData': {...},\n",
      "              'map': {},\n",
      "              'mode': {...},\n",
      "              'scorestreakData': {...}},\n",
      " 'maxLevel': 1.0,\n",
      " 'maxPrestige': 0.0,\n",
      " 'p': 0.0,\n",
      " 'paragonId': 0.0,\n",
      " 'paragonRank': 0.0,\n",
      " 'platform': 'battle',\n",
      " 'prestige': 23.0,\n",
      " 'prestigeId': 0.0,\n",
      " 's': 0.0,\n",
      " 'title': 'mw',\n",
      " 'totalXp': 1325315.0,\n",
      " 'type': 'wz',\n",
      " 'username': 'AMADEVS#1689',\n",
      " 'weekly': {'all': {...}, 'map': {}, 'mode': {...}}}\n"
     ]
    }
   ],
   "source": [
    "# Getting player object first, as defined in player.py\n",
    "player = await client.GetPlayer(Platform.BattleNet, \"AMADEVS#1689\")\n",
    "print(f\"{player.username} ({player.platform.name})\")\n",
    "\n",
    "# then, calling the .profile method\n",
    "profile_using_player = await player.profile(Title.ModernWarfare, Mode.Warzone)\n",
    "pprint(profile_using_player, depth=2)"
   ]
  },
  {
   "cell_type": "markdown",
   "id": "3b4999e8-c8b7-4d1e-a7db-b2cdeb255a3f",
   "metadata": {},
   "source": [
    "### Profile / output from COD API (Warzone oriented)"
   ]
  },
  {
   "cell_type": "markdown",
   "id": "48984930-51e2-4a0d-934f-f56d60a3f234",
   "metadata": {},
   "source": [
    "If mode was set to Multiplayer, data would be globally similar but stats related to Modern Warfare game / multiplayers modes & maps instead of Warzone.<br>\n",
    "Some stats may still be shared whether or not you are using mode multiplayer instead of Warzone (e.g. XpGained, and probably a lot more ?).<br>\n",
    "Also, even if selected mode is Warzone, the API still appears to send Modern Warfare Multiplayers modes stats, as seen in result.lifetime.mode. <br>\n",
    "Took me too much time already to figure out what does what exactly, and still not sure about a lot of things. The following tables will helps, hopefully."
   ]
  },
  {
   "cell_type": "markdown",
   "id": "628bb89e-6971-4fbc-a9d9-3393a2f03ec5",
   "metadata": {
    "tags": []
   },
   "source": [
    "#### Overview : lifetime vs. weekly"
   ]
  },
  {
   "cell_type": "markdown",
   "id": "c521010c-7a1b-4245-89e2-01f891d37949",
   "metadata": {},
   "source": [
    "The client returns a nested dict : the key \"data\" from json sent by COD API. No means to change timespan Lifetime or Weekly when calling.<br>\n",
    "`result['lifetime']` and `result['weekly']` can be further explored. They have similar keys (**all**, **mode**, **map**), except Lifetime having 3 more (**itemData**, **scorestreakData**, **accoladeData**). <br>"
   ]
  },
  {
   "cell_type": "markdown",
   "id": "6b3960cd-44e4-4b6d-88cf-5797cbfab35e",
   "metadata": {},
   "source": [
    "result [ key ]|key [ subkey ]| what ?\n",
    ":-------------|:--------------|:------------------\n",
    "--result . username||\n",
    "--result . level||\n",
    "--result . *a few others*...||\n",
    "--result . **lifetime**||\n",
    "|. all|*lifetime stats, no matter the map/mode you're playing (sum of all modes)*\n",
    "|. mode|*lifestime stats, given a specified mode (br, br_dmz, br_all, arena, koth..).*\n",
    "|. map|*empty for me, not sure exactly why, tested multiple players with different COD usages*\n",
    "|. itemData|*additional key for 'lifetime' level --aka not available for weekly. Lifetime stats related to weapon & equipment*\n",
    "|. scorestreakData|*additional key for 'lifetime' level. Lifetime stats re. 'special' equipment : uav, airstrikes etc*\n",
    "|. accoladeData|*additional key for 'lifetime' level. Even more diverse and surprising lifetime stats*\n",
    "---result . **weekly** |<br>\n",
    "|. all|*weekly stats, no matter the map/mode you're playing (sum of all modes)*\n",
    "|. mode|*weekly stats, given a specified mode (br, br_dmz, br_all, arena, koth..).*\n",
    "|. map|*empty*\n",
    "--result . *a few others*...<br>"
   ]
  },
  {
   "cell_type": "markdown",
   "id": "186f8636-a1fa-40dd-b3cc-2a3706903389",
   "metadata": {},
   "source": [
    "#### A note about other keys"
   ]
  },
  {
   "cell_type": "markdown",
   "id": "35d66039-cbf0-45a7-9b8f-4da556bc2664",
   "metadata": {},
   "source": [
    "|--result. (...)  <br>\n",
    "|--result . username <br>\n",
    "|--result . level <br>\n",
    "|--result . prestige <br>\n",
    "|--result . levelXpGained...<br>\n",
    "|--result . platform...<br>\n",
    "|--result . *insert any here : engagement, prestige, maxLevel, totalXp, type...*"
   ]
  },
  {
   "cell_type": "markdown",
   "id": "bba7fbf0-873a-4478-be65-c3f10100982f",
   "metadata": {},
   "source": [
    "`result['username']`, `result['platform']`, `result['level']`) : given username & associated platform (you're searching a given username on the corresponding platform), level of the Player (1 to 1000) <br>\n",
    "`result['level'])` & `result['levelXpGained']` : are shared between Modern Warfare multiplayer modes & Warzone. Can't remember if `['prestige']` depends on Level or challenges that has to be done in game.<br>"
   ]
  },
  {
   "cell_type": "markdown",
   "id": "2dd82e50-4c7b-471f-af08-1ac028b10482",
   "metadata": {},
   "source": [
    "#### Focus on lifetime stats"
   ]
  },
  {
   "cell_type": "markdown",
   "id": "f1571670-a39e-4adc-ae2a-0abb1e63c821",
   "metadata": {},
   "source": [
    "result . lifetime | result . lifetime . x| result . lifetime . x . y . z|what ?\n",
    ":-------------|:--------------|-------------|:-------\n",
    "--result . *a few others*...|||\n",
    "--result . **lifetime** ||||\n",
    "|. all||*unique key is 'properties' with several lifetime stats attached, lifetime & all modes alltogether*\n",
    "||. properties . accuracy|*lifetime shots accuracy (head or all ?)*\n",
    "||. properties . wins|*lifetime number of wins, all modes (or br + resurgence ? not sure)*\n",
    "||. properties . gamesPlayed|*lifetime n of games played, all modes*\n",
    "||. properties . kdRatio|*lifetime kills/deaths ratio*\n",
    "||. properties . *a lot of others :* | *bestKillStreak, headshots, bestKD, scorePerGame..., way more details than in per-mode-stats*\n",
    "|. mode -||*lifestime stats, per mode (warzone : br, br_dmz, br_all. multiplayer : arena, koth..)* \n",
    "|||*mw mp modes returned even if mode set to wz*\n",
    "||. **br** . properties . deaths|total n of deaths for **battle royale** mode only (solos + duos + trios + quads).*\n",
    "||. br . properties . kills|*total n of kills ...*\n",
    "||. br . properties . wins|*total n of wins ...*\n",
    "||. br . properties . *others :* |*exhaustive list : cash, contracts, downs, gamesPlayed, kdRatio, objTime,* \n",
    "|||*revives, score, scorePerMinute, timePlayed, topTen, topFive, topTwentyFive*\n",
    "||. **br_all** . properties . deaths|*total n of deaths for **battle royale + plunder + rebirth** ...*.\n",
    "||. **br_dmz** . properties . deaths|*total n of deaths for **plunder**. Not sure if Rebirth included. I think not.*\n",
    "||. *br_dmz . properties . *others*| *see exhaustive items listed above*\n",
    "|. map\n",
    "|. itemData\n",
    "|. scorestreakData\n",
    "|. accoladeData\n",
    "--result . weekly |||\n",
    "--result . *a few others*...|||"
   ]
  },
  {
   "cell_type": "markdown",
   "id": "c73395de-094d-4f0d-8641-609ddbd58c20",
   "metadata": {},
   "source": [
    "Among others, `result['lifetime']['scorestreakData']`, related to how many uav, airstrike, sentry guns... were used, might return the corresponding n of kills for each, but not sure. <br>\n",
    "In `result['lifetime']['accoladeData']` , lifestats such as timeWatchingKillcams, timeWatchingKillcams, comebackKills... though not sure whether they are fully accurate or updated. E.g deathsFromBehind is 5 for me whereas I'm sure died a lot more that way :D"
   ]
  },
  {
   "cell_type": "markdown",
   "id": "7fe234ce-0a8d-44a4-8aa0-b28c58c453f3",
   "metadata": {},
   "source": [
    "<a id='go_profile_weekly'></a>"
   ]
  },
  {
   "cell_type": "markdown",
   "id": "5d04d92d-2c93-4471-a47c-3203ccfd9b4f",
   "metadata": {
    "tags": []
   },
   "source": [
    "#### Focus on weekly stats"
   ]
  },
  {
   "cell_type": "markdown",
   "id": "7d85aabb-0f8c-4c6f-b0a1-846985e3e3da",
   "metadata": {},
   "source": [
    "`result['weekly']` does not have some keys yet available in `result['lifetime']` (itemData**, scorestreakData, accoladeData) ; meaning that you won't have weekly stats about weapons used, 'kill streaks' or other listed above.<br>\n",
    "`result['weekly']['mode']` granularity (br_all, br_brduos, br_trios, br_brquads, br_dmz_plndtrios...) is different -- as more precise, from `result['lifetime']['mode']` (br, br_all, br_dmz)<br>\n",
    "`result['weekly']['mode']` has also more detailed stats (items), for 'all' and each mode (e.g objectiveBrDownEnemyCircle1, objectiveBrDownEnemyCircle2, wallBangs...) than in `result['lifetime']"
   ]
  },
  {
   "cell_type": "markdown",
   "id": "b819c98d-b11d-4b99-b515-15a0e92fc703",
   "metadata": {},
   "source": [
    "result . weekly | result . weekly . x| result . weekly . x . y . z|what ?\n",
    ":-------------|:--------------|-------------|:-------\n",
    "--result . *a few others*...|||\n",
    "--result . lifetime ||||\n",
    "--result . **weekly** ||||\n",
    "|all||*unique key is 'properties' with several weekly stats attached. Data is **all modes** put together (br duos + plunder + rebirth...)* <br>\n",
    "|| . properties . assists|*weekly n of kill assists*\n",
    "|| . properties . deaths|*weekly n of deaths, all modes (or br + resurgence ? not sure)*\n",
    "|| . properties . matchesPlayed|*weekly n of games played*\n",
    "|| . properties . kdRatio|*weekly kills/deaths ratio*\n",
    "|| . properties . *a lot of others : executions, objectiveBrDownEnnemyCircle1, timePlayed...*\n",
    "|mode||*weekly stats, **per mode** (br, plunder, rebirth...)*<br>\n",
    "|| . **br_all** . properties . assists|*weekly n of assists for **all modes** (solos + duos + trios + quads). Thus, **same items as weekly.all***<br>\n",
    "|| . **br_solos** or **br_brduos** or **br_trios** or **br_quads** . properties . assists|*weekly n of assists for selected br mode.*\n",
    "|| . **br_dmz_plndtrios** or **br_rebirth_rebirth_rex** or (...) . properties . assists|*weekly n of assists for selected Warzone multiplayer mode.*\n",
    "|| . insert_mode_here . properties . *a lot of others : executions, objectiveBrDownEnnemyCircle1, timePlayed...*\n",
    "|map\n",
    "--result . *a few others*...|||"
   ]
  },
  {
   "cell_type": "markdown",
   "id": "0afd10e5",
   "metadata": {
    "tags": []
   },
   "source": [
    "## Matches"
   ]
  },
  {
   "cell_type": "markdown",
   "id": "f3bb3a79",
   "metadata": {},
   "source": [
    "Retrieve Player's last Matchs IDs.<br>\n",
    "If you remember well, you can then explore them with [Match Details](#go_match)"
   ]
  },
  {
   "cell_type": "markdown",
   "id": "ea030d58",
   "metadata": {},
   "source": [
    "##### Matches using client.GetPlayerMatches"
   ]
  },
  {
   "cell_type": "markdown",
   "id": "06b47046-d44b-4f95-9268-223d342ea8e8",
   "metadata": {},
   "source": [
    "method | parameters | endpoint\n",
    ":------|:-----------|---------------------------------------------------\n",
    "client.GetPlayerMatches|platform, title, mode, --default: startTimestamp, endTimestamp, limit|crm/cod/v2/title/title/platform/platform/gamer/username/matches/mode/startTime/start/end/endTime?limit=limit"
   ]
  },
  {
   "cell_type": "markdown",
   "id": "16da7848-3bff-4adb-b3ea-a21a4ed4a4d5",
   "metadata": {},
   "source": [
    "notes :||<br>\n",
    ":------|:-----------|---------------------------------------------------\n",
    "startTimestamp : *useless, default is 0* | endTimestamp : *UTC timestamp in milliseconds* |limit : *client default set to 10, API returns max 20*"
   ]
  },
  {
   "cell_type": "code",
   "execution_count": 14,
   "id": "71eeee9a-a748-4417-a0ea-c72787e37bfe",
   "metadata": {},
   "outputs": [
    {
     "name": "stdout",
     "output_type": "stream",
     "text": [
      "{'_client': <callofduty.client.Client object at 0x7f9c8c725af0>,\n",
      " 'id': 11036841995021514111,\n",
      " 'platform': <Platform.Activision: 'uno'>,\n",
      " 'title': <Title.ModernWarfare: 'mw'>}\n",
      "{'_client': <callofduty.client.Client object at 0x7f9c8c725af0>,\n",
      " 'id': 15160474422724347965,\n",
      " 'platform': <Platform.Activision: 'uno'>,\n",
      " 'title': <Title.ModernWarfare: 'mw'>}\n"
     ]
    }
   ],
   "source": [
    "# Endpoint if platform == Activision : crm/cod/v2/title/title/platform/platform/gamer/username/matches/mode/start/startTimestamp/end/endTimestamp/details?limit=limit through method http.GetPlayerMatchesDetailed\n",
    "matches_using_client = await client.GetPlayerMatches(Platform.Activision, \"gentil_renard#3391079\", Title.ModernWarfare, Mode.Warzone, endTimestamp=1614207600000, limit=2)\n",
    "for match in matches_using_client:\n",
    "    pprint(match.__dict__)"
   ]
  },
  {
   "cell_type": "markdown",
   "id": "0db08a96",
   "metadata": {
    "tags": []
   },
   "source": [
    "##### Matches using player.matches"
   ]
  },
  {
   "cell_type": "markdown",
   "id": "0dbc3390-7aae-4913-b68c-13315318ca4a",
   "metadata": {},
   "source": [
    "method | parameters | endpoint\n",
    ":------|:-----------|---------------------------------------------------\n",
    "client.GetPlayer|platform, username| returns Player Object -->\n",
    "Player.matches|title, mode|-->\n",
    "client.GetPlayerMatches|platform, title, mode, --default: startTimestamp, endTimestamp, limit|crm/cod/v2/title/title/platform/platform/gamer/username/matches/mode/startTimestamp/start/end/endTimestamp?limit=limit"
   ]
  },
  {
   "cell_type": "code",
   "execution_count": 15,
   "id": "9b9333fe",
   "metadata": {},
   "outputs": [
    {
     "name": "stdout",
     "output_type": "stream",
     "text": [
      "AMADEVS#1689 (BattleNet)\n",
      "{'_client': <callofduty.client.Client object at 0x7f9c8c725af0>,\n",
      " 'id': 655340174593516288,\n",
      " 'platform': <Platform.BattleNet: 'battle'>,\n",
      " 'title': <Title.ModernWarfare: 'mw'>}\n",
      "{'_client': <callofduty.client.Client object at 0x7f9c8c725af0>,\n",
      " 'id': 3288905818470012806,\n",
      " 'platform': <Platform.BattleNet: 'battle'>,\n",
      " 'title': <Title.ModernWarfare: 'mw'>}\n"
     ]
    }
   ],
   "source": [
    "# Getting player object first, as defined in player.py\n",
    "player = await client.GetPlayer(Platform.BattleNet, \"AMADEVS#1689\")\n",
    "print(f\"{player.username} ({player.platform.name})\")\n",
    "\n",
    "# then, calling the .matches method\n",
    "# Endpoint if platform = Activision              : crm/cod/v2/title/title/platform/platform/gamer/username/matches/mode/start/startTime/end/endTime/details?limit=limit through method http.GetPlayerMatchesDetailed\n",
    "# Returns a [n match objects]\n",
    "matches_using_player = await player.matches(Title.ModernWarfare, Mode.Warzone, limit =2)\n",
    "for match in matches_using_player:\n",
    "    pprint(match.__dict__)"
   ]
  },
  {
   "cell_type": "markdown",
   "id": "ce3fd247",
   "metadata": {
    "tags": []
   },
   "source": [
    "## Matches Summary"
   ]
  },
  {
   "cell_type": "markdown",
   "id": "2ba2dba5-ff36-4511-86cf-a6fe8ed2e80b",
   "metadata": {
    "tags": []
   },
   "source": [
    "### Matches Summary / methods"
   ]
  },
  {
   "cell_type": "markdown",
   "id": "53946a36",
   "metadata": {},
   "source": [
    "##### Summary using client.GetPlayesMatchesSummary"
   ]
  },
  {
   "cell_type": "markdown",
   "id": "75133c19-bd18-4346-97c1-ba2096036278",
   "metadata": {},
   "source": [
    "method | parameters | endpoint\n",
    ":------|:-----------|---------------------------------------------------\n",
    "client.GetPlayerMatchesSummary|platform, title, mode, --default: startTimestamp, endTimestamp, limit|crm/cod/v2/title/title/platform/platform/gamer/username/matches/mode/start/startTimestamp/end/endTimestamp/details?limit=limit"
   ]
  },
  {
   "cell_type": "markdown",
   "id": "f6f6f5e2-7785-4957-9b5d-cf58d67c371a",
   "metadata": {},
   "source": [
    "notes :||<br>\n",
    ":------|:-----------|---------------------------------------------------\n",
    "startTimestamp : *useless param, default is always 0* | endTimestamp : *UTC timestamp in milliseconds* |limit : *client default set to 10, API returns max 20*"
   ]
  },
  {
   "cell_type": "code",
   "execution_count": 16,
   "id": "5b05bc85-42f9-482e-afe5-4a76b266a864",
   "metadata": {},
   "outputs": [
    {
     "name": "stdout",
     "output_type": "stream",
     "text": [
      "{'all': {'assists': 17.0,\n",
      "         'avgLifeTime': 239.06666666666666,\n",
      "         'damageDone': 31765.0,\n",
      "         'damageTaken': 15079.0,\n",
      "         'deaths': 120.0,\n",
      "         'distanceTraveled': 5470203.6099999985,\n",
      "         'executions': 3.0,\n",
      "         'gulagDeaths': 7.0,\n",
      "         'gulagKills': 1.0,\n",
      "         'headshotPercentage': 0.2647058823529412,\n",
      "         'headshots': 27.0,\n",
      "         'kdRatio': 0.85,\n",
      "         'kills': 102.0,\n",
      "         'killsPerGame': 6.8,\n",
      "         'matchesPlayed': 15.0,\n",
      "         'nearmisses': 0.0,\n",
      "         'objectiveBrCacheOpen': 30.0,\n",
      "         'objectiveBrDownEnemyCircle1': 10.0,\n",
      "         'objectiveBrDownEnemyCircle2': 1.0,\n",
      "         'objectiveBrDownEnemyCircle4': 2.0,\n",
      "         'objectiveBrDownEnemyCircle5': 1.0,\n",
      "         'objectiveBrKioskBuy': 6.0,\n",
      "         'objectiveBrMissionPickupTablet': 4.0,\n",
      "         'objectiveDestroyedEquipment': 3.0,\n",
      "         'objectiveLastStandKill': 42.0,\n",
      "         'objectiveReviver': 3.0,\n",
      "         'objectiveTeamWiped': 50.0,\n",
      "         'objectiveTrophyDefense': 1.0,\n",
      "         'score': 49150.0,\n",
      "         'scorePerMinute': 91.37386131251162,\n",
      "         'timePlayed': 32274.0,\n",
      "         'wallBangs': 0.0},\n",
      " 'br_brtrios': {'assists': 2.0,\n",
      "                'avgLifeTime': 764.4444444444445,\n",
      "                'damageDone': 5254.0,\n",
      "                'damageTaken': 2869.0,\n",
      "                'deaths': 13.0,\n",
      "                'distanceTraveled': 1518368.46,\n",
      "                'executions': 0.0,\n",
      "                'gulagDeaths': 7.0,\n",
      "                'gulagKills': 1.0,\n",
      "                'headshotPercentage': 0.08333333333333333,\n",
      "                'headshots': 1.0,\n",
      "                'kdRatio': 0.9230769230769231,\n",
      "                'kills': 12.0,\n",
      "                'killsPerGame': 2.4,\n",
      "                'matchesPlayed': 5.0,\n",
      "                'nearmisses': 0.0,\n",
      "                'objectiveBrCacheOpen': 14.0,\n",
      "                'objectiveBrDownEnemyCircle1': 10.0,\n",
      "                'objectiveBrDownEnemyCircle2': 1.0,\n",
      "                'objectiveBrDownEnemyCircle4': 2.0,\n",
      "                'objectiveBrDownEnemyCircle5': 1.0,\n",
      "                'objectiveBrKioskBuy': 6.0,\n",
      "                'objectiveBrMissionPickupTablet': 4.0,\n",
      "                'objectiveDestroyedEquipment': 1.0,\n",
      "                'objectiveLastStandKill': 6.0,\n",
      "                'objectiveReviver': 3.0,\n",
      "                'objectiveTeamWiped': 2.0,\n",
      "                'objectiveTrophyDefense': 1.0,\n",
      "                'score': 14175.0,\n",
      "                'scorePerGame': 2835.0,\n",
      "                'scorePerMinute': 61.809593023255815,\n",
      "                'timePlayed': 13760.0,\n",
      "                'wallBangs': 0.0},\n",
      " 'br_dmz_plunquad': {'assists': 15.0,\n",
      "                     'avgLifeTime': 158.23931623931625,\n",
      "                     'damageDone': 26511.0,\n",
      "                     'damageTaken': 12210.0,\n",
      "                     'deaths': 107.0,\n",
      "                     'distanceTraveled': 3951835.1500000004,\n",
      "                     'executions': 3.0,\n",
      "                     'headshotPercentage': 0.28888888888888886,\n",
      "                     'headshots': 26.0,\n",
      "                     'kdRatio': 0.8411214953271028,\n",
      "                     'kills': 90.0,\n",
      "                     'killsPerGame': 9.0,\n",
      "                     'matchesPlayed': 10.0,\n",
      "                     'nearmisses': 0.0,\n",
      "                     'objectiveBrCacheOpen': 16.0,\n",
      "                     'objectiveDestroyedEquipment': 2.0,\n",
      "                     'objectiveLastStandKill': 36.0,\n",
      "                     'objectiveTeamWiped': 48.0,\n",
      "                     'score': 34975.0,\n",
      "                     'scorePerGame': 3497.5,\n",
      "                     'scorePerMinute': 113.34665658420656,\n",
      "                     'timePlayed': 18514.0,\n",
      "                     'wallBangs': 0.0}}\n"
     ]
    }
   ],
   "source": [
    "# Returns consolidated stats for n last matches, all + per type  br, plunder ...\n",
    "summary = await client.GetPlayerMatchesSummary(Platform.BattleNet, \"AMADEVS#1689\", Title.ModernWarfare, Mode.Warzone, limit=15)\n",
    "pprint(summary)"
   ]
  },
  {
   "cell_type": "markdown",
   "id": "6b80d20b",
   "metadata": {},
   "source": [
    "##### Summary using player.matchesSummary"
   ]
  },
  {
   "cell_type": "markdown",
   "id": "5a90676d-916d-4bf6-bf93-e3bf5d13082b",
   "metadata": {},
   "source": [
    "method | parameters | endpoint\n",
    ":------|:-----------|---------------------------------------------------\n",
    "client.GetPlayer|platform, username| returns Player Object -->\n",
    "Player.matchesSummary|title, mode|-->\n",
    "client.GetPlayerMatchesSummary|platform, title, mode, --default: startTimestamp, endTimestamp, limit|crm/cod/v2/title/title/platform/platform/gamer/username/matches/mode/start/startTimestamp/end/endTimestamp/details?limit=limit"
   ]
  },
  {
   "cell_type": "code",
   "execution_count": 17,
   "id": "80ee7bb7",
   "metadata": {},
   "outputs": [
    {
     "name": "stdout",
     "output_type": "stream",
     "text": [
      "AMADEVS#1689 (BattleNet)\n",
      "{'all': {...}, 'br_brtrios': {...}, 'br_dmz_plunquad': {...}}\n"
     ]
    }
   ],
   "source": [
    "# Getting player object first, as defined in player.py\n",
    "player = await client.GetPlayer(Platform.BattleNet, \"AMADEVS#1689\")\n",
    "print(f\"{player.username} ({player.platform.name})\")\n",
    "\n",
    "# then, calling the .matchesSummary method\n",
    "# Returns stats for n last matches, all + per type  br, plunder ...\n",
    "summary = await player.matchesSummary(Title.ModernWarfare, Mode.Warzone, limit=15) # does not work if I use player = await client.GetPlayer(Platform.Activision, \"gentil_renard\") cf. Postman Warzone by Uno ID ?\n",
    "pprint(summary, depth=1)"
   ]
  },
  {
   "cell_type": "markdown",
   "id": "6a06b3ae-fa61-4419-8eda-d87f14da0898",
   "metadata": {},
   "source": [
    "### Matches Summary / output from COD API (Warzone oriented)"
   ]
  },
  {
   "cell_type": "markdown",
   "id": "5aabe41a-e24d-4069-8113-6e4f256b7762",
   "metadata": {},
   "source": [
    "The returned data share almost the same hierarchy and same stats as what's returned for [Player Profile, Weekly entry.](#go_profile_weekly)"
   ]
  },
  {
   "cell_type": "markdown",
   "id": "43948217",
   "metadata": {},
   "source": [
    "# Client \"enhancements\""
   ]
  },
  {
   "cell_type": "markdown",
   "id": "0b63bf78-a454-471e-b936-9a45c4392694",
   "metadata": {},
   "source": [
    "### Handle a \"new\" API endpoint"
   ]
  },
  {
   "cell_type": "markdown",
   "id": "1fe88545",
   "metadata": {},
   "source": [
    "As listed on Postman, COD API has an another endpoint (see code below) currently not used by the client. I was curious whether or not it would give us anything different. <br>\n",
    "Turned out the additional method return n matches stats (summary + details per match), similar to what you would get with client.GetPlayersMatchesDetailed().<br>\n",
    "The only difference is that it takes UnoID as a parameter e.g. 12309926, different from Activision User ID e.g 'gentil_renard#3391079'. Additionally something you cannot do with other routes.<br>\n",
    "You can retrieve this UnoID, for every player, when you call for the GetFullMatch method for instance. <br>\n",
    "I learned only afterwards, that before January 2021 Activision would allow to use this endpoint/**UnoID** to get stats. it **does not work** anymore, **except for your own account** / your friends."
   ]
  },
  {
   "cell_type": "markdown",
   "id": "72094e9a-cc22-4aa3-b378-c379635f34d9",
   "metadata": {
    "tags": []
   },
   "source": [
    "#### Add additional methods at runtime --aka w/o modifying the package"
   ]
  },
  {
   "cell_type": "code",
   "execution_count": 18,
   "id": "89b0576b",
   "metadata": {},
   "outputs": [],
   "source": [
    "# we're adding additional methods in the Call of Duty .py client, without modifying the package.\n",
    "# Import the Class we want to modify, without touching the client's package\n",
    "\n",
    "from callofduty.client import Client\n",
    "from callofduty.http import HTTP\n",
    "from callofduty.http import Request\n",
    "import urllib.parse\n",
    "\n",
    "# define additonal method in callofduty.http HTTP Class\n",
    "# Endpoint extracted from Postman, currently not supported by the client (but turned out not to be mandatory tbh <3)\n",
    "\n",
    "async def GetWithUnoID(self, platform, username, title, mode, limit, startTimestamp, endTimeStamp):\n",
    "    return await self.Send(\n",
    "        Request(\n",
    "            \"GET\",\n",
    "            f\"api/papi-client/crm/cod/v2/title/{title}/platform/{platform}/uno/{urllib.parse.quote(username)}/matches/{mode}/start/{startTimestamp}/end/{endTimeStamp}/details?limit={limit}\",\n",
    "        )\n",
    "    )\n",
    "# define additional method in callofduty.client Client Class\n",
    "# We chose not to differentiate between 'summary'and 'matches\" entries when returning the results --as done in the the client (aka we return them both).\n",
    "\n",
    "async def GetMatchesWithUnoID(self, platform: Platform, username, title: Title, mode: Mode, **kwargs):\n",
    "    limit = kwargs.get(\"limit\", 10)\n",
    "    startTimestamp = kwargs.get(\"startTimestamp\", 0)\n",
    "    endTimestamp = kwargs.get(\"endTimestamp\", 0)\n",
    "\n",
    "    data = (\n",
    "        await self.http.GetWithUnoID(\n",
    "            platform.value,\n",
    "            username,\n",
    "            title.value,\n",
    "            mode.value,\n",
    "            limit,\n",
    "            startTimestamp,\n",
    "            endTimestamp\n",
    "        )\n",
    "    )[\"data\"]\n",
    "\n",
    "    return data\n",
    "\n",
    "# let's add our additional methods into respective Classes, at runtime\n",
    "\n",
    "Client.GetMatchesWithUnoID = GetMatchesWithUnoID\n",
    "HTTP.GetWithUnoID = GetWithUnoID"
   ]
  },
  {
   "cell_type": "markdown",
   "id": "0aa562f1-a4f1-4aaa-ae7c-882a8189c6ea",
   "metadata": {},
   "source": [
    "#### New endpoint : results"
   ]
  },
  {
   "cell_type": "code",
   "execution_count": 19,
   "id": "ab24e774",
   "metadata": {},
   "outputs": [
    {
     "name": "stdout",
     "output_type": "stream",
     "text": [
      "{'matches': [{'draw': False,\n",
      "              'duration': 1078000,\n",
      "              'gameType': 'wz',\n",
      "              'map': 'mp_don4',\n",
      "              'matchID': '655340174593516288',\n",
      "              'mode': 'br_dmz_plunquad',\n",
      "              'player': {...},\n",
      "              'playerCount': 100,\n",
      "              'playerStats': {...},\n",
      "              'playlistName': None,\n",
      "              'privateMatch': False,\n",
      "              'rankedTeams': None,\n",
      "              'teamCount': 46,\n",
      "              'utcEndSeconds': 1633883514,\n",
      "              'utcStartSeconds': 1633882436,\n",
      "              'version': 1},\n",
      "             {'draw': False,\n",
      "              'duration': 872000,\n",
      "              'gameType': 'wz',\n",
      "              'map': 'mp_don4',\n",
      "              'matchID': '3288905818470012806',\n",
      "              'mode': 'br_dmz_plunquad',\n",
      "              'player': {...},\n",
      "              'playerCount': 101,\n",
      "              'playerStats': {...},\n",
      "              'playlistName': None,\n",
      "              'privateMatch': False,\n",
      "              'rankedTeams': None,\n",
      "              'teamCount': 49,\n",
      "              'utcEndSeconds': 1633882202,\n",
      "              'utcStartSeconds': 1633881330,\n",
      "              'version': 1}],\n",
      " 'summary': {'all': {'assists': 7.0,\n",
      "                     'avgLifeTime': 116.8,\n",
      "                     'damageDone': 8020.0,\n",
      "                     'damageTaken': 3706.0,\n",
      "                     'deaths': 33.0,\n",
      "                     'distanceTraveled': 895169.19,\n",
      "                     'executions': 0.0,\n",
      "                     'headshotPercentage': 0.28,\n",
      "                     'headshots': 7.0,\n",
      "                     'kdRatio': 0.7575757575757576,\n",
      "                     'kills': 25.0,\n",
      "                     'killsPerGame': 12.5,\n",
      "                     'matchesPlayed': 2.0,\n",
      "                     'nearmisses': 0.0,\n",
      "                     'objectiveBrCacheOpen': 2.0,\n",
      "                     'objectiveDestroyedEquipment': 1.0,\n",
      "                     'objectiveLastStandKill': 9.0,\n",
      "                     'objectiveTeamWiped': 17.0,\n",
      "                     'score': 10550.0,\n",
      "                     'scorePerMinute': 154.84344422700588,\n",
      "                     'timePlayed': 4088.0,\n",
      "                     'wallBangs': 0.0},\n",
      "             'br_dmz_plunquad': {'assists': 7.0,\n",
      "                                 'avgLifeTime': 116.8,\n",
      "                                 'damageDone': 8020.0,\n",
      "                                 'damageTaken': 3706.0,\n",
      "                                 'deaths': 33.0,\n",
      "                                 'distanceTraveled': 895169.19,\n",
      "                                 'executions': 0.0,\n",
      "                                 'headshotPercentage': 0.28,\n",
      "                                 'headshots': 7.0,\n",
      "                                 'kdRatio': 0.7575757575757576,\n",
      "                                 'kills': 25.0,\n",
      "                                 'killsPerGame': 12.5,\n",
      "                                 'matchesPlayed': 2.0,\n",
      "                                 'nearmisses': 0.0,\n",
      "                                 'objectiveBrCacheOpen': 2.0,\n",
      "                                 'objectiveDestroyedEquipment': 1.0,\n",
      "                                 'objectiveLastStandKill': 9.0,\n",
      "                                 'objectiveTeamWiped': 17.0,\n",
      "                                 'score': 10550.0,\n",
      "                                 'scorePerGame': 5275.0,\n",
      "                                 'scorePerMinute': 154.84344422700588,\n",
      "                                 'timePlayed': 4088.0,\n",
      "                                 'wallBangs': 0.0}}}\n"
     ]
    }
   ],
   "source": [
    "# Now we can use our new method as if it was in the package ^_^\n",
    "matches_with_unoID = await client.GetMatchesWithUnoID(Platform.Activision, \"2621859779580650696\", Title.ModernWarfare, Mode.Warzone, limit=2)\n",
    "pprint(matches_with_unoID, depth=3)"
   ]
  },
  {
   "cell_type": "markdown",
   "id": "4084d68d-66d1-41bb-b95b-00ab066fdf14",
   "metadata": {},
   "source": [
    "### Remove some client-built-in-filters to \"fully\" exploit COD API"
   ]
  },
  {
   "cell_type": "markdown",
   "id": "39455fce-ad15-4473-8035-b699f622a8d8",
   "metadata": {},
   "source": [
    "Took me some time to figure that out --given 1. that Activision tends to be secretive on its API, and have been introducing some limitations over time 2. Do not know the initial motivations of client creator EthanC. but :<br>\n",
    "Really wanted to be able to get Player's n last matches with their corresponding detailed stats attached to each entry. <br>\n",
    "Currently the client exploit either the /matches/ endpoint through client.GetPlayerMatches : return the n last matches IDs<br>\n",
    "or the /matches/details endpoint through client.GetPlayerMatchesDetailed : returns the aggregated stats of the n last matches (all matches, or with the details for each mode : plunder vs. battle_royale for instance)<br>\n",
    "Turned out that COD API / matches/details endpoint returns both matches aggregated stats (summary) but also the stats I wanted initially, but this was filtered out inside aforementioned methods. <br>\n",
    "Still thankful and very statisfied on how and what Ethan C python client provides, so we will add what we want without rewriting or modifying his great work.<br>"
   ]
  },
  {
   "cell_type": "markdown",
   "id": "d2a55543-bdf2-45f1-97a2-014ee34ae236",
   "metadata": {},
   "source": [
    "#### Copy and edit GetPlayerMatches GetPlayerMatchesDetailed"
   ]
  },
  {
   "cell_type": "code",
   "execution_count": 20,
   "id": "5b678188-8d12-4d7d-af0a-3764fe84b120",
   "metadata": {},
   "outputs": [],
   "source": [
    "# This time we're adding additional methods in the Call of Duty .py client only as there is no need to modify the HTTP class that already contains the endpoint we want to use\n",
    "# Import the Class we want to modify\n",
    "\n",
    "import urllib.parse\n",
    "from typing import List, Optional, Union\n",
    "\n",
    "from callofduty.client import Client\n",
    "from callofduty.http import HTTP\n",
    "from callofduty.http import Request\n",
    "\n",
    "\n",
    "# define two additional methods in callofduty.client Client Class\n",
    "\n",
    "async def GetPlayerMatchesRaw(self, platform: Platform, username: str, title: Title, mode: Mode, **kwargs):\n",
    "\n",
    "    limit: int = kwargs.get(\"limit\", 10)\n",
    "    startTimestamp: int = kwargs.get(\"startTimestamp\", 0)\n",
    "    endTimestamp: int = kwargs.get(\"endTimestamp\", 0)\n",
    "\n",
    "    data: dict = (\n",
    "        await self.http.GetPlayerMatches(\n",
    "            platform.value,\n",
    "            username,\n",
    "            title.value,\n",
    "            mode.value,\n",
    "            limit,\n",
    "            startTimestamp,\n",
    "            endTimestamp,\n",
    "        )\n",
    "    )[\"data\"] # was filtered out here\n",
    "\n",
    "    return data\n",
    "\n",
    "\n",
    "async def GetPlayerMatchesDetailedRaw(self, platform: Platform, username: str, title: Title, mode: Mode, **kwargs):\n",
    "\n",
    "    limit: int = kwargs.get(\"limit\", 10)\n",
    "    startTimestamp: int = kwargs.get(\"startTimestamp\", 0)\n",
    "    endTimestamp: int = kwargs.get(\"endTimestamp\", 0)\n",
    "\n",
    "    return (\n",
    "        await self.http.GetPlayerMatchesDetailed(\n",
    "            platform.value,\n",
    "            username,\n",
    "            title.value,\n",
    "            mode.value,\n",
    "            limit,\n",
    "            startTimestamp,\n",
    "            endTimestamp,\n",
    "        )\n",
    "    )[\"data\"] # was filtered out here\n",
    "\n",
    "    return data\n",
    "\n",
    "# let's add our additional methods into Client Class, at runtime\n",
    "\n",
    "Client.GetPlayerMatchesRaw = GetPlayerMatchesRaw\n",
    "Client.GetPlayerMatchesDetailedRaw = GetPlayerMatchesDetailedRaw"
   ]
  },
  {
   "cell_type": "markdown",
   "id": "50be54a1-5fd1-479b-8b69-5a49e91a70d2",
   "metadata": {},
   "source": [
    "#### Result : get Player's n last matches, with stats attached"
   ]
  },
  {
   "cell_type": "markdown",
   "id": "f87cc332-5348-4724-a481-766c9d4b88ab",
   "metadata": {},
   "source": [
    "Activision platform is not supported by the API. Works if we provide a BattleNet, Xbox, Playstation platform and corresponding username.<br>\n",
    "Client is keeping history of matchID, platform, title; but we might also be interesting to make usage of timestamp, match type and map id (in the future :p)"
   ]
  },
  {
   "cell_type": "code",
   "execution_count": 21,
   "id": "cff074eb-4b89-4376-a531-d34d38d98944",
   "metadata": {},
   "outputs": [
    {
     "name": "stdout",
     "output_type": "stream",
     "text": [
      "[]\n",
      "[{'map': '1418338122340459',\n",
      "  'matchId': '655340174593516288',\n",
      "  'platform': 'battle',\n",
      "  'timestamp': 1633883514000,\n",
      "  'title': 'mw',\n",
      "  'type': '6870190091107131'},\n",
      " {'map': '1418338122340459',\n",
      "  'matchId': '3288905818470012806',\n",
      "  'platform': 'battle',\n",
      "  'timestamp': 1633882202000,\n",
      "  'title': 'mw',\n",
      "  'type': '6870190091107131'},\n",
      " {'map': '1418338122340459',\n",
      "  'matchId': '18041330435098084962',\n",
      "  'platform': 'battle',\n",
      "  'timestamp': 1633730237000,\n",
      "  'title': 'mw',\n",
      "  'type': '4171952442769456'},\n",
      " {'map': '1418338122340459',\n",
      "  'matchId': '16730115467557733083',\n",
      "  'platform': 'battle',\n",
      "  'timestamp': 1633729503000,\n",
      "  'title': 'mw',\n",
      "  'type': '4171952442769456'},\n",
      " {'map': '1418338122340459',\n",
      "  'matchId': '12695423864955715863',\n",
      "  'platform': 'battle',\n",
      "  'timestamp': 1633727856000,\n",
      "  'title': 'mw',\n",
      "  'type': '4171952442769456'}]\n"
     ]
    }
   ],
   "source": [
    "# Now we can use our new methods as if it was in the package \n",
    "raw_matches_acti = await client.GetPlayerMatchesRaw(Platform.Activision, \"gentil_renard#3391079\", Title.ModernWarfare, Mode.Warzone, limit=5)\n",
    "raw_matches_bnet = await client.GetPlayerMatchesRaw(Platform.BattleNet, \"AMADEVS#1689\", Title.ModernWarfare, Mode.Warzone, limit=5)\n",
    "print(raw_matches_acti)\n",
    "pprint(raw_matches_bnet)"
   ]
  },
  {
   "cell_type": "code",
   "execution_count": 22,
   "id": "5434115c-0786-4c49-9405-a00a81b7b5b4",
   "metadata": {
    "scrolled": true,
    "tags": []
   },
   "outputs": [
    {
     "name": "stdout",
     "output_type": "stream",
     "text": [
      "{'all': {'assists': 8.0,\n",
      "         'avgLifeTime': 270.7111111111111,\n",
      "         'damageDone': 11183.0,\n",
      "         'damageTaken': 5090.0,\n",
      "         'deaths': 40.0,\n",
      "         'distanceTraveled': 1741115.5899999999,\n",
      "         'executions': 0.0,\n",
      "         'gulagDeaths': 3.0,\n",
      "         'gulagKills': 1.0,\n",
      "         'headshotPercentage': 0.21212121212121213,\n",
      "         'headshots': 7.0,\n",
      "         'kdRatio': 0.825,\n",
      "         'kills': 33.0,\n",
      "         'killsPerGame': 6.6,\n",
      "         'matchesPlayed': 5.0,\n",
      "         'nearmisses': 0.0,\n",
      "         'objectiveBrCacheOpen': 10.0,\n",
      "         'objectiveBrDownEnemyCircle1': 7.0,\n",
      "         'objectiveBrDownEnemyCircle2': 1.0,\n",
      "         'objectiveBrDownEnemyCircle4': 1.0,\n",
      "         'objectiveBrKioskBuy': 4.0,\n",
      "         'objectiveBrMissionPickupTablet': 2.0,\n",
      "         'objectiveDestroyedEquipment': 1.0,\n",
      "         'objectiveLastStandKill': 12.0,\n",
      "         'objectiveReviver': 1.0,\n",
      "         'objectiveTeamWiped': 19.0,\n",
      "         'score': 19325.0,\n",
      "         'scorePerMinute': 95.18141520275817,\n",
      "         'timePlayed': 12182.0,\n",
      "         'wallBangs': 0.0},\n",
      " 'br_brtrios': {'assists': 1.0,\n",
      "                'avgLifeTime': 809.4,\n",
      "                'damageDone': 3163.0,\n",
      "                'damageTaken': 1384.0,\n",
      "                'deaths': 7.0,\n",
      "                'distanceTraveled': 845946.4,\n",
      "                'executions': 0.0,\n",
      "                'gulagDeaths': 3.0,\n",
      "                'gulagKills': 1.0,\n",
      "                'headshotPercentage': 0.0,\n",
      "                'headshots': 0.0,\n",
      "                'kdRatio': 1.1428571428571428,\n",
      "                'kills': 8.0,\n",
      "                'killsPerGame': 2.6666666666666665,\n",
      "                'matchesPlayed': 3.0,\n",
      "                'nearmisses': 0.0,\n",
      "                'objectiveBrCacheOpen': 8.0,\n",
      "                'objectiveBrDownEnemyCircle1': 7.0,\n",
      "                'objectiveBrDownEnemyCircle2': 1.0,\n",
      "                'objectiveBrDownEnemyCircle4': 1.0,\n",
      "                'objectiveBrKioskBuy': 4.0,\n",
      "                'objectiveBrMissionPickupTablet': 2.0,\n",
      "                'objectiveLastStandKill': 3.0,\n",
      "                'objectiveReviver': 1.0,\n",
      "                'objectiveTeamWiped': 2.0,\n",
      "                'score': 8775.0,\n",
      "                'scorePerGame': 2925.0,\n",
      "                'scorePerMinute': 65.04818383988139,\n",
      "                'timePlayed': 8094.0,\n",
      "                'wallBangs': 0.0},\n",
      " 'br_dmz_plunquad': {'assists': 7.0,\n",
      "                     'avgLifeTime': 116.8,\n",
      "                     'damageDone': 8020.0,\n",
      "                     'damageTaken': 3706.0,\n",
      "                     'deaths': 33.0,\n",
      "                     'distanceTraveled': 895169.19,\n",
      "                     'executions': 0.0,\n",
      "                     'headshotPercentage': 0.28,\n",
      "                     'headshots': 7.0,\n",
      "                     'kdRatio': 0.7575757575757576,\n",
      "                     'kills': 25.0,\n",
      "                     'killsPerGame': 12.5,\n",
      "                     'matchesPlayed': 2.0,\n",
      "                     'nearmisses': 0.0,\n",
      "                     'objectiveBrCacheOpen': 2.0,\n",
      "                     'objectiveDestroyedEquipment': 1.0,\n",
      "                     'objectiveLastStandKill': 9.0,\n",
      "                     'objectiveTeamWiped': 17.0,\n",
      "                     'score': 10550.0,\n",
      "                     'scorePerGame': 5275.0,\n",
      "                     'scorePerMinute': 154.84344422700588,\n",
      "                     'timePlayed': 4088.0,\n",
      "                     'wallBangs': 0.0}}\n"
     ]
    }
   ],
   "source": [
    "# raw_matches_datailes has indeed two keys : summary and matches (the one that is filtered out in the Client)\n",
    "raw_matches_detailed = await client.GetPlayerMatchesDetailedRaw(Platform.BattleNet, \"AMADEVS#1689\", Title.ModernWarfare, Mode.Warzone, limit=5)\n",
    "pprint(raw_matches_detailed['summary'])"
   ]
  },
  {
   "cell_type": "code",
   "execution_count": 23,
   "id": "35529d1a-1f5c-40f7-9d06-e9bcda6e4850",
   "metadata": {},
   "outputs": [
    {
     "name": "stdout",
     "output_type": "stream",
     "text": [
      "{'draw': False,\n",
      " 'duration': 1078000,\n",
      " 'gameType': 'wz',\n",
      " 'map': 'mp_don4',\n",
      " 'matchID': '655340174593516288',\n",
      " 'mode': 'br_dmz_plunquad',\n",
      " 'player': {'awards': {},\n",
      "            'brMissionStats': {'missionStatsByType': {},\n",
      "                               'missionsComplete': 0,\n",
      "                               'totalMissionWeaponXpEarned': 0.0,\n",
      "                               'totalMissionXpEarned': 0.0},\n",
      "            'clantag': 'lkf :',\n",
      "            'loadout': [{'extraPerks': [...],\n",
      "                         'killstreaks': [...],\n",
      "                         'lethal': {...},\n",
      "                         'perks': [...],\n",
      "                         'primaryWeapon': {...},\n",
      "                         'secondaryWeapon': {...},\n",
      "                         'tactical': {...}}],\n",
      "            'rank': 54.0,\n",
      "            'team': 'team_seventeen',\n",
      "            'uno': '2621859779580650696',\n",
      "            'username': 'gentil_renard'},\n",
      " 'playerCount': 100,\n",
      " 'playerStats': {'assists': 5.0,\n",
      "                 'bonusXp': 0.0,\n",
      "                 'challengeXp': 0.0,\n",
      "                 'damageDone': 4217.0,\n",
      "                 'damageTaken': 2077.0,\n",
      "                 'deaths': 20.0,\n",
      "                 'distanceTraveled': 469912.16,\n",
      "                 'executions': 0.0,\n",
      "                 'headshots': 2.0,\n",
      "                 'kdRatio': 0.6,\n",
      "                 'kills': 12.0,\n",
      "                 'longestStreak': 3.0,\n",
      "                 'matchXp': 4420.0,\n",
      "                 'medalXp': 480.0,\n",
      "                 'miscXp': 0.0,\n",
      "                 'nearmisses': 0.0,\n",
      "                 'objectiveBrCacheOpen': 2.0,\n",
      "                 'objectiveDestroyedEquipment': 1.0,\n",
      "                 'objectiveLastStandKill': 4.0,\n",
      "                 'objectiveTeamWiped': 7.0,\n",
      "                 'percentTimeMoving': 95.080414,\n",
      "                 'rank': 54.0,\n",
      "                 'score': 4625.0,\n",
      "                 'scorePerMinute': 235.76890399320305,\n",
      "                 'scoreXp': 5840.0,\n",
      "                 'timePlayed': 1177.0,\n",
      "                 'totalXp': 18990.0,\n",
      "                 'wallBangs': 0.0},\n",
      " 'playlistName': None,\n",
      " 'privateMatch': False,\n",
      " 'rankedTeams': None,\n",
      " 'teamCount': 46,\n",
      " 'utcEndSeconds': 1633883514,\n",
      " 'utcStartSeconds': 1633882436,\n",
      " 'version': 1}\n"
     ]
    }
   ],
   "source": [
    "pprint(raw_matches_detailed['matches'][0], depth=4)"
   ]
  },
  {
   "cell_type": "code",
   "execution_count": null,
   "id": "bd0ad65f-bd6f-463a-a847-35c8e658c00f",
   "metadata": {},
   "outputs": [],
   "source": []
  }
 ],
 "metadata": {
  "kernelspec": {
   "display_name": "Python 3 (ipykernel)",
   "language": "python",
   "name": "python3"
  },
  "language_info": {
   "codemirror_mode": {
    "name": "ipython",
    "version": 3
   },
   "file_extension": ".py",
   "mimetype": "text/x-python",
   "name": "python",
   "nbconvert_exporter": "python",
   "pygments_lexer": "ipython3",
   "version": "3.9.5"
  }
 },
 "nbformat": 4,
 "nbformat_minor": 5
}
