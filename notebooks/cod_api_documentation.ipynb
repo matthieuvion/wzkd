{
 "cells": [
  {
   "cell_type": "markdown",
   "id": "f9387bca",
   "metadata": {
    "tags": []
   },
   "source": [
    "# COD private API through CallofDuty.py"
   ]
  },
  {
   "cell_type": "markdown",
   "id": "2a2258eb",
   "metadata": {},
   "source": [
    "As of September 2021"
   ]
  },
  {
   "cell_type": "markdown",
   "id": "fbb50488",
   "metadata": {},
   "source": [
    "---"
   ]
  },
  {
   "cell_type": "markdown",
   "id": "a37b8bfe",
   "metadata": {},
   "source": [
    "[Credits to github.com/EthanC](https://github.com/EthanC/CallofDuty.py) <br>For this well made Python client <br><br>\n",
    "> *\"CallofDuty.py is an asynchronous, object-oriented Python wrapper for the Call of Duty API.\"*"
   ]
  },
  {
   "cell_type": "markdown",
   "id": "c0a4a20f",
   "metadata": {},
   "source": [
    "#### Context & objectives"
   ]
  },
  {
   "cell_type": "markdown",
   "id": "2a20731d",
   "metadata": {
    "tags": []
   },
   "source": [
    "In this notebook, we will test & learn how to use this **--non official, Call of Duty (COD) client to access players' stats**, with a strong inclination towards **Warzone**. <br>\n",
    "If you didn't know, *Warzone* is a free Battle Royale game, part of the Call of Duty universe, developped by Activision and played by dozen millions of people.<br>\n",
    "As a player (of Warzone or the more classic online multiplayers modes of the different COD games) you already have access to some stats (score, kills/deaths ratio, rank...) on [my.callofduty.com](https://my.callofduty.com/) but they're poorly put together.<br> \n",
    "Cause or consequence, this led to to the creation of a rich ecosytem of --often very popular, websites (cod tracker, wzranked...) promising progression trackers and in depth analysis to players. <br>\n",
    "As Activision is using a **\"private\" API** (with no support) on the callofduty.com website and the documentation is very sparse, **we will intend to explore and test the different functions & outputs offered by this wrapper to work with the API.**"
   ]
  },
  {
   "cell_type": "markdown",
   "id": "edf2ec15",
   "metadata": {},
   "source": [
    "#### Resources"
   ]
  },
  {
   "cell_type": "markdown",
   "id": "f7d7d8f6",
   "metadata": {},
   "source": [
    "AFAIK, the most complete wrappers for COD api are this one and another written in NodeJS [(Github)](https://docs.codapi.dev/getting-started). <br>\n",
    "A good starting point if you want to get your hands dirty in COD stats would be to read both code. Besides, I would also recommend that you read the [documentation](https://docs.codapi.dev/getting-started) of the NodeJS wrapper as well as this [Postman resources](https://documenter.getpostman.com/view/5519582/SzzgAefq).<br>They will give you a good overall idea of which endpoints, authentification and data are at your disposal."
   ]
  },
  {
   "cell_type": "markdown",
   "id": "3f4afc28",
   "metadata": {
    "tags": []
   },
   "source": [
    "#### Install and run"
   ]
  },
  {
   "cell_type": "markdown",
   "id": "69800dde",
   "metadata": {},
   "source": [
    "Personal preferences here but I'm using miniconda (conda) as a environment manager (could be pyenv etc.) and Poetry for dependency managing and packaging. <br>\n",
    "In my conda environment I have Python 3.9 (needed for the client), Jupyter and Poetry installed.\n",
    "1. Create a new project with `poetry new your_project_name` or, if you have already a pre-populated directory, `cd your_existing_project` and then `poetry init`. Cf. [Poetry documentation](https://python-poetry.org/docs/)\n",
    "2. Install the Call of Duty client : `poetry add callofduty.py`. Poetry will make sure to install all the requirements.\n",
    "3. Run this notebook : `poetry run jupyter lab`, or `poetry shell` to start a new shell and then `jupyter lab` in the newly opened terminal.\n",
    "This will ensure you have access to all dependencies, in a custom and clean environment, thus callofduty.py and the notebook perfectly"
   ]
  },
  {
   "cell_type": "code",
   "execution_count": 1,
   "id": "b13ff5dc",
   "metadata": {},
   "outputs": [],
   "source": [
    "import asyncio\n",
    "import os\n",
    "import dotenv\n",
    "from pprint import pprint\n",
    "import callofduty\n",
    "from callofduty import Mode, Platform, Title, TimeFrame, GameType"
   ]
  },
  {
   "cell_type": "markdown",
   "id": "1e7ff8fe",
   "metadata": {},
   "source": [
    "#### Login to the API"
   ]
  },
  {
   "cell_type": "markdown",
   "id": "b49078c7",
   "metadata": {},
   "source": [
    "Two ways to authenticate to COD API. Once you're logged in, you will have access to either private (your info) or protected routes that may supply data for any given user. [Postman](https://docs.codapi.dev/getting-started) to further know what's happening under the hood. <br> 1. Login & password with `callofduty.Login(activision_email, pwd)`. I think it doesn't work anymore since Activision added a reCaptcha (but seems to be doable with the [NodeJS package](https://docs.codapi.dev/getting-started) that's using puppeteers + a plugin to bypass it).<br>2. Single Sign On (sso) `callofduty.Login(SSO_TOKEN)` added recently, that uses a SSO token you get while logging to Activision through your platform of choice (Bnet, Xbox, PS)."
   ]
  },
  {
   "cell_type": "code",
   "execution_count": 2,
   "id": "71cfe80b",
   "metadata": {},
   "outputs": [],
   "source": [
    "# Using SSO\n",
    "# We're storing our SSO token in an .env file stored locally to separate our config from code (w. python-dotenv). An.env-template file (with help to retrieve token) is provided for you to edit and populate the variable(s)\n",
    "# callofduty.py client .Login() goes through all the authentification steps and initiate a session to access protected routes\n",
    "# The client is asynchronous thus the 'await style'\n",
    "from dotenv import load_dotenv\n",
    "load_dotenv()\n",
    "client = await callofduty.Login(sso=os.environ[\"SSO\"])"
   ]
  },
  {
   "cell_type": "markdown",
   "id": "333c098a",
   "metadata": {},
   "source": [
    "#### COD universe API, endpoints & client"
   ]
  },
  {
   "cell_type": "markdown",
   "id": "760a4710",
   "metadata": {},
   "source": [
    "COD ecosystem is indeed diverse :\n",
    "- You can have access to one or multiple titles (*Modern Warfare*, *Black Ops Cold War* ...)\n",
    "- playable locally or more likely online multiplayer\n",
    "- within every game, several 'modes', e.g the the 'Battle Royale' *Warzone*, also with different maps (called 'modes' also :p)\n",
    "- through multiple platforms, depending on the game (Steam, Battle Net, Xbox Live...)"
   ]
  },
  {
   "cell_type": "markdown",
   "id": "5701098b",
   "metadata": {},
   "source": [
    "Players need to have enabled their visibility to 'on' (obvs. off by default) in their settings so their profile is searchable.<br>\n",
    "The way the Activision API works is that you generally need to specify, for any given player's, its gamertag associated to a given platform and then the title/mode/sub you want to get data from (a player can have two different gamertags whether he is using BattleNet or Playstation Live).<br>\n",
    "For in-depth access to player's stats, one generally needs to specify the Platform (e.g. Activision), Title (e.g. Modern Warfare) and the Mode (e.g. multiplayer)<br>\n",
    "Since it's our focus here, once we identified a player by his gamertag & associated platform, we will usually specify `title = modernwarfare` and `mode = warzone` as Warzone is a free mode developped within the Modern Warfare engine and thus organized this way in the API.<br>\n",
    "Luckily for us the python wrapper handles the naming in an enums.py file (`Mode, Platform...`) to build the endpoints smoothly, as well as objects/classes (`client.py, match.py, player.py,...`) to work with."
   ]
  },
  {
   "cell_type": "markdown",
   "id": "ebcfb922",
   "metadata": {},
   "source": [
    "Example of a GET request built in the client to access the API : <br>\n",
    "Cf. [Postman](https://docs.codapi.dev/getting-started) for details about API's versions & path variables as well as differences between between private, protected and public routes"
   ]
  },
  {
   "cell_type": "markdown",
   "id": "e1a58905",
   "metadata": {},
   "source": [
    "> `Request(\"GET\",f\"api/papi-client/leaderboards/v2/title/{title}/platform/{platform}/time/{timeFrame}/type/{gameType}/mode/{gameMode}/page/{page}\",)`"
   ]
  },
  {
   "cell_type": "markdown",
   "id": "6f460804",
   "metadata": {},
   "source": [
    "#### Client architecture & (some) useful methods"
   ]
  },
  {
   "cell_type": "markdown",
   "id": "47a8f60b",
   "metadata": {},
   "source": [
    "The table below is quite complete but not exhaustive, took long enough to do ^_^ <br>\n",
    "Mainly a good way to have the big picture on protected/public routes, useful to gather player Stats.<br>\n",
    "As mentioned on Postman, routes are either private, public or protected; this will be our plan when we explore the API. <br>"
   ]
  },
  {
   "cell_type": "code",
   "execution_count": 101,
   "id": "548367e9",
   "metadata": {},
   "outputs": [
    {
     "data": {
      "text/html": [
       "<style>table {align:left;display:block} </style>"
      ],
      "text/plain": [
       "<IPython.core.display.HTML object>"
      ]
     },
     "execution_count": 101,
     "metadata": {},
     "output_type": "execute_result"
    }
   ],
   "source": [
    "# Do not like when my md table is not aligned to the left\n",
    "from IPython.core.display import HTML\n",
    "table_css = 'table {align:left;display:block} '\n",
    "HTML('<style>{}</style>'.format(table_css))"
   ]
  },
  {
   "cell_type": "markdown",
   "id": "519d32ca",
   "metadata": {
    "tags": []
   },
   "source": [
    "What you can use | ...depends on .py |     ...depends on .py| ... where it does that call to COD API (https://my.callofduty.com/api.papi-client/.)\n",
    ":-------------|:--------------|:------------------|:------------------------------------\n",
    "client.GetPlayer|*returns Player*||\n",
    "client.SearchPlayers|http.SearchPlayer||crm/cod/v2/platform/platform/username/username/search\n",
    "client.GetPlayerProfile|http.GetPlayerProfile||stats/cod/v1/title/title/platform/platform/gamer/username/profile/type/mode\n",
    "client.GetPlayerMatches   -- if user platform = Activision |http.GetPlayerMatchesDetailed||crm/cod/v2/title/title/platform/platform/gamer/username/matches/mode/start/startTime/end/endTime/details?limit=limit\n",
    "client.GetPlayerMatches   -- if user platform = Bnet etc.. |http.GetPlayerMatches||crm/cod/v2/title/title/platform/platform/gamer/username/matches/mode/start/startTime/end/endTime?limit=limit\n",
    "client.GetPlayerMatchesSummary|http.GetPlayerMatchesDetailed||crm/cod/v2/title/title/platform/platform/gamer/username/matches/mode/start/startTime/end/endTime/details?limit=limit\n",
    "client.GetMatchDetails|http.GetMatch||ce/v1/title/title/platform/platform/match/matchId/matchMapEvents\n",
    "client.GetMatch|*returns Match*||\n",
    "client.GetFullMatch|http.GetFullMatch||crm/cod/v2/title/title/platform/platform/fullMatch/mode/matchId/language\n",
    "*The preferred matches endpoint does not support Activision (uno) platform*|*should use (cf. postman):*||crm/cod/v2/title/title/platform/platform/uno/username/matches/mode/start/startTime/end/endTime/details?limit=limit\n",
    "*re. getMatch endpoint matchMapEvents is for multiplayer only (no Warzone)*|||\n",
    "*Others: GetMyFriends etc*|||\n",
    "---|---||\n",
    "player.profile |client.GetPlayerProfile|http.GetPlayerProfile|stats/cod/v1/title/title/platform/platform/gamer/username/profile/type/mode\n",
    "player.matchesSummary|client.GetPlayerMatchesSummary|http.GetPlayerMatchesDetailed|crm/cod/v2/title/title/platform/platform/gamer/username/matches/mode/startTime/start/end/endTime/details?limit=limit\n",
    "player.matches |client.GetPlayerMatches|http.GetPlayerMatches|crm/cod/v2/title/title/platform/platform/gamer/username/matches/mode/startTime/start/end/endTime}?limit=limit\n",
    "*+ player.loadouts, player.loadoutUnlocks...*|||\n",
    "---|---||\n",
    "match.teams|client.GetMatchTeams||ce/v1/title/title/platform/platform/match/matchId/matchMapEvents\n",
    "match.details|client.GetMatchDetails||ce/v1/title/title/platform/platform/match/matchId/matchMapEvents\n",
    "*Endpoint matchMapEvents works for multiplayer only (no Warzone)*|||"
   ]
  },
  {
   "cell_type": "markdown",
   "id": "3e9e4fce",
   "metadata": {
    "tags": []
   },
   "source": [
    "## Private routes"
   ]
  },
  {
   "cell_type": "markdown",
   "id": "7ec673a0",
   "metadata": {},
   "source": [
    "Not our focus here but once logged in, you have access to private routes related to you own account (only) e.g. your friends' profiles (`client.GetMyFriends()`) and activity, account search visibility, used platform (e.g. Battlenet), identifiers linked to your Activision account etc. <br>\n",
    "Cf. the test.py where ethanC have listed all the methods available in his client."
   ]
  },
  {
   "cell_type": "code",
   "execution_count": 4,
   "id": "0bef433c",
   "metadata": {},
   "outputs": [
    {
     "name": "stdout",
     "output_type": "stream",
     "text": [
      "chrissou#9246578, Online: False\n",
      "Marmiton#4932812, Online: False\n",
      "Moinolol#4713832, Online: False\n",
      "nicoyzovitch#7591470, Online: False\n",
      "ninjawariorbob#7568880, Online: False\n",
      "Confetti_Seeker#1916728, Online: False\n"
     ]
    }
   ],
   "source": [
    "# For instance the .GetMyFriends() method, build the private endpoint to retrieve your friends statuses, using the authenticated client (personal credendials & associated gamertag).\n",
    "friends = await client.GetMyFriends()\n",
    "for friend in friends:\n",
    "    print(f\"{friend.username}, Online: {friend.online}\")"
   ]
  },
  {
   "cell_type": "code",
   "execution_count": 5,
   "id": "52753810",
   "metadata": {},
   "outputs": [
    {
     "name": "stdout",
     "output_type": "stream",
     "text": [
      "{'_client': <callofduty.client.Client object at 0x7fe0e438e760>,\n",
      " 'accountId': '1722124035977126995',\n",
      " 'avatarUrl': None,\n",
      " 'identities': [],\n",
      " 'online': False,\n",
      " 'platform': <Platform.Activision: 'uno'>,\n",
      " 'username': 'chrissou#9246578'}\n"
     ]
    }
   ],
   "source": [
    "# Here, the client nicely returns a list of dict w. friends' info (client's code indicates the COD API usually returns json or txt)\n",
    "pprint(friends[0].__dict__)"
   ]
  },
  {
   "cell_type": "markdown",
   "id": "470690bd",
   "metadata": {
    "tags": []
   },
   "source": [
    "## Public routes"
   ]
  },
  {
   "cell_type": "markdown",
   "id": "6e41762c",
   "metadata": {},
   "source": [
    "Routes you can access without authentification. Mostly the leaderboards for COD classic ultiplayer modes (MW, BO4), as well as maps & modes available for multiplayer.<br>"
   ]
  },
  {
   "cell_type": "markdown",
   "id": "67624cf4",
   "metadata": {},
   "source": [
    "### Leaderboards"
   ]
  },
  {
   "cell_type": "markdown",
   "id": "e5cfef8a",
   "metadata": {},
   "source": [
    "Global ranking of players by their score, kills, kills deaths (kd) ratios etc.<br>\n",
    "Searched a lot and in every manner possible but Warzone leaderboard (you can see in in-game :-p) endpoint is protected/out of my reach.<br>\n",
    "Still, an ex. on how to get the leaderboard from the \"Cyber\" mode in COD Modern Warfare. The client return a leaderboard object, with entries (players) you can also dive into :"
   ]
  },
  {
   "cell_type": "code",
   "execution_count": 6,
   "id": "0972c9f0",
   "metadata": {},
   "outputs": [
    {
     "name": "stdout",
     "output_type": "stream",
     "text": [
      "{'_client': <callofduty.client.Client object at 0x7fe0e438e760>,\n",
      " 'columns': [...],\n",
      " 'entries': [...],\n",
      " 'gameMode': 'cyber',\n",
      " 'gameType': <GameType.Core: 'core'>,\n",
      " 'page': 1,\n",
      " 'pages': 407539,\n",
      " 'platform': <Platform.BattleNet: 'battle'>,\n",
      " 'timeFrame': <TimeFrame.AllTime: 'alltime'>,\n",
      " 'title': <Title.ModernWarfare: 'mw'>}\n",
      "\n",
      " entries:\n",
      "1: 小赵同学#1148917 (BattleNet)\n",
      "2: BrattySis#6834874 (BattleNet)\n",
      "3: RNYNN#6664890 (BattleNet)\n"
     ]
    }
   ],
   "source": [
    "leaderboard = await client.GetLeaderboard(title=Title.ModernWarfare, platform=Platform.BattleNet, gameType=GameType.Core, gameMode=\"cyber\", timeFrame=TimeFrame.AllTime, page=1)\n",
    "pprint(leaderboard.__dict__, depth=1)\n",
    "print('\\n entries:')\n",
    "for entry in leaderboard.entries[:3]:\n",
    "    print(f\"{entry.rank}: {entry.username} ({entry.platform.name})\")"
   ]
  },
  {
   "cell_type": "markdown",
   "id": "eaa274cd",
   "metadata": {},
   "source": [
    "In the client other methods that access public routes are available such as `.GetPlayerLeaderboard()` (returns the leadeboard'page for a particular user; no Warzone) and `.GetFullMatch()` (Wz compatible)"
   ]
  },
  {
   "cell_type": "markdown",
   "id": "f38ab2e3",
   "metadata": {},
   "source": [
    "<a id='go_match'></a>"
   ]
  },
  {
   "cell_type": "markdown",
   "id": "c3f7d382",
   "metadata": {},
   "source": [
    "#### Match details : match/players stats given a certain MatchId"
   ]
  },
  {
   "cell_type": "markdown",
   "id": "192c0197",
   "metadata": {},
   "source": [
    "Get detailed stats about a match given a match ID, (moderwarfare/multiplayer or modernware/Warzone etc.)"
   ]
  },
  {
   "cell_type": "code",
   "execution_count": 22,
   "id": "0fd01245",
   "metadata": {},
   "outputs": [],
   "source": [
    "# w. matchID taken from the Postman example. In this case a battle royale (Warzone) game with 145 players organizezd in teams of 4 (squads).\n",
    "match = await client.GetFullMatch(Platform.Activision, Title.ModernWarfare, Mode.Warzone, matchId=11763015911965617014)"
   ]
  },
  {
   "cell_type": "markdown",
   "id": "0e8af6ba",
   "metadata": {},
   "source": [
    "Returns a dict with a list of dict, every dict being a player-and-his-stats (here 145).<br>\n",
    "In this match : 145 players, organized in teams of 4 ('br squad').<br>\n",
    "Our selected player had 0 kills (playerStats.kills), 2 deathes (playerStats.deaths) and was moving 87% of the time (.percentTimeMoving) and the whole team ranked 31 (.teamPlacement)"
   ]
  },
  {
   "cell_type": "code",
   "execution_count": 100,
   "id": "c6bef698",
   "metadata": {},
   "outputs": [
    {
     "name": "stdout",
     "output_type": "stream",
     "text": [
      "{'draw': False,\n",
      " 'duration': 1634000,\n",
      " 'gameType': 'wz',\n",
      " 'map': 'mp_don3',\n",
      " 'matchID': '11763015911965617014',\n",
      " 'mode': 'br_brquads',\n",
      " 'player': {'awards': {},\n",
      "            'brMissionStats': {'missionStatsByType': {},\n",
      "                               'missionsComplete': 0,\n",
      "                               'totalMissionWeaponXpEarned': 0.0,\n",
      "                               'totalMissionXpEarned': 0.0},\n",
      "            'loadout': [{...}],\n",
      "            'rank': 54.0,\n",
      "            'team': 'team_twenty_four',\n",
      "            'uno': '17641839849440527637',\n",
      "            'username': 'stuckinatrap'},\n",
      " 'playerCount': 145,\n",
      " 'playerStats': {'assists': 0.0,\n",
      "                 'bonusXp': 0.0,\n",
      "                 'challengeXp': 0.0,\n",
      "                 'damageDone': 237.0,\n",
      "                 'damageTaken': 344.0,\n",
      "                 'deaths': 2.0,\n",
      "                 'distanceTraveled': 277414.28,\n",
      "                 'executions': 0.0,\n",
      "                 'gulagDeaths': 1.0,\n",
      "                 'gulagKills': 0.0,\n",
      "                 'headshots': 0.0,\n",
      "                 'kdRatio': 0.0,\n",
      "                 'kills': 0.0,\n",
      "                 'longestStreak': 1.0,\n",
      "                 'matchXp': 2395.0,\n",
      "                 'medalXp': 0.0,\n",
      "                 'miscXp': 0.0,\n",
      "                 'nearmisses': 0.0,\n",
      "                 'objectiveBrCacheOpen': 5.0,\n",
      "                 'objectiveBrKioskBuy': 1.0,\n",
      "                 'objectiveBrMissionPickupTablet': 1.0,\n",
      "                 'objectiveLastStandKill': 1.0,\n",
      "                 'percentTimeMoving': 87.15596,\n",
      "                 'rank': 54.0,\n",
      "                 'score': 1575.0,\n",
      "                 'scorePerMinute': 230.48780487804876,\n",
      "                 'scoreXp': 2125.0,\n",
      "                 'teamPlacement': 31.0,\n",
      "                 'teamSurvivalTime': 324432.0,\n",
      "                 'timePlayed': 410.0,\n",
      "                 'totalXp': 4520.0,\n",
      "                 'wallBangs': 0.0},\n",
      " 'playlistName': None,\n",
      " 'privateMatch': False,\n",
      " 'rankedTeams': None,\n",
      " 'teamCount': 37,\n",
      " 'utcEndSeconds': 1617762401,\n",
      " 'utcStartSeconds': 1617760767,\n",
      " 'version': 1}\n"
     ]
    }
   ],
   "source": [
    "# One given player returned stats among the 145 (note: should be 37 teams x 4 players = 148 players initially ?).\n",
    "pprint(match['allPlayers'][2], depth=3)"
   ]
  },
  {
   "cell_type": "markdown",
   "id": "7125185b",
   "metadata": {
    "tags": []
   },
   "source": [
    "## Protected routes"
   ]
  },
  {
   "cell_type": "markdown",
   "id": "e833dd15",
   "metadata": {},
   "source": [
    "Authentification is mandatory to access those. Good thing is that you can retrieve data for other players (w. visibility setting turned ON)"
   ]
  },
  {
   "cell_type": "markdown",
   "id": "d41bad79",
   "metadata": {
    "tags": []
   },
   "source": [
    "### Player search"
   ]
  },
  {
   "cell_type": "markdown",
   "id": "14f17ecd",
   "metadata": {},
   "source": [
    "One can play Warzone through PlayStation, PC (BattleNet) or Xbox (also, cross play), hence the username being tied to a platform when searching.<br>\n",
    "Activision allows to change its own in-game username once in a while (3 months I believe). <br>\n",
    "Players can share the same name, they differentiate with ending numbers (6 digits for Activision, 4 for Bnet). Max number of players returbed by the COD API is 20.<br>\n",
    "The client return a list of `player` objects"
   ]
  },
  {
   "cell_type": "code",
   "execution_count": 9,
   "id": "ddfb4b01",
   "metadata": {},
   "outputs": [
    {
     "name": "stdout",
     "output_type": "stream",
     "text": [
      "gentil_renard#3391079 (Activision)\n",
      "Amadevs#1689 (BattleNet)\n"
     ]
    }
   ],
   "source": [
    "# For instance, my in-game --changed, username is gentil_renard, I can retrieve it (gentil_renard#3391079) with platform = Activision (translates into 'Uno' when the client builds the route)\n",
    "results = await client.SearchPlayers(Platform.Activision, \"gentil_renard\")\n",
    "for player in results:\n",
    "    print(f\"{player.username} ({player.platform.name})\")\n",
    "\n",
    "# but though I'm playing via Bnet, can't retrieve if I set platform = Bnet\n",
    "results = await client.SearchPlayers(Platform.BattleNet, \"gentil_renard\")\n",
    "for player in results:\n",
    "    print(f\"{player.username} ({player.platform.name})\")\n",
    "\n",
    "# Only works if I use my Bnet gamertag\n",
    "results = await client.SearchPlayers(Platform.BattleNet, \"AMADEVS#1689\")\n",
    "for player in results:\n",
    "    print(f\"{player.username} ({player.platform.name})\")   "
   ]
  },
  {
   "cell_type": "code",
   "execution_count": 10,
   "id": "c1b1d469",
   "metadata": {},
   "outputs": [
    {
     "name": "stdout",
     "output_type": "stream",
     "text": [
      "nicoyzovitch (PlayStation)\n",
      "nicoyzovitch#7591470 (Activision)\n"
     ]
    }
   ],
   "source": [
    "# A friend of mine uses a PlayStation\n",
    "results = await client.SearchPlayers(Platform.PlayStation, \"Nicoyzovitch\")\n",
    "for player in results:\n",
    "    print(f\"{player.username} ({player.platform.name})\")\n",
    "\n",
    "# Can also retrieve his name via Activision (nicoyzovitch#7591470) has he never changed his name.\n",
    "results = await client.SearchPlayers(Platform.Activision, \"Nicoyzovitch\")\n",
    "for player in results:\n",
    "    print(f\"{player.username} ({player.platform.name})\")"
   ]
  },
  {
   "cell_type": "code",
   "execution_count": 11,
   "id": "21781e8f",
   "metadata": {},
   "outputs": [
    {
     "name": "stdout",
     "output_type": "stream",
     "text": [
      "Huskerrs (Activision)\n",
      "HusKerrs#1009786 (Activision)\n",
      "HusKerrs#1088477 (Activision)\n",
      "HusKerrs#3209982 (Activision)\n",
      "HusKerrs#4249229 (Activision)\n",
      "HusKerrs#4780912 (Activision)\n",
      "HusKerrs#5139476 (Activision)\n",
      "HusKerrs#7232956 (Activision)\n",
      "HusKerrs#7631054 (Activision)\n",
      "HusKerrs#8490490 (Activision)\n",
      "HusKerrs#8638305 (Activision)\n",
      "HusKerrs#8653257 (Activision)\n",
      "HusKerrs#9624907 (Activision)\n",
      "HusKerrs#9783265 (Activision)\n",
      "Huskerrs#2032932 (Activision)\n",
      "Huskerrs#2058640 (Activision)\n",
      "Huskerrs#3542853 (Activision)\n",
      "Huskerrs#7010480 (Activision)\n",
      "Huskerrs#8797872 (Activision)\n",
      "Huskerrs#9357694 (Activision)\n",
      "huskerrs#6821860 (Activision)\n",
      "Huskerrs (Activision)\n",
      "HusKerrs#1009786 (Activision)\n",
      "HusKerrs#1088477 (Activision)\n",
      "HusKerrs#3209982 (Activision)\n",
      "HusKerrs#4249229 (Activision)\n",
      "HusKerrs#4780912 (Activision)\n",
      "HusKerrs#5139476 (Activision)\n",
      "HusKerrs#7232956 (Activision)\n",
      "HusKerrs#7631054 (Activision)\n",
      "HusKerrs#8490490 (Activision)\n",
      "HusKerrs#8638305 (Activision)\n",
      "HusKerrs#8653257 (Activision)\n",
      "HusKerrs#9624907 (Activision)\n",
      "HusKerrs#9783265 (Activision)\n",
      "Huskerrs#2032932 (Activision)\n",
      "Huskerrs#2058640 (Activision)\n",
      "Huskerrs#3542853 (Activision)\n",
      "Huskerrs#7010480 (Activision)\n",
      "Huskerrs#8797872 (Activision)\n",
      "Huskerrs#9357694 (Activision)\n",
      "huskerrs#6821860 (Activision)\n"
     ]
    }
   ],
   "source": [
    "# Striking example with 'Huskerrs' (a popular pro player) wannabes . \n",
    "# Good thing Activision has an authenticity stamp you can retrieve with player name and phrase (cf. .authenticityStamp in the client)\n",
    "res = []\n",
    "for platform in [Platform.Activision, Platform.BattleNet]:\n",
    "    res.extend(await client.SearchPlayers(Platform.Activision, \"HusKerrs\"))\n",
    "\n",
    "for player in res:\n",
    "    print(f\"{player.username} ({player.platform.name})\")"
   ]
  },
  {
   "cell_type": "markdown",
   "id": "f6260209",
   "metadata": {
    "tags": []
   },
   "source": [
    "## Player Warzone profile"
   ]
  },
  {
   "cell_type": "markdown",
   "id": "02da7604-f29c-4fdf-ac2f-7a019ffe049f",
   "metadata": {},
   "source": [
    "### Profile : client methods"
   ]
  },
  {
   "cell_type": "markdown",
   "id": "22c86254",
   "metadata": {},
   "source": [
    "Two ways to retrieve player's profile in the client (same endpoint) : client.GetPlayerProfile or player.profile <br>"
   ]
  },
  {
   "cell_type": "markdown",
   "id": "8df24e24",
   "metadata": {
    "tags": []
   },
   "source": [
    "##### Profile using client.GetPlayerProfile"
   ]
  },
  {
   "cell_type": "code",
   "execution_count": 54,
   "id": "0b6854a4",
   "metadata": {},
   "outputs": [
    {
     "name": "stdout",
     "output_type": "stream",
     "text": [
      "{'engagement': None,\n",
      " 'level': 348.0,\n",
      " 'levelXpGained': 6940.0,\n",
      " 'levelXpRemainder': 35960.0,\n",
      " 'lifetime': {'accoladeData': {...},\n",
      "              'all': {...},\n",
      "              'itemData': {...},\n",
      "              'map': {},\n",
      "              'mode': {...},\n",
      "              'scorestreakData': {...}},\n",
      " 'maxLevel': 1.0,\n",
      " 'maxPrestige': 0.0,\n",
      " 'p': 0.0,\n",
      " 'paragonId': 0.0,\n",
      " 'paragonRank': 0.0,\n",
      " 'platform': 'battle',\n",
      " 'prestige': 23.0,\n",
      " 'prestigeId': 0.0,\n",
      " 's': 0.0,\n",
      " 'title': 'mw',\n",
      " 'totalXp': 1325315.0,\n",
      " 'type': 'wz',\n",
      " 'username': 'AMADEVS#1689',\n",
      " 'weekly': {'all': {...}, 'map': {}, 'mode': {...}}}\n"
     ]
    }
   ],
   "source": [
    "# Parameters : platform, username, title, mode\n",
    "# Endpoint : stats/cod/v1/title/title/platform/platform/gamer/username/profile/type/mode\n",
    "profile_using_client = await client.GetPlayerProfile(Platform.BattleNet, \"AMADEVS#1689\", Title.ModernWarfare, Mode.Warzone)\n",
    "pprint(profile_using_client, depth=2)"
   ]
  },
  {
   "cell_type": "markdown",
   "id": "1278fef6",
   "metadata": {},
   "source": [
    "##### Profile using player.profile"
   ]
  },
  {
   "cell_type": "code",
   "execution_count": 85,
   "id": "a9132933",
   "metadata": {},
   "outputs": [
    {
     "name": "stdout",
     "output_type": "stream",
     "text": [
      "AMADEVS#1689 (BattleNet)\n",
      "{'engagement': None,\n",
      " 'level': 348.0,\n",
      " 'levelXpGained': 6940.0,\n",
      " 'levelXpRemainder': 35960.0,\n",
      " 'lifetime': {'accoladeData': {...},\n",
      "              'all': {...},\n",
      "              'itemData': {...},\n",
      "              'map': {},\n",
      "              'mode': {...},\n",
      "              'scorestreakData': {...}},\n",
      " 'maxLevel': 1.0,\n",
      " 'maxPrestige': 0.0,\n",
      " 'p': 0.0,\n",
      " 'paragonId': 0.0,\n",
      " 'paragonRank': 0.0,\n",
      " 'platform': 'battle',\n",
      " 'prestige': 23.0,\n",
      " 'prestigeId': 0.0,\n",
      " 's': 0.0,\n",
      " 'title': 'mw',\n",
      " 'totalXp': 1325315.0,\n",
      " 'type': 'wz',\n",
      " 'username': 'AMADEVS#1689',\n",
      " 'weekly': {'all': {...}, 'map': {}, 'mode': {...}}}\n"
     ]
    }
   ],
   "source": [
    "# Getting player object first, as defined in player.py\n",
    "# Parameters : platform, username\n",
    "\n",
    "player = await client.GetPlayer(Platform.BattleNet, \"AMADEVS#1689\")\n",
    "print(f\"{player.username} ({player.platform.name})\")\n",
    "\n",
    "# then, calling the .profile method\n",
    "# Parameters : title, mode\n",
    "# Endpoint : stats/cod/v1/title/title/platform/platform/gamer/username/profile/type/mode\n",
    "profile_using_player = await player.profile(Title.ModernWarfare, Mode.Warzone)\n",
    "pprint(profile_using_player, depth=2)"
   ]
  },
  {
   "cell_type": "markdown",
   "id": "3b4999e8-c8b7-4d1e-a7db-b2cdeb255a3f",
   "metadata": {},
   "source": [
    "### Profile : stats returned by COD API"
   ]
  },
  {
   "cell_type": "markdown",
   "id": "bba7fbf0-873a-4478-be65-c3f10100982f",
   "metadata": {},
   "source": [
    "If mode was set to Multiplayer, data would be similar but stats related to Modern Warfare game / multiplayers modes & maps.<br>\n",
    "The client returns a dict : the key \"data\" from sent COD API json. No means to change timespan Lifetime or Weekly.<br>\n",
    "Examples of stats available and where to find them, instead of doing a giant print ^_^\n",
    "\n",
    "`dict['username']`, `dict['platform']`, `dict['level']`) : given username & associated platform, level of the Player (1 to 1000) <br>\n",
    "`dict['level'])` & `dict['levelXpGained']` : are shared between Modern Warfare multiplayer & Warzone. Can't remember if `['prestige']` depends on Level or challenges that has to be done in game.<br>\n",
    "`dict['lifetime']` : expandable, **lifetime** consolidated stats of the player.<br>\n",
    "`dict['weekly']` : expandable, **weekly** consolidated stats of the player.<br>\n",
    "`dict['lifetime']` and `dict['weekly']` can be further explored. They have similar keys (**all**, **mode**, **map**), except Lifetime having 3 more (**itemData**, **scorestreakData**, **accoladeData**). <br>"
   ]
  },
  {
   "cell_type": "markdown",
   "id": "2dd82e50-4c7b-471f-af08-1ac028b10482",
   "metadata": {},
   "source": [
    "##### Lifetime stats"
   ]
  },
  {
   "cell_type": "markdown",
   "id": "fefa3326-8a2a-4f50-8626-013ed6840acf",
   "metadata": {},
   "source": [
    "`dict['lifetime']['all']` : consolidated, lifetime stats, no matter the map/mode you're playing on.<br>\n",
    ">`..['properties']['accuracy']` : Warzone lifetime accuracy no matter the map (classic Battle Royale, Plunder etc.).<br>\n",
    "`..['properties']['wins']` : total number of wins no matter the map.<br>\n",
    "`..['properties']['gamesPlayed']` : total number of games played.<br>\n",
    "`..['properties']['kdRatio']` : overall kills/deaths ratio.<br>\n",
    "and many others : bestKillStreak, headshots, bestKD..."
   ]
  },
  {
   "cell_type": "markdown",
   "id": "9910649f-d1d1-4cec-9491-7f022c8a3e87",
   "metadata": {},
   "source": [
    "`dict['lifetime']['mode']` : lifestime stats, given a specified mode (br, br_dmz, br_all, arena, koth..).<br>\n",
    ">`..['br']['properties']` : player stats related specifically to mode ?.<br>\n",
    "`..['br_dmz']['properties']` : player stats related specifically to mode ? .<br>\n",
    "`..['br_all']['properties']` : player stats related specifically to I guess consolidated br solo duo, trio, quads ?<br>\n",
    "other mods are available : koth, arena, though belonging to MW Multiplayer and not Warzone, whereas mode is set to Warzone in our call.\n",
    ">>  `..['br']['properties']['kills']` : number of kills for mode.<br>\n",
    "`..['br']['properties']['topTen']` : number of top ten for mode.<br>\n",
    "`..['br']['properties']['wins']` : number of wins for mode.<br>\n",
    "and a few others : revives, kills, deathes, kdRatio, gamesPlayed..."
   ]
  },
  {
   "cell_type": "markdown",
   "id": "a48dfc02-389d-474a-a7db-85e07faa58f1",
   "metadata": {},
   "source": [
    "`dict['lifetime']['map']` : Empty for me, not sure exactly why, but tested with a player that plays MW/Multiplaters, and still empty. <br>\n",
    "\n",
    "`dict['lifetime']['itemData']` : additional key for lifetime dictionary (aka doesn't exist for 'weekly'). Lifetime stats related to weapon & equipment<br>\n",
    "> Inside, several stats equipement/weapon related, per category of equipement/weapon and item wise"
   ]
  },
  {
   "cell_type": "markdown",
   "id": "acb875fe-ef72-4617-90b2-8f2dfbba3a20",
   "metadata": {},
   "source": [
    "`dict['lifetime']['scorestreakData']` : additional key for 'lifetime' dictionary. Lifetime stats related to 'special' equipment. <br>\n",
    "> Among others, how many uav, airstrike, sentry guns... used, for some of them might return the corresponding n of kills but not sure."
   ]
  },
  {
   "cell_type": "markdown",
   "id": "e7563aa8-28cb-42ee-9d39-41f7fb6be50f",
   "metadata": {},
   "source": [
    "`dict['lifetime']['accoladeData']` : additional key for 'lifetime' dictionary. Even more diverse and surprising lifetime stats, all modes together ^_^. <br>\n",
    "> Lifestats such as timeWatchingKillcams, timeWatchingKillcams, comebackKills... though not sure they're whether fully accurate or updated. E.g deathsFromBehind is 5 for me whereas I'm sure died a lot more that way :D"
   ]
  },
  {
   "cell_type": "markdown",
   "id": "531ec7ed-d587-48d2-bea7-316092d0969a",
   "metadata": {},
   "source": [
    "##### Weekly Stats"
   ]
  },
  {
   "cell_type": "markdown",
   "id": "2f493620-78be-467d-8d30-e1164b23f010",
   "metadata": {},
   "source": [
    "`dict['lifetime']` and `dict['weekly']` have similar keys (**all**, **mode**, **map**) to 'Lifetime' except the latter having 3 more (**itemData**, **scorestreakData**, **accoladeData**).<br>\n",
    "Meaning that you won't have stats about weapons used, 'kill streaks' or other listed above.<br>\n",
    "When calling the key 'mode' for level 'weekly', the API details the stats for each specific mode of Warzone (battle royale duos, trios, quads (br_all?), plunder) ; a granularity not available at 'lifetime' level.<br>"
   ]
  },
  {
   "cell_type": "code",
   "execution_count": 105,
   "id": "2eabc7e6-126d-461e-92a9-8a600bd42dde",
   "metadata": {},
   "outputs": [
    {
     "name": "stdout",
     "output_type": "stream",
     "text": [
      "dict_keys(['br_dmz_plndtrios', 'br_dmz_plunquad', 'br_brtrios', 'br_all', 'br_brduos'])\n"
     ]
    }
   ],
   "source": [
    "pprint(profile_using_player['weekly']['mode'].keys())"
   ]
  },
  {
   "cell_type": "markdown",
   "id": "0afd10e5",
   "metadata": {
    "tags": []
   },
   "source": [
    "## Matches"
   ]
  },
  {
   "cell_type": "markdown",
   "id": "f3bb3a79",
   "metadata": {},
   "source": [
    "Retrieve Player's last Matchs IDs.<br>\n",
    "If you remember well, you can then explore them with [Match Details](#go_match)"
   ]
  },
  {
   "cell_type": "markdown",
   "id": "ea030d58",
   "metadata": {},
   "source": [
    "##### Matches using client.GetPlayerMatches"
   ]
  },
  {
   "cell_type": "code",
   "execution_count": 14,
   "id": "62ec405f",
   "metadata": {},
   "outputs": [
    {
     "name": "stdout",
     "output_type": "stream",
     "text": [
      "{'_client': <callofduty.client.Client object at 0x7fe0e438e760>,\n",
      " 'id': 15571015748597522761,\n",
      " 'platform': <Platform.Activision: 'uno'>,\n",
      " 'title': <Title.ModernWarfare: 'mw'>}\n",
      "{'_client': <callofduty.client.Client object at 0x7fe0e438e760>,\n",
      " 'id': 18288595769756463118,\n",
      " 'platform': <Platform.Activision: 'uno'>,\n",
      " 'title': <Title.ModernWarfare: 'mw'>}\n"
     ]
    }
   ],
   "source": [
    "# Parameters : platform, username, title, mode, start, end, limit\n",
    "# Endpoint if platform = Activision              : crm/cod/v2/title/title/platform/platform/gamer/username/matches/mode/start/startTime/end/endTime/details?limit=limit through method http.GetPlayerMatchesDetailed\n",
    "# Endpoint if platform = Bnet, PlayStation, Xbox : crm/cod/v2/title/title/platform/platform/gamer/username/matches/mode/startTime/start/end/endTime?limit=limit         through method http.GetPlayerMatches\n",
    "matches_using_client = await client.GetPlayerMatches(Platform.Activision, \"gentil_renard#3391079\", Title.ModernWarfare, Mode.Warzone, limit=2)\n",
    "for match in matches_using_client:\n",
    "    pprint(match.__dict__)"
   ]
  },
  {
   "cell_type": "markdown",
   "id": "0db08a96",
   "metadata": {
    "tags": []
   },
   "source": [
    "##### Matches using player.matches"
   ]
  },
  {
   "cell_type": "code",
   "execution_count": 15,
   "id": "9b9333fe",
   "metadata": {},
   "outputs": [
    {
     "name": "stdout",
     "output_type": "stream",
     "text": [
      "AMADEVS#1689 (BattleNet)\n",
      "{'_client': <callofduty.client.Client object at 0x7fe0e438e760>,\n",
      " 'id': 15571015748597522761,\n",
      " 'platform': <Platform.BattleNet: 'battle'>,\n",
      " 'title': <Title.ModernWarfare: 'mw'>}\n",
      "{'_client': <callofduty.client.Client object at 0x7fe0e438e760>,\n",
      " 'id': 18288595769756463118,\n",
      " 'platform': <Platform.BattleNet: 'battle'>,\n",
      " 'title': <Title.ModernWarfare: 'mw'>}\n"
     ]
    }
   ],
   "source": [
    "# Getting player object first, as defined in player.py\n",
    "# Parameters : platform, username\n",
    "player = await client.GetPlayer(Platform.BattleNet, \"AMADEVS#1689\")\n",
    "print(f\"{player.username} ({player.platform.name})\")\n",
    "\n",
    "# then, calling the .matches method\n",
    "# Parameters : title, mode, start, end, limit\n",
    "# Endpoint if platform = Activision              : crm/cod/v2/title/title/platform/platform/gamer/username/matches/mode/start/startTime/end/endTime/details?limit=limit through method http.GetPlayerMatchesDetailed\n",
    "# Endpoint if platform = Bnet, PlayStation, Xbox : crm/cod/v2/title/title/platform/platform/gamer/username/matches/mode/startTime/start/end/endTime?limit=limit         through method http.GetPlayerMatches\n",
    "# Returns a [n match objects]\n",
    "matches_using_player = await player.matches(Title.ModernWarfare, Mode.Warzone, limit=2)\n",
    "for match in matches_using_player:\n",
    "    pprint(match.__dict__)"
   ]
  },
  {
   "cell_type": "markdown",
   "id": "ce3fd247",
   "metadata": {
    "tags": []
   },
   "source": [
    "## Matches Summary"
   ]
  },
  {
   "cell_type": "markdown",
   "id": "53946a36",
   "metadata": {},
   "source": [
    "##### Summary using client.GetPlayesMatchesSummary"
   ]
  },
  {
   "cell_type": "code",
   "execution_count": 16,
   "id": "0817762e",
   "metadata": {},
   "outputs": [
    {
     "name": "stdout",
     "output_type": "stream",
     "text": [
      "{'all': {'assists': 17.0,\n",
      "         'avgLifeTime': 413.78504672897196,\n",
      "         'damageDone': 23127.0,\n",
      "         'damageTaken': 12926.0,\n",
      "         'deaths': 87.0,\n",
      "         'distanceTraveled': 7370153.370000001,\n",
      "         'executions': 0.0,\n",
      "         'gulagDeaths': 12.0,\n",
      "         'gulagKills': 6.0,\n",
      "         'headshotPercentage': 0.2033898305084746,\n",
      "         'headshots': 12.0,\n",
      "         'kdRatio': 0.6781609195402298,\n",
      "         'kills': 59.0,\n",
      "         'killsPerGame': 2.95,\n",
      "         'matchesPlayed': 20.0,\n",
      "         'nearmisses': 0.0,\n",
      "         'objectiveBrCacheOpen': 60.0,\n",
      "         'objectiveBrDownEnemyCircle1': 21.0,\n",
      "         'objectiveBrDownEnemyCircle2': 7.0,\n",
      "         'objectiveBrDownEnemyCircle3': 1.0,\n",
      "         'objectiveBrKioskBuy': 17.0,\n",
      "         'objectiveBrMissionPickupTablet': 13.0,\n",
      "         'objectiveDestroyedEquipment': 7.0,\n",
      "         'objectiveDestroyedVehicleMedium': 1.0,\n",
      "         'objectiveLastStandKill': 27.0,\n",
      "         'objectivePlunderCashBloodMoney': 1.0,\n",
      "         'objectiveReviver': 4.0,\n",
      "         'objectiveTeamWiped': 27.0,\n",
      "         'objectiveTrophyDefense': 1.0,\n",
      "         'score': 50878.0,\n",
      "         'scorePerMinute': 68.94816487859967,\n",
      "         'timePlayed': 44275.0,\n",
      "         'wallBangs': 0.0},\n",
      " 'br_brduos': {'assists': 3.0,\n",
      "               'avgLifeTime': 788.4,\n",
      "               'damageDone': 7638.0,\n",
      "               'damageTaken': 3051.0,\n",
      "               'deaths': 17.0,\n",
      "               'distanceTraveled': 2705287.13,\n",
      "               'executions': 0.0,\n",
      "               'gulagDeaths': 5.0,\n",
      "               'gulagKills': 4.0,\n",
      "               'headshotPercentage': 0.13333333333333333,\n",
      "               'headshots': 2.0,\n",
      "               'kdRatio': 0.8823529411764706,\n",
      "               'kills': 15.0,\n",
      "               'killsPerGame': 1.875,\n",
      "               'matchesPlayed': 8.0,\n",
      "               'nearmisses': 0.0,\n",
      "               'objectiveBrCacheOpen': 27.0,\n",
      "               'objectiveBrDownEnemyCircle1': 16.0,\n",
      "               'objectiveBrDownEnemyCircle2': 4.0,\n",
      "               'objectiveBrKioskBuy': 8.0,\n",
      "               'objectiveBrMissionPickupTablet': 5.0,\n",
      "               'objectiveDestroyedVehicleMedium': 1.0,\n",
      "               'objectiveLastStandKill': 10.0,\n",
      "               'objectiveReviver': 4.0,\n",
      "               'objectiveTeamWiped': 5.0,\n",
      "               'objectiveTrophyDefense': 1.0,\n",
      "               'score': 18950.0,\n",
      "               'scorePerGame': 2368.75,\n",
      "               'scorePerMinute': 57.68645357686454,\n",
      "               'timePlayed': 19710.0,\n",
      "               'wallBangs': 0.0},\n",
      " 'br_brtrios': {'assists': 7.0,\n",
      "                'avgLifeTime': 686.952380952381,\n",
      "                'damageDone': 3268.0,\n",
      "                'damageTaken': 3241.0,\n",
      "                'deaths': 15.0,\n",
      "                'distanceTraveled': 2180588.42,\n",
      "                'executions': 0.0,\n",
      "                'gulagDeaths': 7.0,\n",
      "                'gulagKills': 2.0,\n",
      "                'headshotPercentage': 0.3,\n",
      "                'headshots': 3.0,\n",
      "                'kdRatio': 0.6666666666666666,\n",
      "                'kills': 10.0,\n",
      "                'killsPerGame': 1.6666666666666667,\n",
      "                'matchesPlayed': 6.0,\n",
      "                'nearmisses': 0.0,\n",
      "                'objectiveBrCacheOpen': 17.0,\n",
      "                'objectiveBrDownEnemyCircle1': 5.0,\n",
      "                'objectiveBrDownEnemyCircle2': 3.0,\n",
      "                'objectiveBrDownEnemyCircle3': 1.0,\n",
      "                'objectiveBrKioskBuy': 9.0,\n",
      "                'objectiveBrMissionPickupTablet': 8.0,\n",
      "                'objectiveLastStandKill': 6.0,\n",
      "                'objectiveTeamWiped': 1.0,\n",
      "                'score': 16750.0,\n",
      "                'scorePerGame': 2791.6666666666665,\n",
      "                'scorePerMinute': 69.66588104810758,\n",
      "                'timePlayed': 14426.0,\n",
      "                'wallBangs': 0.0},\n",
      " 'br_dmz_plndtrios': {'assists': 7.0,\n",
      "                      'avgLifeTime': 166.21311475409837,\n",
      "                      'damageDone': 12221.0,\n",
      "                      'damageTaken': 6634.0,\n",
      "                      'deaths': 55.0,\n",
      "                      'distanceTraveled': 2484277.82,\n",
      "                      'executions': 0.0,\n",
      "                      'headshotPercentage': 0.20588235294117646,\n",
      "                      'headshots': 7.0,\n",
      "                      'kdRatio': 0.6181818181818182,\n",
      "                      'kills': 34.0,\n",
      "                      'killsPerGame': 5.666666666666667,\n",
      "                      'matchesPlayed': 6.0,\n",
      "                      'nearmisses': 0.0,\n",
      "                      'objectiveBrCacheOpen': 16.0,\n",
      "                      'objectiveDestroyedEquipment': 7.0,\n",
      "                      'objectiveLastStandKill': 11.0,\n",
      "                      'objectivePlunderCashBloodMoney': 1.0,\n",
      "                      'objectiveTeamWiped': 21.0,\n",
      "                      'score': 15178.0,\n",
      "                      'scorePerGame': 2529.6666666666665,\n",
      "                      'scorePerMinute': 89.81950882730052,\n",
      "                      'timePlayed': 10139.0,\n",
      "                      'wallBangs': 0.0}}\n"
     ]
    }
   ],
   "source": [
    "# Parameters : title, mode, limit\n",
    "# Endpoint : crm/cod/v2/title/title/platform/platform/gamer/username/matches/mode/start/startTime/end/endTime/details?limit=limit\n",
    "# Returns stats for n last matches, all + per type  br, plunder ...\n",
    "\n",
    "summary = await client.GetPlayerMatchesSummary(Platform.BattleNet, \"AMADEVS#1689\", Title.ModernWarfare, Mode.Warzone, limit=20)# does not work if I use player = await client.GetPlayer(Platform.Activision, \"gentil_renard\") cf. Postman 'Warzone by Uno ID' ?\n",
    "pprint(summary, depth=2)"
   ]
  },
  {
   "cell_type": "markdown",
   "id": "6b80d20b",
   "metadata": {},
   "source": [
    "##### Summary using player.matchesSummary"
   ]
  },
  {
   "cell_type": "code",
   "execution_count": 17,
   "id": "80ee7bb7",
   "metadata": {},
   "outputs": [
    {
     "name": "stdout",
     "output_type": "stream",
     "text": [
      "AMADEVS#1689 (BattleNet)\n",
      "{'all': {...},\n",
      " 'br_brduos': {...},\n",
      " 'br_brtrios': {...},\n",
      " 'br_dmz_plndtrios': {...}}\n"
     ]
    }
   ],
   "source": [
    "# Getting player object first, as defined in player.py\n",
    "# Parameters : platform, username\n",
    "player = await client.GetPlayer(Platform.BattleNet, \"AMADEVS#1689\")\n",
    "print(f\"{player.username} ({player.platform.name})\")\n",
    "\n",
    "# then, calling the .matchesSummary method\n",
    "# Parameters : title, mode, limit\n",
    "# Endpoint : crm/cod/v2/title/title/platform/platform/gamer/username/matches/mode/start/startTime/end/endTime/details?limit=limit\n",
    "# Returns stats for n last matches, all + per type  br, plunder ...\n",
    "summary = await player.matchesSummary(Title.ModernWarfare, Mode.Warzone, limit=20) # does not work if I use player = await client.GetPlayer(Platform.Activision, \"gentil_renard\") cf. Postman Warzone by Uno ID ?\n",
    "pprint(summary, depth=1)"
   ]
  },
  {
   "cell_type": "markdown",
   "id": "43948217",
   "metadata": {},
   "source": [
    "## Addon : let's add extra methods to the client so we handle a \"new\" API route"
   ]
  },
  {
   "cell_type": "markdown",
   "id": "1fe88545",
   "metadata": {},
   "source": [
    "As listed on Postman, COD API has an another endpoint (see code below) currently not used by the client. I was curious whether or not it would give us anything different. <br>\n",
    "Turned out the additional method return n matches stats (summary + details per match), similar to what you would get with client.GetPlayersMatchesDetailed().<br>\n",
    "The only difference is that it takes UnoID as a parameter e.g. 12309926, different from Activision User ID e.g 'gentil_renard#3391079'. Additionally something you cannot do with other routes."
   ]
  },
  {
   "cell_type": "code",
   "execution_count": 20,
   "id": "89b0576b",
   "metadata": {},
   "outputs": [],
   "source": [
    "# we're adding additional methods in the Call of Duty .py client, without modifying the package.\n",
    "# Import the Class we want to modify, without touching the client's package\n",
    "\n",
    "from callofduty.client import Client\n",
    "from callofduty.http import HTTP\n",
    "from callofduty.http import Request\n",
    "import urllib.parse\n",
    "\n",
    "# define additonal method in callofduty.http HTTP Class\n",
    "# Endpoint extracted from Postman, currently not supported by the client (but turned out not to be mandatory tbh)\n",
    "\n",
    "async def GetWithUnoID(self, platform, username, title, mode, limit, startTimestamp, endTimeStamp):\n",
    "    return await self.Send(\n",
    "        Request(\n",
    "            \"GET\",\n",
    "            f\"api/papi-client/crm/cod/v2/title/{title}/platform/{platform}/uno/{urllib.parse.quote(username)}/matches/{mode}/start/{startTimestamp}/end/{endTimeStamp}/details?limit={limit}\",\n",
    "        )\n",
    "    )\n",
    "# define additional method in callofduty.client Client Class\n",
    "# We chose not to differentiate between 'summary'and 'matches\" entries when returning the results --as done in the the client (aka return them both).\n",
    "\n",
    "async def GetMatchesWithUnoID(self, platform: Platform, username, title: Title, mode: Mode, **kwargs):\n",
    "    limit = kwargs.get(\"limit\", 10)\n",
    "    startTimestamp = kwargs.get(\"startTimestamp\", 0)\n",
    "    endTimestamp = kwargs.get(\"endTimestamp\", 0)\n",
    "\n",
    "    data = (\n",
    "        await self.http.GetWithUnoID(\n",
    "            platform.value,\n",
    "            username,\n",
    "            title.value,\n",
    "            mode.value,\n",
    "            limit,\n",
    "            startTimestamp,\n",
    "            endTimestamp\n",
    "        )\n",
    "    )[\"data\"]\n",
    "\n",
    "    return data\n",
    "\n",
    "# let's add our additional methods into respective Classes, at runtime\n",
    "\n",
    "Client.GetMatchesWithUnoID = GetMatchesWithUnoID\n",
    "HTTP.GetWithUnoID = GetWithUnoID"
   ]
  },
  {
   "cell_type": "code",
   "execution_count": 19,
   "id": "ab24e774",
   "metadata": {},
   "outputs": [
    {
     "name": "stdout",
     "output_type": "stream",
     "text": [
      " sent request : \n",
      "api/papi-client/crm/cod/v2/title/mw/platform/uno/uno/12309926/matches/wz/start/0/end/0/details?limit=2\n",
      "{'matches': [{'draw': False,\n",
      "              'duration': 1657000,\n",
      "              'gameType': 'wz',\n",
      "              'map': 'mp_don4',\n",
      "              'matchID': '2604020260401454789',\n",
      "              'mode': 'br_brtrios',\n",
      "              'player': {...},\n",
      "              'playerCount': 151,\n",
      "              'playerStats': {...},\n",
      "              'playlistName': None,\n",
      "              'privateMatch': False,\n",
      "              'rankedTeams': None,\n",
      "              'teamCount': 51,\n",
      "              'utcEndSeconds': 1633229017,\n",
      "              'utcStartSeconds': 1633227360,\n",
      "              'version': 1},\n",
      "             {'draw': False,\n",
      "              'duration': 1626000,\n",
      "              'gameType': 'wz',\n",
      "              'map': 'mp_don4',\n",
      "              'matchID': '13089921240256125878',\n",
      "              'mode': 'br_brduos',\n",
      "              'player': {...},\n",
      "              'playerCount': 150,\n",
      "              'playerStats': {...},\n",
      "              'playlistName': None,\n",
      "              'privateMatch': False,\n",
      "              'rankedTeams': None,\n",
      "              'teamCount': 76,\n",
      "              'utcEndSeconds': 1633227906,\n",
      "              'utcStartSeconds': 1633226280,\n",
      "              'version': 1}],\n",
      " 'summary': {'all': {'assists': 6.0,\n",
      "                     'avgLifeTime': 706.25,\n",
      "                     'damageDone': 2656.0,\n",
      "                     'damageTaken': 1480.0,\n",
      "                     'deaths': 6.0,\n",
      "                     'distanceTraveled': 703964.0,\n",
      "                     'executions': 0.0,\n",
      "                     'gulagDeaths': 4.0,\n",
      "                     'gulagKills': 0.0,\n",
      "                     'headshotPercentage': 0.5,\n",
      "                     'headshots': 2.0,\n",
      "                     'kdRatio': 0.6666666666666666,\n",
      "                     'kills': 4.0,\n",
      "                     'killsPerGame': 2.0,\n",
      "                     'matchesPlayed': 2.0,\n",
      "                     'nearmisses': 0.0,\n",
      "                     'objectiveBrCacheOpen': 12.0,\n",
      "                     'objectiveBrDownEnemyCircle1': 4.0,\n",
      "                     'objectiveBrDownEnemyCircle4': 1.0,\n",
      "                     'objectiveBrKioskBuy': 6.0,\n",
      "                     'objectiveBrMissionPickupTablet': 6.0,\n",
      "                     'objectiveDestroyedEquipment': 2.0,\n",
      "                     'objectiveLastStandKill': 4.0,\n",
      "                     'objectiveMunitionsBoxTeammateUsed': 2.0,\n",
      "                     'objectiveReviver': 3.0,\n",
      "                     'objectiveTeamWiped': 2.0,\n",
      "                     'score': 10800.0,\n",
      "                     'scorePerMinute': 114.69026548672566,\n",
      "                     'timePlayed': 5650.0,\n",
      "                     'wallBangs': 0.0},\n",
      "             'br_brduos': {'assists': 3.0,\n",
      "                           'avgLifeTime': 872.0,\n",
      "                           'damageDone': 1944.0,\n",
      "                           'damageTaken': 598.0,\n",
      "                           'deaths': 2.0,\n",
      "                           'distanceTraveled': 318796.34,\n",
      "                           'executions': 0.0,\n",
      "                           'gulagDeaths': 1.0,\n",
      "                           'gulagKills': 0.0,\n",
      "                           'headshotPercentage': 0.5,\n",
      "                           'headshots': 2.0,\n",
      "                           'kdRatio': 2.0,\n",
      "                           'kills': 4.0,\n",
      "                           'killsPerGame': 4.0,\n",
      "                           'matchesPlayed': 1.0,\n",
      "                           'nearmisses': 0.0,\n",
      "                           'objectiveBrCacheOpen': 4.0,\n",
      "                           'objectiveBrDownEnemyCircle1': 4.0,\n",
      "                           'objectiveBrKioskBuy': 1.0,\n",
      "                           'objectiveBrMissionPickupTablet': 2.0,\n",
      "                           'objectiveDestroyedEquipment': 2.0,\n",
      "                           'objectiveLastStandKill': 3.0,\n",
      "                           'objectiveMunitionsBoxTeammateUsed': 1.0,\n",
      "                           'objectiveReviver': 2.0,\n",
      "                           'objectiveTeamWiped': 2.0,\n",
      "                           'score': 4625.0,\n",
      "                           'scorePerGame': 4625.0,\n",
      "                           'scorePerMinute': 106.07798165137613,\n",
      "                           'timePlayed': 2616.0,\n",
      "                           'wallBangs': 0.0},\n",
      "             'br_brtrios': {'assists': 3.0,\n",
      "                            'avgLifeTime': 606.8,\n",
      "                            'damageDone': 712.0,\n",
      "                            'damageTaken': 882.0,\n",
      "                            'deaths': 4.0,\n",
      "                            'distanceTraveled': 385167.66,\n",
      "                            'executions': 0.0,\n",
      "                            'gulagDeaths': 3.0,\n",
      "                            'gulagKills': 0.0,\n",
      "                            'headshotPercentage': 0.0,\n",
      "                            'headshots': 0.0,\n",
      "                            'kdRatio': 0.0,\n",
      "                            'kills': 0.0,\n",
      "                            'killsPerGame': 0.0,\n",
      "                            'matchesPlayed': 1.0,\n",
      "                            'nearmisses': 0.0,\n",
      "                            'objectiveBrCacheOpen': 8.0,\n",
      "                            'objectiveBrDownEnemyCircle4': 1.0,\n",
      "                            'objectiveBrKioskBuy': 5.0,\n",
      "                            'objectiveBrMissionPickupTablet': 4.0,\n",
      "                            'objectiveLastStandKill': 1.0,\n",
      "                            'objectiveMunitionsBoxTeammateUsed': 1.0,\n",
      "                            'objectiveReviver': 1.0,\n",
      "                            'score': 6175.0,\n",
      "                            'scorePerGame': 6175.0,\n",
      "                            'scorePerMinute': 122.11601845748187,\n",
      "                            'timePlayed': 3034.0,\n",
      "                            'wallBangs': 0.0}}}\n"
     ]
    }
   ],
   "source": [
    "# Now we can use our new method as if it was in the package ^_^\n",
    "matches_with_unoID = await client.GetMatchesWithUnoID(Platform.Activision, \"12309926\", Title.ModernWarfare, Mode.Warzone, limit=2)\n",
    "pprint(matches_with_unoID, depth=3)"
   ]
  },
  {
   "cell_type": "markdown",
   "id": "cf3cb358-5393-4b2c-b170-a5823d3f3c09",
   "metadata": {},
   "source": [
    "## Addon : Let's test the client using asyncronous features"
   ]
  },
  {
   "cell_type": "code",
   "execution_count": null,
   "id": "0e137343-faa4-4482-afe3-2d49d65056a2",
   "metadata": {},
   "outputs": [],
   "source": []
  }
 ],
 "metadata": {
  "kernelspec": {
   "display_name": "Python 3 (ipykernel)",
   "language": "python",
   "name": "python3"
  },
  "language_info": {
   "codemirror_mode": {
    "name": "ipython",
    "version": 3
   },
   "file_extension": ".py",
   "mimetype": "text/x-python",
   "name": "python",
   "nbconvert_exporter": "python",
   "pygments_lexer": "ipython3",
   "version": "3.9.5"
  }
 },
 "nbformat": 4,
 "nbformat_minor": 5
}
