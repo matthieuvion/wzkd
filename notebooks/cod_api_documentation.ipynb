{
 "cells": [
  {
   "cell_type": "markdown",
   "source": [
    "# COD private API through CallofDuty.py"
   ],
   "metadata": {
    "tags": []
   }
  },
  {
   "cell_type": "markdown",
   "source": [
    "As of September 2021"
   ],
   "metadata": {}
  },
  {
   "cell_type": "markdown",
   "source": [
    "---"
   ],
   "metadata": {}
  },
  {
   "cell_type": "markdown",
   "source": [
    "[Credits to github.com/EthanC](https://github.com/EthanC/CallofDuty.py) <br>For this well made Python client <br><br>\n",
    "> *\"CallofDuty.py is an asynchronous, object-oriented Python wrapper for the Call of Duty API.\"*"
   ],
   "metadata": {}
  },
  {
   "cell_type": "markdown",
   "source": [
    "#### Context & objectives"
   ],
   "metadata": {}
  },
  {
   "cell_type": "markdown",
   "source": [
    "In this notebook, we will test & learn how to use this **--non official, Call of Duty (COD) client to access players' stats**, with a strong inclination towards **Warzone**. <br>\n",
    "If you didn't know, *Warzone* is a free Battle Royale game, part of the Call of Duty universe, developped by Activision and played by dozen millions of people.<br>\n",
    "As a player (of Warzone or the more classic online multiplayers modes of the different COD games) you already have access to some stats (score, kills/deaths ratio, rank...) on [my.callofduty.com](https://my.callofduty.com/) but they're poorly put together.<br> \n",
    "Cause or consequence, this led to to the creation of a rich ecosytem of --often very popular, websites (cod tracker, wzranked...) promising progression trackers and in depth analysis to players. <br>\n",
    "As Activision is using a **\"private\" API** (with no support) on the callofduty.com website and the documentation is very sparse, **we will intend to explore and test the different functions & outputs offered by this wrapper to work with the API.**"
   ],
   "metadata": {
    "tags": []
   }
  },
  {
   "cell_type": "markdown",
   "source": [
    "#### Resources"
   ],
   "metadata": {}
  },
  {
   "cell_type": "markdown",
   "source": [
    "AFAIK, the most complete wrappers for COD api are this one and another written in NodeJS [(Github)](https://docs.codapi.dev/getting-started). <br>\n",
    "A good starting point if you want to get your hands dirty in COD stats would be to read both code. Besides, I would also recommend that you read the [documentation](https://docs.codapi.dev/getting-started) of the NodeJS wrapper as well as this [Postman resources](https://documenter.getpostman.com/view/5519582/SzzgAefq).<br>They will give you a good overall idea of which endpoints, authentification and data are at your disposal."
   ],
   "metadata": {}
  },
  {
   "cell_type": "markdown",
   "source": [
    "#### Install and run"
   ],
   "metadata": {
    "tags": []
   }
  },
  {
   "cell_type": "markdown",
   "source": [
    "Personal preferences here but I'm using miniconda (conda) as a environment manager (could be pyenv etc.) and Poetry for dependency managing and packaging. <br>\n",
    "In my conda environment I have Python 3.9 (needed for the client), Jupyter and Poetry installed.\n",
    "1. Create a new project with `poetry new your_project_name` or, if you have already a pre-populated directory, `cd your_existing_project` and then `poetry init`. Cf. [Poetry documentation](https://python-poetry.org/docs/)\n",
    "2. Install the Call of Duty client : `poetry add callofduty.py`. Poetry will make sure to install all the requirements.\n",
    "3. Run this notebook : `poetry run jupyter lab`, or `poetry shell` to start a new shell and then `jupyter lab` in the newly opened terminal.\n",
    "This will ensure you have access to all dependencies, in a custom and clean environment, thus callofduty.py and the notebook perfectly"
   ],
   "metadata": {}
  },
  {
   "cell_type": "markdown",
   "source": [
    "## Client & COD API"
   ],
   "metadata": {
    "tags": []
   }
  },
  {
   "cell_type": "code",
   "execution_count": 1,
   "source": [
    "import asyncio\n",
    "import os\n",
    "import dotenv\n",
    "from pprint import pprint\n",
    "import callofduty\n",
    "from callofduty import Mode, Platform, Title, TimeFrame, GameType"
   ],
   "outputs": [],
   "metadata": {}
  },
  {
   "cell_type": "markdown",
   "source": [
    "### Login to the API"
   ],
   "metadata": {}
  },
  {
   "cell_type": "markdown",
   "source": [
    "Two ways to authenticate to COD API. Once you're logged in, you will have access to either private (your info) or protected routes that may supply data for any given user. [Postman](https://docs.codapi.dev/getting-started) to further know what's happening under the hood. <br> 1. Login & password with `callofduty.Login(activision_email, pwd)`. I think it doesn't work anymore since Activision added a reCaptcha (but seems to be doable with the [NodeJS package](https://docs.codapi.dev/getting-started) that's using puppeteers + a plugin to bypass it).<br>2. Single Sign On (sso) `callofduty.Login(SSO_TOKEN)` added recently, that uses a SSO token you get while logging to Activision through your platform of choice (Bnet, Xbox, PS)."
   ],
   "metadata": {}
  },
  {
   "cell_type": "code",
   "execution_count": 2,
   "source": [
    "# Using SSO\n",
    "# We're storing our SSO token in an .env file stored locally to separate our config from code (w. python-dotenv). An.env-template file (with help to retrieve token) is provided for you to edit and populate the variable(s)\n",
    "# callofduty.py client .Login() goes through all the authentification steps and initiate a session to access protected routes\n",
    "# The client is asynchronous thus the 'await style'\n",
    "from dotenv import load_dotenv\n",
    "load_dotenv()\n",
    "client = await callofduty.Login(sso=os.environ[\"SSO\"])"
   ],
   "outputs": [],
   "metadata": {}
  },
  {
   "cell_type": "markdown",
   "source": [
    "### COD universe API, endpoints & client"
   ],
   "metadata": {}
  },
  {
   "cell_type": "markdown",
   "source": [
    "COD ecosystem is indeed diverse :\n",
    "- You can have access to one or multiple titles (*Modern Warfare*, *Black Ops Cold War* ...)\n",
    "- playable locally or more likely online multiplayer\n",
    "- within every game, several 'modes', e.g the the 'Battle Royale' *Warzone*, also with different maps (called 'modes' also :p)\n",
    "- through multiple platforms, depending on the game (Steam, Battle Net, Xbox Live...)"
   ],
   "metadata": {}
  },
  {
   "cell_type": "markdown",
   "source": [
    "Players need to have enabled their visibility to 'on' (obvs. off by default) in their settings so their profile is searchable.<br>\n",
    "The way the Activision API works is that you generally need to specify, for any given player's, its gamertag associated to a given platform and then the title/mode/sub you want to get data from (a player can have two different gamertags whether he is using BattleNet or Playstation Live).<br>\n",
    "For in-depth access to player's stats, one generally needs to specify the Platform (e.g. Activision), Title (e.g. Modern Warfare) and the Mode (e.g. multiplayer)<br>\n",
    "Since it's our focus here, once we identified a player by his gamertag & associated platform, we will usually specify `title = modernwarfare` and `mode = warzone` as Warzone is a free mode developped within the Modern Warfare engine and thus organized this way in the API.<br>\n",
    "Luckily for us the python wrapper handles the naming in an enums.py file (`Mode, Platform...`) to build the endpoints smoothly, as well as objects/classes (`client.py, match.py, player.py,...`) to work with."
   ],
   "metadata": {}
  },
  {
   "cell_type": "markdown",
   "source": [
    "Example of a GET request built in the client to access the API : <br>\n",
    "Cf. [Postman](https://docs.codapi.dev/getting-started) for details about API's versions & path variables as well as differences between between private, protected and public routes"
   ],
   "metadata": {}
  },
  {
   "cell_type": "markdown",
   "source": [
    "> `Request(\"GET\",f\"api/papi-client/leaderboards/v2/title/{title}/platform/{platform}/time/{timeFrame}/type/{gameType}/mode/{gameMode}/page/{page}\",)`"
   ],
   "metadata": {}
  },
  {
   "cell_type": "markdown",
   "source": [
    "### Client architecture & (some) useful methods"
   ],
   "metadata": {}
  },
  {
   "cell_type": "markdown",
   "source": [
    "The table below is quite complete but not exhaustive, took long enough to do ^_^ <br>\n",
    "Mainly a good way to have the big picture on protected/public routes, useful to gather player Stats.<br>\n",
    "As mentioned on Postman, routes are either private, public or protected; this will be our plan when we explore the API. <br>"
   ],
   "metadata": {}
  },
  {
   "cell_type": "code",
   "execution_count": 3,
   "source": [
    "# Do not like when my md table is not aligned to the left\n",
    "from IPython.core.display import HTML\n",
    "table_css = 'table {align:left;display:block} '\n",
    "HTML('<style>{}</style>'.format(table_css))"
   ],
   "outputs": [
    {
     "output_type": "execute_result",
     "data": {
      "text/html": [
       "<style>table {align:left;display:block} </style>"
      ],
      "text/plain": [
       "<IPython.core.display.HTML object>"
      ]
     },
     "metadata": {},
     "execution_count": 3
    }
   ],
   "metadata": {}
  },
  {
   "cell_type": "markdown",
   "source": [
    "What you can use | ...depends on .py |     ...depends on .py| ... where it does that call to COD API (https://my.callofduty.com/api.papi-client/.)\n",
    ":-------------|:--------------|:------------------|:------------------------------------\n",
    "client.GetPlayer|*returns Player*||\n",
    "client.SearchPlayers|http.SearchPlayer||crm/cod/v2/platform/platform/username/username/search\n",
    "client.GetPlayerProfile|http.GetPlayerProfile||stats/cod/v1/title/title/platform/platform/gamer/username/profile/type/mode\n",
    "client.GetPlayerMatches   -- if user platform = Activision |http.GetPlayerMatchesDetailed||crm/cod/v2/title/title/platform/platform/gamer/username/matches/mode/start/startTime/end/endTime/details?limit=limit\n",
    "client.GetPlayerMatches   -- if user platform = Bnet etc.. |http.GetPlayerMatches||crm/cod/v2/title/title/platform/platform/gamer/username/matches/mode/start/startTime/end/endTime?limit=limit\n",
    "client.GetPlayerMatchesSummary|http.GetPlayerMatchesDetailed||crm/cod/v2/title/title/platform/platform/gamer/username/matches/mode/start/startTime/end/endTime/details?limit=limit\n",
    "client.GetMatchDetails|http.GetMatch||ce/v1/title/title/platform/platform/match/matchId/matchMapEvents\n",
    "client.GetMatch|*returns Match*||\n",
    "client.GetFullMatch|http.GetFullMatch||crm/cod/v2/title/title/platform/platform/fullMatch/mode/matchId/language\n",
    "*The preferred matches endpoint does not support Activision (uno) platform*|*should use (cf. postman):*||crm/cod/v2/title/title/platform/platform/uno/username/matches/mode/start/startTime/end/endTime/details?limit=limit\n",
    "*re. getMatch endpoint matchMapEvents is for multiplayer only (no Warzone)*|||\n",
    "*Others: GetMyFriends etc*|||\n",
    "---|---||\n",
    "player.profile |client.GetPlayerProfile|http.GetPlayerProfile|stats/cod/v1/title/title/platform/platform/gamer/username/profile/type/mode\n",
    "player.matchesSummary|client.GetPlayerMatchesSummary|http.GetPlayerMatchesDetailed|crm/cod/v2/title/title/platform/platform/gamer/username/matches/mode/startTime/start/end/endTime/details?limit=limit\n",
    "player.matches |client.GetPlayerMatches|http.GetPlayerMatches|crm/cod/v2/title/title/platform/platform/gamer/username/matches/mode/startTime/start/end/endTime}?limit=limit\n",
    "*+ player.loadouts, player.loadoutUnlocks...*|||\n",
    "---|---||\n",
    "match.teams|client.GetMatchTeams||ce/v1/title/title/platform/platform/match/matchId/matchMapEvents\n",
    "match.details|client.GetMatchDetails||ce/v1/title/title/platform/platform/match/matchId/matchMapEvents\n",
    "*Endpoint matchMapEvents works for multiplayer only (no Warzone)*|||"
   ],
   "metadata": {
    "tags": []
   }
  },
  {
   "cell_type": "markdown",
   "source": [
    "## Private routes"
   ],
   "metadata": {
    "tags": []
   }
  },
  {
   "cell_type": "markdown",
   "source": [
    "Not our focus here but once logged in, you have access to private routes related to you own account (only) e.g. your friends' profiles (`client.GetMyFriends()`) and activity, account search visibility, used platform (e.g. Battlenet), identifiers linked to your Activision account etc. <br>\n",
    "Cf. the test.py where ethanC have listed all the methods available in his client."
   ],
   "metadata": {}
  },
  {
   "cell_type": "code",
   "execution_count": 4,
   "source": [
    "# For instance the .GetMyFriends() method, build the private endpoint to retrieve your friends statuses, using the authenticated client (personal credendials & associated gamertag).\n",
    "friends = await client.GetMyFriends()\n",
    "for friend in friends:\n",
    "    print(f\"{friend.username}, Online: {friend.online}\")"
   ],
   "outputs": [
    {
     "output_type": "stream",
     "name": "stdout",
     "text": [
      "chrissou#9246578, Online: False\n",
      "Marmiton#4932812, Online: False\n",
      "Moinolol#4713832, Online: False\n",
      "nicoyzovitch#7591470, Online: False\n",
      "ninjawariorbob#7568880, Online: False\n",
      "Confetti_Seeker#1916728, Online: False\n"
     ]
    }
   ],
   "metadata": {}
  },
  {
   "cell_type": "code",
   "execution_count": 5,
   "source": [
    "# Here, the client nicely returns a list of dict w. friends' info (client's code indicates the COD API usually returns json or txt)\n",
    "pprint(friends[0].__dict__)"
   ],
   "outputs": [
    {
     "output_type": "stream",
     "name": "stdout",
     "text": [
      "{'_client': <callofduty.client.Client object at 0x7f5d4867c760>,\n",
      " 'accountId': '1722124035977126995',\n",
      " 'avatarUrl': None,\n",
      " 'identities': [],\n",
      " 'online': False,\n",
      " 'platform': <Platform.Activision: 'uno'>,\n",
      " 'username': 'chrissou#9246578'}\n"
     ]
    }
   ],
   "metadata": {}
  },
  {
   "cell_type": "markdown",
   "source": [
    "## Public routes"
   ],
   "metadata": {
    "tags": []
   }
  },
  {
   "cell_type": "markdown",
   "source": [
    "Routes you can access without authentification. Mostly the leaderboards for COD classic ultiplayer modes (MW, BO4), as well as maps & modes available for multiplayer.<br>"
   ],
   "metadata": {}
  },
  {
   "cell_type": "markdown",
   "source": [
    "#### Leaderboards"
   ],
   "metadata": {}
  },
  {
   "cell_type": "markdown",
   "source": [
    "Global ranking of players by their score, kills, kills deaths (kd) ratios etc.<br>\n",
    "Searched a lot and in every manner possible but Warzone leaderboard (you can see in in-game :-p) endpoint is protected/out of my reach.<br>\n",
    "Still, an ex. on how to get the leaderboard from the \"Cyber\" mode in COD Modern Warfare. The client return a leaderboard object, with entries (players) you can also dive into :"
   ],
   "metadata": {}
  },
  {
   "cell_type": "code",
   "execution_count": 6,
   "source": [
    "leaderboard = await client.GetLeaderboard(title=Title.ModernWarfare, platform=Platform.BattleNet, gameType=GameType.Core, gameMode=\"cyber\", timeFrame=TimeFrame.AllTime, page=1)\n",
    "pprint(leaderboard.__dict__, depth=1)\n",
    "print('\\n entries:')\n",
    "for entry in leaderboard.entries[:3]:\n",
    "    print(f\"{entry.rank}: {entry.username} ({entry.platform.name})\")"
   ],
   "outputs": [
    {
     "output_type": "stream",
     "name": "stdout",
     "text": [
      "{'_client': <callofduty.client.Client object at 0x7f5d4867c760>,\n",
      " 'columns': [...],\n",
      " 'entries': [...],\n",
      " 'gameMode': 'cyber',\n",
      " 'gameType': <GameType.Core: 'core'>,\n",
      " 'page': 1,\n",
      " 'pages': 407504,\n",
      " 'platform': <Platform.BattleNet: 'battle'>,\n",
      " 'timeFrame': <TimeFrame.AllTime: 'alltime'>,\n",
      " 'title': <Title.ModernWarfare: 'mw'>}\n",
      "\n",
      " entries:\n",
      "1: 小赵同学#1148917 (BattleNet)\n",
      "2: BrattySis#6834874 (BattleNet)\n",
      "3: RNYNN#6664890 (BattleNet)\n"
     ]
    }
   ],
   "metadata": {}
  },
  {
   "cell_type": "markdown",
   "source": [
    "In the client other methods that access public routes are available such as `.GetPlayerLeaderboard()` (returns the leadeboard'page for a particular user; no Warzone) and `.GetFullMatch()` (Wz compatible)"
   ],
   "metadata": {}
  },
  {
   "cell_type": "markdown",
   "source": [
    "<a id='go_match'></a>"
   ],
   "metadata": {}
  },
  {
   "cell_type": "markdown",
   "source": [
    "#### Match details : match/players stats given a certain MatchId"
   ],
   "metadata": {}
  },
  {
   "cell_type": "markdown",
   "source": [
    "Get detailed stats about a match given a match ID, (moderwarfare/multiplayer or modernware/Warzone etc.)"
   ],
   "metadata": {}
  },
  {
   "cell_type": "code",
   "execution_count": 7,
   "source": [
    "# w. matchID taken from the Postman example. In this case a battle royale (Warzone) game with 145 players organizezd in teams of 4 (squads).\n",
    "match = await client.GetFullMatch(Platform.Activision, Title.ModernWarfare, Mode.Warzone, matchId=11763015911965617014)"
   ],
   "outputs": [],
   "metadata": {}
  },
  {
   "cell_type": "markdown",
   "source": [
    "Returns a dict with a list of dict, every dict being a player-and-his-stats (here 145).<br>\n",
    "In this match : 145 players, organized in teams of 4 ('br squad').<br>\n",
    "Our selected player had 0 kills (playerStats.kills), 2 deathes (playerStats.deaths) and was moving 87% of the time (.percentTimeMoving) and the whole team ranked 31 (.teamPlacement)"
   ],
   "metadata": {}
  },
  {
   "cell_type": "code",
   "execution_count": 8,
   "source": [
    "# One given player stats among the 145 (note: should be 37 x 4 = 148 players initially).\n",
    "pprint(match['allPlayers'][2], depth=2)"
   ],
   "outputs": [
    {
     "output_type": "stream",
     "name": "stdout",
     "text": [
      "{'draw': False,\n",
      " 'duration': 1634000,\n",
      " 'gameType': 'wz',\n",
      " 'map': 'mp_don3',\n",
      " 'matchID': '11763015911965617014',\n",
      " 'mode': 'br_brquads',\n",
      " 'player': {'awards': {},\n",
      "            'brMissionStats': {...},\n",
      "            'loadout': [...],\n",
      "            'rank': 54.0,\n",
      "            'team': 'team_twenty_four',\n",
      "            'uno': '17641839849440527637',\n",
      "            'username': 'stuckinatrap'},\n",
      " 'playerCount': 145,\n",
      " 'playerStats': {'assists': 0.0,\n",
      "                 'bonusXp': 0.0,\n",
      "                 'challengeXp': 0.0,\n",
      "                 'damageDone': 237.0,\n",
      "                 'damageTaken': 344.0,\n",
      "                 'deaths': 2.0,\n",
      "                 'distanceTraveled': 277414.28,\n",
      "                 'executions': 0.0,\n",
      "                 'gulagDeaths': 1.0,\n",
      "                 'gulagKills': 0.0,\n",
      "                 'headshots': 0.0,\n",
      "                 'kdRatio': 0.0,\n",
      "                 'kills': 0.0,\n",
      "                 'longestStreak': 1.0,\n",
      "                 'matchXp': 2395.0,\n",
      "                 'medalXp': 0.0,\n",
      "                 'miscXp': 0.0,\n",
      "                 'nearmisses': 0.0,\n",
      "                 'objectiveBrCacheOpen': 5.0,\n",
      "                 'objectiveBrKioskBuy': 1.0,\n",
      "                 'objectiveBrMissionPickupTablet': 1.0,\n",
      "                 'objectiveLastStandKill': 1.0,\n",
      "                 'percentTimeMoving': 87.15596,\n",
      "                 'rank': 54.0,\n",
      "                 'score': 1575.0,\n",
      "                 'scorePerMinute': 230.48780487804876,\n",
      "                 'scoreXp': 2125.0,\n",
      "                 'teamPlacement': 31.0,\n",
      "                 'teamSurvivalTime': 324432.0,\n",
      "                 'timePlayed': 410.0,\n",
      "                 'totalXp': 4520.0,\n",
      "                 'wallBangs': 0.0},\n",
      " 'playlistName': None,\n",
      " 'privateMatch': False,\n",
      " 'rankedTeams': None,\n",
      " 'teamCount': 37,\n",
      " 'utcEndSeconds': 1617762401,\n",
      " 'utcStartSeconds': 1617760767,\n",
      " 'version': 1}\n"
     ]
    }
   ],
   "metadata": {}
  },
  {
   "cell_type": "markdown",
   "source": [
    "## Protected routes"
   ],
   "metadata": {
    "tags": []
   }
  },
  {
   "cell_type": "markdown",
   "source": [
    "Authentification is mandatory to access those. Good thing is that you can retrieve data for other players (w. visibility setting turned ON)"
   ],
   "metadata": {}
  },
  {
   "cell_type": "markdown",
   "source": [
    "### Player search"
   ],
   "metadata": {
    "tags": []
   }
  },
  {
   "cell_type": "markdown",
   "source": [
    "One can play Warzone through PlayStation, PC (BattleNet) or Xbox (also, cross play), hence the username being tied to a platform when searching.<br>\n",
    "Activision allows to change its own in-game username once in a while (3 months I believe). <br>\n",
    "Players can share the same name, they differentiate with ending numbers (6 digits for Activision, 4 for Bnet). Max number of players returbed by the COD API is 20.<br>\n",
    "The client return a list of `player` objects"
   ],
   "metadata": {}
  },
  {
   "cell_type": "code",
   "execution_count": 9,
   "source": [
    "# For instance, my in-game --changed, username is gentil_renard, I can retrieve it with platform = Activision (translates into 'Uno' when the client builds the route)\n",
    "results = await client.SearchPlayers(Platform.Activision, \"gentil_renard\")\n",
    "for player in results:\n",
    "    print(f\"{player.username} ({player.platform.name})\")\n",
    "\n",
    "# but though I'm playing via Bnet, can't retrieve if I set platform = Bnet\n",
    "results = await client.SearchPlayers(Platform.BattleNet, \"gentil_renard\")\n",
    "for player in results:\n",
    "    print(f\"{player.username} ({player.platform.name})\")\n",
    "\n",
    "# Only works if I use my Bnet gamertag\n",
    "results = await client.SearchPlayers(Platform.BattleNet, \"AMADEVS#1689\")\n",
    "for player in results:\n",
    "    print(f\"{player.username} ({player.platform.name})\")   "
   ],
   "outputs": [
    {
     "output_type": "stream",
     "name": "stdout",
     "text": [
      "gentil_renard#3391079 (Activision)\n",
      "Amadevs#1689 (BattleNet)\n"
     ]
    }
   ],
   "metadata": {}
  },
  {
   "cell_type": "code",
   "execution_count": 10,
   "source": [
    "# A friend of mine uses a PlayStation\n",
    "results = await client.SearchPlayers(Platform.PlayStation, \"Nicoyzovitch\")\n",
    "for player in results:\n",
    "    print(f\"{player.username} ({player.platform.name})\")\n",
    "\n",
    "# Can also retrieve his name via Activision has he never changed his name.\n",
    "results = await client.SearchPlayers(Platform.Activision, \"Nicoyzovitch\")\n",
    "for player in results:\n",
    "    print(f\"{player.username} ({player.platform.name})\")"
   ],
   "outputs": [
    {
     "output_type": "stream",
     "name": "stdout",
     "text": [
      "nicoyzovitch (PlayStation)\n",
      "nicoyzovitch#7591470 (Activision)\n"
     ]
    }
   ],
   "metadata": {}
  },
  {
   "cell_type": "code",
   "execution_count": 11,
   "source": [
    "# Striking example with 'Huskerrs' (a popular pro player) wannabes . \n",
    "# Good thing Activision has an authenticity stamp you can retrieve with player name and phrase (cf. .authenticityStamp in the client)\n",
    "res = []\n",
    "for platform in [Platform.Activision, Platform.BattleNet]:\n",
    "    res.extend(await client.SearchPlayers(Platform.Activision, \"HusKerrs\"))\n",
    "\n",
    "for player in res:\n",
    "    print(f\"{player.username} ({player.platform.name})\")"
   ],
   "outputs": [
    {
     "output_type": "stream",
     "name": "stdout",
     "text": [
      "Huskerrs (Activision)\n",
      "HusKerrs#1009786 (Activision)\n",
      "HusKerrs#1088477 (Activision)\n",
      "HusKerrs#3209982 (Activision)\n",
      "HusKerrs#4249229 (Activision)\n",
      "HusKerrs#4780912 (Activision)\n",
      "HusKerrs#5139476 (Activision)\n",
      "HusKerrs#7232956 (Activision)\n",
      "HusKerrs#7631054 (Activision)\n",
      "HusKerrs#8490490 (Activision)\n",
      "HusKerrs#8638305 (Activision)\n",
      "HusKerrs#8653257 (Activision)\n",
      "HusKerrs#9624907 (Activision)\n",
      "HusKerrs#9783265 (Activision)\n",
      "Huskerrs#2032932 (Activision)\n",
      "Huskerrs#2058640 (Activision)\n",
      "Huskerrs#3542853 (Activision)\n",
      "Huskerrs#7010480 (Activision)\n",
      "Huskerrs#8797872 (Activision)\n",
      "Huskerrs#9357694 (Activision)\n",
      "huskerrs#6821860 (Activision)\n",
      "Huskerrs (Activision)\n",
      "HusKerrs#1009786 (Activision)\n",
      "HusKerrs#1088477 (Activision)\n",
      "HusKerrs#3209982 (Activision)\n",
      "HusKerrs#4249229 (Activision)\n",
      "HusKerrs#4780912 (Activision)\n",
      "HusKerrs#5139476 (Activision)\n",
      "HusKerrs#7232956 (Activision)\n",
      "HusKerrs#7631054 (Activision)\n",
      "HusKerrs#8490490 (Activision)\n",
      "HusKerrs#8638305 (Activision)\n",
      "HusKerrs#8653257 (Activision)\n",
      "HusKerrs#9624907 (Activision)\n",
      "HusKerrs#9783265 (Activision)\n",
      "Huskerrs#2032932 (Activision)\n",
      "Huskerrs#2058640 (Activision)\n",
      "Huskerrs#3542853 (Activision)\n",
      "Huskerrs#7010480 (Activision)\n",
      "Huskerrs#8797872 (Activision)\n",
      "Huskerrs#9357694 (Activision)\n",
      "huskerrs#6821860 (Activision)\n"
     ]
    }
   ],
   "metadata": {}
  },
  {
   "cell_type": "markdown",
   "source": [
    "### Player Warzone profile"
   ],
   "metadata": {
    "tags": []
   }
  },
  {
   "cell_type": "markdown",
   "source": [
    "A built in the client, two ways (same endpoint) : client.GetPlayerProfile or through player.profile <br>\n",
    "Two main keys in the result sent back by the API : \"lifetime\" and \"weekly\". Self explanatory. <br>\n",
    "TO BE DONE  Among the available stats + any difference between multiplayer and warzone mode ? + focus on certain values <br>\n",
    "dict['level'] : Lifetime level of the Player (ModernWarfare & Warzone) <br>\n"
   ],
   "metadata": {}
  },
  {
   "cell_type": "markdown",
   "source": [
    "##### Profile using client.GetPlayerProfile"
   ],
   "metadata": {
    "tags": []
   }
  },
  {
   "cell_type": "code",
   "execution_count": 12,
   "source": [
    "# Parameters : platform, username, title, mode\n",
    "# Endpoint : stats/cod/v1/title/title/platform/platform/gamer/username/profile/type/mode\n",
    "profile_using_client = await client.GetPlayerProfile(Platform.BattleNet, \"AMADEVS#1689\", Title.ModernWarfare, Mode.Warzone)\n",
    "pprint(profile_using_client, depth=3)"
   ],
   "outputs": [
    {
     "output_type": "stream",
     "name": "stdout",
     "text": [
      "{'engagement': None,\n",
      " 'level': 342.0,\n",
      " 'levelXpGained': 16604.0,\n",
      " 'levelXpRemainder': 26296.0,\n",
      " 'lifetime': {'accoladeData': {'properties': {...}},\n",
      "              'all': {'properties': {...}},\n",
      "              'itemData': {'lethals': {...},\n",
      "                           'supers': {...},\n",
      "                           'tacticals': {...},\n",
      "                           'weapon_assault_rifle': {...},\n",
      "                           'weapon_launcher': {...},\n",
      "                           'weapon_lmg': {...},\n",
      "                           'weapon_marksman': {...},\n",
      "                           'weapon_melee': {...},\n",
      "                           'weapon_other': {...},\n",
      "                           'weapon_pistol': {...},\n",
      "                           'weapon_shotgun': {...},\n",
      "                           'weapon_smg': {...},\n",
      "                           'weapon_sniper': {...}},\n",
      "              'map': {},\n",
      "              'mode': {'arena': {...},\n",
      "                       'arm': {...},\n",
      "                       'br': {...},\n",
      "                       'br_all': {...},\n",
      "                       'br_dmz': {...},\n",
      "                       'conf': {...},\n",
      "                       'cyber': {...},\n",
      "                       'dom': {...},\n",
      "                       'grnd': {...},\n",
      "                       'gun': {...},\n",
      "                       'hc_conf': {...},\n",
      "                       'hc_cyber': {...},\n",
      "                       'hc_dom': {...},\n",
      "                       'hc_hq': {...},\n",
      "                       'hc_sd': {...},\n",
      "                       'hc_war': {...},\n",
      "                       'hq': {...},\n",
      "                       'infect': {...},\n",
      "                       'koth': {...},\n",
      "                       'sd': {...},\n",
      "                       'war': {...}},\n",
      "              'scorestreakData': {'lethalScorestreakData': {...},\n",
      "                                  'supportScorestreakData': {...}}},\n",
      " 'maxLevel': 1.0,\n",
      " 'maxPrestige': 0.0,\n",
      " 'p': 0.0,\n",
      " 'paragonId': 0.0,\n",
      " 'paragonRank': 0.0,\n",
      " 'platform': 'battle',\n",
      " 'prestige': 23.0,\n",
      " 'prestigeId': 0.0,\n",
      " 's': 0.0,\n",
      " 'title': 'mw',\n",
      " 'totalXp': 1325315.0,\n",
      " 'type': 'wz',\n",
      " 'username': 'AMADEVS#1689',\n",
      " 'weekly': {'all': {'properties': {...}},\n",
      "            'map': {},\n",
      "            'mode': {'br_all': {...},\n",
      "                     'br_brduos': {...},\n",
      "                     'br_brtrios': {...},\n",
      "                     'br_dmz_plndtrios': {...},\n",
      "                     'br_dmz_plunquad': {...}}}}\n"
     ]
    }
   ],
   "metadata": {}
  },
  {
   "cell_type": "markdown",
   "source": [
    "##### Profile using player.profile"
   ],
   "metadata": {}
  },
  {
   "cell_type": "code",
   "execution_count": 13,
   "source": [
    "# Getting player object first, as defined in player.py\n",
    "# Parameters : platform, username\n",
    "player = await client.GetPlayer(Platform.BattleNet, \"AMADEVS#1689\")\n",
    "print(f\"{player.username} ({player.platform.name})\")\n",
    "\n",
    "# then, calling the .profile method\n",
    "# Parameters : title, mode\n",
    "# Endpoint : stats/cod/v1/title/title/platform/platform/gamer/username/profile/type/mode\n",
    "profile_using_player = await player.profile(Title.ModernWarfare, Mode.Multiplayer)\n",
    "pprint(profile_using_player, depth=2)"
   ],
   "outputs": [
    {
     "output_type": "stream",
     "name": "stdout",
     "text": [
      "AMADEVS#1689 (BattleNet)\n",
      "{'engagement': None,\n",
      " 'level': 342.0,\n",
      " 'levelXpGained': 16604.0,\n",
      " 'levelXpRemainder': 26296.0,\n",
      " 'lifetime': {'accoladeData': {...},\n",
      "              'all': {...},\n",
      "              'itemData': {...},\n",
      "              'map': {},\n",
      "              'mode': {...},\n",
      "              'scorestreakData': {...}},\n",
      " 'maxLevel': 1.0,\n",
      " 'maxPrestige': 0.0,\n",
      " 'p': 0.0,\n",
      " 'paragonId': 0.0,\n",
      " 'paragonRank': 0.0,\n",
      " 'platform': 'battle',\n",
      " 'prestige': 23.0,\n",
      " 'prestigeId': 0.0,\n",
      " 's': 0.0,\n",
      " 'title': 'mw',\n",
      " 'totalXp': 1325315.0,\n",
      " 'type': 'mp',\n",
      " 'username': 'AMADEVS#1689',\n",
      " 'weekly': {'all': {...}, 'map': {}, 'mode': {}}}\n"
     ]
    }
   ],
   "metadata": {}
  },
  {
   "cell_type": "markdown",
   "source": [
    "### Matches"
   ],
   "metadata": {}
  },
  {
   "cell_type": "markdown",
   "source": [
    "Retrieve Player's last Matchs IDs.<br>\n",
    "If you remember well, you can then explore them with [Match Details](#go_match)"
   ],
   "metadata": {}
  },
  {
   "cell_type": "markdown",
   "source": [
    "##### Matches using client.GetPlayerMatches"
   ],
   "metadata": {}
  },
  {
   "cell_type": "code",
   "execution_count": 14,
   "source": [
    "# Parameters : platform, username, title, mode, start, end, limit\n",
    "# Endpoint if platform = Activision              : crm/cod/v2/title/title/platform/platform/gamer/username/matches/mode/start/startTime/end/endTime/details?limit=limit through method http.GetPlayerMatchesDetailed\n",
    "# Endpoint if platform = Bnet, PlayStation, Xbox : crm/cod/v2/title/title/platform/platform/gamer/username/matches/mode/startTime/start/end/endTime?limit=limit         through method http.GetPlayerMatches\n",
    "matches_using_client = await client.GetPlayerMatches(Platform.Activision, \"gentil_renard#3391079\", Title.ModernWarfare, Mode.Warzone, limit=2)\n",
    "for match in matches_using_client:\n",
    "    pprint(match.__dict__)"
   ],
   "outputs": [
    {
     "output_type": "stream",
     "name": "stdout",
     "text": [
      "{'_client': <callofduty.client.Client object at 0x7f5d4867c760>,\n",
      " 'id': 2211408002633668103,\n",
      " 'platform': <Platform.Activision: 'uno'>,\n",
      " 'title': <Title.ModernWarfare: 'mw'>}\n",
      "{'_client': <callofduty.client.Client object at 0x7f5d4867c760>,\n",
      " 'id': 16537572767072863865,\n",
      " 'platform': <Platform.Activision: 'uno'>,\n",
      " 'title': <Title.ModernWarfare: 'mw'>}\n"
     ]
    }
   ],
   "metadata": {}
  },
  {
   "cell_type": "markdown",
   "source": [
    "##### Matches using player.matches"
   ],
   "metadata": {
    "tags": []
   }
  },
  {
   "cell_type": "code",
   "execution_count": 15,
   "source": [
    "# Getting player object first, as defined in player.py\n",
    "# Parameters : platform, username\n",
    "player = await client.GetPlayer(Platform.BattleNet, \"AMADEVS#1689\")\n",
    "print(f\"{player.username} ({player.platform.name})\")\n",
    "\n",
    "# then, calling the .matches method\n",
    "# Parameters : title, mode, start, end, limit\n",
    "# Endpoint if platform = Activision              : crm/cod/v2/title/title/platform/platform/gamer/username/matches/mode/start/startTime/end/endTime/details?limit=limit through method http.GetPlayerMatchesDetailed\n",
    "# Endpoint if platform = Bnet, PlayStation, Xbox : crm/cod/v2/title/title/platform/platform/gamer/username/matches/mode/startTime/start/end/endTime?limit=limit         through method http.GetPlayerMatches\n",
    "# Returns a [n match objects]\n",
    "matches_using_player = await player.matches(Title.ModernWarfare, Mode.Warzone, limit=2)\n",
    "for match in matches_using_player:\n",
    "    pprint(match.__dict__)"
   ],
   "outputs": [
    {
     "output_type": "stream",
     "name": "stdout",
     "text": [
      "AMADEVS#1689 (BattleNet)\n",
      "{'_client': <callofduty.client.Client object at 0x7f5d4867c760>,\n",
      " 'id': 2211408002633668103,\n",
      " 'platform': <Platform.BattleNet: 'battle'>,\n",
      " 'title': <Title.ModernWarfare: 'mw'>}\n",
      "{'_client': <callofduty.client.Client object at 0x7f5d4867c760>,\n",
      " 'id': 16537572767072863865,\n",
      " 'platform': <Platform.BattleNet: 'battle'>,\n",
      " 'title': <Title.ModernWarfare: 'mw'>}\n"
     ]
    }
   ],
   "metadata": {}
  },
  {
   "cell_type": "markdown",
   "source": [
    "### Matches Summary"
   ],
   "metadata": {
    "tags": []
   }
  },
  {
   "cell_type": "markdown",
   "source": [
    "##### Summary using client.GetPlayesMatchesSummary"
   ],
   "metadata": {}
  },
  {
   "cell_type": "code",
   "execution_count": 16,
   "source": [
    "# Parameters : title, mode, limit\n",
    "# Endpoint : crm/cod/v2/title/title/platform/platform/gamer/username/matches/mode/start/startTime/end/endTime/details?limit=limit\n",
    "# Returns stats for n last matches, all + per type  br, plunder ...\n",
    "\n",
    "summary = await client.GetPlayerMatchesSummary(Platform.BattleNet, \"AMADEVS#1689\", Title.ModernWarfare, Mode.Warzone, limit=20)# does not work if I use player = await client.GetPlayer(Platform.Activision, \"gentil_renard\") cf. Postman 'Warzone by Uno ID' ?\n",
    "pprint(summary, depth=2)"
   ],
   "outputs": [
    {
     "output_type": "stream",
     "name": "stdout",
     "text": [
      "{'all': {'assists': 16.0,\n",
      "         'avgLifeTime': 486.9583333333333,\n",
      "         'damageDone': 25900.0,\n",
      "         'damageTaken': 12914.0,\n",
      "         'deaths': 76.0,\n",
      "         'distanceTraveled': 7602052.55,\n",
      "         'executions': 0.0,\n",
      "         'gulagDeaths': 11.0,\n",
      "         'gulagKills': 8.0,\n",
      "         'headshotPercentage': 0.3246753246753247,\n",
      "         'headshots': 25.0,\n",
      "         'kdRatio': 1.013157894736842,\n",
      "         'kills': 77.0,\n",
      "         'killsPerGame': 3.85,\n",
      "         'matchesPlayed': 20.0,\n",
      "         'nearmisses': 0.0,\n",
      "         'objectiveBrCacheOpen': 64.0,\n",
      "         'objectiveBrDownEnemyCircle1': 26.0,\n",
      "         'objectiveBrDownEnemyCircle2': 5.0,\n",
      "         'objectiveBrDownEnemyCircle4': 2.0,\n",
      "         'objectiveBrDownEnemyCircle5': 2.0,\n",
      "         'objectiveBrKioskBuy': 22.0,\n",
      "         'objectiveBrMissionPickupTablet': 19.0,\n",
      "         'objectiveDestroyedEquipment': 4.0,\n",
      "         'objectiveDestroyedVehicleMedium': 1.0,\n",
      "         'objectiveLastStandKill': 29.0,\n",
      "         'objectiveMunitionsBoxTeammateUsed': 4.0,\n",
      "         'objectiveReviver': 4.0,\n",
      "         'objectiveTeamWiped': 39.0,\n",
      "         'objectiveTrophyDefense': 1.0,\n",
      "         'score': 63075.0,\n",
      "         'scorePerMinute': 80.95533498759306,\n",
      "         'timePlayed': 46748.0,\n",
      "         'wallBangs': 0.0},\n",
      " 'br_brduos': {'assists': 1.0,\n",
      "               'avgLifeTime': 783.0,\n",
      "               'damageDone': 6364.0,\n",
      "               'damageTaken': 1967.0,\n",
      "               'deaths': 11.0,\n",
      "               'distanceTraveled': 1847866.87,\n",
      "               'executions': 0.0,\n",
      "               'gulagDeaths': 3.0,\n",
      "               'gulagKills': 3.0,\n",
      "               'headshotPercentage': 0.14285714285714285,\n",
      "               'headshots': 2.0,\n",
      "               'kdRatio': 1.2727272727272727,\n",
      "               'kills': 14.0,\n",
      "               'killsPerGame': 2.8,\n",
      "               'matchesPlayed': 5.0,\n",
      "               'nearmisses': 0.0,\n",
      "               'objectiveBrCacheOpen': 16.0,\n",
      "               'objectiveBrDownEnemyCircle1': 15.0,\n",
      "               'objectiveBrDownEnemyCircle2': 4.0,\n",
      "               'objectiveBrKioskBuy': 6.0,\n",
      "               'objectiveBrMissionPickupTablet': 5.0,\n",
      "               'objectiveDestroyedVehicleMedium': 1.0,\n",
      "               'objectiveLastStandKill': 9.0,\n",
      "               'objectiveReviver': 3.0,\n",
      "               'objectiveTeamWiped': 5.0,\n",
      "               'objectiveTrophyDefense': 1.0,\n",
      "               'score': 14175.0,\n",
      "               'scorePerGame': 2835.0,\n",
      "               'scorePerMinute': 67.88793103448275,\n",
      "               'timePlayed': 12528.0,\n",
      "               'wallBangs': 0.0},\n",
      " 'br_brtrios': {'assists': 7.0,\n",
      "                'avgLifeTime': 780.0333333333333,\n",
      "                'damageDone': 6111.0,\n",
      "                'damageTaken': 5528.0,\n",
      "                'deaths': 21.0,\n",
      "                'distanceTraveled': 3512392.1500000004,\n",
      "                'executions': 0.0,\n",
      "                'gulagDeaths': 8.0,\n",
      "                'gulagKills': 5.0,\n",
      "                'headshotPercentage': 0.29411764705882354,\n",
      "                'headshots': 5.0,\n",
      "                'kdRatio': 0.8095238095238095,\n",
      "                'kills': 17.0,\n",
      "                'killsPerGame': 1.8888888888888888,\n",
      "                'matchesPlayed': 9.0,\n",
      "                'nearmisses': 0.0,\n",
      "                'objectiveBrCacheOpen': 35.0,\n",
      "                'objectiveBrDownEnemyCircle1': 11.0,\n",
      "                'objectiveBrDownEnemyCircle2': 1.0,\n",
      "                'objectiveBrDownEnemyCircle4': 2.0,\n",
      "                'objectiveBrDownEnemyCircle5': 2.0,\n",
      "                'objectiveBrKioskBuy': 16.0,\n",
      "                'objectiveBrMissionPickupTablet': 14.0,\n",
      "                'objectiveLastStandKill': 8.0,\n",
      "                'objectiveMunitionsBoxTeammateUsed': 4.0,\n",
      "                'objectiveReviver': 1.0,\n",
      "                'objectiveTeamWiped': 5.0,\n",
      "                'score': 29900.0,\n",
      "                'scorePerGame': 3322.222222222222,\n",
      "                'scorePerMinute': 76.66339045339942,\n",
      "                'timePlayed': 23401.0,\n",
      "                'wallBangs': 0.0},\n",
      " 'br_dmz_plndtrios': {'assists': 8.0,\n",
      "                      'avgLifeTime': 216.38,\n",
      "                      'damageDone': 13425.0,\n",
      "                      'damageTaken': 5419.0,\n",
      "                      'deaths': 44.0,\n",
      "                      'distanceTraveled': 2241793.5300000003,\n",
      "                      'executions': 0.0,\n",
      "                      'headshotPercentage': 0.391304347826087,\n",
      "                      'headshots': 18.0,\n",
      "                      'kdRatio': 1.0454545454545454,\n",
      "                      'kills': 46.0,\n",
      "                      'killsPerGame': 7.666666666666667,\n",
      "                      'matchesPlayed': 6.0,\n",
      "                      'nearmisses': 0.0,\n",
      "                      'objectiveBrCacheOpen': 13.0,\n",
      "                      'objectiveDestroyedEquipment': 4.0,\n",
      "                      'objectiveLastStandKill': 12.0,\n",
      "                      'objectiveTeamWiped': 29.0,\n",
      "                      'score': 19000.0,\n",
      "                      'scorePerGame': 3166.6666666666665,\n",
      "                      'scorePerMinute': 105.37018208706905,\n",
      "                      'timePlayed': 10819.0,\n",
      "                      'wallBangs': 0.0}}\n"
     ]
    }
   ],
   "metadata": {}
  },
  {
   "cell_type": "markdown",
   "source": [
    "##### Summary using player.matchesSummary"
   ],
   "metadata": {}
  },
  {
   "cell_type": "code",
   "execution_count": 17,
   "source": [
    "# Getting player object first, as defined in player.py\n",
    "# Parameters : platform, username\n",
    "player = await client.GetPlayer(Platform.BattleNet, \"AMADEVS#1689\")\n",
    "print(f\"{player.username} ({player.platform.name})\")\n",
    "\n",
    "# then, calling the .matchesSummary method\n",
    "# Parameters : title, mode, limit\n",
    "# Endpoint : crm/cod/v2/title/title/platform/platform/gamer/username/matches/mode/start/startTime/end/endTime/details?limit=limit\n",
    "# Returns stats for n last matches, all + per type  br, plunder ...\n",
    "summary = await player.matchesSummary(Title.ModernWarfare, Mode.Warzone, limit=20) # does not work if I use player = await client.GetPlayer(Platform.Activision, \"gentil_renard\") cf. Postman Warzone by Uno ID ?\n",
    "pprint(summary, depth=1)"
   ],
   "outputs": [
    {
     "output_type": "stream",
     "name": "stdout",
     "text": [
      "AMADEVS#1689 (BattleNet)\n",
      "{'all': {...},\n",
      " 'br_brduos': {...},\n",
      " 'br_brtrios': {...},\n",
      " 'br_dmz_plndtrios': {...}}\n"
     ]
    }
   ],
   "metadata": {}
  },
  {
   "cell_type": "markdown",
   "source": [
    "## Addon - Let's add an extra method to the client so we can get data with an Activision ID (Uno ID)"
   ],
   "metadata": {}
  },
  {
   "cell_type": "markdown",
   "source": [
    "As listed on Postman, COD API has an another endpoint currently not used by the client.<br>\n",
    "I was curious whether or not it would give us anything different from other methods. <br>\n",
    "So below, we're adding additional methods in the Call of Duty .py client, without modifying the package. <br>\n",
    "The additional method return n matches stats (summary + details per match), similarly tp what you would get with client.GetPlayersMatchesDetailed.<br>\n",
    "Except it takes UnoID as a parameter e.g. 12309926 (different from Activision User ID e.g 'gentil_renard#3391079')"
   ],
   "metadata": {}
  },
  {
   "cell_type": "code",
   "execution_count": 18,
   "source": [
    "# Import the Class we want to modify, without touching the client's package\n",
    "\n",
    "from callofduty.client import Client\n",
    "from callofduty.http import HTTP\n",
    "from callofduty.http import Request\n",
    "import urllib.parse\n",
    "\n",
    "# define additonal method in callofduty.http HTTP Class\n",
    "# Endpoint extracted from Postman, currently not supported by the client (but not mandatory to be honest)\n",
    "\n",
    "async def GetWithUnoID(self, platform, username, title, mode, limit, startTimestamp, endTimeStamp):\n",
    "    print(f\" sent request : \\napi/papi-client/crm/cod/v2/title/{title}/platform/{platform}/uno/{urllib.parse.quote(username)}/matches/{mode}/start/{startTimestamp}/end/{endTimeStamp}/details?limit={limit}\")\n",
    "    return await self.Send(\n",
    "        Request(\n",
    "            \"GET\",\n",
    "            f\"api/papi-client/crm/cod/v2/title/{title}/platform/{platform}/uno/{urllib.parse.quote(username)}/matches/{mode}/start/{startTimestamp}/end/{endTimeStamp}/details?limit={limit}\",\n",
    "        )\n",
    "    )\n",
    "\n",
    "# define additional method in callofduty.client Client Class\n",
    "# We chose not to differentiate between 'summary'and 'matches\" entries when returning the results (aka return them both).\n",
    "\n",
    "async def GetMatchesWithUnoID(self, platform: Platform, username, title: Title, mode: Mode, **kwargs):\n",
    "    limit: int = kwargs.get(\"limit\", 10)\n",
    "    startTimestamp: int = kwargs.get(\"startTimestamp\", 0)\n",
    "    endTimestamp: int = kwargs.get(\"endTimestamp\", 0)\n",
    "\n",
    "    data = (\n",
    "        await self.http.GetWithUnoID(\n",
    "            platform.value,\n",
    "            username,\n",
    "            title.value,\n",
    "            mode.value,\n",
    "            limit,\n",
    "            startTimestamp,\n",
    "            endTimestamp\n",
    "        )\n",
    "    )[\"data\"]\n",
    "\n",
    "    return data\n",
    "\n",
    "# let's add our additional methods into respective Classes, at runtime\n",
    "\n",
    "Client.GetMatchesWithUnoID = GetMatchesWithUnoID\n",
    "HTTP.GetWithUnoID = GetWithUnoID"
   ],
   "outputs": [],
   "metadata": {}
  },
  {
   "cell_type": "code",
   "execution_count": 19,
   "source": [
    "matches_with_unoID = await client.GetMatchesWithUnoID(Platform.Activision, \"12309926\", Title.ModernWarfare, Mode.Warzone, limit=2)\n",
    "pprint(matches_with_unoID, depth=3)"
   ],
   "outputs": [
    {
     "output_type": "stream",
     "name": "stdout",
     "text": [
      " sent request : \n",
      "api/papi-client/crm/cod/v2/title/mw/platform/uno/uno/12309926/matches/wz/start/0/end/0/details?limit=2\n",
      "{'matches': [{'draw': False,\n",
      "              'duration': 1657000,\n",
      "              'gameType': 'wz',\n",
      "              'map': 'mp_don4',\n",
      "              'matchID': '2604020260401454789',\n",
      "              'mode': 'br_brtrios',\n",
      "              'player': {...},\n",
      "              'playerCount': 151,\n",
      "              'playerStats': {...},\n",
      "              'playlistName': None,\n",
      "              'privateMatch': False,\n",
      "              'rankedTeams': None,\n",
      "              'teamCount': 51,\n",
      "              'utcEndSeconds': 1633229017,\n",
      "              'utcStartSeconds': 1633227360,\n",
      "              'version': 1},\n",
      "             {'draw': False,\n",
      "              'duration': 1626000,\n",
      "              'gameType': 'wz',\n",
      "              'map': 'mp_don4',\n",
      "              'matchID': '13089921240256125878',\n",
      "              'mode': 'br_brduos',\n",
      "              'player': {...},\n",
      "              'playerCount': 150,\n",
      "              'playerStats': {...},\n",
      "              'playlistName': None,\n",
      "              'privateMatch': False,\n",
      "              'rankedTeams': None,\n",
      "              'teamCount': 76,\n",
      "              'utcEndSeconds': 1633227906,\n",
      "              'utcStartSeconds': 1633226280,\n",
      "              'version': 1}],\n",
      " 'summary': {'all': {'assists': 6.0,\n",
      "                     'avgLifeTime': 706.25,\n",
      "                     'damageDone': 2656.0,\n",
      "                     'damageTaken': 1480.0,\n",
      "                     'deaths': 6.0,\n",
      "                     'distanceTraveled': 703964.0,\n",
      "                     'executions': 0.0,\n",
      "                     'gulagDeaths': 4.0,\n",
      "                     'gulagKills': 0.0,\n",
      "                     'headshotPercentage': 0.5,\n",
      "                     'headshots': 2.0,\n",
      "                     'kdRatio': 0.6666666666666666,\n",
      "                     'kills': 4.0,\n",
      "                     'killsPerGame': 2.0,\n",
      "                     'matchesPlayed': 2.0,\n",
      "                     'nearmisses': 0.0,\n",
      "                     'objectiveBrCacheOpen': 12.0,\n",
      "                     'objectiveBrDownEnemyCircle1': 4.0,\n",
      "                     'objectiveBrDownEnemyCircle4': 1.0,\n",
      "                     'objectiveBrKioskBuy': 6.0,\n",
      "                     'objectiveBrMissionPickupTablet': 6.0,\n",
      "                     'objectiveDestroyedEquipment': 2.0,\n",
      "                     'objectiveLastStandKill': 4.0,\n",
      "                     'objectiveMunitionsBoxTeammateUsed': 2.0,\n",
      "                     'objectiveReviver': 3.0,\n",
      "                     'objectiveTeamWiped': 2.0,\n",
      "                     'score': 10800.0,\n",
      "                     'scorePerMinute': 114.69026548672566,\n",
      "                     'timePlayed': 5650.0,\n",
      "                     'wallBangs': 0.0},\n",
      "             'br_brduos': {'assists': 3.0,\n",
      "                           'avgLifeTime': 872.0,\n",
      "                           'damageDone': 1944.0,\n",
      "                           'damageTaken': 598.0,\n",
      "                           'deaths': 2.0,\n",
      "                           'distanceTraveled': 318796.34,\n",
      "                           'executions': 0.0,\n",
      "                           'gulagDeaths': 1.0,\n",
      "                           'gulagKills': 0.0,\n",
      "                           'headshotPercentage': 0.5,\n",
      "                           'headshots': 2.0,\n",
      "                           'kdRatio': 2.0,\n",
      "                           'kills': 4.0,\n",
      "                           'killsPerGame': 4.0,\n",
      "                           'matchesPlayed': 1.0,\n",
      "                           'nearmisses': 0.0,\n",
      "                           'objectiveBrCacheOpen': 4.0,\n",
      "                           'objectiveBrDownEnemyCircle1': 4.0,\n",
      "                           'objectiveBrKioskBuy': 1.0,\n",
      "                           'objectiveBrMissionPickupTablet': 2.0,\n",
      "                           'objectiveDestroyedEquipment': 2.0,\n",
      "                           'objectiveLastStandKill': 3.0,\n",
      "                           'objectiveMunitionsBoxTeammateUsed': 1.0,\n",
      "                           'objectiveReviver': 2.0,\n",
      "                           'objectiveTeamWiped': 2.0,\n",
      "                           'score': 4625.0,\n",
      "                           'scorePerGame': 4625.0,\n",
      "                           'scorePerMinute': 106.07798165137613,\n",
      "                           'timePlayed': 2616.0,\n",
      "                           'wallBangs': 0.0},\n",
      "             'br_brtrios': {'assists': 3.0,\n",
      "                            'avgLifeTime': 606.8,\n",
      "                            'damageDone': 712.0,\n",
      "                            'damageTaken': 882.0,\n",
      "                            'deaths': 4.0,\n",
      "                            'distanceTraveled': 385167.66,\n",
      "                            'executions': 0.0,\n",
      "                            'gulagDeaths': 3.0,\n",
      "                            'gulagKills': 0.0,\n",
      "                            'headshotPercentage': 0.0,\n",
      "                            'headshots': 0.0,\n",
      "                            'kdRatio': 0.0,\n",
      "                            'kills': 0.0,\n",
      "                            'killsPerGame': 0.0,\n",
      "                            'matchesPlayed': 1.0,\n",
      "                            'nearmisses': 0.0,\n",
      "                            'objectiveBrCacheOpen': 8.0,\n",
      "                            'objectiveBrDownEnemyCircle4': 1.0,\n",
      "                            'objectiveBrKioskBuy': 5.0,\n",
      "                            'objectiveBrMissionPickupTablet': 4.0,\n",
      "                            'objectiveLastStandKill': 1.0,\n",
      "                            'objectiveMunitionsBoxTeammateUsed': 1.0,\n",
      "                            'objectiveReviver': 1.0,\n",
      "                            'score': 6175.0,\n",
      "                            'scorePerGame': 6175.0,\n",
      "                            'scorePerMinute': 122.11601845748187,\n",
      "                            'timePlayed': 3034.0,\n",
      "                            'wallBangs': 0.0}}}\n"
     ]
    }
   ],
   "metadata": {}
  },
  {
   "cell_type": "code",
   "execution_count": null,
   "source": [],
   "outputs": [],
   "metadata": {}
  }
 ],
 "metadata": {
  "kernelspec": {
   "display_name": "Python 3 (ipykernel)",
   "language": "python",
   "name": "python3"
  },
  "language_info": {
   "codemirror_mode": {
    "name": "ipython",
    "version": 3
   },
   "file_extension": ".py",
   "mimetype": "text/x-python",
   "name": "python",
   "nbconvert_exporter": "python",
   "pygments_lexer": "ipython3",
   "version": "3.9.5"
  }
 },
 "nbformat": 4,
 "nbformat_minor": 5
}