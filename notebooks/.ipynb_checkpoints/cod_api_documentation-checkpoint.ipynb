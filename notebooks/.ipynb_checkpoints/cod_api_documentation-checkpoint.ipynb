{
 "cells": [
  {
   "cell_type": "markdown",
   "id": "f9387bca",
   "metadata": {
    "tags": []
   },
   "source": [
    "# COD private API through CallofDuty.py"
   ]
  },
  {
   "cell_type": "markdown",
   "id": "2a2258eb",
   "metadata": {},
   "source": [
    "As of September 2021"
   ]
  },
  {
   "cell_type": "markdown",
   "id": "a37b8bfe",
   "metadata": {},
   "source": [
    "[Credits to github.com/EthanC](https://github.com/EthanC/CallofDuty.py) <br>For this well made Python client <br><br>\n",
    "> *\"CallofDuty.py is an asynchronous, object-oriented Python wrapper for the Call of Duty API.\"*"
   ]
  },
  {
   "cell_type": "markdown",
   "id": "7b2814e1-0852-42f4-bf6d-82015e24d574",
   "metadata": {},
   "source": [
    "---"
   ]
  },
  {
   "cell_type": "markdown",
   "id": "c0a4a20f",
   "metadata": {},
   "source": [
    "#### Context & objectives"
   ]
  },
  {
   "cell_type": "markdown",
   "id": "2a20731d",
   "metadata": {
    "tags": []
   },
   "source": [
    "In this notebook, we will test & learn how to use this **--non official, Call of Duty (COD) client** to access players' stats, with a strong inclination towards **Warzone**. <br>\n",
    "If you didn't know, *Warzone* is a free Battle Royale game, part of the Call of Duty universe, developped by Activision and is --said to be, played by 100 M people.<br> \n",
    "Players (Warzone or the more classic online multiplayers modes of the different COD games) have access to some stats (score, kills/deaths ratio, rank...) on [my.callofduty.com](https://my.callofduty.com/) but they're poorly put together.<br> \n",
    "Cause or consequence, this led to to the creation of a rich ecosytem of --often very popular, websites (codtracker.gg, wzranked...) promising progression trackers and deeper analysis to players. <br>\n",
    "\n",
    "As Activision is using a **\"private\" API** (with no support) on the callofduty.com website and the **documentation** is very **sparse** otherwise, **this notebook intends to** : \n",
    "- Progress back and forth between both client and COD API to get an overall picture of what does what.\n",
    "- Present a quick glance at client's architecture as well are more details about available methods & their outputs. \n",
    "- Detail additional methods to access a COD API route listed elsewhere, without modifying the client package.\n",
    "- Provide --though being very far from exhaustive, the \"best\" explanation as of yet on what COD API returns (Warzone oriented)."
   ]
  },
  {
   "cell_type": "markdown",
   "id": "edf2ec15",
   "metadata": {},
   "source": [
    "#### Resources"
   ]
  },
  {
   "cell_type": "markdown",
   "id": "f7d7d8f6",
   "metadata": {},
   "source": [
    "AFAIK, the most complete wrappers for COD api are the one used here and another written in NodeJS [(Github)](https://docs.codapi.dev/getting-started). <br>\n",
    "A good starting point if you want to get your hands dirty in COD stats would be to read both code. Besides, I would also recommend that you read the [documentation](https://docs.codapi.dev/getting-started) of the NodeJS wrapper as well as this [Postman tool](https://documenter.getpostman.com/view/5519582/SzzgAefq).<br>They will give you a good overall idea of which endpoints, authentification and data are at your disposal."
   ]
  },
  {
   "cell_type": "markdown",
   "id": "3f4afc28",
   "metadata": {
    "tags": []
   },
   "source": [
    "#### Install and run"
   ]
  },
  {
   "cell_type": "markdown",
   "id": "69800dde",
   "metadata": {},
   "source": [
    "Personal preferences here but I'm using miniconda (conda) as a environment manager (could be pyenv etc.) and Poetry for dependency managing and packaging. <br>\n",
    "In my conda environment I have Python 3.9 (needed for the client), Jupyter and Poetry installed.\n",
    "1. Create a new project with `poetry new your_project_name` or, if you have already a pre-populated directory, `cd your_existing_project` and then `poetry init`. Cf. [Poetry documentation](https://python-poetry.org/docs/)\n",
    "2. Install the Call of Duty client : `poetry add callofduty.py`. Poetry will make sure to install all the requirements.\n",
    "3. Run this notebook : `poetry run jupyter lab`, or `poetry shell` to start a new shell and then `jupyter lab` in the newly opened terminal.\n",
    "This will ensure you have access to all dependencies, in a custom and clean environment, thus callofduty.py and the notebook perfectly"
   ]
  },
  {
   "cell_type": "code",
   "execution_count": 1,
   "id": "b13ff5dc",
   "metadata": {},
   "outputs": [],
   "source": [
    "import asyncio\n",
    "import os\n",
    "import dotenv\n",
    "from pprint import pprint\n",
    "import callofduty\n",
    "from callofduty import Mode, Platform, Title, TimeFrame, GameType"
   ]
  },
  {
   "cell_type": "markdown",
   "id": "1e7ff8fe",
   "metadata": {},
   "source": [
    "#### Login to the API, start client session"
   ]
  },
  {
   "cell_type": "markdown",
   "id": "b49078c7",
   "metadata": {},
   "source": [
    "Two ways to authenticate to COD API. Once you're logged in, you will have access to either private (your info) or protected routes that may supply data for any given user. [Postman](https://docs.codapi.dev/getting-started) to further know what's happening under the hood. <br> 1. Login & password with `callofduty.Login(activision_email, pwd)`. I think it doesn't work anymore since Activision added a reCaptcha (but seems to be doable with the [NodeJS package](https://docs.codapi.dev/getting-started) that's using puppeteers + a plugin to bypass it).<br>2. Single Sign On (sso) `callofduty.Login(SSO_TOKEN)` added recently, that uses a SSO token you get while logging to Activision through your platform of choice (Bnet, Xbox, PS)."
   ]
  },
  {
   "cell_type": "code",
   "execution_count": 2,
   "id": "71cfe80b",
   "metadata": {},
   "outputs": [],
   "source": [
    "# Using SSO\n",
    "# We're storing our SSO token in an .env file stored locally to separate our config from code (w. python-dotenv). An.env-template file (with help to retrieve token) is provided for you to edit and populate the variable(s)\n",
    "# callofduty.py client .Login() goes through all the authentification steps and initiate a session to access protected routes\n",
    "# The client is asynchronous thus the 'await style'\n",
    "from dotenv import load_dotenv\n",
    "load_dotenv()\n",
    "client = await callofduty.Login(sso=os.environ[\"SSO\"])"
   ]
  },
  {
   "cell_type": "markdown",
   "id": "333c098a",
   "metadata": {},
   "source": [
    "#### COD universe, endpoints & client"
   ]
  },
  {
   "cell_type": "markdown",
   "id": "760a4710",
   "metadata": {},
   "source": [
    "COD ecosystem is indeed diverse :\n",
    "- You can have access to one or multiple titles (*Modern Warfare*, *Black Ops Cold War* ...)\n",
    "- playable locally or more likely online multiplayer\n",
    "- within every game, several 'modes', e.g the the 'Battle Royale' *Warzone*, also with different maps (called 'modes' also :p)\n",
    "- through multiple platforms, depending on the game (Steam, Battle Net, Xbox Live...)"
   ]
  },
  {
   "cell_type": "markdown",
   "id": "5701098b",
   "metadata": {},
   "source": [
    "Players need to have enabled their visibility to 'on' (obvs. off by default) in their settings so their profile is searchable.<br>\n",
    "The way the Activision API works is that you generally need to specify, for any given player's, its gamertag associated to a given platform and then the title/mode/sub you want to get data from (a player can have two different gamertags whether he is using BattleNet or Playstation Live).<br>\n",
    "For in-depth access to player's stats, one generally needs to specify the Platform (e.g. Activision), Title (e.g. Modern Warfare) and the Mode (e.g. multiplayer)<br>\n",
    "Since it's our focus here, once we identified a player by his gamertag & associated platform, we will usually specify `title = modernwarfare` and `mode = warzone` as Warzone is a free mode developped within the Modern Warfare engine and thus organized this way in the API.<br>\n",
    "Luckily for us the python wrapper handles the naming in an enums.py file (`Mode, Platform...`) to build the endpoints smoothly, as well as objects/classes (`client.py, match.py, player.py,...`) to work with."
   ]
  },
  {
   "cell_type": "markdown",
   "id": "ebcfb922",
   "metadata": {},
   "source": [
    "Example of a GET request built in the client to access the API : <br>\n",
    "Cf. [Postman](https://docs.codapi.dev/getting-started) for details about API's versions & path variables as well as differences between between private, protected and public routes"
   ]
  },
  {
   "cell_type": "markdown",
   "id": "e1a58905",
   "metadata": {},
   "source": [
    "> `Request(\"GET\",f\"api/papi-client/leaderboards/v2/title/{title}/platform/{platform}/time/{timeFrame}/type/{gameType}/mode/{gameMode}/page/{page}\",)`"
   ]
  },
  {
   "cell_type": "markdown",
   "id": "6f460804",
   "metadata": {},
   "source": [
    "#### Client architecture & table of (some) useful methods"
   ]
  },
  {
   "cell_type": "markdown",
   "id": "47a8f60b",
   "metadata": {},
   "source": [
    "The table below is quite complete but not exhaustive, took long enough to do ^_^ <br>\n",
    "Mainly a good way to have the big picture on protected/public routes, useful to gather player stats.<br>\n",
    "As mentioned on Postman, routes are either private, public or protected; this will be our plan when we explore the API. <br>"
   ]
  },
  {
   "cell_type": "code",
   "execution_count": 3,
   "id": "548367e9",
   "metadata": {},
   "outputs": [
    {
     "data": {
      "text/html": [
       "<style>table {align:left;display:block} </style>"
      ],
      "text/plain": [
       "<IPython.core.display.HTML object>"
      ]
     },
     "execution_count": 3,
     "metadata": {},
     "output_type": "execute_result"
    }
   ],
   "source": [
    "# Do not like when my md table is not aligned to the left\n",
    "from IPython.core.display import HTML\n",
    "table_css = 'table {align:left;display:block} '\n",
    "HTML('<style>{}</style>'.format(table_css))"
   ]
  },
  {
   "cell_type": "markdown",
   "id": "519d32ca",
   "metadata": {
    "tags": []
   },
   "source": [
    "What you can use | ...depends on .py |     ...depends on .py| ... where it does that call to COD API (https://my.callofduty.com/api.papi-client/.)\n",
    ":-------------|:--------------|:------------------|:------------------------------------\n",
    "client.GetPlayer|*returns Player*||\n",
    "client.SearchPlayers|http.SearchPlayer||crm/cod/v2/platform/platform/username/username/search\n",
    "client.GetPlayerProfile|http.GetPlayerProfile||stats/cod/v1/title/title/platform/platform/gamer/username/profile/type/mode\n",
    "client.GetPlayerMatches   -- if user platform = Activision |http.GetPlayerMatchesDetailed||crm/cod/v2/title/title/platform/platform/gamer/username/matches/mode/start/startTime/end/endTime/details?limit=limit\n",
    "client.GetPlayerMatches   -- if user platform = Bnet etc.. |http.GetPlayerMatches||crm/cod/v2/title/title/platform/platform/gamer/username/matches/mode/start/startTime/end/endTime?limit=limit\n",
    "client.GetPlayerMatchesSummary|http.GetPlayerMatchesDetailed||crm/cod/v2/title/title/platform/platform/gamer/username/matches/mode/start/startTime/end/endTime/details?limit=limit\n",
    "client.GetMatchDetails|http.GetMatch||ce/v1/title/title/platform/platform/match/matchId/matchMapEvents\n",
    "client.GetMatch|*returns Match*||\n",
    "client.GetFullMatch|http.GetFullMatch||crm/cod/v2/title/title/platform/platform/fullMatch/mode/matchId/language\n",
    "*The preferred matches endpoint does not support Activision (uno) platform*|*should use (cf. postman):*||crm/cod/v2/title/title/platform/platform/uno/username/matches/mode/start/startTime/end/endTime/details?limit=limit\n",
    "*re. getMatch endpoint matchMapEvents is for multiplayer only (no Warzone)*|||\n",
    "*Others: GetMyFriends etc*|||\n",
    "---|---||\n",
    "player.profile |client.GetPlayerProfile|http.GetPlayerProfile|stats/cod/v1/title/title/platform/platform/gamer/username/profile/type/mode\n",
    "player.matchesSummary|client.GetPlayerMatchesSummary|http.GetPlayerMatchesDetailed|crm/cod/v2/title/title/platform/platform/gamer/username/matches/mode/startTime/start/end/endTime/details?limit=limit\n",
    "player.matches |client.GetPlayerMatches|http.GetPlayerMatches|crm/cod/v2/title/title/platform/platform/gamer/username/matches/mode/startTime/start/end/endTime}?limit=limit\n",
    "*+ player.loadouts, player.loadoutUnlocks...*|||\n",
    "---|---||\n",
    "match.teams|client.GetMatchTeams||ce/v1/title/title/platform/platform/match/matchId/matchMapEvents\n",
    "match.details|client.GetMatchDetails||ce/v1/title/title/platform/platform/match/matchId/matchMapEvents\n",
    "*Endpoint matchMapEvents works for multiplayer only (no Warzone)*|||"
   ]
  },
  {
   "cell_type": "markdown",
   "id": "3e9e4fce",
   "metadata": {
    "tags": []
   },
   "source": [
    "# Private routes"
   ]
  },
  {
   "cell_type": "markdown",
   "id": "7ec673a0",
   "metadata": {},
   "source": [
    "Not our focus here but once logged in, you have access to private routes related to you own account (only) e.g. your friends' profiles (`client.GetMyFriends()`) and activity, account search visibility, used platform (e.g. Battlenet), identifiers linked to your Activision account etc. <br>\n",
    "Cf. the test.py where ethanC have listed all the methods available in his client."
   ]
  },
  {
   "cell_type": "code",
   "execution_count": 4,
   "id": "0bef433c",
   "metadata": {},
   "outputs": [
    {
     "name": "stdout",
     "output_type": "stream",
     "text": [
      "chrissou#9246578, Online: False\n",
      "Marmiton#4932812, Online: False\n",
      "Moinolol#4713832, Online: False\n",
      "nicoyzovitch#7591470, Online: False\n",
      "ninjawariorbob#7568880, Online: False\n",
      "Confetti_Seeker#1916728, Online: False\n"
     ]
    }
   ],
   "source": [
    "# For instance the .GetMyFriends() method, build the private endpoint to retrieve your friends statuses, using the authenticated client (personal credendials & associated gamertag).\n",
    "friends = await client.GetMyFriends()\n",
    "for friend in friends:\n",
    "    print(f\"{friend.username}, Online: {friend.online}\")"
   ]
  },
  {
   "cell_type": "code",
   "execution_count": 5,
   "id": "52753810",
   "metadata": {},
   "outputs": [
    {
     "name": "stdout",
     "output_type": "stream",
     "text": [
      "{'_client': <callofduty.client.Client object at 0x7ff318096760>,\n",
      " 'accountId': '1722124035977126995',\n",
      " 'avatarUrl': None,\n",
      " 'identities': [],\n",
      " 'online': False,\n",
      " 'platform': <Platform.Activision: 'uno'>,\n",
      " 'username': 'chrissou#9246578'}\n"
     ]
    }
   ],
   "source": [
    "# Here, the client nicely returns a list of dict w. friends' info (our client's code exploration hints the COD API usually returns json or txt)\n",
    "pprint(friends[0].__dict__)"
   ]
  },
  {
   "cell_type": "markdown",
   "id": "470690bd",
   "metadata": {
    "tags": []
   },
   "source": [
    "# Public routes"
   ]
  },
  {
   "cell_type": "markdown",
   "id": "6e41762c",
   "metadata": {},
   "source": [
    "Routes you can access without authentification. Mostly the leaderboards for COD classic ultiplayer modes (MW, BO4), as well as maps & modes available for multiplayer.<br>"
   ]
  },
  {
   "cell_type": "markdown",
   "id": "67624cf4",
   "metadata": {},
   "source": [
    "### Leaderboards"
   ]
  },
  {
   "cell_type": "markdown",
   "id": "e5cfef8a",
   "metadata": {},
   "source": [
    "Global ranking of players by their score, kills, kills deaths (kd) ratios etc.<br>\n",
    "Searched a lot and in every manner possible but Warzone leaderboard (you can see in in-game :-p) endpoint is protected/out of my reach.<br>\n",
    "Still, an ex. on how to get the leaderboard from the \"Cyber\" mode in COD Modern Warfare. The client return a leaderboard object, with entries (players) you can also dive into :"
   ]
  },
  {
   "cell_type": "markdown",
   "id": "b5a09e59-7293-45f6-9620-fdc40c5275b8",
   "metadata": {},
   "source": [
    "method | parameters | endpoint (https://my.callofduty.com/api.papi-client/.)\n",
    ":------|:-----------|---------------------------------------------------\n",
    "client.GetPlayer|title, platform, --optional : gameType, gameMode, timeframes, page|leaderboards/v2/title/title/platform/platform/time/timeFrame/type/gameType/mode/gameMode/page/page"
   ]
  },
  {
   "cell_type": "code",
   "execution_count": 6,
   "id": "0972c9f0",
   "metadata": {},
   "outputs": [
    {
     "name": "stdout",
     "output_type": "stream",
     "text": [
      "{'_client': <callofduty.client.Client object at 0x7ff318096760>,\n",
      " 'columns': [...],\n",
      " 'entries': [...],\n",
      " 'gameMode': 'cyber',\n",
      " 'gameType': <GameType.Core: 'core'>,\n",
      " 'page': 1,\n",
      " 'pages': 407617,\n",
      " 'platform': <Platform.BattleNet: 'battle'>,\n",
      " 'timeFrame': <TimeFrame.AllTime: 'alltime'>,\n",
      " 'title': <Title.ModernWarfare: 'mw'>}\n",
      "\n",
      " entries:\n",
      "1: 小赵同学#1148917 (BattleNet)\n",
      "2: BrattySis#6834874 (BattleNet)\n",
      "3: RNYNN#6664890 (BattleNet)\n"
     ]
    }
   ],
   "source": [
    "leaderboard = await client.GetLeaderboard(title=Title.ModernWarfare, platform=Platform.BattleNet, gameType=GameType.Core, gameMode=\"cyber\", timeFrame=TimeFrame.AllTime, page=1)\n",
    "pprint(leaderboard.__dict__, depth=1)\n",
    "print('\\n entries:')\n",
    "for entry in leaderboard.entries[:3]:\n",
    "    print(f\"{entry.rank}: {entry.username} ({entry.platform.name})\")"
   ]
  },
  {
   "cell_type": "markdown",
   "id": "eaa274cd",
   "metadata": {},
   "source": [
    "In the client other methods that access public routes are available such as `.GetPlayerLeaderboard()` (returns the leadeboard'page for a particular user; no Warzone) and `.GetFullMatch()` (Wz compatible)"
   ]
  },
  {
   "cell_type": "markdown",
   "id": "f38ab2e3",
   "metadata": {},
   "source": [
    "<a id='go_match'></a>"
   ]
  },
  {
   "cell_type": "markdown",
   "id": "c3f7d382",
   "metadata": {
    "tags": []
   },
   "source": [
    "#### Match details : match/players stats given a certain MatchId"
   ]
  },
  {
   "cell_type": "markdown",
   "id": "192c0197",
   "metadata": {},
   "source": [
    "Get detailed stats about a match given a match ID, (moderwarfare/multiplayer or modernware/Warzone etc.) <br>"
   ]
  },
  {
   "cell_type": "markdown",
   "id": "b008e18a-0b25-4981-8b72-e7e90eda4fa7",
   "metadata": {},
   "source": [
    "method | parameters | endpoint (https://my.callofduty.com/api.papi-client/.)\n",
    ":------|:-----------|---------------------------------------------------\n",
    "client.GetFullMatch|platform, title, mode, matchId, --default : language.English |crm/cod/v2/title/title/platform/platform/fullMatch/mode/matchId/language"
   ]
  },
  {
   "cell_type": "code",
   "execution_count": 7,
   "id": "0fd01245",
   "metadata": {},
   "outputs": [],
   "source": [
    "# w. matchID taken from the Postman example. Later we will see how we can retrieve our own MatchIDs. \n",
    "# In this case a battle royale (Warzone) game with 145 players organizezd in teams of 4 (quads).\n",
    "match = await client.GetFullMatch(Platform.Activision, Title.ModernWarfare, Mode.Warzone, matchId=11763015911965617014)"
   ]
  },
  {
   "cell_type": "markdown",
   "id": "0e8af6ba",
   "metadata": {},
   "source": [
    "Returns a dict with a list of dict, every dict being a player-and-his-stats (here 145).<br>\n",
    "In this match : 145 players, organized in teams of 4 ('br squad').<br>\n",
    "Our selected player had 0 kills (playerStats.kills), 2 deathes (playerStats.deaths) and was moving 87% of the time (.percentTimeMoving) and the whole team ranked 31 (.teamPlacement)"
   ]
  },
  {
   "cell_type": "code",
   "execution_count": 8,
   "id": "c6bef698",
   "metadata": {},
   "outputs": [
    {
     "name": "stdout",
     "output_type": "stream",
     "text": [
      "{'draw': False,\n",
      " 'duration': 1634000,\n",
      " 'gameType': 'wz',\n",
      " 'map': 'mp_don3',\n",
      " 'matchID': '11763015911965617014',\n",
      " 'mode': 'br_brquads',\n",
      " 'player': {'awards': {},\n",
      "            'brMissionStats': {'missionStatsByType': {},\n",
      "                               'missionsComplete': 0,\n",
      "                               'totalMissionWeaponXpEarned': 0.0,\n",
      "                               'totalMissionXpEarned': 0.0},\n",
      "            'loadout': [{...}],\n",
      "            'rank': 54.0,\n",
      "            'team': 'team_twenty_four',\n",
      "            'uno': '17641839849440527637',\n",
      "            'username': 'stuckinatrap'},\n",
      " 'playerCount': 145,\n",
      " 'playerStats': {'assists': 0.0,\n",
      "                 'bonusXp': 0.0,\n",
      "                 'challengeXp': 0.0,\n",
      "                 'damageDone': 237.0,\n",
      "                 'damageTaken': 344.0,\n",
      "                 'deaths': 2.0,\n",
      "                 'distanceTraveled': 277414.28,\n",
      "                 'executions': 0.0,\n",
      "                 'gulagDeaths': 1.0,\n",
      "                 'gulagKills': 0.0,\n",
      "                 'headshots': 0.0,\n",
      "                 'kdRatio': 0.0,\n",
      "                 'kills': 0.0,\n",
      "                 'longestStreak': 1.0,\n",
      "                 'matchXp': 2395.0,\n",
      "                 'medalXp': 0.0,\n",
      "                 'miscXp': 0.0,\n",
      "                 'nearmisses': 0.0,\n",
      "                 'objectiveBrCacheOpen': 5.0,\n",
      "                 'objectiveBrKioskBuy': 1.0,\n",
      "                 'objectiveBrMissionPickupTablet': 1.0,\n",
      "                 'objectiveLastStandKill': 1.0,\n",
      "                 'percentTimeMoving': 87.15596,\n",
      "                 'rank': 54.0,\n",
      "                 'score': 1575.0,\n",
      "                 'scorePerMinute': 230.48780487804876,\n",
      "                 'scoreXp': 2125.0,\n",
      "                 'teamPlacement': 31.0,\n",
      "                 'teamSurvivalTime': 324432.0,\n",
      "                 'timePlayed': 410.0,\n",
      "                 'totalXp': 4520.0,\n",
      "                 'wallBangs': 0.0},\n",
      " 'playlistName': None,\n",
      " 'privateMatch': False,\n",
      " 'rankedTeams': None,\n",
      " 'teamCount': 37,\n",
      " 'utcEndSeconds': 1617762401,\n",
      " 'utcStartSeconds': 1617760767,\n",
      " 'version': 1}\n"
     ]
    }
   ],
   "source": [
    "# One given player returned stats among the 145 (note: should be 37 teams x 4 players = 148 players initially ?).\n",
    "pprint(match['allPlayers'][2], depth=3)"
   ]
  },
  {
   "cell_type": "markdown",
   "id": "7125185b",
   "metadata": {
    "tags": []
   },
   "source": [
    "# Protected routes"
   ]
  },
  {
   "cell_type": "markdown",
   "id": "e833dd15",
   "metadata": {},
   "source": [
    "Authentification is mandatory to access those. Good thing is that you can retrieve data for other players (w. visibility setting turned ON)"
   ]
  },
  {
   "cell_type": "markdown",
   "id": "d41bad79",
   "metadata": {
    "tags": []
   },
   "source": [
    "## Player search"
   ]
  },
  {
   "cell_type": "markdown",
   "id": "14f17ecd",
   "metadata": {},
   "source": [
    "One can play Warzone through PlayStation, PC (BattleNet) or Xbox (also, cross play), hence the username being tied to a platform when searching.<br>\n",
    "Activision allows to change its own in-game username once in a while (3 months I believe). <br>\n",
    "Players can share the same name, they differentiate with ending numbers (6 digits for Activision, 4 for Bnet). Max number of players returbed by the COD API is 20.<br>\n",
    "The client return a list of `player` objects"
   ]
  },
  {
   "cell_type": "markdown",
   "id": "67d1e5cb-d8f3-4507-9cf9-777dabb9cb27",
   "metadata": {},
   "source": [
    "method | parameters | endpoint (https://my.callofduty.com/api.papi-client/.)\n",
    ":------|:-----------|---------------------------------------------------\n",
    "client.|x, x, x, x, --x :  |"
   ]
  },
  {
   "cell_type": "code",
   "execution_count": 9,
   "id": "ddfb4b01",
   "metadata": {},
   "outputs": [
    {
     "name": "stdout",
     "output_type": "stream",
     "text": [
      "gentil_renard#3391079 (Activision)\n",
      "Amadevs#1689 (BattleNet)\n"
     ]
    }
   ],
   "source": [
    "# For instance, my in-game --changed, username is gentil_renard, I can retrieve it (gentil_renard#3391079) with platform = Activision (translates into 'Uno' when the client builds the route)\n",
    "results = await client.SearchPlayers(Platform.Activision, \"gentil_renard\")\n",
    "for player in results:\n",
    "    print(f\"{player.username} ({player.platform.name})\")\n",
    "\n",
    "# but though I'm playing via Bnet, can't retrieve if I set platform = Bnet\n",
    "results = await client.SearchPlayers(Platform.BattleNet, \"gentil_renard\")\n",
    "for player in results:\n",
    "    print(f\"{player.username} ({player.platform.name})\")\n",
    "\n",
    "# Only works if I use my Bnet gamertag\n",
    "results = await client.SearchPlayers(Platform.BattleNet, \"AMADEVS#1689\")\n",
    "for player in results:\n",
    "    print(f\"{player.username} ({player.platform.name})\")   "
   ]
  },
  {
   "cell_type": "code",
   "execution_count": 10,
   "id": "c1b1d469",
   "metadata": {},
   "outputs": [
    {
     "name": "stdout",
     "output_type": "stream",
     "text": [
      "nicoyzovitch (PlayStation)\n",
      "nicoyzovitch#7591470 (Activision)\n"
     ]
    }
   ],
   "source": [
    "# A friend of mine uses a PlayStation\n",
    "results = await client.SearchPlayers(Platform.PlayStation, \"Nicoyzovitch\")\n",
    "for player in results:\n",
    "    print(f\"{player.username} ({player.platform.name})\")\n",
    "\n",
    "# Can also retrieve his name via Activision (nicoyzovitch#7591470) has he never changed his name.\n",
    "results = await client.SearchPlayers(Platform.Activision, \"Nicoyzovitch\")\n",
    "for player in results:\n",
    "    print(f\"{player.username} ({player.platform.name})\")"
   ]
  },
  {
   "cell_type": "code",
   "execution_count": 11,
   "id": "21781e8f",
   "metadata": {},
   "outputs": [
    {
     "name": "stdout",
     "output_type": "stream",
     "text": [
      "Huskerrs (Activision)\n",
      "HusKerrs#1009786 (Activision)\n",
      "HusKerrs#1088477 (Activision)\n",
      "HusKerrs#3209982 (Activision)\n",
      "HusKerrs#4249229 (Activision)\n",
      "HusKerrs#4780912 (Activision)\n",
      "HusKerrs#5139476 (Activision)\n",
      "HusKerrs#7232956 (Activision)\n",
      "HusKerrs#7631054 (Activision)\n",
      "HusKerrs#8490490 (Activision)\n",
      "HusKerrs#8638305 (Activision)\n",
      "HusKerrs#8653257 (Activision)\n",
      "HusKerrs#9624907 (Activision)\n",
      "HusKerrs#9783265 (Activision)\n",
      "Huskerrs#2032932 (Activision)\n",
      "Huskerrs#2058640 (Activision)\n",
      "Huskerrs#3542853 (Activision)\n",
      "Huskerrs#7010480 (Activision)\n",
      "Huskerrs#8797872 (Activision)\n",
      "Huskerrs#9357694 (Activision)\n",
      "huskerrs#6821860 (Activision)\n",
      "Huskerrs (Activision)\n",
      "HusKerrs#1009786 (Activision)\n",
      "HusKerrs#1088477 (Activision)\n",
      "HusKerrs#3209982 (Activision)\n",
      "HusKerrs#4249229 (Activision)\n",
      "HusKerrs#4780912 (Activision)\n",
      "HusKerrs#5139476 (Activision)\n",
      "HusKerrs#7232956 (Activision)\n",
      "HusKerrs#7631054 (Activision)\n",
      "HusKerrs#8490490 (Activision)\n",
      "HusKerrs#8638305 (Activision)\n",
      "HusKerrs#8653257 (Activision)\n",
      "HusKerrs#9624907 (Activision)\n",
      "HusKerrs#9783265 (Activision)\n",
      "Huskerrs#2032932 (Activision)\n",
      "Huskerrs#2058640 (Activision)\n",
      "Huskerrs#3542853 (Activision)\n",
      "Huskerrs#7010480 (Activision)\n",
      "Huskerrs#8797872 (Activision)\n",
      "Huskerrs#9357694 (Activision)\n",
      "huskerrs#6821860 (Activision)\n"
     ]
    }
   ],
   "source": [
    "# Striking example with 'Huskerrs' (a popular pro player) wannabes . \n",
    "# Good thing Activision has an authenticity stamp you can retrieve with player name and phrase (cf. .authenticityStamp in the client)\n",
    "res = []\n",
    "for platform in [Platform.Activision, Platform.BattleNet]:\n",
    "    res.extend(await client.SearchPlayers(Platform.Activision, \"HusKerrs\"))\n",
    "\n",
    "for player in res:\n",
    "    print(f\"{player.username} ({player.platform.name})\")"
   ]
  },
  {
   "cell_type": "markdown",
   "id": "f6260209",
   "metadata": {
    "tags": []
   },
   "source": [
    "## Player profile"
   ]
  },
  {
   "cell_type": "markdown",
   "id": "02da7604-f29c-4fdf-ac2f-7a019ffe049f",
   "metadata": {},
   "source": [
    "### Profile  / client methods"
   ]
  },
  {
   "cell_type": "markdown",
   "id": "22c86254",
   "metadata": {},
   "source": [
    "Two ways to retrieve player's profile in the client (same endpoint) : client.GetPlayerProfile or player.profile <br>"
   ]
  },
  {
   "cell_type": "markdown",
   "id": "8df24e24",
   "metadata": {
    "tags": []
   },
   "source": [
    "##### Profile using client.GetPlayerProfile"
   ]
  },
  {
   "cell_type": "markdown",
   "id": "fc131ff9-84da-472c-be40-7fee56a9a8ae",
   "metadata": {},
   "source": [
    "method | parameters | endpoint (https://my.callofduty.com/api.papi-client/.)\n",
    ":------|:-----------|---------------------------------------------------\n",
    "client.|x, x, x, x, --x :  |"
   ]
  },
  {
   "cell_type": "code",
   "execution_count": 12,
   "id": "0b6854a4",
   "metadata": {},
   "outputs": [
    {
     "name": "stdout",
     "output_type": "stream",
     "text": [
      "{'engagement': None,\n",
      " 'level': 359.0,\n",
      " 'levelXpGained': 28704.0,\n",
      " 'levelXpRemainder': 14196.0,\n",
      " 'lifetime': {'accoladeData': {...},\n",
      "              'all': {...},\n",
      "              'itemData': {...},\n",
      "              'map': {},\n",
      "              'mode': {...},\n",
      "              'scorestreakData': {...}},\n",
      " 'maxLevel': 1.0,\n",
      " 'maxPrestige': 0.0,\n",
      " 'p': 0.0,\n",
      " 'paragonId': 0.0,\n",
      " 'paragonRank': 0.0,\n",
      " 'platform': 'battle',\n",
      " 'prestige': 23.0,\n",
      " 'prestigeId': 0.0,\n",
      " 's': 0.0,\n",
      " 'title': 'mw',\n",
      " 'totalXp': 1325315.0,\n",
      " 'type': 'wz',\n",
      " 'username': 'AMADEVS#1689',\n",
      " 'weekly': {'all': {...}, 'map': {}, 'mode': {...}}}\n"
     ]
    }
   ],
   "source": [
    "# Parameters : platform, username, title, mode\n",
    "# Endpoint : stats/cod/v1/title/title/platform/platform/gamer/username/profile/type/mode\n",
    "profile_using_client = await client.GetPlayerProfile(Platform.BattleNet, \"AMADEVS#1689\", Title.ModernWarfare, Mode.Warzone)\n",
    "pprint(profile_using_client, depth=2)"
   ]
  },
  {
   "cell_type": "markdown",
   "id": "1278fef6",
   "metadata": {},
   "source": [
    "##### Profile using player.profile"
   ]
  },
  {
   "cell_type": "markdown",
   "id": "2a551e9d-6942-4af6-89a9-e2611e26eba0",
   "metadata": {},
   "source": [
    "method | parameters | endpoint (https://my.callofduty.com/api.papi-client/.)\n",
    ":------|:-----------|---------------------------------------------------\n",
    "client.|x, x, x, x, --x :  |"
   ]
  },
  {
   "cell_type": "code",
   "execution_count": 13,
   "id": "a9132933",
   "metadata": {},
   "outputs": [
    {
     "name": "stdout",
     "output_type": "stream",
     "text": [
      "AMADEVS#1689 (BattleNet)\n",
      "{'engagement': None,\n",
      " 'level': 359.0,\n",
      " 'levelXpGained': 28704.0,\n",
      " 'levelXpRemainder': 14196.0,\n",
      " 'lifetime': {'accoladeData': {...},\n",
      "              'all': {...},\n",
      "              'itemData': {...},\n",
      "              'map': {},\n",
      "              'mode': {...},\n",
      "              'scorestreakData': {...}},\n",
      " 'maxLevel': 1.0,\n",
      " 'maxPrestige': 0.0,\n",
      " 'p': 0.0,\n",
      " 'paragonId': 0.0,\n",
      " 'paragonRank': 0.0,\n",
      " 'platform': 'battle',\n",
      " 'prestige': 23.0,\n",
      " 'prestigeId': 0.0,\n",
      " 's': 0.0,\n",
      " 'title': 'mw',\n",
      " 'totalXp': 1325315.0,\n",
      " 'type': 'wz',\n",
      " 'username': 'AMADEVS#1689',\n",
      " 'weekly': {'all': {...}, 'map': {}, 'mode': {...}}}\n"
     ]
    }
   ],
   "source": [
    "# Getting player object first, as defined in player.py\n",
    "# Parameters : platform, username\n",
    "\n",
    "player = await client.GetPlayer(Platform.BattleNet, \"AMADEVS#1689\")\n",
    "print(f\"{player.username} ({player.platform.name})\")\n",
    "\n",
    "# then, calling the .profile method\n",
    "# Parameters : title, mode\n",
    "# Endpoint : stats/cod/v1/title/title/platform/platform/gamer/username/profile/type/mode\n",
    "profile_using_player = await player.profile(Title.ModernWarfare, Mode.Warzone)\n",
    "pprint(profile_using_player, depth=2)"
   ]
  },
  {
   "cell_type": "markdown",
   "id": "3b4999e8-c8b7-4d1e-a7db-b2cdeb255a3f",
   "metadata": {},
   "source": [
    "### Profile / output from COD API (Warzone oriented)"
   ]
  },
  {
   "cell_type": "markdown",
   "id": "48984930-51e2-4a0d-934f-f56d60a3f234",
   "metadata": {},
   "source": [
    "If mode was set to Multiplayer, data would be globally similar but stats related to Modern Warfare game / multiplayers modes & maps instead of Warzone.<br>\n",
    "Some stats may still be shared whether or not you are using mode multiplayer instead of Warzone (e.g. XpGained, and probably a lot more ?).<br>\n",
    "Also, even if selected mode is Warzone, the API still appears to send Modern Warfare Multiplayers modes stats, as seen in result.lifetime.mode. <br>\n",
    "Took me too much time already to figure out what does what exactly, and still not sure about a lot of things. The following tables will helps, hopefully."
   ]
  },
  {
   "cell_type": "markdown",
   "id": "628bb89e-6971-4fbc-a9d9-3393a2f03ec5",
   "metadata": {
    "tags": []
   },
   "source": [
    "#### Overview : lifetime vs. weekly"
   ]
  },
  {
   "cell_type": "markdown",
   "id": "c521010c-7a1b-4245-89e2-01f891d37949",
   "metadata": {},
   "source": [
    "The client returns a nested dict : the key \"data\" from json sent by COD API. No means to change timespan Lifetime or Weekly when calling.<br>\n",
    "`result['lifetime']` and `result['weekly']` can be further explored. They have similar keys (**all**, **mode**, **map**), except Lifetime having 3 more (**itemData**, **scorestreakData**, **accoladeData**). <br>"
   ]
  },
  {
   "cell_type": "markdown",
   "id": "3f004414-8028-4922-a655-f3abcb99d1ab",
   "metadata": {},
   "source": [
    "|--result . username <br>\n",
    "|--result . level <br>\n",
    "|--result . *a few others*...<br>\n",
    "|--result . lifetime |<br>\n",
    "|. . . . . . . . . . . . . .|-- . all - - - - - - - - - - -  > *lifetime stats, no matter the map/mode you're playing (sum of all modes)* <br> \n",
    "|. . . . . . . . . . . . . .|-- . mode - - - - - - - - -> *lifestime stats, given a specified mode (br, br_dmz, br_all, arena, koth..).* <br> \n",
    "|. . . . . . . . . . . . . .|-- . map - - - - - - - - - -> *empty for me, not sure exactly why, tested multiple players with different COD usages* <br> \n",
    "|. . . . . . . . . . . . . .|-- . itemData - - - - - - > *additional key for 'lifetime' level --aka not available for weekly. Lifetime stats related to weapon & equipment*  <br> \n",
    "|. . . . . . . . . . . . . .|-- . scorestreakData -> *additional key for 'lifetime' level. Lifetime stats re. 'special' equipment : uav, airstrikes etc*.<br>\n",
    "|. . . . . . . . . . . . . .|-- . accoladeData - - -> *additional key for 'lifetime' level. Even more diverse and surprising lifetime stats* <br> \n",
    "|---result . weekly |<br>\n",
    "|. . . . . . . . . . . . . .|-- . all - - - - - - - - - - -  > *weekly stats, no matter the map/mode you're playing (sum of all modes)* <br> \n",
    "|. . . . . . . . . . . . . .|-- . mode - - - - - - - - -> *weekly stats, given a specified mode (br, br_dmz, br_all, arena, koth..).*<br> \n",
    "|. . . . . . . . . . . . . .|-- . map - - - - - - - - - -> *empty*<br>\n",
    "|--result . *a few others*...<br>"
   ]
  },
  {
   "cell_type": "markdown",
   "id": "186f8636-a1fa-40dd-b3cc-2a3706903389",
   "metadata": {},
   "source": [
    "#### A note about other keys"
   ]
  },
  {
   "cell_type": "markdown",
   "id": "35d66039-cbf0-45a7-9b8f-4da556bc2664",
   "metadata": {},
   "source": [
    "|--result. (...)  <br>\n",
    "|--result . username <br>\n",
    "|--result . level <br>\n",
    "|--result . prestige <br>\n",
    "|--result . levelXpGained...<br>\n",
    "|--result . platform...<br>\n",
    "|--result . *insert any here : engagement, prestige, maxLevel, totalXp, type...*"
   ]
  },
  {
   "cell_type": "markdown",
   "id": "bba7fbf0-873a-4478-be65-c3f10100982f",
   "metadata": {},
   "source": [
    "`result['username']`, `result['platform']`, `result['level']`) : given username & associated platform (you're searching a given username on the corresponding platform), level of the Player (1 to 1000) <br>\n",
    "`result['level'])` & `result['levelXpGained']` : are shared between Modern Warfare multiplayer modes & Warzone. Can't remember if `['prestige']` depends on Level or challenges that has to be done in game.<br>"
   ]
  },
  {
   "cell_type": "markdown",
   "id": "2dd82e50-4c7b-471f-af08-1ac028b10482",
   "metadata": {},
   "source": [
    "#### Focus on lifetime stats"
   ]
  },
  {
   "cell_type": "markdown",
   "id": "108bb0b6-11a9-435c-b95f-dd476beff5a7",
   "metadata": {},
   "source": [
    "|--result . *a few others*...<br>\n",
    "|--result . **lifetime** |<br>\n",
    "|. . . . . . . . . . . . . .|-- . all ------|- - - - - - - - - - - - - - - - - - - - - - -  - - - - - -> *unique key is 'properties' with several lifetime stats attached, all modes together* <br>\n",
    "|. . . . . . . . . . . . . . . . . . . . . . .|-- . properties . accuracy - - - - - - - - - - -> *lifetime shots accuracy (head or all ?)* <br>\n",
    "|. . . . . . . . . . . . . . . . . . . . . . .|-- . properties . wins - - - - - - - - - - - - - -> *lifetime number of wins, all modes (or br + resurgence ? not sure)* <br>\n",
    "|. . . . . . . . . . . . . . . . . . . . . . .|-- . properties . gamesPlayed - - - - - - -> *lifetime n of games played, all modes* <br>\n",
    "|. . . . . . . . . . . . . . . . . . . . . . .|-- . properties . kdRatio - - - - - - - - - - -  > *lifetime kills/deaths ratio* <br>\n",
    "|. . . . . . . . . . . . . . . . . . . . . . .|-- . properties . *a lot of others : bestKillStreak, headshots, bestKD, scorePerGame..., more items than in per-mode-stats* <br>\n",
    "|. . . . . . . . . . . . . .|-- . mode -|- - - - - - - - - - - - - - - - - - - - - - -  - - - - - -> *lifestime stats, per mode (warzone : br, br_dmz, br_all. multiplayer : arena, koth..) mw mp modes returned even if mode set to wz* <br>\n",
    "|. . . . . . . . . . . . . . . . . . . . . . .|-- . **br** . properties . deaths - - - - - - - - -> *total n of deaths for **battle royale** mode only (solos + duos + trios + quads).*<br>\n",
    "|. . . . . . . . . . . . . . . . . . . . . . .|-- . br . properties . kills - - - - - - - - - - - > *total n of kills ...*<br>\n",
    "|. . . . . . . . . . . . . . . . . . . . . . .|-- . br . properties . wins - - - - - - - - - - -> *total n of wins ...*<br>\n",
    "|. . . . . . . . . . . . . . . . . . . . . . .|-- . *br . properties . others - exhaustive : cash, contracts, downs, gamesPlayed, kdRatio, objTime, revives, score, scorePerMinute, timePlayed, topTen, topFive, topTwentyFive*<br>\n",
    "|. . . . . . . . . . . . . . . . . . . . . . .|-- . **br_all** . properties . deaths - - - - - - -> *total n of deaths for **battle royale + plunder + rebirth ...**. *<br>\n",
    "|. . . . . . . . . . . . . . . . . . . . . . .|-- . *br_dmz . properties . other keys listed above*<br>\n",
    "|. . . . . . . . . . . . . . . . . . . . . . .|-- . **br_dmz** . properties . deaths - - - - - -> *total n of deaths for **plunder**. Not sure if Rebirth included. I think not.*<br>\n",
    "|. . . . . . . . . . . . . . . . . . . . . . .|-- . *br_dmz . properties . other keys listed above*<br>\n",
    "\n",
    "\n",
    "|. . . . . . . . . . . . . .|-- . map <br>\n",
    "|. . . . . . . . . . . . . .|-- . itemData <br> \n",
    "|. . . . . . . . . . . . . .|-- . scorestreakData<br>\n",
    "|. . . . . . . . . . . . . .|-- . accoladeData <br> \n",
    "|--result . weekly |<br>\n",
    "|--result . *a few others*...<br>"
   ]
  },
  {
   "cell_type": "markdown",
   "id": "c73395de-094d-4f0d-8641-609ddbd58c20",
   "metadata": {},
   "source": [
    "Among others, `result['lifetime']['scorestreakData']`, related to how many uav, airstrike, sentry guns... were used, might return the corresponding n of kills for each, but not sure. <br>\n",
    "In `result['lifetime']['accoladeData']` , lifestats such as timeWatchingKillcams, timeWatchingKillcams, comebackKills... though not sure whether they are fully accurate or updated. E.g deathsFromBehind is 5 for me whereas I'm sure died a lot more that way :D"
   ]
  },
  {
   "cell_type": "markdown",
   "id": "7fe234ce-0a8d-44a4-8aa0-b28c58c453f3",
   "metadata": {},
   "source": [
    "<a id='go_profile_weekly'></a>"
   ]
  },
  {
   "cell_type": "markdown",
   "id": "5d04d92d-2c93-4471-a47c-3203ccfd9b4f",
   "metadata": {
    "tags": []
   },
   "source": [
    "#### Focus on weekly stats"
   ]
  },
  {
   "cell_type": "markdown",
   "id": "7d85aabb-0f8c-4c6f-b0a1-846985e3e3da",
   "metadata": {},
   "source": [
    "`result['weekly']` does not have some keys yet available in `result['lifetime']` (itemData**, scorestreakData, accoladeData) ; meaning that you won't have weekly stats about weapons used, 'kill streaks' or other listed above.<br>\n",
    "`result['weekly']['mode']` granularity (br_all, br_brduos, br_trios, br_brquads, br_dmz_plndtrios...) is different -- as more precise, from `result['lifetime']['mode']` (br, br_all, br_dmz)<br>\n",
    "`result['weekly']['mode']` has also more detailed stats (items), for 'all' and each mode (e.g objectiveBrDownEnemyCircle1, objectiveBrDownEnemyCircle2, wallBangs...) than in `result['lifetime']"
   ]
  },
  {
   "cell_type": "markdown",
   "id": "fdf0d172-bb98-4dff-b085-980ea1906d5d",
   "metadata": {},
   "source": [
    "|--result . *a few others*...<br>\n",
    "|--result . lifetime |<br>\n",
    "|--result . **weekly** |<br>\n",
    "|. . . . . . . . . . . . . .|-- . all ------| - - - - - - - - - - - - - - - - - - - - - - -  - - - - - - - - - - - - - - - - - - - - - - - - - - - - - - - - - -> *unique key is 'properties' with several weekly stats attached. Data is **all modes** put together (br duos + plunder + rebirth...)* <br>\n",
    "|. . . . . . . . . . . . . . . . . . . . . . .|-- . properties . assists - - - - - - - - - - - - - - - - - - - - -  - - - - - - - - - - - - - - - - - - - -> *weekly n of kill assists* <br>\n",
    "|. . . . . . . . . . . . . . . . . . . . . . .|-- . properties . deaths - - - - - - - - - - - -  - - - - - - - - -  - - - - - - - - - - - - - - - - - - - -> *weekly n of deaths, all modes (or br + resurgence ? not sure)* <br>\n",
    "|. . . . . . . . . . . . . . . . . . . . . . .|-- . properties . matchesPlayed - - - - - - - - - - - - - - -  - - - - - - - - - - - - - - - - - - - -> *weekly n of games played* <br>\n",
    "|. . . . . . . . . . . . . . . . . . . . . . .|-- . properties . kdRatio - - - - - - - - - - - - - - - - - - - - -  - - - - - - - - - - - - - - - - - - -- > *weekly kills/deaths ratio* <br>\n",
    "|. . . . . . . . . . . . . . . . . . . . . . .|-- . properties . *a lot of others : executions, objectiveBrDownEnnemyCircle1, timePlayed...*<br>\n",
    "|. . . . . . . . . . . . . .|-- . mode -| - - - - - - - - - - - - - - - - - - - - - - - - - - -  - - - - - - - - - - - - - - - - - - - - - - - - - - - - - - -> *weekly stats, **per mode** (br, plunder, rebirth...)*<br>\n",
    "|. . . . . . . . . . . . . . . . . . . . . . .|-- . **br_all** . properties . assists - - - - - - - - - - - - - - - -  - - - - - - - - - - - - - - - - - - - -> *weekly n of assists for **all modes** (solos + duos + trios + quads). Thus, **same figures as weekly.all***<br>\n",
    "|. . . . . . . . . . . . . . . . . . . . . . .|-- . **br_solos** or **br_brduos** or **br_trios** or **br_quads** . properties . assists - - - - > *weekly n of assists for selected br mode.*<br>\n",
    "|. . . . . . . . . . . . . . . . . . . . . . .|-- . **br_dmz_plndtrios** or **br_rebirth_rebirth_rex** or (...) . properties . assists - -> *weekly n of assists for selected multiplayer mode.*<br>\n",
    "|. . . . . . . . . . . . . . . . . . . . . . .|-- . insert_mode_here . properties . *a lot of others : executions, objectiveBrDownEnnemyCircle1, timePlayed...* <br>\n",
    "|. . . . . . . . . . . . . .|-- . map <br>\n",
    "|--result . *a few others*...<br>"
   ]
  },
  {
   "cell_type": "markdown",
   "id": "0afd10e5",
   "metadata": {
    "tags": []
   },
   "source": [
    "## Matches"
   ]
  },
  {
   "cell_type": "markdown",
   "id": "f3bb3a79",
   "metadata": {},
   "source": [
    "Retrieve Player's last Matchs IDs.<br>\n",
    "If you remember well, you can then explore them with [Match Details](#go_match)"
   ]
  },
  {
   "cell_type": "markdown",
   "id": "ea030d58",
   "metadata": {},
   "source": [
    "##### Matches using client.GetPlayerMatches"
   ]
  },
  {
   "cell_type": "markdown",
   "id": "06b47046-d44b-4f95-9268-223d342ea8e8",
   "metadata": {},
   "source": [
    "method | parameters | endpoint (https://my.callofduty.com/api.papi-client/.)\n",
    ":------|:-----------|---------------------------------------------------\n",
    "client.|x, x, x, x, --x :  |"
   ]
  },
  {
   "cell_type": "code",
   "execution_count": 14,
   "id": "62ec405f",
   "metadata": {},
   "outputs": [
    {
     "name": "stdout",
     "output_type": "stream",
     "text": [
      "{'_client': <callofduty.client.Client object at 0x7ff318096760>,\n",
      " 'id': 12687337468561356192,\n",
      " 'platform': <Platform.Activision: 'uno'>,\n",
      " 'title': <Title.ModernWarfare: 'mw'>}\n",
      "{'_client': <callofduty.client.Client object at 0x7ff318096760>,\n",
      " 'id': 6150841097452849991,\n",
      " 'platform': <Platform.Activision: 'uno'>,\n",
      " 'title': <Title.ModernWarfare: 'mw'>}\n"
     ]
    }
   ],
   "source": [
    "# Parameters : platform, username, title, mode, start, end, limit\n",
    "# Endpoint if platform = Activision              : crm/cod/v2/title/title/platform/platform/gamer/username/matches/mode/start/startTime/end/endTime/details?limit=limit through method http.GetPlayerMatchesDetailed\n",
    "# Endpoint if platform = Bnet, PlayStation, Xbox : crm/cod/v2/title/title/platform/platform/gamer/username/matches/mode/startTime/start/end/endTime?limit=limit         through method http.GetPlayerMatches\n",
    "matches_using_client = await client.GetPlayerMatches(Platform.Activision, \"gentil_renard#3391079\", Title.ModernWarfare, Mode.Warzone, limit=2)\n",
    "for match in matches_using_client:\n",
    "    pprint(match.__dict__)"
   ]
  },
  {
   "cell_type": "markdown",
   "id": "0db08a96",
   "metadata": {
    "tags": []
   },
   "source": [
    "##### Matches using player.matches"
   ]
  },
  {
   "cell_type": "code",
   "execution_count": 15,
   "id": "9b9333fe",
   "metadata": {},
   "outputs": [
    {
     "name": "stdout",
     "output_type": "stream",
     "text": [
      "AMADEVS#1689 (BattleNet)\n",
      "{'_client': <callofduty.client.Client object at 0x7ff318096760>,\n",
      " 'id': 12687337468561356192,\n",
      " 'platform': <Platform.BattleNet: 'battle'>,\n",
      " 'title': <Title.ModernWarfare: 'mw'>}\n",
      "{'_client': <callofduty.client.Client object at 0x7ff318096760>,\n",
      " 'id': 6150841097452849991,\n",
      " 'platform': <Platform.BattleNet: 'battle'>,\n",
      " 'title': <Title.ModernWarfare: 'mw'>}\n"
     ]
    }
   ],
   "source": [
    "# Getting player object first, as defined in player.py\n",
    "# Parameters : platform, username\n",
    "player = await client.GetPlayer(Platform.BattleNet, \"AMADEVS#1689\")\n",
    "print(f\"{player.username} ({player.platform.name})\")\n",
    "\n",
    "# then, calling the .matches method\n",
    "# Parameters : title, mode, start, end, limit\n",
    "# Endpoint if platform = Activision              : crm/cod/v2/title/title/platform/platform/gamer/username/matches/mode/start/startTime/end/endTime/details?limit=limit through method http.GetPlayerMatchesDetailed\n",
    "# Endpoint if platform = Bnet, PlayStation, Xbox : crm/cod/v2/title/title/platform/platform/gamer/username/matches/mode/startTime/start/end/endTime?limit=limit         through method http.GetPlayerMatches\n",
    "# Returns a [n match objects]\n",
    "matches_using_player = await player.matches(Title.ModernWarfare, Mode.Warzone, limit=2)\n",
    "for match in matches_using_player:\n",
    "    pprint(match.__dict__)"
   ]
  },
  {
   "cell_type": "markdown",
   "id": "ce3fd247",
   "metadata": {
    "tags": []
   },
   "source": [
    "## Matches Summary"
   ]
  },
  {
   "cell_type": "markdown",
   "id": "2ba2dba5-ff36-4511-86cf-a6fe8ed2e80b",
   "metadata": {
    "tags": []
   },
   "source": [
    "### Matches Summary / methods"
   ]
  },
  {
   "cell_type": "markdown",
   "id": "53946a36",
   "metadata": {},
   "source": [
    "##### Summary using client.GetPlayesMatchesSummary"
   ]
  },
  {
   "cell_type": "markdown",
   "id": "75133c19-bd18-4346-97c1-ba2096036278",
   "metadata": {},
   "source": [
    "method | parameters | endpoint (https://my.callofduty.com/api.papi-client/.)\n",
    ":------|:-----------|---------------------------------------------------\n",
    "client.|x, x, x, x, --x :  |"
   ]
  },
  {
   "cell_type": "code",
   "execution_count": 16,
   "id": "0817762e",
   "metadata": {},
   "outputs": [
    {
     "name": "stdout",
     "output_type": "stream",
     "text": [
      "{'all': {'assists': 18.0,\n",
      "         'avgLifeTime': 629.2333333333333,\n",
      "         'damageDone': 19813.0,\n",
      "         'damageTaken': 9456.0,\n",
      "         'deaths': 45.0,\n",
      "         'distanceTraveled': 5373919.12,\n",
      "         'executions': 0.0,\n",
      "         'gulagDeaths': 9.0,\n",
      "         'gulagKills': 5.0,\n",
      "         'headshotPercentage': 0.48936170212765956,\n",
      "         'headshots': 23.0,\n",
      "         'kdRatio': 1.0444444444444445,\n",
      "         'kills': 47.0,\n",
      "         'killsPerGame': 3.1333333333333333,\n",
      "         'matchesPlayed': 15.0,\n",
      "         'nearmisses': 0.0,\n",
      "         'objectiveBrCacheOpen': 54.0,\n",
      "         'objectiveBrDownEnemyCircle1': 14.0,\n",
      "         'objectiveBrDownEnemyCircle2': 4.0,\n",
      "         'objectiveBrDownEnemyCircle3': 2.0,\n",
      "         'objectiveBrKioskBuy': 18.0,\n",
      "         'objectiveBrMissionPickupTablet': 16.0,\n",
      "         'objectiveLastStandKill': 25.0,\n",
      "         'objectiveMunitionsBoxTeammateUsed': 8.0,\n",
      "         'objectiveReviver': 13.0,\n",
      "         'objectiveTeamWiped': 18.0,\n",
      "         'objectiveTrophyDefense': 1.0,\n",
      "         'score': 45225.0,\n",
      "         'scorePerMinute': 71.87317900090058,\n",
      "         'timePlayed': 37754.0,\n",
      "         'wallBangs': 0.0},\n",
      " 'br_brduos': {'assists': 3.0,\n",
      "               'avgLifeTime': 764.1428571428571,\n",
      "               'damageDone': 1964.0,\n",
      "               'damageTaken': 880.0,\n",
      "               'deaths': 5.0,\n",
      "               'distanceTraveled': 582153.76,\n",
      "               'executions': 0.0,\n",
      "               'gulagDeaths': 2.0,\n",
      "               'gulagKills': 1.0,\n",
      "               'headshotPercentage': 1.0,\n",
      "               'headshots': 2.0,\n",
      "               'kdRatio': 0.4,\n",
      "               'kills': 2.0,\n",
      "               'killsPerGame': 1.0,\n",
      "               'matchesPlayed': 2.0,\n",
      "               'nearmisses': 0.0,\n",
      "               'objectiveBrCacheOpen': 9.0,\n",
      "               'objectiveBrDownEnemyCircle1': 2.0,\n",
      "               'objectiveBrDownEnemyCircle2': 1.0,\n",
      "               'objectiveBrDownEnemyCircle3': 1.0,\n",
      "               'objectiveBrKioskBuy': 1.0,\n",
      "               'objectiveBrMissionPickupTablet': 1.0,\n",
      "               'objectiveLastStandKill': 2.0,\n",
      "               'objectiveMunitionsBoxTeammateUsed': 1.0,\n",
      "               'objectiveReviver': 3.0,\n",
      "               'score': 3350.0,\n",
      "               'scorePerGame': 1675.0,\n",
      "               'scorePerMinute': 37.57711721817162,\n",
      "               'timePlayed': 5349.0,\n",
      "               'wallBangs': 0.0},\n",
      " 'br_brquads': {'assists': 3.0,\n",
      "                'avgLifeTime': 1144.375,\n",
      "                'damageDone': 2232.0,\n",
      "                'damageTaken': 2051.0,\n",
      "                'deaths': 5.0,\n",
      "                'distanceTraveled': 1210268.1800000002,\n",
      "                'executions': 0.0,\n",
      "                'gulagDeaths': 0.0,\n",
      "                'gulagKills': 2.0,\n",
      "                'headshotPercentage': 0.4,\n",
      "                'headshots': 2.0,\n",
      "                'kdRatio': 1.0,\n",
      "                'kills': 5.0,\n",
      "                'killsPerGame': 1.6666666666666667,\n",
      "                'matchesPlayed': 3.0,\n",
      "                'nearmisses': 0.0,\n",
      "                'objectiveBrCacheOpen': 13.0,\n",
      "                'objectiveBrDownEnemyCircle1': 2.0,\n",
      "                'objectiveBrDownEnemyCircle2': 1.0,\n",
      "                'objectiveBrKioskBuy': 11.0,\n",
      "                'objectiveBrMissionPickupTablet': 9.0,\n",
      "                'objectiveLastStandKill': 3.0,\n",
      "                'objectiveMunitionsBoxTeammateUsed': 3.0,\n",
      "                'objectiveReviver': 2.0,\n",
      "                'objectiveTrophyDefense': 1.0,\n",
      "                'score': 16625.0,\n",
      "                'scorePerGame': 5541.666666666667,\n",
      "                'scorePerMinute': 108.95685417804478,\n",
      "                'timePlayed': 9155.0,\n",
      "                'wallBangs': 0.0},\n",
      " 'br_brtrios': {'assists': 8.0,\n",
      "                'avgLifeTime': 791.9130434782609,\n",
      "                'damageDone': 6809.0,\n",
      "                'damageTaken': 3984.0,\n",
      "                'deaths': 16.0,\n",
      "                'distanceTraveled': 2563030.92,\n",
      "                'executions': 0.0,\n",
      "                'gulagDeaths': 7.0,\n",
      "                'gulagKills': 2.0,\n",
      "                'headshotPercentage': 0.45454545454545453,\n",
      "                'headshots': 5.0,\n",
      "                'kdRatio': 0.6875,\n",
      "                'kills': 11.0,\n",
      "                'killsPerGame': 1.5714285714285714,\n",
      "                'matchesPlayed': 7.0,\n",
      "                'nearmisses': 0.0,\n",
      "                'objectiveBrCacheOpen': 27.0,\n",
      "                'objectiveBrDownEnemyCircle1': 10.0,\n",
      "                'objectiveBrDownEnemyCircle2': 2.0,\n",
      "                'objectiveBrDownEnemyCircle3': 1.0,\n",
      "                'objectiveBrKioskBuy': 6.0,\n",
      "                'objectiveBrMissionPickupTablet': 6.0,\n",
      "                'objectiveLastStandKill': 8.0,\n",
      "                'objectiveMunitionsBoxTeammateUsed': 4.0,\n",
      "                'objectiveReviver': 8.0,\n",
      "                'objectiveTeamWiped': 2.0,\n",
      "                'score': 13900.0,\n",
      "                'scorePerGame': 1985.7142857142858,\n",
      "                'scorePerMinute': 45.78895355221258,\n",
      "                'timePlayed': 18214.0,\n",
      "                'wallBangs': 0.0},\n",
      " 'br_dmz_plndtrios': {'assists': 4.0,\n",
      "                      'avgLifeTime': 228.9090909090909,\n",
      "                      'damageDone': 8808.0,\n",
      "                      'damageTaken': 2541.0,\n",
      "                      'deaths': 19.0,\n",
      "                      'distanceTraveled': 1018466.26,\n",
      "                      'executions': 0.0,\n",
      "                      'headshotPercentage': 0.4827586206896552,\n",
      "                      'headshots': 14.0,\n",
      "                      'kdRatio': 1.5263157894736843,\n",
      "                      'kills': 29.0,\n",
      "                      'killsPerGame': 9.666666666666666,\n",
      "                      'matchesPlayed': 3.0,\n",
      "                      'nearmisses': 0.0,\n",
      "                      'objectiveBrCacheOpen': 5.0,\n",
      "                      'objectiveLastStandKill': 12.0,\n",
      "                      'objectiveTeamWiped': 16.0,\n",
      "                      'score': 11350.0,\n",
      "                      'scorePerGame': 3783.3333333333335,\n",
      "                      'scorePerMinute': 135.2263701350278,\n",
      "                      'timePlayed': 5036.0,\n",
      "                      'wallBangs': 0.0}}\n"
     ]
    }
   ],
   "source": [
    "# Parameters : title, mode, limit\n",
    "# Endpoint : crm/cod/v2/title/title/platform/platform/gamer/username/matches/mode/start/startTime/end/endTime/details?limit=limit\n",
    "# Returns stats for n last matches, all + per type  br, plunder ...\n",
    "\n",
    "summary = await client.GetPlayerMatchesSummary(Platform.BattleNet, \"AMADEVS#1689\", Title.ModernWarfare, Mode.Warzone, limit=15)# does not work if I use player = await client.GetPlayer(Platform.Activision, \"gentil_renard\") cf. Postman 'Warzone by Uno ID' ?\n",
    "pprint(summary, depth=2)"
   ]
  },
  {
   "cell_type": "markdown",
   "id": "6b80d20b",
   "metadata": {},
   "source": [
    "##### Summary using player.matchesSummary"
   ]
  },
  {
   "cell_type": "markdown",
   "id": "5a90676d-916d-4bf6-bf93-e3bf5d13082b",
   "metadata": {},
   "source": [
    "method | parameters | endpoint (https://my.callofduty.com/api.papi-client/.)\n",
    ":------|:-----------|---------------------------------------------------\n",
    "client.|x, x, x, x, --x :  |"
   ]
  },
  {
   "cell_type": "code",
   "execution_count": 17,
   "id": "80ee7bb7",
   "metadata": {},
   "outputs": [
    {
     "name": "stdout",
     "output_type": "stream",
     "text": [
      "AMADEVS#1689 (BattleNet)\n",
      "{'all': {...},\n",
      " 'br_brduos': {...},\n",
      " 'br_brquads': {...},\n",
      " 'br_brtrios': {...},\n",
      " 'br_dmz_plndtrios': {...},\n",
      " 'br_rebirth_rebirth_rex': {...}}\n"
     ]
    }
   ],
   "source": [
    "# Getting player object first, as defined in player.py\n",
    "# Parameters : platform, username\n",
    "player = await client.GetPlayer(Platform.BattleNet, \"AMADEVS#1689\")\n",
    "print(f\"{player.username} ({player.platform.name})\")\n",
    "\n",
    "# then, calling the .matchesSummary method\n",
    "# Parameters : title, mode, limit\n",
    "# Endpoint : crm/cod/v2/title/title/platform/platform/gamer/username/matches/mode/start/startTime/end/endTime/details?limit=limit\n",
    "# Returns stats for n last matches, all + per type  br, plunder ...\n",
    "summary = await player.matchesSummary(Title.ModernWarfare, Mode.Warzone, limit=20) # does not work if I use player = await client.GetPlayer(Platform.Activision, \"gentil_renard\") cf. Postman Warzone by Uno ID ?\n",
    "pprint(summary, depth=1)"
   ]
  },
  {
   "cell_type": "markdown",
   "id": "6a06b3ae-fa61-4419-8eda-d87f14da0898",
   "metadata": {},
   "source": [
    "### Matches Summary / output from COD API (Warzone oriented)"
   ]
  },
  {
   "cell_type": "markdown",
   "id": "5aabe41a-e24d-4069-8113-6e4f256b7762",
   "metadata": {},
   "source": [
    "The returned data share almost the same hierarchy and same stats as what's returned for [Player Profile, Weekly entry.](#go_profile_weekly)"
   ]
  },
  {
   "cell_type": "markdown",
   "id": "43948217",
   "metadata": {},
   "source": [
    "# Addon : additional methods added to the client to handle a \"new\" API route"
   ]
  },
  {
   "cell_type": "markdown",
   "id": "1fe88545",
   "metadata": {},
   "source": [
    "As listed on Postman, COD API has an another endpoint (see code below) currently not used by the client. I was curious whether or not it would give us anything different. <br>\n",
    "Turned out the additional method return n matches stats (summary + details per match), similar to what you would get with client.GetPlayersMatchesDetailed().<br>\n",
    "The only difference is that it takes UnoID as a parameter e.g. 12309926, different from Activision User ID e.g 'gentil_renard#3391079'. Additionally something you cannot do with other routes."
   ]
  },
  {
   "cell_type": "code",
   "execution_count": 18,
   "id": "89b0576b",
   "metadata": {},
   "outputs": [],
   "source": [
    "# we're adding additional methods in the Call of Duty .py client, without modifying the package.\n",
    "# Import the Class we want to modify, without touching the client's package\n",
    "\n",
    "from callofduty.client import Client\n",
    "from callofduty.http import HTTP\n",
    "from callofduty.http import Request\n",
    "import urllib.parse\n",
    "\n",
    "# define additonal method in callofduty.http HTTP Class\n",
    "# Endpoint extracted from Postman, currently not supported by the client (but turned out not to be mandatory tbh)\n",
    "\n",
    "async def GetWithUnoID(self, platform, username, title, mode, limit, startTimestamp, endTimeStamp):\n",
    "    return await self.Send(\n",
    "        Request(\n",
    "            \"GET\",\n",
    "            f\"api/papi-client/crm/cod/v2/title/{title}/platform/{platform}/uno/{urllib.parse.quote(username)}/matches/{mode}/start/{startTimestamp}/end/{endTimeStamp}/details?limit={limit}\",\n",
    "        )\n",
    "    )\n",
    "# define additional method in callofduty.client Client Class\n",
    "# We chose not to differentiate between 'summary'and 'matches\" entries when returning the results --as done in the the client (aka return them both).\n",
    "\n",
    "async def GetMatchesWithUnoID(self, platform: Platform, username, title: Title, mode: Mode, **kwargs):\n",
    "    limit = kwargs.get(\"limit\", 10)\n",
    "    startTimestamp = kwargs.get(\"startTimestamp\", 0)\n",
    "    endTimestamp = kwargs.get(\"endTimestamp\", 0)\n",
    "\n",
    "    data = (\n",
    "        await self.http.GetWithUnoID(\n",
    "            platform.value,\n",
    "            username,\n",
    "            title.value,\n",
    "            mode.value,\n",
    "            limit,\n",
    "            startTimestamp,\n",
    "            endTimestamp\n",
    "        )\n",
    "    )[\"data\"]\n",
    "\n",
    "    return data\n",
    "\n",
    "# let's add our additional methods into respective Classes, at runtime\n",
    "\n",
    "Client.GetMatchesWithUnoID = GetMatchesWithUnoID\n",
    "HTTP.GetWithUnoID = GetWithUnoID"
   ]
  },
  {
   "cell_type": "code",
   "execution_count": 19,
   "id": "ab24e774",
   "metadata": {},
   "outputs": [
    {
     "name": "stdout",
     "output_type": "stream",
     "text": [
      "{'matches': [{'draw': False,\n",
      "              'duration': 1657000,\n",
      "              'gameType': 'wz',\n",
      "              'map': 'mp_don4',\n",
      "              'matchID': '2604020260401454789',\n",
      "              'mode': 'br_brtrios',\n",
      "              'player': {...},\n",
      "              'playerCount': 151,\n",
      "              'playerStats': {...},\n",
      "              'playlistName': None,\n",
      "              'privateMatch': False,\n",
      "              'rankedTeams': None,\n",
      "              'teamCount': 51,\n",
      "              'utcEndSeconds': 1633229017,\n",
      "              'utcStartSeconds': 1633227360,\n",
      "              'version': 1},\n",
      "             {'draw': False,\n",
      "              'duration': 1626000,\n",
      "              'gameType': 'wz',\n",
      "              'map': 'mp_don4',\n",
      "              'matchID': '13089921240256125878',\n",
      "              'mode': 'br_brduos',\n",
      "              'player': {...},\n",
      "              'playerCount': 150,\n",
      "              'playerStats': {...},\n",
      "              'playlistName': None,\n",
      "              'privateMatch': False,\n",
      "              'rankedTeams': None,\n",
      "              'teamCount': 76,\n",
      "              'utcEndSeconds': 1633227906,\n",
      "              'utcStartSeconds': 1633226280,\n",
      "              'version': 1}],\n",
      " 'summary': {'all': {'assists': 6.0,\n",
      "                     'avgLifeTime': 706.25,\n",
      "                     'damageDone': 2656.0,\n",
      "                     'damageTaken': 1480.0,\n",
      "                     'deaths': 6.0,\n",
      "                     'distanceTraveled': 703964.0,\n",
      "                     'executions': 0.0,\n",
      "                     'gulagDeaths': 4.0,\n",
      "                     'gulagKills': 0.0,\n",
      "                     'headshotPercentage': 0.5,\n",
      "                     'headshots': 2.0,\n",
      "                     'kdRatio': 0.6666666666666666,\n",
      "                     'kills': 4.0,\n",
      "                     'killsPerGame': 2.0,\n",
      "                     'matchesPlayed': 2.0,\n",
      "                     'nearmisses': 0.0,\n",
      "                     'objectiveBrCacheOpen': 12.0,\n",
      "                     'objectiveBrDownEnemyCircle1': 4.0,\n",
      "                     'objectiveBrDownEnemyCircle4': 1.0,\n",
      "                     'objectiveBrKioskBuy': 6.0,\n",
      "                     'objectiveBrMissionPickupTablet': 6.0,\n",
      "                     'objectiveDestroyedEquipment': 2.0,\n",
      "                     'objectiveLastStandKill': 4.0,\n",
      "                     'objectiveMunitionsBoxTeammateUsed': 2.0,\n",
      "                     'objectiveReviver': 3.0,\n",
      "                     'objectiveTeamWiped': 2.0,\n",
      "                     'score': 10800.0,\n",
      "                     'scorePerMinute': 114.69026548672566,\n",
      "                     'timePlayed': 5650.0,\n",
      "                     'wallBangs': 0.0},\n",
      "             'br_brduos': {'assists': 3.0,\n",
      "                           'avgLifeTime': 872.0,\n",
      "                           'damageDone': 1944.0,\n",
      "                           'damageTaken': 598.0,\n",
      "                           'deaths': 2.0,\n",
      "                           'distanceTraveled': 318796.34,\n",
      "                           'executions': 0.0,\n",
      "                           'gulagDeaths': 1.0,\n",
      "                           'gulagKills': 0.0,\n",
      "                           'headshotPercentage': 0.5,\n",
      "                           'headshots': 2.0,\n",
      "                           'kdRatio': 2.0,\n",
      "                           'kills': 4.0,\n",
      "                           'killsPerGame': 4.0,\n",
      "                           'matchesPlayed': 1.0,\n",
      "                           'nearmisses': 0.0,\n",
      "                           'objectiveBrCacheOpen': 4.0,\n",
      "                           'objectiveBrDownEnemyCircle1': 4.0,\n",
      "                           'objectiveBrKioskBuy': 1.0,\n",
      "                           'objectiveBrMissionPickupTablet': 2.0,\n",
      "                           'objectiveDestroyedEquipment': 2.0,\n",
      "                           'objectiveLastStandKill': 3.0,\n",
      "                           'objectiveMunitionsBoxTeammateUsed': 1.0,\n",
      "                           'objectiveReviver': 2.0,\n",
      "                           'objectiveTeamWiped': 2.0,\n",
      "                           'score': 4625.0,\n",
      "                           'scorePerGame': 4625.0,\n",
      "                           'scorePerMinute': 106.07798165137613,\n",
      "                           'timePlayed': 2616.0,\n",
      "                           'wallBangs': 0.0},\n",
      "             'br_brtrios': {'assists': 3.0,\n",
      "                            'avgLifeTime': 606.8,\n",
      "                            'damageDone': 712.0,\n",
      "                            'damageTaken': 882.0,\n",
      "                            'deaths': 4.0,\n",
      "                            'distanceTraveled': 385167.66,\n",
      "                            'executions': 0.0,\n",
      "                            'gulagDeaths': 3.0,\n",
      "                            'gulagKills': 0.0,\n",
      "                            'headshotPercentage': 0.0,\n",
      "                            'headshots': 0.0,\n",
      "                            'kdRatio': 0.0,\n",
      "                            'kills': 0.0,\n",
      "                            'killsPerGame': 0.0,\n",
      "                            'matchesPlayed': 1.0,\n",
      "                            'nearmisses': 0.0,\n",
      "                            'objectiveBrCacheOpen': 8.0,\n",
      "                            'objectiveBrDownEnemyCircle4': 1.0,\n",
      "                            'objectiveBrKioskBuy': 5.0,\n",
      "                            'objectiveBrMissionPickupTablet': 4.0,\n",
      "                            'objectiveLastStandKill': 1.0,\n",
      "                            'objectiveMunitionsBoxTeammateUsed': 1.0,\n",
      "                            'objectiveReviver': 1.0,\n",
      "                            'score': 6175.0,\n",
      "                            'scorePerGame': 6175.0,\n",
      "                            'scorePerMinute': 122.11601845748187,\n",
      "                            'timePlayed': 3034.0,\n",
      "                            'wallBangs': 0.0}}}\n"
     ]
    }
   ],
   "source": [
    "# Now we can use our new method as if it was in the package ^_^\n",
    "matches_with_unoID = await client.GetMatchesWithUnoID(Platform.Activision, \"12309926\", Title.ModernWarfare, Mode.Warzone, limit=2)\n",
    "pprint(matches_with_unoID, depth=3)"
   ]
  },
  {
   "cell_type": "code",
   "execution_count": null,
   "id": "2bdc485b-2d08-4110-9065-c21ffe8505a8",
   "metadata": {},
   "outputs": [],
   "source": []
  }
 ],
 "metadata": {
  "kernelspec": {
   "display_name": "Python 3 (ipykernel)",
   "language": "python",
   "name": "python3"
  },
  "language_info": {
   "codemirror_mode": {
    "name": "ipython",
    "version": 3
   },
   "file_extension": ".py",
   "mimetype": "text/x-python",
   "name": "python",
   "nbconvert_exporter": "python",
   "pygments_lexer": "ipython3",
   "version": "3.9.5"
  }
 },
 "nbformat": 4,
 "nbformat_minor": 5
}
