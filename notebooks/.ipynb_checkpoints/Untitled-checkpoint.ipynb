{
 "cells": [
  {
   "cell_type": "markdown",
   "id": "633f02b6-c02c-4d1e-a798-133a54c78bca",
   "metadata": {
    "tags": []
   },
   "source": [
    "What you can use | ...depends on .py |     ...depends on .py| ... where it does that call to COD API (https://my.callofduty.com/api.papi-client/.)\n",
    ":-------------|:--------------|:------------------|:------------------------------------\n",
    "client.GetPlayer|returns Player||\n",
    "client.SearchPlayers|http.SearchPlayer||crm/cod/v2/platform/platform/username/username/search\n",
    "client.GetPlayerProfile|http.GetPlayerProfile||stats/cod/v1/title/title/platform/platform/gamer/username/profile/type/mode\n",
    "client.GetPlayerMatches|http.GetPlayerMatches||crm/cod/v2/title/title/platform/platform/gamer/username/matches/mode/start/startTime/end/endTime?limit=limit\n",
    "client.GetPlayerMatchesSummary|http.GetPlayerMatchesDetailed||crm/cod/v2/title/title/platform/platform/gamer/username/matches/mode/start/{startTime/end/endTime/details?limit=limit\n",
    "client.GetMatch|http.GetMatch||ce/v1/title/{title}/platform/{platform}/match/{matchId}/matchMapEvents\n",
    "client.GetFullMatch|http.GetFullMatch||crm/cod/v2/title/title/platform/platform/fullMatch/mode/matchId/language\n",
    "*re. getMatch endpoint matchMapEvents is for multiplayer only (no Warzone)*|||\n",
    "*Others: GetMyFriends etc*|||\n",
    "---|---||\n",
    "player.profile |client.GetPlayerProfile|http.GetPlayerProfile|stats/cod/v1/title/title/platform/platform/gamer/username/profile/type/mode\n",
    "player.matchesSummary|client.GetPlayerMatchesSummary|http.GetPlayerMatchesDetailed|crm/cod/v2/title/title/platform/platform/gamer/username/matches/mode/startTime/start/end/endTime/details?limit=limit\n",
    "player.matches |client.GetPlayerMatches|http.GetPlayerMatches|crm/cod/v2/title/title/platform/platform/gamer/username/matches/mode/startTime/start/end/endTime}?limit=limit\n",
    "*+ player.loadouts, player.loadoutUnlocks...*|||\n",
    "---|---||\n",
    "match.teams|client.GetMatchTeams||ce/v1/title/title/platform/platform/match/matchId/matchMapEvents\n",
    "match.details|client.GetMatchDetails||ce/v1/title/title/platform/platform/match/matchId/matchMapEvents\n",
    "*Endpoint matchMapEvents works for multiplayer only (no Warzone)*|||"
   ]
  },
  {
   "cell_type": "code",
   "execution_count": null,
   "id": "83c96a30-e580-44d8-9258-e91ca02a5474",
   "metadata": {},
   "outputs": [],
   "source": []
  }
 ],
 "metadata": {
  "kernelspec": {
   "display_name": "Python 3 (ipykernel)",
   "language": "python",
   "name": "python3"
  },
  "language_info": {
   "codemirror_mode": {
    "name": "ipython",
    "version": 3
   },
   "file_extension": ".py",
   "mimetype": "text/x-python",
   "name": "python",
   "nbconvert_exporter": "python",
   "pygments_lexer": "ipython3",
   "version": "3.9.5"
  }
 },
 "nbformat": 4,
 "nbformat_minor": 5
}
