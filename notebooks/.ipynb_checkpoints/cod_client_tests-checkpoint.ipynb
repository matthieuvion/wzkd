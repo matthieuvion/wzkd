{
 "cells": [
  {
   "cell_type": "markdown",
   "id": "3cfc6a75-8858-4f0a-a61b-e020001392ac",
   "metadata": {
    "tags": []
   },
   "source": [
    "# COD private API through CallofDuty.py"
   ]
  },
  {
   "cell_type": "markdown",
   "id": "e8c140fe-3d3b-45c1-846c-4b6055dece3b",
   "metadata": {},
   "source": [
    "---"
   ]
  },
  {
   "cell_type": "markdown",
   "id": "cb9e8a2e-e701-458f-ae68-42359278ce71",
   "metadata": {},
   "source": [
    "[Credits to github.com/EthanC](https://github.com/EthanC/CallofDuty.py) <br>For this well made Python client <br><br>\n",
    "> *\"CallofDuty.py is an asynchronous, object-oriented Python wrapper for the Call of Duty API.\"*"
   ]
  },
  {
   "cell_type": "markdown",
   "id": "aa525115-806c-4ab8-907d-317f6fae7476",
   "metadata": {},
   "source": [
    "### Context & objectives"
   ]
  },
  {
   "cell_type": "markdown",
   "id": "ea888e0f-9f01-4a2c-adb1-f49c4582ccfb",
   "metadata": {
    "tags": []
   },
   "source": [
    "In this notebook, we will test & learn how to use this **--non official, Call of Duty (COD) client to access players' stats**, with a strong inclination towards **Warzone**. <br>\n",
    "If you didn't know, *Warzone* is a free Battle Royale game, part of the Call of Duty universe, developped by Activision and played by dozen millions of people.<br>\n",
    "As a player (of Warzone or the more classic online multiplayers modes of the different COD games) you already have access to some stats (score, kills/deaths ratio, rank...) on [my.callofduty.com](https://my.callofduty.com/) but they're poorly put together.<br> \n",
    "Cause or consequence, this led to to the creation of a rich ecosytem of --often very popular, websites (cod tracker, wzranked...) promising progression trackers and in depth analysis to players. <br>\n",
    "As Activision is using a **\"private\" API** (with no support) on the callofduty.com website and the documentation is very sparse, **we will intend to explore and test the different functions & outputs offered by this wrapper to work with the API.**"
   ]
  },
  {
   "cell_type": "markdown",
   "id": "2e6dbb9f-77f0-42a8-a610-07cf84a23f92",
   "metadata": {},
   "source": [
    "### Resources"
   ]
  },
  {
   "cell_type": "markdown",
   "id": "879fa19f-30d1-41c2-8364-5ef53e613d70",
   "metadata": {},
   "source": [
    "AFAIK, the most complete wrappers for COD api are this one and another written in NodeJS [(Github)](https://docs.codapi.dev/getting-started). <br>\n",
    "A good starting point if you want to get your hands dirty in COD stats would be to read both code. Besides, I would also recommend that you read the [documentation](https://docs.codapi.dev/getting-started) of the NodeJS wrapper as well as this [Postman resources](https://documenter.getpostman.com/view/5519582/SzzgAefq).<br>They will give you a good overall idea of which endpoints, authentification and data are at your disposal."
   ]
  },
  {
   "cell_type": "markdown",
   "id": "9a89261c-4fcc-4ca8-9376-938ee0e1e66b",
   "metadata": {
    "tags": []
   },
   "source": [
    "### Install and run"
   ]
  },
  {
   "cell_type": "markdown",
   "id": "8fb70564-3086-462e-9308-9a9cf1653d91",
   "metadata": {},
   "source": [
    "Personal preferences here but I'm using miniconda (conda) as a environment manager (could be pyenv etc.) and Poetry for dependency managing and packaging. <br>\n",
    "In my conda environment I have Python 3.9 (needed for the client), Jupyter and Poetry installed.\n",
    "1. Create a new project with `poetry new your_project_name` or, if you have already a pre-populated directory, `cd your_existing_project` and then `poetry init`. Cf. [Poetry documentation](https://python-poetry.org/docs/)\n",
    "2. Install the Call of Duty client : `poetry add callofduty.py`. Poetry will make sure to install all the requirements.\n",
    "3. Run this notebook : `poetry run jupyter lab`, or `poetry shell` to start a new shell and then `jupyter lab` in the newly opened terminal.\n",
    "This will ensure you have access to all dependencies, in a custom and clean environment, thus callofduty.py and the notebook perfectly"
   ]
  },
  {
   "cell_type": "markdown",
   "id": "4449b1f2-c98f-4c4d-8de9-1f363acbff31",
   "metadata": {
    "tags": []
   },
   "source": [
    "## Client"
   ]
  },
  {
   "cell_type": "code",
   "execution_count": 1,
   "id": "a4024020-6861-4f08-8255-1f520510c9ec",
   "metadata": {},
   "outputs": [],
   "source": [
    "import asyncio\n",
    "import os\n",
    "import dotenv\n",
    "from pprint import pprint\n",
    "import callofduty\n",
    "from callofduty import Mode, Platform, Title, TimeFrame, GameType"
   ]
  },
  {
   "cell_type": "markdown",
   "id": "8d59edf2-ce4d-4d61-8a5a-ee992be2c887",
   "metadata": {},
   "source": [
    "### Login to the API"
   ]
  },
  {
   "cell_type": "markdown",
   "id": "4ad175cd-fa64-4174-8151-f319bf13908f",
   "metadata": {},
   "source": [
    "Two ways to authenticate to COD API. Once you're logged in, you will have access to either private (your info) or protected routes that may supply data for any given user. [Postman](https://docs.codapi.dev/getting-started) to further know what's happening under the hood. <br> 1. Login & password with `callofduty.Login(activision_email, pwd)`. I think it doesn't work anymore since Activision added a reCaptcha (but seems to be doable with the [NodeJS package](https://docs.codapi.dev/getting-started) that's using puppeteers + a plugin to bypass it).<br>2. Single Sign On (sso) `callofduty.Login(SSO_TOKEN)` added recently, that uses a SSO token you get while logging to Activision through your platform of choice (Bnet, Xbox, PS)."
   ]
  },
  {
   "cell_type": "code",
   "execution_count": 2,
   "id": "62f2d111-4fc8-4952-b8b4-d3dc3c7d1494",
   "metadata": {},
   "outputs": [],
   "source": [
    "# Using SSO\n",
    "# We're storing our SSO token in an .env file stored locally to separate our config from code (w. python-dotenv). An.env-template file (with help to retrieve token) is provided for you to edit and populate the variable(s)\n",
    "# callofduty.py client .Login() goes through all the authentification steps and initiate a session to access protected routes\n",
    "# The client is asynchronous thus the 'await style'\n",
    "from dotenv import load_dotenv\n",
    "load_dotenv()\n",
    "client = await callofduty.Login(sso=os.environ[\"SSO\"])"
   ]
  },
  {
   "cell_type": "markdown",
   "id": "99e49cde-5270-4055-bf73-30dae7cca741",
   "metadata": {},
   "source": [
    "### COD universe API, endpoints & client"
   ]
  },
  {
   "cell_type": "markdown",
   "id": "fb2ea2e2-8bfa-445b-83fc-f38ca55086a5",
   "metadata": {},
   "source": [
    "COD ecosystem is indeed diverse :\n",
    "- You can have access to one or multiple titles (*Modern Warfare*, *Black Ops Cold War* ...)\n",
    "- playable locally or more likely online multiplayer\n",
    "- within every game, several 'modes', e.g the the 'Battle Royale' *Warzone*, also with different maps (called 'modes' also :p)\n",
    "- through multiple platforms, depending on the game (Steam, Battle Net, Xbox Live...)"
   ]
  },
  {
   "cell_type": "markdown",
   "id": "45806196-8853-443b-973f-f824847a22f1",
   "metadata": {},
   "source": [
    "Players need to have enabled their visibility to 'on' (obvs. off by default) in their settings so their profile is searchable.<br>\n",
    "The way the Activision API works is that you generally need to specify, for any given player's, its gamertag associated to a given platform and then the title/mode/sub you want to get data from (a player can have two different gamertags whether he is using BattleNet or Playstation Live).<br>\n",
    "For in-depth access to player's stats, one generally needs to specify the Platform (e.g. Activision), Title (e.g. Modern Warfare) and the Mode (e.g. multiplayer)<br>\n",
    "Since it's our focus here, once we identified a player by his gamertag & associated platform, we will usually specify `title = modernwarfare` and `mode = warzone` as Warzone is a free mode developped within the Modern Warfare engine and thus organized this way in the API.<br>\n",
    "Luckily for us the python wrapper handles the naming in an enums.py file (`Mode, Platform...`) to build the endpoints smoothly, as well as objects/classes (`client.py, match.py, player.py,...`) to work with."
   ]
  },
  {
   "cell_type": "markdown",
   "id": "704e9769-38af-460b-a409-61ea03ba7409",
   "metadata": {},
   "source": [
    "Example of a GET request built in the client to access the API : <br>\n",
    "Cf. [Postman](https://docs.codapi.dev/getting-started) for details about API's versions & path variables as well as differences between between private, protected and public routes"
   ]
  },
  {
   "cell_type": "markdown",
   "id": "4f49aeae-7d35-4583-92e8-262b3348f499",
   "metadata": {},
   "source": [
    "> `Request(\"GET\",f\"api/papi-client/leaderboards/v2/title/{title}/platform/{platform}/time/{timeFrame}/type/{gameType}/mode/{gameMode}/page/{page}\",)`"
   ]
  },
  {
   "cell_type": "markdown",
   "id": "df0d83d0-599c-4c9b-bdc1-4a2bc5667f57",
   "metadata": {},
   "source": [
    "### Client architecture & (some) useful methods"
   ]
  },
  {
   "cell_type": "markdown",
   "id": "778c2db8-8bcc-4376-a759-7ebd254ab522",
   "metadata": {},
   "source": [
    "The table below is quite complete but not exhaustive, took long enough to do ^_^ <br>\n",
    "Mainly a good way to have the big picture on protected/public routes, useful to gather player Stats.<br>\n",
    "As mentioned on Postman, routes are either private, public or protected; this will be our plan when we explore the API. <br>"
   ]
  },
  {
   "cell_type": "code",
   "execution_count": 3,
   "id": "d6871f9b-a457-4b9b-9743-bcbccffc4024",
   "metadata": {},
   "outputs": [],
   "source": [
    "# Temp note, endpoints listed by Postman :\n",
    "# \"warzone profile\"     https://my.callofduty.com/api/papi-client/stats/cod/:version/title/:game/platform/:platform/gamer/:username/profile/type/:mode\n",
    "# \"warzone matches\"     https://my.callofduty.com/api/papi-client/crm/cod/:version/title/:game/platform/:platform/gamer/:username/matches/:mode/start/:start/end/:end/details\n",
    "# \"multiplayer profile\" https://my.callofduty.com/api/papi-client/stats/cod/:version/title/:game/platform/:platform/gamer/:username/profile/type/:mode?periods=1616126399000,1616039999000,1615953599000,1615867199000,1615780799000,1615697999000,1615611599000\n",
    "# \"Multiplayer Matches\" https://my.callofduty.com/api/papi-client/crm/cod/:version/title/:game/platform/:platform/gamer/:username/matches/:mode/start/:start/end/:end/details\n",
    "# Warzone p. by UnoID : https://my.callofduty.com/api/papi-client/crm/cod/:version/title/:game/platform/:platform/uno/:username/matches/:mode/start/:start/end/:end/details"
   ]
  },
  {
   "cell_type": "code",
   "execution_count": 4,
   "id": "c59c1c0d-76e6-4ab2-948e-46eede29acf6",
   "metadata": {},
   "outputs": [
    {
     "data": {
      "text/html": [
       "<style>table {align:left;display:block} </style>"
      ],
      "text/plain": [
       "<IPython.core.display.HTML object>"
      ]
     },
     "execution_count": 4,
     "metadata": {},
     "output_type": "execute_result"
    }
   ],
   "source": [
    "# Do not like when my md table is not aligned to the left\n",
    "from IPython.core.display import HTML\n",
    "table_css = 'table {align:left;display:block} '\n",
    "HTML('<style>{}</style>'.format(table_css))"
   ]
  },
  {
   "cell_type": "markdown",
   "id": "e921d549-601c-4910-ab28-592acdc6be93",
   "metadata": {
    "tags": []
   },
   "source": [
    "What you can use | ...depends on .py |     ...depends on .py| ... where it does that call to COD API (https://my.callofduty.com/api.papi-client/.)\n",
    ":-------------|:--------------|:------------------|:------------------------------------\n",
    "client.GetPlayer|returns Player||\n",
    "client.SearchPlayers|http.SearchPlayer||crm/cod/v2/platform/platform/username/username/search\n",
    "client.GetPlayerProfile|http.GetPlayerProfile||stats/cod/v1/title/title/platform/platform/gamer/username/profile/type/mode\n",
    "client.GetPlayerMatches|http.GetPlayerMatches||crm/cod/v2/title/title/platform/platform/gamer/username/matches/mode/start/startTime/end/endTime?limit=limit\n",
    "client.GetPlayerMatchesDetailed|http.GetPlayerMatchesDetailed||crm/cod/v2/title/title/platform/platform/gamer/username/matches/mode/start/{startTime/end/endTime/details?limit=limit\n",
    "client.GetMatch|http.GetMatch||ce/v1/title/{title}/platform/{platform}/match/{matchId}/matchMapEvents\n",
    "client.GetFullMatch|http.GetFullMatch||crm/cod/v2/title/title/platform/platform/fullMatch/mode/matchId/language\n",
    "*re. getMatch endpoint matchMapEvents is for multiplayer only (no Warzone)*|||\n",
    "*Others: GetMyFriends etc*|||\n",
    "---|---||\n",
    "player.profile |client.GetPlayerProfile|http.GetPlayerProfile|stats/cod/v1/title/title/platform/platform/gamer/username/profile/type/mode\n",
    "player.matchesSummary|client.GetPlayerMatchesSummary|http.GetPlayerMatchesDetailed|crm/cod/v2/title/title/platform/platform/gamer/username/matches/mode/startTime/start/end/endTime/details?limit=limit\n",
    "player.matches |client.GetPlayerMatches|http.GetPlayerMatches|crm/cod/v2/title/title/platform/platform/gamer/username/matches/mode/startTime/start/end/endTime}?limit=limit\n",
    "*+ player.loadouts, player.loadoutUnlocks...*|||\n",
    "---|---||\n",
    "match.teams|client.GetMatchTeams||ce/v1/title/title/platform/platform/match/matchId/matchMapEvents\n",
    "match.details|client.GetMatchDetails||ce/v1/title/title/platform/platform/match/matchId/matchMapEvents\n",
    "*Endpoint matchMapEvents works for multiplayer only (no Warzone)*|||"
   ]
  },
  {
   "cell_type": "markdown",
   "id": "0d665407-830d-4892-a987-46a286fabf78",
   "metadata": {
    "tags": []
   },
   "source": [
    "### Private routes"
   ]
  },
  {
   "cell_type": "markdown",
   "id": "78dec5da-b7b4-4370-bd91-9bc5ad4ae359",
   "metadata": {},
   "source": [
    "Not our focus here but once logged in, you have access to private routes related to you own account (only) e.g. your friends' profiles (`client.GetMyFriends()`) and activity, account search visibility, used platform (e.g. Battlenet), identifiers linked to your Activision account etc. <br>\n",
    "Cf. the test.py where ethanC have listed all the methods available in his client."
   ]
  },
  {
   "cell_type": "code",
   "execution_count": 5,
   "id": "ebf72502-63d6-4b3a-afc3-7606cda33c58",
   "metadata": {},
   "outputs": [
    {
     "name": "stdout",
     "output_type": "stream",
     "text": [
      "chrissou#9246578, Online: False\n",
      "Marmiton#4932812, Online: False\n",
      "Moinolol#4713832, Online: False\n",
      "nicoyzovitch#7591470, Online: False\n",
      "ninjawariorbob#7568880, Online: False\n",
      "Confetti_Seeker#1916728, Online: False\n"
     ]
    }
   ],
   "source": [
    "# For instance the .GetMyFriends() method, build the private endpoint to retrieve your friends statuses, using the authenticated client (personal credendials & associated gamertag).\n",
    "friends = await client.GetMyFriends()\n",
    "for friend in friends:\n",
    "    print(f\"{friend.username}, Online: {friend.online}\")"
   ]
  },
  {
   "cell_type": "code",
   "execution_count": 6,
   "id": "c2be4a66-e381-4381-b3ea-8bc814321cda",
   "metadata": {},
   "outputs": [
    {
     "name": "stdout",
     "output_type": "stream",
     "text": [
      "{'_client': <callofduty.client.Client object at 0x7f8e6029a760>,\n",
      " 'accountId': '1722124035977126995',\n",
      " 'avatarUrl': None,\n",
      " 'identities': [],\n",
      " 'online': False,\n",
      " 'platform': <Platform.Activision: 'uno'>,\n",
      " 'username': 'chrissou#9246578'}\n"
     ]
    }
   ],
   "source": [
    "# Here, the client nicely returns a list of dict w. friends' info (client's code indicates the COD API usually returns json or txt)\n",
    "pprint(friends[0].__dict__)"
   ]
  },
  {
   "cell_type": "markdown",
   "id": "5ec6f198-daa3-481f-9ee2-ada0fbaf0c02",
   "metadata": {
    "tags": []
   },
   "source": [
    "### Public routes"
   ]
  },
  {
   "cell_type": "markdown",
   "id": "a01eb19a-de8d-4291-a675-d473a2fb9a45",
   "metadata": {},
   "source": [
    "Routes you can access without authentification. Mostly the leaderboards for COD classic ultiplayer modes (MW, BO4), as well as maps & modes available for multiplayer.<br>"
   ]
  },
  {
   "cell_type": "markdown",
   "id": "6b1675e0-db6f-4663-899e-2e8ba6b380c2",
   "metadata": {},
   "source": [
    "#### Leaderboards"
   ]
  },
  {
   "cell_type": "markdown",
   "id": "a813363e-da42-4d48-bf4c-1a668f66059f",
   "metadata": {},
   "source": [
    "Global ranking of players by their score, kills, kills deaths (kd) ratios etc.<br>\n",
    "Searched a lot and in every manner possible but Warzone leaderboard (you can see in in-game :-p) endpoint is protected/out of my reach.<br>\n",
    "Still, an ex. on how to get the leaderboard from the \"Cyber\" mode in COD Modern Warfare. The client return a leaderboard object, with entries (players) you can also dive into :"
   ]
  },
  {
   "cell_type": "code",
   "execution_count": 7,
   "id": "7825eed7-d339-455a-acc8-4ad7a4c7201f",
   "metadata": {},
   "outputs": [
    {
     "name": "stdout",
     "output_type": "stream",
     "text": [
      "{'_client': <callofduty.client.Client object at 0x7f8e6029a760>,\n",
      " 'columns': [...],\n",
      " 'entries': [...],\n",
      " 'gameMode': 'cyber',\n",
      " 'gameType': <GameType.Core: 'core'>,\n",
      " 'page': 1,\n",
      " 'pages': 407422,\n",
      " 'platform': <Platform.BattleNet: 'battle'>,\n",
      " 'timeFrame': <TimeFrame.AllTime: 'alltime'>,\n",
      " 'title': <Title.ModernWarfare: 'mw'>}\n",
      "\n",
      " entries:\n",
      "1: 小赵同学#1148917 (BattleNet)\n",
      "2: BrattySis#6834874 (BattleNet)\n",
      "3: RNYNN#6664890 (BattleNet)\n"
     ]
    }
   ],
   "source": [
    "leaderboard = await client.GetLeaderboard(title=Title.ModernWarfare, platform=Platform.BattleNet, gameType=GameType.Core, gameMode=\"cyber\", timeFrame=TimeFrame.AllTime, page=1)\n",
    "pprint(leaderboard.__dict__, depth=1)\n",
    "print('\\n entries:')\n",
    "for entry in leaderboard.entries[:3]:\n",
    "    print(f\"{entry.rank}: {entry.username} ({entry.platform.name})\")"
   ]
  },
  {
   "cell_type": "markdown",
   "id": "a784eccc-0132-4724-a85c-25e93654bbd9",
   "metadata": {},
   "source": [
    "In the client other methods that access public routes are available such as `.GetPlayerLeaderboard()` (returns the leadeboard'page for a particular user; no Warzone) and `.GetFullMatch()` (Wz compatible)"
   ]
  },
  {
   "cell_type": "markdown",
   "id": "237add19-a3f9-4a76-814e-94a8420d4eca",
   "metadata": {},
   "source": [
    "<a id='go_match'></a>"
   ]
  },
  {
   "cell_type": "markdown",
   "id": "e25a7f91-6d05-4f51-b560-713d83fbecb2",
   "metadata": {},
   "source": [
    "#### Match details : match/players stats given a certain MatchId"
   ]
  },
  {
   "cell_type": "markdown",
   "id": "a16dd9eb-f4be-4bdc-be7b-c6acdd8d506d",
   "metadata": {},
   "source": [
    "Get detailed stats about a match given a match ID, (moderwarfare/multiplayer or modernware/Warzone etc.)"
   ]
  },
  {
   "cell_type": "code",
   "execution_count": 8,
   "id": "01602e26-c341-4b60-b34b-f75d88f43793",
   "metadata": {},
   "outputs": [],
   "source": [
    "# w. matchID taken from the Postman example. In this case a battle royale (Warzone) game with 145 players organizezd in teams of 4 (squads).\n",
    "match = await client.GetFullMatch(Platform.Activision, Title.ModernWarfare, Mode.Warzone, matchId=11763015911965617014)"
   ]
  },
  {
   "cell_type": "markdown",
   "id": "5cee65ed-f5a8-4416-9381-86a8fc742a26",
   "metadata": {},
   "source": [
    "Returns a dict with a list of dict, every dict being a player-and-his-stats (here 145).<br>\n",
    "In this match : 145 players, organized in teams of 4 ('br squad').<br>\n",
    "Our selected player had 0 kills (playerStats.kills), 2 deathes (playerStats.deaths) and was moving 87% of the time (.percentTimeMoving) and the whole team ranked 31 (.teamPlacement)"
   ]
  },
  {
   "cell_type": "code",
   "execution_count": 9,
   "id": "688953ad-dfb4-44d9-bc79-c51c66ffb5ca",
   "metadata": {},
   "outputs": [
    {
     "name": "stdout",
     "output_type": "stream",
     "text": [
      "{'draw': False,\n",
      " 'duration': 1634000,\n",
      " 'gameType': 'wz',\n",
      " 'map': 'mp_don3',\n",
      " 'matchID': '11763015911965617014',\n",
      " 'mode': 'br_brquads',\n",
      " 'player': {'awards': {},\n",
      "            'brMissionStats': {...},\n",
      "            'loadout': [...],\n",
      "            'rank': 54.0,\n",
      "            'team': 'team_twenty_four',\n",
      "            'uno': '17641839849440527637',\n",
      "            'username': 'stuckinatrap'},\n",
      " 'playerCount': 145,\n",
      " 'playerStats': {'assists': 0.0,\n",
      "                 'bonusXp': 0.0,\n",
      "                 'challengeXp': 0.0,\n",
      "                 'damageDone': 237.0,\n",
      "                 'damageTaken': 344.0,\n",
      "                 'deaths': 2.0,\n",
      "                 'distanceTraveled': 277414.28,\n",
      "                 'executions': 0.0,\n",
      "                 'gulagDeaths': 1.0,\n",
      "                 'gulagKills': 0.0,\n",
      "                 'headshots': 0.0,\n",
      "                 'kdRatio': 0.0,\n",
      "                 'kills': 0.0,\n",
      "                 'longestStreak': 1.0,\n",
      "                 'matchXp': 2395.0,\n",
      "                 'medalXp': 0.0,\n",
      "                 'miscXp': 0.0,\n",
      "                 'nearmisses': 0.0,\n",
      "                 'objectiveBrCacheOpen': 5.0,\n",
      "                 'objectiveBrKioskBuy': 1.0,\n",
      "                 'objectiveBrMissionPickupTablet': 1.0,\n",
      "                 'objectiveLastStandKill': 1.0,\n",
      "                 'percentTimeMoving': 87.15596,\n",
      "                 'rank': 54.0,\n",
      "                 'score': 1575.0,\n",
      "                 'scorePerMinute': 230.48780487804876,\n",
      "                 'scoreXp': 2125.0,\n",
      "                 'teamPlacement': 31.0,\n",
      "                 'teamSurvivalTime': 324432.0,\n",
      "                 'timePlayed': 410.0,\n",
      "                 'totalXp': 4520.0,\n",
      "                 'wallBangs': 0.0},\n",
      " 'playlistName': None,\n",
      " 'privateMatch': False,\n",
      " 'rankedTeams': None,\n",
      " 'teamCount': 37,\n",
      " 'utcEndSeconds': 1617762401,\n",
      " 'utcStartSeconds': 1617760767,\n",
      " 'version': 1}\n"
     ]
    }
   ],
   "source": [
    "# One given player stats among the 145 (note: should be 37 x 4 = 148 players initially).\n",
    "pprint(match['allPlayers'][2], depth=2)"
   ]
  },
  {
   "cell_type": "markdown",
   "id": "4e0259d1-c2cd-4045-a972-5df12283572f",
   "metadata": {
    "tags": []
   },
   "source": [
    "### Protected routes"
   ]
  },
  {
   "cell_type": "markdown",
   "id": "67354124-6155-4a14-bcf0-b27ea726f5c5",
   "metadata": {},
   "source": [
    "Authentification is mandatory to access those. Good thing is that you can retrieve data for other players (w. visibility setting turned ON)"
   ]
  },
  {
   "cell_type": "markdown",
   "id": "0e3afb7c-f042-4a88-989d-29c309576086",
   "metadata": {
    "tags": []
   },
   "source": [
    "#### Player search"
   ]
  },
  {
   "cell_type": "markdown",
   "id": "c4e3be8f-8016-4fb4-a26d-bdcabde3c913",
   "metadata": {},
   "source": [
    "One can play Warzone through PlayStation, PC (BattleNet) or Xbox (also, cross play), hence the username being tied to a platform when searching.<br>\n",
    "Activision allows to change its own in-game username once in a while (3 months I believe). <br>\n",
    "Players can share the same name, they differentiate with ending numbers (6 digits for Activision, 4 for Bnet). Max number of players returbed by the COD API is 20.<br>\n",
    "The client return a list of `player` objects"
   ]
  },
  {
   "cell_type": "code",
   "execution_count": 10,
   "id": "e251bf3f-1eb4-484c-828d-debf9b853466",
   "metadata": {},
   "outputs": [
    {
     "name": "stdout",
     "output_type": "stream",
     "text": [
      "gentil_renard#3391079 (Activision)\n",
      "Amadevs#1689 (BattleNet)\n"
     ]
    }
   ],
   "source": [
    "# For instance, my in-game --changed, username is gentil_renard, I can retrieve it with platform = Activision (translates into 'Uno' when the client builds the route)\n",
    "results = await client.SearchPlayers(Platform.Activision, \"gentil_renard\")\n",
    "for player in results:\n",
    "    print(f\"{player.username} ({player.platform.name})\")\n",
    "\n",
    "# but though I'm playing via Bnet, can't retrieve if I set platform = Bnet\n",
    "results = await client.SearchPlayers(Platform.BattleNet, \"gentil_renard\")\n",
    "for player in results:\n",
    "    print(f\"{player.username} ({player.platform.name})\")\n",
    "\n",
    "# Only works if I use my Bnet gamertag\n",
    "results = await client.SearchPlayers(Platform.BattleNet, \"AMADEVS#1689\")\n",
    "for player in results:\n",
    "    print(f\"{player.username} ({player.platform.name})\")   "
   ]
  },
  {
   "cell_type": "code",
   "execution_count": 11,
   "id": "df9b0651-4c38-475f-9dcf-2dd20c09ac60",
   "metadata": {},
   "outputs": [
    {
     "name": "stdout",
     "output_type": "stream",
     "text": [
      "nicoyzovitch (PlayStation)\n",
      "nicoyzovitch#7591470 (Activision)\n"
     ]
    }
   ],
   "source": [
    "# A friend of mine uses a PlayStation\n",
    "results = await client.SearchPlayers(Platform.PlayStation, \"Nicoyzovitch\")\n",
    "for player in results:\n",
    "    print(f\"{player.username} ({player.platform.name})\")\n",
    "\n",
    "# Can also retrieve his name via Activision has he never changed his name.\n",
    "results = await client.SearchPlayers(Platform.Activision, \"Nicoyzovitch\")\n",
    "for player in results:\n",
    "    print(f\"{player.username} ({player.platform.name})\")"
   ]
  },
  {
   "cell_type": "code",
   "execution_count": 12,
   "id": "42262a3c-800b-456c-8bda-f48385fbdde7",
   "metadata": {},
   "outputs": [
    {
     "name": "stdout",
     "output_type": "stream",
     "text": [
      "Huskerrs (Activision)\n",
      "HusKerrs#1009786 (Activision)\n",
      "HusKerrs#1088477 (Activision)\n",
      "HusKerrs#3209982 (Activision)\n",
      "HusKerrs#4249229 (Activision)\n",
      "HusKerrs#4780912 (Activision)\n",
      "HusKerrs#5139476 (Activision)\n",
      "HusKerrs#7232956 (Activision)\n",
      "HusKerrs#7631054 (Activision)\n",
      "HusKerrs#8490490 (Activision)\n",
      "HusKerrs#8638305 (Activision)\n",
      "HusKerrs#8653257 (Activision)\n",
      "HusKerrs#9624907 (Activision)\n",
      "HusKerrs#9783265 (Activision)\n",
      "Huskerrs#2032932 (Activision)\n",
      "Huskerrs#2058640 (Activision)\n",
      "Huskerrs#3542853 (Activision)\n",
      "Huskerrs#7010480 (Activision)\n",
      "Huskerrs#8797872 (Activision)\n",
      "Huskerrs#9357694 (Activision)\n",
      "huskerrs#6821860 (Activision)\n",
      "Huskerrs (Activision)\n",
      "HusKerrs#1009786 (Activision)\n",
      "HusKerrs#1088477 (Activision)\n",
      "HusKerrs#3209982 (Activision)\n",
      "HusKerrs#4249229 (Activision)\n",
      "HusKerrs#4780912 (Activision)\n",
      "HusKerrs#5139476 (Activision)\n",
      "HusKerrs#7232956 (Activision)\n",
      "HusKerrs#7631054 (Activision)\n",
      "HusKerrs#8490490 (Activision)\n",
      "HusKerrs#8638305 (Activision)\n",
      "HusKerrs#8653257 (Activision)\n",
      "HusKerrs#9624907 (Activision)\n",
      "HusKerrs#9783265 (Activision)\n",
      "Huskerrs#2032932 (Activision)\n",
      "Huskerrs#2058640 (Activision)\n",
      "Huskerrs#3542853 (Activision)\n",
      "Huskerrs#7010480 (Activision)\n",
      "Huskerrs#8797872 (Activision)\n",
      "Huskerrs#9357694 (Activision)\n",
      "huskerrs#6821860 (Activision)\n"
     ]
    }
   ],
   "source": [
    "# Striking example with 'Huskerrs' (a popular pro player) wannabes . \n",
    "# Good thing Activision has an authenticity stamp you can retrieve with player name and phrase (cf. .authenticityStamp in the client)\n",
    "res = []\n",
    "for platform in [Platform.Activision, Platform.BattleNet]:\n",
    "    res.extend(await client.SearchPlayers(Platform.Activision, \"HusKerrs\"))\n",
    "\n",
    "for player in res:\n",
    "    print(f\"{player.username} ({player.platform.name})\")"
   ]
  },
  {
   "cell_type": "markdown",
   "id": "87d5d81b-19e0-4491-a4eb-a3334b3220a1",
   "metadata": {
    "tags": []
   },
   "source": [
    "#### Player Warzone profile"
   ]
  },
  {
   "cell_type": "markdown",
   "id": "d7000f27-7777-48f9-8425-525ec0629ae6",
   "metadata": {},
   "source": [
    "A built in the client, two ways (same endpoint) : client.GetPlayerProfile or through player.profile <br>\n",
    "Two main keys in the result sent back by the API : \"lifetime\" and \"weekly\". Self explanatory. <br>\n",
    "TO BE DONE  Among the available stats + any difference between multiplayer and warzone mode ? + focus on certain values <br>\n",
    "dict['level'] : Lifetime level of the Player (ModernWarfare & Warzone) <br>\n"
   ]
  },
  {
   "cell_type": "markdown",
   "id": "56715b67-858d-4c16-8328-c4dee682eb87",
   "metadata": {
    "tags": []
   },
   "source": [
    "##### Using client.GetPlayerProfile"
   ]
  },
  {
   "cell_type": "code",
   "execution_count": 13,
   "id": "c37c2272-53ff-4d5a-aa05-3b2200b0bf0f",
   "metadata": {},
   "outputs": [
    {
     "name": "stdout",
     "output_type": "stream",
     "text": [
      "{'engagement': None,\n",
      " 'level': 328.0,\n",
      " 'levelXpGained': 36597.0,\n",
      " 'levelXpRemainder': 6303.0,\n",
      " 'lifetime': {'accoladeData': {'properties': {...}},\n",
      "              'all': {'properties': {...}},\n",
      "              'itemData': {'lethals': {...},\n",
      "                           'supers': {...},\n",
      "                           'tacticals': {...},\n",
      "                           'weapon_assault_rifle': {...},\n",
      "                           'weapon_launcher': {...},\n",
      "                           'weapon_lmg': {...},\n",
      "                           'weapon_marksman': {...},\n",
      "                           'weapon_melee': {...},\n",
      "                           'weapon_other': {...},\n",
      "                           'weapon_pistol': {...},\n",
      "                           'weapon_shotgun': {...},\n",
      "                           'weapon_smg': {...},\n",
      "                           'weapon_sniper': {...}},\n",
      "              'map': {},\n",
      "              'mode': {'arena': {...},\n",
      "                       'arm': {...},\n",
      "                       'br': {...},\n",
      "                       'br_all': {...},\n",
      "                       'br_dmz': {...},\n",
      "                       'conf': {...},\n",
      "                       'cyber': {...},\n",
      "                       'dom': {...},\n",
      "                       'grnd': {...},\n",
      "                       'gun': {...},\n",
      "                       'hc_conf': {...},\n",
      "                       'hc_cyber': {...},\n",
      "                       'hc_dom': {...},\n",
      "                       'hc_hq': {...},\n",
      "                       'hc_sd': {...},\n",
      "                       'hc_war': {...},\n",
      "                       'hq': {...},\n",
      "                       'infect': {...},\n",
      "                       'koth': {...},\n",
      "                       'sd': {...},\n",
      "                       'war': {...}},\n",
      "              'scorestreakData': {'lethalScorestreakData': {...},\n",
      "                                  'supportScorestreakData': {...}}},\n",
      " 'maxLevel': 1.0,\n",
      " 'maxPrestige': 0.0,\n",
      " 'p': 0.0,\n",
      " 'paragonId': 0.0,\n",
      " 'paragonRank': 0.0,\n",
      " 'platform': 'battle',\n",
      " 'prestige': 23.0,\n",
      " 'prestigeId': 0.0,\n",
      " 's': 0.0,\n",
      " 'title': 'mw',\n",
      " 'totalXp': 1325315.0,\n",
      " 'type': 'wz',\n",
      " 'username': 'AMADEVS#1689',\n",
      " 'weekly': {'all': {'properties': {...}},\n",
      "            'map': {},\n",
      "            'mode': {'br_all': {...},\n",
      "                     'br_brduos': {...},\n",
      "                     'br_brquads': {...},\n",
      "                     'br_brtrios': {...},\n",
      "                     'br_dmz_plndtrios': {...},\n",
      "                     'br_dmz_plunquad': {...}}}}\n"
     ]
    }
   ],
   "source": [
    "# Parameters : platform, username, title, mode\n",
    "# Endpoint : stats/cod/v1/title/title/platform/platform/gamer/username/profile/type/mode\n",
    "profile_using_client = await client.GetPlayerProfile(Platform.BattleNet, \"AMADEVS#1689\", Title.ModernWarfare, Mode.Warzone)\n",
    "pprint(profile_using_client, depth=3)"
   ]
  },
  {
   "cell_type": "markdown",
   "id": "d90a57b8-36fb-4770-8524-6e58e9530863",
   "metadata": {},
   "source": [
    "##### Using player.profile"
   ]
  },
  {
   "cell_type": "code",
   "execution_count": 14,
   "id": "e32b6200-1164-4752-8db1-3ec3b644147f",
   "metadata": {},
   "outputs": [
    {
     "name": "stdout",
     "output_type": "stream",
     "text": [
      "AMADEVS#1689 (BattleNet)\n",
      "{'engagement': None,\n",
      " 'level': 328.0,\n",
      " 'levelXpGained': 36597.0,\n",
      " 'levelXpRemainder': 6303.0,\n",
      " 'lifetime': {'accoladeData': {...},\n",
      "              'all': {...},\n",
      "              'itemData': {...},\n",
      "              'map': {},\n",
      "              'mode': {...},\n",
      "              'scorestreakData': {...}},\n",
      " 'maxLevel': 1.0,\n",
      " 'maxPrestige': 0.0,\n",
      " 'p': 0.0,\n",
      " 'paragonId': 0.0,\n",
      " 'paragonRank': 0.0,\n",
      " 'platform': 'battle',\n",
      " 'prestige': 23.0,\n",
      " 'prestigeId': 0.0,\n",
      " 's': 0.0,\n",
      " 'title': 'mw',\n",
      " 'totalXp': 1325315.0,\n",
      " 'type': 'mp',\n",
      " 'username': 'AMADEVS#1689',\n",
      " 'weekly': {'all': {...}, 'map': {}, 'mode': {}}}\n"
     ]
    }
   ],
   "source": [
    "# Getting player object first, as defined in player.py\n",
    "# Parameters : platform, username\n",
    "player = await client.GetPlayer(Platform.BattleNet, \"AMADEVS#1689\")\n",
    "print(f\"{player.username} ({player.platform.name})\")\n",
    "\n",
    "# then, calling the .profile method\n",
    "# Parameters : title, mode\n",
    "# Endpoint : stats/cod/v1/title/title/platform/platform/gamer/username/profile/type/mode\n",
    "profile_using_player = await player.profile(Title.ModernWarfare, Mode.Multiplayer)\n",
    "pprint(profile_using_player, depth=2)"
   ]
  },
  {
   "cell_type": "markdown",
   "id": "3424b76c-3e31-4919-965b-6e235e3c0a32",
   "metadata": {},
   "source": [
    "#### Matches"
   ]
  },
  {
   "cell_type": "markdown",
   "id": "904b5f69-febb-4614-9257-07e0f74a8cbb",
   "metadata": {},
   "source": [
    "Retrieve Player's last Matchs IDs.<br>\n",
    "If you remember well, you can then explore them with [Match Details](#go_match)"
   ]
  },
  {
   "cell_type": "markdown",
   "id": "ac2fa720-dfc6-47c0-9f8a-d45d41e25df4",
   "metadata": {},
   "source": [
    "##### Using client.GetPlayerMatches"
   ]
  },
  {
   "cell_type": "code",
   "execution_count": 15,
   "id": "72818291-ec9f-4096-981b-09787f91cec3",
   "metadata": {},
   "outputs": [
    {
     "name": "stdout",
     "output_type": "stream",
     "text": [
      "{'_client': <callofduty.client.Client object at 0x7f8e6029a760>,\n",
      " 'id': 13870394427014986367,\n",
      " 'platform': <Platform.BattleNet: 'battle'>,\n",
      " 'title': <Title.ModernWarfare: 'mw'>}\n"
     ]
    }
   ],
   "source": [
    "# Parameters : platform, username, title, mode\n",
    "# Endpoint : crm/cod/v2/title/title/platform/platform/gamer/username/matches/mode/startTime/start/end/endTime}?limit=limit\n",
    "matches_using_client = await client.GetPlayerMatches(Platform.BattleNet, \"AMADEVS#1689\", Title.ModernWarfare, Mode.Warzone)\n",
    "one_match_using_client = matches_using_client[0]\n",
    "pprint(one_match_using_client.__dict__)"
   ]
  },
  {
   "cell_type": "markdown",
   "id": "3b98857e-9f9b-4784-af35-be34b3cf1756",
   "metadata": {
    "tags": []
   },
   "source": [
    "##### Using player.matches"
   ]
  },
  {
   "cell_type": "code",
   "execution_count": 16,
   "id": "60876808-9fc4-41db-9d0b-183f1afe6359",
   "metadata": {},
   "outputs": [
    {
     "name": "stdout",
     "output_type": "stream",
     "text": [
      "AMADEVS#1689 (BattleNet)\n",
      "{'_client': <callofduty.client.Client object at 0x7f8e6029a760>,\n",
      " 'id': 13870394427014986367,\n",
      " 'platform': <Platform.BattleNet: 'battle'>,\n",
      " 'title': <Title.ModernWarfare: 'mw'>}\n"
     ]
    }
   ],
   "source": [
    "# Getting player object first, as defined in player.py\n",
    "# Parameters : platform, username\n",
    "player = await client.GetPlayer(Platform.BattleNet, \"AMADEVS#1689\")\n",
    "print(f\"{player.username} ({player.platform.name})\")\n",
    "\n",
    "# then, calling the .matches method\n",
    "# Parameters : title, mode\n",
    "# Endpoint : crm/cod/v2/title/title/platform/platform/gamer/username/matches/mode/startTime/start/end/endTime}?limit=limit\n",
    "# Returns a [n match objects]\n",
    "matches_using_player = await player.matches(Title.ModernWarfare, Mode.Warzone, limit=3)\n",
    "one_match_using_player = matches_using_player[0]\n",
    "pprint(one_match_using_player.__dict__)"
   ]
  },
  {
   "cell_type": "markdown",
   "id": "b54910f4-7c83-477a-83ed-e6f01f44c246",
   "metadata": {
    "tags": []
   },
   "source": [
    "### Matches Summary"
   ]
  },
  {
   "cell_type": "markdown",
   "id": "6ce1c8de-69b5-46ed-8400-517e74ca0019",
   "metadata": {},
   "source": [
    "##### Using client.GetPlayesMatchesDetailed"
   ]
  },
  {
   "cell_type": "code",
   "execution_count": 17,
   "id": "8150cec6-5772-4484-8bc8-8b12e0ed4cb9",
   "metadata": {},
   "outputs": [
    {
     "name": "stdout",
     "output_type": "stream",
     "text": [
      "{'all': {'assists': 55.0,\n",
      "         'avgLifeTime': 271.5029239766082,\n",
      "         'damageDone': 49192.0,\n",
      "         'damageTaken': 20282.0,\n",
      "         'deaths': 151.0,\n",
      "         'distanceTraveled': 7735894.659999999,\n",
      "         'executions': 3.0,\n",
      "         'gulagDeaths': 10.0,\n",
      "         'gulagKills': 2.0,\n",
      "         'headshotPercentage': 0.3269230769230769,\n",
      "         'headshots': 51.0,\n",
      "         'kdRatio': 1.033112582781457,\n",
      "         'kills': 156.0,\n",
      "         'killsPerGame': 7.8,\n",
      "         'matchesPlayed': 20.0,\n",
      "         'nearmisses': 0.0,\n",
      "         'objectiveBrCacheOpen': 35.0,\n",
      "         'objectiveBrDownEnemyCircle1': 8.0,\n",
      "         'objectiveBrDownEnemyCircle2': 5.0,\n",
      "         'objectiveBrDownEnemyCircle3': 4.0,\n",
      "         'objectiveBrDownEnemyCircle4': 3.0,\n",
      "         'objectiveBrDownEnemyCircle5': 1.0,\n",
      "         'objectiveBrKioskBuy': 7.0,\n",
      "         'objectiveBrMissionPickupTablet': 9.0,\n",
      "         'objectiveDestroyedEquipment': 1.0,\n",
      "         'objectiveLastStandKill': 71.0,\n",
      "         'objectiveMunitionsBoxTeammateUsed': 5.0,\n",
      "         'objectiveReviver': 3.0,\n",
      "         'objectiveTeamWiped': 83.0,\n",
      "         'score': 73975.0,\n",
      "         'scorePerMinute': 95.6016972882159,\n",
      "         'timePlayed': 46427.0,\n",
      "         'wallBangs': 0.0},\n",
      " 'br_brduos': {'assists': 2.0,\n",
      "               'avgLifeTime': 743.25,\n",
      "               'damageDone': 3845.0,\n",
      "               'damageTaken': 1050.0,\n",
      "               'deaths': 6.0,\n",
      "               'distanceTraveled': 806535.96,\n",
      "               'executions': 0.0,\n",
      "               'gulagDeaths': 3.0,\n",
      "               'gulagKills': 1.0,\n",
      "               'headshotPercentage': 0.75,\n",
      "               'headshots': 9.0,\n",
      "               'kdRatio': 2.0,\n",
      "               'kills': 12.0,\n",
      "               'killsPerGame': 6.0,\n",
      "               'matchesPlayed': 2.0,\n",
      "               'nearmisses': 0.0,\n",
      "               'objectiveBrCacheOpen': 8.0,\n",
      "               'objectiveBrDownEnemyCircle1': 3.0,\n",
      "               'objectiveBrDownEnemyCircle2': 2.0,\n",
      "               'objectiveBrDownEnemyCircle3': 2.0,\n",
      "               'objectiveBrDownEnemyCircle4': 2.0,\n",
      "               'objectiveBrDownEnemyCircle5': 1.0,\n",
      "               'objectiveBrKioskBuy': 2.0,\n",
      "               'objectiveBrMissionPickupTablet': 1.0,\n",
      "               'objectiveLastStandKill': 6.0,\n",
      "               'objectiveMunitionsBoxTeammateUsed': 1.0,\n",
      "               'objectiveTeamWiped': 6.0,\n",
      "               'score': 8950.0,\n",
      "               'scorePerGame': 4475.0,\n",
      "               'scorePerMinute': 90.31281533804238,\n",
      "               'timePlayed': 5946.0,\n",
      "               'wallBangs': 0.0},\n",
      " 'br_brtrios': {'assists': 3.0,\n",
      "                'avgLifeTime': 778.9545454545455,\n",
      "                'damageDone': 4006.0,\n",
      "                'damageTaken': 4215.0,\n",
      "                'deaths': 15.0,\n",
      "                'distanceTraveled': 2356783.63,\n",
      "                'executions': 0.0,\n",
      "                'gulagDeaths': 7.0,\n",
      "                'gulagKills': 1.0,\n",
      "                'headshotPercentage': 0.4,\n",
      "                'headshots': 4.0,\n",
      "                'kdRatio': 0.6666666666666666,\n",
      "                'kills': 10.0,\n",
      "                'killsPerGame': 1.4285714285714286,\n",
      "                'matchesPlayed': 7.0,\n",
      "                'nearmisses': 0.0,\n",
      "                'objectiveBrCacheOpen': 13.0,\n",
      "                'objectiveBrDownEnemyCircle1': 5.0,\n",
      "                'objectiveBrDownEnemyCircle2': 3.0,\n",
      "                'objectiveBrDownEnemyCircle3': 2.0,\n",
      "                'objectiveBrDownEnemyCircle4': 1.0,\n",
      "                'objectiveBrKioskBuy': 5.0,\n",
      "                'objectiveBrMissionPickupTablet': 8.0,\n",
      "                'objectiveLastStandKill': 8.0,\n",
      "                'objectiveMunitionsBoxTeammateUsed': 4.0,\n",
      "                'objectiveReviver': 3.0,\n",
      "                'objectiveTeamWiped': 2.0,\n",
      "                'score': 12325.0,\n",
      "                'scorePerGame': 1760.7142857142858,\n",
      "                'scorePerMinute': 43.15224368325845,\n",
      "                'timePlayed': 17137.0,\n",
      "                'wallBangs': 0.0},\n",
      " 'br_dmz_plndtrios': {'assists': 1.0,\n",
      "                      'avgLifeTime': 583.5,\n",
      "                      'damageDone': 1108.0,\n",
      "                      'damageTaken': 77.0,\n",
      "                      'deaths': 1.0,\n",
      "                      'distanceTraveled': 275529.4,\n",
      "                      'executions': 0.0,\n",
      "                      'headshotPercentage': 0.0,\n",
      "                      'headshots': 0.0,\n",
      "                      'kdRatio': 4.0,\n",
      "                      'kills': 4.0,\n",
      "                      'killsPerGame': 4.0,\n",
      "                      'matchesPlayed': 1.0,\n",
      "                      'nearmisses': 0.0,\n",
      "                      'objectiveBrCacheOpen': 1.0,\n",
      "                      'objectiveLastStandKill': 2.0,\n",
      "                      'objectiveTeamWiped': 2.0,\n",
      "                      'score': 1600.0,\n",
      "                      'scorePerGame': 1600.0,\n",
      "                      'scorePerMinute': 82.26221079691516,\n",
      "                      'timePlayed': 1167.0,\n",
      "                      'wallBangs': 0.0},\n",
      " 'br_dmz_plunquad': {'assists': 49.0,\n",
      "                     'avgLifeTime': 159.54676258992805,\n",
      "                     'damageDone': 40233.0,\n",
      "                     'damageTaken': 14940.0,\n",
      "                     'deaths': 129.0,\n",
      "                     'distanceTraveled': 4297045.67,\n",
      "                     'executions': 3.0,\n",
      "                     'headshotPercentage': 0.2923076923076923,\n",
      "                     'headshots': 38.0,\n",
      "                     'kdRatio': 1.0077519379844961,\n",
      "                     'kills': 130.0,\n",
      "                     'killsPerGame': 13.0,\n",
      "                     'matchesPlayed': 10.0,\n",
      "                     'nearmisses': 0.0,\n",
      "                     'objectiveBrCacheOpen': 13.0,\n",
      "                     'objectiveDestroyedEquipment': 1.0,\n",
      "                     'objectiveLastStandKill': 55.0,\n",
      "                     'objectiveTeamWiped': 73.0,\n",
      "                     'score': 51100.0,\n",
      "                     'scorePerGame': 5110.0,\n",
      "                     'scorePerMinute': 138.25134147991162,\n",
      "                     'timePlayed': 22177.0,\n",
      "                     'wallBangs': 0.0}}\n"
     ]
    }
   ],
   "source": [
    "summary = await client.GetPlayerMatchesSummary(Platform.BattleNet, \"AMADEVS#1689\", Title.ModernWarfare, Mode.Warzone, limit=20)# does not work if I use player = await client.GetPlayer(Platform.Activision, \"gentil_renard\") cf. Postman Warzone by Uno ID ?\n",
    "pprint(summary, depth=2)"
   ]
  },
  {
   "cell_type": "markdown",
   "id": "bbccd786-60be-4e3b-bf2e-446f650c44ec",
   "metadata": {},
   "source": [
    "##### Using player.matchesSummary"
   ]
  },
  {
   "cell_type": "code",
   "execution_count": 18,
   "id": "06e84dbb-256d-4a4b-82f3-7d3662c0ebeb",
   "metadata": {},
   "outputs": [
    {
     "name": "stdout",
     "output_type": "stream",
     "text": [
      "AMADEVS#1689 (BattleNet)\n",
      "{'all': {...},\n",
      " 'br_brduos': {...},\n",
      " 'br_brtrios': {...},\n",
      " 'br_dmz_plndtrios': {...},\n",
      " 'br_dmz_plunquad': {...}}\n"
     ]
    }
   ],
   "source": [
    "# Getting player object first, as defined in player.py\n",
    "# Parameters : platform, username\n",
    "player = await client.GetPlayer(Platform.BattleNet, \"AMADEVS#1689\")\n",
    "print(f\"{player.username} ({player.platform.name})\")\n",
    "\n",
    "summary = await player.matchesSummary(Title.ModernWarfare, Mode.Warzone, limit=20) # does not work if I use player = await client.GetPlayer(Platform.Activision, \"gentil_renard\") cf. Postman Warzone by Uno ID ?\n",
    "pprint(summary, depth=1)"
   ]
  },
  {
   "cell_type": "code",
   "execution_count": null,
   "id": "c4b5dbbd-fef7-4748-817b-2c4877213abb",
   "metadata": {},
   "outputs": [],
   "source": []
  }
 ],
 "metadata": {
  "kernelspec": {
   "display_name": "Python 3 (ipykernel)",
   "language": "python",
   "name": "python3"
  },
  "language_info": {
   "codemirror_mode": {
    "name": "ipython",
    "version": 3
   },
   "file_extension": ".py",
   "mimetype": "text/x-python",
   "name": "python",
   "nbconvert_exporter": "python",
   "pygments_lexer": "ipython3",
   "version": "3.9.5"
  }
 },
 "nbformat": 4,
 "nbformat_minor": 5
}
