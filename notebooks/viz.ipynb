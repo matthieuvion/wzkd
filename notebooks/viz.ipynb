{
 "cells": [
  {
   "cell_type": "markdown",
   "id": "7ab5ff00-c779-4c58-a100-d40513bf8233",
   "metadata": {},
   "source": [
    "## COD API, Data visualization tests"
   ]
  },
  {
   "cell_type": "markdown",
   "id": "19d72cd3-6be0-4b6c-ae54-53d2dbe01908",
   "metadata": {},
   "source": [
    "### Sankey / Flow Chart tests"
   ]
  },
  {
   "cell_type": "code",
   "execution_count": null,
   "id": "313a844a-985f-407b-a526-56d7796400dc",
   "metadata": {},
   "outputs": [],
   "source": [
    "raw = pd.DataFrame(match)\n",
    "raw.head(5)"
   ]
  },
  {
   "cell_type": "code",
   "execution_count": null,
   "id": "824c685e-cfe7-45ac-a04e-edb632ae1458",
   "metadata": {},
   "outputs": [],
   "source": [
    "# load offline data\n",
    "with open('match.pkl', 'rb') as f:\n",
    "    match = pickle.load(f)\n",
    "df = pd.DataFrame(match)\n",
    "display(df.head(2))\n",
    "print(df.keys())"
   ]
  },
  {
   "cell_type": "markdown",
   "id": "8cf6b623-f697-48a5-89ef-d039f825d4ed",
   "metadata": {},
   "source": [
    "#### Which columns matter, data exploration"
   ]
  },
  {
   "cell_type": "code",
   "execution_count": null,
   "id": "69c1afec-aa66-42af-8051-f93286e9af03",
   "metadata": {},
   "outputs": [],
   "source": [
    "# Build our players kills etc data\n",
    "def formatToCircle(df):\n",
    "    player_col = df['player'].apply(pd.Series)\n",
    "    player_stats_col = df['playerStats'].apply(pd.Series)\n",
    "\n",
    "    keep_cols = [\n",
    "        'username',\n",
    "        'team',\n",
    "        'duration',\n",
    "        'teamSurvivalTime',\n",
    "        'circle',\n",
    "        'timePlayed',  \n",
    "        'teamPlacement',\n",
    "        'kills'\n",
    "    ]\n",
    "    \n",
    "    df = pd.concat([df, player_col, player_stats_col], axis = 1)\n",
    "    \n",
    "    #depending on match length, kills made in last circles, number of cols objectiveBrDown can vary, but API's max is always 6\n",
    "    cols_objective = sorted(df.columns[df.columns.str.startswith('objectiveBrDownEnemy')].tolist())\n",
    "    new_objective_labels = {col:\"kills_c\"+str(idx+1) for idx, col in enumerate(cols_objective)}\n",
    "    keep_cols = keep_cols + list(new_objective_labels.values())\n",
    "    \n",
    "    # TeamTimeSurvival in ms to circle reached\n",
    "    bins = [0,  480000, 790000, 1035000, 1205000, 1335000, 1735000]\n",
    "    labels = ['c1', 'c2', 'c3', 'c4', 'c5', 'c6',]\n",
    "    df['circle'] = pd.cut(df['teamSurvivalTime'], bins=bins, labels=labels)\n",
    "\n",
    "    df = df.rename(new_objective_labels, axis=1)\n",
    "    return df[keep_cols]\n",
    "\n",
    "df = formatToCircle(df)\n",
    "display('sorted by kills', df.sort_values('kills', ascending = False).head(6))\n",
    "display('sorted by team placement', df.sort_values('teamPlacement', ascending = True).head(6))\n",
    "display('sorted by team survival time', df.sort_values(['teamSurvivalTime', 'timePlayed', 'kills'], ascending = False).head(6))"
   ]
  },
  {
   "cell_type": "markdown",
   "id": "e655b35e-7c2f-490c-a5bd-2d2595c93627",
   "metadata": {},
   "source": [
    "##### Quick Notes\n",
    "- overall sure about if displayed timing = api timings, or just I must include a circle 0 that goes from 0 to gas moving in countdown\n",
    "- objectiveBrDown : API max is 6, but in game goes to 8-9. Circle 6 may be aggregation circle 5 or 6, to 9\n",
    "- game duration : API format is milliseconds, fixed len of +- 26-27mn (+- 163000 ms) for each game BR mode. Games len can be 26:32 or 27:17, or 27:20 etc...\n",
    "- timePlayed : API format is seconds. Playtime of a player BUT this behavior happens (rarely though) : time counter still running. I.e. can have a 28mn playtime but placement of 49. Probably a player dont leave a certain screen, and/or stay connected to watch other players cams / or Acti bug\n",
    "- timeplayed : include pregame lobby ??, or duplicated time with gulag time ? but most probably includes post win (credits) time . or my conversion is wrong... noticed a timeplayed top 2 can be > timeplayed placed 1st.\n",
    "- teamSurvivalTime : API format milliseconds. Effective playtime of a team, i.e if one least one player stays alive.\n",
    "- whats the max range of objective down ennemy ? Does it corresponds to timings ?"
   ]
  },
  {
   "cell_type": "markdown",
   "id": "d9cfdfa5-c333-4453-b5f1-34427b2248d2",
   "metadata": {},
   "source": [
    "#### Convert time/duration values so we can read them"
   ]
  },
  {
   "cell_type": "code",
   "execution_count": null,
   "id": "c716d091-9120-4ae3-90bd-039b83f7501d",
   "metadata": {},
   "outputs": [],
   "source": [
    "df_human = df.sort_values(['teamSurvivalTime', 'timePlayed', 'kills'], ascending = False)\n",
    "df_human['duration'] = df_human['duration'].apply(lambda x: pd.to_datetime(x, unit='ms').strftime('%M:%S')) # API duration is in ms\n",
    "df_human['timePlayed'] = df_human['timePlayed'].apply(lambda x: pd.to_datetime(x, unit='s').strftime('%M:%S')) # API timePlayed is in seconds\n",
    "df_human['teamSurvivalTime'] = df_human['teamSurvivalTime'].apply(lambda x: pd.to_datetime(x, unit='ms').strftime('%M:%S'))\n",
    "display('sorted by team survival time', df_human.head(10))\n",
    "display('least survival time', df_human.tail(5))"
   ]
  },
  {
   "cell_type": "code",
   "execution_count": null,
   "id": "1fde1669-2b94-4487-b442-568aaedd0905",
   "metadata": {},
   "outputs": [],
   "source": [
    "df_human[(df_human['username'] == 'gentil_renard') | (df_human['username'] == 'nicoyzovitch')]"
   ]
  },
  {
   "cell_type": "markdown",
   "id": "c2883d9d-8154-422d-b5b7-6385685c303e",
   "metadata": {},
   "source": [
    "#### Data Preparation, playtime/duration, to what \"circle\" is reached"
   ]
  },
  {
   "cell_type": "markdown",
   "id": "92aaf04f-7db6-4ac7-bf96-ef3e010a08ac",
   "metadata": {},
   "source": [
    "##### In-game circle timings : \n",
    "1. circle 1 outlined, 3mn30 countdown, \"gas moving in\" announcement, 4mn30 countdown\n",
    "2. circle 2 : 1mn30 countdown, \"gas moving in\" announcement, 3mn40 countdown\n",
    "3. circle 3 : 1mn15 countdown, \"gas moving in\" announcement\", 2mn50 countdown\n",
    "4. circle 4 : 1mn countdown, \"gas moving in\" announcement, 1mn50 countdown\n",
    "5. circle 5 : 1 mn countdown, \"gas moving in\" announcement, 1mn10 countdown\n",
    "6. circle 6 : 45sec countdown, \"gas moving in\" announcement, 50sec countdown\n",
    "7. circle 7 : 30sec countdown, \"gas moving in\" announcement, 50sec countdown\n",
    "8. circle 8 : 10sec countdown, \"gas moving in\" announcement, 30sec countdown\n",
    "\n",
    "##### Table : cumulative length mn and milliseconds: <br>\n",
    "\n",
    "circle | timer, mn | timer, ms\n",
    ":------|:-----------|---------------------------------------------------\n",
    "circle 1 | : 0 to 8mn  | 0 to 480000\n",
    "circle 2 | : 8 to 13mn10  | 480000 to 790000\n",
    "circle 3 | : 13mn10 to 17mn15 | 790000 to 1035000\n",
    "circle 4 | : 17mn15 to 20mn05 | 1035000 to 1205000\n",
    "circle 5 | : 20mn05 to 22mn15 | 1205000 to 1335000\n",
    "circle 6 | : 22mn15 to 23mn50 | 1335000 to 1430000\n",
    "circle 7 | : 23mn50 to 25mn10 | 1430000 to 1510000\n",
    "circle 8 | : 25mn10 to 25mn50 | 1510000 to  1550000"
   ]
  },
  {
   "cell_type": "code",
   "execution_count": null,
   "id": "3309a3de-19e5-4de4-9f56-89d88ed6814e",
   "metadata": {},
   "outputs": [],
   "source": [
    "26*60000+30*1000"
   ]
  },
  {
   "cell_type": "markdown",
   "id": "3ae4576e-bcb4-4494-b550-8dd5eaac26c3",
   "metadata": {},
   "source": [
    "##### Survival time to circle reached"
   ]
  },
  {
   "cell_type": "code",
   "execution_count": null,
   "id": "dd2fd3d6-63a5-4870-9e60-bf866fbdad12",
   "metadata": {},
   "outputs": [],
   "source": [
    "df = pd.DataFrame(match)\n",
    "df = formatToCircle(df)\n",
    "df.sort_values('teamSurvivalTime', ascending=False).head(12)"
   ]
  },
  {
   "cell_type": "markdown",
   "id": "f7053e5e-dfc6-4518-a2c6-8a99d0002953",
   "metadata": {},
   "source": [
    "#### Convert into Sankey format"
   ]
  },
  {
   "cell_type": "code",
   "execution_count": null,
   "id": "012d8096-0ce8-4090-ad04-c9e8b4bf4ac5",
   "metadata": {},
   "outputs": [],
   "source": [
    "# We could try with players, but we will work with teams + TeamSurvivalTime) which seems more reliable\n",
    "def groupByTeam(df):\n",
    "    agg_func = {\n",
    "        'duration':'first',\n",
    "        'username':', '.join,\n",
    "        'teamSurvivalTime':'first',\n",
    "        'timePlayed':'max',\n",
    "        'teamPlacement':'first',\n",
    "        'kills':'sum',\n",
    "        'circle':'first'\n",
    "    }\n",
    "    obj_cols = sorted(df.columns[df.columns.str.startswith('kills_c')].tolist())\n",
    "    for col in obj_cols:\n",
    "        agg_func[col] = 'sum'\n",
    "\n",
    "    df = df.groupby('team').agg(agg_func).reset_index()\n",
    "\n",
    "    filter_keep = ['team', 'circle', 'teamPlacement'] + obj_cols\n",
    "    return df.filter(filter_keep, axis=1).sort_values('teamPlacement')\n"
   ]
  },
  {
   "cell_type": "code",
   "execution_count": null,
   "id": "7092f6a0-4815-40d9-9b76-1caaccaf0933",
   "metadata": {},
   "outputs": [],
   "source": [
    "df = pd.DataFrame(match)\n",
    "df = formatToCircle(df)\n",
    "display(df.head(2))\n",
    "df = groupByTeam(df)\n",
    "display(df.sort_values('circle').head(3))\n",
    "display(df.sort_values('circle').tail(3))"
   ]
  },
  {
   "cell_type": "code",
   "execution_count": null,
   "id": "f68caf9c-9180-4c74-9aaa-aa15e2fe8e08",
   "metadata": {},
   "outputs": [],
   "source": [
    "df_data = df1_alive.append(df1_dead).append(df2_alive).append(df2_dead).append(df3_alive).append(df3_dead).append(df4_alive).append(df4_dead).append(df5_alive).append(df5_dead).append(df6_top1).append(df6_top10).append(df6_rest)"
   ]
  },
  {
   "cell_type": "markdown",
   "id": "6bd5bb93-6827-486f-a21c-ac2d6c828f10",
   "metadata": {},
   "source": [
    "##### A function to wrap the above"
   ]
  },
  {
   "cell_type": "markdown",
   "id": "7615b849-b93a-493d-b68f-bcaad5fab3bc",
   "metadata": {},
   "source": [
    "#### PLOTTTT"
   ]
  },
  {
   "cell_type": "code",
   "execution_count": null,
   "id": "34ddd91b-0696-42fc-81ee-1b91d956cc1d",
   "metadata": {},
   "outputs": [],
   "source": [
    "df = pd.DataFrame(match)\n",
    "df = formatToCircle(df)\n",
    "display(df.head(12))"
   ]
  },
  {
   "cell_type": "code",
   "execution_count": null,
   "id": "071976bc-884e-4f86-9f1d-306f1f02dab4",
   "metadata": {},
   "outputs": [],
   "source": [
    "df_extended = pd.get_dummies(data=df['circle'], columns=['team'], drop_first=False)\n",
    "df = pd.concat([df, df_extended], axis=1)\n",
    "display(df.head(3))\n",
    "\n",
    "\n",
    "# + Visualization choices : \n",
    "# - We will use the a col named 'start' instead of using'team'. This way we will have a single node 'start' instead of n nodes of n teams. This lighten our chart.\n",
    "df['start'] = 'start'\n",
    "# - Flow (lines) weight is the number of kills (could also be the cum sum). Some teams have 0 kills at a given circle, and wouldn't render\n",
    "#   We replace 0 values with 1 and to keep some representativity we add 1 kill to other team.\n",
    "obj_cols = sorted(df.columns[df.columns.str.startswith('kills_c')].tolist())\n",
    "df[obj_cols] += 1\n",
    "df[obj_cols] = df[obj_cols].fillna(1)\n",
    "\n",
    "\n",
    "df.c1 = df.c1.replace(1, 'dead_at_c1')\n",
    "df.c2 = df.c2.replace(1, 'dead_at_c2')\n",
    "df.c3 = df.c3.replace(1, 'dead_at_c3')\n",
    "df.c4 = df.c4.replace(1, 'dead_at_c4')\n",
    "df.c5 = df.c5.replace(1, 'dead_at_c5')\n",
    "df.c6 = df.c6.replace(1, 'dead_at_c6')\n",
    "\n",
    "cols = ['c1', 'c2', 'c3', 'c4', 'c5', 'c6']\n",
    "\n",
    "for idx, col in enumerate(cols):\n",
    "    for previous_col in cols[0:idx]:\n",
    "        if previous_col:\n",
    "            df.loc[df[col]== 'dead_at_' + col, previous_col] = 'alive_at_' + previous_col\n",
    "df.head()"
   ]
  },
  {
   "cell_type": "code",
   "execution_count": null,
   "id": "278084e4-067b-4b8b-81f9-7ee68ae273ef",
   "metadata": {},
   "outputs": [],
   "source": [
    "# circle 1, 1st level of our Sankey Diagram\n",
    "# all teams starts with circle 1 displayed, at end of circle 1 (also start of circle 2!) they're either alive or dead\n",
    "df_circle1 = df[['start', 'c1', 'kills_c1']]\n",
    "df_circle1.columns = ['source', 'target', 'value']\n",
    "display(df_circle1.head(2))\n",
    "\n",
    "# circle 2\n",
    "# all teams \"alive at circle 1\" moves on and get to circle 2, they're either alive or dead at end of circle 2\n",
    "df_circle2 = df[df.c1 == 'alive_at_c1'][['c1', 'c2', 'kills_c2']]\n",
    "df_circle2.columns = ['source', 'target', 'value']\n",
    "display(df_circle2.head(2))\n",
    "\n",
    "# circle 3\n",
    "df_circle3 = df[df.c2 == 'alive_at_c2'][['c2', 'c3', 'kills_c3']]\n",
    "df_circle3.columns = ['source', 'target', 'value']\n",
    "display(df_circle3.head(2))\n",
    "\n",
    "# circle 4\n",
    "df_circle4 = df[df.c3 == 'alive_at_c3'][['c3', 'c4', 'kills_c4']]\n",
    "df_circle4.columns = ['source', 'target', 'value']\n",
    "display(df_circle4.head(2))\n",
    "\n",
    "# circle 5\n",
    "df_circle5 = df[df.c4 == 'alive_at_c4'][['c4', 'c5', 'kills_c5']]\n",
    "df_circle5.columns = ['source', 'target', 'value']\n",
    "display(df_circle5.head(2))\n",
    "\n",
    "# circle 6 is the final circle (in the API, ingame can go up to 9). Teams will be marked \"dead\" as they obviously all die at lvl 6 or beyond, except the winner.\n",
    "df_circle6 = df[df.c5 == \"alive_at_c5\"][['c5', 'c6', 'kills_c6']]\n",
    "df_circle6.columns = ['source', 'target', 'value']\n",
    "display(df_circle6.head(2))\n",
    "\n",
    "df_data = df_circle1.append(df_circle2).append(df_circle3).append(df_circle4).append(df_circle5).append(df_circle6)\n",
    "df_data = df_data.replace(0,1)\n",
    "df_data"
   ]
  },
  {
   "cell_type": "code",
   "execution_count": null,
   "id": "a229ff4c-c8f8-45ea-b741-c459a241e155",
   "metadata": {},
   "outputs": [],
   "source": [
    "nodes = df_data['source'].values.tolist() + df_data['target'].values.tolist()\n",
    "df_data['sourceId'] = [nodes.index(source) for source in df_data['source']]\n",
    "df_data['targetId'] = [nodes.index(target) for target in df_data['target']]\n",
    "df_data.head(20)"
   ]
  },
  {
   "cell_type": "code",
   "execution_count": null,
   "id": "485f0778-4c02-404d-a8cc-0d0748d3fed0",
   "metadata": {},
   "outputs": [],
   "source": [
    "df_data.tail()"
   ]
  },
  {
   "cell_type": "code",
   "execution_count": null,
   "id": "0826d95d-15f7-4d34-aeb6-4d955f316b8f",
   "metadata": {
    "tags": []
   },
   "outputs": [],
   "source": [
    "# creating the sankey diagram\n",
    "\n",
    "fig = go.Figure(data=[go.Sankey(\n",
    "    arrangement = \"snap\",\n",
    "    node = {\n",
    "        'pad':2,\n",
    "        'color':'yellow'},  # 10 Pixels\n",
    "    link = dict(\n",
    "      source = df_data['sourceId'], # indices correspond to labels, eg A1, A2, A1, B1, ...\n",
    "      target = df_data['targetId'],\n",
    "      value = df_data['value'] \n",
    "  ))])\n",
    "\n",
    "fig.show()"
   ]
  },
  {
   "cell_type": "code",
   "execution_count": null,
   "id": "3a3ba1ec-6582-4e90-8ec4-9d28b9f8b124",
   "metadata": {},
   "outputs": [],
   "source": [
    "# creating the sankey diagram\n",
    "\n",
    "fig = go.Figure(data=[go.Sankey(\n",
    "    arrangement = \"snap\",\n",
    "    node = {\n",
    "        \"label\": [\"START\", \"CIRCLE 1 ALIVE\"],\n",
    "        \"x\": [0.1, 0.2, 0.3, 0.4, 0.5, 0.6, 0.2, 0.3, 0.4, 0.5, 0.6, 0.7],\n",
    "        \"y\": [0.1, 0.6, 0.4, 0.5, 0.6, 0.6, 0.8, 0.6, 0.7, 0.7, 0.8, 0.7],\n",
    "        'pad':10,\n",
    "        'color':'yellow'},  # 10 Pixels\n",
    "    link = dict(\n",
    "      source = df_data['sourceId'], # indices correspond to labels, eg A1, A2, A1, B1, ...\n",
    "      target = df_data['targetId'],\n",
    "      value = df_data['value']\n",
    "  ))])\n",
    "\n",
    "fig.show()"
   ]
  }
 ],
 "metadata": {
  "kernelspec": {
   "display_name": "Python 3 (ipykernel)",
   "language": "python",
   "name": "python3"
  },
  "language_info": {
   "codemirror_mode": {
    "name": "ipython",
    "version": 3
   },
   "file_extension": ".py",
   "mimetype": "text/x-python",
   "name": "python",
   "nbconvert_exporter": "python",
   "pygments_lexer": "ipython3",
   "version": "3.10.4"
  }
 },
 "nbformat": 4,
 "nbformat_minor": 5
}
