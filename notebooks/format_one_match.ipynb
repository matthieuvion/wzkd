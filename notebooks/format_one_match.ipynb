{
 "cells": [
  {
   "cell_type": "markdown",
   "id": "8a49d29b-b160-4061-b45f-ae7ca3a4bef2",
   "metadata": {},
   "source": [
    "## COD API, One Match --> explore API, format, clean & reshape, test some visualizations"
   ]
  },
  {
   "cell_type": "code",
   "execution_count": 1,
   "id": "6fbccaa9-f802-4ce3-8cc6-06ad8acf5d1c",
   "metadata": {},
   "outputs": [],
   "source": [
    "import asyncio\n",
    "import os\n",
    "import sys\n",
    "import dotenv\n",
    "from pprint import pprint\n",
    "import datetime\n",
    "from datetime import datetime, timezone, timedelta\n",
    "import pandas as pd\n",
    "import numpy as np\n",
    "import pickle\n",
    "from itertools import product\n",
    "\n",
    "import altair as alt\n",
    "\n",
    "import callofduty\n",
    "from callofduty import Mode, Platform, Title, TimeFrame, GameType, Language"
   ]
  },
  {
   "cell_type": "code",
   "execution_count": 2,
   "id": "2f45074d-a84d-4075-a21d-87862c68e33f",
   "metadata": {},
   "outputs": [],
   "source": [
    "# Using SSO\n",
    "# We're storing our SSO token in an .env file stored locally to separate our config from code (w. python-dotenv). An.env-template file (with help to retrieve token) is provided for you to edit and populate the variable(s)\n",
    "# callofduty.py client .Login() goes through all the authentification steps and initiate a session to access protected routes\n",
    "# The client is asynchronous thus the 'await style'\n",
    "from dotenv import load_dotenv\n",
    "load_dotenv()\n",
    "client = await callofduty.Login(sso=os.environ[\"SSO\"])"
   ]
  },
  {
   "cell_type": "code",
   "execution_count": 3,
   "id": "dbccb704-4915-45d1-8482-26d5d3dc027a",
   "metadata": {},
   "outputs": [],
   "source": [
    "# we're storing our strings conversion module above current working (notebooks) directory\n",
    "sys.path.insert(0, os.path.abspath('../wzkd'))\n",
    "import labels\n",
    "from labels import MODES_LABELS, WEAPONS_CAT_PREFIX, WEAPONS_CAT, CW_WEAPONS_CAT_SUFFIX, WEAPONS_CAT_LABELS, WEAPONS_LABELS"
   ]
  },
  {
   "cell_type": "code",
   "execution_count": 4,
   "id": "dc792adc-caaf-4e3d-8c97-f2b08b11748d",
   "metadata": {},
   "outputs": [],
   "source": [
    "import urllib.parse\n",
    "from typing import List, Optional, Union\n",
    "\n",
    "from callofduty.client import Client\n",
    "from callofduty.http import HTTP\n",
    "from callofduty.http import Request\n",
    "\n",
    "async def GetMatchStats(\n",
    "    self, platform, title: Title, mode: Mode, matchId: int, language: Language = Language.English, **kwargs\n",
    "):\n",
    "    \"\"\" \n",
    "    Compared to client : modified so that we do not use Platform.abc as parameter\n",
    "    but instead our app-defined workflow (drop down menu) to select our platform of choice\"\n",
    "    \"\"\"\n",
    "    return (\n",
    "        await self.http.GetFullMatch(\n",
    "            title.value, platform, mode.value, matchId, language.value\n",
    "        )\n",
    "    )[\"data\"][\"allPlayers\"]\n",
    "    # api result, at very least for Warzone {'data':{'all_players:' is the only key},'status': call status}\n",
    "\n",
    "Client.GetMatchStats = GetMatchStats\n",
    "match = await client.GetMatchStats('battle', Title.ModernWarfare, Mode.Warzone, matchId=2976279808342734071)\n",
    "\n",
    "# example of IDs :\n",
    "# 11672696746036290501 a \"custom\" mode game (Rumble Clash)\n",
    "# 6825832239054239925 : Iron Trials Trios\n",
    "# 9207377216339591388 : BR Duo"
   ]
  },
  {
   "cell_type": "markdown",
   "id": "8826d18b-fb0d-45ec-bf86-f26b5507833a",
   "metadata": {},
   "source": [
    "#### Option : save match to disk"
   ]
  },
  {
   "cell_type": "code",
   "execution_count": 5,
   "id": "ecf1d659-ef19-4840-959b-3943e4105a17",
   "metadata": {},
   "outputs": [],
   "source": [
    "#save file if you want to work in offline mode\n",
    "with open(\"match.pkl\", 'wb') as f:\n",
    "    pickle.dump(match, f)"
   ]
  },
  {
   "cell_type": "markdown",
   "id": "1a59fbde-3e5d-407d-a1ea-3da68da213ce",
   "metadata": {},
   "source": [
    "### Overview of returned (Match) stats"
   ]
  },
  {
   "cell_type": "code",
   "execution_count": 6,
   "id": "44a8c168-3436-48f0-9d9f-544421dcede5",
   "metadata": {},
   "outputs": [],
   "source": [
    "# load offline data\n",
    "open_file = open(\"match.pkl\", \"rb\")\n",
    "match = pickle.load(open_file)\n",
    "open_file.close()"
   ]
  },
  {
   "cell_type": "code",
   "execution_count": 7,
   "id": "dc2a5ecc-39c6-4a0a-8edc-c38ec07103dc",
   "metadata": {},
   "outputs": [
    {
     "name": "stdout",
     "output_type": "stream",
     "text": [
      "[{'draw': False,\n",
      "  'duration': 1659000,\n",
      "  'gameType': 'wz',\n",
      "  'map': 'mp_don4',\n",
      "  'matchID': '2976279808342734071',\n",
      "  'mode': 'br_brtrios',\n",
      "  'player': {'awards': {},\n",
      "             'brMissionStats': {'missionStatsByType': {'domination': {...}},\n",
      "                                'missionsComplete': 1,\n",
      "                                'totalMissionWeaponXpEarned': 420.0,\n",
      "                                'totalMissionXpEarned': 700.0},\n",
      "             'loadout': [{'extraPerks': [...],\n",
      "                          'killstreaks': [...],\n",
      "                          'lethal': {...},\n",
      "                          'perks': [...],\n",
      "                          'primaryWeapon': {...},\n",
      "                          'secondaryWeapon': {...},\n",
      "                          'tactical': {...}},\n",
      "                         {'extraPerks': [...],\n",
      "                          'killstreaks': [...],\n",
      "                          'lethal': {...},\n",
      "                          'perks': [...],\n",
      "                          'primaryWeapon': {...},\n",
      "                          'secondaryWeapon': {...},\n",
      "                          'tactical': {...}}],\n",
      "             'loadouts': [{'extraPerks': [...],\n",
      "                           'killstreaks': [...],\n",
      "                           'lethal': {...},\n",
      "                           'perks': [...],\n",
      "                           'primaryWeapon': {...},\n",
      "                           'secondaryWeapon': {...},\n",
      "                           'tactical': {...}},\n",
      "                          {'extraPerks': [...],\n",
      "                           'killstreaks': [...],\n",
      "                           'lethal': {...},\n",
      "                           'perks': [...],\n",
      "                           'primaryWeapon': {...},\n",
      "                           'secondaryWeapon': {...},\n",
      "                           'tactical': {...}}],\n",
      "             'rank': 54.0,\n",
      "             'team': 'team_eighteen',\n",
      "             'uno': '13831131263765265947',\n",
      "             'username': 'Confetti_Seeker'},\n",
      "  'playerCount': 150,\n",
      "  'playerStats': {'assists': 2.0,\n",
      "                  'bonusXp': 0.0,\n",
      "                  'challengeXp': 0.0,\n",
      "                  'damageDone': 327.0,\n",
      "                  'damageTaken': 326.0,\n",
      "                  'deaths': 2.0,\n",
      "                  'distanceTraveled': 406957.62,\n",
      "                  'executions': 0.0,\n",
      "                  'gulagDeaths': 0.0,\n",
      "                  'gulagKills': 1.0,\n",
      "                  'headshots': 0.0,\n",
      "                  'kdRatio': 1.0,\n",
      "                  'kills': 2.0,\n",
      "                  'longestStreak': 1.0,\n",
      "                  'matchXp': 10448.0,\n",
      "                  'medalXp': 10.0,\n",
      "                  'miscXp': 0.0,\n",
      "                  'nearmisses': 0.0,\n",
      "                  'objectiveBrCacheOpen': 5.0,\n",
      "                  'objectiveBrDownEnemyCircle2': 1.0,\n",
      "                  'objectiveBrKioskBuy': 3.0,\n",
      "                  'objectiveBrMissionPickupTablet': 4.0,\n",
      "                  'objectiveMunitionsBoxTeammateUsed': 2.0,\n",
      "                  'percentTimeMoving': 88.72305,\n",
      "                  'rank': 54.0,\n",
      "                  'score': 4200.0,\n",
      "                  'scorePerMinute': 198.2690794649882,\n",
      "                  'scoreXp': 5940.0,\n",
      "                  'teamPlacement': 12.0,\n",
      "                  'teamSurvivalTime': 1192848.0,\n",
      "                  'timePlayed': 1271.0,\n",
      "                  'totalXp': 16490.0,\n",
      "                  'wallBangs': 0.0},\n",
      "  'playlistName': None,\n",
      "  'privateMatch': False,\n",
      "  'rankedTeams': None,\n",
      "  'teamCount': 51,\n",
      "  'utcEndSeconds': 1636400756,\n",
      "  'utcStartSeconds': 1636399097,\n",
      "  'version': 1},\n",
      " {'draw': False,\n",
      "  'duration': 1659000,\n",
      "  'gameType': 'wz',\n",
      "  'map': 'mp_don4',\n",
      "  'matchID': '2976279808342734071',\n",
      "  'mode': 'br_brtrios',\n",
      "  'player': {'awards': {},\n",
      "             'brMissionStats': {'missionStatsByType': {'assassination': {...},\n",
      "                                                       'scavenger': {...}},\n",
      "                                'missionsComplete': 2,\n",
      "                                'totalMissionWeaponXpEarned': 1420.0,\n",
      "                                'totalMissionXpEarned': 3100.0},\n",
      "             'loadout': [{'extraPerks': [...],\n",
      "                          'killstreaks': [...],\n",
      "                          'lethal': {...},\n",
      "                          'perks': [...],\n",
      "                          'primaryWeapon': {...},\n",
      "                          'secondaryWeapon': {...},\n",
      "                          'tactical': {...}},\n",
      "                         {'extraPerks': [...],\n",
      "                          'killstreaks': [...],\n",
      "                          'lethal': {...},\n",
      "                          'perks': [...],\n",
      "                          'primaryWeapon': {...},\n",
      "                          'secondaryWeapon': {...},\n",
      "                          'tactical': {...}},\n",
      "                         {'extraPerks': [...],\n",
      "                          'killstreaks': [...],\n",
      "                          'lethal': {...},\n",
      "                          'perks': [...],\n",
      "                          'primaryWeapon': {...},\n",
      "                          'secondaryWeapon': {...},\n",
      "                          'tactical': {...}}],\n",
      "             'loadouts': [{'extraPerks': [...],\n",
      "                           'killstreaks': [...],\n",
      "                           'lethal': {...},\n",
      "                           'perks': [...],\n",
      "                           'primaryWeapon': {...},\n",
      "                           'secondaryWeapon': {...},\n",
      "                           'tactical': {...}},\n",
      "                          {'extraPerks': [...],\n",
      "                           'killstreaks': [...],\n",
      "                           'lethal': {...},\n",
      "                           'perks': [...],\n",
      "                           'primaryWeapon': {...},\n",
      "                           'secondaryWeapon': {...},\n",
      "                           'tactical': {...}},\n",
      "                          {'extraPerks': [...],\n",
      "                           'killstreaks': [...],\n",
      "                           'lethal': {...},\n",
      "                           'perks': [...],\n",
      "                           'primaryWeapon': {...},\n",
      "                           'secondaryWeapon': {...},\n",
      "                           'tactical': {...}}],\n",
      "             'rank': 54.0,\n",
      "             'team': 'team_thirty_one',\n",
      "             'uno': '17559140468322062650',\n",
      "             'username': 'maxbonbonkoch'},\n",
      "  'playerCount': 150,\n",
      "  'playerStats': {'assists': 0.0,\n",
      "                  'bonusXp': 0.0,\n",
      "                  'challengeXp': 0.0,\n",
      "                  'damageDone': 1350.0,\n",
      "                  'damageTaken': 609.0,\n",
      "                  'deaths': 3.0,\n",
      "                  'distanceTraveled': 309373.78,\n",
      "                  'executions': 0.0,\n",
      "                  'gulagDeaths': 2.0,\n",
      "                  'gulagKills': 0.0,\n",
      "                  'headshots': 0.0,\n",
      "                  'kdRatio': 1.0,\n",
      "                  'kills': 3.0,\n",
      "                  'longestStreak': 3.0,\n",
      "                  'matchXp': 7263.0,\n",
      "                  'medalXp': 30.0,\n",
      "                  'miscXp': 0.0,\n",
      "                  'nearmisses': 0.0,\n",
      "                  'objectiveBrCacheOpen': 3.0,\n",
      "                  'objectiveBrDownEnemyCircle1': 3.0,\n",
      "                  'objectiveBrKioskBuy': 1.0,\n",
      "                  'objectiveBrMissionPickupTablet': 4.0,\n",
      "                  'objectiveLastStandKill': 4.0,\n",
      "                  'objectiveMunitionsBoxTeammateUsed': 2.0,\n",
      "                  'objectiveReviver': 1.0,\n",
      "                  'percentTimeMoving': 78.5276,\n",
      "                  'rank': 54.0,\n",
      "                  'score': 3000.0,\n",
      "                  'scorePerMinute': 200.89285714285714,\n",
      "                  'scoreXp': 7020.0,\n",
      "                  'teamPlacement': 24.0,\n",
      "                  'teamSurvivalTime': 822240.0,\n",
      "                  'timePlayed': 896.0,\n",
      "                  'totalXp': 14487.0,\n",
      "                  'wallBangs': 0.0},\n",
      "  'playlistName': None,\n",
      "  'privateMatch': False,\n",
      "  'rankedTeams': None,\n",
      "  'teamCount': 51,\n",
      "  'utcEndSeconds': 1636400756,\n",
      "  'utcStartSeconds': 1636399097,\n",
      "  'version': 1}]\n"
     ]
    }
   ],
   "source": [
    "pprint(match[0:2], depth=5)"
   ]
  },
  {
   "cell_type": "code",
   "execution_count": 8,
   "id": "04ae0def-dc6c-4512-ae86-2c359093383b",
   "metadata": {},
   "outputs": [
    {
     "name": "stdout",
     "output_type": "stream",
     "text": [
      "dict_keys(['team', 'rank', 'awards', 'username', 'uno', 'loadouts', 'brMissionStats', 'loadout']) \n",
      "\n",
      "{'awards': {},\n",
      " 'brMissionStats': {'missionStatsByType': {'domination': {...}},\n",
      "                    'missionsComplete': 1,\n",
      "                    'totalMissionWeaponXpEarned': 420.0,\n",
      "                    'totalMissionXpEarned': 700.0},\n",
      " 'loadout': [{'extraPerks': [...],\n",
      "              'killstreaks': [...],\n",
      "              'lethal': {...},\n",
      "              'perks': [...],\n",
      "              'primaryWeapon': {...},\n",
      "              'secondaryWeapon': {...},\n",
      "              'tactical': {...}},\n",
      "             {'extraPerks': [...],\n",
      "              'killstreaks': [...],\n",
      "              'lethal': {...},\n",
      "              'perks': [...],\n",
      "              'primaryWeapon': {...},\n",
      "              'secondaryWeapon': {...},\n",
      "              'tactical': {...}}],\n",
      " 'loadouts': [{'extraPerks': [...],\n",
      "               'killstreaks': [...],\n",
      "               'lethal': {...},\n",
      "               'perks': [...],\n",
      "               'primaryWeapon': {...},\n",
      "               'secondaryWeapon': {...},\n",
      "               'tactical': {...}},\n",
      "              {'extraPerks': [...],\n",
      "               'killstreaks': [...],\n",
      "               'lethal': {...},\n",
      "               'perks': [...],\n",
      "               'primaryWeapon': {...},\n",
      "               'secondaryWeapon': {...},\n",
      "               'tactical': {...}}],\n",
      " 'rank': 54.0,\n",
      " 'team': 'team_eighteen',\n",
      " 'uno': '13831131263765265947',\n",
      " 'username': 'Confetti_Seeker'}\n"
     ]
    }
   ],
   "source": [
    "print(match[0]['player'].keys(), \"\\n\")\n",
    "pprint(match[0]['player'], depth=3)"
   ]
  },
  {
   "cell_type": "code",
   "execution_count": 9,
   "id": "cddfd813-a209-4449-ae7c-6d1db1b91b54",
   "metadata": {},
   "outputs": [
    {
     "data": {
      "text/html": [
       "<div>\n",
       "<style scoped>\n",
       "    .dataframe tbody tr th:only-of-type {\n",
       "        vertical-align: middle;\n",
       "    }\n",
       "\n",
       "    .dataframe tbody tr th {\n",
       "        vertical-align: top;\n",
       "    }\n",
       "\n",
       "    .dataframe thead th {\n",
       "        text-align: right;\n",
       "    }\n",
       "</style>\n",
       "<table border=\"1\" class=\"dataframe\">\n",
       "  <thead>\n",
       "    <tr style=\"text-align: right;\">\n",
       "      <th></th>\n",
       "      <th>utcStartSeconds</th>\n",
       "      <th>utcEndSeconds</th>\n",
       "      <th>map</th>\n",
       "      <th>mode</th>\n",
       "      <th>matchID</th>\n",
       "      <th>duration</th>\n",
       "      <th>playlistName</th>\n",
       "      <th>version</th>\n",
       "      <th>gameType</th>\n",
       "      <th>playerCount</th>\n",
       "      <th>playerStats</th>\n",
       "      <th>player</th>\n",
       "      <th>teamCount</th>\n",
       "      <th>rankedTeams</th>\n",
       "      <th>draw</th>\n",
       "      <th>privateMatch</th>\n",
       "    </tr>\n",
       "  </thead>\n",
       "  <tbody>\n",
       "    <tr>\n",
       "      <th>0</th>\n",
       "      <td>1636399097</td>\n",
       "      <td>1636400756</td>\n",
       "      <td>mp_don4</td>\n",
       "      <td>br_brtrios</td>\n",
       "      <td>2976279808342734071</td>\n",
       "      <td>1659000</td>\n",
       "      <td>None</td>\n",
       "      <td>1</td>\n",
       "      <td>wz</td>\n",
       "      <td>150</td>\n",
       "      <td>{'kills': 2.0, 'medalXp': 10.0, 'matchXp': 104...</td>\n",
       "      <td>{'team': 'team_eighteen', 'rank': 54.0, 'award...</td>\n",
       "      <td>51</td>\n",
       "      <td>None</td>\n",
       "      <td>False</td>\n",
       "      <td>False</td>\n",
       "    </tr>\n",
       "    <tr>\n",
       "      <th>1</th>\n",
       "      <td>1636399097</td>\n",
       "      <td>1636400756</td>\n",
       "      <td>mp_don4</td>\n",
       "      <td>br_brtrios</td>\n",
       "      <td>2976279808342734071</td>\n",
       "      <td>1659000</td>\n",
       "      <td>None</td>\n",
       "      <td>1</td>\n",
       "      <td>wz</td>\n",
       "      <td>150</td>\n",
       "      <td>{'kills': 3.0, 'medalXp': 30.0, 'objectiveLast...</td>\n",
       "      <td>{'team': 'team_thirty_one', 'rank': 54.0, 'awa...</td>\n",
       "      <td>51</td>\n",
       "      <td>None</td>\n",
       "      <td>False</td>\n",
       "      <td>False</td>\n",
       "    </tr>\n",
       "  </tbody>\n",
       "</table>\n",
       "</div>"
      ],
      "text/plain": [
       "   utcStartSeconds  utcEndSeconds      map        mode              matchID  \\\n",
       "0       1636399097     1636400756  mp_don4  br_brtrios  2976279808342734071   \n",
       "1       1636399097     1636400756  mp_don4  br_brtrios  2976279808342734071   \n",
       "\n",
       "   duration playlistName  version gameType  playerCount  \\\n",
       "0   1659000         None        1       wz          150   \n",
       "1   1659000         None        1       wz          150   \n",
       "\n",
       "                                         playerStats  \\\n",
       "0  {'kills': 2.0, 'medalXp': 10.0, 'matchXp': 104...   \n",
       "1  {'kills': 3.0, 'medalXp': 30.0, 'objectiveLast...   \n",
       "\n",
       "                                              player  teamCount rankedTeams  \\\n",
       "0  {'team': 'team_eighteen', 'rank': 54.0, 'award...         51        None   \n",
       "1  {'team': 'team_thirty_one', 'rank': 54.0, 'awa...         51        None   \n",
       "\n",
       "    draw  privateMatch  \n",
       "0  False         False  \n",
       "1  False         False  "
      ]
     },
     "execution_count": 9,
     "metadata": {},
     "output_type": "execute_result"
    }
   ],
   "source": [
    "raw = pd.DataFrame(match)\n",
    "raw.head(2)"
   ]
  },
  {
   "cell_type": "markdown",
   "id": "f231a061-6210-4eb3-9633-fd85d2d478ba",
   "metadata": {},
   "source": [
    "#### playerStats col"
   ]
  },
  {
   "cell_type": "code",
   "execution_count": 10,
   "id": "629ec1a1-02b2-44a9-8180-0b22b6f820e6",
   "metadata": {},
   "outputs": [
    {
     "data": {
      "text/html": [
       "<div>\n",
       "<style scoped>\n",
       "    .dataframe tbody tr th:only-of-type {\n",
       "        vertical-align: middle;\n",
       "    }\n",
       "\n",
       "    .dataframe tbody tr th {\n",
       "        vertical-align: top;\n",
       "    }\n",
       "\n",
       "    .dataframe thead th {\n",
       "        text-align: right;\n",
       "    }\n",
       "</style>\n",
       "<table border=\"1\" class=\"dataframe\">\n",
       "  <thead>\n",
       "    <tr style=\"text-align: right;\">\n",
       "      <th></th>\n",
       "      <th>kills</th>\n",
       "      <th>medalXp</th>\n",
       "      <th>matchXp</th>\n",
       "      <th>scoreXp</th>\n",
       "      <th>wallBangs</th>\n",
       "      <th>score</th>\n",
       "      <th>totalXp</th>\n",
       "      <th>headshots</th>\n",
       "      <th>assists</th>\n",
       "      <th>challengeXp</th>\n",
       "      <th>...</th>\n",
       "      <th>objectiveTeamWiped</th>\n",
       "      <th>objectiveBrDownEnemyCircle3</th>\n",
       "      <th>objectiveBrDownEnemyCircle5</th>\n",
       "      <th>objectiveBrDownEnemyCircle6</th>\n",
       "      <th>objectiveDestroyedEquipment</th>\n",
       "      <th>objectiveMedalScoreSsKillPrecisionAirstrike</th>\n",
       "      <th>objectiveBrDownEnemyCircle4</th>\n",
       "      <th>objectiveDestroyedVehicleHeavy</th>\n",
       "      <th>objectiveTrophyDefense</th>\n",
       "      <th>objectiveDestroyedVehicleMedium</th>\n",
       "    </tr>\n",
       "  </thead>\n",
       "  <tbody>\n",
       "    <tr>\n",
       "      <th>0</th>\n",
       "      <td>2.0</td>\n",
       "      <td>10.0</td>\n",
       "      <td>10448.0</td>\n",
       "      <td>5940.0</td>\n",
       "      <td>0.0</td>\n",
       "      <td>4200.0</td>\n",
       "      <td>16490.0</td>\n",
       "      <td>0.0</td>\n",
       "      <td>2.0</td>\n",
       "      <td>0.0</td>\n",
       "      <td>...</td>\n",
       "      <td>NaN</td>\n",
       "      <td>NaN</td>\n",
       "      <td>NaN</td>\n",
       "      <td>NaN</td>\n",
       "      <td>NaN</td>\n",
       "      <td>NaN</td>\n",
       "      <td>NaN</td>\n",
       "      <td>NaN</td>\n",
       "      <td>NaN</td>\n",
       "      <td>NaN</td>\n",
       "    </tr>\n",
       "    <tr>\n",
       "      <th>1</th>\n",
       "      <td>3.0</td>\n",
       "      <td>30.0</td>\n",
       "      <td>7263.0</td>\n",
       "      <td>7020.0</td>\n",
       "      <td>0.0</td>\n",
       "      <td>3000.0</td>\n",
       "      <td>14487.0</td>\n",
       "      <td>0.0</td>\n",
       "      <td>0.0</td>\n",
       "      <td>0.0</td>\n",
       "      <td>...</td>\n",
       "      <td>NaN</td>\n",
       "      <td>NaN</td>\n",
       "      <td>NaN</td>\n",
       "      <td>NaN</td>\n",
       "      <td>NaN</td>\n",
       "      <td>NaN</td>\n",
       "      <td>NaN</td>\n",
       "      <td>NaN</td>\n",
       "      <td>NaN</td>\n",
       "      <td>NaN</td>\n",
       "    </tr>\n",
       "    <tr>\n",
       "      <th>2</th>\n",
       "      <td>1.0</td>\n",
       "      <td>10.0</td>\n",
       "      <td>8331.0</td>\n",
       "      <td>5775.0</td>\n",
       "      <td>0.0</td>\n",
       "      <td>2775.0</td>\n",
       "      <td>14116.0</td>\n",
       "      <td>0.0</td>\n",
       "      <td>1.0</td>\n",
       "      <td>0.0</td>\n",
       "      <td>...</td>\n",
       "      <td>NaN</td>\n",
       "      <td>NaN</td>\n",
       "      <td>NaN</td>\n",
       "      <td>NaN</td>\n",
       "      <td>NaN</td>\n",
       "      <td>NaN</td>\n",
       "      <td>NaN</td>\n",
       "      <td>NaN</td>\n",
       "      <td>NaN</td>\n",
       "      <td>NaN</td>\n",
       "    </tr>\n",
       "    <tr>\n",
       "      <th>3</th>\n",
       "      <td>1.0</td>\n",
       "      <td>0.0</td>\n",
       "      <td>5638.0</td>\n",
       "      <td>4250.0</td>\n",
       "      <td>0.0</td>\n",
       "      <td>4150.0</td>\n",
       "      <td>9888.0</td>\n",
       "      <td>0.0</td>\n",
       "      <td>0.0</td>\n",
       "      <td>0.0</td>\n",
       "      <td>...</td>\n",
       "      <td>1.0</td>\n",
       "      <td>NaN</td>\n",
       "      <td>NaN</td>\n",
       "      <td>NaN</td>\n",
       "      <td>NaN</td>\n",
       "      <td>NaN</td>\n",
       "      <td>NaN</td>\n",
       "      <td>NaN</td>\n",
       "      <td>NaN</td>\n",
       "      <td>NaN</td>\n",
       "    </tr>\n",
       "    <tr>\n",
       "      <th>4</th>\n",
       "      <td>0.0</td>\n",
       "      <td>0.0</td>\n",
       "      <td>289.0</td>\n",
       "      <td>0.0</td>\n",
       "      <td>0.0</td>\n",
       "      <td>0.0</td>\n",
       "      <td>289.0</td>\n",
       "      <td>0.0</td>\n",
       "      <td>0.0</td>\n",
       "      <td>0.0</td>\n",
       "      <td>...</td>\n",
       "      <td>NaN</td>\n",
       "      <td>NaN</td>\n",
       "      <td>NaN</td>\n",
       "      <td>NaN</td>\n",
       "      <td>NaN</td>\n",
       "      <td>NaN</td>\n",
       "      <td>NaN</td>\n",
       "      <td>NaN</td>\n",
       "      <td>NaN</td>\n",
       "      <td>NaN</td>\n",
       "    </tr>\n",
       "  </tbody>\n",
       "</table>\n",
       "<p>5 rows × 46 columns</p>\n",
       "</div>"
      ],
      "text/plain": [
       "   kills  medalXp  matchXp  scoreXp  wallBangs   score  totalXp  headshots  \\\n",
       "0    2.0     10.0  10448.0   5940.0        0.0  4200.0  16490.0        0.0   \n",
       "1    3.0     30.0   7263.0   7020.0        0.0  3000.0  14487.0        0.0   \n",
       "2    1.0     10.0   8331.0   5775.0        0.0  2775.0  14116.0        0.0   \n",
       "3    1.0      0.0   5638.0   4250.0        0.0  4150.0   9888.0        0.0   \n",
       "4    0.0      0.0    289.0      0.0        0.0     0.0    289.0        0.0   \n",
       "\n",
       "   assists  challengeXp  ...  objectiveTeamWiped  objectiveBrDownEnemyCircle3  \\\n",
       "0      2.0          0.0  ...                 NaN                          NaN   \n",
       "1      0.0          0.0  ...                 NaN                          NaN   \n",
       "2      1.0          0.0  ...                 NaN                          NaN   \n",
       "3      0.0          0.0  ...                 1.0                          NaN   \n",
       "4      0.0          0.0  ...                 NaN                          NaN   \n",
       "\n",
       "   objectiveBrDownEnemyCircle5  objectiveBrDownEnemyCircle6  \\\n",
       "0                          NaN                          NaN   \n",
       "1                          NaN                          NaN   \n",
       "2                          NaN                          NaN   \n",
       "3                          NaN                          NaN   \n",
       "4                          NaN                          NaN   \n",
       "\n",
       "   objectiveDestroyedEquipment  objectiveMedalScoreSsKillPrecisionAirstrike  \\\n",
       "0                          NaN                                          NaN   \n",
       "1                          NaN                                          NaN   \n",
       "2                          NaN                                          NaN   \n",
       "3                          NaN                                          NaN   \n",
       "4                          NaN                                          NaN   \n",
       "\n",
       "   objectiveBrDownEnemyCircle4  objectiveDestroyedVehicleHeavy  \\\n",
       "0                          NaN                             NaN   \n",
       "1                          NaN                             NaN   \n",
       "2                          NaN                             NaN   \n",
       "3                          NaN                             NaN   \n",
       "4                          NaN                             NaN   \n",
       "\n",
       "   objectiveTrophyDefense  objectiveDestroyedVehicleMedium  \n",
       "0                     NaN                              NaN  \n",
       "1                     NaN                              NaN  \n",
       "2                     NaN                              NaN  \n",
       "3                     NaN                              NaN  \n",
       "4                     NaN                              NaN  \n",
       "\n",
       "[5 rows x 46 columns]"
      ]
     },
     "execution_count": 10,
     "metadata": {},
     "output_type": "execute_result"
    }
   ],
   "source": [
    "players_stats = raw['playerStats'].apply(pd.Series)\n",
    "players_stats.head(5)"
   ]
  },
  {
   "cell_type": "code",
   "execution_count": 11,
   "id": "d5c6ef82-b08a-443c-a24f-8a13aa2008b0",
   "metadata": {},
   "outputs": [
    {
     "data": {
      "text/plain": [
       "Index(['kills', 'medalXp', 'matchXp', 'scoreXp', 'wallBangs', 'score',\n",
       "       'totalXp', 'headshots', 'assists', 'challengeXp', 'rank',\n",
       "       'scorePerMinute', 'distanceTraveled', 'teamSurvivalTime', 'deaths',\n",
       "       'objectiveMunitionsBoxTeammateUsed', 'kdRatio',\n",
       "       'objectiveBrDownEnemyCircle2', 'objectiveBrMissionPickupTablet',\n",
       "       'bonusXp', 'objectiveBrKioskBuy', 'gulagDeaths', 'timePlayed',\n",
       "       'executions', 'gulagKills', 'nearmisses', 'objectiveBrCacheOpen',\n",
       "       'percentTimeMoving', 'miscXp', 'longestStreak', 'teamPlacement',\n",
       "       'damageDone', 'damageTaken', 'objectiveLastStandKill',\n",
       "       'objectiveBrDownEnemyCircle1', 'objectiveReviver', 'objectiveTeamWiped',\n",
       "       'objectiveBrDownEnemyCircle3', 'objectiveBrDownEnemyCircle5',\n",
       "       'objectiveBrDownEnemyCircle6', 'objectiveDestroyedEquipment',\n",
       "       'objectiveMedalScoreSsKillPrecisionAirstrike',\n",
       "       'objectiveBrDownEnemyCircle4', 'objectiveDestroyedVehicleHeavy',\n",
       "       'objectiveTrophyDefense', 'objectiveDestroyedVehicleMedium'],\n",
       "      dtype='object')"
      ]
     },
     "execution_count": 11,
     "metadata": {},
     "output_type": "execute_result"
    }
   ],
   "source": [
    "players_stats.keys()"
   ]
  },
  {
   "cell_type": "code",
   "execution_count": 12,
   "id": "d69e334f-6cca-413d-9218-d301b2919692",
   "metadata": {},
   "outputs": [
    {
     "data": {
      "text/html": [
       "<div>\n",
       "<style scoped>\n",
       "    .dataframe tbody tr th:only-of-type {\n",
       "        vertical-align: middle;\n",
       "    }\n",
       "\n",
       "    .dataframe tbody tr th {\n",
       "        vertical-align: top;\n",
       "    }\n",
       "\n",
       "    .dataframe thead th {\n",
       "        text-align: right;\n",
       "    }\n",
       "</style>\n",
       "<table border=\"1\" class=\"dataframe\">\n",
       "  <thead>\n",
       "    <tr style=\"text-align: right;\">\n",
       "      <th></th>\n",
       "      <th>objectiveBrDownEnemyCircle1</th>\n",
       "    </tr>\n",
       "  </thead>\n",
       "  <tbody>\n",
       "    <tr>\n",
       "      <th>142</th>\n",
       "      <td>8.0</td>\n",
       "    </tr>\n",
       "    <tr>\n",
       "      <th>7</th>\n",
       "      <td>7.0</td>\n",
       "    </tr>\n",
       "    <tr>\n",
       "      <th>135</th>\n",
       "      <td>6.0</td>\n",
       "    </tr>\n",
       "    <tr>\n",
       "      <th>42</th>\n",
       "      <td>6.0</td>\n",
       "    </tr>\n",
       "    <tr>\n",
       "      <th>90</th>\n",
       "      <td>6.0</td>\n",
       "    </tr>\n",
       "    <tr>\n",
       "      <th>97</th>\n",
       "      <td>4.0</td>\n",
       "    </tr>\n",
       "    <tr>\n",
       "      <th>26</th>\n",
       "      <td>4.0</td>\n",
       "    </tr>\n",
       "    <tr>\n",
       "      <th>41</th>\n",
       "      <td>4.0</td>\n",
       "    </tr>\n",
       "    <tr>\n",
       "      <th>37</th>\n",
       "      <td>4.0</td>\n",
       "    </tr>\n",
       "    <tr>\n",
       "      <th>60</th>\n",
       "      <td>4.0</td>\n",
       "    </tr>\n",
       "  </tbody>\n",
       "</table>\n",
       "</div>"
      ],
      "text/plain": [
       "     objectiveBrDownEnemyCircle1\n",
       "142                          8.0\n",
       "7                            7.0\n",
       "135                          6.0\n",
       "42                           6.0\n",
       "90                           6.0\n",
       "97                           4.0\n",
       "26                           4.0\n",
       "41                           4.0\n",
       "37                           4.0\n",
       "60                           4.0"
      ]
     },
     "execution_count": 12,
     "metadata": {},
     "output_type": "execute_result"
    }
   ],
   "source": [
    "players_stats[['objectiveBrDownEnemyCircle1']].sort_values(by=\"objectiveBrDownEnemyCircle1\",ascending=False).head(10)"
   ]
  },
  {
   "cell_type": "markdown",
   "id": "3172dfff-fc9b-41a7-88da-c5ab562ed466",
   "metadata": {},
   "source": [
    "#### player col"
   ]
  },
  {
   "cell_type": "code",
   "execution_count": 13,
   "id": "63648445-baf4-4089-a4a2-012d980db1d7",
   "metadata": {},
   "outputs": [
    {
     "data": {
      "text/html": [
       "<div>\n",
       "<style scoped>\n",
       "    .dataframe tbody tr th:only-of-type {\n",
       "        vertical-align: middle;\n",
       "    }\n",
       "\n",
       "    .dataframe tbody tr th {\n",
       "        vertical-align: top;\n",
       "    }\n",
       "\n",
       "    .dataframe thead th {\n",
       "        text-align: right;\n",
       "    }\n",
       "</style>\n",
       "<table border=\"1\" class=\"dataframe\">\n",
       "  <thead>\n",
       "    <tr style=\"text-align: right;\">\n",
       "      <th></th>\n",
       "      <th>team</th>\n",
       "      <th>rank</th>\n",
       "      <th>awards</th>\n",
       "      <th>username</th>\n",
       "      <th>uno</th>\n",
       "      <th>loadouts</th>\n",
       "      <th>brMissionStats</th>\n",
       "      <th>loadout</th>\n",
       "      <th>clantag</th>\n",
       "    </tr>\n",
       "  </thead>\n",
       "  <tbody>\n",
       "    <tr>\n",
       "      <th>0</th>\n",
       "      <td>team_eighteen</td>\n",
       "      <td>54.0</td>\n",
       "      <td>{}</td>\n",
       "      <td>Confetti_Seeker</td>\n",
       "      <td>13831131263765265947</td>\n",
       "      <td>[{'primaryWeapon': {'name': 'iw8_sm_t9fastfire...</td>\n",
       "      <td>{'missionsComplete': 1, 'totalMissionXpEarned'...</td>\n",
       "      <td>[{'primaryWeapon': {'name': 'iw8_sm_t9fastfire...</td>\n",
       "      <td>NaN</td>\n",
       "    </tr>\n",
       "    <tr>\n",
       "      <th>1</th>\n",
       "      <td>team_thirty_one</td>\n",
       "      <td>54.0</td>\n",
       "      <td>{}</td>\n",
       "      <td>maxbonbonkoch</td>\n",
       "      <td>17559140468322062650</td>\n",
       "      <td>[{'primaryWeapon': {'name': 'iw8_sm_t9cqb', 'l...</td>\n",
       "      <td>{'missionsComplete': 2, 'totalMissionXpEarned'...</td>\n",
       "      <td>[{'primaryWeapon': {'name': 'iw8_sm_t9cqb', 'l...</td>\n",
       "      <td>NaN</td>\n",
       "    </tr>\n",
       "    <tr>\n",
       "      <th>2</th>\n",
       "      <td>team_thirty</td>\n",
       "      <td>54.0</td>\n",
       "      <td>{}</td>\n",
       "      <td>The Fonz</td>\n",
       "      <td>2149090398057086098</td>\n",
       "      <td>[{'primaryWeapon': {'name': 'iw8_ar_t9slowhand...</td>\n",
       "      <td>{'missionsComplete': 0, 'totalMissionXpEarned'...</td>\n",
       "      <td>[{'primaryWeapon': {'name': 'iw8_ar_t9slowhand...</td>\n",
       "      <td>NaN</td>\n",
       "    </tr>\n",
       "    <tr>\n",
       "      <th>3</th>\n",
       "      <td>team_twenty_five</td>\n",
       "      <td>54.0</td>\n",
       "      <td>{}</td>\n",
       "      <td>BarbaRoja</td>\n",
       "      <td>2615663476462684704</td>\n",
       "      <td>[{'primaryWeapon': {'name': 'iw8_sm_t9cqb', 'l...</td>\n",
       "      <td>{'missionsComplete': 0, 'totalMissionXpEarned'...</td>\n",
       "      <td>[{'primaryWeapon': {'name': 'iw8_sm_t9cqb', 'l...</td>\n",
       "      <td>NaN</td>\n",
       "    </tr>\n",
       "    <tr>\n",
       "      <th>4</th>\n",
       "      <td>team_fifty</td>\n",
       "      <td>54.0</td>\n",
       "      <td>{}</td>\n",
       "      <td>MattSmith7</td>\n",
       "      <td>16235886313749315257</td>\n",
       "      <td>[{'primaryWeapon': {'name': 'iw8_ar_mcharlie',...</td>\n",
       "      <td>{'missionsComplete': 0, 'totalMissionXpEarned'...</td>\n",
       "      <td>[{'primaryWeapon': {'name': 'iw8_ar_mcharlie',...</td>\n",
       "      <td>NaN</td>\n",
       "    </tr>\n",
       "  </tbody>\n",
       "</table>\n",
       "</div>"
      ],
      "text/plain": [
       "               team  rank awards         username                   uno  \\\n",
       "0     team_eighteen  54.0     {}  Confetti_Seeker  13831131263765265947   \n",
       "1   team_thirty_one  54.0     {}    maxbonbonkoch  17559140468322062650   \n",
       "2       team_thirty  54.0     {}         The Fonz   2149090398057086098   \n",
       "3  team_twenty_five  54.0     {}        BarbaRoja   2615663476462684704   \n",
       "4        team_fifty  54.0     {}       MattSmith7  16235886313749315257   \n",
       "\n",
       "                                            loadouts  \\\n",
       "0  [{'primaryWeapon': {'name': 'iw8_sm_t9fastfire...   \n",
       "1  [{'primaryWeapon': {'name': 'iw8_sm_t9cqb', 'l...   \n",
       "2  [{'primaryWeapon': {'name': 'iw8_ar_t9slowhand...   \n",
       "3  [{'primaryWeapon': {'name': 'iw8_sm_t9cqb', 'l...   \n",
       "4  [{'primaryWeapon': {'name': 'iw8_ar_mcharlie',...   \n",
       "\n",
       "                                      brMissionStats  \\\n",
       "0  {'missionsComplete': 1, 'totalMissionXpEarned'...   \n",
       "1  {'missionsComplete': 2, 'totalMissionXpEarned'...   \n",
       "2  {'missionsComplete': 0, 'totalMissionXpEarned'...   \n",
       "3  {'missionsComplete': 0, 'totalMissionXpEarned'...   \n",
       "4  {'missionsComplete': 0, 'totalMissionXpEarned'...   \n",
       "\n",
       "                                             loadout clantag  \n",
       "0  [{'primaryWeapon': {'name': 'iw8_sm_t9fastfire...     NaN  \n",
       "1  [{'primaryWeapon': {'name': 'iw8_sm_t9cqb', 'l...     NaN  \n",
       "2  [{'primaryWeapon': {'name': 'iw8_ar_t9slowhand...     NaN  \n",
       "3  [{'primaryWeapon': {'name': 'iw8_sm_t9cqb', 'l...     NaN  \n",
       "4  [{'primaryWeapon': {'name': 'iw8_ar_mcharlie',...     NaN  "
      ]
     },
     "execution_count": 13,
     "metadata": {},
     "output_type": "execute_result"
    }
   ],
   "source": [
    "players = raw['player'].apply(pd.Series)\n",
    "players.head(5)"
   ]
  },
  {
   "cell_type": "code",
   "execution_count": 14,
   "id": "92915af4-5bb1-46ba-9389-2ed83cfbc023",
   "metadata": {},
   "outputs": [
    {
     "data": {
      "text/plain": [
       "Index(['team', 'rank', 'awards', 'username', 'uno', 'loadouts',\n",
       "       'brMissionStats', 'loadout', 'clantag'],\n",
       "      dtype='object')"
      ]
     },
     "execution_count": 14,
     "metadata": {},
     "output_type": "execute_result"
    }
   ],
   "source": [
    "players.keys()"
   ]
  },
  {
   "cell_type": "code",
   "execution_count": 15,
   "id": "3bfbb1df-5923-45bf-a351-f3de1033344e",
   "metadata": {},
   "outputs": [
    {
     "data": {
      "text/html": [
       "<div>\n",
       "<style scoped>\n",
       "    .dataframe tbody tr th:only-of-type {\n",
       "        vertical-align: middle;\n",
       "    }\n",
       "\n",
       "    .dataframe tbody tr th {\n",
       "        vertical-align: top;\n",
       "    }\n",
       "\n",
       "    .dataframe thead th {\n",
       "        text-align: right;\n",
       "    }\n",
       "</style>\n",
       "<table border=\"1\" class=\"dataframe\">\n",
       "  <thead>\n",
       "    <tr style=\"text-align: right;\">\n",
       "      <th></th>\n",
       "      <th>utcStartSeconds</th>\n",
       "      <th>utcEndSeconds</th>\n",
       "      <th>map</th>\n",
       "      <th>mode</th>\n",
       "      <th>matchID</th>\n",
       "      <th>duration</th>\n",
       "      <th>playlistName</th>\n",
       "      <th>version</th>\n",
       "      <th>gameType</th>\n",
       "      <th>playerCount</th>\n",
       "      <th>playerStats</th>\n",
       "      <th>player</th>\n",
       "      <th>teamCount</th>\n",
       "      <th>rankedTeams</th>\n",
       "      <th>draw</th>\n",
       "      <th>privateMatch</th>\n",
       "    </tr>\n",
       "  </thead>\n",
       "  <tbody>\n",
       "    <tr>\n",
       "      <th>0</th>\n",
       "      <td>1636399097</td>\n",
       "      <td>1636400756</td>\n",
       "      <td>mp_don4</td>\n",
       "      <td>br_brtrios</td>\n",
       "      <td>2976279808342734071</td>\n",
       "      <td>1659000</td>\n",
       "      <td>None</td>\n",
       "      <td>1</td>\n",
       "      <td>wz</td>\n",
       "      <td>150</td>\n",
       "      <td>{'kills': 2.0, 'medalXp': 10.0, 'matchXp': 104...</td>\n",
       "      <td>{'team': 'team_eighteen', 'rank': 54.0, 'award...</td>\n",
       "      <td>51</td>\n",
       "      <td>None</td>\n",
       "      <td>False</td>\n",
       "      <td>False</td>\n",
       "    </tr>\n",
       "    <tr>\n",
       "      <th>1</th>\n",
       "      <td>1636399097</td>\n",
       "      <td>1636400756</td>\n",
       "      <td>mp_don4</td>\n",
       "      <td>br_brtrios</td>\n",
       "      <td>2976279808342734071</td>\n",
       "      <td>1659000</td>\n",
       "      <td>None</td>\n",
       "      <td>1</td>\n",
       "      <td>wz</td>\n",
       "      <td>150</td>\n",
       "      <td>{'kills': 3.0, 'medalXp': 30.0, 'objectiveLast...</td>\n",
       "      <td>{'team': 'team_thirty_one', 'rank': 54.0, 'awa...</td>\n",
       "      <td>51</td>\n",
       "      <td>None</td>\n",
       "      <td>False</td>\n",
       "      <td>False</td>\n",
       "    </tr>\n",
       "    <tr>\n",
       "      <th>2</th>\n",
       "      <td>1636399097</td>\n",
       "      <td>1636400756</td>\n",
       "      <td>mp_don4</td>\n",
       "      <td>br_brtrios</td>\n",
       "      <td>2976279808342734071</td>\n",
       "      <td>1659000</td>\n",
       "      <td>None</td>\n",
       "      <td>1</td>\n",
       "      <td>wz</td>\n",
       "      <td>150</td>\n",
       "      <td>{'kills': 1.0, 'medalXp': 10.0, 'matchXp': 833...</td>\n",
       "      <td>{'team': 'team_thirty', 'rank': 54.0, 'awards'...</td>\n",
       "      <td>51</td>\n",
       "      <td>None</td>\n",
       "      <td>False</td>\n",
       "      <td>False</td>\n",
       "    </tr>\n",
       "  </tbody>\n",
       "</table>\n",
       "</div>"
      ],
      "text/plain": [
       "   utcStartSeconds  utcEndSeconds      map        mode              matchID  \\\n",
       "0       1636399097     1636400756  mp_don4  br_brtrios  2976279808342734071   \n",
       "1       1636399097     1636400756  mp_don4  br_brtrios  2976279808342734071   \n",
       "2       1636399097     1636400756  mp_don4  br_brtrios  2976279808342734071   \n",
       "\n",
       "   duration playlistName  version gameType  playerCount  \\\n",
       "0   1659000         None        1       wz          150   \n",
       "1   1659000         None        1       wz          150   \n",
       "2   1659000         None        1       wz          150   \n",
       "\n",
       "                                         playerStats  \\\n",
       "0  {'kills': 2.0, 'medalXp': 10.0, 'matchXp': 104...   \n",
       "1  {'kills': 3.0, 'medalXp': 30.0, 'objectiveLast...   \n",
       "2  {'kills': 1.0, 'medalXp': 10.0, 'matchXp': 833...   \n",
       "\n",
       "                                              player  teamCount rankedTeams  \\\n",
       "0  {'team': 'team_eighteen', 'rank': 54.0, 'award...         51        None   \n",
       "1  {'team': 'team_thirty_one', 'rank': 54.0, 'awa...         51        None   \n",
       "2  {'team': 'team_thirty', 'rank': 54.0, 'awards'...         51        None   \n",
       "\n",
       "    draw  privateMatch  \n",
       "0  False         False  \n",
       "1  False         False  \n",
       "2  False         False  "
      ]
     },
     "execution_count": 15,
     "metadata": {},
     "output_type": "execute_result"
    }
   ],
   "source": [
    "df_match = pd.DataFrame(match)\n",
    "df_match.head(3)"
   ]
  },
  {
   "cell_type": "code",
   "execution_count": 16,
   "id": "4d4aa3b7-f4c5-4c06-aaf6-7d8a7f8bd3fd",
   "metadata": {},
   "outputs": [
    {
     "name": "stdout",
     "output_type": "stream",
     "text": [
      "<class 'pandas.core.frame.DataFrame'>\n",
      "RangeIndex: 150 entries, 0 to 149\n",
      "Data columns (total 16 columns):\n",
      " #   Column           Non-Null Count  Dtype \n",
      "---  ------           --------------  ----- \n",
      " 0   utcStartSeconds  150 non-null    int64 \n",
      " 1   utcEndSeconds    150 non-null    int64 \n",
      " 2   map              150 non-null    object\n",
      " 3   mode             150 non-null    object\n",
      " 4   matchID          150 non-null    object\n",
      " 5   duration         150 non-null    int64 \n",
      " 6   playlistName     0 non-null      object\n",
      " 7   version          150 non-null    int64 \n",
      " 8   gameType         150 non-null    object\n",
      " 9   playerCount      150 non-null    int64 \n",
      " 10  playerStats      150 non-null    object\n",
      " 11  player           150 non-null    object\n",
      " 12  teamCount        150 non-null    int64 \n",
      " 13  rankedTeams      0 non-null      object\n",
      " 14  draw             150 non-null    bool  \n",
      " 15  privateMatch     150 non-null    bool  \n",
      "dtypes: bool(2), int64(6), object(8)\n",
      "memory usage: 16.8+ KB\n"
     ]
    }
   ],
   "source": [
    "df_match.info()"
   ]
  },
  {
   "cell_type": "markdown",
   "id": "0c968ed4-c78a-4f86-97f1-f9c169b41842",
   "metadata": {
    "tags": []
   },
   "source": [
    "### Functions to format Match result"
   ]
  },
  {
   "cell_type": "code",
   "execution_count": 17,
   "id": "34e8c2fe-5eac-4343-8711-c54c04888d10",
   "metadata": {},
   "outputs": [],
   "source": [
    "def MatchPlayersToDf(match):\n",
    "    \"\"\"\n",
    "    Convert Match result to a DataFrame we we can perform our aggregations nicely, later.\n",
    "    Expand some entries (i.e player, playerstats) that are deeply nested.\n",
    "    Filter out / retains columns.\n",
    "    Built mainly to analyze a 'BR' match, but we made sure it should work for other match types\n",
    "    \n",
    "    Parameters\n",
    "    ----------\n",
    "    match : result from COD API \"match\" endpoint ; FYI formated as : \n",
    "        list[\n",
    "                dict{ player 1 match stats },\n",
    "                dict{ player 2 match stats },\n",
    "                dict{ +- 150 players },\n",
    "            ]\n",
    "    \n",
    "    Returns\n",
    "    -------\n",
    "    DataFrame, a match stats with players as rows, matches/player stats as columns/values\n",
    "    \"\"\"\n",
    "    \n",
    "    \n",
    "    keep_cols =  [\n",
    "        'mode',\n",
    "        'utcEndSeconds',\n",
    "        'team',\n",
    "        'username',\n",
    "        'timePlayed',\n",
    "        'teamPlacement',\n",
    "        'kdRatio', \n",
    "        'kills', \n",
    "        'deaths', \n",
    "        'assists', \n",
    "        'damageDone',\n",
    "        'damageTaken',\n",
    "        'gulagKills',\n",
    "        'percentTimeMoving',\n",
    "        'duration'\n",
    "        ]\n",
    "    \n",
    "    df = pd.DataFrame(match)\n",
    "    \n",
    "    # column playerStats is a series of dict, we can expand it easily and append, then drop the original\n",
    "    df = pd.concat([df.drop(['playerStats'], axis=1), df['playerStats'].apply(pd.Series)], axis=1)\n",
    "    \n",
    "    # colum 'player' has more depth\n",
    "    # once expanded, it has a column 'loadout' : a series of list of dict (either one or more, we will max 3)\n",
    "    # and also brMissionStats (mostly empty ?, a col only present in BR matches) that we aren't interested in\n",
    "    \n",
    "    df = pd.concat([df.drop(['player'], axis=1), df['player'].apply(pd.Series)], axis=1)\n",
    "    if 'brMissionStats' in df.columns:\n",
    "        df = df.drop(['brMissionStats'], axis = 1)\n",
    "    df = pd.concat([df.drop(['loadout'], axis=1), df['loadout'].apply(pd.Series)], axis=1)\n",
    "    for col in range(0,3):\n",
    "        if col in df.columns:\n",
    "            df[col] = df[col].apply(lambda x: f\"{x['primaryWeapon']['name']} - {x['secondaryWeapon']['name']}\" if not str(x) == 'nan' else np.nan)\n",
    "            col_name = \"loadout_\" + str(col +1)\n",
    "            df = df.rename(columns={col: f\"loadout_{str(col +1)}\"})   \n",
    "            keep_cols.append(col_name)\n",
    "    \n",
    "    # Ensure we are not throwing an error if we want to keep a column that does not exist (i.e. not in a BR match) :\n",
    "    keep_cols = [col for col in keep_cols if col in df.columns.tolist()]\n",
    "    \n",
    "    return df[keep_cols]"
   ]
  },
  {
   "cell_type": "code",
   "execution_count": 18,
   "id": "9ab9a647-063d-4089-b2be-433081b1eaba",
   "metadata": {},
   "outputs": [],
   "source": [
    "open_file = open(\"match.pkl\", \"rb\")\n",
    "match = pickle.load(open_file)\n",
    "open_file.close()"
   ]
  },
  {
   "cell_type": "code",
   "execution_count": 19,
   "id": "e5d8bb7f-69a9-454f-9a64-f475d17fdf63",
   "metadata": {},
   "outputs": [
    {
     "data": {
      "text/html": [
       "<div>\n",
       "<style scoped>\n",
       "    .dataframe tbody tr th:only-of-type {\n",
       "        vertical-align: middle;\n",
       "    }\n",
       "\n",
       "    .dataframe tbody tr th {\n",
       "        vertical-align: top;\n",
       "    }\n",
       "\n",
       "    .dataframe thead th {\n",
       "        text-align: right;\n",
       "    }\n",
       "</style>\n",
       "<table border=\"1\" class=\"dataframe\">\n",
       "  <thead>\n",
       "    <tr style=\"text-align: right;\">\n",
       "      <th></th>\n",
       "      <th>mode</th>\n",
       "      <th>utcEndSeconds</th>\n",
       "      <th>team</th>\n",
       "      <th>username</th>\n",
       "      <th>timePlayed</th>\n",
       "      <th>teamPlacement</th>\n",
       "      <th>kdRatio</th>\n",
       "      <th>kills</th>\n",
       "      <th>deaths</th>\n",
       "      <th>assists</th>\n",
       "      <th>damageDone</th>\n",
       "      <th>damageTaken</th>\n",
       "      <th>gulagKills</th>\n",
       "      <th>percentTimeMoving</th>\n",
       "      <th>duration</th>\n",
       "      <th>loadout_1</th>\n",
       "      <th>loadout_2</th>\n",
       "      <th>loadout_3</th>\n",
       "    </tr>\n",
       "  </thead>\n",
       "  <tbody>\n",
       "    <tr>\n",
       "      <th>0</th>\n",
       "      <td>br_brtrios</td>\n",
       "      <td>1636400756</td>\n",
       "      <td>team_eighteen</td>\n",
       "      <td>Confetti_Seeker</td>\n",
       "      <td>1271.0</td>\n",
       "      <td>12.0</td>\n",
       "      <td>1.000000</td>\n",
       "      <td>2.0</td>\n",
       "      <td>2.0</td>\n",
       "      <td>2.0</td>\n",
       "      <td>327.0</td>\n",
       "      <td>326.0</td>\n",
       "      <td>1.0</td>\n",
       "      <td>88.72305</td>\n",
       "      <td>1659000</td>\n",
       "      <td>iw8_sm_t9fastfire - iw8_sn_t9accurate</td>\n",
       "      <td>iw8_pi_t9semiauto - iw8_fists</td>\n",
       "      <td>NaN</td>\n",
       "    </tr>\n",
       "    <tr>\n",
       "      <th>1</th>\n",
       "      <td>br_brtrios</td>\n",
       "      <td>1636400756</td>\n",
       "      <td>team_thirty_one</td>\n",
       "      <td>maxbonbonkoch</td>\n",
       "      <td>896.0</td>\n",
       "      <td>24.0</td>\n",
       "      <td>1.000000</td>\n",
       "      <td>3.0</td>\n",
       "      <td>3.0</td>\n",
       "      <td>0.0</td>\n",
       "      <td>1350.0</td>\n",
       "      <td>609.0</td>\n",
       "      <td>0.0</td>\n",
       "      <td>78.52760</td>\n",
       "      <td>1659000</td>\n",
       "      <td>iw8_sm_t9cqb - iw8_ar_t9slowfire</td>\n",
       "      <td>iw8_pi_t9semiauto - iw8_fists</td>\n",
       "      <td>iw8_sn_t9damagesemi - iw8_fists</td>\n",
       "    </tr>\n",
       "    <tr>\n",
       "      <th>2</th>\n",
       "      <td>br_brtrios</td>\n",
       "      <td>1636400756</td>\n",
       "      <td>team_thirty</td>\n",
       "      <td>The Fonz</td>\n",
       "      <td>1043.0</td>\n",
       "      <td>21.0</td>\n",
       "      <td>0.333333</td>\n",
       "      <td>1.0</td>\n",
       "      <td>3.0</td>\n",
       "      <td>1.0</td>\n",
       "      <td>475.0</td>\n",
       "      <td>574.0</td>\n",
       "      <td>1.0</td>\n",
       "      <td>66.53020</td>\n",
       "      <td>1659000</td>\n",
       "      <td>iw8_ar_t9slowhandling - iw8_sm_t9fastfire</td>\n",
       "      <td>iw8_pi_t9semiauto - iw8_fists</td>\n",
       "      <td>iw8_ar_t9slowhandling - iw8_pi_mike</td>\n",
       "    </tr>\n",
       "  </tbody>\n",
       "</table>\n",
       "</div>"
      ],
      "text/plain": [
       "         mode  utcEndSeconds             team         username  timePlayed  \\\n",
       "0  br_brtrios     1636400756    team_eighteen  Confetti_Seeker      1271.0   \n",
       "1  br_brtrios     1636400756  team_thirty_one    maxbonbonkoch       896.0   \n",
       "2  br_brtrios     1636400756      team_thirty         The Fonz      1043.0   \n",
       "\n",
       "   teamPlacement   kdRatio  kills  deaths  assists  damageDone  damageTaken  \\\n",
       "0           12.0  1.000000    2.0     2.0      2.0       327.0        326.0   \n",
       "1           24.0  1.000000    3.0     3.0      0.0      1350.0        609.0   \n",
       "2           21.0  0.333333    1.0     3.0      1.0       475.0        574.0   \n",
       "\n",
       "   gulagKills  percentTimeMoving  duration  \\\n",
       "0         1.0           88.72305   1659000   \n",
       "1         0.0           78.52760   1659000   \n",
       "2         1.0           66.53020   1659000   \n",
       "\n",
       "                                   loadout_1                      loadout_2  \\\n",
       "0      iw8_sm_t9fastfire - iw8_sn_t9accurate  iw8_pi_t9semiauto - iw8_fists   \n",
       "1           iw8_sm_t9cqb - iw8_ar_t9slowfire  iw8_pi_t9semiauto - iw8_fists   \n",
       "2  iw8_ar_t9slowhandling - iw8_sm_t9fastfire  iw8_pi_t9semiauto - iw8_fists   \n",
       "\n",
       "                             loadout_3  \n",
       "0                                  NaN  \n",
       "1      iw8_sn_t9damagesemi - iw8_fists  \n",
       "2  iw8_ar_t9slowhandling - iw8_pi_mike  "
      ]
     },
     "execution_count": 19,
     "metadata": {},
     "output_type": "execute_result"
    }
   ],
   "source": [
    "df_match = MatchPlayersToDf(match)\n",
    "df_match.head(3)"
   ]
  },
  {
   "cell_type": "code",
   "execution_count": 20,
   "id": "78f0034f-4146-4fab-815a-92657baf93cd",
   "metadata": {},
   "outputs": [
    {
     "data": {
      "text/html": [
       "<div>\n",
       "<style scoped>\n",
       "    .dataframe tbody tr th:only-of-type {\n",
       "        vertical-align: middle;\n",
       "    }\n",
       "\n",
       "    .dataframe tbody tr th {\n",
       "        vertical-align: top;\n",
       "    }\n",
       "\n",
       "    .dataframe thead th {\n",
       "        text-align: right;\n",
       "    }\n",
       "</style>\n",
       "<table border=\"1\" class=\"dataframe\">\n",
       "  <thead>\n",
       "    <tr style=\"text-align: right;\">\n",
       "      <th></th>\n",
       "      <th>mode</th>\n",
       "      <th>utcEndSeconds</th>\n",
       "      <th>team</th>\n",
       "      <th>username</th>\n",
       "      <th>timePlayed</th>\n",
       "      <th>teamPlacement</th>\n",
       "      <th>kdRatio</th>\n",
       "      <th>kills</th>\n",
       "      <th>deaths</th>\n",
       "      <th>assists</th>\n",
       "      <th>damageDone</th>\n",
       "      <th>damageTaken</th>\n",
       "      <th>gulagKills</th>\n",
       "      <th>percentTimeMoving</th>\n",
       "      <th>duration</th>\n",
       "      <th>loadout_1</th>\n",
       "      <th>loadout_2</th>\n",
       "      <th>loadout_3</th>\n",
       "    </tr>\n",
       "  </thead>\n",
       "  <tbody>\n",
       "    <tr>\n",
       "      <th>49</th>\n",
       "      <td>br_brtrios</td>\n",
       "      <td>1636400756</td>\n",
       "      <td>team_eighteen</td>\n",
       "      <td>gentil_renard</td>\n",
       "      <td>1289.0</td>\n",
       "      <td>12.0</td>\n",
       "      <td>1.0</td>\n",
       "      <td>2.0</td>\n",
       "      <td>2.0</td>\n",
       "      <td>0.0</td>\n",
       "      <td>343.0</td>\n",
       "      <td>469.0</td>\n",
       "      <td>1.0</td>\n",
       "      <td>92.53112</td>\n",
       "      <td>1659000</td>\n",
       "      <td>iw8_sh_dpapa12 - iw8_sn_t9powersemi</td>\n",
       "      <td>iw8_pi_t9semiauto - iw8_fists</td>\n",
       "      <td>NaN</td>\n",
       "    </tr>\n",
       "  </tbody>\n",
       "</table>\n",
       "</div>"
      ],
      "text/plain": [
       "          mode  utcEndSeconds           team       username  timePlayed  \\\n",
       "49  br_brtrios     1636400756  team_eighteen  gentil_renard      1289.0   \n",
       "\n",
       "    teamPlacement  kdRatio  kills  deaths  assists  damageDone  damageTaken  \\\n",
       "49           12.0      1.0    2.0     2.0      0.0       343.0        469.0   \n",
       "\n",
       "    gulagKills  percentTimeMoving  duration  \\\n",
       "49         1.0           92.53112   1659000   \n",
       "\n",
       "                              loadout_1                      loadout_2  \\\n",
       "49  iw8_sh_dpapa12 - iw8_sn_t9powersemi  iw8_pi_t9semiauto - iw8_fists   \n",
       "\n",
       "   loadout_3  \n",
       "49       NaN  "
      ]
     },
     "execution_count": 20,
     "metadata": {},
     "output_type": "execute_result"
    }
   ],
   "source": [
    "df_match[df_match['username'] == 'gentil_renard']"
   ]
  },
  {
   "cell_type": "code",
   "execution_count": 21,
   "id": "253848d5-386a-4951-a7d8-ecbac47f0141",
   "metadata": {
    "tags": []
   },
   "outputs": [],
   "source": [
    "def MatchPlayersStandardize(df):\n",
    "    \"\"\"\n",
    "    A first layer of standadization (as properly formated) to our a \"Match with players stats\" DataFrame\n",
    "    For further aggregations / better readibility of our data\n",
    "    \n",
    "    Returns\n",
    "    -------\n",
    "    DataFrame : players/teams as rows, cleaned player stats of a given match as columns\n",
    "    \"\"\"\n",
    "    \n",
    "    int_cols =  [\n",
    "        'teamPlacement', \n",
    "        'kills', \n",
    "        'deaths', \n",
    "        'assists', \n",
    "        'gulagKills', \n",
    "        'damageDone',\n",
    "        'damageTaken'\n",
    "        ]\n",
    "    \n",
    "    float_cols = [\n",
    "        'kdRatio',\n",
    "        'percentTimeMoving'\n",
    "        ]\n",
    "    \n",
    "    ts_cols = [\n",
    "        'utcEndSeconds'\n",
    "        ]\n",
    "    \n",
    "    columns_labels = {\n",
    "        'utcEndSeconds':'Ended at',\n",
    "        'timePlayed': 'Playtime',\n",
    "        'teamPlacement':'#',\n",
    "        'kdRatio':'KD',\n",
    "        'damageDone':'Damage >',\n",
    "        'damageTaken':'Damage <',\n",
    "        'gulagKills':'Gulag',\n",
    "        'headshots':'% headshots',\n",
    "        'percentTimeMoving':'% moving',\n",
    "        'duration':'Game duration'\n",
    "        }\n",
    "\n",
    "    # Ensure we are not throwing an error if we want to keep a column that does not exist (i.e. not in a BR match) :\n",
    "    int_cols = [col for col in int_cols if col in df.columns.tolist()]\n",
    "    \n",
    "    # df = df.fillna(0)\n",
    "    # generic conversions/rounding for int and float cols\n",
    "    df[int_cols] = df[int_cols].astype(int)\n",
    "    df[float_cols] = df[float_cols].astype(float).round(1) # still renders 0.0000 in streamlit but ugly hacks exists\n",
    "    \n",
    "    # specials : timestamp, loadout columns, match type...\n",
    "    df.team = df.team.apply(lambda x: x.replace(\"team_\", \"\"))\n",
    "    df['utcEndSeconds'] = df['utcEndSeconds'].apply(lambda x: datetime.fromtimestamp(x))\n",
    "    \n",
    "    df['duration'] = df['duration'].apply(lambda x: x/1000).apply(lambda x: pd.to_datetime(x, unit='s').strftime('%M')) # API duration is in seconds x1000\n",
    "    df['timePlayed'] = df['timePlayed'].apply(lambda x: pd.to_datetime(x, unit='s').strftime('%M:%S')) # API timePlayed is in seconds\n",
    "    if 'gulagKills' in df.columns.tolist():\n",
    "        df['gulagKills'] = df['gulagKills'].map({1:'W', 0:'L'})\n",
    "    for col in ['loadout_1', 'loadout_2', 'loadout_3']:\n",
    "            df.fillna({col:'-'}, inplace=True) if col in df.columns else None\n",
    "    \n",
    "    df = df.replace({\"mode\": MODES_LABELS})\n",
    "    df = df.rename(columns=columns_labels)\n",
    "    df.columns = df.columns.str.capitalize()\n",
    "    df = df.rename({\"Kd\":\"KD\"}, axis=1)\n",
    "     \n",
    "    return df"
   ]
  },
  {
   "cell_type": "code",
   "execution_count": 22,
   "id": "5e47ffed-8f59-4f3c-9d0e-b1ff11b3c720",
   "metadata": {},
   "outputs": [
    {
     "data": {
      "text/html": [
       "<div>\n",
       "<style scoped>\n",
       "    .dataframe tbody tr th:only-of-type {\n",
       "        vertical-align: middle;\n",
       "    }\n",
       "\n",
       "    .dataframe tbody tr th {\n",
       "        vertical-align: top;\n",
       "    }\n",
       "\n",
       "    .dataframe thead th {\n",
       "        text-align: right;\n",
       "    }\n",
       "</style>\n",
       "<table border=\"1\" class=\"dataframe\">\n",
       "  <thead>\n",
       "    <tr style=\"text-align: right;\">\n",
       "      <th></th>\n",
       "      <th>Mode</th>\n",
       "      <th>Ended at</th>\n",
       "      <th>Team</th>\n",
       "      <th>Username</th>\n",
       "      <th>Playtime</th>\n",
       "      <th>#</th>\n",
       "      <th>KD</th>\n",
       "      <th>Kills</th>\n",
       "      <th>Deaths</th>\n",
       "      <th>Assists</th>\n",
       "      <th>Damage &gt;</th>\n",
       "      <th>Damage &lt;</th>\n",
       "      <th>Gulag</th>\n",
       "      <th>% moving</th>\n",
       "      <th>Game duration</th>\n",
       "      <th>Loadout_1</th>\n",
       "      <th>Loadout_2</th>\n",
       "      <th>Loadout_3</th>\n",
       "    </tr>\n",
       "  </thead>\n",
       "  <tbody>\n",
       "    <tr>\n",
       "      <th>147</th>\n",
       "      <td>Trios</td>\n",
       "      <td>2021-11-08 20:45:56</td>\n",
       "      <td>twenty_six</td>\n",
       "      <td>Rev</td>\n",
       "      <td>11:34</td>\n",
       "      <td>34</td>\n",
       "      <td>0.0</td>\n",
       "      <td>0</td>\n",
       "      <td>3</td>\n",
       "      <td>0</td>\n",
       "      <td>377</td>\n",
       "      <td>466</td>\n",
       "      <td>L</td>\n",
       "      <td>64.1</td>\n",
       "      <td>27</td>\n",
       "      <td>iw8_ar_kilo433 - iw8_sm_mpapa5</td>\n",
       "      <td>iw8_sh_t9pump - iw8_fists</td>\n",
       "      <td>-</td>\n",
       "    </tr>\n",
       "    <tr>\n",
       "      <th>148</th>\n",
       "      <td>Trios</td>\n",
       "      <td>2021-11-08 20:45:56</td>\n",
       "      <td>eight</td>\n",
       "      <td>normajean74</td>\n",
       "      <td>13:37</td>\n",
       "      <td>27</td>\n",
       "      <td>2.0</td>\n",
       "      <td>4</td>\n",
       "      <td>2</td>\n",
       "      <td>0</td>\n",
       "      <td>1487</td>\n",
       "      <td>642</td>\n",
       "      <td>W</td>\n",
       "      <td>87.6</td>\n",
       "      <td>27</td>\n",
       "      <td>iw8_lm_t9fastfire - iw8_sm_t9standard</td>\n",
       "      <td>iw8_pi_t9semiauto - iw8_fists</td>\n",
       "      <td>-</td>\n",
       "    </tr>\n",
       "    <tr>\n",
       "      <th>149</th>\n",
       "      <td>Trios</td>\n",
       "      <td>2021-11-08 20:45:56</td>\n",
       "      <td>twenty_six</td>\n",
       "      <td>JacalL141</td>\n",
       "      <td>11:58</td>\n",
       "      <td>34</td>\n",
       "      <td>0.3</td>\n",
       "      <td>1</td>\n",
       "      <td>3</td>\n",
       "      <td>0</td>\n",
       "      <td>614</td>\n",
       "      <td>698</td>\n",
       "      <td>W</td>\n",
       "      <td>60.2</td>\n",
       "      <td>27</td>\n",
       "      <td>iw8_ar_t9damage - iw8_me_riotshield</td>\n",
       "      <td>iw8_pi_t9semiauto - iw8_fists</td>\n",
       "      <td>-</td>\n",
       "    </tr>\n",
       "  </tbody>\n",
       "</table>\n",
       "</div>"
      ],
      "text/plain": [
       "      Mode            Ended at        Team     Username Playtime   #   KD  \\\n",
       "147  Trios 2021-11-08 20:45:56  twenty_six          Rev    11:34  34  0.0   \n",
       "148  Trios 2021-11-08 20:45:56       eight  normajean74    13:37  27  2.0   \n",
       "149  Trios 2021-11-08 20:45:56  twenty_six    JacalL141    11:58  34  0.3   \n",
       "\n",
       "     Kills  Deaths  Assists  Damage >  Damage < Gulag  % moving Game duration  \\\n",
       "147      0       3        0       377       466     L      64.1            27   \n",
       "148      4       2        0      1487       642     W      87.6            27   \n",
       "149      1       3        0       614       698     W      60.2            27   \n",
       "\n",
       "                                 Loadout_1                      Loadout_2  \\\n",
       "147         iw8_ar_kilo433 - iw8_sm_mpapa5      iw8_sh_t9pump - iw8_fists   \n",
       "148  iw8_lm_t9fastfire - iw8_sm_t9standard  iw8_pi_t9semiauto - iw8_fists   \n",
       "149    iw8_ar_t9damage - iw8_me_riotshield  iw8_pi_t9semiauto - iw8_fists   \n",
       "\n",
       "    Loadout_3  \n",
       "147         -  \n",
       "148         -  \n",
       "149         -  "
      ]
     },
     "execution_count": 22,
     "metadata": {},
     "output_type": "execute_result"
    }
   ],
   "source": [
    "df_match = MatchPlayersToDf(match)\n",
    "df = MatchPlayersStandardize(df_match)\n",
    "df.tail(3)"
   ]
  },
  {
   "cell_type": "markdown",
   "id": "aa062673-bcd8-4a17-ac52-39935c67a37f",
   "metadata": {
    "tags": []
   },
   "source": [
    "### Retrieve some matche basic infos"
   ]
  },
  {
   "cell_type": "code",
   "execution_count": 23,
   "id": "c22e11e2-bed0-4f32-a645-eb371559c70d",
   "metadata": {},
   "outputs": [],
   "source": [
    "def retrieveTeam(df, gamertag):\n",
    "    \"\"\" --> df, Retrieve team name of given gamertag\"\"\"    \n",
    "    return df[df[\"Username\"] == gamertag]['Team'].tolist()[0]  \n",
    "\n",
    "def retrieveTeammates(df, gamertag):\n",
    "    \"\"\" --> df, Retrieve list of gamertag + his teammates\"\"\"  \n",
    "    team = retrieveTeam(df, gamertag)\n",
    "    return df[df[\"Team\"] == team]['Username'].tolist()\n",
    "\n",
    "def retrieveDate(df):\n",
    "    \"\"\" --> str, Retrieve end date (str) of our match \"\"\"   \n",
    "    return df['Ended at'][0].strftime('%Y-%m-%d %H:%M')\n",
    "\n",
    "def retrievePlacement(df, gamertag):\n",
    "    \"\"\" --> int, Retrieve final placement of a player/his team \"\"\"  \n",
    "    return df[df[\"Username\"] == gamertag][\"#\"].tolist()[0]\n",
    "\n",
    "def retrievePlayerKills(df, gamertag):\n",
    "    \"\"\" --> dict, Retrieve Player Kills kpis\"\"\"\n",
    "    return df[df[\"Username\"] == gamertag][[\"KD\", \"Kills\", \"Deaths\"]].to_dict('records')[0]"
   ]
  },
  {
   "cell_type": "code",
   "execution_count": 24,
   "id": "798ba1fc-b04c-459c-996d-373a2672133a",
   "metadata": {},
   "outputs": [
    {
     "data": {
      "text/html": [
       "<div>\n",
       "<style scoped>\n",
       "    .dataframe tbody tr th:only-of-type {\n",
       "        vertical-align: middle;\n",
       "    }\n",
       "\n",
       "    .dataframe tbody tr th {\n",
       "        vertical-align: top;\n",
       "    }\n",
       "\n",
       "    .dataframe thead th {\n",
       "        text-align: right;\n",
       "    }\n",
       "</style>\n",
       "<table border=\"1\" class=\"dataframe\">\n",
       "  <thead>\n",
       "    <tr style=\"text-align: right;\">\n",
       "      <th></th>\n",
       "      <th>Mode</th>\n",
       "      <th>Ended at</th>\n",
       "      <th>Team</th>\n",
       "      <th>Username</th>\n",
       "      <th>Playtime</th>\n",
       "      <th>#</th>\n",
       "      <th>KD</th>\n",
       "      <th>Kills</th>\n",
       "      <th>Deaths</th>\n",
       "      <th>Assists</th>\n",
       "      <th>Damage &gt;</th>\n",
       "      <th>Damage &lt;</th>\n",
       "      <th>Gulag</th>\n",
       "      <th>% moving</th>\n",
       "      <th>Game duration</th>\n",
       "      <th>Loadout_1</th>\n",
       "      <th>Loadout_2</th>\n",
       "      <th>Loadout_3</th>\n",
       "    </tr>\n",
       "  </thead>\n",
       "  <tbody>\n",
       "    <tr>\n",
       "      <th>0</th>\n",
       "      <td>Trios</td>\n",
       "      <td>2021-11-08 20:45:56</td>\n",
       "      <td>eighteen</td>\n",
       "      <td>Confetti_Seeker</td>\n",
       "      <td>21:11</td>\n",
       "      <td>12</td>\n",
       "      <td>1.0</td>\n",
       "      <td>2</td>\n",
       "      <td>2</td>\n",
       "      <td>2</td>\n",
       "      <td>327</td>\n",
       "      <td>326</td>\n",
       "      <td>W</td>\n",
       "      <td>88.7</td>\n",
       "      <td>27</td>\n",
       "      <td>iw8_sm_t9fastfire - iw8_sn_t9accurate</td>\n",
       "      <td>iw8_pi_t9semiauto - iw8_fists</td>\n",
       "      <td>-</td>\n",
       "    </tr>\n",
       "    <tr>\n",
       "      <th>1</th>\n",
       "      <td>Trios</td>\n",
       "      <td>2021-11-08 20:45:56</td>\n",
       "      <td>thirty_one</td>\n",
       "      <td>maxbonbonkoch</td>\n",
       "      <td>14:56</td>\n",
       "      <td>24</td>\n",
       "      <td>1.0</td>\n",
       "      <td>3</td>\n",
       "      <td>3</td>\n",
       "      <td>0</td>\n",
       "      <td>1350</td>\n",
       "      <td>609</td>\n",
       "      <td>L</td>\n",
       "      <td>78.5</td>\n",
       "      <td>27</td>\n",
       "      <td>iw8_sm_t9cqb - iw8_ar_t9slowfire</td>\n",
       "      <td>iw8_pi_t9semiauto - iw8_fists</td>\n",
       "      <td>iw8_sn_t9damagesemi - iw8_fists</td>\n",
       "    </tr>\n",
       "    <tr>\n",
       "      <th>2</th>\n",
       "      <td>Trios</td>\n",
       "      <td>2021-11-08 20:45:56</td>\n",
       "      <td>thirty</td>\n",
       "      <td>The Fonz</td>\n",
       "      <td>17:23</td>\n",
       "      <td>21</td>\n",
       "      <td>0.3</td>\n",
       "      <td>1</td>\n",
       "      <td>3</td>\n",
       "      <td>1</td>\n",
       "      <td>475</td>\n",
       "      <td>574</td>\n",
       "      <td>W</td>\n",
       "      <td>66.5</td>\n",
       "      <td>27</td>\n",
       "      <td>iw8_ar_t9slowhandling - iw8_sm_t9fastfire</td>\n",
       "      <td>iw8_pi_t9semiauto - iw8_fists</td>\n",
       "      <td>iw8_ar_t9slowhandling - iw8_pi_mike</td>\n",
       "    </tr>\n",
       "    <tr>\n",
       "      <th>3</th>\n",
       "      <td>Trios</td>\n",
       "      <td>2021-11-08 20:45:56</td>\n",
       "      <td>twenty_five</td>\n",
       "      <td>BarbaRoja</td>\n",
       "      <td>12:28</td>\n",
       "      <td>31</td>\n",
       "      <td>0.5</td>\n",
       "      <td>1</td>\n",
       "      <td>2</td>\n",
       "      <td>0</td>\n",
       "      <td>606</td>\n",
       "      <td>340</td>\n",
       "      <td>L</td>\n",
       "      <td>94.5</td>\n",
       "      <td>27</td>\n",
       "      <td>iw8_sm_t9cqb - iw8_sn_t9accurate</td>\n",
       "      <td>-</td>\n",
       "      <td>-</td>\n",
       "    </tr>\n",
       "    <tr>\n",
       "      <th>4</th>\n",
       "      <td>Trios</td>\n",
       "      <td>2021-11-08 20:45:56</td>\n",
       "      <td>fifty</td>\n",
       "      <td>MattSmith7</td>\n",
       "      <td>00:59</td>\n",
       "      <td>51</td>\n",
       "      <td>0.0</td>\n",
       "      <td>0</td>\n",
       "      <td>0</td>\n",
       "      <td>0</td>\n",
       "      <td>0</td>\n",
       "      <td>0</td>\n",
       "      <td>L</td>\n",
       "      <td>90.9</td>\n",
       "      <td>27</td>\n",
       "      <td>iw8_ar_mcharlie - iw8_la_rpapa7</td>\n",
       "      <td>-</td>\n",
       "      <td>-</td>\n",
       "    </tr>\n",
       "  </tbody>\n",
       "</table>\n",
       "</div>"
      ],
      "text/plain": [
       "    Mode            Ended at         Team         Username Playtime   #   KD  \\\n",
       "0  Trios 2021-11-08 20:45:56     eighteen  Confetti_Seeker    21:11  12  1.0   \n",
       "1  Trios 2021-11-08 20:45:56   thirty_one    maxbonbonkoch    14:56  24  1.0   \n",
       "2  Trios 2021-11-08 20:45:56       thirty         The Fonz    17:23  21  0.3   \n",
       "3  Trios 2021-11-08 20:45:56  twenty_five        BarbaRoja    12:28  31  0.5   \n",
       "4  Trios 2021-11-08 20:45:56        fifty       MattSmith7    00:59  51  0.0   \n",
       "\n",
       "   Kills  Deaths  Assists  Damage >  Damage < Gulag  % moving Game duration  \\\n",
       "0      2       2        2       327       326     W      88.7            27   \n",
       "1      3       3        0      1350       609     L      78.5            27   \n",
       "2      1       3        1       475       574     W      66.5            27   \n",
       "3      1       2        0       606       340     L      94.5            27   \n",
       "4      0       0        0         0         0     L      90.9            27   \n",
       "\n",
       "                                   Loadout_1                      Loadout_2  \\\n",
       "0      iw8_sm_t9fastfire - iw8_sn_t9accurate  iw8_pi_t9semiauto - iw8_fists   \n",
       "1           iw8_sm_t9cqb - iw8_ar_t9slowfire  iw8_pi_t9semiauto - iw8_fists   \n",
       "2  iw8_ar_t9slowhandling - iw8_sm_t9fastfire  iw8_pi_t9semiauto - iw8_fists   \n",
       "3           iw8_sm_t9cqb - iw8_sn_t9accurate                              -   \n",
       "4            iw8_ar_mcharlie - iw8_la_rpapa7                              -   \n",
       "\n",
       "                             Loadout_3  \n",
       "0                                    -  \n",
       "1      iw8_sn_t9damagesemi - iw8_fists  \n",
       "2  iw8_ar_t9slowhandling - iw8_pi_mike  \n",
       "3                                    -  \n",
       "4                                    -  "
      ]
     },
     "execution_count": 24,
     "metadata": {},
     "output_type": "execute_result"
    }
   ],
   "source": [
    "df.head()"
   ]
  },
  {
   "cell_type": "code",
   "execution_count": 25,
   "id": "591ef14b-50f1-4ba8-b29b-e9f91e2983c6",
   "metadata": {},
   "outputs": [
    {
     "name": "stdout",
     "output_type": "stream",
     "text": [
      "eighteen ['Confetti_Seeker', 'nicoyzovitch', 'gentil_renard']\n"
     ]
    }
   ],
   "source": [
    "gamertag = \"gentil_renard\"\n",
    "team = retrieveTeam(df, gamertag)\n",
    "teammates = retrieveTeammates(df, gamertag)\n",
    "print(team, teammates)"
   ]
  },
  {
   "cell_type": "code",
   "execution_count": 26,
   "id": "7b7ac389-67fe-41da-a098-0ed81addca59",
   "metadata": {},
   "outputs": [
    {
     "data": {
      "text/plain": [
       "12"
      ]
     },
     "execution_count": 26,
     "metadata": {},
     "output_type": "execute_result"
    }
   ],
   "source": [
    "placement = retrievePlacement(df, gamertag)\n",
    "placement"
   ]
  },
  {
   "cell_type": "code",
   "execution_count": 27,
   "id": "8d446891-ce1c-42ed-8e9e-7ca0c169a986",
   "metadata": {},
   "outputs": [
    {
     "data": {
      "text/plain": [
       "{'KD': 1.0, 'Kills': 2, 'Deaths': 2}"
      ]
     },
     "execution_count": 27,
     "metadata": {},
     "output_type": "execute_result"
    }
   ],
   "source": [
    "player_kills = retrievePlayerKills(df, gamertag)\n",
    "player_kills"
   ]
  },
  {
   "cell_type": "markdown",
   "id": "8030439d-0cb9-40f0-baa1-9a0f65673537",
   "metadata": {},
   "source": [
    "### Sandbox Weapons cleaning"
   ]
  },
  {
   "cell_type": "code",
   "execution_count": 28,
   "id": "c006d0d9-e17a-48d0-aa03-dc11fde0f577",
   "metadata": {},
   "outputs": [],
   "source": [
    "WEAPONS_CAT_PREFIX = ['iw8_']\n",
    "WEAPONS_CAT = [\"ar\", \"lm\", \"sm\", \"pi\", \"sn\", \"la\", \"sh\", \"me\"]\n",
    "CW_WEAPONS_CAT_SUFFIX = ['_t9']\n",
    "\n",
    "WEAPONS_CAT_LABELS = {\n",
    "    'ar':'Ar',\n",
    "    'lm':'Lmg',\n",
    "    'sm':'Smg',\n",
    "    'pi':'Pistol',\n",
    "    'sn':'Sniper',\n",
    "    'la':'Launcher',\n",
    "    'sh':'Shotgun',\n",
    "    'me':'Melee'\n",
    "}\n",
    "\n",
    "WEAPONS_LABELS = {\n",
    "    'ar_falima': 'FAL',\n",
    "    'ar_mcharlie': 'M13',\n",
    "    'ar_mike4': 'M4A1',\n",
    "    'ar_t9british': 'EM2',\n",
    "    'ar_t9damage': 'AK-47 cw',\n",
    "    'ar_t9season6': 'ground AR',\n",
    "    'ar_t9slowhandling': 'Fara83',\n",
    "    'ar_t9standard': 'XM4',\n",
    "    'ar_valpha': 'ASVAL',\n",
    "    'ar_sierra552': 'Grau 5.56',\n",
    "    'sm_t9cqb':'OTs 9',\n",
    "    'la_kgolf': 'Strela',\n",
    "    'la_t9season6': 'ground launcher',\n",
    "    'lm_t9fastfire': 'MG82',\n",
    "    'lm_t9season6': 'ground lmg',\n",
    "    'me_riotshield': 'Shield',\n",
    "    'pi_t9season6': 'ground pistol',\n",
    "    'pi_t9semiauto': 'Pistol',\n",
    "    'sh_aalpha12': 'JAK-12',\n",
    "    'sh_dpapa12': 'R9-0',\n",
    "    'sh_t9season6': 'ground shotgun',\n",
    "    'sm_t9capacity': 'Bullfrog',\n",
    "    'sm_t9fastfire': 'MAC-10',\n",
    "    'sm_t9season6': 'ground smg',\n",
    "    'sm_t9spray': 'ppsh',\n",
    "    'sm_t9standard': 'MP5 cw',\n",
    "    'sn_cannon': 'ZRG',\n",
    "    'sn_hdromeo': 'HDR',\n",
    "    'sn_kilo98': 'Kar98',\n",
    "    'sn_t9accurate': 'K31',\n",
    "    'sn_t9powersemi': 'M82',\n",
    "    'sn_t9season6': 'ground sniper'\n",
    "    }\n",
    "\n",
    "WEAPONS_LABELS = dict(sorted(WEAPONS_LABELS.items()))"
   ]
  },
  {
   "cell_type": "code",
   "execution_count": 29,
   "id": "b6d934eb-1b47-4697-aaf3-8e30e4cf45da",
   "metadata": {},
   "outputs": [
    {
     "data": {
      "text/plain": [
       "{'ar_falima': 'FAL',\n",
       " 'ar_mcharlie': 'M13',\n",
       " 'ar_mike4': 'M4A1',\n",
       " 'ar_sierra552': 'Grau 5.56',\n",
       " 'ar_t9british': 'EM2',\n",
       " 'ar_t9damage': 'AK-47 cw',\n",
       " 'ar_t9season6': 'ground AR',\n",
       " 'ar_t9slowhandling': 'Fara83',\n",
       " 'ar_t9standard': 'XM4',\n",
       " 'ar_valpha': 'ASVAL',\n",
       " 'la_kgolf': 'Strela',\n",
       " 'la_t9season6': 'ground launcher',\n",
       " 'lm_t9fastfire': 'MG82',\n",
       " 'lm_t9season6': 'ground lmg',\n",
       " 'me_riotshield': 'Shield',\n",
       " 'pi_t9season6': 'ground pistol',\n",
       " 'pi_t9semiauto': 'Pistol',\n",
       " 'sh_aalpha12': 'JAK-12',\n",
       " 'sh_dpapa12': 'R9-0',\n",
       " 'sh_t9season6': 'ground shotgun',\n",
       " 'sm_t9capacity': 'Bullfrog',\n",
       " 'sm_t9cqb': 'OTs 9',\n",
       " 'sm_t9fastfire': 'MAC-10',\n",
       " 'sm_t9season6': 'ground smg',\n",
       " 'sm_t9spray': 'ppsh',\n",
       " 'sm_t9standard': 'MP5 cw',\n",
       " 'sn_cannon': 'ZRG',\n",
       " 'sn_hdromeo': 'HDR',\n",
       " 'sn_kilo98': 'Kar98',\n",
       " 'sn_t9accurate': 'K31',\n",
       " 'sn_t9powersemi': 'M82',\n",
       " 'sn_t9season6': 'ground sniper'}"
      ]
     },
     "execution_count": 29,
     "metadata": {},
     "output_type": "execute_result"
    }
   ],
   "source": [
    "WEAPONS_LABELS"
   ]
  },
  {
   "cell_type": "code",
   "execution_count": 30,
   "id": "0b7ab000-13d3-4992-b6f2-f7309833a2d1",
   "metadata": {},
   "outputs": [],
   "source": [
    "# plunder weapons tests : 3730567781417063940\n",
    "# trios : 2976279808342734071\n",
    "# quads : 3761077364910334296\n",
    "# trios : 2897643815664392564\n",
    "# trios : 2261680546254418765\n",
    "# duos with  nicoy : 2159402653441641458\n",
    "# duos with  nicoy : 1331412334389642250\n",
    "\n",
    "match = await client.GetMatchStats('battle', Title.ModernWarfare, Mode.Warzone, matchId=6819668192065006886)\n",
    "df_match = MatchPlayersToDf(match)\n",
    "df = MatchPlayersStandardize(df_match)\n",
    "\n",
    "#save file if you want to work in offline mode\n",
    "with open(\"match.pkl\", 'wb') as f:\n",
    "    pickle.dump(match, f)"
   ]
  },
  {
   "cell_type": "code",
   "execution_count": 31,
   "id": "cf70f3ea-d0c5-4db5-b08f-efdd5ae5b5ef",
   "metadata": {},
   "outputs": [],
   "source": [
    "# load offline data\n",
    "open_file = open(\"match.pkl\", \"rb\")\n",
    "match = pickle.load(open_file)\n",
    "df_match = MatchPlayersToDf(match)\n",
    "df = MatchPlayersStandardize(df_match)\n",
    "open_file.close()"
   ]
  },
  {
   "cell_type": "code",
   "execution_count": 32,
   "id": "88d07470-dff2-4eb1-9e51-5c0f42480e77",
   "metadata": {},
   "outputs": [
    {
     "data": {
      "text/plain": [
       "'2021-11-13 00:23'"
      ]
     },
     "execution_count": 32,
     "metadata": {},
     "output_type": "execute_result"
    }
   ],
   "source": [
    "date = retrieveDate(df)\n",
    "date"
   ]
  },
  {
   "cell_type": "code",
   "execution_count": 33,
   "id": "f8f7d378-c789-47d9-8f0b-c2729865cbb7",
   "metadata": {},
   "outputs": [
    {
     "data": {
      "text/html": [
       "<div>\n",
       "<style scoped>\n",
       "    .dataframe tbody tr th:only-of-type {\n",
       "        vertical-align: middle;\n",
       "    }\n",
       "\n",
       "    .dataframe tbody tr th {\n",
       "        vertical-align: top;\n",
       "    }\n",
       "\n",
       "    .dataframe thead th {\n",
       "        text-align: right;\n",
       "    }\n",
       "</style>\n",
       "<table border=\"1\" class=\"dataframe\">\n",
       "  <thead>\n",
       "    <tr style=\"text-align: right;\">\n",
       "      <th></th>\n",
       "      <th>Mode</th>\n",
       "      <th>Ended at</th>\n",
       "      <th>Team</th>\n",
       "      <th>Username</th>\n",
       "      <th>Playtime</th>\n",
       "      <th>#</th>\n",
       "      <th>KD</th>\n",
       "      <th>Kills</th>\n",
       "      <th>Deaths</th>\n",
       "      <th>Assists</th>\n",
       "      <th>Damage &gt;</th>\n",
       "      <th>Damage &lt;</th>\n",
       "      <th>Gulag</th>\n",
       "      <th>% moving</th>\n",
       "      <th>Game duration</th>\n",
       "      <th>Loadout_1</th>\n",
       "      <th>Loadout_2</th>\n",
       "      <th>Loadout_3</th>\n",
       "    </tr>\n",
       "  </thead>\n",
       "  <tbody>\n",
       "    <tr>\n",
       "      <th>66</th>\n",
       "      <td>Duos</td>\n",
       "      <td>2021-11-13 00:23:53</td>\n",
       "      <td>forty_seven</td>\n",
       "      <td>nicoyzovitch</td>\n",
       "      <td>25:17</td>\n",
       "      <td>9</td>\n",
       "      <td>0.5</td>\n",
       "      <td>1</td>\n",
       "      <td>2</td>\n",
       "      <td>1</td>\n",
       "      <td>1060</td>\n",
       "      <td>540</td>\n",
       "      <td>W</td>\n",
       "      <td>81.6</td>\n",
       "      <td>27</td>\n",
       "      <td>iw8_ar_t9standard - iw8_sn_hdromeo</td>\n",
       "      <td>iw8_pi_t9semiauto - iw8_fists</td>\n",
       "      <td>-</td>\n",
       "    </tr>\n",
       "  </tbody>\n",
       "</table>\n",
       "</div>"
      ],
      "text/plain": [
       "    Mode            Ended at         Team      Username Playtime  #   KD  \\\n",
       "66  Duos 2021-11-13 00:23:53  forty_seven  nicoyzovitch    25:17  9  0.5   \n",
       "\n",
       "    Kills  Deaths  Assists  Damage >  Damage < Gulag  % moving Game duration  \\\n",
       "66      1       2        1      1060       540     W      81.6            27   \n",
       "\n",
       "                             Loadout_1                      Loadout_2  \\\n",
       "66  iw8_ar_t9standard - iw8_sn_hdromeo  iw8_pi_t9semiauto - iw8_fists   \n",
       "\n",
       "   Loadout_3  \n",
       "66         -  "
      ]
     },
     "execution_count": 33,
     "metadata": {},
     "output_type": "execute_result"
    }
   ],
   "source": [
    "df[df['Username'] == 'nicoyzovitch']"
   ]
  },
  {
   "cell_type": "code",
   "execution_count": 34,
   "id": "c3993d2e-69ea-4dc1-a4a3-0dedf43040cf",
   "metadata": {},
   "outputs": [
    {
     "data": {
      "text/html": [
       "<div>\n",
       "<style scoped>\n",
       "    .dataframe tbody tr th:only-of-type {\n",
       "        vertical-align: middle;\n",
       "    }\n",
       "\n",
       "    .dataframe tbody tr th {\n",
       "        vertical-align: top;\n",
       "    }\n",
       "\n",
       "    .dataframe thead th {\n",
       "        text-align: right;\n",
       "    }\n",
       "</style>\n",
       "<table border=\"1\" class=\"dataframe\">\n",
       "  <thead>\n",
       "    <tr style=\"text-align: right;\">\n",
       "      <th></th>\n",
       "      <th>Mode</th>\n",
       "      <th>Ended at</th>\n",
       "      <th>Team</th>\n",
       "      <th>Username</th>\n",
       "      <th>Playtime</th>\n",
       "      <th>#</th>\n",
       "      <th>KD</th>\n",
       "      <th>Kills</th>\n",
       "      <th>Deaths</th>\n",
       "      <th>Assists</th>\n",
       "      <th>Damage &gt;</th>\n",
       "      <th>Damage &lt;</th>\n",
       "      <th>Gulag</th>\n",
       "      <th>% moving</th>\n",
       "      <th>Game duration</th>\n",
       "      <th>Loadout_1</th>\n",
       "      <th>Loadout_2</th>\n",
       "      <th>Loadout_3</th>\n",
       "    </tr>\n",
       "  </thead>\n",
       "  <tbody>\n",
       "    <tr>\n",
       "      <th>66</th>\n",
       "      <td>Duos</td>\n",
       "      <td>2021-11-13 00:23:53</td>\n",
       "      <td>forty_seven</td>\n",
       "      <td>nicoyzovitch</td>\n",
       "      <td>25:17</td>\n",
       "      <td>9</td>\n",
       "      <td>0.5</td>\n",
       "      <td>1</td>\n",
       "      <td>2</td>\n",
       "      <td>1</td>\n",
       "      <td>1060</td>\n",
       "      <td>540</td>\n",
       "      <td>W</td>\n",
       "      <td>81.6</td>\n",
       "      <td>27</td>\n",
       "      <td>iw8_ar_t9standard - iw8_sn_hdromeo</td>\n",
       "      <td>iw8_pi_t9semiauto - iw8_fists</td>\n",
       "      <td>-</td>\n",
       "    </tr>\n",
       "  </tbody>\n",
       "</table>\n",
       "</div>"
      ],
      "text/plain": [
       "    Mode            Ended at         Team      Username Playtime  #   KD  \\\n",
       "66  Duos 2021-11-13 00:23:53  forty_seven  nicoyzovitch    25:17  9  0.5   \n",
       "\n",
       "    Kills  Deaths  Assists  Damage >  Damage < Gulag  % moving Game duration  \\\n",
       "66      1       2        1      1060       540     W      81.6            27   \n",
       "\n",
       "                             Loadout_1                      Loadout_2  \\\n",
       "66  iw8_ar_t9standard - iw8_sn_hdromeo  iw8_pi_t9semiauto - iw8_fists   \n",
       "\n",
       "   Loadout_3  \n",
       "66         -  "
      ]
     },
     "execution_count": 34,
     "metadata": {},
     "output_type": "execute_result"
    }
   ],
   "source": [
    "df[df['Username'] == 'nicoyzovitch']"
   ]
  },
  {
   "cell_type": "code",
   "execution_count": 35,
   "id": "ef41419c-112f-4982-855a-b6c2bd5cddae",
   "metadata": {},
   "outputs": [
    {
     "data": {
      "text/plain": [
       "['iw8_sm_t9fastfire - iw8_sn_t9accurate',\n",
       " 'iw8_sn_t9accurate - iw8_sm_t9spray',\n",
       " 'iw8_ar_t9standard - iw8_sm_t9standard',\n",
       " 'iw8_sm_t9capacity - iw8_sn_t9accurate',\n",
       " 'iw8_sm_t9accurate - iw8_ar_t9slowhandling',\n",
       " 'iw8_ar_t9standard - iw8_sm_t9season6',\n",
       " 'iw8_sn_t9accurate - iw8_sm_t9cqb',\n",
       " 'iw8_ar_t9standard - iw8_sm_t9standard',\n",
       " 'iw8_ar_t9damage - iw8_sm_t9season6',\n",
       " 'iw8_ar_t9damage - iw8_sm_t9standard',\n",
       " 'iw8_sm_t9handling - iw8_sn_kilo98',\n",
       " 'iw8_sm_t9cqb - iw8_sn_t9accurate',\n",
       " 'iw8_sm_t9season6 - iw8_pi_mike',\n",
       " 'iw8_sm_t9standard - iw8_ar_t9british',\n",
       " 'iw8_ar_tango21 - iw8_sn_t9accurate',\n",
       " 'iw8_ar_galima - iw8_sn_romeo700',\n",
       " 'iw8_ar_t9damage - iw8_sn_t9accurate',\n",
       " 'iw8_ar_t9damage - iw8_sm_t9cqb',\n",
       " 'iw8_sm_t9cqb - iw8_pi_papa320',\n",
       " 'iw8_lm_t9fastfire - iw8_pi_t9burst']"
      ]
     },
     "execution_count": 35,
     "metadata": {},
     "output_type": "execute_result"
    }
   ],
   "source": [
    "loadouts = df.Loadout_1.values.tolist()\n",
    "loadouts[0:20]"
   ]
  },
  {
   "cell_type": "code",
   "execution_count": 36,
   "id": "7718d755-ab3f-43f6-a1c1-ba94d10e4a6c",
   "metadata": {},
   "outputs": [],
   "source": [
    "def convertWeapons(x):\n",
    "    \"\"\" Clean Loadouts (weapons) columns, particul. using labels.py \"\"\"\n",
    "    \n",
    "    # Cold War weapons format is iw8_sm_t9, iw8_ar_t9 etc. for Cold War,  Modern Warfare : iw8_ar, iw8_me etc. for MW\n",
    "    if not x == \"-\":\n",
    "        x = x.split(\" - \")\n",
    "        x = list(map(lambda weapon: weapon.replace(WEAPONS_CAT_PREFIX[0], ''), x))\n",
    "        x = list(map(lambda weapon: WEAPONS_LABELS.get(weapon) or weapon, x))\n",
    "        \n",
    "        # After a won Gulag you (usually) spawn with 'fists' and season weapon (usually Pistols); remove 'fists'\n",
    "        if 'fists' in x:\n",
    "            x = list(map(lambda weapon: weapon.replace('fists', ''), x))\n",
    "            x = x[0]\n",
    "        else:\n",
    "            x = ' - '.join(x)\n",
    "    else:\n",
    "        x = '-'\n",
    "    return x"
   ]
  },
  {
   "cell_type": "code",
   "execution_count": 37,
   "id": "377fbb15-facf-4a74-a93c-89e4d2ed980a",
   "metadata": {},
   "outputs": [
    {
     "name": "stdout",
     "output_type": "stream",
     "text": [
      "-\n",
      "ground smg - pi_t9burst\n",
      "Grau 5.56 - ground smg\n",
      "ground AR - M82\n",
      "Pistol\n"
     ]
    }
   ],
   "source": [
    "lw = [\n",
    "    '-',\n",
    "    'iw8_sm_t9season6 - iw8_pi_t9burst',\n",
    "    'iw8_ar_sierra552 - iw8_sm_t9season6',\n",
    "    'iw8_ar_t9season6 - iw8_sn_t9powersemi',\n",
    "    'iw8_pi_t9semiauto - fists'\n",
    "]\n",
    "\n",
    "for string in lw:\n",
    "    weapons = convertWeapons(string)\n",
    "    print(weapons)"
   ]
  },
  {
   "cell_type": "markdown",
   "id": "ff2a691b-d73e-4dce-8d21-b793c6c5fe6f",
   "metadata": {},
   "source": [
    "### Extract/calculate some specific KPI's"
   ]
  },
  {
   "cell_type": "code",
   "execution_count": 38,
   "id": "d470b71c-f5b5-4506-93a0-46b64bfd80db",
   "metadata": {},
   "outputs": [],
   "source": [
    "def teamWeapons(df, gamertag):\n",
    "    \"\"\" Return a DataFrame with teammates and their loadouts (3 max) \"\"\"\n",
    "    team = retrieveTeam(df, gamertag)\n",
    "    df_weapons = df[df[\"Team\"] == team][df.columns[df.columns.str.startswith('Loadout')]]\n",
    "    df_usernames = df[df[\"Team\"] == team][['Username']]\n",
    "    table_weapons = pd.concat([df_usernames, df_weapons], axis=1)\n",
    "    for col in table_weapons.columns[table_weapons.columns.str.startswith('Loadout')]:\n",
    "        table_weapons[col] = table_weapons[col].map(lambda x: convertWeapons(x))\n",
    "    return table_weapons\n",
    "\n",
    "def teamKills(df, gamertag):\n",
    "    \"\"\" Return a DataFrame with Team players KD, K/D/A; also with agg stats for whole Team \"\"\"\n",
    "    team = retrieveTeam(df, gamertag)\n",
    "    df_team = df[df[\"Team\"] == team][['Username', 'KD', 'Kills', 'Deaths', 'Assists']]\n",
    "    agg_func = {\n",
    "        \"KD\":\"sum\",\n",
    "        \"Kills\":\"sum\",\n",
    "        \"Deaths\":\"sum\",\n",
    "        \"Assists\":\"sum\"\n",
    "    }\n",
    "    team_kd = (df_team.Kills.sum() / df_team.Deaths.sum()).round(1)\n",
    "\n",
    "    row_total = df_team.agg(agg_func).to_dict()\n",
    "    row_total.update({'Username': 'Team'})\n",
    "    row_total.update({'KD': team_kd})\n",
    "    df_team = df_team.append(row_total, ignore_index=True)\n",
    "    df_team[['Kills', 'Deaths', 'Assists']] = df_team[['Kills', 'Deaths', 'Assists']].astype(int)\n",
    "    return df_team\n",
    "\n",
    "def topPlayers(df):\n",
    "    \"\"\"  \"\"\"\n",
    "    df_top = df.sort_values(by=\"Kills\",ascending=False)[0:5][\n",
    "        ['Username', 'Team', 'KD', 'Kills', 'Deaths', 'Assists', 'Loadout_1', 'Loadout_2', 'Loadout_3']\n",
    "        ]\n",
    "\n",
    "    for col in df_top.columns[df_top.columns.str.startswith('Loadout')]:\n",
    "        df_top[col] = df_top[col].map(lambda x: convertWeapons(x))\n",
    "    return df_top\n",
    "\n",
    "def teamKillsPlacement(df, gamertag):\n",
    "    \"\"\" Retrieve final placement according to # kills, of a player/his team \"\"\" \n",
    "    index = df.groupby('Team')[['Kills']].sum().sort_values('Kills', ascending = False).reset_index()\n",
    "    condition = index['Team'] == retrieveTeam(df, gamertag)\n",
    "    return index[condition]['Kills'].index.tolist()[0]\n"
   ]
  },
  {
   "cell_type": "code",
   "execution_count": 39,
   "id": "16ba1771-80e4-4912-abf7-a4adc8e27327",
   "metadata": {},
   "outputs": [],
   "source": [
    "open_file = open(\"match.pkl\", \"rb\")\n",
    "match = pickle.load(open_file)\n",
    "df_match = MatchPlayersToDf(match)\n",
    "df = MatchPlayersStandardize(df_match)\n",
    "open_file.close()"
   ]
  },
  {
   "cell_type": "code",
   "execution_count": 40,
   "id": "4d17ea4f-2b17-4e4f-a55a-d7be9f6c7a91",
   "metadata": {},
   "outputs": [],
   "source": [
    "def playersQuartiles(df):\n",
    "    \"\"\" All players, mean and median, quartiles \"\"\"\n",
    "    return df[['Kills', 'KD']].describe().to_dict()"
   ]
  },
  {
   "cell_type": "code",
   "execution_count": 41,
   "id": "f4fd1d4f-32c6-40de-b3a7-85d04dc8bcf7",
   "metadata": {},
   "outputs": [
    {
     "data": {
      "text/plain": [
       "{'Kills': {'count': 149.0,\n",
       "  'mean': 1.9395973154362416,\n",
       "  'std': 2.322708658533217,\n",
       "  'min': 0.0,\n",
       "  '25%': 0.0,\n",
       "  '50%': 1.0,\n",
       "  '75%': 3.0,\n",
       "  'max': 12.0},\n",
       " 'KD': {'count': 149.0,\n",
       "  'mean': 1.0771812080536913,\n",
       "  'std': 1.6006384201551922,\n",
       "  'min': 0.0,\n",
       "  '25%': 0.0,\n",
       "  '50%': 0.5,\n",
       "  '75%': 1.5,\n",
       "  'max': 11.0}}"
      ]
     },
     "execution_count": 41,
     "metadata": {},
     "output_type": "execute_result"
    }
   ],
   "source": [
    "players_quartiles = playersQuartiles(df)\n",
    "players_quartiles"
   ]
  },
  {
   "cell_type": "code",
   "execution_count": 42,
   "id": "78963e16-f9f6-4e83-b146-c3e7fe1eee69",
   "metadata": {},
   "outputs": [
    {
     "data": {
      "text/html": [
       "<div>\n",
       "<style scoped>\n",
       "    .dataframe tbody tr th:only-of-type {\n",
       "        vertical-align: middle;\n",
       "    }\n",
       "\n",
       "    .dataframe tbody tr th {\n",
       "        vertical-align: top;\n",
       "    }\n",
       "\n",
       "    .dataframe thead th {\n",
       "        text-align: right;\n",
       "    }\n",
       "</style>\n",
       "<table border=\"1\" class=\"dataframe\">\n",
       "  <thead>\n",
       "    <tr style=\"text-align: right;\">\n",
       "      <th></th>\n",
       "      <th>KD</th>\n",
       "      <th>Kills</th>\n",
       "    </tr>\n",
       "    <tr>\n",
       "      <th>Team</th>\n",
       "      <th></th>\n",
       "      <th></th>\n",
       "    </tr>\n",
       "  </thead>\n",
       "  <tbody>\n",
       "    <tr>\n",
       "      <th>allies</th>\n",
       "      <td>1.75</td>\n",
       "      <td>2.5</td>\n",
       "    </tr>\n",
       "    <tr>\n",
       "      <th>axis</th>\n",
       "      <td>1.00</td>\n",
       "      <td>2.0</td>\n",
       "    </tr>\n",
       "    <tr>\n",
       "      <th>eight</th>\n",
       "      <td>1.00</td>\n",
       "      <td>2.0</td>\n",
       "    </tr>\n",
       "    <tr>\n",
       "      <th>eighteen</th>\n",
       "      <td>1.00</td>\n",
       "      <td>2.0</td>\n",
       "    </tr>\n",
       "    <tr>\n",
       "      <th>eleven</th>\n",
       "      <td>1.00</td>\n",
       "      <td>2.0</td>\n",
       "    </tr>\n",
       "    <tr>\n",
       "      <th>...</th>\n",
       "      <td>...</td>\n",
       "      <td>...</td>\n",
       "    </tr>\n",
       "    <tr>\n",
       "      <th>twenty_one</th>\n",
       "      <td>0.50</td>\n",
       "      <td>1.0</td>\n",
       "    </tr>\n",
       "    <tr>\n",
       "      <th>twenty_seven</th>\n",
       "      <td>0.00</td>\n",
       "      <td>0.0</td>\n",
       "    </tr>\n",
       "    <tr>\n",
       "      <th>twenty_six</th>\n",
       "      <td>4.75</td>\n",
       "      <td>9.5</td>\n",
       "    </tr>\n",
       "    <tr>\n",
       "      <th>twenty_three</th>\n",
       "      <td>0.75</td>\n",
       "      <td>1.5</td>\n",
       "    </tr>\n",
       "    <tr>\n",
       "      <th>twenty_two</th>\n",
       "      <td>1.25</td>\n",
       "      <td>2.5</td>\n",
       "    </tr>\n",
       "  </tbody>\n",
       "</table>\n",
       "<p>76 rows × 2 columns</p>\n",
       "</div>"
      ],
      "text/plain": [
       "                KD  Kills\n",
       "Team                     \n",
       "allies        1.75    2.5\n",
       "axis          1.00    2.0\n",
       "eight         1.00    2.0\n",
       "eighteen      1.00    2.0\n",
       "eleven        1.00    2.0\n",
       "...            ...    ...\n",
       "twenty_one    0.50    1.0\n",
       "twenty_seven  0.00    0.0\n",
       "twenty_six    4.75    9.5\n",
       "twenty_three  0.75    1.5\n",
       "twenty_two    1.25    2.5\n",
       "\n",
       "[76 rows x 2 columns]"
      ]
     },
     "execution_count": 42,
     "metadata": {},
     "output_type": "execute_result"
    }
   ],
   "source": [
    "df[['Team', 'KD', 'Kills']].groupby(['Team']).agg('mean', 'median')"
   ]
  },
  {
   "cell_type": "code",
   "execution_count": 43,
   "id": "50933589-0659-4b20-b3e3-93acd234ef72",
   "metadata": {},
   "outputs": [
    {
     "data": {
      "text/plain": [
       "Kills     3.0\n",
       "Deaths    4.0\n",
       "dtype: float64"
      ]
     },
     "execution_count": 43,
     "metadata": {},
     "output_type": "execute_result"
    }
   ],
   "source": [
    "df[['Team', 'Kills', 'Deaths']].groupby(['Team']).agg('sum').agg('median')"
   ]
  },
  {
   "cell_type": "code",
   "execution_count": 44,
   "id": "9e2141db-3dd1-4f80-af6c-ac3dcd7d8979",
   "metadata": {},
   "outputs": [
    {
     "data": {
      "text/plain": [
       "46"
      ]
     },
     "execution_count": 44,
     "metadata": {},
     "output_type": "execute_result"
    }
   ],
   "source": [
    "tkp = teamKillsPlacement(df, gamertag)\n",
    "tkp"
   ]
  },
  {
   "cell_type": "code",
   "execution_count": 45,
   "id": "22333d20-82a2-46a5-9fb2-5879201f578e",
   "metadata": {},
   "outputs": [
    {
     "data": {
      "text/html": [
       "<div>\n",
       "<style scoped>\n",
       "    .dataframe tbody tr th:only-of-type {\n",
       "        vertical-align: middle;\n",
       "    }\n",
       "\n",
       "    .dataframe tbody tr th {\n",
       "        vertical-align: top;\n",
       "    }\n",
       "\n",
       "    .dataframe thead th {\n",
       "        text-align: right;\n",
       "    }\n",
       "</style>\n",
       "<table border=\"1\" class=\"dataframe\">\n",
       "  <thead>\n",
       "    <tr style=\"text-align: right;\">\n",
       "      <th></th>\n",
       "      <th>Username</th>\n",
       "      <th>Team</th>\n",
       "      <th>KD</th>\n",
       "      <th>Kills</th>\n",
       "      <th>Deaths</th>\n",
       "      <th>Assists</th>\n",
       "      <th>Loadout_1</th>\n",
       "      <th>Loadout_2</th>\n",
       "      <th>Loadout_3</th>\n",
       "    </tr>\n",
       "  </thead>\n",
       "  <tbody>\n",
       "    <tr>\n",
       "      <th>1</th>\n",
       "      <td>izKKoTV</td>\n",
       "      <td>twenty_six</td>\n",
       "      <td>6.0</td>\n",
       "      <td>12</td>\n",
       "      <td>2</td>\n",
       "      <td>1</td>\n",
       "      <td>K31 - ppsh</td>\n",
       "      <td>Pistol</td>\n",
       "      <td>-</td>\n",
       "    </tr>\n",
       "    <tr>\n",
       "      <th>72</th>\n",
       "      <td>El Chapoo</td>\n",
       "      <td>twenty_five</td>\n",
       "      <td>11.0</td>\n",
       "      <td>11</td>\n",
       "      <td>1</td>\n",
       "      <td>0</td>\n",
       "      <td>MAC-10 - K31</td>\n",
       "      <td>Pistol</td>\n",
       "      <td>-</td>\n",
       "    </tr>\n",
       "    <tr>\n",
       "      <th>23</th>\n",
       "      <td>SeoiAlle</td>\n",
       "      <td>forty_eight</td>\n",
       "      <td>3.3</td>\n",
       "      <td>10</td>\n",
       "      <td>3</td>\n",
       "      <td>0</td>\n",
       "      <td>sm_t9handling - Kar98</td>\n",
       "      <td>Pistol</td>\n",
       "      <td>ar_t9fasthandling</td>\n",
       "    </tr>\n",
       "    <tr>\n",
       "      <th>91</th>\n",
       "      <td>carriola94</td>\n",
       "      <td>twenty_five</td>\n",
       "      <td>8.0</td>\n",
       "      <td>8</td>\n",
       "      <td>1</td>\n",
       "      <td>1</td>\n",
       "      <td>EM2 - MP5 cw</td>\n",
       "      <td>Pistol</td>\n",
       "      <td>-</td>\n",
       "    </tr>\n",
       "    <tr>\n",
       "      <th>122</th>\n",
       "      <td>UrCrush</td>\n",
       "      <td>nine</td>\n",
       "      <td>8.0</td>\n",
       "      <td>8</td>\n",
       "      <td>1</td>\n",
       "      <td>0</td>\n",
       "      <td>AK-47 cw - knife</td>\n",
       "      <td>Pistol</td>\n",
       "      <td>-</td>\n",
       "    </tr>\n",
       "  </tbody>\n",
       "</table>\n",
       "</div>"
      ],
      "text/plain": [
       "       Username         Team    KD  Kills  Deaths  Assists  \\\n",
       "1       izKKoTV   twenty_six   6.0     12       2        1   \n",
       "72    El Chapoo  twenty_five  11.0     11       1        0   \n",
       "23     SeoiAlle  forty_eight   3.3     10       3        0   \n",
       "91   carriola94  twenty_five   8.0      8       1        1   \n",
       "122     UrCrush         nine   8.0      8       1        0   \n",
       "\n",
       "                 Loadout_1 Loadout_2          Loadout_3  \n",
       "1               K31 - ppsh    Pistol                  -  \n",
       "72            MAC-10 - K31    Pistol                  -  \n",
       "23   sm_t9handling - Kar98    Pistol  ar_t9fasthandling  \n",
       "91            EM2 - MP5 cw    Pistol                  -  \n",
       "122       AK-47 cw - knife    Pistol                  -  "
      ]
     },
     "execution_count": 45,
     "metadata": {},
     "output_type": "execute_result"
    }
   ],
   "source": [
    "players_kills = topPlayers(df)\n",
    "players_kills"
   ]
  },
  {
   "cell_type": "code",
   "execution_count": 46,
   "id": "460aefbe-9d35-4dcb-aeca-e6a1cfe6776b",
   "metadata": {},
   "outputs": [
    {
     "data": {
      "text/html": [
       "<div>\n",
       "<style scoped>\n",
       "    .dataframe tbody tr th:only-of-type {\n",
       "        vertical-align: middle;\n",
       "    }\n",
       "\n",
       "    .dataframe tbody tr th {\n",
       "        vertical-align: top;\n",
       "    }\n",
       "\n",
       "    .dataframe thead th {\n",
       "        text-align: right;\n",
       "    }\n",
       "</style>\n",
       "<table border=\"1\" class=\"dataframe\">\n",
       "  <thead>\n",
       "    <tr style=\"text-align: right;\">\n",
       "      <th></th>\n",
       "      <th>Username</th>\n",
       "      <th>KD</th>\n",
       "      <th>Kills</th>\n",
       "      <th>Deaths</th>\n",
       "      <th>Assists</th>\n",
       "    </tr>\n",
       "  </thead>\n",
       "  <tbody>\n",
       "    <tr>\n",
       "      <th>0</th>\n",
       "      <td>nicoyzovitch</td>\n",
       "      <td>0.5</td>\n",
       "      <td>1</td>\n",
       "      <td>2</td>\n",
       "      <td>1</td>\n",
       "    </tr>\n",
       "    <tr>\n",
       "      <th>1</th>\n",
       "      <td>gentil_renard</td>\n",
       "      <td>0.5</td>\n",
       "      <td>1</td>\n",
       "      <td>2</td>\n",
       "      <td>0</td>\n",
       "    </tr>\n",
       "    <tr>\n",
       "      <th>2</th>\n",
       "      <td>Team</td>\n",
       "      <td>0.5</td>\n",
       "      <td>2</td>\n",
       "      <td>4</td>\n",
       "      <td>1</td>\n",
       "    </tr>\n",
       "  </tbody>\n",
       "</table>\n",
       "</div>"
      ],
      "text/plain": [
       "        Username   KD  Kills  Deaths  Assists\n",
       "0   nicoyzovitch  0.5      1       2        1\n",
       "1  gentil_renard  0.5      1       2        0\n",
       "2           Team  0.5      2       4        1"
      ]
     },
     "execution_count": 46,
     "metadata": {},
     "output_type": "execute_result"
    }
   ],
   "source": [
    "team_kills = teamKills(df, gamertag)\n",
    "team_kills"
   ]
  },
  {
   "cell_type": "code",
   "execution_count": 47,
   "id": "0a8a5702-2784-45e7-9b44-2357a1e3b72a",
   "metadata": {},
   "outputs": [
    {
     "data": {
      "text/html": [
       "<div>\n",
       "<style scoped>\n",
       "    .dataframe tbody tr th:only-of-type {\n",
       "        vertical-align: middle;\n",
       "    }\n",
       "\n",
       "    .dataframe tbody tr th {\n",
       "        vertical-align: top;\n",
       "    }\n",
       "\n",
       "    .dataframe thead th {\n",
       "        text-align: right;\n",
       "    }\n",
       "</style>\n",
       "<table border=\"1\" class=\"dataframe\">\n",
       "  <thead>\n",
       "    <tr style=\"text-align: right;\">\n",
       "      <th></th>\n",
       "      <th>Username</th>\n",
       "      <th>Loadout_1</th>\n",
       "      <th>Loadout_2</th>\n",
       "      <th>Loadout_3</th>\n",
       "    </tr>\n",
       "  </thead>\n",
       "  <tbody>\n",
       "    <tr>\n",
       "      <th>66</th>\n",
       "      <td>nicoyzovitch</td>\n",
       "      <td>XM4 - HDR</td>\n",
       "      <td>Pistol</td>\n",
       "      <td>-</td>\n",
       "    </tr>\n",
       "    <tr>\n",
       "      <th>71</th>\n",
       "      <td>gentil_renard</td>\n",
       "      <td>FAL - K31</td>\n",
       "      <td>-</td>\n",
       "      <td>-</td>\n",
       "    </tr>\n",
       "  </tbody>\n",
       "</table>\n",
       "</div>"
      ],
      "text/plain": [
       "         Username  Loadout_1 Loadout_2 Loadout_3\n",
       "66   nicoyzovitch  XM4 - HDR    Pistol         -\n",
       "71  gentil_renard  FAL - K31         -         -"
      ]
     },
     "execution_count": 47,
     "metadata": {},
     "output_type": "execute_result"
    }
   ],
   "source": [
    "team_weapons = teamWeapons(df, gamertag)\n",
    "team_weapons"
   ]
  },
  {
   "cell_type": "code",
   "execution_count": 48,
   "id": "3a3bf0c5-111f-4b5d-9f60-fffde5ef7990",
   "metadata": {},
   "outputs": [
    {
     "name": "stdout",
     "output_type": "stream",
     "text": [
      "nicoyzovitch: XM4 - HDR, Pistol, -\n",
      "gentil_renard: FAL - K31, -, -\n"
     ]
    }
   ],
   "source": [
    "dict_ = team_weapons.set_index('Username').to_dict('index')\n",
    "for player, loadouts in dict_.items():\n",
    "    print(f\"{player}: {dict_[player]['Loadout_1']}, {dict_[player]['Loadout_2']}, {dict_[player]['Loadout_3']}\")"
   ]
  },
  {
   "cell_type": "code",
   "execution_count": 49,
   "id": "9cff1db8-95f7-4200-95c0-77637a5c8aa0",
   "metadata": {},
   "outputs": [],
   "source": [
    "def shrinkDf(df, cols_to_concat, str_join, new_col):\n",
    "    \"\"\" For our df to occupy less space in Streamlit : to str + concat some cols into one\"\"\"\n",
    "    \n",
    "    def concat_cols(df, cols_to_concat, str_join):\n",
    "        return pd.Series(map(str_join.join, df[cols_to_concat].values.tolist()),index = df.index)\n",
    "    \n",
    "    for col in cols_to_concat:\n",
    "        df[col] = df[col].astype(str)\n",
    "    df[new_col] = concat_cols(df, cols_to_concat, str_join)\n",
    "    df = df.drop(cols_to_concat, axis=1)\n",
    "    \n",
    "    return df\n",
    "\n",
    "def renderTeam(team_kills, team_weapons):\n",
    "    \"\"\" Render Team KDA concat with Team Weapons, in a plotly table\"\"\"\n",
    "\n",
    "    team_kills = shrinkDf(team_kills, cols_to_concat=['Kills', 'Deaths', 'Assists'], str_join=' | ', new_col= 'K D A')\n",
    "    team_weapons = shrinkDf(team_weapons, cols_to_concat=['Loadout_1', 'Loadout_2', 'Loadout_3'], str_join=', ', new_col='Loadouts')\n",
    "        \n",
    "    team_weapons.reset_index().drop('index', axis=1)\n",
    "    pad_row = {'Username': 'Team', 'Loadouts': '-'}\n",
    "    team_weapons = team_weapons.append(pad_row, ignore_index=True)\n",
    "    team_weapons = team_weapons.drop('Username', axis=1)\n",
    "    team_info = pd.concat([team_kills, team_weapons], axis=1, sort=True)\n",
    "    team_info = team_info.rename(columns={\"Username\": \"Player\"})\n",
    "    \n",
    "    return team_info\n",
    "\n",
    "def renderPlayers(players_kills):\n",
    "    \"\"\" Render Team KDA concat with Team Weapons, in a plotly table\"\"\"\n",
    "\n",
    "    players_kills = shrinkDf(players_kills, cols_to_concat=['Kills', 'Deaths', 'Assists'], str_join=' | ', new_col= 'K D A')\n",
    "    players_kills = shrinkDf(players_kills, cols_to_concat=['Loadout_1', 'Loadout_2', 'Loadout_3'], str_join=', ', new_col= 'Loadouts')\n",
    "    players_kills = players_kills.rename(columns={\"Username\": \"Player\"})\n",
    "    \n",
    "    return players_kills"
   ]
  },
  {
   "cell_type": "code",
   "execution_count": 50,
   "id": "4fe4928a-e244-4437-80ee-ba76f47e7259",
   "metadata": {},
   "outputs": [
    {
     "data": {
      "text/html": [
       "<div>\n",
       "<style scoped>\n",
       "    .dataframe tbody tr th:only-of-type {\n",
       "        vertical-align: middle;\n",
       "    }\n",
       "\n",
       "    .dataframe tbody tr th {\n",
       "        vertical-align: top;\n",
       "    }\n",
       "\n",
       "    .dataframe thead th {\n",
       "        text-align: right;\n",
       "    }\n",
       "</style>\n",
       "<table border=\"1\" class=\"dataframe\">\n",
       "  <thead>\n",
       "    <tr style=\"text-align: right;\">\n",
       "      <th></th>\n",
       "      <th>Player</th>\n",
       "      <th>KD</th>\n",
       "      <th>K D A</th>\n",
       "      <th>Loadouts</th>\n",
       "    </tr>\n",
       "  </thead>\n",
       "  <tbody>\n",
       "    <tr>\n",
       "      <th>0</th>\n",
       "      <td>nicoyzovitch</td>\n",
       "      <td>0.5</td>\n",
       "      <td>1 | 2 | 1</td>\n",
       "      <td>XM4 - HDR, Pistol, -</td>\n",
       "    </tr>\n",
       "    <tr>\n",
       "      <th>1</th>\n",
       "      <td>gentil_renard</td>\n",
       "      <td>0.5</td>\n",
       "      <td>1 | 2 | 0</td>\n",
       "      <td>FAL - K31, -, -</td>\n",
       "    </tr>\n",
       "    <tr>\n",
       "      <th>2</th>\n",
       "      <td>Team</td>\n",
       "      <td>0.5</td>\n",
       "      <td>2 | 4 | 1</td>\n",
       "      <td>-</td>\n",
       "    </tr>\n",
       "  </tbody>\n",
       "</table>\n",
       "</div>"
      ],
      "text/plain": [
       "          Player   KD      K D A              Loadouts\n",
       "0   nicoyzovitch  0.5  1 | 2 | 1  XM4 - HDR, Pistol, -\n",
       "1  gentil_renard  0.5  1 | 2 | 0       FAL - K31, -, -\n",
       "2           Team  0.5  2 | 4 | 1                     -"
      ]
     },
     "execution_count": 50,
     "metadata": {},
     "output_type": "execute_result"
    }
   ],
   "source": [
    "team_kills = renderTeam(team_kills, team_weapons)\n",
    "team_kills"
   ]
  },
  {
   "cell_type": "code",
   "execution_count": 51,
   "id": "b5da40a8-de00-4ddb-9e73-a0c5de8b65dc",
   "metadata": {},
   "outputs": [
    {
     "data": {
      "text/html": [
       "<div>\n",
       "<style scoped>\n",
       "    .dataframe tbody tr th:only-of-type {\n",
       "        vertical-align: middle;\n",
       "    }\n",
       "\n",
       "    .dataframe tbody tr th {\n",
       "        vertical-align: top;\n",
       "    }\n",
       "\n",
       "    .dataframe thead th {\n",
       "        text-align: right;\n",
       "    }\n",
       "</style>\n",
       "<table border=\"1\" class=\"dataframe\">\n",
       "  <thead>\n",
       "    <tr style=\"text-align: right;\">\n",
       "      <th></th>\n",
       "      <th>Player</th>\n",
       "      <th>Team</th>\n",
       "      <th>KD</th>\n",
       "      <th>K D A</th>\n",
       "      <th>Loadouts</th>\n",
       "    </tr>\n",
       "  </thead>\n",
       "  <tbody>\n",
       "    <tr>\n",
       "      <th>1</th>\n",
       "      <td>izKKoTV</td>\n",
       "      <td>twenty_six</td>\n",
       "      <td>6.0</td>\n",
       "      <td>12 | 2 | 1</td>\n",
       "      <td>K31 - ppsh, Pistol, -</td>\n",
       "    </tr>\n",
       "    <tr>\n",
       "      <th>72</th>\n",
       "      <td>El Chapoo</td>\n",
       "      <td>twenty_five</td>\n",
       "      <td>11.0</td>\n",
       "      <td>11 | 1 | 0</td>\n",
       "      <td>MAC-10 - K31, Pistol, -</td>\n",
       "    </tr>\n",
       "    <tr>\n",
       "      <th>23</th>\n",
       "      <td>SeoiAlle</td>\n",
       "      <td>forty_eight</td>\n",
       "      <td>3.3</td>\n",
       "      <td>10 | 3 | 0</td>\n",
       "      <td>sm_t9handling - Kar98, Pistol, ar_t9fasthandling</td>\n",
       "    </tr>\n",
       "    <tr>\n",
       "      <th>91</th>\n",
       "      <td>carriola94</td>\n",
       "      <td>twenty_five</td>\n",
       "      <td>8.0</td>\n",
       "      <td>8 | 1 | 1</td>\n",
       "      <td>EM2 - MP5 cw, Pistol, -</td>\n",
       "    </tr>\n",
       "    <tr>\n",
       "      <th>122</th>\n",
       "      <td>UrCrush</td>\n",
       "      <td>nine</td>\n",
       "      <td>8.0</td>\n",
       "      <td>8 | 1 | 0</td>\n",
       "      <td>AK-47 cw - knife, Pistol, -</td>\n",
       "    </tr>\n",
       "  </tbody>\n",
       "</table>\n",
       "</div>"
      ],
      "text/plain": [
       "         Player         Team    KD       K D A  \\\n",
       "1       izKKoTV   twenty_six   6.0  12 | 2 | 1   \n",
       "72    El Chapoo  twenty_five  11.0  11 | 1 | 0   \n",
       "23     SeoiAlle  forty_eight   3.3  10 | 3 | 0   \n",
       "91   carriola94  twenty_five   8.0   8 | 1 | 1   \n",
       "122     UrCrush         nine   8.0   8 | 1 | 0   \n",
       "\n",
       "                                             Loadouts  \n",
       "1                               K31 - ppsh, Pistol, -  \n",
       "72                            MAC-10 - K31, Pistol, -  \n",
       "23   sm_t9handling - Kar98, Pistol, ar_t9fasthandling  \n",
       "91                            EM2 - MP5 cw, Pistol, -  \n",
       "122                       AK-47 cw - knife, Pistol, -  "
      ]
     },
     "execution_count": 51,
     "metadata": {},
     "output_type": "execute_result"
    }
   ],
   "source": [
    "top_players = renderPlayers(players_kills)\n",
    "top_players"
   ]
  },
  {
   "cell_type": "markdown",
   "id": "2525a4f8-67fa-4244-a6d4-b7396a2e2078",
   "metadata": {},
   "source": [
    "### Visualizations sandbox"
   ]
  },
  {
   "cell_type": "markdown",
   "id": "274f609d-cfa8-457e-aa8f-16ab2901dc59",
   "metadata": {},
   "source": [
    "#### Using Altair vega"
   ]
  },
  {
   "cell_type": "code",
   "execution_count": 63,
   "id": "f83c379e-9749-4680-9489-89415d5cef68",
   "metadata": {},
   "outputs": [
    {
     "data": {
      "text/html": [
       "<div>\n",
       "<style scoped>\n",
       "    .dataframe tbody tr th:only-of-type {\n",
       "        vertical-align: middle;\n",
       "    }\n",
       "\n",
       "    .dataframe tbody tr th {\n",
       "        vertical-align: top;\n",
       "    }\n",
       "\n",
       "    .dataframe thead th {\n",
       "        text-align: right;\n",
       "    }\n",
       "</style>\n",
       "<table border=\"1\" class=\"dataframe\">\n",
       "  <thead>\n",
       "    <tr style=\"text-align: right;\">\n",
       "      <th></th>\n",
       "      <th>Mode</th>\n",
       "      <th>Ended at</th>\n",
       "      <th>Team</th>\n",
       "      <th>Username</th>\n",
       "      <th>Playtime</th>\n",
       "      <th>#</th>\n",
       "      <th>KD</th>\n",
       "      <th>Kills</th>\n",
       "      <th>Deaths</th>\n",
       "      <th>Assists</th>\n",
       "      <th>Damage &gt;</th>\n",
       "      <th>Damage &lt;</th>\n",
       "      <th>Gulag</th>\n",
       "      <th>% moving</th>\n",
       "      <th>Game duration</th>\n",
       "      <th>Loadout_1</th>\n",
       "      <th>Loadout_2</th>\n",
       "      <th>Loadout_3</th>\n",
       "    </tr>\n",
       "  </thead>\n",
       "  <tbody>\n",
       "    <tr>\n",
       "      <th>0</th>\n",
       "      <td>Duos</td>\n",
       "      <td>2021-11-13 00:23:53</td>\n",
       "      <td>fifty_nine</td>\n",
       "      <td>JUREK  KILLER</td>\n",
       "      <td>12:47</td>\n",
       "      <td>24</td>\n",
       "      <td>0.3</td>\n",
       "      <td>1</td>\n",
       "      <td>3</td>\n",
       "      <td>1</td>\n",
       "      <td>468</td>\n",
       "      <td>657</td>\n",
       "      <td>W</td>\n",
       "      <td>69.8</td>\n",
       "      <td>27</td>\n",
       "      <td>iw8_sm_t9fastfire - iw8_sn_t9accurate</td>\n",
       "      <td>iw8_pi_t9semiauto - iw8_fists</td>\n",
       "      <td>iw8_pi_t9semiauto - iw8_fists</td>\n",
       "    </tr>\n",
       "    <tr>\n",
       "      <th>1</th>\n",
       "      <td>Duos</td>\n",
       "      <td>2021-11-13 00:23:53</td>\n",
       "      <td>twenty_six</td>\n",
       "      <td>izKKoTV</td>\n",
       "      <td>27:38</td>\n",
       "      <td>3</td>\n",
       "      <td>6.0</td>\n",
       "      <td>12</td>\n",
       "      <td>2</td>\n",
       "      <td>1</td>\n",
       "      <td>4101</td>\n",
       "      <td>796</td>\n",
       "      <td>W</td>\n",
       "      <td>83.2</td>\n",
       "      <td>27</td>\n",
       "      <td>iw8_sn_t9accurate - iw8_sm_t9spray</td>\n",
       "      <td>iw8_pi_t9semiauto - iw8_fists</td>\n",
       "      <td>-</td>\n",
       "    </tr>\n",
       "  </tbody>\n",
       "</table>\n",
       "</div>"
      ],
      "text/plain": [
       "   Mode            Ended at        Team       Username Playtime   #   KD  \\\n",
       "0  Duos 2021-11-13 00:23:53  fifty_nine  JUREK  KILLER    12:47  24  0.3   \n",
       "1  Duos 2021-11-13 00:23:53  twenty_six        izKKoTV    27:38   3  6.0   \n",
       "\n",
       "   Kills  Deaths  Assists  Damage >  Damage < Gulag  % moving Game duration  \\\n",
       "0      1       3        1       468       657     W      69.8            27   \n",
       "1     12       2        1      4101       796     W      83.2            27   \n",
       "\n",
       "                               Loadout_1                      Loadout_2  \\\n",
       "0  iw8_sm_t9fastfire - iw8_sn_t9accurate  iw8_pi_t9semiauto - iw8_fists   \n",
       "1     iw8_sn_t9accurate - iw8_sm_t9spray  iw8_pi_t9semiauto - iw8_fists   \n",
       "\n",
       "                       Loadout_3  \n",
       "0  iw8_pi_t9semiauto - iw8_fists  \n",
       "1                              -  "
      ]
     },
     "execution_count": 63,
     "metadata": {},
     "output_type": "execute_result"
    }
   ],
   "source": [
    "open_file = open(\"match.pkl\", \"rb\")\n",
    "match = pickle.load(open_file)\n",
    "open_file.close()\n",
    "df_match = MatchPlayersToDf(match)\n",
    "df = MatchPlayersStandardize(df_match)\n",
    "df.head(2)"
   ]
  },
  {
   "cell_type": "code",
   "execution_count": 53,
   "id": "c5c8380b-3c8e-457c-8881-78a10afbe761",
   "metadata": {},
   "outputs": [
    {
     "data": {
      "text/html": [
       "\n",
       "<div id=\"altair-viz-7734f52cf1834a1fb62738d6c6a1e9f9\"></div>\n",
       "<script type=\"text/javascript\">\n",
       "  (function(spec, embedOpt){\n",
       "    let outputDiv = document.currentScript.previousElementSibling;\n",
       "    if (outputDiv.id !== \"altair-viz-7734f52cf1834a1fb62738d6c6a1e9f9\") {\n",
       "      outputDiv = document.getElementById(\"altair-viz-7734f52cf1834a1fb62738d6c6a1e9f9\");\n",
       "    }\n",
       "    const paths = {\n",
       "      \"vega\": \"https://cdn.jsdelivr.net/npm//vega@5?noext\",\n",
       "      \"vega-lib\": \"https://cdn.jsdelivr.net/npm//vega-lib?noext\",\n",
       "      \"vega-lite\": \"https://cdn.jsdelivr.net/npm//vega-lite@4.8.1?noext\",\n",
       "      \"vega-embed\": \"https://cdn.jsdelivr.net/npm//vega-embed@6?noext\",\n",
       "    };\n",
       "\n",
       "    function loadScript(lib) {\n",
       "      return new Promise(function(resolve, reject) {\n",
       "        var s = document.createElement('script');\n",
       "        s.src = paths[lib];\n",
       "        s.async = true;\n",
       "        s.onload = () => resolve(paths[lib]);\n",
       "        s.onerror = () => reject(`Error loading script: ${paths[lib]}`);\n",
       "        document.getElementsByTagName(\"head\")[0].appendChild(s);\n",
       "      });\n",
       "    }\n",
       "\n",
       "    function showError(err) {\n",
       "      outputDiv.innerHTML = `<div class=\"error\" style=\"color:red;\">${err}</div>`;\n",
       "      throw err;\n",
       "    }\n",
       "\n",
       "    function displayChart(vegaEmbed) {\n",
       "      vegaEmbed(outputDiv, spec, embedOpt)\n",
       "        .catch(err => showError(`Javascript Error: ${err.message}<br>This usually means there's a typo in your chart specification. See the javascript console for the full traceback.`));\n",
       "    }\n",
       "\n",
       "    if(typeof define === \"function\" && define.amd) {\n",
       "      requirejs.config({paths});\n",
       "      require([\"vega-embed\"], displayChart, err => showError(`Error loading script: ${err.message}`));\n",
       "    } else if (typeof vegaEmbed === \"function\") {\n",
       "      displayChart(vegaEmbed);\n",
       "    } else {\n",
       "      loadScript(\"vega\")\n",
       "        .then(() => loadScript(\"vega-lite\"))\n",
       "        .then(() => loadScript(\"vega-embed\"))\n",
       "        .catch(showError)\n",
       "        .then(() => displayChart(vegaEmbed));\n",
       "    }\n",
       "  })({\"config\": {\"view\": {\"continuousWidth\": 400, \"continuousHeight\": 300}}, \"layer\": [{\"mark\": \"bar\", \"encoding\": {\"color\": {\"value\": \"orange\"}, \"tooltip\": [{\"type\": \"quantitative\", \"field\": \"Kills\"}], \"x\": {\"type\": \"quantitative\", \"bin\": {\"step\": 1}, \"field\": \"Kills\"}, \"y\": {\"type\": \"quantitative\", \"aggregate\": \"count\", \"axis\": {\"format\": \"\", \"title\": \"n Players\"}}}, \"height\": 300, \"width\": 400}, {\"mark\": {\"type\": \"rule\", \"color\": \"red\"}, \"encoding\": {\"size\": {\"value\": 3}, \"x\": {\"type\": \"quantitative\", \"aggregate\": \"median\", \"field\": \"Kills\", \"title\": \"Kills\"}}}], \"data\": {\"name\": \"data-d223583e8034f937c8605b99cda26242\"}, \"$schema\": \"https://vega.github.io/schema/vega-lite/v4.8.1.json\", \"datasets\": {\"data-d223583e8034f937c8605b99cda26242\": [{\"Mode\": \"Duos\", \"Ended at\": \"2021-11-13T00:23:53\", \"Team\": \"fifty_nine\", \"Username\": \"JUREK  KILLER\", \"Playtime\": \"12:47\", \"#\": 24, \"KD\": 0.3, \"Kills\": 1, \"Deaths\": 3, \"Assists\": 1, \"Damage >\": 468, \"Damage <\": 657, \"Gulag\": \"W\", \"% moving\": 69.8, \"Game duration\": \"27\", \"Loadout_1\": \"iw8_sm_t9fastfire - iw8_sn_t9accurate\", \"Loadout_2\": \"iw8_pi_t9semiauto - iw8_fists\", \"Loadout_3\": \"iw8_pi_t9semiauto - iw8_fists\"}, {\"Mode\": \"Duos\", \"Ended at\": \"2021-11-13T00:23:53\", \"Team\": \"twenty_six\", \"Username\": \"izKKoTV\", \"Playtime\": \"27:38\", \"#\": 3, \"KD\": 6.0, \"Kills\": 12, \"Deaths\": 2, \"Assists\": 1, \"Damage >\": 4101, \"Damage <\": 796, \"Gulag\": \"W\", \"% moving\": 83.2, \"Game duration\": \"27\", \"Loadout_1\": \"iw8_sn_t9accurate - iw8_sm_t9spray\", \"Loadout_2\": \"iw8_pi_t9semiauto - iw8_fists\", \"Loadout_3\": \"-\"}, {\"Mode\": \"Duos\", \"Ended at\": \"2021-11-13T00:23:53\", \"Team\": \"sixty_four\", \"Username\": \"ingdre\", \"Playtime\": \"03:34\", \"#\": 70, \"KD\": 0.0, \"Kills\": 0, \"Deaths\": 1, \"Assists\": 0, \"Damage >\": 52, \"Damage <\": 200, \"Gulag\": \"L\", \"% moving\": 89.1, \"Game duration\": \"27\", \"Loadout_1\": \"iw8_ar_t9standard - iw8_sm_t9standard\", \"Loadout_2\": \"-\", \"Loadout_3\": \"-\"}, {\"Mode\": \"Duos\", \"Ended at\": \"2021-11-13T00:23:53\", \"Team\": \"sixty_five\", \"Username\": \"SchulzLOL\", \"Playtime\": \"04:23\", \"#\": 64, \"KD\": 0.5, \"Kills\": 1, \"Deaths\": 2, \"Assists\": 1, \"Damage >\": 317, \"Damage <\": 260, \"Gulag\": \"W\", \"% moving\": 88.9, \"Game duration\": \"27\", \"Loadout_1\": \"iw8_sm_t9capacity - iw8_sn_t9accurate\", \"Loadout_2\": \"iw8_pi_t9semiauto - iw8_fists\", \"Loadout_3\": \"-\"}, {\"Mode\": \"Duos\", \"Ended at\": \"2021-11-13T00:23:53\", \"Team\": \"fifty_six\", \"Username\": \"REAJC\", \"Playtime\": \"05:01\", \"#\": 60, \"KD\": 0.0, \"Kills\": 0, \"Deaths\": 2, \"Assists\": 1, \"Damage >\": 88, \"Damage <\": 200, \"Gulag\": \"L\", \"% moving\": 81.9, \"Game duration\": \"27\", \"Loadout_1\": \"iw8_sm_t9accurate - iw8_ar_t9slowhandling\", \"Loadout_2\": \"-\", \"Loadout_3\": \"-\"}, {\"Mode\": \"Duos\", \"Ended at\": \"2021-11-13T00:23:53\", \"Team\": \"seventy_three\", \"Username\": \"EvaKant\", \"Playtime\": \"07:00\", \"#\": 47, \"KD\": 0.5, \"Kills\": 1, \"Deaths\": 2, \"Assists\": 1, \"Damage >\": 447, \"Damage <\": 200, \"Gulag\": \"L\", \"% moving\": 66.3, \"Game duration\": \"27\", \"Loadout_1\": \"iw8_ar_t9standard - iw8_sm_t9season6\", \"Loadout_2\": \"-\", \"Loadout_3\": \"-\"}, {\"Mode\": \"Duos\", \"Ended at\": \"2021-11-13T00:23:53\", \"Team\": \"forty_nine\", \"Username\": \"Mustakostaja\", \"Playtime\": \"07:51\", \"#\": 30, \"KD\": 0.0, \"Kills\": 0, \"Deaths\": 2, \"Assists\": 0, \"Damage >\": 113, \"Damage <\": 202, \"Gulag\": \"L\", \"% moving\": 66.2, \"Game duration\": \"27\", \"Loadout_1\": \"iw8_sn_t9accurate - iw8_sm_t9cqb\", \"Loadout_2\": \"iw8_pi_t9semiauto - iw8_fists\", \"Loadout_3\": \"-\"}, {\"Mode\": \"Duos\", \"Ended at\": \"2021-11-13T00:23:53\", \"Team\": \"seven\", \"Username\": \"Don Listepik\", \"Playtime\": \"13:03\", \"#\": 23, \"KD\": 0.5, \"Kills\": 1, \"Deaths\": 2, \"Assists\": 1, \"Damage >\": 521, \"Damage <\": 497, \"Gulag\": \"W\", \"% moving\": 76.3, \"Game duration\": \"27\", \"Loadout_1\": \"iw8_ar_t9standard - iw8_sm_t9standard\", \"Loadout_2\": \"iw8_pi_t9semiauto - iw8_fists\", \"Loadout_3\": \"-\"}, {\"Mode\": \"Duos\", \"Ended at\": \"2021-11-13T00:23:53\", \"Team\": \"sixty_seven\", \"Username\": \"Kasach93\", \"Playtime\": \"08:24\", \"#\": 39, \"KD\": 0.0, \"Kills\": 0, \"Deaths\": 2, \"Assists\": 1, \"Damage >\": 431, \"Damage <\": 200, \"Gulag\": \"L\", \"% moving\": 94.3, \"Game duration\": \"27\", \"Loadout_1\": \"iw8_ar_t9damage - iw8_sm_t9season6\", \"Loadout_2\": \"iw8_pi_t9semiauto - iw8_fists\", \"Loadout_3\": \"-\"}, {\"Mode\": \"Duos\", \"Ended at\": \"2021-11-13T00:23:53\", \"Team\": \"sixty_four\", \"Username\": \"teko\", \"Playtime\": \"03:18\", \"#\": 70, \"KD\": 0.0, \"Kills\": 0, \"Deaths\": 1, \"Assists\": 0, \"Damage >\": 136, \"Damage <\": 100, \"Gulag\": \"L\", \"% moving\": 99.1, \"Game duration\": \"27\", \"Loadout_1\": \"iw8_ar_t9damage - iw8_sm_t9standard\", \"Loadout_2\": \"iw8_pi_t9semiauto - iw8_fists\", \"Loadout_3\": \"-\"}, {\"Mode\": \"Duos\", \"Ended at\": \"2021-11-13T00:23:53\", \"Team\": \"seventy_four\", \"Username\": \"LeJcleS\", \"Playtime\": \"10:17\", \"#\": 28, \"KD\": 1.0, \"Kills\": 2, \"Deaths\": 2, \"Assists\": 0, \"Damage >\": 514, \"Damage <\": 456, \"Gulag\": \"W\", \"% moving\": 92.2, \"Game duration\": \"27\", \"Loadout_1\": \"iw8_sm_t9handling - iw8_sn_kilo98\", \"Loadout_2\": \"iw8_pi_t9semiauto - iw8_fists\", \"Loadout_3\": \"-\"}, {\"Mode\": \"Duos\", \"Ended at\": \"2021-11-13T00:23:53\", \"Team\": \"sixty_eight\", \"Username\": \"FR-JYEL\", \"Playtime\": \"25:27\", \"#\": 8, \"KD\": 2.5, \"Kills\": 5, \"Deaths\": 2, \"Assists\": 1, \"Damage >\": 2235, \"Damage <\": 429, \"Gulag\": \"W\", \"% moving\": 95.3, \"Game duration\": \"27\", \"Loadout_1\": \"iw8_sm_t9cqb - iw8_sn_t9accurate\", \"Loadout_2\": \"iw8_pi_t9semiauto - iw8_fists\", \"Loadout_3\": \"-\"}, {\"Mode\": \"Duos\", \"Ended at\": \"2021-11-13T00:23:53\", \"Team\": \"axis\", \"Username\": \"QuirkyOrc\", \"Playtime\": \"10:23\", \"#\": 31, \"KD\": 0.5, \"Kills\": 1, \"Deaths\": 2, \"Assists\": 0, \"Damage >\": 450, \"Damage <\": 385, \"Gulag\": \"W\", \"% moving\": 76.7, \"Game duration\": \"27\", \"Loadout_1\": \"iw8_sm_t9season6 - iw8_pi_mike\", \"Loadout_2\": \"iw8_pi_t9semiauto - iw8_fists\", \"Loadout_3\": \"-\"}, {\"Mode\": \"Duos\", \"Ended at\": \"2021-11-13T00:23:53\", \"Team\": \"thirteen\", \"Username\": \"CKT_Div\", \"Playtime\": \"28:46\", \"#\": 1, \"KD\": 2.0, \"Kills\": 4, \"Deaths\": 2, \"Assists\": 2, \"Damage >\": 1378, \"Damage <\": 457, \"Gulag\": \"W\", \"% moving\": 85.2, \"Game duration\": \"27\", \"Loadout_1\": \"iw8_sm_t9standard - iw8_ar_t9british\", \"Loadout_2\": \"iw8_ar_t9damage - iw8_pi_t9burst\", \"Loadout_3\": \"-\"}, {\"Mode\": \"Duos\", \"Ended at\": \"2021-11-13T00:23:53\", \"Team\": \"twenty_three\", \"Username\": \"Fighterlars\", \"Playtime\": \"08:44\", \"#\": 35, \"KD\": 1.0, \"Kills\": 2, \"Deaths\": 2, \"Assists\": 0, \"Damage >\": 540, \"Damage <\": 365, \"Gulag\": \"W\", \"% moving\": 94.7, \"Game duration\": \"27\", \"Loadout_1\": \"iw8_ar_tango21 - iw8_sn_t9accurate\", \"Loadout_2\": \"iw8_pi_t9semiauto - iw8_fists\", \"Loadout_3\": \"-\"}, {\"Mode\": \"Duos\", \"Ended at\": \"2021-11-13T00:23:53\", \"Team\": \"sixty_eight\", \"Username\": \"Dark973\", \"Playtime\": \"25:27\", \"#\": 8, \"KD\": 0.8, \"Kills\": 3, \"Deaths\": 4, \"Assists\": 2, \"Damage >\": 1507, \"Damage <\": 849, \"Gulag\": \"L\", \"% moving\": 57.3, \"Game duration\": \"27\", \"Loadout_1\": \"iw8_ar_galima - iw8_sn_romeo700\", \"Loadout_2\": \"iw8_pi_t9semiauto - iw8_fists\", \"Loadout_3\": \"iw8_ar_t9season6 - iw8_fists\"}, {\"Mode\": \"Duos\", \"Ended at\": \"2021-11-13T00:23:53\", \"Team\": \"sixteen\", \"Username\": \"Cobra Kai\", \"Playtime\": \"06:14\", \"#\": 56, \"KD\": 0.5, \"Kills\": 1, \"Deaths\": 2, \"Assists\": 2, \"Damage >\": 473, \"Damage <\": 300, \"Gulag\": \"L\", \"% moving\": 85.4, \"Game duration\": \"27\", \"Loadout_1\": \"iw8_ar_t9damage - iw8_sn_t9accurate\", \"Loadout_2\": \"iw8_pi_t9semiauto - iw8_fists\", \"Loadout_3\": \"-\"}, {\"Mode\": \"Duos\", \"Ended at\": \"2021-11-13T00:23:53\", \"Team\": \"forty_four\", \"Username\": \"R055P4N7ON\", \"Playtime\": \"11:33\", \"#\": 49, \"KD\": 0.0, \"Kills\": 0, \"Deaths\": 2, \"Assists\": 0, \"Damage >\": 300, \"Damage <\": 212, \"Gulag\": \"L\", \"% moving\": 56.7, \"Game duration\": \"27\", \"Loadout_1\": \"iw8_ar_t9damage - iw8_sm_t9cqb\", \"Loadout_2\": \"iw8_pi_t9semiauto - iw8_fists\", \"Loadout_3\": \"-\"}, {\"Mode\": \"Duos\", \"Ended at\": \"2021-11-13T00:23:53\", \"Team\": \"four\", \"Username\": \"ShOoTy97\", \"Playtime\": \"09:55\", \"#\": 33, \"KD\": 1.0, \"Kills\": 2, \"Deaths\": 2, \"Assists\": 0, \"Damage >\": 546, \"Damage <\": 337, \"Gulag\": \"W\", \"% moving\": 98.6, \"Game duration\": \"27\", \"Loadout_1\": \"iw8_sm_t9cqb - iw8_pi_papa320\", \"Loadout_2\": \"iw8_pi_t9semiauto - iw8_fists\", \"Loadout_3\": \"-\"}, {\"Mode\": \"Duos\", \"Ended at\": \"2021-11-13T00:23:53\", \"Team\": \"forty_nine\", \"Username\": \"NiceBison\", \"Playtime\": \"10:26\", \"#\": 30, \"KD\": 3.0, \"Kills\": 3, \"Deaths\": 1, \"Assists\": 0, \"Damage >\": 970, \"Damage <\": 346, \"Gulag\": \"W\", \"% moving\": 96.7, \"Game duration\": \"27\", \"Loadout_1\": \"iw8_lm_t9fastfire - iw8_pi_t9burst\", \"Loadout_2\": \"iw8_pi_t9semiauto - iw8_fists\", \"Loadout_3\": \"-\"}, {\"Mode\": \"Duos\", \"Ended at\": \"2021-11-13T00:23:53\", \"Team\": \"seventeen\", \"Username\": \"toniioo57\", \"Playtime\": \"25:38\", \"#\": 5, \"KD\": 3.5, \"Kills\": 7, \"Deaths\": 2, \"Assists\": 2, \"Damage >\": 1861, \"Damage <\": 609, \"Gulag\": \"W\", \"% moving\": 71.4, \"Game duration\": \"27\", \"Loadout_1\": \"iw8_sm_t9handling - iw8_sn_kilo98\", \"Loadout_2\": \"iw8_pi_t9semiauto - iw8_fists\", \"Loadout_3\": \"-\"}, {\"Mode\": \"Duos\", \"Ended at\": \"2021-11-13T00:23:53\", \"Team\": \"allies\", \"Username\": \"RNS\", \"Playtime\": \"03:56\", \"#\": 66, \"KD\": 1.5, \"Kills\": 3, \"Deaths\": 2, \"Assists\": 0, \"Damage >\": 505, \"Damage <\": 300, \"Gulag\": \"W\", \"% moving\": 88.8, \"Game duration\": \"27\", \"Loadout_1\": \"iw8_sm_t9standard - iw8_sn_t9accurate\", \"Loadout_2\": \"iw8_pi_t9semiauto - iw8_fists\", \"Loadout_3\": \"-\"}, {\"Mode\": \"Duos\", \"Ended at\": \"2021-11-13T00:23:53\", \"Team\": \"fifty_five\", \"Username\": \"le_ouf_87\", \"Playtime\": \"09:19\", \"#\": 37, \"KD\": 0.0, \"Kills\": 0, \"Deaths\": 2, \"Assists\": 1, \"Damage >\": 151, \"Damage <\": 200, \"Gulag\": \"L\", \"% moving\": 31.8, \"Game duration\": \"27\", \"Loadout_1\": \"iw8_ar_t9season6 - iw8_sm_t9accurate\", \"Loadout_2\": \"iw8_pi_t9semiauto - iw8_fists\", \"Loadout_3\": \"-\"}, {\"Mode\": \"Duos\", \"Ended at\": \"2021-11-13T00:23:53\", \"Team\": \"forty_eight\", \"Username\": \"SeoiAlle\", \"Playtime\": \"24:34\", \"#\": 10, \"KD\": 3.3, \"Kills\": 10, \"Deaths\": 3, \"Assists\": 0, \"Damage >\": 3373, \"Damage <\": 986, \"Gulag\": \"L\", \"% moving\": 84.7, \"Game duration\": \"27\", \"Loadout_1\": \"iw8_sm_t9handling - iw8_sn_kilo98\", \"Loadout_2\": \"iw8_pi_t9semiauto - iw8_fists\", \"Loadout_3\": \"iw8_ar_t9fasthandling - iw8_fists\"}, {\"Mode\": \"Duos\", \"Ended at\": \"2021-11-13T00:23:53\", \"Team\": \"fifty_three\", \"Username\": \"GaddafiwarlordYT\", \"Playtime\": \"06:28\", \"#\": 52, \"KD\": 0.0, \"Kills\": 0, \"Deaths\": 2, \"Assists\": 1, \"Damage >\": 2, \"Damage <\": 300, \"Gulag\": \"L\", \"% moving\": 85.4, \"Game duration\": \"27\", \"Loadout_1\": \"iw8_ar_t9damage - iw8_me_t9machete\", \"Loadout_2\": \"-\", \"Loadout_3\": \"-\"}, {\"Mode\": \"Duos\", \"Ended at\": \"2021-11-13T00:23:53\", \"Team\": \"eleven\", \"Username\": \"exzi\", \"Playtime\": \"07:50\", \"#\": 44, \"KD\": 1.5, \"Kills\": 3, \"Deaths\": 2, \"Assists\": 2, \"Damage >\": 1240, \"Damage <\": 359, \"Gulag\": \"L\", \"% moving\": 95.5, \"Game duration\": \"27\", \"Loadout_1\": \"iw8_ar_t9slowhandling - iw8_sn_t9accurate\", \"Loadout_2\": \"iw8_pi_t9semiauto - iw8_fists\", \"Loadout_3\": \"-\"}, {\"Mode\": \"Duos\", \"Ended at\": \"2021-11-13T00:23:53\", \"Team\": \"fifty_six\", \"Username\": \"Mister Toff\", \"Playtime\": \"05:15\", \"#\": 60, \"KD\": 0.5, \"Kills\": 1, \"Deaths\": 2, \"Assists\": 1, \"Damage >\": 273, \"Damage <\": 398, \"Gulag\": \"L\", \"% moving\": 86.2, \"Game duration\": \"27\", \"Loadout_1\": \"iw8_ar_t9slowhandling - iw8_pi_t9burst\", \"Loadout_2\": \"iw8_pi_t9semiauto - iw8_fists\", \"Loadout_3\": \"-\"}, {\"Mode\": \"Duos\", \"Ended at\": \"2021-11-13T00:23:53\", \"Team\": \"thirty_eight\", \"Username\": \"Inox\", \"Playtime\": \"26:54\", \"#\": 6, \"KD\": 2.3, \"Kills\": 7, \"Deaths\": 3, \"Assists\": 0, \"Damage >\": 1959, \"Damage <\": 636, \"Gulag\": \"W\", \"% moving\": 82.0, \"Game duration\": \"27\", \"Loadout_1\": \"iw8_sm_t9cqb - iw8_ar_t9damage\", \"Loadout_2\": \"iw8_pi_t9semiauto - iw8_fists\", \"Loadout_3\": \"-\"}, {\"Mode\": \"Duos\", \"Ended at\": \"2021-11-13T00:23:53\", \"Team\": \"twenty_seven\", \"Username\": \"emilpadure23\", \"Playtime\": \"03:42\", \"#\": 71, \"KD\": 0.0, \"Kills\": 0, \"Deaths\": 2, \"Assists\": 0, \"Damage >\": 281, \"Damage <\": 214, \"Gulag\": \"L\", \"% moving\": 76.1, \"Game duration\": \"27\", \"Loadout_1\": \"iw8_sn_t9accurate - iw8_sm_t9cqb\", \"Loadout_2\": \"-\", \"Loadout_3\": \"-\"}, {\"Mode\": \"Duos\", \"Ended at\": \"2021-11-13T00:23:53\", \"Team\": \"seventy_six\", \"Username\": \"Ledesinger\", \"Playtime\": \"01:16\", \"#\": 75, \"KD\": 0.0, \"Kills\": 0, \"Deaths\": 0, \"Assists\": 0, \"Damage >\": 0, \"Damage <\": 0, \"Gulag\": \"L\", \"% moving\": 0.0, \"Game duration\": \"27\", \"Loadout_1\": \"iw8_ar_mike4 - iw8_sh_romeo870\", \"Loadout_2\": \"-\", \"Loadout_3\": \"-\"}, {\"Mode\": \"Duos\", \"Ended at\": \"2021-11-13T00:23:53\", \"Team\": \"fifty_four\", \"Username\": \"tupacan\", \"Playtime\": \"12:20\", \"#\": 26, \"KD\": 0.0, \"Kills\": 0, \"Deaths\": 2, \"Assists\": 0, \"Damage >\": 405, \"Damage <\": 200, \"Gulag\": \"L\", \"% moving\": 98.1, \"Game duration\": \"27\", \"Loadout_1\": \"iw8_sm_t9standard - iw8_ar_t9british\", \"Loadout_2\": \"iw8_pi_t9semiauto - iw8_fists\", \"Loadout_3\": \"-\"}, {\"Mode\": \"Duos\", \"Ended at\": \"2021-11-13T00:23:53\", \"Team\": \"nineteen\", \"Username\": \"holzhauser\", \"Playtime\": \"13:19\", \"#\": 22, \"KD\": 0.5, \"Kills\": 1, \"Deaths\": 2, \"Assists\": 0, \"Damage >\": 548, \"Damage <\": 371, \"Gulag\": \"L\", \"% moving\": 96.1, \"Game duration\": \"27\", \"Loadout_1\": \"iw8_ar_t9damage - iw8_sm_t9capacity\", \"Loadout_2\": \"-\", \"Loadout_3\": \"-\"}, {\"Mode\": \"Duos\", \"Ended at\": \"2021-11-13T00:23:53\", \"Team\": \"sixty_one\", \"Username\": \"TizDuke\", \"Playtime\": \"25:40\", \"#\": 7, \"KD\": 2.5, \"Kills\": 5, \"Deaths\": 2, \"Assists\": 1, \"Damage >\": 1752, \"Damage <\": 367, \"Gulag\": \"W\", \"% moving\": 94.2, \"Game duration\": \"27\", \"Loadout_1\": \"iw8_sn_t9accurate - iw8_sm_t9fastfire\", \"Loadout_2\": \"-\", \"Loadout_3\": \"-\"}, {\"Mode\": \"Duos\", \"Ended at\": \"2021-11-13T00:23:53\", \"Team\": \"thirty_two\", \"Username\": \"VasilyZaitsev\", \"Playtime\": \"18:10\", \"#\": 17, \"KD\": 3.0, \"Kills\": 6, \"Deaths\": 2, \"Assists\": 0, \"Damage >\": 2263, \"Damage <\": 674, \"Gulag\": \"L\", \"% moving\": 88.6, \"Game duration\": \"27\", \"Loadout_1\": \"iw8_sn_kilo98 - iw8_ar_t9damage\", \"Loadout_2\": \"-\", \"Loadout_3\": \"-\"}, {\"Mode\": \"Duos\", \"Ended at\": \"2021-11-13T00:23:53\", \"Team\": \"thirty_five\", \"Username\": \"BENxPASH\", \"Playtime\": \"12:33\", \"#\": 27, \"KD\": 0.5, \"Kills\": 1, \"Deaths\": 2, \"Assists\": 0, \"Damage >\": 573, \"Damage <\": 201, \"Gulag\": \"W\", \"% moving\": 92.0, \"Game duration\": \"27\", \"Loadout_1\": \"iw8_ar_t9slowfire - iw8_sm_t9cqb\", \"Loadout_2\": \"iw8_pi_t9semiauto - iw8_fists\", \"Loadout_3\": \"-\"}, {\"Mode\": \"Duos\", \"Ended at\": \"2021-11-13T00:23:53\", \"Team\": \"forty_three\", \"Username\": \"Siki_Jackson\", \"Playtime\": \"09:24\", \"#\": 34, \"KD\": 0.0, \"Kills\": 0, \"Deaths\": 0, \"Assists\": 0, \"Damage >\": 108, \"Damage <\": 45, \"Gulag\": \"L\", \"% moving\": 97.3, \"Game duration\": \"27\", \"Loadout_1\": \"iw8_ar_t9slowhandling - iw8_pi_t9burst\", \"Loadout_2\": \"iw8_pi_t9semiauto - iw8_fists\", \"Loadout_3\": \"-\"}, {\"Mode\": \"Duos\", \"Ended at\": \"2021-11-13T00:23:53\", \"Team\": \"thirty_two\", \"Username\": \"Jckcnwy\", \"Playtime\": \"17:22\", \"#\": 17, \"KD\": 0.5, \"Kills\": 1, \"Deaths\": 2, \"Assists\": 0, \"Damage >\": 1141, \"Damage <\": 302, \"Gulag\": \"L\", \"% moving\": 92.1, \"Game duration\": \"27\", \"Loadout_1\": \"iw8_sm_t9heavy - iw8_sn_t9accurate\", \"Loadout_2\": \"-\", \"Loadout_3\": \"-\"}, {\"Mode\": \"Duos\", \"Ended at\": \"2021-11-13T00:23:53\", \"Team\": \"seven\", \"Username\": \"Grev Ingolf\", \"Playtime\": \"13:01\", \"#\": 23, \"KD\": 1.5, \"Kills\": 3, \"Deaths\": 2, \"Assists\": 0, \"Damage >\": 597, \"Damage <\": 305, \"Gulag\": \"W\", \"% moving\": 95.7, \"Game duration\": \"27\", \"Loadout_1\": \"iw8_sn_t9accurate - iw8_sm_t9cqb\", \"Loadout_2\": \"iw8_pi_t9semiauto - iw8_fists\", \"Loadout_3\": \"-\"}, {\"Mode\": \"Duos\", \"Ended at\": \"2021-11-13T00:23:53\", \"Team\": \"allies\", \"Username\": \"Tr1Z0ne\", \"Playtime\": \"03:55\", \"#\": 66, \"KD\": 2.0, \"Kills\": 2, \"Deaths\": 1, \"Assists\": 2, \"Damage >\": 838, \"Damage <\": 100, \"Gulag\": \"L\", \"% moving\": 98.0, \"Game duration\": \"27\", \"Loadout_1\": \"iw8_sn_t9accurate - iw8_pi_t9burst\", \"Loadout_2\": \"iw8_pi_t9semiauto - iw8_fists\", \"Loadout_3\": \"-\"}, {\"Mode\": \"Duos\", \"Ended at\": \"2021-11-13T00:23:53\", \"Team\": \"fifty_two\", \"Username\": \"martindaspartan\", \"Playtime\": \"08:18\", \"#\": 42, \"KD\": 2.0, \"Kills\": 4, \"Deaths\": 2, \"Assists\": 0, \"Damage >\": 908, \"Damage <\": 348, \"Gulag\": \"W\", \"% moving\": 91.0, \"Game duration\": \"27\", \"Loadout_1\": \"iw8_sn_kilo98 - iw8_sm_papa90\", \"Loadout_2\": \"-\", \"Loadout_3\": \"-\"}, {\"Mode\": \"Duos\", \"Ended at\": \"2021-11-13T00:23:53\", \"Team\": \"fifty_two\", \"Username\": \"Smokeyjeff420\", \"Playtime\": \"08:02\", \"#\": 42, \"KD\": 0.0, \"Kills\": 0, \"Deaths\": 2, \"Assists\": 1, \"Damage >\": 133, \"Damage <\": 320, \"Gulag\": \"L\", \"% moving\": 46.1, \"Game duration\": \"27\", \"Loadout_1\": \"iw8_sm_t9capacity - iw8_sn_kilo98\", \"Loadout_2\": \"-\", \"Loadout_3\": \"-\"}, {\"Mode\": \"Duos\", \"Ended at\": \"2021-11-13T00:23:53\", \"Team\": \"thirty_seven\", \"Username\": \"wila85\", \"Playtime\": \"05:47\", \"#\": 59, \"KD\": 0.0, \"Kills\": 0, \"Deaths\": 2, \"Assists\": 0, \"Damage >\": 243, \"Damage <\": 201, \"Gulag\": \"W\", \"% moving\": 92.3, \"Game duration\": \"27\", \"Loadout_1\": \"s4_ar_stango44temp - iw8_pi_mike\", \"Loadout_2\": \"iw8_pi_t9semiauto - iw8_fists\", \"Loadout_3\": \"-\"}, {\"Mode\": \"Duos\", \"Ended at\": \"2021-11-13T00:23:53\", \"Team\": \"thirty\", \"Username\": \"iD1EGO_88\", \"Playtime\": \"20:02\", \"#\": 15, \"KD\": 0.0, \"Kills\": 0, \"Deaths\": 3, \"Assists\": 0, \"Damage >\": 432, \"Damage <\": 730, \"Gulag\": \"L\", \"% moving\": 71.5, \"Game duration\": \"27\", \"Loadout_1\": \"iw8_ar_t9damage - iw8_sm_t9cqb\", \"Loadout_2\": \"iw8_pi_t9semiauto - iw8_fists\", \"Loadout_3\": \"iw8_lm_t9fastfire - iw8_fists\"}, {\"Mode\": \"Duos\", \"Ended at\": \"2021-11-13T00:23:53\", \"Team\": \"forty_four\", \"Username\": \"ipegasians\", \"Playtime\": \"11:07\", \"#\": 49, \"KD\": 0.5, \"Kills\": 1, \"Deaths\": 2, \"Assists\": 0, \"Damage >\": 396, \"Damage <\": 342, \"Gulag\": \"W\", \"% moving\": 56.7, \"Game duration\": \"27\", \"Loadout_1\": \"iw8_ar_t9standard - iw8_pi_mike1911\", \"Loadout_2\": \"-\", \"Loadout_3\": \"-\"}, {\"Mode\": \"Duos\", \"Ended at\": \"2021-11-13T00:23:53\", \"Team\": \"twenty_eight\", \"Username\": \"St0rmarrow\", \"Playtime\": \"07:43\", \"#\": 45, \"KD\": 0.5, \"Kills\": 1, \"Deaths\": 2, \"Assists\": 1, \"Damage >\": 763, \"Damage <\": 359, \"Gulag\": \"W\", \"% moving\": 86.2, \"Game duration\": \"27\", \"Loadout_1\": \"iw8_sn_t9accurate - iw8_pi_t9burst\", \"Loadout_2\": \"iw8_pi_t9semiauto - iw8_fists\", \"Loadout_3\": \"-\"}, {\"Mode\": \"Duos\", \"Ended at\": \"2021-11-13T00:23:53\", \"Team\": \"twenty_two\", \"Username\": \"polskiboy88\", \"Playtime\": \"06:58\", \"#\": 48, \"KD\": 0.5, \"Kills\": 1, \"Deaths\": 2, \"Assists\": 1, \"Damage >\": 430, \"Damage <\": 260, \"Gulag\": \"W\", \"% moving\": 92.0, \"Game duration\": \"27\", \"Loadout_1\": \"iw8_sn_t9accurate - iw8_pi_t9fullauto\", \"Loadout_2\": \"-\", \"Loadout_3\": \"-\"}, {\"Mode\": \"Duos\", \"Ended at\": \"2021-11-13T00:23:53\", \"Team\": \"ten\", \"Username\": \"mustafa\", \"Playtime\": \"05:16\", \"#\": 61, \"KD\": 0.0, \"Kills\": 0, \"Deaths\": 2, \"Assists\": 0, \"Damage >\": 256, \"Damage <\": 200, \"Gulag\": \"L\", \"% moving\": 85.9, \"Game duration\": \"27\", \"Loadout_1\": \"iw8_ar_t9british - iw8_sm_t9cqb\", \"Loadout_2\": \"iw8_pi_t9semiauto - iw8_fists\", \"Loadout_3\": \"-\"}, {\"Mode\": \"Duos\", \"Ended at\": \"2021-11-13T00:23:53\", \"Team\": \"eighteen\", \"Username\": \"Panda\", \"Playtime\": \"07:01\", \"#\": 51, \"KD\": 1.0, \"Kills\": 2, \"Deaths\": 2, \"Assists\": 1, \"Damage >\": 360, \"Damage <\": 415, \"Gulag\": \"W\", \"% moving\": 93.9, \"Game duration\": \"27\", \"Loadout_1\": \"iw8_sn_t9accurate - iw8_sm_t9season6\", \"Loadout_2\": \"iw8_pi_t9semiauto - iw8_fists\", \"Loadout_3\": \"-\"}, {\"Mode\": \"Duos\", \"Ended at\": \"2021-11-13T00:23:53\", \"Team\": \"thirty_four\", \"Username\": \"BARTH947\", \"Playtime\": \"05:03\", \"#\": 63, \"KD\": 0.5, \"Kills\": 1, \"Deaths\": 2, \"Assists\": 0, \"Damage >\": 100, \"Damage <\": 201, \"Gulag\": \"W\", \"% moving\": 94.9, \"Game duration\": \"27\", \"Loadout_1\": \"iw8_sm_t9capacity - iw8_sn_t9accurate\", \"Loadout_2\": \"-\", \"Loadout_3\": \"-\"}, {\"Mode\": \"Duos\", \"Ended at\": \"2021-11-13T00:23:53\", \"Team\": \"forty_six\", \"Username\": \"NYKA\", \"Playtime\": \"04:42\", \"#\": 65, \"KD\": 0.0, \"Kills\": 0, \"Deaths\": 2, \"Assists\": 0, \"Damage >\": 270, \"Damage <\": 200, \"Gulag\": \"L\", \"% moving\": 83.8, \"Game duration\": \"27\", \"Loadout_1\": \"iw8_ar_mike4 - iw8_sm_t9fastfire\", \"Loadout_2\": \"iw8_pi_t9semiauto - iw8_fists\", \"Loadout_3\": \"-\"}, {\"Mode\": \"Duos\", \"Ended at\": \"2021-11-13T00:23:53\", \"Team\": \"sixty_six\", \"Username\": \"MLHorne\", \"Playtime\": \"12:56\", \"#\": 41, \"KD\": 0.0, \"Kills\": 0, \"Deaths\": 3, \"Assists\": 0, \"Damage >\": 822, \"Damage <\": 606, \"Gulag\": \"L\", \"% moving\": 45.5, \"Game duration\": \"27\", \"Loadout_1\": \"iw8_sm_t9standard - iw8_me_t9machete\", \"Loadout_2\": \"iw8_pi_t9semiauto - iw8_fists\", \"Loadout_3\": \"iw8_ar_t9season6 - iw8_fists\"}, {\"Mode\": \"Duos\", \"Ended at\": \"2021-11-13T00:23:53\", \"Team\": \"fifty_three\", \"Username\": \"magicbigkev2k7\", \"Playtime\": \"06:37\", \"#\": 52, \"KD\": 0.0, \"Kills\": 0, \"Deaths\": 2, \"Assists\": 0, \"Damage >\": 327, \"Damage <\": 253, \"Gulag\": \"L\", \"% moving\": 91.6, \"Game duration\": \"27\", \"Loadout_1\": \"iw8_sn_t9accurate - iw8_pi_mike\", \"Loadout_2\": \"iw8_pi_t9semiauto - iw8_fists\", \"Loadout_3\": \"-\"}, {\"Mode\": \"Duos\", \"Ended at\": \"2021-11-13T00:23:53\", \"Team\": \"eight\", \"Username\": \"Ma\\u00eetre Splinter\", \"Playtime\": \"08:30\", \"#\": 40, \"KD\": 2.0, \"Kills\": 4, \"Deaths\": 2, \"Assists\": 0, \"Damage >\": 1232, \"Damage <\": 470, \"Gulag\": \"W\", \"% moving\": 94.3, \"Game duration\": \"27\", \"Loadout_1\": \"iw8_sn_t9accurate - iw8_sm_t9handling\", \"Loadout_2\": \"iw8_pi_t9semiauto - iw8_fists\", \"Loadout_3\": \"-\"}, {\"Mode\": \"Duos\", \"Ended at\": \"2021-11-13T00:23:53\", \"Team\": \"three\", \"Username\": \"JohnnyZalami\", \"Playtime\": \"03:37\", \"#\": 69, \"KD\": 1.0, \"Kills\": 1, \"Deaths\": 1, \"Assists\": 0, \"Damage >\": 403, \"Damage <\": 101, \"Gulag\": \"L\", \"% moving\": 93.0, \"Game duration\": \"27\", \"Loadout_1\": \"iw8_sm_t9cqb - iw8_ar_t9british\", \"Loadout_2\": \"iw8_pi_t9semiauto - iw8_fists\", \"Loadout_3\": \"-\"}, {\"Mode\": \"Duos\", \"Ended at\": \"2021-11-13T00:23:53\", \"Team\": \"fifty_seven\", \"Username\": \"VIKINGBLOOD\", \"Playtime\": \"24:54\", \"#\": 12, \"KD\": 1.0, \"Kills\": 4, \"Deaths\": 4, \"Assists\": 1, \"Damage >\": 1744, \"Damage <\": 1022, \"Gulag\": \"L\", \"% moving\": 63.3, \"Game duration\": \"27\", \"Loadout_1\": \"iw8_ar_t9slowhandling - iw8_sm_t9capacity\", \"Loadout_2\": \"iw8_pi_t9semiauto - iw8_fists\", \"Loadout_3\": \"iw8_sh_t9pump - iw8_fists\"}, {\"Mode\": \"Duos\", \"Ended at\": \"2021-11-13T00:23:53\", \"Team\": \"seventy_three\", \"Username\": \"Diabolik\", \"Playtime\": \"06:46\", \"#\": 47, \"KD\": 1.0, \"Kills\": 2, \"Deaths\": 2, \"Assists\": 0, \"Damage >\": 370, \"Damage <\": 395, \"Gulag\": \"W\", \"% moving\": 93.7, \"Game duration\": \"27\", \"Loadout_1\": \"iw8_sm_t9spray - iw8_ar_t9slowhandling\", \"Loadout_2\": \"-\", \"Loadout_3\": \"-\"}, {\"Mode\": \"Duos\", \"Ended at\": \"2021-11-13T00:23:53\", \"Team\": \"twenty_nine\", \"Username\": \"TerrorPuuu\", \"Playtime\": \"08:33\", \"#\": 43, \"KD\": 2.0, \"Kills\": 4, \"Deaths\": 2, \"Assists\": 1, \"Damage >\": 1870, \"Damage <\": 459, \"Gulag\": \"W\", \"% moving\": 92.9, \"Game duration\": \"27\", \"Loadout_1\": \"iw8_ar_t9longburst - iw8_pi_mike\", \"Loadout_2\": \"iw8_pi_t9semiauto - iw8_fists\", \"Loadout_3\": \"-\"}, {\"Mode\": \"Duos\", \"Ended at\": \"2021-11-13T00:23:53\", \"Team\": \"thirteen\", \"Username\": \"Nuzzle\", \"Playtime\": \"28:47\", \"#\": 1, \"KD\": 7.0, \"Kills\": 7, \"Deaths\": 1, \"Assists\": 0, \"Damage >\": 2750, \"Damage <\": 687, \"Gulag\": \"W\", \"% moving\": 97.3, \"Game duration\": \"27\", \"Loadout_1\": \"iw8_sm_t9powerburst - iw8_sm_t9standard\", \"Loadout_2\": \"iw8_pi_t9semiauto - iw8_fists\", \"Loadout_3\": \"-\"}, {\"Mode\": \"Duos\", \"Ended at\": \"2021-11-13T00:23:53\", \"Team\": \"sixteen\", \"Username\": \"AlucarDsen\", \"Playtime\": \"06:14\", \"#\": 56, \"KD\": 2.0, \"Kills\": 4, \"Deaths\": 2, \"Assists\": 0, \"Damage >\": 796, \"Damage <\": 374, \"Gulag\": \"L\", \"% moving\": 95.8, \"Game duration\": \"27\", \"Loadout_1\": \"iw8_sn_t9accurate - iw8_sm_t9fastfire\", \"Loadout_2\": \"-\", \"Loadout_3\": \"-\"}, {\"Mode\": \"Duos\", \"Ended at\": \"2021-11-13T00:23:53\", \"Team\": \"forty\", \"Username\": \"Gald\", \"Playtime\": \"16:51\", \"#\": 19, \"KD\": 1.0, \"Kills\": 2, \"Deaths\": 2, \"Assists\": 1, \"Damage >\": 923, \"Damage <\": 605, \"Gulag\": \"L\", \"% moving\": 93.0, \"Game duration\": \"27\", \"Loadout_1\": \"iw8_sh_romeo870 - iw8_sn_kilo98\", \"Loadout_2\": \"iw8_pi_t9semiauto - iw8_fists\", \"Loadout_3\": \"-\"}, {\"Mode\": \"Duos\", \"Ended at\": \"2021-11-13T00:23:53\", \"Team\": \"forty_one\", \"Username\": \"oys\", \"Playtime\": \"21:19\", \"#\": 13, \"KD\": 1.0, \"Kills\": 2, \"Deaths\": 2, \"Assists\": 1, \"Damage >\": 1469, \"Damage <\": 431, \"Gulag\": \"L\", \"% moving\": 80.7, \"Game duration\": \"27\", \"Loadout_1\": \"iw8_ar_t9slowfire - iw8_sn_t9accurate\", \"Loadout_2\": \"-\", \"Loadout_3\": \"-\"}, {\"Mode\": \"Duos\", \"Ended at\": \"2021-11-13T00:23:53\", \"Team\": \"sixty_two\", \"Username\": \"jimpin\", \"Playtime\": \"03:04\", \"#\": 74, \"KD\": 0.0, \"Kills\": 0, \"Deaths\": 2, \"Assists\": 0, \"Damage >\": 34, \"Damage <\": 200, \"Gulag\": \"L\", \"% moving\": 84.1, \"Game duration\": \"27\", \"Loadout_1\": \"iw8_ar_tango21 - iw8_sm_t9capacity\", \"Loadout_2\": \"iw8_pi_t9semiauto - iw8_fists\", \"Loadout_3\": \"-\"}, {\"Mode\": \"Duos\", \"Ended at\": \"2021-11-13T00:23:53\", \"Team\": \"sixty_six\", \"Username\": \"JC\", \"Playtime\": \"08:20\", \"#\": 41, \"KD\": 0.0, \"Kills\": 0, \"Deaths\": 2, \"Assists\": 0, \"Damage >\": 100, \"Damage <\": 300, \"Gulag\": \"L\", \"% moving\": 84.7, \"Game duration\": \"27\", \"Loadout_1\": \"iw8_sm_t9capacity - iw8_sn_kilo98\", \"Loadout_2\": \"-\", \"Loadout_3\": \"-\"}, {\"Mode\": \"Duos\", \"Ended at\": \"2021-11-13T00:23:53\", \"Team\": \"six\", \"Username\": \"NIAKOU\\u00c9_91\", \"Playtime\": \"12:37\", \"#\": 25, \"KD\": 1.5, \"Kills\": 3, \"Deaths\": 2, \"Assists\": 0, \"Damage >\": 1083, \"Damage <\": 252, \"Gulag\": \"W\", \"% moving\": 97.5, \"Game duration\": \"27\", \"Loadout_1\": \"iw8_sn_t9accurate - iw8_sm_t9cqb\", \"Loadout_2\": \"-\", \"Loadout_3\": \"-\"}, {\"Mode\": \"Duos\", \"Ended at\": \"2021-11-13T00:23:53\", \"Team\": \"twenty_six\", \"Username\": \"Darkwoo_TV\", \"Playtime\": \"27:32\", \"#\": 3, \"KD\": 3.5, \"Kills\": 7, \"Deaths\": 2, \"Assists\": 3, \"Damage >\": 2205, \"Damage <\": 1045, \"Gulag\": \"W\", \"% moving\": 90.2, \"Game duration\": \"27\", \"Loadout_1\": \"iw8_ar_t9damage - iw8_sn_t9accurate\", \"Loadout_2\": \"iw8_pi_t9semiauto - iw8_fists\", \"Loadout_3\": \"-\"}, {\"Mode\": \"Duos\", \"Ended at\": \"2021-11-13T00:23:53\", \"Team\": \"thirty_nine\", \"Username\": \"SnatchedWolf16\", \"Playtime\": \"06:04\", \"#\": 57, \"KD\": 0.5, \"Kills\": 1, \"Deaths\": 2, \"Assists\": 0, \"Damage >\": 313, \"Damage <\": 200, \"Gulag\": \"W\", \"% moving\": 96.8, \"Game duration\": \"27\", \"Loadout_1\": \"iw8_sn_kilo98 - iw8_pi_t9burst\", \"Loadout_2\": \"-\", \"Loadout_3\": \"-\"}, {\"Mode\": \"Duos\", \"Ended at\": \"2021-11-13T00:23:53\", \"Team\": \"forty_seven\", \"Username\": \"nicoyzovitch\", \"Playtime\": \"25:17\", \"#\": 9, \"KD\": 0.5, \"Kills\": 1, \"Deaths\": 2, \"Assists\": 1, \"Damage >\": 1060, \"Damage <\": 540, \"Gulag\": \"W\", \"% moving\": 81.6, \"Game duration\": \"27\", \"Loadout_1\": \"iw8_ar_t9standard - iw8_sn_hdromeo\", \"Loadout_2\": \"iw8_pi_t9semiauto - iw8_fists\", \"Loadout_3\": \"-\"}, {\"Mode\": \"Duos\", \"Ended at\": \"2021-11-13T00:23:53\", \"Team\": \"seventy\", \"Username\": \"LeoSTLM\", \"Playtime\": \"02:49\", \"#\": 73, \"KD\": 0.0, \"Kills\": 0, \"Deaths\": 1, \"Assists\": 0, \"Damage >\": 18, \"Damage <\": 118, \"Gulag\": \"L\", \"% moving\": 88.5, \"Game duration\": \"27\", \"Loadout_1\": \"iw8_ar_t9slowhandling - iw8_sm_mpapa5\", \"Loadout_2\": \"-\", \"Loadout_3\": \"-\"}, {\"Mode\": \"Duos\", \"Ended at\": \"2021-11-13T00:23:53\", \"Team\": \"seventy\", \"Username\": \"TheDeepShadow\", \"Playtime\": \"03:20\", \"#\": 73, \"KD\": 0.0, \"Kills\": 0, \"Deaths\": 1, \"Assists\": 0, \"Damage >\": 0, \"Damage <\": 100, \"Gulag\": \"L\", \"% moving\": 88.5, \"Game duration\": \"27\", \"Loadout_1\": \"iw8_sm_t9standard - iw8_pi_decho\", \"Loadout_2\": \"-\", \"Loadout_3\": \"-\"}, {\"Mode\": \"Duos\", \"Ended at\": \"2021-11-13T00:23:53\", \"Team\": \"twenty\", \"Username\": \"LittleMac\", \"Playtime\": \"03:42\", \"#\": 67, \"KD\": 0.0, \"Kills\": 0, \"Deaths\": 1, \"Assists\": 0, \"Damage >\": 82, \"Damage <\": 100, \"Gulag\": \"L\", \"% moving\": 94.2, \"Game duration\": \"27\", \"Loadout_1\": \"iw8_sn_t9accurate - iw8_sm_t9cqb\", \"Loadout_2\": \"-\", \"Loadout_3\": \"-\"}, {\"Mode\": \"Duos\", \"Ended at\": \"2021-11-13T00:23:53\", \"Team\": \"fifty_eight\", \"Username\": \"controll1er04\", \"Playtime\": \"07:49\", \"#\": 36, \"KD\": 0.0, \"Kills\": 0, \"Deaths\": 2, \"Assists\": 0, \"Damage >\": 65, \"Damage <\": 368, \"Gulag\": \"L\", \"% moving\": 97.9, \"Game duration\": \"27\", \"Loadout_1\": \"iw8_sm_t9cqb - iw8_ar_t9british\", \"Loadout_2\": \"iw8_pi_t9semiauto - iw8_fists\", \"Loadout_3\": \"-\"}, {\"Mode\": \"Duos\", \"Ended at\": \"2021-11-13T00:23:53\", \"Team\": \"forty_seven\", \"Username\": \"gentil_renard\", \"Playtime\": \"25:14\", \"#\": 9, \"KD\": 0.5, \"Kills\": 1, \"Deaths\": 2, \"Assists\": 0, \"Damage >\": 553, \"Damage <\": 383, \"Gulag\": \"L\", \"% moving\": 96.8, \"Game duration\": \"27\", \"Loadout_1\": \"iw8_ar_falima - iw8_sn_t9accurate\", \"Loadout_2\": \"-\", \"Loadout_3\": \"-\"}, {\"Mode\": \"Duos\", \"Ended at\": \"2021-11-13T00:23:53\", \"Team\": \"twenty_five\", \"Username\": \"El Chapoo\", \"Playtime\": \"28:13\", \"#\": 4, \"KD\": 11.0, \"Kills\": 11, \"Deaths\": 1, \"Assists\": 0, \"Damage >\": 3778, \"Damage <\": 745, \"Gulag\": \"L\", \"% moving\": 88.4, \"Game duration\": \"27\", \"Loadout_1\": \"iw8_sm_t9fastfire - iw8_sn_t9accurate\", \"Loadout_2\": \"iw8_pi_t9semiauto - iw8_fists\", \"Loadout_3\": \"-\"}, {\"Mode\": \"Duos\", \"Ended at\": \"2021-11-13T00:23:53\", \"Team\": \"twelve\", \"Username\": \"Monkey D Ruffy\", \"Playtime\": \"17:17\", \"#\": 18, \"KD\": 1.0, \"Kills\": 2, \"Deaths\": 2, \"Assists\": 1, \"Damage >\": 1137, \"Damage <\": 405, \"Gulag\": \"L\", \"% moving\": 63.6, \"Game duration\": \"27\", \"Loadout_1\": \"iw8_ar_t9damage - iw8_sn_t9accurate\", \"Loadout_2\": \"iw8_pi_t9semiauto - iw8_fists\", \"Loadout_3\": \"-\"}, {\"Mode\": \"Duos\", \"Ended at\": \"2021-11-13T00:23:53\", \"Team\": \"thirty_one\", \"Username\": \"RG\", \"Playtime\": \"01:11\", \"#\": 76, \"KD\": 0.0, \"Kills\": 0, \"Deaths\": 0, \"Assists\": 0, \"Damage >\": 0, \"Damage <\": 0, \"Gulag\": \"L\", \"% moving\": 0.0, \"Game duration\": \"27\", \"Loadout_1\": \"iw8_ar_t9british - iw8_sm_t9cqb\", \"Loadout_2\": \"-\", \"Loadout_3\": \"-\"}, {\"Mode\": \"Duos\", \"Ended at\": \"2021-11-13T00:23:53\", \"Team\": \"fifty_nine\", \"Username\": \"Jackk96\", \"Playtime\": \"12:47\", \"#\": 24, \"KD\": 0.5, \"Kills\": 1, \"Deaths\": 2, \"Assists\": 0, \"Damage >\": 537, \"Damage <\": 421, \"Gulag\": \"L\", \"% moving\": 94.4, \"Game duration\": \"27\", \"Loadout_1\": \"iw8_sm_t9cqb - iw8_ar_t9standard\", \"Loadout_2\": \"-\", \"Loadout_3\": \"-\"}, {\"Mode\": \"Duos\", \"Ended at\": \"2021-11-13T00:23:53\", \"Team\": \"twenty_three\", \"Username\": \"freddy1003\", \"Playtime\": \"08:47\", \"#\": 35, \"KD\": 0.5, \"Kills\": 1, \"Deaths\": 2, \"Assists\": 0, \"Damage >\": 341, \"Damage <\": 250, \"Gulag\": \"W\", \"% moving\": 96.8, \"Game duration\": \"27\", \"Loadout_1\": \"iw8_ar_t9damage - iw8_sm_mpapa7\", \"Loadout_2\": \"iw8_pi_t9semiauto - iw8_fists\", \"Loadout_3\": \"-\"}, {\"Mode\": \"Duos\", \"Ended at\": \"2021-11-13T00:23:53\", \"Team\": \"sixty_seven\", \"Username\": \"GAWLI\", \"Playtime\": \"08:23\", \"#\": 39, \"KD\": 0.0, \"Kills\": 0, \"Deaths\": 2, \"Assists\": 0, \"Damage >\": 273, \"Damage <\": 208, \"Gulag\": \"L\", \"% moving\": 95.5, \"Game duration\": \"27\", \"Loadout_1\": \"iw8_lm_t9fastfire - iw8_pi_mike\", \"Loadout_2\": \"iw8_pi_t9semiauto - iw8_fists\", \"Loadout_3\": \"-\"}, {\"Mode\": \"Duos\", \"Ended at\": \"2021-11-13T00:23:53\", \"Team\": \"forty_one\", \"Username\": \"RogueWilly\", \"Playtime\": \"21:37\", \"#\": 13, \"KD\": 2.0, \"Kills\": 4, \"Deaths\": 2, \"Assists\": 1, \"Damage >\": 1360, \"Damage <\": 333, \"Gulag\": \"W\", \"% moving\": 80.3, \"Game duration\": \"27\", \"Loadout_1\": \"iw8_ar_t9damage - iw8_sm_t9standard\", \"Loadout_2\": \"-\", \"Loadout_3\": \"-\"}, {\"Mode\": \"Duos\", \"Ended at\": \"2021-11-13T00:23:53\", \"Team\": \"five\", \"Username\": \"SZYGAR\", \"Playtime\": \"05:02\", \"#\": 62, \"KD\": 1.0, \"Kills\": 1, \"Deaths\": 1, \"Assists\": 0, \"Damage >\": 102, \"Damage <\": 293, \"Gulag\": \"W\", \"% moving\": 87.6, \"Game duration\": \"27\", \"Loadout_1\": \"iw8_sn_t9accurate - iw8_la_t9freefire\", \"Loadout_2\": \"iw8_pi_t9semiauto - iw8_fists\", \"Loadout_3\": \"-\"}, {\"Mode\": \"Duos\", \"Ended at\": \"2021-11-13T00:23:53\", \"Team\": \"fifty\", \"Username\": \"Arnautovic\", \"Playtime\": \"07:18\", \"#\": 46, \"KD\": 1.5, \"Kills\": 3, \"Deaths\": 2, \"Assists\": 0, \"Damage >\": 468, \"Damage <\": 282, \"Gulag\": \"W\", \"% moving\": 90.9, \"Game duration\": \"27\", \"Loadout_1\": \"iw8_ar_t9british - iw8_sm_t9cqb\", \"Loadout_2\": \"iw8_pi_t9semiauto - iw8_fists\", \"Loadout_3\": \"-\"}, {\"Mode\": \"Duos\", \"Ended at\": \"2021-11-13T00:23:53\", \"Team\": \"twenty_eight\", \"Username\": \"Culus\", \"Playtime\": \"07:40\", \"#\": 45, \"KD\": 1.0, \"Kills\": 2, \"Deaths\": 2, \"Assists\": 0, \"Damage >\": 707, \"Damage <\": 300, \"Gulag\": \"W\", \"% moving\": 95.5, \"Game duration\": \"27\", \"Loadout_1\": \"iw8_sm_mpapa5 - iw8_sn_hdromeo\", \"Loadout_2\": \"-\", \"Loadout_3\": \"-\"}, {\"Mode\": \"Duos\", \"Ended at\": \"2021-11-13T00:23:53\", \"Team\": \"seventy_two\", \"Username\": \"resWARy\", \"Playtime\": \"09:11\", \"#\": 38, \"KD\": 0.3, \"Kills\": 1, \"Deaths\": 3, \"Assists\": 0, \"Damage >\": 466, \"Damage <\": 528, \"Gulag\": \"W\", \"% moving\": 73.0, \"Game duration\": \"27\", \"Loadout_1\": \"iw8_ar_t9damage - iw8_sm_t9standard\", \"Loadout_2\": \"iw8_pi_t9semiauto - iw8_fists\", \"Loadout_3\": \"iw8_pi_t9semiauto - iw8_fists\"}, {\"Mode\": \"Duos\", \"Ended at\": \"2021-11-13T00:23:53\", \"Team\": \"fifty_eight\", \"Username\": \"W3BS1\", \"Playtime\": \"08:43\", \"#\": 36, \"KD\": 1.5, \"Kills\": 3, \"Deaths\": 2, \"Assists\": 0, \"Damage >\": 1064, \"Damage <\": 327, \"Gulag\": \"W\", \"% moving\": 88.4, \"Game duration\": \"27\", \"Loadout_1\": \"iw8_ar_galima - iw8_pi_t9fullauto\", \"Loadout_2\": \"iw8_pi_t9semiauto - iw8_fists\", \"Loadout_3\": \"-\"}, {\"Mode\": \"Duos\", \"Ended at\": \"2021-11-13T00:23:53\", \"Team\": \"twenty_one\", \"Username\": \"ciliK\", \"Playtime\": \"06:39\", \"#\": 53, \"KD\": 1.0, \"Kills\": 2, \"Deaths\": 2, \"Assists\": 0, \"Damage >\": 563, \"Damage <\": 460, \"Gulag\": \"W\", \"% moving\": 83.3, \"Game duration\": \"27\", \"Loadout_1\": \"s4_ar_stango44temp - iw8_sn_t9accurate\", \"Loadout_2\": \"-\", \"Loadout_3\": \"-\"}, {\"Mode\": \"Duos\", \"Ended at\": \"2021-11-13T00:23:53\", \"Team\": \"fifty_seven\", \"Username\": \"galaxyynot\", \"Playtime\": \"24:36\", \"#\": 12, \"KD\": 2.5, \"Kills\": 5, \"Deaths\": 2, \"Assists\": 0, \"Damage >\": 1023, \"Damage <\": 865, \"Gulag\": \"W\", \"% moving\": 87.3, \"Game duration\": \"27\", \"Loadout_1\": \"iw8_ar_t9british - iw8_sm_t9cqb\", \"Loadout_2\": \"-\", \"Loadout_3\": \"-\"}, {\"Mode\": \"Duos\", \"Ended at\": \"2021-11-13T00:23:53\", \"Team\": \"sixty_two\", \"Username\": \"VIKING\", \"Playtime\": \"02:59\", \"#\": 74, \"KD\": 0.0, \"Kills\": 0, \"Deaths\": 2, \"Assists\": 1, \"Damage >\": 27, \"Damage <\": 393, \"Gulag\": \"L\", \"% moving\": 79.6, \"Game duration\": \"27\", \"Loadout_1\": \"iw8_sn_kilo98 - iw8_pi_mike9\", \"Loadout_2\": \"iw8_pi_t9semiauto - iw8_fists\", \"Loadout_3\": \"-\"}, {\"Mode\": \"Duos\", \"Ended at\": \"2021-11-13T00:23:53\", \"Team\": \"twenty_four\", \"Username\": \"thedutyman666\", \"Playtime\": \"06:28\", \"#\": 54, \"KD\": 0.5, \"Kills\": 1, \"Deaths\": 2, \"Assists\": 1, \"Damage >\": 563, \"Damage <\": 453, \"Gulag\": \"W\", \"% moving\": 97.7, \"Game duration\": \"27\", \"Loadout_1\": \"iw8_sm_t9season6 - iw8_pi_golf21\", \"Loadout_2\": \"iw8_pi_t9semiauto - iw8_fists\", \"Loadout_3\": \"-\"}, {\"Mode\": \"Duos\", \"Ended at\": \"2021-11-13T00:23:53\", \"Team\": \"twenty\", \"Username\": \"\\u30a2\\u30e9\\u30b8\\u30f3\", \"Playtime\": \"03:43\", \"#\": 67, \"KD\": 0.5, \"Kills\": 1, \"Deaths\": 2, \"Assists\": 0, \"Damage >\": 108, \"Damage <\": 400, \"Gulag\": \"W\", \"% moving\": 94.2, \"Game duration\": \"27\", \"Loadout_1\": \"iw8_ar_t9british - iw8_la_rpapa7\", \"Loadout_2\": \"-\", \"Loadout_3\": \"-\"}, {\"Mode\": \"Duos\", \"Ended at\": \"2021-11-13T00:23:53\", \"Team\": \"forty_five\", \"Username\": \"Melnux\", \"Playtime\": \"10:53\", \"#\": 29, \"KD\": 0.0, \"Kills\": 0, \"Deaths\": 3, \"Assists\": 0, \"Damage >\": 213, \"Damage <\": 486, \"Gulag\": \"L\", \"% moving\": 66.1, \"Game duration\": \"27\", \"Loadout_1\": \"iw8_sm_t9capacity - iw8_sn_kilo98\", \"Loadout_2\": \"iw8_pi_t9semiauto - iw8_fists\", \"Loadout_3\": \"iw8_sm_t9cqb - iw8_fists\"}, {\"Mode\": \"Duos\", \"Ended at\": \"2021-11-13T00:23:53\", \"Team\": \"forty_six\", \"Username\": \"markasimo72\", \"Playtime\": \"05:01\", \"#\": 65, \"KD\": 0.0, \"Kills\": 0, \"Deaths\": 2, \"Assists\": 0, \"Damage >\": 330, \"Damage <\": 206, \"Gulag\": \"L\", \"% moving\": 77.6, \"Game duration\": \"27\", \"Loadout_1\": \"iw8_sn_kilo98 - iw8_sm_t9fastfire\", \"Loadout_2\": \"-\", \"Loadout_3\": \"-\"}, {\"Mode\": \"Duos\", \"Ended at\": \"2021-11-13T00:23:53\", \"Team\": \"twenty_five\", \"Username\": \"carriola94\", \"Playtime\": \"28:14\", \"#\": 4, \"KD\": 8.0, \"Kills\": 8, \"Deaths\": 1, \"Assists\": 1, \"Damage >\": 3501, \"Damage <\": 170, \"Gulag\": \"L\", \"% moving\": 90.0, \"Game duration\": \"27\", \"Loadout_1\": \"iw8_ar_t9british - iw8_sm_t9standard\", \"Loadout_2\": \"iw8_pi_t9semiauto - iw8_fists\", \"Loadout_3\": \"-\"}, {\"Mode\": \"Duos\", \"Ended at\": \"2021-11-13T00:23:53\", \"Team\": \"thirty_eight\", \"Username\": \"Brunoxx\", \"Playtime\": \"26:44\", \"#\": 6, \"KD\": 0.0, \"Kills\": 0, \"Deaths\": 4, \"Assists\": 0, \"Damage >\": 1290, \"Damage <\": 526, \"Gulag\": \"L\", \"% moving\": 72.4, \"Game duration\": \"27\", \"Loadout_1\": \"iw8_sm_t9capacity - iw8_sn_kilo98\", \"Loadout_2\": \"iw8_sm_t9cqb - iw8_fists\", \"Loadout_3\": \"iw8_pi_t9semiauto - iw8_fists\"}, {\"Mode\": \"Duos\", \"Ended at\": \"2021-11-13T00:23:53\", \"Team\": \"fifty_one\", \"Username\": \"LostCHACKA\", \"Playtime\": \"03:14\", \"#\": 68, \"KD\": 1.0, \"Kills\": 1, \"Deaths\": 0, \"Assists\": 0, \"Damage >\": 200, \"Damage <\": 0, \"Gulag\": \"L\", \"% moving\": 98.1, \"Game duration\": \"27\", \"Loadout_1\": \"iw8_sm_t9capacity - iw8_sn_t9accurate\", \"Loadout_2\": \"iw8_pi_t9semiauto - iw8_fists\", \"Loadout_3\": \"-\"}, {\"Mode\": \"Duos\", \"Ended at\": \"2021-11-13T00:23:53\", \"Team\": \"four\", \"Username\": \"PoLsKaBoY93\", \"Playtime\": \"09:55\", \"#\": 33, \"KD\": 0.0, \"Kills\": 0, \"Deaths\": 2, \"Assists\": 0, \"Damage >\": 379, \"Damage <\": 200, \"Gulag\": \"L\", \"% moving\": 77.7, \"Game duration\": \"27\", \"Loadout_1\": \"iw8_ar_t9damage - iw8_sm_t9spray\", \"Loadout_2\": \"iw8_pi_t9semiauto - iw8_fists\", \"Loadout_3\": \"-\"}, {\"Mode\": \"Duos\", \"Ended at\": \"2021-11-13T00:23:53\", \"Team\": \"forty\", \"Username\": \"PEP7s\", \"Playtime\": \"16:51\", \"#\": 19, \"KD\": 3.0, \"Kills\": 6, \"Deaths\": 2, \"Assists\": 1, \"Damage >\": 1326, \"Damage <\": 277, \"Gulag\": \"W\", \"% moving\": 95.8, \"Game duration\": \"27\", \"Loadout_1\": \"iw8_sm_mpapa5 - iw8_sn_t9accurate\", \"Loadout_2\": \"-\", \"Loadout_3\": \"-\"}, {\"Mode\": \"Duos\", \"Ended at\": \"2021-11-13T00:23:53\", \"Team\": \"eighteen\", \"Username\": \"3bor9\", \"Playtime\": \"06:59\", \"#\": 51, \"KD\": 1.0, \"Kills\": 2, \"Deaths\": 2, \"Assists\": 1, \"Damage >\": 412, \"Damage <\": 322, \"Gulag\": \"W\", \"% moving\": 97.0, \"Game duration\": \"27\", \"Loadout_1\": \"iw8_sn_hdromeo - iw8_pi_mike9\", \"Loadout_2\": \"iw8_pi_t9semiauto - iw8_fists\", \"Loadout_3\": \"-\"}, {\"Mode\": \"Duos\", \"Ended at\": \"2021-11-13T00:23:53\", \"Team\": \"seventy_four\", \"Username\": \"xXSkulll57Xx\", \"Playtime\": \"29:04\", \"#\": 28, \"KD\": 1.0, \"Kills\": 2, \"Deaths\": 2, \"Assists\": 0, \"Damage >\": 755, \"Damage <\": 405, \"Gulag\": \"L\", \"% moving\": 28.2, \"Game duration\": \"27\", \"Loadout_1\": \"iw8_ar_t9damage - iw8_sn_t9accurate\", \"Loadout_2\": \"-\", \"Loadout_3\": \"-\"}, {\"Mode\": \"Duos\", \"Ended at\": \"2021-11-13T00:23:53\", \"Team\": \"thirty_one\", \"Username\": \"Cab\", \"Playtime\": \"00:53\", \"#\": 76, \"KD\": 0.0, \"Kills\": 0, \"Deaths\": 0, \"Assists\": 0, \"Damage >\": 0, \"Damage <\": 0, \"Gulag\": \"L\", \"% moving\": 0.0, \"Game duration\": \"27\", \"Loadout_1\": \"-\", \"Loadout_2\": \"-\", \"Loadout_3\": \"-\"}, {\"Mode\": \"Duos\", \"Ended at\": \"2021-11-13T00:23:53\", \"Team\": \"fifty_four\", \"Username\": \"Bugi\", \"Playtime\": \"12:20\", \"#\": 26, \"KD\": 0.0, \"Kills\": 0, \"Deaths\": 2, \"Assists\": 0, \"Damage >\": 290, \"Damage <\": 379, \"Gulag\": \"L\", \"% moving\": 64.1, \"Game duration\": \"27\", \"Loadout_1\": \"iw8_sm_t9cqb - iw8_ar_t9british\", \"Loadout_2\": \"iw8_pi_t9semiauto - iw8_fists\", \"Loadout_3\": \"-\"}, {\"Mode\": \"Duos\", \"Ended at\": \"2021-11-13T00:23:53\", \"Team\": \"twenty_one\", \"Username\": \"Agir\", \"Playtime\": \"06:38\", \"#\": 53, \"KD\": 0.0, \"Kills\": 0, \"Deaths\": 2, \"Assists\": 2, \"Damage >\": 545, \"Damage <\": 300, \"Gulag\": \"L\", \"% moving\": 48.1, \"Game duration\": \"27\", \"Loadout_1\": \"iw8_ar_t9season6 - iw8_me_t9sai\", \"Loadout_2\": \"iw8_pi_t9semiauto - iw8_fists\", \"Loadout_3\": \"-\"}, {\"Mode\": \"Duos\", \"Ended at\": \"2021-11-13T00:23:53\", \"Team\": \"thirty_six\", \"Username\": \"TTS349\", \"Playtime\": \"21:01\", \"#\": 14, \"KD\": 1.3, \"Kills\": 4, \"Deaths\": 3, \"Assists\": 0, \"Damage >\": 1824, \"Damage <\": 500, \"Gulag\": \"W\", \"% moving\": 81.5, \"Game duration\": \"27\", \"Loadout_1\": \"iw8_ar_tango21 - iw8_sm_t9cqb\", \"Loadout_2\": \"iw8_pi_t9semiauto - iw8_fists\", \"Loadout_3\": \"iw8_pi_t9semiauto - iw8_fists\"}, {\"Mode\": \"Duos\", \"Ended at\": \"2021-11-13T00:23:53\", \"Team\": \"fourteen\", \"Username\": \"skloddi\", \"Playtime\": \"07:14\", \"#\": 50, \"KD\": 0.7, \"Kills\": 2, \"Deaths\": 3, \"Assists\": 0, \"Damage >\": 312, \"Damage <\": 500, \"Gulag\": \"L\", \"% moving\": 65.6, \"Game duration\": \"27\", \"Loadout_1\": \"iw8_sm_t9cqb - iw8_ar_t9british\", \"Loadout_2\": \"iw8_pi_t9semiauto - iw8_fists\", \"Loadout_3\": \"iw8_ar_t9fasthandling - iw8_fists\"}, {\"Mode\": \"Duos\", \"Ended at\": \"2021-11-13T00:23:53\", \"Team\": \"nine\", \"Username\": \"Hyse\", \"Playtime\": \"28:01\", \"#\": 2, \"KD\": 1.0, \"Kills\": 1, \"Deaths\": 1, \"Assists\": 1, \"Damage >\": 1149, \"Damage <\": 625, \"Gulag\": \"L\", \"% moving\": 84.0, \"Game duration\": \"27\", \"Loadout_1\": \"iw8_sn_kilo98 - iw8_la_rpapa7\", \"Loadout_2\": \"iw8_pi_t9semiauto - iw8_fists\", \"Loadout_3\": \"-\"}, {\"Mode\": \"Duos\", \"Ended at\": \"2021-11-13T00:23:53\", \"Team\": \"sixty\", \"Username\": \"Bumbumbum99\", \"Playtime\": \"10:11\", \"#\": 32, \"KD\": 1.0, \"Kills\": 2, \"Deaths\": 2, \"Assists\": 0, \"Damage >\": 451, \"Damage <\": 387, \"Gulag\": \"L\", \"% moving\": 90.9, \"Game duration\": \"27\", \"Loadout_1\": \"iw8_ar_mike4 - iw8_me_t9sai\", \"Loadout_2\": \"-\", \"Loadout_3\": \"-\"}, {\"Mode\": \"Duos\", \"Ended at\": \"2021-11-13T00:23:53\", \"Team\": \"sixty\", \"Username\": \"Anru_dk\", \"Playtime\": \"10:26\", \"#\": 32, \"KD\": 1.0, \"Kills\": 2, \"Deaths\": 2, \"Assists\": 0, \"Damage >\": 608, \"Damage <\": 490, \"Gulag\": \"W\", \"% moving\": 92.8, \"Game duration\": \"27\", \"Loadout_1\": \"iw8_ar_t9damage - iw8_sn_t9accurate\", \"Loadout_2\": \"iw8_pi_t9semiauto - iw8_fists\", \"Loadout_3\": \"-\"}, {\"Mode\": \"Duos\", \"Ended at\": \"2021-11-13T00:23:53\", \"Team\": \"thirty_three\", \"Username\": \"777\", \"Playtime\": \"16:08\", \"#\": 20, \"KD\": 1.0, \"Kills\": 2, \"Deaths\": 2, \"Assists\": 1, \"Damage >\": 682, \"Damage <\": 317, \"Gulag\": \"W\", \"% moving\": 93.4, \"Game duration\": \"27\", \"Loadout_1\": \"iw8_ar_t9slowhandling - iw8_sn_kilo98\", \"Loadout_2\": \"iw8_pi_t9semiauto - iw8_fists\", \"Loadout_3\": \"-\"}, {\"Mode\": \"Duos\", \"Ended at\": \"2021-11-13T00:23:53\", \"Team\": \"forty_two\", \"Username\": \"MagicPants\", \"Playtime\": \"06:20\", \"#\": 55, \"KD\": 0.0, \"Kills\": 0, \"Deaths\": 2, \"Assists\": 0, \"Damage >\": 350, \"Damage <\": 301, \"Gulag\": \"L\", \"% moving\": 71.2, \"Game duration\": \"27\", \"Loadout_1\": \"iw8_ar_t9british - iw8_pi_t9semiauto\", \"Loadout_2\": \"-\", \"Loadout_3\": \"-\"}, {\"Mode\": \"Duos\", \"Ended at\": \"2021-11-13T00:23:53\", \"Team\": \"thirty\", \"Username\": \"Mial\", \"Playtime\": \"19:44\", \"#\": 15, \"KD\": 2.5, \"Kills\": 5, \"Deaths\": 2, \"Assists\": 0, \"Damage >\": 2136, \"Damage <\": 310, \"Gulag\": \"W\", \"% moving\": 97.3, \"Game duration\": \"27\", \"Loadout_1\": \"iw8_sm_t9cqb - iw8_ar_t9british\", \"Loadout_2\": \"iw8_pi_t9semiauto - iw8_fists\", \"Loadout_3\": \"-\"}, {\"Mode\": \"Duos\", \"Ended at\": \"2021-11-13T00:23:53\", \"Team\": \"axis\", \"Username\": \"Sandzos91\", \"Playtime\": \"10:22\", \"#\": 31, \"KD\": 1.5, \"Kills\": 3, \"Deaths\": 2, \"Assists\": 0, \"Damage >\": 1132, \"Damage <\": 316, \"Gulag\": \"W\", \"% moving\": 97.0, \"Game duration\": \"27\", \"Loadout_1\": \"iw8_ar_t9slowhandling - iw8_sm_t9cqb\", \"Loadout_2\": \"-\", \"Loadout_3\": \"-\"}, {\"Mode\": \"Duos\", \"Ended at\": \"2021-11-13T00:23:53\", \"Team\": \"seventy_one\", \"Username\": \"Bail O Dhia\", \"Playtime\": \"06:17\", \"#\": 58, \"KD\": 0.5, \"Kills\": 1, \"Deaths\": 2, \"Assists\": 1, \"Damage >\": 295, \"Damage <\": 281, \"Gulag\": \"W\", \"% moving\": 92.8, \"Game duration\": \"27\", \"Loadout_1\": \"iw8_me_riotshield - iw8_me_t9machete\", \"Loadout_2\": \"-\", \"Loadout_3\": \"-\"}, {\"Mode\": \"Duos\", \"Ended at\": \"2021-11-13T00:23:53\", \"Team\": \"forty_three\", \"Username\": \"S2mle100lesh\", \"Playtime\": \"09:22\", \"#\": 34, \"KD\": 0.5, \"Kills\": 1, \"Deaths\": 2, \"Assists\": 1, \"Damage >\": 586, \"Damage <\": 301, \"Gulag\": \"L\", \"% moving\": 58.4, \"Game duration\": \"27\", \"Loadout_1\": \"iw8_ar_t9standard - iw8_sn_t9accurate\", \"Loadout_2\": \"iw8_pi_t9semiauto - iw8_fists\", \"Loadout_3\": \"iw8_sm_t9cqb - iw8_fists\"}, {\"Mode\": \"Duos\", \"Ended at\": \"2021-11-13T00:23:53\", \"Team\": \"seventy_five\", \"Username\": \"Neno\", \"Playtime\": \"03:23\", \"#\": 72, \"KD\": 2.0, \"Kills\": 2, \"Deaths\": 1, \"Assists\": 0, \"Damage >\": 596, \"Damage <\": 100, \"Gulag\": \"L\", \"% moving\": 100.0, \"Game duration\": \"27\", \"Loadout_1\": \"iw8_ar_t9damage - iw8_sn_kilo98\", \"Loadout_2\": \"iw8_pi_t9semiauto - iw8_fists\", \"Loadout_3\": \"-\"}, {\"Mode\": \"Duos\", \"Ended at\": \"2021-11-13T00:23:53\", \"Team\": \"seventy_two\", \"Username\": \"Zalbadar\", \"Playtime\": \"09:11\", \"#\": 38, \"KD\": 0.5, \"Kills\": 1, \"Deaths\": 2, \"Assists\": 0, \"Damage >\": 303, \"Damage <\": 569, \"Gulag\": \"W\", \"% moving\": 86.1, \"Game duration\": \"27\", \"Loadout_1\": \"iw8_sm_t9cqb - iw8_sn_t9accurate\", \"Loadout_2\": \"-\", \"Loadout_3\": \"-\"}, {\"Mode\": \"Duos\", \"Ended at\": \"2021-11-13T00:23:53\", \"Team\": \"twelve\", \"Username\": \"PLAZA\", \"Playtime\": \"16:59\", \"#\": 18, \"KD\": 1.5, \"Kills\": 3, \"Deaths\": 2, \"Assists\": 0, \"Damage >\": 589, \"Damage <\": 386, \"Gulag\": \"W\", \"% moving\": 93.5, \"Game duration\": \"27\", \"Loadout_1\": \"iw8_sm_t9accurate - iw8_ar_mike4\", \"Loadout_2\": \"iw8_pi_t9semiauto - iw8_fists\", \"Loadout_3\": \"-\"}, {\"Mode\": \"Duos\", \"Ended at\": \"2021-11-13T00:23:53\", \"Team\": \"fourteen\", \"Username\": \"SanMiquel88\", \"Playtime\": \"07:13\", \"#\": 50, \"KD\": 0.0, \"Kills\": 0, \"Deaths\": 2, \"Assists\": 0, \"Damage >\": 93, \"Damage <\": 200, \"Gulag\": \"L\", \"% moving\": 99.1, \"Game duration\": \"27\", \"Loadout_1\": \"iw8_sn_t9accurate - iw8_sm_t9cqb\", \"Loadout_2\": \"iw8_pi_t9semiauto - iw8_fists\", \"Loadout_3\": \"-\"}, {\"Mode\": \"Duos\", \"Ended at\": \"2021-11-13T00:23:53\", \"Team\": \"twenty_seven\", \"Username\": \"E-G-J  RaGnA 23\", \"Playtime\": \"03:42\", \"#\": 71, \"KD\": 0.0, \"Kills\": 0, \"Deaths\": 2, \"Assists\": 0, \"Damage >\": 77, \"Damage <\": 240, \"Gulag\": \"L\", \"% moving\": 87.0, \"Game duration\": \"27\", \"Loadout_1\": \"iw8_sm_t9accurate - iw8_sn_t9accurate\", \"Loadout_2\": \"-\", \"Loadout_3\": \"-\"}, {\"Mode\": \"Duos\", \"Ended at\": \"2021-11-13T00:23:53\", \"Team\": \"fifteen\", \"Username\": \"doMi\", \"Playtime\": \"19:11\", \"#\": 16, \"KD\": 1.7, \"Kills\": 5, \"Deaths\": 3, \"Assists\": 0, \"Damage >\": 1087, \"Damage <\": 378, \"Gulag\": \"L\", \"% moving\": 87.3, \"Game duration\": \"27\", \"Loadout_1\": \"iw8_ar_t9damage - iw8_sm_t9spray\", \"Loadout_2\": \"iw8_pi_t9semiauto - iw8_fists\", \"Loadout_3\": \"iw8_sh_t9pump - iw8_fists\"}, {\"Mode\": \"Duos\", \"Ended at\": \"2021-11-13T00:23:53\", \"Team\": \"five\", \"Username\": \"Pajdowski\", \"Playtime\": \"04:25\", \"#\": 62, \"KD\": 0.0, \"Kills\": 0, \"Deaths\": 0, \"Assists\": 1, \"Damage >\": 296, \"Damage <\": 106, \"Gulag\": \"L\", \"% moving\": 92.7, \"Game duration\": \"27\", \"Loadout_1\": \"iw8_ar_t9standard - iw8_sm_t9cqb\", \"Loadout_2\": \"-\", \"Loadout_3\": \"-\"}, {\"Mode\": \"Duos\", \"Ended at\": \"2021-11-13T00:23:53\", \"Team\": \"twenty_four\", \"Username\": \"j\\u00e6dienzomansith\", \"Playtime\": \"06:27\", \"#\": 54, \"KD\": 1.0, \"Kills\": 2, \"Deaths\": 2, \"Assists\": 0, \"Damage >\": 417, \"Damage <\": 402, \"Gulag\": \"W\", \"% moving\": 89.4, \"Game duration\": \"27\", \"Loadout_1\": \"iw8_ar_tango21 - iw8_pi_papa320\", \"Loadout_2\": \"iw8_pi_t9semiauto - iw8_fists\", \"Loadout_3\": \"-\"}, {\"Mode\": \"Duos\", \"Ended at\": \"2021-11-13T00:23:53\", \"Team\": \"fifty\", \"Username\": \"Pinzio\", \"Playtime\": \"07:33\", \"#\": 46, \"KD\": 0.5, \"Kills\": 1, \"Deaths\": 2, \"Assists\": 0, \"Damage >\": 142, \"Damage <\": 322, \"Gulag\": \"L\", \"% moving\": 45.5, \"Game duration\": \"27\", \"Loadout_1\": \"iw8_sm_mpapa7 - iw8_sn_t9accurate\", \"Loadout_2\": \"-\", \"Loadout_3\": \"-\"}, {\"Mode\": \"Duos\", \"Ended at\": \"2021-11-13T00:23:53\", \"Team\": \"thirty_nine\", \"Username\": \"Pilota93\", \"Playtime\": \"05:55\", \"#\": 57, \"KD\": 0.0, \"Kills\": 0, \"Deaths\": 3, \"Assists\": 0, \"Damage >\": 215, \"Damage <\": 492, \"Gulag\": \"L\", \"% moving\": 64.5, \"Game duration\": \"27\", \"Loadout_1\": \"iw8_ar_mcharlie - iw8_pi_t9burst\", \"Loadout_2\": \"iw8_sm_t9cqb - iw8_fists\", \"Loadout_3\": \"-\"}, {\"Mode\": \"Duos\", \"Ended at\": \"2021-11-13T00:23:53\", \"Team\": \"nine\", \"Username\": \"UrCrush\", \"Playtime\": \"28:04\", \"#\": 2, \"KD\": 8.0, \"Kills\": 8, \"Deaths\": 1, \"Assists\": 0, \"Damage >\": 2735, \"Damage <\": 390, \"Gulag\": \"L\", \"% moving\": 93.8, \"Game duration\": \"27\", \"Loadout_1\": \"iw8_ar_t9damage - iw8_knife\", \"Loadout_2\": \"iw8_pi_t9semiauto - iw8_fists\", \"Loadout_3\": \"-\"}, {\"Mode\": \"Duos\", \"Ended at\": \"2021-11-13T00:23:53\", \"Team\": \"nineteen\", \"Username\": \"Ge off du huan\", \"Playtime\": \"13:20\", \"#\": 22, \"KD\": 0.0, \"Kills\": 0, \"Deaths\": 3, \"Assists\": 0, \"Damage >\": 494, \"Damage <\": 454, \"Gulag\": \"L\", \"% moving\": 55.0, \"Game duration\": \"27\", \"Loadout_1\": \"iw8_ar_t9damage - iw8_sm_t9cqb\", \"Loadout_2\": \"iw8_pi_t9semiauto - iw8_fists\", \"Loadout_3\": \"iw8_pi_t9revolver - iw8_fists\"}, {\"Mode\": \"Duos\", \"Ended at\": \"2021-11-13T00:23:53\", \"Team\": \"thirty_three\", \"Username\": \"fi\\u0107oxbot\", \"Playtime\": \"16:19\", \"#\": 20, \"KD\": 3.5, \"Kills\": 7, \"Deaths\": 2, \"Assists\": 0, \"Damage >\": 2536, \"Damage <\": 697, \"Gulag\": \"L\", \"% moving\": 91.8, \"Game duration\": \"27\", \"Loadout_1\": \"iw8_sm_t9cqb - iw8_ar_t9british\", \"Loadout_2\": \"iw8_pi_t9semiauto - iw8_fists\", \"Loadout_3\": \"-\"}, {\"Mode\": \"Duos\", \"Ended at\": \"2021-11-13T00:23:53\", \"Team\": \"thirty_seven\", \"Username\": \"Andreas\", \"Playtime\": \"05:46\", \"#\": 59, \"KD\": 0.0, \"Kills\": 0, \"Deaths\": 2, \"Assists\": 1, \"Damage >\": 94, \"Damage <\": 299, \"Gulag\": \"L\", \"% moving\": 44.2, \"Game duration\": \"27\", \"Loadout_1\": \"iw8_ar_t9slowhandling - iw8_sm_t9spray\", \"Loadout_2\": \"-\", \"Loadout_3\": \"-\"}, {\"Mode\": \"Duos\", \"Ended at\": \"2021-11-13T00:23:53\", \"Team\": \"forty_two\", \"Username\": \"Leon\", \"Playtime\": \"06:20\", \"#\": 55, \"KD\": 0.0, \"Kills\": 0, \"Deaths\": 2, \"Assists\": 0, \"Damage >\": 190, \"Damage <\": 200, \"Gulag\": \"L\", \"% moving\": 83.1, \"Game duration\": \"27\", \"Loadout_1\": \"iw8_sn_t9accurate - iw8_pi_t9fullauto\", \"Loadout_2\": \"iw8_pi_t9semiauto - iw8_fists\", \"Loadout_3\": \"-\"}, {\"Mode\": \"Duos\", \"Ended at\": \"2021-11-13T00:23:53\", \"Team\": \"seventeen\", \"Username\": \"Haluk57\", \"Playtime\": \"25:28\", \"#\": 5, \"KD\": 2.5, \"Kills\": 5, \"Deaths\": 2, \"Assists\": 3, \"Damage >\": 2074, \"Damage <\": 634, \"Gulag\": \"W\", \"% moving\": 96.7, \"Game duration\": \"27\", \"Loadout_1\": \"iw8_ar_asierra12 - iw8_sm_t9capacity\", \"Loadout_2\": \"iw8_pi_t9semiauto - iw8_fists\", \"Loadout_3\": \"-\"}, {\"Mode\": \"Duos\", \"Ended at\": \"2021-11-13T00:23:53\", \"Team\": \"seventy_one\", \"Username\": \"Kev Timoney\", \"Playtime\": \"06:01\", \"#\": 58, \"KD\": 1.0, \"Kills\": 2, \"Deaths\": 2, \"Assists\": 1, \"Damage >\": 362, \"Damage <\": 300, \"Gulag\": \"W\", \"% moving\": 89.3, \"Game duration\": \"27\", \"Loadout_1\": \"iw8_ar_sierra552 - iw8_sn_kilo98\", \"Loadout_2\": \"iw8_pi_t9semiauto - iw8_fists\", \"Loadout_3\": \"-\"}, {\"Mode\": \"Duos\", \"Ended at\": \"2021-11-13T00:23:53\", \"Team\": \"forty_five\", \"Username\": \"matzpaff\", \"Playtime\": \"10:51\", \"#\": 29, \"KD\": 1.0, \"Kills\": 2, \"Deaths\": 2, \"Assists\": 0, \"Damage >\": 409, \"Damage <\": 444, \"Gulag\": \"W\", \"% moving\": 88.4, \"Game duration\": \"27\", \"Loadout_1\": \"iw8_sn_t9accurate - iw8_sm_mpapa5\", \"Loadout_2\": \"iw8_pi_t9semiauto - iw8_fists\", \"Loadout_3\": \"-\"}, {\"Mode\": \"Duos\", \"Ended at\": \"2021-11-13T00:23:53\", \"Team\": \"sixty_nine\", \"Username\": \"angelsx82\", \"Playtime\": \"15:36\", \"#\": 21, \"KD\": 1.0, \"Kills\": 2, \"Deaths\": 2, \"Assists\": 1, \"Damage >\": 540, \"Damage <\": 356, \"Gulag\": \"W\", \"% moving\": 91.6, \"Game duration\": \"27\", \"Loadout_1\": \"iw8_ar_mike4 - iw8_sn_kilo98\", \"Loadout_2\": \"-\", \"Loadout_3\": \"-\"}, {\"Mode\": \"Duos\", \"Ended at\": \"2021-11-13T00:23:53\", \"Team\": \"sixty_three\", \"Username\": \"NINJA\", \"Playtime\": \"23:35\", \"#\": 11, \"KD\": 3.0, \"Kills\": 3, \"Deaths\": 1, \"Assists\": 0, \"Damage >\": 1350, \"Damage <\": 370, \"Gulag\": \"L\", \"% moving\": 96.6, \"Game duration\": \"27\", \"Loadout_1\": \"iw8_ar_t9british - iw8_pi_cpapa\", \"Loadout_2\": \"iw8_pi_t9semiauto - iw8_fists\", \"Loadout_3\": \"-\"}, {\"Mode\": \"Duos\", \"Ended at\": \"2021-11-13T00:23:53\", \"Team\": \"eleven\", \"Username\": \"HiddenPants\", \"Playtime\": \"08:07\", \"#\": 44, \"KD\": 0.5, \"Kills\": 1, \"Deaths\": 2, \"Assists\": 0, \"Damage >\": 452, \"Damage <\": 280, \"Gulag\": \"L\", \"% moving\": 86.5, \"Game duration\": \"27\", \"Loadout_1\": \"iw8_ar_t9fasthandling - iw8_ar_t9slowhandling\", \"Loadout_2\": \"iw8_pi_t9semiauto - iw8_fists\", \"Loadout_3\": \"-\"}, {\"Mode\": \"Duos\", \"Ended at\": \"2021-11-13T00:23:53\", \"Team\": \"sixty_three\", \"Username\": \"Lukaha1000\", \"Playtime\": \"23:37\", \"#\": 11, \"KD\": 1.0, \"Kills\": 1, \"Deaths\": 1, \"Assists\": 1, \"Damage >\": 723, \"Damage <\": 813, \"Gulag\": \"L\", \"% moving\": 93.6, \"Game duration\": \"27\", \"Loadout_1\": \"iw8_ar_akilo47 - iw8_sn_kilo98\", \"Loadout_2\": \"-\", \"Loadout_3\": \"-\"}, {\"Mode\": \"Duos\", \"Ended at\": \"2021-11-13T00:23:53\", \"Team\": \"forty_eight\", \"Username\": \"therealsaele\", \"Playtime\": \"24:04\", \"#\": 10, \"KD\": 0.7, \"Kills\": 2, \"Deaths\": 3, \"Assists\": 1, \"Damage >\": 1320, \"Damage <\": 512, \"Gulag\": \"L\", \"% moving\": 91.4, \"Game duration\": \"27\", \"Loadout_1\": \"iw8_sn_kilo98 - iw8_pi_mike1911\", \"Loadout_2\": \"iw8_sh_t9pump - iw8_fists\", \"Loadout_3\": \"-\"}, {\"Mode\": \"Duos\", \"Ended at\": \"2021-11-13T00:23:53\", \"Team\": \"thirty_four\", \"Username\": \"NiLhAXxX\", \"Playtime\": \"05:01\", \"#\": 63, \"KD\": 0.5, \"Kills\": 1, \"Deaths\": 2, \"Assists\": 0, \"Damage >\": 348, \"Damage <\": 300, \"Gulag\": \"L\", \"% moving\": 71.8, \"Game duration\": \"27\", \"Loadout_1\": \"iw8_sm_t9fastfire - iw8_sn_t9accurate\", \"Loadout_2\": \"iw8_pi_t9semiauto - iw8_fists\", \"Loadout_3\": \"-\"}, {\"Mode\": \"Duos\", \"Ended at\": \"2021-11-13T00:23:53\", \"Team\": \"fifty_five\", \"Username\": \"Aurel8787\", \"Playtime\": \"09:19\", \"#\": 37, \"KD\": 0.5, \"Kills\": 1, \"Deaths\": 2, \"Assists\": 0, \"Damage >\": 287, \"Damage <\": 396, \"Gulag\": \"W\", \"% moving\": 94.3, \"Game duration\": \"27\", \"Loadout_1\": \"iw8_sm_t9capacity - iw8_sn_t9accurate\", \"Loadout_2\": \"-\", \"Loadout_3\": \"-\"}, {\"Mode\": \"Duos\", \"Ended at\": \"2021-11-13T00:23:53\", \"Team\": \"six\", \"Username\": \"Mortel7Modjo\", \"Playtime\": \"12:37\", \"#\": 25, \"KD\": 0.3, \"Kills\": 1, \"Deaths\": 3, \"Assists\": 1, \"Damage >\": 612, \"Damage <\": 422, \"Gulag\": \"L\", \"% moving\": 69.0, \"Game duration\": \"27\", \"Loadout_1\": \"iw8_ar_t9damage - iw8_sn_kilo98\", \"Loadout_2\": \"iw8_pi_t9semiauto - iw8_fists\", \"Loadout_3\": \"iw8_sm_t9cqb - iw8_fists\"}, {\"Mode\": \"Duos\", \"Ended at\": \"2021-11-13T00:23:53\", \"Team\": \"thirty_five\", \"Username\": \"Wiggoooo96\", \"Playtime\": \"12:16\", \"#\": 27, \"KD\": 0.3, \"Kills\": 1, \"Deaths\": 3, \"Assists\": 0, \"Damage >\": 539, \"Damage <\": 408, \"Gulag\": \"L\", \"% moving\": 61.1, \"Game duration\": \"27\", \"Loadout_1\": \"iw8_ar_t9british - iw8_sm_t9cqb\", \"Loadout_2\": \"iw8_pi_t9semiauto - iw8_fists\", \"Loadout_3\": \"iw8_sn_t9damagesemi - iw8_fists\"}, {\"Mode\": \"Duos\", \"Ended at\": \"2021-11-13T00:23:53\", \"Team\": \"fifty_one\", \"Username\": \"Sn1perrang3r\", \"Playtime\": \"03:20\", \"#\": 68, \"KD\": 0.0, \"Kills\": 0, \"Deaths\": 0, \"Assists\": 0, \"Damage >\": 0, \"Damage <\": 0, \"Gulag\": \"L\", \"% moving\": 97.0, \"Game duration\": \"27\", \"Loadout_1\": \"iw8_ar_mcharlie - iw8_sn_t9accurate\", \"Loadout_2\": \"iw8_pi_t9semiauto - iw8_fists\", \"Loadout_3\": \"-\"}, {\"Mode\": \"Duos\", \"Ended at\": \"2021-11-13T00:23:53\", \"Team\": \"sixty_one\", \"Username\": \"bmwdriver892\", \"Playtime\": \"25:22\", \"#\": 7, \"KD\": 0.5, \"Kills\": 2, \"Deaths\": 4, \"Assists\": 0, \"Damage >\": 464, \"Damage <\": 873, \"Gulag\": \"W\", \"% moving\": 69.1, \"Game duration\": \"27\", \"Loadout_1\": \"iw8_sn_t9standard - iw8_ar_t9accurate\", \"Loadout_2\": \"iw8_pi_t9semiauto - iw8_fists\", \"Loadout_3\": \"iw8_sn_t9accurate - iw8_pi_t9burst\"}, {\"Mode\": \"Duos\", \"Ended at\": \"2021-11-13T00:23:53\", \"Team\": \"three\", \"Username\": \"ThorJekes\", \"Playtime\": \"03:20\", \"#\": 69, \"KD\": 0.0, \"Kills\": 0, \"Deaths\": 2, \"Assists\": 0, \"Damage >\": 475, \"Damage <\": 314, \"Gulag\": \"L\", \"% moving\": 89.1, \"Game duration\": \"27\", \"Loadout_1\": \"iw8_ar_sierra552 - iw8_me_akimboblunt\", \"Loadout_2\": \"iw8_pi_t9semiauto - iw8_fists\", \"Loadout_3\": \"-\"}, {\"Mode\": \"Duos\", \"Ended at\": \"2021-11-13T00:23:53\", \"Team\": \"twenty_two\", \"Username\": \"KAR Cher\", \"Playtime\": \"07:15\", \"#\": 48, \"KD\": 2.0, \"Kills\": 4, \"Deaths\": 2, \"Assists\": 0, \"Damage >\": 1110, \"Damage <\": 305, \"Gulag\": \"W\", \"% moving\": 97.7, \"Game duration\": \"27\", \"Loadout_1\": \"iw8_sn_kilo98 - iw8_pi_mike\", \"Loadout_2\": \"iw8_pi_t9semiauto - iw8_fists\", \"Loadout_3\": \"-\"}, {\"Mode\": \"Duos\", \"Ended at\": \"2021-11-13T00:23:53\", \"Team\": \"thirty_six\", \"Username\": \"xxxkilerxxx\", \"Playtime\": \"21:01\", \"#\": 14, \"KD\": 0.3, \"Kills\": 1, \"Deaths\": 3, \"Assists\": 0, \"Damage >\": 392, \"Damage <\": 926, \"Gulag\": \"W\", \"% moving\": 73.5, \"Game duration\": \"27\", \"Loadout_1\": \"iw8_sm_t9cqb - iw8_ar_t9standard\", \"Loadout_2\": \"iw8_pi_t9semiauto - iw8_fists\", \"Loadout_3\": \"iw8_pi_t9semiauto - iw8_fists\"}, {\"Mode\": \"Duos\", \"Ended at\": \"2021-11-13T00:23:53\", \"Team\": \"fifteen\", \"Username\": \"rilup\", \"Playtime\": \"19:13\", \"#\": 16, \"KD\": 1.5, \"Kills\": 3, \"Deaths\": 2, \"Assists\": 2, \"Damage >\": 1578, \"Damage <\": 226, \"Gulag\": \"W\", \"% moving\": 94.0, \"Game duration\": \"27\", \"Loadout_1\": \"iw8_ar_t9damage - iw8_sm_t9capacity\", \"Loadout_2\": \"iw8_pi_t9semiauto - iw8_fists\", \"Loadout_3\": \"-\"}, {\"Mode\": \"Duos\", \"Ended at\": \"2021-11-13T00:23:53\", \"Team\": \"eight\", \"Username\": \"ElBigode\", \"Playtime\": \"08:23\", \"#\": 40, \"KD\": 0.0, \"Kills\": 0, \"Deaths\": 2, \"Assists\": 1, \"Damage >\": 355, \"Damage <\": 200, \"Gulag\": \"L\", \"% moving\": 35.4, \"Game duration\": \"27\", \"Loadout_1\": \"iw8_ar_t9damage - iw8_me_t9sai\", \"Loadout_2\": \"iw8_pi_t9semiauto - iw8_fists\", \"Loadout_3\": \"-\"}, {\"Mode\": \"Duos\", \"Ended at\": \"2021-11-13T00:23:53\", \"Team\": \"twenty_nine\", \"Username\": \"MeerJungJunge\", \"Playtime\": \"08:32\", \"#\": 43, \"KD\": 1.5, \"Kills\": 3, \"Deaths\": 2, \"Assists\": 1, \"Damage >\": 602, \"Damage <\": 381, \"Gulag\": \"W\", \"% moving\": 72.9, \"Game duration\": \"27\", \"Loadout_1\": \"iw8_ar_valpha - iw8_pi_t9burst\", \"Loadout_2\": \"iw8_pi_t9semiauto - iw8_fists\", \"Loadout_3\": \"-\"}, {\"Mode\": \"Duos\", \"Ended at\": \"2021-11-13T00:23:53\", \"Team\": \"ten\", \"Username\": \"BLOWEY\", \"Playtime\": \"05:02\", \"#\": 61, \"KD\": 0.5, \"Kills\": 1, \"Deaths\": 2, \"Assists\": 0, \"Damage >\": 212, \"Damage <\": 212, \"Gulag\": \"L\", \"% moving\": 76.1, \"Game duration\": \"27\", \"Loadout_1\": \"iw8_sn_t9accurate - iw8_sm_t9cqb\", \"Loadout_2\": \"iw8_pi_t9semiauto - iw8_fists\", \"Loadout_3\": \"-\"}, {\"Mode\": \"Duos\", \"Ended at\": \"2021-11-13T00:23:53\", \"Team\": \"sixty_nine\", \"Username\": \"stely1\", \"Playtime\": \"15:36\", \"#\": 21, \"KD\": 0.7, \"Kills\": 2, \"Deaths\": 3, \"Assists\": 1, \"Damage >\": 967, \"Damage <\": 527, \"Gulag\": \"L\", \"% moving\": 45.5, \"Game duration\": \"27\", \"Loadout_1\": \"iw8_ar_t9standard - iw8_sn_kilo98\", \"Loadout_2\": \"iw8_pi_t9semiauto - iw8_fists\", \"Loadout_3\": \"iw8_ar_t9slowfire - iw8_fists\"}]}}, {\"mode\": \"vega-lite\"});\n",
       "</script>"
      ],
      "text/plain": [
       "alt.LayerChart(...)"
      ]
     },
     "execution_count": 53,
     "metadata": {},
     "output_type": "execute_result"
    }
   ],
   "source": [
    "base = alt.Chart(df)         \n",
    "hist2 = base.mark_bar().encode(\n",
    "    x=alt.X('Kills:Q', bin=alt.BinParams(step=1)),\n",
    "    y=alt.Y('count()', axis=alt.Axis(format='', title='n Players')),\n",
    "    tooltip=['Kills'],\n",
    "    color=alt.value(\"orange\")\n",
    "\n",
    ").properties(width=400, height=300)         \n",
    "red_median_line = base.mark_rule(color='red').encode(\n",
    "    x=alt.X('median(Kills):Q', title='Kills'),\n",
    "    size=alt.value(3)\n",
    ")\n",
    "hist2 + red_median_line"
   ]
  },
  {
   "cell_type": "code",
   "execution_count": 54,
   "id": "04c1b874-67e4-43ec-a89f-1c8f8cc304c2",
   "metadata": {},
   "outputs": [
    {
     "data": {
      "text/html": [
       "\n",
       "<div id=\"altair-viz-9edc9201b5424305a5af91ac9bbdd5fd\"></div>\n",
       "<script type=\"text/javascript\">\n",
       "  (function(spec, embedOpt){\n",
       "    let outputDiv = document.currentScript.previousElementSibling;\n",
       "    if (outputDiv.id !== \"altair-viz-9edc9201b5424305a5af91ac9bbdd5fd\") {\n",
       "      outputDiv = document.getElementById(\"altair-viz-9edc9201b5424305a5af91ac9bbdd5fd\");\n",
       "    }\n",
       "    const paths = {\n",
       "      \"vega\": \"https://cdn.jsdelivr.net/npm//vega@5?noext\",\n",
       "      \"vega-lib\": \"https://cdn.jsdelivr.net/npm//vega-lib?noext\",\n",
       "      \"vega-lite\": \"https://cdn.jsdelivr.net/npm//vega-lite@4.8.1?noext\",\n",
       "      \"vega-embed\": \"https://cdn.jsdelivr.net/npm//vega-embed@6?noext\",\n",
       "    };\n",
       "\n",
       "    function loadScript(lib) {\n",
       "      return new Promise(function(resolve, reject) {\n",
       "        var s = document.createElement('script');\n",
       "        s.src = paths[lib];\n",
       "        s.async = true;\n",
       "        s.onload = () => resolve(paths[lib]);\n",
       "        s.onerror = () => reject(`Error loading script: ${paths[lib]}`);\n",
       "        document.getElementsByTagName(\"head\")[0].appendChild(s);\n",
       "      });\n",
       "    }\n",
       "\n",
       "    function showError(err) {\n",
       "      outputDiv.innerHTML = `<div class=\"error\" style=\"color:red;\">${err}</div>`;\n",
       "      throw err;\n",
       "    }\n",
       "\n",
       "    function displayChart(vegaEmbed) {\n",
       "      vegaEmbed(outputDiv, spec, embedOpt)\n",
       "        .catch(err => showError(`Javascript Error: ${err.message}<br>This usually means there's a typo in your chart specification. See the javascript console for the full traceback.`));\n",
       "    }\n",
       "\n",
       "    if(typeof define === \"function\" && define.amd) {\n",
       "      requirejs.config({paths});\n",
       "      require([\"vega-embed\"], displayChart, err => showError(`Error loading script: ${err.message}`));\n",
       "    } else if (typeof vegaEmbed === \"function\") {\n",
       "      displayChart(vegaEmbed);\n",
       "    } else {\n",
       "      loadScript(\"vega\")\n",
       "        .then(() => loadScript(\"vega-lite\"))\n",
       "        .then(() => loadScript(\"vega-embed\"))\n",
       "        .catch(showError)\n",
       "        .then(() => displayChart(vegaEmbed));\n",
       "    }\n",
       "  })({\"config\": {\"view\": {\"continuousWidth\": 400, \"continuousHeight\": 300}}, \"layer\": [{\"mark\": \"bar\", \"encoding\": {\"color\": {\"value\": \"orange\"}, \"tooltip\": [{\"type\": \"quantitative\", \"field\": \"Kills\"}, {\"type\": \"quantitative\", \"aggregate\": \"count\"}], \"x\": {\"type\": \"quantitative\", \"bin\": {\"step\": 1}, \"field\": \"Kills\"}, \"y\": {\"type\": \"quantitative\", \"aggregate\": \"count\", \"axis\": {\"format\": \"\", \"tickCount\": 10, \"title\": \"n Players\"}}}, \"height\": 200, \"width\": 400}, {\"mark\": {\"type\": \"rule\", \"color\": \"black\"}, \"encoding\": {\"size\": {\"value\": 2}, \"x\": {\"type\": \"quantitative\", \"aggregate\": \"median\", \"field\": \"KD\", \"title\": \"KD\"}}}], \"data\": {\"name\": \"data-d223583e8034f937c8605b99cda26242\"}, \"$schema\": \"https://vega.github.io/schema/vega-lite/v4.8.1.json\", \"datasets\": {\"data-d223583e8034f937c8605b99cda26242\": [{\"Mode\": \"Duos\", \"Ended at\": \"2021-11-13T00:23:53\", \"Team\": \"fifty_nine\", \"Username\": \"JUREK  KILLER\", \"Playtime\": \"12:47\", \"#\": 24, \"KD\": 0.3, \"Kills\": 1, \"Deaths\": 3, \"Assists\": 1, \"Damage >\": 468, \"Damage <\": 657, \"Gulag\": \"W\", \"% moving\": 69.8, \"Game duration\": \"27\", \"Loadout_1\": \"iw8_sm_t9fastfire - iw8_sn_t9accurate\", \"Loadout_2\": \"iw8_pi_t9semiauto - iw8_fists\", \"Loadout_3\": \"iw8_pi_t9semiauto - iw8_fists\"}, {\"Mode\": \"Duos\", \"Ended at\": \"2021-11-13T00:23:53\", \"Team\": \"twenty_six\", \"Username\": \"izKKoTV\", \"Playtime\": \"27:38\", \"#\": 3, \"KD\": 6.0, \"Kills\": 12, \"Deaths\": 2, \"Assists\": 1, \"Damage >\": 4101, \"Damage <\": 796, \"Gulag\": \"W\", \"% moving\": 83.2, \"Game duration\": \"27\", \"Loadout_1\": \"iw8_sn_t9accurate - iw8_sm_t9spray\", \"Loadout_2\": \"iw8_pi_t9semiauto - iw8_fists\", \"Loadout_3\": \"-\"}, {\"Mode\": \"Duos\", \"Ended at\": \"2021-11-13T00:23:53\", \"Team\": \"sixty_four\", \"Username\": \"ingdre\", \"Playtime\": \"03:34\", \"#\": 70, \"KD\": 0.0, \"Kills\": 0, \"Deaths\": 1, \"Assists\": 0, \"Damage >\": 52, \"Damage <\": 200, \"Gulag\": \"L\", \"% moving\": 89.1, \"Game duration\": \"27\", \"Loadout_1\": \"iw8_ar_t9standard - iw8_sm_t9standard\", \"Loadout_2\": \"-\", \"Loadout_3\": \"-\"}, {\"Mode\": \"Duos\", \"Ended at\": \"2021-11-13T00:23:53\", \"Team\": \"sixty_five\", \"Username\": \"SchulzLOL\", \"Playtime\": \"04:23\", \"#\": 64, \"KD\": 0.5, \"Kills\": 1, \"Deaths\": 2, \"Assists\": 1, \"Damage >\": 317, \"Damage <\": 260, \"Gulag\": \"W\", \"% moving\": 88.9, \"Game duration\": \"27\", \"Loadout_1\": \"iw8_sm_t9capacity - iw8_sn_t9accurate\", \"Loadout_2\": \"iw8_pi_t9semiauto - iw8_fists\", \"Loadout_3\": \"-\"}, {\"Mode\": \"Duos\", \"Ended at\": \"2021-11-13T00:23:53\", \"Team\": \"fifty_six\", \"Username\": \"REAJC\", \"Playtime\": \"05:01\", \"#\": 60, \"KD\": 0.0, \"Kills\": 0, \"Deaths\": 2, \"Assists\": 1, \"Damage >\": 88, \"Damage <\": 200, \"Gulag\": \"L\", \"% moving\": 81.9, \"Game duration\": \"27\", \"Loadout_1\": \"iw8_sm_t9accurate - iw8_ar_t9slowhandling\", \"Loadout_2\": \"-\", \"Loadout_3\": \"-\"}, {\"Mode\": \"Duos\", \"Ended at\": \"2021-11-13T00:23:53\", \"Team\": \"seventy_three\", \"Username\": \"EvaKant\", \"Playtime\": \"07:00\", \"#\": 47, \"KD\": 0.5, \"Kills\": 1, \"Deaths\": 2, \"Assists\": 1, \"Damage >\": 447, \"Damage <\": 200, \"Gulag\": \"L\", \"% moving\": 66.3, \"Game duration\": \"27\", \"Loadout_1\": \"iw8_ar_t9standard - iw8_sm_t9season6\", \"Loadout_2\": \"-\", \"Loadout_3\": \"-\"}, {\"Mode\": \"Duos\", \"Ended at\": \"2021-11-13T00:23:53\", \"Team\": \"forty_nine\", \"Username\": \"Mustakostaja\", \"Playtime\": \"07:51\", \"#\": 30, \"KD\": 0.0, \"Kills\": 0, \"Deaths\": 2, \"Assists\": 0, \"Damage >\": 113, \"Damage <\": 202, \"Gulag\": \"L\", \"% moving\": 66.2, \"Game duration\": \"27\", \"Loadout_1\": \"iw8_sn_t9accurate - iw8_sm_t9cqb\", \"Loadout_2\": \"iw8_pi_t9semiauto - iw8_fists\", \"Loadout_3\": \"-\"}, {\"Mode\": \"Duos\", \"Ended at\": \"2021-11-13T00:23:53\", \"Team\": \"seven\", \"Username\": \"Don Listepik\", \"Playtime\": \"13:03\", \"#\": 23, \"KD\": 0.5, \"Kills\": 1, \"Deaths\": 2, \"Assists\": 1, \"Damage >\": 521, \"Damage <\": 497, \"Gulag\": \"W\", \"% moving\": 76.3, \"Game duration\": \"27\", \"Loadout_1\": \"iw8_ar_t9standard - iw8_sm_t9standard\", \"Loadout_2\": \"iw8_pi_t9semiauto - iw8_fists\", \"Loadout_3\": \"-\"}, {\"Mode\": \"Duos\", \"Ended at\": \"2021-11-13T00:23:53\", \"Team\": \"sixty_seven\", \"Username\": \"Kasach93\", \"Playtime\": \"08:24\", \"#\": 39, \"KD\": 0.0, \"Kills\": 0, \"Deaths\": 2, \"Assists\": 1, \"Damage >\": 431, \"Damage <\": 200, \"Gulag\": \"L\", \"% moving\": 94.3, \"Game duration\": \"27\", \"Loadout_1\": \"iw8_ar_t9damage - iw8_sm_t9season6\", \"Loadout_2\": \"iw8_pi_t9semiauto - iw8_fists\", \"Loadout_3\": \"-\"}, {\"Mode\": \"Duos\", \"Ended at\": \"2021-11-13T00:23:53\", \"Team\": \"sixty_four\", \"Username\": \"teko\", \"Playtime\": \"03:18\", \"#\": 70, \"KD\": 0.0, \"Kills\": 0, \"Deaths\": 1, \"Assists\": 0, \"Damage >\": 136, \"Damage <\": 100, \"Gulag\": \"L\", \"% moving\": 99.1, \"Game duration\": \"27\", \"Loadout_1\": \"iw8_ar_t9damage - iw8_sm_t9standard\", \"Loadout_2\": \"iw8_pi_t9semiauto - iw8_fists\", \"Loadout_3\": \"-\"}, {\"Mode\": \"Duos\", \"Ended at\": \"2021-11-13T00:23:53\", \"Team\": \"seventy_four\", \"Username\": \"LeJcleS\", \"Playtime\": \"10:17\", \"#\": 28, \"KD\": 1.0, \"Kills\": 2, \"Deaths\": 2, \"Assists\": 0, \"Damage >\": 514, \"Damage <\": 456, \"Gulag\": \"W\", \"% moving\": 92.2, \"Game duration\": \"27\", \"Loadout_1\": \"iw8_sm_t9handling - iw8_sn_kilo98\", \"Loadout_2\": \"iw8_pi_t9semiauto - iw8_fists\", \"Loadout_3\": \"-\"}, {\"Mode\": \"Duos\", \"Ended at\": \"2021-11-13T00:23:53\", \"Team\": \"sixty_eight\", \"Username\": \"FR-JYEL\", \"Playtime\": \"25:27\", \"#\": 8, \"KD\": 2.5, \"Kills\": 5, \"Deaths\": 2, \"Assists\": 1, \"Damage >\": 2235, \"Damage <\": 429, \"Gulag\": \"W\", \"% moving\": 95.3, \"Game duration\": \"27\", \"Loadout_1\": \"iw8_sm_t9cqb - iw8_sn_t9accurate\", \"Loadout_2\": \"iw8_pi_t9semiauto - iw8_fists\", \"Loadout_3\": \"-\"}, {\"Mode\": \"Duos\", \"Ended at\": \"2021-11-13T00:23:53\", \"Team\": \"axis\", \"Username\": \"QuirkyOrc\", \"Playtime\": \"10:23\", \"#\": 31, \"KD\": 0.5, \"Kills\": 1, \"Deaths\": 2, \"Assists\": 0, \"Damage >\": 450, \"Damage <\": 385, \"Gulag\": \"W\", \"% moving\": 76.7, \"Game duration\": \"27\", \"Loadout_1\": \"iw8_sm_t9season6 - iw8_pi_mike\", \"Loadout_2\": \"iw8_pi_t9semiauto - iw8_fists\", \"Loadout_3\": \"-\"}, {\"Mode\": \"Duos\", \"Ended at\": \"2021-11-13T00:23:53\", \"Team\": \"thirteen\", \"Username\": \"CKT_Div\", \"Playtime\": \"28:46\", \"#\": 1, \"KD\": 2.0, \"Kills\": 4, \"Deaths\": 2, \"Assists\": 2, \"Damage >\": 1378, \"Damage <\": 457, \"Gulag\": \"W\", \"% moving\": 85.2, \"Game duration\": \"27\", \"Loadout_1\": \"iw8_sm_t9standard - iw8_ar_t9british\", \"Loadout_2\": \"iw8_ar_t9damage - iw8_pi_t9burst\", \"Loadout_3\": \"-\"}, {\"Mode\": \"Duos\", \"Ended at\": \"2021-11-13T00:23:53\", \"Team\": \"twenty_three\", \"Username\": \"Fighterlars\", \"Playtime\": \"08:44\", \"#\": 35, \"KD\": 1.0, \"Kills\": 2, \"Deaths\": 2, \"Assists\": 0, \"Damage >\": 540, \"Damage <\": 365, \"Gulag\": \"W\", \"% moving\": 94.7, \"Game duration\": \"27\", \"Loadout_1\": \"iw8_ar_tango21 - iw8_sn_t9accurate\", \"Loadout_2\": \"iw8_pi_t9semiauto - iw8_fists\", \"Loadout_3\": \"-\"}, {\"Mode\": \"Duos\", \"Ended at\": \"2021-11-13T00:23:53\", \"Team\": \"sixty_eight\", \"Username\": \"Dark973\", \"Playtime\": \"25:27\", \"#\": 8, \"KD\": 0.8, \"Kills\": 3, \"Deaths\": 4, \"Assists\": 2, \"Damage >\": 1507, \"Damage <\": 849, \"Gulag\": \"L\", \"% moving\": 57.3, \"Game duration\": \"27\", \"Loadout_1\": \"iw8_ar_galima - iw8_sn_romeo700\", \"Loadout_2\": \"iw8_pi_t9semiauto - iw8_fists\", \"Loadout_3\": \"iw8_ar_t9season6 - iw8_fists\"}, {\"Mode\": \"Duos\", \"Ended at\": \"2021-11-13T00:23:53\", \"Team\": \"sixteen\", \"Username\": \"Cobra Kai\", \"Playtime\": \"06:14\", \"#\": 56, \"KD\": 0.5, \"Kills\": 1, \"Deaths\": 2, \"Assists\": 2, \"Damage >\": 473, \"Damage <\": 300, \"Gulag\": \"L\", \"% moving\": 85.4, \"Game duration\": \"27\", \"Loadout_1\": \"iw8_ar_t9damage - iw8_sn_t9accurate\", \"Loadout_2\": \"iw8_pi_t9semiauto - iw8_fists\", \"Loadout_3\": \"-\"}, {\"Mode\": \"Duos\", \"Ended at\": \"2021-11-13T00:23:53\", \"Team\": \"forty_four\", \"Username\": \"R055P4N7ON\", \"Playtime\": \"11:33\", \"#\": 49, \"KD\": 0.0, \"Kills\": 0, \"Deaths\": 2, \"Assists\": 0, \"Damage >\": 300, \"Damage <\": 212, \"Gulag\": \"L\", \"% moving\": 56.7, \"Game duration\": \"27\", \"Loadout_1\": \"iw8_ar_t9damage - iw8_sm_t9cqb\", \"Loadout_2\": \"iw8_pi_t9semiauto - iw8_fists\", \"Loadout_3\": \"-\"}, {\"Mode\": \"Duos\", \"Ended at\": \"2021-11-13T00:23:53\", \"Team\": \"four\", \"Username\": \"ShOoTy97\", \"Playtime\": \"09:55\", \"#\": 33, \"KD\": 1.0, \"Kills\": 2, \"Deaths\": 2, \"Assists\": 0, \"Damage >\": 546, \"Damage <\": 337, \"Gulag\": \"W\", \"% moving\": 98.6, \"Game duration\": \"27\", \"Loadout_1\": \"iw8_sm_t9cqb - iw8_pi_papa320\", \"Loadout_2\": \"iw8_pi_t9semiauto - iw8_fists\", \"Loadout_3\": \"-\"}, {\"Mode\": \"Duos\", \"Ended at\": \"2021-11-13T00:23:53\", \"Team\": \"forty_nine\", \"Username\": \"NiceBison\", \"Playtime\": \"10:26\", \"#\": 30, \"KD\": 3.0, \"Kills\": 3, \"Deaths\": 1, \"Assists\": 0, \"Damage >\": 970, \"Damage <\": 346, \"Gulag\": \"W\", \"% moving\": 96.7, \"Game duration\": \"27\", \"Loadout_1\": \"iw8_lm_t9fastfire - iw8_pi_t9burst\", \"Loadout_2\": \"iw8_pi_t9semiauto - iw8_fists\", \"Loadout_3\": \"-\"}, {\"Mode\": \"Duos\", \"Ended at\": \"2021-11-13T00:23:53\", \"Team\": \"seventeen\", \"Username\": \"toniioo57\", \"Playtime\": \"25:38\", \"#\": 5, \"KD\": 3.5, \"Kills\": 7, \"Deaths\": 2, \"Assists\": 2, \"Damage >\": 1861, \"Damage <\": 609, \"Gulag\": \"W\", \"% moving\": 71.4, \"Game duration\": \"27\", \"Loadout_1\": \"iw8_sm_t9handling - iw8_sn_kilo98\", \"Loadout_2\": \"iw8_pi_t9semiauto - iw8_fists\", \"Loadout_3\": \"-\"}, {\"Mode\": \"Duos\", \"Ended at\": \"2021-11-13T00:23:53\", \"Team\": \"allies\", \"Username\": \"RNS\", \"Playtime\": \"03:56\", \"#\": 66, \"KD\": 1.5, \"Kills\": 3, \"Deaths\": 2, \"Assists\": 0, \"Damage >\": 505, \"Damage <\": 300, \"Gulag\": \"W\", \"% moving\": 88.8, \"Game duration\": \"27\", \"Loadout_1\": \"iw8_sm_t9standard - iw8_sn_t9accurate\", \"Loadout_2\": \"iw8_pi_t9semiauto - iw8_fists\", \"Loadout_3\": \"-\"}, {\"Mode\": \"Duos\", \"Ended at\": \"2021-11-13T00:23:53\", \"Team\": \"fifty_five\", \"Username\": \"le_ouf_87\", \"Playtime\": \"09:19\", \"#\": 37, \"KD\": 0.0, \"Kills\": 0, \"Deaths\": 2, \"Assists\": 1, \"Damage >\": 151, \"Damage <\": 200, \"Gulag\": \"L\", \"% moving\": 31.8, \"Game duration\": \"27\", \"Loadout_1\": \"iw8_ar_t9season6 - iw8_sm_t9accurate\", \"Loadout_2\": \"iw8_pi_t9semiauto - iw8_fists\", \"Loadout_3\": \"-\"}, {\"Mode\": \"Duos\", \"Ended at\": \"2021-11-13T00:23:53\", \"Team\": \"forty_eight\", \"Username\": \"SeoiAlle\", \"Playtime\": \"24:34\", \"#\": 10, \"KD\": 3.3, \"Kills\": 10, \"Deaths\": 3, \"Assists\": 0, \"Damage >\": 3373, \"Damage <\": 986, \"Gulag\": \"L\", \"% moving\": 84.7, \"Game duration\": \"27\", \"Loadout_1\": \"iw8_sm_t9handling - iw8_sn_kilo98\", \"Loadout_2\": \"iw8_pi_t9semiauto - iw8_fists\", \"Loadout_3\": \"iw8_ar_t9fasthandling - iw8_fists\"}, {\"Mode\": \"Duos\", \"Ended at\": \"2021-11-13T00:23:53\", \"Team\": \"fifty_three\", \"Username\": \"GaddafiwarlordYT\", \"Playtime\": \"06:28\", \"#\": 52, \"KD\": 0.0, \"Kills\": 0, \"Deaths\": 2, \"Assists\": 1, \"Damage >\": 2, \"Damage <\": 300, \"Gulag\": \"L\", \"% moving\": 85.4, \"Game duration\": \"27\", \"Loadout_1\": \"iw8_ar_t9damage - iw8_me_t9machete\", \"Loadout_2\": \"-\", \"Loadout_3\": \"-\"}, {\"Mode\": \"Duos\", \"Ended at\": \"2021-11-13T00:23:53\", \"Team\": \"eleven\", \"Username\": \"exzi\", \"Playtime\": \"07:50\", \"#\": 44, \"KD\": 1.5, \"Kills\": 3, \"Deaths\": 2, \"Assists\": 2, \"Damage >\": 1240, \"Damage <\": 359, \"Gulag\": \"L\", \"% moving\": 95.5, \"Game duration\": \"27\", \"Loadout_1\": \"iw8_ar_t9slowhandling - iw8_sn_t9accurate\", \"Loadout_2\": \"iw8_pi_t9semiauto - iw8_fists\", \"Loadout_3\": \"-\"}, {\"Mode\": \"Duos\", \"Ended at\": \"2021-11-13T00:23:53\", \"Team\": \"fifty_six\", \"Username\": \"Mister Toff\", \"Playtime\": \"05:15\", \"#\": 60, \"KD\": 0.5, \"Kills\": 1, \"Deaths\": 2, \"Assists\": 1, \"Damage >\": 273, \"Damage <\": 398, \"Gulag\": \"L\", \"% moving\": 86.2, \"Game duration\": \"27\", \"Loadout_1\": \"iw8_ar_t9slowhandling - iw8_pi_t9burst\", \"Loadout_2\": \"iw8_pi_t9semiauto - iw8_fists\", \"Loadout_3\": \"-\"}, {\"Mode\": \"Duos\", \"Ended at\": \"2021-11-13T00:23:53\", \"Team\": \"thirty_eight\", \"Username\": \"Inox\", \"Playtime\": \"26:54\", \"#\": 6, \"KD\": 2.3, \"Kills\": 7, \"Deaths\": 3, \"Assists\": 0, \"Damage >\": 1959, \"Damage <\": 636, \"Gulag\": \"W\", \"% moving\": 82.0, \"Game duration\": \"27\", \"Loadout_1\": \"iw8_sm_t9cqb - iw8_ar_t9damage\", \"Loadout_2\": \"iw8_pi_t9semiauto - iw8_fists\", \"Loadout_3\": \"-\"}, {\"Mode\": \"Duos\", \"Ended at\": \"2021-11-13T00:23:53\", \"Team\": \"twenty_seven\", \"Username\": \"emilpadure23\", \"Playtime\": \"03:42\", \"#\": 71, \"KD\": 0.0, \"Kills\": 0, \"Deaths\": 2, \"Assists\": 0, \"Damage >\": 281, \"Damage <\": 214, \"Gulag\": \"L\", \"% moving\": 76.1, \"Game duration\": \"27\", \"Loadout_1\": \"iw8_sn_t9accurate - iw8_sm_t9cqb\", \"Loadout_2\": \"-\", \"Loadout_3\": \"-\"}, {\"Mode\": \"Duos\", \"Ended at\": \"2021-11-13T00:23:53\", \"Team\": \"seventy_six\", \"Username\": \"Ledesinger\", \"Playtime\": \"01:16\", \"#\": 75, \"KD\": 0.0, \"Kills\": 0, \"Deaths\": 0, \"Assists\": 0, \"Damage >\": 0, \"Damage <\": 0, \"Gulag\": \"L\", \"% moving\": 0.0, \"Game duration\": \"27\", \"Loadout_1\": \"iw8_ar_mike4 - iw8_sh_romeo870\", \"Loadout_2\": \"-\", \"Loadout_3\": \"-\"}, {\"Mode\": \"Duos\", \"Ended at\": \"2021-11-13T00:23:53\", \"Team\": \"fifty_four\", \"Username\": \"tupacan\", \"Playtime\": \"12:20\", \"#\": 26, \"KD\": 0.0, \"Kills\": 0, \"Deaths\": 2, \"Assists\": 0, \"Damage >\": 405, \"Damage <\": 200, \"Gulag\": \"L\", \"% moving\": 98.1, \"Game duration\": \"27\", \"Loadout_1\": \"iw8_sm_t9standard - iw8_ar_t9british\", \"Loadout_2\": \"iw8_pi_t9semiauto - iw8_fists\", \"Loadout_3\": \"-\"}, {\"Mode\": \"Duos\", \"Ended at\": \"2021-11-13T00:23:53\", \"Team\": \"nineteen\", \"Username\": \"holzhauser\", \"Playtime\": \"13:19\", \"#\": 22, \"KD\": 0.5, \"Kills\": 1, \"Deaths\": 2, \"Assists\": 0, \"Damage >\": 548, \"Damage <\": 371, \"Gulag\": \"L\", \"% moving\": 96.1, \"Game duration\": \"27\", \"Loadout_1\": \"iw8_ar_t9damage - iw8_sm_t9capacity\", \"Loadout_2\": \"-\", \"Loadout_3\": \"-\"}, {\"Mode\": \"Duos\", \"Ended at\": \"2021-11-13T00:23:53\", \"Team\": \"sixty_one\", \"Username\": \"TizDuke\", \"Playtime\": \"25:40\", \"#\": 7, \"KD\": 2.5, \"Kills\": 5, \"Deaths\": 2, \"Assists\": 1, \"Damage >\": 1752, \"Damage <\": 367, \"Gulag\": \"W\", \"% moving\": 94.2, \"Game duration\": \"27\", \"Loadout_1\": \"iw8_sn_t9accurate - iw8_sm_t9fastfire\", \"Loadout_2\": \"-\", \"Loadout_3\": \"-\"}, {\"Mode\": \"Duos\", \"Ended at\": \"2021-11-13T00:23:53\", \"Team\": \"thirty_two\", \"Username\": \"VasilyZaitsev\", \"Playtime\": \"18:10\", \"#\": 17, \"KD\": 3.0, \"Kills\": 6, \"Deaths\": 2, \"Assists\": 0, \"Damage >\": 2263, \"Damage <\": 674, \"Gulag\": \"L\", \"% moving\": 88.6, \"Game duration\": \"27\", \"Loadout_1\": \"iw8_sn_kilo98 - iw8_ar_t9damage\", \"Loadout_2\": \"-\", \"Loadout_3\": \"-\"}, {\"Mode\": \"Duos\", \"Ended at\": \"2021-11-13T00:23:53\", \"Team\": \"thirty_five\", \"Username\": \"BENxPASH\", \"Playtime\": \"12:33\", \"#\": 27, \"KD\": 0.5, \"Kills\": 1, \"Deaths\": 2, \"Assists\": 0, \"Damage >\": 573, \"Damage <\": 201, \"Gulag\": \"W\", \"% moving\": 92.0, \"Game duration\": \"27\", \"Loadout_1\": \"iw8_ar_t9slowfire - iw8_sm_t9cqb\", \"Loadout_2\": \"iw8_pi_t9semiauto - iw8_fists\", \"Loadout_3\": \"-\"}, {\"Mode\": \"Duos\", \"Ended at\": \"2021-11-13T00:23:53\", \"Team\": \"forty_three\", \"Username\": \"Siki_Jackson\", \"Playtime\": \"09:24\", \"#\": 34, \"KD\": 0.0, \"Kills\": 0, \"Deaths\": 0, \"Assists\": 0, \"Damage >\": 108, \"Damage <\": 45, \"Gulag\": \"L\", \"% moving\": 97.3, \"Game duration\": \"27\", \"Loadout_1\": \"iw8_ar_t9slowhandling - iw8_pi_t9burst\", \"Loadout_2\": \"iw8_pi_t9semiauto - iw8_fists\", \"Loadout_3\": \"-\"}, {\"Mode\": \"Duos\", \"Ended at\": \"2021-11-13T00:23:53\", \"Team\": \"thirty_two\", \"Username\": \"Jckcnwy\", \"Playtime\": \"17:22\", \"#\": 17, \"KD\": 0.5, \"Kills\": 1, \"Deaths\": 2, \"Assists\": 0, \"Damage >\": 1141, \"Damage <\": 302, \"Gulag\": \"L\", \"% moving\": 92.1, \"Game duration\": \"27\", \"Loadout_1\": \"iw8_sm_t9heavy - iw8_sn_t9accurate\", \"Loadout_2\": \"-\", \"Loadout_3\": \"-\"}, {\"Mode\": \"Duos\", \"Ended at\": \"2021-11-13T00:23:53\", \"Team\": \"seven\", \"Username\": \"Grev Ingolf\", \"Playtime\": \"13:01\", \"#\": 23, \"KD\": 1.5, \"Kills\": 3, \"Deaths\": 2, \"Assists\": 0, \"Damage >\": 597, \"Damage <\": 305, \"Gulag\": \"W\", \"% moving\": 95.7, \"Game duration\": \"27\", \"Loadout_1\": \"iw8_sn_t9accurate - iw8_sm_t9cqb\", \"Loadout_2\": \"iw8_pi_t9semiauto - iw8_fists\", \"Loadout_3\": \"-\"}, {\"Mode\": \"Duos\", \"Ended at\": \"2021-11-13T00:23:53\", \"Team\": \"allies\", \"Username\": \"Tr1Z0ne\", \"Playtime\": \"03:55\", \"#\": 66, \"KD\": 2.0, \"Kills\": 2, \"Deaths\": 1, \"Assists\": 2, \"Damage >\": 838, \"Damage <\": 100, \"Gulag\": \"L\", \"% moving\": 98.0, \"Game duration\": \"27\", \"Loadout_1\": \"iw8_sn_t9accurate - iw8_pi_t9burst\", \"Loadout_2\": \"iw8_pi_t9semiauto - iw8_fists\", \"Loadout_3\": \"-\"}, {\"Mode\": \"Duos\", \"Ended at\": \"2021-11-13T00:23:53\", \"Team\": \"fifty_two\", \"Username\": \"martindaspartan\", \"Playtime\": \"08:18\", \"#\": 42, \"KD\": 2.0, \"Kills\": 4, \"Deaths\": 2, \"Assists\": 0, \"Damage >\": 908, \"Damage <\": 348, \"Gulag\": \"W\", \"% moving\": 91.0, \"Game duration\": \"27\", \"Loadout_1\": \"iw8_sn_kilo98 - iw8_sm_papa90\", \"Loadout_2\": \"-\", \"Loadout_3\": \"-\"}, {\"Mode\": \"Duos\", \"Ended at\": \"2021-11-13T00:23:53\", \"Team\": \"fifty_two\", \"Username\": \"Smokeyjeff420\", \"Playtime\": \"08:02\", \"#\": 42, \"KD\": 0.0, \"Kills\": 0, \"Deaths\": 2, \"Assists\": 1, \"Damage >\": 133, \"Damage <\": 320, \"Gulag\": \"L\", \"% moving\": 46.1, \"Game duration\": \"27\", \"Loadout_1\": \"iw8_sm_t9capacity - iw8_sn_kilo98\", \"Loadout_2\": \"-\", \"Loadout_3\": \"-\"}, {\"Mode\": \"Duos\", \"Ended at\": \"2021-11-13T00:23:53\", \"Team\": \"thirty_seven\", \"Username\": \"wila85\", \"Playtime\": \"05:47\", \"#\": 59, \"KD\": 0.0, \"Kills\": 0, \"Deaths\": 2, \"Assists\": 0, \"Damage >\": 243, \"Damage <\": 201, \"Gulag\": \"W\", \"% moving\": 92.3, \"Game duration\": \"27\", \"Loadout_1\": \"s4_ar_stango44temp - iw8_pi_mike\", \"Loadout_2\": \"iw8_pi_t9semiauto - iw8_fists\", \"Loadout_3\": \"-\"}, {\"Mode\": \"Duos\", \"Ended at\": \"2021-11-13T00:23:53\", \"Team\": \"thirty\", \"Username\": \"iD1EGO_88\", \"Playtime\": \"20:02\", \"#\": 15, \"KD\": 0.0, \"Kills\": 0, \"Deaths\": 3, \"Assists\": 0, \"Damage >\": 432, \"Damage <\": 730, \"Gulag\": \"L\", \"% moving\": 71.5, \"Game duration\": \"27\", \"Loadout_1\": \"iw8_ar_t9damage - iw8_sm_t9cqb\", \"Loadout_2\": \"iw8_pi_t9semiauto - iw8_fists\", \"Loadout_3\": \"iw8_lm_t9fastfire - iw8_fists\"}, {\"Mode\": \"Duos\", \"Ended at\": \"2021-11-13T00:23:53\", \"Team\": \"forty_four\", \"Username\": \"ipegasians\", \"Playtime\": \"11:07\", \"#\": 49, \"KD\": 0.5, \"Kills\": 1, \"Deaths\": 2, \"Assists\": 0, \"Damage >\": 396, \"Damage <\": 342, \"Gulag\": \"W\", \"% moving\": 56.7, \"Game duration\": \"27\", \"Loadout_1\": \"iw8_ar_t9standard - iw8_pi_mike1911\", \"Loadout_2\": \"-\", \"Loadout_3\": \"-\"}, {\"Mode\": \"Duos\", \"Ended at\": \"2021-11-13T00:23:53\", \"Team\": \"twenty_eight\", \"Username\": \"St0rmarrow\", \"Playtime\": \"07:43\", \"#\": 45, \"KD\": 0.5, \"Kills\": 1, \"Deaths\": 2, \"Assists\": 1, \"Damage >\": 763, \"Damage <\": 359, \"Gulag\": \"W\", \"% moving\": 86.2, \"Game duration\": \"27\", \"Loadout_1\": \"iw8_sn_t9accurate - iw8_pi_t9burst\", \"Loadout_2\": \"iw8_pi_t9semiauto - iw8_fists\", \"Loadout_3\": \"-\"}, {\"Mode\": \"Duos\", \"Ended at\": \"2021-11-13T00:23:53\", \"Team\": \"twenty_two\", \"Username\": \"polskiboy88\", \"Playtime\": \"06:58\", \"#\": 48, \"KD\": 0.5, \"Kills\": 1, \"Deaths\": 2, \"Assists\": 1, \"Damage >\": 430, \"Damage <\": 260, \"Gulag\": \"W\", \"% moving\": 92.0, \"Game duration\": \"27\", \"Loadout_1\": \"iw8_sn_t9accurate - iw8_pi_t9fullauto\", \"Loadout_2\": \"-\", \"Loadout_3\": \"-\"}, {\"Mode\": \"Duos\", \"Ended at\": \"2021-11-13T00:23:53\", \"Team\": \"ten\", \"Username\": \"mustafa\", \"Playtime\": \"05:16\", \"#\": 61, \"KD\": 0.0, \"Kills\": 0, \"Deaths\": 2, \"Assists\": 0, \"Damage >\": 256, \"Damage <\": 200, \"Gulag\": \"L\", \"% moving\": 85.9, \"Game duration\": \"27\", \"Loadout_1\": \"iw8_ar_t9british - iw8_sm_t9cqb\", \"Loadout_2\": \"iw8_pi_t9semiauto - iw8_fists\", \"Loadout_3\": \"-\"}, {\"Mode\": \"Duos\", \"Ended at\": \"2021-11-13T00:23:53\", \"Team\": \"eighteen\", \"Username\": \"Panda\", \"Playtime\": \"07:01\", \"#\": 51, \"KD\": 1.0, \"Kills\": 2, \"Deaths\": 2, \"Assists\": 1, \"Damage >\": 360, \"Damage <\": 415, \"Gulag\": \"W\", \"% moving\": 93.9, \"Game duration\": \"27\", \"Loadout_1\": \"iw8_sn_t9accurate - iw8_sm_t9season6\", \"Loadout_2\": \"iw8_pi_t9semiauto - iw8_fists\", \"Loadout_3\": \"-\"}, {\"Mode\": \"Duos\", \"Ended at\": \"2021-11-13T00:23:53\", \"Team\": \"thirty_four\", \"Username\": \"BARTH947\", \"Playtime\": \"05:03\", \"#\": 63, \"KD\": 0.5, \"Kills\": 1, \"Deaths\": 2, \"Assists\": 0, \"Damage >\": 100, \"Damage <\": 201, \"Gulag\": \"W\", \"% moving\": 94.9, \"Game duration\": \"27\", \"Loadout_1\": \"iw8_sm_t9capacity - iw8_sn_t9accurate\", \"Loadout_2\": \"-\", \"Loadout_3\": \"-\"}, {\"Mode\": \"Duos\", \"Ended at\": \"2021-11-13T00:23:53\", \"Team\": \"forty_six\", \"Username\": \"NYKA\", \"Playtime\": \"04:42\", \"#\": 65, \"KD\": 0.0, \"Kills\": 0, \"Deaths\": 2, \"Assists\": 0, \"Damage >\": 270, \"Damage <\": 200, \"Gulag\": \"L\", \"% moving\": 83.8, \"Game duration\": \"27\", \"Loadout_1\": \"iw8_ar_mike4 - iw8_sm_t9fastfire\", \"Loadout_2\": \"iw8_pi_t9semiauto - iw8_fists\", \"Loadout_3\": \"-\"}, {\"Mode\": \"Duos\", \"Ended at\": \"2021-11-13T00:23:53\", \"Team\": \"sixty_six\", \"Username\": \"MLHorne\", \"Playtime\": \"12:56\", \"#\": 41, \"KD\": 0.0, \"Kills\": 0, \"Deaths\": 3, \"Assists\": 0, \"Damage >\": 822, \"Damage <\": 606, \"Gulag\": \"L\", \"% moving\": 45.5, \"Game duration\": \"27\", \"Loadout_1\": \"iw8_sm_t9standard - iw8_me_t9machete\", \"Loadout_2\": \"iw8_pi_t9semiauto - iw8_fists\", \"Loadout_3\": \"iw8_ar_t9season6 - iw8_fists\"}, {\"Mode\": \"Duos\", \"Ended at\": \"2021-11-13T00:23:53\", \"Team\": \"fifty_three\", \"Username\": \"magicbigkev2k7\", \"Playtime\": \"06:37\", \"#\": 52, \"KD\": 0.0, \"Kills\": 0, \"Deaths\": 2, \"Assists\": 0, \"Damage >\": 327, \"Damage <\": 253, \"Gulag\": \"L\", \"% moving\": 91.6, \"Game duration\": \"27\", \"Loadout_1\": \"iw8_sn_t9accurate - iw8_pi_mike\", \"Loadout_2\": \"iw8_pi_t9semiauto - iw8_fists\", \"Loadout_3\": \"-\"}, {\"Mode\": \"Duos\", \"Ended at\": \"2021-11-13T00:23:53\", \"Team\": \"eight\", \"Username\": \"Ma\\u00eetre Splinter\", \"Playtime\": \"08:30\", \"#\": 40, \"KD\": 2.0, \"Kills\": 4, \"Deaths\": 2, \"Assists\": 0, \"Damage >\": 1232, \"Damage <\": 470, \"Gulag\": \"W\", \"% moving\": 94.3, \"Game duration\": \"27\", \"Loadout_1\": \"iw8_sn_t9accurate - iw8_sm_t9handling\", \"Loadout_2\": \"iw8_pi_t9semiauto - iw8_fists\", \"Loadout_3\": \"-\"}, {\"Mode\": \"Duos\", \"Ended at\": \"2021-11-13T00:23:53\", \"Team\": \"three\", \"Username\": \"JohnnyZalami\", \"Playtime\": \"03:37\", \"#\": 69, \"KD\": 1.0, \"Kills\": 1, \"Deaths\": 1, \"Assists\": 0, \"Damage >\": 403, \"Damage <\": 101, \"Gulag\": \"L\", \"% moving\": 93.0, \"Game duration\": \"27\", \"Loadout_1\": \"iw8_sm_t9cqb - iw8_ar_t9british\", \"Loadout_2\": \"iw8_pi_t9semiauto - iw8_fists\", \"Loadout_3\": \"-\"}, {\"Mode\": \"Duos\", \"Ended at\": \"2021-11-13T00:23:53\", \"Team\": \"fifty_seven\", \"Username\": \"VIKINGBLOOD\", \"Playtime\": \"24:54\", \"#\": 12, \"KD\": 1.0, \"Kills\": 4, \"Deaths\": 4, \"Assists\": 1, \"Damage >\": 1744, \"Damage <\": 1022, \"Gulag\": \"L\", \"% moving\": 63.3, \"Game duration\": \"27\", \"Loadout_1\": \"iw8_ar_t9slowhandling - iw8_sm_t9capacity\", \"Loadout_2\": \"iw8_pi_t9semiauto - iw8_fists\", \"Loadout_3\": \"iw8_sh_t9pump - iw8_fists\"}, {\"Mode\": \"Duos\", \"Ended at\": \"2021-11-13T00:23:53\", \"Team\": \"seventy_three\", \"Username\": \"Diabolik\", \"Playtime\": \"06:46\", \"#\": 47, \"KD\": 1.0, \"Kills\": 2, \"Deaths\": 2, \"Assists\": 0, \"Damage >\": 370, \"Damage <\": 395, \"Gulag\": \"W\", \"% moving\": 93.7, \"Game duration\": \"27\", \"Loadout_1\": \"iw8_sm_t9spray - iw8_ar_t9slowhandling\", \"Loadout_2\": \"-\", \"Loadout_3\": \"-\"}, {\"Mode\": \"Duos\", \"Ended at\": \"2021-11-13T00:23:53\", \"Team\": \"twenty_nine\", \"Username\": \"TerrorPuuu\", \"Playtime\": \"08:33\", \"#\": 43, \"KD\": 2.0, \"Kills\": 4, \"Deaths\": 2, \"Assists\": 1, \"Damage >\": 1870, \"Damage <\": 459, \"Gulag\": \"W\", \"% moving\": 92.9, \"Game duration\": \"27\", \"Loadout_1\": \"iw8_ar_t9longburst - iw8_pi_mike\", \"Loadout_2\": \"iw8_pi_t9semiauto - iw8_fists\", \"Loadout_3\": \"-\"}, {\"Mode\": \"Duos\", \"Ended at\": \"2021-11-13T00:23:53\", \"Team\": \"thirteen\", \"Username\": \"Nuzzle\", \"Playtime\": \"28:47\", \"#\": 1, \"KD\": 7.0, \"Kills\": 7, \"Deaths\": 1, \"Assists\": 0, \"Damage >\": 2750, \"Damage <\": 687, \"Gulag\": \"W\", \"% moving\": 97.3, \"Game duration\": \"27\", \"Loadout_1\": \"iw8_sm_t9powerburst - iw8_sm_t9standard\", \"Loadout_2\": \"iw8_pi_t9semiauto - iw8_fists\", \"Loadout_3\": \"-\"}, {\"Mode\": \"Duos\", \"Ended at\": \"2021-11-13T00:23:53\", \"Team\": \"sixteen\", \"Username\": \"AlucarDsen\", \"Playtime\": \"06:14\", \"#\": 56, \"KD\": 2.0, \"Kills\": 4, \"Deaths\": 2, \"Assists\": 0, \"Damage >\": 796, \"Damage <\": 374, \"Gulag\": \"L\", \"% moving\": 95.8, \"Game duration\": \"27\", \"Loadout_1\": \"iw8_sn_t9accurate - iw8_sm_t9fastfire\", \"Loadout_2\": \"-\", \"Loadout_3\": \"-\"}, {\"Mode\": \"Duos\", \"Ended at\": \"2021-11-13T00:23:53\", \"Team\": \"forty\", \"Username\": \"Gald\", \"Playtime\": \"16:51\", \"#\": 19, \"KD\": 1.0, \"Kills\": 2, \"Deaths\": 2, \"Assists\": 1, \"Damage >\": 923, \"Damage <\": 605, \"Gulag\": \"L\", \"% moving\": 93.0, \"Game duration\": \"27\", \"Loadout_1\": \"iw8_sh_romeo870 - iw8_sn_kilo98\", \"Loadout_2\": \"iw8_pi_t9semiauto - iw8_fists\", \"Loadout_3\": \"-\"}, {\"Mode\": \"Duos\", \"Ended at\": \"2021-11-13T00:23:53\", \"Team\": \"forty_one\", \"Username\": \"oys\", \"Playtime\": \"21:19\", \"#\": 13, \"KD\": 1.0, \"Kills\": 2, \"Deaths\": 2, \"Assists\": 1, \"Damage >\": 1469, \"Damage <\": 431, \"Gulag\": \"L\", \"% moving\": 80.7, \"Game duration\": \"27\", \"Loadout_1\": \"iw8_ar_t9slowfire - iw8_sn_t9accurate\", \"Loadout_2\": \"-\", \"Loadout_3\": \"-\"}, {\"Mode\": \"Duos\", \"Ended at\": \"2021-11-13T00:23:53\", \"Team\": \"sixty_two\", \"Username\": \"jimpin\", \"Playtime\": \"03:04\", \"#\": 74, \"KD\": 0.0, \"Kills\": 0, \"Deaths\": 2, \"Assists\": 0, \"Damage >\": 34, \"Damage <\": 200, \"Gulag\": \"L\", \"% moving\": 84.1, \"Game duration\": \"27\", \"Loadout_1\": \"iw8_ar_tango21 - iw8_sm_t9capacity\", \"Loadout_2\": \"iw8_pi_t9semiauto - iw8_fists\", \"Loadout_3\": \"-\"}, {\"Mode\": \"Duos\", \"Ended at\": \"2021-11-13T00:23:53\", \"Team\": \"sixty_six\", \"Username\": \"JC\", \"Playtime\": \"08:20\", \"#\": 41, \"KD\": 0.0, \"Kills\": 0, \"Deaths\": 2, \"Assists\": 0, \"Damage >\": 100, \"Damage <\": 300, \"Gulag\": \"L\", \"% moving\": 84.7, \"Game duration\": \"27\", \"Loadout_1\": \"iw8_sm_t9capacity - iw8_sn_kilo98\", \"Loadout_2\": \"-\", \"Loadout_3\": \"-\"}, {\"Mode\": \"Duos\", \"Ended at\": \"2021-11-13T00:23:53\", \"Team\": \"six\", \"Username\": \"NIAKOU\\u00c9_91\", \"Playtime\": \"12:37\", \"#\": 25, \"KD\": 1.5, \"Kills\": 3, \"Deaths\": 2, \"Assists\": 0, \"Damage >\": 1083, \"Damage <\": 252, \"Gulag\": \"W\", \"% moving\": 97.5, \"Game duration\": \"27\", \"Loadout_1\": \"iw8_sn_t9accurate - iw8_sm_t9cqb\", \"Loadout_2\": \"-\", \"Loadout_3\": \"-\"}, {\"Mode\": \"Duos\", \"Ended at\": \"2021-11-13T00:23:53\", \"Team\": \"twenty_six\", \"Username\": \"Darkwoo_TV\", \"Playtime\": \"27:32\", \"#\": 3, \"KD\": 3.5, \"Kills\": 7, \"Deaths\": 2, \"Assists\": 3, \"Damage >\": 2205, \"Damage <\": 1045, \"Gulag\": \"W\", \"% moving\": 90.2, \"Game duration\": \"27\", \"Loadout_1\": \"iw8_ar_t9damage - iw8_sn_t9accurate\", \"Loadout_2\": \"iw8_pi_t9semiauto - iw8_fists\", \"Loadout_3\": \"-\"}, {\"Mode\": \"Duos\", \"Ended at\": \"2021-11-13T00:23:53\", \"Team\": \"thirty_nine\", \"Username\": \"SnatchedWolf16\", \"Playtime\": \"06:04\", \"#\": 57, \"KD\": 0.5, \"Kills\": 1, \"Deaths\": 2, \"Assists\": 0, \"Damage >\": 313, \"Damage <\": 200, \"Gulag\": \"W\", \"% moving\": 96.8, \"Game duration\": \"27\", \"Loadout_1\": \"iw8_sn_kilo98 - iw8_pi_t9burst\", \"Loadout_2\": \"-\", \"Loadout_3\": \"-\"}, {\"Mode\": \"Duos\", \"Ended at\": \"2021-11-13T00:23:53\", \"Team\": \"forty_seven\", \"Username\": \"nicoyzovitch\", \"Playtime\": \"25:17\", \"#\": 9, \"KD\": 0.5, \"Kills\": 1, \"Deaths\": 2, \"Assists\": 1, \"Damage >\": 1060, \"Damage <\": 540, \"Gulag\": \"W\", \"% moving\": 81.6, \"Game duration\": \"27\", \"Loadout_1\": \"iw8_ar_t9standard - iw8_sn_hdromeo\", \"Loadout_2\": \"iw8_pi_t9semiauto - iw8_fists\", \"Loadout_3\": \"-\"}, {\"Mode\": \"Duos\", \"Ended at\": \"2021-11-13T00:23:53\", \"Team\": \"seventy\", \"Username\": \"LeoSTLM\", \"Playtime\": \"02:49\", \"#\": 73, \"KD\": 0.0, \"Kills\": 0, \"Deaths\": 1, \"Assists\": 0, \"Damage >\": 18, \"Damage <\": 118, \"Gulag\": \"L\", \"% moving\": 88.5, \"Game duration\": \"27\", \"Loadout_1\": \"iw8_ar_t9slowhandling - iw8_sm_mpapa5\", \"Loadout_2\": \"-\", \"Loadout_3\": \"-\"}, {\"Mode\": \"Duos\", \"Ended at\": \"2021-11-13T00:23:53\", \"Team\": \"seventy\", \"Username\": \"TheDeepShadow\", \"Playtime\": \"03:20\", \"#\": 73, \"KD\": 0.0, \"Kills\": 0, \"Deaths\": 1, \"Assists\": 0, \"Damage >\": 0, \"Damage <\": 100, \"Gulag\": \"L\", \"% moving\": 88.5, \"Game duration\": \"27\", \"Loadout_1\": \"iw8_sm_t9standard - iw8_pi_decho\", \"Loadout_2\": \"-\", \"Loadout_3\": \"-\"}, {\"Mode\": \"Duos\", \"Ended at\": \"2021-11-13T00:23:53\", \"Team\": \"twenty\", \"Username\": \"LittleMac\", \"Playtime\": \"03:42\", \"#\": 67, \"KD\": 0.0, \"Kills\": 0, \"Deaths\": 1, \"Assists\": 0, \"Damage >\": 82, \"Damage <\": 100, \"Gulag\": \"L\", \"% moving\": 94.2, \"Game duration\": \"27\", \"Loadout_1\": \"iw8_sn_t9accurate - iw8_sm_t9cqb\", \"Loadout_2\": \"-\", \"Loadout_3\": \"-\"}, {\"Mode\": \"Duos\", \"Ended at\": \"2021-11-13T00:23:53\", \"Team\": \"fifty_eight\", \"Username\": \"controll1er04\", \"Playtime\": \"07:49\", \"#\": 36, \"KD\": 0.0, \"Kills\": 0, \"Deaths\": 2, \"Assists\": 0, \"Damage >\": 65, \"Damage <\": 368, \"Gulag\": \"L\", \"% moving\": 97.9, \"Game duration\": \"27\", \"Loadout_1\": \"iw8_sm_t9cqb - iw8_ar_t9british\", \"Loadout_2\": \"iw8_pi_t9semiauto - iw8_fists\", \"Loadout_3\": \"-\"}, {\"Mode\": \"Duos\", \"Ended at\": \"2021-11-13T00:23:53\", \"Team\": \"forty_seven\", \"Username\": \"gentil_renard\", \"Playtime\": \"25:14\", \"#\": 9, \"KD\": 0.5, \"Kills\": 1, \"Deaths\": 2, \"Assists\": 0, \"Damage >\": 553, \"Damage <\": 383, \"Gulag\": \"L\", \"% moving\": 96.8, \"Game duration\": \"27\", \"Loadout_1\": \"iw8_ar_falima - iw8_sn_t9accurate\", \"Loadout_2\": \"-\", \"Loadout_3\": \"-\"}, {\"Mode\": \"Duos\", \"Ended at\": \"2021-11-13T00:23:53\", \"Team\": \"twenty_five\", \"Username\": \"El Chapoo\", \"Playtime\": \"28:13\", \"#\": 4, \"KD\": 11.0, \"Kills\": 11, \"Deaths\": 1, \"Assists\": 0, \"Damage >\": 3778, \"Damage <\": 745, \"Gulag\": \"L\", \"% moving\": 88.4, \"Game duration\": \"27\", \"Loadout_1\": \"iw8_sm_t9fastfire - iw8_sn_t9accurate\", \"Loadout_2\": \"iw8_pi_t9semiauto - iw8_fists\", \"Loadout_3\": \"-\"}, {\"Mode\": \"Duos\", \"Ended at\": \"2021-11-13T00:23:53\", \"Team\": \"twelve\", \"Username\": \"Monkey D Ruffy\", \"Playtime\": \"17:17\", \"#\": 18, \"KD\": 1.0, \"Kills\": 2, \"Deaths\": 2, \"Assists\": 1, \"Damage >\": 1137, \"Damage <\": 405, \"Gulag\": \"L\", \"% moving\": 63.6, \"Game duration\": \"27\", \"Loadout_1\": \"iw8_ar_t9damage - iw8_sn_t9accurate\", \"Loadout_2\": \"iw8_pi_t9semiauto - iw8_fists\", \"Loadout_3\": \"-\"}, {\"Mode\": \"Duos\", \"Ended at\": \"2021-11-13T00:23:53\", \"Team\": \"thirty_one\", \"Username\": \"RG\", \"Playtime\": \"01:11\", \"#\": 76, \"KD\": 0.0, \"Kills\": 0, \"Deaths\": 0, \"Assists\": 0, \"Damage >\": 0, \"Damage <\": 0, \"Gulag\": \"L\", \"% moving\": 0.0, \"Game duration\": \"27\", \"Loadout_1\": \"iw8_ar_t9british - iw8_sm_t9cqb\", \"Loadout_2\": \"-\", \"Loadout_3\": \"-\"}, {\"Mode\": \"Duos\", \"Ended at\": \"2021-11-13T00:23:53\", \"Team\": \"fifty_nine\", \"Username\": \"Jackk96\", \"Playtime\": \"12:47\", \"#\": 24, \"KD\": 0.5, \"Kills\": 1, \"Deaths\": 2, \"Assists\": 0, \"Damage >\": 537, \"Damage <\": 421, \"Gulag\": \"L\", \"% moving\": 94.4, \"Game duration\": \"27\", \"Loadout_1\": \"iw8_sm_t9cqb - iw8_ar_t9standard\", \"Loadout_2\": \"-\", \"Loadout_3\": \"-\"}, {\"Mode\": \"Duos\", \"Ended at\": \"2021-11-13T00:23:53\", \"Team\": \"twenty_three\", \"Username\": \"freddy1003\", \"Playtime\": \"08:47\", \"#\": 35, \"KD\": 0.5, \"Kills\": 1, \"Deaths\": 2, \"Assists\": 0, \"Damage >\": 341, \"Damage <\": 250, \"Gulag\": \"W\", \"% moving\": 96.8, \"Game duration\": \"27\", \"Loadout_1\": \"iw8_ar_t9damage - iw8_sm_mpapa7\", \"Loadout_2\": \"iw8_pi_t9semiauto - iw8_fists\", \"Loadout_3\": \"-\"}, {\"Mode\": \"Duos\", \"Ended at\": \"2021-11-13T00:23:53\", \"Team\": \"sixty_seven\", \"Username\": \"GAWLI\", \"Playtime\": \"08:23\", \"#\": 39, \"KD\": 0.0, \"Kills\": 0, \"Deaths\": 2, \"Assists\": 0, \"Damage >\": 273, \"Damage <\": 208, \"Gulag\": \"L\", \"% moving\": 95.5, \"Game duration\": \"27\", \"Loadout_1\": \"iw8_lm_t9fastfire - iw8_pi_mike\", \"Loadout_2\": \"iw8_pi_t9semiauto - iw8_fists\", \"Loadout_3\": \"-\"}, {\"Mode\": \"Duos\", \"Ended at\": \"2021-11-13T00:23:53\", \"Team\": \"forty_one\", \"Username\": \"RogueWilly\", \"Playtime\": \"21:37\", \"#\": 13, \"KD\": 2.0, \"Kills\": 4, \"Deaths\": 2, \"Assists\": 1, \"Damage >\": 1360, \"Damage <\": 333, \"Gulag\": \"W\", \"% moving\": 80.3, \"Game duration\": \"27\", \"Loadout_1\": \"iw8_ar_t9damage - iw8_sm_t9standard\", \"Loadout_2\": \"-\", \"Loadout_3\": \"-\"}, {\"Mode\": \"Duos\", \"Ended at\": \"2021-11-13T00:23:53\", \"Team\": \"five\", \"Username\": \"SZYGAR\", \"Playtime\": \"05:02\", \"#\": 62, \"KD\": 1.0, \"Kills\": 1, \"Deaths\": 1, \"Assists\": 0, \"Damage >\": 102, \"Damage <\": 293, \"Gulag\": \"W\", \"% moving\": 87.6, \"Game duration\": \"27\", \"Loadout_1\": \"iw8_sn_t9accurate - iw8_la_t9freefire\", \"Loadout_2\": \"iw8_pi_t9semiauto - iw8_fists\", \"Loadout_3\": \"-\"}, {\"Mode\": \"Duos\", \"Ended at\": \"2021-11-13T00:23:53\", \"Team\": \"fifty\", \"Username\": \"Arnautovic\", \"Playtime\": \"07:18\", \"#\": 46, \"KD\": 1.5, \"Kills\": 3, \"Deaths\": 2, \"Assists\": 0, \"Damage >\": 468, \"Damage <\": 282, \"Gulag\": \"W\", \"% moving\": 90.9, \"Game duration\": \"27\", \"Loadout_1\": \"iw8_ar_t9british - iw8_sm_t9cqb\", \"Loadout_2\": \"iw8_pi_t9semiauto - iw8_fists\", \"Loadout_3\": \"-\"}, {\"Mode\": \"Duos\", \"Ended at\": \"2021-11-13T00:23:53\", \"Team\": \"twenty_eight\", \"Username\": \"Culus\", \"Playtime\": \"07:40\", \"#\": 45, \"KD\": 1.0, \"Kills\": 2, \"Deaths\": 2, \"Assists\": 0, \"Damage >\": 707, \"Damage <\": 300, \"Gulag\": \"W\", \"% moving\": 95.5, \"Game duration\": \"27\", \"Loadout_1\": \"iw8_sm_mpapa5 - iw8_sn_hdromeo\", \"Loadout_2\": \"-\", \"Loadout_3\": \"-\"}, {\"Mode\": \"Duos\", \"Ended at\": \"2021-11-13T00:23:53\", \"Team\": \"seventy_two\", \"Username\": \"resWARy\", \"Playtime\": \"09:11\", \"#\": 38, \"KD\": 0.3, \"Kills\": 1, \"Deaths\": 3, \"Assists\": 0, \"Damage >\": 466, \"Damage <\": 528, \"Gulag\": \"W\", \"% moving\": 73.0, \"Game duration\": \"27\", \"Loadout_1\": \"iw8_ar_t9damage - iw8_sm_t9standard\", \"Loadout_2\": \"iw8_pi_t9semiauto - iw8_fists\", \"Loadout_3\": \"iw8_pi_t9semiauto - iw8_fists\"}, {\"Mode\": \"Duos\", \"Ended at\": \"2021-11-13T00:23:53\", \"Team\": \"fifty_eight\", \"Username\": \"W3BS1\", \"Playtime\": \"08:43\", \"#\": 36, \"KD\": 1.5, \"Kills\": 3, \"Deaths\": 2, \"Assists\": 0, \"Damage >\": 1064, \"Damage <\": 327, \"Gulag\": \"W\", \"% moving\": 88.4, \"Game duration\": \"27\", \"Loadout_1\": \"iw8_ar_galima - iw8_pi_t9fullauto\", \"Loadout_2\": \"iw8_pi_t9semiauto - iw8_fists\", \"Loadout_3\": \"-\"}, {\"Mode\": \"Duos\", \"Ended at\": \"2021-11-13T00:23:53\", \"Team\": \"twenty_one\", \"Username\": \"ciliK\", \"Playtime\": \"06:39\", \"#\": 53, \"KD\": 1.0, \"Kills\": 2, \"Deaths\": 2, \"Assists\": 0, \"Damage >\": 563, \"Damage <\": 460, \"Gulag\": \"W\", \"% moving\": 83.3, \"Game duration\": \"27\", \"Loadout_1\": \"s4_ar_stango44temp - iw8_sn_t9accurate\", \"Loadout_2\": \"-\", \"Loadout_3\": \"-\"}, {\"Mode\": \"Duos\", \"Ended at\": \"2021-11-13T00:23:53\", \"Team\": \"fifty_seven\", \"Username\": \"galaxyynot\", \"Playtime\": \"24:36\", \"#\": 12, \"KD\": 2.5, \"Kills\": 5, \"Deaths\": 2, \"Assists\": 0, \"Damage >\": 1023, \"Damage <\": 865, \"Gulag\": \"W\", \"% moving\": 87.3, \"Game duration\": \"27\", \"Loadout_1\": \"iw8_ar_t9british - iw8_sm_t9cqb\", \"Loadout_2\": \"-\", \"Loadout_3\": \"-\"}, {\"Mode\": \"Duos\", \"Ended at\": \"2021-11-13T00:23:53\", \"Team\": \"sixty_two\", \"Username\": \"VIKING\", \"Playtime\": \"02:59\", \"#\": 74, \"KD\": 0.0, \"Kills\": 0, \"Deaths\": 2, \"Assists\": 1, \"Damage >\": 27, \"Damage <\": 393, \"Gulag\": \"L\", \"% moving\": 79.6, \"Game duration\": \"27\", \"Loadout_1\": \"iw8_sn_kilo98 - iw8_pi_mike9\", \"Loadout_2\": \"iw8_pi_t9semiauto - iw8_fists\", \"Loadout_3\": \"-\"}, {\"Mode\": \"Duos\", \"Ended at\": \"2021-11-13T00:23:53\", \"Team\": \"twenty_four\", \"Username\": \"thedutyman666\", \"Playtime\": \"06:28\", \"#\": 54, \"KD\": 0.5, \"Kills\": 1, \"Deaths\": 2, \"Assists\": 1, \"Damage >\": 563, \"Damage <\": 453, \"Gulag\": \"W\", \"% moving\": 97.7, \"Game duration\": \"27\", \"Loadout_1\": \"iw8_sm_t9season6 - iw8_pi_golf21\", \"Loadout_2\": \"iw8_pi_t9semiauto - iw8_fists\", \"Loadout_3\": \"-\"}, {\"Mode\": \"Duos\", \"Ended at\": \"2021-11-13T00:23:53\", \"Team\": \"twenty\", \"Username\": \"\\u30a2\\u30e9\\u30b8\\u30f3\", \"Playtime\": \"03:43\", \"#\": 67, \"KD\": 0.5, \"Kills\": 1, \"Deaths\": 2, \"Assists\": 0, \"Damage >\": 108, \"Damage <\": 400, \"Gulag\": \"W\", \"% moving\": 94.2, \"Game duration\": \"27\", \"Loadout_1\": \"iw8_ar_t9british - iw8_la_rpapa7\", \"Loadout_2\": \"-\", \"Loadout_3\": \"-\"}, {\"Mode\": \"Duos\", \"Ended at\": \"2021-11-13T00:23:53\", \"Team\": \"forty_five\", \"Username\": \"Melnux\", \"Playtime\": \"10:53\", \"#\": 29, \"KD\": 0.0, \"Kills\": 0, \"Deaths\": 3, \"Assists\": 0, \"Damage >\": 213, \"Damage <\": 486, \"Gulag\": \"L\", \"% moving\": 66.1, \"Game duration\": \"27\", \"Loadout_1\": \"iw8_sm_t9capacity - iw8_sn_kilo98\", \"Loadout_2\": \"iw8_pi_t9semiauto - iw8_fists\", \"Loadout_3\": \"iw8_sm_t9cqb - iw8_fists\"}, {\"Mode\": \"Duos\", \"Ended at\": \"2021-11-13T00:23:53\", \"Team\": \"forty_six\", \"Username\": \"markasimo72\", \"Playtime\": \"05:01\", \"#\": 65, \"KD\": 0.0, \"Kills\": 0, \"Deaths\": 2, \"Assists\": 0, \"Damage >\": 330, \"Damage <\": 206, \"Gulag\": \"L\", \"% moving\": 77.6, \"Game duration\": \"27\", \"Loadout_1\": \"iw8_sn_kilo98 - iw8_sm_t9fastfire\", \"Loadout_2\": \"-\", \"Loadout_3\": \"-\"}, {\"Mode\": \"Duos\", \"Ended at\": \"2021-11-13T00:23:53\", \"Team\": \"twenty_five\", \"Username\": \"carriola94\", \"Playtime\": \"28:14\", \"#\": 4, \"KD\": 8.0, \"Kills\": 8, \"Deaths\": 1, \"Assists\": 1, \"Damage >\": 3501, \"Damage <\": 170, \"Gulag\": \"L\", \"% moving\": 90.0, \"Game duration\": \"27\", \"Loadout_1\": \"iw8_ar_t9british - iw8_sm_t9standard\", \"Loadout_2\": \"iw8_pi_t9semiauto - iw8_fists\", \"Loadout_3\": \"-\"}, {\"Mode\": \"Duos\", \"Ended at\": \"2021-11-13T00:23:53\", \"Team\": \"thirty_eight\", \"Username\": \"Brunoxx\", \"Playtime\": \"26:44\", \"#\": 6, \"KD\": 0.0, \"Kills\": 0, \"Deaths\": 4, \"Assists\": 0, \"Damage >\": 1290, \"Damage <\": 526, \"Gulag\": \"L\", \"% moving\": 72.4, \"Game duration\": \"27\", \"Loadout_1\": \"iw8_sm_t9capacity - iw8_sn_kilo98\", \"Loadout_2\": \"iw8_sm_t9cqb - iw8_fists\", \"Loadout_3\": \"iw8_pi_t9semiauto - iw8_fists\"}, {\"Mode\": \"Duos\", \"Ended at\": \"2021-11-13T00:23:53\", \"Team\": \"fifty_one\", \"Username\": \"LostCHACKA\", \"Playtime\": \"03:14\", \"#\": 68, \"KD\": 1.0, \"Kills\": 1, \"Deaths\": 0, \"Assists\": 0, \"Damage >\": 200, \"Damage <\": 0, \"Gulag\": \"L\", \"% moving\": 98.1, \"Game duration\": \"27\", \"Loadout_1\": \"iw8_sm_t9capacity - iw8_sn_t9accurate\", \"Loadout_2\": \"iw8_pi_t9semiauto - iw8_fists\", \"Loadout_3\": \"-\"}, {\"Mode\": \"Duos\", \"Ended at\": \"2021-11-13T00:23:53\", \"Team\": \"four\", \"Username\": \"PoLsKaBoY93\", \"Playtime\": \"09:55\", \"#\": 33, \"KD\": 0.0, \"Kills\": 0, \"Deaths\": 2, \"Assists\": 0, \"Damage >\": 379, \"Damage <\": 200, \"Gulag\": \"L\", \"% moving\": 77.7, \"Game duration\": \"27\", \"Loadout_1\": \"iw8_ar_t9damage - iw8_sm_t9spray\", \"Loadout_2\": \"iw8_pi_t9semiauto - iw8_fists\", \"Loadout_3\": \"-\"}, {\"Mode\": \"Duos\", \"Ended at\": \"2021-11-13T00:23:53\", \"Team\": \"forty\", \"Username\": \"PEP7s\", \"Playtime\": \"16:51\", \"#\": 19, \"KD\": 3.0, \"Kills\": 6, \"Deaths\": 2, \"Assists\": 1, \"Damage >\": 1326, \"Damage <\": 277, \"Gulag\": \"W\", \"% moving\": 95.8, \"Game duration\": \"27\", \"Loadout_1\": \"iw8_sm_mpapa5 - iw8_sn_t9accurate\", \"Loadout_2\": \"-\", \"Loadout_3\": \"-\"}, {\"Mode\": \"Duos\", \"Ended at\": \"2021-11-13T00:23:53\", \"Team\": \"eighteen\", \"Username\": \"3bor9\", \"Playtime\": \"06:59\", \"#\": 51, \"KD\": 1.0, \"Kills\": 2, \"Deaths\": 2, \"Assists\": 1, \"Damage >\": 412, \"Damage <\": 322, \"Gulag\": \"W\", \"% moving\": 97.0, \"Game duration\": \"27\", \"Loadout_1\": \"iw8_sn_hdromeo - iw8_pi_mike9\", \"Loadout_2\": \"iw8_pi_t9semiauto - iw8_fists\", \"Loadout_3\": \"-\"}, {\"Mode\": \"Duos\", \"Ended at\": \"2021-11-13T00:23:53\", \"Team\": \"seventy_four\", \"Username\": \"xXSkulll57Xx\", \"Playtime\": \"29:04\", \"#\": 28, \"KD\": 1.0, \"Kills\": 2, \"Deaths\": 2, \"Assists\": 0, \"Damage >\": 755, \"Damage <\": 405, \"Gulag\": \"L\", \"% moving\": 28.2, \"Game duration\": \"27\", \"Loadout_1\": \"iw8_ar_t9damage - iw8_sn_t9accurate\", \"Loadout_2\": \"-\", \"Loadout_3\": \"-\"}, {\"Mode\": \"Duos\", \"Ended at\": \"2021-11-13T00:23:53\", \"Team\": \"thirty_one\", \"Username\": \"Cab\", \"Playtime\": \"00:53\", \"#\": 76, \"KD\": 0.0, \"Kills\": 0, \"Deaths\": 0, \"Assists\": 0, \"Damage >\": 0, \"Damage <\": 0, \"Gulag\": \"L\", \"% moving\": 0.0, \"Game duration\": \"27\", \"Loadout_1\": \"-\", \"Loadout_2\": \"-\", \"Loadout_3\": \"-\"}, {\"Mode\": \"Duos\", \"Ended at\": \"2021-11-13T00:23:53\", \"Team\": \"fifty_four\", \"Username\": \"Bugi\", \"Playtime\": \"12:20\", \"#\": 26, \"KD\": 0.0, \"Kills\": 0, \"Deaths\": 2, \"Assists\": 0, \"Damage >\": 290, \"Damage <\": 379, \"Gulag\": \"L\", \"% moving\": 64.1, \"Game duration\": \"27\", \"Loadout_1\": \"iw8_sm_t9cqb - iw8_ar_t9british\", \"Loadout_2\": \"iw8_pi_t9semiauto - iw8_fists\", \"Loadout_3\": \"-\"}, {\"Mode\": \"Duos\", \"Ended at\": \"2021-11-13T00:23:53\", \"Team\": \"twenty_one\", \"Username\": \"Agir\", \"Playtime\": \"06:38\", \"#\": 53, \"KD\": 0.0, \"Kills\": 0, \"Deaths\": 2, \"Assists\": 2, \"Damage >\": 545, \"Damage <\": 300, \"Gulag\": \"L\", \"% moving\": 48.1, \"Game duration\": \"27\", \"Loadout_1\": \"iw8_ar_t9season6 - iw8_me_t9sai\", \"Loadout_2\": \"iw8_pi_t9semiauto - iw8_fists\", \"Loadout_3\": \"-\"}, {\"Mode\": \"Duos\", \"Ended at\": \"2021-11-13T00:23:53\", \"Team\": \"thirty_six\", \"Username\": \"TTS349\", \"Playtime\": \"21:01\", \"#\": 14, \"KD\": 1.3, \"Kills\": 4, \"Deaths\": 3, \"Assists\": 0, \"Damage >\": 1824, \"Damage <\": 500, \"Gulag\": \"W\", \"% moving\": 81.5, \"Game duration\": \"27\", \"Loadout_1\": \"iw8_ar_tango21 - iw8_sm_t9cqb\", \"Loadout_2\": \"iw8_pi_t9semiauto - iw8_fists\", \"Loadout_3\": \"iw8_pi_t9semiauto - iw8_fists\"}, {\"Mode\": \"Duos\", \"Ended at\": \"2021-11-13T00:23:53\", \"Team\": \"fourteen\", \"Username\": \"skloddi\", \"Playtime\": \"07:14\", \"#\": 50, \"KD\": 0.7, \"Kills\": 2, \"Deaths\": 3, \"Assists\": 0, \"Damage >\": 312, \"Damage <\": 500, \"Gulag\": \"L\", \"% moving\": 65.6, \"Game duration\": \"27\", \"Loadout_1\": \"iw8_sm_t9cqb - iw8_ar_t9british\", \"Loadout_2\": \"iw8_pi_t9semiauto - iw8_fists\", \"Loadout_3\": \"iw8_ar_t9fasthandling - iw8_fists\"}, {\"Mode\": \"Duos\", \"Ended at\": \"2021-11-13T00:23:53\", \"Team\": \"nine\", \"Username\": \"Hyse\", \"Playtime\": \"28:01\", \"#\": 2, \"KD\": 1.0, \"Kills\": 1, \"Deaths\": 1, \"Assists\": 1, \"Damage >\": 1149, \"Damage <\": 625, \"Gulag\": \"L\", \"% moving\": 84.0, \"Game duration\": \"27\", \"Loadout_1\": \"iw8_sn_kilo98 - iw8_la_rpapa7\", \"Loadout_2\": \"iw8_pi_t9semiauto - iw8_fists\", \"Loadout_3\": \"-\"}, {\"Mode\": \"Duos\", \"Ended at\": \"2021-11-13T00:23:53\", \"Team\": \"sixty\", \"Username\": \"Bumbumbum99\", \"Playtime\": \"10:11\", \"#\": 32, \"KD\": 1.0, \"Kills\": 2, \"Deaths\": 2, \"Assists\": 0, \"Damage >\": 451, \"Damage <\": 387, \"Gulag\": \"L\", \"% moving\": 90.9, \"Game duration\": \"27\", \"Loadout_1\": \"iw8_ar_mike4 - iw8_me_t9sai\", \"Loadout_2\": \"-\", \"Loadout_3\": \"-\"}, {\"Mode\": \"Duos\", \"Ended at\": \"2021-11-13T00:23:53\", \"Team\": \"sixty\", \"Username\": \"Anru_dk\", \"Playtime\": \"10:26\", \"#\": 32, \"KD\": 1.0, \"Kills\": 2, \"Deaths\": 2, \"Assists\": 0, \"Damage >\": 608, \"Damage <\": 490, \"Gulag\": \"W\", \"% moving\": 92.8, \"Game duration\": \"27\", \"Loadout_1\": \"iw8_ar_t9damage - iw8_sn_t9accurate\", \"Loadout_2\": \"iw8_pi_t9semiauto - iw8_fists\", \"Loadout_3\": \"-\"}, {\"Mode\": \"Duos\", \"Ended at\": \"2021-11-13T00:23:53\", \"Team\": \"thirty_three\", \"Username\": \"777\", \"Playtime\": \"16:08\", \"#\": 20, \"KD\": 1.0, \"Kills\": 2, \"Deaths\": 2, \"Assists\": 1, \"Damage >\": 682, \"Damage <\": 317, \"Gulag\": \"W\", \"% moving\": 93.4, \"Game duration\": \"27\", \"Loadout_1\": \"iw8_ar_t9slowhandling - iw8_sn_kilo98\", \"Loadout_2\": \"iw8_pi_t9semiauto - iw8_fists\", \"Loadout_3\": \"-\"}, {\"Mode\": \"Duos\", \"Ended at\": \"2021-11-13T00:23:53\", \"Team\": \"forty_two\", \"Username\": \"MagicPants\", \"Playtime\": \"06:20\", \"#\": 55, \"KD\": 0.0, \"Kills\": 0, \"Deaths\": 2, \"Assists\": 0, \"Damage >\": 350, \"Damage <\": 301, \"Gulag\": \"L\", \"% moving\": 71.2, \"Game duration\": \"27\", \"Loadout_1\": \"iw8_ar_t9british - iw8_pi_t9semiauto\", \"Loadout_2\": \"-\", \"Loadout_3\": \"-\"}, {\"Mode\": \"Duos\", \"Ended at\": \"2021-11-13T00:23:53\", \"Team\": \"thirty\", \"Username\": \"Mial\", \"Playtime\": \"19:44\", \"#\": 15, \"KD\": 2.5, \"Kills\": 5, \"Deaths\": 2, \"Assists\": 0, \"Damage >\": 2136, \"Damage <\": 310, \"Gulag\": \"W\", \"% moving\": 97.3, \"Game duration\": \"27\", \"Loadout_1\": \"iw8_sm_t9cqb - iw8_ar_t9british\", \"Loadout_2\": \"iw8_pi_t9semiauto - iw8_fists\", \"Loadout_3\": \"-\"}, {\"Mode\": \"Duos\", \"Ended at\": \"2021-11-13T00:23:53\", \"Team\": \"axis\", \"Username\": \"Sandzos91\", \"Playtime\": \"10:22\", \"#\": 31, \"KD\": 1.5, \"Kills\": 3, \"Deaths\": 2, \"Assists\": 0, \"Damage >\": 1132, \"Damage <\": 316, \"Gulag\": \"W\", \"% moving\": 97.0, \"Game duration\": \"27\", \"Loadout_1\": \"iw8_ar_t9slowhandling - iw8_sm_t9cqb\", \"Loadout_2\": \"-\", \"Loadout_3\": \"-\"}, {\"Mode\": \"Duos\", \"Ended at\": \"2021-11-13T00:23:53\", \"Team\": \"seventy_one\", \"Username\": \"Bail O Dhia\", \"Playtime\": \"06:17\", \"#\": 58, \"KD\": 0.5, \"Kills\": 1, \"Deaths\": 2, \"Assists\": 1, \"Damage >\": 295, \"Damage <\": 281, \"Gulag\": \"W\", \"% moving\": 92.8, \"Game duration\": \"27\", \"Loadout_1\": \"iw8_me_riotshield - iw8_me_t9machete\", \"Loadout_2\": \"-\", \"Loadout_3\": \"-\"}, {\"Mode\": \"Duos\", \"Ended at\": \"2021-11-13T00:23:53\", \"Team\": \"forty_three\", \"Username\": \"S2mle100lesh\", \"Playtime\": \"09:22\", \"#\": 34, \"KD\": 0.5, \"Kills\": 1, \"Deaths\": 2, \"Assists\": 1, \"Damage >\": 586, \"Damage <\": 301, \"Gulag\": \"L\", \"% moving\": 58.4, \"Game duration\": \"27\", \"Loadout_1\": \"iw8_ar_t9standard - iw8_sn_t9accurate\", \"Loadout_2\": \"iw8_pi_t9semiauto - iw8_fists\", \"Loadout_3\": \"iw8_sm_t9cqb - iw8_fists\"}, {\"Mode\": \"Duos\", \"Ended at\": \"2021-11-13T00:23:53\", \"Team\": \"seventy_five\", \"Username\": \"Neno\", \"Playtime\": \"03:23\", \"#\": 72, \"KD\": 2.0, \"Kills\": 2, \"Deaths\": 1, \"Assists\": 0, \"Damage >\": 596, \"Damage <\": 100, \"Gulag\": \"L\", \"% moving\": 100.0, \"Game duration\": \"27\", \"Loadout_1\": \"iw8_ar_t9damage - iw8_sn_kilo98\", \"Loadout_2\": \"iw8_pi_t9semiauto - iw8_fists\", \"Loadout_3\": \"-\"}, {\"Mode\": \"Duos\", \"Ended at\": \"2021-11-13T00:23:53\", \"Team\": \"seventy_two\", \"Username\": \"Zalbadar\", \"Playtime\": \"09:11\", \"#\": 38, \"KD\": 0.5, \"Kills\": 1, \"Deaths\": 2, \"Assists\": 0, \"Damage >\": 303, \"Damage <\": 569, \"Gulag\": \"W\", \"% moving\": 86.1, \"Game duration\": \"27\", \"Loadout_1\": \"iw8_sm_t9cqb - iw8_sn_t9accurate\", \"Loadout_2\": \"-\", \"Loadout_3\": \"-\"}, {\"Mode\": \"Duos\", \"Ended at\": \"2021-11-13T00:23:53\", \"Team\": \"twelve\", \"Username\": \"PLAZA\", \"Playtime\": \"16:59\", \"#\": 18, \"KD\": 1.5, \"Kills\": 3, \"Deaths\": 2, \"Assists\": 0, \"Damage >\": 589, \"Damage <\": 386, \"Gulag\": \"W\", \"% moving\": 93.5, \"Game duration\": \"27\", \"Loadout_1\": \"iw8_sm_t9accurate - iw8_ar_mike4\", \"Loadout_2\": \"iw8_pi_t9semiauto - iw8_fists\", \"Loadout_3\": \"-\"}, {\"Mode\": \"Duos\", \"Ended at\": \"2021-11-13T00:23:53\", \"Team\": \"fourteen\", \"Username\": \"SanMiquel88\", \"Playtime\": \"07:13\", \"#\": 50, \"KD\": 0.0, \"Kills\": 0, \"Deaths\": 2, \"Assists\": 0, \"Damage >\": 93, \"Damage <\": 200, \"Gulag\": \"L\", \"% moving\": 99.1, \"Game duration\": \"27\", \"Loadout_1\": \"iw8_sn_t9accurate - iw8_sm_t9cqb\", \"Loadout_2\": \"iw8_pi_t9semiauto - iw8_fists\", \"Loadout_3\": \"-\"}, {\"Mode\": \"Duos\", \"Ended at\": \"2021-11-13T00:23:53\", \"Team\": \"twenty_seven\", \"Username\": \"E-G-J  RaGnA 23\", \"Playtime\": \"03:42\", \"#\": 71, \"KD\": 0.0, \"Kills\": 0, \"Deaths\": 2, \"Assists\": 0, \"Damage >\": 77, \"Damage <\": 240, \"Gulag\": \"L\", \"% moving\": 87.0, \"Game duration\": \"27\", \"Loadout_1\": \"iw8_sm_t9accurate - iw8_sn_t9accurate\", \"Loadout_2\": \"-\", \"Loadout_3\": \"-\"}, {\"Mode\": \"Duos\", \"Ended at\": \"2021-11-13T00:23:53\", \"Team\": \"fifteen\", \"Username\": \"doMi\", \"Playtime\": \"19:11\", \"#\": 16, \"KD\": 1.7, \"Kills\": 5, \"Deaths\": 3, \"Assists\": 0, \"Damage >\": 1087, \"Damage <\": 378, \"Gulag\": \"L\", \"% moving\": 87.3, \"Game duration\": \"27\", \"Loadout_1\": \"iw8_ar_t9damage - iw8_sm_t9spray\", \"Loadout_2\": \"iw8_pi_t9semiauto - iw8_fists\", \"Loadout_3\": \"iw8_sh_t9pump - iw8_fists\"}, {\"Mode\": \"Duos\", \"Ended at\": \"2021-11-13T00:23:53\", \"Team\": \"five\", \"Username\": \"Pajdowski\", \"Playtime\": \"04:25\", \"#\": 62, \"KD\": 0.0, \"Kills\": 0, \"Deaths\": 0, \"Assists\": 1, \"Damage >\": 296, \"Damage <\": 106, \"Gulag\": \"L\", \"% moving\": 92.7, \"Game duration\": \"27\", \"Loadout_1\": \"iw8_ar_t9standard - iw8_sm_t9cqb\", \"Loadout_2\": \"-\", \"Loadout_3\": \"-\"}, {\"Mode\": \"Duos\", \"Ended at\": \"2021-11-13T00:23:53\", \"Team\": \"twenty_four\", \"Username\": \"j\\u00e6dienzomansith\", \"Playtime\": \"06:27\", \"#\": 54, \"KD\": 1.0, \"Kills\": 2, \"Deaths\": 2, \"Assists\": 0, \"Damage >\": 417, \"Damage <\": 402, \"Gulag\": \"W\", \"% moving\": 89.4, \"Game duration\": \"27\", \"Loadout_1\": \"iw8_ar_tango21 - iw8_pi_papa320\", \"Loadout_2\": \"iw8_pi_t9semiauto - iw8_fists\", \"Loadout_3\": \"-\"}, {\"Mode\": \"Duos\", \"Ended at\": \"2021-11-13T00:23:53\", \"Team\": \"fifty\", \"Username\": \"Pinzio\", \"Playtime\": \"07:33\", \"#\": 46, \"KD\": 0.5, \"Kills\": 1, \"Deaths\": 2, \"Assists\": 0, \"Damage >\": 142, \"Damage <\": 322, \"Gulag\": \"L\", \"% moving\": 45.5, \"Game duration\": \"27\", \"Loadout_1\": \"iw8_sm_mpapa7 - iw8_sn_t9accurate\", \"Loadout_2\": \"-\", \"Loadout_3\": \"-\"}, {\"Mode\": \"Duos\", \"Ended at\": \"2021-11-13T00:23:53\", \"Team\": \"thirty_nine\", \"Username\": \"Pilota93\", \"Playtime\": \"05:55\", \"#\": 57, \"KD\": 0.0, \"Kills\": 0, \"Deaths\": 3, \"Assists\": 0, \"Damage >\": 215, \"Damage <\": 492, \"Gulag\": \"L\", \"% moving\": 64.5, \"Game duration\": \"27\", \"Loadout_1\": \"iw8_ar_mcharlie - iw8_pi_t9burst\", \"Loadout_2\": \"iw8_sm_t9cqb - iw8_fists\", \"Loadout_3\": \"-\"}, {\"Mode\": \"Duos\", \"Ended at\": \"2021-11-13T00:23:53\", \"Team\": \"nine\", \"Username\": \"UrCrush\", \"Playtime\": \"28:04\", \"#\": 2, \"KD\": 8.0, \"Kills\": 8, \"Deaths\": 1, \"Assists\": 0, \"Damage >\": 2735, \"Damage <\": 390, \"Gulag\": \"L\", \"% moving\": 93.8, \"Game duration\": \"27\", \"Loadout_1\": \"iw8_ar_t9damage - iw8_knife\", \"Loadout_2\": \"iw8_pi_t9semiauto - iw8_fists\", \"Loadout_3\": \"-\"}, {\"Mode\": \"Duos\", \"Ended at\": \"2021-11-13T00:23:53\", \"Team\": \"nineteen\", \"Username\": \"Ge off du huan\", \"Playtime\": \"13:20\", \"#\": 22, \"KD\": 0.0, \"Kills\": 0, \"Deaths\": 3, \"Assists\": 0, \"Damage >\": 494, \"Damage <\": 454, \"Gulag\": \"L\", \"% moving\": 55.0, \"Game duration\": \"27\", \"Loadout_1\": \"iw8_ar_t9damage - iw8_sm_t9cqb\", \"Loadout_2\": \"iw8_pi_t9semiauto - iw8_fists\", \"Loadout_3\": \"iw8_pi_t9revolver - iw8_fists\"}, {\"Mode\": \"Duos\", \"Ended at\": \"2021-11-13T00:23:53\", \"Team\": \"thirty_three\", \"Username\": \"fi\\u0107oxbot\", \"Playtime\": \"16:19\", \"#\": 20, \"KD\": 3.5, \"Kills\": 7, \"Deaths\": 2, \"Assists\": 0, \"Damage >\": 2536, \"Damage <\": 697, \"Gulag\": \"L\", \"% moving\": 91.8, \"Game duration\": \"27\", \"Loadout_1\": \"iw8_sm_t9cqb - iw8_ar_t9british\", \"Loadout_2\": \"iw8_pi_t9semiauto - iw8_fists\", \"Loadout_3\": \"-\"}, {\"Mode\": \"Duos\", \"Ended at\": \"2021-11-13T00:23:53\", \"Team\": \"thirty_seven\", \"Username\": \"Andreas\", \"Playtime\": \"05:46\", \"#\": 59, \"KD\": 0.0, \"Kills\": 0, \"Deaths\": 2, \"Assists\": 1, \"Damage >\": 94, \"Damage <\": 299, \"Gulag\": \"L\", \"% moving\": 44.2, \"Game duration\": \"27\", \"Loadout_1\": \"iw8_ar_t9slowhandling - iw8_sm_t9spray\", \"Loadout_2\": \"-\", \"Loadout_3\": \"-\"}, {\"Mode\": \"Duos\", \"Ended at\": \"2021-11-13T00:23:53\", \"Team\": \"forty_two\", \"Username\": \"Leon\", \"Playtime\": \"06:20\", \"#\": 55, \"KD\": 0.0, \"Kills\": 0, \"Deaths\": 2, \"Assists\": 0, \"Damage >\": 190, \"Damage <\": 200, \"Gulag\": \"L\", \"% moving\": 83.1, \"Game duration\": \"27\", \"Loadout_1\": \"iw8_sn_t9accurate - iw8_pi_t9fullauto\", \"Loadout_2\": \"iw8_pi_t9semiauto - iw8_fists\", \"Loadout_3\": \"-\"}, {\"Mode\": \"Duos\", \"Ended at\": \"2021-11-13T00:23:53\", \"Team\": \"seventeen\", \"Username\": \"Haluk57\", \"Playtime\": \"25:28\", \"#\": 5, \"KD\": 2.5, \"Kills\": 5, \"Deaths\": 2, \"Assists\": 3, \"Damage >\": 2074, \"Damage <\": 634, \"Gulag\": \"W\", \"% moving\": 96.7, \"Game duration\": \"27\", \"Loadout_1\": \"iw8_ar_asierra12 - iw8_sm_t9capacity\", \"Loadout_2\": \"iw8_pi_t9semiauto - iw8_fists\", \"Loadout_3\": \"-\"}, {\"Mode\": \"Duos\", \"Ended at\": \"2021-11-13T00:23:53\", \"Team\": \"seventy_one\", \"Username\": \"Kev Timoney\", \"Playtime\": \"06:01\", \"#\": 58, \"KD\": 1.0, \"Kills\": 2, \"Deaths\": 2, \"Assists\": 1, \"Damage >\": 362, \"Damage <\": 300, \"Gulag\": \"W\", \"% moving\": 89.3, \"Game duration\": \"27\", \"Loadout_1\": \"iw8_ar_sierra552 - iw8_sn_kilo98\", \"Loadout_2\": \"iw8_pi_t9semiauto - iw8_fists\", \"Loadout_3\": \"-\"}, {\"Mode\": \"Duos\", \"Ended at\": \"2021-11-13T00:23:53\", \"Team\": \"forty_five\", \"Username\": \"matzpaff\", \"Playtime\": \"10:51\", \"#\": 29, \"KD\": 1.0, \"Kills\": 2, \"Deaths\": 2, \"Assists\": 0, \"Damage >\": 409, \"Damage <\": 444, \"Gulag\": \"W\", \"% moving\": 88.4, \"Game duration\": \"27\", \"Loadout_1\": \"iw8_sn_t9accurate - iw8_sm_mpapa5\", \"Loadout_2\": \"iw8_pi_t9semiauto - iw8_fists\", \"Loadout_3\": \"-\"}, {\"Mode\": \"Duos\", \"Ended at\": \"2021-11-13T00:23:53\", \"Team\": \"sixty_nine\", \"Username\": \"angelsx82\", \"Playtime\": \"15:36\", \"#\": 21, \"KD\": 1.0, \"Kills\": 2, \"Deaths\": 2, \"Assists\": 1, \"Damage >\": 540, \"Damage <\": 356, \"Gulag\": \"W\", \"% moving\": 91.6, \"Game duration\": \"27\", \"Loadout_1\": \"iw8_ar_mike4 - iw8_sn_kilo98\", \"Loadout_2\": \"-\", \"Loadout_3\": \"-\"}, {\"Mode\": \"Duos\", \"Ended at\": \"2021-11-13T00:23:53\", \"Team\": \"sixty_three\", \"Username\": \"NINJA\", \"Playtime\": \"23:35\", \"#\": 11, \"KD\": 3.0, \"Kills\": 3, \"Deaths\": 1, \"Assists\": 0, \"Damage >\": 1350, \"Damage <\": 370, \"Gulag\": \"L\", \"% moving\": 96.6, \"Game duration\": \"27\", \"Loadout_1\": \"iw8_ar_t9british - iw8_pi_cpapa\", \"Loadout_2\": \"iw8_pi_t9semiauto - iw8_fists\", \"Loadout_3\": \"-\"}, {\"Mode\": \"Duos\", \"Ended at\": \"2021-11-13T00:23:53\", \"Team\": \"eleven\", \"Username\": \"HiddenPants\", \"Playtime\": \"08:07\", \"#\": 44, \"KD\": 0.5, \"Kills\": 1, \"Deaths\": 2, \"Assists\": 0, \"Damage >\": 452, \"Damage <\": 280, \"Gulag\": \"L\", \"% moving\": 86.5, \"Game duration\": \"27\", \"Loadout_1\": \"iw8_ar_t9fasthandling - iw8_ar_t9slowhandling\", \"Loadout_2\": \"iw8_pi_t9semiauto - iw8_fists\", \"Loadout_3\": \"-\"}, {\"Mode\": \"Duos\", \"Ended at\": \"2021-11-13T00:23:53\", \"Team\": \"sixty_three\", \"Username\": \"Lukaha1000\", \"Playtime\": \"23:37\", \"#\": 11, \"KD\": 1.0, \"Kills\": 1, \"Deaths\": 1, \"Assists\": 1, \"Damage >\": 723, \"Damage <\": 813, \"Gulag\": \"L\", \"% moving\": 93.6, \"Game duration\": \"27\", \"Loadout_1\": \"iw8_ar_akilo47 - iw8_sn_kilo98\", \"Loadout_2\": \"-\", \"Loadout_3\": \"-\"}, {\"Mode\": \"Duos\", \"Ended at\": \"2021-11-13T00:23:53\", \"Team\": \"forty_eight\", \"Username\": \"therealsaele\", \"Playtime\": \"24:04\", \"#\": 10, \"KD\": 0.7, \"Kills\": 2, \"Deaths\": 3, \"Assists\": 1, \"Damage >\": 1320, \"Damage <\": 512, \"Gulag\": \"L\", \"% moving\": 91.4, \"Game duration\": \"27\", \"Loadout_1\": \"iw8_sn_kilo98 - iw8_pi_mike1911\", \"Loadout_2\": \"iw8_sh_t9pump - iw8_fists\", \"Loadout_3\": \"-\"}, {\"Mode\": \"Duos\", \"Ended at\": \"2021-11-13T00:23:53\", \"Team\": \"thirty_four\", \"Username\": \"NiLhAXxX\", \"Playtime\": \"05:01\", \"#\": 63, \"KD\": 0.5, \"Kills\": 1, \"Deaths\": 2, \"Assists\": 0, \"Damage >\": 348, \"Damage <\": 300, \"Gulag\": \"L\", \"% moving\": 71.8, \"Game duration\": \"27\", \"Loadout_1\": \"iw8_sm_t9fastfire - iw8_sn_t9accurate\", \"Loadout_2\": \"iw8_pi_t9semiauto - iw8_fists\", \"Loadout_3\": \"-\"}, {\"Mode\": \"Duos\", \"Ended at\": \"2021-11-13T00:23:53\", \"Team\": \"fifty_five\", \"Username\": \"Aurel8787\", \"Playtime\": \"09:19\", \"#\": 37, \"KD\": 0.5, \"Kills\": 1, \"Deaths\": 2, \"Assists\": 0, \"Damage >\": 287, \"Damage <\": 396, \"Gulag\": \"W\", \"% moving\": 94.3, \"Game duration\": \"27\", \"Loadout_1\": \"iw8_sm_t9capacity - iw8_sn_t9accurate\", \"Loadout_2\": \"-\", \"Loadout_3\": \"-\"}, {\"Mode\": \"Duos\", \"Ended at\": \"2021-11-13T00:23:53\", \"Team\": \"six\", \"Username\": \"Mortel7Modjo\", \"Playtime\": \"12:37\", \"#\": 25, \"KD\": 0.3, \"Kills\": 1, \"Deaths\": 3, \"Assists\": 1, \"Damage >\": 612, \"Damage <\": 422, \"Gulag\": \"L\", \"% moving\": 69.0, \"Game duration\": \"27\", \"Loadout_1\": \"iw8_ar_t9damage - iw8_sn_kilo98\", \"Loadout_2\": \"iw8_pi_t9semiauto - iw8_fists\", \"Loadout_3\": \"iw8_sm_t9cqb - iw8_fists\"}, {\"Mode\": \"Duos\", \"Ended at\": \"2021-11-13T00:23:53\", \"Team\": \"thirty_five\", \"Username\": \"Wiggoooo96\", \"Playtime\": \"12:16\", \"#\": 27, \"KD\": 0.3, \"Kills\": 1, \"Deaths\": 3, \"Assists\": 0, \"Damage >\": 539, \"Damage <\": 408, \"Gulag\": \"L\", \"% moving\": 61.1, \"Game duration\": \"27\", \"Loadout_1\": \"iw8_ar_t9british - iw8_sm_t9cqb\", \"Loadout_2\": \"iw8_pi_t9semiauto - iw8_fists\", \"Loadout_3\": \"iw8_sn_t9damagesemi - iw8_fists\"}, {\"Mode\": \"Duos\", \"Ended at\": \"2021-11-13T00:23:53\", \"Team\": \"fifty_one\", \"Username\": \"Sn1perrang3r\", \"Playtime\": \"03:20\", \"#\": 68, \"KD\": 0.0, \"Kills\": 0, \"Deaths\": 0, \"Assists\": 0, \"Damage >\": 0, \"Damage <\": 0, \"Gulag\": \"L\", \"% moving\": 97.0, \"Game duration\": \"27\", \"Loadout_1\": \"iw8_ar_mcharlie - iw8_sn_t9accurate\", \"Loadout_2\": \"iw8_pi_t9semiauto - iw8_fists\", \"Loadout_3\": \"-\"}, {\"Mode\": \"Duos\", \"Ended at\": \"2021-11-13T00:23:53\", \"Team\": \"sixty_one\", \"Username\": \"bmwdriver892\", \"Playtime\": \"25:22\", \"#\": 7, \"KD\": 0.5, \"Kills\": 2, \"Deaths\": 4, \"Assists\": 0, \"Damage >\": 464, \"Damage <\": 873, \"Gulag\": \"W\", \"% moving\": 69.1, \"Game duration\": \"27\", \"Loadout_1\": \"iw8_sn_t9standard - iw8_ar_t9accurate\", \"Loadout_2\": \"iw8_pi_t9semiauto - iw8_fists\", \"Loadout_3\": \"iw8_sn_t9accurate - iw8_pi_t9burst\"}, {\"Mode\": \"Duos\", \"Ended at\": \"2021-11-13T00:23:53\", \"Team\": \"three\", \"Username\": \"ThorJekes\", \"Playtime\": \"03:20\", \"#\": 69, \"KD\": 0.0, \"Kills\": 0, \"Deaths\": 2, \"Assists\": 0, \"Damage >\": 475, \"Damage <\": 314, \"Gulag\": \"L\", \"% moving\": 89.1, \"Game duration\": \"27\", \"Loadout_1\": \"iw8_ar_sierra552 - iw8_me_akimboblunt\", \"Loadout_2\": \"iw8_pi_t9semiauto - iw8_fists\", \"Loadout_3\": \"-\"}, {\"Mode\": \"Duos\", \"Ended at\": \"2021-11-13T00:23:53\", \"Team\": \"twenty_two\", \"Username\": \"KAR Cher\", \"Playtime\": \"07:15\", \"#\": 48, \"KD\": 2.0, \"Kills\": 4, \"Deaths\": 2, \"Assists\": 0, \"Damage >\": 1110, \"Damage <\": 305, \"Gulag\": \"W\", \"% moving\": 97.7, \"Game duration\": \"27\", \"Loadout_1\": \"iw8_sn_kilo98 - iw8_pi_mike\", \"Loadout_2\": \"iw8_pi_t9semiauto - iw8_fists\", \"Loadout_3\": \"-\"}, {\"Mode\": \"Duos\", \"Ended at\": \"2021-11-13T00:23:53\", \"Team\": \"thirty_six\", \"Username\": \"xxxkilerxxx\", \"Playtime\": \"21:01\", \"#\": 14, \"KD\": 0.3, \"Kills\": 1, \"Deaths\": 3, \"Assists\": 0, \"Damage >\": 392, \"Damage <\": 926, \"Gulag\": \"W\", \"% moving\": 73.5, \"Game duration\": \"27\", \"Loadout_1\": \"iw8_sm_t9cqb - iw8_ar_t9standard\", \"Loadout_2\": \"iw8_pi_t9semiauto - iw8_fists\", \"Loadout_3\": \"iw8_pi_t9semiauto - iw8_fists\"}, {\"Mode\": \"Duos\", \"Ended at\": \"2021-11-13T00:23:53\", \"Team\": \"fifteen\", \"Username\": \"rilup\", \"Playtime\": \"19:13\", \"#\": 16, \"KD\": 1.5, \"Kills\": 3, \"Deaths\": 2, \"Assists\": 2, \"Damage >\": 1578, \"Damage <\": 226, \"Gulag\": \"W\", \"% moving\": 94.0, \"Game duration\": \"27\", \"Loadout_1\": \"iw8_ar_t9damage - iw8_sm_t9capacity\", \"Loadout_2\": \"iw8_pi_t9semiauto - iw8_fists\", \"Loadout_3\": \"-\"}, {\"Mode\": \"Duos\", \"Ended at\": \"2021-11-13T00:23:53\", \"Team\": \"eight\", \"Username\": \"ElBigode\", \"Playtime\": \"08:23\", \"#\": 40, \"KD\": 0.0, \"Kills\": 0, \"Deaths\": 2, \"Assists\": 1, \"Damage >\": 355, \"Damage <\": 200, \"Gulag\": \"L\", \"% moving\": 35.4, \"Game duration\": \"27\", \"Loadout_1\": \"iw8_ar_t9damage - iw8_me_t9sai\", \"Loadout_2\": \"iw8_pi_t9semiauto - iw8_fists\", \"Loadout_3\": \"-\"}, {\"Mode\": \"Duos\", \"Ended at\": \"2021-11-13T00:23:53\", \"Team\": \"twenty_nine\", \"Username\": \"MeerJungJunge\", \"Playtime\": \"08:32\", \"#\": 43, \"KD\": 1.5, \"Kills\": 3, \"Deaths\": 2, \"Assists\": 1, \"Damage >\": 602, \"Damage <\": 381, \"Gulag\": \"W\", \"% moving\": 72.9, \"Game duration\": \"27\", \"Loadout_1\": \"iw8_ar_valpha - iw8_pi_t9burst\", \"Loadout_2\": \"iw8_pi_t9semiauto - iw8_fists\", \"Loadout_3\": \"-\"}, {\"Mode\": \"Duos\", \"Ended at\": \"2021-11-13T00:23:53\", \"Team\": \"ten\", \"Username\": \"BLOWEY\", \"Playtime\": \"05:02\", \"#\": 61, \"KD\": 0.5, \"Kills\": 1, \"Deaths\": 2, \"Assists\": 0, \"Damage >\": 212, \"Damage <\": 212, \"Gulag\": \"L\", \"% moving\": 76.1, \"Game duration\": \"27\", \"Loadout_1\": \"iw8_sn_t9accurate - iw8_sm_t9cqb\", \"Loadout_2\": \"iw8_pi_t9semiauto - iw8_fists\", \"Loadout_3\": \"-\"}, {\"Mode\": \"Duos\", \"Ended at\": \"2021-11-13T00:23:53\", \"Team\": \"sixty_nine\", \"Username\": \"stely1\", \"Playtime\": \"15:36\", \"#\": 21, \"KD\": 0.7, \"Kills\": 2, \"Deaths\": 3, \"Assists\": 1, \"Damage >\": 967, \"Damage <\": 527, \"Gulag\": \"L\", \"% moving\": 45.5, \"Game duration\": \"27\", \"Loadout_1\": \"iw8_ar_t9standard - iw8_sn_kilo98\", \"Loadout_2\": \"iw8_pi_t9semiauto - iw8_fists\", \"Loadout_3\": \"iw8_ar_t9slowfire - iw8_fists\"}]}}, {\"mode\": \"vega-lite\"});\n",
       "</script>"
      ],
      "text/plain": [
       "alt.LayerChart(...)"
      ]
     },
     "execution_count": 54,
     "metadata": {},
     "output_type": "execute_result"
    }
   ],
   "source": [
    "base = alt.Chart(df)\n",
    "\n",
    "hist2 = base.mark_bar().encode(\n",
    "    x=alt.X('Kills:Q', bin=alt.BinParams(step=1)),\n",
    "    y=alt.Y('count()', axis=alt.Axis(tickCount=10, format='', title='n Players')),\n",
    "    tooltip=['Kills', 'count()'],\n",
    "    color=alt.value(\"orange\")\n",
    "            \n",
    ").properties(width=400, height=200)\n",
    "\n",
    "red_median_line = base.mark_rule(color='black').encode(\n",
    "    x=alt.X('median(KD):Q', title='KD'),\n",
    "    size=alt.value(2)\n",
    ")\n",
    "\n",
    "hist2 + red_median_line"
   ]
  },
  {
   "cell_type": "code",
   "execution_count": 55,
   "id": "c0530efe-25a2-4f74-8dbf-cb0261c47fd2",
   "metadata": {},
   "outputs": [
    {
     "data": {
      "text/html": [
       "\n",
       "<div id=\"altair-viz-aeabe15d73b449ffa3fcef99b345e346\"></div>\n",
       "<script type=\"text/javascript\">\n",
       "  (function(spec, embedOpt){\n",
       "    let outputDiv = document.currentScript.previousElementSibling;\n",
       "    if (outputDiv.id !== \"altair-viz-aeabe15d73b449ffa3fcef99b345e346\") {\n",
       "      outputDiv = document.getElementById(\"altair-viz-aeabe15d73b449ffa3fcef99b345e346\");\n",
       "    }\n",
       "    const paths = {\n",
       "      \"vega\": \"https://cdn.jsdelivr.net/npm//vega@5?noext\",\n",
       "      \"vega-lib\": \"https://cdn.jsdelivr.net/npm//vega-lib?noext\",\n",
       "      \"vega-lite\": \"https://cdn.jsdelivr.net/npm//vega-lite@4.8.1?noext\",\n",
       "      \"vega-embed\": \"https://cdn.jsdelivr.net/npm//vega-embed@6?noext\",\n",
       "    };\n",
       "\n",
       "    function loadScript(lib) {\n",
       "      return new Promise(function(resolve, reject) {\n",
       "        var s = document.createElement('script');\n",
       "        s.src = paths[lib];\n",
       "        s.async = true;\n",
       "        s.onload = () => resolve(paths[lib]);\n",
       "        s.onerror = () => reject(`Error loading script: ${paths[lib]}`);\n",
       "        document.getElementsByTagName(\"head\")[0].appendChild(s);\n",
       "      });\n",
       "    }\n",
       "\n",
       "    function showError(err) {\n",
       "      outputDiv.innerHTML = `<div class=\"error\" style=\"color:red;\">${err}</div>`;\n",
       "      throw err;\n",
       "    }\n",
       "\n",
       "    function displayChart(vegaEmbed) {\n",
       "      vegaEmbed(outputDiv, spec, embedOpt)\n",
       "        .catch(err => showError(`Javascript Error: ${err.message}<br>This usually means there's a typo in your chart specification. See the javascript console for the full traceback.`));\n",
       "    }\n",
       "\n",
       "    if(typeof define === \"function\" && define.amd) {\n",
       "      requirejs.config({paths});\n",
       "      require([\"vega-embed\"], displayChart, err => showError(`Error loading script: ${err.message}`));\n",
       "    } else if (typeof vegaEmbed === \"function\") {\n",
       "      displayChart(vegaEmbed);\n",
       "    } else {\n",
       "      loadScript(\"vega\")\n",
       "        .then(() => loadScript(\"vega-lite\"))\n",
       "        .then(() => loadScript(\"vega-embed\"))\n",
       "        .catch(showError)\n",
       "        .then(() => displayChart(vegaEmbed));\n",
       "    }\n",
       "  })({\"config\": {\"view\": {\"continuousWidth\": 400, \"continuousHeight\": 300}}, \"layer\": [{\"mark\": \"bar\", \"encoding\": {\"color\": {\"value\": \"orange\"}, \"tooltip\": [{\"type\": \"quantitative\", \"field\": \"KD\"}, {\"type\": \"quantitative\", \"aggregate\": \"count\"}], \"x\": {\"type\": \"quantitative\", \"bin\": {\"step\": 0.5}, \"field\": \"KD\"}, \"y\": {\"type\": \"quantitative\", \"aggregate\": \"count\", \"axis\": {\"format\": \"\", \"title\": \"n Players\"}}}, \"height\": 300, \"width\": 400}, {\"mark\": {\"type\": \"rule\", \"color\": \"black\"}, \"encoding\": {\"size\": {\"value\": 2}, \"x\": {\"type\": \"quantitative\", \"aggregate\": \"median\", \"field\": \"KD\", \"title\": \"KD\"}}}], \"data\": {\"name\": \"data-d223583e8034f937c8605b99cda26242\"}, \"$schema\": \"https://vega.github.io/schema/vega-lite/v4.8.1.json\", \"datasets\": {\"data-d223583e8034f937c8605b99cda26242\": [{\"Mode\": \"Duos\", \"Ended at\": \"2021-11-13T00:23:53\", \"Team\": \"fifty_nine\", \"Username\": \"JUREK  KILLER\", \"Playtime\": \"12:47\", \"#\": 24, \"KD\": 0.3, \"Kills\": 1, \"Deaths\": 3, \"Assists\": 1, \"Damage >\": 468, \"Damage <\": 657, \"Gulag\": \"W\", \"% moving\": 69.8, \"Game duration\": \"27\", \"Loadout_1\": \"iw8_sm_t9fastfire - iw8_sn_t9accurate\", \"Loadout_2\": \"iw8_pi_t9semiauto - iw8_fists\", \"Loadout_3\": \"iw8_pi_t9semiauto - iw8_fists\"}, {\"Mode\": \"Duos\", \"Ended at\": \"2021-11-13T00:23:53\", \"Team\": \"twenty_six\", \"Username\": \"izKKoTV\", \"Playtime\": \"27:38\", \"#\": 3, \"KD\": 6.0, \"Kills\": 12, \"Deaths\": 2, \"Assists\": 1, \"Damage >\": 4101, \"Damage <\": 796, \"Gulag\": \"W\", \"% moving\": 83.2, \"Game duration\": \"27\", \"Loadout_1\": \"iw8_sn_t9accurate - iw8_sm_t9spray\", \"Loadout_2\": \"iw8_pi_t9semiauto - iw8_fists\", \"Loadout_3\": \"-\"}, {\"Mode\": \"Duos\", \"Ended at\": \"2021-11-13T00:23:53\", \"Team\": \"sixty_four\", \"Username\": \"ingdre\", \"Playtime\": \"03:34\", \"#\": 70, \"KD\": 0.0, \"Kills\": 0, \"Deaths\": 1, \"Assists\": 0, \"Damage >\": 52, \"Damage <\": 200, \"Gulag\": \"L\", \"% moving\": 89.1, \"Game duration\": \"27\", \"Loadout_1\": \"iw8_ar_t9standard - iw8_sm_t9standard\", \"Loadout_2\": \"-\", \"Loadout_3\": \"-\"}, {\"Mode\": \"Duos\", \"Ended at\": \"2021-11-13T00:23:53\", \"Team\": \"sixty_five\", \"Username\": \"SchulzLOL\", \"Playtime\": \"04:23\", \"#\": 64, \"KD\": 0.5, \"Kills\": 1, \"Deaths\": 2, \"Assists\": 1, \"Damage >\": 317, \"Damage <\": 260, \"Gulag\": \"W\", \"% moving\": 88.9, \"Game duration\": \"27\", \"Loadout_1\": \"iw8_sm_t9capacity - iw8_sn_t9accurate\", \"Loadout_2\": \"iw8_pi_t9semiauto - iw8_fists\", \"Loadout_3\": \"-\"}, {\"Mode\": \"Duos\", \"Ended at\": \"2021-11-13T00:23:53\", \"Team\": \"fifty_six\", \"Username\": \"REAJC\", \"Playtime\": \"05:01\", \"#\": 60, \"KD\": 0.0, \"Kills\": 0, \"Deaths\": 2, \"Assists\": 1, \"Damage >\": 88, \"Damage <\": 200, \"Gulag\": \"L\", \"% moving\": 81.9, \"Game duration\": \"27\", \"Loadout_1\": \"iw8_sm_t9accurate - iw8_ar_t9slowhandling\", \"Loadout_2\": \"-\", \"Loadout_3\": \"-\"}, {\"Mode\": \"Duos\", \"Ended at\": \"2021-11-13T00:23:53\", \"Team\": \"seventy_three\", \"Username\": \"EvaKant\", \"Playtime\": \"07:00\", \"#\": 47, \"KD\": 0.5, \"Kills\": 1, \"Deaths\": 2, \"Assists\": 1, \"Damage >\": 447, \"Damage <\": 200, \"Gulag\": \"L\", \"% moving\": 66.3, \"Game duration\": \"27\", \"Loadout_1\": \"iw8_ar_t9standard - iw8_sm_t9season6\", \"Loadout_2\": \"-\", \"Loadout_3\": \"-\"}, {\"Mode\": \"Duos\", \"Ended at\": \"2021-11-13T00:23:53\", \"Team\": \"forty_nine\", \"Username\": \"Mustakostaja\", \"Playtime\": \"07:51\", \"#\": 30, \"KD\": 0.0, \"Kills\": 0, \"Deaths\": 2, \"Assists\": 0, \"Damage >\": 113, \"Damage <\": 202, \"Gulag\": \"L\", \"% moving\": 66.2, \"Game duration\": \"27\", \"Loadout_1\": \"iw8_sn_t9accurate - iw8_sm_t9cqb\", \"Loadout_2\": \"iw8_pi_t9semiauto - iw8_fists\", \"Loadout_3\": \"-\"}, {\"Mode\": \"Duos\", \"Ended at\": \"2021-11-13T00:23:53\", \"Team\": \"seven\", \"Username\": \"Don Listepik\", \"Playtime\": \"13:03\", \"#\": 23, \"KD\": 0.5, \"Kills\": 1, \"Deaths\": 2, \"Assists\": 1, \"Damage >\": 521, \"Damage <\": 497, \"Gulag\": \"W\", \"% moving\": 76.3, \"Game duration\": \"27\", \"Loadout_1\": \"iw8_ar_t9standard - iw8_sm_t9standard\", \"Loadout_2\": \"iw8_pi_t9semiauto - iw8_fists\", \"Loadout_3\": \"-\"}, {\"Mode\": \"Duos\", \"Ended at\": \"2021-11-13T00:23:53\", \"Team\": \"sixty_seven\", \"Username\": \"Kasach93\", \"Playtime\": \"08:24\", \"#\": 39, \"KD\": 0.0, \"Kills\": 0, \"Deaths\": 2, \"Assists\": 1, \"Damage >\": 431, \"Damage <\": 200, \"Gulag\": \"L\", \"% moving\": 94.3, \"Game duration\": \"27\", \"Loadout_1\": \"iw8_ar_t9damage - iw8_sm_t9season6\", \"Loadout_2\": \"iw8_pi_t9semiauto - iw8_fists\", \"Loadout_3\": \"-\"}, {\"Mode\": \"Duos\", \"Ended at\": \"2021-11-13T00:23:53\", \"Team\": \"sixty_four\", \"Username\": \"teko\", \"Playtime\": \"03:18\", \"#\": 70, \"KD\": 0.0, \"Kills\": 0, \"Deaths\": 1, \"Assists\": 0, \"Damage >\": 136, \"Damage <\": 100, \"Gulag\": \"L\", \"% moving\": 99.1, \"Game duration\": \"27\", \"Loadout_1\": \"iw8_ar_t9damage - iw8_sm_t9standard\", \"Loadout_2\": \"iw8_pi_t9semiauto - iw8_fists\", \"Loadout_3\": \"-\"}, {\"Mode\": \"Duos\", \"Ended at\": \"2021-11-13T00:23:53\", \"Team\": \"seventy_four\", \"Username\": \"LeJcleS\", \"Playtime\": \"10:17\", \"#\": 28, \"KD\": 1.0, \"Kills\": 2, \"Deaths\": 2, \"Assists\": 0, \"Damage >\": 514, \"Damage <\": 456, \"Gulag\": \"W\", \"% moving\": 92.2, \"Game duration\": \"27\", \"Loadout_1\": \"iw8_sm_t9handling - iw8_sn_kilo98\", \"Loadout_2\": \"iw8_pi_t9semiauto - iw8_fists\", \"Loadout_3\": \"-\"}, {\"Mode\": \"Duos\", \"Ended at\": \"2021-11-13T00:23:53\", \"Team\": \"sixty_eight\", \"Username\": \"FR-JYEL\", \"Playtime\": \"25:27\", \"#\": 8, \"KD\": 2.5, \"Kills\": 5, \"Deaths\": 2, \"Assists\": 1, \"Damage >\": 2235, \"Damage <\": 429, \"Gulag\": \"W\", \"% moving\": 95.3, \"Game duration\": \"27\", \"Loadout_1\": \"iw8_sm_t9cqb - iw8_sn_t9accurate\", \"Loadout_2\": \"iw8_pi_t9semiauto - iw8_fists\", \"Loadout_3\": \"-\"}, {\"Mode\": \"Duos\", \"Ended at\": \"2021-11-13T00:23:53\", \"Team\": \"axis\", \"Username\": \"QuirkyOrc\", \"Playtime\": \"10:23\", \"#\": 31, \"KD\": 0.5, \"Kills\": 1, \"Deaths\": 2, \"Assists\": 0, \"Damage >\": 450, \"Damage <\": 385, \"Gulag\": \"W\", \"% moving\": 76.7, \"Game duration\": \"27\", \"Loadout_1\": \"iw8_sm_t9season6 - iw8_pi_mike\", \"Loadout_2\": \"iw8_pi_t9semiauto - iw8_fists\", \"Loadout_3\": \"-\"}, {\"Mode\": \"Duos\", \"Ended at\": \"2021-11-13T00:23:53\", \"Team\": \"thirteen\", \"Username\": \"CKT_Div\", \"Playtime\": \"28:46\", \"#\": 1, \"KD\": 2.0, \"Kills\": 4, \"Deaths\": 2, \"Assists\": 2, \"Damage >\": 1378, \"Damage <\": 457, \"Gulag\": \"W\", \"% moving\": 85.2, \"Game duration\": \"27\", \"Loadout_1\": \"iw8_sm_t9standard - iw8_ar_t9british\", \"Loadout_2\": \"iw8_ar_t9damage - iw8_pi_t9burst\", \"Loadout_3\": \"-\"}, {\"Mode\": \"Duos\", \"Ended at\": \"2021-11-13T00:23:53\", \"Team\": \"twenty_three\", \"Username\": \"Fighterlars\", \"Playtime\": \"08:44\", \"#\": 35, \"KD\": 1.0, \"Kills\": 2, \"Deaths\": 2, \"Assists\": 0, \"Damage >\": 540, \"Damage <\": 365, \"Gulag\": \"W\", \"% moving\": 94.7, \"Game duration\": \"27\", \"Loadout_1\": \"iw8_ar_tango21 - iw8_sn_t9accurate\", \"Loadout_2\": \"iw8_pi_t9semiauto - iw8_fists\", \"Loadout_3\": \"-\"}, {\"Mode\": \"Duos\", \"Ended at\": \"2021-11-13T00:23:53\", \"Team\": \"sixty_eight\", \"Username\": \"Dark973\", \"Playtime\": \"25:27\", \"#\": 8, \"KD\": 0.8, \"Kills\": 3, \"Deaths\": 4, \"Assists\": 2, \"Damage >\": 1507, \"Damage <\": 849, \"Gulag\": \"L\", \"% moving\": 57.3, \"Game duration\": \"27\", \"Loadout_1\": \"iw8_ar_galima - iw8_sn_romeo700\", \"Loadout_2\": \"iw8_pi_t9semiauto - iw8_fists\", \"Loadout_3\": \"iw8_ar_t9season6 - iw8_fists\"}, {\"Mode\": \"Duos\", \"Ended at\": \"2021-11-13T00:23:53\", \"Team\": \"sixteen\", \"Username\": \"Cobra Kai\", \"Playtime\": \"06:14\", \"#\": 56, \"KD\": 0.5, \"Kills\": 1, \"Deaths\": 2, \"Assists\": 2, \"Damage >\": 473, \"Damage <\": 300, \"Gulag\": \"L\", \"% moving\": 85.4, \"Game duration\": \"27\", \"Loadout_1\": \"iw8_ar_t9damage - iw8_sn_t9accurate\", \"Loadout_2\": \"iw8_pi_t9semiauto - iw8_fists\", \"Loadout_3\": \"-\"}, {\"Mode\": \"Duos\", \"Ended at\": \"2021-11-13T00:23:53\", \"Team\": \"forty_four\", \"Username\": \"R055P4N7ON\", \"Playtime\": \"11:33\", \"#\": 49, \"KD\": 0.0, \"Kills\": 0, \"Deaths\": 2, \"Assists\": 0, \"Damage >\": 300, \"Damage <\": 212, \"Gulag\": \"L\", \"% moving\": 56.7, \"Game duration\": \"27\", \"Loadout_1\": \"iw8_ar_t9damage - iw8_sm_t9cqb\", \"Loadout_2\": \"iw8_pi_t9semiauto - iw8_fists\", \"Loadout_3\": \"-\"}, {\"Mode\": \"Duos\", \"Ended at\": \"2021-11-13T00:23:53\", \"Team\": \"four\", \"Username\": \"ShOoTy97\", \"Playtime\": \"09:55\", \"#\": 33, \"KD\": 1.0, \"Kills\": 2, \"Deaths\": 2, \"Assists\": 0, \"Damage >\": 546, \"Damage <\": 337, \"Gulag\": \"W\", \"% moving\": 98.6, \"Game duration\": \"27\", \"Loadout_1\": \"iw8_sm_t9cqb - iw8_pi_papa320\", \"Loadout_2\": \"iw8_pi_t9semiauto - iw8_fists\", \"Loadout_3\": \"-\"}, {\"Mode\": \"Duos\", \"Ended at\": \"2021-11-13T00:23:53\", \"Team\": \"forty_nine\", \"Username\": \"NiceBison\", \"Playtime\": \"10:26\", \"#\": 30, \"KD\": 3.0, \"Kills\": 3, \"Deaths\": 1, \"Assists\": 0, \"Damage >\": 970, \"Damage <\": 346, \"Gulag\": \"W\", \"% moving\": 96.7, \"Game duration\": \"27\", \"Loadout_1\": \"iw8_lm_t9fastfire - iw8_pi_t9burst\", \"Loadout_2\": \"iw8_pi_t9semiauto - iw8_fists\", \"Loadout_3\": \"-\"}, {\"Mode\": \"Duos\", \"Ended at\": \"2021-11-13T00:23:53\", \"Team\": \"seventeen\", \"Username\": \"toniioo57\", \"Playtime\": \"25:38\", \"#\": 5, \"KD\": 3.5, \"Kills\": 7, \"Deaths\": 2, \"Assists\": 2, \"Damage >\": 1861, \"Damage <\": 609, \"Gulag\": \"W\", \"% moving\": 71.4, \"Game duration\": \"27\", \"Loadout_1\": \"iw8_sm_t9handling - iw8_sn_kilo98\", \"Loadout_2\": \"iw8_pi_t9semiauto - iw8_fists\", \"Loadout_3\": \"-\"}, {\"Mode\": \"Duos\", \"Ended at\": \"2021-11-13T00:23:53\", \"Team\": \"allies\", \"Username\": \"RNS\", \"Playtime\": \"03:56\", \"#\": 66, \"KD\": 1.5, \"Kills\": 3, \"Deaths\": 2, \"Assists\": 0, \"Damage >\": 505, \"Damage <\": 300, \"Gulag\": \"W\", \"% moving\": 88.8, \"Game duration\": \"27\", \"Loadout_1\": \"iw8_sm_t9standard - iw8_sn_t9accurate\", \"Loadout_2\": \"iw8_pi_t9semiauto - iw8_fists\", \"Loadout_3\": \"-\"}, {\"Mode\": \"Duos\", \"Ended at\": \"2021-11-13T00:23:53\", \"Team\": \"fifty_five\", \"Username\": \"le_ouf_87\", \"Playtime\": \"09:19\", \"#\": 37, \"KD\": 0.0, \"Kills\": 0, \"Deaths\": 2, \"Assists\": 1, \"Damage >\": 151, \"Damage <\": 200, \"Gulag\": \"L\", \"% moving\": 31.8, \"Game duration\": \"27\", \"Loadout_1\": \"iw8_ar_t9season6 - iw8_sm_t9accurate\", \"Loadout_2\": \"iw8_pi_t9semiauto - iw8_fists\", \"Loadout_3\": \"-\"}, {\"Mode\": \"Duos\", \"Ended at\": \"2021-11-13T00:23:53\", \"Team\": \"forty_eight\", \"Username\": \"SeoiAlle\", \"Playtime\": \"24:34\", \"#\": 10, \"KD\": 3.3, \"Kills\": 10, \"Deaths\": 3, \"Assists\": 0, \"Damage >\": 3373, \"Damage <\": 986, \"Gulag\": \"L\", \"% moving\": 84.7, \"Game duration\": \"27\", \"Loadout_1\": \"iw8_sm_t9handling - iw8_sn_kilo98\", \"Loadout_2\": \"iw8_pi_t9semiauto - iw8_fists\", \"Loadout_3\": \"iw8_ar_t9fasthandling - iw8_fists\"}, {\"Mode\": \"Duos\", \"Ended at\": \"2021-11-13T00:23:53\", \"Team\": \"fifty_three\", \"Username\": \"GaddafiwarlordYT\", \"Playtime\": \"06:28\", \"#\": 52, \"KD\": 0.0, \"Kills\": 0, \"Deaths\": 2, \"Assists\": 1, \"Damage >\": 2, \"Damage <\": 300, \"Gulag\": \"L\", \"% moving\": 85.4, \"Game duration\": \"27\", \"Loadout_1\": \"iw8_ar_t9damage - iw8_me_t9machete\", \"Loadout_2\": \"-\", \"Loadout_3\": \"-\"}, {\"Mode\": \"Duos\", \"Ended at\": \"2021-11-13T00:23:53\", \"Team\": \"eleven\", \"Username\": \"exzi\", \"Playtime\": \"07:50\", \"#\": 44, \"KD\": 1.5, \"Kills\": 3, \"Deaths\": 2, \"Assists\": 2, \"Damage >\": 1240, \"Damage <\": 359, \"Gulag\": \"L\", \"% moving\": 95.5, \"Game duration\": \"27\", \"Loadout_1\": \"iw8_ar_t9slowhandling - iw8_sn_t9accurate\", \"Loadout_2\": \"iw8_pi_t9semiauto - iw8_fists\", \"Loadout_3\": \"-\"}, {\"Mode\": \"Duos\", \"Ended at\": \"2021-11-13T00:23:53\", \"Team\": \"fifty_six\", \"Username\": \"Mister Toff\", \"Playtime\": \"05:15\", \"#\": 60, \"KD\": 0.5, \"Kills\": 1, \"Deaths\": 2, \"Assists\": 1, \"Damage >\": 273, \"Damage <\": 398, \"Gulag\": \"L\", \"% moving\": 86.2, \"Game duration\": \"27\", \"Loadout_1\": \"iw8_ar_t9slowhandling - iw8_pi_t9burst\", \"Loadout_2\": \"iw8_pi_t9semiauto - iw8_fists\", \"Loadout_3\": \"-\"}, {\"Mode\": \"Duos\", \"Ended at\": \"2021-11-13T00:23:53\", \"Team\": \"thirty_eight\", \"Username\": \"Inox\", \"Playtime\": \"26:54\", \"#\": 6, \"KD\": 2.3, \"Kills\": 7, \"Deaths\": 3, \"Assists\": 0, \"Damage >\": 1959, \"Damage <\": 636, \"Gulag\": \"W\", \"% moving\": 82.0, \"Game duration\": \"27\", \"Loadout_1\": \"iw8_sm_t9cqb - iw8_ar_t9damage\", \"Loadout_2\": \"iw8_pi_t9semiauto - iw8_fists\", \"Loadout_3\": \"-\"}, {\"Mode\": \"Duos\", \"Ended at\": \"2021-11-13T00:23:53\", \"Team\": \"twenty_seven\", \"Username\": \"emilpadure23\", \"Playtime\": \"03:42\", \"#\": 71, \"KD\": 0.0, \"Kills\": 0, \"Deaths\": 2, \"Assists\": 0, \"Damage >\": 281, \"Damage <\": 214, \"Gulag\": \"L\", \"% moving\": 76.1, \"Game duration\": \"27\", \"Loadout_1\": \"iw8_sn_t9accurate - iw8_sm_t9cqb\", \"Loadout_2\": \"-\", \"Loadout_3\": \"-\"}, {\"Mode\": \"Duos\", \"Ended at\": \"2021-11-13T00:23:53\", \"Team\": \"seventy_six\", \"Username\": \"Ledesinger\", \"Playtime\": \"01:16\", \"#\": 75, \"KD\": 0.0, \"Kills\": 0, \"Deaths\": 0, \"Assists\": 0, \"Damage >\": 0, \"Damage <\": 0, \"Gulag\": \"L\", \"% moving\": 0.0, \"Game duration\": \"27\", \"Loadout_1\": \"iw8_ar_mike4 - iw8_sh_romeo870\", \"Loadout_2\": \"-\", \"Loadout_3\": \"-\"}, {\"Mode\": \"Duos\", \"Ended at\": \"2021-11-13T00:23:53\", \"Team\": \"fifty_four\", \"Username\": \"tupacan\", \"Playtime\": \"12:20\", \"#\": 26, \"KD\": 0.0, \"Kills\": 0, \"Deaths\": 2, \"Assists\": 0, \"Damage >\": 405, \"Damage <\": 200, \"Gulag\": \"L\", \"% moving\": 98.1, \"Game duration\": \"27\", \"Loadout_1\": \"iw8_sm_t9standard - iw8_ar_t9british\", \"Loadout_2\": \"iw8_pi_t9semiauto - iw8_fists\", \"Loadout_3\": \"-\"}, {\"Mode\": \"Duos\", \"Ended at\": \"2021-11-13T00:23:53\", \"Team\": \"nineteen\", \"Username\": \"holzhauser\", \"Playtime\": \"13:19\", \"#\": 22, \"KD\": 0.5, \"Kills\": 1, \"Deaths\": 2, \"Assists\": 0, \"Damage >\": 548, \"Damage <\": 371, \"Gulag\": \"L\", \"% moving\": 96.1, \"Game duration\": \"27\", \"Loadout_1\": \"iw8_ar_t9damage - iw8_sm_t9capacity\", \"Loadout_2\": \"-\", \"Loadout_3\": \"-\"}, {\"Mode\": \"Duos\", \"Ended at\": \"2021-11-13T00:23:53\", \"Team\": \"sixty_one\", \"Username\": \"TizDuke\", \"Playtime\": \"25:40\", \"#\": 7, \"KD\": 2.5, \"Kills\": 5, \"Deaths\": 2, \"Assists\": 1, \"Damage >\": 1752, \"Damage <\": 367, \"Gulag\": \"W\", \"% moving\": 94.2, \"Game duration\": \"27\", \"Loadout_1\": \"iw8_sn_t9accurate - iw8_sm_t9fastfire\", \"Loadout_2\": \"-\", \"Loadout_3\": \"-\"}, {\"Mode\": \"Duos\", \"Ended at\": \"2021-11-13T00:23:53\", \"Team\": \"thirty_two\", \"Username\": \"VasilyZaitsev\", \"Playtime\": \"18:10\", \"#\": 17, \"KD\": 3.0, \"Kills\": 6, \"Deaths\": 2, \"Assists\": 0, \"Damage >\": 2263, \"Damage <\": 674, \"Gulag\": \"L\", \"% moving\": 88.6, \"Game duration\": \"27\", \"Loadout_1\": \"iw8_sn_kilo98 - iw8_ar_t9damage\", \"Loadout_2\": \"-\", \"Loadout_3\": \"-\"}, {\"Mode\": \"Duos\", \"Ended at\": \"2021-11-13T00:23:53\", \"Team\": \"thirty_five\", \"Username\": \"BENxPASH\", \"Playtime\": \"12:33\", \"#\": 27, \"KD\": 0.5, \"Kills\": 1, \"Deaths\": 2, \"Assists\": 0, \"Damage >\": 573, \"Damage <\": 201, \"Gulag\": \"W\", \"% moving\": 92.0, \"Game duration\": \"27\", \"Loadout_1\": \"iw8_ar_t9slowfire - iw8_sm_t9cqb\", \"Loadout_2\": \"iw8_pi_t9semiauto - iw8_fists\", \"Loadout_3\": \"-\"}, {\"Mode\": \"Duos\", \"Ended at\": \"2021-11-13T00:23:53\", \"Team\": \"forty_three\", \"Username\": \"Siki_Jackson\", \"Playtime\": \"09:24\", \"#\": 34, \"KD\": 0.0, \"Kills\": 0, \"Deaths\": 0, \"Assists\": 0, \"Damage >\": 108, \"Damage <\": 45, \"Gulag\": \"L\", \"% moving\": 97.3, \"Game duration\": \"27\", \"Loadout_1\": \"iw8_ar_t9slowhandling - iw8_pi_t9burst\", \"Loadout_2\": \"iw8_pi_t9semiauto - iw8_fists\", \"Loadout_3\": \"-\"}, {\"Mode\": \"Duos\", \"Ended at\": \"2021-11-13T00:23:53\", \"Team\": \"thirty_two\", \"Username\": \"Jckcnwy\", \"Playtime\": \"17:22\", \"#\": 17, \"KD\": 0.5, \"Kills\": 1, \"Deaths\": 2, \"Assists\": 0, \"Damage >\": 1141, \"Damage <\": 302, \"Gulag\": \"L\", \"% moving\": 92.1, \"Game duration\": \"27\", \"Loadout_1\": \"iw8_sm_t9heavy - iw8_sn_t9accurate\", \"Loadout_2\": \"-\", \"Loadout_3\": \"-\"}, {\"Mode\": \"Duos\", \"Ended at\": \"2021-11-13T00:23:53\", \"Team\": \"seven\", \"Username\": \"Grev Ingolf\", \"Playtime\": \"13:01\", \"#\": 23, \"KD\": 1.5, \"Kills\": 3, \"Deaths\": 2, \"Assists\": 0, \"Damage >\": 597, \"Damage <\": 305, \"Gulag\": \"W\", \"% moving\": 95.7, \"Game duration\": \"27\", \"Loadout_1\": \"iw8_sn_t9accurate - iw8_sm_t9cqb\", \"Loadout_2\": \"iw8_pi_t9semiauto - iw8_fists\", \"Loadout_3\": \"-\"}, {\"Mode\": \"Duos\", \"Ended at\": \"2021-11-13T00:23:53\", \"Team\": \"allies\", \"Username\": \"Tr1Z0ne\", \"Playtime\": \"03:55\", \"#\": 66, \"KD\": 2.0, \"Kills\": 2, \"Deaths\": 1, \"Assists\": 2, \"Damage >\": 838, \"Damage <\": 100, \"Gulag\": \"L\", \"% moving\": 98.0, \"Game duration\": \"27\", \"Loadout_1\": \"iw8_sn_t9accurate - iw8_pi_t9burst\", \"Loadout_2\": \"iw8_pi_t9semiauto - iw8_fists\", \"Loadout_3\": \"-\"}, {\"Mode\": \"Duos\", \"Ended at\": \"2021-11-13T00:23:53\", \"Team\": \"fifty_two\", \"Username\": \"martindaspartan\", \"Playtime\": \"08:18\", \"#\": 42, \"KD\": 2.0, \"Kills\": 4, \"Deaths\": 2, \"Assists\": 0, \"Damage >\": 908, \"Damage <\": 348, \"Gulag\": \"W\", \"% moving\": 91.0, \"Game duration\": \"27\", \"Loadout_1\": \"iw8_sn_kilo98 - iw8_sm_papa90\", \"Loadout_2\": \"-\", \"Loadout_3\": \"-\"}, {\"Mode\": \"Duos\", \"Ended at\": \"2021-11-13T00:23:53\", \"Team\": \"fifty_two\", \"Username\": \"Smokeyjeff420\", \"Playtime\": \"08:02\", \"#\": 42, \"KD\": 0.0, \"Kills\": 0, \"Deaths\": 2, \"Assists\": 1, \"Damage >\": 133, \"Damage <\": 320, \"Gulag\": \"L\", \"% moving\": 46.1, \"Game duration\": \"27\", \"Loadout_1\": \"iw8_sm_t9capacity - iw8_sn_kilo98\", \"Loadout_2\": \"-\", \"Loadout_3\": \"-\"}, {\"Mode\": \"Duos\", \"Ended at\": \"2021-11-13T00:23:53\", \"Team\": \"thirty_seven\", \"Username\": \"wila85\", \"Playtime\": \"05:47\", \"#\": 59, \"KD\": 0.0, \"Kills\": 0, \"Deaths\": 2, \"Assists\": 0, \"Damage >\": 243, \"Damage <\": 201, \"Gulag\": \"W\", \"% moving\": 92.3, \"Game duration\": \"27\", \"Loadout_1\": \"s4_ar_stango44temp - iw8_pi_mike\", \"Loadout_2\": \"iw8_pi_t9semiauto - iw8_fists\", \"Loadout_3\": \"-\"}, {\"Mode\": \"Duos\", \"Ended at\": \"2021-11-13T00:23:53\", \"Team\": \"thirty\", \"Username\": \"iD1EGO_88\", \"Playtime\": \"20:02\", \"#\": 15, \"KD\": 0.0, \"Kills\": 0, \"Deaths\": 3, \"Assists\": 0, \"Damage >\": 432, \"Damage <\": 730, \"Gulag\": \"L\", \"% moving\": 71.5, \"Game duration\": \"27\", \"Loadout_1\": \"iw8_ar_t9damage - iw8_sm_t9cqb\", \"Loadout_2\": \"iw8_pi_t9semiauto - iw8_fists\", \"Loadout_3\": \"iw8_lm_t9fastfire - iw8_fists\"}, {\"Mode\": \"Duos\", \"Ended at\": \"2021-11-13T00:23:53\", \"Team\": \"forty_four\", \"Username\": \"ipegasians\", \"Playtime\": \"11:07\", \"#\": 49, \"KD\": 0.5, \"Kills\": 1, \"Deaths\": 2, \"Assists\": 0, \"Damage >\": 396, \"Damage <\": 342, \"Gulag\": \"W\", \"% moving\": 56.7, \"Game duration\": \"27\", \"Loadout_1\": \"iw8_ar_t9standard - iw8_pi_mike1911\", \"Loadout_2\": \"-\", \"Loadout_3\": \"-\"}, {\"Mode\": \"Duos\", \"Ended at\": \"2021-11-13T00:23:53\", \"Team\": \"twenty_eight\", \"Username\": \"St0rmarrow\", \"Playtime\": \"07:43\", \"#\": 45, \"KD\": 0.5, \"Kills\": 1, \"Deaths\": 2, \"Assists\": 1, \"Damage >\": 763, \"Damage <\": 359, \"Gulag\": \"W\", \"% moving\": 86.2, \"Game duration\": \"27\", \"Loadout_1\": \"iw8_sn_t9accurate - iw8_pi_t9burst\", \"Loadout_2\": \"iw8_pi_t9semiauto - iw8_fists\", \"Loadout_3\": \"-\"}, {\"Mode\": \"Duos\", \"Ended at\": \"2021-11-13T00:23:53\", \"Team\": \"twenty_two\", \"Username\": \"polskiboy88\", \"Playtime\": \"06:58\", \"#\": 48, \"KD\": 0.5, \"Kills\": 1, \"Deaths\": 2, \"Assists\": 1, \"Damage >\": 430, \"Damage <\": 260, \"Gulag\": \"W\", \"% moving\": 92.0, \"Game duration\": \"27\", \"Loadout_1\": \"iw8_sn_t9accurate - iw8_pi_t9fullauto\", \"Loadout_2\": \"-\", \"Loadout_3\": \"-\"}, {\"Mode\": \"Duos\", \"Ended at\": \"2021-11-13T00:23:53\", \"Team\": \"ten\", \"Username\": \"mustafa\", \"Playtime\": \"05:16\", \"#\": 61, \"KD\": 0.0, \"Kills\": 0, \"Deaths\": 2, \"Assists\": 0, \"Damage >\": 256, \"Damage <\": 200, \"Gulag\": \"L\", \"% moving\": 85.9, \"Game duration\": \"27\", \"Loadout_1\": \"iw8_ar_t9british - iw8_sm_t9cqb\", \"Loadout_2\": \"iw8_pi_t9semiauto - iw8_fists\", \"Loadout_3\": \"-\"}, {\"Mode\": \"Duos\", \"Ended at\": \"2021-11-13T00:23:53\", \"Team\": \"eighteen\", \"Username\": \"Panda\", \"Playtime\": \"07:01\", \"#\": 51, \"KD\": 1.0, \"Kills\": 2, \"Deaths\": 2, \"Assists\": 1, \"Damage >\": 360, \"Damage <\": 415, \"Gulag\": \"W\", \"% moving\": 93.9, \"Game duration\": \"27\", \"Loadout_1\": \"iw8_sn_t9accurate - iw8_sm_t9season6\", \"Loadout_2\": \"iw8_pi_t9semiauto - iw8_fists\", \"Loadout_3\": \"-\"}, {\"Mode\": \"Duos\", \"Ended at\": \"2021-11-13T00:23:53\", \"Team\": \"thirty_four\", \"Username\": \"BARTH947\", \"Playtime\": \"05:03\", \"#\": 63, \"KD\": 0.5, \"Kills\": 1, \"Deaths\": 2, \"Assists\": 0, \"Damage >\": 100, \"Damage <\": 201, \"Gulag\": \"W\", \"% moving\": 94.9, \"Game duration\": \"27\", \"Loadout_1\": \"iw8_sm_t9capacity - iw8_sn_t9accurate\", \"Loadout_2\": \"-\", \"Loadout_3\": \"-\"}, {\"Mode\": \"Duos\", \"Ended at\": \"2021-11-13T00:23:53\", \"Team\": \"forty_six\", \"Username\": \"NYKA\", \"Playtime\": \"04:42\", \"#\": 65, \"KD\": 0.0, \"Kills\": 0, \"Deaths\": 2, \"Assists\": 0, \"Damage >\": 270, \"Damage <\": 200, \"Gulag\": \"L\", \"% moving\": 83.8, \"Game duration\": \"27\", \"Loadout_1\": \"iw8_ar_mike4 - iw8_sm_t9fastfire\", \"Loadout_2\": \"iw8_pi_t9semiauto - iw8_fists\", \"Loadout_3\": \"-\"}, {\"Mode\": \"Duos\", \"Ended at\": \"2021-11-13T00:23:53\", \"Team\": \"sixty_six\", \"Username\": \"MLHorne\", \"Playtime\": \"12:56\", \"#\": 41, \"KD\": 0.0, \"Kills\": 0, \"Deaths\": 3, \"Assists\": 0, \"Damage >\": 822, \"Damage <\": 606, \"Gulag\": \"L\", \"% moving\": 45.5, \"Game duration\": \"27\", \"Loadout_1\": \"iw8_sm_t9standard - iw8_me_t9machete\", \"Loadout_2\": \"iw8_pi_t9semiauto - iw8_fists\", \"Loadout_3\": \"iw8_ar_t9season6 - iw8_fists\"}, {\"Mode\": \"Duos\", \"Ended at\": \"2021-11-13T00:23:53\", \"Team\": \"fifty_three\", \"Username\": \"magicbigkev2k7\", \"Playtime\": \"06:37\", \"#\": 52, \"KD\": 0.0, \"Kills\": 0, \"Deaths\": 2, \"Assists\": 0, \"Damage >\": 327, \"Damage <\": 253, \"Gulag\": \"L\", \"% moving\": 91.6, \"Game duration\": \"27\", \"Loadout_1\": \"iw8_sn_t9accurate - iw8_pi_mike\", \"Loadout_2\": \"iw8_pi_t9semiauto - iw8_fists\", \"Loadout_3\": \"-\"}, {\"Mode\": \"Duos\", \"Ended at\": \"2021-11-13T00:23:53\", \"Team\": \"eight\", \"Username\": \"Ma\\u00eetre Splinter\", \"Playtime\": \"08:30\", \"#\": 40, \"KD\": 2.0, \"Kills\": 4, \"Deaths\": 2, \"Assists\": 0, \"Damage >\": 1232, \"Damage <\": 470, \"Gulag\": \"W\", \"% moving\": 94.3, \"Game duration\": \"27\", \"Loadout_1\": \"iw8_sn_t9accurate - iw8_sm_t9handling\", \"Loadout_2\": \"iw8_pi_t9semiauto - iw8_fists\", \"Loadout_3\": \"-\"}, {\"Mode\": \"Duos\", \"Ended at\": \"2021-11-13T00:23:53\", \"Team\": \"three\", \"Username\": \"JohnnyZalami\", \"Playtime\": \"03:37\", \"#\": 69, \"KD\": 1.0, \"Kills\": 1, \"Deaths\": 1, \"Assists\": 0, \"Damage >\": 403, \"Damage <\": 101, \"Gulag\": \"L\", \"% moving\": 93.0, \"Game duration\": \"27\", \"Loadout_1\": \"iw8_sm_t9cqb - iw8_ar_t9british\", \"Loadout_2\": \"iw8_pi_t9semiauto - iw8_fists\", \"Loadout_3\": \"-\"}, {\"Mode\": \"Duos\", \"Ended at\": \"2021-11-13T00:23:53\", \"Team\": \"fifty_seven\", \"Username\": \"VIKINGBLOOD\", \"Playtime\": \"24:54\", \"#\": 12, \"KD\": 1.0, \"Kills\": 4, \"Deaths\": 4, \"Assists\": 1, \"Damage >\": 1744, \"Damage <\": 1022, \"Gulag\": \"L\", \"% moving\": 63.3, \"Game duration\": \"27\", \"Loadout_1\": \"iw8_ar_t9slowhandling - iw8_sm_t9capacity\", \"Loadout_2\": \"iw8_pi_t9semiauto - iw8_fists\", \"Loadout_3\": \"iw8_sh_t9pump - iw8_fists\"}, {\"Mode\": \"Duos\", \"Ended at\": \"2021-11-13T00:23:53\", \"Team\": \"seventy_three\", \"Username\": \"Diabolik\", \"Playtime\": \"06:46\", \"#\": 47, \"KD\": 1.0, \"Kills\": 2, \"Deaths\": 2, \"Assists\": 0, \"Damage >\": 370, \"Damage <\": 395, \"Gulag\": \"W\", \"% moving\": 93.7, \"Game duration\": \"27\", \"Loadout_1\": \"iw8_sm_t9spray - iw8_ar_t9slowhandling\", \"Loadout_2\": \"-\", \"Loadout_3\": \"-\"}, {\"Mode\": \"Duos\", \"Ended at\": \"2021-11-13T00:23:53\", \"Team\": \"twenty_nine\", \"Username\": \"TerrorPuuu\", \"Playtime\": \"08:33\", \"#\": 43, \"KD\": 2.0, \"Kills\": 4, \"Deaths\": 2, \"Assists\": 1, \"Damage >\": 1870, \"Damage <\": 459, \"Gulag\": \"W\", \"% moving\": 92.9, \"Game duration\": \"27\", \"Loadout_1\": \"iw8_ar_t9longburst - iw8_pi_mike\", \"Loadout_2\": \"iw8_pi_t9semiauto - iw8_fists\", \"Loadout_3\": \"-\"}, {\"Mode\": \"Duos\", \"Ended at\": \"2021-11-13T00:23:53\", \"Team\": \"thirteen\", \"Username\": \"Nuzzle\", \"Playtime\": \"28:47\", \"#\": 1, \"KD\": 7.0, \"Kills\": 7, \"Deaths\": 1, \"Assists\": 0, \"Damage >\": 2750, \"Damage <\": 687, \"Gulag\": \"W\", \"% moving\": 97.3, \"Game duration\": \"27\", \"Loadout_1\": \"iw8_sm_t9powerburst - iw8_sm_t9standard\", \"Loadout_2\": \"iw8_pi_t9semiauto - iw8_fists\", \"Loadout_3\": \"-\"}, {\"Mode\": \"Duos\", \"Ended at\": \"2021-11-13T00:23:53\", \"Team\": \"sixteen\", \"Username\": \"AlucarDsen\", \"Playtime\": \"06:14\", \"#\": 56, \"KD\": 2.0, \"Kills\": 4, \"Deaths\": 2, \"Assists\": 0, \"Damage >\": 796, \"Damage <\": 374, \"Gulag\": \"L\", \"% moving\": 95.8, \"Game duration\": \"27\", \"Loadout_1\": \"iw8_sn_t9accurate - iw8_sm_t9fastfire\", \"Loadout_2\": \"-\", \"Loadout_3\": \"-\"}, {\"Mode\": \"Duos\", \"Ended at\": \"2021-11-13T00:23:53\", \"Team\": \"forty\", \"Username\": \"Gald\", \"Playtime\": \"16:51\", \"#\": 19, \"KD\": 1.0, \"Kills\": 2, \"Deaths\": 2, \"Assists\": 1, \"Damage >\": 923, \"Damage <\": 605, \"Gulag\": \"L\", \"% moving\": 93.0, \"Game duration\": \"27\", \"Loadout_1\": \"iw8_sh_romeo870 - iw8_sn_kilo98\", \"Loadout_2\": \"iw8_pi_t9semiauto - iw8_fists\", \"Loadout_3\": \"-\"}, {\"Mode\": \"Duos\", \"Ended at\": \"2021-11-13T00:23:53\", \"Team\": \"forty_one\", \"Username\": \"oys\", \"Playtime\": \"21:19\", \"#\": 13, \"KD\": 1.0, \"Kills\": 2, \"Deaths\": 2, \"Assists\": 1, \"Damage >\": 1469, \"Damage <\": 431, \"Gulag\": \"L\", \"% moving\": 80.7, \"Game duration\": \"27\", \"Loadout_1\": \"iw8_ar_t9slowfire - iw8_sn_t9accurate\", \"Loadout_2\": \"-\", \"Loadout_3\": \"-\"}, {\"Mode\": \"Duos\", \"Ended at\": \"2021-11-13T00:23:53\", \"Team\": \"sixty_two\", \"Username\": \"jimpin\", \"Playtime\": \"03:04\", \"#\": 74, \"KD\": 0.0, \"Kills\": 0, \"Deaths\": 2, \"Assists\": 0, \"Damage >\": 34, \"Damage <\": 200, \"Gulag\": \"L\", \"% moving\": 84.1, \"Game duration\": \"27\", \"Loadout_1\": \"iw8_ar_tango21 - iw8_sm_t9capacity\", \"Loadout_2\": \"iw8_pi_t9semiauto - iw8_fists\", \"Loadout_3\": \"-\"}, {\"Mode\": \"Duos\", \"Ended at\": \"2021-11-13T00:23:53\", \"Team\": \"sixty_six\", \"Username\": \"JC\", \"Playtime\": \"08:20\", \"#\": 41, \"KD\": 0.0, \"Kills\": 0, \"Deaths\": 2, \"Assists\": 0, \"Damage >\": 100, \"Damage <\": 300, \"Gulag\": \"L\", \"% moving\": 84.7, \"Game duration\": \"27\", \"Loadout_1\": \"iw8_sm_t9capacity - iw8_sn_kilo98\", \"Loadout_2\": \"-\", \"Loadout_3\": \"-\"}, {\"Mode\": \"Duos\", \"Ended at\": \"2021-11-13T00:23:53\", \"Team\": \"six\", \"Username\": \"NIAKOU\\u00c9_91\", \"Playtime\": \"12:37\", \"#\": 25, \"KD\": 1.5, \"Kills\": 3, \"Deaths\": 2, \"Assists\": 0, \"Damage >\": 1083, \"Damage <\": 252, \"Gulag\": \"W\", \"% moving\": 97.5, \"Game duration\": \"27\", \"Loadout_1\": \"iw8_sn_t9accurate - iw8_sm_t9cqb\", \"Loadout_2\": \"-\", \"Loadout_3\": \"-\"}, {\"Mode\": \"Duos\", \"Ended at\": \"2021-11-13T00:23:53\", \"Team\": \"twenty_six\", \"Username\": \"Darkwoo_TV\", \"Playtime\": \"27:32\", \"#\": 3, \"KD\": 3.5, \"Kills\": 7, \"Deaths\": 2, \"Assists\": 3, \"Damage >\": 2205, \"Damage <\": 1045, \"Gulag\": \"W\", \"% moving\": 90.2, \"Game duration\": \"27\", \"Loadout_1\": \"iw8_ar_t9damage - iw8_sn_t9accurate\", \"Loadout_2\": \"iw8_pi_t9semiauto - iw8_fists\", \"Loadout_3\": \"-\"}, {\"Mode\": \"Duos\", \"Ended at\": \"2021-11-13T00:23:53\", \"Team\": \"thirty_nine\", \"Username\": \"SnatchedWolf16\", \"Playtime\": \"06:04\", \"#\": 57, \"KD\": 0.5, \"Kills\": 1, \"Deaths\": 2, \"Assists\": 0, \"Damage >\": 313, \"Damage <\": 200, \"Gulag\": \"W\", \"% moving\": 96.8, \"Game duration\": \"27\", \"Loadout_1\": \"iw8_sn_kilo98 - iw8_pi_t9burst\", \"Loadout_2\": \"-\", \"Loadout_3\": \"-\"}, {\"Mode\": \"Duos\", \"Ended at\": \"2021-11-13T00:23:53\", \"Team\": \"forty_seven\", \"Username\": \"nicoyzovitch\", \"Playtime\": \"25:17\", \"#\": 9, \"KD\": 0.5, \"Kills\": 1, \"Deaths\": 2, \"Assists\": 1, \"Damage >\": 1060, \"Damage <\": 540, \"Gulag\": \"W\", \"% moving\": 81.6, \"Game duration\": \"27\", \"Loadout_1\": \"iw8_ar_t9standard - iw8_sn_hdromeo\", \"Loadout_2\": \"iw8_pi_t9semiauto - iw8_fists\", \"Loadout_3\": \"-\"}, {\"Mode\": \"Duos\", \"Ended at\": \"2021-11-13T00:23:53\", \"Team\": \"seventy\", \"Username\": \"LeoSTLM\", \"Playtime\": \"02:49\", \"#\": 73, \"KD\": 0.0, \"Kills\": 0, \"Deaths\": 1, \"Assists\": 0, \"Damage >\": 18, \"Damage <\": 118, \"Gulag\": \"L\", \"% moving\": 88.5, \"Game duration\": \"27\", \"Loadout_1\": \"iw8_ar_t9slowhandling - iw8_sm_mpapa5\", \"Loadout_2\": \"-\", \"Loadout_3\": \"-\"}, {\"Mode\": \"Duos\", \"Ended at\": \"2021-11-13T00:23:53\", \"Team\": \"seventy\", \"Username\": \"TheDeepShadow\", \"Playtime\": \"03:20\", \"#\": 73, \"KD\": 0.0, \"Kills\": 0, \"Deaths\": 1, \"Assists\": 0, \"Damage >\": 0, \"Damage <\": 100, \"Gulag\": \"L\", \"% moving\": 88.5, \"Game duration\": \"27\", \"Loadout_1\": \"iw8_sm_t9standard - iw8_pi_decho\", \"Loadout_2\": \"-\", \"Loadout_3\": \"-\"}, {\"Mode\": \"Duos\", \"Ended at\": \"2021-11-13T00:23:53\", \"Team\": \"twenty\", \"Username\": \"LittleMac\", \"Playtime\": \"03:42\", \"#\": 67, \"KD\": 0.0, \"Kills\": 0, \"Deaths\": 1, \"Assists\": 0, \"Damage >\": 82, \"Damage <\": 100, \"Gulag\": \"L\", \"% moving\": 94.2, \"Game duration\": \"27\", \"Loadout_1\": \"iw8_sn_t9accurate - iw8_sm_t9cqb\", \"Loadout_2\": \"-\", \"Loadout_3\": \"-\"}, {\"Mode\": \"Duos\", \"Ended at\": \"2021-11-13T00:23:53\", \"Team\": \"fifty_eight\", \"Username\": \"controll1er04\", \"Playtime\": \"07:49\", \"#\": 36, \"KD\": 0.0, \"Kills\": 0, \"Deaths\": 2, \"Assists\": 0, \"Damage >\": 65, \"Damage <\": 368, \"Gulag\": \"L\", \"% moving\": 97.9, \"Game duration\": \"27\", \"Loadout_1\": \"iw8_sm_t9cqb - iw8_ar_t9british\", \"Loadout_2\": \"iw8_pi_t9semiauto - iw8_fists\", \"Loadout_3\": \"-\"}, {\"Mode\": \"Duos\", \"Ended at\": \"2021-11-13T00:23:53\", \"Team\": \"forty_seven\", \"Username\": \"gentil_renard\", \"Playtime\": \"25:14\", \"#\": 9, \"KD\": 0.5, \"Kills\": 1, \"Deaths\": 2, \"Assists\": 0, \"Damage >\": 553, \"Damage <\": 383, \"Gulag\": \"L\", \"% moving\": 96.8, \"Game duration\": \"27\", \"Loadout_1\": \"iw8_ar_falima - iw8_sn_t9accurate\", \"Loadout_2\": \"-\", \"Loadout_3\": \"-\"}, {\"Mode\": \"Duos\", \"Ended at\": \"2021-11-13T00:23:53\", \"Team\": \"twenty_five\", \"Username\": \"El Chapoo\", \"Playtime\": \"28:13\", \"#\": 4, \"KD\": 11.0, \"Kills\": 11, \"Deaths\": 1, \"Assists\": 0, \"Damage >\": 3778, \"Damage <\": 745, \"Gulag\": \"L\", \"% moving\": 88.4, \"Game duration\": \"27\", \"Loadout_1\": \"iw8_sm_t9fastfire - iw8_sn_t9accurate\", \"Loadout_2\": \"iw8_pi_t9semiauto - iw8_fists\", \"Loadout_3\": \"-\"}, {\"Mode\": \"Duos\", \"Ended at\": \"2021-11-13T00:23:53\", \"Team\": \"twelve\", \"Username\": \"Monkey D Ruffy\", \"Playtime\": \"17:17\", \"#\": 18, \"KD\": 1.0, \"Kills\": 2, \"Deaths\": 2, \"Assists\": 1, \"Damage >\": 1137, \"Damage <\": 405, \"Gulag\": \"L\", \"% moving\": 63.6, \"Game duration\": \"27\", \"Loadout_1\": \"iw8_ar_t9damage - iw8_sn_t9accurate\", \"Loadout_2\": \"iw8_pi_t9semiauto - iw8_fists\", \"Loadout_3\": \"-\"}, {\"Mode\": \"Duos\", \"Ended at\": \"2021-11-13T00:23:53\", \"Team\": \"thirty_one\", \"Username\": \"RG\", \"Playtime\": \"01:11\", \"#\": 76, \"KD\": 0.0, \"Kills\": 0, \"Deaths\": 0, \"Assists\": 0, \"Damage >\": 0, \"Damage <\": 0, \"Gulag\": \"L\", \"% moving\": 0.0, \"Game duration\": \"27\", \"Loadout_1\": \"iw8_ar_t9british - iw8_sm_t9cqb\", \"Loadout_2\": \"-\", \"Loadout_3\": \"-\"}, {\"Mode\": \"Duos\", \"Ended at\": \"2021-11-13T00:23:53\", \"Team\": \"fifty_nine\", \"Username\": \"Jackk96\", \"Playtime\": \"12:47\", \"#\": 24, \"KD\": 0.5, \"Kills\": 1, \"Deaths\": 2, \"Assists\": 0, \"Damage >\": 537, \"Damage <\": 421, \"Gulag\": \"L\", \"% moving\": 94.4, \"Game duration\": \"27\", \"Loadout_1\": \"iw8_sm_t9cqb - iw8_ar_t9standard\", \"Loadout_2\": \"-\", \"Loadout_3\": \"-\"}, {\"Mode\": \"Duos\", \"Ended at\": \"2021-11-13T00:23:53\", \"Team\": \"twenty_three\", \"Username\": \"freddy1003\", \"Playtime\": \"08:47\", \"#\": 35, \"KD\": 0.5, \"Kills\": 1, \"Deaths\": 2, \"Assists\": 0, \"Damage >\": 341, \"Damage <\": 250, \"Gulag\": \"W\", \"% moving\": 96.8, \"Game duration\": \"27\", \"Loadout_1\": \"iw8_ar_t9damage - iw8_sm_mpapa7\", \"Loadout_2\": \"iw8_pi_t9semiauto - iw8_fists\", \"Loadout_3\": \"-\"}, {\"Mode\": \"Duos\", \"Ended at\": \"2021-11-13T00:23:53\", \"Team\": \"sixty_seven\", \"Username\": \"GAWLI\", \"Playtime\": \"08:23\", \"#\": 39, \"KD\": 0.0, \"Kills\": 0, \"Deaths\": 2, \"Assists\": 0, \"Damage >\": 273, \"Damage <\": 208, \"Gulag\": \"L\", \"% moving\": 95.5, \"Game duration\": \"27\", \"Loadout_1\": \"iw8_lm_t9fastfire - iw8_pi_mike\", \"Loadout_2\": \"iw8_pi_t9semiauto - iw8_fists\", \"Loadout_3\": \"-\"}, {\"Mode\": \"Duos\", \"Ended at\": \"2021-11-13T00:23:53\", \"Team\": \"forty_one\", \"Username\": \"RogueWilly\", \"Playtime\": \"21:37\", \"#\": 13, \"KD\": 2.0, \"Kills\": 4, \"Deaths\": 2, \"Assists\": 1, \"Damage >\": 1360, \"Damage <\": 333, \"Gulag\": \"W\", \"% moving\": 80.3, \"Game duration\": \"27\", \"Loadout_1\": \"iw8_ar_t9damage - iw8_sm_t9standard\", \"Loadout_2\": \"-\", \"Loadout_3\": \"-\"}, {\"Mode\": \"Duos\", \"Ended at\": \"2021-11-13T00:23:53\", \"Team\": \"five\", \"Username\": \"SZYGAR\", \"Playtime\": \"05:02\", \"#\": 62, \"KD\": 1.0, \"Kills\": 1, \"Deaths\": 1, \"Assists\": 0, \"Damage >\": 102, \"Damage <\": 293, \"Gulag\": \"W\", \"% moving\": 87.6, \"Game duration\": \"27\", \"Loadout_1\": \"iw8_sn_t9accurate - iw8_la_t9freefire\", \"Loadout_2\": \"iw8_pi_t9semiauto - iw8_fists\", \"Loadout_3\": \"-\"}, {\"Mode\": \"Duos\", \"Ended at\": \"2021-11-13T00:23:53\", \"Team\": \"fifty\", \"Username\": \"Arnautovic\", \"Playtime\": \"07:18\", \"#\": 46, \"KD\": 1.5, \"Kills\": 3, \"Deaths\": 2, \"Assists\": 0, \"Damage >\": 468, \"Damage <\": 282, \"Gulag\": \"W\", \"% moving\": 90.9, \"Game duration\": \"27\", \"Loadout_1\": \"iw8_ar_t9british - iw8_sm_t9cqb\", \"Loadout_2\": \"iw8_pi_t9semiauto - iw8_fists\", \"Loadout_3\": \"-\"}, {\"Mode\": \"Duos\", \"Ended at\": \"2021-11-13T00:23:53\", \"Team\": \"twenty_eight\", \"Username\": \"Culus\", \"Playtime\": \"07:40\", \"#\": 45, \"KD\": 1.0, \"Kills\": 2, \"Deaths\": 2, \"Assists\": 0, \"Damage >\": 707, \"Damage <\": 300, \"Gulag\": \"W\", \"% moving\": 95.5, \"Game duration\": \"27\", \"Loadout_1\": \"iw8_sm_mpapa5 - iw8_sn_hdromeo\", \"Loadout_2\": \"-\", \"Loadout_3\": \"-\"}, {\"Mode\": \"Duos\", \"Ended at\": \"2021-11-13T00:23:53\", \"Team\": \"seventy_two\", \"Username\": \"resWARy\", \"Playtime\": \"09:11\", \"#\": 38, \"KD\": 0.3, \"Kills\": 1, \"Deaths\": 3, \"Assists\": 0, \"Damage >\": 466, \"Damage <\": 528, \"Gulag\": \"W\", \"% moving\": 73.0, \"Game duration\": \"27\", \"Loadout_1\": \"iw8_ar_t9damage - iw8_sm_t9standard\", \"Loadout_2\": \"iw8_pi_t9semiauto - iw8_fists\", \"Loadout_3\": \"iw8_pi_t9semiauto - iw8_fists\"}, {\"Mode\": \"Duos\", \"Ended at\": \"2021-11-13T00:23:53\", \"Team\": \"fifty_eight\", \"Username\": \"W3BS1\", \"Playtime\": \"08:43\", \"#\": 36, \"KD\": 1.5, \"Kills\": 3, \"Deaths\": 2, \"Assists\": 0, \"Damage >\": 1064, \"Damage <\": 327, \"Gulag\": \"W\", \"% moving\": 88.4, \"Game duration\": \"27\", \"Loadout_1\": \"iw8_ar_galima - iw8_pi_t9fullauto\", \"Loadout_2\": \"iw8_pi_t9semiauto - iw8_fists\", \"Loadout_3\": \"-\"}, {\"Mode\": \"Duos\", \"Ended at\": \"2021-11-13T00:23:53\", \"Team\": \"twenty_one\", \"Username\": \"ciliK\", \"Playtime\": \"06:39\", \"#\": 53, \"KD\": 1.0, \"Kills\": 2, \"Deaths\": 2, \"Assists\": 0, \"Damage >\": 563, \"Damage <\": 460, \"Gulag\": \"W\", \"% moving\": 83.3, \"Game duration\": \"27\", \"Loadout_1\": \"s4_ar_stango44temp - iw8_sn_t9accurate\", \"Loadout_2\": \"-\", \"Loadout_3\": \"-\"}, {\"Mode\": \"Duos\", \"Ended at\": \"2021-11-13T00:23:53\", \"Team\": \"fifty_seven\", \"Username\": \"galaxyynot\", \"Playtime\": \"24:36\", \"#\": 12, \"KD\": 2.5, \"Kills\": 5, \"Deaths\": 2, \"Assists\": 0, \"Damage >\": 1023, \"Damage <\": 865, \"Gulag\": \"W\", \"% moving\": 87.3, \"Game duration\": \"27\", \"Loadout_1\": \"iw8_ar_t9british - iw8_sm_t9cqb\", \"Loadout_2\": \"-\", \"Loadout_3\": \"-\"}, {\"Mode\": \"Duos\", \"Ended at\": \"2021-11-13T00:23:53\", \"Team\": \"sixty_two\", \"Username\": \"VIKING\", \"Playtime\": \"02:59\", \"#\": 74, \"KD\": 0.0, \"Kills\": 0, \"Deaths\": 2, \"Assists\": 1, \"Damage >\": 27, \"Damage <\": 393, \"Gulag\": \"L\", \"% moving\": 79.6, \"Game duration\": \"27\", \"Loadout_1\": \"iw8_sn_kilo98 - iw8_pi_mike9\", \"Loadout_2\": \"iw8_pi_t9semiauto - iw8_fists\", \"Loadout_3\": \"-\"}, {\"Mode\": \"Duos\", \"Ended at\": \"2021-11-13T00:23:53\", \"Team\": \"twenty_four\", \"Username\": \"thedutyman666\", \"Playtime\": \"06:28\", \"#\": 54, \"KD\": 0.5, \"Kills\": 1, \"Deaths\": 2, \"Assists\": 1, \"Damage >\": 563, \"Damage <\": 453, \"Gulag\": \"W\", \"% moving\": 97.7, \"Game duration\": \"27\", \"Loadout_1\": \"iw8_sm_t9season6 - iw8_pi_golf21\", \"Loadout_2\": \"iw8_pi_t9semiauto - iw8_fists\", \"Loadout_3\": \"-\"}, {\"Mode\": \"Duos\", \"Ended at\": \"2021-11-13T00:23:53\", \"Team\": \"twenty\", \"Username\": \"\\u30a2\\u30e9\\u30b8\\u30f3\", \"Playtime\": \"03:43\", \"#\": 67, \"KD\": 0.5, \"Kills\": 1, \"Deaths\": 2, \"Assists\": 0, \"Damage >\": 108, \"Damage <\": 400, \"Gulag\": \"W\", \"% moving\": 94.2, \"Game duration\": \"27\", \"Loadout_1\": \"iw8_ar_t9british - iw8_la_rpapa7\", \"Loadout_2\": \"-\", \"Loadout_3\": \"-\"}, {\"Mode\": \"Duos\", \"Ended at\": \"2021-11-13T00:23:53\", \"Team\": \"forty_five\", \"Username\": \"Melnux\", \"Playtime\": \"10:53\", \"#\": 29, \"KD\": 0.0, \"Kills\": 0, \"Deaths\": 3, \"Assists\": 0, \"Damage >\": 213, \"Damage <\": 486, \"Gulag\": \"L\", \"% moving\": 66.1, \"Game duration\": \"27\", \"Loadout_1\": \"iw8_sm_t9capacity - iw8_sn_kilo98\", \"Loadout_2\": \"iw8_pi_t9semiauto - iw8_fists\", \"Loadout_3\": \"iw8_sm_t9cqb - iw8_fists\"}, {\"Mode\": \"Duos\", \"Ended at\": \"2021-11-13T00:23:53\", \"Team\": \"forty_six\", \"Username\": \"markasimo72\", \"Playtime\": \"05:01\", \"#\": 65, \"KD\": 0.0, \"Kills\": 0, \"Deaths\": 2, \"Assists\": 0, \"Damage >\": 330, \"Damage <\": 206, \"Gulag\": \"L\", \"% moving\": 77.6, \"Game duration\": \"27\", \"Loadout_1\": \"iw8_sn_kilo98 - iw8_sm_t9fastfire\", \"Loadout_2\": \"-\", \"Loadout_3\": \"-\"}, {\"Mode\": \"Duos\", \"Ended at\": \"2021-11-13T00:23:53\", \"Team\": \"twenty_five\", \"Username\": \"carriola94\", \"Playtime\": \"28:14\", \"#\": 4, \"KD\": 8.0, \"Kills\": 8, \"Deaths\": 1, \"Assists\": 1, \"Damage >\": 3501, \"Damage <\": 170, \"Gulag\": \"L\", \"% moving\": 90.0, \"Game duration\": \"27\", \"Loadout_1\": \"iw8_ar_t9british - iw8_sm_t9standard\", \"Loadout_2\": \"iw8_pi_t9semiauto - iw8_fists\", \"Loadout_3\": \"-\"}, {\"Mode\": \"Duos\", \"Ended at\": \"2021-11-13T00:23:53\", \"Team\": \"thirty_eight\", \"Username\": \"Brunoxx\", \"Playtime\": \"26:44\", \"#\": 6, \"KD\": 0.0, \"Kills\": 0, \"Deaths\": 4, \"Assists\": 0, \"Damage >\": 1290, \"Damage <\": 526, \"Gulag\": \"L\", \"% moving\": 72.4, \"Game duration\": \"27\", \"Loadout_1\": \"iw8_sm_t9capacity - iw8_sn_kilo98\", \"Loadout_2\": \"iw8_sm_t9cqb - iw8_fists\", \"Loadout_3\": \"iw8_pi_t9semiauto - iw8_fists\"}, {\"Mode\": \"Duos\", \"Ended at\": \"2021-11-13T00:23:53\", \"Team\": \"fifty_one\", \"Username\": \"LostCHACKA\", \"Playtime\": \"03:14\", \"#\": 68, \"KD\": 1.0, \"Kills\": 1, \"Deaths\": 0, \"Assists\": 0, \"Damage >\": 200, \"Damage <\": 0, \"Gulag\": \"L\", \"% moving\": 98.1, \"Game duration\": \"27\", \"Loadout_1\": \"iw8_sm_t9capacity - iw8_sn_t9accurate\", \"Loadout_2\": \"iw8_pi_t9semiauto - iw8_fists\", \"Loadout_3\": \"-\"}, {\"Mode\": \"Duos\", \"Ended at\": \"2021-11-13T00:23:53\", \"Team\": \"four\", \"Username\": \"PoLsKaBoY93\", \"Playtime\": \"09:55\", \"#\": 33, \"KD\": 0.0, \"Kills\": 0, \"Deaths\": 2, \"Assists\": 0, \"Damage >\": 379, \"Damage <\": 200, \"Gulag\": \"L\", \"% moving\": 77.7, \"Game duration\": \"27\", \"Loadout_1\": \"iw8_ar_t9damage - iw8_sm_t9spray\", \"Loadout_2\": \"iw8_pi_t9semiauto - iw8_fists\", \"Loadout_3\": \"-\"}, {\"Mode\": \"Duos\", \"Ended at\": \"2021-11-13T00:23:53\", \"Team\": \"forty\", \"Username\": \"PEP7s\", \"Playtime\": \"16:51\", \"#\": 19, \"KD\": 3.0, \"Kills\": 6, \"Deaths\": 2, \"Assists\": 1, \"Damage >\": 1326, \"Damage <\": 277, \"Gulag\": \"W\", \"% moving\": 95.8, \"Game duration\": \"27\", \"Loadout_1\": \"iw8_sm_mpapa5 - iw8_sn_t9accurate\", \"Loadout_2\": \"-\", \"Loadout_3\": \"-\"}, {\"Mode\": \"Duos\", \"Ended at\": \"2021-11-13T00:23:53\", \"Team\": \"eighteen\", \"Username\": \"3bor9\", \"Playtime\": \"06:59\", \"#\": 51, \"KD\": 1.0, \"Kills\": 2, \"Deaths\": 2, \"Assists\": 1, \"Damage >\": 412, \"Damage <\": 322, \"Gulag\": \"W\", \"% moving\": 97.0, \"Game duration\": \"27\", \"Loadout_1\": \"iw8_sn_hdromeo - iw8_pi_mike9\", \"Loadout_2\": \"iw8_pi_t9semiauto - iw8_fists\", \"Loadout_3\": \"-\"}, {\"Mode\": \"Duos\", \"Ended at\": \"2021-11-13T00:23:53\", \"Team\": \"seventy_four\", \"Username\": \"xXSkulll57Xx\", \"Playtime\": \"29:04\", \"#\": 28, \"KD\": 1.0, \"Kills\": 2, \"Deaths\": 2, \"Assists\": 0, \"Damage >\": 755, \"Damage <\": 405, \"Gulag\": \"L\", \"% moving\": 28.2, \"Game duration\": \"27\", \"Loadout_1\": \"iw8_ar_t9damage - iw8_sn_t9accurate\", \"Loadout_2\": \"-\", \"Loadout_3\": \"-\"}, {\"Mode\": \"Duos\", \"Ended at\": \"2021-11-13T00:23:53\", \"Team\": \"thirty_one\", \"Username\": \"Cab\", \"Playtime\": \"00:53\", \"#\": 76, \"KD\": 0.0, \"Kills\": 0, \"Deaths\": 0, \"Assists\": 0, \"Damage >\": 0, \"Damage <\": 0, \"Gulag\": \"L\", \"% moving\": 0.0, \"Game duration\": \"27\", \"Loadout_1\": \"-\", \"Loadout_2\": \"-\", \"Loadout_3\": \"-\"}, {\"Mode\": \"Duos\", \"Ended at\": \"2021-11-13T00:23:53\", \"Team\": \"fifty_four\", \"Username\": \"Bugi\", \"Playtime\": \"12:20\", \"#\": 26, \"KD\": 0.0, \"Kills\": 0, \"Deaths\": 2, \"Assists\": 0, \"Damage >\": 290, \"Damage <\": 379, \"Gulag\": \"L\", \"% moving\": 64.1, \"Game duration\": \"27\", \"Loadout_1\": \"iw8_sm_t9cqb - iw8_ar_t9british\", \"Loadout_2\": \"iw8_pi_t9semiauto - iw8_fists\", \"Loadout_3\": \"-\"}, {\"Mode\": \"Duos\", \"Ended at\": \"2021-11-13T00:23:53\", \"Team\": \"twenty_one\", \"Username\": \"Agir\", \"Playtime\": \"06:38\", \"#\": 53, \"KD\": 0.0, \"Kills\": 0, \"Deaths\": 2, \"Assists\": 2, \"Damage >\": 545, \"Damage <\": 300, \"Gulag\": \"L\", \"% moving\": 48.1, \"Game duration\": \"27\", \"Loadout_1\": \"iw8_ar_t9season6 - iw8_me_t9sai\", \"Loadout_2\": \"iw8_pi_t9semiauto - iw8_fists\", \"Loadout_3\": \"-\"}, {\"Mode\": \"Duos\", \"Ended at\": \"2021-11-13T00:23:53\", \"Team\": \"thirty_six\", \"Username\": \"TTS349\", \"Playtime\": \"21:01\", \"#\": 14, \"KD\": 1.3, \"Kills\": 4, \"Deaths\": 3, \"Assists\": 0, \"Damage >\": 1824, \"Damage <\": 500, \"Gulag\": \"W\", \"% moving\": 81.5, \"Game duration\": \"27\", \"Loadout_1\": \"iw8_ar_tango21 - iw8_sm_t9cqb\", \"Loadout_2\": \"iw8_pi_t9semiauto - iw8_fists\", \"Loadout_3\": \"iw8_pi_t9semiauto - iw8_fists\"}, {\"Mode\": \"Duos\", \"Ended at\": \"2021-11-13T00:23:53\", \"Team\": \"fourteen\", \"Username\": \"skloddi\", \"Playtime\": \"07:14\", \"#\": 50, \"KD\": 0.7, \"Kills\": 2, \"Deaths\": 3, \"Assists\": 0, \"Damage >\": 312, \"Damage <\": 500, \"Gulag\": \"L\", \"% moving\": 65.6, \"Game duration\": \"27\", \"Loadout_1\": \"iw8_sm_t9cqb - iw8_ar_t9british\", \"Loadout_2\": \"iw8_pi_t9semiauto - iw8_fists\", \"Loadout_3\": \"iw8_ar_t9fasthandling - iw8_fists\"}, {\"Mode\": \"Duos\", \"Ended at\": \"2021-11-13T00:23:53\", \"Team\": \"nine\", \"Username\": \"Hyse\", \"Playtime\": \"28:01\", \"#\": 2, \"KD\": 1.0, \"Kills\": 1, \"Deaths\": 1, \"Assists\": 1, \"Damage >\": 1149, \"Damage <\": 625, \"Gulag\": \"L\", \"% moving\": 84.0, \"Game duration\": \"27\", \"Loadout_1\": \"iw8_sn_kilo98 - iw8_la_rpapa7\", \"Loadout_2\": \"iw8_pi_t9semiauto - iw8_fists\", \"Loadout_3\": \"-\"}, {\"Mode\": \"Duos\", \"Ended at\": \"2021-11-13T00:23:53\", \"Team\": \"sixty\", \"Username\": \"Bumbumbum99\", \"Playtime\": \"10:11\", \"#\": 32, \"KD\": 1.0, \"Kills\": 2, \"Deaths\": 2, \"Assists\": 0, \"Damage >\": 451, \"Damage <\": 387, \"Gulag\": \"L\", \"% moving\": 90.9, \"Game duration\": \"27\", \"Loadout_1\": \"iw8_ar_mike4 - iw8_me_t9sai\", \"Loadout_2\": \"-\", \"Loadout_3\": \"-\"}, {\"Mode\": \"Duos\", \"Ended at\": \"2021-11-13T00:23:53\", \"Team\": \"sixty\", \"Username\": \"Anru_dk\", \"Playtime\": \"10:26\", \"#\": 32, \"KD\": 1.0, \"Kills\": 2, \"Deaths\": 2, \"Assists\": 0, \"Damage >\": 608, \"Damage <\": 490, \"Gulag\": \"W\", \"% moving\": 92.8, \"Game duration\": \"27\", \"Loadout_1\": \"iw8_ar_t9damage - iw8_sn_t9accurate\", \"Loadout_2\": \"iw8_pi_t9semiauto - iw8_fists\", \"Loadout_3\": \"-\"}, {\"Mode\": \"Duos\", \"Ended at\": \"2021-11-13T00:23:53\", \"Team\": \"thirty_three\", \"Username\": \"777\", \"Playtime\": \"16:08\", \"#\": 20, \"KD\": 1.0, \"Kills\": 2, \"Deaths\": 2, \"Assists\": 1, \"Damage >\": 682, \"Damage <\": 317, \"Gulag\": \"W\", \"% moving\": 93.4, \"Game duration\": \"27\", \"Loadout_1\": \"iw8_ar_t9slowhandling - iw8_sn_kilo98\", \"Loadout_2\": \"iw8_pi_t9semiauto - iw8_fists\", \"Loadout_3\": \"-\"}, {\"Mode\": \"Duos\", \"Ended at\": \"2021-11-13T00:23:53\", \"Team\": \"forty_two\", \"Username\": \"MagicPants\", \"Playtime\": \"06:20\", \"#\": 55, \"KD\": 0.0, \"Kills\": 0, \"Deaths\": 2, \"Assists\": 0, \"Damage >\": 350, \"Damage <\": 301, \"Gulag\": \"L\", \"% moving\": 71.2, \"Game duration\": \"27\", \"Loadout_1\": \"iw8_ar_t9british - iw8_pi_t9semiauto\", \"Loadout_2\": \"-\", \"Loadout_3\": \"-\"}, {\"Mode\": \"Duos\", \"Ended at\": \"2021-11-13T00:23:53\", \"Team\": \"thirty\", \"Username\": \"Mial\", \"Playtime\": \"19:44\", \"#\": 15, \"KD\": 2.5, \"Kills\": 5, \"Deaths\": 2, \"Assists\": 0, \"Damage >\": 2136, \"Damage <\": 310, \"Gulag\": \"W\", \"% moving\": 97.3, \"Game duration\": \"27\", \"Loadout_1\": \"iw8_sm_t9cqb - iw8_ar_t9british\", \"Loadout_2\": \"iw8_pi_t9semiauto - iw8_fists\", \"Loadout_3\": \"-\"}, {\"Mode\": \"Duos\", \"Ended at\": \"2021-11-13T00:23:53\", \"Team\": \"axis\", \"Username\": \"Sandzos91\", \"Playtime\": \"10:22\", \"#\": 31, \"KD\": 1.5, \"Kills\": 3, \"Deaths\": 2, \"Assists\": 0, \"Damage >\": 1132, \"Damage <\": 316, \"Gulag\": \"W\", \"% moving\": 97.0, \"Game duration\": \"27\", \"Loadout_1\": \"iw8_ar_t9slowhandling - iw8_sm_t9cqb\", \"Loadout_2\": \"-\", \"Loadout_3\": \"-\"}, {\"Mode\": \"Duos\", \"Ended at\": \"2021-11-13T00:23:53\", \"Team\": \"seventy_one\", \"Username\": \"Bail O Dhia\", \"Playtime\": \"06:17\", \"#\": 58, \"KD\": 0.5, \"Kills\": 1, \"Deaths\": 2, \"Assists\": 1, \"Damage >\": 295, \"Damage <\": 281, \"Gulag\": \"W\", \"% moving\": 92.8, \"Game duration\": \"27\", \"Loadout_1\": \"iw8_me_riotshield - iw8_me_t9machete\", \"Loadout_2\": \"-\", \"Loadout_3\": \"-\"}, {\"Mode\": \"Duos\", \"Ended at\": \"2021-11-13T00:23:53\", \"Team\": \"forty_three\", \"Username\": \"S2mle100lesh\", \"Playtime\": \"09:22\", \"#\": 34, \"KD\": 0.5, \"Kills\": 1, \"Deaths\": 2, \"Assists\": 1, \"Damage >\": 586, \"Damage <\": 301, \"Gulag\": \"L\", \"% moving\": 58.4, \"Game duration\": \"27\", \"Loadout_1\": \"iw8_ar_t9standard - iw8_sn_t9accurate\", \"Loadout_2\": \"iw8_pi_t9semiauto - iw8_fists\", \"Loadout_3\": \"iw8_sm_t9cqb - iw8_fists\"}, {\"Mode\": \"Duos\", \"Ended at\": \"2021-11-13T00:23:53\", \"Team\": \"seventy_five\", \"Username\": \"Neno\", \"Playtime\": \"03:23\", \"#\": 72, \"KD\": 2.0, \"Kills\": 2, \"Deaths\": 1, \"Assists\": 0, \"Damage >\": 596, \"Damage <\": 100, \"Gulag\": \"L\", \"% moving\": 100.0, \"Game duration\": \"27\", \"Loadout_1\": \"iw8_ar_t9damage - iw8_sn_kilo98\", \"Loadout_2\": \"iw8_pi_t9semiauto - iw8_fists\", \"Loadout_3\": \"-\"}, {\"Mode\": \"Duos\", \"Ended at\": \"2021-11-13T00:23:53\", \"Team\": \"seventy_two\", \"Username\": \"Zalbadar\", \"Playtime\": \"09:11\", \"#\": 38, \"KD\": 0.5, \"Kills\": 1, \"Deaths\": 2, \"Assists\": 0, \"Damage >\": 303, \"Damage <\": 569, \"Gulag\": \"W\", \"% moving\": 86.1, \"Game duration\": \"27\", \"Loadout_1\": \"iw8_sm_t9cqb - iw8_sn_t9accurate\", \"Loadout_2\": \"-\", \"Loadout_3\": \"-\"}, {\"Mode\": \"Duos\", \"Ended at\": \"2021-11-13T00:23:53\", \"Team\": \"twelve\", \"Username\": \"PLAZA\", \"Playtime\": \"16:59\", \"#\": 18, \"KD\": 1.5, \"Kills\": 3, \"Deaths\": 2, \"Assists\": 0, \"Damage >\": 589, \"Damage <\": 386, \"Gulag\": \"W\", \"% moving\": 93.5, \"Game duration\": \"27\", \"Loadout_1\": \"iw8_sm_t9accurate - iw8_ar_mike4\", \"Loadout_2\": \"iw8_pi_t9semiauto - iw8_fists\", \"Loadout_3\": \"-\"}, {\"Mode\": \"Duos\", \"Ended at\": \"2021-11-13T00:23:53\", \"Team\": \"fourteen\", \"Username\": \"SanMiquel88\", \"Playtime\": \"07:13\", \"#\": 50, \"KD\": 0.0, \"Kills\": 0, \"Deaths\": 2, \"Assists\": 0, \"Damage >\": 93, \"Damage <\": 200, \"Gulag\": \"L\", \"% moving\": 99.1, \"Game duration\": \"27\", \"Loadout_1\": \"iw8_sn_t9accurate - iw8_sm_t9cqb\", \"Loadout_2\": \"iw8_pi_t9semiauto - iw8_fists\", \"Loadout_3\": \"-\"}, {\"Mode\": \"Duos\", \"Ended at\": \"2021-11-13T00:23:53\", \"Team\": \"twenty_seven\", \"Username\": \"E-G-J  RaGnA 23\", \"Playtime\": \"03:42\", \"#\": 71, \"KD\": 0.0, \"Kills\": 0, \"Deaths\": 2, \"Assists\": 0, \"Damage >\": 77, \"Damage <\": 240, \"Gulag\": \"L\", \"% moving\": 87.0, \"Game duration\": \"27\", \"Loadout_1\": \"iw8_sm_t9accurate - iw8_sn_t9accurate\", \"Loadout_2\": \"-\", \"Loadout_3\": \"-\"}, {\"Mode\": \"Duos\", \"Ended at\": \"2021-11-13T00:23:53\", \"Team\": \"fifteen\", \"Username\": \"doMi\", \"Playtime\": \"19:11\", \"#\": 16, \"KD\": 1.7, \"Kills\": 5, \"Deaths\": 3, \"Assists\": 0, \"Damage >\": 1087, \"Damage <\": 378, \"Gulag\": \"L\", \"% moving\": 87.3, \"Game duration\": \"27\", \"Loadout_1\": \"iw8_ar_t9damage - iw8_sm_t9spray\", \"Loadout_2\": \"iw8_pi_t9semiauto - iw8_fists\", \"Loadout_3\": \"iw8_sh_t9pump - iw8_fists\"}, {\"Mode\": \"Duos\", \"Ended at\": \"2021-11-13T00:23:53\", \"Team\": \"five\", \"Username\": \"Pajdowski\", \"Playtime\": \"04:25\", \"#\": 62, \"KD\": 0.0, \"Kills\": 0, \"Deaths\": 0, \"Assists\": 1, \"Damage >\": 296, \"Damage <\": 106, \"Gulag\": \"L\", \"% moving\": 92.7, \"Game duration\": \"27\", \"Loadout_1\": \"iw8_ar_t9standard - iw8_sm_t9cqb\", \"Loadout_2\": \"-\", \"Loadout_3\": \"-\"}, {\"Mode\": \"Duos\", \"Ended at\": \"2021-11-13T00:23:53\", \"Team\": \"twenty_four\", \"Username\": \"j\\u00e6dienzomansith\", \"Playtime\": \"06:27\", \"#\": 54, \"KD\": 1.0, \"Kills\": 2, \"Deaths\": 2, \"Assists\": 0, \"Damage >\": 417, \"Damage <\": 402, \"Gulag\": \"W\", \"% moving\": 89.4, \"Game duration\": \"27\", \"Loadout_1\": \"iw8_ar_tango21 - iw8_pi_papa320\", \"Loadout_2\": \"iw8_pi_t9semiauto - iw8_fists\", \"Loadout_3\": \"-\"}, {\"Mode\": \"Duos\", \"Ended at\": \"2021-11-13T00:23:53\", \"Team\": \"fifty\", \"Username\": \"Pinzio\", \"Playtime\": \"07:33\", \"#\": 46, \"KD\": 0.5, \"Kills\": 1, \"Deaths\": 2, \"Assists\": 0, \"Damage >\": 142, \"Damage <\": 322, \"Gulag\": \"L\", \"% moving\": 45.5, \"Game duration\": \"27\", \"Loadout_1\": \"iw8_sm_mpapa7 - iw8_sn_t9accurate\", \"Loadout_2\": \"-\", \"Loadout_3\": \"-\"}, {\"Mode\": \"Duos\", \"Ended at\": \"2021-11-13T00:23:53\", \"Team\": \"thirty_nine\", \"Username\": \"Pilota93\", \"Playtime\": \"05:55\", \"#\": 57, \"KD\": 0.0, \"Kills\": 0, \"Deaths\": 3, \"Assists\": 0, \"Damage >\": 215, \"Damage <\": 492, \"Gulag\": \"L\", \"% moving\": 64.5, \"Game duration\": \"27\", \"Loadout_1\": \"iw8_ar_mcharlie - iw8_pi_t9burst\", \"Loadout_2\": \"iw8_sm_t9cqb - iw8_fists\", \"Loadout_3\": \"-\"}, {\"Mode\": \"Duos\", \"Ended at\": \"2021-11-13T00:23:53\", \"Team\": \"nine\", \"Username\": \"UrCrush\", \"Playtime\": \"28:04\", \"#\": 2, \"KD\": 8.0, \"Kills\": 8, \"Deaths\": 1, \"Assists\": 0, \"Damage >\": 2735, \"Damage <\": 390, \"Gulag\": \"L\", \"% moving\": 93.8, \"Game duration\": \"27\", \"Loadout_1\": \"iw8_ar_t9damage - iw8_knife\", \"Loadout_2\": \"iw8_pi_t9semiauto - iw8_fists\", \"Loadout_3\": \"-\"}, {\"Mode\": \"Duos\", \"Ended at\": \"2021-11-13T00:23:53\", \"Team\": \"nineteen\", \"Username\": \"Ge off du huan\", \"Playtime\": \"13:20\", \"#\": 22, \"KD\": 0.0, \"Kills\": 0, \"Deaths\": 3, \"Assists\": 0, \"Damage >\": 494, \"Damage <\": 454, \"Gulag\": \"L\", \"% moving\": 55.0, \"Game duration\": \"27\", \"Loadout_1\": \"iw8_ar_t9damage - iw8_sm_t9cqb\", \"Loadout_2\": \"iw8_pi_t9semiauto - iw8_fists\", \"Loadout_3\": \"iw8_pi_t9revolver - iw8_fists\"}, {\"Mode\": \"Duos\", \"Ended at\": \"2021-11-13T00:23:53\", \"Team\": \"thirty_three\", \"Username\": \"fi\\u0107oxbot\", \"Playtime\": \"16:19\", \"#\": 20, \"KD\": 3.5, \"Kills\": 7, \"Deaths\": 2, \"Assists\": 0, \"Damage >\": 2536, \"Damage <\": 697, \"Gulag\": \"L\", \"% moving\": 91.8, \"Game duration\": \"27\", \"Loadout_1\": \"iw8_sm_t9cqb - iw8_ar_t9british\", \"Loadout_2\": \"iw8_pi_t9semiauto - iw8_fists\", \"Loadout_3\": \"-\"}, {\"Mode\": \"Duos\", \"Ended at\": \"2021-11-13T00:23:53\", \"Team\": \"thirty_seven\", \"Username\": \"Andreas\", \"Playtime\": \"05:46\", \"#\": 59, \"KD\": 0.0, \"Kills\": 0, \"Deaths\": 2, \"Assists\": 1, \"Damage >\": 94, \"Damage <\": 299, \"Gulag\": \"L\", \"% moving\": 44.2, \"Game duration\": \"27\", \"Loadout_1\": \"iw8_ar_t9slowhandling - iw8_sm_t9spray\", \"Loadout_2\": \"-\", \"Loadout_3\": \"-\"}, {\"Mode\": \"Duos\", \"Ended at\": \"2021-11-13T00:23:53\", \"Team\": \"forty_two\", \"Username\": \"Leon\", \"Playtime\": \"06:20\", \"#\": 55, \"KD\": 0.0, \"Kills\": 0, \"Deaths\": 2, \"Assists\": 0, \"Damage >\": 190, \"Damage <\": 200, \"Gulag\": \"L\", \"% moving\": 83.1, \"Game duration\": \"27\", \"Loadout_1\": \"iw8_sn_t9accurate - iw8_pi_t9fullauto\", \"Loadout_2\": \"iw8_pi_t9semiauto - iw8_fists\", \"Loadout_3\": \"-\"}, {\"Mode\": \"Duos\", \"Ended at\": \"2021-11-13T00:23:53\", \"Team\": \"seventeen\", \"Username\": \"Haluk57\", \"Playtime\": \"25:28\", \"#\": 5, \"KD\": 2.5, \"Kills\": 5, \"Deaths\": 2, \"Assists\": 3, \"Damage >\": 2074, \"Damage <\": 634, \"Gulag\": \"W\", \"% moving\": 96.7, \"Game duration\": \"27\", \"Loadout_1\": \"iw8_ar_asierra12 - iw8_sm_t9capacity\", \"Loadout_2\": \"iw8_pi_t9semiauto - iw8_fists\", \"Loadout_3\": \"-\"}, {\"Mode\": \"Duos\", \"Ended at\": \"2021-11-13T00:23:53\", \"Team\": \"seventy_one\", \"Username\": \"Kev Timoney\", \"Playtime\": \"06:01\", \"#\": 58, \"KD\": 1.0, \"Kills\": 2, \"Deaths\": 2, \"Assists\": 1, \"Damage >\": 362, \"Damage <\": 300, \"Gulag\": \"W\", \"% moving\": 89.3, \"Game duration\": \"27\", \"Loadout_1\": \"iw8_ar_sierra552 - iw8_sn_kilo98\", \"Loadout_2\": \"iw8_pi_t9semiauto - iw8_fists\", \"Loadout_3\": \"-\"}, {\"Mode\": \"Duos\", \"Ended at\": \"2021-11-13T00:23:53\", \"Team\": \"forty_five\", \"Username\": \"matzpaff\", \"Playtime\": \"10:51\", \"#\": 29, \"KD\": 1.0, \"Kills\": 2, \"Deaths\": 2, \"Assists\": 0, \"Damage >\": 409, \"Damage <\": 444, \"Gulag\": \"W\", \"% moving\": 88.4, \"Game duration\": \"27\", \"Loadout_1\": \"iw8_sn_t9accurate - iw8_sm_mpapa5\", \"Loadout_2\": \"iw8_pi_t9semiauto - iw8_fists\", \"Loadout_3\": \"-\"}, {\"Mode\": \"Duos\", \"Ended at\": \"2021-11-13T00:23:53\", \"Team\": \"sixty_nine\", \"Username\": \"angelsx82\", \"Playtime\": \"15:36\", \"#\": 21, \"KD\": 1.0, \"Kills\": 2, \"Deaths\": 2, \"Assists\": 1, \"Damage >\": 540, \"Damage <\": 356, \"Gulag\": \"W\", \"% moving\": 91.6, \"Game duration\": \"27\", \"Loadout_1\": \"iw8_ar_mike4 - iw8_sn_kilo98\", \"Loadout_2\": \"-\", \"Loadout_3\": \"-\"}, {\"Mode\": \"Duos\", \"Ended at\": \"2021-11-13T00:23:53\", \"Team\": \"sixty_three\", \"Username\": \"NINJA\", \"Playtime\": \"23:35\", \"#\": 11, \"KD\": 3.0, \"Kills\": 3, \"Deaths\": 1, \"Assists\": 0, \"Damage >\": 1350, \"Damage <\": 370, \"Gulag\": \"L\", \"% moving\": 96.6, \"Game duration\": \"27\", \"Loadout_1\": \"iw8_ar_t9british - iw8_pi_cpapa\", \"Loadout_2\": \"iw8_pi_t9semiauto - iw8_fists\", \"Loadout_3\": \"-\"}, {\"Mode\": \"Duos\", \"Ended at\": \"2021-11-13T00:23:53\", \"Team\": \"eleven\", \"Username\": \"HiddenPants\", \"Playtime\": \"08:07\", \"#\": 44, \"KD\": 0.5, \"Kills\": 1, \"Deaths\": 2, \"Assists\": 0, \"Damage >\": 452, \"Damage <\": 280, \"Gulag\": \"L\", \"% moving\": 86.5, \"Game duration\": \"27\", \"Loadout_1\": \"iw8_ar_t9fasthandling - iw8_ar_t9slowhandling\", \"Loadout_2\": \"iw8_pi_t9semiauto - iw8_fists\", \"Loadout_3\": \"-\"}, {\"Mode\": \"Duos\", \"Ended at\": \"2021-11-13T00:23:53\", \"Team\": \"sixty_three\", \"Username\": \"Lukaha1000\", \"Playtime\": \"23:37\", \"#\": 11, \"KD\": 1.0, \"Kills\": 1, \"Deaths\": 1, \"Assists\": 1, \"Damage >\": 723, \"Damage <\": 813, \"Gulag\": \"L\", \"% moving\": 93.6, \"Game duration\": \"27\", \"Loadout_1\": \"iw8_ar_akilo47 - iw8_sn_kilo98\", \"Loadout_2\": \"-\", \"Loadout_3\": \"-\"}, {\"Mode\": \"Duos\", \"Ended at\": \"2021-11-13T00:23:53\", \"Team\": \"forty_eight\", \"Username\": \"therealsaele\", \"Playtime\": \"24:04\", \"#\": 10, \"KD\": 0.7, \"Kills\": 2, \"Deaths\": 3, \"Assists\": 1, \"Damage >\": 1320, \"Damage <\": 512, \"Gulag\": \"L\", \"% moving\": 91.4, \"Game duration\": \"27\", \"Loadout_1\": \"iw8_sn_kilo98 - iw8_pi_mike1911\", \"Loadout_2\": \"iw8_sh_t9pump - iw8_fists\", \"Loadout_3\": \"-\"}, {\"Mode\": \"Duos\", \"Ended at\": \"2021-11-13T00:23:53\", \"Team\": \"thirty_four\", \"Username\": \"NiLhAXxX\", \"Playtime\": \"05:01\", \"#\": 63, \"KD\": 0.5, \"Kills\": 1, \"Deaths\": 2, \"Assists\": 0, \"Damage >\": 348, \"Damage <\": 300, \"Gulag\": \"L\", \"% moving\": 71.8, \"Game duration\": \"27\", \"Loadout_1\": \"iw8_sm_t9fastfire - iw8_sn_t9accurate\", \"Loadout_2\": \"iw8_pi_t9semiauto - iw8_fists\", \"Loadout_3\": \"-\"}, {\"Mode\": \"Duos\", \"Ended at\": \"2021-11-13T00:23:53\", \"Team\": \"fifty_five\", \"Username\": \"Aurel8787\", \"Playtime\": \"09:19\", \"#\": 37, \"KD\": 0.5, \"Kills\": 1, \"Deaths\": 2, \"Assists\": 0, \"Damage >\": 287, \"Damage <\": 396, \"Gulag\": \"W\", \"% moving\": 94.3, \"Game duration\": \"27\", \"Loadout_1\": \"iw8_sm_t9capacity - iw8_sn_t9accurate\", \"Loadout_2\": \"-\", \"Loadout_3\": \"-\"}, {\"Mode\": \"Duos\", \"Ended at\": \"2021-11-13T00:23:53\", \"Team\": \"six\", \"Username\": \"Mortel7Modjo\", \"Playtime\": \"12:37\", \"#\": 25, \"KD\": 0.3, \"Kills\": 1, \"Deaths\": 3, \"Assists\": 1, \"Damage >\": 612, \"Damage <\": 422, \"Gulag\": \"L\", \"% moving\": 69.0, \"Game duration\": \"27\", \"Loadout_1\": \"iw8_ar_t9damage - iw8_sn_kilo98\", \"Loadout_2\": \"iw8_pi_t9semiauto - iw8_fists\", \"Loadout_3\": \"iw8_sm_t9cqb - iw8_fists\"}, {\"Mode\": \"Duos\", \"Ended at\": \"2021-11-13T00:23:53\", \"Team\": \"thirty_five\", \"Username\": \"Wiggoooo96\", \"Playtime\": \"12:16\", \"#\": 27, \"KD\": 0.3, \"Kills\": 1, \"Deaths\": 3, \"Assists\": 0, \"Damage >\": 539, \"Damage <\": 408, \"Gulag\": \"L\", \"% moving\": 61.1, \"Game duration\": \"27\", \"Loadout_1\": \"iw8_ar_t9british - iw8_sm_t9cqb\", \"Loadout_2\": \"iw8_pi_t9semiauto - iw8_fists\", \"Loadout_3\": \"iw8_sn_t9damagesemi - iw8_fists\"}, {\"Mode\": \"Duos\", \"Ended at\": \"2021-11-13T00:23:53\", \"Team\": \"fifty_one\", \"Username\": \"Sn1perrang3r\", \"Playtime\": \"03:20\", \"#\": 68, \"KD\": 0.0, \"Kills\": 0, \"Deaths\": 0, \"Assists\": 0, \"Damage >\": 0, \"Damage <\": 0, \"Gulag\": \"L\", \"% moving\": 97.0, \"Game duration\": \"27\", \"Loadout_1\": \"iw8_ar_mcharlie - iw8_sn_t9accurate\", \"Loadout_2\": \"iw8_pi_t9semiauto - iw8_fists\", \"Loadout_3\": \"-\"}, {\"Mode\": \"Duos\", \"Ended at\": \"2021-11-13T00:23:53\", \"Team\": \"sixty_one\", \"Username\": \"bmwdriver892\", \"Playtime\": \"25:22\", \"#\": 7, \"KD\": 0.5, \"Kills\": 2, \"Deaths\": 4, \"Assists\": 0, \"Damage >\": 464, \"Damage <\": 873, \"Gulag\": \"W\", \"% moving\": 69.1, \"Game duration\": \"27\", \"Loadout_1\": \"iw8_sn_t9standard - iw8_ar_t9accurate\", \"Loadout_2\": \"iw8_pi_t9semiauto - iw8_fists\", \"Loadout_3\": \"iw8_sn_t9accurate - iw8_pi_t9burst\"}, {\"Mode\": \"Duos\", \"Ended at\": \"2021-11-13T00:23:53\", \"Team\": \"three\", \"Username\": \"ThorJekes\", \"Playtime\": \"03:20\", \"#\": 69, \"KD\": 0.0, \"Kills\": 0, \"Deaths\": 2, \"Assists\": 0, \"Damage >\": 475, \"Damage <\": 314, \"Gulag\": \"L\", \"% moving\": 89.1, \"Game duration\": \"27\", \"Loadout_1\": \"iw8_ar_sierra552 - iw8_me_akimboblunt\", \"Loadout_2\": \"iw8_pi_t9semiauto - iw8_fists\", \"Loadout_3\": \"-\"}, {\"Mode\": \"Duos\", \"Ended at\": \"2021-11-13T00:23:53\", \"Team\": \"twenty_two\", \"Username\": \"KAR Cher\", \"Playtime\": \"07:15\", \"#\": 48, \"KD\": 2.0, \"Kills\": 4, \"Deaths\": 2, \"Assists\": 0, \"Damage >\": 1110, \"Damage <\": 305, \"Gulag\": \"W\", \"% moving\": 97.7, \"Game duration\": \"27\", \"Loadout_1\": \"iw8_sn_kilo98 - iw8_pi_mike\", \"Loadout_2\": \"iw8_pi_t9semiauto - iw8_fists\", \"Loadout_3\": \"-\"}, {\"Mode\": \"Duos\", \"Ended at\": \"2021-11-13T00:23:53\", \"Team\": \"thirty_six\", \"Username\": \"xxxkilerxxx\", \"Playtime\": \"21:01\", \"#\": 14, \"KD\": 0.3, \"Kills\": 1, \"Deaths\": 3, \"Assists\": 0, \"Damage >\": 392, \"Damage <\": 926, \"Gulag\": \"W\", \"% moving\": 73.5, \"Game duration\": \"27\", \"Loadout_1\": \"iw8_sm_t9cqb - iw8_ar_t9standard\", \"Loadout_2\": \"iw8_pi_t9semiauto - iw8_fists\", \"Loadout_3\": \"iw8_pi_t9semiauto - iw8_fists\"}, {\"Mode\": \"Duos\", \"Ended at\": \"2021-11-13T00:23:53\", \"Team\": \"fifteen\", \"Username\": \"rilup\", \"Playtime\": \"19:13\", \"#\": 16, \"KD\": 1.5, \"Kills\": 3, \"Deaths\": 2, \"Assists\": 2, \"Damage >\": 1578, \"Damage <\": 226, \"Gulag\": \"W\", \"% moving\": 94.0, \"Game duration\": \"27\", \"Loadout_1\": \"iw8_ar_t9damage - iw8_sm_t9capacity\", \"Loadout_2\": \"iw8_pi_t9semiauto - iw8_fists\", \"Loadout_3\": \"-\"}, {\"Mode\": \"Duos\", \"Ended at\": \"2021-11-13T00:23:53\", \"Team\": \"eight\", \"Username\": \"ElBigode\", \"Playtime\": \"08:23\", \"#\": 40, \"KD\": 0.0, \"Kills\": 0, \"Deaths\": 2, \"Assists\": 1, \"Damage >\": 355, \"Damage <\": 200, \"Gulag\": \"L\", \"% moving\": 35.4, \"Game duration\": \"27\", \"Loadout_1\": \"iw8_ar_t9damage - iw8_me_t9sai\", \"Loadout_2\": \"iw8_pi_t9semiauto - iw8_fists\", \"Loadout_3\": \"-\"}, {\"Mode\": \"Duos\", \"Ended at\": \"2021-11-13T00:23:53\", \"Team\": \"twenty_nine\", \"Username\": \"MeerJungJunge\", \"Playtime\": \"08:32\", \"#\": 43, \"KD\": 1.5, \"Kills\": 3, \"Deaths\": 2, \"Assists\": 1, \"Damage >\": 602, \"Damage <\": 381, \"Gulag\": \"W\", \"% moving\": 72.9, \"Game duration\": \"27\", \"Loadout_1\": \"iw8_ar_valpha - iw8_pi_t9burst\", \"Loadout_2\": \"iw8_pi_t9semiauto - iw8_fists\", \"Loadout_3\": \"-\"}, {\"Mode\": \"Duos\", \"Ended at\": \"2021-11-13T00:23:53\", \"Team\": \"ten\", \"Username\": \"BLOWEY\", \"Playtime\": \"05:02\", \"#\": 61, \"KD\": 0.5, \"Kills\": 1, \"Deaths\": 2, \"Assists\": 0, \"Damage >\": 212, \"Damage <\": 212, \"Gulag\": \"L\", \"% moving\": 76.1, \"Game duration\": \"27\", \"Loadout_1\": \"iw8_sn_t9accurate - iw8_sm_t9cqb\", \"Loadout_2\": \"iw8_pi_t9semiauto - iw8_fists\", \"Loadout_3\": \"-\"}, {\"Mode\": \"Duos\", \"Ended at\": \"2021-11-13T00:23:53\", \"Team\": \"sixty_nine\", \"Username\": \"stely1\", \"Playtime\": \"15:36\", \"#\": 21, \"KD\": 0.7, \"Kills\": 2, \"Deaths\": 3, \"Assists\": 1, \"Damage >\": 967, \"Damage <\": 527, \"Gulag\": \"L\", \"% moving\": 45.5, \"Game duration\": \"27\", \"Loadout_1\": \"iw8_ar_t9standard - iw8_sn_kilo98\", \"Loadout_2\": \"iw8_pi_t9semiauto - iw8_fists\", \"Loadout_3\": \"iw8_ar_t9slowfire - iw8_fists\"}]}}, {\"mode\": \"vega-lite\"});\n",
       "</script>"
      ],
      "text/plain": [
       "alt.LayerChart(...)"
      ]
     },
     "execution_count": 55,
     "metadata": {},
     "output_type": "execute_result"
    }
   ],
   "source": [
    "hist2 = base.mark_bar().encode(\n",
    "    x=alt.X('KD:Q', bin=alt.Bin(step=0.5)), \n",
    "    y=alt.Y('count()', axis=alt.Axis(format='', title='n Players')),\n",
    "    tooltip=['KD', 'count()'],\n",
    "    color=alt.value(\"orange\")\n",
    "            \n",
    ").properties(width=400, height=300)\n",
    "\n",
    "red_median_line2 = base.mark_rule(color='black').encode(\n",
    "    x=alt.X('median(KD):Q', title='KD'),\n",
    "    size=alt.value(2)\n",
    ")\n",
    "hist2 + red_median_line2"
   ]
  },
  {
   "cell_type": "markdown",
   "id": "e2dafc86-86cd-4c01-8c93-b83e721f192d",
   "metadata": {},
   "source": [
    "#### Using Plotly"
   ]
  },
  {
   "cell_type": "markdown",
   "id": "1cd44094-95d5-4d14-81cf-2798316fa689",
   "metadata": {},
   "source": [
    "##### Tables"
   ]
  },
  {
   "cell_type": "code",
   "execution_count": 56,
   "id": "16041492-0cb8-4c8c-98e4-0349a45e6cad",
   "metadata": {},
   "outputs": [],
   "source": [
    "import plotly.graph_objects as go"
   ]
  },
  {
   "cell_type": "code",
   "execution_count": 57,
   "id": "24852a5a-79ca-41d2-9d5e-7f50dce2de63",
   "metadata": {},
   "outputs": [
    {
     "data": {
      "text/html": [
       "<div>\n",
       "<style scoped>\n",
       "    .dataframe tbody tr th:only-of-type {\n",
       "        vertical-align: middle;\n",
       "    }\n",
       "\n",
       "    .dataframe tbody tr th {\n",
       "        vertical-align: top;\n",
       "    }\n",
       "\n",
       "    .dataframe thead th {\n",
       "        text-align: right;\n",
       "    }\n",
       "</style>\n",
       "<table border=\"1\" class=\"dataframe\">\n",
       "  <thead>\n",
       "    <tr style=\"text-align: right;\">\n",
       "      <th></th>\n",
       "      <th>Player</th>\n",
       "      <th>KD</th>\n",
       "      <th>K D A</th>\n",
       "      <th>Loadouts</th>\n",
       "    </tr>\n",
       "  </thead>\n",
       "  <tbody>\n",
       "    <tr>\n",
       "      <th>0</th>\n",
       "      <td>nicoyzovitch</td>\n",
       "      <td>0.5</td>\n",
       "      <td>1 | 2 | 1</td>\n",
       "      <td>XM4 - HDR, Pistol, -</td>\n",
       "    </tr>\n",
       "    <tr>\n",
       "      <th>1</th>\n",
       "      <td>gentil_renard</td>\n",
       "      <td>0.5</td>\n",
       "      <td>1 | 2 | 0</td>\n",
       "      <td>FAL - K31, -, -</td>\n",
       "    </tr>\n",
       "    <tr>\n",
       "      <th>2</th>\n",
       "      <td>Team</td>\n",
       "      <td>0.5</td>\n",
       "      <td>2 | 4 | 1</td>\n",
       "      <td>-</td>\n",
       "    </tr>\n",
       "  </tbody>\n",
       "</table>\n",
       "</div>"
      ],
      "text/plain": [
       "          Player   KD      K D A              Loadouts\n",
       "0   nicoyzovitch  0.5  1 | 2 | 1  XM4 - HDR, Pistol, -\n",
       "1  gentil_renard  0.5  1 | 2 | 0       FAL - K31, -, -\n",
       "2           Team  0.5  2 | 4 | 1                     -"
      ]
     },
     "execution_count": 57,
     "metadata": {},
     "output_type": "execute_result"
    }
   ],
   "source": [
    "team_kills"
   ]
  },
  {
   "cell_type": "code",
   "execution_count": 220,
   "id": "bcc61cbc-cd61-4a9c-88e2-a3a2df3c6f1a",
   "metadata": {},
   "outputs": [
    {
     "data": {
      "application/vnd.plotly.v1+json": {
       "config": {
        "plotlyServerURL": "https://plot.ly"
       },
       "data": [
        {
         "cells": {
          "align": "left",
          "values": [
           [
            "nicoyzovitch",
            "gentil_renard",
            "Team"
           ],
           [
            0.5,
            0.5,
            0.5
           ],
           [
            "1 | 2 | 1",
            "1 | 2 | 0",
            "2 | 4 | 1"
           ],
           [
            "XM4 - HDR, Pistol, -",
            "FAL - K31, -, -",
            "-"
           ]
          ]
         },
         "columnwidth": [
          30,
          20,
          20,
          90
         ],
         "header": {
          "align": [
           "left"
          ],
          "fill": {
           "color": "#F0F2F6"
          },
          "line": {
           "color": "lightgray"
          },
          "values": [
           "Player",
           "KD",
           "K D A",
           "Loadouts"
          ]
         },
         "type": "table"
        }
       ],
       "layout": {
        "height": 250,
        "margin": {
         "b": 0,
         "l": 0,
         "r": 1,
         "t": 0
        },
        "template": {
         "data": {
          "bar": [
           {
            "error_x": {
             "color": "#2a3f5f"
            },
            "error_y": {
             "color": "#2a3f5f"
            },
            "marker": {
             "line": {
              "color": "#E5ECF6",
              "width": 0.5
             },
             "pattern": {
              "fillmode": "overlay",
              "size": 10,
              "solidity": 0.2
             }
            },
            "type": "bar"
           }
          ],
          "barpolar": [
           {
            "marker": {
             "line": {
              "color": "#E5ECF6",
              "width": 0.5
             },
             "pattern": {
              "fillmode": "overlay",
              "size": 10,
              "solidity": 0.2
             }
            },
            "type": "barpolar"
           }
          ],
          "carpet": [
           {
            "aaxis": {
             "endlinecolor": "#2a3f5f",
             "gridcolor": "white",
             "linecolor": "white",
             "minorgridcolor": "white",
             "startlinecolor": "#2a3f5f"
            },
            "baxis": {
             "endlinecolor": "#2a3f5f",
             "gridcolor": "white",
             "linecolor": "white",
             "minorgridcolor": "white",
             "startlinecolor": "#2a3f5f"
            },
            "type": "carpet"
           }
          ],
          "choropleth": [
           {
            "colorbar": {
             "outlinewidth": 0,
             "ticks": ""
            },
            "type": "choropleth"
           }
          ],
          "contour": [
           {
            "colorbar": {
             "outlinewidth": 0,
             "ticks": ""
            },
            "colorscale": [
             [
              0,
              "#0d0887"
             ],
             [
              0.1111111111111111,
              "#46039f"
             ],
             [
              0.2222222222222222,
              "#7201a8"
             ],
             [
              0.3333333333333333,
              "#9c179e"
             ],
             [
              0.4444444444444444,
              "#bd3786"
             ],
             [
              0.5555555555555556,
              "#d8576b"
             ],
             [
              0.6666666666666666,
              "#ed7953"
             ],
             [
              0.7777777777777778,
              "#fb9f3a"
             ],
             [
              0.8888888888888888,
              "#fdca26"
             ],
             [
              1,
              "#f0f921"
             ]
            ],
            "type": "contour"
           }
          ],
          "contourcarpet": [
           {
            "colorbar": {
             "outlinewidth": 0,
             "ticks": ""
            },
            "type": "contourcarpet"
           }
          ],
          "heatmap": [
           {
            "colorbar": {
             "outlinewidth": 0,
             "ticks": ""
            },
            "colorscale": [
             [
              0,
              "#0d0887"
             ],
             [
              0.1111111111111111,
              "#46039f"
             ],
             [
              0.2222222222222222,
              "#7201a8"
             ],
             [
              0.3333333333333333,
              "#9c179e"
             ],
             [
              0.4444444444444444,
              "#bd3786"
             ],
             [
              0.5555555555555556,
              "#d8576b"
             ],
             [
              0.6666666666666666,
              "#ed7953"
             ],
             [
              0.7777777777777778,
              "#fb9f3a"
             ],
             [
              0.8888888888888888,
              "#fdca26"
             ],
             [
              1,
              "#f0f921"
             ]
            ],
            "type": "heatmap"
           }
          ],
          "heatmapgl": [
           {
            "colorbar": {
             "outlinewidth": 0,
             "ticks": ""
            },
            "colorscale": [
             [
              0,
              "#0d0887"
             ],
             [
              0.1111111111111111,
              "#46039f"
             ],
             [
              0.2222222222222222,
              "#7201a8"
             ],
             [
              0.3333333333333333,
              "#9c179e"
             ],
             [
              0.4444444444444444,
              "#bd3786"
             ],
             [
              0.5555555555555556,
              "#d8576b"
             ],
             [
              0.6666666666666666,
              "#ed7953"
             ],
             [
              0.7777777777777778,
              "#fb9f3a"
             ],
             [
              0.8888888888888888,
              "#fdca26"
             ],
             [
              1,
              "#f0f921"
             ]
            ],
            "type": "heatmapgl"
           }
          ],
          "histogram": [
           {
            "marker": {
             "pattern": {
              "fillmode": "overlay",
              "size": 10,
              "solidity": 0.2
             }
            },
            "type": "histogram"
           }
          ],
          "histogram2d": [
           {
            "colorbar": {
             "outlinewidth": 0,
             "ticks": ""
            },
            "colorscale": [
             [
              0,
              "#0d0887"
             ],
             [
              0.1111111111111111,
              "#46039f"
             ],
             [
              0.2222222222222222,
              "#7201a8"
             ],
             [
              0.3333333333333333,
              "#9c179e"
             ],
             [
              0.4444444444444444,
              "#bd3786"
             ],
             [
              0.5555555555555556,
              "#d8576b"
             ],
             [
              0.6666666666666666,
              "#ed7953"
             ],
             [
              0.7777777777777778,
              "#fb9f3a"
             ],
             [
              0.8888888888888888,
              "#fdca26"
             ],
             [
              1,
              "#f0f921"
             ]
            ],
            "type": "histogram2d"
           }
          ],
          "histogram2dcontour": [
           {
            "colorbar": {
             "outlinewidth": 0,
             "ticks": ""
            },
            "colorscale": [
             [
              0,
              "#0d0887"
             ],
             [
              0.1111111111111111,
              "#46039f"
             ],
             [
              0.2222222222222222,
              "#7201a8"
             ],
             [
              0.3333333333333333,
              "#9c179e"
             ],
             [
              0.4444444444444444,
              "#bd3786"
             ],
             [
              0.5555555555555556,
              "#d8576b"
             ],
             [
              0.6666666666666666,
              "#ed7953"
             ],
             [
              0.7777777777777778,
              "#fb9f3a"
             ],
             [
              0.8888888888888888,
              "#fdca26"
             ],
             [
              1,
              "#f0f921"
             ]
            ],
            "type": "histogram2dcontour"
           }
          ],
          "mesh3d": [
           {
            "colorbar": {
             "outlinewidth": 0,
             "ticks": ""
            },
            "type": "mesh3d"
           }
          ],
          "parcoords": [
           {
            "line": {
             "colorbar": {
              "outlinewidth": 0,
              "ticks": ""
             }
            },
            "type": "parcoords"
           }
          ],
          "pie": [
           {
            "automargin": true,
            "type": "pie"
           }
          ],
          "scatter": [
           {
            "marker": {
             "colorbar": {
              "outlinewidth": 0,
              "ticks": ""
             }
            },
            "type": "scatter"
           }
          ],
          "scatter3d": [
           {
            "line": {
             "colorbar": {
              "outlinewidth": 0,
              "ticks": ""
             }
            },
            "marker": {
             "colorbar": {
              "outlinewidth": 0,
              "ticks": ""
             }
            },
            "type": "scatter3d"
           }
          ],
          "scattercarpet": [
           {
            "marker": {
             "colorbar": {
              "outlinewidth": 0,
              "ticks": ""
             }
            },
            "type": "scattercarpet"
           }
          ],
          "scattergeo": [
           {
            "marker": {
             "colorbar": {
              "outlinewidth": 0,
              "ticks": ""
             }
            },
            "type": "scattergeo"
           }
          ],
          "scattergl": [
           {
            "marker": {
             "colorbar": {
              "outlinewidth": 0,
              "ticks": ""
             }
            },
            "type": "scattergl"
           }
          ],
          "scattermapbox": [
           {
            "marker": {
             "colorbar": {
              "outlinewidth": 0,
              "ticks": ""
             }
            },
            "type": "scattermapbox"
           }
          ],
          "scatterpolar": [
           {
            "marker": {
             "colorbar": {
              "outlinewidth": 0,
              "ticks": ""
             }
            },
            "type": "scatterpolar"
           }
          ],
          "scatterpolargl": [
           {
            "marker": {
             "colorbar": {
              "outlinewidth": 0,
              "ticks": ""
             }
            },
            "type": "scatterpolargl"
           }
          ],
          "scatterternary": [
           {
            "marker": {
             "colorbar": {
              "outlinewidth": 0,
              "ticks": ""
             }
            },
            "type": "scatterternary"
           }
          ],
          "surface": [
           {
            "colorbar": {
             "outlinewidth": 0,
             "ticks": ""
            },
            "colorscale": [
             [
              0,
              "#0d0887"
             ],
             [
              0.1111111111111111,
              "#46039f"
             ],
             [
              0.2222222222222222,
              "#7201a8"
             ],
             [
              0.3333333333333333,
              "#9c179e"
             ],
             [
              0.4444444444444444,
              "#bd3786"
             ],
             [
              0.5555555555555556,
              "#d8576b"
             ],
             [
              0.6666666666666666,
              "#ed7953"
             ],
             [
              0.7777777777777778,
              "#fb9f3a"
             ],
             [
              0.8888888888888888,
              "#fdca26"
             ],
             [
              1,
              "#f0f921"
             ]
            ],
            "type": "surface"
           }
          ],
          "table": [
           {
            "cells": {
             "fill": {
              "color": "#EBF0F8"
             },
             "line": {
              "color": "white"
             }
            },
            "header": {
             "fill": {
              "color": "#C8D4E3"
             },
             "line": {
              "color": "white"
             }
            },
            "type": "table"
           }
          ]
         },
         "layout": {
          "annotationdefaults": {
           "arrowcolor": "#2a3f5f",
           "arrowhead": 0,
           "arrowwidth": 1
          },
          "autotypenumbers": "strict",
          "coloraxis": {
           "colorbar": {
            "outlinewidth": 0,
            "ticks": ""
           }
          },
          "colorscale": {
           "diverging": [
            [
             0,
             "#8e0152"
            ],
            [
             0.1,
             "#c51b7d"
            ],
            [
             0.2,
             "#de77ae"
            ],
            [
             0.3,
             "#f1b6da"
            ],
            [
             0.4,
             "#fde0ef"
            ],
            [
             0.5,
             "#f7f7f7"
            ],
            [
             0.6,
             "#e6f5d0"
            ],
            [
             0.7,
             "#b8e186"
            ],
            [
             0.8,
             "#7fbc41"
            ],
            [
             0.9,
             "#4d9221"
            ],
            [
             1,
             "#276419"
            ]
           ],
           "sequential": [
            [
             0,
             "#0d0887"
            ],
            [
             0.1111111111111111,
             "#46039f"
            ],
            [
             0.2222222222222222,
             "#7201a8"
            ],
            [
             0.3333333333333333,
             "#9c179e"
            ],
            [
             0.4444444444444444,
             "#bd3786"
            ],
            [
             0.5555555555555556,
             "#d8576b"
            ],
            [
             0.6666666666666666,
             "#ed7953"
            ],
            [
             0.7777777777777778,
             "#fb9f3a"
            ],
            [
             0.8888888888888888,
             "#fdca26"
            ],
            [
             1,
             "#f0f921"
            ]
           ],
           "sequentialminus": [
            [
             0,
             "#0d0887"
            ],
            [
             0.1111111111111111,
             "#46039f"
            ],
            [
             0.2222222222222222,
             "#7201a8"
            ],
            [
             0.3333333333333333,
             "#9c179e"
            ],
            [
             0.4444444444444444,
             "#bd3786"
            ],
            [
             0.5555555555555556,
             "#d8576b"
            ],
            [
             0.6666666666666666,
             "#ed7953"
            ],
            [
             0.7777777777777778,
             "#fb9f3a"
            ],
            [
             0.8888888888888888,
             "#fdca26"
            ],
            [
             1,
             "#f0f921"
            ]
           ]
          },
          "colorway": [
           "#636efa",
           "#EF553B",
           "#00cc96",
           "#ab63fa",
           "#FFA15A",
           "#19d3f3",
           "#FF6692",
           "#B6E880",
           "#FF97FF",
           "#FECB52"
          ],
          "font": {
           "color": "#2a3f5f"
          },
          "geo": {
           "bgcolor": "white",
           "lakecolor": "white",
           "landcolor": "#E5ECF6",
           "showlakes": true,
           "showland": true,
           "subunitcolor": "white"
          },
          "hoverlabel": {
           "align": "left"
          },
          "hovermode": "closest",
          "mapbox": {
           "style": "light"
          },
          "paper_bgcolor": "white",
          "plot_bgcolor": "#E5ECF6",
          "polar": {
           "angularaxis": {
            "gridcolor": "white",
            "linecolor": "white",
            "ticks": ""
           },
           "bgcolor": "#E5ECF6",
           "radialaxis": {
            "gridcolor": "white",
            "linecolor": "white",
            "ticks": ""
           }
          },
          "scene": {
           "xaxis": {
            "backgroundcolor": "#E5ECF6",
            "gridcolor": "white",
            "gridwidth": 2,
            "linecolor": "white",
            "showbackground": true,
            "ticks": "",
            "zerolinecolor": "white"
           },
           "yaxis": {
            "backgroundcolor": "#E5ECF6",
            "gridcolor": "white",
            "gridwidth": 2,
            "linecolor": "white",
            "showbackground": true,
            "ticks": "",
            "zerolinecolor": "white"
           },
           "zaxis": {
            "backgroundcolor": "#E5ECF6",
            "gridcolor": "white",
            "gridwidth": 2,
            "linecolor": "white",
            "showbackground": true,
            "ticks": "",
            "zerolinecolor": "white"
           }
          },
          "shapedefaults": {
           "line": {
            "color": "#2a3f5f"
           }
          },
          "ternary": {
           "aaxis": {
            "gridcolor": "white",
            "linecolor": "white",
            "ticks": ""
           },
           "baxis": {
            "gridcolor": "white",
            "linecolor": "white",
            "ticks": ""
           },
           "bgcolor": "#E5ECF6",
           "caxis": {
            "gridcolor": "white",
            "linecolor": "white",
            "ticks": ""
           }
          },
          "title": {
           "x": 0.05
          },
          "xaxis": {
           "automargin": true,
           "gridcolor": "white",
           "linecolor": "white",
           "ticks": "",
           "title": {
            "standoff": 15
           },
           "zerolinecolor": "white",
           "zerolinewidth": 2
          },
          "yaxis": {
           "automargin": true,
           "gridcolor": "white",
           "linecolor": "white",
           "ticks": "",
           "title": {
            "standoff": 15
           },
           "zerolinecolor": "white",
           "zerolinewidth": 2
          }
         }
        },
        "width": 600
       }
      },
      "image/png": "[encoded data removed]",
      "text/html": [
       "<div>                            <div id=\"a706dbfa-13f1-428b-877d-4119de8a18e2\" class=\"plotly-graph-div\" style=\"height:250px; width:600px;\"></div>            <script type=\"text/javascript\">                require([\"plotly\"], function(Plotly) {                    window.PLOTLYENV=window.PLOTLYENV || {};                                    if (document.getElementById(\"a706dbfa-13f1-428b-877d-4119de8a18e2\")) {                    Plotly.newPlot(                        \"a706dbfa-13f1-428b-877d-4119de8a18e2\",                        [{\"cells\":{\"align\":\"left\",\"values\":[[\"nicoyzovitch\",\"gentil_renard\",\"Team\"],[0.5,0.5,0.5],[\"1 | 2 | 1\",\"1 | 2 | 0\",\"2 | 4 | 1\"],[\"XM4 - HDR, Pistol, -\",\"FAL - K31, -, -\",\"-\"]]},\"columnwidth\":[30,20,20,90],\"header\":{\"align\":[\"left\"],\"fill\":{\"color\":\"#F0F2F6\"},\"line\":{\"color\":\"lightgray\"},\"values\":[\"Player\",\"KD\",\"K D A\",\"Loadouts\"]},\"type\":\"table\"}],                        {\"height\":250,\"margin\":{\"b\":0,\"l\":0,\"r\":1,\"t\":0},\"template\":{\"data\":{\"bar\":[{\"error_x\":{\"color\":\"#2a3f5f\"},\"error_y\":{\"color\":\"#2a3f5f\"},\"marker\":{\"line\":{\"color\":\"#E5ECF6\",\"width\":0.5},\"pattern\":{\"fillmode\":\"overlay\",\"size\":10,\"solidity\":0.2}},\"type\":\"bar\"}],\"barpolar\":[{\"marker\":{\"line\":{\"color\":\"#E5ECF6\",\"width\":0.5},\"pattern\":{\"fillmode\":\"overlay\",\"size\":10,\"solidity\":0.2}},\"type\":\"barpolar\"}],\"carpet\":[{\"aaxis\":{\"endlinecolor\":\"#2a3f5f\",\"gridcolor\":\"white\",\"linecolor\":\"white\",\"minorgridcolor\":\"white\",\"startlinecolor\":\"#2a3f5f\"},\"baxis\":{\"endlinecolor\":\"#2a3f5f\",\"gridcolor\":\"white\",\"linecolor\":\"white\",\"minorgridcolor\":\"white\",\"startlinecolor\":\"#2a3f5f\"},\"type\":\"carpet\"}],\"choropleth\":[{\"colorbar\":{\"outlinewidth\":0,\"ticks\":\"\"},\"type\":\"choropleth\"}],\"contour\":[{\"colorbar\":{\"outlinewidth\":0,\"ticks\":\"\"},\"colorscale\":[[0.0,\"#0d0887\"],[0.1111111111111111,\"#46039f\"],[0.2222222222222222,\"#7201a8\"],[0.3333333333333333,\"#9c179e\"],[0.4444444444444444,\"#bd3786\"],[0.5555555555555556,\"#d8576b\"],[0.6666666666666666,\"#ed7953\"],[0.7777777777777778,\"#fb9f3a\"],[0.8888888888888888,\"#fdca26\"],[1.0,\"#f0f921\"]],\"type\":\"contour\"}],\"contourcarpet\":[{\"colorbar\":{\"outlinewidth\":0,\"ticks\":\"\"},\"type\":\"contourcarpet\"}],\"heatmap\":[{\"colorbar\":{\"outlinewidth\":0,\"ticks\":\"\"},\"colorscale\":[[0.0,\"#0d0887\"],[0.1111111111111111,\"#46039f\"],[0.2222222222222222,\"#7201a8\"],[0.3333333333333333,\"#9c179e\"],[0.4444444444444444,\"#bd3786\"],[0.5555555555555556,\"#d8576b\"],[0.6666666666666666,\"#ed7953\"],[0.7777777777777778,\"#fb9f3a\"],[0.8888888888888888,\"#fdca26\"],[1.0,\"#f0f921\"]],\"type\":\"heatmap\"}],\"heatmapgl\":[{\"colorbar\":{\"outlinewidth\":0,\"ticks\":\"\"},\"colorscale\":[[0.0,\"#0d0887\"],[0.1111111111111111,\"#46039f\"],[0.2222222222222222,\"#7201a8\"],[0.3333333333333333,\"#9c179e\"],[0.4444444444444444,\"#bd3786\"],[0.5555555555555556,\"#d8576b\"],[0.6666666666666666,\"#ed7953\"],[0.7777777777777778,\"#fb9f3a\"],[0.8888888888888888,\"#fdca26\"],[1.0,\"#f0f921\"]],\"type\":\"heatmapgl\"}],\"histogram\":[{\"marker\":{\"pattern\":{\"fillmode\":\"overlay\",\"size\":10,\"solidity\":0.2}},\"type\":\"histogram\"}],\"histogram2d\":[{\"colorbar\":{\"outlinewidth\":0,\"ticks\":\"\"},\"colorscale\":[[0.0,\"#0d0887\"],[0.1111111111111111,\"#46039f\"],[0.2222222222222222,\"#7201a8\"],[0.3333333333333333,\"#9c179e\"],[0.4444444444444444,\"#bd3786\"],[0.5555555555555556,\"#d8576b\"],[0.6666666666666666,\"#ed7953\"],[0.7777777777777778,\"#fb9f3a\"],[0.8888888888888888,\"#fdca26\"],[1.0,\"#f0f921\"]],\"type\":\"histogram2d\"}],\"histogram2dcontour\":[{\"colorbar\":{\"outlinewidth\":0,\"ticks\":\"\"},\"colorscale\":[[0.0,\"#0d0887\"],[0.1111111111111111,\"#46039f\"],[0.2222222222222222,\"#7201a8\"],[0.3333333333333333,\"#9c179e\"],[0.4444444444444444,\"#bd3786\"],[0.5555555555555556,\"#d8576b\"],[0.6666666666666666,\"#ed7953\"],[0.7777777777777778,\"#fb9f3a\"],[0.8888888888888888,\"#fdca26\"],[1.0,\"#f0f921\"]],\"type\":\"histogram2dcontour\"}],\"mesh3d\":[{\"colorbar\":{\"outlinewidth\":0,\"ticks\":\"\"},\"type\":\"mesh3d\"}],\"parcoords\":[{\"line\":{\"colorbar\":{\"outlinewidth\":0,\"ticks\":\"\"}},\"type\":\"parcoords\"}],\"pie\":[{\"automargin\":true,\"type\":\"pie\"}],\"scatter\":[{\"marker\":{\"colorbar\":{\"outlinewidth\":0,\"ticks\":\"\"}},\"type\":\"scatter\"}],\"scatter3d\":[{\"line\":{\"colorbar\":{\"outlinewidth\":0,\"ticks\":\"\"}},\"marker\":{\"colorbar\":{\"outlinewidth\":0,\"ticks\":\"\"}},\"type\":\"scatter3d\"}],\"scattercarpet\":[{\"marker\":{\"colorbar\":{\"outlinewidth\":0,\"ticks\":\"\"}},\"type\":\"scattercarpet\"}],\"scattergeo\":[{\"marker\":{\"colorbar\":{\"outlinewidth\":0,\"ticks\":\"\"}},\"type\":\"scattergeo\"}],\"scattergl\":[{\"marker\":{\"colorbar\":{\"outlinewidth\":0,\"ticks\":\"\"}},\"type\":\"scattergl\"}],\"scattermapbox\":[{\"marker\":{\"colorbar\":{\"outlinewidth\":0,\"ticks\":\"\"}},\"type\":\"scattermapbox\"}],\"scatterpolar\":[{\"marker\":{\"colorbar\":{\"outlinewidth\":0,\"ticks\":\"\"}},\"type\":\"scatterpolar\"}],\"scatterpolargl\":[{\"marker\":{\"colorbar\":{\"outlinewidth\":0,\"ticks\":\"\"}},\"type\":\"scatterpolargl\"}],\"scatterternary\":[{\"marker\":{\"colorbar\":{\"outlinewidth\":0,\"ticks\":\"\"}},\"type\":\"scatterternary\"}],\"surface\":[{\"colorbar\":{\"outlinewidth\":0,\"ticks\":\"\"},\"colorscale\":[[0.0,\"#0d0887\"],[0.1111111111111111,\"#46039f\"],[0.2222222222222222,\"#7201a8\"],[0.3333333333333333,\"#9c179e\"],[0.4444444444444444,\"#bd3786\"],[0.5555555555555556,\"#d8576b\"],[0.6666666666666666,\"#ed7953\"],[0.7777777777777778,\"#fb9f3a\"],[0.8888888888888888,\"#fdca26\"],[1.0,\"#f0f921\"]],\"type\":\"surface\"}],\"table\":[{\"cells\":{\"fill\":{\"color\":\"#EBF0F8\"},\"line\":{\"color\":\"white\"}},\"header\":{\"fill\":{\"color\":\"#C8D4E3\"},\"line\":{\"color\":\"white\"}},\"type\":\"table\"}]},\"layout\":{\"annotationdefaults\":{\"arrowcolor\":\"#2a3f5f\",\"arrowhead\":0,\"arrowwidth\":1},\"autotypenumbers\":\"strict\",\"coloraxis\":{\"colorbar\":{\"outlinewidth\":0,\"ticks\":\"\"}},\"colorscale\":{\"diverging\":[[0,\"#8e0152\"],[0.1,\"#c51b7d\"],[0.2,\"#de77ae\"],[0.3,\"#f1b6da\"],[0.4,\"#fde0ef\"],[0.5,\"#f7f7f7\"],[0.6,\"#e6f5d0\"],[0.7,\"#b8e186\"],[0.8,\"#7fbc41\"],[0.9,\"#4d9221\"],[1,\"#276419\"]],\"sequential\":[[0.0,\"#0d0887\"],[0.1111111111111111,\"#46039f\"],[0.2222222222222222,\"#7201a8\"],[0.3333333333333333,\"#9c179e\"],[0.4444444444444444,\"#bd3786\"],[0.5555555555555556,\"#d8576b\"],[0.6666666666666666,\"#ed7953\"],[0.7777777777777778,\"#fb9f3a\"],[0.8888888888888888,\"#fdca26\"],[1.0,\"#f0f921\"]],\"sequentialminus\":[[0.0,\"#0d0887\"],[0.1111111111111111,\"#46039f\"],[0.2222222222222222,\"#7201a8\"],[0.3333333333333333,\"#9c179e\"],[0.4444444444444444,\"#bd3786\"],[0.5555555555555556,\"#d8576b\"],[0.6666666666666666,\"#ed7953\"],[0.7777777777777778,\"#fb9f3a\"],[0.8888888888888888,\"#fdca26\"],[1.0,\"#f0f921\"]]},\"colorway\":[\"#636efa\",\"#EF553B\",\"#00cc96\",\"#ab63fa\",\"#FFA15A\",\"#19d3f3\",\"#FF6692\",\"#B6E880\",\"#FF97FF\",\"#FECB52\"],\"font\":{\"color\":\"#2a3f5f\"},\"geo\":{\"bgcolor\":\"white\",\"lakecolor\":\"white\",\"landcolor\":\"#E5ECF6\",\"showlakes\":true,\"showland\":true,\"subunitcolor\":\"white\"},\"hoverlabel\":{\"align\":\"left\"},\"hovermode\":\"closest\",\"mapbox\":{\"style\":\"light\"},\"paper_bgcolor\":\"white\",\"plot_bgcolor\":\"#E5ECF6\",\"polar\":{\"angularaxis\":{\"gridcolor\":\"white\",\"linecolor\":\"white\",\"ticks\":\"\"},\"bgcolor\":\"#E5ECF6\",\"radialaxis\":{\"gridcolor\":\"white\",\"linecolor\":\"white\",\"ticks\":\"\"}},\"scene\":{\"xaxis\":{\"backgroundcolor\":\"#E5ECF6\",\"gridcolor\":\"white\",\"gridwidth\":2,\"linecolor\":\"white\",\"showbackground\":true,\"ticks\":\"\",\"zerolinecolor\":\"white\"},\"yaxis\":{\"backgroundcolor\":\"#E5ECF6\",\"gridcolor\":\"white\",\"gridwidth\":2,\"linecolor\":\"white\",\"showbackground\":true,\"ticks\":\"\",\"zerolinecolor\":\"white\"},\"zaxis\":{\"backgroundcolor\":\"#E5ECF6\",\"gridcolor\":\"white\",\"gridwidth\":2,\"linecolor\":\"white\",\"showbackground\":true,\"ticks\":\"\",\"zerolinecolor\":\"white\"}},\"shapedefaults\":{\"line\":{\"color\":\"#2a3f5f\"}},\"ternary\":{\"aaxis\":{\"gridcolor\":\"white\",\"linecolor\":\"white\",\"ticks\":\"\"},\"baxis\":{\"gridcolor\":\"white\",\"linecolor\":\"white\",\"ticks\":\"\"},\"bgcolor\":\"#E5ECF6\",\"caxis\":{\"gridcolor\":\"white\",\"linecolor\":\"white\",\"ticks\":\"\"}},\"title\":{\"x\":0.05},\"xaxis\":{\"automargin\":true,\"gridcolor\":\"white\",\"linecolor\":\"white\",\"ticks\":\"\",\"title\":{\"standoff\":15},\"zerolinecolor\":\"white\",\"zerolinewidth\":2},\"yaxis\":{\"automargin\":true,\"gridcolor\":\"white\",\"linecolor\":\"white\",\"ticks\":\"\",\"title\":{\"standoff\":15},\"zerolinecolor\":\"white\",\"zerolinewidth\":2}}},\"width\":600},                        {\"responsive\": true}                    ).then(function(){\n",
       "                            \n",
       "var gd = document.getElementById('a706dbfa-13f1-428b-877d-4119de8a18e2');\n",
       "var x = new MutationObserver(function (mutations, observer) {{\n",
       "        var display = window.getComputedStyle(gd).display;\n",
       "        if (!display || display === 'none') {{\n",
       "            console.log([gd, 'removed!']);\n",
       "            Plotly.purge(gd);\n",
       "            observer.disconnect();\n",
       "        }}\n",
       "}});\n",
       "\n",
       "// Listen for the removal of the full notebook cells\n",
       "var notebookContainer = gd.closest('#notebook-container');\n",
       "if (notebookContainer) {{\n",
       "    x.observe(notebookContainer, {childList: true});\n",
       "}}\n",
       "\n",
       "// Listen for the clearing of the current output cell\n",
       "var outputEl = gd.closest('.output');\n",
       "if (outputEl) {{\n",
       "    x.observe(outputEl, {childList: true});\n",
       "}}\n",
       "\n",
       "                        })                };                });            </script>        </div>"
      ]
     },
     "metadata": {},
     "output_type": "display_data"
    }
   ],
   "source": [
    "df = team_kills\n",
    "\n",
    "fig = go.Figure(\n",
    "    data=[\n",
    "        go.Table(\n",
    "            columnwidth = [30, 20, 20, 90],\n",
    "            header = dict(values=list(df.columns),\n",
    "                          align=['left'],\n",
    "                          line_color='lightgray',\n",
    "                          fill_color='#F0F2F6'),\n",
    "            cells = dict(values=[df.Player, df.KD, df['K D A'], df.Loadouts],\n",
    "                         align='left'))\n",
    "    ]\n",
    ")\n",
    "\n",
    "# to narrow spaces between several figures\n",
    "fig.update_layout(\n",
    "    width=600,\n",
    "    height=250,\n",
    "    margin=dict(\n",
    "        l=0,\n",
    "        r=1,\n",
    "        b=0,\n",
    "        t=0\n",
    "        )\n",
    "    )\n",
    "fig.show()"
   ]
  },
  {
   "cell_type": "code",
   "execution_count": 233,
   "id": "129eddcf-c6f2-45ba-b44d-d6a515b5d97e",
   "metadata": {},
   "outputs": [
    {
     "data": {
      "application/vnd.plotly.v1+json": {
       "config": {
        "plotlyServerURL": "https://plot.ly"
       },
       "data": [
        {
         "cells": {
          "align": "left",
          "fill": {
           "color": "white"
          },
          "font": {
           "size": 15
          },
          "values": [
           [
            "izKKoTV",
            "El Chapoo",
            "SeoiAlle",
            "carriola94",
            "UrCrush"
           ],
           [
            "twenty_six",
            "twenty_five",
            "forty_eight",
            "twenty_five",
            "nine"
           ],
           [
            6,
            11,
            3.3,
            8,
            8
           ],
           [
            "12 | 2 | 1",
            "11 | 1 | 0",
            "10 | 3 | 0",
            "8 | 1 | 1",
            "8 | 1 | 0"
           ],
           [
            "K31 - ppsh, Pistol, -",
            "MAC-10 - K31, Pistol, -",
            "sm_t9handling - Kar98, Pistol, ar_t9fasthandling",
            "EM2 - MP5 cw, Pistol, -",
            "AK-47 cw - knife, Pistol, -"
           ]
          ]
         },
         "columnwidth": [
          30,
          20,
          20,
          20,
          90
         ],
         "header": {
          "align": [
           "left"
          ],
          "fill": {
           "color": "white"
          },
          "line": {
           "color": "lightgray"
          },
          "values": [
           "Player",
           "Team",
           "KD",
           "K D A",
           "Loadouts"
          ]
         },
         "type": "table"
        }
       ],
       "layout": {
        "height": 250,
        "margin": {
         "b": 0,
         "l": 0,
         "r": 1,
         "t": 0
        },
        "template": {
         "data": {
          "bar": [
           {
            "error_x": {
             "color": "#2a3f5f"
            },
            "error_y": {
             "color": "#2a3f5f"
            },
            "marker": {
             "line": {
              "color": "#E5ECF6",
              "width": 0.5
             },
             "pattern": {
              "fillmode": "overlay",
              "size": 10,
              "solidity": 0.2
             }
            },
            "type": "bar"
           }
          ],
          "barpolar": [
           {
            "marker": {
             "line": {
              "color": "#E5ECF6",
              "width": 0.5
             },
             "pattern": {
              "fillmode": "overlay",
              "size": 10,
              "solidity": 0.2
             }
            },
            "type": "barpolar"
           }
          ],
          "carpet": [
           {
            "aaxis": {
             "endlinecolor": "#2a3f5f",
             "gridcolor": "white",
             "linecolor": "white",
             "minorgridcolor": "white",
             "startlinecolor": "#2a3f5f"
            },
            "baxis": {
             "endlinecolor": "#2a3f5f",
             "gridcolor": "white",
             "linecolor": "white",
             "minorgridcolor": "white",
             "startlinecolor": "#2a3f5f"
            },
            "type": "carpet"
           }
          ],
          "choropleth": [
           {
            "colorbar": {
             "outlinewidth": 0,
             "ticks": ""
            },
            "type": "choropleth"
           }
          ],
          "contour": [
           {
            "colorbar": {
             "outlinewidth": 0,
             "ticks": ""
            },
            "colorscale": [
             [
              0,
              "#0d0887"
             ],
             [
              0.1111111111111111,
              "#46039f"
             ],
             [
              0.2222222222222222,
              "#7201a8"
             ],
             [
              0.3333333333333333,
              "#9c179e"
             ],
             [
              0.4444444444444444,
              "#bd3786"
             ],
             [
              0.5555555555555556,
              "#d8576b"
             ],
             [
              0.6666666666666666,
              "#ed7953"
             ],
             [
              0.7777777777777778,
              "#fb9f3a"
             ],
             [
              0.8888888888888888,
              "#fdca26"
             ],
             [
              1,
              "#f0f921"
             ]
            ],
            "type": "contour"
           }
          ],
          "contourcarpet": [
           {
            "colorbar": {
             "outlinewidth": 0,
             "ticks": ""
            },
            "type": "contourcarpet"
           }
          ],
          "heatmap": [
           {
            "colorbar": {
             "outlinewidth": 0,
             "ticks": ""
            },
            "colorscale": [
             [
              0,
              "#0d0887"
             ],
             [
              0.1111111111111111,
              "#46039f"
             ],
             [
              0.2222222222222222,
              "#7201a8"
             ],
             [
              0.3333333333333333,
              "#9c179e"
             ],
             [
              0.4444444444444444,
              "#bd3786"
             ],
             [
              0.5555555555555556,
              "#d8576b"
             ],
             [
              0.6666666666666666,
              "#ed7953"
             ],
             [
              0.7777777777777778,
              "#fb9f3a"
             ],
             [
              0.8888888888888888,
              "#fdca26"
             ],
             [
              1,
              "#f0f921"
             ]
            ],
            "type": "heatmap"
           }
          ],
          "heatmapgl": [
           {
            "colorbar": {
             "outlinewidth": 0,
             "ticks": ""
            },
            "colorscale": [
             [
              0,
              "#0d0887"
             ],
             [
              0.1111111111111111,
              "#46039f"
             ],
             [
              0.2222222222222222,
              "#7201a8"
             ],
             [
              0.3333333333333333,
              "#9c179e"
             ],
             [
              0.4444444444444444,
              "#bd3786"
             ],
             [
              0.5555555555555556,
              "#d8576b"
             ],
             [
              0.6666666666666666,
              "#ed7953"
             ],
             [
              0.7777777777777778,
              "#fb9f3a"
             ],
             [
              0.8888888888888888,
              "#fdca26"
             ],
             [
              1,
              "#f0f921"
             ]
            ],
            "type": "heatmapgl"
           }
          ],
          "histogram": [
           {
            "marker": {
             "pattern": {
              "fillmode": "overlay",
              "size": 10,
              "solidity": 0.2
             }
            },
            "type": "histogram"
           }
          ],
          "histogram2d": [
           {
            "colorbar": {
             "outlinewidth": 0,
             "ticks": ""
            },
            "colorscale": [
             [
              0,
              "#0d0887"
             ],
             [
              0.1111111111111111,
              "#46039f"
             ],
             [
              0.2222222222222222,
              "#7201a8"
             ],
             [
              0.3333333333333333,
              "#9c179e"
             ],
             [
              0.4444444444444444,
              "#bd3786"
             ],
             [
              0.5555555555555556,
              "#d8576b"
             ],
             [
              0.6666666666666666,
              "#ed7953"
             ],
             [
              0.7777777777777778,
              "#fb9f3a"
             ],
             [
              0.8888888888888888,
              "#fdca26"
             ],
             [
              1,
              "#f0f921"
             ]
            ],
            "type": "histogram2d"
           }
          ],
          "histogram2dcontour": [
           {
            "colorbar": {
             "outlinewidth": 0,
             "ticks": ""
            },
            "colorscale": [
             [
              0,
              "#0d0887"
             ],
             [
              0.1111111111111111,
              "#46039f"
             ],
             [
              0.2222222222222222,
              "#7201a8"
             ],
             [
              0.3333333333333333,
              "#9c179e"
             ],
             [
              0.4444444444444444,
              "#bd3786"
             ],
             [
              0.5555555555555556,
              "#d8576b"
             ],
             [
              0.6666666666666666,
              "#ed7953"
             ],
             [
              0.7777777777777778,
              "#fb9f3a"
             ],
             [
              0.8888888888888888,
              "#fdca26"
             ],
             [
              1,
              "#f0f921"
             ]
            ],
            "type": "histogram2dcontour"
           }
          ],
          "mesh3d": [
           {
            "colorbar": {
             "outlinewidth": 0,
             "ticks": ""
            },
            "type": "mesh3d"
           }
          ],
          "parcoords": [
           {
            "line": {
             "colorbar": {
              "outlinewidth": 0,
              "ticks": ""
             }
            },
            "type": "parcoords"
           }
          ],
          "pie": [
           {
            "automargin": true,
            "type": "pie"
           }
          ],
          "scatter": [
           {
            "marker": {
             "colorbar": {
              "outlinewidth": 0,
              "ticks": ""
             }
            },
            "type": "scatter"
           }
          ],
          "scatter3d": [
           {
            "line": {
             "colorbar": {
              "outlinewidth": 0,
              "ticks": ""
             }
            },
            "marker": {
             "colorbar": {
              "outlinewidth": 0,
              "ticks": ""
             }
            },
            "type": "scatter3d"
           }
          ],
          "scattercarpet": [
           {
            "marker": {
             "colorbar": {
              "outlinewidth": 0,
              "ticks": ""
             }
            },
            "type": "scattercarpet"
           }
          ],
          "scattergeo": [
           {
            "marker": {
             "colorbar": {
              "outlinewidth": 0,
              "ticks": ""
             }
            },
            "type": "scattergeo"
           }
          ],
          "scattergl": [
           {
            "marker": {
             "colorbar": {
              "outlinewidth": 0,
              "ticks": ""
             }
            },
            "type": "scattergl"
           }
          ],
          "scattermapbox": [
           {
            "marker": {
             "colorbar": {
              "outlinewidth": 0,
              "ticks": ""
             }
            },
            "type": "scattermapbox"
           }
          ],
          "scatterpolar": [
           {
            "marker": {
             "colorbar": {
              "outlinewidth": 0,
              "ticks": ""
             }
            },
            "type": "scatterpolar"
           }
          ],
          "scatterpolargl": [
           {
            "marker": {
             "colorbar": {
              "outlinewidth": 0,
              "ticks": ""
             }
            },
            "type": "scatterpolargl"
           }
          ],
          "scatterternary": [
           {
            "marker": {
             "colorbar": {
              "outlinewidth": 0,
              "ticks": ""
             }
            },
            "type": "scatterternary"
           }
          ],
          "surface": [
           {
            "colorbar": {
             "outlinewidth": 0,
             "ticks": ""
            },
            "colorscale": [
             [
              0,
              "#0d0887"
             ],
             [
              0.1111111111111111,
              "#46039f"
             ],
             [
              0.2222222222222222,
              "#7201a8"
             ],
             [
              0.3333333333333333,
              "#9c179e"
             ],
             [
              0.4444444444444444,
              "#bd3786"
             ],
             [
              0.5555555555555556,
              "#d8576b"
             ],
             [
              0.6666666666666666,
              "#ed7953"
             ],
             [
              0.7777777777777778,
              "#fb9f3a"
             ],
             [
              0.8888888888888888,
              "#fdca26"
             ],
             [
              1,
              "#f0f921"
             ]
            ],
            "type": "surface"
           }
          ],
          "table": [
           {
            "cells": {
             "fill": {
              "color": "#EBF0F8"
             },
             "line": {
              "color": "white"
             }
            },
            "header": {
             "fill": {
              "color": "#C8D4E3"
             },
             "line": {
              "color": "white"
             }
            },
            "type": "table"
           }
          ]
         },
         "layout": {
          "annotationdefaults": {
           "arrowcolor": "#2a3f5f",
           "arrowhead": 0,
           "arrowwidth": 1
          },
          "autotypenumbers": "strict",
          "coloraxis": {
           "colorbar": {
            "outlinewidth": 0,
            "ticks": ""
           }
          },
          "colorscale": {
           "diverging": [
            [
             0,
             "#8e0152"
            ],
            [
             0.1,
             "#c51b7d"
            ],
            [
             0.2,
             "#de77ae"
            ],
            [
             0.3,
             "#f1b6da"
            ],
            [
             0.4,
             "#fde0ef"
            ],
            [
             0.5,
             "#f7f7f7"
            ],
            [
             0.6,
             "#e6f5d0"
            ],
            [
             0.7,
             "#b8e186"
            ],
            [
             0.8,
             "#7fbc41"
            ],
            [
             0.9,
             "#4d9221"
            ],
            [
             1,
             "#276419"
            ]
           ],
           "sequential": [
            [
             0,
             "#0d0887"
            ],
            [
             0.1111111111111111,
             "#46039f"
            ],
            [
             0.2222222222222222,
             "#7201a8"
            ],
            [
             0.3333333333333333,
             "#9c179e"
            ],
            [
             0.4444444444444444,
             "#bd3786"
            ],
            [
             0.5555555555555556,
             "#d8576b"
            ],
            [
             0.6666666666666666,
             "#ed7953"
            ],
            [
             0.7777777777777778,
             "#fb9f3a"
            ],
            [
             0.8888888888888888,
             "#fdca26"
            ],
            [
             1,
             "#f0f921"
            ]
           ],
           "sequentialminus": [
            [
             0,
             "#0d0887"
            ],
            [
             0.1111111111111111,
             "#46039f"
            ],
            [
             0.2222222222222222,
             "#7201a8"
            ],
            [
             0.3333333333333333,
             "#9c179e"
            ],
            [
             0.4444444444444444,
             "#bd3786"
            ],
            [
             0.5555555555555556,
             "#d8576b"
            ],
            [
             0.6666666666666666,
             "#ed7953"
            ],
            [
             0.7777777777777778,
             "#fb9f3a"
            ],
            [
             0.8888888888888888,
             "#fdca26"
            ],
            [
             1,
             "#f0f921"
            ]
           ]
          },
          "colorway": [
           "#636efa",
           "#EF553B",
           "#00cc96",
           "#ab63fa",
           "#FFA15A",
           "#19d3f3",
           "#FF6692",
           "#B6E880",
           "#FF97FF",
           "#FECB52"
          ],
          "font": {
           "color": "#2a3f5f"
          },
          "geo": {
           "bgcolor": "white",
           "lakecolor": "white",
           "landcolor": "#E5ECF6",
           "showlakes": true,
           "showland": true,
           "subunitcolor": "white"
          },
          "hoverlabel": {
           "align": "left"
          },
          "hovermode": "closest",
          "mapbox": {
           "style": "light"
          },
          "paper_bgcolor": "white",
          "plot_bgcolor": "#E5ECF6",
          "polar": {
           "angularaxis": {
            "gridcolor": "white",
            "linecolor": "white",
            "ticks": ""
           },
           "bgcolor": "#E5ECF6",
           "radialaxis": {
            "gridcolor": "white",
            "linecolor": "white",
            "ticks": ""
           }
          },
          "scene": {
           "xaxis": {
            "backgroundcolor": "#E5ECF6",
            "gridcolor": "white",
            "gridwidth": 2,
            "linecolor": "white",
            "showbackground": true,
            "ticks": "",
            "zerolinecolor": "white"
           },
           "yaxis": {
            "backgroundcolor": "#E5ECF6",
            "gridcolor": "white",
            "gridwidth": 2,
            "linecolor": "white",
            "showbackground": true,
            "ticks": "",
            "zerolinecolor": "white"
           },
           "zaxis": {
            "backgroundcolor": "#E5ECF6",
            "gridcolor": "white",
            "gridwidth": 2,
            "linecolor": "white",
            "showbackground": true,
            "ticks": "",
            "zerolinecolor": "white"
           }
          },
          "shapedefaults": {
           "line": {
            "color": "#2a3f5f"
           }
          },
          "ternary": {
           "aaxis": {
            "gridcolor": "white",
            "linecolor": "white",
            "ticks": ""
           },
           "baxis": {
            "gridcolor": "white",
            "linecolor": "white",
            "ticks": ""
           },
           "bgcolor": "#E5ECF6",
           "caxis": {
            "gridcolor": "white",
            "linecolor": "white",
            "ticks": ""
           }
          },
          "title": {
           "x": 0.05
          },
          "xaxis": {
           "automargin": true,
           "gridcolor": "white",
           "linecolor": "white",
           "ticks": "",
           "title": {
            "standoff": 15
           },
           "zerolinecolor": "white",
           "zerolinewidth": 2
          },
          "yaxis": {
           "automargin": true,
           "gridcolor": "white",
           "linecolor": "white",
           "ticks": "",
           "title": {
            "standoff": 15
           },
           "zerolinecolor": "white",
           "zerolinewidth": 2
          }
         }
        },
        "width": 1000
       }
      },
      "image/png": "[encoded data removed]",
      "text/html": [
       "<div>                            <div id=\"769d6532-5d7b-4cee-8480-c546562f2982\" class=\"plotly-graph-div\" style=\"height:250px; width:1000px;\"></div>            <script type=\"text/javascript\">                require([\"plotly\"], function(Plotly) {                    window.PLOTLYENV=window.PLOTLYENV || {};                                    if (document.getElementById(\"769d6532-5d7b-4cee-8480-c546562f2982\")) {                    Plotly.newPlot(                        \"769d6532-5d7b-4cee-8480-c546562f2982\",                        [{\"cells\":{\"align\":\"left\",\"fill\":{\"color\":\"white\"},\"font\":{\"size\":15},\"values\":[[\"izKKoTV\",\"El Chapoo\",\"SeoiAlle\",\"carriola94\",\"UrCrush\"],[\"twenty_six\",\"twenty_five\",\"forty_eight\",\"twenty_five\",\"nine\"],[6.0,11.0,3.3,8.0,8.0],[\"12 | 2 | 1\",\"11 | 1 | 0\",\"10 | 3 | 0\",\"8 | 1 | 1\",\"8 | 1 | 0\"],[\"K31 - ppsh, Pistol, -\",\"MAC-10 - K31, Pistol, -\",\"sm_t9handling - Kar98, Pistol, ar_t9fasthandling\",\"EM2 - MP5 cw, Pistol, -\",\"AK-47 cw - knife, Pistol, -\"]]},\"columnwidth\":[30,20,20,20,90],\"header\":{\"align\":[\"left\"],\"fill\":{\"color\":\"white\"},\"line\":{\"color\":\"lightgray\"},\"values\":[\"Player\",\"Team\",\"KD\",\"K D A\",\"Loadouts\"]},\"type\":\"table\"}],                        {\"height\":250,\"margin\":{\"b\":0,\"l\":0,\"r\":1,\"t\":0},\"template\":{\"data\":{\"bar\":[{\"error_x\":{\"color\":\"#2a3f5f\"},\"error_y\":{\"color\":\"#2a3f5f\"},\"marker\":{\"line\":{\"color\":\"#E5ECF6\",\"width\":0.5},\"pattern\":{\"fillmode\":\"overlay\",\"size\":10,\"solidity\":0.2}},\"type\":\"bar\"}],\"barpolar\":[{\"marker\":{\"line\":{\"color\":\"#E5ECF6\",\"width\":0.5},\"pattern\":{\"fillmode\":\"overlay\",\"size\":10,\"solidity\":0.2}},\"type\":\"barpolar\"}],\"carpet\":[{\"aaxis\":{\"endlinecolor\":\"#2a3f5f\",\"gridcolor\":\"white\",\"linecolor\":\"white\",\"minorgridcolor\":\"white\",\"startlinecolor\":\"#2a3f5f\"},\"baxis\":{\"endlinecolor\":\"#2a3f5f\",\"gridcolor\":\"white\",\"linecolor\":\"white\",\"minorgridcolor\":\"white\",\"startlinecolor\":\"#2a3f5f\"},\"type\":\"carpet\"}],\"choropleth\":[{\"colorbar\":{\"outlinewidth\":0,\"ticks\":\"\"},\"type\":\"choropleth\"}],\"contour\":[{\"colorbar\":{\"outlinewidth\":0,\"ticks\":\"\"},\"colorscale\":[[0.0,\"#0d0887\"],[0.1111111111111111,\"#46039f\"],[0.2222222222222222,\"#7201a8\"],[0.3333333333333333,\"#9c179e\"],[0.4444444444444444,\"#bd3786\"],[0.5555555555555556,\"#d8576b\"],[0.6666666666666666,\"#ed7953\"],[0.7777777777777778,\"#fb9f3a\"],[0.8888888888888888,\"#fdca26\"],[1.0,\"#f0f921\"]],\"type\":\"contour\"}],\"contourcarpet\":[{\"colorbar\":{\"outlinewidth\":0,\"ticks\":\"\"},\"type\":\"contourcarpet\"}],\"heatmap\":[{\"colorbar\":{\"outlinewidth\":0,\"ticks\":\"\"},\"colorscale\":[[0.0,\"#0d0887\"],[0.1111111111111111,\"#46039f\"],[0.2222222222222222,\"#7201a8\"],[0.3333333333333333,\"#9c179e\"],[0.4444444444444444,\"#bd3786\"],[0.5555555555555556,\"#d8576b\"],[0.6666666666666666,\"#ed7953\"],[0.7777777777777778,\"#fb9f3a\"],[0.8888888888888888,\"#fdca26\"],[1.0,\"#f0f921\"]],\"type\":\"heatmap\"}],\"heatmapgl\":[{\"colorbar\":{\"outlinewidth\":0,\"ticks\":\"\"},\"colorscale\":[[0.0,\"#0d0887\"],[0.1111111111111111,\"#46039f\"],[0.2222222222222222,\"#7201a8\"],[0.3333333333333333,\"#9c179e\"],[0.4444444444444444,\"#bd3786\"],[0.5555555555555556,\"#d8576b\"],[0.6666666666666666,\"#ed7953\"],[0.7777777777777778,\"#fb9f3a\"],[0.8888888888888888,\"#fdca26\"],[1.0,\"#f0f921\"]],\"type\":\"heatmapgl\"}],\"histogram\":[{\"marker\":{\"pattern\":{\"fillmode\":\"overlay\",\"size\":10,\"solidity\":0.2}},\"type\":\"histogram\"}],\"histogram2d\":[{\"colorbar\":{\"outlinewidth\":0,\"ticks\":\"\"},\"colorscale\":[[0.0,\"#0d0887\"],[0.1111111111111111,\"#46039f\"],[0.2222222222222222,\"#7201a8\"],[0.3333333333333333,\"#9c179e\"],[0.4444444444444444,\"#bd3786\"],[0.5555555555555556,\"#d8576b\"],[0.6666666666666666,\"#ed7953\"],[0.7777777777777778,\"#fb9f3a\"],[0.8888888888888888,\"#fdca26\"],[1.0,\"#f0f921\"]],\"type\":\"histogram2d\"}],\"histogram2dcontour\":[{\"colorbar\":{\"outlinewidth\":0,\"ticks\":\"\"},\"colorscale\":[[0.0,\"#0d0887\"],[0.1111111111111111,\"#46039f\"],[0.2222222222222222,\"#7201a8\"],[0.3333333333333333,\"#9c179e\"],[0.4444444444444444,\"#bd3786\"],[0.5555555555555556,\"#d8576b\"],[0.6666666666666666,\"#ed7953\"],[0.7777777777777778,\"#fb9f3a\"],[0.8888888888888888,\"#fdca26\"],[1.0,\"#f0f921\"]],\"type\":\"histogram2dcontour\"}],\"mesh3d\":[{\"colorbar\":{\"outlinewidth\":0,\"ticks\":\"\"},\"type\":\"mesh3d\"}],\"parcoords\":[{\"line\":{\"colorbar\":{\"outlinewidth\":0,\"ticks\":\"\"}},\"type\":\"parcoords\"}],\"pie\":[{\"automargin\":true,\"type\":\"pie\"}],\"scatter\":[{\"marker\":{\"colorbar\":{\"outlinewidth\":0,\"ticks\":\"\"}},\"type\":\"scatter\"}],\"scatter3d\":[{\"line\":{\"colorbar\":{\"outlinewidth\":0,\"ticks\":\"\"}},\"marker\":{\"colorbar\":{\"outlinewidth\":0,\"ticks\":\"\"}},\"type\":\"scatter3d\"}],\"scattercarpet\":[{\"marker\":{\"colorbar\":{\"outlinewidth\":0,\"ticks\":\"\"}},\"type\":\"scattercarpet\"}],\"scattergeo\":[{\"marker\":{\"colorbar\":{\"outlinewidth\":0,\"ticks\":\"\"}},\"type\":\"scattergeo\"}],\"scattergl\":[{\"marker\":{\"colorbar\":{\"outlinewidth\":0,\"ticks\":\"\"}},\"type\":\"scattergl\"}],\"scattermapbox\":[{\"marker\":{\"colorbar\":{\"outlinewidth\":0,\"ticks\":\"\"}},\"type\":\"scattermapbox\"}],\"scatterpolar\":[{\"marker\":{\"colorbar\":{\"outlinewidth\":0,\"ticks\":\"\"}},\"type\":\"scatterpolar\"}],\"scatterpolargl\":[{\"marker\":{\"colorbar\":{\"outlinewidth\":0,\"ticks\":\"\"}},\"type\":\"scatterpolargl\"}],\"scatterternary\":[{\"marker\":{\"colorbar\":{\"outlinewidth\":0,\"ticks\":\"\"}},\"type\":\"scatterternary\"}],\"surface\":[{\"colorbar\":{\"outlinewidth\":0,\"ticks\":\"\"},\"colorscale\":[[0.0,\"#0d0887\"],[0.1111111111111111,\"#46039f\"],[0.2222222222222222,\"#7201a8\"],[0.3333333333333333,\"#9c179e\"],[0.4444444444444444,\"#bd3786\"],[0.5555555555555556,\"#d8576b\"],[0.6666666666666666,\"#ed7953\"],[0.7777777777777778,\"#fb9f3a\"],[0.8888888888888888,\"#fdca26\"],[1.0,\"#f0f921\"]],\"type\":\"surface\"}],\"table\":[{\"cells\":{\"fill\":{\"color\":\"#EBF0F8\"},\"line\":{\"color\":\"white\"}},\"header\":{\"fill\":{\"color\":\"#C8D4E3\"},\"line\":{\"color\":\"white\"}},\"type\":\"table\"}]},\"layout\":{\"annotationdefaults\":{\"arrowcolor\":\"#2a3f5f\",\"arrowhead\":0,\"arrowwidth\":1},\"autotypenumbers\":\"strict\",\"coloraxis\":{\"colorbar\":{\"outlinewidth\":0,\"ticks\":\"\"}},\"colorscale\":{\"diverging\":[[0,\"#8e0152\"],[0.1,\"#c51b7d\"],[0.2,\"#de77ae\"],[0.3,\"#f1b6da\"],[0.4,\"#fde0ef\"],[0.5,\"#f7f7f7\"],[0.6,\"#e6f5d0\"],[0.7,\"#b8e186\"],[0.8,\"#7fbc41\"],[0.9,\"#4d9221\"],[1,\"#276419\"]],\"sequential\":[[0.0,\"#0d0887\"],[0.1111111111111111,\"#46039f\"],[0.2222222222222222,\"#7201a8\"],[0.3333333333333333,\"#9c179e\"],[0.4444444444444444,\"#bd3786\"],[0.5555555555555556,\"#d8576b\"],[0.6666666666666666,\"#ed7953\"],[0.7777777777777778,\"#fb9f3a\"],[0.8888888888888888,\"#fdca26\"],[1.0,\"#f0f921\"]],\"sequentialminus\":[[0.0,\"#0d0887\"],[0.1111111111111111,\"#46039f\"],[0.2222222222222222,\"#7201a8\"],[0.3333333333333333,\"#9c179e\"],[0.4444444444444444,\"#bd3786\"],[0.5555555555555556,\"#d8576b\"],[0.6666666666666666,\"#ed7953\"],[0.7777777777777778,\"#fb9f3a\"],[0.8888888888888888,\"#fdca26\"],[1.0,\"#f0f921\"]]},\"colorway\":[\"#636efa\",\"#EF553B\",\"#00cc96\",\"#ab63fa\",\"#FFA15A\",\"#19d3f3\",\"#FF6692\",\"#B6E880\",\"#FF97FF\",\"#FECB52\"],\"font\":{\"color\":\"#2a3f5f\"},\"geo\":{\"bgcolor\":\"white\",\"lakecolor\":\"white\",\"landcolor\":\"#E5ECF6\",\"showlakes\":true,\"showland\":true,\"subunitcolor\":\"white\"},\"hoverlabel\":{\"align\":\"left\"},\"hovermode\":\"closest\",\"mapbox\":{\"style\":\"light\"},\"paper_bgcolor\":\"white\",\"plot_bgcolor\":\"#E5ECF6\",\"polar\":{\"angularaxis\":{\"gridcolor\":\"white\",\"linecolor\":\"white\",\"ticks\":\"\"},\"bgcolor\":\"#E5ECF6\",\"radialaxis\":{\"gridcolor\":\"white\",\"linecolor\":\"white\",\"ticks\":\"\"}},\"scene\":{\"xaxis\":{\"backgroundcolor\":\"#E5ECF6\",\"gridcolor\":\"white\",\"gridwidth\":2,\"linecolor\":\"white\",\"showbackground\":true,\"ticks\":\"\",\"zerolinecolor\":\"white\"},\"yaxis\":{\"backgroundcolor\":\"#E5ECF6\",\"gridcolor\":\"white\",\"gridwidth\":2,\"linecolor\":\"white\",\"showbackground\":true,\"ticks\":\"\",\"zerolinecolor\":\"white\"},\"zaxis\":{\"backgroundcolor\":\"#E5ECF6\",\"gridcolor\":\"white\",\"gridwidth\":2,\"linecolor\":\"white\",\"showbackground\":true,\"ticks\":\"\",\"zerolinecolor\":\"white\"}},\"shapedefaults\":{\"line\":{\"color\":\"#2a3f5f\"}},\"ternary\":{\"aaxis\":{\"gridcolor\":\"white\",\"linecolor\":\"white\",\"ticks\":\"\"},\"baxis\":{\"gridcolor\":\"white\",\"linecolor\":\"white\",\"ticks\":\"\"},\"bgcolor\":\"#E5ECF6\",\"caxis\":{\"gridcolor\":\"white\",\"linecolor\":\"white\",\"ticks\":\"\"}},\"title\":{\"x\":0.05},\"xaxis\":{\"automargin\":true,\"gridcolor\":\"white\",\"linecolor\":\"white\",\"ticks\":\"\",\"title\":{\"standoff\":15},\"zerolinecolor\":\"white\",\"zerolinewidth\":2},\"yaxis\":{\"automargin\":true,\"gridcolor\":\"white\",\"linecolor\":\"white\",\"ticks\":\"\",\"title\":{\"standoff\":15},\"zerolinecolor\":\"white\",\"zerolinewidth\":2}}},\"width\":1000},                        {\"responsive\": true}                    ).then(function(){\n",
       "                            \n",
       "var gd = document.getElementById('769d6532-5d7b-4cee-8480-c546562f2982');\n",
       "var x = new MutationObserver(function (mutations, observer) {{\n",
       "        var display = window.getComputedStyle(gd).display;\n",
       "        if (!display || display === 'none') {{\n",
       "            console.log([gd, 'removed!']);\n",
       "            Plotly.purge(gd);\n",
       "            observer.disconnect();\n",
       "        }}\n",
       "}});\n",
       "\n",
       "// Listen for the removal of the full notebook cells\n",
       "var notebookContainer = gd.closest('#notebook-container');\n",
       "if (notebookContainer) {{\n",
       "    x.observe(notebookContainer, {childList: true});\n",
       "}}\n",
       "\n",
       "// Listen for the clearing of the current output cell\n",
       "var outputEl = gd.closest('.output');\n",
       "if (outputEl) {{\n",
       "    x.observe(outputEl, {childList: true});\n",
       "}}\n",
       "\n",
       "                        })                };                });            </script>        </div>"
      ]
     },
     "metadata": {},
     "output_type": "display_data"
    }
   ],
   "source": [
    "df = top_players\n",
    "\n",
    "fig = go.Figure(\n",
    "    data=[\n",
    "        go.Table(\n",
    "            columnwidth = [30, 20, 20, 20, 90],\n",
    "            header = dict(values=list(df.columns),\n",
    "                          align=['left'],\n",
    "                          line_color='lightgray',\n",
    "                          fill_color='white'),\n",
    "            cells = dict(values=[df.Player, df.Team, df.KD, df['K D A'], df.Loadouts],\n",
    "                         align='left',\n",
    "                         fill_color='white', font_size=15))\n",
    "    ]\n",
    ")\n",
    "\n",
    "# to narrow spaces between several figures\n",
    "fig.update_layout(\n",
    "    width=1000,\n",
    "    height=250,\n",
    "    margin=dict(\n",
    "        l=0,\n",
    "        r=1,\n",
    "        b=0,\n",
    "        t=0\n",
    "        )\n",
    "    )\n",
    "fig.show()"
   ]
  },
  {
   "cell_type": "code",
   "execution_count": 60,
   "id": "12a82ef1-7e56-4103-9770-8d7f42eed660",
   "metadata": {},
   "outputs": [
    {
     "data": {
      "application/vnd.plotly.v1+json": {
       "config": {
        "plotlyServerURL": "https://plot.ly"
       },
       "data": [
        {
         "cells": {
          "align": [
           "left",
           "center"
          ],
          "fill": {
           "color": [
            "paleturquoise",
            "white"
           ]
          },
          "font": {
           "size": 12
          },
          "height": 30,
          "line": {
           "color": "darkslategray"
          },
          "values": [
           [
            "Salaries",
            "Office",
            "Merchandise",
            "Legal",
            "<b>TOTAL<br>EXPENSES</b>"
           ],
           [
            "Lorem ipsum dolor sit amet, tollit discere inermis pri ut. Eos ea iusto timeam, an prima laboramus vim. Id usu aeterno adversarium, summo mollis timeam vel ad",
            "Lorem ipsum dolor sit amet, tollit discere inermis pri ut. Eos ea iusto timeam, an prima laboramus vim. Id usu aeterno adversarium, summo mollis timeam vel ad",
            "Lorem ipsum dolor sit amet, tollit discere inermis pri ut. Eos ea iusto timeam, an prima laboramus vim. Id usu aeterno adversarium, summo mollis timeam vel ad",
            "Lorem ipsum dolor sit amet, tollit discere inermis pri ut. Eos ea iusto timeam, an prima laboramus vim. Id usu aeterno adversarium, summo mollis timeam vel ad",
            "Lorem ipsum dolor sit amet, tollit discere inermis pri ut. Eos ea iusto timeam, an prima laboramus vim. Id usu aeterno adversarium, summo mollis timeam vel ad"
           ]
          ]
         },
         "columnorder": [
          1,
          2
         ],
         "columnwidth": [
          300,
          100
         ],
         "header": {
          "align": [
           "left",
           "center"
          ],
          "fill": {
           "color": "royalblue"
          },
          "font": {
           "color": "white",
           "size": 12
          },
          "height": 40,
          "line": {
           "color": "darkslategray"
          },
          "values": [
           [
            "<b>EXPENSES</b><br>as of July 2017"
           ],
           [
            "<b>DESCRIPTION</b>"
           ]
          ]
         },
         "type": "table"
        }
       ],
       "layout": {
        "autosize": true,
        "template": {
         "data": {
          "bar": [
           {
            "error_x": {
             "color": "#2a3f5f"
            },
            "error_y": {
             "color": "#2a3f5f"
            },
            "marker": {
             "line": {
              "color": "#E5ECF6",
              "width": 0.5
             },
             "pattern": {
              "fillmode": "overlay",
              "size": 10,
              "solidity": 0.2
             }
            },
            "type": "bar"
           }
          ],
          "barpolar": [
           {
            "marker": {
             "line": {
              "color": "#E5ECF6",
              "width": 0.5
             },
             "pattern": {
              "fillmode": "overlay",
              "size": 10,
              "solidity": 0.2
             }
            },
            "type": "barpolar"
           }
          ],
          "carpet": [
           {
            "aaxis": {
             "endlinecolor": "#2a3f5f",
             "gridcolor": "white",
             "linecolor": "white",
             "minorgridcolor": "white",
             "startlinecolor": "#2a3f5f"
            },
            "baxis": {
             "endlinecolor": "#2a3f5f",
             "gridcolor": "white",
             "linecolor": "white",
             "minorgridcolor": "white",
             "startlinecolor": "#2a3f5f"
            },
            "type": "carpet"
           }
          ],
          "choropleth": [
           {
            "colorbar": {
             "outlinewidth": 0,
             "ticks": ""
            },
            "type": "choropleth"
           }
          ],
          "contour": [
           {
            "colorbar": {
             "outlinewidth": 0,
             "ticks": ""
            },
            "colorscale": [
             [
              0,
              "#0d0887"
             ],
             [
              0.1111111111111111,
              "#46039f"
             ],
             [
              0.2222222222222222,
              "#7201a8"
             ],
             [
              0.3333333333333333,
              "#9c179e"
             ],
             [
              0.4444444444444444,
              "#bd3786"
             ],
             [
              0.5555555555555556,
              "#d8576b"
             ],
             [
              0.6666666666666666,
              "#ed7953"
             ],
             [
              0.7777777777777778,
              "#fb9f3a"
             ],
             [
              0.8888888888888888,
              "#fdca26"
             ],
             [
              1,
              "#f0f921"
             ]
            ],
            "type": "contour"
           }
          ],
          "contourcarpet": [
           {
            "colorbar": {
             "outlinewidth": 0,
             "ticks": ""
            },
            "type": "contourcarpet"
           }
          ],
          "heatmap": [
           {
            "colorbar": {
             "outlinewidth": 0,
             "ticks": ""
            },
            "colorscale": [
             [
              0,
              "#0d0887"
             ],
             [
              0.1111111111111111,
              "#46039f"
             ],
             [
              0.2222222222222222,
              "#7201a8"
             ],
             [
              0.3333333333333333,
              "#9c179e"
             ],
             [
              0.4444444444444444,
              "#bd3786"
             ],
             [
              0.5555555555555556,
              "#d8576b"
             ],
             [
              0.6666666666666666,
              "#ed7953"
             ],
             [
              0.7777777777777778,
              "#fb9f3a"
             ],
             [
              0.8888888888888888,
              "#fdca26"
             ],
             [
              1,
              "#f0f921"
             ]
            ],
            "type": "heatmap"
           }
          ],
          "heatmapgl": [
           {
            "colorbar": {
             "outlinewidth": 0,
             "ticks": ""
            },
            "colorscale": [
             [
              0,
              "#0d0887"
             ],
             [
              0.1111111111111111,
              "#46039f"
             ],
             [
              0.2222222222222222,
              "#7201a8"
             ],
             [
              0.3333333333333333,
              "#9c179e"
             ],
             [
              0.4444444444444444,
              "#bd3786"
             ],
             [
              0.5555555555555556,
              "#d8576b"
             ],
             [
              0.6666666666666666,
              "#ed7953"
             ],
             [
              0.7777777777777778,
              "#fb9f3a"
             ],
             [
              0.8888888888888888,
              "#fdca26"
             ],
             [
              1,
              "#f0f921"
             ]
            ],
            "type": "heatmapgl"
           }
          ],
          "histogram": [
           {
            "marker": {
             "pattern": {
              "fillmode": "overlay",
              "size": 10,
              "solidity": 0.2
             }
            },
            "type": "histogram"
           }
          ],
          "histogram2d": [
           {
            "colorbar": {
             "outlinewidth": 0,
             "ticks": ""
            },
            "colorscale": [
             [
              0,
              "#0d0887"
             ],
             [
              0.1111111111111111,
              "#46039f"
             ],
             [
              0.2222222222222222,
              "#7201a8"
             ],
             [
              0.3333333333333333,
              "#9c179e"
             ],
             [
              0.4444444444444444,
              "#bd3786"
             ],
             [
              0.5555555555555556,
              "#d8576b"
             ],
             [
              0.6666666666666666,
              "#ed7953"
             ],
             [
              0.7777777777777778,
              "#fb9f3a"
             ],
             [
              0.8888888888888888,
              "#fdca26"
             ],
             [
              1,
              "#f0f921"
             ]
            ],
            "type": "histogram2d"
           }
          ],
          "histogram2dcontour": [
           {
            "colorbar": {
             "outlinewidth": 0,
             "ticks": ""
            },
            "colorscale": [
             [
              0,
              "#0d0887"
             ],
             [
              0.1111111111111111,
              "#46039f"
             ],
             [
              0.2222222222222222,
              "#7201a8"
             ],
             [
              0.3333333333333333,
              "#9c179e"
             ],
             [
              0.4444444444444444,
              "#bd3786"
             ],
             [
              0.5555555555555556,
              "#d8576b"
             ],
             [
              0.6666666666666666,
              "#ed7953"
             ],
             [
              0.7777777777777778,
              "#fb9f3a"
             ],
             [
              0.8888888888888888,
              "#fdca26"
             ],
             [
              1,
              "#f0f921"
             ]
            ],
            "type": "histogram2dcontour"
           }
          ],
          "mesh3d": [
           {
            "colorbar": {
             "outlinewidth": 0,
             "ticks": ""
            },
            "type": "mesh3d"
           }
          ],
          "parcoords": [
           {
            "line": {
             "colorbar": {
              "outlinewidth": 0,
              "ticks": ""
             }
            },
            "type": "parcoords"
           }
          ],
          "pie": [
           {
            "automargin": true,
            "type": "pie"
           }
          ],
          "scatter": [
           {
            "marker": {
             "colorbar": {
              "outlinewidth": 0,
              "ticks": ""
             }
            },
            "type": "scatter"
           }
          ],
          "scatter3d": [
           {
            "line": {
             "colorbar": {
              "outlinewidth": 0,
              "ticks": ""
             }
            },
            "marker": {
             "colorbar": {
              "outlinewidth": 0,
              "ticks": ""
             }
            },
            "type": "scatter3d"
           }
          ],
          "scattercarpet": [
           {
            "marker": {
             "colorbar": {
              "outlinewidth": 0,
              "ticks": ""
             }
            },
            "type": "scattercarpet"
           }
          ],
          "scattergeo": [
           {
            "marker": {
             "colorbar": {
              "outlinewidth": 0,
              "ticks": ""
             }
            },
            "type": "scattergeo"
           }
          ],
          "scattergl": [
           {
            "marker": {
             "colorbar": {
              "outlinewidth": 0,
              "ticks": ""
             }
            },
            "type": "scattergl"
           }
          ],
          "scattermapbox": [
           {
            "marker": {
             "colorbar": {
              "outlinewidth": 0,
              "ticks": ""
             }
            },
            "type": "scattermapbox"
           }
          ],
          "scatterpolar": [
           {
            "marker": {
             "colorbar": {
              "outlinewidth": 0,
              "ticks": ""
             }
            },
            "type": "scatterpolar"
           }
          ],
          "scatterpolargl": [
           {
            "marker": {
             "colorbar": {
              "outlinewidth": 0,
              "ticks": ""
             }
            },
            "type": "scatterpolargl"
           }
          ],
          "scatterternary": [
           {
            "marker": {
             "colorbar": {
              "outlinewidth": 0,
              "ticks": ""
             }
            },
            "type": "scatterternary"
           }
          ],
          "surface": [
           {
            "colorbar": {
             "outlinewidth": 0,
             "ticks": ""
            },
            "colorscale": [
             [
              0,
              "#0d0887"
             ],
             [
              0.1111111111111111,
              "#46039f"
             ],
             [
              0.2222222222222222,
              "#7201a8"
             ],
             [
              0.3333333333333333,
              "#9c179e"
             ],
             [
              0.4444444444444444,
              "#bd3786"
             ],
             [
              0.5555555555555556,
              "#d8576b"
             ],
             [
              0.6666666666666666,
              "#ed7953"
             ],
             [
              0.7777777777777778,
              "#fb9f3a"
             ],
             [
              0.8888888888888888,
              "#fdca26"
             ],
             [
              1,
              "#f0f921"
             ]
            ],
            "type": "surface"
           }
          ],
          "table": [
           {
            "cells": {
             "fill": {
              "color": "#EBF0F8"
             },
             "line": {
              "color": "white"
             }
            },
            "header": {
             "fill": {
              "color": "#C8D4E3"
             },
             "line": {
              "color": "white"
             }
            },
            "type": "table"
           }
          ]
         },
         "layout": {
          "annotationdefaults": {
           "arrowcolor": "#2a3f5f",
           "arrowhead": 0,
           "arrowwidth": 1
          },
          "autotypenumbers": "strict",
          "coloraxis": {
           "colorbar": {
            "outlinewidth": 0,
            "ticks": ""
           }
          },
          "colorscale": {
           "diverging": [
            [
             0,
             "#8e0152"
            ],
            [
             0.1,
             "#c51b7d"
            ],
            [
             0.2,
             "#de77ae"
            ],
            [
             0.3,
             "#f1b6da"
            ],
            [
             0.4,
             "#fde0ef"
            ],
            [
             0.5,
             "#f7f7f7"
            ],
            [
             0.6,
             "#e6f5d0"
            ],
            [
             0.7,
             "#b8e186"
            ],
            [
             0.8,
             "#7fbc41"
            ],
            [
             0.9,
             "#4d9221"
            ],
            [
             1,
             "#276419"
            ]
           ],
           "sequential": [
            [
             0,
             "#0d0887"
            ],
            [
             0.1111111111111111,
             "#46039f"
            ],
            [
             0.2222222222222222,
             "#7201a8"
            ],
            [
             0.3333333333333333,
             "#9c179e"
            ],
            [
             0.4444444444444444,
             "#bd3786"
            ],
            [
             0.5555555555555556,
             "#d8576b"
            ],
            [
             0.6666666666666666,
             "#ed7953"
            ],
            [
             0.7777777777777778,
             "#fb9f3a"
            ],
            [
             0.8888888888888888,
             "#fdca26"
            ],
            [
             1,
             "#f0f921"
            ]
           ],
           "sequentialminus": [
            [
             0,
             "#0d0887"
            ],
            [
             0.1111111111111111,
             "#46039f"
            ],
            [
             0.2222222222222222,
             "#7201a8"
            ],
            [
             0.3333333333333333,
             "#9c179e"
            ],
            [
             0.4444444444444444,
             "#bd3786"
            ],
            [
             0.5555555555555556,
             "#d8576b"
            ],
            [
             0.6666666666666666,
             "#ed7953"
            ],
            [
             0.7777777777777778,
             "#fb9f3a"
            ],
            [
             0.8888888888888888,
             "#fdca26"
            ],
            [
             1,
             "#f0f921"
            ]
           ]
          },
          "colorway": [
           "#636efa",
           "#EF553B",
           "#00cc96",
           "#ab63fa",
           "#FFA15A",
           "#19d3f3",
           "#FF6692",
           "#B6E880",
           "#FF97FF",
           "#FECB52"
          ],
          "font": {
           "color": "#2a3f5f"
          },
          "geo": {
           "bgcolor": "white",
           "lakecolor": "white",
           "landcolor": "#E5ECF6",
           "showlakes": true,
           "showland": true,
           "subunitcolor": "white"
          },
          "hoverlabel": {
           "align": "left"
          },
          "hovermode": "closest",
          "mapbox": {
           "style": "light"
          },
          "paper_bgcolor": "white",
          "plot_bgcolor": "#E5ECF6",
          "polar": {
           "angularaxis": {
            "gridcolor": "white",
            "linecolor": "white",
            "ticks": ""
           },
           "bgcolor": "#E5ECF6",
           "radialaxis": {
            "gridcolor": "white",
            "linecolor": "white",
            "ticks": ""
           }
          },
          "scene": {
           "xaxis": {
            "backgroundcolor": "#E5ECF6",
            "gridcolor": "white",
            "gridwidth": 2,
            "linecolor": "white",
            "showbackground": true,
            "ticks": "",
            "zerolinecolor": "white"
           },
           "yaxis": {
            "backgroundcolor": "#E5ECF6",
            "gridcolor": "white",
            "gridwidth": 2,
            "linecolor": "white",
            "showbackground": true,
            "ticks": "",
            "zerolinecolor": "white"
           },
           "zaxis": {
            "backgroundcolor": "#E5ECF6",
            "gridcolor": "white",
            "gridwidth": 2,
            "linecolor": "white",
            "showbackground": true,
            "ticks": "",
            "zerolinecolor": "white"
           }
          },
          "shapedefaults": {
           "line": {
            "color": "#2a3f5f"
           }
          },
          "ternary": {
           "aaxis": {
            "gridcolor": "white",
            "linecolor": "white",
            "ticks": ""
           },
           "baxis": {
            "gridcolor": "white",
            "linecolor": "white",
            "ticks": ""
           },
           "bgcolor": "#E5ECF6",
           "caxis": {
            "gridcolor": "white",
            "linecolor": "white",
            "ticks": ""
           }
          },
          "title": {
           "x": 0.05
          },
          "xaxis": {
           "automargin": true,
           "gridcolor": "white",
           "linecolor": "white",
           "ticks": "",
           "title": {
            "standoff": 15
           },
           "zerolinecolor": "white",
           "zerolinewidth": 2
          },
          "yaxis": {
           "automargin": true,
           "gridcolor": "white",
           "linecolor": "white",
           "ticks": "",
           "title": {
            "standoff": 15
           },
           "zerolinecolor": "white",
           "zerolinewidth": 2
          }
         }
        }
       }
      },
      "image/png": "[encoded data removed]",
      "text/html": [
       "<div>                            <div id=\"7e4f627a-d94b-447f-91d7-0ca6e436c02d\" class=\"plotly-graph-div\" style=\"height:525px; width:100%;\"></div>            <script type=\"text/javascript\">                require([\"plotly\"], function(Plotly) {                    window.PLOTLYENV=window.PLOTLYENV || {};                                    if (document.getElementById(\"7e4f627a-d94b-447f-91d7-0ca6e436c02d\")) {                    Plotly.newPlot(                        \"7e4f627a-d94b-447f-91d7-0ca6e436c02d\",                        [{\"cells\":{\"align\":[\"left\",\"center\"],\"fill\":{\"color\":[\"paleturquoise\",\"white\"]},\"font\":{\"size\":12},\"height\":30,\"line\":{\"color\":\"darkslategray\"},\"values\":[[\"Salaries\",\"Office\",\"Merchandise\",\"Legal\",\"<b>TOTAL<br>EXPENSES</b>\"],[\"Lorem ipsum dolor sit amet, tollit discere inermis pri ut. Eos ea iusto timeam, an prima laboramus vim. Id usu aeterno adversarium, summo mollis timeam vel ad\",\"Lorem ipsum dolor sit amet, tollit discere inermis pri ut. Eos ea iusto timeam, an prima laboramus vim. Id usu aeterno adversarium, summo mollis timeam vel ad\",\"Lorem ipsum dolor sit amet, tollit discere inermis pri ut. Eos ea iusto timeam, an prima laboramus vim. Id usu aeterno adversarium, summo mollis timeam vel ad\",\"Lorem ipsum dolor sit amet, tollit discere inermis pri ut. Eos ea iusto timeam, an prima laboramus vim. Id usu aeterno adversarium, summo mollis timeam vel ad\",\"Lorem ipsum dolor sit amet, tollit discere inermis pri ut. Eos ea iusto timeam, an prima laboramus vim. Id usu aeterno adversarium, summo mollis timeam vel ad\"]]},\"columnorder\":[1,2],\"columnwidth\":[300,100],\"header\":{\"align\":[\"left\",\"center\"],\"fill\":{\"color\":\"royalblue\"},\"font\":{\"color\":\"white\",\"size\":12},\"height\":40,\"line\":{\"color\":\"darkslategray\"},\"values\":[[\"<b>EXPENSES</b><br>as of July 2017\"],[\"<b>DESCRIPTION</b>\"]]},\"type\":\"table\"}],                        {\"template\":{\"data\":{\"bar\":[{\"error_x\":{\"color\":\"#2a3f5f\"},\"error_y\":{\"color\":\"#2a3f5f\"},\"marker\":{\"line\":{\"color\":\"#E5ECF6\",\"width\":0.5},\"pattern\":{\"fillmode\":\"overlay\",\"size\":10,\"solidity\":0.2}},\"type\":\"bar\"}],\"barpolar\":[{\"marker\":{\"line\":{\"color\":\"#E5ECF6\",\"width\":0.5},\"pattern\":{\"fillmode\":\"overlay\",\"size\":10,\"solidity\":0.2}},\"type\":\"barpolar\"}],\"carpet\":[{\"aaxis\":{\"endlinecolor\":\"#2a3f5f\",\"gridcolor\":\"white\",\"linecolor\":\"white\",\"minorgridcolor\":\"white\",\"startlinecolor\":\"#2a3f5f\"},\"baxis\":{\"endlinecolor\":\"#2a3f5f\",\"gridcolor\":\"white\",\"linecolor\":\"white\",\"minorgridcolor\":\"white\",\"startlinecolor\":\"#2a3f5f\"},\"type\":\"carpet\"}],\"choropleth\":[{\"colorbar\":{\"outlinewidth\":0,\"ticks\":\"\"},\"type\":\"choropleth\"}],\"contour\":[{\"colorbar\":{\"outlinewidth\":0,\"ticks\":\"\"},\"colorscale\":[[0.0,\"#0d0887\"],[0.1111111111111111,\"#46039f\"],[0.2222222222222222,\"#7201a8\"],[0.3333333333333333,\"#9c179e\"],[0.4444444444444444,\"#bd3786\"],[0.5555555555555556,\"#d8576b\"],[0.6666666666666666,\"#ed7953\"],[0.7777777777777778,\"#fb9f3a\"],[0.8888888888888888,\"#fdca26\"],[1.0,\"#f0f921\"]],\"type\":\"contour\"}],\"contourcarpet\":[{\"colorbar\":{\"outlinewidth\":0,\"ticks\":\"\"},\"type\":\"contourcarpet\"}],\"heatmap\":[{\"colorbar\":{\"outlinewidth\":0,\"ticks\":\"\"},\"colorscale\":[[0.0,\"#0d0887\"],[0.1111111111111111,\"#46039f\"],[0.2222222222222222,\"#7201a8\"],[0.3333333333333333,\"#9c179e\"],[0.4444444444444444,\"#bd3786\"],[0.5555555555555556,\"#d8576b\"],[0.6666666666666666,\"#ed7953\"],[0.7777777777777778,\"#fb9f3a\"],[0.8888888888888888,\"#fdca26\"],[1.0,\"#f0f921\"]],\"type\":\"heatmap\"}],\"heatmapgl\":[{\"colorbar\":{\"outlinewidth\":0,\"ticks\":\"\"},\"colorscale\":[[0.0,\"#0d0887\"],[0.1111111111111111,\"#46039f\"],[0.2222222222222222,\"#7201a8\"],[0.3333333333333333,\"#9c179e\"],[0.4444444444444444,\"#bd3786\"],[0.5555555555555556,\"#d8576b\"],[0.6666666666666666,\"#ed7953\"],[0.7777777777777778,\"#fb9f3a\"],[0.8888888888888888,\"#fdca26\"],[1.0,\"#f0f921\"]],\"type\":\"heatmapgl\"}],\"histogram\":[{\"marker\":{\"pattern\":{\"fillmode\":\"overlay\",\"size\":10,\"solidity\":0.2}},\"type\":\"histogram\"}],\"histogram2d\":[{\"colorbar\":{\"outlinewidth\":0,\"ticks\":\"\"},\"colorscale\":[[0.0,\"#0d0887\"],[0.1111111111111111,\"#46039f\"],[0.2222222222222222,\"#7201a8\"],[0.3333333333333333,\"#9c179e\"],[0.4444444444444444,\"#bd3786\"],[0.5555555555555556,\"#d8576b\"],[0.6666666666666666,\"#ed7953\"],[0.7777777777777778,\"#fb9f3a\"],[0.8888888888888888,\"#fdca26\"],[1.0,\"#f0f921\"]],\"type\":\"histogram2d\"}],\"histogram2dcontour\":[{\"colorbar\":{\"outlinewidth\":0,\"ticks\":\"\"},\"colorscale\":[[0.0,\"#0d0887\"],[0.1111111111111111,\"#46039f\"],[0.2222222222222222,\"#7201a8\"],[0.3333333333333333,\"#9c179e\"],[0.4444444444444444,\"#bd3786\"],[0.5555555555555556,\"#d8576b\"],[0.6666666666666666,\"#ed7953\"],[0.7777777777777778,\"#fb9f3a\"],[0.8888888888888888,\"#fdca26\"],[1.0,\"#f0f921\"]],\"type\":\"histogram2dcontour\"}],\"mesh3d\":[{\"colorbar\":{\"outlinewidth\":0,\"ticks\":\"\"},\"type\":\"mesh3d\"}],\"parcoords\":[{\"line\":{\"colorbar\":{\"outlinewidth\":0,\"ticks\":\"\"}},\"type\":\"parcoords\"}],\"pie\":[{\"automargin\":true,\"type\":\"pie\"}],\"scatter\":[{\"marker\":{\"colorbar\":{\"outlinewidth\":0,\"ticks\":\"\"}},\"type\":\"scatter\"}],\"scatter3d\":[{\"line\":{\"colorbar\":{\"outlinewidth\":0,\"ticks\":\"\"}},\"marker\":{\"colorbar\":{\"outlinewidth\":0,\"ticks\":\"\"}},\"type\":\"scatter3d\"}],\"scattercarpet\":[{\"marker\":{\"colorbar\":{\"outlinewidth\":0,\"ticks\":\"\"}},\"type\":\"scattercarpet\"}],\"scattergeo\":[{\"marker\":{\"colorbar\":{\"outlinewidth\":0,\"ticks\":\"\"}},\"type\":\"scattergeo\"}],\"scattergl\":[{\"marker\":{\"colorbar\":{\"outlinewidth\":0,\"ticks\":\"\"}},\"type\":\"scattergl\"}],\"scattermapbox\":[{\"marker\":{\"colorbar\":{\"outlinewidth\":0,\"ticks\":\"\"}},\"type\":\"scattermapbox\"}],\"scatterpolar\":[{\"marker\":{\"colorbar\":{\"outlinewidth\":0,\"ticks\":\"\"}},\"type\":\"scatterpolar\"}],\"scatterpolargl\":[{\"marker\":{\"colorbar\":{\"outlinewidth\":0,\"ticks\":\"\"}},\"type\":\"scatterpolargl\"}],\"scatterternary\":[{\"marker\":{\"colorbar\":{\"outlinewidth\":0,\"ticks\":\"\"}},\"type\":\"scatterternary\"}],\"surface\":[{\"colorbar\":{\"outlinewidth\":0,\"ticks\":\"\"},\"colorscale\":[[0.0,\"#0d0887\"],[0.1111111111111111,\"#46039f\"],[0.2222222222222222,\"#7201a8\"],[0.3333333333333333,\"#9c179e\"],[0.4444444444444444,\"#bd3786\"],[0.5555555555555556,\"#d8576b\"],[0.6666666666666666,\"#ed7953\"],[0.7777777777777778,\"#fb9f3a\"],[0.8888888888888888,\"#fdca26\"],[1.0,\"#f0f921\"]],\"type\":\"surface\"}],\"table\":[{\"cells\":{\"fill\":{\"color\":\"#EBF0F8\"},\"line\":{\"color\":\"white\"}},\"header\":{\"fill\":{\"color\":\"#C8D4E3\"},\"line\":{\"color\":\"white\"}},\"type\":\"table\"}]},\"layout\":{\"annotationdefaults\":{\"arrowcolor\":\"#2a3f5f\",\"arrowhead\":0,\"arrowwidth\":1},\"autotypenumbers\":\"strict\",\"coloraxis\":{\"colorbar\":{\"outlinewidth\":0,\"ticks\":\"\"}},\"colorscale\":{\"diverging\":[[0,\"#8e0152\"],[0.1,\"#c51b7d\"],[0.2,\"#de77ae\"],[0.3,\"#f1b6da\"],[0.4,\"#fde0ef\"],[0.5,\"#f7f7f7\"],[0.6,\"#e6f5d0\"],[0.7,\"#b8e186\"],[0.8,\"#7fbc41\"],[0.9,\"#4d9221\"],[1,\"#276419\"]],\"sequential\":[[0.0,\"#0d0887\"],[0.1111111111111111,\"#46039f\"],[0.2222222222222222,\"#7201a8\"],[0.3333333333333333,\"#9c179e\"],[0.4444444444444444,\"#bd3786\"],[0.5555555555555556,\"#d8576b\"],[0.6666666666666666,\"#ed7953\"],[0.7777777777777778,\"#fb9f3a\"],[0.8888888888888888,\"#fdca26\"],[1.0,\"#f0f921\"]],\"sequentialminus\":[[0.0,\"#0d0887\"],[0.1111111111111111,\"#46039f\"],[0.2222222222222222,\"#7201a8\"],[0.3333333333333333,\"#9c179e\"],[0.4444444444444444,\"#bd3786\"],[0.5555555555555556,\"#d8576b\"],[0.6666666666666666,\"#ed7953\"],[0.7777777777777778,\"#fb9f3a\"],[0.8888888888888888,\"#fdca26\"],[1.0,\"#f0f921\"]]},\"colorway\":[\"#636efa\",\"#EF553B\",\"#00cc96\",\"#ab63fa\",\"#FFA15A\",\"#19d3f3\",\"#FF6692\",\"#B6E880\",\"#FF97FF\",\"#FECB52\"],\"font\":{\"color\":\"#2a3f5f\"},\"geo\":{\"bgcolor\":\"white\",\"lakecolor\":\"white\",\"landcolor\":\"#E5ECF6\",\"showlakes\":true,\"showland\":true,\"subunitcolor\":\"white\"},\"hoverlabel\":{\"align\":\"left\"},\"hovermode\":\"closest\",\"mapbox\":{\"style\":\"light\"},\"paper_bgcolor\":\"white\",\"plot_bgcolor\":\"#E5ECF6\",\"polar\":{\"angularaxis\":{\"gridcolor\":\"white\",\"linecolor\":\"white\",\"ticks\":\"\"},\"bgcolor\":\"#E5ECF6\",\"radialaxis\":{\"gridcolor\":\"white\",\"linecolor\":\"white\",\"ticks\":\"\"}},\"scene\":{\"xaxis\":{\"backgroundcolor\":\"#E5ECF6\",\"gridcolor\":\"white\",\"gridwidth\":2,\"linecolor\":\"white\",\"showbackground\":true,\"ticks\":\"\",\"zerolinecolor\":\"white\"},\"yaxis\":{\"backgroundcolor\":\"#E5ECF6\",\"gridcolor\":\"white\",\"gridwidth\":2,\"linecolor\":\"white\",\"showbackground\":true,\"ticks\":\"\",\"zerolinecolor\":\"white\"},\"zaxis\":{\"backgroundcolor\":\"#E5ECF6\",\"gridcolor\":\"white\",\"gridwidth\":2,\"linecolor\":\"white\",\"showbackground\":true,\"ticks\":\"\",\"zerolinecolor\":\"white\"}},\"shapedefaults\":{\"line\":{\"color\":\"#2a3f5f\"}},\"ternary\":{\"aaxis\":{\"gridcolor\":\"white\",\"linecolor\":\"white\",\"ticks\":\"\"},\"baxis\":{\"gridcolor\":\"white\",\"linecolor\":\"white\",\"ticks\":\"\"},\"bgcolor\":\"#E5ECF6\",\"caxis\":{\"gridcolor\":\"white\",\"linecolor\":\"white\",\"ticks\":\"\"}},\"title\":{\"x\":0.05},\"xaxis\":{\"automargin\":true,\"gridcolor\":\"white\",\"linecolor\":\"white\",\"ticks\":\"\",\"title\":{\"standoff\":15},\"zerolinecolor\":\"white\",\"zerolinewidth\":2},\"yaxis\":{\"automargin\":true,\"gridcolor\":\"white\",\"linecolor\":\"white\",\"ticks\":\"\",\"title\":{\"standoff\":15},\"zerolinecolor\":\"white\",\"zerolinewidth\":2}}}},                        {\"responsive\": true}                    ).then(function(){\n",
       "                            \n",
       "var gd = document.getElementById('7e4f627a-d94b-447f-91d7-0ca6e436c02d');\n",
       "var x = new MutationObserver(function (mutations, observer) {{\n",
       "        var display = window.getComputedStyle(gd).display;\n",
       "        if (!display || display === 'none') {{\n",
       "            console.log([gd, 'removed!']);\n",
       "            Plotly.purge(gd);\n",
       "            observer.disconnect();\n",
       "        }}\n",
       "}});\n",
       "\n",
       "// Listen for the removal of the full notebook cells\n",
       "var notebookContainer = gd.closest('#notebook-container');\n",
       "if (notebookContainer) {{\n",
       "    x.observe(notebookContainer, {childList: true});\n",
       "}}\n",
       "\n",
       "// Listen for the clearing of the current output cell\n",
       "var outputEl = gd.closest('.output');\n",
       "if (outputEl) {{\n",
       "    x.observe(outputEl, {childList: true});\n",
       "}}\n",
       "\n",
       "                        })                };                });            </script>        </div>"
      ]
     },
     "metadata": {},
     "output_type": "display_data"
    }
   ],
   "source": [
    "# modele colors, font size,\n",
    "\n",
    "values = [['Salaries', 'Office', 'Merchandise', 'Legal', '<b>TOTAL<br>EXPENSES</b>'], #1st col\n",
    "  [\"Lorem ipsum dolor sit amet, tollit discere inermis pri ut. Eos ea iusto timeam, an prima laboramus vim. Id usu aeterno adversarium, summo mollis timeam vel ad\",\n",
    "  \"Lorem ipsum dolor sit amet, tollit discere inermis pri ut. Eos ea iusto timeam, an prima laboramus vim. Id usu aeterno adversarium, summo mollis timeam vel ad\",\n",
    "  \"Lorem ipsum dolor sit amet, tollit discere inermis pri ut. Eos ea iusto timeam, an prima laboramus vim. Id usu aeterno adversarium, summo mollis timeam vel ad\",\n",
    "  \"Lorem ipsum dolor sit amet, tollit discere inermis pri ut. Eos ea iusto timeam, an prima laboramus vim. Id usu aeterno adversarium, summo mollis timeam vel ad\",\n",
    "  \"Lorem ipsum dolor sit amet, tollit discere inermis pri ut. Eos ea iusto timeam, an prima laboramus vim. Id usu aeterno adversarium, summo mollis timeam vel ad\"]]\n",
    "\n",
    "\n",
    "fig = go.Figure(data=[go.Table(\n",
    "  columnorder = [1,2],\n",
    "  columnwidth = [300,100],\n",
    "  header = dict(\n",
    "    values = [['<b>EXPENSES</b><br>as of July 2017'],\n",
    "                  ['<b>DESCRIPTION</b>']],\n",
    "    line_color='darkslategray',\n",
    "    fill_color='royalblue',\n",
    "    align=['left','center'],\n",
    "    font=dict(color='white', size=12),\n",
    "    height=40\n",
    "  ),\n",
    "  cells=dict(\n",
    "    values=values,\n",
    "    line_color='darkslategray',\n",
    "    fill=dict(color=['paleturquoise', 'white']),\n",
    "    align=['left', 'center'],\n",
    "    font_size=12,\n",
    "    height=30)\n",
    "    )\n",
    "])\n",
    "fig.show()"
   ]
  },
  {
   "cell_type": "markdown",
   "id": "48769b44-22bb-4d2b-87c5-f68c127e04c2",
   "metadata": {},
   "source": [
    "##### Bullet chart"
   ]
  },
  {
   "cell_type": "code",
   "execution_count": 223,
   "id": "9bccc73d-0267-46e8-9f2a-89d5fc331243",
   "metadata": {},
   "outputs": [
    {
     "data": {
      "application/vnd.plotly.v1+json": {
       "config": {
        "plotlyServerURL": "https://plot.ly"
       },
       "data": [
        {
         "delta": {
          "reference": 300
         },
         "domain": {
          "x": [
           0.1,
           1
          ],
          "y": [
           0,
           1
          ]
         },
         "gauge": {
          "axis": {
           "range": [
            null,
            400
           ]
          },
          "bar": {
           "color": "darkblue"
          },
          "shape": "bullet",
          "steps": [
           {
            "color": "lightgray",
            "range": [
             0,
             150
            ]
           },
           {
            "color": "gray",
            "range": [
             150,
             200
            ]
           }
          ],
          "threshold": {
           "line": {
            "color": "red",
            "width": 2
           },
           "thickness": 0.75,
           "value": 300
          }
         },
         "mode": "number+gauge+delta",
         "title": {
          "font": {
           "size": 15
          },
          "text": "<b>Profit</b>"
         },
         "type": "indicator",
         "value": 420
        }
       ],
       "layout": {
        "height": 80,
        "margin": {
         "b": 20,
         "l": 0,
         "t": 0
        },
        "template": {
         "data": {
          "bar": [
           {
            "error_x": {
             "color": "#2a3f5f"
            },
            "error_y": {
             "color": "#2a3f5f"
            },
            "marker": {
             "line": {
              "color": "#E5ECF6",
              "width": 0.5
             },
             "pattern": {
              "fillmode": "overlay",
              "size": 10,
              "solidity": 0.2
             }
            },
            "type": "bar"
           }
          ],
          "barpolar": [
           {
            "marker": {
             "line": {
              "color": "#E5ECF6",
              "width": 0.5
             },
             "pattern": {
              "fillmode": "overlay",
              "size": 10,
              "solidity": 0.2
             }
            },
            "type": "barpolar"
           }
          ],
          "carpet": [
           {
            "aaxis": {
             "endlinecolor": "#2a3f5f",
             "gridcolor": "white",
             "linecolor": "white",
             "minorgridcolor": "white",
             "startlinecolor": "#2a3f5f"
            },
            "baxis": {
             "endlinecolor": "#2a3f5f",
             "gridcolor": "white",
             "linecolor": "white",
             "minorgridcolor": "white",
             "startlinecolor": "#2a3f5f"
            },
            "type": "carpet"
           }
          ],
          "choropleth": [
           {
            "colorbar": {
             "outlinewidth": 0,
             "ticks": ""
            },
            "type": "choropleth"
           }
          ],
          "contour": [
           {
            "colorbar": {
             "outlinewidth": 0,
             "ticks": ""
            },
            "colorscale": [
             [
              0,
              "#0d0887"
             ],
             [
              0.1111111111111111,
              "#46039f"
             ],
             [
              0.2222222222222222,
              "#7201a8"
             ],
             [
              0.3333333333333333,
              "#9c179e"
             ],
             [
              0.4444444444444444,
              "#bd3786"
             ],
             [
              0.5555555555555556,
              "#d8576b"
             ],
             [
              0.6666666666666666,
              "#ed7953"
             ],
             [
              0.7777777777777778,
              "#fb9f3a"
             ],
             [
              0.8888888888888888,
              "#fdca26"
             ],
             [
              1,
              "#f0f921"
             ]
            ],
            "type": "contour"
           }
          ],
          "contourcarpet": [
           {
            "colorbar": {
             "outlinewidth": 0,
             "ticks": ""
            },
            "type": "contourcarpet"
           }
          ],
          "heatmap": [
           {
            "colorbar": {
             "outlinewidth": 0,
             "ticks": ""
            },
            "colorscale": [
             [
              0,
              "#0d0887"
             ],
             [
              0.1111111111111111,
              "#46039f"
             ],
             [
              0.2222222222222222,
              "#7201a8"
             ],
             [
              0.3333333333333333,
              "#9c179e"
             ],
             [
              0.4444444444444444,
              "#bd3786"
             ],
             [
              0.5555555555555556,
              "#d8576b"
             ],
             [
              0.6666666666666666,
              "#ed7953"
             ],
             [
              0.7777777777777778,
              "#fb9f3a"
             ],
             [
              0.8888888888888888,
              "#fdca26"
             ],
             [
              1,
              "#f0f921"
             ]
            ],
            "type": "heatmap"
           }
          ],
          "heatmapgl": [
           {
            "colorbar": {
             "outlinewidth": 0,
             "ticks": ""
            },
            "colorscale": [
             [
              0,
              "#0d0887"
             ],
             [
              0.1111111111111111,
              "#46039f"
             ],
             [
              0.2222222222222222,
              "#7201a8"
             ],
             [
              0.3333333333333333,
              "#9c179e"
             ],
             [
              0.4444444444444444,
              "#bd3786"
             ],
             [
              0.5555555555555556,
              "#d8576b"
             ],
             [
              0.6666666666666666,
              "#ed7953"
             ],
             [
              0.7777777777777778,
              "#fb9f3a"
             ],
             [
              0.8888888888888888,
              "#fdca26"
             ],
             [
              1,
              "#f0f921"
             ]
            ],
            "type": "heatmapgl"
           }
          ],
          "histogram": [
           {
            "marker": {
             "pattern": {
              "fillmode": "overlay",
              "size": 10,
              "solidity": 0.2
             }
            },
            "type": "histogram"
           }
          ],
          "histogram2d": [
           {
            "colorbar": {
             "outlinewidth": 0,
             "ticks": ""
            },
            "colorscale": [
             [
              0,
              "#0d0887"
             ],
             [
              0.1111111111111111,
              "#46039f"
             ],
             [
              0.2222222222222222,
              "#7201a8"
             ],
             [
              0.3333333333333333,
              "#9c179e"
             ],
             [
              0.4444444444444444,
              "#bd3786"
             ],
             [
              0.5555555555555556,
              "#d8576b"
             ],
             [
              0.6666666666666666,
              "#ed7953"
             ],
             [
              0.7777777777777778,
              "#fb9f3a"
             ],
             [
              0.8888888888888888,
              "#fdca26"
             ],
             [
              1,
              "#f0f921"
             ]
            ],
            "type": "histogram2d"
           }
          ],
          "histogram2dcontour": [
           {
            "colorbar": {
             "outlinewidth": 0,
             "ticks": ""
            },
            "colorscale": [
             [
              0,
              "#0d0887"
             ],
             [
              0.1111111111111111,
              "#46039f"
             ],
             [
              0.2222222222222222,
              "#7201a8"
             ],
             [
              0.3333333333333333,
              "#9c179e"
             ],
             [
              0.4444444444444444,
              "#bd3786"
             ],
             [
              0.5555555555555556,
              "#d8576b"
             ],
             [
              0.6666666666666666,
              "#ed7953"
             ],
             [
              0.7777777777777778,
              "#fb9f3a"
             ],
             [
              0.8888888888888888,
              "#fdca26"
             ],
             [
              1,
              "#f0f921"
             ]
            ],
            "type": "histogram2dcontour"
           }
          ],
          "mesh3d": [
           {
            "colorbar": {
             "outlinewidth": 0,
             "ticks": ""
            },
            "type": "mesh3d"
           }
          ],
          "parcoords": [
           {
            "line": {
             "colorbar": {
              "outlinewidth": 0,
              "ticks": ""
             }
            },
            "type": "parcoords"
           }
          ],
          "pie": [
           {
            "automargin": true,
            "type": "pie"
           }
          ],
          "scatter": [
           {
            "marker": {
             "colorbar": {
              "outlinewidth": 0,
              "ticks": ""
             }
            },
            "type": "scatter"
           }
          ],
          "scatter3d": [
           {
            "line": {
             "colorbar": {
              "outlinewidth": 0,
              "ticks": ""
             }
            },
            "marker": {
             "colorbar": {
              "outlinewidth": 0,
              "ticks": ""
             }
            },
            "type": "scatter3d"
           }
          ],
          "scattercarpet": [
           {
            "marker": {
             "colorbar": {
              "outlinewidth": 0,
              "ticks": ""
             }
            },
            "type": "scattercarpet"
           }
          ],
          "scattergeo": [
           {
            "marker": {
             "colorbar": {
              "outlinewidth": 0,
              "ticks": ""
             }
            },
            "type": "scattergeo"
           }
          ],
          "scattergl": [
           {
            "marker": {
             "colorbar": {
              "outlinewidth": 0,
              "ticks": ""
             }
            },
            "type": "scattergl"
           }
          ],
          "scattermapbox": [
           {
            "marker": {
             "colorbar": {
              "outlinewidth": 0,
              "ticks": ""
             }
            },
            "type": "scattermapbox"
           }
          ],
          "scatterpolar": [
           {
            "marker": {
             "colorbar": {
              "outlinewidth": 0,
              "ticks": ""
             }
            },
            "type": "scatterpolar"
           }
          ],
          "scatterpolargl": [
           {
            "marker": {
             "colorbar": {
              "outlinewidth": 0,
              "ticks": ""
             }
            },
            "type": "scatterpolargl"
           }
          ],
          "scatterternary": [
           {
            "marker": {
             "colorbar": {
              "outlinewidth": 0,
              "ticks": ""
             }
            },
            "type": "scatterternary"
           }
          ],
          "surface": [
           {
            "colorbar": {
             "outlinewidth": 0,
             "ticks": ""
            },
            "colorscale": [
             [
              0,
              "#0d0887"
             ],
             [
              0.1111111111111111,
              "#46039f"
             ],
             [
              0.2222222222222222,
              "#7201a8"
             ],
             [
              0.3333333333333333,
              "#9c179e"
             ],
             [
              0.4444444444444444,
              "#bd3786"
             ],
             [
              0.5555555555555556,
              "#d8576b"
             ],
             [
              0.6666666666666666,
              "#ed7953"
             ],
             [
              0.7777777777777778,
              "#fb9f3a"
             ],
             [
              0.8888888888888888,
              "#fdca26"
             ],
             [
              1,
              "#f0f921"
             ]
            ],
            "type": "surface"
           }
          ],
          "table": [
           {
            "cells": {
             "fill": {
              "color": "#EBF0F8"
             },
             "line": {
              "color": "white"
             }
            },
            "header": {
             "fill": {
              "color": "#C8D4E3"
             },
             "line": {
              "color": "white"
             }
            },
            "type": "table"
           }
          ]
         },
         "layout": {
          "annotationdefaults": {
           "arrowcolor": "#2a3f5f",
           "arrowhead": 0,
           "arrowwidth": 1
          },
          "autotypenumbers": "strict",
          "coloraxis": {
           "colorbar": {
            "outlinewidth": 0,
            "ticks": ""
           }
          },
          "colorscale": {
           "diverging": [
            [
             0,
             "#8e0152"
            ],
            [
             0.1,
             "#c51b7d"
            ],
            [
             0.2,
             "#de77ae"
            ],
            [
             0.3,
             "#f1b6da"
            ],
            [
             0.4,
             "#fde0ef"
            ],
            [
             0.5,
             "#f7f7f7"
            ],
            [
             0.6,
             "#e6f5d0"
            ],
            [
             0.7,
             "#b8e186"
            ],
            [
             0.8,
             "#7fbc41"
            ],
            [
             0.9,
             "#4d9221"
            ],
            [
             1,
             "#276419"
            ]
           ],
           "sequential": [
            [
             0,
             "#0d0887"
            ],
            [
             0.1111111111111111,
             "#46039f"
            ],
            [
             0.2222222222222222,
             "#7201a8"
            ],
            [
             0.3333333333333333,
             "#9c179e"
            ],
            [
             0.4444444444444444,
             "#bd3786"
            ],
            [
             0.5555555555555556,
             "#d8576b"
            ],
            [
             0.6666666666666666,
             "#ed7953"
            ],
            [
             0.7777777777777778,
             "#fb9f3a"
            ],
            [
             0.8888888888888888,
             "#fdca26"
            ],
            [
             1,
             "#f0f921"
            ]
           ],
           "sequentialminus": [
            [
             0,
             "#0d0887"
            ],
            [
             0.1111111111111111,
             "#46039f"
            ],
            [
             0.2222222222222222,
             "#7201a8"
            ],
            [
             0.3333333333333333,
             "#9c179e"
            ],
            [
             0.4444444444444444,
             "#bd3786"
            ],
            [
             0.5555555555555556,
             "#d8576b"
            ],
            [
             0.6666666666666666,
             "#ed7953"
            ],
            [
             0.7777777777777778,
             "#fb9f3a"
            ],
            [
             0.8888888888888888,
             "#fdca26"
            ],
            [
             1,
             "#f0f921"
            ]
           ]
          },
          "colorway": [
           "#636efa",
           "#EF553B",
           "#00cc96",
           "#ab63fa",
           "#FFA15A",
           "#19d3f3",
           "#FF6692",
           "#B6E880",
           "#FF97FF",
           "#FECB52"
          ],
          "font": {
           "color": "#2a3f5f"
          },
          "geo": {
           "bgcolor": "white",
           "lakecolor": "white",
           "landcolor": "#E5ECF6",
           "showlakes": true,
           "showland": true,
           "subunitcolor": "white"
          },
          "hoverlabel": {
           "align": "left"
          },
          "hovermode": "closest",
          "mapbox": {
           "style": "light"
          },
          "paper_bgcolor": "white",
          "plot_bgcolor": "#E5ECF6",
          "polar": {
           "angularaxis": {
            "gridcolor": "white",
            "linecolor": "white",
            "ticks": ""
           },
           "bgcolor": "#E5ECF6",
           "radialaxis": {
            "gridcolor": "white",
            "linecolor": "white",
            "ticks": ""
           }
          },
          "scene": {
           "xaxis": {
            "backgroundcolor": "#E5ECF6",
            "gridcolor": "white",
            "gridwidth": 2,
            "linecolor": "white",
            "showbackground": true,
            "ticks": "",
            "zerolinecolor": "white"
           },
           "yaxis": {
            "backgroundcolor": "#E5ECF6",
            "gridcolor": "white",
            "gridwidth": 2,
            "linecolor": "white",
            "showbackground": true,
            "ticks": "",
            "zerolinecolor": "white"
           },
           "zaxis": {
            "backgroundcolor": "#E5ECF6",
            "gridcolor": "white",
            "gridwidth": 2,
            "linecolor": "white",
            "showbackground": true,
            "ticks": "",
            "zerolinecolor": "white"
           }
          },
          "shapedefaults": {
           "line": {
            "color": "#2a3f5f"
           }
          },
          "ternary": {
           "aaxis": {
            "gridcolor": "white",
            "linecolor": "white",
            "ticks": ""
           },
           "baxis": {
            "gridcolor": "white",
            "linecolor": "white",
            "ticks": ""
           },
           "bgcolor": "#E5ECF6",
           "caxis": {
            "gridcolor": "white",
            "linecolor": "white",
            "ticks": ""
           }
          },
          "title": {
           "x": 0.05
          },
          "xaxis": {
           "automargin": true,
           "gridcolor": "white",
           "linecolor": "white",
           "ticks": "",
           "title": {
            "standoff": 15
           },
           "zerolinecolor": "white",
           "zerolinewidth": 2
          },
          "yaxis": {
           "automargin": true,
           "gridcolor": "white",
           "linecolor": "white",
           "ticks": "",
           "title": {
            "standoff": 15
           },
           "zerolinecolor": "white",
           "zerolinewidth": 2
          }
         }
        },
        "width": 600
       }
      },
      "image/png": "[encoded data removed]",
      "text/html": [
       "<div>                            <div id=\"0ac7c2b9-f82f-4902-be8a-9783d54c44b1\" class=\"plotly-graph-div\" style=\"height:80px; width:600px;\"></div>            <script type=\"text/javascript\">                require([\"plotly\"], function(Plotly) {                    window.PLOTLYENV=window.PLOTLYENV || {};                                    if (document.getElementById(\"0ac7c2b9-f82f-4902-be8a-9783d54c44b1\")) {                    Plotly.newPlot(                        \"0ac7c2b9-f82f-4902-be8a-9783d54c44b1\",                        [{\"delta\":{\"reference\":300},\"domain\":{\"x\":[0.1,1],\"y\":[0,1]},\"gauge\":{\"axis\":{\"range\":[null,400]},\"bar\":{\"color\":\"darkblue\"},\"shape\":\"bullet\",\"steps\":[{\"color\":\"lightgray\",\"range\":[0,150]},{\"color\":\"gray\",\"range\":[150,200]}],\"threshold\":{\"line\":{\"color\":\"red\",\"width\":2},\"thickness\":0.75,\"value\":300}},\"mode\":\"number+gauge+delta\",\"title\":{\"font\":{\"size\":15},\"text\":\"<b>Profit</b>\"},\"type\":\"indicator\",\"value\":420}],                        {\"height\":80,\"margin\":{\"b\":20,\"l\":0,\"t\":0},\"template\":{\"data\":{\"bar\":[{\"error_x\":{\"color\":\"#2a3f5f\"},\"error_y\":{\"color\":\"#2a3f5f\"},\"marker\":{\"line\":{\"color\":\"#E5ECF6\",\"width\":0.5},\"pattern\":{\"fillmode\":\"overlay\",\"size\":10,\"solidity\":0.2}},\"type\":\"bar\"}],\"barpolar\":[{\"marker\":{\"line\":{\"color\":\"#E5ECF6\",\"width\":0.5},\"pattern\":{\"fillmode\":\"overlay\",\"size\":10,\"solidity\":0.2}},\"type\":\"barpolar\"}],\"carpet\":[{\"aaxis\":{\"endlinecolor\":\"#2a3f5f\",\"gridcolor\":\"white\",\"linecolor\":\"white\",\"minorgridcolor\":\"white\",\"startlinecolor\":\"#2a3f5f\"},\"baxis\":{\"endlinecolor\":\"#2a3f5f\",\"gridcolor\":\"white\",\"linecolor\":\"white\",\"minorgridcolor\":\"white\",\"startlinecolor\":\"#2a3f5f\"},\"type\":\"carpet\"}],\"choropleth\":[{\"colorbar\":{\"outlinewidth\":0,\"ticks\":\"\"},\"type\":\"choropleth\"}],\"contour\":[{\"colorbar\":{\"outlinewidth\":0,\"ticks\":\"\"},\"colorscale\":[[0.0,\"#0d0887\"],[0.1111111111111111,\"#46039f\"],[0.2222222222222222,\"#7201a8\"],[0.3333333333333333,\"#9c179e\"],[0.4444444444444444,\"#bd3786\"],[0.5555555555555556,\"#d8576b\"],[0.6666666666666666,\"#ed7953\"],[0.7777777777777778,\"#fb9f3a\"],[0.8888888888888888,\"#fdca26\"],[1.0,\"#f0f921\"]],\"type\":\"contour\"}],\"contourcarpet\":[{\"colorbar\":{\"outlinewidth\":0,\"ticks\":\"\"},\"type\":\"contourcarpet\"}],\"heatmap\":[{\"colorbar\":{\"outlinewidth\":0,\"ticks\":\"\"},\"colorscale\":[[0.0,\"#0d0887\"],[0.1111111111111111,\"#46039f\"],[0.2222222222222222,\"#7201a8\"],[0.3333333333333333,\"#9c179e\"],[0.4444444444444444,\"#bd3786\"],[0.5555555555555556,\"#d8576b\"],[0.6666666666666666,\"#ed7953\"],[0.7777777777777778,\"#fb9f3a\"],[0.8888888888888888,\"#fdca26\"],[1.0,\"#f0f921\"]],\"type\":\"heatmap\"}],\"heatmapgl\":[{\"colorbar\":{\"outlinewidth\":0,\"ticks\":\"\"},\"colorscale\":[[0.0,\"#0d0887\"],[0.1111111111111111,\"#46039f\"],[0.2222222222222222,\"#7201a8\"],[0.3333333333333333,\"#9c179e\"],[0.4444444444444444,\"#bd3786\"],[0.5555555555555556,\"#d8576b\"],[0.6666666666666666,\"#ed7953\"],[0.7777777777777778,\"#fb9f3a\"],[0.8888888888888888,\"#fdca26\"],[1.0,\"#f0f921\"]],\"type\":\"heatmapgl\"}],\"histogram\":[{\"marker\":{\"pattern\":{\"fillmode\":\"overlay\",\"size\":10,\"solidity\":0.2}},\"type\":\"histogram\"}],\"histogram2d\":[{\"colorbar\":{\"outlinewidth\":0,\"ticks\":\"\"},\"colorscale\":[[0.0,\"#0d0887\"],[0.1111111111111111,\"#46039f\"],[0.2222222222222222,\"#7201a8\"],[0.3333333333333333,\"#9c179e\"],[0.4444444444444444,\"#bd3786\"],[0.5555555555555556,\"#d8576b\"],[0.6666666666666666,\"#ed7953\"],[0.7777777777777778,\"#fb9f3a\"],[0.8888888888888888,\"#fdca26\"],[1.0,\"#f0f921\"]],\"type\":\"histogram2d\"}],\"histogram2dcontour\":[{\"colorbar\":{\"outlinewidth\":0,\"ticks\":\"\"},\"colorscale\":[[0.0,\"#0d0887\"],[0.1111111111111111,\"#46039f\"],[0.2222222222222222,\"#7201a8\"],[0.3333333333333333,\"#9c179e\"],[0.4444444444444444,\"#bd3786\"],[0.5555555555555556,\"#d8576b\"],[0.6666666666666666,\"#ed7953\"],[0.7777777777777778,\"#fb9f3a\"],[0.8888888888888888,\"#fdca26\"],[1.0,\"#f0f921\"]],\"type\":\"histogram2dcontour\"}],\"mesh3d\":[{\"colorbar\":{\"outlinewidth\":0,\"ticks\":\"\"},\"type\":\"mesh3d\"}],\"parcoords\":[{\"line\":{\"colorbar\":{\"outlinewidth\":0,\"ticks\":\"\"}},\"type\":\"parcoords\"}],\"pie\":[{\"automargin\":true,\"type\":\"pie\"}],\"scatter\":[{\"marker\":{\"colorbar\":{\"outlinewidth\":0,\"ticks\":\"\"}},\"type\":\"scatter\"}],\"scatter3d\":[{\"line\":{\"colorbar\":{\"outlinewidth\":0,\"ticks\":\"\"}},\"marker\":{\"colorbar\":{\"outlinewidth\":0,\"ticks\":\"\"}},\"type\":\"scatter3d\"}],\"scattercarpet\":[{\"marker\":{\"colorbar\":{\"outlinewidth\":0,\"ticks\":\"\"}},\"type\":\"scattercarpet\"}],\"scattergeo\":[{\"marker\":{\"colorbar\":{\"outlinewidth\":0,\"ticks\":\"\"}},\"type\":\"scattergeo\"}],\"scattergl\":[{\"marker\":{\"colorbar\":{\"outlinewidth\":0,\"ticks\":\"\"}},\"type\":\"scattergl\"}],\"scattermapbox\":[{\"marker\":{\"colorbar\":{\"outlinewidth\":0,\"ticks\":\"\"}},\"type\":\"scattermapbox\"}],\"scatterpolar\":[{\"marker\":{\"colorbar\":{\"outlinewidth\":0,\"ticks\":\"\"}},\"type\":\"scatterpolar\"}],\"scatterpolargl\":[{\"marker\":{\"colorbar\":{\"outlinewidth\":0,\"ticks\":\"\"}},\"type\":\"scatterpolargl\"}],\"scatterternary\":[{\"marker\":{\"colorbar\":{\"outlinewidth\":0,\"ticks\":\"\"}},\"type\":\"scatterternary\"}],\"surface\":[{\"colorbar\":{\"outlinewidth\":0,\"ticks\":\"\"},\"colorscale\":[[0.0,\"#0d0887\"],[0.1111111111111111,\"#46039f\"],[0.2222222222222222,\"#7201a8\"],[0.3333333333333333,\"#9c179e\"],[0.4444444444444444,\"#bd3786\"],[0.5555555555555556,\"#d8576b\"],[0.6666666666666666,\"#ed7953\"],[0.7777777777777778,\"#fb9f3a\"],[0.8888888888888888,\"#fdca26\"],[1.0,\"#f0f921\"]],\"type\":\"surface\"}],\"table\":[{\"cells\":{\"fill\":{\"color\":\"#EBF0F8\"},\"line\":{\"color\":\"white\"}},\"header\":{\"fill\":{\"color\":\"#C8D4E3\"},\"line\":{\"color\":\"white\"}},\"type\":\"table\"}]},\"layout\":{\"annotationdefaults\":{\"arrowcolor\":\"#2a3f5f\",\"arrowhead\":0,\"arrowwidth\":1},\"autotypenumbers\":\"strict\",\"coloraxis\":{\"colorbar\":{\"outlinewidth\":0,\"ticks\":\"\"}},\"colorscale\":{\"diverging\":[[0,\"#8e0152\"],[0.1,\"#c51b7d\"],[0.2,\"#de77ae\"],[0.3,\"#f1b6da\"],[0.4,\"#fde0ef\"],[0.5,\"#f7f7f7\"],[0.6,\"#e6f5d0\"],[0.7,\"#b8e186\"],[0.8,\"#7fbc41\"],[0.9,\"#4d9221\"],[1,\"#276419\"]],\"sequential\":[[0.0,\"#0d0887\"],[0.1111111111111111,\"#46039f\"],[0.2222222222222222,\"#7201a8\"],[0.3333333333333333,\"#9c179e\"],[0.4444444444444444,\"#bd3786\"],[0.5555555555555556,\"#d8576b\"],[0.6666666666666666,\"#ed7953\"],[0.7777777777777778,\"#fb9f3a\"],[0.8888888888888888,\"#fdca26\"],[1.0,\"#f0f921\"]],\"sequentialminus\":[[0.0,\"#0d0887\"],[0.1111111111111111,\"#46039f\"],[0.2222222222222222,\"#7201a8\"],[0.3333333333333333,\"#9c179e\"],[0.4444444444444444,\"#bd3786\"],[0.5555555555555556,\"#d8576b\"],[0.6666666666666666,\"#ed7953\"],[0.7777777777777778,\"#fb9f3a\"],[0.8888888888888888,\"#fdca26\"],[1.0,\"#f0f921\"]]},\"colorway\":[\"#636efa\",\"#EF553B\",\"#00cc96\",\"#ab63fa\",\"#FFA15A\",\"#19d3f3\",\"#FF6692\",\"#B6E880\",\"#FF97FF\",\"#FECB52\"],\"font\":{\"color\":\"#2a3f5f\"},\"geo\":{\"bgcolor\":\"white\",\"lakecolor\":\"white\",\"landcolor\":\"#E5ECF6\",\"showlakes\":true,\"showland\":true,\"subunitcolor\":\"white\"},\"hoverlabel\":{\"align\":\"left\"},\"hovermode\":\"closest\",\"mapbox\":{\"style\":\"light\"},\"paper_bgcolor\":\"white\",\"plot_bgcolor\":\"#E5ECF6\",\"polar\":{\"angularaxis\":{\"gridcolor\":\"white\",\"linecolor\":\"white\",\"ticks\":\"\"},\"bgcolor\":\"#E5ECF6\",\"radialaxis\":{\"gridcolor\":\"white\",\"linecolor\":\"white\",\"ticks\":\"\"}},\"scene\":{\"xaxis\":{\"backgroundcolor\":\"#E5ECF6\",\"gridcolor\":\"white\",\"gridwidth\":2,\"linecolor\":\"white\",\"showbackground\":true,\"ticks\":\"\",\"zerolinecolor\":\"white\"},\"yaxis\":{\"backgroundcolor\":\"#E5ECF6\",\"gridcolor\":\"white\",\"gridwidth\":2,\"linecolor\":\"white\",\"showbackground\":true,\"ticks\":\"\",\"zerolinecolor\":\"white\"},\"zaxis\":{\"backgroundcolor\":\"#E5ECF6\",\"gridcolor\":\"white\",\"gridwidth\":2,\"linecolor\":\"white\",\"showbackground\":true,\"ticks\":\"\",\"zerolinecolor\":\"white\"}},\"shapedefaults\":{\"line\":{\"color\":\"#2a3f5f\"}},\"ternary\":{\"aaxis\":{\"gridcolor\":\"white\",\"linecolor\":\"white\",\"ticks\":\"\"},\"baxis\":{\"gridcolor\":\"white\",\"linecolor\":\"white\",\"ticks\":\"\"},\"bgcolor\":\"#E5ECF6\",\"caxis\":{\"gridcolor\":\"white\",\"linecolor\":\"white\",\"ticks\":\"\"}},\"title\":{\"x\":0.05},\"xaxis\":{\"automargin\":true,\"gridcolor\":\"white\",\"linecolor\":\"white\",\"ticks\":\"\",\"title\":{\"standoff\":15},\"zerolinecolor\":\"white\",\"zerolinewidth\":2},\"yaxis\":{\"automargin\":true,\"gridcolor\":\"white\",\"linecolor\":\"white\",\"ticks\":\"\",\"title\":{\"standoff\":15},\"zerolinecolor\":\"white\",\"zerolinewidth\":2}}},\"width\":600},                        {\"responsive\": true}                    ).then(function(){\n",
       "                            \n",
       "var gd = document.getElementById('0ac7c2b9-f82f-4902-be8a-9783d54c44b1');\n",
       "var x = new MutationObserver(function (mutations, observer) {{\n",
       "        var display = window.getComputedStyle(gd).display;\n",
       "        if (!display || display === 'none') {{\n",
       "            console.log([gd, 'removed!']);\n",
       "            Plotly.purge(gd);\n",
       "            observer.disconnect();\n",
       "        }}\n",
       "}});\n",
       "\n",
       "// Listen for the removal of the full notebook cells\n",
       "var notebookContainer = gd.closest('#notebook-container');\n",
       "if (notebookContainer) {{\n",
       "    x.observe(notebookContainer, {childList: true});\n",
       "}}\n",
       "\n",
       "// Listen for the clearing of the current output cell\n",
       "var outputEl = gd.closest('.output');\n",
       "if (outputEl) {{\n",
       "    x.observe(outputEl, {childList: true});\n",
       "}}\n",
       "\n",
       "                        })                };                });            </script>        </div>"
      ]
     },
     "metadata": {},
     "output_type": "display_data"
    }
   ],
   "source": [
    "# Model\n",
    "fig = go.Figure(go.Indicator(\n",
    "    mode = \"number+gauge+delta\", value = 420,\n",
    "    domain = {'x': [0.1, 1], 'y': [0, 1]},\n",
    "    title = {'text' :\"<b>Profit</b>\", 'font_size':15},\n",
    "    delta = {'reference': 300},\n",
    "    gauge = {\n",
    "        'shape': \"bullet\",\n",
    "        'axis': {'range': [None, 400]},\n",
    "        'threshold': {\n",
    "            'line': {'color': \"red\", 'width': 2},\n",
    "            'thickness': 0.75,\n",
    "            'value': 300},\n",
    "        'steps': [\n",
    "            {'range': [0, 150], 'color': \"lightgray\"},\n",
    "            {'range': [150, 200], 'color': \"gray\"}],\n",
    "        'bar': {'color': \"darkblue\"}\n",
    "    }))\n",
    "fig.update_layout(\n",
    "    height = 80,\n",
    "    width = 600,\n",
    "    margin = {'t':0, 'b':20, 'l':0}\n",
    ")\n",
    "fig.show()"
   ]
  },
  {
   "cell_type": "code",
   "execution_count": 191,
   "id": "86d18f9f-a6c9-4658-8f9b-fbb40ee7d7c0",
   "metadata": {},
   "outputs": [
    {
     "name": "stdout",
     "output_type": "stream",
     "text": [
      "players quartiles: \n",
      "Kills {'count': 149.0, 'mean': 1.9395973154362416, 'std': 2.322708658533217, 'min': 0.0, '25%': 0.0, '50%': 1.0, '75%': 3.0, 'max': 12.0}\n",
      "KD {'count': 149.0, 'mean': 1.0771812080536913, 'std': 1.6006384201551922, 'min': 0.0, '25%': 0.0, '50%': 0.5, '75%': 1.5, 'max': 11.0}\n",
      "player kills:  {'KD': 0.5, 'Kills': 1, 'Deaths': 2}\n",
      "lifetime kd:  0.62\n"
     ]
    }
   ],
   "source": [
    "players_quartiles = playersQuartiles(df)\n",
    "print('players quartiles: ')\n",
    "for k, v in players_quartiles.items():\n",
    "    print(k,v)\n",
    "player_kills = retrievePlayerKills(df, gamertag)\n",
    "print('player kills: ', player_kills)\n",
    "# kpis = ProfileGetKpis(profile)\n",
    "# player_kd = kpis['br_kd']\n",
    "lifetime_kd = 0.62\n",
    "print('lifetime kd: ', lifetime_kd)"
   ]
  },
  {
   "cell_type": "code",
   "execution_count": 192,
   "id": "7afeaf77-9805-4f21-bc40-153c2e4000a1",
   "metadata": {},
   "outputs": [
    {
     "data": {
      "text/plain": [
       "{'Kills': {'count': 149.0,\n",
       "  'mean': 1.9395973154362416,\n",
       "  'std': 2.322708658533217,\n",
       "  'min': 0.0,\n",
       "  '25%': 0.0,\n",
       "  '50%': 1.0,\n",
       "  '75%': 3.0,\n",
       "  'max': 12.0},\n",
       " 'KD': {'count': 149.0,\n",
       "  'mean': 1.0771812080536913,\n",
       "  'std': 1.6006384201551922,\n",
       "  'min': 0.0,\n",
       "  '25%': 0.0,\n",
       "  '50%': 0.5,\n",
       "  '75%': 1.5,\n",
       "  'max': 11.0}}"
      ]
     },
     "execution_count": 192,
     "metadata": {},
     "output_type": "execute_result"
    }
   ],
   "source": [
    "players_quartiles"
   ]
  },
  {
   "cell_type": "code",
   "execution_count": 225,
   "id": "f0f556fd-77ee-4365-bcee-4bd68ac68b5d",
   "metadata": {},
   "outputs": [
    {
     "data": {
      "application/vnd.plotly.v1+json": {
       "config": {
        "plotlyServerURL": "https://plot.ly"
       },
       "data": [
        {
         "delta": {
          "reference": 0.62
         },
         "domain": {
          "x": [
           0.1,
           1
          ],
          "y": [
           0,
           1
          ]
         },
         "gauge": {
          "axis": {
           "range": [
            null,
            4
           ],
           "tickmode": "array",
           "ticktext": [
            0.5,
            1.1,
            1.5,
            "...max: 26"
           ],
           "tickvals": [
            0.5,
            1.1,
            1.5,
            4
           ]
          },
          "bar": {
           "color": "black"
          },
          "shape": "bullet",
          "steps": [
           {
            "color": "grey",
            "range": [
             0,
             0.5
            ]
           },
           {
            "color": "darkgrey",
            "range": [
             0.5,
             1.1
            ]
           },
           {
            "color": "lightgrey",
            "range": [
             1.1,
             1.5
            ]
           }
          ],
          "threshold": {
           "line": {
            "color": "black",
            "width": 2
           },
           "thickness": 0.75,
           "value": 0.62
          }
         },
         "mode": "number+gauge+delta",
         "title": {
          "font": {
           "size": 15
          },
          "text": "KD"
         },
         "type": "indicator",
         "value": 0.5
        }
       ],
       "layout": {
        "height": 70,
        "margin": {
         "b": 20,
         "l": 0,
         "t": 0
        },
        "template": {
         "data": {
          "bar": [
           {
            "error_x": {
             "color": "#2a3f5f"
            },
            "error_y": {
             "color": "#2a3f5f"
            },
            "marker": {
             "line": {
              "color": "#E5ECF6",
              "width": 0.5
             },
             "pattern": {
              "fillmode": "overlay",
              "size": 10,
              "solidity": 0.2
             }
            },
            "type": "bar"
           }
          ],
          "barpolar": [
           {
            "marker": {
             "line": {
              "color": "#E5ECF6",
              "width": 0.5
             },
             "pattern": {
              "fillmode": "overlay",
              "size": 10,
              "solidity": 0.2
             }
            },
            "type": "barpolar"
           }
          ],
          "carpet": [
           {
            "aaxis": {
             "endlinecolor": "#2a3f5f",
             "gridcolor": "white",
             "linecolor": "white",
             "minorgridcolor": "white",
             "startlinecolor": "#2a3f5f"
            },
            "baxis": {
             "endlinecolor": "#2a3f5f",
             "gridcolor": "white",
             "linecolor": "white",
             "minorgridcolor": "white",
             "startlinecolor": "#2a3f5f"
            },
            "type": "carpet"
           }
          ],
          "choropleth": [
           {
            "colorbar": {
             "outlinewidth": 0,
             "ticks": ""
            },
            "type": "choropleth"
           }
          ],
          "contour": [
           {
            "colorbar": {
             "outlinewidth": 0,
             "ticks": ""
            },
            "colorscale": [
             [
              0,
              "#0d0887"
             ],
             [
              0.1111111111111111,
              "#46039f"
             ],
             [
              0.2222222222222222,
              "#7201a8"
             ],
             [
              0.3333333333333333,
              "#9c179e"
             ],
             [
              0.4444444444444444,
              "#bd3786"
             ],
             [
              0.5555555555555556,
              "#d8576b"
             ],
             [
              0.6666666666666666,
              "#ed7953"
             ],
             [
              0.7777777777777778,
              "#fb9f3a"
             ],
             [
              0.8888888888888888,
              "#fdca26"
             ],
             [
              1,
              "#f0f921"
             ]
            ],
            "type": "contour"
           }
          ],
          "contourcarpet": [
           {
            "colorbar": {
             "outlinewidth": 0,
             "ticks": ""
            },
            "type": "contourcarpet"
           }
          ],
          "heatmap": [
           {
            "colorbar": {
             "outlinewidth": 0,
             "ticks": ""
            },
            "colorscale": [
             [
              0,
              "#0d0887"
             ],
             [
              0.1111111111111111,
              "#46039f"
             ],
             [
              0.2222222222222222,
              "#7201a8"
             ],
             [
              0.3333333333333333,
              "#9c179e"
             ],
             [
              0.4444444444444444,
              "#bd3786"
             ],
             [
              0.5555555555555556,
              "#d8576b"
             ],
             [
              0.6666666666666666,
              "#ed7953"
             ],
             [
              0.7777777777777778,
              "#fb9f3a"
             ],
             [
              0.8888888888888888,
              "#fdca26"
             ],
             [
              1,
              "#f0f921"
             ]
            ],
            "type": "heatmap"
           }
          ],
          "heatmapgl": [
           {
            "colorbar": {
             "outlinewidth": 0,
             "ticks": ""
            },
            "colorscale": [
             [
              0,
              "#0d0887"
             ],
             [
              0.1111111111111111,
              "#46039f"
             ],
             [
              0.2222222222222222,
              "#7201a8"
             ],
             [
              0.3333333333333333,
              "#9c179e"
             ],
             [
              0.4444444444444444,
              "#bd3786"
             ],
             [
              0.5555555555555556,
              "#d8576b"
             ],
             [
              0.6666666666666666,
              "#ed7953"
             ],
             [
              0.7777777777777778,
              "#fb9f3a"
             ],
             [
              0.8888888888888888,
              "#fdca26"
             ],
             [
              1,
              "#f0f921"
             ]
            ],
            "type": "heatmapgl"
           }
          ],
          "histogram": [
           {
            "marker": {
             "pattern": {
              "fillmode": "overlay",
              "size": 10,
              "solidity": 0.2
             }
            },
            "type": "histogram"
           }
          ],
          "histogram2d": [
           {
            "colorbar": {
             "outlinewidth": 0,
             "ticks": ""
            },
            "colorscale": [
             [
              0,
              "#0d0887"
             ],
             [
              0.1111111111111111,
              "#46039f"
             ],
             [
              0.2222222222222222,
              "#7201a8"
             ],
             [
              0.3333333333333333,
              "#9c179e"
             ],
             [
              0.4444444444444444,
              "#bd3786"
             ],
             [
              0.5555555555555556,
              "#d8576b"
             ],
             [
              0.6666666666666666,
              "#ed7953"
             ],
             [
              0.7777777777777778,
              "#fb9f3a"
             ],
             [
              0.8888888888888888,
              "#fdca26"
             ],
             [
              1,
              "#f0f921"
             ]
            ],
            "type": "histogram2d"
           }
          ],
          "histogram2dcontour": [
           {
            "colorbar": {
             "outlinewidth": 0,
             "ticks": ""
            },
            "colorscale": [
             [
              0,
              "#0d0887"
             ],
             [
              0.1111111111111111,
              "#46039f"
             ],
             [
              0.2222222222222222,
              "#7201a8"
             ],
             [
              0.3333333333333333,
              "#9c179e"
             ],
             [
              0.4444444444444444,
              "#bd3786"
             ],
             [
              0.5555555555555556,
              "#d8576b"
             ],
             [
              0.6666666666666666,
              "#ed7953"
             ],
             [
              0.7777777777777778,
              "#fb9f3a"
             ],
             [
              0.8888888888888888,
              "#fdca26"
             ],
             [
              1,
              "#f0f921"
             ]
            ],
            "type": "histogram2dcontour"
           }
          ],
          "mesh3d": [
           {
            "colorbar": {
             "outlinewidth": 0,
             "ticks": ""
            },
            "type": "mesh3d"
           }
          ],
          "parcoords": [
           {
            "line": {
             "colorbar": {
              "outlinewidth": 0,
              "ticks": ""
             }
            },
            "type": "parcoords"
           }
          ],
          "pie": [
           {
            "automargin": true,
            "type": "pie"
           }
          ],
          "scatter": [
           {
            "marker": {
             "colorbar": {
              "outlinewidth": 0,
              "ticks": ""
             }
            },
            "type": "scatter"
           }
          ],
          "scatter3d": [
           {
            "line": {
             "colorbar": {
              "outlinewidth": 0,
              "ticks": ""
             }
            },
            "marker": {
             "colorbar": {
              "outlinewidth": 0,
              "ticks": ""
             }
            },
            "type": "scatter3d"
           }
          ],
          "scattercarpet": [
           {
            "marker": {
             "colorbar": {
              "outlinewidth": 0,
              "ticks": ""
             }
            },
            "type": "scattercarpet"
           }
          ],
          "scattergeo": [
           {
            "marker": {
             "colorbar": {
              "outlinewidth": 0,
              "ticks": ""
             }
            },
            "type": "scattergeo"
           }
          ],
          "scattergl": [
           {
            "marker": {
             "colorbar": {
              "outlinewidth": 0,
              "ticks": ""
             }
            },
            "type": "scattergl"
           }
          ],
          "scattermapbox": [
           {
            "marker": {
             "colorbar": {
              "outlinewidth": 0,
              "ticks": ""
             }
            },
            "type": "scattermapbox"
           }
          ],
          "scatterpolar": [
           {
            "marker": {
             "colorbar": {
              "outlinewidth": 0,
              "ticks": ""
             }
            },
            "type": "scatterpolar"
           }
          ],
          "scatterpolargl": [
           {
            "marker": {
             "colorbar": {
              "outlinewidth": 0,
              "ticks": ""
             }
            },
            "type": "scatterpolargl"
           }
          ],
          "scatterternary": [
           {
            "marker": {
             "colorbar": {
              "outlinewidth": 0,
              "ticks": ""
             }
            },
            "type": "scatterternary"
           }
          ],
          "surface": [
           {
            "colorbar": {
             "outlinewidth": 0,
             "ticks": ""
            },
            "colorscale": [
             [
              0,
              "#0d0887"
             ],
             [
              0.1111111111111111,
              "#46039f"
             ],
             [
              0.2222222222222222,
              "#7201a8"
             ],
             [
              0.3333333333333333,
              "#9c179e"
             ],
             [
              0.4444444444444444,
              "#bd3786"
             ],
             [
              0.5555555555555556,
              "#d8576b"
             ],
             [
              0.6666666666666666,
              "#ed7953"
             ],
             [
              0.7777777777777778,
              "#fb9f3a"
             ],
             [
              0.8888888888888888,
              "#fdca26"
             ],
             [
              1,
              "#f0f921"
             ]
            ],
            "type": "surface"
           }
          ],
          "table": [
           {
            "cells": {
             "fill": {
              "color": "#EBF0F8"
             },
             "line": {
              "color": "white"
             }
            },
            "header": {
             "fill": {
              "color": "#C8D4E3"
             },
             "line": {
              "color": "white"
             }
            },
            "type": "table"
           }
          ]
         },
         "layout": {
          "annotationdefaults": {
           "arrowcolor": "#2a3f5f",
           "arrowhead": 0,
           "arrowwidth": 1
          },
          "autotypenumbers": "strict",
          "coloraxis": {
           "colorbar": {
            "outlinewidth": 0,
            "ticks": ""
           }
          },
          "colorscale": {
           "diverging": [
            [
             0,
             "#8e0152"
            ],
            [
             0.1,
             "#c51b7d"
            ],
            [
             0.2,
             "#de77ae"
            ],
            [
             0.3,
             "#f1b6da"
            ],
            [
             0.4,
             "#fde0ef"
            ],
            [
             0.5,
             "#f7f7f7"
            ],
            [
             0.6,
             "#e6f5d0"
            ],
            [
             0.7,
             "#b8e186"
            ],
            [
             0.8,
             "#7fbc41"
            ],
            [
             0.9,
             "#4d9221"
            ],
            [
             1,
             "#276419"
            ]
           ],
           "sequential": [
            [
             0,
             "#0d0887"
            ],
            [
             0.1111111111111111,
             "#46039f"
            ],
            [
             0.2222222222222222,
             "#7201a8"
            ],
            [
             0.3333333333333333,
             "#9c179e"
            ],
            [
             0.4444444444444444,
             "#bd3786"
            ],
            [
             0.5555555555555556,
             "#d8576b"
            ],
            [
             0.6666666666666666,
             "#ed7953"
            ],
            [
             0.7777777777777778,
             "#fb9f3a"
            ],
            [
             0.8888888888888888,
             "#fdca26"
            ],
            [
             1,
             "#f0f921"
            ]
           ],
           "sequentialminus": [
            [
             0,
             "#0d0887"
            ],
            [
             0.1111111111111111,
             "#46039f"
            ],
            [
             0.2222222222222222,
             "#7201a8"
            ],
            [
             0.3333333333333333,
             "#9c179e"
            ],
            [
             0.4444444444444444,
             "#bd3786"
            ],
            [
             0.5555555555555556,
             "#d8576b"
            ],
            [
             0.6666666666666666,
             "#ed7953"
            ],
            [
             0.7777777777777778,
             "#fb9f3a"
            ],
            [
             0.8888888888888888,
             "#fdca26"
            ],
            [
             1,
             "#f0f921"
            ]
           ]
          },
          "colorway": [
           "#636efa",
           "#EF553B",
           "#00cc96",
           "#ab63fa",
           "#FFA15A",
           "#19d3f3",
           "#FF6692",
           "#B6E880",
           "#FF97FF",
           "#FECB52"
          ],
          "font": {
           "color": "#2a3f5f"
          },
          "geo": {
           "bgcolor": "white",
           "lakecolor": "white",
           "landcolor": "#E5ECF6",
           "showlakes": true,
           "showland": true,
           "subunitcolor": "white"
          },
          "hoverlabel": {
           "align": "left"
          },
          "hovermode": "closest",
          "mapbox": {
           "style": "light"
          },
          "paper_bgcolor": "white",
          "plot_bgcolor": "#E5ECF6",
          "polar": {
           "angularaxis": {
            "gridcolor": "white",
            "linecolor": "white",
            "ticks": ""
           },
           "bgcolor": "#E5ECF6",
           "radialaxis": {
            "gridcolor": "white",
            "linecolor": "white",
            "ticks": ""
           }
          },
          "scene": {
           "xaxis": {
            "backgroundcolor": "#E5ECF6",
            "gridcolor": "white",
            "gridwidth": 2,
            "linecolor": "white",
            "showbackground": true,
            "ticks": "",
            "zerolinecolor": "white"
           },
           "yaxis": {
            "backgroundcolor": "#E5ECF6",
            "gridcolor": "white",
            "gridwidth": 2,
            "linecolor": "white",
            "showbackground": true,
            "ticks": "",
            "zerolinecolor": "white"
           },
           "zaxis": {
            "backgroundcolor": "#E5ECF6",
            "gridcolor": "white",
            "gridwidth": 2,
            "linecolor": "white",
            "showbackground": true,
            "ticks": "",
            "zerolinecolor": "white"
           }
          },
          "shapedefaults": {
           "line": {
            "color": "#2a3f5f"
           }
          },
          "ternary": {
           "aaxis": {
            "gridcolor": "white",
            "linecolor": "white",
            "ticks": ""
           },
           "baxis": {
            "gridcolor": "white",
            "linecolor": "white",
            "ticks": ""
           },
           "bgcolor": "#E5ECF6",
           "caxis": {
            "gridcolor": "white",
            "linecolor": "white",
            "ticks": ""
           }
          },
          "title": {
           "x": 0.05
          },
          "xaxis": {
           "automargin": true,
           "gridcolor": "white",
           "linecolor": "white",
           "ticks": "",
           "title": {
            "standoff": 15
           },
           "zerolinecolor": "white",
           "zerolinewidth": 2
          },
          "yaxis": {
           "automargin": true,
           "gridcolor": "white",
           "linecolor": "white",
           "ticks": "",
           "title": {
            "standoff": 15
           },
           "zerolinecolor": "white",
           "zerolinewidth": 2
          }
         }
        },
        "width": 600
       }
      },
      "image/png": "[encoded data removed]",
      "text/html": [
       "<div>                            <div id=\"1a59f54e-dcc1-4091-8490-c31e6dc97650\" class=\"plotly-graph-div\" style=\"height:70px; width:600px;\"></div>            <script type=\"text/javascript\">                require([\"plotly\"], function(Plotly) {                    window.PLOTLYENV=window.PLOTLYENV || {};                                    if (document.getElementById(\"1a59f54e-dcc1-4091-8490-c31e6dc97650\")) {                    Plotly.newPlot(                        \"1a59f54e-dcc1-4091-8490-c31e6dc97650\",                        [{\"delta\":{\"reference\":0.62},\"domain\":{\"x\":[0.1,1],\"y\":[0,1]},\"gauge\":{\"axis\":{\"range\":[null,4],\"tickmode\":\"array\",\"ticktext\":[0.5,1.1,1.5,\"...max: 26\"],\"tickvals\":[0.5,1.1,1.5,4]},\"bar\":{\"color\":\"black\"},\"shape\":\"bullet\",\"steps\":[{\"color\":\"grey\",\"range\":[0,0.5]},{\"color\":\"darkgrey\",\"range\":[0.5,1.1]},{\"color\":\"lightgrey\",\"range\":[1.1,1.5]}],\"threshold\":{\"line\":{\"color\":\"black\",\"width\":2},\"thickness\":0.75,\"value\":0.62}},\"mode\":\"number+gauge+delta\",\"title\":{\"font\":{\"size\":15},\"text\":\"KD\"},\"type\":\"indicator\",\"value\":0.5}],                        {\"height\":70,\"margin\":{\"b\":20,\"l\":0,\"t\":0},\"template\":{\"data\":{\"bar\":[{\"error_x\":{\"color\":\"#2a3f5f\"},\"error_y\":{\"color\":\"#2a3f5f\"},\"marker\":{\"line\":{\"color\":\"#E5ECF6\",\"width\":0.5},\"pattern\":{\"fillmode\":\"overlay\",\"size\":10,\"solidity\":0.2}},\"type\":\"bar\"}],\"barpolar\":[{\"marker\":{\"line\":{\"color\":\"#E5ECF6\",\"width\":0.5},\"pattern\":{\"fillmode\":\"overlay\",\"size\":10,\"solidity\":0.2}},\"type\":\"barpolar\"}],\"carpet\":[{\"aaxis\":{\"endlinecolor\":\"#2a3f5f\",\"gridcolor\":\"white\",\"linecolor\":\"white\",\"minorgridcolor\":\"white\",\"startlinecolor\":\"#2a3f5f\"},\"baxis\":{\"endlinecolor\":\"#2a3f5f\",\"gridcolor\":\"white\",\"linecolor\":\"white\",\"minorgridcolor\":\"white\",\"startlinecolor\":\"#2a3f5f\"},\"type\":\"carpet\"}],\"choropleth\":[{\"colorbar\":{\"outlinewidth\":0,\"ticks\":\"\"},\"type\":\"choropleth\"}],\"contour\":[{\"colorbar\":{\"outlinewidth\":0,\"ticks\":\"\"},\"colorscale\":[[0.0,\"#0d0887\"],[0.1111111111111111,\"#46039f\"],[0.2222222222222222,\"#7201a8\"],[0.3333333333333333,\"#9c179e\"],[0.4444444444444444,\"#bd3786\"],[0.5555555555555556,\"#d8576b\"],[0.6666666666666666,\"#ed7953\"],[0.7777777777777778,\"#fb9f3a\"],[0.8888888888888888,\"#fdca26\"],[1.0,\"#f0f921\"]],\"type\":\"contour\"}],\"contourcarpet\":[{\"colorbar\":{\"outlinewidth\":0,\"ticks\":\"\"},\"type\":\"contourcarpet\"}],\"heatmap\":[{\"colorbar\":{\"outlinewidth\":0,\"ticks\":\"\"},\"colorscale\":[[0.0,\"#0d0887\"],[0.1111111111111111,\"#46039f\"],[0.2222222222222222,\"#7201a8\"],[0.3333333333333333,\"#9c179e\"],[0.4444444444444444,\"#bd3786\"],[0.5555555555555556,\"#d8576b\"],[0.6666666666666666,\"#ed7953\"],[0.7777777777777778,\"#fb9f3a\"],[0.8888888888888888,\"#fdca26\"],[1.0,\"#f0f921\"]],\"type\":\"heatmap\"}],\"heatmapgl\":[{\"colorbar\":{\"outlinewidth\":0,\"ticks\":\"\"},\"colorscale\":[[0.0,\"#0d0887\"],[0.1111111111111111,\"#46039f\"],[0.2222222222222222,\"#7201a8\"],[0.3333333333333333,\"#9c179e\"],[0.4444444444444444,\"#bd3786\"],[0.5555555555555556,\"#d8576b\"],[0.6666666666666666,\"#ed7953\"],[0.7777777777777778,\"#fb9f3a\"],[0.8888888888888888,\"#fdca26\"],[1.0,\"#f0f921\"]],\"type\":\"heatmapgl\"}],\"histogram\":[{\"marker\":{\"pattern\":{\"fillmode\":\"overlay\",\"size\":10,\"solidity\":0.2}},\"type\":\"histogram\"}],\"histogram2d\":[{\"colorbar\":{\"outlinewidth\":0,\"ticks\":\"\"},\"colorscale\":[[0.0,\"#0d0887\"],[0.1111111111111111,\"#46039f\"],[0.2222222222222222,\"#7201a8\"],[0.3333333333333333,\"#9c179e\"],[0.4444444444444444,\"#bd3786\"],[0.5555555555555556,\"#d8576b\"],[0.6666666666666666,\"#ed7953\"],[0.7777777777777778,\"#fb9f3a\"],[0.8888888888888888,\"#fdca26\"],[1.0,\"#f0f921\"]],\"type\":\"histogram2d\"}],\"histogram2dcontour\":[{\"colorbar\":{\"outlinewidth\":0,\"ticks\":\"\"},\"colorscale\":[[0.0,\"#0d0887\"],[0.1111111111111111,\"#46039f\"],[0.2222222222222222,\"#7201a8\"],[0.3333333333333333,\"#9c179e\"],[0.4444444444444444,\"#bd3786\"],[0.5555555555555556,\"#d8576b\"],[0.6666666666666666,\"#ed7953\"],[0.7777777777777778,\"#fb9f3a\"],[0.8888888888888888,\"#fdca26\"],[1.0,\"#f0f921\"]],\"type\":\"histogram2dcontour\"}],\"mesh3d\":[{\"colorbar\":{\"outlinewidth\":0,\"ticks\":\"\"},\"type\":\"mesh3d\"}],\"parcoords\":[{\"line\":{\"colorbar\":{\"outlinewidth\":0,\"ticks\":\"\"}},\"type\":\"parcoords\"}],\"pie\":[{\"automargin\":true,\"type\":\"pie\"}],\"scatter\":[{\"marker\":{\"colorbar\":{\"outlinewidth\":0,\"ticks\":\"\"}},\"type\":\"scatter\"}],\"scatter3d\":[{\"line\":{\"colorbar\":{\"outlinewidth\":0,\"ticks\":\"\"}},\"marker\":{\"colorbar\":{\"outlinewidth\":0,\"ticks\":\"\"}},\"type\":\"scatter3d\"}],\"scattercarpet\":[{\"marker\":{\"colorbar\":{\"outlinewidth\":0,\"ticks\":\"\"}},\"type\":\"scattercarpet\"}],\"scattergeo\":[{\"marker\":{\"colorbar\":{\"outlinewidth\":0,\"ticks\":\"\"}},\"type\":\"scattergeo\"}],\"scattergl\":[{\"marker\":{\"colorbar\":{\"outlinewidth\":0,\"ticks\":\"\"}},\"type\":\"scattergl\"}],\"scattermapbox\":[{\"marker\":{\"colorbar\":{\"outlinewidth\":0,\"ticks\":\"\"}},\"type\":\"scattermapbox\"}],\"scatterpolar\":[{\"marker\":{\"colorbar\":{\"outlinewidth\":0,\"ticks\":\"\"}},\"type\":\"scatterpolar\"}],\"scatterpolargl\":[{\"marker\":{\"colorbar\":{\"outlinewidth\":0,\"ticks\":\"\"}},\"type\":\"scatterpolargl\"}],\"scatterternary\":[{\"marker\":{\"colorbar\":{\"outlinewidth\":0,\"ticks\":\"\"}},\"type\":\"scatterternary\"}],\"surface\":[{\"colorbar\":{\"outlinewidth\":0,\"ticks\":\"\"},\"colorscale\":[[0.0,\"#0d0887\"],[0.1111111111111111,\"#46039f\"],[0.2222222222222222,\"#7201a8\"],[0.3333333333333333,\"#9c179e\"],[0.4444444444444444,\"#bd3786\"],[0.5555555555555556,\"#d8576b\"],[0.6666666666666666,\"#ed7953\"],[0.7777777777777778,\"#fb9f3a\"],[0.8888888888888888,\"#fdca26\"],[1.0,\"#f0f921\"]],\"type\":\"surface\"}],\"table\":[{\"cells\":{\"fill\":{\"color\":\"#EBF0F8\"},\"line\":{\"color\":\"white\"}},\"header\":{\"fill\":{\"color\":\"#C8D4E3\"},\"line\":{\"color\":\"white\"}},\"type\":\"table\"}]},\"layout\":{\"annotationdefaults\":{\"arrowcolor\":\"#2a3f5f\",\"arrowhead\":0,\"arrowwidth\":1},\"autotypenumbers\":\"strict\",\"coloraxis\":{\"colorbar\":{\"outlinewidth\":0,\"ticks\":\"\"}},\"colorscale\":{\"diverging\":[[0,\"#8e0152\"],[0.1,\"#c51b7d\"],[0.2,\"#de77ae\"],[0.3,\"#f1b6da\"],[0.4,\"#fde0ef\"],[0.5,\"#f7f7f7\"],[0.6,\"#e6f5d0\"],[0.7,\"#b8e186\"],[0.8,\"#7fbc41\"],[0.9,\"#4d9221\"],[1,\"#276419\"]],\"sequential\":[[0.0,\"#0d0887\"],[0.1111111111111111,\"#46039f\"],[0.2222222222222222,\"#7201a8\"],[0.3333333333333333,\"#9c179e\"],[0.4444444444444444,\"#bd3786\"],[0.5555555555555556,\"#d8576b\"],[0.6666666666666666,\"#ed7953\"],[0.7777777777777778,\"#fb9f3a\"],[0.8888888888888888,\"#fdca26\"],[1.0,\"#f0f921\"]],\"sequentialminus\":[[0.0,\"#0d0887\"],[0.1111111111111111,\"#46039f\"],[0.2222222222222222,\"#7201a8\"],[0.3333333333333333,\"#9c179e\"],[0.4444444444444444,\"#bd3786\"],[0.5555555555555556,\"#d8576b\"],[0.6666666666666666,\"#ed7953\"],[0.7777777777777778,\"#fb9f3a\"],[0.8888888888888888,\"#fdca26\"],[1.0,\"#f0f921\"]]},\"colorway\":[\"#636efa\",\"#EF553B\",\"#00cc96\",\"#ab63fa\",\"#FFA15A\",\"#19d3f3\",\"#FF6692\",\"#B6E880\",\"#FF97FF\",\"#FECB52\"],\"font\":{\"color\":\"#2a3f5f\"},\"geo\":{\"bgcolor\":\"white\",\"lakecolor\":\"white\",\"landcolor\":\"#E5ECF6\",\"showlakes\":true,\"showland\":true,\"subunitcolor\":\"white\"},\"hoverlabel\":{\"align\":\"left\"},\"hovermode\":\"closest\",\"mapbox\":{\"style\":\"light\"},\"paper_bgcolor\":\"white\",\"plot_bgcolor\":\"#E5ECF6\",\"polar\":{\"angularaxis\":{\"gridcolor\":\"white\",\"linecolor\":\"white\",\"ticks\":\"\"},\"bgcolor\":\"#E5ECF6\",\"radialaxis\":{\"gridcolor\":\"white\",\"linecolor\":\"white\",\"ticks\":\"\"}},\"scene\":{\"xaxis\":{\"backgroundcolor\":\"#E5ECF6\",\"gridcolor\":\"white\",\"gridwidth\":2,\"linecolor\":\"white\",\"showbackground\":true,\"ticks\":\"\",\"zerolinecolor\":\"white\"},\"yaxis\":{\"backgroundcolor\":\"#E5ECF6\",\"gridcolor\":\"white\",\"gridwidth\":2,\"linecolor\":\"white\",\"showbackground\":true,\"ticks\":\"\",\"zerolinecolor\":\"white\"},\"zaxis\":{\"backgroundcolor\":\"#E5ECF6\",\"gridcolor\":\"white\",\"gridwidth\":2,\"linecolor\":\"white\",\"showbackground\":true,\"ticks\":\"\",\"zerolinecolor\":\"white\"}},\"shapedefaults\":{\"line\":{\"color\":\"#2a3f5f\"}},\"ternary\":{\"aaxis\":{\"gridcolor\":\"white\",\"linecolor\":\"white\",\"ticks\":\"\"},\"baxis\":{\"gridcolor\":\"white\",\"linecolor\":\"white\",\"ticks\":\"\"},\"bgcolor\":\"#E5ECF6\",\"caxis\":{\"gridcolor\":\"white\",\"linecolor\":\"white\",\"ticks\":\"\"}},\"title\":{\"x\":0.05},\"xaxis\":{\"automargin\":true,\"gridcolor\":\"white\",\"linecolor\":\"white\",\"ticks\":\"\",\"title\":{\"standoff\":15},\"zerolinecolor\":\"white\",\"zerolinewidth\":2},\"yaxis\":{\"automargin\":true,\"gridcolor\":\"white\",\"linecolor\":\"white\",\"ticks\":\"\",\"title\":{\"standoff\":15},\"zerolinecolor\":\"white\",\"zerolinewidth\":2}}},\"width\":600},                        {\"responsive\": true}                    ).then(function(){\n",
       "                            \n",
       "var gd = document.getElementById('1a59f54e-dcc1-4091-8490-c31e6dc97650');\n",
       "var x = new MutationObserver(function (mutations, observer) {{\n",
       "        var display = window.getComputedStyle(gd).display;\n",
       "        if (!display || display === 'none') {{\n",
       "            console.log([gd, 'removed!']);\n",
       "            Plotly.purge(gd);\n",
       "            observer.disconnect();\n",
       "        }}\n",
       "}});\n",
       "\n",
       "// Listen for the removal of the full notebook cells\n",
       "var notebookContainer = gd.closest('#notebook-container');\n",
       "if (notebookContainer) {{\n",
       "    x.observe(notebookContainer, {childList: true});\n",
       "}}\n",
       "\n",
       "// Listen for the clearing of the current output cell\n",
       "var outputEl = gd.closest('.output');\n",
       "if (outputEl) {{\n",
       "    x.observe(outputEl, {childList: true});\n",
       "}}\n",
       "\n",
       "                        })                };                });            </script>        </div>"
      ]
     },
     "metadata": {},
     "output_type": "display_data"
    }
   ],
   "source": [
    "# matche's values\n",
    "kd_player = player_kills['KD'] if not player_kills['KD'] == 0 else 0.1\n",
    "kd_mean = round(players_quartiles['KD']['mean'], 1)\n",
    "kd_median = round(players_quartiles['KD']['50%'],1)\n",
    "kd_Q3 = round(players_quartiles['KD']['75%'],1)\n",
    "kd_max = round(players_quartiles['KD']['max'],1)\n",
    "gauge_length = 4\n",
    "\n",
    "fig = go.Figure(go.Indicator(\n",
    "    mode = \"number+gauge+delta\", value = kd_player,\n",
    "    domain = {'x': [0.1, 1], 'y': [0, 1]},\n",
    "    title = {'text' :\"KD\", 'font_size':15},\n",
    "    delta = {'reference': lifetime_kd},\n",
    "    gauge = {\n",
    "        'shape': \"bullet\",\n",
    "        'axis': {'range': [None, gauge_length]},\n",
    "        'threshold': {\n",
    "            'line': {'color': \"black\", 'width': 2},\n",
    "            'thickness': 0.75,\n",
    "            'value': lifetime_kd},\n",
    "        'steps': [\n",
    "            {'range': [0, kd_median], 'color': \"grey\"},\n",
    "            {'range': [kd_median, kd_mean], 'color': \"darkgrey\"},\n",
    "            {'range': [kd_mean, kd_Q3], 'color': \"lightgrey\"}],\n",
    "        'bar': {'color': \"black\"}\n",
    "    }))\n",
    "\n",
    "fig.update_layout(\n",
    "    height = 70,\n",
    "    width = 600,\n",
    "    margin = {'t':0, 'b':20, 'l':0}\n",
    ")\n",
    "ticks = [kd_median, kd_mean, kd_Q3, gauge_length]\n",
    "fig.update_traces(\n",
    "    gauge={\n",
    "        \"axis\": {\n",
    "            \"tickmode\": \"array\",\n",
    "            \"tickvals\": ticks,\n",
    "            \"ticktext\": [\"...max: 26\" if i == gauge_length else i for i in ticks],\n",
    "        }\n",
    "    }\n",
    ")\n",
    "fig.show()"
   ]
  },
  {
   "cell_type": "code",
   "execution_count": null,
   "id": "45255235-c1b6-4fc2-bfb9-98a30ea848a6",
   "metadata": {},
   "outputs": [],
   "source": []
  },
  {
   "cell_type": "code",
   "execution_count": null,
   "id": "ca1d77ae-9870-4b7f-9ab3-60dcf9ba1f4f",
   "metadata": {},
   "outputs": [],
   "source": []
  },
  {
   "cell_type": "code",
   "execution_count": null,
   "id": "c1d1533e-79d0-4449-bf8a-17ee55d53339",
   "metadata": {},
   "outputs": [],
   "source": []
  },
  {
   "cell_type": "code",
   "execution_count": null,
   "id": "68c39a1b-586b-4c15-a4b9-688783243542",
   "metadata": {},
   "outputs": [],
   "source": []
  }
 ],
 "metadata": {
  "kernelspec": {
   "display_name": "Python 3 (ipykernel)",
   "language": "python",
   "name": "python3"
  },
  "language_info": {
   "codemirror_mode": {
    "name": "ipython",
    "version": 3
   },
   "file_extension": ".py",
   "mimetype": "text/x-python",
   "name": "python",
   "nbconvert_exporter": "python",
   "pygments_lexer": "ipython3",
   "version": "3.9.5"
  }
 },
 "nbformat": 4,
 "nbformat_minor": 5
}
