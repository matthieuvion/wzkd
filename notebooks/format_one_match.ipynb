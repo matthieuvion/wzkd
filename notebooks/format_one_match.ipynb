{
 "cells": [
  {
   "cell_type": "markdown",
   "id": "8a49d29b-b160-4061-b45f-ae7ca3a4bef2",
   "metadata": {
    "tags": []
   },
   "source": [
    "## COD API, One Match --> explore API, format, clean & reshape, test some visualizations"
   ]
  },
  {
   "cell_type": "code",
   "execution_count": 1,
   "id": "6fbccaa9-f802-4ce3-8cc6-06ad8acf5d1c",
   "metadata": {},
   "outputs": [],
   "source": [
    "import asyncio\n",
    "import os\n",
    "import sys\n",
    "import dotenv\n",
    "from pprint import pprint\n",
    "import datetime\n",
    "from datetime import datetime, timezone, timedelta\n",
    "import pandas as pd\n",
    "import numpy as np\n",
    "import pickle\n",
    "from itertools import product\n",
    "\n",
    "import altair as alt\n",
    "\n",
    "import callofduty\n",
    "from callofduty import Mode, Platform, Title, TimeFrame, GameType, Language"
   ]
  },
  {
   "cell_type": "code",
   "execution_count": 2,
   "id": "2f45074d-a84d-4075-a21d-87862c68e33f",
   "metadata": {},
   "outputs": [],
   "source": [
    "# Using SSO\n",
    "# We're storing our SSO token in an .env file stored locally to separate our config from code (w. python-dotenv). An.env-template file (with help to retrieve token) is provided for you to edit and populate the variable(s)\n",
    "# callofduty.py client .Login() goes through all the authentification steps and initiate a session to access protected routes\n",
    "# The client is asynchronous thus the 'await style'\n",
    "from dotenv import load_dotenv\n",
    "load_dotenv()\n",
    "client = await callofduty.Login(sso=os.environ[\"SSO\"])"
   ]
  },
  {
   "cell_type": "code",
   "execution_count": 3,
   "id": "dbccb704-4915-45d1-8482-26d5d3dc027a",
   "metadata": {},
   "outputs": [],
   "source": [
    "# we're storing our strings conversion module above current working (notebooks) directory\n",
    "sys.path.insert(0, os.path.abspath('../wzkd'))\n",
    "import labels\n",
    "from labels import MODES_LABELS, WEAPONS_CAT_PREFIX, WEAPONS_CAT, CW_WEAPONS_CAT_SUFFIX, WEAPONS_CAT_LABELS, WEAPONS_LABELS"
   ]
  },
  {
   "cell_type": "code",
   "execution_count": 4,
   "id": "dc792adc-caaf-4e3d-8c97-f2b08b11748d",
   "metadata": {},
   "outputs": [],
   "source": [
    "import urllib.parse\n",
    "from typing import List, Optional, Union\n",
    "\n",
    "from callofduty.client import Client\n",
    "from callofduty.http import HTTP\n",
    "from callofduty.http import Request\n",
    "\n",
    "async def GetMatchStats(\n",
    "    self, platform, title: Title, mode: Mode, matchId: int, language: Language = Language.English, **kwargs\n",
    "):\n",
    "    \"\"\" \n",
    "    Compared to client : modified so that we do not use Platform.abc as parameter\n",
    "    but instead our app-defined workflow (drop down menu) to select our platform of choice\"\n",
    "    \"\"\"\n",
    "    return (\n",
    "        await self.http.GetFullMatch(\n",
    "            title.value, platform, mode.value, matchId, language.value\n",
    "        )\n",
    "    )[\"data\"][\"allPlayers\"]\n",
    "    # api result, at very least for Warzone {'data':{'all_players:' is the only key},'status': call status}\n",
    "\n",
    "Client.GetMatchStats = GetMatchStats\n",
    "match = await client.GetMatchStats('battle', Title.ModernWarfare, Mode.Warzone, matchId=5010761031247628577)\n",
    "\n",
    "# example of IDs :\n",
    "# 16569868366653777065 : confetti_seeker : BR solo \n",
    "#5010761031247628577 : trios \n",
    "# 11672696746036290501 a \"custom\" mode game (Rumble Clash)\n",
    "# 6825832239054239925 : Iron Trials Trios\n",
    "# 9207377216339591388 : BR Duo"
   ]
  },
  {
   "cell_type": "markdown",
   "id": "8826d18b-fb0d-45ec-bf86-f26b5507833a",
   "metadata": {},
   "source": [
    "#### Option : save match to disk"
   ]
  },
  {
   "cell_type": "code",
   "execution_count": 5,
   "id": "ecf1d659-ef19-4840-959b-3943e4105a17",
   "metadata": {},
   "outputs": [],
   "source": [
    "#save file if you want to work in offline mode\n",
    "with open(\"match.pkl\", 'wb') as f:\n",
    "    pickle.dump(match, f)"
   ]
  },
  {
   "cell_type": "markdown",
   "id": "1a59fbde-3e5d-407d-a1ea-3da68da213ce",
   "metadata": {},
   "source": [
    "## Match result : structure"
   ]
  },
  {
   "cell_type": "code",
   "execution_count": 2,
   "id": "44a8c168-3436-48f0-9d9f-544421dcede5",
   "metadata": {},
   "outputs": [],
   "source": [
    "# load offline data\n",
    "with open('match.pkl', 'rb') as f:\n",
    "    match = pickle.load(f)"
   ]
  },
  {
   "cell_type": "markdown",
   "id": "224a19bf-6f84-489d-b98b-05b5f36b9ee2",
   "metadata": {},
   "source": [
    "### Overview"
   ]
  },
  {
   "cell_type": "code",
   "execution_count": 7,
   "id": "cddfd813-a209-4449-ae7c-6d1db1b91b54",
   "metadata": {},
   "outputs": [
    {
     "data": {
      "text/html": [
       "<div>\n",
       "<style scoped>\n",
       "    .dataframe tbody tr th:only-of-type {\n",
       "        vertical-align: middle;\n",
       "    }\n",
       "\n",
       "    .dataframe tbody tr th {\n",
       "        vertical-align: top;\n",
       "    }\n",
       "\n",
       "    .dataframe thead th {\n",
       "        text-align: right;\n",
       "    }\n",
       "</style>\n",
       "<table border=\"1\" class=\"dataframe\">\n",
       "  <thead>\n",
       "    <tr style=\"text-align: right;\">\n",
       "      <th></th>\n",
       "      <th>utcStartSeconds</th>\n",
       "      <th>utcEndSeconds</th>\n",
       "      <th>map</th>\n",
       "      <th>mode</th>\n",
       "      <th>matchID</th>\n",
       "      <th>duration</th>\n",
       "      <th>playlistName</th>\n",
       "      <th>version</th>\n",
       "      <th>gameType</th>\n",
       "      <th>playerCount</th>\n",
       "      <th>playerStats</th>\n",
       "      <th>player</th>\n",
       "      <th>teamCount</th>\n",
       "      <th>rankedTeams</th>\n",
       "      <th>draw</th>\n",
       "      <th>privateMatch</th>\n",
       "    </tr>\n",
       "  </thead>\n",
       "  <tbody>\n",
       "    <tr>\n",
       "      <th>0</th>\n",
       "      <td>1637275401</td>\n",
       "      <td>1637277038</td>\n",
       "      <td>mp_don4</td>\n",
       "      <td>br_brtrios</td>\n",
       "      <td>5010761031247628577</td>\n",
       "      <td>1637000</td>\n",
       "      <td>None</td>\n",
       "      <td>1</td>\n",
       "      <td>wz</td>\n",
       "      <td>151</td>\n",
       "      <td>{'kills': 0.0, 'medalXp': 0.0, 'matchXp': 541....</td>\n",
       "      <td>{'team': 'team_forty', 'rank': 54.0, 'awards':...</td>\n",
       "      <td>53</td>\n",
       "      <td>None</td>\n",
       "      <td>False</td>\n",
       "      <td>False</td>\n",
       "    </tr>\n",
       "    <tr>\n",
       "      <th>1</th>\n",
       "      <td>1637275401</td>\n",
       "      <td>1637277038</td>\n",
       "      <td>mp_don4</td>\n",
       "      <td>br_brtrios</td>\n",
       "      <td>5010761031247628577</td>\n",
       "      <td>1637000</td>\n",
       "      <td>None</td>\n",
       "      <td>1</td>\n",
       "      <td>wz</td>\n",
       "      <td>151</td>\n",
       "      <td>{'kills': 5.0, 'medalXp': 50.0, 'objectiveLast...</td>\n",
       "      <td>{'team': 'team_forty_four', 'rank': 54.0, 'awa...</td>\n",
       "      <td>53</td>\n",
       "      <td>None</td>\n",
       "      <td>False</td>\n",
       "      <td>False</td>\n",
       "    </tr>\n",
       "    <tr>\n",
       "      <th>2</th>\n",
       "      <td>1637275401</td>\n",
       "      <td>1637277038</td>\n",
       "      <td>mp_don4</td>\n",
       "      <td>br_brtrios</td>\n",
       "      <td>5010761031247628577</td>\n",
       "      <td>1637000</td>\n",
       "      <td>None</td>\n",
       "      <td>1</td>\n",
       "      <td>wz</td>\n",
       "      <td>151</td>\n",
       "      <td>{'kills': 0.0, 'medalXp': 0.0, 'matchXp': 1355...</td>\n",
       "      <td>{'team': 'team_forty_three', 'rank': 54.0, 'aw...</td>\n",
       "      <td>53</td>\n",
       "      <td>None</td>\n",
       "      <td>False</td>\n",
       "      <td>False</td>\n",
       "    </tr>\n",
       "    <tr>\n",
       "      <th>3</th>\n",
       "      <td>1637275401</td>\n",
       "      <td>1637277038</td>\n",
       "      <td>mp_don4</td>\n",
       "      <td>br_brtrios</td>\n",
       "      <td>5010761031247628577</td>\n",
       "      <td>1637000</td>\n",
       "      <td>None</td>\n",
       "      <td>1</td>\n",
       "      <td>wz</td>\n",
       "      <td>151</td>\n",
       "      <td>{'kills': 7.0, 'medalXp': 350.0, 'objectiveTea...</td>\n",
       "      <td>{'team': 'team_thirty_three', 'rank': 54.0, 'a...</td>\n",
       "      <td>53</td>\n",
       "      <td>None</td>\n",
       "      <td>False</td>\n",
       "      <td>False</td>\n",
       "    </tr>\n",
       "    <tr>\n",
       "      <th>4</th>\n",
       "      <td>1637275401</td>\n",
       "      <td>1637277038</td>\n",
       "      <td>mp_don4</td>\n",
       "      <td>br_brtrios</td>\n",
       "      <td>5010761031247628577</td>\n",
       "      <td>1637000</td>\n",
       "      <td>None</td>\n",
       "      <td>1</td>\n",
       "      <td>wz</td>\n",
       "      <td>151</td>\n",
       "      <td>{'kills': 1.0, 'medalXp': 30.0, 'matchXp': 819...</td>\n",
       "      <td>{'team': 'team_thirty_six', 'rank': 54.0, 'awa...</td>\n",
       "      <td>53</td>\n",
       "      <td>None</td>\n",
       "      <td>False</td>\n",
       "      <td>False</td>\n",
       "    </tr>\n",
       "  </tbody>\n",
       "</table>\n",
       "</div>"
      ],
      "text/plain": [
       "   utcStartSeconds  utcEndSeconds      map        mode              matchID  \\\n",
       "0       1637275401     1637277038  mp_don4  br_brtrios  5010761031247628577   \n",
       "1       1637275401     1637277038  mp_don4  br_brtrios  5010761031247628577   \n",
       "2       1637275401     1637277038  mp_don4  br_brtrios  5010761031247628577   \n",
       "3       1637275401     1637277038  mp_don4  br_brtrios  5010761031247628577   \n",
       "4       1637275401     1637277038  mp_don4  br_brtrios  5010761031247628577   \n",
       "\n",
       "   duration playlistName  version gameType  playerCount  \\\n",
       "0   1637000         None        1       wz          151   \n",
       "1   1637000         None        1       wz          151   \n",
       "2   1637000         None        1       wz          151   \n",
       "3   1637000         None        1       wz          151   \n",
       "4   1637000         None        1       wz          151   \n",
       "\n",
       "                                         playerStats  \\\n",
       "0  {'kills': 0.0, 'medalXp': 0.0, 'matchXp': 541....   \n",
       "1  {'kills': 5.0, 'medalXp': 50.0, 'objectiveLast...   \n",
       "2  {'kills': 0.0, 'medalXp': 0.0, 'matchXp': 1355...   \n",
       "3  {'kills': 7.0, 'medalXp': 350.0, 'objectiveTea...   \n",
       "4  {'kills': 1.0, 'medalXp': 30.0, 'matchXp': 819...   \n",
       "\n",
       "                                              player  teamCount rankedTeams  \\\n",
       "0  {'team': 'team_forty', 'rank': 54.0, 'awards':...         53        None   \n",
       "1  {'team': 'team_forty_four', 'rank': 54.0, 'awa...         53        None   \n",
       "2  {'team': 'team_forty_three', 'rank': 54.0, 'aw...         53        None   \n",
       "3  {'team': 'team_thirty_three', 'rank': 54.0, 'a...         53        None   \n",
       "4  {'team': 'team_thirty_six', 'rank': 54.0, 'awa...         53        None   \n",
       "\n",
       "    draw  privateMatch  \n",
       "0  False         False  \n",
       "1  False         False  \n",
       "2  False         False  \n",
       "3  False         False  \n",
       "4  False         False  "
      ]
     },
     "execution_count": 7,
     "metadata": {},
     "output_type": "execute_result"
    }
   ],
   "source": [
    "raw = pd.DataFrame(match)\n",
    "raw.head(5)"
   ]
  },
  {
   "cell_type": "markdown",
   "id": "06149c85-7e7e-4823-8cfe-8dc95de35f0d",
   "metadata": {},
   "source": [
    "### Focus on a single player 'row'"
   ]
  },
  {
   "cell_type": "code",
   "execution_count": 5,
   "id": "dc2a5ecc-39c6-4a0a-8edc-c38ec07103dc",
   "metadata": {},
   "outputs": [
    {
     "name": "stdout",
     "output_type": "stream",
     "text": [
      "[{'draw': False,\n",
      "  'duration': 1637000,\n",
      "  'gameType': 'wz',\n",
      "  'map': 'mp_don4',\n",
      "  'matchID': '5010761031247628577',\n",
      "  'mode': 'br_brtrios',\n",
      "  'player': {'awards': {},\n",
      "             'brMissionStats': {'missionStatsByType': {},\n",
      "                                'missionsComplete': 0,\n",
      "                                'totalMissionWeaponXpEarned': 0.0,\n",
      "                                'totalMissionXpEarned': 0.0},\n",
      "             'loadout': [{'extraPerks': [{'image': None,\n",
      "                                          'imageMainUi': None,\n",
      "                                          'imageProgression': None,\n",
      "                                          'label': None,\n",
      "                                          'name': 'specialty_covert_ops'},\n",
      "                                         {'image': None,\n",
      "                                          'imageMainUi': None,\n",
      "                                          'imageProgression': None,\n",
      "                                          'label': None,\n",
      "                                          'name': 'specialty_scavenger_plus'},\n",
      "                                         {'image': None,\n",
      "                                          'imageMainUi': None,\n",
      "                                          'imageProgression': None,\n",
      "                                          'label': None,\n",
      "                                          'name': 'specialty_hustle'}],\n",
      "                          'killstreaks': [{'label': None, 'name': 'uav'},\n",
      "                                          {'label': None,\n",
      "                                           'name': 'precision_airstrike'},\n",
      "                                          {'label': None, 'name': 'hover_jet'}],\n",
      "                          'lethal': {'image': None,\n",
      "                                     'imageLarge': None,\n",
      "                                     'label': None,\n",
      "                                     'name': 'equip_at_mine',\n",
      "                                     'progressionImage': None},\n",
      "                          'perks': [{'image': None,\n",
      "                                     'imageMainUi': None,\n",
      "                                     'imageProgression': None,\n",
      "                                     'label': None,\n",
      "                                     'name': 'specialty_eod'},\n",
      "                                    {'image': None,\n",
      "                                     'imageMainUi': None,\n",
      "                                     'imageProgression': None,\n",
      "                                     'label': None,\n",
      "                                     'name': 'specialty_munitions_2'},\n",
      "                                    {'image': None,\n",
      "                                     'imageMainUi': None,\n",
      "                                     'imageProgression': None,\n",
      "                                     'label': None,\n",
      "                                     'name': 'specialty_warhead'}],\n",
      "                          'primaryWeapon': {'attachments': [{'category': None,\n",
      "                                                             'image': None,\n",
      "                                                             'label': None,\n",
      "                                                             'name': 'gripcust'},\n",
      "                                                            {'category': None,\n",
      "                                                             'image': None,\n",
      "                                                             'label': None,\n",
      "                                                             'name': 'xmagslrg'},\n",
      "                                                            {'category': None,\n",
      "                                                             'image': None,\n",
      "                                                             'label': None,\n",
      "                                                             'name': 'acog2'},\n",
      "                                                            {'category': None,\n",
      "                                                             'image': None,\n",
      "                                                             'label': None,\n",
      "                                                             'name': 'barlong'},\n",
      "                                                            {'category': None,\n",
      "                                                             'image': None,\n",
      "                                                             'label': None,\n",
      "                                                             'name': 'silencer3'}],\n",
      "                                            'imageIcon': None,\n",
      "                                            'imageLoot': None,\n",
      "                                            'label': None,\n",
      "                                            'name': 'iw8_ar_kilo433',\n",
      "                                            'variant': '0'},\n",
      "                          'secondaryWeapon': {'attachments': [{'category': None,\n",
      "                                                               'image': None,\n",
      "                                                               'label': None,\n",
      "                                                               'name': 'none'},\n",
      "                                                              {'category': None,\n",
      "                                                               'image': None,\n",
      "                                                               'label': None,\n",
      "                                                               'name': 'stockcust'},\n",
      "                                                              {'category': None,\n",
      "                                                               'image': None,\n",
      "                                                               'label': None,\n",
      "                                                               'name': 'gripvertpro'},\n",
      "                                                              {'category': None,\n",
      "                                                               'image': None,\n",
      "                                                               'label': None,\n",
      "                                                               'name': 'barcust2'},\n",
      "                                                              {'category': None,\n",
      "                                                               'image': None,\n",
      "                                                               'label': None,\n",
      "                                                               'name': 'silencer2'}],\n",
      "                                              'imageIcon': None,\n",
      "                                              'imageLoot': None,\n",
      "                                              'label': None,\n",
      "                                              'name': 'iw8_sm_t9capacity',\n",
      "                                              'variant': '0'},\n",
      "                          'tactical': {'image': None,\n",
      "                                       'imageLarge': None,\n",
      "                                       'label': None,\n",
      "                                       'name': 'equip_hb_sensor',\n",
      "                                       'progressionImage': None}},\n",
      "                         {'extraPerks': [{'image': None,\n",
      "                                          'imageMainUi': None,\n",
      "                                          'imageProgression': None,\n",
      "                                          'label': None,\n",
      "                                          'name': 'null'},\n",
      "                                         {'image': None,\n",
      "                                          'imageMainUi': None,\n",
      "                                          'imageProgression': None,\n",
      "                                          'label': None,\n",
      "                                          'name': 'null'},\n",
      "                                         {'image': None,\n",
      "                                          'imageMainUi': None,\n",
      "                                          'imageProgression': None,\n",
      "                                          'label': None,\n",
      "                                          'name': 'null'}],\n",
      "                          'killstreaks': [{'label': None, 'name': 'none'},\n",
      "                                          {'label': None, 'name': 'none'},\n",
      "                                          {'label': None, 'name': 'none'}],\n",
      "                          'lethal': {'image': None,\n",
      "                                     'imageLarge': None,\n",
      "                                     'label': None,\n",
      "                                     'name': 'none',\n",
      "                                     'progressionImage': None},\n",
      "                          'perks': [{'image': None,\n",
      "                                     'imageMainUi': None,\n",
      "                                     'imageProgression': None,\n",
      "                                     'label': None,\n",
      "                                     'name': 'specialty_null'},\n",
      "                                    {'image': None,\n",
      "                                     'imageMainUi': None,\n",
      "                                     'imageProgression': None,\n",
      "                                     'label': None,\n",
      "                                     'name': 'specialty_null'},\n",
      "                                    {'image': None,\n",
      "                                     'imageMainUi': None,\n",
      "                                     'imageProgression': None,\n",
      "                                     'label': None,\n",
      "                                     'name': 'specialty_null'}],\n",
      "                          'primaryWeapon': {'attachments': [{'category': None,\n",
      "                                                             'image': None,\n",
      "                                                             'label': None,\n",
      "                                                             'name': 'none'},\n",
      "                                                            {'category': None,\n",
      "                                                             'image': None,\n",
      "                                                             'label': None,\n",
      "                                                             'name': 'none'},\n",
      "                                                            {'category': None,\n",
      "                                                             'image': None,\n",
      "                                                             'label': None,\n",
      "                                                             'name': 'none'},\n",
      "                                                            {'category': None,\n",
      "                                                             'image': None,\n",
      "                                                             'label': None,\n",
      "                                                             'name': 'none'},\n",
      "                                                            {'category': None,\n",
      "                                                             'image': None,\n",
      "                                                             'label': None,\n",
      "                                                             'name': 'none'}],\n",
      "                                            'imageIcon': None,\n",
      "                                            'imageLoot': None,\n",
      "                                            'label': None,\n",
      "                                            'name': 'iw8_pi_t9semiauto',\n",
      "                                            'variant': '-1'},\n",
      "                          'secondaryWeapon': {'attachments': [{'category': None,\n",
      "                                                               'image': None,\n",
      "                                                               'label': None,\n",
      "                                                               'name': 'none'},\n",
      "                                                              {'category': None,\n",
      "                                                               'image': None,\n",
      "                                                               'label': None,\n",
      "                                                               'name': 'none'},\n",
      "                                                              {'category': None,\n",
      "                                                               'image': None,\n",
      "                                                               'label': None,\n",
      "                                                               'name': 'none'},\n",
      "                                                              {'category': None,\n",
      "                                                               'image': None,\n",
      "                                                               'label': None,\n",
      "                                                               'name': 'none'},\n",
      "                                                              {'category': None,\n",
      "                                                               'image': None,\n",
      "                                                               'label': None,\n",
      "                                                               'name': 'none'}],\n",
      "                                              'imageIcon': None,\n",
      "                                              'imageLoot': None,\n",
      "                                              'label': None,\n",
      "                                              'name': 'iw8_fists',\n",
      "                                              'variant': '-1'},\n",
      "                          'tactical': {'image': None,\n",
      "                                       'imageLarge': None,\n",
      "                                       'label': None,\n",
      "                                       'name': 'none',\n",
      "                                       'progressionImage': None}}],\n",
      "             'loadouts': [{'extraPerks': [{'image': None,\n",
      "                                           'imageMainUi': None,\n",
      "                                           'imageProgression': None,\n",
      "                                           'label': None,\n",
      "                                           'name': 'specialty_covert_ops'},\n",
      "                                          {'image': None,\n",
      "                                           'imageMainUi': None,\n",
      "                                           'imageProgression': None,\n",
      "                                           'label': None,\n",
      "                                           'name': 'specialty_scavenger_plus'},\n",
      "                                          {'image': None,\n",
      "                                           'imageMainUi': None,\n",
      "                                           'imageProgression': None,\n",
      "                                           'label': None,\n",
      "                                           'name': 'specialty_hustle'}],\n",
      "                           'killstreaks': [{'label': None, 'name': 'uav'},\n",
      "                                           {'label': None,\n",
      "                                            'name': 'precision_airstrike'},\n",
      "                                           {'label': None,\n",
      "                                            'name': 'hover_jet'}],\n",
      "                           'lethal': {'image': None,\n",
      "                                      'imageLarge': None,\n",
      "                                      'label': None,\n",
      "                                      'name': 'equip_at_mine',\n",
      "                                      'progressionImage': None},\n",
      "                           'perks': [{'image': None,\n",
      "                                      'imageMainUi': None,\n",
      "                                      'imageProgression': None,\n",
      "                                      'label': None,\n",
      "                                      'name': 'specialty_eod'},\n",
      "                                     {'image': None,\n",
      "                                      'imageMainUi': None,\n",
      "                                      'imageProgression': None,\n",
      "                                      'label': None,\n",
      "                                      'name': 'specialty_munitions_2'},\n",
      "                                     {'image': None,\n",
      "                                      'imageMainUi': None,\n",
      "                                      'imageProgression': None,\n",
      "                                      'label': None,\n",
      "                                      'name': 'specialty_warhead'}],\n",
      "                           'primaryWeapon': {'attachments': [{'category': None,\n",
      "                                                              'image': None,\n",
      "                                                              'label': None,\n",
      "                                                              'name': 'gripcust'},\n",
      "                                                             {'category': None,\n",
      "                                                              'image': None,\n",
      "                                                              'label': None,\n",
      "                                                              'name': 'xmagslrg'},\n",
      "                                                             {'category': None,\n",
      "                                                              'image': None,\n",
      "                                                              'label': None,\n",
      "                                                              'name': 'acog2'},\n",
      "                                                             {'category': None,\n",
      "                                                              'image': None,\n",
      "                                                              'label': None,\n",
      "                                                              'name': 'barlong'},\n",
      "                                                             {'category': None,\n",
      "                                                              'image': None,\n",
      "                                                              'label': None,\n",
      "                                                              'name': 'silencer3'}],\n",
      "                                             'imageIcon': None,\n",
      "                                             'imageLoot': None,\n",
      "                                             'label': None,\n",
      "                                             'name': 'iw8_ar_kilo433',\n",
      "                                             'variant': '0'},\n",
      "                           'secondaryWeapon': {'attachments': [{'category': None,\n",
      "                                                                'image': None,\n",
      "                                                                'label': None,\n",
      "                                                                'name': 'none'},\n",
      "                                                               {'category': None,\n",
      "                                                                'image': None,\n",
      "                                                                'label': None,\n",
      "                                                                'name': 'stockcust'},\n",
      "                                                               {'category': None,\n",
      "                                                                'image': None,\n",
      "                                                                'label': None,\n",
      "                                                                'name': 'gripvertpro'},\n",
      "                                                               {'category': None,\n",
      "                                                                'image': None,\n",
      "                                                                'label': None,\n",
      "                                                                'name': 'barcust2'},\n",
      "                                                               {'category': None,\n",
      "                                                                'image': None,\n",
      "                                                                'label': None,\n",
      "                                                                'name': 'silencer2'}],\n",
      "                                               'imageIcon': None,\n",
      "                                               'imageLoot': None,\n",
      "                                               'label': None,\n",
      "                                               'name': 'iw8_sm_t9capacity',\n",
      "                                               'variant': '0'},\n",
      "                           'tactical': {'image': None,\n",
      "                                        'imageLarge': None,\n",
      "                                        'label': None,\n",
      "                                        'name': 'equip_hb_sensor',\n",
      "                                        'progressionImage': None}},\n",
      "                          {'extraPerks': [{'image': None,\n",
      "                                           'imageMainUi': None,\n",
      "                                           'imageProgression': None,\n",
      "                                           'label': None,\n",
      "                                           'name': 'null'},\n",
      "                                          {'image': None,\n",
      "                                           'imageMainUi': None,\n",
      "                                           'imageProgression': None,\n",
      "                                           'label': None,\n",
      "                                           'name': 'null'},\n",
      "                                          {'image': None,\n",
      "                                           'imageMainUi': None,\n",
      "                                           'imageProgression': None,\n",
      "                                           'label': None,\n",
      "                                           'name': 'null'}],\n",
      "                           'killstreaks': [{'label': None, 'name': 'none'},\n",
      "                                           {'label': None, 'name': 'none'},\n",
      "                                           {'label': None, 'name': 'none'}],\n",
      "                           'lethal': {'image': None,\n",
      "                                      'imageLarge': None,\n",
      "                                      'label': None,\n",
      "                                      'name': 'none',\n",
      "                                      'progressionImage': None},\n",
      "                           'perks': [{'image': None,\n",
      "                                      'imageMainUi': None,\n",
      "                                      'imageProgression': None,\n",
      "                                      'label': None,\n",
      "                                      'name': 'specialty_null'},\n",
      "                                     {'image': None,\n",
      "                                      'imageMainUi': None,\n",
      "                                      'imageProgression': None,\n",
      "                                      'label': None,\n",
      "                                      'name': 'specialty_null'},\n",
      "                                     {'image': None,\n",
      "                                      'imageMainUi': None,\n",
      "                                      'imageProgression': None,\n",
      "                                      'label': None,\n",
      "                                      'name': 'specialty_null'}],\n",
      "                           'primaryWeapon': {'attachments': [{'category': None,\n",
      "                                                              'image': None,\n",
      "                                                              'label': None,\n",
      "                                                              'name': 'none'},\n",
      "                                                             {'category': None,\n",
      "                                                              'image': None,\n",
      "                                                              'label': None,\n",
      "                                                              'name': 'none'},\n",
      "                                                             {'category': None,\n",
      "                                                              'image': None,\n",
      "                                                              'label': None,\n",
      "                                                              'name': 'none'},\n",
      "                                                             {'category': None,\n",
      "                                                              'image': None,\n",
      "                                                              'label': None,\n",
      "                                                              'name': 'none'},\n",
      "                                                             {'category': None,\n",
      "                                                              'image': None,\n",
      "                                                              'label': None,\n",
      "                                                              'name': 'none'}],\n",
      "                                             'imageIcon': None,\n",
      "                                             'imageLoot': None,\n",
      "                                             'label': None,\n",
      "                                             'name': 'iw8_pi_t9semiauto',\n",
      "                                             'variant': '-1'},\n",
      "                           'secondaryWeapon': {'attachments': [{'category': None,\n",
      "                                                                'image': None,\n",
      "                                                                'label': None,\n",
      "                                                                'name': 'none'},\n",
      "                                                               {'category': None,\n",
      "                                                                'image': None,\n",
      "                                                                'label': None,\n",
      "                                                                'name': 'none'},\n",
      "                                                               {'category': None,\n",
      "                                                                'image': None,\n",
      "                                                                'label': None,\n",
      "                                                                'name': 'none'},\n",
      "                                                               {'category': None,\n",
      "                                                                'image': None,\n",
      "                                                                'label': None,\n",
      "                                                                'name': 'none'},\n",
      "                                                               {'category': None,\n",
      "                                                                'image': None,\n",
      "                                                                'label': None,\n",
      "                                                                'name': 'none'}],\n",
      "                                               'imageIcon': None,\n",
      "                                               'imageLoot': None,\n",
      "                                               'label': None,\n",
      "                                               'name': 'iw8_fists',\n",
      "                                               'variant': '-1'},\n",
      "                           'tactical': {'image': None,\n",
      "                                        'imageLarge': None,\n",
      "                                        'label': None,\n",
      "                                        'name': 'none',\n",
      "                                        'progressionImage': None}}],\n",
      "             'rank': 54.0,\n",
      "             'team': 'team_forty',\n",
      "             'uno': '14316658672198631169',\n",
      "             'username': 'MOMMA BOT'},\n",
      "  'playerCount': 151,\n",
      "  'playerStats': {'assists': 0.0,\n",
      "                  'bonusXp': 0.0,\n",
      "                  'challengeXp': 0.0,\n",
      "                  'damageDone': 0.0,\n",
      "                  'damageTaken': 0.0,\n",
      "                  'deaths': 0.0,\n",
      "                  'distanceTraveled': 134374.28,\n",
      "                  'executions': 0.0,\n",
      "                  'gulagDeaths': 0.0,\n",
      "                  'gulagKills': 0.0,\n",
      "                  'headshots': 0.0,\n",
      "                  'kdRatio': 0.0,\n",
      "                  'kills': 0.0,\n",
      "                  'longestStreak': 0.0,\n",
      "                  'matchXp': 541.0,\n",
      "                  'medalXp': 0.0,\n",
      "                  'miscXp': 0.0,\n",
      "                  'nearmisses': 0.0,\n",
      "                  'percentTimeMoving': 91.66667,\n",
      "                  'rank': 54.0,\n",
      "                  'score': 0.0,\n",
      "                  'scorePerMinute': 0.0,\n",
      "                  'scoreXp': 0.0,\n",
      "                  'teamPlacement': 52.0,\n",
      "                  'teamSurvivalTime': 65472.0,\n",
      "                  'timePlayed': 83.0,\n",
      "                  'totalXp': 541.0,\n",
      "                  'wallBangs': 0.0},\n",
      "  'playlistName': None,\n",
      "  'privateMatch': False,\n",
      "  'rankedTeams': None,\n",
      "  'teamCount': 53,\n",
      "  'utcEndSeconds': 1637277038,\n",
      "  'utcStartSeconds': 1637275401,\n",
      "  'version': 1}]\n"
     ]
    }
   ],
   "source": [
    "pprint(match[0:1], depth=10)"
   ]
  },
  {
   "cell_type": "markdown",
   "id": "f231a061-6210-4eb3-9633-fd85d2d478ba",
   "metadata": {},
   "source": [
    "### 'playerStats' nested col"
   ]
  },
  {
   "cell_type": "code",
   "execution_count": 9,
   "id": "629ec1a1-02b2-44a9-8180-0b22b6f820e6",
   "metadata": {},
   "outputs": [
    {
     "data": {
      "text/html": [
       "<div>\n",
       "<style scoped>\n",
       "    .dataframe tbody tr th:only-of-type {\n",
       "        vertical-align: middle;\n",
       "    }\n",
       "\n",
       "    .dataframe tbody tr th {\n",
       "        vertical-align: top;\n",
       "    }\n",
       "\n",
       "    .dataframe thead th {\n",
       "        text-align: right;\n",
       "    }\n",
       "</style>\n",
       "<table border=\"1\" class=\"dataframe\">\n",
       "  <thead>\n",
       "    <tr style=\"text-align: right;\">\n",
       "      <th></th>\n",
       "      <th>kills</th>\n",
       "      <th>medalXp</th>\n",
       "      <th>matchXp</th>\n",
       "      <th>scoreXp</th>\n",
       "      <th>wallBangs</th>\n",
       "      <th>score</th>\n",
       "      <th>totalXp</th>\n",
       "      <th>headshots</th>\n",
       "      <th>assists</th>\n",
       "      <th>challengeXp</th>\n",
       "      <th>...</th>\n",
       "      <th>objectiveBrDownEnemyCircle4</th>\n",
       "      <th>objectiveBrDownEnemyCircle3</th>\n",
       "      <th>objectiveBrDownEnemyCircle2</th>\n",
       "      <th>objectiveBrDownEnemyCircle6</th>\n",
       "      <th>objectiveShieldDamage</th>\n",
       "      <th>objectiveBrDownEnemyCircle5</th>\n",
       "      <th>objectiveDestroyedVehicleMedium</th>\n",
       "      <th>objectiveMedalScoreKillSsRadarDrone</th>\n",
       "      <th>objectiveDestroyedEquipment</th>\n",
       "      <th>objectiveMedalScoreSsKillPrecisionAirstrike</th>\n",
       "    </tr>\n",
       "  </thead>\n",
       "  <tbody>\n",
       "    <tr>\n",
       "      <th>0</th>\n",
       "      <td>0.0</td>\n",
       "      <td>0.0</td>\n",
       "      <td>541.0</td>\n",
       "      <td>0.0</td>\n",
       "      <td>0.0</td>\n",
       "      <td>0.0</td>\n",
       "      <td>541.0</td>\n",
       "      <td>0.0</td>\n",
       "      <td>0.0</td>\n",
       "      <td>0.0</td>\n",
       "      <td>...</td>\n",
       "      <td>NaN</td>\n",
       "      <td>NaN</td>\n",
       "      <td>NaN</td>\n",
       "      <td>NaN</td>\n",
       "      <td>NaN</td>\n",
       "      <td>NaN</td>\n",
       "      <td>NaN</td>\n",
       "      <td>NaN</td>\n",
       "      <td>NaN</td>\n",
       "      <td>NaN</td>\n",
       "    </tr>\n",
       "    <tr>\n",
       "      <th>1</th>\n",
       "      <td>5.0</td>\n",
       "      <td>50.0</td>\n",
       "      <td>8610.0</td>\n",
       "      <td>7970.0</td>\n",
       "      <td>0.0</td>\n",
       "      <td>5025.0</td>\n",
       "      <td>18902.0</td>\n",
       "      <td>2.0</td>\n",
       "      <td>0.0</td>\n",
       "      <td>0.0</td>\n",
       "      <td>...</td>\n",
       "      <td>NaN</td>\n",
       "      <td>NaN</td>\n",
       "      <td>NaN</td>\n",
       "      <td>NaN</td>\n",
       "      <td>NaN</td>\n",
       "      <td>NaN</td>\n",
       "      <td>NaN</td>\n",
       "      <td>NaN</td>\n",
       "      <td>NaN</td>\n",
       "      <td>NaN</td>\n",
       "    </tr>\n",
       "    <tr>\n",
       "      <th>2</th>\n",
       "      <td>0.0</td>\n",
       "      <td>0.0</td>\n",
       "      <td>13557.0</td>\n",
       "      <td>1825.0</td>\n",
       "      <td>0.0</td>\n",
       "      <td>825.0</td>\n",
       "      <td>15407.0</td>\n",
       "      <td>0.0</td>\n",
       "      <td>1.0</td>\n",
       "      <td>0.0</td>\n",
       "      <td>...</td>\n",
       "      <td>NaN</td>\n",
       "      <td>NaN</td>\n",
       "      <td>NaN</td>\n",
       "      <td>NaN</td>\n",
       "      <td>NaN</td>\n",
       "      <td>NaN</td>\n",
       "      <td>NaN</td>\n",
       "      <td>NaN</td>\n",
       "      <td>NaN</td>\n",
       "      <td>NaN</td>\n",
       "    </tr>\n",
       "    <tr>\n",
       "      <th>3</th>\n",
       "      <td>7.0</td>\n",
       "      <td>350.0</td>\n",
       "      <td>12481.0</td>\n",
       "      <td>13500.0</td>\n",
       "      <td>0.0</td>\n",
       "      <td>10200.0</td>\n",
       "      <td>32477.0</td>\n",
       "      <td>2.0</td>\n",
       "      <td>2.0</td>\n",
       "      <td>0.0</td>\n",
       "      <td>...</td>\n",
       "      <td>1.0</td>\n",
       "      <td>3.0</td>\n",
       "      <td>2.0</td>\n",
       "      <td>NaN</td>\n",
       "      <td>NaN</td>\n",
       "      <td>NaN</td>\n",
       "      <td>NaN</td>\n",
       "      <td>NaN</td>\n",
       "      <td>NaN</td>\n",
       "      <td>NaN</td>\n",
       "    </tr>\n",
       "    <tr>\n",
       "      <th>4</th>\n",
       "      <td>1.0</td>\n",
       "      <td>30.0</td>\n",
       "      <td>8195.0</td>\n",
       "      <td>4625.0</td>\n",
       "      <td>0.0</td>\n",
       "      <td>4125.0</td>\n",
       "      <td>13165.0</td>\n",
       "      <td>1.0</td>\n",
       "      <td>1.0</td>\n",
       "      <td>0.0</td>\n",
       "      <td>...</td>\n",
       "      <td>NaN</td>\n",
       "      <td>NaN</td>\n",
       "      <td>NaN</td>\n",
       "      <td>NaN</td>\n",
       "      <td>NaN</td>\n",
       "      <td>NaN</td>\n",
       "      <td>NaN</td>\n",
       "      <td>NaN</td>\n",
       "      <td>NaN</td>\n",
       "      <td>NaN</td>\n",
       "    </tr>\n",
       "  </tbody>\n",
       "</table>\n",
       "<p>5 rows × 46 columns</p>\n",
       "</div>"
      ],
      "text/plain": [
       "   kills  medalXp  matchXp  scoreXp  wallBangs    score  totalXp  headshots  \\\n",
       "0    0.0      0.0    541.0      0.0        0.0      0.0    541.0        0.0   \n",
       "1    5.0     50.0   8610.0   7970.0        0.0   5025.0  18902.0        2.0   \n",
       "2    0.0      0.0  13557.0   1825.0        0.0    825.0  15407.0        0.0   \n",
       "3    7.0    350.0  12481.0  13500.0        0.0  10200.0  32477.0        2.0   \n",
       "4    1.0     30.0   8195.0   4625.0        0.0   4125.0  13165.0        1.0   \n",
       "\n",
       "   assists  challengeXp  ...  objectiveBrDownEnemyCircle4  \\\n",
       "0      0.0          0.0  ...                          NaN   \n",
       "1      0.0          0.0  ...                          NaN   \n",
       "2      1.0          0.0  ...                          NaN   \n",
       "3      2.0          0.0  ...                          1.0   \n",
       "4      1.0          0.0  ...                          NaN   \n",
       "\n",
       "   objectiveBrDownEnemyCircle3  objectiveBrDownEnemyCircle2  \\\n",
       "0                          NaN                          NaN   \n",
       "1                          NaN                          NaN   \n",
       "2                          NaN                          NaN   \n",
       "3                          3.0                          2.0   \n",
       "4                          NaN                          NaN   \n",
       "\n",
       "   objectiveBrDownEnemyCircle6  objectiveShieldDamage  \\\n",
       "0                          NaN                    NaN   \n",
       "1                          NaN                    NaN   \n",
       "2                          NaN                    NaN   \n",
       "3                          NaN                    NaN   \n",
       "4                          NaN                    NaN   \n",
       "\n",
       "   objectiveBrDownEnemyCircle5  objectiveDestroyedVehicleMedium  \\\n",
       "0                          NaN                              NaN   \n",
       "1                          NaN                              NaN   \n",
       "2                          NaN                              NaN   \n",
       "3                          NaN                              NaN   \n",
       "4                          NaN                              NaN   \n",
       "\n",
       "   objectiveMedalScoreKillSsRadarDrone  objectiveDestroyedEquipment  \\\n",
       "0                                  NaN                          NaN   \n",
       "1                                  NaN                          NaN   \n",
       "2                                  NaN                          NaN   \n",
       "3                                  NaN                          NaN   \n",
       "4                                  NaN                          NaN   \n",
       "\n",
       "   objectiveMedalScoreSsKillPrecisionAirstrike  \n",
       "0                                          NaN  \n",
       "1                                          NaN  \n",
       "2                                          NaN  \n",
       "3                                          NaN  \n",
       "4                                          NaN  \n",
       "\n",
       "[5 rows x 46 columns]"
      ]
     },
     "execution_count": 9,
     "metadata": {},
     "output_type": "execute_result"
    }
   ],
   "source": [
    "df = raw['playerStats'].apply(pd.Series)\n",
    "df.head(5)"
   ]
  },
  {
   "cell_type": "code",
   "execution_count": 10,
   "id": "d5c6ef82-b08a-443c-a24f-8a13aa2008b0",
   "metadata": {},
   "outputs": [
    {
     "data": {
      "text/plain": [
       "Index(['kills', 'medalXp', 'matchXp', 'scoreXp', 'wallBangs', 'score',\n",
       "       'totalXp', 'headshots', 'assists', 'challengeXp', 'rank',\n",
       "       'scorePerMinute', 'distanceTraveled', 'teamSurvivalTime', 'deaths',\n",
       "       'kdRatio', 'bonusXp', 'gulagDeaths', 'timePlayed', 'executions',\n",
       "       'gulagKills', 'nearmisses', 'percentTimeMoving', 'miscXp',\n",
       "       'longestStreak', 'teamPlacement', 'damageDone', 'damageTaken',\n",
       "       'objectiveLastStandKill', 'objectiveMunitionsBoxTeammateUsed',\n",
       "       'objectiveBrDownEnemyCircle1', 'objectiveBrMissionPickupTablet',\n",
       "       'objectiveReviver', 'objectiveBrKioskBuy', 'objectiveBrCacheOpen',\n",
       "       'objectiveTeamWiped', 'objectiveBrDownEnemyCircle4',\n",
       "       'objectiveBrDownEnemyCircle3', 'objectiveBrDownEnemyCircle2',\n",
       "       'objectiveBrDownEnemyCircle6', 'objectiveShieldDamage',\n",
       "       'objectiveBrDownEnemyCircle5', 'objectiveDestroyedVehicleMedium',\n",
       "       'objectiveMedalScoreKillSsRadarDrone', 'objectiveDestroyedEquipment',\n",
       "       'objectiveMedalScoreSsKillPrecisionAirstrike'],\n",
       "      dtype='object')"
      ]
     },
     "execution_count": 10,
     "metadata": {},
     "output_type": "execute_result"
    }
   ],
   "source": [
    "df.keys()"
   ]
  },
  {
   "cell_type": "code",
   "execution_count": 11,
   "id": "ef30540b-f539-4841-842f-d29cb68d0ae9",
   "metadata": {},
   "outputs": [],
   "source": [
    "cols_set1 = [\n",
    "    'kills',\n",
    "    'medalXp',\n",
    "    'score',\n",
    "    'matchXp',\n",
    "    'scoreXp',\n",
    "    'scorePerMinute',\n",
    "    'challengeXp',\n",
    "    'totalXp'\n",
    "]\n",
    "cols_set2 = [\n",
    "    'kills',\n",
    "     'deaths',\n",
    "     'assists',\n",
    "     'kdRatio',\n",
    "     'headshots',\n",
    "     'percentTimeMoving',\n",
    "     'nearmisses',\n",
    "     'executions',\n",
    "     'longestStreak',\n",
    "     'damageDone',\n",
    "     'damageTaken'\n",
    "]\n",
    "cols_set3 = [\n",
    "    'kills',\n",
    "    'timePlayed',\n",
    "    'distanceTraveled',\n",
    "    'teamSurvivalTime',\n",
    "    'teamPlacement'\n",
    "]\n",
    "cols_set4 = [\n",
    "    'kills',\n",
    "    'objectiveTeamWiped',\n",
    "    'objectiveLastStandKill',\n",
    "    'objectiveBrDownEnemyCircle1',\n",
    "    'objectiveBrDownEnemyCircle2',\n",
    "    'objectiveBrDownEnemyCircle3',\n",
    "    'objectiveBrDownEnemyCircle4',\n",
    "    'objectiveBrDownEnemyCircle5',\n",
    "    'objectiveBrDownEnemyCircle6',\n",
    "]\n",
    "cols_set5 = [\n",
    "    'kills',\n",
    "    'objectiveReviver',\n",
    "    'objectiveBrMissionPickupTablet',\n",
    "    'objectiveBrCacheOpen',\n",
    "    'objectiveBrKioskBuy'\n",
    "]\n",
    "cols_set5  = [\n",
    "    'kills',\n",
    "    'objectiveMunitionsBoxTeammateUsed',\n",
    "    'objectiveMedalScoreSsKillTomaStrike',\n",
    "    'objectiveDestroyedVehicleHeavy',\n",
    "    'objectiveDestroyedVehicleMedium'\n",
    "]"
   ]
  },
  {
   "cell_type": "code",
   "execution_count": 12,
   "id": "d69e334f-6cca-413d-9218-d301b2919692",
   "metadata": {},
   "outputs": [
    {
     "data": {
      "text/html": [
       "<div>\n",
       "<style scoped>\n",
       "    .dataframe tbody tr th:only-of-type {\n",
       "        vertical-align: middle;\n",
       "    }\n",
       "\n",
       "    .dataframe tbody tr th {\n",
       "        vertical-align: top;\n",
       "    }\n",
       "\n",
       "    .dataframe thead th {\n",
       "        text-align: right;\n",
       "    }\n",
       "</style>\n",
       "<table border=\"1\" class=\"dataframe\">\n",
       "  <thead>\n",
       "    <tr style=\"text-align: right;\">\n",
       "      <th></th>\n",
       "      <th>kills</th>\n",
       "      <th>medalXp</th>\n",
       "      <th>score</th>\n",
       "      <th>matchXp</th>\n",
       "      <th>scoreXp</th>\n",
       "      <th>scorePerMinute</th>\n",
       "      <th>challengeXp</th>\n",
       "      <th>totalXp</th>\n",
       "    </tr>\n",
       "  </thead>\n",
       "  <tbody>\n",
       "    <tr>\n",
       "      <th>124</th>\n",
       "      <td>15.0</td>\n",
       "      <td>705.0</td>\n",
       "      <td>12300.0</td>\n",
       "      <td>13885.0</td>\n",
       "      <td>16200.0</td>\n",
       "      <td>424.381829</td>\n",
       "      <td>0.0</td>\n",
       "      <td>38699.0</td>\n",
       "    </tr>\n",
       "    <tr>\n",
       "      <th>27</th>\n",
       "      <td>11.0</td>\n",
       "      <td>465.0</td>\n",
       "      <td>9275.0</td>\n",
       "      <td>12481.0</td>\n",
       "      <td>12300.0</td>\n",
       "      <td>382.737276</td>\n",
       "      <td>0.0</td>\n",
       "      <td>30033.0</td>\n",
       "    </tr>\n",
       "    <tr>\n",
       "      <th>18</th>\n",
       "      <td>10.0</td>\n",
       "      <td>855.0</td>\n",
       "      <td>8800.0</td>\n",
       "      <td>13740.0</td>\n",
       "      <td>11265.0</td>\n",
       "      <td>315.412186</td>\n",
       "      <td>0.0</td>\n",
       "      <td>33541.0</td>\n",
       "    </tr>\n",
       "    <tr>\n",
       "      <th>69</th>\n",
       "      <td>9.0</td>\n",
       "      <td>105.0</td>\n",
       "      <td>6325.0</td>\n",
       "      <td>11358.0</td>\n",
       "      <td>8025.0</td>\n",
       "      <td>289.915966</td>\n",
       "      <td>0.0</td>\n",
       "      <td>22282.0</td>\n",
       "    </tr>\n",
       "    <tr>\n",
       "      <th>96</th>\n",
       "      <td>9.0</td>\n",
       "      <td>305.0</td>\n",
       "      <td>4250.0</td>\n",
       "      <td>11893.0</td>\n",
       "      <td>5170.0</td>\n",
       "      <td>182.012848</td>\n",
       "      <td>0.0</td>\n",
       "      <td>20231.0</td>\n",
       "    </tr>\n",
       "    <tr>\n",
       "      <th>16</th>\n",
       "      <td>8.0</td>\n",
       "      <td>320.0</td>\n",
       "      <td>4375.0</td>\n",
       "      <td>7775.0</td>\n",
       "      <td>6275.0</td>\n",
       "      <td>304.878049</td>\n",
       "      <td>0.0</td>\n",
       "      <td>16973.0</td>\n",
       "    </tr>\n",
       "    <tr>\n",
       "      <th>138</th>\n",
       "      <td>7.0</td>\n",
       "      <td>270.0</td>\n",
       "      <td>11500.0</td>\n",
       "      <td>13885.0</td>\n",
       "      <td>15200.0</td>\n",
       "      <td>400.696864</td>\n",
       "      <td>0.0</td>\n",
       "      <td>33313.0</td>\n",
       "    </tr>\n",
       "    <tr>\n",
       "      <th>3</th>\n",
       "      <td>7.0</td>\n",
       "      <td>350.0</td>\n",
       "      <td>10200.0</td>\n",
       "      <td>12481.0</td>\n",
       "      <td>13500.0</td>\n",
       "      <td>421.197522</td>\n",
       "      <td>0.0</td>\n",
       "      <td>32477.0</td>\n",
       "    </tr>\n",
       "    <tr>\n",
       "      <th>44</th>\n",
       "      <td>7.0</td>\n",
       "      <td>330.0</td>\n",
       "      <td>6725.0</td>\n",
       "      <td>9795.0</td>\n",
       "      <td>9290.0</td>\n",
       "      <td>356.134157</td>\n",
       "      <td>0.0</td>\n",
       "      <td>23429.0</td>\n",
       "    </tr>\n",
       "    <tr>\n",
       "      <th>119</th>\n",
       "      <td>6.0</td>\n",
       "      <td>20.0</td>\n",
       "      <td>3775.0</td>\n",
       "      <td>13297.0</td>\n",
       "      <td>6215.0</td>\n",
       "      <td>136.692818</td>\n",
       "      <td>0.0</td>\n",
       "      <td>22187.0</td>\n",
       "    </tr>\n",
       "  </tbody>\n",
       "</table>\n",
       "</div>"
      ],
      "text/plain": [
       "     kills  medalXp    score  matchXp  scoreXp  scorePerMinute  challengeXp  \\\n",
       "124   15.0    705.0  12300.0  13885.0  16200.0      424.381829          0.0   \n",
       "27    11.0    465.0   9275.0  12481.0  12300.0      382.737276          0.0   \n",
       "18    10.0    855.0   8800.0  13740.0  11265.0      315.412186          0.0   \n",
       "69     9.0    105.0   6325.0  11358.0   8025.0      289.915966          0.0   \n",
       "96     9.0    305.0   4250.0  11893.0   5170.0      182.012848          0.0   \n",
       "16     8.0    320.0   4375.0   7775.0   6275.0      304.878049          0.0   \n",
       "138    7.0    270.0  11500.0  13885.0  15200.0      400.696864          0.0   \n",
       "3      7.0    350.0  10200.0  12481.0  13500.0      421.197522          0.0   \n",
       "44     7.0    330.0   6725.0   9795.0   9290.0      356.134157          0.0   \n",
       "119    6.0     20.0   3775.0  13297.0   6215.0      136.692818          0.0   \n",
       "\n",
       "     totalXp  \n",
       "124  38699.0  \n",
       "27   30033.0  \n",
       "18   33541.0  \n",
       "69   22282.0  \n",
       "96   20231.0  \n",
       "16   16973.0  \n",
       "138  33313.0  \n",
       "3    32477.0  \n",
       "44   23429.0  \n",
       "119  22187.0  "
      ]
     },
     "metadata": {},
     "output_type": "display_data"
    },
    {
     "data": {
      "text/html": [
       "<div>\n",
       "<style scoped>\n",
       "    .dataframe tbody tr th:only-of-type {\n",
       "        vertical-align: middle;\n",
       "    }\n",
       "\n",
       "    .dataframe tbody tr th {\n",
       "        vertical-align: top;\n",
       "    }\n",
       "\n",
       "    .dataframe thead th {\n",
       "        text-align: right;\n",
       "    }\n",
       "</style>\n",
       "<table border=\"1\" class=\"dataframe\">\n",
       "  <thead>\n",
       "    <tr style=\"text-align: right;\">\n",
       "      <th></th>\n",
       "      <th>kills</th>\n",
       "      <th>deaths</th>\n",
       "      <th>assists</th>\n",
       "      <th>kdRatio</th>\n",
       "      <th>headshots</th>\n",
       "      <th>percentTimeMoving</th>\n",
       "      <th>nearmisses</th>\n",
       "      <th>executions</th>\n",
       "      <th>longestStreak</th>\n",
       "      <th>damageDone</th>\n",
       "      <th>damageTaken</th>\n",
       "    </tr>\n",
       "  </thead>\n",
       "  <tbody>\n",
       "    <tr>\n",
       "      <th>124</th>\n",
       "      <td>15.0</td>\n",
       "      <td>2.0</td>\n",
       "      <td>2.0</td>\n",
       "      <td>7.500000</td>\n",
       "      <td>8.0</td>\n",
       "      <td>94.663280</td>\n",
       "      <td>0.0</td>\n",
       "      <td>0.0</td>\n",
       "      <td>7.0</td>\n",
       "      <td>5100.0</td>\n",
       "      <td>515.0</td>\n",
       "    </tr>\n",
       "    <tr>\n",
       "      <th>27</th>\n",
       "      <td>11.0</td>\n",
       "      <td>3.0</td>\n",
       "      <td>0.0</td>\n",
       "      <td>3.666667</td>\n",
       "      <td>3.0</td>\n",
       "      <td>78.717200</td>\n",
       "      <td>0.0</td>\n",
       "      <td>0.0</td>\n",
       "      <td>8.0</td>\n",
       "      <td>3931.0</td>\n",
       "      <td>830.0</td>\n",
       "    </tr>\n",
       "    <tr>\n",
       "      <th>18</th>\n",
       "      <td>10.0</td>\n",
       "      <td>1.0</td>\n",
       "      <td>1.0</td>\n",
       "      <td>10.000000</td>\n",
       "      <td>2.0</td>\n",
       "      <td>91.486664</td>\n",
       "      <td>0.0</td>\n",
       "      <td>0.0</td>\n",
       "      <td>11.0</td>\n",
       "      <td>3664.0</td>\n",
       "      <td>379.0</td>\n",
       "    </tr>\n",
       "    <tr>\n",
       "      <th>69</th>\n",
       "      <td>9.0</td>\n",
       "      <td>3.0</td>\n",
       "      <td>1.0</td>\n",
       "      <td>3.000000</td>\n",
       "      <td>3.0</td>\n",
       "      <td>83.739840</td>\n",
       "      <td>0.0</td>\n",
       "      <td>1.0</td>\n",
       "      <td>4.0</td>\n",
       "      <td>3158.0</td>\n",
       "      <td>719.0</td>\n",
       "    </tr>\n",
       "    <tr>\n",
       "      <th>96</th>\n",
       "      <td>9.0</td>\n",
       "      <td>4.0</td>\n",
       "      <td>0.0</td>\n",
       "      <td>2.250000</td>\n",
       "      <td>1.0</td>\n",
       "      <td>61.695683</td>\n",
       "      <td>0.0</td>\n",
       "      <td>0.0</td>\n",
       "      <td>5.0</td>\n",
       "      <td>3121.0</td>\n",
       "      <td>795.0</td>\n",
       "    </tr>\n",
       "    <tr>\n",
       "      <th>16</th>\n",
       "      <td>8.0</td>\n",
       "      <td>2.0</td>\n",
       "      <td>1.0</td>\n",
       "      <td>4.000000</td>\n",
       "      <td>0.0</td>\n",
       "      <td>79.081635</td>\n",
       "      <td>0.0</td>\n",
       "      <td>0.0</td>\n",
       "      <td>5.0</td>\n",
       "      <td>2025.0</td>\n",
       "      <td>400.0</td>\n",
       "    </tr>\n",
       "    <tr>\n",
       "      <th>138</th>\n",
       "      <td>7.0</td>\n",
       "      <td>2.0</td>\n",
       "      <td>1.0</td>\n",
       "      <td>3.500000</td>\n",
       "      <td>1.0</td>\n",
       "      <td>88.310036</td>\n",
       "      <td>0.0</td>\n",
       "      <td>0.0</td>\n",
       "      <td>7.0</td>\n",
       "      <td>2017.0</td>\n",
       "      <td>696.0</td>\n",
       "    </tr>\n",
       "    <tr>\n",
       "      <th>3</th>\n",
       "      <td>7.0</td>\n",
       "      <td>3.0</td>\n",
       "      <td>2.0</td>\n",
       "      <td>2.333333</td>\n",
       "      <td>2.0</td>\n",
       "      <td>87.099130</td>\n",
       "      <td>0.0</td>\n",
       "      <td>0.0</td>\n",
       "      <td>9.0</td>\n",
       "      <td>3535.0</td>\n",
       "      <td>448.0</td>\n",
       "    </tr>\n",
       "    <tr>\n",
       "      <th>44</th>\n",
       "      <td>7.0</td>\n",
       "      <td>2.0</td>\n",
       "      <td>1.0</td>\n",
       "      <td>3.500000</td>\n",
       "      <td>2.0</td>\n",
       "      <td>96.866100</td>\n",
       "      <td>0.0</td>\n",
       "      <td>0.0</td>\n",
       "      <td>9.0</td>\n",
       "      <td>2863.0</td>\n",
       "      <td>519.0</td>\n",
       "    </tr>\n",
       "    <tr>\n",
       "      <th>119</th>\n",
       "      <td>6.0</td>\n",
       "      <td>4.0</td>\n",
       "      <td>1.0</td>\n",
       "      <td>1.500000</td>\n",
       "      <td>1.0</td>\n",
       "      <td>68.615000</td>\n",
       "      <td>0.0</td>\n",
       "      <td>1.0</td>\n",
       "      <td>3.0</td>\n",
       "      <td>2610.0</td>\n",
       "      <td>870.0</td>\n",
       "    </tr>\n",
       "  </tbody>\n",
       "</table>\n",
       "</div>"
      ],
      "text/plain": [
       "     kills  deaths  assists    kdRatio  headshots  percentTimeMoving  \\\n",
       "124   15.0     2.0      2.0   7.500000        8.0          94.663280   \n",
       "27    11.0     3.0      0.0   3.666667        3.0          78.717200   \n",
       "18    10.0     1.0      1.0  10.000000        2.0          91.486664   \n",
       "69     9.0     3.0      1.0   3.000000        3.0          83.739840   \n",
       "96     9.0     4.0      0.0   2.250000        1.0          61.695683   \n",
       "16     8.0     2.0      1.0   4.000000        0.0          79.081635   \n",
       "138    7.0     2.0      1.0   3.500000        1.0          88.310036   \n",
       "3      7.0     3.0      2.0   2.333333        2.0          87.099130   \n",
       "44     7.0     2.0      1.0   3.500000        2.0          96.866100   \n",
       "119    6.0     4.0      1.0   1.500000        1.0          68.615000   \n",
       "\n",
       "     nearmisses  executions  longestStreak  damageDone  damageTaken  \n",
       "124         0.0         0.0            7.0      5100.0        515.0  \n",
       "27          0.0         0.0            8.0      3931.0        830.0  \n",
       "18          0.0         0.0           11.0      3664.0        379.0  \n",
       "69          0.0         1.0            4.0      3158.0        719.0  \n",
       "96          0.0         0.0            5.0      3121.0        795.0  \n",
       "16          0.0         0.0            5.0      2025.0        400.0  \n",
       "138         0.0         0.0            7.0      2017.0        696.0  \n",
       "3           0.0         0.0            9.0      3535.0        448.0  \n",
       "44          0.0         0.0            9.0      2863.0        519.0  \n",
       "119         0.0         1.0            3.0      2610.0        870.0  "
      ]
     },
     "metadata": {},
     "output_type": "display_data"
    },
    {
     "data": {
      "text/html": [
       "<div>\n",
       "<style scoped>\n",
       "    .dataframe tbody tr th:only-of-type {\n",
       "        vertical-align: middle;\n",
       "    }\n",
       "\n",
       "    .dataframe tbody tr th {\n",
       "        vertical-align: top;\n",
       "    }\n",
       "\n",
       "    .dataframe thead th {\n",
       "        text-align: right;\n",
       "    }\n",
       "</style>\n",
       "<table border=\"1\" class=\"dataframe\">\n",
       "  <thead>\n",
       "    <tr style=\"text-align: right;\">\n",
       "      <th></th>\n",
       "      <th>kills</th>\n",
       "      <th>timePlayed</th>\n",
       "      <th>distanceTraveled</th>\n",
       "      <th>teamSurvivalTime</th>\n",
       "      <th>teamPlacement</th>\n",
       "    </tr>\n",
       "  </thead>\n",
       "  <tbody>\n",
       "    <tr>\n",
       "      <th>124</th>\n",
       "      <td>15.0</td>\n",
       "      <td>1739.0</td>\n",
       "      <td>400737.60</td>\n",
       "      <td>1590864.0</td>\n",
       "      <td>1.0</td>\n",
       "    </tr>\n",
       "    <tr>\n",
       "      <th>27</th>\n",
       "      <td>11.0</td>\n",
       "      <td>1454.0</td>\n",
       "      <td>255787.70</td>\n",
       "      <td>1379568.0</td>\n",
       "      <td>5.0</td>\n",
       "    </tr>\n",
       "    <tr>\n",
       "      <th>18</th>\n",
       "      <td>10.0</td>\n",
       "      <td>1674.0</td>\n",
       "      <td>477212.56</td>\n",
       "      <td>1590864.0</td>\n",
       "      <td>2.0</td>\n",
       "    </tr>\n",
       "    <tr>\n",
       "      <th>69</th>\n",
       "      <td>9.0</td>\n",
       "      <td>1309.0</td>\n",
       "      <td>257282.48</td>\n",
       "      <td>1240368.0</td>\n",
       "      <td>9.0</td>\n",
       "    </tr>\n",
       "    <tr>\n",
       "      <th>96</th>\n",
       "      <td>9.0</td>\n",
       "      <td>1401.0</td>\n",
       "      <td>299802.72</td>\n",
       "      <td>1303200.0</td>\n",
       "      <td>7.0</td>\n",
       "    </tr>\n",
       "    <tr>\n",
       "      <th>16</th>\n",
       "      <td>8.0</td>\n",
       "      <td>861.0</td>\n",
       "      <td>285602.62</td>\n",
       "      <td>767712.0</td>\n",
       "      <td>21.0</td>\n",
       "    </tr>\n",
       "    <tr>\n",
       "      <th>138</th>\n",
       "      <td>7.0</td>\n",
       "      <td>1722.0</td>\n",
       "      <td>381213.94</td>\n",
       "      <td>1590864.0</td>\n",
       "      <td>1.0</td>\n",
       "    </tr>\n",
       "    <tr>\n",
       "      <th>3</th>\n",
       "      <td>7.0</td>\n",
       "      <td>1453.0</td>\n",
       "      <td>256223.30</td>\n",
       "      <td>1379568.0</td>\n",
       "      <td>5.0</td>\n",
       "    </tr>\n",
       "    <tr>\n",
       "      <th>44</th>\n",
       "      <td>7.0</td>\n",
       "      <td>1133.0</td>\n",
       "      <td>211283.34</td>\n",
       "      <td>1062624.0</td>\n",
       "      <td>15.0</td>\n",
       "    </tr>\n",
       "    <tr>\n",
       "      <th>119</th>\n",
       "      <td>6.0</td>\n",
       "      <td>1657.0</td>\n",
       "      <td>216045.05</td>\n",
       "      <td>1551600.0</td>\n",
       "      <td>4.0</td>\n",
       "    </tr>\n",
       "  </tbody>\n",
       "</table>\n",
       "</div>"
      ],
      "text/plain": [
       "     kills  timePlayed  distanceTraveled  teamSurvivalTime  teamPlacement\n",
       "124   15.0      1739.0         400737.60         1590864.0            1.0\n",
       "27    11.0      1454.0         255787.70         1379568.0            5.0\n",
       "18    10.0      1674.0         477212.56         1590864.0            2.0\n",
       "69     9.0      1309.0         257282.48         1240368.0            9.0\n",
       "96     9.0      1401.0         299802.72         1303200.0            7.0\n",
       "16     8.0       861.0         285602.62          767712.0           21.0\n",
       "138    7.0      1722.0         381213.94         1590864.0            1.0\n",
       "3      7.0      1453.0         256223.30         1379568.0            5.0\n",
       "44     7.0      1133.0         211283.34         1062624.0           15.0\n",
       "119    6.0      1657.0         216045.05         1551600.0            4.0"
      ]
     },
     "metadata": {},
     "output_type": "display_data"
    },
    {
     "data": {
      "text/html": [
       "<div>\n",
       "<style scoped>\n",
       "    .dataframe tbody tr th:only-of-type {\n",
       "        vertical-align: middle;\n",
       "    }\n",
       "\n",
       "    .dataframe tbody tr th {\n",
       "        vertical-align: top;\n",
       "    }\n",
       "\n",
       "    .dataframe thead th {\n",
       "        text-align: right;\n",
       "    }\n",
       "</style>\n",
       "<table border=\"1\" class=\"dataframe\">\n",
       "  <thead>\n",
       "    <tr style=\"text-align: right;\">\n",
       "      <th></th>\n",
       "      <th>kills</th>\n",
       "      <th>objectiveTeamWiped</th>\n",
       "      <th>objectiveLastStandKill</th>\n",
       "      <th>objectiveBrDownEnemyCircle1</th>\n",
       "      <th>objectiveBrDownEnemyCircle2</th>\n",
       "      <th>objectiveBrDownEnemyCircle3</th>\n",
       "      <th>objectiveBrDownEnemyCircle4</th>\n",
       "      <th>objectiveBrDownEnemyCircle5</th>\n",
       "      <th>objectiveBrDownEnemyCircle6</th>\n",
       "    </tr>\n",
       "  </thead>\n",
       "  <tbody>\n",
       "    <tr>\n",
       "      <th>124</th>\n",
       "      <td>15.0</td>\n",
       "      <td>5.0</td>\n",
       "      <td>9.0</td>\n",
       "      <td>8.0</td>\n",
       "      <td>3.0</td>\n",
       "      <td>1.0</td>\n",
       "      <td>NaN</td>\n",
       "      <td>2.0</td>\n",
       "      <td>3.0</td>\n",
       "    </tr>\n",
       "    <tr>\n",
       "      <th>27</th>\n",
       "      <td>11.0</td>\n",
       "      <td>5.0</td>\n",
       "      <td>4.0</td>\n",
       "      <td>7.0</td>\n",
       "      <td>NaN</td>\n",
       "      <td>6.0</td>\n",
       "      <td>NaN</td>\n",
       "      <td>NaN</td>\n",
       "      <td>NaN</td>\n",
       "    </tr>\n",
       "    <tr>\n",
       "      <th>18</th>\n",
       "      <td>10.0</td>\n",
       "      <td>2.0</td>\n",
       "      <td>8.0</td>\n",
       "      <td>5.0</td>\n",
       "      <td>1.0</td>\n",
       "      <td>1.0</td>\n",
       "      <td>NaN</td>\n",
       "      <td>2.0</td>\n",
       "      <td>1.0</td>\n",
       "    </tr>\n",
       "    <tr>\n",
       "      <th>69</th>\n",
       "      <td>9.0</td>\n",
       "      <td>2.0</td>\n",
       "      <td>4.0</td>\n",
       "      <td>7.0</td>\n",
       "      <td>1.0</td>\n",
       "      <td>1.0</td>\n",
       "      <td>NaN</td>\n",
       "      <td>NaN</td>\n",
       "      <td>NaN</td>\n",
       "    </tr>\n",
       "    <tr>\n",
       "      <th>96</th>\n",
       "      <td>9.0</td>\n",
       "      <td>1.0</td>\n",
       "      <td>6.0</td>\n",
       "      <td>10.0</td>\n",
       "      <td>1.0</td>\n",
       "      <td>NaN</td>\n",
       "      <td>NaN</td>\n",
       "      <td>NaN</td>\n",
       "      <td>NaN</td>\n",
       "    </tr>\n",
       "    <tr>\n",
       "      <th>16</th>\n",
       "      <td>8.0</td>\n",
       "      <td>3.0</td>\n",
       "      <td>4.0</td>\n",
       "      <td>7.0</td>\n",
       "      <td>NaN</td>\n",
       "      <td>NaN</td>\n",
       "      <td>NaN</td>\n",
       "      <td>NaN</td>\n",
       "      <td>NaN</td>\n",
       "    </tr>\n",
       "    <tr>\n",
       "      <th>138</th>\n",
       "      <td>7.0</td>\n",
       "      <td>5.0</td>\n",
       "      <td>3.0</td>\n",
       "      <td>4.0</td>\n",
       "      <td>1.0</td>\n",
       "      <td>1.0</td>\n",
       "      <td>1.0</td>\n",
       "      <td>NaN</td>\n",
       "      <td>NaN</td>\n",
       "    </tr>\n",
       "    <tr>\n",
       "      <th>3</th>\n",
       "      <td>7.0</td>\n",
       "      <td>4.0</td>\n",
       "      <td>6.0</td>\n",
       "      <td>2.0</td>\n",
       "      <td>2.0</td>\n",
       "      <td>3.0</td>\n",
       "      <td>1.0</td>\n",
       "      <td>NaN</td>\n",
       "      <td>NaN</td>\n",
       "    </tr>\n",
       "    <tr>\n",
       "      <th>44</th>\n",
       "      <td>7.0</td>\n",
       "      <td>NaN</td>\n",
       "      <td>7.0</td>\n",
       "      <td>4.0</td>\n",
       "      <td>3.0</td>\n",
       "      <td>NaN</td>\n",
       "      <td>NaN</td>\n",
       "      <td>NaN</td>\n",
       "      <td>NaN</td>\n",
       "    </tr>\n",
       "    <tr>\n",
       "      <th>119</th>\n",
       "      <td>6.0</td>\n",
       "      <td>1.0</td>\n",
       "      <td>6.0</td>\n",
       "      <td>4.0</td>\n",
       "      <td>NaN</td>\n",
       "      <td>2.0</td>\n",
       "      <td>NaN</td>\n",
       "      <td>NaN</td>\n",
       "      <td>1.0</td>\n",
       "    </tr>\n",
       "  </tbody>\n",
       "</table>\n",
       "</div>"
      ],
      "text/plain": [
       "     kills  objectiveTeamWiped  objectiveLastStandKill  \\\n",
       "124   15.0                 5.0                     9.0   \n",
       "27    11.0                 5.0                     4.0   \n",
       "18    10.0                 2.0                     8.0   \n",
       "69     9.0                 2.0                     4.0   \n",
       "96     9.0                 1.0                     6.0   \n",
       "16     8.0                 3.0                     4.0   \n",
       "138    7.0                 5.0                     3.0   \n",
       "3      7.0                 4.0                     6.0   \n",
       "44     7.0                 NaN                     7.0   \n",
       "119    6.0                 1.0                     6.0   \n",
       "\n",
       "     objectiveBrDownEnemyCircle1  objectiveBrDownEnemyCircle2  \\\n",
       "124                          8.0                          3.0   \n",
       "27                           7.0                          NaN   \n",
       "18                           5.0                          1.0   \n",
       "69                           7.0                          1.0   \n",
       "96                          10.0                          1.0   \n",
       "16                           7.0                          NaN   \n",
       "138                          4.0                          1.0   \n",
       "3                            2.0                          2.0   \n",
       "44                           4.0                          3.0   \n",
       "119                          4.0                          NaN   \n",
       "\n",
       "     objectiveBrDownEnemyCircle3  objectiveBrDownEnemyCircle4  \\\n",
       "124                          1.0                          NaN   \n",
       "27                           6.0                          NaN   \n",
       "18                           1.0                          NaN   \n",
       "69                           1.0                          NaN   \n",
       "96                           NaN                          NaN   \n",
       "16                           NaN                          NaN   \n",
       "138                          1.0                          1.0   \n",
       "3                            3.0                          1.0   \n",
       "44                           NaN                          NaN   \n",
       "119                          2.0                          NaN   \n",
       "\n",
       "     objectiveBrDownEnemyCircle5  objectiveBrDownEnemyCircle6  \n",
       "124                          2.0                          3.0  \n",
       "27                           NaN                          NaN  \n",
       "18                           2.0                          1.0  \n",
       "69                           NaN                          NaN  \n",
       "96                           NaN                          NaN  \n",
       "16                           NaN                          NaN  \n",
       "138                          NaN                          NaN  \n",
       "3                            NaN                          NaN  \n",
       "44                           NaN                          NaN  \n",
       "119                          NaN                          1.0  "
      ]
     },
     "metadata": {},
     "output_type": "display_data"
    },
    {
     "data": {
      "text/html": [
       "<div>\n",
       "<style scoped>\n",
       "    .dataframe tbody tr th:only-of-type {\n",
       "        vertical-align: middle;\n",
       "    }\n",
       "\n",
       "    .dataframe tbody tr th {\n",
       "        vertical-align: top;\n",
       "    }\n",
       "\n",
       "    .dataframe thead th {\n",
       "        text-align: right;\n",
       "    }\n",
       "</style>\n",
       "<table border=\"1\" class=\"dataframe\">\n",
       "  <thead>\n",
       "    <tr style=\"text-align: right;\">\n",
       "      <th></th>\n",
       "      <th>kills</th>\n",
       "      <th>objectiveMunitionsBoxTeammateUsed</th>\n",
       "      <th>objectiveDestroyedVehicleMedium</th>\n",
       "    </tr>\n",
       "  </thead>\n",
       "  <tbody>\n",
       "    <tr>\n",
       "      <th>124</th>\n",
       "      <td>15.0</td>\n",
       "      <td>NaN</td>\n",
       "      <td>NaN</td>\n",
       "    </tr>\n",
       "    <tr>\n",
       "      <th>27</th>\n",
       "      <td>11.0</td>\n",
       "      <td>NaN</td>\n",
       "      <td>NaN</td>\n",
       "    </tr>\n",
       "    <tr>\n",
       "      <th>18</th>\n",
       "      <td>10.0</td>\n",
       "      <td>2.0</td>\n",
       "      <td>NaN</td>\n",
       "    </tr>\n",
       "    <tr>\n",
       "      <th>69</th>\n",
       "      <td>9.0</td>\n",
       "      <td>NaN</td>\n",
       "      <td>NaN</td>\n",
       "    </tr>\n",
       "    <tr>\n",
       "      <th>96</th>\n",
       "      <td>9.0</td>\n",
       "      <td>NaN</td>\n",
       "      <td>NaN</td>\n",
       "    </tr>\n",
       "    <tr>\n",
       "      <th>16</th>\n",
       "      <td>8.0</td>\n",
       "      <td>NaN</td>\n",
       "      <td>NaN</td>\n",
       "    </tr>\n",
       "    <tr>\n",
       "      <th>138</th>\n",
       "      <td>7.0</td>\n",
       "      <td>NaN</td>\n",
       "      <td>NaN</td>\n",
       "    </tr>\n",
       "    <tr>\n",
       "      <th>3</th>\n",
       "      <td>7.0</td>\n",
       "      <td>NaN</td>\n",
       "      <td>NaN</td>\n",
       "    </tr>\n",
       "    <tr>\n",
       "      <th>44</th>\n",
       "      <td>7.0</td>\n",
       "      <td>1.0</td>\n",
       "      <td>NaN</td>\n",
       "    </tr>\n",
       "    <tr>\n",
       "      <th>119</th>\n",
       "      <td>6.0</td>\n",
       "      <td>NaN</td>\n",
       "      <td>NaN</td>\n",
       "    </tr>\n",
       "  </tbody>\n",
       "</table>\n",
       "</div>"
      ],
      "text/plain": [
       "     kills  objectiveMunitionsBoxTeammateUsed  objectiveDestroyedVehicleMedium\n",
       "124   15.0                                NaN                              NaN\n",
       "27    11.0                                NaN                              NaN\n",
       "18    10.0                                2.0                              NaN\n",
       "69     9.0                                NaN                              NaN\n",
       "96     9.0                                NaN                              NaN\n",
       "16     8.0                                NaN                              NaN\n",
       "138    7.0                                NaN                              NaN\n",
       "3      7.0                                NaN                              NaN\n",
       "44     7.0                                1.0                              NaN\n",
       "119    6.0                                NaN                              NaN"
      ]
     },
     "metadata": {},
     "output_type": "display_data"
    }
   ],
   "source": [
    "for set_cols in [cols_set1, cols_set2, cols_set3, cols_set4, cols_set5]:\n",
    "    # some colums (keys) not existing depending on gamemode /  or all values missing\n",
    "    set_cols = [col for col in set_cols if col in df.columns.tolist()] \n",
    "    display(df[set_cols].sort_values('kills', ascending=False).head(10))"
   ]
  },
  {
   "cell_type": "markdown",
   "id": "685761da-3459-4742-84e8-afdc4cf7c344",
   "metadata": {},
   "source": [
    "Quick notes :</br>\n",
    "- objectiveTeamWiped = teams wiped\n",
    "- objectiveLastStandKil = kills when alone in team ?? ^_o"
   ]
  },
  {
   "cell_type": "markdown",
   "id": "3172dfff-fc9b-41a7-88da-c5ab562ed466",
   "metadata": {},
   "source": [
    "### 'player' multi nested col"
   ]
  },
  {
   "cell_type": "code",
   "execution_count": 13,
   "id": "63648445-baf4-4089-a4a2-012d980db1d7",
   "metadata": {},
   "outputs": [
    {
     "data": {
      "text/html": [
       "<div>\n",
       "<style scoped>\n",
       "    .dataframe tbody tr th:only-of-type {\n",
       "        vertical-align: middle;\n",
       "    }\n",
       "\n",
       "    .dataframe tbody tr th {\n",
       "        vertical-align: top;\n",
       "    }\n",
       "\n",
       "    .dataframe thead th {\n",
       "        text-align: right;\n",
       "    }\n",
       "</style>\n",
       "<table border=\"1\" class=\"dataframe\">\n",
       "  <thead>\n",
       "    <tr style=\"text-align: right;\">\n",
       "      <th></th>\n",
       "      <th>team</th>\n",
       "      <th>rank</th>\n",
       "      <th>awards</th>\n",
       "      <th>username</th>\n",
       "      <th>uno</th>\n",
       "      <th>loadouts</th>\n",
       "      <th>brMissionStats</th>\n",
       "      <th>loadout</th>\n",
       "      <th>clantag</th>\n",
       "    </tr>\n",
       "  </thead>\n",
       "  <tbody>\n",
       "    <tr>\n",
       "      <th>0</th>\n",
       "      <td>team_forty</td>\n",
       "      <td>54.0</td>\n",
       "      <td>{}</td>\n",
       "      <td>MOMMA BOT</td>\n",
       "      <td>14316658672198631169</td>\n",
       "      <td>[{'primaryWeapon': {'name': 'iw8_ar_kilo433', ...</td>\n",
       "      <td>{'missionsComplete': 0, 'totalMissionXpEarned'...</td>\n",
       "      <td>[{'primaryWeapon': {'name': 'iw8_ar_kilo433', ...</td>\n",
       "      <td>NaN</td>\n",
       "    </tr>\n",
       "    <tr>\n",
       "      <th>1</th>\n",
       "      <td>team_forty_four</td>\n",
       "      <td>54.0</td>\n",
       "      <td>{'one_shot_kill': 352464.0, 'mode_x_eliminate'...</td>\n",
       "      <td>aak112</td>\n",
       "      <td>2663740102088488351</td>\n",
       "      <td>[{'primaryWeapon': {'name': 'iw8_ar_t9british'...</td>\n",
       "      <td>{'missionsComplete': 0, 'totalMissionXpEarned'...</td>\n",
       "      <td>[{'primaryWeapon': {'name': 'iw8_ar_t9british'...</td>\n",
       "      <td>NaN</td>\n",
       "    </tr>\n",
       "    <tr>\n",
       "      <th>2</th>\n",
       "      <td>team_forty_three</td>\n",
       "      <td>54.0</td>\n",
       "      <td>{}</td>\n",
       "      <td>Matteo_B1986</td>\n",
       "      <td>9067262784167753707</td>\n",
       "      <td>[{'primaryWeapon': {'name': 'iw8_ar_galima', '...</td>\n",
       "      <td>{'missionsComplete': 0, 'totalMissionXpEarned'...</td>\n",
       "      <td>[{'primaryWeapon': {'name': 'iw8_ar_galima', '...</td>\n",
       "      <td>NaN</td>\n",
       "    </tr>\n",
       "    <tr>\n",
       "      <th>3</th>\n",
       "      <td>team_thirty_three</td>\n",
       "      <td>54.0</td>\n",
       "      <td>{}</td>\n",
       "      <td>CarryDaTeam</td>\n",
       "      <td>8667473335152373421</td>\n",
       "      <td>[{'primaryWeapon': {'name': 'iw8_ar_t9damage',...</td>\n",
       "      <td>{'missionsComplete': 0, 'totalMissionXpEarned'...</td>\n",
       "      <td>[{'primaryWeapon': {'name': 'iw8_ar_t9damage',...</td>\n",
       "      <td>NaN</td>\n",
       "    </tr>\n",
       "    <tr>\n",
       "      <th>4</th>\n",
       "      <td>team_thirty_six</td>\n",
       "      <td>54.0</td>\n",
       "      <td>{}</td>\n",
       "      <td>KaliseDerretido</td>\n",
       "      <td>5828434415722207610</td>\n",
       "      <td>[{'primaryWeapon': {'name': 'iw8_ar_t9slowhand...</td>\n",
       "      <td>{'missionsComplete': 1, 'totalMissionXpEarned'...</td>\n",
       "      <td>[{'primaryWeapon': {'name': 'iw8_ar_t9slowhand...</td>\n",
       "      <td>NaN</td>\n",
       "    </tr>\n",
       "  </tbody>\n",
       "</table>\n",
       "</div>"
      ],
      "text/plain": [
       "                team  rank                                             awards  \\\n",
       "0         team_forty  54.0                                                 {}   \n",
       "1    team_forty_four  54.0  {'one_shot_kill': 352464.0, 'mode_x_eliminate'...   \n",
       "2   team_forty_three  54.0                                                 {}   \n",
       "3  team_thirty_three  54.0                                                 {}   \n",
       "4    team_thirty_six  54.0                                                 {}   \n",
       "\n",
       "          username                   uno  \\\n",
       "0        MOMMA BOT  14316658672198631169   \n",
       "1           aak112   2663740102088488351   \n",
       "2     Matteo_B1986   9067262784167753707   \n",
       "3      CarryDaTeam   8667473335152373421   \n",
       "4  KaliseDerretido   5828434415722207610   \n",
       "\n",
       "                                            loadouts  \\\n",
       "0  [{'primaryWeapon': {'name': 'iw8_ar_kilo433', ...   \n",
       "1  [{'primaryWeapon': {'name': 'iw8_ar_t9british'...   \n",
       "2  [{'primaryWeapon': {'name': 'iw8_ar_galima', '...   \n",
       "3  [{'primaryWeapon': {'name': 'iw8_ar_t9damage',...   \n",
       "4  [{'primaryWeapon': {'name': 'iw8_ar_t9slowhand...   \n",
       "\n",
       "                                      brMissionStats  \\\n",
       "0  {'missionsComplete': 0, 'totalMissionXpEarned'...   \n",
       "1  {'missionsComplete': 0, 'totalMissionXpEarned'...   \n",
       "2  {'missionsComplete': 0, 'totalMissionXpEarned'...   \n",
       "3  {'missionsComplete': 0, 'totalMissionXpEarned'...   \n",
       "4  {'missionsComplete': 1, 'totalMissionXpEarned'...   \n",
       "\n",
       "                                             loadout clantag  \n",
       "0  [{'primaryWeapon': {'name': 'iw8_ar_kilo433', ...     NaN  \n",
       "1  [{'primaryWeapon': {'name': 'iw8_ar_t9british'...     NaN  \n",
       "2  [{'primaryWeapon': {'name': 'iw8_ar_galima', '...     NaN  \n",
       "3  [{'primaryWeapon': {'name': 'iw8_ar_t9damage',...     NaN  \n",
       "4  [{'primaryWeapon': {'name': 'iw8_ar_t9slowhand...     NaN  "
      ]
     },
     "execution_count": 13,
     "metadata": {},
     "output_type": "execute_result"
    }
   ],
   "source": [
    "df = raw['player'].apply(pd.Series)\n",
    "df.head(5)"
   ]
  },
  {
   "cell_type": "code",
   "execution_count": 14,
   "id": "92915af4-5bb1-46ba-9389-2ed83cfbc023",
   "metadata": {},
   "outputs": [
    {
     "data": {
      "text/plain": [
       "Index(['team', 'rank', 'awards', 'username', 'uno', 'loadouts',\n",
       "       'brMissionStats', 'loadout', 'clantag'],\n",
       "      dtype='object')"
      ]
     },
     "execution_count": 14,
     "metadata": {},
     "output_type": "execute_result"
    }
   ],
   "source": [
    "df.keys()"
   ]
  },
  {
   "cell_type": "code",
   "execution_count": 15,
   "id": "17609197-d42a-408e-984e-72787d8e29d2",
   "metadata": {},
   "outputs": [
    {
     "name": "stdout",
     "output_type": "stream",
     "text": [
      "{'extraPerks': [{...}, {...}, {...}],\n",
      " 'killstreaks': [{...}, {...}, {...}],\n",
      " 'lethal': {'image': None,\n",
      "            'imageLarge': None,\n",
      "            'label': None,\n",
      "            'name': 'equip_at_mine',\n",
      "            'progressionImage': None},\n",
      " 'perks': [{...}, {...}, {...}],\n",
      " 'primaryWeapon': {'attachments': [...],\n",
      "                   'imageIcon': None,\n",
      "                   'imageLoot': None,\n",
      "                   'label': None,\n",
      "                   'name': 'iw8_ar_kilo433',\n",
      "                   'variant': '0'},\n",
      " 'secondaryWeapon': {'attachments': [...],\n",
      "                     'imageIcon': None,\n",
      "                     'imageLoot': None,\n",
      "                     'label': None,\n",
      "                     'name': 'iw8_sm_t9capacity',\n",
      "                     'variant': '0'},\n",
      " 'tactical': {'image': None,\n",
      "              'imageLarge': None,\n",
      "              'label': None,\n",
      "              'name': 'equip_hb_sensor',\n",
      "              'progressionImage': None}}\n"
     ]
    }
   ],
   "source": [
    "pprint(df['loadout'].apply(pd.Series)[0][0], depth=2)"
   ]
  },
  {
   "cell_type": "code",
   "execution_count": 16,
   "id": "d322646e-a7b3-43f9-bf37-db02132c4636",
   "metadata": {},
   "outputs": [
    {
     "name": "stdout",
     "output_type": "stream",
     "text": [
      "{'extraPerks': [{...}, {...}, {...}],\n",
      " 'killstreaks': [{...}, {...}, {...}],\n",
      " 'lethal': {'image': None,\n",
      "            'imageLarge': None,\n",
      "            'label': None,\n",
      "            'name': 'equip_at_mine',\n",
      "            'progressionImage': None},\n",
      " 'perks': [{...}, {...}, {...}],\n",
      " 'primaryWeapon': {'attachments': [...],\n",
      "                   'imageIcon': None,\n",
      "                   'imageLoot': None,\n",
      "                   'label': None,\n",
      "                   'name': 'iw8_ar_kilo433',\n",
      "                   'variant': '0'},\n",
      " 'secondaryWeapon': {'attachments': [...],\n",
      "                     'imageIcon': None,\n",
      "                     'imageLoot': None,\n",
      "                     'label': None,\n",
      "                     'name': 'iw8_sm_t9capacity',\n",
      "                     'variant': '0'},\n",
      " 'tactical': {'image': None,\n",
      "              'imageLarge': None,\n",
      "              'label': None,\n",
      "              'name': 'equip_hb_sensor',\n",
      "              'progressionImage': None}}\n"
     ]
    }
   ],
   "source": [
    "pprint(df['loadouts'].apply(pd.Series)[0][0], depth=2)"
   ]
  },
  {
   "cell_type": "code",
   "execution_count": 17,
   "id": "c00dc75b-0c9f-4c0d-bcdc-42dcc3f0cc38",
   "metadata": {},
   "outputs": [
    {
     "data": {
      "text/html": [
       "<div>\n",
       "<style scoped>\n",
       "    .dataframe tbody tr th:only-of-type {\n",
       "        vertical-align: middle;\n",
       "    }\n",
       "\n",
       "    .dataframe tbody tr th {\n",
       "        vertical-align: top;\n",
       "    }\n",
       "\n",
       "    .dataframe thead th {\n",
       "        text-align: right;\n",
       "    }\n",
       "</style>\n",
       "<table border=\"1\" class=\"dataframe\">\n",
       "  <thead>\n",
       "    <tr style=\"text-align: right;\">\n",
       "      <th></th>\n",
       "      <th>missionsComplete</th>\n",
       "      <th>totalMissionXpEarned</th>\n",
       "      <th>totalMissionWeaponXpEarned</th>\n",
       "      <th>missionStatsByType</th>\n",
       "    </tr>\n",
       "  </thead>\n",
       "  <tbody>\n",
       "    <tr>\n",
       "      <th>0</th>\n",
       "      <td>0</td>\n",
       "      <td>0.0</td>\n",
       "      <td>0.0</td>\n",
       "      <td>{}</td>\n",
       "    </tr>\n",
       "  </tbody>\n",
       "</table>\n",
       "</div>"
      ],
      "text/plain": [
       "   missionsComplete  totalMissionXpEarned  totalMissionWeaponXpEarned  \\\n",
       "0                 0                   0.0                         0.0   \n",
       "\n",
       "  missionStatsByType  \n",
       "0                 {}  "
      ]
     },
     "execution_count": 17,
     "metadata": {},
     "output_type": "execute_result"
    }
   ],
   "source": [
    "df['brMissionStats'].apply(pd.Series).head(1)"
   ]
  },
  {
   "cell_type": "code",
   "execution_count": 18,
   "id": "734275d4-dbb3-44fd-be30-f2672789161d",
   "metadata": {},
   "outputs": [
    {
     "data": {
      "text/html": [
       "<div>\n",
       "<style scoped>\n",
       "    .dataframe tbody tr th:only-of-type {\n",
       "        vertical-align: middle;\n",
       "    }\n",
       "\n",
       "    .dataframe tbody tr th {\n",
       "        vertical-align: top;\n",
       "    }\n",
       "\n",
       "    .dataframe thead th {\n",
       "        text-align: right;\n",
       "    }\n",
       "</style>\n",
       "<table border=\"1\" class=\"dataframe\">\n",
       "  <thead>\n",
       "    <tr style=\"text-align: right;\">\n",
       "      <th></th>\n",
       "      <th>scavenger</th>\n",
       "      <th>vip</th>\n",
       "      <th>timedrun</th>\n",
       "      <th>domination</th>\n",
       "      <th>assassination</th>\n",
       "      <th>blueprintextract</th>\n",
       "    </tr>\n",
       "  </thead>\n",
       "  <tbody>\n",
       "    <tr>\n",
       "      <th>0</th>\n",
       "      <td>NaN</td>\n",
       "      <td>NaN</td>\n",
       "      <td>NaN</td>\n",
       "      <td>NaN</td>\n",
       "      <td>NaN</td>\n",
       "      <td>NaN</td>\n",
       "    </tr>\n",
       "    <tr>\n",
       "      <th>1</th>\n",
       "      <td>NaN</td>\n",
       "      <td>NaN</td>\n",
       "      <td>NaN</td>\n",
       "      <td>NaN</td>\n",
       "      <td>NaN</td>\n",
       "      <td>NaN</td>\n",
       "    </tr>\n",
       "    <tr>\n",
       "      <th>2</th>\n",
       "      <td>NaN</td>\n",
       "      <td>NaN</td>\n",
       "      <td>NaN</td>\n",
       "      <td>NaN</td>\n",
       "      <td>NaN</td>\n",
       "      <td>NaN</td>\n",
       "    </tr>\n",
       "    <tr>\n",
       "      <th>3</th>\n",
       "      <td>NaN</td>\n",
       "      <td>NaN</td>\n",
       "      <td>NaN</td>\n",
       "      <td>NaN</td>\n",
       "      <td>NaN</td>\n",
       "      <td>NaN</td>\n",
       "    </tr>\n",
       "    <tr>\n",
       "      <th>4</th>\n",
       "      <td>{'weaponXp': 300.0, 'xp': 500.0, 'count': 1.0}</td>\n",
       "      <td>NaN</td>\n",
       "      <td>NaN</td>\n",
       "      <td>NaN</td>\n",
       "      <td>NaN</td>\n",
       "      <td>NaN</td>\n",
       "    </tr>\n",
       "    <tr>\n",
       "      <th>5</th>\n",
       "      <td>NaN</td>\n",
       "      <td>{'weaponXp': 400.0, 'xp': 1000.0, 'count': 1.0}</td>\n",
       "      <td>NaN</td>\n",
       "      <td>NaN</td>\n",
       "      <td>NaN</td>\n",
       "      <td>NaN</td>\n",
       "    </tr>\n",
       "    <tr>\n",
       "      <th>6</th>\n",
       "      <td>NaN</td>\n",
       "      <td>NaN</td>\n",
       "      <td>NaN</td>\n",
       "      <td>NaN</td>\n",
       "      <td>NaN</td>\n",
       "      <td>NaN</td>\n",
       "    </tr>\n",
       "    <tr>\n",
       "      <th>7</th>\n",
       "      <td>{'weaponXp': 300.0, 'xp': 500.0, 'count': 1.0}</td>\n",
       "      <td>NaN</td>\n",
       "      <td>NaN</td>\n",
       "      <td>NaN</td>\n",
       "      <td>NaN</td>\n",
       "      <td>NaN</td>\n",
       "    </tr>\n",
       "    <tr>\n",
       "      <th>8</th>\n",
       "      <td>NaN</td>\n",
       "      <td>NaN</td>\n",
       "      <td>NaN</td>\n",
       "      <td>NaN</td>\n",
       "      <td>NaN</td>\n",
       "      <td>NaN</td>\n",
       "    </tr>\n",
       "    <tr>\n",
       "      <th>9</th>\n",
       "      <td>NaN</td>\n",
       "      <td>NaN</td>\n",
       "      <td>NaN</td>\n",
       "      <td>NaN</td>\n",
       "      <td>NaN</td>\n",
       "      <td>NaN</td>\n",
       "    </tr>\n",
       "  </tbody>\n",
       "</table>\n",
       "</div>"
      ],
      "text/plain": [
       "                                        scavenger  \\\n",
       "0                                             NaN   \n",
       "1                                             NaN   \n",
       "2                                             NaN   \n",
       "3                                             NaN   \n",
       "4  {'weaponXp': 300.0, 'xp': 500.0, 'count': 1.0}   \n",
       "5                                             NaN   \n",
       "6                                             NaN   \n",
       "7  {'weaponXp': 300.0, 'xp': 500.0, 'count': 1.0}   \n",
       "8                                             NaN   \n",
       "9                                             NaN   \n",
       "\n",
       "                                               vip timedrun domination  \\\n",
       "0                                              NaN      NaN        NaN   \n",
       "1                                              NaN      NaN        NaN   \n",
       "2                                              NaN      NaN        NaN   \n",
       "3                                              NaN      NaN        NaN   \n",
       "4                                              NaN      NaN        NaN   \n",
       "5  {'weaponXp': 400.0, 'xp': 1000.0, 'count': 1.0}      NaN        NaN   \n",
       "6                                              NaN      NaN        NaN   \n",
       "7                                              NaN      NaN        NaN   \n",
       "8                                              NaN      NaN        NaN   \n",
       "9                                              NaN      NaN        NaN   \n",
       "\n",
       "  assassination blueprintextract  \n",
       "0           NaN              NaN  \n",
       "1           NaN              NaN  \n",
       "2           NaN              NaN  \n",
       "3           NaN              NaN  \n",
       "4           NaN              NaN  \n",
       "5           NaN              NaN  \n",
       "6           NaN              NaN  \n",
       "7           NaN              NaN  \n",
       "8           NaN              NaN  \n",
       "9           NaN              NaN  "
      ]
     },
     "execution_count": 18,
     "metadata": {},
     "output_type": "execute_result"
    }
   ],
   "source": [
    "df['brMissionStats'].apply(pd.Series)[['missionStatsByType']]['missionStatsByType'].apply(pd.Series).head(10)"
   ]
  },
  {
   "cell_type": "markdown",
   "id": "0c968ed4-c78a-4f86-97f1-f9c169b41842",
   "metadata": {
    "tags": []
   },
   "source": [
    "### Functions to format Match result"
   ]
  },
  {
   "cell_type": "code",
   "execution_count": 19,
   "id": "34e8c2fe-5eac-4343-8711-c54c04888d10",
   "metadata": {},
   "outputs": [],
   "source": [
    "def MatchPlayersToDf(match):\n",
    "    \"\"\"\n",
    "    Convert Match result to a DataFrame we we can perform our aggregations nicely, later.\n",
    "    Expand some entries (i.e player, playerstats) that are deeply nested.\n",
    "    Filter out / retains columns.\n",
    "    Built mainly to analyze a 'BR' match, but we made sure it should work for other match types\n",
    "    \n",
    "    Parameters\n",
    "    ----------\n",
    "    match : result from COD API \"match\" endpoint ; FYI formated as : \n",
    "        list[\n",
    "                dict{ player 1 match stats },\n",
    "                dict{ player 2 match stats },\n",
    "                dict{ +- 150 players },\n",
    "            ]\n",
    "    \n",
    "    Returns\n",
    "    -------\n",
    "    DataFrame, a match stats with players as rows, matches/player stats as columns/values\n",
    "    \"\"\"\n",
    "    \n",
    "    \n",
    "    keep_cols =  [\n",
    "        'mode',\n",
    "        'utcEndSeconds',\n",
    "        'team',\n",
    "        'username',\n",
    "        'timePlayed',\n",
    "        'teamPlacement',\n",
    "        'kdRatio', \n",
    "        'kills', \n",
    "        'deaths', \n",
    "        'assists', \n",
    "        'damageDone',\n",
    "        'damageTaken',\n",
    "        'gulagKills',\n",
    "        'percentTimeMoving',\n",
    "        'duration'\n",
    "        ]\n",
    "    \n",
    "    df = pd.DataFrame(match)\n",
    "    \n",
    "    # column playerStats is a series of dict, we can expand it easily and append, then drop the original\n",
    "    df = pd.concat([df.drop(['playerStats'], axis=1), df['playerStats'].apply(pd.Series)], axis=1)\n",
    "    \n",
    "    # colum 'player' has more depth\n",
    "    # once expanded, it has a column 'loadout' : a series of list of dict (either one or more, we will max 3)\n",
    "    # and also brMissionStats (mostly empty ?, a col only present in BR matches) that we aren't interested in\n",
    "    \n",
    "    df = pd.concat([df.drop(['player'], axis=1), df['player'].apply(pd.Series)], axis=1)\n",
    "    if 'brMissionStats' in df.columns:\n",
    "        df = df.drop(['brMissionStats'], axis = 1)\n",
    "    df = pd.concat([df.drop(['loadout'], axis=1), df['loadout'].apply(pd.Series)], axis=1)\n",
    "    for col in range(0,3):\n",
    "        if col in df.columns:\n",
    "            df[col] = df[col].apply(lambda x: f\"{x['primaryWeapon']['name']} - {x['secondaryWeapon']['name']}\" if not str(x) == 'nan' else np.nan)\n",
    "            col_name = \"loadout_\" + str(col +1)\n",
    "            df = df.rename(columns={col: f\"loadout_{str(col +1)}\"})   \n",
    "            keep_cols.append(col_name)\n",
    "    \n",
    "    # Ensure we are not throwing an error if we want to keep a column that does not exist (i.e. not in a BR match) :\n",
    "    keep_cols = [col for col in keep_cols if col in df.columns.tolist()]\n",
    "    \n",
    "    return df[keep_cols]"
   ]
  },
  {
   "cell_type": "code",
   "execution_count": 20,
   "id": "2b46b38e-ffc8-4416-8366-ef48b371e80a",
   "metadata": {},
   "outputs": [],
   "source": [
    "with open('match.pkl', 'rb') as f:\n",
    "    match = pickle.load(f)"
   ]
  },
  {
   "cell_type": "code",
   "execution_count": 21,
   "id": "e5d8bb7f-69a9-454f-9a64-f475d17fdf63",
   "metadata": {},
   "outputs": [
    {
     "data": {
      "text/html": [
       "<div>\n",
       "<style scoped>\n",
       "    .dataframe tbody tr th:only-of-type {\n",
       "        vertical-align: middle;\n",
       "    }\n",
       "\n",
       "    .dataframe tbody tr th {\n",
       "        vertical-align: top;\n",
       "    }\n",
       "\n",
       "    .dataframe thead th {\n",
       "        text-align: right;\n",
       "    }\n",
       "</style>\n",
       "<table border=\"1\" class=\"dataframe\">\n",
       "  <thead>\n",
       "    <tr style=\"text-align: right;\">\n",
       "      <th></th>\n",
       "      <th>mode</th>\n",
       "      <th>utcEndSeconds</th>\n",
       "      <th>team</th>\n",
       "      <th>username</th>\n",
       "      <th>timePlayed</th>\n",
       "      <th>teamPlacement</th>\n",
       "      <th>kdRatio</th>\n",
       "      <th>kills</th>\n",
       "      <th>deaths</th>\n",
       "      <th>assists</th>\n",
       "      <th>damageDone</th>\n",
       "      <th>damageTaken</th>\n",
       "      <th>gulagKills</th>\n",
       "      <th>percentTimeMoving</th>\n",
       "      <th>duration</th>\n",
       "      <th>loadout_1</th>\n",
       "      <th>loadout_2</th>\n",
       "      <th>loadout_3</th>\n",
       "    </tr>\n",
       "  </thead>\n",
       "  <tbody>\n",
       "    <tr>\n",
       "      <th>0</th>\n",
       "      <td>br_brtrios</td>\n",
       "      <td>1637277038</td>\n",
       "      <td>team_forty</td>\n",
       "      <td>MOMMA BOT</td>\n",
       "      <td>83.0</td>\n",
       "      <td>52.0</td>\n",
       "      <td>0.0</td>\n",
       "      <td>0.0</td>\n",
       "      <td>0.0</td>\n",
       "      <td>0.0</td>\n",
       "      <td>0.0</td>\n",
       "      <td>0.0</td>\n",
       "      <td>0.0</td>\n",
       "      <td>91.666670</td>\n",
       "      <td>1637000</td>\n",
       "      <td>iw8_ar_kilo433 - iw8_sm_t9capacity</td>\n",
       "      <td>iw8_pi_t9semiauto - iw8_fists</td>\n",
       "      <td>NaN</td>\n",
       "    </tr>\n",
       "    <tr>\n",
       "      <th>1</th>\n",
       "      <td>br_brtrios</td>\n",
       "      <td>1637277038</td>\n",
       "      <td>team_forty_four</td>\n",
       "      <td>aak112</td>\n",
       "      <td>964.0</td>\n",
       "      <td>18.0</td>\n",
       "      <td>2.5</td>\n",
       "      <td>5.0</td>\n",
       "      <td>2.0</td>\n",
       "      <td>0.0</td>\n",
       "      <td>1729.0</td>\n",
       "      <td>221.0</td>\n",
       "      <td>1.0</td>\n",
       "      <td>91.525420</td>\n",
       "      <td>1637000</td>\n",
       "      <td>iw8_ar_t9british - iw8_sm_t9cqb</td>\n",
       "      <td>NaN</td>\n",
       "      <td>NaN</td>\n",
       "    </tr>\n",
       "    <tr>\n",
       "      <th>2</th>\n",
       "      <td>br_brtrios</td>\n",
       "      <td>1637277038</td>\n",
       "      <td>team_forty_three</td>\n",
       "      <td>Matteo_B1986</td>\n",
       "      <td>1659.0</td>\n",
       "      <td>3.0</td>\n",
       "      <td>0.0</td>\n",
       "      <td>0.0</td>\n",
       "      <td>4.0</td>\n",
       "      <td>1.0</td>\n",
       "      <td>198.0</td>\n",
       "      <td>818.0</td>\n",
       "      <td>0.0</td>\n",
       "      <td>69.567986</td>\n",
       "      <td>1637000</td>\n",
       "      <td>iw8_ar_galima - iw8_sm_t9heavy</td>\n",
       "      <td>iw8_ar_t9damage - iw8_fists</td>\n",
       "      <td>iw8_lm_t9light - iw8_sm_mpapa5</td>\n",
       "    </tr>\n",
       "  </tbody>\n",
       "</table>\n",
       "</div>"
      ],
      "text/plain": [
       "         mode  utcEndSeconds              team      username  timePlayed  \\\n",
       "0  br_brtrios     1637277038        team_forty     MOMMA BOT        83.0   \n",
       "1  br_brtrios     1637277038   team_forty_four        aak112       964.0   \n",
       "2  br_brtrios     1637277038  team_forty_three  Matteo_B1986      1659.0   \n",
       "\n",
       "   teamPlacement  kdRatio  kills  deaths  assists  damageDone  damageTaken  \\\n",
       "0           52.0      0.0    0.0     0.0      0.0         0.0          0.0   \n",
       "1           18.0      2.5    5.0     2.0      0.0      1729.0        221.0   \n",
       "2            3.0      0.0    0.0     4.0      1.0       198.0        818.0   \n",
       "\n",
       "   gulagKills  percentTimeMoving  duration  \\\n",
       "0         0.0          91.666670   1637000   \n",
       "1         1.0          91.525420   1637000   \n",
       "2         0.0          69.567986   1637000   \n",
       "\n",
       "                            loadout_1                      loadout_2  \\\n",
       "0  iw8_ar_kilo433 - iw8_sm_t9capacity  iw8_pi_t9semiauto - iw8_fists   \n",
       "1     iw8_ar_t9british - iw8_sm_t9cqb                            NaN   \n",
       "2      iw8_ar_galima - iw8_sm_t9heavy    iw8_ar_t9damage - iw8_fists   \n",
       "\n",
       "                        loadout_3  \n",
       "0                             NaN  \n",
       "1                             NaN  \n",
       "2  iw8_lm_t9light - iw8_sm_mpapa5  "
      ]
     },
     "execution_count": 21,
     "metadata": {},
     "output_type": "execute_result"
    }
   ],
   "source": [
    "df_match = MatchPlayersToDf(match)\n",
    "df_match.head(3)"
   ]
  },
  {
   "cell_type": "code",
   "execution_count": 22,
   "id": "78f0034f-4146-4fab-815a-92657baf93cd",
   "metadata": {},
   "outputs": [
    {
     "data": {
      "text/html": [
       "<div>\n",
       "<style scoped>\n",
       "    .dataframe tbody tr th:only-of-type {\n",
       "        vertical-align: middle;\n",
       "    }\n",
       "\n",
       "    .dataframe tbody tr th {\n",
       "        vertical-align: top;\n",
       "    }\n",
       "\n",
       "    .dataframe thead th {\n",
       "        text-align: right;\n",
       "    }\n",
       "</style>\n",
       "<table border=\"1\" class=\"dataframe\">\n",
       "  <thead>\n",
       "    <tr style=\"text-align: right;\">\n",
       "      <th></th>\n",
       "      <th>mode</th>\n",
       "      <th>utcEndSeconds</th>\n",
       "      <th>team</th>\n",
       "      <th>username</th>\n",
       "      <th>timePlayed</th>\n",
       "      <th>teamPlacement</th>\n",
       "      <th>kdRatio</th>\n",
       "      <th>kills</th>\n",
       "      <th>deaths</th>\n",
       "      <th>assists</th>\n",
       "      <th>damageDone</th>\n",
       "      <th>damageTaken</th>\n",
       "      <th>gulagKills</th>\n",
       "      <th>percentTimeMoving</th>\n",
       "      <th>duration</th>\n",
       "      <th>loadout_1</th>\n",
       "      <th>loadout_2</th>\n",
       "      <th>loadout_3</th>\n",
       "    </tr>\n",
       "  </thead>\n",
       "  <tbody>\n",
       "  </tbody>\n",
       "</table>\n",
       "</div>"
      ],
      "text/plain": [
       "Empty DataFrame\n",
       "Columns: [mode, utcEndSeconds, team, username, timePlayed, teamPlacement, kdRatio, kills, deaths, assists, damageDone, damageTaken, gulagKills, percentTimeMoving, duration, loadout_1, loadout_2, loadout_3]\n",
       "Index: []"
      ]
     },
     "execution_count": 22,
     "metadata": {},
     "output_type": "execute_result"
    }
   ],
   "source": [
    "df_match[df_match['username'] == 'Confetti_Seeker']"
   ]
  },
  {
   "cell_type": "code",
   "execution_count": 23,
   "id": "253848d5-386a-4951-a7d8-ecbac47f0141",
   "metadata": {
    "tags": []
   },
   "outputs": [],
   "source": [
    "def MatchPlayersStandardize(df):\n",
    "    \"\"\"\n",
    "    A first layer of standadization (as properly formated) to our a \"Match with players stats\" DataFrame\n",
    "    For further aggregations / better readibility of our data\n",
    "    \n",
    "    Returns\n",
    "    -------\n",
    "    DataFrame : players/teams as rows, cleaned player stats of a given match as columns\n",
    "    \"\"\"\n",
    "    \n",
    "    int_cols =  [\n",
    "        'teamPlacement', \n",
    "        'kills', \n",
    "        'deaths', \n",
    "        'assists', \n",
    "        'gulagKills', \n",
    "        'damageDone',\n",
    "        'damageTaken'\n",
    "        ]\n",
    "    \n",
    "    float_cols = [\n",
    "        'kdRatio',\n",
    "        'percentTimeMoving'\n",
    "        ]\n",
    "    \n",
    "    ts_cols = [\n",
    "        'utcEndSeconds'\n",
    "        ]\n",
    "    \n",
    "    columns_labels = {\n",
    "        'utcEndSeconds':'Ended at',\n",
    "        'timePlayed': 'Playtime',\n",
    "        'teamPlacement':'#',\n",
    "        'kdRatio':'KD',\n",
    "        'damageDone':'Damage >',\n",
    "        'damageTaken':'Damage <',\n",
    "        'gulagKills':'Gulag',\n",
    "        'headshots':'% headshots',\n",
    "        'percentTimeMoving':'% moving',\n",
    "        'duration':'Game duration'\n",
    "        }\n",
    "\n",
    "    # Ensure we are not throwing an error if we want to keep a column that does not exist (i.e. not in a BR match) :\n",
    "    int_cols = [col for col in int_cols if col in df.columns.tolist()]\n",
    "    \n",
    "    # df = df.fillna(0)\n",
    "    # generic conversions/rounding for int and float cols\n",
    "    df[int_cols] = df[int_cols].astype(int)\n",
    "    df[float_cols] = df[float_cols].astype(float).round(1) # still renders 0.0000 in streamlit but ugly hacks exists\n",
    "    \n",
    "    # specials : timestamp, loadout columns, match type...\n",
    "    df.team = df.team.apply(lambda x: x.replace(\"team_\", \"\"))\n",
    "    df['utcEndSeconds'] = df['utcEndSeconds'].apply(lambda x: datetime.fromtimestamp(x))\n",
    "    \n",
    "    df['duration'] = df['duration'].apply(lambda x: x/1000).apply(lambda x: pd.to_datetime(x, unit='s').strftime('%M')) # API duration is in seconds x1000\n",
    "    df['timePlayed'] = df['timePlayed'].apply(lambda x: pd.to_datetime(x, unit='s').strftime('%M:%S')) # API timePlayed is in seconds\n",
    "    if 'gulagKills' in df.columns.tolist():\n",
    "        df.loc[df['mode'].isin(MODES_LABELS['battle_royale']), 'gulagKills'] = df.loc[df['mode'].isin(MODES_LABELS['battle_royale']), 'gulagKills'].map({1:'W', 0:'L'})\n",
    "        df['gulagKills'].replace(0, '-', inplace=True)\n",
    "    for col in ['loadout_1', 'loadout_2', 'loadout_3']:\n",
    "            df.fillna({col:'-'}, inplace=True) if col in df.columns else None\n",
    "    \n",
    "    for label_cat in ['battle_royale', 'multiplayer']:\n",
    "        df = df.replace({\"mode\": MODES_LABELS[label_cat]})\n",
    "    df = df.rename(columns=columns_labels)\n",
    "    df.columns = df.columns.str.capitalize()\n",
    "    df = df.rename({\"Kd\":\"KD\"}, axis=1)\n",
    "     \n",
    "    return df"
   ]
  },
  {
   "cell_type": "code",
   "execution_count": 24,
   "id": "5e47ffed-8f59-4f3c-9d0e-b1ff11b3c720",
   "metadata": {},
   "outputs": [
    {
     "data": {
      "text/html": [
       "<div>\n",
       "<style scoped>\n",
       "    .dataframe tbody tr th:only-of-type {\n",
       "        vertical-align: middle;\n",
       "    }\n",
       "\n",
       "    .dataframe tbody tr th {\n",
       "        vertical-align: top;\n",
       "    }\n",
       "\n",
       "    .dataframe thead th {\n",
       "        text-align: right;\n",
       "    }\n",
       "</style>\n",
       "<table border=\"1\" class=\"dataframe\">\n",
       "  <thead>\n",
       "    <tr style=\"text-align: right;\">\n",
       "      <th></th>\n",
       "      <th>Mode</th>\n",
       "      <th>Ended at</th>\n",
       "      <th>Team</th>\n",
       "      <th>Username</th>\n",
       "      <th>Playtime</th>\n",
       "      <th>#</th>\n",
       "      <th>KD</th>\n",
       "      <th>Kills</th>\n",
       "      <th>Deaths</th>\n",
       "      <th>Assists</th>\n",
       "      <th>Damage &gt;</th>\n",
       "      <th>Damage &lt;</th>\n",
       "      <th>Gulag</th>\n",
       "      <th>% moving</th>\n",
       "      <th>Game duration</th>\n",
       "      <th>Loadout_1</th>\n",
       "      <th>Loadout_2</th>\n",
       "      <th>Loadout_3</th>\n",
       "    </tr>\n",
       "  </thead>\n",
       "  <tbody>\n",
       "    <tr>\n",
       "      <th>148</th>\n",
       "      <td>Trios</td>\n",
       "      <td>2021-11-19 00:10:38</td>\n",
       "      <td>thirty</td>\n",
       "      <td>VeeDawg</td>\n",
       "      <td>18:56</td>\n",
       "      <td>16</td>\n",
       "      <td>1.0</td>\n",
       "      <td>2</td>\n",
       "      <td>2</td>\n",
       "      <td>2</td>\n",
       "      <td>766</td>\n",
       "      <td>575</td>\n",
       "      <td>W</td>\n",
       "      <td>91.4</td>\n",
       "      <td>27</td>\n",
       "      <td>iw8_sm_t9cqb - iw8_me_t9sai</td>\n",
       "      <td>iw8_pi_t9semiauto - iw8_fists</td>\n",
       "      <td>-</td>\n",
       "    </tr>\n",
       "    <tr>\n",
       "      <th>149</th>\n",
       "      <td>Trios</td>\n",
       "      <td>2021-11-19 00:10:38</td>\n",
       "      <td>twenty_three</td>\n",
       "      <td>cassa_17</td>\n",
       "      <td>21:44</td>\n",
       "      <td>8</td>\n",
       "      <td>0.5</td>\n",
       "      <td>1</td>\n",
       "      <td>2</td>\n",
       "      <td>0</td>\n",
       "      <td>491</td>\n",
       "      <td>560</td>\n",
       "      <td>L</td>\n",
       "      <td>52.6</td>\n",
       "      <td>27</td>\n",
       "      <td>iw8_ar_t9damage - iw8_sm_t9spray</td>\n",
       "      <td>iw8_pi_t9semiauto - iw8_fists</td>\n",
       "      <td>-</td>\n",
       "    </tr>\n",
       "    <tr>\n",
       "      <th>150</th>\n",
       "      <td>Trios</td>\n",
       "      <td>2021-11-19 00:10:38</td>\n",
       "      <td>seventeen</td>\n",
       "      <td>b3lamafia</td>\n",
       "      <td>21:49</td>\n",
       "      <td>9</td>\n",
       "      <td>2.5</td>\n",
       "      <td>5</td>\n",
       "      <td>2</td>\n",
       "      <td>2</td>\n",
       "      <td>1694</td>\n",
       "      <td>571</td>\n",
       "      <td>W</td>\n",
       "      <td>95.1</td>\n",
       "      <td>27</td>\n",
       "      <td>iw8_ar_t9slowhandling - iw8_sm_t9handling</td>\n",
       "      <td>-</td>\n",
       "      <td>-</td>\n",
       "    </tr>\n",
       "  </tbody>\n",
       "</table>\n",
       "</div>"
      ],
      "text/plain": [
       "      Mode            Ended at          Team   Username Playtime   #   KD  \\\n",
       "148  Trios 2021-11-19 00:10:38        thirty    VeeDawg    18:56  16  1.0   \n",
       "149  Trios 2021-11-19 00:10:38  twenty_three   cassa_17    21:44   8  0.5   \n",
       "150  Trios 2021-11-19 00:10:38     seventeen  b3lamafia    21:49   9  2.5   \n",
       "\n",
       "     Kills  Deaths  Assists  Damage >  Damage < Gulag  % moving Game duration  \\\n",
       "148      2       2        2       766       575     W      91.4            27   \n",
       "149      1       2        0       491       560     L      52.6            27   \n",
       "150      5       2        2      1694       571     W      95.1            27   \n",
       "\n",
       "                                     Loadout_1                      Loadout_2  \\\n",
       "148                iw8_sm_t9cqb - iw8_me_t9sai  iw8_pi_t9semiauto - iw8_fists   \n",
       "149           iw8_ar_t9damage - iw8_sm_t9spray  iw8_pi_t9semiauto - iw8_fists   \n",
       "150  iw8_ar_t9slowhandling - iw8_sm_t9handling                              -   \n",
       "\n",
       "    Loadout_3  \n",
       "148         -  \n",
       "149         -  \n",
       "150         -  "
      ]
     },
     "execution_count": 24,
     "metadata": {},
     "output_type": "execute_result"
    }
   ],
   "source": [
    "df_match = MatchPlayersToDf(match)\n",
    "df = MatchPlayersStandardize(df_match)\n",
    "df.tail(3)"
   ]
  },
  {
   "cell_type": "code",
   "execution_count": 25,
   "id": "46276fb3-94d9-416a-8d53-29a4649e3d10",
   "metadata": {},
   "outputs": [
    {
     "data": {
      "text/html": [
       "<div>\n",
       "<style scoped>\n",
       "    .dataframe tbody tr th:only-of-type {\n",
       "        vertical-align: middle;\n",
       "    }\n",
       "\n",
       "    .dataframe tbody tr th {\n",
       "        vertical-align: top;\n",
       "    }\n",
       "\n",
       "    .dataframe thead th {\n",
       "        text-align: right;\n",
       "    }\n",
       "</style>\n",
       "<table border=\"1\" class=\"dataframe\">\n",
       "  <thead>\n",
       "    <tr style=\"text-align: right;\">\n",
       "      <th></th>\n",
       "      <th>Mode</th>\n",
       "      <th>Ended at</th>\n",
       "      <th>Team</th>\n",
       "      <th>Username</th>\n",
       "      <th>Playtime</th>\n",
       "      <th>#</th>\n",
       "      <th>KD</th>\n",
       "      <th>Kills</th>\n",
       "      <th>Deaths</th>\n",
       "      <th>Assists</th>\n",
       "      <th>Damage &gt;</th>\n",
       "      <th>Damage &lt;</th>\n",
       "      <th>Gulag</th>\n",
       "      <th>% moving</th>\n",
       "      <th>Game duration</th>\n",
       "      <th>Loadout_1</th>\n",
       "      <th>Loadout_2</th>\n",
       "      <th>Loadout_3</th>\n",
       "    </tr>\n",
       "  </thead>\n",
       "  <tbody>\n",
       "  </tbody>\n",
       "</table>\n",
       "</div>"
      ],
      "text/plain": [
       "Empty DataFrame\n",
       "Columns: [Mode, Ended at, Team, Username, Playtime, #, KD, Kills, Deaths, Assists, Damage >, Damage <, Gulag, % moving, Game duration, Loadout_1, Loadout_2, Loadout_3]\n",
       "Index: []"
      ]
     },
     "execution_count": 25,
     "metadata": {},
     "output_type": "execute_result"
    }
   ],
   "source": [
    "df[df['Username'] == \"Confetti_Seeker\"]"
   ]
  },
  {
   "cell_type": "markdown",
   "id": "aa062673-bcd8-4a17-ac52-39935c67a37f",
   "metadata": {
    "tags": []
   },
   "source": [
    "### Retrieve some matche basic infos"
   ]
  },
  {
   "cell_type": "code",
   "execution_count": 26,
   "id": "c22e11e2-bed0-4f32-a645-eb371559c70d",
   "metadata": {},
   "outputs": [],
   "source": [
    "def retrieveTeam(df, gamertag):\n",
    "    \"\"\" --> df, Retrieve team name of given gamertag\"\"\"    \n",
    "    return df[df[\"Username\"] == gamertag]['Team'].tolist()[0]  \n",
    "\n",
    "def retrieveTeammates(df, gamertag):\n",
    "    \"\"\" --> df, Retrieve list of gamertag + his teammates\"\"\"  \n",
    "    team = retrieveTeam(df, gamertag)\n",
    "    return df[df[\"Team\"] == team]['Username'].tolist()\n",
    "\n",
    "def retrieveDate(df):\n",
    "    \"\"\" --> str, Retrieve end date (str) of our match \"\"\"   \n",
    "    return df['Ended at'][0].strftime('%Y-%m-%d %H:%M')\n",
    "\n",
    "def retrievePlacement(df, gamertag):\n",
    "    \"\"\" --> int, Retrieve final placement of a player/his team \"\"\"  \n",
    "    return df[df[\"Username\"] == gamertag][\"#\"].tolist()[0]\n",
    "\n",
    "def retrievePlayerKills(df, gamertag):\n",
    "    \"\"\" --> dict, Retrieve Player Kills kpis\"\"\"\n",
    "    return df[df[\"Username\"] == gamertag][[\"KD\", \"Kills\", \"Deaths\"]].to_dict('records')[0]"
   ]
  },
  {
   "cell_type": "code",
   "execution_count": 27,
   "id": "798ba1fc-b04c-459c-996d-373a2672133a",
   "metadata": {},
   "outputs": [
    {
     "data": {
      "text/html": [
       "<div>\n",
       "<style scoped>\n",
       "    .dataframe tbody tr th:only-of-type {\n",
       "        vertical-align: middle;\n",
       "    }\n",
       "\n",
       "    .dataframe tbody tr th {\n",
       "        vertical-align: top;\n",
       "    }\n",
       "\n",
       "    .dataframe thead th {\n",
       "        text-align: right;\n",
       "    }\n",
       "</style>\n",
       "<table border=\"1\" class=\"dataframe\">\n",
       "  <thead>\n",
       "    <tr style=\"text-align: right;\">\n",
       "      <th></th>\n",
       "      <th>Mode</th>\n",
       "      <th>Ended at</th>\n",
       "      <th>Team</th>\n",
       "      <th>Username</th>\n",
       "      <th>Playtime</th>\n",
       "      <th>#</th>\n",
       "      <th>KD</th>\n",
       "      <th>Kills</th>\n",
       "      <th>Deaths</th>\n",
       "      <th>Assists</th>\n",
       "      <th>Damage &gt;</th>\n",
       "      <th>Damage &lt;</th>\n",
       "      <th>Gulag</th>\n",
       "      <th>% moving</th>\n",
       "      <th>Game duration</th>\n",
       "      <th>Loadout_1</th>\n",
       "      <th>Loadout_2</th>\n",
       "      <th>Loadout_3</th>\n",
       "    </tr>\n",
       "  </thead>\n",
       "  <tbody>\n",
       "    <tr>\n",
       "      <th>0</th>\n",
       "      <td>Trios</td>\n",
       "      <td>2021-11-19 00:10:38</td>\n",
       "      <td>forty</td>\n",
       "      <td>MOMMA BOT</td>\n",
       "      <td>01:23</td>\n",
       "      <td>52</td>\n",
       "      <td>0.0</td>\n",
       "      <td>0</td>\n",
       "      <td>0</td>\n",
       "      <td>0</td>\n",
       "      <td>0</td>\n",
       "      <td>0</td>\n",
       "      <td>L</td>\n",
       "      <td>91.7</td>\n",
       "      <td>27</td>\n",
       "      <td>iw8_ar_kilo433 - iw8_sm_t9capacity</td>\n",
       "      <td>iw8_pi_t9semiauto - iw8_fists</td>\n",
       "      <td>-</td>\n",
       "    </tr>\n",
       "    <tr>\n",
       "      <th>1</th>\n",
       "      <td>Trios</td>\n",
       "      <td>2021-11-19 00:10:38</td>\n",
       "      <td>forty_four</td>\n",
       "      <td>aak112</td>\n",
       "      <td>16:04</td>\n",
       "      <td>18</td>\n",
       "      <td>2.5</td>\n",
       "      <td>5</td>\n",
       "      <td>2</td>\n",
       "      <td>0</td>\n",
       "      <td>1729</td>\n",
       "      <td>221</td>\n",
       "      <td>W</td>\n",
       "      <td>91.5</td>\n",
       "      <td>27</td>\n",
       "      <td>iw8_ar_t9british - iw8_sm_t9cqb</td>\n",
       "      <td>-</td>\n",
       "      <td>-</td>\n",
       "    </tr>\n",
       "    <tr>\n",
       "      <th>2</th>\n",
       "      <td>Trios</td>\n",
       "      <td>2021-11-19 00:10:38</td>\n",
       "      <td>forty_three</td>\n",
       "      <td>Matteo_B1986</td>\n",
       "      <td>27:39</td>\n",
       "      <td>3</td>\n",
       "      <td>0.0</td>\n",
       "      <td>0</td>\n",
       "      <td>4</td>\n",
       "      <td>1</td>\n",
       "      <td>198</td>\n",
       "      <td>818</td>\n",
       "      <td>L</td>\n",
       "      <td>69.6</td>\n",
       "      <td>27</td>\n",
       "      <td>iw8_ar_galima - iw8_sm_t9heavy</td>\n",
       "      <td>iw8_ar_t9damage - iw8_fists</td>\n",
       "      <td>iw8_lm_t9light - iw8_sm_mpapa5</td>\n",
       "    </tr>\n",
       "    <tr>\n",
       "      <th>3</th>\n",
       "      <td>Trios</td>\n",
       "      <td>2021-11-19 00:10:38</td>\n",
       "      <td>thirty_three</td>\n",
       "      <td>CarryDaTeam</td>\n",
       "      <td>24:13</td>\n",
       "      <td>5</td>\n",
       "      <td>2.3</td>\n",
       "      <td>7</td>\n",
       "      <td>3</td>\n",
       "      <td>2</td>\n",
       "      <td>3535</td>\n",
       "      <td>448</td>\n",
       "      <td>L</td>\n",
       "      <td>87.1</td>\n",
       "      <td>27</td>\n",
       "      <td>iw8_ar_t9damage - iw8_sn_kilo98</td>\n",
       "      <td>iw8_ar_t9fasthandling - iw8_fists</td>\n",
       "      <td>-</td>\n",
       "    </tr>\n",
       "    <tr>\n",
       "      <th>4</th>\n",
       "      <td>Trios</td>\n",
       "      <td>2021-11-19 00:10:38</td>\n",
       "      <td>thirty_six</td>\n",
       "      <td>KaliseDerretido</td>\n",
       "      <td>14:20</td>\n",
       "      <td>19</td>\n",
       "      <td>0.3</td>\n",
       "      <td>1</td>\n",
       "      <td>3</td>\n",
       "      <td>1</td>\n",
       "      <td>212</td>\n",
       "      <td>409</td>\n",
       "      <td>W</td>\n",
       "      <td>89.4</td>\n",
       "      <td>27</td>\n",
       "      <td>iw8_ar_t9slowhandling - iw8_pi_decho</td>\n",
       "      <td>iw8_pi_t9semiauto - iw8_fists</td>\n",
       "      <td>iw8_pi_t9semiauto - iw8_fists</td>\n",
       "    </tr>\n",
       "  </tbody>\n",
       "</table>\n",
       "</div>"
      ],
      "text/plain": [
       "    Mode            Ended at          Team         Username Playtime   #   KD  \\\n",
       "0  Trios 2021-11-19 00:10:38         forty        MOMMA BOT    01:23  52  0.0   \n",
       "1  Trios 2021-11-19 00:10:38    forty_four           aak112    16:04  18  2.5   \n",
       "2  Trios 2021-11-19 00:10:38   forty_three     Matteo_B1986    27:39   3  0.0   \n",
       "3  Trios 2021-11-19 00:10:38  thirty_three      CarryDaTeam    24:13   5  2.3   \n",
       "4  Trios 2021-11-19 00:10:38    thirty_six  KaliseDerretido    14:20  19  0.3   \n",
       "\n",
       "   Kills  Deaths  Assists  Damage >  Damage < Gulag  % moving Game duration  \\\n",
       "0      0       0        0         0         0     L      91.7            27   \n",
       "1      5       2        0      1729       221     W      91.5            27   \n",
       "2      0       4        1       198       818     L      69.6            27   \n",
       "3      7       3        2      3535       448     L      87.1            27   \n",
       "4      1       3        1       212       409     W      89.4            27   \n",
       "\n",
       "                              Loadout_1                          Loadout_2  \\\n",
       "0    iw8_ar_kilo433 - iw8_sm_t9capacity      iw8_pi_t9semiauto - iw8_fists   \n",
       "1       iw8_ar_t9british - iw8_sm_t9cqb                                  -   \n",
       "2        iw8_ar_galima - iw8_sm_t9heavy        iw8_ar_t9damage - iw8_fists   \n",
       "3       iw8_ar_t9damage - iw8_sn_kilo98  iw8_ar_t9fasthandling - iw8_fists   \n",
       "4  iw8_ar_t9slowhandling - iw8_pi_decho      iw8_pi_t9semiauto - iw8_fists   \n",
       "\n",
       "                        Loadout_3  \n",
       "0                               -  \n",
       "1                               -  \n",
       "2  iw8_lm_t9light - iw8_sm_mpapa5  \n",
       "3                               -  \n",
       "4   iw8_pi_t9semiauto - iw8_fists  "
      ]
     },
     "execution_count": 27,
     "metadata": {},
     "output_type": "execute_result"
    }
   ],
   "source": [
    "df.head()"
   ]
  },
  {
   "cell_type": "code",
   "execution_count": 30,
   "id": "591ef14b-50f1-4ba8-b29b-e9f91e2983c6",
   "metadata": {},
   "outputs": [
    {
     "name": "stdout",
     "output_type": "stream",
     "text": [
      "twenty_seven ['nicoyzovitch', 'gentil_renard', 'Moinolol']\n"
     ]
    }
   ],
   "source": [
    "gamertag = \"gentil_renard\"# \"gentil_renard\"\n",
    "team = retrieveTeam(df, gamertag)\n",
    "teammates = retrieveTeammates(df, gamertag)\n",
    "print(team, teammates)"
   ]
  },
  {
   "cell_type": "code",
   "execution_count": 31,
   "id": "7b7ac389-67fe-41da-a098-0ed81addca59",
   "metadata": {},
   "outputs": [
    {
     "data": {
      "text/plain": [
       "11"
      ]
     },
     "execution_count": 31,
     "metadata": {},
     "output_type": "execute_result"
    }
   ],
   "source": [
    "placement = retrievePlacement(df, gamertag)\n",
    "placement"
   ]
  },
  {
   "cell_type": "code",
   "execution_count": 32,
   "id": "8d446891-ce1c-42ed-8e9e-7ca0c169a986",
   "metadata": {},
   "outputs": [
    {
     "data": {
      "text/plain": [
       "{'KD': 0.2, 'Kills': 1, 'Deaths': 4}"
      ]
     },
     "execution_count": 32,
     "metadata": {},
     "output_type": "execute_result"
    }
   ],
   "source": [
    "player_kills = retrievePlayerKills(df, gamertag)\n",
    "player_kills"
   ]
  },
  {
   "cell_type": "markdown",
   "id": "8030439d-0cb9-40f0-baa1-9a0f65673537",
   "metadata": {},
   "source": [
    "### Sandbox Weapons cleaning"
   ]
  },
  {
   "cell_type": "code",
   "execution_count": 33,
   "id": "c006d0d9-e17a-48d0-aa03-dc11fde0f577",
   "metadata": {},
   "outputs": [],
   "source": [
    "WEAPONS_CAT_PREFIX = ['iw8_']\n",
    "WEAPONS_CAT = [\"ar\", \"lm\", \"sm\", \"pi\", \"sn\", \"la\", \"sh\", \"me\"]\n",
    "CW_WEAPONS_CAT_SUFFIX = ['_t9']\n",
    "\n",
    "WEAPONS_CAT_LABELS = {\n",
    "    'ar':'Ar',\n",
    "    'lm':'Lmg',\n",
    "    'sm':'Smg',\n",
    "    'pi':'Pistol',\n",
    "    'sn':'Sniper',\n",
    "    'la':'Launcher',\n",
    "    'sh':'Shotgun',\n",
    "    'me':'Melee'\n",
    "}\n",
    "\n",
    "WEAPONS_LABELS = {\n",
    "    'ar_falima': 'FAL',\n",
    "    'ar_mcharlie': 'M13',\n",
    "    'ar_mike4': 'M4A1',\n",
    "    'ar_sierra552': 'Grau 5.56',\n",
    "    'ar_t9british': 'EM2',\n",
    "    'ar_t9damage': 'AK-47 cw',\n",
    "    'ar_t9fastfire': 'FFAR',\n",
    "    'ar_t9season6': 'ground AR',\n",
    "    'ar_t9slowfire': 'C58',\n",
    "    'ar_t9slowhandling': 'Fara83',\n",
    "    'ar_t9standard': 'XM4',\n",
    "    'ar_tango21': 'RAM-7',\n",
    "    'ar_valpha': 'ASVAL',\n",
    "    'la_gromeo': 'Pila',\n",
    "    'la_kgolf': 'Strela',\n",
    "    'la_rpapa7': 'RPG-7 mw',\n",
    "    'la_t9freefire': 'RPG-7 cw',\n",
    "    'la_t9season6': 'ground launcher',\n",
    "    'lm_t9fastfire': 'MG82',\n",
    "    'lm_t9light': 'RPD',\n",
    "    'lm_t9season6': 'ground lmg?',\n",
    "    'me_riotshield': 'Shield',\n",
    "    'me_t9machete': 'Machete',\n",
    "    'me_t9sai': 'Sai',\n",
    "    'pi_t9burst': 'Diamatti',\n",
    "    'pi_t9season6': 'ground pistol',\n",
    "    'pi_mike1911':'M19',\n",
    "    'pi_t9semiauto': 'Pistol',\n",
    "    'sh_aalpha12': 'JAK-12',\n",
    "    'sh_dpapa12': 'R9-0',\n",
    "    'sh_t9season6': 'ground shotgun',\n",
    "    'sm_t9semiauto': 'TEC-9',\n",
    "    'sm_mpapa7': 'MP7',\n",
    "    'sm_mpapa5': 'MP5 mw',\n",
    "    'sm_t9accurate': 'LC10',\n",
    "    'sm_t9capacity': 'Bullfrog',\n",
    "    'sm_t9cqb': 'OTs 9',\n",
    "    'sm_t9fastfire': 'MAC-10',\n",
    "    'sm_t9handling': 'Milano',\n",
    "    'sm_t9season6': 'ground smg',\n",
    "    'sm_t9spray': 'ppsh',\n",
    "    'sm_t9standard': 'MP5 cw',\n",
    "    'sm_t9heavy': 'AK-74u',\n",
    "    'sm_uzulu': 'UZI',\n",
    "    'sn_alpha50': 'AX-50',\n",
    "    'sn_cannon': 'ZRG',\n",
    "    'sn_hdromeo': 'HDR',\n",
    "    'sn_kilo98': 'Kar98',\n",
    "    'sn_romeo700': 'SP-R',\n",
    "    'sn_t9accurate': 'K31',\n",
    "    'sn_t9powersemi': 'M82',\n",
    "    'sn_t9season6': 'ground sniper'\n",
    "    }\n",
    "\n",
    "WEAPONS_LABELS = dict(sorted(WEAPONS_LABELS.items()))"
   ]
  },
  {
   "cell_type": "code",
   "execution_count": 34,
   "id": "b6d934eb-1b47-4697-aaf3-8e30e4cf45da",
   "metadata": {},
   "outputs": [
    {
     "data": {
      "text/plain": [
       "{'ar_falima': 'FAL',\n",
       " 'ar_mcharlie': 'M13',\n",
       " 'ar_mike4': 'M4A1',\n",
       " 'ar_sierra552': 'Grau 5.56',\n",
       " 'ar_t9british': 'EM2',\n",
       " 'ar_t9damage': 'AK-47 cw',\n",
       " 'ar_t9fastfire': 'FFAR',\n",
       " 'ar_t9season6': 'ground AR',\n",
       " 'ar_t9slowfire': 'C58',\n",
       " 'ar_t9slowhandling': 'Fara83',\n",
       " 'ar_t9standard': 'XM4',\n",
       " 'ar_tango21': 'RAM-7',\n",
       " 'ar_valpha': 'ASVAL',\n",
       " 'la_gromeo': 'Pila',\n",
       " 'la_kgolf': 'Strela',\n",
       " 'la_rpapa7': 'RPG-7 mw',\n",
       " 'la_t9freefire': 'RPG-7 cw',\n",
       " 'la_t9season6': 'ground launcher',\n",
       " 'lm_t9fastfire': 'MG82',\n",
       " 'lm_t9light': 'RPD',\n",
       " 'lm_t9season6': 'ground lmg?',\n",
       " 'me_riotshield': 'Shield',\n",
       " 'me_t9machete': 'Machete',\n",
       " 'me_t9sai': 'Sai',\n",
       " 'pi_mike1911': 'M19',\n",
       " 'pi_t9burst': 'Diamatti',\n",
       " 'pi_t9season6': 'ground pistol',\n",
       " 'pi_t9semiauto': 'Pistol',\n",
       " 'sh_aalpha12': 'JAK-12',\n",
       " 'sh_dpapa12': 'R9-0',\n",
       " 'sh_t9season6': 'ground shotgun',\n",
       " 'sm_mpapa5': 'MP5 mw',\n",
       " 'sm_mpapa7': 'MP7',\n",
       " 'sm_t9accurate': 'LC10',\n",
       " 'sm_t9capacity': 'Bullfrog',\n",
       " 'sm_t9cqb': 'OTs 9',\n",
       " 'sm_t9fastfire': 'MAC-10',\n",
       " 'sm_t9handling': 'Milano',\n",
       " 'sm_t9heavy': 'AK-74u',\n",
       " 'sm_t9season6': 'ground smg',\n",
       " 'sm_t9semiauto': 'TEC-9',\n",
       " 'sm_t9spray': 'ppsh',\n",
       " 'sm_t9standard': 'MP5 cw',\n",
       " 'sm_uzulu': 'UZI',\n",
       " 'sn_alpha50': 'AX-50',\n",
       " 'sn_cannon': 'ZRG',\n",
       " 'sn_hdromeo': 'HDR',\n",
       " 'sn_kilo98': 'Kar98',\n",
       " 'sn_romeo700': 'SP-R',\n",
       " 'sn_t9accurate': 'K31',\n",
       " 'sn_t9powersemi': 'M82',\n",
       " 'sn_t9season6': 'ground sniper'}"
      ]
     },
     "execution_count": 34,
     "metadata": {},
     "output_type": "execute_result"
    }
   ],
   "source": [
    "WEAPONS_LABELS"
   ]
  },
  {
   "cell_type": "code",
   "execution_count": 35,
   "id": "cf70f3ea-d0c5-4db5-b08f-efdd5ae5b5ef",
   "metadata": {},
   "outputs": [],
   "source": [
    "# load offline data\n",
    "open_file = open(\"match.pkl\", \"rb\")\n",
    "match = pickle.load(open_file)\n",
    "df_match = MatchPlayersToDf(match)\n",
    "df = MatchPlayersStandardize(df_match)\n",
    "open_file.close()"
   ]
  },
  {
   "cell_type": "code",
   "execution_count": 36,
   "id": "88d07470-dff2-4eb1-9e51-5c0f42480e77",
   "metadata": {},
   "outputs": [
    {
     "data": {
      "text/plain": [
       "'2021-11-19 00:10'"
      ]
     },
     "execution_count": 36,
     "metadata": {},
     "output_type": "execute_result"
    }
   ],
   "source": [
    "date = retrieveDate(df)\n",
    "date"
   ]
  },
  {
   "cell_type": "code",
   "execution_count": 38,
   "id": "f8f7d378-c789-47d9-8f0b-c2729865cbb7",
   "metadata": {},
   "outputs": [
    {
     "data": {
      "text/html": [
       "<div>\n",
       "<style scoped>\n",
       "    .dataframe tbody tr th:only-of-type {\n",
       "        vertical-align: middle;\n",
       "    }\n",
       "\n",
       "    .dataframe tbody tr th {\n",
       "        vertical-align: top;\n",
       "    }\n",
       "\n",
       "    .dataframe thead th {\n",
       "        text-align: right;\n",
       "    }\n",
       "</style>\n",
       "<table border=\"1\" class=\"dataframe\">\n",
       "  <thead>\n",
       "    <tr style=\"text-align: right;\">\n",
       "      <th></th>\n",
       "      <th>Mode</th>\n",
       "      <th>Ended at</th>\n",
       "      <th>Team</th>\n",
       "      <th>Username</th>\n",
       "      <th>Playtime</th>\n",
       "      <th>#</th>\n",
       "      <th>KD</th>\n",
       "      <th>Kills</th>\n",
       "      <th>Deaths</th>\n",
       "      <th>Assists</th>\n",
       "      <th>Damage &gt;</th>\n",
       "      <th>Damage &lt;</th>\n",
       "      <th>Gulag</th>\n",
       "      <th>% moving</th>\n",
       "      <th>Game duration</th>\n",
       "      <th>Loadout_1</th>\n",
       "      <th>Loadout_2</th>\n",
       "      <th>Loadout_3</th>\n",
       "    </tr>\n",
       "  </thead>\n",
       "  <tbody>\n",
       "    <tr>\n",
       "      <th>63</th>\n",
       "      <td>Trios</td>\n",
       "      <td>2021-11-19 00:10:38</td>\n",
       "      <td>twenty_seven</td>\n",
       "      <td>gentil_renard</td>\n",
       "      <td>21:48</td>\n",
       "      <td>11</td>\n",
       "      <td>0.2</td>\n",
       "      <td>1</td>\n",
       "      <td>4</td>\n",
       "      <td>1</td>\n",
       "      <td>948</td>\n",
       "      <td>932</td>\n",
       "      <td>L</td>\n",
       "      <td>74.4</td>\n",
       "      <td>27</td>\n",
       "      <td>iw8_ar_valpha - iw8_sn_t9accurate</td>\n",
       "      <td>iw8_ar_t9season6 - iw8_fists</td>\n",
       "      <td>-</td>\n",
       "    </tr>\n",
       "  </tbody>\n",
       "</table>\n",
       "</div>"
      ],
      "text/plain": [
       "     Mode            Ended at          Team       Username Playtime   #   KD  \\\n",
       "63  Trios 2021-11-19 00:10:38  twenty_seven  gentil_renard    21:48  11  0.2   \n",
       "\n",
       "    Kills  Deaths  Assists  Damage >  Damage < Gulag  % moving Game duration  \\\n",
       "63      1       4        1       948       932     L      74.4            27   \n",
       "\n",
       "                            Loadout_1                     Loadout_2 Loadout_3  \n",
       "63  iw8_ar_valpha - iw8_sn_t9accurate  iw8_ar_t9season6 - iw8_fists         -  "
      ]
     },
     "execution_count": 38,
     "metadata": {},
     "output_type": "execute_result"
    }
   ],
   "source": [
    "df[df['Username'] == 'gentil_renard']"
   ]
  },
  {
   "cell_type": "code",
   "execution_count": 39,
   "id": "ef41419c-112f-4982-855a-b6c2bd5cddae",
   "metadata": {},
   "outputs": [
    {
     "data": {
      "text/plain": [
       "['iw8_ar_kilo433 - iw8_sm_t9capacity',\n",
       " 'iw8_ar_t9british - iw8_sm_t9cqb',\n",
       " 'iw8_ar_galima - iw8_sm_t9heavy',\n",
       " 'iw8_ar_t9damage - iw8_sn_kilo98',\n",
       " 'iw8_ar_t9slowhandling - iw8_pi_decho',\n",
       " 'iw8_sm_t9cqb - iw8_sn_kilo98',\n",
       " 'iw8_ar_mcharlie - iw8_sn_kilo98',\n",
       " 'iw8_sm_t9cqb - iw8_sn_t9accurate',\n",
       " 'iw8_ar_mcharlie - iw8_sn_t9accurate',\n",
       " 'iw8_ar_t9slowhandling - iw8_sm_t9fastfire',\n",
       " 'iw8_sm_t9cqb - iw8_ar_t9slowfire',\n",
       " 'iw8_ar_anovember94 - iw8_knife',\n",
       " 'iw8_sn_kilo98 - iw8_pi_t9burst',\n",
       " '-',\n",
       " 'iw8_ar_t9damage - iw8_sm_t9cqb',\n",
       " 'iw8_lm_mgolf36 - iw8_sh_t9fullauto',\n",
       " 'iw8_ar_t9slowfire - iw8_sm_mpapa5',\n",
       " 'iw8_sm_t9fastfire - iw8_sn_kilo98',\n",
       " 'iw8_ar_t9british - iw8_pi_t9burst',\n",
       " 'iw8_ar_t9standard - iw8_sn_t9quickscope']"
      ]
     },
     "execution_count": 39,
     "metadata": {},
     "output_type": "execute_result"
    }
   ],
   "source": [
    "loadouts = df.Loadout_1.values.tolist()\n",
    "loadouts[0:20]"
   ]
  },
  {
   "cell_type": "code",
   "execution_count": 40,
   "id": "7718d755-ab3f-43f6-a1c1-ba94d10e4a6c",
   "metadata": {},
   "outputs": [],
   "source": [
    "def convertWeapons(x):\n",
    "    \"\"\" Clean Loadouts (weapons) columns, particul. using labels.py \"\"\"\n",
    "    \n",
    "    # Cold War weapons format is iw8_sm_t9, iw8_ar_t9 etc. for Cold War,  Modern Warfare : iw8_ar, iw8_me etc. for MW\n",
    "    if not x == \"-\":\n",
    "        x = x.split(\" - \")\n",
    "        x = list(map(lambda weapon: weapon.replace(WEAPONS_CAT_PREFIX[0], ''), x))\n",
    "        x = list(map(lambda weapon: WEAPONS_LABELS.get(weapon) or weapon, x))\n",
    "        \n",
    "        # After a won Gulag you (usually) spawn with 'fists' and season weapon (usually Pistols); remove 'fists'\n",
    "        if 'fists' in x:\n",
    "            x = list(map(lambda weapon: weapon.replace('fists', ''), x))\n",
    "            x = x[0]\n",
    "        else:\n",
    "            x = ' - '.join(x)\n",
    "    else:\n",
    "        x = '-'\n",
    "    return x"
   ]
  },
  {
   "cell_type": "code",
   "execution_count": 41,
   "id": "377fbb15-facf-4a74-a93c-89e4d2ed980a",
   "metadata": {},
   "outputs": [
    {
     "name": "stdout",
     "output_type": "stream",
     "text": [
      "-\n",
      "ground smg - Diamatti\n",
      "Grau 5.56 - ground smg\n",
      "ground AR - M82\n",
      "Pistol\n"
     ]
    }
   ],
   "source": [
    "lw = [\n",
    "    '-',\n",
    "    'iw8_sm_t9season6 - iw8_pi_t9burst',\n",
    "    'iw8_ar_sierra552 - iw8_sm_t9season6',\n",
    "    'iw8_ar_t9season6 - iw8_sn_t9powersemi',\n",
    "    'iw8_pi_t9semiauto - fists'\n",
    "]\n",
    "\n",
    "for string in lw:\n",
    "    weapons = convertWeapons(string)\n",
    "    print(weapons)"
   ]
  },
  {
   "cell_type": "markdown",
   "id": "ff2a691b-d73e-4dce-8d21-b793c6c5fe6f",
   "metadata": {},
   "source": [
    "### Extract/calculate some specific KPI's"
   ]
  },
  {
   "cell_type": "code",
   "execution_count": 42,
   "id": "95c7f83e-a581-4af2-8992-daa213d0a283",
   "metadata": {},
   "outputs": [
    {
     "data": {
      "text/html": [
       "<div>\n",
       "<style scoped>\n",
       "    .dataframe tbody tr th:only-of-type {\n",
       "        vertical-align: middle;\n",
       "    }\n",
       "\n",
       "    .dataframe tbody tr th {\n",
       "        vertical-align: top;\n",
       "    }\n",
       "\n",
       "    .dataframe thead th {\n",
       "        text-align: right;\n",
       "    }\n",
       "</style>\n",
       "<table border=\"1\" class=\"dataframe\">\n",
       "  <thead>\n",
       "    <tr style=\"text-align: right;\">\n",
       "      <th></th>\n",
       "      <th>Username</th>\n",
       "      <th>KD</th>\n",
       "      <th>Kills</th>\n",
       "      <th>Deaths</th>\n",
       "      <th>Assists</th>\n",
       "      <th>Loadout_1</th>\n",
       "      <th>Loadout_2</th>\n",
       "      <th>Loadout_3</th>\n",
       "    </tr>\n",
       "  </thead>\n",
       "  <tbody>\n",
       "    <tr>\n",
       "      <th>0</th>\n",
       "      <td>nicoyzovitch</td>\n",
       "      <td>1.3</td>\n",
       "      <td>4</td>\n",
       "      <td>3</td>\n",
       "      <td>0</td>\n",
       "      <td>iw8_lm_t9fastfire - iw8_sm_t9cqb</td>\n",
       "      <td>iw8_pi_t9semiauto - iw8_fists</td>\n",
       "      <td>iw8_pi_t9semiauto - iw8_fists</td>\n",
       "    </tr>\n",
       "    <tr>\n",
       "      <th>1</th>\n",
       "      <td>gentil_renard</td>\n",
       "      <td>0.2</td>\n",
       "      <td>1</td>\n",
       "      <td>4</td>\n",
       "      <td>1</td>\n",
       "      <td>iw8_ar_valpha - iw8_sn_t9accurate</td>\n",
       "      <td>iw8_ar_t9season6 - iw8_fists</td>\n",
       "      <td>-</td>\n",
       "    </tr>\n",
       "    <tr>\n",
       "      <th>2</th>\n",
       "      <td>Moinolol</td>\n",
       "      <td>2.5</td>\n",
       "      <td>5</td>\n",
       "      <td>2</td>\n",
       "      <td>0</td>\n",
       "      <td>iw8_sn_t9accurate - iw8_sm_t9fastfire</td>\n",
       "      <td>iw8_pi_t9semiauto - iw8_fists</td>\n",
       "      <td>-</td>\n",
       "    </tr>\n",
       "    <tr>\n",
       "      <th>3</th>\n",
       "      <td>Team</td>\n",
       "      <td>1.1</td>\n",
       "      <td>10</td>\n",
       "      <td>9</td>\n",
       "      <td>1</td>\n",
       "      <td>NaN</td>\n",
       "      <td>NaN</td>\n",
       "      <td>NaN</td>\n",
       "    </tr>\n",
       "  </tbody>\n",
       "</table>\n",
       "</div>"
      ],
      "text/plain": [
       "        Username   KD  Kills  Deaths  Assists  \\\n",
       "0   nicoyzovitch  1.3      4       3        0   \n",
       "1  gentil_renard  0.2      1       4        1   \n",
       "2       Moinolol  2.5      5       2        0   \n",
       "3           Team  1.1     10       9        1   \n",
       "\n",
       "                               Loadout_1                      Loadout_2  \\\n",
       "0       iw8_lm_t9fastfire - iw8_sm_t9cqb  iw8_pi_t9semiauto - iw8_fists   \n",
       "1      iw8_ar_valpha - iw8_sn_t9accurate   iw8_ar_t9season6 - iw8_fists   \n",
       "2  iw8_sn_t9accurate - iw8_sm_t9fastfire  iw8_pi_t9semiauto - iw8_fists   \n",
       "3                                    NaN                            NaN   \n",
       "\n",
       "                       Loadout_3  \n",
       "0  iw8_pi_t9semiauto - iw8_fists  \n",
       "1                              -  \n",
       "2                              -  \n",
       "3                            NaN  "
      ]
     },
     "execution_count": 42,
     "metadata": {},
     "output_type": "execute_result"
    }
   ],
   "source": [
    "team = retrieveTeam(df, gamertag)\n",
    "keep_cols = ['Username', 'KD', 'Kills', 'Deaths', 'Assists'] + df.columns[df.columns.str.startswith('Loadout')].tolist()\n",
    "df_team = df[df[\"Team\"] == team][keep_cols]\n",
    "\n",
    "# add Team aggregated stats final row\n",
    "agg_func = {\n",
    "    \"KD\":\"sum\",\n",
    "    \"Kills\":\"sum\",\n",
    "    \"Deaths\":\"sum\",\n",
    "    \"Assists\":\"sum\"\n",
    "}\n",
    "\n",
    "team_kd = (df_team.Kills.sum() / df_team.Deaths.sum()).round(1)\n",
    "row_total = df_team.agg(agg_func).to_dict()\n",
    "\n",
    "row_total.update({'Username': 'Team'})\n",
    "row_total.update({'KD': team_kd})\n",
    "df_team = df_team.append(row_total, ignore_index=True)\n",
    "df_team[['Kills', 'Deaths', 'Assists']] = df_team[['Kills', 'Deaths', 'Assists']].astype(int)\n",
    "df_team"
   ]
  },
  {
   "cell_type": "code",
   "execution_count": 43,
   "id": "c32beb4c-6adc-4e81-ae41-33b7e07d9286",
   "metadata": {},
   "outputs": [
    {
     "data": {
      "text/html": [
       "<div>\n",
       "<style scoped>\n",
       "    .dataframe tbody tr th:only-of-type {\n",
       "        vertical-align: middle;\n",
       "    }\n",
       "\n",
       "    .dataframe tbody tr th {\n",
       "        vertical-align: top;\n",
       "    }\n",
       "\n",
       "    .dataframe thead th {\n",
       "        text-align: right;\n",
       "    }\n",
       "</style>\n",
       "<table border=\"1\" class=\"dataframe\">\n",
       "  <thead>\n",
       "    <tr style=\"text-align: right;\">\n",
       "      <th></th>\n",
       "      <th>Username</th>\n",
       "      <th>KD</th>\n",
       "      <th>Kills</th>\n",
       "      <th>Deaths</th>\n",
       "      <th>Assists</th>\n",
       "      <th>Loadout_1</th>\n",
       "      <th>Loadout_2</th>\n",
       "      <th>Loadout_3</th>\n",
       "    </tr>\n",
       "  </thead>\n",
       "  <tbody>\n",
       "    <tr>\n",
       "      <th>0</th>\n",
       "      <td>nicoyzovitch</td>\n",
       "      <td>1.3</td>\n",
       "      <td>4</td>\n",
       "      <td>3</td>\n",
       "      <td>0</td>\n",
       "      <td>iw8_lm_t9fastfire - iw8_sm_t9cqb</td>\n",
       "      <td>iw8_pi_t9semiauto - iw8_fists</td>\n",
       "      <td>iw8_pi_t9semiauto - iw8_fists</td>\n",
       "    </tr>\n",
       "    <tr>\n",
       "      <th>1</th>\n",
       "      <td>gentil_renard</td>\n",
       "      <td>0.2</td>\n",
       "      <td>1</td>\n",
       "      <td>4</td>\n",
       "      <td>1</td>\n",
       "      <td>iw8_ar_valpha - iw8_sn_t9accurate</td>\n",
       "      <td>iw8_ar_t9season6 - iw8_fists</td>\n",
       "      <td>-</td>\n",
       "    </tr>\n",
       "    <tr>\n",
       "      <th>2</th>\n",
       "      <td>Moinolol</td>\n",
       "      <td>2.5</td>\n",
       "      <td>5</td>\n",
       "      <td>2</td>\n",
       "      <td>0</td>\n",
       "      <td>iw8_sn_t9accurate - iw8_sm_t9fastfire</td>\n",
       "      <td>iw8_pi_t9semiauto - iw8_fists</td>\n",
       "      <td>-</td>\n",
       "    </tr>\n",
       "    <tr>\n",
       "      <th>3</th>\n",
       "      <td>Team</td>\n",
       "      <td>1.1</td>\n",
       "      <td>10</td>\n",
       "      <td>9</td>\n",
       "      <td>1</td>\n",
       "      <td>NaN</td>\n",
       "      <td>NaN</td>\n",
       "      <td>NaN</td>\n",
       "    </tr>\n",
       "  </tbody>\n",
       "</table>\n",
       "</div>"
      ],
      "text/plain": [
       "        Username   KD  Kills  Deaths  Assists  \\\n",
       "0   nicoyzovitch  1.3      4       3        0   \n",
       "1  gentil_renard  0.2      1       4        1   \n",
       "2       Moinolol  2.5      5       2        0   \n",
       "3           Team  1.1     10       9        1   \n",
       "\n",
       "                               Loadout_1                      Loadout_2  \\\n",
       "0       iw8_lm_t9fastfire - iw8_sm_t9cqb  iw8_pi_t9semiauto - iw8_fists   \n",
       "1      iw8_ar_valpha - iw8_sn_t9accurate   iw8_ar_t9season6 - iw8_fists   \n",
       "2  iw8_sn_t9accurate - iw8_sm_t9fastfire  iw8_pi_t9semiauto - iw8_fists   \n",
       "3                                    NaN                            NaN   \n",
       "\n",
       "                       Loadout_3  \n",
       "0  iw8_pi_t9semiauto - iw8_fists  \n",
       "1                              -  \n",
       "2                              -  \n",
       "3                            NaN  "
      ]
     },
     "execution_count": 43,
     "metadata": {},
     "output_type": "execute_result"
    }
   ],
   "source": [
    "df_team"
   ]
  },
  {
   "cell_type": "code",
   "execution_count": 44,
   "id": "d470b71c-f5b5-4506-93a0-46b64bfd80db",
   "metadata": {},
   "outputs": [],
   "source": [
    "def teamKills(df, gamertag):\n",
    "    \"\"\" Return a DataFrame with Team players and team total KD, K/D/A ; also Loadouts \"\"\"\n",
    "    \n",
    "    team = retrieveTeam(df, gamertag)\n",
    "    keep_cols = ['Username', 'KD', 'Kills', 'Deaths', 'Assists'] + df.columns[df.columns.str.startswith('Loadout')].tolist()\n",
    "    df_team = df[df[\"Team\"] == team][keep_cols].sort_values('Kills', ascending=False)\n",
    "    \n",
    "    # add Team aggregated stats final row\n",
    "    agg_func = {\n",
    "        \"KD\":\"sum\",\n",
    "        \"Kills\":\"sum\",\n",
    "        \"Deaths\":\"sum\",\n",
    "        \"Assists\":\"sum\"\n",
    "    }\n",
    "    \n",
    "    team_kd = (df_team.Kills.sum() / df_team.Deaths.sum()).round(1)\n",
    "    row_total = df_team.agg(agg_func).to_dict()\n",
    "    \n",
    "    row_total.update({'Username': 'Team'})\n",
    "    row_total.update({'KD': team_kd})\n",
    "    df_team = df_team.append(row_total, ignore_index=True)\n",
    "    df_team[['Kills', 'Deaths', 'Assists']] = df_team[['Kills', 'Deaths', 'Assists']].astype(int)\n",
    "    df_team.fillna('-', inplace=True)\n",
    "\n",
    "    # Convert COD weapons code names, using labels.py , convertWeapons()\n",
    "    for col in df_team.columns[df_team.columns.str.startswith('Loadout')]:\n",
    "        df_team[col] = df_team[col].map(lambda x: convertWeapons(x))\n",
    "    return df_team\n",
    "\n",
    "def topPlayers(df):\n",
    "    \"\"\" Return a DataFrame with match top 5 players ranked by Kills, KD \"\"\"\n",
    "    keep_cols = ['Username', 'Team', 'KD', 'Kills', 'Deaths', 'Assists'] + df.columns[df.columns.str.startswith('Loadout')].tolist()\n",
    "    df_top = df.sort_values(by=\"Kills\",ascending=False)[0:5][keep_cols]\n",
    "\n",
    "    for col in df_top.columns[df_top.columns.str.startswith('Loadout')]:\n",
    "        df_top[col] = df_top[col].map(lambda x: convertWeapons(x))\n",
    "    return df_top\n",
    "\n",
    "def teamKillsPlacement(df, gamertag):\n",
    "    \"\"\" Retrieve final placement according to # kills, of a player/his team \"\"\" \n",
    "    index = df.groupby('Team')[['Kills']].sum().sort_values('Kills', ascending = False).reset_index()\n",
    "    condition = index['Team'] == retrieveTeam(df, gamertag)\n",
    "    return index[condition]['Kills'].index.tolist()[0]\n",
    "\n",
    "def playersQuartiles(df):\n",
    "    \"\"\" All players, mean and median, quartiles \"\"\"\n",
    "    return df[['Kills', 'KD']].describe().to_dict()"
   ]
  },
  {
   "cell_type": "code",
   "execution_count": 66,
   "id": "16ba1771-80e4-4912-abf7-a4adc8e27327",
   "metadata": {},
   "outputs": [],
   "source": [
    "# load offline data\n",
    "with open('match.pkl', 'rb') as f:\n",
    "    match = pickle.load(f)\n",
    "df_match = MatchPlayersToDf(match)\n",
    "df = MatchPlayersStandardize(df_match)\n",
    "open_file.close()"
   ]
  },
  {
   "cell_type": "code",
   "execution_count": 67,
   "id": "c8cb6424-f75c-4b42-82d5-cd8c17de93ce",
   "metadata": {},
   "outputs": [
    {
     "data": {
      "text/html": [
       "<div>\n",
       "<style scoped>\n",
       "    .dataframe tbody tr th:only-of-type {\n",
       "        vertical-align: middle;\n",
       "    }\n",
       "\n",
       "    .dataframe tbody tr th {\n",
       "        vertical-align: top;\n",
       "    }\n",
       "\n",
       "    .dataframe thead th {\n",
       "        text-align: right;\n",
       "    }\n",
       "</style>\n",
       "<table border=\"1\" class=\"dataframe\">\n",
       "  <thead>\n",
       "    <tr style=\"text-align: right;\">\n",
       "      <th></th>\n",
       "      <th>Mode</th>\n",
       "      <th>Ended at</th>\n",
       "      <th>Team</th>\n",
       "      <th>Username</th>\n",
       "      <th>Playtime</th>\n",
       "      <th>#</th>\n",
       "      <th>KD</th>\n",
       "      <th>Kills</th>\n",
       "      <th>Deaths</th>\n",
       "      <th>Assists</th>\n",
       "      <th>Damage &gt;</th>\n",
       "      <th>Damage &lt;</th>\n",
       "      <th>Gulag</th>\n",
       "      <th>% moving</th>\n",
       "      <th>Game duration</th>\n",
       "      <th>Loadout_1</th>\n",
       "      <th>Loadout_2</th>\n",
       "      <th>Loadout_3</th>\n",
       "    </tr>\n",
       "  </thead>\n",
       "  <tbody>\n",
       "    <tr>\n",
       "      <th>0</th>\n",
       "      <td>Trios</td>\n",
       "      <td>2021-11-19 00:10:38</td>\n",
       "      <td>forty</td>\n",
       "      <td>MOMMA BOT</td>\n",
       "      <td>01:23</td>\n",
       "      <td>52</td>\n",
       "      <td>0.0</td>\n",
       "      <td>0</td>\n",
       "      <td>0</td>\n",
       "      <td>0</td>\n",
       "      <td>0</td>\n",
       "      <td>0</td>\n",
       "      <td>L</td>\n",
       "      <td>91.7</td>\n",
       "      <td>27</td>\n",
       "      <td>iw8_ar_kilo433 - iw8_sm_t9capacity</td>\n",
       "      <td>iw8_pi_t9semiauto - iw8_fists</td>\n",
       "      <td>-</td>\n",
       "    </tr>\n",
       "  </tbody>\n",
       "</table>\n",
       "</div>"
      ],
      "text/plain": [
       "    Mode            Ended at   Team   Username Playtime   #   KD  Kills  \\\n",
       "0  Trios 2021-11-19 00:10:38  forty  MOMMA BOT    01:23  52  0.0      0   \n",
       "\n",
       "   Deaths  Assists  Damage >  Damage < Gulag  % moving Game duration  \\\n",
       "0       0        0         0         0     L      91.7            27   \n",
       "\n",
       "                            Loadout_1                      Loadout_2 Loadout_3  \n",
       "0  iw8_ar_kilo433 - iw8_sm_t9capacity  iw8_pi_t9semiauto - iw8_fists         -  "
      ]
     },
     "execution_count": 67,
     "metadata": {},
     "output_type": "execute_result"
    }
   ],
   "source": [
    "df.head(1)"
   ]
  },
  {
   "cell_type": "code",
   "execution_count": 68,
   "id": "3ab4f80e-e654-4c81-972c-70a7c6be3eae",
   "metadata": {},
   "outputs": [
    {
     "data": {
      "text/html": [
       "<div>\n",
       "<style scoped>\n",
       "    .dataframe tbody tr th:only-of-type {\n",
       "        vertical-align: middle;\n",
       "    }\n",
       "\n",
       "    .dataframe tbody tr th {\n",
       "        vertical-align: top;\n",
       "    }\n",
       "\n",
       "    .dataframe thead th {\n",
       "        text-align: right;\n",
       "    }\n",
       "</style>\n",
       "<table border=\"1\" class=\"dataframe\">\n",
       "  <thead>\n",
       "    <tr style=\"text-align: right;\">\n",
       "      <th></th>\n",
       "      <th>Username</th>\n",
       "      <th>KD</th>\n",
       "      <th>Kills</th>\n",
       "      <th>Deaths</th>\n",
       "      <th>Assists</th>\n",
       "      <th>Loadout_1</th>\n",
       "      <th>Loadout_2</th>\n",
       "      <th>Loadout_3</th>\n",
       "    </tr>\n",
       "  </thead>\n",
       "  <tbody>\n",
       "    <tr>\n",
       "      <th>0</th>\n",
       "      <td>Moinolol</td>\n",
       "      <td>2.5</td>\n",
       "      <td>5</td>\n",
       "      <td>2</td>\n",
       "      <td>0</td>\n",
       "      <td>K31 - MAC-10</td>\n",
       "      <td>Pistol</td>\n",
       "      <td>-</td>\n",
       "    </tr>\n",
       "    <tr>\n",
       "      <th>1</th>\n",
       "      <td>nicoyzovitch</td>\n",
       "      <td>1.3</td>\n",
       "      <td>4</td>\n",
       "      <td>3</td>\n",
       "      <td>0</td>\n",
       "      <td>MG82 - OTs 9</td>\n",
       "      <td>Pistol</td>\n",
       "      <td>Pistol</td>\n",
       "    </tr>\n",
       "    <tr>\n",
       "      <th>2</th>\n",
       "      <td>gentil_renard</td>\n",
       "      <td>0.2</td>\n",
       "      <td>1</td>\n",
       "      <td>4</td>\n",
       "      <td>1</td>\n",
       "      <td>ASVAL - K31</td>\n",
       "      <td>ground AR</td>\n",
       "      <td>-</td>\n",
       "    </tr>\n",
       "    <tr>\n",
       "      <th>3</th>\n",
       "      <td>Team</td>\n",
       "      <td>1.1</td>\n",
       "      <td>10</td>\n",
       "      <td>9</td>\n",
       "      <td>1</td>\n",
       "      <td>-</td>\n",
       "      <td>-</td>\n",
       "      <td>-</td>\n",
       "    </tr>\n",
       "  </tbody>\n",
       "</table>\n",
       "</div>"
      ],
      "text/plain": [
       "        Username   KD  Kills  Deaths  Assists     Loadout_1  Loadout_2  \\\n",
       "0       Moinolol  2.5      5       2        0  K31 - MAC-10     Pistol   \n",
       "1   nicoyzovitch  1.3      4       3        0  MG82 - OTs 9     Pistol   \n",
       "2  gentil_renard  0.2      1       4        1   ASVAL - K31  ground AR   \n",
       "3           Team  1.1     10       9        1             -          -   \n",
       "\n",
       "  Loadout_3  \n",
       "0         -  \n",
       "1    Pistol  \n",
       "2         -  \n",
       "3         -  "
      ]
     },
     "execution_count": 68,
     "metadata": {},
     "output_type": "execute_result"
    }
   ],
   "source": [
    "team_kills = teamKills(df, gamertag)\n",
    "team_kills"
   ]
  },
  {
   "cell_type": "code",
   "execution_count": 69,
   "id": "f4fd1d4f-32c6-40de-b3a7-85d04dc8bcf7",
   "metadata": {},
   "outputs": [
    {
     "data": {
      "text/plain": [
       "{'Kills': {'count': 151.0,\n",
       "  'mean': 2.0596026490066226,\n",
       "  'std': 2.4879222605204,\n",
       "  'min': 0.0,\n",
       "  '25%': 0.0,\n",
       "  '50%': 1.0,\n",
       "  '75%': 3.0,\n",
       "  'max': 15.0},\n",
       " 'KD': {'count': 151.0,\n",
       "  'mean': 0.9814569536423841,\n",
       "  'std': 1.3093206367430876,\n",
       "  'min': 0.0,\n",
       "  '25%': 0.0,\n",
       "  '50%': 0.5,\n",
       "  '75%': 1.5,\n",
       "  'max': 10.0}}"
      ]
     },
     "execution_count": 69,
     "metadata": {},
     "output_type": "execute_result"
    }
   ],
   "source": [
    "players_quartiles = playersQuartiles(df)\n",
    "players_quartiles"
   ]
  },
  {
   "cell_type": "code",
   "execution_count": 70,
   "id": "9e2141db-3dd1-4f80-af6c-ac3dcd7d8979",
   "metadata": {},
   "outputs": [
    {
     "data": {
      "text/plain": [
       "10"
      ]
     },
     "execution_count": 70,
     "metadata": {},
     "output_type": "execute_result"
    }
   ],
   "source": [
    "tkp = teamKillsPlacement(df, gamertag)\n",
    "tkp"
   ]
  },
  {
   "cell_type": "code",
   "execution_count": 71,
   "id": "22333d20-82a2-46a5-9fb2-5879201f578e",
   "metadata": {},
   "outputs": [
    {
     "data": {
      "text/html": [
       "<div>\n",
       "<style scoped>\n",
       "    .dataframe tbody tr th:only-of-type {\n",
       "        vertical-align: middle;\n",
       "    }\n",
       "\n",
       "    .dataframe tbody tr th {\n",
       "        vertical-align: top;\n",
       "    }\n",
       "\n",
       "    .dataframe thead th {\n",
       "        text-align: right;\n",
       "    }\n",
       "</style>\n",
       "<table border=\"1\" class=\"dataframe\">\n",
       "  <thead>\n",
       "    <tr style=\"text-align: right;\">\n",
       "      <th></th>\n",
       "      <th>Username</th>\n",
       "      <th>Team</th>\n",
       "      <th>KD</th>\n",
       "      <th>Kills</th>\n",
       "      <th>Deaths</th>\n",
       "      <th>Assists</th>\n",
       "      <th>Loadout_1</th>\n",
       "      <th>Loadout_2</th>\n",
       "      <th>Loadout_3</th>\n",
       "    </tr>\n",
       "  </thead>\n",
       "  <tbody>\n",
       "    <tr>\n",
       "      <th>124</th>\n",
       "      <td>DeadlyXhen</td>\n",
       "      <td>twenty</td>\n",
       "      <td>7.5</td>\n",
       "      <td>15</td>\n",
       "      <td>2</td>\n",
       "      <td>2</td>\n",
       "      <td>Milano - EM2</td>\n",
       "      <td>Pistol</td>\n",
       "      <td>sh_t9pump</td>\n",
       "    </tr>\n",
       "    <tr>\n",
       "      <th>27</th>\n",
       "      <td>Cunny-Boss</td>\n",
       "      <td>thirty_three</td>\n",
       "      <td>3.7</td>\n",
       "      <td>11</td>\n",
       "      <td>3</td>\n",
       "      <td>0</td>\n",
       "      <td>AK-47 cw - OTs 9</td>\n",
       "      <td>Pistol</td>\n",
       "      <td>MAC-10 - pi_papa320</td>\n",
       "    </tr>\n",
       "    <tr>\n",
       "      <th>18</th>\n",
       "      <td>GaelJMG</td>\n",
       "      <td>twenty_five</td>\n",
       "      <td>10.0</td>\n",
       "      <td>10</td>\n",
       "      <td>1</td>\n",
       "      <td>1</td>\n",
       "      <td>EM2 - Diamatti</td>\n",
       "      <td>Pistol</td>\n",
       "      <td>-</td>\n",
       "    </tr>\n",
       "    <tr>\n",
       "      <th>69</th>\n",
       "      <td>DonEleganza</td>\n",
       "      <td>seventeen</td>\n",
       "      <td>3.0</td>\n",
       "      <td>9</td>\n",
       "      <td>3</td>\n",
       "      <td>1</td>\n",
       "      <td>ar_akilo47 - sn_xmike109</td>\n",
       "      <td>Pistol</td>\n",
       "      <td>Pistol</td>\n",
       "    </tr>\n",
       "    <tr>\n",
       "      <th>96</th>\n",
       "      <td>n1ce</td>\n",
       "      <td>twelve</td>\n",
       "      <td>2.2</td>\n",
       "      <td>9</td>\n",
       "      <td>4</td>\n",
       "      <td>0</td>\n",
       "      <td>K31 - MAC-10</td>\n",
       "      <td>Pistol</td>\n",
       "      <td>OTs 9</td>\n",
       "    </tr>\n",
       "  </tbody>\n",
       "</table>\n",
       "</div>"
      ],
      "text/plain": [
       "        Username          Team    KD  Kills  Deaths  Assists  \\\n",
       "124   DeadlyXhen        twenty   7.5     15       2        2   \n",
       "27    Cunny-Boss  thirty_three   3.7     11       3        0   \n",
       "18       GaelJMG   twenty_five  10.0     10       1        1   \n",
       "69   DonEleganza     seventeen   3.0      9       3        1   \n",
       "96          n1ce        twelve   2.2      9       4        0   \n",
       "\n",
       "                    Loadout_1 Loadout_2            Loadout_3  \n",
       "124              Milano - EM2    Pistol            sh_t9pump  \n",
       "27           AK-47 cw - OTs 9    Pistol  MAC-10 - pi_papa320  \n",
       "18             EM2 - Diamatti    Pistol                    -  \n",
       "69   ar_akilo47 - sn_xmike109    Pistol               Pistol  \n",
       "96               K31 - MAC-10    Pistol                OTs 9  "
      ]
     },
     "execution_count": 71,
     "metadata": {},
     "output_type": "execute_result"
    }
   ],
   "source": [
    "players_kills = topPlayers(df)\n",
    "players_kills"
   ]
  },
  {
   "cell_type": "code",
   "execution_count": 72,
   "id": "9cff1db8-95f7-4200-95c0-77637a5c8aa0",
   "metadata": {},
   "outputs": [],
   "source": [
    "def shrinkDf(df, cols_to_concat, str_join, new_col):\n",
    "    \"\"\" For our df to occupy less space in Streamlit : to str + concat given cols into 1\"\"\"\n",
    "    \n",
    "    def concat_cols(df, cols_to_concat, str_join):\n",
    "        return pd.Series(map(str_join.join, df[cols_to_concat].values.tolist()),index = df.index)\n",
    "    \n",
    "    for col in cols_to_concat:\n",
    "        df[col] = df[col].astype(str)\n",
    "    df[new_col] = concat_cols(df, cols_to_concat, str_join)\n",
    "    df = df.drop(cols_to_concat, axis=1)\n",
    "    \n",
    "    return df\n",
    "\n",
    "def removeEmptyLoadouts(x):\n",
    "    \"\"\" Remove empty loadout after concatenation\"\"\"\n",
    "    x = x.split(', ')\n",
    "    x = list(map(lambda weapon: weapon.replace('-', '') if len(weapon) <= 1 else weapon, x))\n",
    "    x = list(filter(None, x))\n",
    "    return ', '.join(x)\n",
    "\n",
    "def renderTeam(team_kills):\n",
    "    \"\"\" Render Team KDA concat with Team Weapons, in a plotly table\"\"\"\n",
    "\n",
    "    team_kills = shrinkDf(team_kills, cols_to_concat=['Kills', 'Deaths', 'Assists'], str_join=' | ', new_col= 'K D A')\n",
    "    cols_to_concat = team_kills.columns[team_kills.columns.str.startswith('Loadout')].tolist()\n",
    "    team_kills = shrinkDf(team_kills, cols_to_concat, str_join=', ', new_col='Loadouts')\n",
    "    \n",
    "    team_kills = team_kills.rename(columns={\"Username\": \"Player\"})\n",
    "    \n",
    "    return team_kills\n",
    "\n",
    "def renderPlayers(players_kills):\n",
    "    \"\"\" Render Team KDA concat with Team Weapons, in a plotly table\"\"\"\n",
    "\n",
    "    players_kills = shrinkDf(players_kills, cols_to_concat=['Kills', 'Deaths', 'Assists'], str_join=' | ', new_col= 'K D A')\n",
    "    cols_to_concat = players_kills.columns[players_kills.columns.str.startswith('Loadout')].tolist()\n",
    "    players_kills = shrinkDf(players_kills, cols_to_concat, str_join=', ', new_col='Loadouts')\n",
    "    \n",
    "    players_kills = players_kills.rename(columns={\"Username\": \"Player\"})\n",
    "    \n",
    "    return players_kills\n",
    "\n",
    "def removeEmptyStrings(x):\n",
    "    \"\"\" Remove empty strings \"-\" mainy left after concatenation operations or fillna\"\"\"\n",
    "    x = x.split(', ')\n",
    "    x = list(map(lambda weapon: weapon.replace('-', '') if len(weapon) <= 1 else weapon, x))\n",
    "    x = list(filter(None, x))\n",
    "    return ', '.join(x)"
   ]
  },
  {
   "cell_type": "code",
   "execution_count": 73,
   "id": "4fe4928a-e244-4437-80ee-ba76f47e7259",
   "metadata": {},
   "outputs": [
    {
     "data": {
      "text/html": [
       "<div>\n",
       "<style scoped>\n",
       "    .dataframe tbody tr th:only-of-type {\n",
       "        vertical-align: middle;\n",
       "    }\n",
       "\n",
       "    .dataframe tbody tr th {\n",
       "        vertical-align: top;\n",
       "    }\n",
       "\n",
       "    .dataframe thead th {\n",
       "        text-align: right;\n",
       "    }\n",
       "</style>\n",
       "<table border=\"1\" class=\"dataframe\">\n",
       "  <thead>\n",
       "    <tr style=\"text-align: right;\">\n",
       "      <th></th>\n",
       "      <th>Player</th>\n",
       "      <th>KD</th>\n",
       "      <th>K D A</th>\n",
       "      <th>Loadouts</th>\n",
       "    </tr>\n",
       "  </thead>\n",
       "  <tbody>\n",
       "    <tr>\n",
       "      <th>0</th>\n",
       "      <td>Moinolol</td>\n",
       "      <td>2.5</td>\n",
       "      <td>5 | 2 | 0</td>\n",
       "      <td>K31 - MAC-10, Pistol, -</td>\n",
       "    </tr>\n",
       "    <tr>\n",
       "      <th>1</th>\n",
       "      <td>nicoyzovitch</td>\n",
       "      <td>1.3</td>\n",
       "      <td>4 | 3 | 0</td>\n",
       "      <td>MG82 - OTs 9, Pistol, Pistol</td>\n",
       "    </tr>\n",
       "    <tr>\n",
       "      <th>2</th>\n",
       "      <td>gentil_renard</td>\n",
       "      <td>0.2</td>\n",
       "      <td>1 | 4 | 1</td>\n",
       "      <td>ASVAL - K31, ground AR, -</td>\n",
       "    </tr>\n",
       "    <tr>\n",
       "      <th>3</th>\n",
       "      <td>Team</td>\n",
       "      <td>1.1</td>\n",
       "      <td>10 | 9 | 1</td>\n",
       "      <td>-, -, -</td>\n",
       "    </tr>\n",
       "  </tbody>\n",
       "</table>\n",
       "</div>"
      ],
      "text/plain": [
       "          Player   KD       K D A                      Loadouts\n",
       "0       Moinolol  2.5   5 | 2 | 0       K31 - MAC-10, Pistol, -\n",
       "1   nicoyzovitch  1.3   4 | 3 | 0  MG82 - OTs 9, Pistol, Pistol\n",
       "2  gentil_renard  0.2   1 | 4 | 1     ASVAL - K31, ground AR, -\n",
       "3           Team  1.1  10 | 9 | 1                       -, -, -"
      ]
     },
     "execution_count": 73,
     "metadata": {},
     "output_type": "execute_result"
    }
   ],
   "source": [
    "team_info = renderTeam(team_kills)\n",
    "team_info"
   ]
  },
  {
   "cell_type": "code",
   "execution_count": 74,
   "id": "11c18282-6283-45f6-a72c-6ac9c773227f",
   "metadata": {
    "tags": []
   },
   "outputs": [
    {
     "data": {
      "text/html": [
       "<div>\n",
       "<style scoped>\n",
       "    .dataframe tbody tr th:only-of-type {\n",
       "        vertical-align: middle;\n",
       "    }\n",
       "\n",
       "    .dataframe tbody tr th {\n",
       "        vertical-align: top;\n",
       "    }\n",
       "\n",
       "    .dataframe thead th {\n",
       "        text-align: right;\n",
       "    }\n",
       "</style>\n",
       "<table border=\"1\" class=\"dataframe\">\n",
       "  <thead>\n",
       "    <tr style=\"text-align: right;\">\n",
       "      <th></th>\n",
       "      <th>Player</th>\n",
       "      <th>KD</th>\n",
       "      <th>K D A</th>\n",
       "      <th>Loadouts</th>\n",
       "    </tr>\n",
       "  </thead>\n",
       "  <tbody>\n",
       "    <tr>\n",
       "      <th>0</th>\n",
       "      <td>Moinolol</td>\n",
       "      <td>2.5</td>\n",
       "      <td>5 | 2 | 0</td>\n",
       "      <td>K31 - MAC-10, Pistol</td>\n",
       "    </tr>\n",
       "    <tr>\n",
       "      <th>1</th>\n",
       "      <td>nicoyzovitch</td>\n",
       "      <td>1.3</td>\n",
       "      <td>4 | 3 | 0</td>\n",
       "      <td>MG82 - OTs 9, Pistol, Pistol</td>\n",
       "    </tr>\n",
       "    <tr>\n",
       "      <th>2</th>\n",
       "      <td>gentil_renard</td>\n",
       "      <td>0.2</td>\n",
       "      <td>1 | 4 | 1</td>\n",
       "      <td>ASVAL - K31, ground AR</td>\n",
       "    </tr>\n",
       "    <tr>\n",
       "      <th>3</th>\n",
       "      <td>Team</td>\n",
       "      <td>1.1</td>\n",
       "      <td>10 | 9 | 1</td>\n",
       "      <td></td>\n",
       "    </tr>\n",
       "  </tbody>\n",
       "</table>\n",
       "</div>"
      ],
      "text/plain": [
       "          Player   KD       K D A                      Loadouts\n",
       "0       Moinolol  2.5   5 | 2 | 0          K31 - MAC-10, Pistol\n",
       "1   nicoyzovitch  1.3   4 | 3 | 0  MG82 - OTs 9, Pistol, Pistol\n",
       "2  gentil_renard  0.2   1 | 4 | 1        ASVAL - K31, ground AR\n",
       "3           Team  1.1  10 | 9 | 1                              "
      ]
     },
     "execution_count": 74,
     "metadata": {},
     "output_type": "execute_result"
    }
   ],
   "source": [
    "team_info['Loadouts'] = team_info['Loadouts'].map(lambda x : removeEmptyStrings(x))\n",
    "team_info"
   ]
  },
  {
   "cell_type": "code",
   "execution_count": 75,
   "id": "b5da40a8-de00-4ddb-9e73-a0c5de8b65dc",
   "metadata": {},
   "outputs": [
    {
     "data": {
      "text/html": [
       "<div>\n",
       "<style scoped>\n",
       "    .dataframe tbody tr th:only-of-type {\n",
       "        vertical-align: middle;\n",
       "    }\n",
       "\n",
       "    .dataframe tbody tr th {\n",
       "        vertical-align: top;\n",
       "    }\n",
       "\n",
       "    .dataframe thead th {\n",
       "        text-align: right;\n",
       "    }\n",
       "</style>\n",
       "<table border=\"1\" class=\"dataframe\">\n",
       "  <thead>\n",
       "    <tr style=\"text-align: right;\">\n",
       "      <th></th>\n",
       "      <th>Username</th>\n",
       "      <th>Team</th>\n",
       "      <th>KD</th>\n",
       "      <th>Kills</th>\n",
       "      <th>Deaths</th>\n",
       "      <th>Assists</th>\n",
       "      <th>Loadout_1</th>\n",
       "      <th>Loadout_2</th>\n",
       "      <th>Loadout_3</th>\n",
       "    </tr>\n",
       "  </thead>\n",
       "  <tbody>\n",
       "    <tr>\n",
       "      <th>124</th>\n",
       "      <td>DeadlyXhen</td>\n",
       "      <td>twenty</td>\n",
       "      <td>7.5</td>\n",
       "      <td>15</td>\n",
       "      <td>2</td>\n",
       "      <td>2</td>\n",
       "      <td>Milano - EM2</td>\n",
       "      <td>Pistol</td>\n",
       "      <td>sh_t9pump</td>\n",
       "    </tr>\n",
       "    <tr>\n",
       "      <th>27</th>\n",
       "      <td>Cunny-Boss</td>\n",
       "      <td>thirty_three</td>\n",
       "      <td>3.7</td>\n",
       "      <td>11</td>\n",
       "      <td>3</td>\n",
       "      <td>0</td>\n",
       "      <td>AK-47 cw - OTs 9</td>\n",
       "      <td>Pistol</td>\n",
       "      <td>MAC-10 - pi_papa320</td>\n",
       "    </tr>\n",
       "    <tr>\n",
       "      <th>18</th>\n",
       "      <td>GaelJMG</td>\n",
       "      <td>twenty_five</td>\n",
       "      <td>10.0</td>\n",
       "      <td>10</td>\n",
       "      <td>1</td>\n",
       "      <td>1</td>\n",
       "      <td>EM2 - Diamatti</td>\n",
       "      <td>Pistol</td>\n",
       "      <td>-</td>\n",
       "    </tr>\n",
       "    <tr>\n",
       "      <th>69</th>\n",
       "      <td>DonEleganza</td>\n",
       "      <td>seventeen</td>\n",
       "      <td>3.0</td>\n",
       "      <td>9</td>\n",
       "      <td>3</td>\n",
       "      <td>1</td>\n",
       "      <td>ar_akilo47 - sn_xmike109</td>\n",
       "      <td>Pistol</td>\n",
       "      <td>Pistol</td>\n",
       "    </tr>\n",
       "    <tr>\n",
       "      <th>96</th>\n",
       "      <td>n1ce</td>\n",
       "      <td>twelve</td>\n",
       "      <td>2.2</td>\n",
       "      <td>9</td>\n",
       "      <td>4</td>\n",
       "      <td>0</td>\n",
       "      <td>K31 - MAC-10</td>\n",
       "      <td>Pistol</td>\n",
       "      <td>OTs 9</td>\n",
       "    </tr>\n",
       "  </tbody>\n",
       "</table>\n",
       "</div>"
      ],
      "text/plain": [
       "        Username          Team    KD  Kills  Deaths  Assists  \\\n",
       "124   DeadlyXhen        twenty   7.5     15       2        2   \n",
       "27    Cunny-Boss  thirty_three   3.7     11       3        0   \n",
       "18       GaelJMG   twenty_five  10.0     10       1        1   \n",
       "69   DonEleganza     seventeen   3.0      9       3        1   \n",
       "96          n1ce        twelve   2.2      9       4        0   \n",
       "\n",
       "                    Loadout_1 Loadout_2            Loadout_3  \n",
       "124              Milano - EM2    Pistol            sh_t9pump  \n",
       "27           AK-47 cw - OTs 9    Pistol  MAC-10 - pi_papa320  \n",
       "18             EM2 - Diamatti    Pistol                    -  \n",
       "69   ar_akilo47 - sn_xmike109    Pistol               Pistol  \n",
       "96               K31 - MAC-10    Pistol                OTs 9  "
      ]
     },
     "metadata": {},
     "output_type": "display_data"
    },
    {
     "data": {
      "text/html": [
       "<div>\n",
       "<style scoped>\n",
       "    .dataframe tbody tr th:only-of-type {\n",
       "        vertical-align: middle;\n",
       "    }\n",
       "\n",
       "    .dataframe tbody tr th {\n",
       "        vertical-align: top;\n",
       "    }\n",
       "\n",
       "    .dataframe thead th {\n",
       "        text-align: right;\n",
       "    }\n",
       "</style>\n",
       "<table border=\"1\" class=\"dataframe\">\n",
       "  <thead>\n",
       "    <tr style=\"text-align: right;\">\n",
       "      <th></th>\n",
       "      <th>Player</th>\n",
       "      <th>Team</th>\n",
       "      <th>KD</th>\n",
       "      <th>K D A</th>\n",
       "      <th>Loadouts</th>\n",
       "    </tr>\n",
       "  </thead>\n",
       "  <tbody>\n",
       "    <tr>\n",
       "      <th>124</th>\n",
       "      <td>DeadlyXhen</td>\n",
       "      <td>twenty</td>\n",
       "      <td>7.5</td>\n",
       "      <td>15 | 2 | 2</td>\n",
       "      <td>Milano - EM2, Pistol, sh_t9pump</td>\n",
       "    </tr>\n",
       "    <tr>\n",
       "      <th>27</th>\n",
       "      <td>Cunny-Boss</td>\n",
       "      <td>thirty_three</td>\n",
       "      <td>3.7</td>\n",
       "      <td>11 | 3 | 0</td>\n",
       "      <td>AK-47 cw - OTs 9, Pistol, MAC-10 - pi_papa320</td>\n",
       "    </tr>\n",
       "    <tr>\n",
       "      <th>18</th>\n",
       "      <td>GaelJMG</td>\n",
       "      <td>twenty_five</td>\n",
       "      <td>10.0</td>\n",
       "      <td>10 | 1 | 1</td>\n",
       "      <td>EM2 - Diamatti, Pistol, -</td>\n",
       "    </tr>\n",
       "    <tr>\n",
       "      <th>69</th>\n",
       "      <td>DonEleganza</td>\n",
       "      <td>seventeen</td>\n",
       "      <td>3.0</td>\n",
       "      <td>9 | 3 | 1</td>\n",
       "      <td>ar_akilo47 - sn_xmike109, Pistol, Pistol</td>\n",
       "    </tr>\n",
       "    <tr>\n",
       "      <th>96</th>\n",
       "      <td>n1ce</td>\n",
       "      <td>twelve</td>\n",
       "      <td>2.2</td>\n",
       "      <td>9 | 4 | 0</td>\n",
       "      <td>K31 - MAC-10, Pistol, OTs 9</td>\n",
       "    </tr>\n",
       "  </tbody>\n",
       "</table>\n",
       "</div>"
      ],
      "text/plain": [
       "          Player          Team    KD       K D A  \\\n",
       "124   DeadlyXhen        twenty   7.5  15 | 2 | 2   \n",
       "27    Cunny-Boss  thirty_three   3.7  11 | 3 | 0   \n",
       "18       GaelJMG   twenty_five  10.0  10 | 1 | 1   \n",
       "69   DonEleganza     seventeen   3.0   9 | 3 | 1   \n",
       "96          n1ce        twelve   2.2   9 | 4 | 0   \n",
       "\n",
       "                                          Loadouts  \n",
       "124                Milano - EM2, Pistol, sh_t9pump  \n",
       "27   AK-47 cw - OTs 9, Pistol, MAC-10 - pi_papa320  \n",
       "18                       EM2 - Diamatti, Pistol, -  \n",
       "69        ar_akilo47 - sn_xmike109, Pistol, Pistol  \n",
       "96                     K31 - MAC-10, Pistol, OTs 9  "
      ]
     },
     "execution_count": 75,
     "metadata": {},
     "output_type": "execute_result"
    }
   ],
   "source": [
    "players_kills = topPlayers(df)\n",
    "display(players_kills)\n",
    "top_players = renderPlayers(players_kills)\n",
    "top_players"
   ]
  },
  {
   "cell_type": "markdown",
   "id": "2525a4f8-67fa-4244-a6d4-b7396a2e2078",
   "metadata": {},
   "source": [
    "### Visualizations sandbox"
   ]
  },
  {
   "cell_type": "markdown",
   "id": "274f609d-cfa8-457e-aa8f-16ab2901dc59",
   "metadata": {},
   "source": [
    "#### Using Altair vega"
   ]
  },
  {
   "cell_type": "code",
   "execution_count": 76,
   "id": "f83c379e-9749-4680-9489-89415d5cef68",
   "metadata": {},
   "outputs": [
    {
     "data": {
      "text/html": [
       "<div>\n",
       "<style scoped>\n",
       "    .dataframe tbody tr th:only-of-type {\n",
       "        vertical-align: middle;\n",
       "    }\n",
       "\n",
       "    .dataframe tbody tr th {\n",
       "        vertical-align: top;\n",
       "    }\n",
       "\n",
       "    .dataframe thead th {\n",
       "        text-align: right;\n",
       "    }\n",
       "</style>\n",
       "<table border=\"1\" class=\"dataframe\">\n",
       "  <thead>\n",
       "    <tr style=\"text-align: right;\">\n",
       "      <th></th>\n",
       "      <th>Mode</th>\n",
       "      <th>Ended at</th>\n",
       "      <th>Team</th>\n",
       "      <th>Username</th>\n",
       "      <th>Playtime</th>\n",
       "      <th>#</th>\n",
       "      <th>KD</th>\n",
       "      <th>Kills</th>\n",
       "      <th>Deaths</th>\n",
       "      <th>Assists</th>\n",
       "      <th>Damage &gt;</th>\n",
       "      <th>Damage &lt;</th>\n",
       "      <th>Gulag</th>\n",
       "      <th>% moving</th>\n",
       "      <th>Game duration</th>\n",
       "      <th>Loadout_1</th>\n",
       "      <th>Loadout_2</th>\n",
       "      <th>Loadout_3</th>\n",
       "    </tr>\n",
       "  </thead>\n",
       "  <tbody>\n",
       "    <tr>\n",
       "      <th>0</th>\n",
       "      <td>Trios</td>\n",
       "      <td>2021-11-19 00:10:38</td>\n",
       "      <td>forty</td>\n",
       "      <td>MOMMA BOT</td>\n",
       "      <td>01:23</td>\n",
       "      <td>52</td>\n",
       "      <td>0.0</td>\n",
       "      <td>0</td>\n",
       "      <td>0</td>\n",
       "      <td>0</td>\n",
       "      <td>0</td>\n",
       "      <td>0</td>\n",
       "      <td>L</td>\n",
       "      <td>91.7</td>\n",
       "      <td>27</td>\n",
       "      <td>iw8_ar_kilo433 - iw8_sm_t9capacity</td>\n",
       "      <td>iw8_pi_t9semiauto - iw8_fists</td>\n",
       "      <td>-</td>\n",
       "    </tr>\n",
       "    <tr>\n",
       "      <th>1</th>\n",
       "      <td>Trios</td>\n",
       "      <td>2021-11-19 00:10:38</td>\n",
       "      <td>forty_four</td>\n",
       "      <td>aak112</td>\n",
       "      <td>16:04</td>\n",
       "      <td>18</td>\n",
       "      <td>2.5</td>\n",
       "      <td>5</td>\n",
       "      <td>2</td>\n",
       "      <td>0</td>\n",
       "      <td>1729</td>\n",
       "      <td>221</td>\n",
       "      <td>W</td>\n",
       "      <td>91.5</td>\n",
       "      <td>27</td>\n",
       "      <td>iw8_ar_t9british - iw8_sm_t9cqb</td>\n",
       "      <td>-</td>\n",
       "      <td>-</td>\n",
       "    </tr>\n",
       "  </tbody>\n",
       "</table>\n",
       "</div>"
      ],
      "text/plain": [
       "    Mode            Ended at        Team   Username Playtime   #   KD  Kills  \\\n",
       "0  Trios 2021-11-19 00:10:38       forty  MOMMA BOT    01:23  52  0.0      0   \n",
       "1  Trios 2021-11-19 00:10:38  forty_four     aak112    16:04  18  2.5      5   \n",
       "\n",
       "   Deaths  Assists  Damage >  Damage < Gulag  % moving Game duration  \\\n",
       "0       0        0         0         0     L      91.7            27   \n",
       "1       2        0      1729       221     W      91.5            27   \n",
       "\n",
       "                            Loadout_1                      Loadout_2 Loadout_3  \n",
       "0  iw8_ar_kilo433 - iw8_sm_t9capacity  iw8_pi_t9semiauto - iw8_fists         -  \n",
       "1     iw8_ar_t9british - iw8_sm_t9cqb                              -         -  "
      ]
     },
     "execution_count": 76,
     "metadata": {},
     "output_type": "execute_result"
    }
   ],
   "source": [
    "# load offline data\n",
    "with open('match.pkl', 'rb') as f:\n",
    "    match = pickle.load(f)\n",
    "df_match = MatchPlayersToDf(match)\n",
    "df = MatchPlayersStandardize(df_match)\n",
    "df.head(2)"
   ]
  },
  {
   "cell_type": "code",
   "execution_count": 77,
   "id": "c5c8380b-3c8e-457c-8881-78a10afbe761",
   "metadata": {},
   "outputs": [
    {
     "data": {
      "text/html": [
       "\n",
       "<div id=\"altair-viz-f0ef0446e5894b2fb96a6088fd21f7d0\"></div>\n",
       "<script type=\"text/javascript\">\n",
       "  (function(spec, embedOpt){\n",
       "    let outputDiv = document.currentScript.previousElementSibling;\n",
       "    if (outputDiv.id !== \"altair-viz-f0ef0446e5894b2fb96a6088fd21f7d0\") {\n",
       "      outputDiv = document.getElementById(\"altair-viz-f0ef0446e5894b2fb96a6088fd21f7d0\");\n",
       "    }\n",
       "    const paths = {\n",
       "      \"vega\": \"https://cdn.jsdelivr.net/npm//vega@5?noext\",\n",
       "      \"vega-lib\": \"https://cdn.jsdelivr.net/npm//vega-lib?noext\",\n",
       "      \"vega-lite\": \"https://cdn.jsdelivr.net/npm//vega-lite@4.8.1?noext\",\n",
       "      \"vega-embed\": \"https://cdn.jsdelivr.net/npm//vega-embed@6?noext\",\n",
       "    };\n",
       "\n",
       "    function loadScript(lib) {\n",
       "      return new Promise(function(resolve, reject) {\n",
       "        var s = document.createElement('script');\n",
       "        s.src = paths[lib];\n",
       "        s.async = true;\n",
       "        s.onload = () => resolve(paths[lib]);\n",
       "        s.onerror = () => reject(`Error loading script: ${paths[lib]}`);\n",
       "        document.getElementsByTagName(\"head\")[0].appendChild(s);\n",
       "      });\n",
       "    }\n",
       "\n",
       "    function showError(err) {\n",
       "      outputDiv.innerHTML = `<div class=\"error\" style=\"color:red;\">${err}</div>`;\n",
       "      throw err;\n",
       "    }\n",
       "\n",
       "    function displayChart(vegaEmbed) {\n",
       "      vegaEmbed(outputDiv, spec, embedOpt)\n",
       "        .catch(err => showError(`Javascript Error: ${err.message}<br>This usually means there's a typo in your chart specification. See the javascript console for the full traceback.`));\n",
       "    }\n",
       "\n",
       "    if(typeof define === \"function\" && define.amd) {\n",
       "      requirejs.config({paths});\n",
       "      require([\"vega-embed\"], displayChart, err => showError(`Error loading script: ${err.message}`));\n",
       "    } else if (typeof vegaEmbed === \"function\") {\n",
       "      displayChart(vegaEmbed);\n",
       "    } else {\n",
       "      loadScript(\"vega\")\n",
       "        .then(() => loadScript(\"vega-lite\"))\n",
       "        .then(() => loadScript(\"vega-embed\"))\n",
       "        .catch(showError)\n",
       "        .then(() => displayChart(vegaEmbed));\n",
       "    }\n",
       "  })({\"config\": {\"view\": {\"continuousWidth\": 400, \"continuousHeight\": 300}}, \"layer\": [{\"mark\": \"bar\", \"encoding\": {\"color\": {\"value\": \"orange\"}, \"tooltip\": [{\"type\": \"quantitative\", \"field\": \"Kills\"}], \"x\": {\"type\": \"quantitative\", \"bin\": {\"step\": 1}, \"field\": \"Kills\"}, \"y\": {\"type\": \"quantitative\", \"aggregate\": \"count\", \"axis\": {\"format\": \"\", \"title\": \"n Players\"}}}, \"height\": 300, \"width\": 400}, {\"mark\": {\"type\": \"rule\", \"color\": \"red\"}, \"encoding\": {\"size\": {\"value\": 3}, \"x\": {\"type\": \"quantitative\", \"aggregate\": \"median\", \"field\": \"Kills\", \"title\": \"Kills\"}}}], \"data\": {\"name\": \"data-ade2b33c9649b9e463d98cb4d751d088\"}, \"$schema\": \"https://vega.github.io/schema/vega-lite/v4.8.1.json\", \"datasets\": {\"data-ade2b33c9649b9e463d98cb4d751d088\": [{\"Mode\": \"Trios\", \"Ended at\": \"2021-11-19T00:10:38\", \"Team\": \"forty\", \"Username\": \"MOMMA BOT\", \"Playtime\": \"01:23\", \"#\": 52, \"KD\": 0.0, \"Kills\": 0, \"Deaths\": 0, \"Assists\": 0, \"Damage >\": 0, \"Damage <\": 0, \"Gulag\": \"L\", \"% moving\": 91.7, \"Game duration\": \"27\", \"Loadout_1\": \"iw8_ar_kilo433 - iw8_sm_t9capacity\", \"Loadout_2\": \"iw8_pi_t9semiauto - iw8_fists\", \"Loadout_3\": \"-\"}, {\"Mode\": \"Trios\", \"Ended at\": \"2021-11-19T00:10:38\", \"Team\": \"forty_four\", \"Username\": \"aak112\", \"Playtime\": \"16:04\", \"#\": 18, \"KD\": 2.5, \"Kills\": 5, \"Deaths\": 2, \"Assists\": 0, \"Damage >\": 1729, \"Damage <\": 221, \"Gulag\": \"W\", \"% moving\": 91.5, \"Game duration\": \"27\", \"Loadout_1\": \"iw8_ar_t9british - iw8_sm_t9cqb\", \"Loadout_2\": \"-\", \"Loadout_3\": \"-\"}, {\"Mode\": \"Trios\", \"Ended at\": \"2021-11-19T00:10:38\", \"Team\": \"forty_three\", \"Username\": \"Matteo_B1986\", \"Playtime\": \"27:39\", \"#\": 3, \"KD\": 0.0, \"Kills\": 0, \"Deaths\": 4, \"Assists\": 1, \"Damage >\": 198, \"Damage <\": 818, \"Gulag\": \"L\", \"% moving\": 69.6, \"Game duration\": \"27\", \"Loadout_1\": \"iw8_ar_galima - iw8_sm_t9heavy\", \"Loadout_2\": \"iw8_ar_t9damage - iw8_fists\", \"Loadout_3\": \"iw8_lm_t9light - iw8_sm_mpapa5\"}, {\"Mode\": \"Trios\", \"Ended at\": \"2021-11-19T00:10:38\", \"Team\": \"thirty_three\", \"Username\": \"CarryDaTeam\", \"Playtime\": \"24:13\", \"#\": 5, \"KD\": 2.3, \"Kills\": 7, \"Deaths\": 3, \"Assists\": 2, \"Damage >\": 3535, \"Damage <\": 448, \"Gulag\": \"L\", \"% moving\": 87.1, \"Game duration\": \"27\", \"Loadout_1\": \"iw8_ar_t9damage - iw8_sn_kilo98\", \"Loadout_2\": \"iw8_ar_t9fasthandling - iw8_fists\", \"Loadout_3\": \"-\"}, {\"Mode\": \"Trios\", \"Ended at\": \"2021-11-19T00:10:38\", \"Team\": \"thirty_six\", \"Username\": \"KaliseDerretido\", \"Playtime\": \"14:20\", \"#\": 19, \"KD\": 0.3, \"Kills\": 1, \"Deaths\": 3, \"Assists\": 1, \"Damage >\": 212, \"Damage <\": 409, \"Gulag\": \"W\", \"% moving\": 89.4, \"Game duration\": \"27\", \"Loadout_1\": \"iw8_ar_t9slowhandling - iw8_pi_decho\", \"Loadout_2\": \"iw8_pi_t9semiauto - iw8_fists\", \"Loadout_3\": \"iw8_pi_t9semiauto - iw8_fists\"}, {\"Mode\": \"Trios\", \"Ended at\": \"2021-11-19T00:10:38\", \"Team\": \"forty_three\", \"Username\": \"DamiaNik93\", \"Playtime\": \"27:49\", \"#\": 3, \"KD\": 3.0, \"Kills\": 3, \"Deaths\": 1, \"Assists\": 1, \"Damage >\": 874, \"Damage <\": 158, \"Gulag\": \"L\", \"% moving\": 98.8, \"Game duration\": \"27\", \"Loadout_1\": \"iw8_sm_t9cqb - iw8_sn_kilo98\", \"Loadout_2\": \"-\", \"Loadout_3\": \"-\"}, {\"Mode\": \"Trios\", \"Ended at\": \"2021-11-19T00:10:38\", \"Team\": \"fifty\", \"Username\": \"W3D SM1L3Y\", \"Playtime\": \"07:19\", \"#\": 13, \"KD\": 0.0, \"Kills\": 0, \"Deaths\": 2, \"Assists\": 1, \"Damage >\": 8, \"Damage <\": 208, \"Gulag\": \"L\", \"% moving\": 91.4, \"Game duration\": \"27\", \"Loadout_1\": \"iw8_ar_mcharlie - iw8_sn_kilo98\", \"Loadout_2\": \"iw8_pi_t9semiauto - iw8_fists\", \"Loadout_3\": \"-\"}, {\"Mode\": \"Trios\", \"Ended at\": \"2021-11-19T00:10:38\", \"Team\": \"axis\", \"Username\": \"CAVALIERE NERO\", \"Playtime\": \"07:07\", \"#\": 36, \"KD\": 1.0, \"Kills\": 3, \"Deaths\": 3, \"Assists\": 2, \"Damage >\": 1100, \"Damage <\": 606, \"Gulag\": \"L\", \"% moving\": 83.6, \"Game duration\": \"27\", \"Loadout_1\": \"iw8_sm_t9cqb - iw8_sn_t9accurate\", \"Loadout_2\": \"iw8_pi_t9semiauto - iw8_fists\", \"Loadout_3\": \"iw8_ar_t9damage - iw8_fists\"}, {\"Mode\": \"Trios\", \"Ended at\": \"2021-11-19T00:10:38\", \"Team\": \"fifty_two\", \"Username\": \"EightbitLuke\", \"Playtime\": \"04:49\", \"#\": 46, \"KD\": 0.0, \"Kills\": 0, \"Deaths\": 2, \"Assists\": 0, \"Damage >\": 98, \"Damage <\": 268, \"Gulag\": \"L\", \"% moving\": 94.1, \"Game duration\": \"27\", \"Loadout_1\": \"iw8_ar_mcharlie - iw8_sn_t9accurate\", \"Loadout_2\": \"iw8_pi_t9semiauto - iw8_fists\", \"Loadout_3\": \"-\"}, {\"Mode\": \"Trios\", \"Ended at\": \"2021-11-19T00:10:38\", \"Team\": \"twenty_three\", \"Username\": \"Andrewimpakt96\", \"Playtime\": \"22:05\", \"#\": 8, \"KD\": 3.0, \"Kills\": 6, \"Deaths\": 2, \"Assists\": 2, \"Damage >\": 1744, \"Damage <\": 703, \"Gulag\": \"W\", \"% moving\": 69.4, \"Game duration\": \"27\", \"Loadout_1\": \"iw8_ar_t9slowhandling - iw8_sm_t9fastfire\", \"Loadout_2\": \"iw8_pi_t9semiauto - iw8_fists\", \"Loadout_3\": \"-\"}, {\"Mode\": \"Trios\", \"Ended at\": \"2021-11-19T00:10:38\", \"Team\": \"sixteen\", \"Username\": \"twitch l0rena22\", \"Playtime\": \"07:57\", \"#\": 35, \"KD\": 0.3, \"Kills\": 1, \"Deaths\": 3, \"Assists\": 1, \"Damage >\": 510, \"Damage <\": 658, \"Gulag\": \"W\", \"% moving\": 84.0, \"Game duration\": \"27\", \"Loadout_1\": \"iw8_sm_t9cqb - iw8_ar_t9slowfire\", \"Loadout_2\": \"iw8_pi_t9semiauto - iw8_fists\", \"Loadout_3\": \"-\"}, {\"Mode\": \"Trios\", \"Ended at\": \"2021-11-19T00:10:38\", \"Team\": \"forty_eight\", \"Username\": \"BadMuthaFKRLGC\", \"Playtime\": \"05:39\", \"#\": 17, \"KD\": 1.0, \"Kills\": 2, \"Deaths\": 2, \"Assists\": 0, \"Damage >\": 442, \"Damage <\": 320, \"Gulag\": \"L\", \"% moving\": 82.2, \"Game duration\": \"27\", \"Loadout_1\": \"iw8_ar_anovember94 - iw8_knife\", \"Loadout_2\": \"iw8_pi_t9semiauto - iw8_fists\", \"Loadout_3\": \"-\"}, {\"Mode\": \"Trios\", \"Ended at\": \"2021-11-19T00:10:38\", \"Team\": \"nineteen\", \"Username\": \"Hazardous\", \"Playtime\": \"27:35\", \"#\": 4, \"KD\": 0.5, \"Kills\": 1, \"Deaths\": 2, \"Assists\": 2, \"Damage >\": 765, \"Damage <\": 552, \"Gulag\": \"W\", \"% moving\": 66.4, \"Game duration\": \"27\", \"Loadout_1\": \"iw8_sn_kilo98 - iw8_pi_t9burst\", \"Loadout_2\": \"-\", \"Loadout_3\": \"-\"}, {\"Mode\": \"Trios\", \"Ended at\": \"2021-11-19T00:10:38\", \"Team\": \"forty_nine\", \"Username\": \"Ethereum\", \"Playtime\": \"00:20\", \"#\": 49, \"KD\": 0.0, \"Kills\": 0, \"Deaths\": 0, \"Assists\": 0, \"Damage >\": 0, \"Damage <\": 0, \"Gulag\": \"L\", \"% moving\": 0.0, \"Game duration\": \"27\", \"Loadout_1\": \"-\", \"Loadout_2\": \"-\", \"Loadout_3\": \"-\"}, {\"Mode\": \"Trios\", \"Ended at\": \"2021-11-19T00:10:38\", \"Team\": \"thirteen\", \"Username\": \"Tete en cuir\", \"Playtime\": \"06:29\", \"#\": 39, \"KD\": 0.0, \"Kills\": 0, \"Deaths\": 2, \"Assists\": 0, \"Damage >\": 2, \"Damage <\": 300, \"Gulag\": \"L\", \"% moving\": 39.2, \"Game duration\": \"27\", \"Loadout_1\": \"iw8_ar_t9damage - iw8_sm_t9cqb\", \"Loadout_2\": \"iw8_pi_t9semiauto - iw8_fists\", \"Loadout_3\": \"-\"}, {\"Mode\": \"Trios\", \"Ended at\": \"2021-11-19T00:10:38\", \"Team\": \"twenty_nine\", \"Username\": \"iamgettingbored\", \"Playtime\": \"07:35\", \"#\": 30, \"KD\": 0.0, \"Kills\": 0, \"Deaths\": 2, \"Assists\": 2, \"Damage >\": 132, \"Damage <\": 542, \"Gulag\": \"L\", \"% moving\": 76.3, \"Game duration\": \"27\", \"Loadout_1\": \"iw8_lm_mgolf36 - iw8_sh_t9fullauto\", \"Loadout_2\": \"-\", \"Loadout_3\": \"-\"}, {\"Mode\": \"Trios\", \"Ended at\": \"2021-11-19T00:10:38\", \"Team\": \"three\", \"Username\": \"TataDeni\", \"Playtime\": \"14:21\", \"#\": 21, \"KD\": 4.0, \"Kills\": 8, \"Deaths\": 2, \"Assists\": 1, \"Damage >\": 2025, \"Damage <\": 400, \"Gulag\": \"W\", \"% moving\": 79.1, \"Game duration\": \"27\", \"Loadout_1\": \"iw8_ar_t9slowfire - iw8_sm_mpapa5\", \"Loadout_2\": \"iw8_pi_t9semiauto - iw8_fists\", \"Loadout_3\": \"-\"}, {\"Mode\": \"Trios\", \"Ended at\": \"2021-11-19T00:10:38\", \"Team\": \"forty_two\", \"Username\": \"aimtermintor\", \"Playtime\": \"20:50\", \"#\": 12, \"KD\": 1.0, \"Kills\": 2, \"Deaths\": 2, \"Assists\": 0, \"Damage >\": 609, \"Damage <\": 715, \"Gulag\": \"W\", \"% moving\": 73.4, \"Game duration\": \"27\", \"Loadout_1\": \"iw8_sm_t9fastfire - iw8_sn_kilo98\", \"Loadout_2\": \"-\", \"Loadout_3\": \"-\"}, {\"Mode\": \"Trios\", \"Ended at\": \"2021-11-19T00:10:38\", \"Team\": \"twenty_five\", \"Username\": \"GaelJMG\", \"Playtime\": \"27:54\", \"#\": 2, \"KD\": 10.0, \"Kills\": 10, \"Deaths\": 1, \"Assists\": 1, \"Damage >\": 3664, \"Damage <\": 379, \"Gulag\": \"L\", \"% moving\": 91.5, \"Game duration\": \"27\", \"Loadout_1\": \"iw8_ar_t9british - iw8_pi_t9burst\", \"Loadout_2\": \"iw8_pi_t9semiauto - iw8_fists\", \"Loadout_3\": \"-\"}, {\"Mode\": \"Trios\", \"Ended at\": \"2021-11-19T00:10:38\", \"Team\": \"twenty_two\", \"Username\": \"gallu09\", \"Playtime\": \"23:08\", \"#\": 10, \"KD\": 2.0, \"Kills\": 4, \"Deaths\": 2, \"Assists\": 1, \"Damage >\": 1222, \"Damage <\": 373, \"Gulag\": \"W\", \"% moving\": 85.4, \"Game duration\": \"27\", \"Loadout_1\": \"iw8_ar_t9standard - iw8_sn_t9quickscope\", \"Loadout_2\": \"-\", \"Loadout_3\": \"-\"}, {\"Mode\": \"Trios\", \"Ended at\": \"2021-11-19T00:10:38\", \"Team\": \"twenty_two\", \"Username\": \"ferru97\", \"Playtime\": \"23:07\", \"#\": 10, \"KD\": 0.3, \"Kills\": 1, \"Deaths\": 3, \"Assists\": 0, \"Damage >\": 281, \"Damage <\": 620, \"Gulag\": \"L\", \"% moving\": 79.7, \"Game duration\": \"27\", \"Loadout_1\": \"iw8_ar_t9slowhandling - iw8_la_t9freefire\", \"Loadout_2\": \"iw8_pi_t9semiauto - iw8_fists\", \"Loadout_3\": \"iw8_sh_t9pump - iw8_fists\"}, {\"Mode\": \"Trios\", \"Ended at\": \"2021-11-19T00:10:38\", \"Team\": \"twenty_nine\", \"Username\": \"SenorSam2005\", \"Playtime\": \"07:38\", \"#\": 30, \"KD\": 1.5, \"Kills\": 3, \"Deaths\": 2, \"Assists\": 0, \"Damage >\": 918, \"Damage <\": 283, \"Gulag\": \"L\", \"% moving\": 92.7, \"Game duration\": \"27\", \"Loadout_1\": \"iw8_ar_t9standard - iw8_sn_kilo98\", \"Loadout_2\": \"-\", \"Loadout_3\": \"-\"}, {\"Mode\": \"Trios\", \"Ended at\": \"2021-11-19T00:10:38\", \"Team\": \"thirty_five\", \"Username\": \"King Lundqvist\", \"Playtime\": \"27:58\", \"#\": 6, \"KD\": 2.0, \"Kills\": 2, \"Deaths\": 1, \"Assists\": 3, \"Damage >\": 1471, \"Damage <\": 425, \"Gulag\": \"L\", \"% moving\": 81.0, \"Game duration\": \"27\", \"Loadout_1\": \"iw8_ar_t9damage - iw8_sn_kilo98\", \"Loadout_2\": \"-\", \"Loadout_3\": \"-\"}, {\"Mode\": \"Trios\", \"Ended at\": \"2021-11-19T00:10:38\", \"Team\": \"twenty_nine\", \"Username\": \"DrJam1\", \"Playtime\": \"08:19\", \"#\": 30, \"KD\": 0.5, \"Kills\": 1, \"Deaths\": 2, \"Assists\": 0, \"Damage >\": 330, \"Damage <\": 349, \"Gulag\": \"W\", \"% moving\": 79.8, \"Game duration\": \"27\", \"Loadout_1\": \"iw8_sn_t9accurate - iw8_sm_t9capacity\", \"Loadout_2\": \"-\", \"Loadout_3\": \"-\"}, {\"Mode\": \"Trios\", \"Ended at\": \"2021-11-19T00:10:38\", \"Team\": \"thirty_one\", \"Username\": \"Asura95\", \"Playtime\": \"19:58\", \"#\": 14, \"KD\": 1.0, \"Kills\": 2, \"Deaths\": 2, \"Assists\": 0, \"Damage >\": 1106, \"Damage <\": 493, \"Gulag\": \"W\", \"% moving\": 84.5, \"Game duration\": \"27\", \"Loadout_1\": \"iw8_ar_t9slowfire - iw8_sm_t9fastfire\", \"Loadout_2\": \"iw8_pi_t9semiauto - iw8_fists\", \"Loadout_3\": \"-\"}, {\"Mode\": \"Trios\", \"Ended at\": \"2021-11-19T00:10:38\", \"Team\": \"thirty_four\", \"Username\": \"xCJD\", \"Playtime\": \"00:22\", \"#\": 53, \"KD\": 0.0, \"Kills\": 0, \"Deaths\": 0, \"Assists\": 0, \"Damage >\": 0, \"Damage <\": 0, \"Gulag\": \"L\", \"% moving\": 0.0, \"Game duration\": \"27\", \"Loadout_1\": \"iw8_ar_mcharlie - iw8_sn_alpha50\", \"Loadout_2\": \"-\", \"Loadout_3\": \"-\"}, {\"Mode\": \"Trios\", \"Ended at\": \"2021-11-19T00:10:38\", \"Team\": \"forty_nine\", \"Username\": \"Joshthebinman69\", \"Playtime\": \"28:28\", \"#\": 49, \"KD\": 0.0, \"Kills\": 0, \"Deaths\": 2, \"Assists\": 0, \"Damage >\": 0, \"Damage <\": 200, \"Gulag\": \"L\", \"% moving\": 6.7, \"Game duration\": \"27\", \"Loadout_1\": \"iw8_ar_kilo433 - iw8_sm_t9fastfire\", \"Loadout_2\": \"-\", \"Loadout_3\": \"-\"}, {\"Mode\": \"Trios\", \"Ended at\": \"2021-11-19T00:10:38\", \"Team\": \"thirty_three\", \"Username\": \"Cunny-Boss\", \"Playtime\": \"24:14\", \"#\": 5, \"KD\": 3.7, \"Kills\": 11, \"Deaths\": 3, \"Assists\": 0, \"Damage >\": 3931, \"Damage <\": 830, \"Gulag\": \"W\", \"% moving\": 78.7, \"Game duration\": \"27\", \"Loadout_1\": \"iw8_ar_t9damage - iw8_sm_t9cqb\", \"Loadout_2\": \"iw8_pi_t9semiauto - iw8_fists\", \"Loadout_3\": \"iw8_sm_t9fastfire - iw8_pi_papa320\"}, {\"Mode\": \"Trios\", \"Ended at\": \"2021-11-19T00:10:38\", \"Team\": \"fifty_two\", \"Username\": \"BizzleBoy\", \"Playtime\": \"04:47\", \"#\": 46, \"KD\": 0.5, \"Kills\": 1, \"Deaths\": 2, \"Assists\": 0, \"Damage >\": 343, \"Damage <\": 300, \"Gulag\": \"L\", \"% moving\": 81.6, \"Game duration\": \"27\", \"Loadout_1\": \"iw8_ar_t9damage - iw8_sh_t9semiauto\", \"Loadout_2\": \"iw8_pi_t9semiauto - iw8_fists\", \"Loadout_3\": \"-\"}, {\"Mode\": \"Trios\", \"Ended at\": \"2021-11-19T00:10:38\", \"Team\": \"thirty_one\", \"Username\": \"RedFoX\", \"Playtime\": \"19:58\", \"#\": 14, \"KD\": 1.5, \"Kills\": 3, \"Deaths\": 2, \"Assists\": 1, \"Damage >\": 1155, \"Damage <\": 621, \"Gulag\": \"W\", \"% moving\": 89.0, \"Game duration\": \"27\", \"Loadout_1\": \"iw8_ar_t9damage - iw8_pi_t9burst\", \"Loadout_2\": \"iw8_pi_t9semiauto - iw8_fists\", \"Loadout_3\": \"-\"}, {\"Mode\": \"Trios\", \"Ended at\": \"2021-11-19T00:10:38\", \"Team\": \"thirty_four\", \"Username\": \"RWM973\", \"Playtime\": \"00:35\", \"#\": 53, \"KD\": 0.0, \"Kills\": 0, \"Deaths\": 0, \"Assists\": 0, \"Damage >\": 0, \"Damage <\": 0, \"Gulag\": \"L\", \"% moving\": 0.0, \"Game duration\": \"27\", \"Loadout_1\": \"-\", \"Loadout_2\": \"-\", \"Loadout_3\": \"-\"}, {\"Mode\": \"Trios\", \"Ended at\": \"2021-11-19T00:10:38\", \"Team\": \"eighteen\", \"Username\": \"ByKillerEs\", \"Playtime\": \"08:30\", \"#\": 34, \"KD\": 1.0, \"Kills\": 2, \"Deaths\": 2, \"Assists\": 0, \"Damage >\": 493, \"Damage <\": 338, \"Gulag\": \"W\", \"% moving\": 89.0, \"Game duration\": \"27\", \"Loadout_1\": \"iw8_sm_t9cqb - iw8_sn_xmike109\", \"Loadout_2\": \"-\", \"Loadout_3\": \"-\"}, {\"Mode\": \"Trios\", \"Ended at\": \"2021-11-19T00:10:38\", \"Team\": \"forty\", \"Username\": \"THE BOT DEMON\", \"Playtime\": \"02:12\", \"#\": 52, \"KD\": 0.0, \"Kills\": 0, \"Deaths\": 0, \"Assists\": 0, \"Damage >\": 60, \"Damage <\": 0, \"Gulag\": \"L\", \"% moving\": 91.7, \"Game duration\": \"27\", \"Loadout_1\": \"iw8_ar_t9british - iw8_sn_t9accurate\", \"Loadout_2\": \"-\", \"Loadout_3\": \"-\"}, {\"Mode\": \"Trios\", \"Ended at\": \"2021-11-19T00:10:38\", \"Team\": \"fourteen\", \"Username\": \"Mooretex\", \"Playtime\": \"14:29\", \"#\": 20, \"KD\": 1.0, \"Kills\": 2, \"Deaths\": 2, \"Assists\": 0, \"Damage >\": 1140, \"Damage <\": 300, \"Gulag\": \"L\", \"% moving\": 95.8, \"Game duration\": \"27\", \"Loadout_1\": \"iw8_sm_t9spray - iw8_la_kgolf\", \"Loadout_2\": \"iw8_pi_t9semiauto - iw8_fists\", \"Loadout_3\": \"-\"}, {\"Mode\": \"Trios\", \"Ended at\": \"2021-11-19T00:10:38\", \"Team\": \"four\", \"Username\": \"ekoo\", \"Playtime\": \"09:53\", \"#\": 27, \"KD\": 0.5, \"Kills\": 1, \"Deaths\": 2, \"Assists\": 0, \"Damage >\": 768, \"Damage <\": 433, \"Gulag\": \"W\", \"% moving\": 83.8, \"Game duration\": \"27\", \"Loadout_1\": \"iw8_ar_t9standard - iw8_sn_t9accurate\", \"Loadout_2\": \"iw8_pi_t9semiauto - iw8_fists\", \"Loadout_3\": \"-\"}, {\"Mode\": \"Trios\", \"Ended at\": \"2021-11-19T00:10:38\", \"Team\": \"axis\", \"Username\": \"Frenk_il Bue_\", \"Playtime\": \"07:05\", \"#\": 36, \"KD\": 2.0, \"Kills\": 4, \"Deaths\": 2, \"Assists\": 1, \"Damage >\": 1036, \"Damage <\": 576, \"Gulag\": \"W\", \"% moving\": 92.1, \"Game duration\": \"27\", \"Loadout_1\": \"iw8_ar_t9slowfire - iw8_sm_t9spray\", \"Loadout_2\": \"iw8_pi_t9semiauto - iw8_fists\", \"Loadout_3\": \"-\"}, {\"Mode\": \"Trios\", \"Ended at\": \"2021-11-19T00:10:38\", \"Team\": \"ten\", \"Username\": \"dembeleee92\", \"Playtime\": \"09:13\", \"#\": 28, \"KD\": 1.0, \"Kills\": 2, \"Deaths\": 2, \"Assists\": 2, \"Damage >\": 561, \"Damage <\": 360, \"Gulag\": \"W\", \"% moving\": 89.5, \"Game duration\": \"27\", \"Loadout_1\": \"iw8_lm_pkilo - iw8_la_rpapa7\", \"Loadout_2\": \"iw8_pi_t9semiauto - iw8_fists\", \"Loadout_3\": \"-\"}, {\"Mode\": \"Trios\", \"Ended at\": \"2021-11-19T00:10:38\", \"Team\": \"thirty_one\", \"Username\": \"WerVardyGestern\", \"Playtime\": \"19:41\", \"#\": 14, \"KD\": 1.5, \"Kills\": 3, \"Deaths\": 2, \"Assists\": 0, \"Damage >\": 891, \"Damage <\": 367, \"Gulag\": \"L\", \"% moving\": 64.4, \"Game duration\": \"27\", \"Loadout_1\": \"iw8_ar_t9standard - iw8_sn_t9accurate\", \"Loadout_2\": \"iw8_pi_t9semiauto - iw8_fists\", \"Loadout_3\": \"-\"}, {\"Mode\": \"Trios\", \"Ended at\": \"2021-11-19T00:10:38\", \"Team\": \"fifty\", \"Username\": \"Spanky_P\", \"Playtime\": \"22:14\", \"#\": 13, \"KD\": 0.7, \"Kills\": 2, \"Deaths\": 3, \"Assists\": 1, \"Damage >\": 808, \"Damage <\": 403, \"Gulag\": \"L\", \"% moving\": 78.0, \"Game duration\": \"27\", \"Loadout_1\": \"iw8_sm_t9heavy - iw8_ar_t9standard\", \"Loadout_2\": \"iw8_pi_t9semiauto - iw8_fists\", \"Loadout_3\": \"iw8_sn_t9damagesemi - iw8_fists\"}, {\"Mode\": \"Trios\", \"Ended at\": \"2021-11-19T00:10:38\", \"Team\": \"eight\", \"Username\": \"El Profesor\", \"Playtime\": \"06:23\", \"#\": 43, \"KD\": 0.0, \"Kills\": 0, \"Deaths\": 2, \"Assists\": 0, \"Damage >\": 192, \"Damage <\": 212, \"Gulag\": \"L\", \"% moving\": 51.8, \"Game duration\": \"27\", \"Loadout_1\": \"iw8_ar_mike4 - iw8_knife\", \"Loadout_2\": \"iw8_pi_t9semiauto - iw8_fists\", \"Loadout_3\": \"-\"}, {\"Mode\": \"Trios\", \"Ended at\": \"2021-11-19T00:10:38\", \"Team\": \"forty_eight\", \"Username\": \"Krisztof\", \"Playtime\": \"16:26\", \"#\": 17, \"KD\": 1.0, \"Kills\": 4, \"Deaths\": 4, \"Assists\": 1, \"Damage >\": 1533, \"Damage <\": 814, \"Gulag\": \"L\", \"% moving\": 79.0, \"Game duration\": \"27\", \"Loadout_1\": \"iw8_ar_mike4 - iw8_sm_t9fastfire\", \"Loadout_2\": \"iw8_sm_t9cqb - iw8_fists\", \"Loadout_3\": \"iw8_pi_t9semiauto - iw8_fists\"}, {\"Mode\": \"Trios\", \"Ended at\": \"2021-11-19T00:10:38\", \"Team\": \"twenty_six\", \"Username\": \"Martha\", \"Playtime\": \"06:15\", \"#\": 44, \"KD\": 0.5, \"Kills\": 1, \"Deaths\": 2, \"Assists\": 0, \"Damage >\": 579, \"Damage <\": 300, \"Gulag\": \"W\", \"% moving\": 79.9, \"Game duration\": \"27\", \"Loadout_1\": \"iw8_ar_t9standard - iw8_sm_t9cqb\", \"Loadout_2\": \"-\", \"Loadout_3\": \"-\"}, {\"Mode\": \"Trios\", \"Ended at\": \"2021-11-19T00:10:38\", \"Team\": \"eighteen\", \"Username\": \"THECURRYALPHA\", \"Playtime\": \"08:00\", \"#\": 34, \"KD\": 0.0, \"Kills\": 0, \"Deaths\": 2, \"Assists\": 0, \"Damage >\": 84, \"Damage <\": 300, \"Gulag\": \"L\", \"% moving\": 77.0, \"Game duration\": \"27\", \"Loadout_1\": \"iw8_ar_mike4 - iw8_sn_t9quickscope\", \"Loadout_2\": \"iw8_pi_t9semiauto - iw8_fists\", \"Loadout_3\": \"-\"}, {\"Mode\": \"Trios\", \"Ended at\": \"2021-11-19T00:10:38\", \"Team\": \"twenty_one\", \"Username\": \"Dimi_97\", \"Playtime\": \"05:55\", \"#\": 42, \"KD\": 0.0, \"Kills\": 0, \"Deaths\": 2, \"Assists\": 0, \"Damage >\": 119, \"Damage <\": 200, \"Gulag\": \"L\", \"% moving\": 88.9, \"Game duration\": \"27\", \"Loadout_1\": \"iw8_ar_galima - iw8_pi_mike\", \"Loadout_2\": \"-\", \"Loadout_3\": \"-\"}, {\"Mode\": \"Trios\", \"Ended at\": \"2021-11-19T00:10:38\", \"Team\": \"five\", \"Username\": \"iamfisi\", \"Playtime\": \"18:53\", \"#\": 15, \"KD\": 3.5, \"Kills\": 7, \"Deaths\": 2, \"Assists\": 1, \"Damage >\": 2863, \"Damage <\": 519, \"Gulag\": \"W\", \"% moving\": 96.9, \"Game duration\": \"27\", \"Loadout_1\": \"iw8_sm_t9cqb - iw8_ar_t9british\", \"Loadout_2\": \"iw8_pi_t9semiauto - iw8_fists\", \"Loadout_3\": \"-\"}, {\"Mode\": \"Trios\", \"Ended at\": \"2021-11-19T00:10:38\", \"Team\": \"forty_one\", \"Username\": \"Mikey\", \"Playtime\": \"10:28\", \"#\": 26, \"KD\": 0.5, \"Kills\": 1, \"Deaths\": 2, \"Assists\": 2, \"Damage >\": 540, \"Damage <\": 266, \"Gulag\": \"L\", \"% moving\": 56.3, \"Game duration\": \"27\", \"Loadout_1\": \"iw8_sm_mpapa7 - iw8_sn_kilo98\", \"Loadout_2\": \"iw8_pi_t9semiauto - iw8_fists\", \"Loadout_3\": \"-\"}, {\"Mode\": \"Trios\", \"Ended at\": \"2021-11-19T00:10:38\", \"Team\": \"eleven\", \"Username\": \"voltlaag\", \"Playtime\": \"04:17\", \"#\": 48, \"KD\": 0.5, \"Kills\": 1, \"Deaths\": 2, \"Assists\": 0, \"Damage >\": 192, \"Damage <\": 300, \"Gulag\": \"W\", \"% moving\": 82.0, \"Game duration\": \"27\", \"Loadout_1\": \"iw8_ar_t9standard - iw8_sm_t9cqb\", \"Loadout_2\": \"iw8_pi_t9semiauto - iw8_fists\", \"Loadout_3\": \"-\"}, {\"Mode\": \"Trios\", \"Ended at\": \"2021-11-19T00:10:38\", \"Team\": \"fifty_one\", \"Username\": \"Piofhut\", \"Playtime\": \"07:40\", \"#\": 32, \"KD\": 0.0, \"Kills\": 0, \"Deaths\": 1, \"Assists\": 0, \"Damage >\": 218, \"Damage <\": 294, \"Gulag\": \"L\", \"% moving\": 97.1, \"Game duration\": \"27\", \"Loadout_1\": \"iw8_me_riotshield - iw8_ar_mcharlie\", \"Loadout_2\": \"iw8_pi_t9semiauto - iw8_fists\", \"Loadout_3\": \"-\"}, {\"Mode\": \"Trios\", \"Ended at\": \"2021-11-19T00:10:38\", \"Team\": \"forty_six\", \"Username\": \"Tiikelo\", \"Playtime\": \"08:07\", \"#\": 33, \"KD\": 1.0, \"Kills\": 3, \"Deaths\": 3, \"Assists\": 0, \"Damage >\": 933, \"Damage <\": 481, \"Gulag\": \"W\", \"% moving\": 79.5, \"Game duration\": \"27\", \"Loadout_1\": \"iw8_ar_t9standard - iw8_sn_t9quickscope\", \"Loadout_2\": \"iw8_pi_t9semiauto - iw8_fists\", \"Loadout_3\": \"-\"}, {\"Mode\": \"Trios\", \"Ended at\": \"2021-11-19T00:10:38\", \"Team\": \"five\", \"Username\": \"MrsLovely\", \"Playtime\": \"18:48\", \"#\": 15, \"KD\": 1.5, \"Kills\": 3, \"Deaths\": 2, \"Assists\": 2, \"Damage >\": 876, \"Damage <\": 472, \"Gulag\": \"W\", \"% moving\": 81.2, \"Game duration\": \"27\", \"Loadout_1\": \"iw8_sm_t9capacity - iw8_sn_hdromeo\", \"Loadout_2\": \"iw8_pi_t9semiauto - iw8_fists\", \"Loadout_3\": \"-\"}, {\"Mode\": \"Trios\", \"Ended at\": \"2021-11-19T00:10:38\", \"Team\": \"fifteen\", \"Username\": \"XxD-ii_N-_-G_oxX\", \"Playtime\": \"08:19\", \"#\": 29, \"KD\": 0.0, \"Kills\": 0, \"Deaths\": 3, \"Assists\": 2, \"Damage >\": 265, \"Damage <\": 500, \"Gulag\": \"L\", \"% moving\": 31.6, \"Game duration\": \"27\", \"Loadout_1\": \"iw8_ar_t9damage - iw8_me_t9loadout\", \"Loadout_2\": \"iw8_pi_t9semiauto - iw8_fists\", \"Loadout_3\": \"iw8_lm_t9fastfire - iw8_fists\"}, {\"Mode\": \"Trios\", \"Ended at\": \"2021-11-19T00:10:38\", \"Team\": \"forty_one\", \"Username\": \"Rush_everyone\", \"Playtime\": \"10:16\", \"#\": 26, \"KD\": 0.5, \"Kills\": 1, \"Deaths\": 2, \"Assists\": 1, \"Damage >\": 729, \"Damage <\": 372, \"Gulag\": \"W\", \"% moving\": 95.2, \"Game duration\": \"27\", \"Loadout_1\": \"iw8_ar_t9british - iw8_sm_t9cqb\", \"Loadout_2\": \"-\", \"Loadout_3\": \"-\"}, {\"Mode\": \"Trios\", \"Ended at\": \"2021-11-19T00:10:38\", \"Team\": \"thirty_five\", \"Username\": \"Enix\", \"Playtime\": \"07:02\", \"#\": 6, \"KD\": 0.5, \"Kills\": 1, \"Deaths\": 2, \"Assists\": 1, \"Damage >\": 484, \"Damage <\": 552, \"Gulag\": \"W\", \"% moving\": 95.2, \"Game duration\": \"27\", \"Loadout_1\": \"iw8_sm_t9cqb - iw8_sn_t9accurate\", \"Loadout_2\": \"iw8_pi_t9semiauto - iw8_fists\", \"Loadout_3\": \"-\"}, {\"Mode\": \"Trios\", \"Ended at\": \"2021-11-19T00:10:38\", \"Team\": \"forty_one\", \"Username\": \"CLART DEM\", \"Playtime\": \"10:33\", \"#\": 26, \"KD\": 1.0, \"Kills\": 2, \"Deaths\": 2, \"Assists\": 2, \"Damage >\": 443, \"Damage <\": 502, \"Gulag\": \"W\", \"% moving\": 88.9, \"Game duration\": \"27\", \"Loadout_1\": \"iw8_sm_t9capacity - iw8_lm_t9accurate\", \"Loadout_2\": \"-\", \"Loadout_3\": \"-\"}, {\"Mode\": \"Trios\", \"Ended at\": \"2021-11-19T00:10:38\", \"Team\": \"forty_five\", \"Username\": \"DeminLender\", \"Playtime\": \"06:12\", \"#\": 41, \"KD\": 0.0, \"Kills\": 0, \"Deaths\": 2, \"Assists\": 1, \"Damage >\": 441, \"Damage <\": 299, \"Gulag\": \"L\", \"% moving\": 68.6, \"Game duration\": \"27\", \"Loadout_1\": \"iw8_ar_t9damage - iw8_sm_t9capacity\", \"Loadout_2\": \"-\", \"Loadout_3\": \"-\"}, {\"Mode\": \"Trios\", \"Ended at\": \"2021-11-19T00:10:38\", \"Team\": \"twenty_eight\", \"Username\": \"MANIDIFORBICE87\", \"Playtime\": \"03:12\", \"#\": 50, \"KD\": 0.5, \"Kills\": 1, \"Deaths\": 2, \"Assists\": 0, \"Damage >\": 353, \"Damage <\": 300, \"Gulag\": \"W\", \"% moving\": 91.7, \"Game duration\": \"27\", \"Loadout_1\": \"iw8_ar_t9damage - iw8_sm_t9standard\", \"Loadout_2\": \"iw8_pi_t9semiauto - iw8_fists\", \"Loadout_3\": \"-\"}, {\"Mode\": \"Trios\", \"Ended at\": \"2021-11-19T00:10:38\", \"Team\": \"three\", \"Username\": \"jakoxy\", \"Playtime\": \"13:58\", \"#\": 21, \"KD\": 1.0, \"Kills\": 3, \"Deaths\": 3, \"Assists\": 0, \"Damage >\": 1397, \"Damage <\": 495, \"Gulag\": \"L\", \"% moving\": 89.5, \"Game duration\": \"27\", \"Loadout_1\": \"iw8_ar_t9british - iw8_sh_t9semiauto\", \"Loadout_2\": \"iw8_pi_t9semiauto - iw8_fists\", \"Loadout_3\": \"iw8_sn_t9damagesemi - iw8_fists\"}, {\"Mode\": \"Trios\", \"Ended at\": \"2021-11-19T00:10:38\", \"Team\": \"eight\", \"Username\": \"bay-sword9\", \"Playtime\": \"06:06\", \"#\": 43, \"KD\": 0.0, \"Kills\": 0, \"Deaths\": 2, \"Assists\": 1, \"Damage >\": 55, \"Damage <\": 222, \"Gulag\": \"L\", \"% moving\": 37.2, \"Game duration\": \"27\", \"Loadout_1\": \"iw8_ar_t9damage - iw8_sm_t9cqb\", \"Loadout_2\": \"iw8_pi_t9semiauto - iw8_fists\", \"Loadout_3\": \"-\"}, {\"Mode\": \"Trios\", \"Ended at\": \"2021-11-19T00:10:38\", \"Team\": \"thirty_two\", \"Username\": \"iDropzLost\", \"Playtime\": \"07:00\", \"#\": 37, \"KD\": 0.0, \"Kills\": 0, \"Deaths\": 2, \"Assists\": 0, \"Damage >\": 275, \"Damage <\": 300, \"Gulag\": \"L\", \"% moving\": 36.2, \"Game duration\": \"27\", \"Loadout_1\": \"iw8_sn_t9accurate - iw8_sm_t9cqb\", \"Loadout_2\": \"iw8_pi_t9semiauto - iw8_fists\", \"Loadout_3\": \"-\"}, {\"Mode\": \"Trios\", \"Ended at\": \"2021-11-19T00:10:38\", \"Team\": \"thirteen\", \"Username\": \"Dr Hannibal\", \"Playtime\": \"06:31\", \"#\": 39, \"KD\": 0.0, \"Kills\": 0, \"Deaths\": 2, \"Assists\": 0, \"Damage >\": 29, \"Damage <\": 200, \"Gulag\": \"L\", \"% moving\": 58.0, \"Game duration\": \"27\", \"Loadout_1\": \"iw8_ar_t9fastfire - iw8_sn_t9quickscope\", \"Loadout_2\": \"iw8_pi_t9semiauto - iw8_fists\", \"Loadout_3\": \"-\"}, {\"Mode\": \"Trios\", \"Ended at\": \"2021-11-19T00:10:38\", \"Team\": \"twenty_seven\", \"Username\": \"nicoyzovitch\", \"Playtime\": \"21:58\", \"#\": 11, \"KD\": 1.3, \"Kills\": 4, \"Deaths\": 3, \"Assists\": 0, \"Damage >\": 1372, \"Damage <\": 550, \"Gulag\": \"W\", \"% moving\": 92.6, \"Game duration\": \"27\", \"Loadout_1\": \"iw8_lm_t9fastfire - iw8_sm_t9cqb\", \"Loadout_2\": \"iw8_pi_t9semiauto - iw8_fists\", \"Loadout_3\": \"iw8_pi_t9semiauto - iw8_fists\"}, {\"Mode\": \"Trios\", \"Ended at\": \"2021-11-19T00:10:38\", \"Team\": \"fifteen\", \"Username\": \"Mac\", \"Playtime\": \"08:36\", \"#\": 29, \"KD\": 0.3, \"Kills\": 1, \"Deaths\": 3, \"Assists\": 0, \"Damage >\": 307, \"Damage <\": 300, \"Gulag\": \"L\", \"% moving\": 40.6, \"Game duration\": \"27\", \"Loadout_1\": \"iw8_sn_t9accurate - iw8_ar_t9standard\", \"Loadout_2\": \"iw8_ar_t9slowhandling - iw8_fists\", \"Loadout_3\": \"-\"}, {\"Mode\": \"Trios\", \"Ended at\": \"2021-11-19T00:10:38\", \"Team\": \"six\", \"Username\": \"FloPPHard\", \"Playtime\": \"10:28\", \"#\": 25, \"KD\": 0.3, \"Kills\": 1, \"Deaths\": 3, \"Assists\": 4, \"Damage >\": 531, \"Damage <\": 400, \"Gulag\": \"L\", \"% moving\": 59.4, \"Game duration\": \"27\", \"Loadout_1\": \"iw8_sm_t9standard - iw8_pi_mike\", \"Loadout_2\": \"iw8_pi_t9semiauto - iw8_fists\", \"Loadout_3\": \"iw8_pi_t9revolver - iw8_fists\"}, {\"Mode\": \"Trios\", \"Ended at\": \"2021-11-19T00:10:38\", \"Team\": \"twenty_seven\", \"Username\": \"gentil_renard\", \"Playtime\": \"21:48\", \"#\": 11, \"KD\": 0.2, \"Kills\": 1, \"Deaths\": 4, \"Assists\": 1, \"Damage >\": 948, \"Damage <\": 932, \"Gulag\": \"L\", \"% moving\": 74.4, \"Game duration\": \"27\", \"Loadout_1\": \"iw8_ar_valpha - iw8_sn_t9accurate\", \"Loadout_2\": \"iw8_ar_t9season6 - iw8_fists\", \"Loadout_3\": \"-\"}, {\"Mode\": \"Trios\", \"Ended at\": \"2021-11-19T00:10:38\", \"Team\": \"twenty_one\", \"Username\": \"Noiders\", \"Playtime\": \"06:12\", \"#\": 42, \"KD\": 0.0, \"Kills\": 0, \"Deaths\": 2, \"Assists\": 1, \"Damage >\": 386, \"Damage <\": 398, \"Gulag\": \"L\", \"% moving\": 82.2, \"Game duration\": \"27\", \"Loadout_1\": \"iw8_ar_t9british - iw8_sm_t9spray\", \"Loadout_2\": \"iw8_pi_t9semiauto - iw8_fists\", \"Loadout_3\": \"-\"}, {\"Mode\": \"Trios\", \"Ended at\": \"2021-11-19T00:10:38\", \"Team\": \"thirty\", \"Username\": \"fraserdand\", \"Playtime\": \"18:55\", \"#\": 16, \"KD\": 2.0, \"Kills\": 4, \"Deaths\": 2, \"Assists\": 1, \"Damage >\": 1908, \"Damage <\": 628, \"Gulag\": \"W\", \"% moving\": 91.9, \"Game duration\": \"27\", \"Loadout_1\": \"iw8_sm_t9spray - iw8_sn_t9accurate\", \"Loadout_2\": \"iw8_pi_t9semiauto - iw8_fists\", \"Loadout_3\": \"-\"}, {\"Mode\": \"Trios\", \"Ended at\": \"2021-11-19T00:10:38\", \"Team\": \"thirty_six\", \"Username\": \"BoTheGreat1998\", \"Playtime\": \"14:25\", \"#\": 19, \"KD\": 0.0, \"Kills\": 0, \"Deaths\": 3, \"Assists\": 0, \"Damage >\": 101, \"Damage <\": 476, \"Gulag\": \"L\", \"% moving\": 63.8, \"Game duration\": \"27\", \"Loadout_1\": \"iw8_ar_t9slowhandling - iw8_sn_kilo98\", \"Loadout_2\": \"iw8_pi_t9semiauto - iw8_fists\", \"Loadout_3\": \"iw8_ar_t9fasthandling - iw8_fists\"}, {\"Mode\": \"Trios\", \"Ended at\": \"2021-11-19T00:10:38\", \"Team\": \"ten\", \"Username\": \"Mr Monty\", \"Playtime\": \"09:21\", \"#\": 28, \"KD\": 2.0, \"Kills\": 4, \"Deaths\": 2, \"Assists\": 1, \"Damage >\": 1027, \"Damage <\": 530, \"Gulag\": \"W\", \"% moving\": 90.5, \"Game duration\": \"27\", \"Loadout_1\": \"iw8_sm_t9spray - iw8_sn_t9accurate\", \"Loadout_2\": \"iw8_pi_t9semiauto - iw8_fists\", \"Loadout_3\": \"-\"}, {\"Mode\": \"Trios\", \"Ended at\": \"2021-11-19T00:10:38\", \"Team\": \"forty_seven\", \"Username\": \"Mia Khalifa\", \"Playtime\": \"04:47\", \"#\": 45, \"KD\": 0.5, \"Kills\": 1, \"Deaths\": 2, \"Assists\": 0, \"Damage >\": 104, \"Damage <\": 323, \"Gulag\": \"W\", \"% moving\": 83.7, \"Game duration\": \"27\", \"Loadout_1\": \"iw8_sn_kilo98 - iw8_ar_valpha\", \"Loadout_2\": \"-\", \"Loadout_3\": \"-\"}, {\"Mode\": \"Trios\", \"Ended at\": \"2021-11-19T00:10:38\", \"Team\": \"seventeen\", \"Username\": \"DonEleganza\", \"Playtime\": \"21:49\", \"#\": 9, \"KD\": 3.0, \"Kills\": 9, \"Deaths\": 3, \"Assists\": 1, \"Damage >\": 3158, \"Damage <\": 719, \"Gulag\": \"W\", \"% moving\": 83.7, \"Game duration\": \"27\", \"Loadout_1\": \"iw8_ar_akilo47 - iw8_sn_xmike109\", \"Loadout_2\": \"iw8_pi_t9semiauto - iw8_fists\", \"Loadout_3\": \"iw8_pi_t9semiauto - iw8_fists\"}, {\"Mode\": \"Trios\", \"Ended at\": \"2021-11-19T00:10:38\", \"Team\": \"forty_six\", \"Username\": \"Millno\", \"Playtime\": \"07:34\", \"#\": 33, \"KD\": 2.0, \"Kills\": 4, \"Deaths\": 2, \"Assists\": 0, \"Damage >\": 1343, \"Damage <\": 482, \"Gulag\": \"W\", \"% moving\": 80.5, \"Game duration\": \"27\", \"Loadout_1\": \"iw8_sh_t9semiauto - iw8_ar_t9slowhandling\", \"Loadout_2\": \"iw8_pi_t9semiauto - iw8_fists\", \"Loadout_3\": \"-\"}, {\"Mode\": \"Trios\", \"Ended at\": \"2021-11-19T00:10:38\", \"Team\": \"six\", \"Username\": \"BearGrylls\", \"Playtime\": \"10:28\", \"#\": 25, \"KD\": 0.5, \"Kills\": 1, \"Deaths\": 2, \"Assists\": 2, \"Damage >\": 380, \"Damage <\": 300, \"Gulag\": \"W\", \"% moving\": 70.1, \"Game duration\": \"27\", \"Loadout_1\": \"iw8_sm_t9cqb - iw8_sn_t9accurate\", \"Loadout_2\": \"-\", \"Loadout_3\": \"-\"}, {\"Mode\": \"Trios\", \"Ended at\": \"2021-11-19T00:10:38\", \"Team\": \"forty_five\", \"Username\": \"Death-b4-Disco_\", \"Playtime\": \"05:32\", \"#\": 41, \"KD\": 0.0, \"Kills\": 0, \"Deaths\": 1, \"Assists\": 1, \"Damage >\": 108, \"Damage <\": 100, \"Gulag\": \"L\", \"% moving\": 96.7, \"Game duration\": \"27\", \"Loadout_1\": \"iw8_sm_t9capacity - iw8_la_t9standard\", \"Loadout_2\": \"-\", \"Loadout_3\": \"-\"}, {\"Mode\": \"Trios\", \"Ended at\": \"2021-11-19T00:10:38\", \"Team\": \"five\", \"Username\": \"Boyd\", \"Playtime\": \"18:52\", \"#\": 15, \"KD\": 2.0, \"Kills\": 6, \"Deaths\": 3, \"Assists\": 0, \"Damage >\": 1895, \"Damage <\": 681, \"Gulag\": \"W\", \"% moving\": 67.9, \"Game duration\": \"27\", \"Loadout_1\": \"iw8_ar_t9accurate - iw8_sh_t9semiauto\", \"Loadout_2\": \"iw8_pi_t9semiauto - iw8_fists\", \"Loadout_3\": \"iw8_pi_t9semiauto - iw8_fists\"}, {\"Mode\": \"Trios\", \"Ended at\": \"2021-11-19T00:10:38\", \"Team\": \"sixteen\", \"Username\": \"JimmyNeutron93\", \"Playtime\": \"07:38\", \"#\": 35, \"KD\": 1.0, \"Kills\": 2, \"Deaths\": 2, \"Assists\": 0, \"Damage >\": 1201, \"Damage <\": 476, \"Gulag\": \"W\", \"% moving\": 70.4, \"Game duration\": \"27\", \"Loadout_1\": \"iw8_ar_t9british - iw8_pi_mike\", \"Loadout_2\": \"iw8_pi_t9semiauto - iw8_fists\", \"Loadout_3\": \"-\"}, {\"Mode\": \"Trios\", \"Ended at\": \"2021-11-19T00:10:38\", \"Team\": \"twenty_two\", \"Username\": \"Ghigo08\", \"Playtime\": \"23:08\", \"#\": 10, \"KD\": 0.3, \"Kills\": 1, \"Deaths\": 3, \"Assists\": 4, \"Damage >\": 921, \"Damage <\": 535, \"Gulag\": \"L\", \"% moving\": 78.9, \"Game duration\": \"27\", \"Loadout_1\": \"iw8_ar_galima - iw8_sn_t9accurate\", \"Loadout_2\": \"iw8_pi_t9semiauto - iw8_fists\", \"Loadout_3\": \"iw8_ar_t9slowhandling - iw8_fists\"}, {\"Mode\": \"Trios\", \"Ended at\": \"2021-11-19T00:10:38\", \"Team\": \"twelve\", \"Username\": \"Sambeis\", \"Playtime\": \"23:20\", \"#\": 7, \"KD\": 2.0, \"Kills\": 6, \"Deaths\": 3, \"Assists\": 2, \"Damage >\": 3060, \"Damage <\": 644, \"Gulag\": \"L\", \"% moving\": 86.3, \"Game duration\": \"27\", \"Loadout_1\": \"iw8_ar_mcharlie - iw8_pi_mike\", \"Loadout_2\": \"iw8_pi_t9semiauto - iw8_fists\", \"Loadout_3\": \"iw8_ar_t9season6 - iw8_fists\"}, {\"Mode\": \"Trios\", \"Ended at\": \"2021-11-19T00:10:38\", \"Team\": \"four\", \"Username\": \"JCorr\", \"Playtime\": \"09:52\", \"#\": 27, \"KD\": 2.5, \"Kills\": 5, \"Deaths\": 2, \"Assists\": 0, \"Damage >\": 1382, \"Damage <\": 200, \"Gulag\": \"W\", \"% moving\": 77.1, \"Game duration\": \"27\", \"Loadout_1\": \"iw8_sn_t9accurate - iw8_sm_t9cqb\", \"Loadout_2\": \"-\", \"Loadout_3\": \"-\"}, {\"Mode\": \"Trios\", \"Ended at\": \"2021-11-19T00:10:38\", \"Team\": \"allies\", \"Username\": \"Twitch_JiroNate\", \"Playtime\": \"08:34\", \"#\": 24, \"KD\": 2.0, \"Kills\": 2, \"Deaths\": 1, \"Assists\": 1, \"Damage >\": 1009, \"Damage <\": 354, \"Gulag\": \"L\", \"% moving\": 95.7, \"Game duration\": \"27\", \"Loadout_1\": \"iw8_ar_t9damage - iw8_sm_t9capacity\", \"Loadout_2\": \"iw8_pi_t9semiauto - iw8_fists\", \"Loadout_3\": \"-\"}, {\"Mode\": \"Trios\", \"Ended at\": \"2021-11-19T00:10:38\", \"Team\": \"twenty_four\", \"Username\": \"walters1804\", \"Playtime\": \"06:02\", \"#\": 40, \"KD\": 0.5, \"Kills\": 1, \"Deaths\": 2, \"Assists\": 0, \"Damage >\": 124, \"Damage <\": 400, \"Gulag\": \"W\", \"% moving\": 55.9, \"Game duration\": \"27\", \"Loadout_1\": \"iw8_sm_t9spray - iw8_la_t9freefire\", \"Loadout_2\": \"-\", \"Loadout_3\": \"-\"}, {\"Mode\": \"Trios\", \"Ended at\": \"2021-11-19T00:10:38\", \"Team\": \"allies\", \"Username\": \"KissMyBehop\", \"Playtime\": \"08:34\", \"#\": 24, \"KD\": 0.5, \"Kills\": 1, \"Deaths\": 2, \"Assists\": 2, \"Damage >\": 854, \"Damage <\": 420, \"Gulag\": \"W\", \"% moving\": 97.5, \"Game duration\": \"27\", \"Loadout_1\": \"iw8_sm_t9semiauto - iw8_ar_tango21\", \"Loadout_2\": \"iw8_pi_t9semiauto - iw8_fists\", \"Loadout_3\": \"-\"}, {\"Mode\": \"Trios\", \"Ended at\": \"2021-11-19T00:10:38\", \"Team\": \"seventeen\", \"Username\": \"LUCIFER\", \"Playtime\": \"21:50\", \"#\": 9, \"KD\": 1.5, \"Kills\": 3, \"Deaths\": 2, \"Assists\": 4, \"Damage >\": 1110, \"Damage <\": 812, \"Gulag\": \"W\", \"% moving\": 91.9, \"Game duration\": \"27\", \"Loadout_1\": \"s4_ar_stango44temp - iw8_sn_t9accurate\", \"Loadout_2\": \"iw8_pi_t9semiauto - iw8_fists\", \"Loadout_3\": \"-\"}, {\"Mode\": \"Trios\", \"Ended at\": \"2021-11-19T00:10:38\", \"Team\": \"three\", \"Username\": \"primox\", \"Playtime\": \"13:58\", \"#\": 21, \"KD\": 0.8, \"Kills\": 3, \"Deaths\": 4, \"Assists\": 2, \"Damage >\": 2473, \"Damage <\": 920, \"Gulag\": \"L\", \"% moving\": 88.2, \"Game duration\": \"27\", \"Loadout_1\": \"iw8_ar_t9british - iw8_sm_t9cqb\", \"Loadout_2\": \"iw8_pi_t9semiauto - iw8_fists\", \"Loadout_3\": \"iw8_ar_t9slowhandling - iw8_fists\"}, {\"Mode\": \"Trios\", \"Ended at\": \"2021-11-19T00:10:38\", \"Team\": \"four\", \"Username\": \"DVEE9044\", \"Playtime\": \"09:54\", \"#\": 27, \"KD\": 0.5, \"Kills\": 1, \"Deaths\": 2, \"Assists\": 0, \"Damage >\": 400, \"Damage <\": 333, \"Gulag\": \"W\", \"% moving\": 74.2, \"Game duration\": \"27\", \"Loadout_1\": \"iw8_sn_kilo98 - iw8_sm_t9cqb\", \"Loadout_2\": \"iw8_pi_t9semiauto - iw8_fists\", \"Loadout_3\": \"-\"}, {\"Mode\": \"Trios\", \"Ended at\": \"2021-11-19T00:10:38\", \"Team\": \"twenty_three\", \"Username\": \"Gips\", \"Playtime\": \"21:45\", \"#\": 8, \"KD\": 1.5, \"Kills\": 3, \"Deaths\": 2, \"Assists\": 1, \"Damage >\": 1583, \"Damage <\": 647, \"Gulag\": \"W\", \"% moving\": 92.7, \"Game duration\": \"27\", \"Loadout_1\": \"iw8_ar_t9british - iw8_sm_t9cqb\", \"Loadout_2\": \"iw8_pi_t9semiauto - iw8_fists\", \"Loadout_3\": \"-\"}, {\"Mode\": \"Trios\", \"Ended at\": \"2021-11-19T00:10:38\", \"Team\": \"forty_three\", \"Username\": \"bLaCk_HooD\", \"Playtime\": \"27:55\", \"#\": 3, \"KD\": 0.0, \"Kills\": 0, \"Deaths\": 3, \"Assists\": 0, \"Damage >\": 283, \"Damage <\": 542, \"Gulag\": \"L\", \"% moving\": 84.5, \"Game duration\": \"27\", \"Loadout_1\": \"iw8_ar_sierra552 - iw8_pi_t9burst\", \"Loadout_2\": \"iw8_pi_t9semiauto - iw8_fists\", \"Loadout_3\": \"iw8_sm_t9cqb - iw8_fists\"}, {\"Mode\": \"Trios\", \"Ended at\": \"2021-11-19T00:10:38\", \"Team\": \"fifty_two\", \"Username\": \"Spartanzzz\", \"Playtime\": \"04:46\", \"#\": 46, \"KD\": 1.5, \"Kills\": 3, \"Deaths\": 2, \"Assists\": 0, \"Damage >\": 1203, \"Damage <\": 246, \"Gulag\": \"L\", \"% moving\": 90.0, \"Game duration\": \"27\", \"Loadout_1\": \"iw8_sm_t9spray - iw8_sn_t9accurate\", \"Loadout_2\": \"iw8_pi_t9semiauto - iw8_fists\", \"Loadout_3\": \"-\"}, {\"Mode\": \"Trios\", \"Ended at\": \"2021-11-19T00:10:38\", \"Team\": \"forty_five\", \"Username\": \"xFaMoUs BuZzx\", \"Playtime\": \"05:52\", \"#\": 41, \"KD\": 1.0, \"Kills\": 1, \"Deaths\": 1, \"Assists\": 0, \"Damage >\": 336, \"Damage <\": 112, \"Gulag\": \"L\", \"% moving\": 98.0, \"Game duration\": \"27\", \"Loadout_1\": \"iw8_ar_mike4 - iw8_pi_t9burst\", \"Loadout_2\": \"-\", \"Loadout_3\": \"-\"}, {\"Mode\": \"Trios\", \"Ended at\": \"2021-11-19T00:10:38\", \"Team\": \"twenty_one\", \"Username\": \"Colike\", \"Playtime\": \"06:12\", \"#\": 42, \"KD\": 1.0, \"Kills\": 2, \"Deaths\": 2, \"Assists\": 0, \"Damage >\": 758, \"Damage <\": 350, \"Gulag\": \"W\", \"% moving\": 99.0, \"Game duration\": \"27\", \"Loadout_1\": \"iw8_ar_t9standard - iw8_sm_t9cqb\", \"Loadout_2\": \"-\", \"Loadout_3\": \"-\"}, {\"Mode\": \"Trios\", \"Ended at\": \"2021-11-19T00:10:38\", \"Team\": \"fifty_one\", \"Username\": \"taketwo2121\", \"Playtime\": \"01:26\", \"#\": 32, \"KD\": 0.0, \"Kills\": 0, \"Deaths\": 0, \"Assists\": 0, \"Damage >\": 2, \"Damage <\": 102, \"Gulag\": \"L\", \"% moving\": 87.5, \"Game duration\": \"27\", \"Loadout_1\": \"iw8_ar_t9slowhandling - iw8_pi_decho\", \"Loadout_2\": \"-\", \"Loadout_3\": \"-\"}, {\"Mode\": \"Trios\", \"Ended at\": \"2021-11-19T00:10:38\", \"Team\": \"forty_six\", \"Username\": \"Ignorz-\", \"Playtime\": \"07:30\", \"#\": 33, \"KD\": 2.5, \"Kills\": 5, \"Deaths\": 2, \"Assists\": 1, \"Damage >\": 1131, \"Damage <\": 620, \"Gulag\": \"W\", \"% moving\": 97.1, \"Game duration\": \"27\", \"Loadout_1\": \"iw8_sn_t9accurate - iw8_sm_t9fastfire\", \"Loadout_2\": \"iw8_pi_t9semiauto - iw8_fists\", \"Loadout_3\": \"-\"}, {\"Mode\": \"Trios\", \"Ended at\": \"2021-11-19T00:10:38\", \"Team\": \"nine\", \"Username\": \"Beatz\", \"Playtime\": \"07:53\", \"#\": 31, \"KD\": 1.0, \"Kills\": 1, \"Deaths\": 1, \"Assists\": 0, \"Damage >\": 356, \"Damage <\": 200, \"Gulag\": \"W\", \"% moving\": 98.8, \"Game duration\": \"27\", \"Loadout_1\": \"iw8_ar_t9damage - iw8_sn_kilo98\", \"Loadout_2\": \"-\", \"Loadout_3\": \"-\"}, {\"Mode\": \"Trios\", \"Ended at\": \"2021-11-19T00:10:38\", \"Team\": \"twenty\", \"Username\": \"platinium12345\", \"Playtime\": \"28:59\", \"#\": 1, \"KD\": 1.3, \"Kills\": 4, \"Deaths\": 3, \"Assists\": 0, \"Damage >\": 1385, \"Damage <\": 1085, \"Gulag\": \"L\", \"% moving\": 83.9, \"Game duration\": \"27\", \"Loadout_1\": \"iw8_sm_t9cqb - iw8_ar_t9damage\", \"Loadout_2\": \"iw8_pi_t9semiauto - iw8_fists\", \"Loadout_3\": \"iw8_pi_t9semiauto - iw8_fists\"}, {\"Mode\": \"Trios\", \"Ended at\": \"2021-11-19T00:10:38\", \"Team\": \"sixteen\", \"Username\": \"TechnoGhost84\", \"Playtime\": \"07:57\", \"#\": 35, \"KD\": 2.0, \"Kills\": 4, \"Deaths\": 2, \"Assists\": 0, \"Damage >\": 947, \"Damage <\": 400, \"Gulag\": \"W\", \"% moving\": 95.1, \"Game duration\": \"27\", \"Loadout_1\": \"iw8_ar_mike4 - iw8_sm_secho\", \"Loadout_2\": \"iw8_pi_t9semiauto - iw8_fists\", \"Loadout_3\": \"-\"}, {\"Mode\": \"Trios\", \"Ended at\": \"2021-11-19T00:10:38\", \"Team\": \"six\", \"Username\": \"Deathman\", \"Playtime\": \"10:29\", \"#\": 25, \"KD\": 2.0, \"Kills\": 4, \"Deaths\": 2, \"Assists\": 2, \"Damage >\": 933, \"Damage <\": 544, \"Gulag\": \"W\", \"% moving\": 71.0, \"Game duration\": \"27\", \"Loadout_1\": \"iw8_sn_t9accurate - iw8_pi_decho\", \"Loadout_2\": \"iw8_pi_t9semiauto - iw8_fists\", \"Loadout_3\": \"-\"}, {\"Mode\": \"Trios\", \"Ended at\": \"2021-11-19T00:10:38\", \"Team\": \"fifteen\", \"Username\": \"x_ DanielC_xD\", \"Playtime\": \"08:41\", \"#\": 29, \"KD\": 1.5, \"Kills\": 3, \"Deaths\": 2, \"Assists\": 0, \"Damage >\": 573, \"Damage <\": 302, \"Gulag\": \"W\", \"% moving\": 84.6, \"Game duration\": \"27\", \"Loadout_1\": \"iw8_sn_kilo98 - iw8_sm_t9season6\", \"Loadout_2\": \"iw8_pi_t9semiauto - iw8_fists\", \"Loadout_3\": \"-\"}, {\"Mode\": \"Trios\", \"Ended at\": \"2021-11-19T00:10:38\", \"Team\": \"twelve\", \"Username\": \"n1ce\", \"Playtime\": \"23:21\", \"#\": 7, \"KD\": 2.2, \"Kills\": 9, \"Deaths\": 4, \"Assists\": 0, \"Damage >\": 3121, \"Damage <\": 795, \"Gulag\": \"L\", \"% moving\": 61.7, \"Game duration\": \"27\", \"Loadout_1\": \"iw8_sn_t9accurate - iw8_sm_t9fastfire\", \"Loadout_2\": \"iw8_pi_t9semiauto - iw8_fists\", \"Loadout_3\": \"iw8_sm_t9cqb - iw8_fists\"}, {\"Mode\": \"Trios\", \"Ended at\": \"2021-11-19T00:10:38\", \"Team\": \"forty_four\", \"Username\": \"BadboyBandit09\", \"Playtime\": \"16:04\", \"#\": 18, \"KD\": 0.3, \"Kills\": 1, \"Deaths\": 3, \"Assists\": 1, \"Damage >\": 1122, \"Damage <\": 738, \"Gulag\": \"W\", \"% moving\": 65.5, \"Game duration\": \"27\", \"Loadout_1\": \"iw8_sm_t9cqb - iw8_ar_t9british\", \"Loadout_2\": \"iw8_pi_t9semiauto - iw8_fists\", \"Loadout_3\": \"iw8_pi_t9semiauto - iw8_fists\"}, {\"Mode\": \"Trios\", \"Ended at\": \"2021-11-19T00:10:38\", \"Team\": \"forty_nine\", \"Username\": \"fusie\", \"Playtime\": \"01:07\", \"#\": 49, \"KD\": 0.0, \"Kills\": 0, \"Deaths\": 0, \"Assists\": 0, \"Damage >\": 0, \"Damage <\": 0, \"Gulag\": \"L\", \"% moving\": 0.0, \"Game duration\": \"27\", \"Loadout_1\": \"iw8_ar_kilo433 - iw8_pi_mike9\", \"Loadout_2\": \"-\", \"Loadout_3\": \"-\"}, {\"Mode\": \"Trios\", \"Ended at\": \"2021-11-19T00:10:38\", \"Team\": \"twelve\", \"Username\": \"raketenmiguel\", \"Playtime\": \"23:20\", \"#\": 7, \"KD\": 0.5, \"Kills\": 1, \"Deaths\": 2, \"Assists\": 1, \"Damage >\": 1469, \"Damage <\": 666, \"Gulag\": \"L\", \"% moving\": 84.4, \"Game duration\": \"27\", \"Loadout_1\": \"iw8_sn_kilo98 - iw8_sm_t9spray\", \"Loadout_2\": \"iw8_pi_t9semiauto - iw8_fists\", \"Loadout_3\": \"-\"}, {\"Mode\": \"Trios\", \"Ended at\": \"2021-11-19T00:10:38\", \"Team\": \"nine\", \"Username\": \"Kingporksword\", \"Playtime\": \"07:11\", \"#\": 31, \"KD\": 0.0, \"Kills\": 0, \"Deaths\": 1, \"Assists\": 0, \"Damage >\": 111, \"Damage <\": 100, \"Gulag\": \"L\", \"% moving\": 89.5, \"Game duration\": \"27\", \"Loadout_1\": \"iw8_lm_t9light - iw8_pi_mike9\", \"Loadout_2\": \"iw8_pi_t9semiauto - iw8_fists\", \"Loadout_3\": \"-\"}, {\"Mode\": \"Trios\", \"Ended at\": \"2021-11-19T00:10:38\", \"Team\": \"forty_two\", \"Username\": \"iman\", \"Playtime\": \"20:50\", \"#\": 12, \"KD\": 0.0, \"Kills\": 0, \"Deaths\": 4, \"Assists\": 1, \"Damage >\": 611, \"Damage <\": 772, \"Gulag\": \"L\", \"% moving\": 66.2, \"Game duration\": \"27\", \"Loadout_1\": \"iw8_ar_mike4 - iw8_sn_kilo98\", \"Loadout_2\": \"iw8_pi_t9semiauto - iw8_fists\", \"Loadout_3\": \"iw8_sh_t9pump - iw8_fists\"}, {\"Mode\": \"Trios\", \"Ended at\": \"2021-11-19T00:10:38\", \"Team\": \"thirty\", \"Username\": \"rossdand\", \"Playtime\": \"18:55\", \"#\": 16, \"KD\": 2.0, \"Kills\": 4, \"Deaths\": 2, \"Assists\": 0, \"Damage >\": 1329, \"Damage <\": 300, \"Gulag\": \"L\", \"% moving\": 90.0, \"Game duration\": \"27\", \"Loadout_1\": \"iw8_ar_t9standard - iw8_sm_t9fastfire\", \"Loadout_2\": \"iw8_pi_t9semiauto - iw8_fists\", \"Loadout_3\": \"-\"}, {\"Mode\": \"Trios\", \"Ended at\": \"2021-11-19T00:10:38\", \"Team\": \"twenty_eight\", \"Username\": \"Enrichinter\", \"Playtime\": \"03:12\", \"#\": 50, \"KD\": 0.0, \"Kills\": 0, \"Deaths\": 2, \"Assists\": 0, \"Damage >\": 54, \"Damage <\": 220, \"Gulag\": \"L\", \"% moving\": 75.0, \"Game duration\": \"27\", \"Loadout_1\": \"iw8_ar_t9damage - iw8_pi_mike9\", \"Loadout_2\": \"iw8_pi_t9semiauto - iw8_fists\", \"Loadout_3\": \"-\"}, {\"Mode\": \"Trios\", \"Ended at\": \"2021-11-19T00:10:38\", \"Team\": \"fifty_one\", \"Username\": \"BENTLEY95\", \"Playtime\": \"08:04\", \"#\": 32, \"KD\": 0.0, \"Kills\": 0, \"Deaths\": 1, \"Assists\": 0, \"Damage >\": 2, \"Damage <\": 240, \"Gulag\": \"L\", \"% moving\": 95.4, \"Game duration\": \"27\", \"Loadout_1\": \"iw8_sm_t9heavy - iw8_sn_t9accurate\", \"Loadout_2\": \"iw8_pi_t9semiauto - iw8_fists\", \"Loadout_3\": \"-\"}, {\"Mode\": \"Trios\", \"Ended at\": \"2021-11-19T00:10:38\", \"Team\": \"fifty\", \"Username\": \"Philipacus\", \"Playtime\": \"20:03\", \"#\": 13, \"KD\": 1.5, \"Kills\": 3, \"Deaths\": 2, \"Assists\": 0, \"Damage >\": 1048, \"Damage <\": 354, \"Gulag\": \"W\", \"% moving\": 91.3, \"Game duration\": \"27\", \"Loadout_1\": \"iw8_ar_t9standard - iw8_sm_t9accurate\", \"Loadout_2\": \"-\", \"Loadout_3\": \"-\"}, {\"Mode\": \"Trios\", \"Ended at\": \"2021-11-19T00:10:38\", \"Team\": \"thirty_two\", \"Username\": \"M4rl0n\", \"Playtime\": \"06:59\", \"#\": 37, \"KD\": 1.5, \"Kills\": 3, \"Deaths\": 2, \"Assists\": 0, \"Damage >\": 1039, \"Damage <\": 264, \"Gulag\": \"W\", \"% moving\": 92.8, \"Game duration\": \"27\", \"Loadout_1\": \"iw8_sm_t9handling - iw8_sn_kilo98\", \"Loadout_2\": \"iw8_pi_t9semiauto - iw8_fists\", \"Loadout_3\": \"-\"}, {\"Mode\": \"Trios\", \"Ended at\": \"2021-11-19T00:10:38\", \"Team\": \"thirty_eight\", \"Username\": \"Draaimolen\", \"Playtime\": \"06:11\", \"#\": 38, \"KD\": 0.0, \"Kills\": 0, \"Deaths\": 2, \"Assists\": 0, \"Damage >\": 258, \"Damage <\": 383, \"Gulag\": \"L\", \"% moving\": 79.4, \"Game duration\": \"27\", \"Loadout_1\": \"iw8_sm_uzulu - iw8_la_rpapa7\", \"Loadout_2\": \"-\", \"Loadout_3\": \"-\"}, {\"Mode\": \"Trios\", \"Ended at\": \"2021-11-19T00:10:38\", \"Team\": \"fourteen\", \"Username\": \"ItzzCooKiee\", \"Playtime\": \"14:29\", \"#\": 20, \"KD\": 0.0, \"Kills\": 0, \"Deaths\": 3, \"Assists\": 0, \"Damage >\": 275, \"Damage <\": 500, \"Gulag\": \"L\", \"% moving\": 73.8, \"Game duration\": \"27\", \"Loadout_1\": \"iw8_ar_t9slowhandling - iw8_sn_t9accurate\", \"Loadout_2\": \"iw8_pi_t9semiauto - iw8_fists\", \"Loadout_3\": \"iw8_ar_t9slowfire - iw8_fists\"}, {\"Mode\": \"Trios\", \"Ended at\": \"2021-11-19T00:10:38\", \"Team\": \"forty_two\", \"Username\": \"fullyloaded90909\", \"Playtime\": \"20:50\", \"#\": 12, \"KD\": 0.7, \"Kills\": 2, \"Deaths\": 3, \"Assists\": 0, \"Damage >\": 931, \"Damage <\": 651, \"Gulag\": \"W\", \"% moving\": 67.5, \"Game duration\": \"27\", \"Loadout_1\": \"iw8_sn_kilo98 - iw8_sm_t9accurate\", \"Loadout_2\": \"iw8_sn_kilo98 - iw8_sm_t9cqb\", \"Loadout_3\": \"-\"}, {\"Mode\": \"Trios\", \"Ended at\": \"2021-11-19T00:10:38\", \"Team\": \"nineteen\", \"Username\": \"HSIMON\", \"Playtime\": \"27:19\", \"#\": 4, \"KD\": 1.0, \"Kills\": 3, \"Deaths\": 3, \"Assists\": 0, \"Damage >\": 1053, \"Damage <\": 716, \"Gulag\": \"L\", \"% moving\": 39.1, \"Game duration\": \"27\", \"Loadout_1\": \"iw8_sn_t9accurate - iw8_ar_mcharlie\", \"Loadout_2\": \"iw8_ar_t9season6 - iw8_fists\", \"Loadout_3\": \"-\"}, {\"Mode\": \"Trios\", \"Ended at\": \"2021-11-19T00:10:38\", \"Team\": \"thirty_two\", \"Username\": \"Red24bull\", \"Playtime\": \"06:43\", \"#\": 37, \"KD\": 0.0, \"Kills\": 0, \"Deaths\": 2, \"Assists\": 0, \"Damage >\": 114, \"Damage <\": 300, \"Gulag\": \"L\", \"% moving\": 49.3, \"Game duration\": \"27\", \"Loadout_1\": \"iw8_ar_mike4 - iw8_sm_t9capacity\", \"Loadout_2\": \"-\", \"Loadout_3\": \"-\"}, {\"Mode\": \"Trios\", \"Ended at\": \"2021-11-19T00:10:38\", \"Team\": \"eleven\", \"Username\": \"Yannou\", \"Playtime\": \"04:18\", \"#\": 48, \"KD\": 0.0, \"Kills\": 0, \"Deaths\": 1, \"Assists\": 0, \"Damage >\": 292, \"Damage <\": 254, \"Gulag\": \"L\", \"% moving\": 79.4, \"Game duration\": \"27\", \"Loadout_1\": \"iw8_sm_t9cqb - iw8_ar_t9damage\", \"Loadout_2\": \"iw8_pi_t9semiauto - iw8_fists\", \"Loadout_3\": \"-\"}, {\"Mode\": \"Trios\", \"Ended at\": \"2021-11-19T00:10:38\", \"Team\": \"twenty_eight\", \"Username\": \"Glex\", \"Playtime\": \"03:10\", \"#\": 50, \"KD\": 0.0, \"Kills\": 0, \"Deaths\": 2, \"Assists\": 0, \"Damage >\": 0, \"Damage <\": 200, \"Gulag\": \"L\", \"% moving\": 66.7, \"Game duration\": \"27\", \"Loadout_1\": \"iw8_sn_romeo700 - iw8_ar_valpha\", \"Loadout_2\": \"iw8_pi_t9semiauto - iw8_fists\", \"Loadout_3\": \"-\"}, {\"Mode\": \"Trios\", \"Ended at\": \"2021-11-19T00:10:38\", \"Team\": \"twenty_seven\", \"Username\": \"Moinolol\", \"Playtime\": \"21:52\", \"#\": 11, \"KD\": 2.5, \"Kills\": 5, \"Deaths\": 2, \"Assists\": 0, \"Damage >\": 1067, \"Damage <\": 520, \"Gulag\": \"W\", \"% moving\": 94.2, \"Game duration\": \"27\", \"Loadout_1\": \"iw8_sn_t9accurate - iw8_sm_t9fastfire\", \"Loadout_2\": \"iw8_pi_t9semiauto - iw8_fists\", \"Loadout_3\": \"-\"}, {\"Mode\": \"Trios\", \"Ended at\": \"2021-11-19T00:10:38\", \"Team\": \"forty_seven\", \"Username\": \"Winc\", \"Playtime\": \"03:29\", \"#\": 45, \"KD\": 0.0, \"Kills\": 0, \"Deaths\": 0, \"Assists\": 0, \"Damage >\": 305, \"Damage <\": 184, \"Gulag\": \"L\", \"% moving\": 90.6, \"Game duration\": \"27\", \"Loadout_1\": \"iw8_ar_sierra552 - iw8_pi_decho\", \"Loadout_2\": \"-\", \"Loadout_3\": \"-\"}, {\"Mode\": \"Trios\", \"Ended at\": \"2021-11-19T00:10:38\", \"Team\": \"ten\", \"Username\": \"mattgra\", \"Playtime\": \"09:16\", \"#\": 28, \"KD\": 0.2, \"Kills\": 1, \"Deaths\": 4, \"Assists\": 0, \"Damage >\": 411, \"Damage <\": 711, \"Gulag\": \"L\", \"% moving\": 72.4, \"Game duration\": \"27\", \"Loadout_1\": \"iw8_ar_t9british - iw8_sm_t9cqb\", \"Loadout_2\": \"iw8_sm_t9cqb - iw8_fists\", \"Loadout_3\": \"-\"}, {\"Mode\": \"Trios\", \"Ended at\": \"2021-11-19T00:10:38\", \"Team\": \"fourteen\", \"Username\": \"iBBQ_gonzo\", \"Playtime\": \"14:04\", \"#\": 20, \"KD\": 0.7, \"Kills\": 2, \"Deaths\": 3, \"Assists\": 0, \"Damage >\": 527, \"Damage <\": 574, \"Gulag\": \"L\", \"% moving\": 64.9, \"Game duration\": \"27\", \"Loadout_1\": \"iw8_ar_t9damage - iw8_sn_kilo98\", \"Loadout_2\": \"iw8_pi_t9semiauto - iw8_fists\", \"Loadout_3\": \"iw8_pi_t9revolver - iw8_fists\"}, {\"Mode\": \"Trios\", \"Ended at\": \"2021-11-19T00:10:38\", \"Team\": \"fifty_three\", \"Username\": \"adam60lol\", \"Playtime\": \"10:23\", \"#\": 23, \"KD\": 0.0, \"Kills\": 0, \"Deaths\": 2, \"Assists\": 0, \"Damage >\": 0, \"Damage <\": 200, \"Gulag\": \"L\", \"% moving\": 44.1, \"Game duration\": \"27\", \"Loadout_1\": \"iw8_ar_kilo433 - iw8_pi_mike1911\", \"Loadout_2\": \"-\", \"Loadout_3\": \"-\"}, {\"Mode\": \"Trios\", \"Ended at\": \"2021-11-19T00:10:38\", \"Team\": \"nineteen\", \"Username\": \"Hakuya\", \"Playtime\": \"27:37\", \"#\": 4, \"KD\": 1.5, \"Kills\": 6, \"Deaths\": 4, \"Assists\": 1, \"Damage >\": 2610, \"Damage <\": 870, \"Gulag\": \"L\", \"% moving\": 68.6, \"Game duration\": \"27\", \"Loadout_1\": \"iw8_lm_t9fastfire - iw8_sm_t9accurate\", \"Loadout_2\": \"iw8_pi_t9semiauto - iw8_fists\", \"Loadout_3\": \"iw8_lm_t9fastfire - iw8_fists\"}, {\"Mode\": \"Trios\", \"Ended at\": \"2021-11-19T00:10:38\", \"Team\": \"twenty_six\", \"Username\": \"Mathilde\", \"Playtime\": \"06:17\", \"#\": 44, \"KD\": 0.5, \"Kills\": 1, \"Deaths\": 2, \"Assists\": 0, \"Damage >\": 602, \"Damage <\": 300, \"Gulag\": \"W\", \"% moving\": 80.9, \"Game duration\": \"27\", \"Loadout_1\": \"iw8_ar_t9british - iw8_sm_t9cqb\", \"Loadout_2\": \"iw8_pi_t9semiauto - iw8_fists\", \"Loadout_3\": \"-\"}, {\"Mode\": \"Trios\", \"Ended at\": \"2021-11-19T00:10:38\", \"Team\": \"thirty_nine\", \"Username\": \"nj0990\", \"Playtime\": \"03:22\", \"#\": 47, \"KD\": 0.0, \"Kills\": 0, \"Deaths\": 1, \"Assists\": 0, \"Damage >\": 394, \"Damage <\": 100, \"Gulag\": \"L\", \"% moving\": 92.5, \"Game duration\": \"27\", \"Loadout_1\": \"iw8_ar_t9slowhandling - iw8_pi_mike1911\", \"Loadout_2\": \"iw8_pi_t9semiauto - iw8_fists\", \"Loadout_3\": \"-\"}, {\"Mode\": \"Trios\", \"Ended at\": \"2021-11-19T00:10:38\", \"Team\": \"twenty_four\", \"Username\": \"cfrancis92\", \"Playtime\": \"06:05\", \"#\": 40, \"KD\": 0.0, \"Kills\": 0, \"Deaths\": 2, \"Assists\": 0, \"Damage >\": 0, \"Damage <\": 260, \"Gulag\": \"W\", \"% moving\": 94.2, \"Game duration\": \"27\", \"Loadout_1\": \"iw8_ar_t9slowhandling - iw8_la_rpapa7\", \"Loadout_2\": \"iw8_pi_t9semiauto - iw8_fists\", \"Loadout_3\": \"-\"}, {\"Mode\": \"Trios\", \"Ended at\": \"2021-11-19T00:10:38\", \"Team\": \"thirty_five\", \"Username\": \"AndyYpsilon89\", \"Playtime\": \"11:55\", \"#\": 6, \"KD\": 0.0, \"Kills\": 0, \"Deaths\": 4, \"Assists\": 0, \"Damage >\": 44, \"Damage <\": 604, \"Gulag\": \"L\", \"% moving\": 53.2, \"Game duration\": \"27\", \"Loadout_1\": \"iw8_ar_t9damage - iw8_sn_kilo98\", \"Loadout_2\": \"iw8_pi_t9semiauto - iw8_fists\", \"Loadout_3\": \"iw8_pi_t9revolver - iw8_fists\"}, {\"Mode\": \"Trios\", \"Ended at\": \"2021-11-19T00:10:38\", \"Team\": \"twenty\", \"Username\": \"DeadlyXhen\", \"Playtime\": \"28:59\", \"#\": 1, \"KD\": 7.5, \"Kills\": 15, \"Deaths\": 2, \"Assists\": 2, \"Damage >\": 5100, \"Damage <\": 515, \"Gulag\": \"L\", \"% moving\": 94.7, \"Game duration\": \"27\", \"Loadout_1\": \"iw8_sm_t9handling - iw8_ar_t9british\", \"Loadout_2\": \"iw8_pi_t9semiauto - iw8_fists\", \"Loadout_3\": \"iw8_sh_t9pump - iw8_fists\"}, {\"Mode\": \"Trios\", \"Ended at\": \"2021-11-19T00:10:38\", \"Team\": \"twenty_five\", \"Username\": \"TT10only\", \"Playtime\": \"28:04\", \"#\": 2, \"KD\": 2.0, \"Kills\": 2, \"Deaths\": 1, \"Assists\": 0, \"Damage >\": 600, \"Damage <\": 476, \"Gulag\": \"L\", \"% moving\": 84.2, \"Game duration\": \"27\", \"Loadout_1\": \"iw8_sm_t9handling - iw8_pi_t9burst\", \"Loadout_2\": \"iw8_pi_t9semiauto - iw8_fists\", \"Loadout_3\": \"-\"}, {\"Mode\": \"Trios\", \"Ended at\": \"2021-11-19T00:10:38\", \"Team\": \"thirty_six\", \"Username\": \"aZure\", \"Playtime\": \"00:46\", \"#\": 19, \"KD\": 0.0, \"Kills\": 0, \"Deaths\": 0, \"Assists\": 0, \"Damage >\": 0, \"Damage <\": 0, \"Gulag\": \"L\", \"% moving\": 0.0, \"Game duration\": \"27\", \"Loadout_1\": \"-\", \"Loadout_2\": \"-\", \"Loadout_3\": \"-\"}, {\"Mode\": \"Trios\", \"Ended at\": \"2021-11-19T00:10:38\", \"Team\": \"axis\", \"Username\": \"Forrest Gump\", \"Playtime\": \"07:05\", \"#\": 36, \"KD\": 1.5, \"Kills\": 3, \"Deaths\": 2, \"Assists\": 3, \"Damage >\": 843, \"Damage <\": 501, \"Gulag\": \"W\", \"% moving\": 85.0, \"Game duration\": \"27\", \"Loadout_1\": \"iw8_ar_t9damage - iw8_sn_t9accurate\", \"Loadout_2\": \"-\", \"Loadout_3\": \"-\"}, {\"Mode\": \"Trios\", \"Ended at\": \"2021-11-19T00:10:38\", \"Team\": \"seven\", \"Username\": \"Der Hausmeister\", \"Playtime\": \"11:31\", \"#\": 22, \"KD\": 1.5, \"Kills\": 3, \"Deaths\": 2, \"Assists\": 0, \"Damage >\": 986, \"Damage <\": 330, \"Gulag\": \"W\", \"% moving\": 93.5, \"Game duration\": \"27\", \"Loadout_1\": \"iw8_ar_t9damage - iw8_sm_t9cqb\", \"Loadout_2\": \"-\", \"Loadout_3\": \"-\"}, {\"Mode\": \"Trios\", \"Ended at\": \"2021-11-19T00:10:38\", \"Team\": \"eighteen\", \"Username\": \"KerryCapija\", \"Playtime\": \"08:00\", \"#\": 34, \"KD\": 0.0, \"Kills\": 0, \"Deaths\": 2, \"Assists\": 0, \"Damage >\": 2, \"Damage <\": 300, \"Gulag\": \"L\", \"% moving\": 67.5, \"Game duration\": \"27\", \"Loadout_1\": \"iw8_ar_t9accurate - iw8_la_rpapa7\", \"Loadout_2\": \"-\", \"Loadout_3\": \"-\"}, {\"Mode\": \"Trios\", \"Ended at\": \"2021-11-19T00:10:38\", \"Team\": \"nine\", \"Username\": \"tommccann10\", \"Playtime\": \"07:52\", \"#\": 31, \"KD\": 0.0, \"Kills\": 0, \"Deaths\": 2, \"Assists\": 0, \"Damage >\": 212, \"Damage <\": 300, \"Gulag\": \"L\", \"% moving\": 91.9, \"Game duration\": \"27\", \"Loadout_1\": \"iw8_sm_mpapa5 - iw8_pi_golf21\", \"Loadout_2\": \"iw8_pi_t9semiauto - iw8_fists\", \"Loadout_3\": \"-\"}, {\"Mode\": \"Trios\", \"Ended at\": \"2021-11-19T00:10:38\", \"Team\": \"seven\", \"Username\": \"Karin_Ritter\", \"Playtime\": \"11:49\", \"#\": 22, \"KD\": 0.5, \"Kills\": 1, \"Deaths\": 2, \"Assists\": 1, \"Damage >\": 723, \"Damage <\": 452, \"Gulag\": \"W\", \"% moving\": 57.8, \"Game duration\": \"27\", \"Loadout_1\": \"iw8_ar_t9british - iw8_sm_t9cqb\", \"Loadout_2\": \"-\", \"Loadout_3\": \"-\"}, {\"Mode\": \"Trios\", \"Ended at\": \"2021-11-19T00:10:38\", \"Team\": \"thirteen\", \"Username\": \"TorTanKuL\", \"Playtime\": \"06:14\", \"#\": 39, \"KD\": 0.5, \"Kills\": 1, \"Deaths\": 2, \"Assists\": 1, \"Damage >\": 445, \"Damage <\": 387, \"Gulag\": \"W\", \"% moving\": 90.9, \"Game duration\": \"27\", \"Loadout_1\": \"iw8_sm_t9cqb - iw8_ar_mike4\", \"Loadout_2\": \"iw8_pi_t9semiauto - iw8_fists\", \"Loadout_3\": \"-\"}, {\"Mode\": \"Trios\", \"Ended at\": \"2021-11-19T00:10:38\", \"Team\": \"thirty_nine\", \"Username\": \"Pipimann\", \"Playtime\": \"04:16\", \"#\": 47, \"KD\": 0.5, \"Kills\": 1, \"Deaths\": 2, \"Assists\": 0, \"Damage >\": 268, \"Damage <\": 300, \"Gulag\": \"L\", \"% moving\": 90.0, \"Game duration\": \"27\", \"Loadout_1\": \"iw8_ar_t9damage - iw8_pi_t9semiauto\", \"Loadout_2\": \"-\", \"Loadout_3\": \"-\"}, {\"Mode\": \"Trios\", \"Ended at\": \"2021-11-19T00:10:38\", \"Team\": \"eleven\", \"Username\": \"Pomme\", \"Playtime\": \"04:20\", \"#\": 48, \"KD\": 2.0, \"Kills\": 2, \"Deaths\": 1, \"Assists\": 0, \"Damage >\": 496, \"Damage <\": 102, \"Gulag\": \"L\", \"% moving\": 89.9, \"Game duration\": \"27\", \"Loadout_1\": \"iw8_sn_t9accurate - iw8_pi_t9burst\", \"Loadout_2\": \"iw8_pi_t9semiauto - iw8_fists\", \"Loadout_3\": \"-\"}, {\"Mode\": \"Trios\", \"Ended at\": \"2021-11-19T00:10:38\", \"Team\": \"seven\", \"Username\": \"Bobo\", \"Playtime\": \"11:31\", \"#\": 22, \"KD\": 0.0, \"Kills\": 0, \"Deaths\": 2, \"Assists\": 0, \"Damage >\": 326, \"Damage <\": 300, \"Gulag\": \"L\", \"% moving\": 31.7, \"Game duration\": \"27\", \"Loadout_1\": \"iw8_ar_t9damage - iw8_sm_t9fastfire\", \"Loadout_2\": \"iw8_pi_t9semiauto - iw8_fists\", \"Loadout_3\": \"-\"}, {\"Mode\": \"Trios\", \"Ended at\": \"2021-11-19T00:10:38\", \"Team\": \"forty\", \"Username\": \"MaDICHSHUGEBRO\", \"Playtime\": \"01:30\", \"#\": 52, \"KD\": 0.0, \"Kills\": 0, \"Deaths\": 1, \"Assists\": 0, \"Damage >\": 2, \"Damage <\": 200, \"Gulag\": \"L\", \"% moving\": 82.0, \"Game duration\": \"27\", \"Loadout_1\": \"iw8_ar_t9standard - iw8_sm_t9fastfire\", \"Loadout_2\": \"-\", \"Loadout_3\": \"-\"}, {\"Mode\": \"Trios\", \"Ended at\": \"2021-11-19T00:10:38\", \"Team\": \"thirty_seven\", \"Username\": \"swipee\", \"Playtime\": \"02:28\", \"#\": 51, \"KD\": 0.0, \"Kills\": 0, \"Deaths\": 1, \"Assists\": 0, \"Damage >\": 190, \"Damage <\": 100, \"Gulag\": \"L\", \"% moving\": 92.4, \"Game duration\": \"27\", \"Loadout_1\": \"iw8_sn_t9accurate - iw8_ar_t9damage\", \"Loadout_2\": \"iw8_pi_t9semiauto - iw8_fists\", \"Loadout_3\": \"-\"}, {\"Mode\": \"Trios\", \"Ended at\": \"2021-11-19T00:10:38\", \"Team\": \"twenty\", \"Username\": \"THEFATHER\", \"Playtime\": \"28:42\", \"#\": 1, \"KD\": 3.5, \"Kills\": 7, \"Deaths\": 2, \"Assists\": 1, \"Damage >\": 2017, \"Damage <\": 696, \"Gulag\": \"W\", \"% moving\": 88.3, \"Game duration\": \"27\", \"Loadout_1\": \"iw8_lm_t9accurate - iw8_pi_golf21\", \"Loadout_2\": \"iw8_ar_t9slowfire - iw8_pi_mike\", \"Loadout_3\": \"-\"}, {\"Mode\": \"Trios\", \"Ended at\": \"2021-11-19T00:10:38\", \"Team\": \"allies\", \"Username\": \"MDGMMAXi\", \"Playtime\": \"10:43\", \"#\": 24, \"KD\": 2.0, \"Kills\": 4, \"Deaths\": 2, \"Assists\": 0, \"Damage >\": 1771, \"Damage <\": 319, \"Gulag\": \"W\", \"% moving\": 94.9, \"Game duration\": \"27\", \"Loadout_1\": \"iw8_sm_t9standard - iw8_sn_t9accurate\", \"Loadout_2\": \"-\", \"Loadout_3\": \"-\"}, {\"Mode\": \"Trios\", \"Ended at\": \"2021-11-19T00:10:38\", \"Team\": \"twenty_five\", \"Username\": \"Titatan so garso\", \"Playtime\": \"28:05\", \"#\": 2, \"KD\": 0.7, \"Kills\": 2, \"Deaths\": 3, \"Assists\": 4, \"Damage >\": 956, \"Damage <\": 604, \"Gulag\": \"L\", \"% moving\": 87.7, \"Game duration\": \"27\", \"Loadout_1\": \"iw8_me_riotshield - iw8_pi_t9burst\", \"Loadout_2\": \"iw8_pi_t9semiauto - iw8_fists\", \"Loadout_3\": \"iw8_ar_t9fasthandling - iw8_fists\"}, {\"Mode\": \"Trios\", \"Ended at\": \"2021-11-19T00:10:38\", \"Team\": \"thirty_seven\", \"Username\": \"tripios404\", \"Playtime\": \"02:12\", \"#\": 51, \"KD\": 0.0, \"Kills\": 0, \"Deaths\": 2, \"Assists\": 0, \"Damage >\": 4, \"Damage <\": 300, \"Gulag\": \"L\", \"% moving\": 84.4, \"Game duration\": \"27\", \"Loadout_1\": \"iw8_ar_mike4 - iw8_pi_t9burst\", \"Loadout_2\": \"iw8_pi_t9semiauto - iw8_fists\", \"Loadout_3\": \"-\"}, {\"Mode\": \"Trios\", \"Ended at\": \"2021-11-19T00:10:38\", \"Team\": \"eight\", \"Username\": \"MrRus\", \"Playtime\": \"06:23\", \"#\": 43, \"KD\": 1.0, \"Kills\": 2, \"Deaths\": 2, \"Assists\": 0, \"Damage >\": 483, \"Damage <\": 339, \"Gulag\": \"W\", \"% moving\": 84.1, \"Game duration\": \"27\", \"Loadout_1\": \"iw8_sm_t9spray - iw8_ar_t9standard\", \"Loadout_2\": \"iw8_pi_t9semiauto - iw8_fists\", \"Loadout_3\": \"-\"}, {\"Mode\": \"Trios\", \"Ended at\": \"2021-11-19T00:10:38\", \"Team\": \"forty_eight\", \"Username\": \"Misterxz\", \"Playtime\": \"16:33\", \"#\": 17, \"KD\": 1.5, \"Kills\": 3, \"Deaths\": 2, \"Assists\": 2, \"Damage >\": 2251, \"Damage <\": 336, \"Gulag\": \"L\", \"% moving\": 94.5, \"Game duration\": \"27\", \"Loadout_1\": \"iw8_sm_t9cqb - iw8_sn_t9accurate\", \"Loadout_2\": \"iw8_pi_t9semiauto - iw8_fists\", \"Loadout_3\": \"-\"}, {\"Mode\": \"Trios\", \"Ended at\": \"2021-11-19T00:10:38\", \"Team\": \"twenty_four\", \"Username\": \"D_Mac_maverick\", \"Playtime\": \"06:03\", \"#\": 40, \"KD\": 0.0, \"Kills\": 0, \"Deaths\": 2, \"Assists\": 0, \"Damage >\": 101, \"Damage <\": 356, \"Gulag\": \"L\", \"% moving\": 44.7, \"Game duration\": \"27\", \"Loadout_1\": \"iw8_ar_kilo433 - iw8_la_rpapa7\", \"Loadout_2\": \"-\", \"Loadout_3\": \"-\"}, {\"Mode\": \"Trios\", \"Ended at\": \"2021-11-19T00:10:38\", \"Team\": \"forty_seven\", \"Username\": \"TrueTDM\", \"Playtime\": \"04:19\", \"#\": 45, \"KD\": 0.0, \"Kills\": 0, \"Deaths\": 1, \"Assists\": 0, \"Damage >\": 113, \"Damage <\": 104, \"Gulag\": \"L\", \"% moving\": 95.1, \"Game duration\": \"27\", \"Loadout_1\": \"iw8_ar_mike4 - iw8_sm_t9fastfire\", \"Loadout_2\": \"iw8_pi_t9semiauto - iw8_fists\", \"Loadout_3\": \"-\"}, {\"Mode\": \"Trios\", \"Ended at\": \"2021-11-19T00:10:38\", \"Team\": \"thirty_eight\", \"Username\": \"Dononeabaygo182\", \"Playtime\": \"06:15\", \"#\": 38, \"KD\": 1.5, \"Kills\": 3, \"Deaths\": 2, \"Assists\": 0, \"Damage >\": 686, \"Damage <\": 394, \"Gulag\": \"W\", \"% moving\": 95.5, \"Game duration\": \"27\", \"Loadout_1\": \"iw8_ar_t9standard - iw8_sm_t9cqb\", \"Loadout_2\": \"-\", \"Loadout_3\": \"-\"}, {\"Mode\": \"Trios\", \"Ended at\": \"2021-11-19T00:10:38\", \"Team\": \"twenty_six\", \"Username\": \"Sieglinde\", \"Playtime\": \"06:20\", \"#\": 44, \"KD\": 0.3, \"Kills\": 1, \"Deaths\": 3, \"Assists\": 0, \"Damage >\": 215, \"Damage <\": 410, \"Gulag\": \"L\", \"% moving\": 52.3, \"Game duration\": \"27\", \"Loadout_1\": \"iw8_ar_mike4 - iw8_sm_t9cqb\", \"Loadout_2\": \"iw8_pi_t9semiauto - iw8_fists\", \"Loadout_3\": \"iw8_lm_t9fastfire - iw8_fists\"}, {\"Mode\": \"Trios\", \"Ended at\": \"2021-11-19T00:10:38\", \"Team\": \"thirty\", \"Username\": \"VeeDawg\", \"Playtime\": \"18:56\", \"#\": 16, \"KD\": 1.0, \"Kills\": 2, \"Deaths\": 2, \"Assists\": 2, \"Damage >\": 766, \"Damage <\": 575, \"Gulag\": \"W\", \"% moving\": 91.4, \"Game duration\": \"27\", \"Loadout_1\": \"iw8_sm_t9cqb - iw8_me_t9sai\", \"Loadout_2\": \"iw8_pi_t9semiauto - iw8_fists\", \"Loadout_3\": \"-\"}, {\"Mode\": \"Trios\", \"Ended at\": \"2021-11-19T00:10:38\", \"Team\": \"twenty_three\", \"Username\": \"cassa_17\", \"Playtime\": \"21:44\", \"#\": 8, \"KD\": 0.5, \"Kills\": 1, \"Deaths\": 2, \"Assists\": 0, \"Damage >\": 491, \"Damage <\": 560, \"Gulag\": \"L\", \"% moving\": 52.6, \"Game duration\": \"27\", \"Loadout_1\": \"iw8_ar_t9damage - iw8_sm_t9spray\", \"Loadout_2\": \"iw8_pi_t9semiauto - iw8_fists\", \"Loadout_3\": \"-\"}, {\"Mode\": \"Trios\", \"Ended at\": \"2021-11-19T00:10:38\", \"Team\": \"seventeen\", \"Username\": \"b3lamafia\", \"Playtime\": \"21:49\", \"#\": 9, \"KD\": 2.5, \"Kills\": 5, \"Deaths\": 2, \"Assists\": 2, \"Damage >\": 1694, \"Damage <\": 571, \"Gulag\": \"W\", \"% moving\": 95.1, \"Game duration\": \"27\", \"Loadout_1\": \"iw8_ar_t9slowhandling - iw8_sm_t9handling\", \"Loadout_2\": \"-\", \"Loadout_3\": \"-\"}]}}, {\"mode\": \"vega-lite\"});\n",
       "</script>"
      ],
      "text/plain": [
       "alt.LayerChart(...)"
      ]
     },
     "execution_count": 77,
     "metadata": {},
     "output_type": "execute_result"
    }
   ],
   "source": [
    "base = alt.Chart(df)         \n",
    "hist2 = base.mark_bar().encode(\n",
    "    x=alt.X('Kills:Q', bin=alt.BinParams(step=1)),\n",
    "    y=alt.Y('count()', axis=alt.Axis(format='', title='n Players')),\n",
    "    tooltip=['Kills'],\n",
    "    color=alt.value(\"orange\")\n",
    "\n",
    ").properties(width=400, height=300)         \n",
    "red_median_line = base.mark_rule(color='red').encode(\n",
    "    x=alt.X('median(Kills):Q', title='Kills'),\n",
    "    size=alt.value(3)\n",
    ")\n",
    "hist2 + red_median_line"
   ]
  },
  {
   "cell_type": "code",
   "execution_count": 78,
   "id": "04c1b874-67e4-43ec-a89f-1c8f8cc304c2",
   "metadata": {},
   "outputs": [
    {
     "data": {
      "text/html": [
       "\n",
       "<div id=\"altair-viz-071221eb9e854cd39ec1bfa53bcc196b\"></div>\n",
       "<script type=\"text/javascript\">\n",
       "  (function(spec, embedOpt){\n",
       "    let outputDiv = document.currentScript.previousElementSibling;\n",
       "    if (outputDiv.id !== \"altair-viz-071221eb9e854cd39ec1bfa53bcc196b\") {\n",
       "      outputDiv = document.getElementById(\"altair-viz-071221eb9e854cd39ec1bfa53bcc196b\");\n",
       "    }\n",
       "    const paths = {\n",
       "      \"vega\": \"https://cdn.jsdelivr.net/npm//vega@5?noext\",\n",
       "      \"vega-lib\": \"https://cdn.jsdelivr.net/npm//vega-lib?noext\",\n",
       "      \"vega-lite\": \"https://cdn.jsdelivr.net/npm//vega-lite@4.8.1?noext\",\n",
       "      \"vega-embed\": \"https://cdn.jsdelivr.net/npm//vega-embed@6?noext\",\n",
       "    };\n",
       "\n",
       "    function loadScript(lib) {\n",
       "      return new Promise(function(resolve, reject) {\n",
       "        var s = document.createElement('script');\n",
       "        s.src = paths[lib];\n",
       "        s.async = true;\n",
       "        s.onload = () => resolve(paths[lib]);\n",
       "        s.onerror = () => reject(`Error loading script: ${paths[lib]}`);\n",
       "        document.getElementsByTagName(\"head\")[0].appendChild(s);\n",
       "      });\n",
       "    }\n",
       "\n",
       "    function showError(err) {\n",
       "      outputDiv.innerHTML = `<div class=\"error\" style=\"color:red;\">${err}</div>`;\n",
       "      throw err;\n",
       "    }\n",
       "\n",
       "    function displayChart(vegaEmbed) {\n",
       "      vegaEmbed(outputDiv, spec, embedOpt)\n",
       "        .catch(err => showError(`Javascript Error: ${err.message}<br>This usually means there's a typo in your chart specification. See the javascript console for the full traceback.`));\n",
       "    }\n",
       "\n",
       "    if(typeof define === \"function\" && define.amd) {\n",
       "      requirejs.config({paths});\n",
       "      require([\"vega-embed\"], displayChart, err => showError(`Error loading script: ${err.message}`));\n",
       "    } else if (typeof vegaEmbed === \"function\") {\n",
       "      displayChart(vegaEmbed);\n",
       "    } else {\n",
       "      loadScript(\"vega\")\n",
       "        .then(() => loadScript(\"vega-lite\"))\n",
       "        .then(() => loadScript(\"vega-embed\"))\n",
       "        .catch(showError)\n",
       "        .then(() => displayChart(vegaEmbed));\n",
       "    }\n",
       "  })({\"config\": {\"view\": {\"continuousWidth\": 400, \"continuousHeight\": 300}}, \"layer\": [{\"mark\": \"bar\", \"encoding\": {\"color\": {\"value\": \"orange\"}, \"tooltip\": [{\"type\": \"quantitative\", \"field\": \"Kills\"}, {\"type\": \"quantitative\", \"aggregate\": \"count\"}], \"x\": {\"type\": \"quantitative\", \"bin\": {\"step\": 1}, \"field\": \"Kills\"}, \"y\": {\"type\": \"quantitative\", \"aggregate\": \"count\", \"axis\": {\"format\": \"\", \"tickCount\": 10, \"title\": \"n Players\"}}}, \"height\": 200, \"width\": 400}, {\"mark\": {\"type\": \"rule\", \"color\": \"black\"}, \"encoding\": {\"size\": {\"value\": 2}, \"x\": {\"type\": \"quantitative\", \"aggregate\": \"median\", \"field\": \"KD\", \"title\": \"KD\"}}}], \"data\": {\"name\": \"data-ade2b33c9649b9e463d98cb4d751d088\"}, \"$schema\": \"https://vega.github.io/schema/vega-lite/v4.8.1.json\", \"datasets\": {\"data-ade2b33c9649b9e463d98cb4d751d088\": [{\"Mode\": \"Trios\", \"Ended at\": \"2021-11-19T00:10:38\", \"Team\": \"forty\", \"Username\": \"MOMMA BOT\", \"Playtime\": \"01:23\", \"#\": 52, \"KD\": 0.0, \"Kills\": 0, \"Deaths\": 0, \"Assists\": 0, \"Damage >\": 0, \"Damage <\": 0, \"Gulag\": \"L\", \"% moving\": 91.7, \"Game duration\": \"27\", \"Loadout_1\": \"iw8_ar_kilo433 - iw8_sm_t9capacity\", \"Loadout_2\": \"iw8_pi_t9semiauto - iw8_fists\", \"Loadout_3\": \"-\"}, {\"Mode\": \"Trios\", \"Ended at\": \"2021-11-19T00:10:38\", \"Team\": \"forty_four\", \"Username\": \"aak112\", \"Playtime\": \"16:04\", \"#\": 18, \"KD\": 2.5, \"Kills\": 5, \"Deaths\": 2, \"Assists\": 0, \"Damage >\": 1729, \"Damage <\": 221, \"Gulag\": \"W\", \"% moving\": 91.5, \"Game duration\": \"27\", \"Loadout_1\": \"iw8_ar_t9british - iw8_sm_t9cqb\", \"Loadout_2\": \"-\", \"Loadout_3\": \"-\"}, {\"Mode\": \"Trios\", \"Ended at\": \"2021-11-19T00:10:38\", \"Team\": \"forty_three\", \"Username\": \"Matteo_B1986\", \"Playtime\": \"27:39\", \"#\": 3, \"KD\": 0.0, \"Kills\": 0, \"Deaths\": 4, \"Assists\": 1, \"Damage >\": 198, \"Damage <\": 818, \"Gulag\": \"L\", \"% moving\": 69.6, \"Game duration\": \"27\", \"Loadout_1\": \"iw8_ar_galima - iw8_sm_t9heavy\", \"Loadout_2\": \"iw8_ar_t9damage - iw8_fists\", \"Loadout_3\": \"iw8_lm_t9light - iw8_sm_mpapa5\"}, {\"Mode\": \"Trios\", \"Ended at\": \"2021-11-19T00:10:38\", \"Team\": \"thirty_three\", \"Username\": \"CarryDaTeam\", \"Playtime\": \"24:13\", \"#\": 5, \"KD\": 2.3, \"Kills\": 7, \"Deaths\": 3, \"Assists\": 2, \"Damage >\": 3535, \"Damage <\": 448, \"Gulag\": \"L\", \"% moving\": 87.1, \"Game duration\": \"27\", \"Loadout_1\": \"iw8_ar_t9damage - iw8_sn_kilo98\", \"Loadout_2\": \"iw8_ar_t9fasthandling - iw8_fists\", \"Loadout_3\": \"-\"}, {\"Mode\": \"Trios\", \"Ended at\": \"2021-11-19T00:10:38\", \"Team\": \"thirty_six\", \"Username\": \"KaliseDerretido\", \"Playtime\": \"14:20\", \"#\": 19, \"KD\": 0.3, \"Kills\": 1, \"Deaths\": 3, \"Assists\": 1, \"Damage >\": 212, \"Damage <\": 409, \"Gulag\": \"W\", \"% moving\": 89.4, \"Game duration\": \"27\", \"Loadout_1\": \"iw8_ar_t9slowhandling - iw8_pi_decho\", \"Loadout_2\": \"iw8_pi_t9semiauto - iw8_fists\", \"Loadout_3\": \"iw8_pi_t9semiauto - iw8_fists\"}, {\"Mode\": \"Trios\", \"Ended at\": \"2021-11-19T00:10:38\", \"Team\": \"forty_three\", \"Username\": \"DamiaNik93\", \"Playtime\": \"27:49\", \"#\": 3, \"KD\": 3.0, \"Kills\": 3, \"Deaths\": 1, \"Assists\": 1, \"Damage >\": 874, \"Damage <\": 158, \"Gulag\": \"L\", \"% moving\": 98.8, \"Game duration\": \"27\", \"Loadout_1\": \"iw8_sm_t9cqb - iw8_sn_kilo98\", \"Loadout_2\": \"-\", \"Loadout_3\": \"-\"}, {\"Mode\": \"Trios\", \"Ended at\": \"2021-11-19T00:10:38\", \"Team\": \"fifty\", \"Username\": \"W3D SM1L3Y\", \"Playtime\": \"07:19\", \"#\": 13, \"KD\": 0.0, \"Kills\": 0, \"Deaths\": 2, \"Assists\": 1, \"Damage >\": 8, \"Damage <\": 208, \"Gulag\": \"L\", \"% moving\": 91.4, \"Game duration\": \"27\", \"Loadout_1\": \"iw8_ar_mcharlie - iw8_sn_kilo98\", \"Loadout_2\": \"iw8_pi_t9semiauto - iw8_fists\", \"Loadout_3\": \"-\"}, {\"Mode\": \"Trios\", \"Ended at\": \"2021-11-19T00:10:38\", \"Team\": \"axis\", \"Username\": \"CAVALIERE NERO\", \"Playtime\": \"07:07\", \"#\": 36, \"KD\": 1.0, \"Kills\": 3, \"Deaths\": 3, \"Assists\": 2, \"Damage >\": 1100, \"Damage <\": 606, \"Gulag\": \"L\", \"% moving\": 83.6, \"Game duration\": \"27\", \"Loadout_1\": \"iw8_sm_t9cqb - iw8_sn_t9accurate\", \"Loadout_2\": \"iw8_pi_t9semiauto - iw8_fists\", \"Loadout_3\": \"iw8_ar_t9damage - iw8_fists\"}, {\"Mode\": \"Trios\", \"Ended at\": \"2021-11-19T00:10:38\", \"Team\": \"fifty_two\", \"Username\": \"EightbitLuke\", \"Playtime\": \"04:49\", \"#\": 46, \"KD\": 0.0, \"Kills\": 0, \"Deaths\": 2, \"Assists\": 0, \"Damage >\": 98, \"Damage <\": 268, \"Gulag\": \"L\", \"% moving\": 94.1, \"Game duration\": \"27\", \"Loadout_1\": \"iw8_ar_mcharlie - iw8_sn_t9accurate\", \"Loadout_2\": \"iw8_pi_t9semiauto - iw8_fists\", \"Loadout_3\": \"-\"}, {\"Mode\": \"Trios\", \"Ended at\": \"2021-11-19T00:10:38\", \"Team\": \"twenty_three\", \"Username\": \"Andrewimpakt96\", \"Playtime\": \"22:05\", \"#\": 8, \"KD\": 3.0, \"Kills\": 6, \"Deaths\": 2, \"Assists\": 2, \"Damage >\": 1744, \"Damage <\": 703, \"Gulag\": \"W\", \"% moving\": 69.4, \"Game duration\": \"27\", \"Loadout_1\": \"iw8_ar_t9slowhandling - iw8_sm_t9fastfire\", \"Loadout_2\": \"iw8_pi_t9semiauto - iw8_fists\", \"Loadout_3\": \"-\"}, {\"Mode\": \"Trios\", \"Ended at\": \"2021-11-19T00:10:38\", \"Team\": \"sixteen\", \"Username\": \"twitch l0rena22\", \"Playtime\": \"07:57\", \"#\": 35, \"KD\": 0.3, \"Kills\": 1, \"Deaths\": 3, \"Assists\": 1, \"Damage >\": 510, \"Damage <\": 658, \"Gulag\": \"W\", \"% moving\": 84.0, \"Game duration\": \"27\", \"Loadout_1\": \"iw8_sm_t9cqb - iw8_ar_t9slowfire\", \"Loadout_2\": \"iw8_pi_t9semiauto - iw8_fists\", \"Loadout_3\": \"-\"}, {\"Mode\": \"Trios\", \"Ended at\": \"2021-11-19T00:10:38\", \"Team\": \"forty_eight\", \"Username\": \"BadMuthaFKRLGC\", \"Playtime\": \"05:39\", \"#\": 17, \"KD\": 1.0, \"Kills\": 2, \"Deaths\": 2, \"Assists\": 0, \"Damage >\": 442, \"Damage <\": 320, \"Gulag\": \"L\", \"% moving\": 82.2, \"Game duration\": \"27\", \"Loadout_1\": \"iw8_ar_anovember94 - iw8_knife\", \"Loadout_2\": \"iw8_pi_t9semiauto - iw8_fists\", \"Loadout_3\": \"-\"}, {\"Mode\": \"Trios\", \"Ended at\": \"2021-11-19T00:10:38\", \"Team\": \"nineteen\", \"Username\": \"Hazardous\", \"Playtime\": \"27:35\", \"#\": 4, \"KD\": 0.5, \"Kills\": 1, \"Deaths\": 2, \"Assists\": 2, \"Damage >\": 765, \"Damage <\": 552, \"Gulag\": \"W\", \"% moving\": 66.4, \"Game duration\": \"27\", \"Loadout_1\": \"iw8_sn_kilo98 - iw8_pi_t9burst\", \"Loadout_2\": \"-\", \"Loadout_3\": \"-\"}, {\"Mode\": \"Trios\", \"Ended at\": \"2021-11-19T00:10:38\", \"Team\": \"forty_nine\", \"Username\": \"Ethereum\", \"Playtime\": \"00:20\", \"#\": 49, \"KD\": 0.0, \"Kills\": 0, \"Deaths\": 0, \"Assists\": 0, \"Damage >\": 0, \"Damage <\": 0, \"Gulag\": \"L\", \"% moving\": 0.0, \"Game duration\": \"27\", \"Loadout_1\": \"-\", \"Loadout_2\": \"-\", \"Loadout_3\": \"-\"}, {\"Mode\": \"Trios\", \"Ended at\": \"2021-11-19T00:10:38\", \"Team\": \"thirteen\", \"Username\": \"Tete en cuir\", \"Playtime\": \"06:29\", \"#\": 39, \"KD\": 0.0, \"Kills\": 0, \"Deaths\": 2, \"Assists\": 0, \"Damage >\": 2, \"Damage <\": 300, \"Gulag\": \"L\", \"% moving\": 39.2, \"Game duration\": \"27\", \"Loadout_1\": \"iw8_ar_t9damage - iw8_sm_t9cqb\", \"Loadout_2\": \"iw8_pi_t9semiauto - iw8_fists\", \"Loadout_3\": \"-\"}, {\"Mode\": \"Trios\", \"Ended at\": \"2021-11-19T00:10:38\", \"Team\": \"twenty_nine\", \"Username\": \"iamgettingbored\", \"Playtime\": \"07:35\", \"#\": 30, \"KD\": 0.0, \"Kills\": 0, \"Deaths\": 2, \"Assists\": 2, \"Damage >\": 132, \"Damage <\": 542, \"Gulag\": \"L\", \"% moving\": 76.3, \"Game duration\": \"27\", \"Loadout_1\": \"iw8_lm_mgolf36 - iw8_sh_t9fullauto\", \"Loadout_2\": \"-\", \"Loadout_3\": \"-\"}, {\"Mode\": \"Trios\", \"Ended at\": \"2021-11-19T00:10:38\", \"Team\": \"three\", \"Username\": \"TataDeni\", \"Playtime\": \"14:21\", \"#\": 21, \"KD\": 4.0, \"Kills\": 8, \"Deaths\": 2, \"Assists\": 1, \"Damage >\": 2025, \"Damage <\": 400, \"Gulag\": \"W\", \"% moving\": 79.1, \"Game duration\": \"27\", \"Loadout_1\": \"iw8_ar_t9slowfire - iw8_sm_mpapa5\", \"Loadout_2\": \"iw8_pi_t9semiauto - iw8_fists\", \"Loadout_3\": \"-\"}, {\"Mode\": \"Trios\", \"Ended at\": \"2021-11-19T00:10:38\", \"Team\": \"forty_two\", \"Username\": \"aimtermintor\", \"Playtime\": \"20:50\", \"#\": 12, \"KD\": 1.0, \"Kills\": 2, \"Deaths\": 2, \"Assists\": 0, \"Damage >\": 609, \"Damage <\": 715, \"Gulag\": \"W\", \"% moving\": 73.4, \"Game duration\": \"27\", \"Loadout_1\": \"iw8_sm_t9fastfire - iw8_sn_kilo98\", \"Loadout_2\": \"-\", \"Loadout_3\": \"-\"}, {\"Mode\": \"Trios\", \"Ended at\": \"2021-11-19T00:10:38\", \"Team\": \"twenty_five\", \"Username\": \"GaelJMG\", \"Playtime\": \"27:54\", \"#\": 2, \"KD\": 10.0, \"Kills\": 10, \"Deaths\": 1, \"Assists\": 1, \"Damage >\": 3664, \"Damage <\": 379, \"Gulag\": \"L\", \"% moving\": 91.5, \"Game duration\": \"27\", \"Loadout_1\": \"iw8_ar_t9british - iw8_pi_t9burst\", \"Loadout_2\": \"iw8_pi_t9semiauto - iw8_fists\", \"Loadout_3\": \"-\"}, {\"Mode\": \"Trios\", \"Ended at\": \"2021-11-19T00:10:38\", \"Team\": \"twenty_two\", \"Username\": \"gallu09\", \"Playtime\": \"23:08\", \"#\": 10, \"KD\": 2.0, \"Kills\": 4, \"Deaths\": 2, \"Assists\": 1, \"Damage >\": 1222, \"Damage <\": 373, \"Gulag\": \"W\", \"% moving\": 85.4, \"Game duration\": \"27\", \"Loadout_1\": \"iw8_ar_t9standard - iw8_sn_t9quickscope\", \"Loadout_2\": \"-\", \"Loadout_3\": \"-\"}, {\"Mode\": \"Trios\", \"Ended at\": \"2021-11-19T00:10:38\", \"Team\": \"twenty_two\", \"Username\": \"ferru97\", \"Playtime\": \"23:07\", \"#\": 10, \"KD\": 0.3, \"Kills\": 1, \"Deaths\": 3, \"Assists\": 0, \"Damage >\": 281, \"Damage <\": 620, \"Gulag\": \"L\", \"% moving\": 79.7, \"Game duration\": \"27\", \"Loadout_1\": \"iw8_ar_t9slowhandling - iw8_la_t9freefire\", \"Loadout_2\": \"iw8_pi_t9semiauto - iw8_fists\", \"Loadout_3\": \"iw8_sh_t9pump - iw8_fists\"}, {\"Mode\": \"Trios\", \"Ended at\": \"2021-11-19T00:10:38\", \"Team\": \"twenty_nine\", \"Username\": \"SenorSam2005\", \"Playtime\": \"07:38\", \"#\": 30, \"KD\": 1.5, \"Kills\": 3, \"Deaths\": 2, \"Assists\": 0, \"Damage >\": 918, \"Damage <\": 283, \"Gulag\": \"L\", \"% moving\": 92.7, \"Game duration\": \"27\", \"Loadout_1\": \"iw8_ar_t9standard - iw8_sn_kilo98\", \"Loadout_2\": \"-\", \"Loadout_3\": \"-\"}, {\"Mode\": \"Trios\", \"Ended at\": \"2021-11-19T00:10:38\", \"Team\": \"thirty_five\", \"Username\": \"King Lundqvist\", \"Playtime\": \"27:58\", \"#\": 6, \"KD\": 2.0, \"Kills\": 2, \"Deaths\": 1, \"Assists\": 3, \"Damage >\": 1471, \"Damage <\": 425, \"Gulag\": \"L\", \"% moving\": 81.0, \"Game duration\": \"27\", \"Loadout_1\": \"iw8_ar_t9damage - iw8_sn_kilo98\", \"Loadout_2\": \"-\", \"Loadout_3\": \"-\"}, {\"Mode\": \"Trios\", \"Ended at\": \"2021-11-19T00:10:38\", \"Team\": \"twenty_nine\", \"Username\": \"DrJam1\", \"Playtime\": \"08:19\", \"#\": 30, \"KD\": 0.5, \"Kills\": 1, \"Deaths\": 2, \"Assists\": 0, \"Damage >\": 330, \"Damage <\": 349, \"Gulag\": \"W\", \"% moving\": 79.8, \"Game duration\": \"27\", \"Loadout_1\": \"iw8_sn_t9accurate - iw8_sm_t9capacity\", \"Loadout_2\": \"-\", \"Loadout_3\": \"-\"}, {\"Mode\": \"Trios\", \"Ended at\": \"2021-11-19T00:10:38\", \"Team\": \"thirty_one\", \"Username\": \"Asura95\", \"Playtime\": \"19:58\", \"#\": 14, \"KD\": 1.0, \"Kills\": 2, \"Deaths\": 2, \"Assists\": 0, \"Damage >\": 1106, \"Damage <\": 493, \"Gulag\": \"W\", \"% moving\": 84.5, \"Game duration\": \"27\", \"Loadout_1\": \"iw8_ar_t9slowfire - iw8_sm_t9fastfire\", \"Loadout_2\": \"iw8_pi_t9semiauto - iw8_fists\", \"Loadout_3\": \"-\"}, {\"Mode\": \"Trios\", \"Ended at\": \"2021-11-19T00:10:38\", \"Team\": \"thirty_four\", \"Username\": \"xCJD\", \"Playtime\": \"00:22\", \"#\": 53, \"KD\": 0.0, \"Kills\": 0, \"Deaths\": 0, \"Assists\": 0, \"Damage >\": 0, \"Damage <\": 0, \"Gulag\": \"L\", \"% moving\": 0.0, \"Game duration\": \"27\", \"Loadout_1\": \"iw8_ar_mcharlie - iw8_sn_alpha50\", \"Loadout_2\": \"-\", \"Loadout_3\": \"-\"}, {\"Mode\": \"Trios\", \"Ended at\": \"2021-11-19T00:10:38\", \"Team\": \"forty_nine\", \"Username\": \"Joshthebinman69\", \"Playtime\": \"28:28\", \"#\": 49, \"KD\": 0.0, \"Kills\": 0, \"Deaths\": 2, \"Assists\": 0, \"Damage >\": 0, \"Damage <\": 200, \"Gulag\": \"L\", \"% moving\": 6.7, \"Game duration\": \"27\", \"Loadout_1\": \"iw8_ar_kilo433 - iw8_sm_t9fastfire\", \"Loadout_2\": \"-\", \"Loadout_3\": \"-\"}, {\"Mode\": \"Trios\", \"Ended at\": \"2021-11-19T00:10:38\", \"Team\": \"thirty_three\", \"Username\": \"Cunny-Boss\", \"Playtime\": \"24:14\", \"#\": 5, \"KD\": 3.7, \"Kills\": 11, \"Deaths\": 3, \"Assists\": 0, \"Damage >\": 3931, \"Damage <\": 830, \"Gulag\": \"W\", \"% moving\": 78.7, \"Game duration\": \"27\", \"Loadout_1\": \"iw8_ar_t9damage - iw8_sm_t9cqb\", \"Loadout_2\": \"iw8_pi_t9semiauto - iw8_fists\", \"Loadout_3\": \"iw8_sm_t9fastfire - iw8_pi_papa320\"}, {\"Mode\": \"Trios\", \"Ended at\": \"2021-11-19T00:10:38\", \"Team\": \"fifty_two\", \"Username\": \"BizzleBoy\", \"Playtime\": \"04:47\", \"#\": 46, \"KD\": 0.5, \"Kills\": 1, \"Deaths\": 2, \"Assists\": 0, \"Damage >\": 343, \"Damage <\": 300, \"Gulag\": \"L\", \"% moving\": 81.6, \"Game duration\": \"27\", \"Loadout_1\": \"iw8_ar_t9damage - iw8_sh_t9semiauto\", \"Loadout_2\": \"iw8_pi_t9semiauto - iw8_fists\", \"Loadout_3\": \"-\"}, {\"Mode\": \"Trios\", \"Ended at\": \"2021-11-19T00:10:38\", \"Team\": \"thirty_one\", \"Username\": \"RedFoX\", \"Playtime\": \"19:58\", \"#\": 14, \"KD\": 1.5, \"Kills\": 3, \"Deaths\": 2, \"Assists\": 1, \"Damage >\": 1155, \"Damage <\": 621, \"Gulag\": \"W\", \"% moving\": 89.0, \"Game duration\": \"27\", \"Loadout_1\": \"iw8_ar_t9damage - iw8_pi_t9burst\", \"Loadout_2\": \"iw8_pi_t9semiauto - iw8_fists\", \"Loadout_3\": \"-\"}, {\"Mode\": \"Trios\", \"Ended at\": \"2021-11-19T00:10:38\", \"Team\": \"thirty_four\", \"Username\": \"RWM973\", \"Playtime\": \"00:35\", \"#\": 53, \"KD\": 0.0, \"Kills\": 0, \"Deaths\": 0, \"Assists\": 0, \"Damage >\": 0, \"Damage <\": 0, \"Gulag\": \"L\", \"% moving\": 0.0, \"Game duration\": \"27\", \"Loadout_1\": \"-\", \"Loadout_2\": \"-\", \"Loadout_3\": \"-\"}, {\"Mode\": \"Trios\", \"Ended at\": \"2021-11-19T00:10:38\", \"Team\": \"eighteen\", \"Username\": \"ByKillerEs\", \"Playtime\": \"08:30\", \"#\": 34, \"KD\": 1.0, \"Kills\": 2, \"Deaths\": 2, \"Assists\": 0, \"Damage >\": 493, \"Damage <\": 338, \"Gulag\": \"W\", \"% moving\": 89.0, \"Game duration\": \"27\", \"Loadout_1\": \"iw8_sm_t9cqb - iw8_sn_xmike109\", \"Loadout_2\": \"-\", \"Loadout_3\": \"-\"}, {\"Mode\": \"Trios\", \"Ended at\": \"2021-11-19T00:10:38\", \"Team\": \"forty\", \"Username\": \"THE BOT DEMON\", \"Playtime\": \"02:12\", \"#\": 52, \"KD\": 0.0, \"Kills\": 0, \"Deaths\": 0, \"Assists\": 0, \"Damage >\": 60, \"Damage <\": 0, \"Gulag\": \"L\", \"% moving\": 91.7, \"Game duration\": \"27\", \"Loadout_1\": \"iw8_ar_t9british - iw8_sn_t9accurate\", \"Loadout_2\": \"-\", \"Loadout_3\": \"-\"}, {\"Mode\": \"Trios\", \"Ended at\": \"2021-11-19T00:10:38\", \"Team\": \"fourteen\", \"Username\": \"Mooretex\", \"Playtime\": \"14:29\", \"#\": 20, \"KD\": 1.0, \"Kills\": 2, \"Deaths\": 2, \"Assists\": 0, \"Damage >\": 1140, \"Damage <\": 300, \"Gulag\": \"L\", \"% moving\": 95.8, \"Game duration\": \"27\", \"Loadout_1\": \"iw8_sm_t9spray - iw8_la_kgolf\", \"Loadout_2\": \"iw8_pi_t9semiauto - iw8_fists\", \"Loadout_3\": \"-\"}, {\"Mode\": \"Trios\", \"Ended at\": \"2021-11-19T00:10:38\", \"Team\": \"four\", \"Username\": \"ekoo\", \"Playtime\": \"09:53\", \"#\": 27, \"KD\": 0.5, \"Kills\": 1, \"Deaths\": 2, \"Assists\": 0, \"Damage >\": 768, \"Damage <\": 433, \"Gulag\": \"W\", \"% moving\": 83.8, \"Game duration\": \"27\", \"Loadout_1\": \"iw8_ar_t9standard - iw8_sn_t9accurate\", \"Loadout_2\": \"iw8_pi_t9semiauto - iw8_fists\", \"Loadout_3\": \"-\"}, {\"Mode\": \"Trios\", \"Ended at\": \"2021-11-19T00:10:38\", \"Team\": \"axis\", \"Username\": \"Frenk_il Bue_\", \"Playtime\": \"07:05\", \"#\": 36, \"KD\": 2.0, \"Kills\": 4, \"Deaths\": 2, \"Assists\": 1, \"Damage >\": 1036, \"Damage <\": 576, \"Gulag\": \"W\", \"% moving\": 92.1, \"Game duration\": \"27\", \"Loadout_1\": \"iw8_ar_t9slowfire - iw8_sm_t9spray\", \"Loadout_2\": \"iw8_pi_t9semiauto - iw8_fists\", \"Loadout_3\": \"-\"}, {\"Mode\": \"Trios\", \"Ended at\": \"2021-11-19T00:10:38\", \"Team\": \"ten\", \"Username\": \"dembeleee92\", \"Playtime\": \"09:13\", \"#\": 28, \"KD\": 1.0, \"Kills\": 2, \"Deaths\": 2, \"Assists\": 2, \"Damage >\": 561, \"Damage <\": 360, \"Gulag\": \"W\", \"% moving\": 89.5, \"Game duration\": \"27\", \"Loadout_1\": \"iw8_lm_pkilo - iw8_la_rpapa7\", \"Loadout_2\": \"iw8_pi_t9semiauto - iw8_fists\", \"Loadout_3\": \"-\"}, {\"Mode\": \"Trios\", \"Ended at\": \"2021-11-19T00:10:38\", \"Team\": \"thirty_one\", \"Username\": \"WerVardyGestern\", \"Playtime\": \"19:41\", \"#\": 14, \"KD\": 1.5, \"Kills\": 3, \"Deaths\": 2, \"Assists\": 0, \"Damage >\": 891, \"Damage <\": 367, \"Gulag\": \"L\", \"% moving\": 64.4, \"Game duration\": \"27\", \"Loadout_1\": \"iw8_ar_t9standard - iw8_sn_t9accurate\", \"Loadout_2\": \"iw8_pi_t9semiauto - iw8_fists\", \"Loadout_3\": \"-\"}, {\"Mode\": \"Trios\", \"Ended at\": \"2021-11-19T00:10:38\", \"Team\": \"fifty\", \"Username\": \"Spanky_P\", \"Playtime\": \"22:14\", \"#\": 13, \"KD\": 0.7, \"Kills\": 2, \"Deaths\": 3, \"Assists\": 1, \"Damage >\": 808, \"Damage <\": 403, \"Gulag\": \"L\", \"% moving\": 78.0, \"Game duration\": \"27\", \"Loadout_1\": \"iw8_sm_t9heavy - iw8_ar_t9standard\", \"Loadout_2\": \"iw8_pi_t9semiauto - iw8_fists\", \"Loadout_3\": \"iw8_sn_t9damagesemi - iw8_fists\"}, {\"Mode\": \"Trios\", \"Ended at\": \"2021-11-19T00:10:38\", \"Team\": \"eight\", \"Username\": \"El Profesor\", \"Playtime\": \"06:23\", \"#\": 43, \"KD\": 0.0, \"Kills\": 0, \"Deaths\": 2, \"Assists\": 0, \"Damage >\": 192, \"Damage <\": 212, \"Gulag\": \"L\", \"% moving\": 51.8, \"Game duration\": \"27\", \"Loadout_1\": \"iw8_ar_mike4 - iw8_knife\", \"Loadout_2\": \"iw8_pi_t9semiauto - iw8_fists\", \"Loadout_3\": \"-\"}, {\"Mode\": \"Trios\", \"Ended at\": \"2021-11-19T00:10:38\", \"Team\": \"forty_eight\", \"Username\": \"Krisztof\", \"Playtime\": \"16:26\", \"#\": 17, \"KD\": 1.0, \"Kills\": 4, \"Deaths\": 4, \"Assists\": 1, \"Damage >\": 1533, \"Damage <\": 814, \"Gulag\": \"L\", \"% moving\": 79.0, \"Game duration\": \"27\", \"Loadout_1\": \"iw8_ar_mike4 - iw8_sm_t9fastfire\", \"Loadout_2\": \"iw8_sm_t9cqb - iw8_fists\", \"Loadout_3\": \"iw8_pi_t9semiauto - iw8_fists\"}, {\"Mode\": \"Trios\", \"Ended at\": \"2021-11-19T00:10:38\", \"Team\": \"twenty_six\", \"Username\": \"Martha\", \"Playtime\": \"06:15\", \"#\": 44, \"KD\": 0.5, \"Kills\": 1, \"Deaths\": 2, \"Assists\": 0, \"Damage >\": 579, \"Damage <\": 300, \"Gulag\": \"W\", \"% moving\": 79.9, \"Game duration\": \"27\", \"Loadout_1\": \"iw8_ar_t9standard - iw8_sm_t9cqb\", \"Loadout_2\": \"-\", \"Loadout_3\": \"-\"}, {\"Mode\": \"Trios\", \"Ended at\": \"2021-11-19T00:10:38\", \"Team\": \"eighteen\", \"Username\": \"THECURRYALPHA\", \"Playtime\": \"08:00\", \"#\": 34, \"KD\": 0.0, \"Kills\": 0, \"Deaths\": 2, \"Assists\": 0, \"Damage >\": 84, \"Damage <\": 300, \"Gulag\": \"L\", \"% moving\": 77.0, \"Game duration\": \"27\", \"Loadout_1\": \"iw8_ar_mike4 - iw8_sn_t9quickscope\", \"Loadout_2\": \"iw8_pi_t9semiauto - iw8_fists\", \"Loadout_3\": \"-\"}, {\"Mode\": \"Trios\", \"Ended at\": \"2021-11-19T00:10:38\", \"Team\": \"twenty_one\", \"Username\": \"Dimi_97\", \"Playtime\": \"05:55\", \"#\": 42, \"KD\": 0.0, \"Kills\": 0, \"Deaths\": 2, \"Assists\": 0, \"Damage >\": 119, \"Damage <\": 200, \"Gulag\": \"L\", \"% moving\": 88.9, \"Game duration\": \"27\", \"Loadout_1\": \"iw8_ar_galima - iw8_pi_mike\", \"Loadout_2\": \"-\", \"Loadout_3\": \"-\"}, {\"Mode\": \"Trios\", \"Ended at\": \"2021-11-19T00:10:38\", \"Team\": \"five\", \"Username\": \"iamfisi\", \"Playtime\": \"18:53\", \"#\": 15, \"KD\": 3.5, \"Kills\": 7, \"Deaths\": 2, \"Assists\": 1, \"Damage >\": 2863, \"Damage <\": 519, \"Gulag\": \"W\", \"% moving\": 96.9, \"Game duration\": \"27\", \"Loadout_1\": \"iw8_sm_t9cqb - iw8_ar_t9british\", \"Loadout_2\": \"iw8_pi_t9semiauto - iw8_fists\", \"Loadout_3\": \"-\"}, {\"Mode\": \"Trios\", \"Ended at\": \"2021-11-19T00:10:38\", \"Team\": \"forty_one\", \"Username\": \"Mikey\", \"Playtime\": \"10:28\", \"#\": 26, \"KD\": 0.5, \"Kills\": 1, \"Deaths\": 2, \"Assists\": 2, \"Damage >\": 540, \"Damage <\": 266, \"Gulag\": \"L\", \"% moving\": 56.3, \"Game duration\": \"27\", \"Loadout_1\": \"iw8_sm_mpapa7 - iw8_sn_kilo98\", \"Loadout_2\": \"iw8_pi_t9semiauto - iw8_fists\", \"Loadout_3\": \"-\"}, {\"Mode\": \"Trios\", \"Ended at\": \"2021-11-19T00:10:38\", \"Team\": \"eleven\", \"Username\": \"voltlaag\", \"Playtime\": \"04:17\", \"#\": 48, \"KD\": 0.5, \"Kills\": 1, \"Deaths\": 2, \"Assists\": 0, \"Damage >\": 192, \"Damage <\": 300, \"Gulag\": \"W\", \"% moving\": 82.0, \"Game duration\": \"27\", \"Loadout_1\": \"iw8_ar_t9standard - iw8_sm_t9cqb\", \"Loadout_2\": \"iw8_pi_t9semiauto - iw8_fists\", \"Loadout_3\": \"-\"}, {\"Mode\": \"Trios\", \"Ended at\": \"2021-11-19T00:10:38\", \"Team\": \"fifty_one\", \"Username\": \"Piofhut\", \"Playtime\": \"07:40\", \"#\": 32, \"KD\": 0.0, \"Kills\": 0, \"Deaths\": 1, \"Assists\": 0, \"Damage >\": 218, \"Damage <\": 294, \"Gulag\": \"L\", \"% moving\": 97.1, \"Game duration\": \"27\", \"Loadout_1\": \"iw8_me_riotshield - iw8_ar_mcharlie\", \"Loadout_2\": \"iw8_pi_t9semiauto - iw8_fists\", \"Loadout_3\": \"-\"}, {\"Mode\": \"Trios\", \"Ended at\": \"2021-11-19T00:10:38\", \"Team\": \"forty_six\", \"Username\": \"Tiikelo\", \"Playtime\": \"08:07\", \"#\": 33, \"KD\": 1.0, \"Kills\": 3, \"Deaths\": 3, \"Assists\": 0, \"Damage >\": 933, \"Damage <\": 481, \"Gulag\": \"W\", \"% moving\": 79.5, \"Game duration\": \"27\", \"Loadout_1\": \"iw8_ar_t9standard - iw8_sn_t9quickscope\", \"Loadout_2\": \"iw8_pi_t9semiauto - iw8_fists\", \"Loadout_3\": \"-\"}, {\"Mode\": \"Trios\", \"Ended at\": \"2021-11-19T00:10:38\", \"Team\": \"five\", \"Username\": \"MrsLovely\", \"Playtime\": \"18:48\", \"#\": 15, \"KD\": 1.5, \"Kills\": 3, \"Deaths\": 2, \"Assists\": 2, \"Damage >\": 876, \"Damage <\": 472, \"Gulag\": \"W\", \"% moving\": 81.2, \"Game duration\": \"27\", \"Loadout_1\": \"iw8_sm_t9capacity - iw8_sn_hdromeo\", \"Loadout_2\": \"iw8_pi_t9semiauto - iw8_fists\", \"Loadout_3\": \"-\"}, {\"Mode\": \"Trios\", \"Ended at\": \"2021-11-19T00:10:38\", \"Team\": \"fifteen\", \"Username\": \"XxD-ii_N-_-G_oxX\", \"Playtime\": \"08:19\", \"#\": 29, \"KD\": 0.0, \"Kills\": 0, \"Deaths\": 3, \"Assists\": 2, \"Damage >\": 265, \"Damage <\": 500, \"Gulag\": \"L\", \"% moving\": 31.6, \"Game duration\": \"27\", \"Loadout_1\": \"iw8_ar_t9damage - iw8_me_t9loadout\", \"Loadout_2\": \"iw8_pi_t9semiauto - iw8_fists\", \"Loadout_3\": \"iw8_lm_t9fastfire - iw8_fists\"}, {\"Mode\": \"Trios\", \"Ended at\": \"2021-11-19T00:10:38\", \"Team\": \"forty_one\", \"Username\": \"Rush_everyone\", \"Playtime\": \"10:16\", \"#\": 26, \"KD\": 0.5, \"Kills\": 1, \"Deaths\": 2, \"Assists\": 1, \"Damage >\": 729, \"Damage <\": 372, \"Gulag\": \"W\", \"% moving\": 95.2, \"Game duration\": \"27\", \"Loadout_1\": \"iw8_ar_t9british - iw8_sm_t9cqb\", \"Loadout_2\": \"-\", \"Loadout_3\": \"-\"}, {\"Mode\": \"Trios\", \"Ended at\": \"2021-11-19T00:10:38\", \"Team\": \"thirty_five\", \"Username\": \"Enix\", \"Playtime\": \"07:02\", \"#\": 6, \"KD\": 0.5, \"Kills\": 1, \"Deaths\": 2, \"Assists\": 1, \"Damage >\": 484, \"Damage <\": 552, \"Gulag\": \"W\", \"% moving\": 95.2, \"Game duration\": \"27\", \"Loadout_1\": \"iw8_sm_t9cqb - iw8_sn_t9accurate\", \"Loadout_2\": \"iw8_pi_t9semiauto - iw8_fists\", \"Loadout_3\": \"-\"}, {\"Mode\": \"Trios\", \"Ended at\": \"2021-11-19T00:10:38\", \"Team\": \"forty_one\", \"Username\": \"CLART DEM\", \"Playtime\": \"10:33\", \"#\": 26, \"KD\": 1.0, \"Kills\": 2, \"Deaths\": 2, \"Assists\": 2, \"Damage >\": 443, \"Damage <\": 502, \"Gulag\": \"W\", \"% moving\": 88.9, \"Game duration\": \"27\", \"Loadout_1\": \"iw8_sm_t9capacity - iw8_lm_t9accurate\", \"Loadout_2\": \"-\", \"Loadout_3\": \"-\"}, {\"Mode\": \"Trios\", \"Ended at\": \"2021-11-19T00:10:38\", \"Team\": \"forty_five\", \"Username\": \"DeminLender\", \"Playtime\": \"06:12\", \"#\": 41, \"KD\": 0.0, \"Kills\": 0, \"Deaths\": 2, \"Assists\": 1, \"Damage >\": 441, \"Damage <\": 299, \"Gulag\": \"L\", \"% moving\": 68.6, \"Game duration\": \"27\", \"Loadout_1\": \"iw8_ar_t9damage - iw8_sm_t9capacity\", \"Loadout_2\": \"-\", \"Loadout_3\": \"-\"}, {\"Mode\": \"Trios\", \"Ended at\": \"2021-11-19T00:10:38\", \"Team\": \"twenty_eight\", \"Username\": \"MANIDIFORBICE87\", \"Playtime\": \"03:12\", \"#\": 50, \"KD\": 0.5, \"Kills\": 1, \"Deaths\": 2, \"Assists\": 0, \"Damage >\": 353, \"Damage <\": 300, \"Gulag\": \"W\", \"% moving\": 91.7, \"Game duration\": \"27\", \"Loadout_1\": \"iw8_ar_t9damage - iw8_sm_t9standard\", \"Loadout_2\": \"iw8_pi_t9semiauto - iw8_fists\", \"Loadout_3\": \"-\"}, {\"Mode\": \"Trios\", \"Ended at\": \"2021-11-19T00:10:38\", \"Team\": \"three\", \"Username\": \"jakoxy\", \"Playtime\": \"13:58\", \"#\": 21, \"KD\": 1.0, \"Kills\": 3, \"Deaths\": 3, \"Assists\": 0, \"Damage >\": 1397, \"Damage <\": 495, \"Gulag\": \"L\", \"% moving\": 89.5, \"Game duration\": \"27\", \"Loadout_1\": \"iw8_ar_t9british - iw8_sh_t9semiauto\", \"Loadout_2\": \"iw8_pi_t9semiauto - iw8_fists\", \"Loadout_3\": \"iw8_sn_t9damagesemi - iw8_fists\"}, {\"Mode\": \"Trios\", \"Ended at\": \"2021-11-19T00:10:38\", \"Team\": \"eight\", \"Username\": \"bay-sword9\", \"Playtime\": \"06:06\", \"#\": 43, \"KD\": 0.0, \"Kills\": 0, \"Deaths\": 2, \"Assists\": 1, \"Damage >\": 55, \"Damage <\": 222, \"Gulag\": \"L\", \"% moving\": 37.2, \"Game duration\": \"27\", \"Loadout_1\": \"iw8_ar_t9damage - iw8_sm_t9cqb\", \"Loadout_2\": \"iw8_pi_t9semiauto - iw8_fists\", \"Loadout_3\": \"-\"}, {\"Mode\": \"Trios\", \"Ended at\": \"2021-11-19T00:10:38\", \"Team\": \"thirty_two\", \"Username\": \"iDropzLost\", \"Playtime\": \"07:00\", \"#\": 37, \"KD\": 0.0, \"Kills\": 0, \"Deaths\": 2, \"Assists\": 0, \"Damage >\": 275, \"Damage <\": 300, \"Gulag\": \"L\", \"% moving\": 36.2, \"Game duration\": \"27\", \"Loadout_1\": \"iw8_sn_t9accurate - iw8_sm_t9cqb\", \"Loadout_2\": \"iw8_pi_t9semiauto - iw8_fists\", \"Loadout_3\": \"-\"}, {\"Mode\": \"Trios\", \"Ended at\": \"2021-11-19T00:10:38\", \"Team\": \"thirteen\", \"Username\": \"Dr Hannibal\", \"Playtime\": \"06:31\", \"#\": 39, \"KD\": 0.0, \"Kills\": 0, \"Deaths\": 2, \"Assists\": 0, \"Damage >\": 29, \"Damage <\": 200, \"Gulag\": \"L\", \"% moving\": 58.0, \"Game duration\": \"27\", \"Loadout_1\": \"iw8_ar_t9fastfire - iw8_sn_t9quickscope\", \"Loadout_2\": \"iw8_pi_t9semiauto - iw8_fists\", \"Loadout_3\": \"-\"}, {\"Mode\": \"Trios\", \"Ended at\": \"2021-11-19T00:10:38\", \"Team\": \"twenty_seven\", \"Username\": \"nicoyzovitch\", \"Playtime\": \"21:58\", \"#\": 11, \"KD\": 1.3, \"Kills\": 4, \"Deaths\": 3, \"Assists\": 0, \"Damage >\": 1372, \"Damage <\": 550, \"Gulag\": \"W\", \"% moving\": 92.6, \"Game duration\": \"27\", \"Loadout_1\": \"iw8_lm_t9fastfire - iw8_sm_t9cqb\", \"Loadout_2\": \"iw8_pi_t9semiauto - iw8_fists\", \"Loadout_3\": \"iw8_pi_t9semiauto - iw8_fists\"}, {\"Mode\": \"Trios\", \"Ended at\": \"2021-11-19T00:10:38\", \"Team\": \"fifteen\", \"Username\": \"Mac\", \"Playtime\": \"08:36\", \"#\": 29, \"KD\": 0.3, \"Kills\": 1, \"Deaths\": 3, \"Assists\": 0, \"Damage >\": 307, \"Damage <\": 300, \"Gulag\": \"L\", \"% moving\": 40.6, \"Game duration\": \"27\", \"Loadout_1\": \"iw8_sn_t9accurate - iw8_ar_t9standard\", \"Loadout_2\": \"iw8_ar_t9slowhandling - iw8_fists\", \"Loadout_3\": \"-\"}, {\"Mode\": \"Trios\", \"Ended at\": \"2021-11-19T00:10:38\", \"Team\": \"six\", \"Username\": \"FloPPHard\", \"Playtime\": \"10:28\", \"#\": 25, \"KD\": 0.3, \"Kills\": 1, \"Deaths\": 3, \"Assists\": 4, \"Damage >\": 531, \"Damage <\": 400, \"Gulag\": \"L\", \"% moving\": 59.4, \"Game duration\": \"27\", \"Loadout_1\": \"iw8_sm_t9standard - iw8_pi_mike\", \"Loadout_2\": \"iw8_pi_t9semiauto - iw8_fists\", \"Loadout_3\": \"iw8_pi_t9revolver - iw8_fists\"}, {\"Mode\": \"Trios\", \"Ended at\": \"2021-11-19T00:10:38\", \"Team\": \"twenty_seven\", \"Username\": \"gentil_renard\", \"Playtime\": \"21:48\", \"#\": 11, \"KD\": 0.2, \"Kills\": 1, \"Deaths\": 4, \"Assists\": 1, \"Damage >\": 948, \"Damage <\": 932, \"Gulag\": \"L\", \"% moving\": 74.4, \"Game duration\": \"27\", \"Loadout_1\": \"iw8_ar_valpha - iw8_sn_t9accurate\", \"Loadout_2\": \"iw8_ar_t9season6 - iw8_fists\", \"Loadout_3\": \"-\"}, {\"Mode\": \"Trios\", \"Ended at\": \"2021-11-19T00:10:38\", \"Team\": \"twenty_one\", \"Username\": \"Noiders\", \"Playtime\": \"06:12\", \"#\": 42, \"KD\": 0.0, \"Kills\": 0, \"Deaths\": 2, \"Assists\": 1, \"Damage >\": 386, \"Damage <\": 398, \"Gulag\": \"L\", \"% moving\": 82.2, \"Game duration\": \"27\", \"Loadout_1\": \"iw8_ar_t9british - iw8_sm_t9spray\", \"Loadout_2\": \"iw8_pi_t9semiauto - iw8_fists\", \"Loadout_3\": \"-\"}, {\"Mode\": \"Trios\", \"Ended at\": \"2021-11-19T00:10:38\", \"Team\": \"thirty\", \"Username\": \"fraserdand\", \"Playtime\": \"18:55\", \"#\": 16, \"KD\": 2.0, \"Kills\": 4, \"Deaths\": 2, \"Assists\": 1, \"Damage >\": 1908, \"Damage <\": 628, \"Gulag\": \"W\", \"% moving\": 91.9, \"Game duration\": \"27\", \"Loadout_1\": \"iw8_sm_t9spray - iw8_sn_t9accurate\", \"Loadout_2\": \"iw8_pi_t9semiauto - iw8_fists\", \"Loadout_3\": \"-\"}, {\"Mode\": \"Trios\", \"Ended at\": \"2021-11-19T00:10:38\", \"Team\": \"thirty_six\", \"Username\": \"BoTheGreat1998\", \"Playtime\": \"14:25\", \"#\": 19, \"KD\": 0.0, \"Kills\": 0, \"Deaths\": 3, \"Assists\": 0, \"Damage >\": 101, \"Damage <\": 476, \"Gulag\": \"L\", \"% moving\": 63.8, \"Game duration\": \"27\", \"Loadout_1\": \"iw8_ar_t9slowhandling - iw8_sn_kilo98\", \"Loadout_2\": \"iw8_pi_t9semiauto - iw8_fists\", \"Loadout_3\": \"iw8_ar_t9fasthandling - iw8_fists\"}, {\"Mode\": \"Trios\", \"Ended at\": \"2021-11-19T00:10:38\", \"Team\": \"ten\", \"Username\": \"Mr Monty\", \"Playtime\": \"09:21\", \"#\": 28, \"KD\": 2.0, \"Kills\": 4, \"Deaths\": 2, \"Assists\": 1, \"Damage >\": 1027, \"Damage <\": 530, \"Gulag\": \"W\", \"% moving\": 90.5, \"Game duration\": \"27\", \"Loadout_1\": \"iw8_sm_t9spray - iw8_sn_t9accurate\", \"Loadout_2\": \"iw8_pi_t9semiauto - iw8_fists\", \"Loadout_3\": \"-\"}, {\"Mode\": \"Trios\", \"Ended at\": \"2021-11-19T00:10:38\", \"Team\": \"forty_seven\", \"Username\": \"Mia Khalifa\", \"Playtime\": \"04:47\", \"#\": 45, \"KD\": 0.5, \"Kills\": 1, \"Deaths\": 2, \"Assists\": 0, \"Damage >\": 104, \"Damage <\": 323, \"Gulag\": \"W\", \"% moving\": 83.7, \"Game duration\": \"27\", \"Loadout_1\": \"iw8_sn_kilo98 - iw8_ar_valpha\", \"Loadout_2\": \"-\", \"Loadout_3\": \"-\"}, {\"Mode\": \"Trios\", \"Ended at\": \"2021-11-19T00:10:38\", \"Team\": \"seventeen\", \"Username\": \"DonEleganza\", \"Playtime\": \"21:49\", \"#\": 9, \"KD\": 3.0, \"Kills\": 9, \"Deaths\": 3, \"Assists\": 1, \"Damage >\": 3158, \"Damage <\": 719, \"Gulag\": \"W\", \"% moving\": 83.7, \"Game duration\": \"27\", \"Loadout_1\": \"iw8_ar_akilo47 - iw8_sn_xmike109\", \"Loadout_2\": \"iw8_pi_t9semiauto - iw8_fists\", \"Loadout_3\": \"iw8_pi_t9semiauto - iw8_fists\"}, {\"Mode\": \"Trios\", \"Ended at\": \"2021-11-19T00:10:38\", \"Team\": \"forty_six\", \"Username\": \"Millno\", \"Playtime\": \"07:34\", \"#\": 33, \"KD\": 2.0, \"Kills\": 4, \"Deaths\": 2, \"Assists\": 0, \"Damage >\": 1343, \"Damage <\": 482, \"Gulag\": \"W\", \"% moving\": 80.5, \"Game duration\": \"27\", \"Loadout_1\": \"iw8_sh_t9semiauto - iw8_ar_t9slowhandling\", \"Loadout_2\": \"iw8_pi_t9semiauto - iw8_fists\", \"Loadout_3\": \"-\"}, {\"Mode\": \"Trios\", \"Ended at\": \"2021-11-19T00:10:38\", \"Team\": \"six\", \"Username\": \"BearGrylls\", \"Playtime\": \"10:28\", \"#\": 25, \"KD\": 0.5, \"Kills\": 1, \"Deaths\": 2, \"Assists\": 2, \"Damage >\": 380, \"Damage <\": 300, \"Gulag\": \"W\", \"% moving\": 70.1, \"Game duration\": \"27\", \"Loadout_1\": \"iw8_sm_t9cqb - iw8_sn_t9accurate\", \"Loadout_2\": \"-\", \"Loadout_3\": \"-\"}, {\"Mode\": \"Trios\", \"Ended at\": \"2021-11-19T00:10:38\", \"Team\": \"forty_five\", \"Username\": \"Death-b4-Disco_\", \"Playtime\": \"05:32\", \"#\": 41, \"KD\": 0.0, \"Kills\": 0, \"Deaths\": 1, \"Assists\": 1, \"Damage >\": 108, \"Damage <\": 100, \"Gulag\": \"L\", \"% moving\": 96.7, \"Game duration\": \"27\", \"Loadout_1\": \"iw8_sm_t9capacity - iw8_la_t9standard\", \"Loadout_2\": \"-\", \"Loadout_3\": \"-\"}, {\"Mode\": \"Trios\", \"Ended at\": \"2021-11-19T00:10:38\", \"Team\": \"five\", \"Username\": \"Boyd\", \"Playtime\": \"18:52\", \"#\": 15, \"KD\": 2.0, \"Kills\": 6, \"Deaths\": 3, \"Assists\": 0, \"Damage >\": 1895, \"Damage <\": 681, \"Gulag\": \"W\", \"% moving\": 67.9, \"Game duration\": \"27\", \"Loadout_1\": \"iw8_ar_t9accurate - iw8_sh_t9semiauto\", \"Loadout_2\": \"iw8_pi_t9semiauto - iw8_fists\", \"Loadout_3\": \"iw8_pi_t9semiauto - iw8_fists\"}, {\"Mode\": \"Trios\", \"Ended at\": \"2021-11-19T00:10:38\", \"Team\": \"sixteen\", \"Username\": \"JimmyNeutron93\", \"Playtime\": \"07:38\", \"#\": 35, \"KD\": 1.0, \"Kills\": 2, \"Deaths\": 2, \"Assists\": 0, \"Damage >\": 1201, \"Damage <\": 476, \"Gulag\": \"W\", \"% moving\": 70.4, \"Game duration\": \"27\", \"Loadout_1\": \"iw8_ar_t9british - iw8_pi_mike\", \"Loadout_2\": \"iw8_pi_t9semiauto - iw8_fists\", \"Loadout_3\": \"-\"}, {\"Mode\": \"Trios\", \"Ended at\": \"2021-11-19T00:10:38\", \"Team\": \"twenty_two\", \"Username\": \"Ghigo08\", \"Playtime\": \"23:08\", \"#\": 10, \"KD\": 0.3, \"Kills\": 1, \"Deaths\": 3, \"Assists\": 4, \"Damage >\": 921, \"Damage <\": 535, \"Gulag\": \"L\", \"% moving\": 78.9, \"Game duration\": \"27\", \"Loadout_1\": \"iw8_ar_galima - iw8_sn_t9accurate\", \"Loadout_2\": \"iw8_pi_t9semiauto - iw8_fists\", \"Loadout_3\": \"iw8_ar_t9slowhandling - iw8_fists\"}, {\"Mode\": \"Trios\", \"Ended at\": \"2021-11-19T00:10:38\", \"Team\": \"twelve\", \"Username\": \"Sambeis\", \"Playtime\": \"23:20\", \"#\": 7, \"KD\": 2.0, \"Kills\": 6, \"Deaths\": 3, \"Assists\": 2, \"Damage >\": 3060, \"Damage <\": 644, \"Gulag\": \"L\", \"% moving\": 86.3, \"Game duration\": \"27\", \"Loadout_1\": \"iw8_ar_mcharlie - iw8_pi_mike\", \"Loadout_2\": \"iw8_pi_t9semiauto - iw8_fists\", \"Loadout_3\": \"iw8_ar_t9season6 - iw8_fists\"}, {\"Mode\": \"Trios\", \"Ended at\": \"2021-11-19T00:10:38\", \"Team\": \"four\", \"Username\": \"JCorr\", \"Playtime\": \"09:52\", \"#\": 27, \"KD\": 2.5, \"Kills\": 5, \"Deaths\": 2, \"Assists\": 0, \"Damage >\": 1382, \"Damage <\": 200, \"Gulag\": \"W\", \"% moving\": 77.1, \"Game duration\": \"27\", \"Loadout_1\": \"iw8_sn_t9accurate - iw8_sm_t9cqb\", \"Loadout_2\": \"-\", \"Loadout_3\": \"-\"}, {\"Mode\": \"Trios\", \"Ended at\": \"2021-11-19T00:10:38\", \"Team\": \"allies\", \"Username\": \"Twitch_JiroNate\", \"Playtime\": \"08:34\", \"#\": 24, \"KD\": 2.0, \"Kills\": 2, \"Deaths\": 1, \"Assists\": 1, \"Damage >\": 1009, \"Damage <\": 354, \"Gulag\": \"L\", \"% moving\": 95.7, \"Game duration\": \"27\", \"Loadout_1\": \"iw8_ar_t9damage - iw8_sm_t9capacity\", \"Loadout_2\": \"iw8_pi_t9semiauto - iw8_fists\", \"Loadout_3\": \"-\"}, {\"Mode\": \"Trios\", \"Ended at\": \"2021-11-19T00:10:38\", \"Team\": \"twenty_four\", \"Username\": \"walters1804\", \"Playtime\": \"06:02\", \"#\": 40, \"KD\": 0.5, \"Kills\": 1, \"Deaths\": 2, \"Assists\": 0, \"Damage >\": 124, \"Damage <\": 400, \"Gulag\": \"W\", \"% moving\": 55.9, \"Game duration\": \"27\", \"Loadout_1\": \"iw8_sm_t9spray - iw8_la_t9freefire\", \"Loadout_2\": \"-\", \"Loadout_3\": \"-\"}, {\"Mode\": \"Trios\", \"Ended at\": \"2021-11-19T00:10:38\", \"Team\": \"allies\", \"Username\": \"KissMyBehop\", \"Playtime\": \"08:34\", \"#\": 24, \"KD\": 0.5, \"Kills\": 1, \"Deaths\": 2, \"Assists\": 2, \"Damage >\": 854, \"Damage <\": 420, \"Gulag\": \"W\", \"% moving\": 97.5, \"Game duration\": \"27\", \"Loadout_1\": \"iw8_sm_t9semiauto - iw8_ar_tango21\", \"Loadout_2\": \"iw8_pi_t9semiauto - iw8_fists\", \"Loadout_3\": \"-\"}, {\"Mode\": \"Trios\", \"Ended at\": \"2021-11-19T00:10:38\", \"Team\": \"seventeen\", \"Username\": \"LUCIFER\", \"Playtime\": \"21:50\", \"#\": 9, \"KD\": 1.5, \"Kills\": 3, \"Deaths\": 2, \"Assists\": 4, \"Damage >\": 1110, \"Damage <\": 812, \"Gulag\": \"W\", \"% moving\": 91.9, \"Game duration\": \"27\", \"Loadout_1\": \"s4_ar_stango44temp - iw8_sn_t9accurate\", \"Loadout_2\": \"iw8_pi_t9semiauto - iw8_fists\", \"Loadout_3\": \"-\"}, {\"Mode\": \"Trios\", \"Ended at\": \"2021-11-19T00:10:38\", \"Team\": \"three\", \"Username\": \"primox\", \"Playtime\": \"13:58\", \"#\": 21, \"KD\": 0.8, \"Kills\": 3, \"Deaths\": 4, \"Assists\": 2, \"Damage >\": 2473, \"Damage <\": 920, \"Gulag\": \"L\", \"% moving\": 88.2, \"Game duration\": \"27\", \"Loadout_1\": \"iw8_ar_t9british - iw8_sm_t9cqb\", \"Loadout_2\": \"iw8_pi_t9semiauto - iw8_fists\", \"Loadout_3\": \"iw8_ar_t9slowhandling - iw8_fists\"}, {\"Mode\": \"Trios\", \"Ended at\": \"2021-11-19T00:10:38\", \"Team\": \"four\", \"Username\": \"DVEE9044\", \"Playtime\": \"09:54\", \"#\": 27, \"KD\": 0.5, \"Kills\": 1, \"Deaths\": 2, \"Assists\": 0, \"Damage >\": 400, \"Damage <\": 333, \"Gulag\": \"W\", \"% moving\": 74.2, \"Game duration\": \"27\", \"Loadout_1\": \"iw8_sn_kilo98 - iw8_sm_t9cqb\", \"Loadout_2\": \"iw8_pi_t9semiauto - iw8_fists\", \"Loadout_3\": \"-\"}, {\"Mode\": \"Trios\", \"Ended at\": \"2021-11-19T00:10:38\", \"Team\": \"twenty_three\", \"Username\": \"Gips\", \"Playtime\": \"21:45\", \"#\": 8, \"KD\": 1.5, \"Kills\": 3, \"Deaths\": 2, \"Assists\": 1, \"Damage >\": 1583, \"Damage <\": 647, \"Gulag\": \"W\", \"% moving\": 92.7, \"Game duration\": \"27\", \"Loadout_1\": \"iw8_ar_t9british - iw8_sm_t9cqb\", \"Loadout_2\": \"iw8_pi_t9semiauto - iw8_fists\", \"Loadout_3\": \"-\"}, {\"Mode\": \"Trios\", \"Ended at\": \"2021-11-19T00:10:38\", \"Team\": \"forty_three\", \"Username\": \"bLaCk_HooD\", \"Playtime\": \"27:55\", \"#\": 3, \"KD\": 0.0, \"Kills\": 0, \"Deaths\": 3, \"Assists\": 0, \"Damage >\": 283, \"Damage <\": 542, \"Gulag\": \"L\", \"% moving\": 84.5, \"Game duration\": \"27\", \"Loadout_1\": \"iw8_ar_sierra552 - iw8_pi_t9burst\", \"Loadout_2\": \"iw8_pi_t9semiauto - iw8_fists\", \"Loadout_3\": \"iw8_sm_t9cqb - iw8_fists\"}, {\"Mode\": \"Trios\", \"Ended at\": \"2021-11-19T00:10:38\", \"Team\": \"fifty_two\", \"Username\": \"Spartanzzz\", \"Playtime\": \"04:46\", \"#\": 46, \"KD\": 1.5, \"Kills\": 3, \"Deaths\": 2, \"Assists\": 0, \"Damage >\": 1203, \"Damage <\": 246, \"Gulag\": \"L\", \"% moving\": 90.0, \"Game duration\": \"27\", \"Loadout_1\": \"iw8_sm_t9spray - iw8_sn_t9accurate\", \"Loadout_2\": \"iw8_pi_t9semiauto - iw8_fists\", \"Loadout_3\": \"-\"}, {\"Mode\": \"Trios\", \"Ended at\": \"2021-11-19T00:10:38\", \"Team\": \"forty_five\", \"Username\": \"xFaMoUs BuZzx\", \"Playtime\": \"05:52\", \"#\": 41, \"KD\": 1.0, \"Kills\": 1, \"Deaths\": 1, \"Assists\": 0, \"Damage >\": 336, \"Damage <\": 112, \"Gulag\": \"L\", \"% moving\": 98.0, \"Game duration\": \"27\", \"Loadout_1\": \"iw8_ar_mike4 - iw8_pi_t9burst\", \"Loadout_2\": \"-\", \"Loadout_3\": \"-\"}, {\"Mode\": \"Trios\", \"Ended at\": \"2021-11-19T00:10:38\", \"Team\": \"twenty_one\", \"Username\": \"Colike\", \"Playtime\": \"06:12\", \"#\": 42, \"KD\": 1.0, \"Kills\": 2, \"Deaths\": 2, \"Assists\": 0, \"Damage >\": 758, \"Damage <\": 350, \"Gulag\": \"W\", \"% moving\": 99.0, \"Game duration\": \"27\", \"Loadout_1\": \"iw8_ar_t9standard - iw8_sm_t9cqb\", \"Loadout_2\": \"-\", \"Loadout_3\": \"-\"}, {\"Mode\": \"Trios\", \"Ended at\": \"2021-11-19T00:10:38\", \"Team\": \"fifty_one\", \"Username\": \"taketwo2121\", \"Playtime\": \"01:26\", \"#\": 32, \"KD\": 0.0, \"Kills\": 0, \"Deaths\": 0, \"Assists\": 0, \"Damage >\": 2, \"Damage <\": 102, \"Gulag\": \"L\", \"% moving\": 87.5, \"Game duration\": \"27\", \"Loadout_1\": \"iw8_ar_t9slowhandling - iw8_pi_decho\", \"Loadout_2\": \"-\", \"Loadout_3\": \"-\"}, {\"Mode\": \"Trios\", \"Ended at\": \"2021-11-19T00:10:38\", \"Team\": \"forty_six\", \"Username\": \"Ignorz-\", \"Playtime\": \"07:30\", \"#\": 33, \"KD\": 2.5, \"Kills\": 5, \"Deaths\": 2, \"Assists\": 1, \"Damage >\": 1131, \"Damage <\": 620, \"Gulag\": \"W\", \"% moving\": 97.1, \"Game duration\": \"27\", \"Loadout_1\": \"iw8_sn_t9accurate - iw8_sm_t9fastfire\", \"Loadout_2\": \"iw8_pi_t9semiauto - iw8_fists\", \"Loadout_3\": \"-\"}, {\"Mode\": \"Trios\", \"Ended at\": \"2021-11-19T00:10:38\", \"Team\": \"nine\", \"Username\": \"Beatz\", \"Playtime\": \"07:53\", \"#\": 31, \"KD\": 1.0, \"Kills\": 1, \"Deaths\": 1, \"Assists\": 0, \"Damage >\": 356, \"Damage <\": 200, \"Gulag\": \"W\", \"% moving\": 98.8, \"Game duration\": \"27\", \"Loadout_1\": \"iw8_ar_t9damage - iw8_sn_kilo98\", \"Loadout_2\": \"-\", \"Loadout_3\": \"-\"}, {\"Mode\": \"Trios\", \"Ended at\": \"2021-11-19T00:10:38\", \"Team\": \"twenty\", \"Username\": \"platinium12345\", \"Playtime\": \"28:59\", \"#\": 1, \"KD\": 1.3, \"Kills\": 4, \"Deaths\": 3, \"Assists\": 0, \"Damage >\": 1385, \"Damage <\": 1085, \"Gulag\": \"L\", \"% moving\": 83.9, \"Game duration\": \"27\", \"Loadout_1\": \"iw8_sm_t9cqb - iw8_ar_t9damage\", \"Loadout_2\": \"iw8_pi_t9semiauto - iw8_fists\", \"Loadout_3\": \"iw8_pi_t9semiauto - iw8_fists\"}, {\"Mode\": \"Trios\", \"Ended at\": \"2021-11-19T00:10:38\", \"Team\": \"sixteen\", \"Username\": \"TechnoGhost84\", \"Playtime\": \"07:57\", \"#\": 35, \"KD\": 2.0, \"Kills\": 4, \"Deaths\": 2, \"Assists\": 0, \"Damage >\": 947, \"Damage <\": 400, \"Gulag\": \"W\", \"% moving\": 95.1, \"Game duration\": \"27\", \"Loadout_1\": \"iw8_ar_mike4 - iw8_sm_secho\", \"Loadout_2\": \"iw8_pi_t9semiauto - iw8_fists\", \"Loadout_3\": \"-\"}, {\"Mode\": \"Trios\", \"Ended at\": \"2021-11-19T00:10:38\", \"Team\": \"six\", \"Username\": \"Deathman\", \"Playtime\": \"10:29\", \"#\": 25, \"KD\": 2.0, \"Kills\": 4, \"Deaths\": 2, \"Assists\": 2, \"Damage >\": 933, \"Damage <\": 544, \"Gulag\": \"W\", \"% moving\": 71.0, \"Game duration\": \"27\", \"Loadout_1\": \"iw8_sn_t9accurate - iw8_pi_decho\", \"Loadout_2\": \"iw8_pi_t9semiauto - iw8_fists\", \"Loadout_3\": \"-\"}, {\"Mode\": \"Trios\", \"Ended at\": \"2021-11-19T00:10:38\", \"Team\": \"fifteen\", \"Username\": \"x_ DanielC_xD\", \"Playtime\": \"08:41\", \"#\": 29, \"KD\": 1.5, \"Kills\": 3, \"Deaths\": 2, \"Assists\": 0, \"Damage >\": 573, \"Damage <\": 302, \"Gulag\": \"W\", \"% moving\": 84.6, \"Game duration\": \"27\", \"Loadout_1\": \"iw8_sn_kilo98 - iw8_sm_t9season6\", \"Loadout_2\": \"iw8_pi_t9semiauto - iw8_fists\", \"Loadout_3\": \"-\"}, {\"Mode\": \"Trios\", \"Ended at\": \"2021-11-19T00:10:38\", \"Team\": \"twelve\", \"Username\": \"n1ce\", \"Playtime\": \"23:21\", \"#\": 7, \"KD\": 2.2, \"Kills\": 9, \"Deaths\": 4, \"Assists\": 0, \"Damage >\": 3121, \"Damage <\": 795, \"Gulag\": \"L\", \"% moving\": 61.7, \"Game duration\": \"27\", \"Loadout_1\": \"iw8_sn_t9accurate - iw8_sm_t9fastfire\", \"Loadout_2\": \"iw8_pi_t9semiauto - iw8_fists\", \"Loadout_3\": \"iw8_sm_t9cqb - iw8_fists\"}, {\"Mode\": \"Trios\", \"Ended at\": \"2021-11-19T00:10:38\", \"Team\": \"forty_four\", \"Username\": \"BadboyBandit09\", \"Playtime\": \"16:04\", \"#\": 18, \"KD\": 0.3, \"Kills\": 1, \"Deaths\": 3, \"Assists\": 1, \"Damage >\": 1122, \"Damage <\": 738, \"Gulag\": \"W\", \"% moving\": 65.5, \"Game duration\": \"27\", \"Loadout_1\": \"iw8_sm_t9cqb - iw8_ar_t9british\", \"Loadout_2\": \"iw8_pi_t9semiauto - iw8_fists\", \"Loadout_3\": \"iw8_pi_t9semiauto - iw8_fists\"}, {\"Mode\": \"Trios\", \"Ended at\": \"2021-11-19T00:10:38\", \"Team\": \"forty_nine\", \"Username\": \"fusie\", \"Playtime\": \"01:07\", \"#\": 49, \"KD\": 0.0, \"Kills\": 0, \"Deaths\": 0, \"Assists\": 0, \"Damage >\": 0, \"Damage <\": 0, \"Gulag\": \"L\", \"% moving\": 0.0, \"Game duration\": \"27\", \"Loadout_1\": \"iw8_ar_kilo433 - iw8_pi_mike9\", \"Loadout_2\": \"-\", \"Loadout_3\": \"-\"}, {\"Mode\": \"Trios\", \"Ended at\": \"2021-11-19T00:10:38\", \"Team\": \"twelve\", \"Username\": \"raketenmiguel\", \"Playtime\": \"23:20\", \"#\": 7, \"KD\": 0.5, \"Kills\": 1, \"Deaths\": 2, \"Assists\": 1, \"Damage >\": 1469, \"Damage <\": 666, \"Gulag\": \"L\", \"% moving\": 84.4, \"Game duration\": \"27\", \"Loadout_1\": \"iw8_sn_kilo98 - iw8_sm_t9spray\", \"Loadout_2\": \"iw8_pi_t9semiauto - iw8_fists\", \"Loadout_3\": \"-\"}, {\"Mode\": \"Trios\", \"Ended at\": \"2021-11-19T00:10:38\", \"Team\": \"nine\", \"Username\": \"Kingporksword\", \"Playtime\": \"07:11\", \"#\": 31, \"KD\": 0.0, \"Kills\": 0, \"Deaths\": 1, \"Assists\": 0, \"Damage >\": 111, \"Damage <\": 100, \"Gulag\": \"L\", \"% moving\": 89.5, \"Game duration\": \"27\", \"Loadout_1\": \"iw8_lm_t9light - iw8_pi_mike9\", \"Loadout_2\": \"iw8_pi_t9semiauto - iw8_fists\", \"Loadout_3\": \"-\"}, {\"Mode\": \"Trios\", \"Ended at\": \"2021-11-19T00:10:38\", \"Team\": \"forty_two\", \"Username\": \"iman\", \"Playtime\": \"20:50\", \"#\": 12, \"KD\": 0.0, \"Kills\": 0, \"Deaths\": 4, \"Assists\": 1, \"Damage >\": 611, \"Damage <\": 772, \"Gulag\": \"L\", \"% moving\": 66.2, \"Game duration\": \"27\", \"Loadout_1\": \"iw8_ar_mike4 - iw8_sn_kilo98\", \"Loadout_2\": \"iw8_pi_t9semiauto - iw8_fists\", \"Loadout_3\": \"iw8_sh_t9pump - iw8_fists\"}, {\"Mode\": \"Trios\", \"Ended at\": \"2021-11-19T00:10:38\", \"Team\": \"thirty\", \"Username\": \"rossdand\", \"Playtime\": \"18:55\", \"#\": 16, \"KD\": 2.0, \"Kills\": 4, \"Deaths\": 2, \"Assists\": 0, \"Damage >\": 1329, \"Damage <\": 300, \"Gulag\": \"L\", \"% moving\": 90.0, \"Game duration\": \"27\", \"Loadout_1\": \"iw8_ar_t9standard - iw8_sm_t9fastfire\", \"Loadout_2\": \"iw8_pi_t9semiauto - iw8_fists\", \"Loadout_3\": \"-\"}, {\"Mode\": \"Trios\", \"Ended at\": \"2021-11-19T00:10:38\", \"Team\": \"twenty_eight\", \"Username\": \"Enrichinter\", \"Playtime\": \"03:12\", \"#\": 50, \"KD\": 0.0, \"Kills\": 0, \"Deaths\": 2, \"Assists\": 0, \"Damage >\": 54, \"Damage <\": 220, \"Gulag\": \"L\", \"% moving\": 75.0, \"Game duration\": \"27\", \"Loadout_1\": \"iw8_ar_t9damage - iw8_pi_mike9\", \"Loadout_2\": \"iw8_pi_t9semiauto - iw8_fists\", \"Loadout_3\": \"-\"}, {\"Mode\": \"Trios\", \"Ended at\": \"2021-11-19T00:10:38\", \"Team\": \"fifty_one\", \"Username\": \"BENTLEY95\", \"Playtime\": \"08:04\", \"#\": 32, \"KD\": 0.0, \"Kills\": 0, \"Deaths\": 1, \"Assists\": 0, \"Damage >\": 2, \"Damage <\": 240, \"Gulag\": \"L\", \"% moving\": 95.4, \"Game duration\": \"27\", \"Loadout_1\": \"iw8_sm_t9heavy - iw8_sn_t9accurate\", \"Loadout_2\": \"iw8_pi_t9semiauto - iw8_fists\", \"Loadout_3\": \"-\"}, {\"Mode\": \"Trios\", \"Ended at\": \"2021-11-19T00:10:38\", \"Team\": \"fifty\", \"Username\": \"Philipacus\", \"Playtime\": \"20:03\", \"#\": 13, \"KD\": 1.5, \"Kills\": 3, \"Deaths\": 2, \"Assists\": 0, \"Damage >\": 1048, \"Damage <\": 354, \"Gulag\": \"W\", \"% moving\": 91.3, \"Game duration\": \"27\", \"Loadout_1\": \"iw8_ar_t9standard - iw8_sm_t9accurate\", \"Loadout_2\": \"-\", \"Loadout_3\": \"-\"}, {\"Mode\": \"Trios\", \"Ended at\": \"2021-11-19T00:10:38\", \"Team\": \"thirty_two\", \"Username\": \"M4rl0n\", \"Playtime\": \"06:59\", \"#\": 37, \"KD\": 1.5, \"Kills\": 3, \"Deaths\": 2, \"Assists\": 0, \"Damage >\": 1039, \"Damage <\": 264, \"Gulag\": \"W\", \"% moving\": 92.8, \"Game duration\": \"27\", \"Loadout_1\": \"iw8_sm_t9handling - iw8_sn_kilo98\", \"Loadout_2\": \"iw8_pi_t9semiauto - iw8_fists\", \"Loadout_3\": \"-\"}, {\"Mode\": \"Trios\", \"Ended at\": \"2021-11-19T00:10:38\", \"Team\": \"thirty_eight\", \"Username\": \"Draaimolen\", \"Playtime\": \"06:11\", \"#\": 38, \"KD\": 0.0, \"Kills\": 0, \"Deaths\": 2, \"Assists\": 0, \"Damage >\": 258, \"Damage <\": 383, \"Gulag\": \"L\", \"% moving\": 79.4, \"Game duration\": \"27\", \"Loadout_1\": \"iw8_sm_uzulu - iw8_la_rpapa7\", \"Loadout_2\": \"-\", \"Loadout_3\": \"-\"}, {\"Mode\": \"Trios\", \"Ended at\": \"2021-11-19T00:10:38\", \"Team\": \"fourteen\", \"Username\": \"ItzzCooKiee\", \"Playtime\": \"14:29\", \"#\": 20, \"KD\": 0.0, \"Kills\": 0, \"Deaths\": 3, \"Assists\": 0, \"Damage >\": 275, \"Damage <\": 500, \"Gulag\": \"L\", \"% moving\": 73.8, \"Game duration\": \"27\", \"Loadout_1\": \"iw8_ar_t9slowhandling - iw8_sn_t9accurate\", \"Loadout_2\": \"iw8_pi_t9semiauto - iw8_fists\", \"Loadout_3\": \"iw8_ar_t9slowfire - iw8_fists\"}, {\"Mode\": \"Trios\", \"Ended at\": \"2021-11-19T00:10:38\", \"Team\": \"forty_two\", \"Username\": \"fullyloaded90909\", \"Playtime\": \"20:50\", \"#\": 12, \"KD\": 0.7, \"Kills\": 2, \"Deaths\": 3, \"Assists\": 0, \"Damage >\": 931, \"Damage <\": 651, \"Gulag\": \"W\", \"% moving\": 67.5, \"Game duration\": \"27\", \"Loadout_1\": \"iw8_sn_kilo98 - iw8_sm_t9accurate\", \"Loadout_2\": \"iw8_sn_kilo98 - iw8_sm_t9cqb\", \"Loadout_3\": \"-\"}, {\"Mode\": \"Trios\", \"Ended at\": \"2021-11-19T00:10:38\", \"Team\": \"nineteen\", \"Username\": \"HSIMON\", \"Playtime\": \"27:19\", \"#\": 4, \"KD\": 1.0, \"Kills\": 3, \"Deaths\": 3, \"Assists\": 0, \"Damage >\": 1053, \"Damage <\": 716, \"Gulag\": \"L\", \"% moving\": 39.1, \"Game duration\": \"27\", \"Loadout_1\": \"iw8_sn_t9accurate - iw8_ar_mcharlie\", \"Loadout_2\": \"iw8_ar_t9season6 - iw8_fists\", \"Loadout_3\": \"-\"}, {\"Mode\": \"Trios\", \"Ended at\": \"2021-11-19T00:10:38\", \"Team\": \"thirty_two\", \"Username\": \"Red24bull\", \"Playtime\": \"06:43\", \"#\": 37, \"KD\": 0.0, \"Kills\": 0, \"Deaths\": 2, \"Assists\": 0, \"Damage >\": 114, \"Damage <\": 300, \"Gulag\": \"L\", \"% moving\": 49.3, \"Game duration\": \"27\", \"Loadout_1\": \"iw8_ar_mike4 - iw8_sm_t9capacity\", \"Loadout_2\": \"-\", \"Loadout_3\": \"-\"}, {\"Mode\": \"Trios\", \"Ended at\": \"2021-11-19T00:10:38\", \"Team\": \"eleven\", \"Username\": \"Yannou\", \"Playtime\": \"04:18\", \"#\": 48, \"KD\": 0.0, \"Kills\": 0, \"Deaths\": 1, \"Assists\": 0, \"Damage >\": 292, \"Damage <\": 254, \"Gulag\": \"L\", \"% moving\": 79.4, \"Game duration\": \"27\", \"Loadout_1\": \"iw8_sm_t9cqb - iw8_ar_t9damage\", \"Loadout_2\": \"iw8_pi_t9semiauto - iw8_fists\", \"Loadout_3\": \"-\"}, {\"Mode\": \"Trios\", \"Ended at\": \"2021-11-19T00:10:38\", \"Team\": \"twenty_eight\", \"Username\": \"Glex\", \"Playtime\": \"03:10\", \"#\": 50, \"KD\": 0.0, \"Kills\": 0, \"Deaths\": 2, \"Assists\": 0, \"Damage >\": 0, \"Damage <\": 200, \"Gulag\": \"L\", \"% moving\": 66.7, \"Game duration\": \"27\", \"Loadout_1\": \"iw8_sn_romeo700 - iw8_ar_valpha\", \"Loadout_2\": \"iw8_pi_t9semiauto - iw8_fists\", \"Loadout_3\": \"-\"}, {\"Mode\": \"Trios\", \"Ended at\": \"2021-11-19T00:10:38\", \"Team\": \"twenty_seven\", \"Username\": \"Moinolol\", \"Playtime\": \"21:52\", \"#\": 11, \"KD\": 2.5, \"Kills\": 5, \"Deaths\": 2, \"Assists\": 0, \"Damage >\": 1067, \"Damage <\": 520, \"Gulag\": \"W\", \"% moving\": 94.2, \"Game duration\": \"27\", \"Loadout_1\": \"iw8_sn_t9accurate - iw8_sm_t9fastfire\", \"Loadout_2\": \"iw8_pi_t9semiauto - iw8_fists\", \"Loadout_3\": \"-\"}, {\"Mode\": \"Trios\", \"Ended at\": \"2021-11-19T00:10:38\", \"Team\": \"forty_seven\", \"Username\": \"Winc\", \"Playtime\": \"03:29\", \"#\": 45, \"KD\": 0.0, \"Kills\": 0, \"Deaths\": 0, \"Assists\": 0, \"Damage >\": 305, \"Damage <\": 184, \"Gulag\": \"L\", \"% moving\": 90.6, \"Game duration\": \"27\", \"Loadout_1\": \"iw8_ar_sierra552 - iw8_pi_decho\", \"Loadout_2\": \"-\", \"Loadout_3\": \"-\"}, {\"Mode\": \"Trios\", \"Ended at\": \"2021-11-19T00:10:38\", \"Team\": \"ten\", \"Username\": \"mattgra\", \"Playtime\": \"09:16\", \"#\": 28, \"KD\": 0.2, \"Kills\": 1, \"Deaths\": 4, \"Assists\": 0, \"Damage >\": 411, \"Damage <\": 711, \"Gulag\": \"L\", \"% moving\": 72.4, \"Game duration\": \"27\", \"Loadout_1\": \"iw8_ar_t9british - iw8_sm_t9cqb\", \"Loadout_2\": \"iw8_sm_t9cqb - iw8_fists\", \"Loadout_3\": \"-\"}, {\"Mode\": \"Trios\", \"Ended at\": \"2021-11-19T00:10:38\", \"Team\": \"fourteen\", \"Username\": \"iBBQ_gonzo\", \"Playtime\": \"14:04\", \"#\": 20, \"KD\": 0.7, \"Kills\": 2, \"Deaths\": 3, \"Assists\": 0, \"Damage >\": 527, \"Damage <\": 574, \"Gulag\": \"L\", \"% moving\": 64.9, \"Game duration\": \"27\", \"Loadout_1\": \"iw8_ar_t9damage - iw8_sn_kilo98\", \"Loadout_2\": \"iw8_pi_t9semiauto - iw8_fists\", \"Loadout_3\": \"iw8_pi_t9revolver - iw8_fists\"}, {\"Mode\": \"Trios\", \"Ended at\": \"2021-11-19T00:10:38\", \"Team\": \"fifty_three\", \"Username\": \"adam60lol\", \"Playtime\": \"10:23\", \"#\": 23, \"KD\": 0.0, \"Kills\": 0, \"Deaths\": 2, \"Assists\": 0, \"Damage >\": 0, \"Damage <\": 200, \"Gulag\": \"L\", \"% moving\": 44.1, \"Game duration\": \"27\", \"Loadout_1\": \"iw8_ar_kilo433 - iw8_pi_mike1911\", \"Loadout_2\": \"-\", \"Loadout_3\": \"-\"}, {\"Mode\": \"Trios\", \"Ended at\": \"2021-11-19T00:10:38\", \"Team\": \"nineteen\", \"Username\": \"Hakuya\", \"Playtime\": \"27:37\", \"#\": 4, \"KD\": 1.5, \"Kills\": 6, \"Deaths\": 4, \"Assists\": 1, \"Damage >\": 2610, \"Damage <\": 870, \"Gulag\": \"L\", \"% moving\": 68.6, \"Game duration\": \"27\", \"Loadout_1\": \"iw8_lm_t9fastfire - iw8_sm_t9accurate\", \"Loadout_2\": \"iw8_pi_t9semiauto - iw8_fists\", \"Loadout_3\": \"iw8_lm_t9fastfire - iw8_fists\"}, {\"Mode\": \"Trios\", \"Ended at\": \"2021-11-19T00:10:38\", \"Team\": \"twenty_six\", \"Username\": \"Mathilde\", \"Playtime\": \"06:17\", \"#\": 44, \"KD\": 0.5, \"Kills\": 1, \"Deaths\": 2, \"Assists\": 0, \"Damage >\": 602, \"Damage <\": 300, \"Gulag\": \"W\", \"% moving\": 80.9, \"Game duration\": \"27\", \"Loadout_1\": \"iw8_ar_t9british - iw8_sm_t9cqb\", \"Loadout_2\": \"iw8_pi_t9semiauto - iw8_fists\", \"Loadout_3\": \"-\"}, {\"Mode\": \"Trios\", \"Ended at\": \"2021-11-19T00:10:38\", \"Team\": \"thirty_nine\", \"Username\": \"nj0990\", \"Playtime\": \"03:22\", \"#\": 47, \"KD\": 0.0, \"Kills\": 0, \"Deaths\": 1, \"Assists\": 0, \"Damage >\": 394, \"Damage <\": 100, \"Gulag\": \"L\", \"% moving\": 92.5, \"Game duration\": \"27\", \"Loadout_1\": \"iw8_ar_t9slowhandling - iw8_pi_mike1911\", \"Loadout_2\": \"iw8_pi_t9semiauto - iw8_fists\", \"Loadout_3\": \"-\"}, {\"Mode\": \"Trios\", \"Ended at\": \"2021-11-19T00:10:38\", \"Team\": \"twenty_four\", \"Username\": \"cfrancis92\", \"Playtime\": \"06:05\", \"#\": 40, \"KD\": 0.0, \"Kills\": 0, \"Deaths\": 2, \"Assists\": 0, \"Damage >\": 0, \"Damage <\": 260, \"Gulag\": \"W\", \"% moving\": 94.2, \"Game duration\": \"27\", \"Loadout_1\": \"iw8_ar_t9slowhandling - iw8_la_rpapa7\", \"Loadout_2\": \"iw8_pi_t9semiauto - iw8_fists\", \"Loadout_3\": \"-\"}, {\"Mode\": \"Trios\", \"Ended at\": \"2021-11-19T00:10:38\", \"Team\": \"thirty_five\", \"Username\": \"AndyYpsilon89\", \"Playtime\": \"11:55\", \"#\": 6, \"KD\": 0.0, \"Kills\": 0, \"Deaths\": 4, \"Assists\": 0, \"Damage >\": 44, \"Damage <\": 604, \"Gulag\": \"L\", \"% moving\": 53.2, \"Game duration\": \"27\", \"Loadout_1\": \"iw8_ar_t9damage - iw8_sn_kilo98\", \"Loadout_2\": \"iw8_pi_t9semiauto - iw8_fists\", \"Loadout_3\": \"iw8_pi_t9revolver - iw8_fists\"}, {\"Mode\": \"Trios\", \"Ended at\": \"2021-11-19T00:10:38\", \"Team\": \"twenty\", \"Username\": \"DeadlyXhen\", \"Playtime\": \"28:59\", \"#\": 1, \"KD\": 7.5, \"Kills\": 15, \"Deaths\": 2, \"Assists\": 2, \"Damage >\": 5100, \"Damage <\": 515, \"Gulag\": \"L\", \"% moving\": 94.7, \"Game duration\": \"27\", \"Loadout_1\": \"iw8_sm_t9handling - iw8_ar_t9british\", \"Loadout_2\": \"iw8_pi_t9semiauto - iw8_fists\", \"Loadout_3\": \"iw8_sh_t9pump - iw8_fists\"}, {\"Mode\": \"Trios\", \"Ended at\": \"2021-11-19T00:10:38\", \"Team\": \"twenty_five\", \"Username\": \"TT10only\", \"Playtime\": \"28:04\", \"#\": 2, \"KD\": 2.0, \"Kills\": 2, \"Deaths\": 1, \"Assists\": 0, \"Damage >\": 600, \"Damage <\": 476, \"Gulag\": \"L\", \"% moving\": 84.2, \"Game duration\": \"27\", \"Loadout_1\": \"iw8_sm_t9handling - iw8_pi_t9burst\", \"Loadout_2\": \"iw8_pi_t9semiauto - iw8_fists\", \"Loadout_3\": \"-\"}, {\"Mode\": \"Trios\", \"Ended at\": \"2021-11-19T00:10:38\", \"Team\": \"thirty_six\", \"Username\": \"aZure\", \"Playtime\": \"00:46\", \"#\": 19, \"KD\": 0.0, \"Kills\": 0, \"Deaths\": 0, \"Assists\": 0, \"Damage >\": 0, \"Damage <\": 0, \"Gulag\": \"L\", \"% moving\": 0.0, \"Game duration\": \"27\", \"Loadout_1\": \"-\", \"Loadout_2\": \"-\", \"Loadout_3\": \"-\"}, {\"Mode\": \"Trios\", \"Ended at\": \"2021-11-19T00:10:38\", \"Team\": \"axis\", \"Username\": \"Forrest Gump\", \"Playtime\": \"07:05\", \"#\": 36, \"KD\": 1.5, \"Kills\": 3, \"Deaths\": 2, \"Assists\": 3, \"Damage >\": 843, \"Damage <\": 501, \"Gulag\": \"W\", \"% moving\": 85.0, \"Game duration\": \"27\", \"Loadout_1\": \"iw8_ar_t9damage - iw8_sn_t9accurate\", \"Loadout_2\": \"-\", \"Loadout_3\": \"-\"}, {\"Mode\": \"Trios\", \"Ended at\": \"2021-11-19T00:10:38\", \"Team\": \"seven\", \"Username\": \"Der Hausmeister\", \"Playtime\": \"11:31\", \"#\": 22, \"KD\": 1.5, \"Kills\": 3, \"Deaths\": 2, \"Assists\": 0, \"Damage >\": 986, \"Damage <\": 330, \"Gulag\": \"W\", \"% moving\": 93.5, \"Game duration\": \"27\", \"Loadout_1\": \"iw8_ar_t9damage - iw8_sm_t9cqb\", \"Loadout_2\": \"-\", \"Loadout_3\": \"-\"}, {\"Mode\": \"Trios\", \"Ended at\": \"2021-11-19T00:10:38\", \"Team\": \"eighteen\", \"Username\": \"KerryCapija\", \"Playtime\": \"08:00\", \"#\": 34, \"KD\": 0.0, \"Kills\": 0, \"Deaths\": 2, \"Assists\": 0, \"Damage >\": 2, \"Damage <\": 300, \"Gulag\": \"L\", \"% moving\": 67.5, \"Game duration\": \"27\", \"Loadout_1\": \"iw8_ar_t9accurate - iw8_la_rpapa7\", \"Loadout_2\": \"-\", \"Loadout_3\": \"-\"}, {\"Mode\": \"Trios\", \"Ended at\": \"2021-11-19T00:10:38\", \"Team\": \"nine\", \"Username\": \"tommccann10\", \"Playtime\": \"07:52\", \"#\": 31, \"KD\": 0.0, \"Kills\": 0, \"Deaths\": 2, \"Assists\": 0, \"Damage >\": 212, \"Damage <\": 300, \"Gulag\": \"L\", \"% moving\": 91.9, \"Game duration\": \"27\", \"Loadout_1\": \"iw8_sm_mpapa5 - iw8_pi_golf21\", \"Loadout_2\": \"iw8_pi_t9semiauto - iw8_fists\", \"Loadout_3\": \"-\"}, {\"Mode\": \"Trios\", \"Ended at\": \"2021-11-19T00:10:38\", \"Team\": \"seven\", \"Username\": \"Karin_Ritter\", \"Playtime\": \"11:49\", \"#\": 22, \"KD\": 0.5, \"Kills\": 1, \"Deaths\": 2, \"Assists\": 1, \"Damage >\": 723, \"Damage <\": 452, \"Gulag\": \"W\", \"% moving\": 57.8, \"Game duration\": \"27\", \"Loadout_1\": \"iw8_ar_t9british - iw8_sm_t9cqb\", \"Loadout_2\": \"-\", \"Loadout_3\": \"-\"}, {\"Mode\": \"Trios\", \"Ended at\": \"2021-11-19T00:10:38\", \"Team\": \"thirteen\", \"Username\": \"TorTanKuL\", \"Playtime\": \"06:14\", \"#\": 39, \"KD\": 0.5, \"Kills\": 1, \"Deaths\": 2, \"Assists\": 1, \"Damage >\": 445, \"Damage <\": 387, \"Gulag\": \"W\", \"% moving\": 90.9, \"Game duration\": \"27\", \"Loadout_1\": \"iw8_sm_t9cqb - iw8_ar_mike4\", \"Loadout_2\": \"iw8_pi_t9semiauto - iw8_fists\", \"Loadout_3\": \"-\"}, {\"Mode\": \"Trios\", \"Ended at\": \"2021-11-19T00:10:38\", \"Team\": \"thirty_nine\", \"Username\": \"Pipimann\", \"Playtime\": \"04:16\", \"#\": 47, \"KD\": 0.5, \"Kills\": 1, \"Deaths\": 2, \"Assists\": 0, \"Damage >\": 268, \"Damage <\": 300, \"Gulag\": \"L\", \"% moving\": 90.0, \"Game duration\": \"27\", \"Loadout_1\": \"iw8_ar_t9damage - iw8_pi_t9semiauto\", \"Loadout_2\": \"-\", \"Loadout_3\": \"-\"}, {\"Mode\": \"Trios\", \"Ended at\": \"2021-11-19T00:10:38\", \"Team\": \"eleven\", \"Username\": \"Pomme\", \"Playtime\": \"04:20\", \"#\": 48, \"KD\": 2.0, \"Kills\": 2, \"Deaths\": 1, \"Assists\": 0, \"Damage >\": 496, \"Damage <\": 102, \"Gulag\": \"L\", \"% moving\": 89.9, \"Game duration\": \"27\", \"Loadout_1\": \"iw8_sn_t9accurate - iw8_pi_t9burst\", \"Loadout_2\": \"iw8_pi_t9semiauto - iw8_fists\", \"Loadout_3\": \"-\"}, {\"Mode\": \"Trios\", \"Ended at\": \"2021-11-19T00:10:38\", \"Team\": \"seven\", \"Username\": \"Bobo\", \"Playtime\": \"11:31\", \"#\": 22, \"KD\": 0.0, \"Kills\": 0, \"Deaths\": 2, \"Assists\": 0, \"Damage >\": 326, \"Damage <\": 300, \"Gulag\": \"L\", \"% moving\": 31.7, \"Game duration\": \"27\", \"Loadout_1\": \"iw8_ar_t9damage - iw8_sm_t9fastfire\", \"Loadout_2\": \"iw8_pi_t9semiauto - iw8_fists\", \"Loadout_3\": \"-\"}, {\"Mode\": \"Trios\", \"Ended at\": \"2021-11-19T00:10:38\", \"Team\": \"forty\", \"Username\": \"MaDICHSHUGEBRO\", \"Playtime\": \"01:30\", \"#\": 52, \"KD\": 0.0, \"Kills\": 0, \"Deaths\": 1, \"Assists\": 0, \"Damage >\": 2, \"Damage <\": 200, \"Gulag\": \"L\", \"% moving\": 82.0, \"Game duration\": \"27\", \"Loadout_1\": \"iw8_ar_t9standard - iw8_sm_t9fastfire\", \"Loadout_2\": \"-\", \"Loadout_3\": \"-\"}, {\"Mode\": \"Trios\", \"Ended at\": \"2021-11-19T00:10:38\", \"Team\": \"thirty_seven\", \"Username\": \"swipee\", \"Playtime\": \"02:28\", \"#\": 51, \"KD\": 0.0, \"Kills\": 0, \"Deaths\": 1, \"Assists\": 0, \"Damage >\": 190, \"Damage <\": 100, \"Gulag\": \"L\", \"% moving\": 92.4, \"Game duration\": \"27\", \"Loadout_1\": \"iw8_sn_t9accurate - iw8_ar_t9damage\", \"Loadout_2\": \"iw8_pi_t9semiauto - iw8_fists\", \"Loadout_3\": \"-\"}, {\"Mode\": \"Trios\", \"Ended at\": \"2021-11-19T00:10:38\", \"Team\": \"twenty\", \"Username\": \"THEFATHER\", \"Playtime\": \"28:42\", \"#\": 1, \"KD\": 3.5, \"Kills\": 7, \"Deaths\": 2, \"Assists\": 1, \"Damage >\": 2017, \"Damage <\": 696, \"Gulag\": \"W\", \"% moving\": 88.3, \"Game duration\": \"27\", \"Loadout_1\": \"iw8_lm_t9accurate - iw8_pi_golf21\", \"Loadout_2\": \"iw8_ar_t9slowfire - iw8_pi_mike\", \"Loadout_3\": \"-\"}, {\"Mode\": \"Trios\", \"Ended at\": \"2021-11-19T00:10:38\", \"Team\": \"allies\", \"Username\": \"MDGMMAXi\", \"Playtime\": \"10:43\", \"#\": 24, \"KD\": 2.0, \"Kills\": 4, \"Deaths\": 2, \"Assists\": 0, \"Damage >\": 1771, \"Damage <\": 319, \"Gulag\": \"W\", \"% moving\": 94.9, \"Game duration\": \"27\", \"Loadout_1\": \"iw8_sm_t9standard - iw8_sn_t9accurate\", \"Loadout_2\": \"-\", \"Loadout_3\": \"-\"}, {\"Mode\": \"Trios\", \"Ended at\": \"2021-11-19T00:10:38\", \"Team\": \"twenty_five\", \"Username\": \"Titatan so garso\", \"Playtime\": \"28:05\", \"#\": 2, \"KD\": 0.7, \"Kills\": 2, \"Deaths\": 3, \"Assists\": 4, \"Damage >\": 956, \"Damage <\": 604, \"Gulag\": \"L\", \"% moving\": 87.7, \"Game duration\": \"27\", \"Loadout_1\": \"iw8_me_riotshield - iw8_pi_t9burst\", \"Loadout_2\": \"iw8_pi_t9semiauto - iw8_fists\", \"Loadout_3\": \"iw8_ar_t9fasthandling - iw8_fists\"}, {\"Mode\": \"Trios\", \"Ended at\": \"2021-11-19T00:10:38\", \"Team\": \"thirty_seven\", \"Username\": \"tripios404\", \"Playtime\": \"02:12\", \"#\": 51, \"KD\": 0.0, \"Kills\": 0, \"Deaths\": 2, \"Assists\": 0, \"Damage >\": 4, \"Damage <\": 300, \"Gulag\": \"L\", \"% moving\": 84.4, \"Game duration\": \"27\", \"Loadout_1\": \"iw8_ar_mike4 - iw8_pi_t9burst\", \"Loadout_2\": \"iw8_pi_t9semiauto - iw8_fists\", \"Loadout_3\": \"-\"}, {\"Mode\": \"Trios\", \"Ended at\": \"2021-11-19T00:10:38\", \"Team\": \"eight\", \"Username\": \"MrRus\", \"Playtime\": \"06:23\", \"#\": 43, \"KD\": 1.0, \"Kills\": 2, \"Deaths\": 2, \"Assists\": 0, \"Damage >\": 483, \"Damage <\": 339, \"Gulag\": \"W\", \"% moving\": 84.1, \"Game duration\": \"27\", \"Loadout_1\": \"iw8_sm_t9spray - iw8_ar_t9standard\", \"Loadout_2\": \"iw8_pi_t9semiauto - iw8_fists\", \"Loadout_3\": \"-\"}, {\"Mode\": \"Trios\", \"Ended at\": \"2021-11-19T00:10:38\", \"Team\": \"forty_eight\", \"Username\": \"Misterxz\", \"Playtime\": \"16:33\", \"#\": 17, \"KD\": 1.5, \"Kills\": 3, \"Deaths\": 2, \"Assists\": 2, \"Damage >\": 2251, \"Damage <\": 336, \"Gulag\": \"L\", \"% moving\": 94.5, \"Game duration\": \"27\", \"Loadout_1\": \"iw8_sm_t9cqb - iw8_sn_t9accurate\", \"Loadout_2\": \"iw8_pi_t9semiauto - iw8_fists\", \"Loadout_3\": \"-\"}, {\"Mode\": \"Trios\", \"Ended at\": \"2021-11-19T00:10:38\", \"Team\": \"twenty_four\", \"Username\": \"D_Mac_maverick\", \"Playtime\": \"06:03\", \"#\": 40, \"KD\": 0.0, \"Kills\": 0, \"Deaths\": 2, \"Assists\": 0, \"Damage >\": 101, \"Damage <\": 356, \"Gulag\": \"L\", \"% moving\": 44.7, \"Game duration\": \"27\", \"Loadout_1\": \"iw8_ar_kilo433 - iw8_la_rpapa7\", \"Loadout_2\": \"-\", \"Loadout_3\": \"-\"}, {\"Mode\": \"Trios\", \"Ended at\": \"2021-11-19T00:10:38\", \"Team\": \"forty_seven\", \"Username\": \"TrueTDM\", \"Playtime\": \"04:19\", \"#\": 45, \"KD\": 0.0, \"Kills\": 0, \"Deaths\": 1, \"Assists\": 0, \"Damage >\": 113, \"Damage <\": 104, \"Gulag\": \"L\", \"% moving\": 95.1, \"Game duration\": \"27\", \"Loadout_1\": \"iw8_ar_mike4 - iw8_sm_t9fastfire\", \"Loadout_2\": \"iw8_pi_t9semiauto - iw8_fists\", \"Loadout_3\": \"-\"}, {\"Mode\": \"Trios\", \"Ended at\": \"2021-11-19T00:10:38\", \"Team\": \"thirty_eight\", \"Username\": \"Dononeabaygo182\", \"Playtime\": \"06:15\", \"#\": 38, \"KD\": 1.5, \"Kills\": 3, \"Deaths\": 2, \"Assists\": 0, \"Damage >\": 686, \"Damage <\": 394, \"Gulag\": \"W\", \"% moving\": 95.5, \"Game duration\": \"27\", \"Loadout_1\": \"iw8_ar_t9standard - iw8_sm_t9cqb\", \"Loadout_2\": \"-\", \"Loadout_3\": \"-\"}, {\"Mode\": \"Trios\", \"Ended at\": \"2021-11-19T00:10:38\", \"Team\": \"twenty_six\", \"Username\": \"Sieglinde\", \"Playtime\": \"06:20\", \"#\": 44, \"KD\": 0.3, \"Kills\": 1, \"Deaths\": 3, \"Assists\": 0, \"Damage >\": 215, \"Damage <\": 410, \"Gulag\": \"L\", \"% moving\": 52.3, \"Game duration\": \"27\", \"Loadout_1\": \"iw8_ar_mike4 - iw8_sm_t9cqb\", \"Loadout_2\": \"iw8_pi_t9semiauto - iw8_fists\", \"Loadout_3\": \"iw8_lm_t9fastfire - iw8_fists\"}, {\"Mode\": \"Trios\", \"Ended at\": \"2021-11-19T00:10:38\", \"Team\": \"thirty\", \"Username\": \"VeeDawg\", \"Playtime\": \"18:56\", \"#\": 16, \"KD\": 1.0, \"Kills\": 2, \"Deaths\": 2, \"Assists\": 2, \"Damage >\": 766, \"Damage <\": 575, \"Gulag\": \"W\", \"% moving\": 91.4, \"Game duration\": \"27\", \"Loadout_1\": \"iw8_sm_t9cqb - iw8_me_t9sai\", \"Loadout_2\": \"iw8_pi_t9semiauto - iw8_fists\", \"Loadout_3\": \"-\"}, {\"Mode\": \"Trios\", \"Ended at\": \"2021-11-19T00:10:38\", \"Team\": \"twenty_three\", \"Username\": \"cassa_17\", \"Playtime\": \"21:44\", \"#\": 8, \"KD\": 0.5, \"Kills\": 1, \"Deaths\": 2, \"Assists\": 0, \"Damage >\": 491, \"Damage <\": 560, \"Gulag\": \"L\", \"% moving\": 52.6, \"Game duration\": \"27\", \"Loadout_1\": \"iw8_ar_t9damage - iw8_sm_t9spray\", \"Loadout_2\": \"iw8_pi_t9semiauto - iw8_fists\", \"Loadout_3\": \"-\"}, {\"Mode\": \"Trios\", \"Ended at\": \"2021-11-19T00:10:38\", \"Team\": \"seventeen\", \"Username\": \"b3lamafia\", \"Playtime\": \"21:49\", \"#\": 9, \"KD\": 2.5, \"Kills\": 5, \"Deaths\": 2, \"Assists\": 2, \"Damage >\": 1694, \"Damage <\": 571, \"Gulag\": \"W\", \"% moving\": 95.1, \"Game duration\": \"27\", \"Loadout_1\": \"iw8_ar_t9slowhandling - iw8_sm_t9handling\", \"Loadout_2\": \"-\", \"Loadout_3\": \"-\"}]}}, {\"mode\": \"vega-lite\"});\n",
       "</script>"
      ],
      "text/plain": [
       "alt.LayerChart(...)"
      ]
     },
     "execution_count": 78,
     "metadata": {},
     "output_type": "execute_result"
    }
   ],
   "source": [
    "base = alt.Chart(df)\n",
    "\n",
    "hist2 = base.mark_bar().encode(\n",
    "    x=alt.X('Kills:Q', bin=alt.BinParams(step=1)),\n",
    "    y=alt.Y('count()', axis=alt.Axis(tickCount=10, format='', title='n Players')),\n",
    "    tooltip=['Kills', 'count()'],\n",
    "    color=alt.value(\"orange\")\n",
    "            \n",
    ").properties(width=400, height=200)\n",
    "\n",
    "red_median_line = base.mark_rule(color='black').encode(\n",
    "    x=alt.X('median(KD):Q', title='KD'),\n",
    "    size=alt.value(2)\n",
    ")\n",
    "\n",
    "hist2 + red_median_line"
   ]
  },
  {
   "cell_type": "code",
   "execution_count": 79,
   "id": "c0530efe-25a2-4f74-8dbf-cb0261c47fd2",
   "metadata": {},
   "outputs": [
    {
     "data": {
      "text/html": [
       "\n",
       "<div id=\"altair-viz-8c8fca87222147f39344e13873415e28\"></div>\n",
       "<script type=\"text/javascript\">\n",
       "  (function(spec, embedOpt){\n",
       "    let outputDiv = document.currentScript.previousElementSibling;\n",
       "    if (outputDiv.id !== \"altair-viz-8c8fca87222147f39344e13873415e28\") {\n",
       "      outputDiv = document.getElementById(\"altair-viz-8c8fca87222147f39344e13873415e28\");\n",
       "    }\n",
       "    const paths = {\n",
       "      \"vega\": \"https://cdn.jsdelivr.net/npm//vega@5?noext\",\n",
       "      \"vega-lib\": \"https://cdn.jsdelivr.net/npm//vega-lib?noext\",\n",
       "      \"vega-lite\": \"https://cdn.jsdelivr.net/npm//vega-lite@4.8.1?noext\",\n",
       "      \"vega-embed\": \"https://cdn.jsdelivr.net/npm//vega-embed@6?noext\",\n",
       "    };\n",
       "\n",
       "    function loadScript(lib) {\n",
       "      return new Promise(function(resolve, reject) {\n",
       "        var s = document.createElement('script');\n",
       "        s.src = paths[lib];\n",
       "        s.async = true;\n",
       "        s.onload = () => resolve(paths[lib]);\n",
       "        s.onerror = () => reject(`Error loading script: ${paths[lib]}`);\n",
       "        document.getElementsByTagName(\"head\")[0].appendChild(s);\n",
       "      });\n",
       "    }\n",
       "\n",
       "    function showError(err) {\n",
       "      outputDiv.innerHTML = `<div class=\"error\" style=\"color:red;\">${err}</div>`;\n",
       "      throw err;\n",
       "    }\n",
       "\n",
       "    function displayChart(vegaEmbed) {\n",
       "      vegaEmbed(outputDiv, spec, embedOpt)\n",
       "        .catch(err => showError(`Javascript Error: ${err.message}<br>This usually means there's a typo in your chart specification. See the javascript console for the full traceback.`));\n",
       "    }\n",
       "\n",
       "    if(typeof define === \"function\" && define.amd) {\n",
       "      requirejs.config({paths});\n",
       "      require([\"vega-embed\"], displayChart, err => showError(`Error loading script: ${err.message}`));\n",
       "    } else if (typeof vegaEmbed === \"function\") {\n",
       "      displayChart(vegaEmbed);\n",
       "    } else {\n",
       "      loadScript(\"vega\")\n",
       "        .then(() => loadScript(\"vega-lite\"))\n",
       "        .then(() => loadScript(\"vega-embed\"))\n",
       "        .catch(showError)\n",
       "        .then(() => displayChart(vegaEmbed));\n",
       "    }\n",
       "  })({\"config\": {\"view\": {\"continuousWidth\": 400, \"continuousHeight\": 300}}, \"layer\": [{\"mark\": \"bar\", \"encoding\": {\"color\": {\"value\": \"orange\"}, \"tooltip\": [{\"type\": \"quantitative\", \"field\": \"KD\"}, {\"type\": \"quantitative\", \"aggregate\": \"count\"}], \"x\": {\"type\": \"quantitative\", \"bin\": {\"step\": 0.5}, \"field\": \"KD\"}, \"y\": {\"type\": \"quantitative\", \"aggregate\": \"count\", \"axis\": {\"format\": \"\", \"title\": \"n Players\"}}}, \"height\": 300, \"width\": 400}, {\"mark\": {\"type\": \"rule\", \"color\": \"black\"}, \"encoding\": {\"size\": {\"value\": 2}, \"x\": {\"type\": \"quantitative\", \"aggregate\": \"median\", \"field\": \"KD\", \"title\": \"KD\"}}}], \"data\": {\"name\": \"data-ade2b33c9649b9e463d98cb4d751d088\"}, \"$schema\": \"https://vega.github.io/schema/vega-lite/v4.8.1.json\", \"datasets\": {\"data-ade2b33c9649b9e463d98cb4d751d088\": [{\"Mode\": \"Trios\", \"Ended at\": \"2021-11-19T00:10:38\", \"Team\": \"forty\", \"Username\": \"MOMMA BOT\", \"Playtime\": \"01:23\", \"#\": 52, \"KD\": 0.0, \"Kills\": 0, \"Deaths\": 0, \"Assists\": 0, \"Damage >\": 0, \"Damage <\": 0, \"Gulag\": \"L\", \"% moving\": 91.7, \"Game duration\": \"27\", \"Loadout_1\": \"iw8_ar_kilo433 - iw8_sm_t9capacity\", \"Loadout_2\": \"iw8_pi_t9semiauto - iw8_fists\", \"Loadout_3\": \"-\"}, {\"Mode\": \"Trios\", \"Ended at\": \"2021-11-19T00:10:38\", \"Team\": \"forty_four\", \"Username\": \"aak112\", \"Playtime\": \"16:04\", \"#\": 18, \"KD\": 2.5, \"Kills\": 5, \"Deaths\": 2, \"Assists\": 0, \"Damage >\": 1729, \"Damage <\": 221, \"Gulag\": \"W\", \"% moving\": 91.5, \"Game duration\": \"27\", \"Loadout_1\": \"iw8_ar_t9british - iw8_sm_t9cqb\", \"Loadout_2\": \"-\", \"Loadout_3\": \"-\"}, {\"Mode\": \"Trios\", \"Ended at\": \"2021-11-19T00:10:38\", \"Team\": \"forty_three\", \"Username\": \"Matteo_B1986\", \"Playtime\": \"27:39\", \"#\": 3, \"KD\": 0.0, \"Kills\": 0, \"Deaths\": 4, \"Assists\": 1, \"Damage >\": 198, \"Damage <\": 818, \"Gulag\": \"L\", \"% moving\": 69.6, \"Game duration\": \"27\", \"Loadout_1\": \"iw8_ar_galima - iw8_sm_t9heavy\", \"Loadout_2\": \"iw8_ar_t9damage - iw8_fists\", \"Loadout_3\": \"iw8_lm_t9light - iw8_sm_mpapa5\"}, {\"Mode\": \"Trios\", \"Ended at\": \"2021-11-19T00:10:38\", \"Team\": \"thirty_three\", \"Username\": \"CarryDaTeam\", \"Playtime\": \"24:13\", \"#\": 5, \"KD\": 2.3, \"Kills\": 7, \"Deaths\": 3, \"Assists\": 2, \"Damage >\": 3535, \"Damage <\": 448, \"Gulag\": \"L\", \"% moving\": 87.1, \"Game duration\": \"27\", \"Loadout_1\": \"iw8_ar_t9damage - iw8_sn_kilo98\", \"Loadout_2\": \"iw8_ar_t9fasthandling - iw8_fists\", \"Loadout_3\": \"-\"}, {\"Mode\": \"Trios\", \"Ended at\": \"2021-11-19T00:10:38\", \"Team\": \"thirty_six\", \"Username\": \"KaliseDerretido\", \"Playtime\": \"14:20\", \"#\": 19, \"KD\": 0.3, \"Kills\": 1, \"Deaths\": 3, \"Assists\": 1, \"Damage >\": 212, \"Damage <\": 409, \"Gulag\": \"W\", \"% moving\": 89.4, \"Game duration\": \"27\", \"Loadout_1\": \"iw8_ar_t9slowhandling - iw8_pi_decho\", \"Loadout_2\": \"iw8_pi_t9semiauto - iw8_fists\", \"Loadout_3\": \"iw8_pi_t9semiauto - iw8_fists\"}, {\"Mode\": \"Trios\", \"Ended at\": \"2021-11-19T00:10:38\", \"Team\": \"forty_three\", \"Username\": \"DamiaNik93\", \"Playtime\": \"27:49\", \"#\": 3, \"KD\": 3.0, \"Kills\": 3, \"Deaths\": 1, \"Assists\": 1, \"Damage >\": 874, \"Damage <\": 158, \"Gulag\": \"L\", \"% moving\": 98.8, \"Game duration\": \"27\", \"Loadout_1\": \"iw8_sm_t9cqb - iw8_sn_kilo98\", \"Loadout_2\": \"-\", \"Loadout_3\": \"-\"}, {\"Mode\": \"Trios\", \"Ended at\": \"2021-11-19T00:10:38\", \"Team\": \"fifty\", \"Username\": \"W3D SM1L3Y\", \"Playtime\": \"07:19\", \"#\": 13, \"KD\": 0.0, \"Kills\": 0, \"Deaths\": 2, \"Assists\": 1, \"Damage >\": 8, \"Damage <\": 208, \"Gulag\": \"L\", \"% moving\": 91.4, \"Game duration\": \"27\", \"Loadout_1\": \"iw8_ar_mcharlie - iw8_sn_kilo98\", \"Loadout_2\": \"iw8_pi_t9semiauto - iw8_fists\", \"Loadout_3\": \"-\"}, {\"Mode\": \"Trios\", \"Ended at\": \"2021-11-19T00:10:38\", \"Team\": \"axis\", \"Username\": \"CAVALIERE NERO\", \"Playtime\": \"07:07\", \"#\": 36, \"KD\": 1.0, \"Kills\": 3, \"Deaths\": 3, \"Assists\": 2, \"Damage >\": 1100, \"Damage <\": 606, \"Gulag\": \"L\", \"% moving\": 83.6, \"Game duration\": \"27\", \"Loadout_1\": \"iw8_sm_t9cqb - iw8_sn_t9accurate\", \"Loadout_2\": \"iw8_pi_t9semiauto - iw8_fists\", \"Loadout_3\": \"iw8_ar_t9damage - iw8_fists\"}, {\"Mode\": \"Trios\", \"Ended at\": \"2021-11-19T00:10:38\", \"Team\": \"fifty_two\", \"Username\": \"EightbitLuke\", \"Playtime\": \"04:49\", \"#\": 46, \"KD\": 0.0, \"Kills\": 0, \"Deaths\": 2, \"Assists\": 0, \"Damage >\": 98, \"Damage <\": 268, \"Gulag\": \"L\", \"% moving\": 94.1, \"Game duration\": \"27\", \"Loadout_1\": \"iw8_ar_mcharlie - iw8_sn_t9accurate\", \"Loadout_2\": \"iw8_pi_t9semiauto - iw8_fists\", \"Loadout_3\": \"-\"}, {\"Mode\": \"Trios\", \"Ended at\": \"2021-11-19T00:10:38\", \"Team\": \"twenty_three\", \"Username\": \"Andrewimpakt96\", \"Playtime\": \"22:05\", \"#\": 8, \"KD\": 3.0, \"Kills\": 6, \"Deaths\": 2, \"Assists\": 2, \"Damage >\": 1744, \"Damage <\": 703, \"Gulag\": \"W\", \"% moving\": 69.4, \"Game duration\": \"27\", \"Loadout_1\": \"iw8_ar_t9slowhandling - iw8_sm_t9fastfire\", \"Loadout_2\": \"iw8_pi_t9semiauto - iw8_fists\", \"Loadout_3\": \"-\"}, {\"Mode\": \"Trios\", \"Ended at\": \"2021-11-19T00:10:38\", \"Team\": \"sixteen\", \"Username\": \"twitch l0rena22\", \"Playtime\": \"07:57\", \"#\": 35, \"KD\": 0.3, \"Kills\": 1, \"Deaths\": 3, \"Assists\": 1, \"Damage >\": 510, \"Damage <\": 658, \"Gulag\": \"W\", \"% moving\": 84.0, \"Game duration\": \"27\", \"Loadout_1\": \"iw8_sm_t9cqb - iw8_ar_t9slowfire\", \"Loadout_2\": \"iw8_pi_t9semiauto - iw8_fists\", \"Loadout_3\": \"-\"}, {\"Mode\": \"Trios\", \"Ended at\": \"2021-11-19T00:10:38\", \"Team\": \"forty_eight\", \"Username\": \"BadMuthaFKRLGC\", \"Playtime\": \"05:39\", \"#\": 17, \"KD\": 1.0, \"Kills\": 2, \"Deaths\": 2, \"Assists\": 0, \"Damage >\": 442, \"Damage <\": 320, \"Gulag\": \"L\", \"% moving\": 82.2, \"Game duration\": \"27\", \"Loadout_1\": \"iw8_ar_anovember94 - iw8_knife\", \"Loadout_2\": \"iw8_pi_t9semiauto - iw8_fists\", \"Loadout_3\": \"-\"}, {\"Mode\": \"Trios\", \"Ended at\": \"2021-11-19T00:10:38\", \"Team\": \"nineteen\", \"Username\": \"Hazardous\", \"Playtime\": \"27:35\", \"#\": 4, \"KD\": 0.5, \"Kills\": 1, \"Deaths\": 2, \"Assists\": 2, \"Damage >\": 765, \"Damage <\": 552, \"Gulag\": \"W\", \"% moving\": 66.4, \"Game duration\": \"27\", \"Loadout_1\": \"iw8_sn_kilo98 - iw8_pi_t9burst\", \"Loadout_2\": \"-\", \"Loadout_3\": \"-\"}, {\"Mode\": \"Trios\", \"Ended at\": \"2021-11-19T00:10:38\", \"Team\": \"forty_nine\", \"Username\": \"Ethereum\", \"Playtime\": \"00:20\", \"#\": 49, \"KD\": 0.0, \"Kills\": 0, \"Deaths\": 0, \"Assists\": 0, \"Damage >\": 0, \"Damage <\": 0, \"Gulag\": \"L\", \"% moving\": 0.0, \"Game duration\": \"27\", \"Loadout_1\": \"-\", \"Loadout_2\": \"-\", \"Loadout_3\": \"-\"}, {\"Mode\": \"Trios\", \"Ended at\": \"2021-11-19T00:10:38\", \"Team\": \"thirteen\", \"Username\": \"Tete en cuir\", \"Playtime\": \"06:29\", \"#\": 39, \"KD\": 0.0, \"Kills\": 0, \"Deaths\": 2, \"Assists\": 0, \"Damage >\": 2, \"Damage <\": 300, \"Gulag\": \"L\", \"% moving\": 39.2, \"Game duration\": \"27\", \"Loadout_1\": \"iw8_ar_t9damage - iw8_sm_t9cqb\", \"Loadout_2\": \"iw8_pi_t9semiauto - iw8_fists\", \"Loadout_3\": \"-\"}, {\"Mode\": \"Trios\", \"Ended at\": \"2021-11-19T00:10:38\", \"Team\": \"twenty_nine\", \"Username\": \"iamgettingbored\", \"Playtime\": \"07:35\", \"#\": 30, \"KD\": 0.0, \"Kills\": 0, \"Deaths\": 2, \"Assists\": 2, \"Damage >\": 132, \"Damage <\": 542, \"Gulag\": \"L\", \"% moving\": 76.3, \"Game duration\": \"27\", \"Loadout_1\": \"iw8_lm_mgolf36 - iw8_sh_t9fullauto\", \"Loadout_2\": \"-\", \"Loadout_3\": \"-\"}, {\"Mode\": \"Trios\", \"Ended at\": \"2021-11-19T00:10:38\", \"Team\": \"three\", \"Username\": \"TataDeni\", \"Playtime\": \"14:21\", \"#\": 21, \"KD\": 4.0, \"Kills\": 8, \"Deaths\": 2, \"Assists\": 1, \"Damage >\": 2025, \"Damage <\": 400, \"Gulag\": \"W\", \"% moving\": 79.1, \"Game duration\": \"27\", \"Loadout_1\": \"iw8_ar_t9slowfire - iw8_sm_mpapa5\", \"Loadout_2\": \"iw8_pi_t9semiauto - iw8_fists\", \"Loadout_3\": \"-\"}, {\"Mode\": \"Trios\", \"Ended at\": \"2021-11-19T00:10:38\", \"Team\": \"forty_two\", \"Username\": \"aimtermintor\", \"Playtime\": \"20:50\", \"#\": 12, \"KD\": 1.0, \"Kills\": 2, \"Deaths\": 2, \"Assists\": 0, \"Damage >\": 609, \"Damage <\": 715, \"Gulag\": \"W\", \"% moving\": 73.4, \"Game duration\": \"27\", \"Loadout_1\": \"iw8_sm_t9fastfire - iw8_sn_kilo98\", \"Loadout_2\": \"-\", \"Loadout_3\": \"-\"}, {\"Mode\": \"Trios\", \"Ended at\": \"2021-11-19T00:10:38\", \"Team\": \"twenty_five\", \"Username\": \"GaelJMG\", \"Playtime\": \"27:54\", \"#\": 2, \"KD\": 10.0, \"Kills\": 10, \"Deaths\": 1, \"Assists\": 1, \"Damage >\": 3664, \"Damage <\": 379, \"Gulag\": \"L\", \"% moving\": 91.5, \"Game duration\": \"27\", \"Loadout_1\": \"iw8_ar_t9british - iw8_pi_t9burst\", \"Loadout_2\": \"iw8_pi_t9semiauto - iw8_fists\", \"Loadout_3\": \"-\"}, {\"Mode\": \"Trios\", \"Ended at\": \"2021-11-19T00:10:38\", \"Team\": \"twenty_two\", \"Username\": \"gallu09\", \"Playtime\": \"23:08\", \"#\": 10, \"KD\": 2.0, \"Kills\": 4, \"Deaths\": 2, \"Assists\": 1, \"Damage >\": 1222, \"Damage <\": 373, \"Gulag\": \"W\", \"% moving\": 85.4, \"Game duration\": \"27\", \"Loadout_1\": \"iw8_ar_t9standard - iw8_sn_t9quickscope\", \"Loadout_2\": \"-\", \"Loadout_3\": \"-\"}, {\"Mode\": \"Trios\", \"Ended at\": \"2021-11-19T00:10:38\", \"Team\": \"twenty_two\", \"Username\": \"ferru97\", \"Playtime\": \"23:07\", \"#\": 10, \"KD\": 0.3, \"Kills\": 1, \"Deaths\": 3, \"Assists\": 0, \"Damage >\": 281, \"Damage <\": 620, \"Gulag\": \"L\", \"% moving\": 79.7, \"Game duration\": \"27\", \"Loadout_1\": \"iw8_ar_t9slowhandling - iw8_la_t9freefire\", \"Loadout_2\": \"iw8_pi_t9semiauto - iw8_fists\", \"Loadout_3\": \"iw8_sh_t9pump - iw8_fists\"}, {\"Mode\": \"Trios\", \"Ended at\": \"2021-11-19T00:10:38\", \"Team\": \"twenty_nine\", \"Username\": \"SenorSam2005\", \"Playtime\": \"07:38\", \"#\": 30, \"KD\": 1.5, \"Kills\": 3, \"Deaths\": 2, \"Assists\": 0, \"Damage >\": 918, \"Damage <\": 283, \"Gulag\": \"L\", \"% moving\": 92.7, \"Game duration\": \"27\", \"Loadout_1\": \"iw8_ar_t9standard - iw8_sn_kilo98\", \"Loadout_2\": \"-\", \"Loadout_3\": \"-\"}, {\"Mode\": \"Trios\", \"Ended at\": \"2021-11-19T00:10:38\", \"Team\": \"thirty_five\", \"Username\": \"King Lundqvist\", \"Playtime\": \"27:58\", \"#\": 6, \"KD\": 2.0, \"Kills\": 2, \"Deaths\": 1, \"Assists\": 3, \"Damage >\": 1471, \"Damage <\": 425, \"Gulag\": \"L\", \"% moving\": 81.0, \"Game duration\": \"27\", \"Loadout_1\": \"iw8_ar_t9damage - iw8_sn_kilo98\", \"Loadout_2\": \"-\", \"Loadout_3\": \"-\"}, {\"Mode\": \"Trios\", \"Ended at\": \"2021-11-19T00:10:38\", \"Team\": \"twenty_nine\", \"Username\": \"DrJam1\", \"Playtime\": \"08:19\", \"#\": 30, \"KD\": 0.5, \"Kills\": 1, \"Deaths\": 2, \"Assists\": 0, \"Damage >\": 330, \"Damage <\": 349, \"Gulag\": \"W\", \"% moving\": 79.8, \"Game duration\": \"27\", \"Loadout_1\": \"iw8_sn_t9accurate - iw8_sm_t9capacity\", \"Loadout_2\": \"-\", \"Loadout_3\": \"-\"}, {\"Mode\": \"Trios\", \"Ended at\": \"2021-11-19T00:10:38\", \"Team\": \"thirty_one\", \"Username\": \"Asura95\", \"Playtime\": \"19:58\", \"#\": 14, \"KD\": 1.0, \"Kills\": 2, \"Deaths\": 2, \"Assists\": 0, \"Damage >\": 1106, \"Damage <\": 493, \"Gulag\": \"W\", \"% moving\": 84.5, \"Game duration\": \"27\", \"Loadout_1\": \"iw8_ar_t9slowfire - iw8_sm_t9fastfire\", \"Loadout_2\": \"iw8_pi_t9semiauto - iw8_fists\", \"Loadout_3\": \"-\"}, {\"Mode\": \"Trios\", \"Ended at\": \"2021-11-19T00:10:38\", \"Team\": \"thirty_four\", \"Username\": \"xCJD\", \"Playtime\": \"00:22\", \"#\": 53, \"KD\": 0.0, \"Kills\": 0, \"Deaths\": 0, \"Assists\": 0, \"Damage >\": 0, \"Damage <\": 0, \"Gulag\": \"L\", \"% moving\": 0.0, \"Game duration\": \"27\", \"Loadout_1\": \"iw8_ar_mcharlie - iw8_sn_alpha50\", \"Loadout_2\": \"-\", \"Loadout_3\": \"-\"}, {\"Mode\": \"Trios\", \"Ended at\": \"2021-11-19T00:10:38\", \"Team\": \"forty_nine\", \"Username\": \"Joshthebinman69\", \"Playtime\": \"28:28\", \"#\": 49, \"KD\": 0.0, \"Kills\": 0, \"Deaths\": 2, \"Assists\": 0, \"Damage >\": 0, \"Damage <\": 200, \"Gulag\": \"L\", \"% moving\": 6.7, \"Game duration\": \"27\", \"Loadout_1\": \"iw8_ar_kilo433 - iw8_sm_t9fastfire\", \"Loadout_2\": \"-\", \"Loadout_3\": \"-\"}, {\"Mode\": \"Trios\", \"Ended at\": \"2021-11-19T00:10:38\", \"Team\": \"thirty_three\", \"Username\": \"Cunny-Boss\", \"Playtime\": \"24:14\", \"#\": 5, \"KD\": 3.7, \"Kills\": 11, \"Deaths\": 3, \"Assists\": 0, \"Damage >\": 3931, \"Damage <\": 830, \"Gulag\": \"W\", \"% moving\": 78.7, \"Game duration\": \"27\", \"Loadout_1\": \"iw8_ar_t9damage - iw8_sm_t9cqb\", \"Loadout_2\": \"iw8_pi_t9semiauto - iw8_fists\", \"Loadout_3\": \"iw8_sm_t9fastfire - iw8_pi_papa320\"}, {\"Mode\": \"Trios\", \"Ended at\": \"2021-11-19T00:10:38\", \"Team\": \"fifty_two\", \"Username\": \"BizzleBoy\", \"Playtime\": \"04:47\", \"#\": 46, \"KD\": 0.5, \"Kills\": 1, \"Deaths\": 2, \"Assists\": 0, \"Damage >\": 343, \"Damage <\": 300, \"Gulag\": \"L\", \"% moving\": 81.6, \"Game duration\": \"27\", \"Loadout_1\": \"iw8_ar_t9damage - iw8_sh_t9semiauto\", \"Loadout_2\": \"iw8_pi_t9semiauto - iw8_fists\", \"Loadout_3\": \"-\"}, {\"Mode\": \"Trios\", \"Ended at\": \"2021-11-19T00:10:38\", \"Team\": \"thirty_one\", \"Username\": \"RedFoX\", \"Playtime\": \"19:58\", \"#\": 14, \"KD\": 1.5, \"Kills\": 3, \"Deaths\": 2, \"Assists\": 1, \"Damage >\": 1155, \"Damage <\": 621, \"Gulag\": \"W\", \"% moving\": 89.0, \"Game duration\": \"27\", \"Loadout_1\": \"iw8_ar_t9damage - iw8_pi_t9burst\", \"Loadout_2\": \"iw8_pi_t9semiauto - iw8_fists\", \"Loadout_3\": \"-\"}, {\"Mode\": \"Trios\", \"Ended at\": \"2021-11-19T00:10:38\", \"Team\": \"thirty_four\", \"Username\": \"RWM973\", \"Playtime\": \"00:35\", \"#\": 53, \"KD\": 0.0, \"Kills\": 0, \"Deaths\": 0, \"Assists\": 0, \"Damage >\": 0, \"Damage <\": 0, \"Gulag\": \"L\", \"% moving\": 0.0, \"Game duration\": \"27\", \"Loadout_1\": \"-\", \"Loadout_2\": \"-\", \"Loadout_3\": \"-\"}, {\"Mode\": \"Trios\", \"Ended at\": \"2021-11-19T00:10:38\", \"Team\": \"eighteen\", \"Username\": \"ByKillerEs\", \"Playtime\": \"08:30\", \"#\": 34, \"KD\": 1.0, \"Kills\": 2, \"Deaths\": 2, \"Assists\": 0, \"Damage >\": 493, \"Damage <\": 338, \"Gulag\": \"W\", \"% moving\": 89.0, \"Game duration\": \"27\", \"Loadout_1\": \"iw8_sm_t9cqb - iw8_sn_xmike109\", \"Loadout_2\": \"-\", \"Loadout_3\": \"-\"}, {\"Mode\": \"Trios\", \"Ended at\": \"2021-11-19T00:10:38\", \"Team\": \"forty\", \"Username\": \"THE BOT DEMON\", \"Playtime\": \"02:12\", \"#\": 52, \"KD\": 0.0, \"Kills\": 0, \"Deaths\": 0, \"Assists\": 0, \"Damage >\": 60, \"Damage <\": 0, \"Gulag\": \"L\", \"% moving\": 91.7, \"Game duration\": \"27\", \"Loadout_1\": \"iw8_ar_t9british - iw8_sn_t9accurate\", \"Loadout_2\": \"-\", \"Loadout_3\": \"-\"}, {\"Mode\": \"Trios\", \"Ended at\": \"2021-11-19T00:10:38\", \"Team\": \"fourteen\", \"Username\": \"Mooretex\", \"Playtime\": \"14:29\", \"#\": 20, \"KD\": 1.0, \"Kills\": 2, \"Deaths\": 2, \"Assists\": 0, \"Damage >\": 1140, \"Damage <\": 300, \"Gulag\": \"L\", \"% moving\": 95.8, \"Game duration\": \"27\", \"Loadout_1\": \"iw8_sm_t9spray - iw8_la_kgolf\", \"Loadout_2\": \"iw8_pi_t9semiauto - iw8_fists\", \"Loadout_3\": \"-\"}, {\"Mode\": \"Trios\", \"Ended at\": \"2021-11-19T00:10:38\", \"Team\": \"four\", \"Username\": \"ekoo\", \"Playtime\": \"09:53\", \"#\": 27, \"KD\": 0.5, \"Kills\": 1, \"Deaths\": 2, \"Assists\": 0, \"Damage >\": 768, \"Damage <\": 433, \"Gulag\": \"W\", \"% moving\": 83.8, \"Game duration\": \"27\", \"Loadout_1\": \"iw8_ar_t9standard - iw8_sn_t9accurate\", \"Loadout_2\": \"iw8_pi_t9semiauto - iw8_fists\", \"Loadout_3\": \"-\"}, {\"Mode\": \"Trios\", \"Ended at\": \"2021-11-19T00:10:38\", \"Team\": \"axis\", \"Username\": \"Frenk_il Bue_\", \"Playtime\": \"07:05\", \"#\": 36, \"KD\": 2.0, \"Kills\": 4, \"Deaths\": 2, \"Assists\": 1, \"Damage >\": 1036, \"Damage <\": 576, \"Gulag\": \"W\", \"% moving\": 92.1, \"Game duration\": \"27\", \"Loadout_1\": \"iw8_ar_t9slowfire - iw8_sm_t9spray\", \"Loadout_2\": \"iw8_pi_t9semiauto - iw8_fists\", \"Loadout_3\": \"-\"}, {\"Mode\": \"Trios\", \"Ended at\": \"2021-11-19T00:10:38\", \"Team\": \"ten\", \"Username\": \"dembeleee92\", \"Playtime\": \"09:13\", \"#\": 28, \"KD\": 1.0, \"Kills\": 2, \"Deaths\": 2, \"Assists\": 2, \"Damage >\": 561, \"Damage <\": 360, \"Gulag\": \"W\", \"% moving\": 89.5, \"Game duration\": \"27\", \"Loadout_1\": \"iw8_lm_pkilo - iw8_la_rpapa7\", \"Loadout_2\": \"iw8_pi_t9semiauto - iw8_fists\", \"Loadout_3\": \"-\"}, {\"Mode\": \"Trios\", \"Ended at\": \"2021-11-19T00:10:38\", \"Team\": \"thirty_one\", \"Username\": \"WerVardyGestern\", \"Playtime\": \"19:41\", \"#\": 14, \"KD\": 1.5, \"Kills\": 3, \"Deaths\": 2, \"Assists\": 0, \"Damage >\": 891, \"Damage <\": 367, \"Gulag\": \"L\", \"% moving\": 64.4, \"Game duration\": \"27\", \"Loadout_1\": \"iw8_ar_t9standard - iw8_sn_t9accurate\", \"Loadout_2\": \"iw8_pi_t9semiauto - iw8_fists\", \"Loadout_3\": \"-\"}, {\"Mode\": \"Trios\", \"Ended at\": \"2021-11-19T00:10:38\", \"Team\": \"fifty\", \"Username\": \"Spanky_P\", \"Playtime\": \"22:14\", \"#\": 13, \"KD\": 0.7, \"Kills\": 2, \"Deaths\": 3, \"Assists\": 1, \"Damage >\": 808, \"Damage <\": 403, \"Gulag\": \"L\", \"% moving\": 78.0, \"Game duration\": \"27\", \"Loadout_1\": \"iw8_sm_t9heavy - iw8_ar_t9standard\", \"Loadout_2\": \"iw8_pi_t9semiauto - iw8_fists\", \"Loadout_3\": \"iw8_sn_t9damagesemi - iw8_fists\"}, {\"Mode\": \"Trios\", \"Ended at\": \"2021-11-19T00:10:38\", \"Team\": \"eight\", \"Username\": \"El Profesor\", \"Playtime\": \"06:23\", \"#\": 43, \"KD\": 0.0, \"Kills\": 0, \"Deaths\": 2, \"Assists\": 0, \"Damage >\": 192, \"Damage <\": 212, \"Gulag\": \"L\", \"% moving\": 51.8, \"Game duration\": \"27\", \"Loadout_1\": \"iw8_ar_mike4 - iw8_knife\", \"Loadout_2\": \"iw8_pi_t9semiauto - iw8_fists\", \"Loadout_3\": \"-\"}, {\"Mode\": \"Trios\", \"Ended at\": \"2021-11-19T00:10:38\", \"Team\": \"forty_eight\", \"Username\": \"Krisztof\", \"Playtime\": \"16:26\", \"#\": 17, \"KD\": 1.0, \"Kills\": 4, \"Deaths\": 4, \"Assists\": 1, \"Damage >\": 1533, \"Damage <\": 814, \"Gulag\": \"L\", \"% moving\": 79.0, \"Game duration\": \"27\", \"Loadout_1\": \"iw8_ar_mike4 - iw8_sm_t9fastfire\", \"Loadout_2\": \"iw8_sm_t9cqb - iw8_fists\", \"Loadout_3\": \"iw8_pi_t9semiauto - iw8_fists\"}, {\"Mode\": \"Trios\", \"Ended at\": \"2021-11-19T00:10:38\", \"Team\": \"twenty_six\", \"Username\": \"Martha\", \"Playtime\": \"06:15\", \"#\": 44, \"KD\": 0.5, \"Kills\": 1, \"Deaths\": 2, \"Assists\": 0, \"Damage >\": 579, \"Damage <\": 300, \"Gulag\": \"W\", \"% moving\": 79.9, \"Game duration\": \"27\", \"Loadout_1\": \"iw8_ar_t9standard - iw8_sm_t9cqb\", \"Loadout_2\": \"-\", \"Loadout_3\": \"-\"}, {\"Mode\": \"Trios\", \"Ended at\": \"2021-11-19T00:10:38\", \"Team\": \"eighteen\", \"Username\": \"THECURRYALPHA\", \"Playtime\": \"08:00\", \"#\": 34, \"KD\": 0.0, \"Kills\": 0, \"Deaths\": 2, \"Assists\": 0, \"Damage >\": 84, \"Damage <\": 300, \"Gulag\": \"L\", \"% moving\": 77.0, \"Game duration\": \"27\", \"Loadout_1\": \"iw8_ar_mike4 - iw8_sn_t9quickscope\", \"Loadout_2\": \"iw8_pi_t9semiauto - iw8_fists\", \"Loadout_3\": \"-\"}, {\"Mode\": \"Trios\", \"Ended at\": \"2021-11-19T00:10:38\", \"Team\": \"twenty_one\", \"Username\": \"Dimi_97\", \"Playtime\": \"05:55\", \"#\": 42, \"KD\": 0.0, \"Kills\": 0, \"Deaths\": 2, \"Assists\": 0, \"Damage >\": 119, \"Damage <\": 200, \"Gulag\": \"L\", \"% moving\": 88.9, \"Game duration\": \"27\", \"Loadout_1\": \"iw8_ar_galima - iw8_pi_mike\", \"Loadout_2\": \"-\", \"Loadout_3\": \"-\"}, {\"Mode\": \"Trios\", \"Ended at\": \"2021-11-19T00:10:38\", \"Team\": \"five\", \"Username\": \"iamfisi\", \"Playtime\": \"18:53\", \"#\": 15, \"KD\": 3.5, \"Kills\": 7, \"Deaths\": 2, \"Assists\": 1, \"Damage >\": 2863, \"Damage <\": 519, \"Gulag\": \"W\", \"% moving\": 96.9, \"Game duration\": \"27\", \"Loadout_1\": \"iw8_sm_t9cqb - iw8_ar_t9british\", \"Loadout_2\": \"iw8_pi_t9semiauto - iw8_fists\", \"Loadout_3\": \"-\"}, {\"Mode\": \"Trios\", \"Ended at\": \"2021-11-19T00:10:38\", \"Team\": \"forty_one\", \"Username\": \"Mikey\", \"Playtime\": \"10:28\", \"#\": 26, \"KD\": 0.5, \"Kills\": 1, \"Deaths\": 2, \"Assists\": 2, \"Damage >\": 540, \"Damage <\": 266, \"Gulag\": \"L\", \"% moving\": 56.3, \"Game duration\": \"27\", \"Loadout_1\": \"iw8_sm_mpapa7 - iw8_sn_kilo98\", \"Loadout_2\": \"iw8_pi_t9semiauto - iw8_fists\", \"Loadout_3\": \"-\"}, {\"Mode\": \"Trios\", \"Ended at\": \"2021-11-19T00:10:38\", \"Team\": \"eleven\", \"Username\": \"voltlaag\", \"Playtime\": \"04:17\", \"#\": 48, \"KD\": 0.5, \"Kills\": 1, \"Deaths\": 2, \"Assists\": 0, \"Damage >\": 192, \"Damage <\": 300, \"Gulag\": \"W\", \"% moving\": 82.0, \"Game duration\": \"27\", \"Loadout_1\": \"iw8_ar_t9standard - iw8_sm_t9cqb\", \"Loadout_2\": \"iw8_pi_t9semiauto - iw8_fists\", \"Loadout_3\": \"-\"}, {\"Mode\": \"Trios\", \"Ended at\": \"2021-11-19T00:10:38\", \"Team\": \"fifty_one\", \"Username\": \"Piofhut\", \"Playtime\": \"07:40\", \"#\": 32, \"KD\": 0.0, \"Kills\": 0, \"Deaths\": 1, \"Assists\": 0, \"Damage >\": 218, \"Damage <\": 294, \"Gulag\": \"L\", \"% moving\": 97.1, \"Game duration\": \"27\", \"Loadout_1\": \"iw8_me_riotshield - iw8_ar_mcharlie\", \"Loadout_2\": \"iw8_pi_t9semiauto - iw8_fists\", \"Loadout_3\": \"-\"}, {\"Mode\": \"Trios\", \"Ended at\": \"2021-11-19T00:10:38\", \"Team\": \"forty_six\", \"Username\": \"Tiikelo\", \"Playtime\": \"08:07\", \"#\": 33, \"KD\": 1.0, \"Kills\": 3, \"Deaths\": 3, \"Assists\": 0, \"Damage >\": 933, \"Damage <\": 481, \"Gulag\": \"W\", \"% moving\": 79.5, \"Game duration\": \"27\", \"Loadout_1\": \"iw8_ar_t9standard - iw8_sn_t9quickscope\", \"Loadout_2\": \"iw8_pi_t9semiauto - iw8_fists\", \"Loadout_3\": \"-\"}, {\"Mode\": \"Trios\", \"Ended at\": \"2021-11-19T00:10:38\", \"Team\": \"five\", \"Username\": \"MrsLovely\", \"Playtime\": \"18:48\", \"#\": 15, \"KD\": 1.5, \"Kills\": 3, \"Deaths\": 2, \"Assists\": 2, \"Damage >\": 876, \"Damage <\": 472, \"Gulag\": \"W\", \"% moving\": 81.2, \"Game duration\": \"27\", \"Loadout_1\": \"iw8_sm_t9capacity - iw8_sn_hdromeo\", \"Loadout_2\": \"iw8_pi_t9semiauto - iw8_fists\", \"Loadout_3\": \"-\"}, {\"Mode\": \"Trios\", \"Ended at\": \"2021-11-19T00:10:38\", \"Team\": \"fifteen\", \"Username\": \"XxD-ii_N-_-G_oxX\", \"Playtime\": \"08:19\", \"#\": 29, \"KD\": 0.0, \"Kills\": 0, \"Deaths\": 3, \"Assists\": 2, \"Damage >\": 265, \"Damage <\": 500, \"Gulag\": \"L\", \"% moving\": 31.6, \"Game duration\": \"27\", \"Loadout_1\": \"iw8_ar_t9damage - iw8_me_t9loadout\", \"Loadout_2\": \"iw8_pi_t9semiauto - iw8_fists\", \"Loadout_3\": \"iw8_lm_t9fastfire - iw8_fists\"}, {\"Mode\": \"Trios\", \"Ended at\": \"2021-11-19T00:10:38\", \"Team\": \"forty_one\", \"Username\": \"Rush_everyone\", \"Playtime\": \"10:16\", \"#\": 26, \"KD\": 0.5, \"Kills\": 1, \"Deaths\": 2, \"Assists\": 1, \"Damage >\": 729, \"Damage <\": 372, \"Gulag\": \"W\", \"% moving\": 95.2, \"Game duration\": \"27\", \"Loadout_1\": \"iw8_ar_t9british - iw8_sm_t9cqb\", \"Loadout_2\": \"-\", \"Loadout_3\": \"-\"}, {\"Mode\": \"Trios\", \"Ended at\": \"2021-11-19T00:10:38\", \"Team\": \"thirty_five\", \"Username\": \"Enix\", \"Playtime\": \"07:02\", \"#\": 6, \"KD\": 0.5, \"Kills\": 1, \"Deaths\": 2, \"Assists\": 1, \"Damage >\": 484, \"Damage <\": 552, \"Gulag\": \"W\", \"% moving\": 95.2, \"Game duration\": \"27\", \"Loadout_1\": \"iw8_sm_t9cqb - iw8_sn_t9accurate\", \"Loadout_2\": \"iw8_pi_t9semiauto - iw8_fists\", \"Loadout_3\": \"-\"}, {\"Mode\": \"Trios\", \"Ended at\": \"2021-11-19T00:10:38\", \"Team\": \"forty_one\", \"Username\": \"CLART DEM\", \"Playtime\": \"10:33\", \"#\": 26, \"KD\": 1.0, \"Kills\": 2, \"Deaths\": 2, \"Assists\": 2, \"Damage >\": 443, \"Damage <\": 502, \"Gulag\": \"W\", \"% moving\": 88.9, \"Game duration\": \"27\", \"Loadout_1\": \"iw8_sm_t9capacity - iw8_lm_t9accurate\", \"Loadout_2\": \"-\", \"Loadout_3\": \"-\"}, {\"Mode\": \"Trios\", \"Ended at\": \"2021-11-19T00:10:38\", \"Team\": \"forty_five\", \"Username\": \"DeminLender\", \"Playtime\": \"06:12\", \"#\": 41, \"KD\": 0.0, \"Kills\": 0, \"Deaths\": 2, \"Assists\": 1, \"Damage >\": 441, \"Damage <\": 299, \"Gulag\": \"L\", \"% moving\": 68.6, \"Game duration\": \"27\", \"Loadout_1\": \"iw8_ar_t9damage - iw8_sm_t9capacity\", \"Loadout_2\": \"-\", \"Loadout_3\": \"-\"}, {\"Mode\": \"Trios\", \"Ended at\": \"2021-11-19T00:10:38\", \"Team\": \"twenty_eight\", \"Username\": \"MANIDIFORBICE87\", \"Playtime\": \"03:12\", \"#\": 50, \"KD\": 0.5, \"Kills\": 1, \"Deaths\": 2, \"Assists\": 0, \"Damage >\": 353, \"Damage <\": 300, \"Gulag\": \"W\", \"% moving\": 91.7, \"Game duration\": \"27\", \"Loadout_1\": \"iw8_ar_t9damage - iw8_sm_t9standard\", \"Loadout_2\": \"iw8_pi_t9semiauto - iw8_fists\", \"Loadout_3\": \"-\"}, {\"Mode\": \"Trios\", \"Ended at\": \"2021-11-19T00:10:38\", \"Team\": \"three\", \"Username\": \"jakoxy\", \"Playtime\": \"13:58\", \"#\": 21, \"KD\": 1.0, \"Kills\": 3, \"Deaths\": 3, \"Assists\": 0, \"Damage >\": 1397, \"Damage <\": 495, \"Gulag\": \"L\", \"% moving\": 89.5, \"Game duration\": \"27\", \"Loadout_1\": \"iw8_ar_t9british - iw8_sh_t9semiauto\", \"Loadout_2\": \"iw8_pi_t9semiauto - iw8_fists\", \"Loadout_3\": \"iw8_sn_t9damagesemi - iw8_fists\"}, {\"Mode\": \"Trios\", \"Ended at\": \"2021-11-19T00:10:38\", \"Team\": \"eight\", \"Username\": \"bay-sword9\", \"Playtime\": \"06:06\", \"#\": 43, \"KD\": 0.0, \"Kills\": 0, \"Deaths\": 2, \"Assists\": 1, \"Damage >\": 55, \"Damage <\": 222, \"Gulag\": \"L\", \"% moving\": 37.2, \"Game duration\": \"27\", \"Loadout_1\": \"iw8_ar_t9damage - iw8_sm_t9cqb\", \"Loadout_2\": \"iw8_pi_t9semiauto - iw8_fists\", \"Loadout_3\": \"-\"}, {\"Mode\": \"Trios\", \"Ended at\": \"2021-11-19T00:10:38\", \"Team\": \"thirty_two\", \"Username\": \"iDropzLost\", \"Playtime\": \"07:00\", \"#\": 37, \"KD\": 0.0, \"Kills\": 0, \"Deaths\": 2, \"Assists\": 0, \"Damage >\": 275, \"Damage <\": 300, \"Gulag\": \"L\", \"% moving\": 36.2, \"Game duration\": \"27\", \"Loadout_1\": \"iw8_sn_t9accurate - iw8_sm_t9cqb\", \"Loadout_2\": \"iw8_pi_t9semiauto - iw8_fists\", \"Loadout_3\": \"-\"}, {\"Mode\": \"Trios\", \"Ended at\": \"2021-11-19T00:10:38\", \"Team\": \"thirteen\", \"Username\": \"Dr Hannibal\", \"Playtime\": \"06:31\", \"#\": 39, \"KD\": 0.0, \"Kills\": 0, \"Deaths\": 2, \"Assists\": 0, \"Damage >\": 29, \"Damage <\": 200, \"Gulag\": \"L\", \"% moving\": 58.0, \"Game duration\": \"27\", \"Loadout_1\": \"iw8_ar_t9fastfire - iw8_sn_t9quickscope\", \"Loadout_2\": \"iw8_pi_t9semiauto - iw8_fists\", \"Loadout_3\": \"-\"}, {\"Mode\": \"Trios\", \"Ended at\": \"2021-11-19T00:10:38\", \"Team\": \"twenty_seven\", \"Username\": \"nicoyzovitch\", \"Playtime\": \"21:58\", \"#\": 11, \"KD\": 1.3, \"Kills\": 4, \"Deaths\": 3, \"Assists\": 0, \"Damage >\": 1372, \"Damage <\": 550, \"Gulag\": \"W\", \"% moving\": 92.6, \"Game duration\": \"27\", \"Loadout_1\": \"iw8_lm_t9fastfire - iw8_sm_t9cqb\", \"Loadout_2\": \"iw8_pi_t9semiauto - iw8_fists\", \"Loadout_3\": \"iw8_pi_t9semiauto - iw8_fists\"}, {\"Mode\": \"Trios\", \"Ended at\": \"2021-11-19T00:10:38\", \"Team\": \"fifteen\", \"Username\": \"Mac\", \"Playtime\": \"08:36\", \"#\": 29, \"KD\": 0.3, \"Kills\": 1, \"Deaths\": 3, \"Assists\": 0, \"Damage >\": 307, \"Damage <\": 300, \"Gulag\": \"L\", \"% moving\": 40.6, \"Game duration\": \"27\", \"Loadout_1\": \"iw8_sn_t9accurate - iw8_ar_t9standard\", \"Loadout_2\": \"iw8_ar_t9slowhandling - iw8_fists\", \"Loadout_3\": \"-\"}, {\"Mode\": \"Trios\", \"Ended at\": \"2021-11-19T00:10:38\", \"Team\": \"six\", \"Username\": \"FloPPHard\", \"Playtime\": \"10:28\", \"#\": 25, \"KD\": 0.3, \"Kills\": 1, \"Deaths\": 3, \"Assists\": 4, \"Damage >\": 531, \"Damage <\": 400, \"Gulag\": \"L\", \"% moving\": 59.4, \"Game duration\": \"27\", \"Loadout_1\": \"iw8_sm_t9standard - iw8_pi_mike\", \"Loadout_2\": \"iw8_pi_t9semiauto - iw8_fists\", \"Loadout_3\": \"iw8_pi_t9revolver - iw8_fists\"}, {\"Mode\": \"Trios\", \"Ended at\": \"2021-11-19T00:10:38\", \"Team\": \"twenty_seven\", \"Username\": \"gentil_renard\", \"Playtime\": \"21:48\", \"#\": 11, \"KD\": 0.2, \"Kills\": 1, \"Deaths\": 4, \"Assists\": 1, \"Damage >\": 948, \"Damage <\": 932, \"Gulag\": \"L\", \"% moving\": 74.4, \"Game duration\": \"27\", \"Loadout_1\": \"iw8_ar_valpha - iw8_sn_t9accurate\", \"Loadout_2\": \"iw8_ar_t9season6 - iw8_fists\", \"Loadout_3\": \"-\"}, {\"Mode\": \"Trios\", \"Ended at\": \"2021-11-19T00:10:38\", \"Team\": \"twenty_one\", \"Username\": \"Noiders\", \"Playtime\": \"06:12\", \"#\": 42, \"KD\": 0.0, \"Kills\": 0, \"Deaths\": 2, \"Assists\": 1, \"Damage >\": 386, \"Damage <\": 398, \"Gulag\": \"L\", \"% moving\": 82.2, \"Game duration\": \"27\", \"Loadout_1\": \"iw8_ar_t9british - iw8_sm_t9spray\", \"Loadout_2\": \"iw8_pi_t9semiauto - iw8_fists\", \"Loadout_3\": \"-\"}, {\"Mode\": \"Trios\", \"Ended at\": \"2021-11-19T00:10:38\", \"Team\": \"thirty\", \"Username\": \"fraserdand\", \"Playtime\": \"18:55\", \"#\": 16, \"KD\": 2.0, \"Kills\": 4, \"Deaths\": 2, \"Assists\": 1, \"Damage >\": 1908, \"Damage <\": 628, \"Gulag\": \"W\", \"% moving\": 91.9, \"Game duration\": \"27\", \"Loadout_1\": \"iw8_sm_t9spray - iw8_sn_t9accurate\", \"Loadout_2\": \"iw8_pi_t9semiauto - iw8_fists\", \"Loadout_3\": \"-\"}, {\"Mode\": \"Trios\", \"Ended at\": \"2021-11-19T00:10:38\", \"Team\": \"thirty_six\", \"Username\": \"BoTheGreat1998\", \"Playtime\": \"14:25\", \"#\": 19, \"KD\": 0.0, \"Kills\": 0, \"Deaths\": 3, \"Assists\": 0, \"Damage >\": 101, \"Damage <\": 476, \"Gulag\": \"L\", \"% moving\": 63.8, \"Game duration\": \"27\", \"Loadout_1\": \"iw8_ar_t9slowhandling - iw8_sn_kilo98\", \"Loadout_2\": \"iw8_pi_t9semiauto - iw8_fists\", \"Loadout_3\": \"iw8_ar_t9fasthandling - iw8_fists\"}, {\"Mode\": \"Trios\", \"Ended at\": \"2021-11-19T00:10:38\", \"Team\": \"ten\", \"Username\": \"Mr Monty\", \"Playtime\": \"09:21\", \"#\": 28, \"KD\": 2.0, \"Kills\": 4, \"Deaths\": 2, \"Assists\": 1, \"Damage >\": 1027, \"Damage <\": 530, \"Gulag\": \"W\", \"% moving\": 90.5, \"Game duration\": \"27\", \"Loadout_1\": \"iw8_sm_t9spray - iw8_sn_t9accurate\", \"Loadout_2\": \"iw8_pi_t9semiauto - iw8_fists\", \"Loadout_3\": \"-\"}, {\"Mode\": \"Trios\", \"Ended at\": \"2021-11-19T00:10:38\", \"Team\": \"forty_seven\", \"Username\": \"Mia Khalifa\", \"Playtime\": \"04:47\", \"#\": 45, \"KD\": 0.5, \"Kills\": 1, \"Deaths\": 2, \"Assists\": 0, \"Damage >\": 104, \"Damage <\": 323, \"Gulag\": \"W\", \"% moving\": 83.7, \"Game duration\": \"27\", \"Loadout_1\": \"iw8_sn_kilo98 - iw8_ar_valpha\", \"Loadout_2\": \"-\", \"Loadout_3\": \"-\"}, {\"Mode\": \"Trios\", \"Ended at\": \"2021-11-19T00:10:38\", \"Team\": \"seventeen\", \"Username\": \"DonEleganza\", \"Playtime\": \"21:49\", \"#\": 9, \"KD\": 3.0, \"Kills\": 9, \"Deaths\": 3, \"Assists\": 1, \"Damage >\": 3158, \"Damage <\": 719, \"Gulag\": \"W\", \"% moving\": 83.7, \"Game duration\": \"27\", \"Loadout_1\": \"iw8_ar_akilo47 - iw8_sn_xmike109\", \"Loadout_2\": \"iw8_pi_t9semiauto - iw8_fists\", \"Loadout_3\": \"iw8_pi_t9semiauto - iw8_fists\"}, {\"Mode\": \"Trios\", \"Ended at\": \"2021-11-19T00:10:38\", \"Team\": \"forty_six\", \"Username\": \"Millno\", \"Playtime\": \"07:34\", \"#\": 33, \"KD\": 2.0, \"Kills\": 4, \"Deaths\": 2, \"Assists\": 0, \"Damage >\": 1343, \"Damage <\": 482, \"Gulag\": \"W\", \"% moving\": 80.5, \"Game duration\": \"27\", \"Loadout_1\": \"iw8_sh_t9semiauto - iw8_ar_t9slowhandling\", \"Loadout_2\": \"iw8_pi_t9semiauto - iw8_fists\", \"Loadout_3\": \"-\"}, {\"Mode\": \"Trios\", \"Ended at\": \"2021-11-19T00:10:38\", \"Team\": \"six\", \"Username\": \"BearGrylls\", \"Playtime\": \"10:28\", \"#\": 25, \"KD\": 0.5, \"Kills\": 1, \"Deaths\": 2, \"Assists\": 2, \"Damage >\": 380, \"Damage <\": 300, \"Gulag\": \"W\", \"% moving\": 70.1, \"Game duration\": \"27\", \"Loadout_1\": \"iw8_sm_t9cqb - iw8_sn_t9accurate\", \"Loadout_2\": \"-\", \"Loadout_3\": \"-\"}, {\"Mode\": \"Trios\", \"Ended at\": \"2021-11-19T00:10:38\", \"Team\": \"forty_five\", \"Username\": \"Death-b4-Disco_\", \"Playtime\": \"05:32\", \"#\": 41, \"KD\": 0.0, \"Kills\": 0, \"Deaths\": 1, \"Assists\": 1, \"Damage >\": 108, \"Damage <\": 100, \"Gulag\": \"L\", \"% moving\": 96.7, \"Game duration\": \"27\", \"Loadout_1\": \"iw8_sm_t9capacity - iw8_la_t9standard\", \"Loadout_2\": \"-\", \"Loadout_3\": \"-\"}, {\"Mode\": \"Trios\", \"Ended at\": \"2021-11-19T00:10:38\", \"Team\": \"five\", \"Username\": \"Boyd\", \"Playtime\": \"18:52\", \"#\": 15, \"KD\": 2.0, \"Kills\": 6, \"Deaths\": 3, \"Assists\": 0, \"Damage >\": 1895, \"Damage <\": 681, \"Gulag\": \"W\", \"% moving\": 67.9, \"Game duration\": \"27\", \"Loadout_1\": \"iw8_ar_t9accurate - iw8_sh_t9semiauto\", \"Loadout_2\": \"iw8_pi_t9semiauto - iw8_fists\", \"Loadout_3\": \"iw8_pi_t9semiauto - iw8_fists\"}, {\"Mode\": \"Trios\", \"Ended at\": \"2021-11-19T00:10:38\", \"Team\": \"sixteen\", \"Username\": \"JimmyNeutron93\", \"Playtime\": \"07:38\", \"#\": 35, \"KD\": 1.0, \"Kills\": 2, \"Deaths\": 2, \"Assists\": 0, \"Damage >\": 1201, \"Damage <\": 476, \"Gulag\": \"W\", \"% moving\": 70.4, \"Game duration\": \"27\", \"Loadout_1\": \"iw8_ar_t9british - iw8_pi_mike\", \"Loadout_2\": \"iw8_pi_t9semiauto - iw8_fists\", \"Loadout_3\": \"-\"}, {\"Mode\": \"Trios\", \"Ended at\": \"2021-11-19T00:10:38\", \"Team\": \"twenty_two\", \"Username\": \"Ghigo08\", \"Playtime\": \"23:08\", \"#\": 10, \"KD\": 0.3, \"Kills\": 1, \"Deaths\": 3, \"Assists\": 4, \"Damage >\": 921, \"Damage <\": 535, \"Gulag\": \"L\", \"% moving\": 78.9, \"Game duration\": \"27\", \"Loadout_1\": \"iw8_ar_galima - iw8_sn_t9accurate\", \"Loadout_2\": \"iw8_pi_t9semiauto - iw8_fists\", \"Loadout_3\": \"iw8_ar_t9slowhandling - iw8_fists\"}, {\"Mode\": \"Trios\", \"Ended at\": \"2021-11-19T00:10:38\", \"Team\": \"twelve\", \"Username\": \"Sambeis\", \"Playtime\": \"23:20\", \"#\": 7, \"KD\": 2.0, \"Kills\": 6, \"Deaths\": 3, \"Assists\": 2, \"Damage >\": 3060, \"Damage <\": 644, \"Gulag\": \"L\", \"% moving\": 86.3, \"Game duration\": \"27\", \"Loadout_1\": \"iw8_ar_mcharlie - iw8_pi_mike\", \"Loadout_2\": \"iw8_pi_t9semiauto - iw8_fists\", \"Loadout_3\": \"iw8_ar_t9season6 - iw8_fists\"}, {\"Mode\": \"Trios\", \"Ended at\": \"2021-11-19T00:10:38\", \"Team\": \"four\", \"Username\": \"JCorr\", \"Playtime\": \"09:52\", \"#\": 27, \"KD\": 2.5, \"Kills\": 5, \"Deaths\": 2, \"Assists\": 0, \"Damage >\": 1382, \"Damage <\": 200, \"Gulag\": \"W\", \"% moving\": 77.1, \"Game duration\": \"27\", \"Loadout_1\": \"iw8_sn_t9accurate - iw8_sm_t9cqb\", \"Loadout_2\": \"-\", \"Loadout_3\": \"-\"}, {\"Mode\": \"Trios\", \"Ended at\": \"2021-11-19T00:10:38\", \"Team\": \"allies\", \"Username\": \"Twitch_JiroNate\", \"Playtime\": \"08:34\", \"#\": 24, \"KD\": 2.0, \"Kills\": 2, \"Deaths\": 1, \"Assists\": 1, \"Damage >\": 1009, \"Damage <\": 354, \"Gulag\": \"L\", \"% moving\": 95.7, \"Game duration\": \"27\", \"Loadout_1\": \"iw8_ar_t9damage - iw8_sm_t9capacity\", \"Loadout_2\": \"iw8_pi_t9semiauto - iw8_fists\", \"Loadout_3\": \"-\"}, {\"Mode\": \"Trios\", \"Ended at\": \"2021-11-19T00:10:38\", \"Team\": \"twenty_four\", \"Username\": \"walters1804\", \"Playtime\": \"06:02\", \"#\": 40, \"KD\": 0.5, \"Kills\": 1, \"Deaths\": 2, \"Assists\": 0, \"Damage >\": 124, \"Damage <\": 400, \"Gulag\": \"W\", \"% moving\": 55.9, \"Game duration\": \"27\", \"Loadout_1\": \"iw8_sm_t9spray - iw8_la_t9freefire\", \"Loadout_2\": \"-\", \"Loadout_3\": \"-\"}, {\"Mode\": \"Trios\", \"Ended at\": \"2021-11-19T00:10:38\", \"Team\": \"allies\", \"Username\": \"KissMyBehop\", \"Playtime\": \"08:34\", \"#\": 24, \"KD\": 0.5, \"Kills\": 1, \"Deaths\": 2, \"Assists\": 2, \"Damage >\": 854, \"Damage <\": 420, \"Gulag\": \"W\", \"% moving\": 97.5, \"Game duration\": \"27\", \"Loadout_1\": \"iw8_sm_t9semiauto - iw8_ar_tango21\", \"Loadout_2\": \"iw8_pi_t9semiauto - iw8_fists\", \"Loadout_3\": \"-\"}, {\"Mode\": \"Trios\", \"Ended at\": \"2021-11-19T00:10:38\", \"Team\": \"seventeen\", \"Username\": \"LUCIFER\", \"Playtime\": \"21:50\", \"#\": 9, \"KD\": 1.5, \"Kills\": 3, \"Deaths\": 2, \"Assists\": 4, \"Damage >\": 1110, \"Damage <\": 812, \"Gulag\": \"W\", \"% moving\": 91.9, \"Game duration\": \"27\", \"Loadout_1\": \"s4_ar_stango44temp - iw8_sn_t9accurate\", \"Loadout_2\": \"iw8_pi_t9semiauto - iw8_fists\", \"Loadout_3\": \"-\"}, {\"Mode\": \"Trios\", \"Ended at\": \"2021-11-19T00:10:38\", \"Team\": \"three\", \"Username\": \"primox\", \"Playtime\": \"13:58\", \"#\": 21, \"KD\": 0.8, \"Kills\": 3, \"Deaths\": 4, \"Assists\": 2, \"Damage >\": 2473, \"Damage <\": 920, \"Gulag\": \"L\", \"% moving\": 88.2, \"Game duration\": \"27\", \"Loadout_1\": \"iw8_ar_t9british - iw8_sm_t9cqb\", \"Loadout_2\": \"iw8_pi_t9semiauto - iw8_fists\", \"Loadout_3\": \"iw8_ar_t9slowhandling - iw8_fists\"}, {\"Mode\": \"Trios\", \"Ended at\": \"2021-11-19T00:10:38\", \"Team\": \"four\", \"Username\": \"DVEE9044\", \"Playtime\": \"09:54\", \"#\": 27, \"KD\": 0.5, \"Kills\": 1, \"Deaths\": 2, \"Assists\": 0, \"Damage >\": 400, \"Damage <\": 333, \"Gulag\": \"W\", \"% moving\": 74.2, \"Game duration\": \"27\", \"Loadout_1\": \"iw8_sn_kilo98 - iw8_sm_t9cqb\", \"Loadout_2\": \"iw8_pi_t9semiauto - iw8_fists\", \"Loadout_3\": \"-\"}, {\"Mode\": \"Trios\", \"Ended at\": \"2021-11-19T00:10:38\", \"Team\": \"twenty_three\", \"Username\": \"Gips\", \"Playtime\": \"21:45\", \"#\": 8, \"KD\": 1.5, \"Kills\": 3, \"Deaths\": 2, \"Assists\": 1, \"Damage >\": 1583, \"Damage <\": 647, \"Gulag\": \"W\", \"% moving\": 92.7, \"Game duration\": \"27\", \"Loadout_1\": \"iw8_ar_t9british - iw8_sm_t9cqb\", \"Loadout_2\": \"iw8_pi_t9semiauto - iw8_fists\", \"Loadout_3\": \"-\"}, {\"Mode\": \"Trios\", \"Ended at\": \"2021-11-19T00:10:38\", \"Team\": \"forty_three\", \"Username\": \"bLaCk_HooD\", \"Playtime\": \"27:55\", \"#\": 3, \"KD\": 0.0, \"Kills\": 0, \"Deaths\": 3, \"Assists\": 0, \"Damage >\": 283, \"Damage <\": 542, \"Gulag\": \"L\", \"% moving\": 84.5, \"Game duration\": \"27\", \"Loadout_1\": \"iw8_ar_sierra552 - iw8_pi_t9burst\", \"Loadout_2\": \"iw8_pi_t9semiauto - iw8_fists\", \"Loadout_3\": \"iw8_sm_t9cqb - iw8_fists\"}, {\"Mode\": \"Trios\", \"Ended at\": \"2021-11-19T00:10:38\", \"Team\": \"fifty_two\", \"Username\": \"Spartanzzz\", \"Playtime\": \"04:46\", \"#\": 46, \"KD\": 1.5, \"Kills\": 3, \"Deaths\": 2, \"Assists\": 0, \"Damage >\": 1203, \"Damage <\": 246, \"Gulag\": \"L\", \"% moving\": 90.0, \"Game duration\": \"27\", \"Loadout_1\": \"iw8_sm_t9spray - iw8_sn_t9accurate\", \"Loadout_2\": \"iw8_pi_t9semiauto - iw8_fists\", \"Loadout_3\": \"-\"}, {\"Mode\": \"Trios\", \"Ended at\": \"2021-11-19T00:10:38\", \"Team\": \"forty_five\", \"Username\": \"xFaMoUs BuZzx\", \"Playtime\": \"05:52\", \"#\": 41, \"KD\": 1.0, \"Kills\": 1, \"Deaths\": 1, \"Assists\": 0, \"Damage >\": 336, \"Damage <\": 112, \"Gulag\": \"L\", \"% moving\": 98.0, \"Game duration\": \"27\", \"Loadout_1\": \"iw8_ar_mike4 - iw8_pi_t9burst\", \"Loadout_2\": \"-\", \"Loadout_3\": \"-\"}, {\"Mode\": \"Trios\", \"Ended at\": \"2021-11-19T00:10:38\", \"Team\": \"twenty_one\", \"Username\": \"Colike\", \"Playtime\": \"06:12\", \"#\": 42, \"KD\": 1.0, \"Kills\": 2, \"Deaths\": 2, \"Assists\": 0, \"Damage >\": 758, \"Damage <\": 350, \"Gulag\": \"W\", \"% moving\": 99.0, \"Game duration\": \"27\", \"Loadout_1\": \"iw8_ar_t9standard - iw8_sm_t9cqb\", \"Loadout_2\": \"-\", \"Loadout_3\": \"-\"}, {\"Mode\": \"Trios\", \"Ended at\": \"2021-11-19T00:10:38\", \"Team\": \"fifty_one\", \"Username\": \"taketwo2121\", \"Playtime\": \"01:26\", \"#\": 32, \"KD\": 0.0, \"Kills\": 0, \"Deaths\": 0, \"Assists\": 0, \"Damage >\": 2, \"Damage <\": 102, \"Gulag\": \"L\", \"% moving\": 87.5, \"Game duration\": \"27\", \"Loadout_1\": \"iw8_ar_t9slowhandling - iw8_pi_decho\", \"Loadout_2\": \"-\", \"Loadout_3\": \"-\"}, {\"Mode\": \"Trios\", \"Ended at\": \"2021-11-19T00:10:38\", \"Team\": \"forty_six\", \"Username\": \"Ignorz-\", \"Playtime\": \"07:30\", \"#\": 33, \"KD\": 2.5, \"Kills\": 5, \"Deaths\": 2, \"Assists\": 1, \"Damage >\": 1131, \"Damage <\": 620, \"Gulag\": \"W\", \"% moving\": 97.1, \"Game duration\": \"27\", \"Loadout_1\": \"iw8_sn_t9accurate - iw8_sm_t9fastfire\", \"Loadout_2\": \"iw8_pi_t9semiauto - iw8_fists\", \"Loadout_3\": \"-\"}, {\"Mode\": \"Trios\", \"Ended at\": \"2021-11-19T00:10:38\", \"Team\": \"nine\", \"Username\": \"Beatz\", \"Playtime\": \"07:53\", \"#\": 31, \"KD\": 1.0, \"Kills\": 1, \"Deaths\": 1, \"Assists\": 0, \"Damage >\": 356, \"Damage <\": 200, \"Gulag\": \"W\", \"% moving\": 98.8, \"Game duration\": \"27\", \"Loadout_1\": \"iw8_ar_t9damage - iw8_sn_kilo98\", \"Loadout_2\": \"-\", \"Loadout_3\": \"-\"}, {\"Mode\": \"Trios\", \"Ended at\": \"2021-11-19T00:10:38\", \"Team\": \"twenty\", \"Username\": \"platinium12345\", \"Playtime\": \"28:59\", \"#\": 1, \"KD\": 1.3, \"Kills\": 4, \"Deaths\": 3, \"Assists\": 0, \"Damage >\": 1385, \"Damage <\": 1085, \"Gulag\": \"L\", \"% moving\": 83.9, \"Game duration\": \"27\", \"Loadout_1\": \"iw8_sm_t9cqb - iw8_ar_t9damage\", \"Loadout_2\": \"iw8_pi_t9semiauto - iw8_fists\", \"Loadout_3\": \"iw8_pi_t9semiauto - iw8_fists\"}, {\"Mode\": \"Trios\", \"Ended at\": \"2021-11-19T00:10:38\", \"Team\": \"sixteen\", \"Username\": \"TechnoGhost84\", \"Playtime\": \"07:57\", \"#\": 35, \"KD\": 2.0, \"Kills\": 4, \"Deaths\": 2, \"Assists\": 0, \"Damage >\": 947, \"Damage <\": 400, \"Gulag\": \"W\", \"% moving\": 95.1, \"Game duration\": \"27\", \"Loadout_1\": \"iw8_ar_mike4 - iw8_sm_secho\", \"Loadout_2\": \"iw8_pi_t9semiauto - iw8_fists\", \"Loadout_3\": \"-\"}, {\"Mode\": \"Trios\", \"Ended at\": \"2021-11-19T00:10:38\", \"Team\": \"six\", \"Username\": \"Deathman\", \"Playtime\": \"10:29\", \"#\": 25, \"KD\": 2.0, \"Kills\": 4, \"Deaths\": 2, \"Assists\": 2, \"Damage >\": 933, \"Damage <\": 544, \"Gulag\": \"W\", \"% moving\": 71.0, \"Game duration\": \"27\", \"Loadout_1\": \"iw8_sn_t9accurate - iw8_pi_decho\", \"Loadout_2\": \"iw8_pi_t9semiauto - iw8_fists\", \"Loadout_3\": \"-\"}, {\"Mode\": \"Trios\", \"Ended at\": \"2021-11-19T00:10:38\", \"Team\": \"fifteen\", \"Username\": \"x_ DanielC_xD\", \"Playtime\": \"08:41\", \"#\": 29, \"KD\": 1.5, \"Kills\": 3, \"Deaths\": 2, \"Assists\": 0, \"Damage >\": 573, \"Damage <\": 302, \"Gulag\": \"W\", \"% moving\": 84.6, \"Game duration\": \"27\", \"Loadout_1\": \"iw8_sn_kilo98 - iw8_sm_t9season6\", \"Loadout_2\": \"iw8_pi_t9semiauto - iw8_fists\", \"Loadout_3\": \"-\"}, {\"Mode\": \"Trios\", \"Ended at\": \"2021-11-19T00:10:38\", \"Team\": \"twelve\", \"Username\": \"n1ce\", \"Playtime\": \"23:21\", \"#\": 7, \"KD\": 2.2, \"Kills\": 9, \"Deaths\": 4, \"Assists\": 0, \"Damage >\": 3121, \"Damage <\": 795, \"Gulag\": \"L\", \"% moving\": 61.7, \"Game duration\": \"27\", \"Loadout_1\": \"iw8_sn_t9accurate - iw8_sm_t9fastfire\", \"Loadout_2\": \"iw8_pi_t9semiauto - iw8_fists\", \"Loadout_3\": \"iw8_sm_t9cqb - iw8_fists\"}, {\"Mode\": \"Trios\", \"Ended at\": \"2021-11-19T00:10:38\", \"Team\": \"forty_four\", \"Username\": \"BadboyBandit09\", \"Playtime\": \"16:04\", \"#\": 18, \"KD\": 0.3, \"Kills\": 1, \"Deaths\": 3, \"Assists\": 1, \"Damage >\": 1122, \"Damage <\": 738, \"Gulag\": \"W\", \"% moving\": 65.5, \"Game duration\": \"27\", \"Loadout_1\": \"iw8_sm_t9cqb - iw8_ar_t9british\", \"Loadout_2\": \"iw8_pi_t9semiauto - iw8_fists\", \"Loadout_3\": \"iw8_pi_t9semiauto - iw8_fists\"}, {\"Mode\": \"Trios\", \"Ended at\": \"2021-11-19T00:10:38\", \"Team\": \"forty_nine\", \"Username\": \"fusie\", \"Playtime\": \"01:07\", \"#\": 49, \"KD\": 0.0, \"Kills\": 0, \"Deaths\": 0, \"Assists\": 0, \"Damage >\": 0, \"Damage <\": 0, \"Gulag\": \"L\", \"% moving\": 0.0, \"Game duration\": \"27\", \"Loadout_1\": \"iw8_ar_kilo433 - iw8_pi_mike9\", \"Loadout_2\": \"-\", \"Loadout_3\": \"-\"}, {\"Mode\": \"Trios\", \"Ended at\": \"2021-11-19T00:10:38\", \"Team\": \"twelve\", \"Username\": \"raketenmiguel\", \"Playtime\": \"23:20\", \"#\": 7, \"KD\": 0.5, \"Kills\": 1, \"Deaths\": 2, \"Assists\": 1, \"Damage >\": 1469, \"Damage <\": 666, \"Gulag\": \"L\", \"% moving\": 84.4, \"Game duration\": \"27\", \"Loadout_1\": \"iw8_sn_kilo98 - iw8_sm_t9spray\", \"Loadout_2\": \"iw8_pi_t9semiauto - iw8_fists\", \"Loadout_3\": \"-\"}, {\"Mode\": \"Trios\", \"Ended at\": \"2021-11-19T00:10:38\", \"Team\": \"nine\", \"Username\": \"Kingporksword\", \"Playtime\": \"07:11\", \"#\": 31, \"KD\": 0.0, \"Kills\": 0, \"Deaths\": 1, \"Assists\": 0, \"Damage >\": 111, \"Damage <\": 100, \"Gulag\": \"L\", \"% moving\": 89.5, \"Game duration\": \"27\", \"Loadout_1\": \"iw8_lm_t9light - iw8_pi_mike9\", \"Loadout_2\": \"iw8_pi_t9semiauto - iw8_fists\", \"Loadout_3\": \"-\"}, {\"Mode\": \"Trios\", \"Ended at\": \"2021-11-19T00:10:38\", \"Team\": \"forty_two\", \"Username\": \"iman\", \"Playtime\": \"20:50\", \"#\": 12, \"KD\": 0.0, \"Kills\": 0, \"Deaths\": 4, \"Assists\": 1, \"Damage >\": 611, \"Damage <\": 772, \"Gulag\": \"L\", \"% moving\": 66.2, \"Game duration\": \"27\", \"Loadout_1\": \"iw8_ar_mike4 - iw8_sn_kilo98\", \"Loadout_2\": \"iw8_pi_t9semiauto - iw8_fists\", \"Loadout_3\": \"iw8_sh_t9pump - iw8_fists\"}, {\"Mode\": \"Trios\", \"Ended at\": \"2021-11-19T00:10:38\", \"Team\": \"thirty\", \"Username\": \"rossdand\", \"Playtime\": \"18:55\", \"#\": 16, \"KD\": 2.0, \"Kills\": 4, \"Deaths\": 2, \"Assists\": 0, \"Damage >\": 1329, \"Damage <\": 300, \"Gulag\": \"L\", \"% moving\": 90.0, \"Game duration\": \"27\", \"Loadout_1\": \"iw8_ar_t9standard - iw8_sm_t9fastfire\", \"Loadout_2\": \"iw8_pi_t9semiauto - iw8_fists\", \"Loadout_3\": \"-\"}, {\"Mode\": \"Trios\", \"Ended at\": \"2021-11-19T00:10:38\", \"Team\": \"twenty_eight\", \"Username\": \"Enrichinter\", \"Playtime\": \"03:12\", \"#\": 50, \"KD\": 0.0, \"Kills\": 0, \"Deaths\": 2, \"Assists\": 0, \"Damage >\": 54, \"Damage <\": 220, \"Gulag\": \"L\", \"% moving\": 75.0, \"Game duration\": \"27\", \"Loadout_1\": \"iw8_ar_t9damage - iw8_pi_mike9\", \"Loadout_2\": \"iw8_pi_t9semiauto - iw8_fists\", \"Loadout_3\": \"-\"}, {\"Mode\": \"Trios\", \"Ended at\": \"2021-11-19T00:10:38\", \"Team\": \"fifty_one\", \"Username\": \"BENTLEY95\", \"Playtime\": \"08:04\", \"#\": 32, \"KD\": 0.0, \"Kills\": 0, \"Deaths\": 1, \"Assists\": 0, \"Damage >\": 2, \"Damage <\": 240, \"Gulag\": \"L\", \"% moving\": 95.4, \"Game duration\": \"27\", \"Loadout_1\": \"iw8_sm_t9heavy - iw8_sn_t9accurate\", \"Loadout_2\": \"iw8_pi_t9semiauto - iw8_fists\", \"Loadout_3\": \"-\"}, {\"Mode\": \"Trios\", \"Ended at\": \"2021-11-19T00:10:38\", \"Team\": \"fifty\", \"Username\": \"Philipacus\", \"Playtime\": \"20:03\", \"#\": 13, \"KD\": 1.5, \"Kills\": 3, \"Deaths\": 2, \"Assists\": 0, \"Damage >\": 1048, \"Damage <\": 354, \"Gulag\": \"W\", \"% moving\": 91.3, \"Game duration\": \"27\", \"Loadout_1\": \"iw8_ar_t9standard - iw8_sm_t9accurate\", \"Loadout_2\": \"-\", \"Loadout_3\": \"-\"}, {\"Mode\": \"Trios\", \"Ended at\": \"2021-11-19T00:10:38\", \"Team\": \"thirty_two\", \"Username\": \"M4rl0n\", \"Playtime\": \"06:59\", \"#\": 37, \"KD\": 1.5, \"Kills\": 3, \"Deaths\": 2, \"Assists\": 0, \"Damage >\": 1039, \"Damage <\": 264, \"Gulag\": \"W\", \"% moving\": 92.8, \"Game duration\": \"27\", \"Loadout_1\": \"iw8_sm_t9handling - iw8_sn_kilo98\", \"Loadout_2\": \"iw8_pi_t9semiauto - iw8_fists\", \"Loadout_3\": \"-\"}, {\"Mode\": \"Trios\", \"Ended at\": \"2021-11-19T00:10:38\", \"Team\": \"thirty_eight\", \"Username\": \"Draaimolen\", \"Playtime\": \"06:11\", \"#\": 38, \"KD\": 0.0, \"Kills\": 0, \"Deaths\": 2, \"Assists\": 0, \"Damage >\": 258, \"Damage <\": 383, \"Gulag\": \"L\", \"% moving\": 79.4, \"Game duration\": \"27\", \"Loadout_1\": \"iw8_sm_uzulu - iw8_la_rpapa7\", \"Loadout_2\": \"-\", \"Loadout_3\": \"-\"}, {\"Mode\": \"Trios\", \"Ended at\": \"2021-11-19T00:10:38\", \"Team\": \"fourteen\", \"Username\": \"ItzzCooKiee\", \"Playtime\": \"14:29\", \"#\": 20, \"KD\": 0.0, \"Kills\": 0, \"Deaths\": 3, \"Assists\": 0, \"Damage >\": 275, \"Damage <\": 500, \"Gulag\": \"L\", \"% moving\": 73.8, \"Game duration\": \"27\", \"Loadout_1\": \"iw8_ar_t9slowhandling - iw8_sn_t9accurate\", \"Loadout_2\": \"iw8_pi_t9semiauto - iw8_fists\", \"Loadout_3\": \"iw8_ar_t9slowfire - iw8_fists\"}, {\"Mode\": \"Trios\", \"Ended at\": \"2021-11-19T00:10:38\", \"Team\": \"forty_two\", \"Username\": \"fullyloaded90909\", \"Playtime\": \"20:50\", \"#\": 12, \"KD\": 0.7, \"Kills\": 2, \"Deaths\": 3, \"Assists\": 0, \"Damage >\": 931, \"Damage <\": 651, \"Gulag\": \"W\", \"% moving\": 67.5, \"Game duration\": \"27\", \"Loadout_1\": \"iw8_sn_kilo98 - iw8_sm_t9accurate\", \"Loadout_2\": \"iw8_sn_kilo98 - iw8_sm_t9cqb\", \"Loadout_3\": \"-\"}, {\"Mode\": \"Trios\", \"Ended at\": \"2021-11-19T00:10:38\", \"Team\": \"nineteen\", \"Username\": \"HSIMON\", \"Playtime\": \"27:19\", \"#\": 4, \"KD\": 1.0, \"Kills\": 3, \"Deaths\": 3, \"Assists\": 0, \"Damage >\": 1053, \"Damage <\": 716, \"Gulag\": \"L\", \"% moving\": 39.1, \"Game duration\": \"27\", \"Loadout_1\": \"iw8_sn_t9accurate - iw8_ar_mcharlie\", \"Loadout_2\": \"iw8_ar_t9season6 - iw8_fists\", \"Loadout_3\": \"-\"}, {\"Mode\": \"Trios\", \"Ended at\": \"2021-11-19T00:10:38\", \"Team\": \"thirty_two\", \"Username\": \"Red24bull\", \"Playtime\": \"06:43\", \"#\": 37, \"KD\": 0.0, \"Kills\": 0, \"Deaths\": 2, \"Assists\": 0, \"Damage >\": 114, \"Damage <\": 300, \"Gulag\": \"L\", \"% moving\": 49.3, \"Game duration\": \"27\", \"Loadout_1\": \"iw8_ar_mike4 - iw8_sm_t9capacity\", \"Loadout_2\": \"-\", \"Loadout_3\": \"-\"}, {\"Mode\": \"Trios\", \"Ended at\": \"2021-11-19T00:10:38\", \"Team\": \"eleven\", \"Username\": \"Yannou\", \"Playtime\": \"04:18\", \"#\": 48, \"KD\": 0.0, \"Kills\": 0, \"Deaths\": 1, \"Assists\": 0, \"Damage >\": 292, \"Damage <\": 254, \"Gulag\": \"L\", \"% moving\": 79.4, \"Game duration\": \"27\", \"Loadout_1\": \"iw8_sm_t9cqb - iw8_ar_t9damage\", \"Loadout_2\": \"iw8_pi_t9semiauto - iw8_fists\", \"Loadout_3\": \"-\"}, {\"Mode\": \"Trios\", \"Ended at\": \"2021-11-19T00:10:38\", \"Team\": \"twenty_eight\", \"Username\": \"Glex\", \"Playtime\": \"03:10\", \"#\": 50, \"KD\": 0.0, \"Kills\": 0, \"Deaths\": 2, \"Assists\": 0, \"Damage >\": 0, \"Damage <\": 200, \"Gulag\": \"L\", \"% moving\": 66.7, \"Game duration\": \"27\", \"Loadout_1\": \"iw8_sn_romeo700 - iw8_ar_valpha\", \"Loadout_2\": \"iw8_pi_t9semiauto - iw8_fists\", \"Loadout_3\": \"-\"}, {\"Mode\": \"Trios\", \"Ended at\": \"2021-11-19T00:10:38\", \"Team\": \"twenty_seven\", \"Username\": \"Moinolol\", \"Playtime\": \"21:52\", \"#\": 11, \"KD\": 2.5, \"Kills\": 5, \"Deaths\": 2, \"Assists\": 0, \"Damage >\": 1067, \"Damage <\": 520, \"Gulag\": \"W\", \"% moving\": 94.2, \"Game duration\": \"27\", \"Loadout_1\": \"iw8_sn_t9accurate - iw8_sm_t9fastfire\", \"Loadout_2\": \"iw8_pi_t9semiauto - iw8_fists\", \"Loadout_3\": \"-\"}, {\"Mode\": \"Trios\", \"Ended at\": \"2021-11-19T00:10:38\", \"Team\": \"forty_seven\", \"Username\": \"Winc\", \"Playtime\": \"03:29\", \"#\": 45, \"KD\": 0.0, \"Kills\": 0, \"Deaths\": 0, \"Assists\": 0, \"Damage >\": 305, \"Damage <\": 184, \"Gulag\": \"L\", \"% moving\": 90.6, \"Game duration\": \"27\", \"Loadout_1\": \"iw8_ar_sierra552 - iw8_pi_decho\", \"Loadout_2\": \"-\", \"Loadout_3\": \"-\"}, {\"Mode\": \"Trios\", \"Ended at\": \"2021-11-19T00:10:38\", \"Team\": \"ten\", \"Username\": \"mattgra\", \"Playtime\": \"09:16\", \"#\": 28, \"KD\": 0.2, \"Kills\": 1, \"Deaths\": 4, \"Assists\": 0, \"Damage >\": 411, \"Damage <\": 711, \"Gulag\": \"L\", \"% moving\": 72.4, \"Game duration\": \"27\", \"Loadout_1\": \"iw8_ar_t9british - iw8_sm_t9cqb\", \"Loadout_2\": \"iw8_sm_t9cqb - iw8_fists\", \"Loadout_3\": \"-\"}, {\"Mode\": \"Trios\", \"Ended at\": \"2021-11-19T00:10:38\", \"Team\": \"fourteen\", \"Username\": \"iBBQ_gonzo\", \"Playtime\": \"14:04\", \"#\": 20, \"KD\": 0.7, \"Kills\": 2, \"Deaths\": 3, \"Assists\": 0, \"Damage >\": 527, \"Damage <\": 574, \"Gulag\": \"L\", \"% moving\": 64.9, \"Game duration\": \"27\", \"Loadout_1\": \"iw8_ar_t9damage - iw8_sn_kilo98\", \"Loadout_2\": \"iw8_pi_t9semiauto - iw8_fists\", \"Loadout_3\": \"iw8_pi_t9revolver - iw8_fists\"}, {\"Mode\": \"Trios\", \"Ended at\": \"2021-11-19T00:10:38\", \"Team\": \"fifty_three\", \"Username\": \"adam60lol\", \"Playtime\": \"10:23\", \"#\": 23, \"KD\": 0.0, \"Kills\": 0, \"Deaths\": 2, \"Assists\": 0, \"Damage >\": 0, \"Damage <\": 200, \"Gulag\": \"L\", \"% moving\": 44.1, \"Game duration\": \"27\", \"Loadout_1\": \"iw8_ar_kilo433 - iw8_pi_mike1911\", \"Loadout_2\": \"-\", \"Loadout_3\": \"-\"}, {\"Mode\": \"Trios\", \"Ended at\": \"2021-11-19T00:10:38\", \"Team\": \"nineteen\", \"Username\": \"Hakuya\", \"Playtime\": \"27:37\", \"#\": 4, \"KD\": 1.5, \"Kills\": 6, \"Deaths\": 4, \"Assists\": 1, \"Damage >\": 2610, \"Damage <\": 870, \"Gulag\": \"L\", \"% moving\": 68.6, \"Game duration\": \"27\", \"Loadout_1\": \"iw8_lm_t9fastfire - iw8_sm_t9accurate\", \"Loadout_2\": \"iw8_pi_t9semiauto - iw8_fists\", \"Loadout_3\": \"iw8_lm_t9fastfire - iw8_fists\"}, {\"Mode\": \"Trios\", \"Ended at\": \"2021-11-19T00:10:38\", \"Team\": \"twenty_six\", \"Username\": \"Mathilde\", \"Playtime\": \"06:17\", \"#\": 44, \"KD\": 0.5, \"Kills\": 1, \"Deaths\": 2, \"Assists\": 0, \"Damage >\": 602, \"Damage <\": 300, \"Gulag\": \"W\", \"% moving\": 80.9, \"Game duration\": \"27\", \"Loadout_1\": \"iw8_ar_t9british - iw8_sm_t9cqb\", \"Loadout_2\": \"iw8_pi_t9semiauto - iw8_fists\", \"Loadout_3\": \"-\"}, {\"Mode\": \"Trios\", \"Ended at\": \"2021-11-19T00:10:38\", \"Team\": \"thirty_nine\", \"Username\": \"nj0990\", \"Playtime\": \"03:22\", \"#\": 47, \"KD\": 0.0, \"Kills\": 0, \"Deaths\": 1, \"Assists\": 0, \"Damage >\": 394, \"Damage <\": 100, \"Gulag\": \"L\", \"% moving\": 92.5, \"Game duration\": \"27\", \"Loadout_1\": \"iw8_ar_t9slowhandling - iw8_pi_mike1911\", \"Loadout_2\": \"iw8_pi_t9semiauto - iw8_fists\", \"Loadout_3\": \"-\"}, {\"Mode\": \"Trios\", \"Ended at\": \"2021-11-19T00:10:38\", \"Team\": \"twenty_four\", \"Username\": \"cfrancis92\", \"Playtime\": \"06:05\", \"#\": 40, \"KD\": 0.0, \"Kills\": 0, \"Deaths\": 2, \"Assists\": 0, \"Damage >\": 0, \"Damage <\": 260, \"Gulag\": \"W\", \"% moving\": 94.2, \"Game duration\": \"27\", \"Loadout_1\": \"iw8_ar_t9slowhandling - iw8_la_rpapa7\", \"Loadout_2\": \"iw8_pi_t9semiauto - iw8_fists\", \"Loadout_3\": \"-\"}, {\"Mode\": \"Trios\", \"Ended at\": \"2021-11-19T00:10:38\", \"Team\": \"thirty_five\", \"Username\": \"AndyYpsilon89\", \"Playtime\": \"11:55\", \"#\": 6, \"KD\": 0.0, \"Kills\": 0, \"Deaths\": 4, \"Assists\": 0, \"Damage >\": 44, \"Damage <\": 604, \"Gulag\": \"L\", \"% moving\": 53.2, \"Game duration\": \"27\", \"Loadout_1\": \"iw8_ar_t9damage - iw8_sn_kilo98\", \"Loadout_2\": \"iw8_pi_t9semiauto - iw8_fists\", \"Loadout_3\": \"iw8_pi_t9revolver - iw8_fists\"}, {\"Mode\": \"Trios\", \"Ended at\": \"2021-11-19T00:10:38\", \"Team\": \"twenty\", \"Username\": \"DeadlyXhen\", \"Playtime\": \"28:59\", \"#\": 1, \"KD\": 7.5, \"Kills\": 15, \"Deaths\": 2, \"Assists\": 2, \"Damage >\": 5100, \"Damage <\": 515, \"Gulag\": \"L\", \"% moving\": 94.7, \"Game duration\": \"27\", \"Loadout_1\": \"iw8_sm_t9handling - iw8_ar_t9british\", \"Loadout_2\": \"iw8_pi_t9semiauto - iw8_fists\", \"Loadout_3\": \"iw8_sh_t9pump - iw8_fists\"}, {\"Mode\": \"Trios\", \"Ended at\": \"2021-11-19T00:10:38\", \"Team\": \"twenty_five\", \"Username\": \"TT10only\", \"Playtime\": \"28:04\", \"#\": 2, \"KD\": 2.0, \"Kills\": 2, \"Deaths\": 1, \"Assists\": 0, \"Damage >\": 600, \"Damage <\": 476, \"Gulag\": \"L\", \"% moving\": 84.2, \"Game duration\": \"27\", \"Loadout_1\": \"iw8_sm_t9handling - iw8_pi_t9burst\", \"Loadout_2\": \"iw8_pi_t9semiauto - iw8_fists\", \"Loadout_3\": \"-\"}, {\"Mode\": \"Trios\", \"Ended at\": \"2021-11-19T00:10:38\", \"Team\": \"thirty_six\", \"Username\": \"aZure\", \"Playtime\": \"00:46\", \"#\": 19, \"KD\": 0.0, \"Kills\": 0, \"Deaths\": 0, \"Assists\": 0, \"Damage >\": 0, \"Damage <\": 0, \"Gulag\": \"L\", \"% moving\": 0.0, \"Game duration\": \"27\", \"Loadout_1\": \"-\", \"Loadout_2\": \"-\", \"Loadout_3\": \"-\"}, {\"Mode\": \"Trios\", \"Ended at\": \"2021-11-19T00:10:38\", \"Team\": \"axis\", \"Username\": \"Forrest Gump\", \"Playtime\": \"07:05\", \"#\": 36, \"KD\": 1.5, \"Kills\": 3, \"Deaths\": 2, \"Assists\": 3, \"Damage >\": 843, \"Damage <\": 501, \"Gulag\": \"W\", \"% moving\": 85.0, \"Game duration\": \"27\", \"Loadout_1\": \"iw8_ar_t9damage - iw8_sn_t9accurate\", \"Loadout_2\": \"-\", \"Loadout_3\": \"-\"}, {\"Mode\": \"Trios\", \"Ended at\": \"2021-11-19T00:10:38\", \"Team\": \"seven\", \"Username\": \"Der Hausmeister\", \"Playtime\": \"11:31\", \"#\": 22, \"KD\": 1.5, \"Kills\": 3, \"Deaths\": 2, \"Assists\": 0, \"Damage >\": 986, \"Damage <\": 330, \"Gulag\": \"W\", \"% moving\": 93.5, \"Game duration\": \"27\", \"Loadout_1\": \"iw8_ar_t9damage - iw8_sm_t9cqb\", \"Loadout_2\": \"-\", \"Loadout_3\": \"-\"}, {\"Mode\": \"Trios\", \"Ended at\": \"2021-11-19T00:10:38\", \"Team\": \"eighteen\", \"Username\": \"KerryCapija\", \"Playtime\": \"08:00\", \"#\": 34, \"KD\": 0.0, \"Kills\": 0, \"Deaths\": 2, \"Assists\": 0, \"Damage >\": 2, \"Damage <\": 300, \"Gulag\": \"L\", \"% moving\": 67.5, \"Game duration\": \"27\", \"Loadout_1\": \"iw8_ar_t9accurate - iw8_la_rpapa7\", \"Loadout_2\": \"-\", \"Loadout_3\": \"-\"}, {\"Mode\": \"Trios\", \"Ended at\": \"2021-11-19T00:10:38\", \"Team\": \"nine\", \"Username\": \"tommccann10\", \"Playtime\": \"07:52\", \"#\": 31, \"KD\": 0.0, \"Kills\": 0, \"Deaths\": 2, \"Assists\": 0, \"Damage >\": 212, \"Damage <\": 300, \"Gulag\": \"L\", \"% moving\": 91.9, \"Game duration\": \"27\", \"Loadout_1\": \"iw8_sm_mpapa5 - iw8_pi_golf21\", \"Loadout_2\": \"iw8_pi_t9semiauto - iw8_fists\", \"Loadout_3\": \"-\"}, {\"Mode\": \"Trios\", \"Ended at\": \"2021-11-19T00:10:38\", \"Team\": \"seven\", \"Username\": \"Karin_Ritter\", \"Playtime\": \"11:49\", \"#\": 22, \"KD\": 0.5, \"Kills\": 1, \"Deaths\": 2, \"Assists\": 1, \"Damage >\": 723, \"Damage <\": 452, \"Gulag\": \"W\", \"% moving\": 57.8, \"Game duration\": \"27\", \"Loadout_1\": \"iw8_ar_t9british - iw8_sm_t9cqb\", \"Loadout_2\": \"-\", \"Loadout_3\": \"-\"}, {\"Mode\": \"Trios\", \"Ended at\": \"2021-11-19T00:10:38\", \"Team\": \"thirteen\", \"Username\": \"TorTanKuL\", \"Playtime\": \"06:14\", \"#\": 39, \"KD\": 0.5, \"Kills\": 1, \"Deaths\": 2, \"Assists\": 1, \"Damage >\": 445, \"Damage <\": 387, \"Gulag\": \"W\", \"% moving\": 90.9, \"Game duration\": \"27\", \"Loadout_1\": \"iw8_sm_t9cqb - iw8_ar_mike4\", \"Loadout_2\": \"iw8_pi_t9semiauto - iw8_fists\", \"Loadout_3\": \"-\"}, {\"Mode\": \"Trios\", \"Ended at\": \"2021-11-19T00:10:38\", \"Team\": \"thirty_nine\", \"Username\": \"Pipimann\", \"Playtime\": \"04:16\", \"#\": 47, \"KD\": 0.5, \"Kills\": 1, \"Deaths\": 2, \"Assists\": 0, \"Damage >\": 268, \"Damage <\": 300, \"Gulag\": \"L\", \"% moving\": 90.0, \"Game duration\": \"27\", \"Loadout_1\": \"iw8_ar_t9damage - iw8_pi_t9semiauto\", \"Loadout_2\": \"-\", \"Loadout_3\": \"-\"}, {\"Mode\": \"Trios\", \"Ended at\": \"2021-11-19T00:10:38\", \"Team\": \"eleven\", \"Username\": \"Pomme\", \"Playtime\": \"04:20\", \"#\": 48, \"KD\": 2.0, \"Kills\": 2, \"Deaths\": 1, \"Assists\": 0, \"Damage >\": 496, \"Damage <\": 102, \"Gulag\": \"L\", \"% moving\": 89.9, \"Game duration\": \"27\", \"Loadout_1\": \"iw8_sn_t9accurate - iw8_pi_t9burst\", \"Loadout_2\": \"iw8_pi_t9semiauto - iw8_fists\", \"Loadout_3\": \"-\"}, {\"Mode\": \"Trios\", \"Ended at\": \"2021-11-19T00:10:38\", \"Team\": \"seven\", \"Username\": \"Bobo\", \"Playtime\": \"11:31\", \"#\": 22, \"KD\": 0.0, \"Kills\": 0, \"Deaths\": 2, \"Assists\": 0, \"Damage >\": 326, \"Damage <\": 300, \"Gulag\": \"L\", \"% moving\": 31.7, \"Game duration\": \"27\", \"Loadout_1\": \"iw8_ar_t9damage - iw8_sm_t9fastfire\", \"Loadout_2\": \"iw8_pi_t9semiauto - iw8_fists\", \"Loadout_3\": \"-\"}, {\"Mode\": \"Trios\", \"Ended at\": \"2021-11-19T00:10:38\", \"Team\": \"forty\", \"Username\": \"MaDICHSHUGEBRO\", \"Playtime\": \"01:30\", \"#\": 52, \"KD\": 0.0, \"Kills\": 0, \"Deaths\": 1, \"Assists\": 0, \"Damage >\": 2, \"Damage <\": 200, \"Gulag\": \"L\", \"% moving\": 82.0, \"Game duration\": \"27\", \"Loadout_1\": \"iw8_ar_t9standard - iw8_sm_t9fastfire\", \"Loadout_2\": \"-\", \"Loadout_3\": \"-\"}, {\"Mode\": \"Trios\", \"Ended at\": \"2021-11-19T00:10:38\", \"Team\": \"thirty_seven\", \"Username\": \"swipee\", \"Playtime\": \"02:28\", \"#\": 51, \"KD\": 0.0, \"Kills\": 0, \"Deaths\": 1, \"Assists\": 0, \"Damage >\": 190, \"Damage <\": 100, \"Gulag\": \"L\", \"% moving\": 92.4, \"Game duration\": \"27\", \"Loadout_1\": \"iw8_sn_t9accurate - iw8_ar_t9damage\", \"Loadout_2\": \"iw8_pi_t9semiauto - iw8_fists\", \"Loadout_3\": \"-\"}, {\"Mode\": \"Trios\", \"Ended at\": \"2021-11-19T00:10:38\", \"Team\": \"twenty\", \"Username\": \"THEFATHER\", \"Playtime\": \"28:42\", \"#\": 1, \"KD\": 3.5, \"Kills\": 7, \"Deaths\": 2, \"Assists\": 1, \"Damage >\": 2017, \"Damage <\": 696, \"Gulag\": \"W\", \"% moving\": 88.3, \"Game duration\": \"27\", \"Loadout_1\": \"iw8_lm_t9accurate - iw8_pi_golf21\", \"Loadout_2\": \"iw8_ar_t9slowfire - iw8_pi_mike\", \"Loadout_3\": \"-\"}, {\"Mode\": \"Trios\", \"Ended at\": \"2021-11-19T00:10:38\", \"Team\": \"allies\", \"Username\": \"MDGMMAXi\", \"Playtime\": \"10:43\", \"#\": 24, \"KD\": 2.0, \"Kills\": 4, \"Deaths\": 2, \"Assists\": 0, \"Damage >\": 1771, \"Damage <\": 319, \"Gulag\": \"W\", \"% moving\": 94.9, \"Game duration\": \"27\", \"Loadout_1\": \"iw8_sm_t9standard - iw8_sn_t9accurate\", \"Loadout_2\": \"-\", \"Loadout_3\": \"-\"}, {\"Mode\": \"Trios\", \"Ended at\": \"2021-11-19T00:10:38\", \"Team\": \"twenty_five\", \"Username\": \"Titatan so garso\", \"Playtime\": \"28:05\", \"#\": 2, \"KD\": 0.7, \"Kills\": 2, \"Deaths\": 3, \"Assists\": 4, \"Damage >\": 956, \"Damage <\": 604, \"Gulag\": \"L\", \"% moving\": 87.7, \"Game duration\": \"27\", \"Loadout_1\": \"iw8_me_riotshield - iw8_pi_t9burst\", \"Loadout_2\": \"iw8_pi_t9semiauto - iw8_fists\", \"Loadout_3\": \"iw8_ar_t9fasthandling - iw8_fists\"}, {\"Mode\": \"Trios\", \"Ended at\": \"2021-11-19T00:10:38\", \"Team\": \"thirty_seven\", \"Username\": \"tripios404\", \"Playtime\": \"02:12\", \"#\": 51, \"KD\": 0.0, \"Kills\": 0, \"Deaths\": 2, \"Assists\": 0, \"Damage >\": 4, \"Damage <\": 300, \"Gulag\": \"L\", \"% moving\": 84.4, \"Game duration\": \"27\", \"Loadout_1\": \"iw8_ar_mike4 - iw8_pi_t9burst\", \"Loadout_2\": \"iw8_pi_t9semiauto - iw8_fists\", \"Loadout_3\": \"-\"}, {\"Mode\": \"Trios\", \"Ended at\": \"2021-11-19T00:10:38\", \"Team\": \"eight\", \"Username\": \"MrRus\", \"Playtime\": \"06:23\", \"#\": 43, \"KD\": 1.0, \"Kills\": 2, \"Deaths\": 2, \"Assists\": 0, \"Damage >\": 483, \"Damage <\": 339, \"Gulag\": \"W\", \"% moving\": 84.1, \"Game duration\": \"27\", \"Loadout_1\": \"iw8_sm_t9spray - iw8_ar_t9standard\", \"Loadout_2\": \"iw8_pi_t9semiauto - iw8_fists\", \"Loadout_3\": \"-\"}, {\"Mode\": \"Trios\", \"Ended at\": \"2021-11-19T00:10:38\", \"Team\": \"forty_eight\", \"Username\": \"Misterxz\", \"Playtime\": \"16:33\", \"#\": 17, \"KD\": 1.5, \"Kills\": 3, \"Deaths\": 2, \"Assists\": 2, \"Damage >\": 2251, \"Damage <\": 336, \"Gulag\": \"L\", \"% moving\": 94.5, \"Game duration\": \"27\", \"Loadout_1\": \"iw8_sm_t9cqb - iw8_sn_t9accurate\", \"Loadout_2\": \"iw8_pi_t9semiauto - iw8_fists\", \"Loadout_3\": \"-\"}, {\"Mode\": \"Trios\", \"Ended at\": \"2021-11-19T00:10:38\", \"Team\": \"twenty_four\", \"Username\": \"D_Mac_maverick\", \"Playtime\": \"06:03\", \"#\": 40, \"KD\": 0.0, \"Kills\": 0, \"Deaths\": 2, \"Assists\": 0, \"Damage >\": 101, \"Damage <\": 356, \"Gulag\": \"L\", \"% moving\": 44.7, \"Game duration\": \"27\", \"Loadout_1\": \"iw8_ar_kilo433 - iw8_la_rpapa7\", \"Loadout_2\": \"-\", \"Loadout_3\": \"-\"}, {\"Mode\": \"Trios\", \"Ended at\": \"2021-11-19T00:10:38\", \"Team\": \"forty_seven\", \"Username\": \"TrueTDM\", \"Playtime\": \"04:19\", \"#\": 45, \"KD\": 0.0, \"Kills\": 0, \"Deaths\": 1, \"Assists\": 0, \"Damage >\": 113, \"Damage <\": 104, \"Gulag\": \"L\", \"% moving\": 95.1, \"Game duration\": \"27\", \"Loadout_1\": \"iw8_ar_mike4 - iw8_sm_t9fastfire\", \"Loadout_2\": \"iw8_pi_t9semiauto - iw8_fists\", \"Loadout_3\": \"-\"}, {\"Mode\": \"Trios\", \"Ended at\": \"2021-11-19T00:10:38\", \"Team\": \"thirty_eight\", \"Username\": \"Dononeabaygo182\", \"Playtime\": \"06:15\", \"#\": 38, \"KD\": 1.5, \"Kills\": 3, \"Deaths\": 2, \"Assists\": 0, \"Damage >\": 686, \"Damage <\": 394, \"Gulag\": \"W\", \"% moving\": 95.5, \"Game duration\": \"27\", \"Loadout_1\": \"iw8_ar_t9standard - iw8_sm_t9cqb\", \"Loadout_2\": \"-\", \"Loadout_3\": \"-\"}, {\"Mode\": \"Trios\", \"Ended at\": \"2021-11-19T00:10:38\", \"Team\": \"twenty_six\", \"Username\": \"Sieglinde\", \"Playtime\": \"06:20\", \"#\": 44, \"KD\": 0.3, \"Kills\": 1, \"Deaths\": 3, \"Assists\": 0, \"Damage >\": 215, \"Damage <\": 410, \"Gulag\": \"L\", \"% moving\": 52.3, \"Game duration\": \"27\", \"Loadout_1\": \"iw8_ar_mike4 - iw8_sm_t9cqb\", \"Loadout_2\": \"iw8_pi_t9semiauto - iw8_fists\", \"Loadout_3\": \"iw8_lm_t9fastfire - iw8_fists\"}, {\"Mode\": \"Trios\", \"Ended at\": \"2021-11-19T00:10:38\", \"Team\": \"thirty\", \"Username\": \"VeeDawg\", \"Playtime\": \"18:56\", \"#\": 16, \"KD\": 1.0, \"Kills\": 2, \"Deaths\": 2, \"Assists\": 2, \"Damage >\": 766, \"Damage <\": 575, \"Gulag\": \"W\", \"% moving\": 91.4, \"Game duration\": \"27\", \"Loadout_1\": \"iw8_sm_t9cqb - iw8_me_t9sai\", \"Loadout_2\": \"iw8_pi_t9semiauto - iw8_fists\", \"Loadout_3\": \"-\"}, {\"Mode\": \"Trios\", \"Ended at\": \"2021-11-19T00:10:38\", \"Team\": \"twenty_three\", \"Username\": \"cassa_17\", \"Playtime\": \"21:44\", \"#\": 8, \"KD\": 0.5, \"Kills\": 1, \"Deaths\": 2, \"Assists\": 0, \"Damage >\": 491, \"Damage <\": 560, \"Gulag\": \"L\", \"% moving\": 52.6, \"Game duration\": \"27\", \"Loadout_1\": \"iw8_ar_t9damage - iw8_sm_t9spray\", \"Loadout_2\": \"iw8_pi_t9semiauto - iw8_fists\", \"Loadout_3\": \"-\"}, {\"Mode\": \"Trios\", \"Ended at\": \"2021-11-19T00:10:38\", \"Team\": \"seventeen\", \"Username\": \"b3lamafia\", \"Playtime\": \"21:49\", \"#\": 9, \"KD\": 2.5, \"Kills\": 5, \"Deaths\": 2, \"Assists\": 2, \"Damage >\": 1694, \"Damage <\": 571, \"Gulag\": \"W\", \"% moving\": 95.1, \"Game duration\": \"27\", \"Loadout_1\": \"iw8_ar_t9slowhandling - iw8_sm_t9handling\", \"Loadout_2\": \"-\", \"Loadout_3\": \"-\"}]}}, {\"mode\": \"vega-lite\"});\n",
       "</script>"
      ],
      "text/plain": [
       "alt.LayerChart(...)"
      ]
     },
     "execution_count": 79,
     "metadata": {},
     "output_type": "execute_result"
    }
   ],
   "source": [
    "hist2 = base.mark_bar().encode(\n",
    "    x=alt.X('KD:Q', bin=alt.Bin(step=0.5)), \n",
    "    y=alt.Y('count()', axis=alt.Axis(format='', title='n Players')),\n",
    "    tooltip=['KD', 'count()'],\n",
    "    color=alt.value(\"orange\")\n",
    "            \n",
    ").properties(width=400, height=300)\n",
    "\n",
    "red_median_line2 = base.mark_rule(color='black').encode(\n",
    "    x=alt.X('median(KD):Q', title='KD'),\n",
    "    size=alt.value(2)\n",
    ")\n",
    "hist2 + red_median_line2"
   ]
  },
  {
   "cell_type": "markdown",
   "id": "e2dafc86-86cd-4c01-8c93-b83e721f192d",
   "metadata": {},
   "source": [
    "#### Using Plotly"
   ]
  },
  {
   "cell_type": "markdown",
   "id": "1cd44094-95d5-4d14-81cf-2798316fa689",
   "metadata": {},
   "source": [
    "##### Tables"
   ]
  },
  {
   "cell_type": "code",
   "execution_count": 80,
   "id": "16041492-0cb8-4c8c-98e4-0349a45e6cad",
   "metadata": {},
   "outputs": [],
   "source": [
    "import plotly.graph_objects as go"
   ]
  },
  {
   "cell_type": "code",
   "execution_count": 81,
   "id": "24852a5a-79ca-41d2-9d5e-7f50dce2de63",
   "metadata": {},
   "outputs": [
    {
     "data": {
      "text/html": [
       "<div>\n",
       "<style scoped>\n",
       "    .dataframe tbody tr th:only-of-type {\n",
       "        vertical-align: middle;\n",
       "    }\n",
       "\n",
       "    .dataframe tbody tr th {\n",
       "        vertical-align: top;\n",
       "    }\n",
       "\n",
       "    .dataframe thead th {\n",
       "        text-align: right;\n",
       "    }\n",
       "</style>\n",
       "<table border=\"1\" class=\"dataframe\">\n",
       "  <thead>\n",
       "    <tr style=\"text-align: right;\">\n",
       "      <th></th>\n",
       "      <th>Player</th>\n",
       "      <th>KD</th>\n",
       "      <th>K D A</th>\n",
       "      <th>Loadouts</th>\n",
       "    </tr>\n",
       "  </thead>\n",
       "  <tbody>\n",
       "    <tr>\n",
       "      <th>0</th>\n",
       "      <td>Moinolol</td>\n",
       "      <td>2.5</td>\n",
       "      <td>5 | 2 | 0</td>\n",
       "      <td>K31 - MAC-10, Pistol</td>\n",
       "    </tr>\n",
       "    <tr>\n",
       "      <th>1</th>\n",
       "      <td>nicoyzovitch</td>\n",
       "      <td>1.3</td>\n",
       "      <td>4 | 3 | 0</td>\n",
       "      <td>MG82 - OTs 9, Pistol, Pistol</td>\n",
       "    </tr>\n",
       "    <tr>\n",
       "      <th>2</th>\n",
       "      <td>gentil_renard</td>\n",
       "      <td>0.2</td>\n",
       "      <td>1 | 4 | 1</td>\n",
       "      <td>ASVAL - K31, ground AR</td>\n",
       "    </tr>\n",
       "    <tr>\n",
       "      <th>3</th>\n",
       "      <td>Team</td>\n",
       "      <td>1.1</td>\n",
       "      <td>10 | 9 | 1</td>\n",
       "      <td></td>\n",
       "    </tr>\n",
       "  </tbody>\n",
       "</table>\n",
       "</div>"
      ],
      "text/plain": [
       "          Player   KD       K D A                      Loadouts\n",
       "0       Moinolol  2.5   5 | 2 | 0          K31 - MAC-10, Pistol\n",
       "1   nicoyzovitch  1.3   4 | 3 | 0  MG82 - OTs 9, Pistol, Pistol\n",
       "2  gentil_renard  0.2   1 | 4 | 1        ASVAL - K31, ground AR\n",
       "3           Team  1.1  10 | 9 | 1                              "
      ]
     },
     "execution_count": 81,
     "metadata": {},
     "output_type": "execute_result"
    }
   ],
   "source": [
    "team_info"
   ]
  },
  {
   "cell_type": "code",
   "execution_count": 82,
   "id": "bcc61cbc-cd61-4a9c-88e2-a3a2df3c6f1a",
   "metadata": {},
   "outputs": [
    {
     "data": {
      "application/vnd.plotly.v1+json": {
       "config": {
        "plotlyServerURL": "https://plot.ly"
       },
       "data": [
        {
         "cells": {
          "align": "left",
          "values": [
           [
            "Moinolol",
            "nicoyzovitch",
            "gentil_renard",
            "Team"
           ],
           [
            2.5,
            1.3,
            0.2,
            1.1
           ],
           [
            "5 | 2 | 0",
            "4 | 3 | 0",
            "1 | 4 | 1",
            "10 | 9 | 1"
           ],
           [
            "K31 - MAC-10, Pistol",
            "MG82 - OTs 9, Pistol, Pistol",
            "ASVAL - K31, ground AR",
            ""
           ]
          ]
         },
         "columnwidth": [
          30,
          20,
          20,
          90
         ],
         "header": {
          "align": [
           "left"
          ],
          "fill": {
           "color": "#F0F2F6"
          },
          "line": {
           "color": "lightgray"
          },
          "values": [
           "Player",
           "KD",
           "K D A",
           "Loadouts"
          ]
         },
         "type": "table"
        }
       ],
       "layout": {
        "height": 250,
        "margin": {
         "b": 0,
         "l": 0,
         "r": 1,
         "t": 0
        },
        "template": {
         "data": {
          "bar": [
           {
            "error_x": {
             "color": "#2a3f5f"
            },
            "error_y": {
             "color": "#2a3f5f"
            },
            "marker": {
             "line": {
              "color": "#E5ECF6",
              "width": 0.5
             },
             "pattern": {
              "fillmode": "overlay",
              "size": 10,
              "solidity": 0.2
             }
            },
            "type": "bar"
           }
          ],
          "barpolar": [
           {
            "marker": {
             "line": {
              "color": "#E5ECF6",
              "width": 0.5
             },
             "pattern": {
              "fillmode": "overlay",
              "size": 10,
              "solidity": 0.2
             }
            },
            "type": "barpolar"
           }
          ],
          "carpet": [
           {
            "aaxis": {
             "endlinecolor": "#2a3f5f",
             "gridcolor": "white",
             "linecolor": "white",
             "minorgridcolor": "white",
             "startlinecolor": "#2a3f5f"
            },
            "baxis": {
             "endlinecolor": "#2a3f5f",
             "gridcolor": "white",
             "linecolor": "white",
             "minorgridcolor": "white",
             "startlinecolor": "#2a3f5f"
            },
            "type": "carpet"
           }
          ],
          "choropleth": [
           {
            "colorbar": {
             "outlinewidth": 0,
             "ticks": ""
            },
            "type": "choropleth"
           }
          ],
          "contour": [
           {
            "colorbar": {
             "outlinewidth": 0,
             "ticks": ""
            },
            "colorscale": [
             [
              0,
              "#0d0887"
             ],
             [
              0.1111111111111111,
              "#46039f"
             ],
             [
              0.2222222222222222,
              "#7201a8"
             ],
             [
              0.3333333333333333,
              "#9c179e"
             ],
             [
              0.4444444444444444,
              "#bd3786"
             ],
             [
              0.5555555555555556,
              "#d8576b"
             ],
             [
              0.6666666666666666,
              "#ed7953"
             ],
             [
              0.7777777777777778,
              "#fb9f3a"
             ],
             [
              0.8888888888888888,
              "#fdca26"
             ],
             [
              1,
              "#f0f921"
             ]
            ],
            "type": "contour"
           }
          ],
          "contourcarpet": [
           {
            "colorbar": {
             "outlinewidth": 0,
             "ticks": ""
            },
            "type": "contourcarpet"
           }
          ],
          "heatmap": [
           {
            "colorbar": {
             "outlinewidth": 0,
             "ticks": ""
            },
            "colorscale": [
             [
              0,
              "#0d0887"
             ],
             [
              0.1111111111111111,
              "#46039f"
             ],
             [
              0.2222222222222222,
              "#7201a8"
             ],
             [
              0.3333333333333333,
              "#9c179e"
             ],
             [
              0.4444444444444444,
              "#bd3786"
             ],
             [
              0.5555555555555556,
              "#d8576b"
             ],
             [
              0.6666666666666666,
              "#ed7953"
             ],
             [
              0.7777777777777778,
              "#fb9f3a"
             ],
             [
              0.8888888888888888,
              "#fdca26"
             ],
             [
              1,
              "#f0f921"
             ]
            ],
            "type": "heatmap"
           }
          ],
          "heatmapgl": [
           {
            "colorbar": {
             "outlinewidth": 0,
             "ticks": ""
            },
            "colorscale": [
             [
              0,
              "#0d0887"
             ],
             [
              0.1111111111111111,
              "#46039f"
             ],
             [
              0.2222222222222222,
              "#7201a8"
             ],
             [
              0.3333333333333333,
              "#9c179e"
             ],
             [
              0.4444444444444444,
              "#bd3786"
             ],
             [
              0.5555555555555556,
              "#d8576b"
             ],
             [
              0.6666666666666666,
              "#ed7953"
             ],
             [
              0.7777777777777778,
              "#fb9f3a"
             ],
             [
              0.8888888888888888,
              "#fdca26"
             ],
             [
              1,
              "#f0f921"
             ]
            ],
            "type": "heatmapgl"
           }
          ],
          "histogram": [
           {
            "marker": {
             "pattern": {
              "fillmode": "overlay",
              "size": 10,
              "solidity": 0.2
             }
            },
            "type": "histogram"
           }
          ],
          "histogram2d": [
           {
            "colorbar": {
             "outlinewidth": 0,
             "ticks": ""
            },
            "colorscale": [
             [
              0,
              "#0d0887"
             ],
             [
              0.1111111111111111,
              "#46039f"
             ],
             [
              0.2222222222222222,
              "#7201a8"
             ],
             [
              0.3333333333333333,
              "#9c179e"
             ],
             [
              0.4444444444444444,
              "#bd3786"
             ],
             [
              0.5555555555555556,
              "#d8576b"
             ],
             [
              0.6666666666666666,
              "#ed7953"
             ],
             [
              0.7777777777777778,
              "#fb9f3a"
             ],
             [
              0.8888888888888888,
              "#fdca26"
             ],
             [
              1,
              "#f0f921"
             ]
            ],
            "type": "histogram2d"
           }
          ],
          "histogram2dcontour": [
           {
            "colorbar": {
             "outlinewidth": 0,
             "ticks": ""
            },
            "colorscale": [
             [
              0,
              "#0d0887"
             ],
             [
              0.1111111111111111,
              "#46039f"
             ],
             [
              0.2222222222222222,
              "#7201a8"
             ],
             [
              0.3333333333333333,
              "#9c179e"
             ],
             [
              0.4444444444444444,
              "#bd3786"
             ],
             [
              0.5555555555555556,
              "#d8576b"
             ],
             [
              0.6666666666666666,
              "#ed7953"
             ],
             [
              0.7777777777777778,
              "#fb9f3a"
             ],
             [
              0.8888888888888888,
              "#fdca26"
             ],
             [
              1,
              "#f0f921"
             ]
            ],
            "type": "histogram2dcontour"
           }
          ],
          "mesh3d": [
           {
            "colorbar": {
             "outlinewidth": 0,
             "ticks": ""
            },
            "type": "mesh3d"
           }
          ],
          "parcoords": [
           {
            "line": {
             "colorbar": {
              "outlinewidth": 0,
              "ticks": ""
             }
            },
            "type": "parcoords"
           }
          ],
          "pie": [
           {
            "automargin": true,
            "type": "pie"
           }
          ],
          "scatter": [
           {
            "marker": {
             "colorbar": {
              "outlinewidth": 0,
              "ticks": ""
             }
            },
            "type": "scatter"
           }
          ],
          "scatter3d": [
           {
            "line": {
             "colorbar": {
              "outlinewidth": 0,
              "ticks": ""
             }
            },
            "marker": {
             "colorbar": {
              "outlinewidth": 0,
              "ticks": ""
             }
            },
            "type": "scatter3d"
           }
          ],
          "scattercarpet": [
           {
            "marker": {
             "colorbar": {
              "outlinewidth": 0,
              "ticks": ""
             }
            },
            "type": "scattercarpet"
           }
          ],
          "scattergeo": [
           {
            "marker": {
             "colorbar": {
              "outlinewidth": 0,
              "ticks": ""
             }
            },
            "type": "scattergeo"
           }
          ],
          "scattergl": [
           {
            "marker": {
             "colorbar": {
              "outlinewidth": 0,
              "ticks": ""
             }
            },
            "type": "scattergl"
           }
          ],
          "scattermapbox": [
           {
            "marker": {
             "colorbar": {
              "outlinewidth": 0,
              "ticks": ""
             }
            },
            "type": "scattermapbox"
           }
          ],
          "scatterpolar": [
           {
            "marker": {
             "colorbar": {
              "outlinewidth": 0,
              "ticks": ""
             }
            },
            "type": "scatterpolar"
           }
          ],
          "scatterpolargl": [
           {
            "marker": {
             "colorbar": {
              "outlinewidth": 0,
              "ticks": ""
             }
            },
            "type": "scatterpolargl"
           }
          ],
          "scatterternary": [
           {
            "marker": {
             "colorbar": {
              "outlinewidth": 0,
              "ticks": ""
             }
            },
            "type": "scatterternary"
           }
          ],
          "surface": [
           {
            "colorbar": {
             "outlinewidth": 0,
             "ticks": ""
            },
            "colorscale": [
             [
              0,
              "#0d0887"
             ],
             [
              0.1111111111111111,
              "#46039f"
             ],
             [
              0.2222222222222222,
              "#7201a8"
             ],
             [
              0.3333333333333333,
              "#9c179e"
             ],
             [
              0.4444444444444444,
              "#bd3786"
             ],
             [
              0.5555555555555556,
              "#d8576b"
             ],
             [
              0.6666666666666666,
              "#ed7953"
             ],
             [
              0.7777777777777778,
              "#fb9f3a"
             ],
             [
              0.8888888888888888,
              "#fdca26"
             ],
             [
              1,
              "#f0f921"
             ]
            ],
            "type": "surface"
           }
          ],
          "table": [
           {
            "cells": {
             "fill": {
              "color": "#EBF0F8"
             },
             "line": {
              "color": "white"
             }
            },
            "header": {
             "fill": {
              "color": "#C8D4E3"
             },
             "line": {
              "color": "white"
             }
            },
            "type": "table"
           }
          ]
         },
         "layout": {
          "annotationdefaults": {
           "arrowcolor": "#2a3f5f",
           "arrowhead": 0,
           "arrowwidth": 1
          },
          "autotypenumbers": "strict",
          "coloraxis": {
           "colorbar": {
            "outlinewidth": 0,
            "ticks": ""
           }
          },
          "colorscale": {
           "diverging": [
            [
             0,
             "#8e0152"
            ],
            [
             0.1,
             "#c51b7d"
            ],
            [
             0.2,
             "#de77ae"
            ],
            [
             0.3,
             "#f1b6da"
            ],
            [
             0.4,
             "#fde0ef"
            ],
            [
             0.5,
             "#f7f7f7"
            ],
            [
             0.6,
             "#e6f5d0"
            ],
            [
             0.7,
             "#b8e186"
            ],
            [
             0.8,
             "#7fbc41"
            ],
            [
             0.9,
             "#4d9221"
            ],
            [
             1,
             "#276419"
            ]
           ],
           "sequential": [
            [
             0,
             "#0d0887"
            ],
            [
             0.1111111111111111,
             "#46039f"
            ],
            [
             0.2222222222222222,
             "#7201a8"
            ],
            [
             0.3333333333333333,
             "#9c179e"
            ],
            [
             0.4444444444444444,
             "#bd3786"
            ],
            [
             0.5555555555555556,
             "#d8576b"
            ],
            [
             0.6666666666666666,
             "#ed7953"
            ],
            [
             0.7777777777777778,
             "#fb9f3a"
            ],
            [
             0.8888888888888888,
             "#fdca26"
            ],
            [
             1,
             "#f0f921"
            ]
           ],
           "sequentialminus": [
            [
             0,
             "#0d0887"
            ],
            [
             0.1111111111111111,
             "#46039f"
            ],
            [
             0.2222222222222222,
             "#7201a8"
            ],
            [
             0.3333333333333333,
             "#9c179e"
            ],
            [
             0.4444444444444444,
             "#bd3786"
            ],
            [
             0.5555555555555556,
             "#d8576b"
            ],
            [
             0.6666666666666666,
             "#ed7953"
            ],
            [
             0.7777777777777778,
             "#fb9f3a"
            ],
            [
             0.8888888888888888,
             "#fdca26"
            ],
            [
             1,
             "#f0f921"
            ]
           ]
          },
          "colorway": [
           "#636efa",
           "#EF553B",
           "#00cc96",
           "#ab63fa",
           "#FFA15A",
           "#19d3f3",
           "#FF6692",
           "#B6E880",
           "#FF97FF",
           "#FECB52"
          ],
          "font": {
           "color": "#2a3f5f"
          },
          "geo": {
           "bgcolor": "white",
           "lakecolor": "white",
           "landcolor": "#E5ECF6",
           "showlakes": true,
           "showland": true,
           "subunitcolor": "white"
          },
          "hoverlabel": {
           "align": "left"
          },
          "hovermode": "closest",
          "mapbox": {
           "style": "light"
          },
          "paper_bgcolor": "white",
          "plot_bgcolor": "#E5ECF6",
          "polar": {
           "angularaxis": {
            "gridcolor": "white",
            "linecolor": "white",
            "ticks": ""
           },
           "bgcolor": "#E5ECF6",
           "radialaxis": {
            "gridcolor": "white",
            "linecolor": "white",
            "ticks": ""
           }
          },
          "scene": {
           "xaxis": {
            "backgroundcolor": "#E5ECF6",
            "gridcolor": "white",
            "gridwidth": 2,
            "linecolor": "white",
            "showbackground": true,
            "ticks": "",
            "zerolinecolor": "white"
           },
           "yaxis": {
            "backgroundcolor": "#E5ECF6",
            "gridcolor": "white",
            "gridwidth": 2,
            "linecolor": "white",
            "showbackground": true,
            "ticks": "",
            "zerolinecolor": "white"
           },
           "zaxis": {
            "backgroundcolor": "#E5ECF6",
            "gridcolor": "white",
            "gridwidth": 2,
            "linecolor": "white",
            "showbackground": true,
            "ticks": "",
            "zerolinecolor": "white"
           }
          },
          "shapedefaults": {
           "line": {
            "color": "#2a3f5f"
           }
          },
          "ternary": {
           "aaxis": {
            "gridcolor": "white",
            "linecolor": "white",
            "ticks": ""
           },
           "baxis": {
            "gridcolor": "white",
            "linecolor": "white",
            "ticks": ""
           },
           "bgcolor": "#E5ECF6",
           "caxis": {
            "gridcolor": "white",
            "linecolor": "white",
            "ticks": ""
           }
          },
          "title": {
           "x": 0.05
          },
          "xaxis": {
           "automargin": true,
           "gridcolor": "white",
           "linecolor": "white",
           "ticks": "",
           "title": {
            "standoff": 15
           },
           "zerolinecolor": "white",
           "zerolinewidth": 2
          },
          "yaxis": {
           "automargin": true,
           "gridcolor": "white",
           "linecolor": "white",
           "ticks": "",
           "title": {
            "standoff": 15
           },
           "zerolinecolor": "white",
           "zerolinewidth": 2
          }
         }
        },
        "width": 600
       }
      },
      "image/png": "[encoded data removed]",
      "text/html": [
       "<div>                            <div id=\"79e75e95-e7be-4e70-b822-b966dd9410cc\" class=\"plotly-graph-div\" style=\"height:250px; width:600px;\"></div>            <script type=\"text/javascript\">                require([\"plotly\"], function(Plotly) {                    window.PLOTLYENV=window.PLOTLYENV || {};                                    if (document.getElementById(\"79e75e95-e7be-4e70-b822-b966dd9410cc\")) {                    Plotly.newPlot(                        \"79e75e95-e7be-4e70-b822-b966dd9410cc\",                        [{\"cells\":{\"align\":\"left\",\"values\":[[\"Moinolol\",\"nicoyzovitch\",\"gentil_renard\",\"Team\"],[2.5,1.3,0.2,1.1],[\"5 | 2 | 0\",\"4 | 3 | 0\",\"1 | 4 | 1\",\"10 | 9 | 1\"],[\"K31 - MAC-10, Pistol\",\"MG82 - OTs 9, Pistol, Pistol\",\"ASVAL - K31, ground AR\",\"\"]]},\"columnwidth\":[30,20,20,90],\"header\":{\"align\":[\"left\"],\"fill\":{\"color\":\"#F0F2F6\"},\"line\":{\"color\":\"lightgray\"},\"values\":[\"Player\",\"KD\",\"K D A\",\"Loadouts\"]},\"type\":\"table\"}],                        {\"height\":250,\"margin\":{\"b\":0,\"l\":0,\"r\":1,\"t\":0},\"template\":{\"data\":{\"bar\":[{\"error_x\":{\"color\":\"#2a3f5f\"},\"error_y\":{\"color\":\"#2a3f5f\"},\"marker\":{\"line\":{\"color\":\"#E5ECF6\",\"width\":0.5},\"pattern\":{\"fillmode\":\"overlay\",\"size\":10,\"solidity\":0.2}},\"type\":\"bar\"}],\"barpolar\":[{\"marker\":{\"line\":{\"color\":\"#E5ECF6\",\"width\":0.5},\"pattern\":{\"fillmode\":\"overlay\",\"size\":10,\"solidity\":0.2}},\"type\":\"barpolar\"}],\"carpet\":[{\"aaxis\":{\"endlinecolor\":\"#2a3f5f\",\"gridcolor\":\"white\",\"linecolor\":\"white\",\"minorgridcolor\":\"white\",\"startlinecolor\":\"#2a3f5f\"},\"baxis\":{\"endlinecolor\":\"#2a3f5f\",\"gridcolor\":\"white\",\"linecolor\":\"white\",\"minorgridcolor\":\"white\",\"startlinecolor\":\"#2a3f5f\"},\"type\":\"carpet\"}],\"choropleth\":[{\"colorbar\":{\"outlinewidth\":0,\"ticks\":\"\"},\"type\":\"choropleth\"}],\"contour\":[{\"colorbar\":{\"outlinewidth\":0,\"ticks\":\"\"},\"colorscale\":[[0.0,\"#0d0887\"],[0.1111111111111111,\"#46039f\"],[0.2222222222222222,\"#7201a8\"],[0.3333333333333333,\"#9c179e\"],[0.4444444444444444,\"#bd3786\"],[0.5555555555555556,\"#d8576b\"],[0.6666666666666666,\"#ed7953\"],[0.7777777777777778,\"#fb9f3a\"],[0.8888888888888888,\"#fdca26\"],[1.0,\"#f0f921\"]],\"type\":\"contour\"}],\"contourcarpet\":[{\"colorbar\":{\"outlinewidth\":0,\"ticks\":\"\"},\"type\":\"contourcarpet\"}],\"heatmap\":[{\"colorbar\":{\"outlinewidth\":0,\"ticks\":\"\"},\"colorscale\":[[0.0,\"#0d0887\"],[0.1111111111111111,\"#46039f\"],[0.2222222222222222,\"#7201a8\"],[0.3333333333333333,\"#9c179e\"],[0.4444444444444444,\"#bd3786\"],[0.5555555555555556,\"#d8576b\"],[0.6666666666666666,\"#ed7953\"],[0.7777777777777778,\"#fb9f3a\"],[0.8888888888888888,\"#fdca26\"],[1.0,\"#f0f921\"]],\"type\":\"heatmap\"}],\"heatmapgl\":[{\"colorbar\":{\"outlinewidth\":0,\"ticks\":\"\"},\"colorscale\":[[0.0,\"#0d0887\"],[0.1111111111111111,\"#46039f\"],[0.2222222222222222,\"#7201a8\"],[0.3333333333333333,\"#9c179e\"],[0.4444444444444444,\"#bd3786\"],[0.5555555555555556,\"#d8576b\"],[0.6666666666666666,\"#ed7953\"],[0.7777777777777778,\"#fb9f3a\"],[0.8888888888888888,\"#fdca26\"],[1.0,\"#f0f921\"]],\"type\":\"heatmapgl\"}],\"histogram\":[{\"marker\":{\"pattern\":{\"fillmode\":\"overlay\",\"size\":10,\"solidity\":0.2}},\"type\":\"histogram\"}],\"histogram2d\":[{\"colorbar\":{\"outlinewidth\":0,\"ticks\":\"\"},\"colorscale\":[[0.0,\"#0d0887\"],[0.1111111111111111,\"#46039f\"],[0.2222222222222222,\"#7201a8\"],[0.3333333333333333,\"#9c179e\"],[0.4444444444444444,\"#bd3786\"],[0.5555555555555556,\"#d8576b\"],[0.6666666666666666,\"#ed7953\"],[0.7777777777777778,\"#fb9f3a\"],[0.8888888888888888,\"#fdca26\"],[1.0,\"#f0f921\"]],\"type\":\"histogram2d\"}],\"histogram2dcontour\":[{\"colorbar\":{\"outlinewidth\":0,\"ticks\":\"\"},\"colorscale\":[[0.0,\"#0d0887\"],[0.1111111111111111,\"#46039f\"],[0.2222222222222222,\"#7201a8\"],[0.3333333333333333,\"#9c179e\"],[0.4444444444444444,\"#bd3786\"],[0.5555555555555556,\"#d8576b\"],[0.6666666666666666,\"#ed7953\"],[0.7777777777777778,\"#fb9f3a\"],[0.8888888888888888,\"#fdca26\"],[1.0,\"#f0f921\"]],\"type\":\"histogram2dcontour\"}],\"mesh3d\":[{\"colorbar\":{\"outlinewidth\":0,\"ticks\":\"\"},\"type\":\"mesh3d\"}],\"parcoords\":[{\"line\":{\"colorbar\":{\"outlinewidth\":0,\"ticks\":\"\"}},\"type\":\"parcoords\"}],\"pie\":[{\"automargin\":true,\"type\":\"pie\"}],\"scatter\":[{\"marker\":{\"colorbar\":{\"outlinewidth\":0,\"ticks\":\"\"}},\"type\":\"scatter\"}],\"scatter3d\":[{\"line\":{\"colorbar\":{\"outlinewidth\":0,\"ticks\":\"\"}},\"marker\":{\"colorbar\":{\"outlinewidth\":0,\"ticks\":\"\"}},\"type\":\"scatter3d\"}],\"scattercarpet\":[{\"marker\":{\"colorbar\":{\"outlinewidth\":0,\"ticks\":\"\"}},\"type\":\"scattercarpet\"}],\"scattergeo\":[{\"marker\":{\"colorbar\":{\"outlinewidth\":0,\"ticks\":\"\"}},\"type\":\"scattergeo\"}],\"scattergl\":[{\"marker\":{\"colorbar\":{\"outlinewidth\":0,\"ticks\":\"\"}},\"type\":\"scattergl\"}],\"scattermapbox\":[{\"marker\":{\"colorbar\":{\"outlinewidth\":0,\"ticks\":\"\"}},\"type\":\"scattermapbox\"}],\"scatterpolar\":[{\"marker\":{\"colorbar\":{\"outlinewidth\":0,\"ticks\":\"\"}},\"type\":\"scatterpolar\"}],\"scatterpolargl\":[{\"marker\":{\"colorbar\":{\"outlinewidth\":0,\"ticks\":\"\"}},\"type\":\"scatterpolargl\"}],\"scatterternary\":[{\"marker\":{\"colorbar\":{\"outlinewidth\":0,\"ticks\":\"\"}},\"type\":\"scatterternary\"}],\"surface\":[{\"colorbar\":{\"outlinewidth\":0,\"ticks\":\"\"},\"colorscale\":[[0.0,\"#0d0887\"],[0.1111111111111111,\"#46039f\"],[0.2222222222222222,\"#7201a8\"],[0.3333333333333333,\"#9c179e\"],[0.4444444444444444,\"#bd3786\"],[0.5555555555555556,\"#d8576b\"],[0.6666666666666666,\"#ed7953\"],[0.7777777777777778,\"#fb9f3a\"],[0.8888888888888888,\"#fdca26\"],[1.0,\"#f0f921\"]],\"type\":\"surface\"}],\"table\":[{\"cells\":{\"fill\":{\"color\":\"#EBF0F8\"},\"line\":{\"color\":\"white\"}},\"header\":{\"fill\":{\"color\":\"#C8D4E3\"},\"line\":{\"color\":\"white\"}},\"type\":\"table\"}]},\"layout\":{\"annotationdefaults\":{\"arrowcolor\":\"#2a3f5f\",\"arrowhead\":0,\"arrowwidth\":1},\"autotypenumbers\":\"strict\",\"coloraxis\":{\"colorbar\":{\"outlinewidth\":0,\"ticks\":\"\"}},\"colorscale\":{\"diverging\":[[0,\"#8e0152\"],[0.1,\"#c51b7d\"],[0.2,\"#de77ae\"],[0.3,\"#f1b6da\"],[0.4,\"#fde0ef\"],[0.5,\"#f7f7f7\"],[0.6,\"#e6f5d0\"],[0.7,\"#b8e186\"],[0.8,\"#7fbc41\"],[0.9,\"#4d9221\"],[1,\"#276419\"]],\"sequential\":[[0.0,\"#0d0887\"],[0.1111111111111111,\"#46039f\"],[0.2222222222222222,\"#7201a8\"],[0.3333333333333333,\"#9c179e\"],[0.4444444444444444,\"#bd3786\"],[0.5555555555555556,\"#d8576b\"],[0.6666666666666666,\"#ed7953\"],[0.7777777777777778,\"#fb9f3a\"],[0.8888888888888888,\"#fdca26\"],[1.0,\"#f0f921\"]],\"sequentialminus\":[[0.0,\"#0d0887\"],[0.1111111111111111,\"#46039f\"],[0.2222222222222222,\"#7201a8\"],[0.3333333333333333,\"#9c179e\"],[0.4444444444444444,\"#bd3786\"],[0.5555555555555556,\"#d8576b\"],[0.6666666666666666,\"#ed7953\"],[0.7777777777777778,\"#fb9f3a\"],[0.8888888888888888,\"#fdca26\"],[1.0,\"#f0f921\"]]},\"colorway\":[\"#636efa\",\"#EF553B\",\"#00cc96\",\"#ab63fa\",\"#FFA15A\",\"#19d3f3\",\"#FF6692\",\"#B6E880\",\"#FF97FF\",\"#FECB52\"],\"font\":{\"color\":\"#2a3f5f\"},\"geo\":{\"bgcolor\":\"white\",\"lakecolor\":\"white\",\"landcolor\":\"#E5ECF6\",\"showlakes\":true,\"showland\":true,\"subunitcolor\":\"white\"},\"hoverlabel\":{\"align\":\"left\"},\"hovermode\":\"closest\",\"mapbox\":{\"style\":\"light\"},\"paper_bgcolor\":\"white\",\"plot_bgcolor\":\"#E5ECF6\",\"polar\":{\"angularaxis\":{\"gridcolor\":\"white\",\"linecolor\":\"white\",\"ticks\":\"\"},\"bgcolor\":\"#E5ECF6\",\"radialaxis\":{\"gridcolor\":\"white\",\"linecolor\":\"white\",\"ticks\":\"\"}},\"scene\":{\"xaxis\":{\"backgroundcolor\":\"#E5ECF6\",\"gridcolor\":\"white\",\"gridwidth\":2,\"linecolor\":\"white\",\"showbackground\":true,\"ticks\":\"\",\"zerolinecolor\":\"white\"},\"yaxis\":{\"backgroundcolor\":\"#E5ECF6\",\"gridcolor\":\"white\",\"gridwidth\":2,\"linecolor\":\"white\",\"showbackground\":true,\"ticks\":\"\",\"zerolinecolor\":\"white\"},\"zaxis\":{\"backgroundcolor\":\"#E5ECF6\",\"gridcolor\":\"white\",\"gridwidth\":2,\"linecolor\":\"white\",\"showbackground\":true,\"ticks\":\"\",\"zerolinecolor\":\"white\"}},\"shapedefaults\":{\"line\":{\"color\":\"#2a3f5f\"}},\"ternary\":{\"aaxis\":{\"gridcolor\":\"white\",\"linecolor\":\"white\",\"ticks\":\"\"},\"baxis\":{\"gridcolor\":\"white\",\"linecolor\":\"white\",\"ticks\":\"\"},\"bgcolor\":\"#E5ECF6\",\"caxis\":{\"gridcolor\":\"white\",\"linecolor\":\"white\",\"ticks\":\"\"}},\"title\":{\"x\":0.05},\"xaxis\":{\"automargin\":true,\"gridcolor\":\"white\",\"linecolor\":\"white\",\"ticks\":\"\",\"title\":{\"standoff\":15},\"zerolinecolor\":\"white\",\"zerolinewidth\":2},\"yaxis\":{\"automargin\":true,\"gridcolor\":\"white\",\"linecolor\":\"white\",\"ticks\":\"\",\"title\":{\"standoff\":15},\"zerolinecolor\":\"white\",\"zerolinewidth\":2}}},\"width\":600},                        {\"responsive\": true}                    ).then(function(){\n",
       "                            \n",
       "var gd = document.getElementById('79e75e95-e7be-4e70-b822-b966dd9410cc');\n",
       "var x = new MutationObserver(function (mutations, observer) {{\n",
       "        var display = window.getComputedStyle(gd).display;\n",
       "        if (!display || display === 'none') {{\n",
       "            console.log([gd, 'removed!']);\n",
       "            Plotly.purge(gd);\n",
       "            observer.disconnect();\n",
       "        }}\n",
       "}});\n",
       "\n",
       "// Listen for the removal of the full notebook cells\n",
       "var notebookContainer = gd.closest('#notebook-container');\n",
       "if (notebookContainer) {{\n",
       "    x.observe(notebookContainer, {childList: true});\n",
       "}}\n",
       "\n",
       "// Listen for the clearing of the current output cell\n",
       "var outputEl = gd.closest('.output');\n",
       "if (outputEl) {{\n",
       "    x.observe(outputEl, {childList: true});\n",
       "}}\n",
       "\n",
       "                        })                };                });            </script>        </div>"
      ]
     },
     "metadata": {},
     "output_type": "display_data"
    }
   ],
   "source": [
    "df = team_info\n",
    "\n",
    "fig = go.Figure(\n",
    "    data=[\n",
    "        go.Table(\n",
    "            columnwidth = [30, 20, 20, 90],\n",
    "            header = dict(values=list(df.columns),\n",
    "                          align=['left'],\n",
    "                          line_color='lightgray',\n",
    "                          fill_color='#F0F2F6'),\n",
    "            cells = dict(values=[df.Player, df.KD, df['K D A'], df.Loadouts],\n",
    "                         align='left'))\n",
    "    ]\n",
    ")\n",
    "\n",
    "# to narrow spaces between several figures\n",
    "fig.update_layout(\n",
    "    width=600,\n",
    "    height=250,\n",
    "    margin=dict(\n",
    "        l=0,\n",
    "        r=1,\n",
    "        b=0,\n",
    "        t=0\n",
    "        )\n",
    "    )\n",
    "fig.show()"
   ]
  },
  {
   "cell_type": "code",
   "execution_count": 83,
   "id": "129eddcf-c6f2-45ba-b44d-d6a515b5d97e",
   "metadata": {},
   "outputs": [
    {
     "data": {
      "application/vnd.plotly.v1+json": {
       "config": {
        "plotlyServerURL": "https://plot.ly"
       },
       "data": [
        {
         "cells": {
          "align": "left",
          "fill": {
           "color": "white"
          },
          "font": {
           "size": 15
          },
          "values": [
           [
            "DeadlyXhen",
            "Cunny-Boss",
            "GaelJMG",
            "DonEleganza",
            "n1ce"
           ],
           [
            "twenty",
            "thirty_three",
            "twenty_five",
            "seventeen",
            "twelve"
           ],
           [
            7.5,
            3.7,
            10,
            3,
            2.2
           ],
           [
            "15 | 2 | 2",
            "11 | 3 | 0",
            "10 | 1 | 1",
            "9 | 3 | 1",
            "9 | 4 | 0"
           ],
           [
            "Milano - EM2, Pistol, sh_t9pump",
            "AK-47 cw - OTs 9, Pistol, MAC-10 - pi_papa320",
            "EM2 - Diamatti, Pistol, -",
            "ar_akilo47 - sn_xmike109, Pistol, Pistol",
            "K31 - MAC-10, Pistol, OTs 9"
           ]
          ]
         },
         "columnwidth": [
          30,
          20,
          20,
          20,
          90
         ],
         "header": {
          "align": [
           "left"
          ],
          "fill": {
           "color": "white"
          },
          "line": {
           "color": "lightgray"
          },
          "values": [
           "Player",
           "Team",
           "KD",
           "K D A",
           "Loadouts"
          ]
         },
         "type": "table"
        }
       ],
       "layout": {
        "height": 250,
        "margin": {
         "b": 0,
         "l": 0,
         "r": 1,
         "t": 0
        },
        "template": {
         "data": {
          "bar": [
           {
            "error_x": {
             "color": "#2a3f5f"
            },
            "error_y": {
             "color": "#2a3f5f"
            },
            "marker": {
             "line": {
              "color": "#E5ECF6",
              "width": 0.5
             },
             "pattern": {
              "fillmode": "overlay",
              "size": 10,
              "solidity": 0.2
             }
            },
            "type": "bar"
           }
          ],
          "barpolar": [
           {
            "marker": {
             "line": {
              "color": "#E5ECF6",
              "width": 0.5
             },
             "pattern": {
              "fillmode": "overlay",
              "size": 10,
              "solidity": 0.2
             }
            },
            "type": "barpolar"
           }
          ],
          "carpet": [
           {
            "aaxis": {
             "endlinecolor": "#2a3f5f",
             "gridcolor": "white",
             "linecolor": "white",
             "minorgridcolor": "white",
             "startlinecolor": "#2a3f5f"
            },
            "baxis": {
             "endlinecolor": "#2a3f5f",
             "gridcolor": "white",
             "linecolor": "white",
             "minorgridcolor": "white",
             "startlinecolor": "#2a3f5f"
            },
            "type": "carpet"
           }
          ],
          "choropleth": [
           {
            "colorbar": {
             "outlinewidth": 0,
             "ticks": ""
            },
            "type": "choropleth"
           }
          ],
          "contour": [
           {
            "colorbar": {
             "outlinewidth": 0,
             "ticks": ""
            },
            "colorscale": [
             [
              0,
              "#0d0887"
             ],
             [
              0.1111111111111111,
              "#46039f"
             ],
             [
              0.2222222222222222,
              "#7201a8"
             ],
             [
              0.3333333333333333,
              "#9c179e"
             ],
             [
              0.4444444444444444,
              "#bd3786"
             ],
             [
              0.5555555555555556,
              "#d8576b"
             ],
             [
              0.6666666666666666,
              "#ed7953"
             ],
             [
              0.7777777777777778,
              "#fb9f3a"
             ],
             [
              0.8888888888888888,
              "#fdca26"
             ],
             [
              1,
              "#f0f921"
             ]
            ],
            "type": "contour"
           }
          ],
          "contourcarpet": [
           {
            "colorbar": {
             "outlinewidth": 0,
             "ticks": ""
            },
            "type": "contourcarpet"
           }
          ],
          "heatmap": [
           {
            "colorbar": {
             "outlinewidth": 0,
             "ticks": ""
            },
            "colorscale": [
             [
              0,
              "#0d0887"
             ],
             [
              0.1111111111111111,
              "#46039f"
             ],
             [
              0.2222222222222222,
              "#7201a8"
             ],
             [
              0.3333333333333333,
              "#9c179e"
             ],
             [
              0.4444444444444444,
              "#bd3786"
             ],
             [
              0.5555555555555556,
              "#d8576b"
             ],
             [
              0.6666666666666666,
              "#ed7953"
             ],
             [
              0.7777777777777778,
              "#fb9f3a"
             ],
             [
              0.8888888888888888,
              "#fdca26"
             ],
             [
              1,
              "#f0f921"
             ]
            ],
            "type": "heatmap"
           }
          ],
          "heatmapgl": [
           {
            "colorbar": {
             "outlinewidth": 0,
             "ticks": ""
            },
            "colorscale": [
             [
              0,
              "#0d0887"
             ],
             [
              0.1111111111111111,
              "#46039f"
             ],
             [
              0.2222222222222222,
              "#7201a8"
             ],
             [
              0.3333333333333333,
              "#9c179e"
             ],
             [
              0.4444444444444444,
              "#bd3786"
             ],
             [
              0.5555555555555556,
              "#d8576b"
             ],
             [
              0.6666666666666666,
              "#ed7953"
             ],
             [
              0.7777777777777778,
              "#fb9f3a"
             ],
             [
              0.8888888888888888,
              "#fdca26"
             ],
             [
              1,
              "#f0f921"
             ]
            ],
            "type": "heatmapgl"
           }
          ],
          "histogram": [
           {
            "marker": {
             "pattern": {
              "fillmode": "overlay",
              "size": 10,
              "solidity": 0.2
             }
            },
            "type": "histogram"
           }
          ],
          "histogram2d": [
           {
            "colorbar": {
             "outlinewidth": 0,
             "ticks": ""
            },
            "colorscale": [
             [
              0,
              "#0d0887"
             ],
             [
              0.1111111111111111,
              "#46039f"
             ],
             [
              0.2222222222222222,
              "#7201a8"
             ],
             [
              0.3333333333333333,
              "#9c179e"
             ],
             [
              0.4444444444444444,
              "#bd3786"
             ],
             [
              0.5555555555555556,
              "#d8576b"
             ],
             [
              0.6666666666666666,
              "#ed7953"
             ],
             [
              0.7777777777777778,
              "#fb9f3a"
             ],
             [
              0.8888888888888888,
              "#fdca26"
             ],
             [
              1,
              "#f0f921"
             ]
            ],
            "type": "histogram2d"
           }
          ],
          "histogram2dcontour": [
           {
            "colorbar": {
             "outlinewidth": 0,
             "ticks": ""
            },
            "colorscale": [
             [
              0,
              "#0d0887"
             ],
             [
              0.1111111111111111,
              "#46039f"
             ],
             [
              0.2222222222222222,
              "#7201a8"
             ],
             [
              0.3333333333333333,
              "#9c179e"
             ],
             [
              0.4444444444444444,
              "#bd3786"
             ],
             [
              0.5555555555555556,
              "#d8576b"
             ],
             [
              0.6666666666666666,
              "#ed7953"
             ],
             [
              0.7777777777777778,
              "#fb9f3a"
             ],
             [
              0.8888888888888888,
              "#fdca26"
             ],
             [
              1,
              "#f0f921"
             ]
            ],
            "type": "histogram2dcontour"
           }
          ],
          "mesh3d": [
           {
            "colorbar": {
             "outlinewidth": 0,
             "ticks": ""
            },
            "type": "mesh3d"
           }
          ],
          "parcoords": [
           {
            "line": {
             "colorbar": {
              "outlinewidth": 0,
              "ticks": ""
             }
            },
            "type": "parcoords"
           }
          ],
          "pie": [
           {
            "automargin": true,
            "type": "pie"
           }
          ],
          "scatter": [
           {
            "marker": {
             "colorbar": {
              "outlinewidth": 0,
              "ticks": ""
             }
            },
            "type": "scatter"
           }
          ],
          "scatter3d": [
           {
            "line": {
             "colorbar": {
              "outlinewidth": 0,
              "ticks": ""
             }
            },
            "marker": {
             "colorbar": {
              "outlinewidth": 0,
              "ticks": ""
             }
            },
            "type": "scatter3d"
           }
          ],
          "scattercarpet": [
           {
            "marker": {
             "colorbar": {
              "outlinewidth": 0,
              "ticks": ""
             }
            },
            "type": "scattercarpet"
           }
          ],
          "scattergeo": [
           {
            "marker": {
             "colorbar": {
              "outlinewidth": 0,
              "ticks": ""
             }
            },
            "type": "scattergeo"
           }
          ],
          "scattergl": [
           {
            "marker": {
             "colorbar": {
              "outlinewidth": 0,
              "ticks": ""
             }
            },
            "type": "scattergl"
           }
          ],
          "scattermapbox": [
           {
            "marker": {
             "colorbar": {
              "outlinewidth": 0,
              "ticks": ""
             }
            },
            "type": "scattermapbox"
           }
          ],
          "scatterpolar": [
           {
            "marker": {
             "colorbar": {
              "outlinewidth": 0,
              "ticks": ""
             }
            },
            "type": "scatterpolar"
           }
          ],
          "scatterpolargl": [
           {
            "marker": {
             "colorbar": {
              "outlinewidth": 0,
              "ticks": ""
             }
            },
            "type": "scatterpolargl"
           }
          ],
          "scatterternary": [
           {
            "marker": {
             "colorbar": {
              "outlinewidth": 0,
              "ticks": ""
             }
            },
            "type": "scatterternary"
           }
          ],
          "surface": [
           {
            "colorbar": {
             "outlinewidth": 0,
             "ticks": ""
            },
            "colorscale": [
             [
              0,
              "#0d0887"
             ],
             [
              0.1111111111111111,
              "#46039f"
             ],
             [
              0.2222222222222222,
              "#7201a8"
             ],
             [
              0.3333333333333333,
              "#9c179e"
             ],
             [
              0.4444444444444444,
              "#bd3786"
             ],
             [
              0.5555555555555556,
              "#d8576b"
             ],
             [
              0.6666666666666666,
              "#ed7953"
             ],
             [
              0.7777777777777778,
              "#fb9f3a"
             ],
             [
              0.8888888888888888,
              "#fdca26"
             ],
             [
              1,
              "#f0f921"
             ]
            ],
            "type": "surface"
           }
          ],
          "table": [
           {
            "cells": {
             "fill": {
              "color": "#EBF0F8"
             },
             "line": {
              "color": "white"
             }
            },
            "header": {
             "fill": {
              "color": "#C8D4E3"
             },
             "line": {
              "color": "white"
             }
            },
            "type": "table"
           }
          ]
         },
         "layout": {
          "annotationdefaults": {
           "arrowcolor": "#2a3f5f",
           "arrowhead": 0,
           "arrowwidth": 1
          },
          "autotypenumbers": "strict",
          "coloraxis": {
           "colorbar": {
            "outlinewidth": 0,
            "ticks": ""
           }
          },
          "colorscale": {
           "diverging": [
            [
             0,
             "#8e0152"
            ],
            [
             0.1,
             "#c51b7d"
            ],
            [
             0.2,
             "#de77ae"
            ],
            [
             0.3,
             "#f1b6da"
            ],
            [
             0.4,
             "#fde0ef"
            ],
            [
             0.5,
             "#f7f7f7"
            ],
            [
             0.6,
             "#e6f5d0"
            ],
            [
             0.7,
             "#b8e186"
            ],
            [
             0.8,
             "#7fbc41"
            ],
            [
             0.9,
             "#4d9221"
            ],
            [
             1,
             "#276419"
            ]
           ],
           "sequential": [
            [
             0,
             "#0d0887"
            ],
            [
             0.1111111111111111,
             "#46039f"
            ],
            [
             0.2222222222222222,
             "#7201a8"
            ],
            [
             0.3333333333333333,
             "#9c179e"
            ],
            [
             0.4444444444444444,
             "#bd3786"
            ],
            [
             0.5555555555555556,
             "#d8576b"
            ],
            [
             0.6666666666666666,
             "#ed7953"
            ],
            [
             0.7777777777777778,
             "#fb9f3a"
            ],
            [
             0.8888888888888888,
             "#fdca26"
            ],
            [
             1,
             "#f0f921"
            ]
           ],
           "sequentialminus": [
            [
             0,
             "#0d0887"
            ],
            [
             0.1111111111111111,
             "#46039f"
            ],
            [
             0.2222222222222222,
             "#7201a8"
            ],
            [
             0.3333333333333333,
             "#9c179e"
            ],
            [
             0.4444444444444444,
             "#bd3786"
            ],
            [
             0.5555555555555556,
             "#d8576b"
            ],
            [
             0.6666666666666666,
             "#ed7953"
            ],
            [
             0.7777777777777778,
             "#fb9f3a"
            ],
            [
             0.8888888888888888,
             "#fdca26"
            ],
            [
             1,
             "#f0f921"
            ]
           ]
          },
          "colorway": [
           "#636efa",
           "#EF553B",
           "#00cc96",
           "#ab63fa",
           "#FFA15A",
           "#19d3f3",
           "#FF6692",
           "#B6E880",
           "#FF97FF",
           "#FECB52"
          ],
          "font": {
           "color": "#2a3f5f"
          },
          "geo": {
           "bgcolor": "white",
           "lakecolor": "white",
           "landcolor": "#E5ECF6",
           "showlakes": true,
           "showland": true,
           "subunitcolor": "white"
          },
          "hoverlabel": {
           "align": "left"
          },
          "hovermode": "closest",
          "mapbox": {
           "style": "light"
          },
          "paper_bgcolor": "white",
          "plot_bgcolor": "#E5ECF6",
          "polar": {
           "angularaxis": {
            "gridcolor": "white",
            "linecolor": "white",
            "ticks": ""
           },
           "bgcolor": "#E5ECF6",
           "radialaxis": {
            "gridcolor": "white",
            "linecolor": "white",
            "ticks": ""
           }
          },
          "scene": {
           "xaxis": {
            "backgroundcolor": "#E5ECF6",
            "gridcolor": "white",
            "gridwidth": 2,
            "linecolor": "white",
            "showbackground": true,
            "ticks": "",
            "zerolinecolor": "white"
           },
           "yaxis": {
            "backgroundcolor": "#E5ECF6",
            "gridcolor": "white",
            "gridwidth": 2,
            "linecolor": "white",
            "showbackground": true,
            "ticks": "",
            "zerolinecolor": "white"
           },
           "zaxis": {
            "backgroundcolor": "#E5ECF6",
            "gridcolor": "white",
            "gridwidth": 2,
            "linecolor": "white",
            "showbackground": true,
            "ticks": "",
            "zerolinecolor": "white"
           }
          },
          "shapedefaults": {
           "line": {
            "color": "#2a3f5f"
           }
          },
          "ternary": {
           "aaxis": {
            "gridcolor": "white",
            "linecolor": "white",
            "ticks": ""
           },
           "baxis": {
            "gridcolor": "white",
            "linecolor": "white",
            "ticks": ""
           },
           "bgcolor": "#E5ECF6",
           "caxis": {
            "gridcolor": "white",
            "linecolor": "white",
            "ticks": ""
           }
          },
          "title": {
           "x": 0.05
          },
          "xaxis": {
           "automargin": true,
           "gridcolor": "white",
           "linecolor": "white",
           "ticks": "",
           "title": {
            "standoff": 15
           },
           "zerolinecolor": "white",
           "zerolinewidth": 2
          },
          "yaxis": {
           "automargin": true,
           "gridcolor": "white",
           "linecolor": "white",
           "ticks": "",
           "title": {
            "standoff": 15
           },
           "zerolinecolor": "white",
           "zerolinewidth": 2
          }
         }
        },
        "width": 1000
       }
      },
      "image/png": "[encoded data removed]",
      "text/html": [
       "<div>                            <div id=\"cb442980-2317-4670-b7cd-000a898fd2a5\" class=\"plotly-graph-div\" style=\"height:250px; width:1000px;\"></div>            <script type=\"text/javascript\">                require([\"plotly\"], function(Plotly) {                    window.PLOTLYENV=window.PLOTLYENV || {};                                    if (document.getElementById(\"cb442980-2317-4670-b7cd-000a898fd2a5\")) {                    Plotly.newPlot(                        \"cb442980-2317-4670-b7cd-000a898fd2a5\",                        [{\"cells\":{\"align\":\"left\",\"fill\":{\"color\":\"white\"},\"font\":{\"size\":15},\"values\":[[\"DeadlyXhen\",\"Cunny-Boss\",\"GaelJMG\",\"DonEleganza\",\"n1ce\"],[\"twenty\",\"thirty_three\",\"twenty_five\",\"seventeen\",\"twelve\"],[7.5,3.7,10.0,3.0,2.2],[\"15 | 2 | 2\",\"11 | 3 | 0\",\"10 | 1 | 1\",\"9 | 3 | 1\",\"9 | 4 | 0\"],[\"Milano - EM2, Pistol, sh_t9pump\",\"AK-47 cw - OTs 9, Pistol, MAC-10 - pi_papa320\",\"EM2 - Diamatti, Pistol, -\",\"ar_akilo47 - sn_xmike109, Pistol, Pistol\",\"K31 - MAC-10, Pistol, OTs 9\"]]},\"columnwidth\":[30,20,20,20,90],\"header\":{\"align\":[\"left\"],\"fill\":{\"color\":\"white\"},\"line\":{\"color\":\"lightgray\"},\"values\":[\"Player\",\"Team\",\"KD\",\"K D A\",\"Loadouts\"]},\"type\":\"table\"}],                        {\"height\":250,\"margin\":{\"b\":0,\"l\":0,\"r\":1,\"t\":0},\"template\":{\"data\":{\"bar\":[{\"error_x\":{\"color\":\"#2a3f5f\"},\"error_y\":{\"color\":\"#2a3f5f\"},\"marker\":{\"line\":{\"color\":\"#E5ECF6\",\"width\":0.5},\"pattern\":{\"fillmode\":\"overlay\",\"size\":10,\"solidity\":0.2}},\"type\":\"bar\"}],\"barpolar\":[{\"marker\":{\"line\":{\"color\":\"#E5ECF6\",\"width\":0.5},\"pattern\":{\"fillmode\":\"overlay\",\"size\":10,\"solidity\":0.2}},\"type\":\"barpolar\"}],\"carpet\":[{\"aaxis\":{\"endlinecolor\":\"#2a3f5f\",\"gridcolor\":\"white\",\"linecolor\":\"white\",\"minorgridcolor\":\"white\",\"startlinecolor\":\"#2a3f5f\"},\"baxis\":{\"endlinecolor\":\"#2a3f5f\",\"gridcolor\":\"white\",\"linecolor\":\"white\",\"minorgridcolor\":\"white\",\"startlinecolor\":\"#2a3f5f\"},\"type\":\"carpet\"}],\"choropleth\":[{\"colorbar\":{\"outlinewidth\":0,\"ticks\":\"\"},\"type\":\"choropleth\"}],\"contour\":[{\"colorbar\":{\"outlinewidth\":0,\"ticks\":\"\"},\"colorscale\":[[0.0,\"#0d0887\"],[0.1111111111111111,\"#46039f\"],[0.2222222222222222,\"#7201a8\"],[0.3333333333333333,\"#9c179e\"],[0.4444444444444444,\"#bd3786\"],[0.5555555555555556,\"#d8576b\"],[0.6666666666666666,\"#ed7953\"],[0.7777777777777778,\"#fb9f3a\"],[0.8888888888888888,\"#fdca26\"],[1.0,\"#f0f921\"]],\"type\":\"contour\"}],\"contourcarpet\":[{\"colorbar\":{\"outlinewidth\":0,\"ticks\":\"\"},\"type\":\"contourcarpet\"}],\"heatmap\":[{\"colorbar\":{\"outlinewidth\":0,\"ticks\":\"\"},\"colorscale\":[[0.0,\"#0d0887\"],[0.1111111111111111,\"#46039f\"],[0.2222222222222222,\"#7201a8\"],[0.3333333333333333,\"#9c179e\"],[0.4444444444444444,\"#bd3786\"],[0.5555555555555556,\"#d8576b\"],[0.6666666666666666,\"#ed7953\"],[0.7777777777777778,\"#fb9f3a\"],[0.8888888888888888,\"#fdca26\"],[1.0,\"#f0f921\"]],\"type\":\"heatmap\"}],\"heatmapgl\":[{\"colorbar\":{\"outlinewidth\":0,\"ticks\":\"\"},\"colorscale\":[[0.0,\"#0d0887\"],[0.1111111111111111,\"#46039f\"],[0.2222222222222222,\"#7201a8\"],[0.3333333333333333,\"#9c179e\"],[0.4444444444444444,\"#bd3786\"],[0.5555555555555556,\"#d8576b\"],[0.6666666666666666,\"#ed7953\"],[0.7777777777777778,\"#fb9f3a\"],[0.8888888888888888,\"#fdca26\"],[1.0,\"#f0f921\"]],\"type\":\"heatmapgl\"}],\"histogram\":[{\"marker\":{\"pattern\":{\"fillmode\":\"overlay\",\"size\":10,\"solidity\":0.2}},\"type\":\"histogram\"}],\"histogram2d\":[{\"colorbar\":{\"outlinewidth\":0,\"ticks\":\"\"},\"colorscale\":[[0.0,\"#0d0887\"],[0.1111111111111111,\"#46039f\"],[0.2222222222222222,\"#7201a8\"],[0.3333333333333333,\"#9c179e\"],[0.4444444444444444,\"#bd3786\"],[0.5555555555555556,\"#d8576b\"],[0.6666666666666666,\"#ed7953\"],[0.7777777777777778,\"#fb9f3a\"],[0.8888888888888888,\"#fdca26\"],[1.0,\"#f0f921\"]],\"type\":\"histogram2d\"}],\"histogram2dcontour\":[{\"colorbar\":{\"outlinewidth\":0,\"ticks\":\"\"},\"colorscale\":[[0.0,\"#0d0887\"],[0.1111111111111111,\"#46039f\"],[0.2222222222222222,\"#7201a8\"],[0.3333333333333333,\"#9c179e\"],[0.4444444444444444,\"#bd3786\"],[0.5555555555555556,\"#d8576b\"],[0.6666666666666666,\"#ed7953\"],[0.7777777777777778,\"#fb9f3a\"],[0.8888888888888888,\"#fdca26\"],[1.0,\"#f0f921\"]],\"type\":\"histogram2dcontour\"}],\"mesh3d\":[{\"colorbar\":{\"outlinewidth\":0,\"ticks\":\"\"},\"type\":\"mesh3d\"}],\"parcoords\":[{\"line\":{\"colorbar\":{\"outlinewidth\":0,\"ticks\":\"\"}},\"type\":\"parcoords\"}],\"pie\":[{\"automargin\":true,\"type\":\"pie\"}],\"scatter\":[{\"marker\":{\"colorbar\":{\"outlinewidth\":0,\"ticks\":\"\"}},\"type\":\"scatter\"}],\"scatter3d\":[{\"line\":{\"colorbar\":{\"outlinewidth\":0,\"ticks\":\"\"}},\"marker\":{\"colorbar\":{\"outlinewidth\":0,\"ticks\":\"\"}},\"type\":\"scatter3d\"}],\"scattercarpet\":[{\"marker\":{\"colorbar\":{\"outlinewidth\":0,\"ticks\":\"\"}},\"type\":\"scattercarpet\"}],\"scattergeo\":[{\"marker\":{\"colorbar\":{\"outlinewidth\":0,\"ticks\":\"\"}},\"type\":\"scattergeo\"}],\"scattergl\":[{\"marker\":{\"colorbar\":{\"outlinewidth\":0,\"ticks\":\"\"}},\"type\":\"scattergl\"}],\"scattermapbox\":[{\"marker\":{\"colorbar\":{\"outlinewidth\":0,\"ticks\":\"\"}},\"type\":\"scattermapbox\"}],\"scatterpolar\":[{\"marker\":{\"colorbar\":{\"outlinewidth\":0,\"ticks\":\"\"}},\"type\":\"scatterpolar\"}],\"scatterpolargl\":[{\"marker\":{\"colorbar\":{\"outlinewidth\":0,\"ticks\":\"\"}},\"type\":\"scatterpolargl\"}],\"scatterternary\":[{\"marker\":{\"colorbar\":{\"outlinewidth\":0,\"ticks\":\"\"}},\"type\":\"scatterternary\"}],\"surface\":[{\"colorbar\":{\"outlinewidth\":0,\"ticks\":\"\"},\"colorscale\":[[0.0,\"#0d0887\"],[0.1111111111111111,\"#46039f\"],[0.2222222222222222,\"#7201a8\"],[0.3333333333333333,\"#9c179e\"],[0.4444444444444444,\"#bd3786\"],[0.5555555555555556,\"#d8576b\"],[0.6666666666666666,\"#ed7953\"],[0.7777777777777778,\"#fb9f3a\"],[0.8888888888888888,\"#fdca26\"],[1.0,\"#f0f921\"]],\"type\":\"surface\"}],\"table\":[{\"cells\":{\"fill\":{\"color\":\"#EBF0F8\"},\"line\":{\"color\":\"white\"}},\"header\":{\"fill\":{\"color\":\"#C8D4E3\"},\"line\":{\"color\":\"white\"}},\"type\":\"table\"}]},\"layout\":{\"annotationdefaults\":{\"arrowcolor\":\"#2a3f5f\",\"arrowhead\":0,\"arrowwidth\":1},\"autotypenumbers\":\"strict\",\"coloraxis\":{\"colorbar\":{\"outlinewidth\":0,\"ticks\":\"\"}},\"colorscale\":{\"diverging\":[[0,\"#8e0152\"],[0.1,\"#c51b7d\"],[0.2,\"#de77ae\"],[0.3,\"#f1b6da\"],[0.4,\"#fde0ef\"],[0.5,\"#f7f7f7\"],[0.6,\"#e6f5d0\"],[0.7,\"#b8e186\"],[0.8,\"#7fbc41\"],[0.9,\"#4d9221\"],[1,\"#276419\"]],\"sequential\":[[0.0,\"#0d0887\"],[0.1111111111111111,\"#46039f\"],[0.2222222222222222,\"#7201a8\"],[0.3333333333333333,\"#9c179e\"],[0.4444444444444444,\"#bd3786\"],[0.5555555555555556,\"#d8576b\"],[0.6666666666666666,\"#ed7953\"],[0.7777777777777778,\"#fb9f3a\"],[0.8888888888888888,\"#fdca26\"],[1.0,\"#f0f921\"]],\"sequentialminus\":[[0.0,\"#0d0887\"],[0.1111111111111111,\"#46039f\"],[0.2222222222222222,\"#7201a8\"],[0.3333333333333333,\"#9c179e\"],[0.4444444444444444,\"#bd3786\"],[0.5555555555555556,\"#d8576b\"],[0.6666666666666666,\"#ed7953\"],[0.7777777777777778,\"#fb9f3a\"],[0.8888888888888888,\"#fdca26\"],[1.0,\"#f0f921\"]]},\"colorway\":[\"#636efa\",\"#EF553B\",\"#00cc96\",\"#ab63fa\",\"#FFA15A\",\"#19d3f3\",\"#FF6692\",\"#B6E880\",\"#FF97FF\",\"#FECB52\"],\"font\":{\"color\":\"#2a3f5f\"},\"geo\":{\"bgcolor\":\"white\",\"lakecolor\":\"white\",\"landcolor\":\"#E5ECF6\",\"showlakes\":true,\"showland\":true,\"subunitcolor\":\"white\"},\"hoverlabel\":{\"align\":\"left\"},\"hovermode\":\"closest\",\"mapbox\":{\"style\":\"light\"},\"paper_bgcolor\":\"white\",\"plot_bgcolor\":\"#E5ECF6\",\"polar\":{\"angularaxis\":{\"gridcolor\":\"white\",\"linecolor\":\"white\",\"ticks\":\"\"},\"bgcolor\":\"#E5ECF6\",\"radialaxis\":{\"gridcolor\":\"white\",\"linecolor\":\"white\",\"ticks\":\"\"}},\"scene\":{\"xaxis\":{\"backgroundcolor\":\"#E5ECF6\",\"gridcolor\":\"white\",\"gridwidth\":2,\"linecolor\":\"white\",\"showbackground\":true,\"ticks\":\"\",\"zerolinecolor\":\"white\"},\"yaxis\":{\"backgroundcolor\":\"#E5ECF6\",\"gridcolor\":\"white\",\"gridwidth\":2,\"linecolor\":\"white\",\"showbackground\":true,\"ticks\":\"\",\"zerolinecolor\":\"white\"},\"zaxis\":{\"backgroundcolor\":\"#E5ECF6\",\"gridcolor\":\"white\",\"gridwidth\":2,\"linecolor\":\"white\",\"showbackground\":true,\"ticks\":\"\",\"zerolinecolor\":\"white\"}},\"shapedefaults\":{\"line\":{\"color\":\"#2a3f5f\"}},\"ternary\":{\"aaxis\":{\"gridcolor\":\"white\",\"linecolor\":\"white\",\"ticks\":\"\"},\"baxis\":{\"gridcolor\":\"white\",\"linecolor\":\"white\",\"ticks\":\"\"},\"bgcolor\":\"#E5ECF6\",\"caxis\":{\"gridcolor\":\"white\",\"linecolor\":\"white\",\"ticks\":\"\"}},\"title\":{\"x\":0.05},\"xaxis\":{\"automargin\":true,\"gridcolor\":\"white\",\"linecolor\":\"white\",\"ticks\":\"\",\"title\":{\"standoff\":15},\"zerolinecolor\":\"white\",\"zerolinewidth\":2},\"yaxis\":{\"automargin\":true,\"gridcolor\":\"white\",\"linecolor\":\"white\",\"ticks\":\"\",\"title\":{\"standoff\":15},\"zerolinecolor\":\"white\",\"zerolinewidth\":2}}},\"width\":1000},                        {\"responsive\": true}                    ).then(function(){\n",
       "                            \n",
       "var gd = document.getElementById('cb442980-2317-4670-b7cd-000a898fd2a5');\n",
       "var x = new MutationObserver(function (mutations, observer) {{\n",
       "        var display = window.getComputedStyle(gd).display;\n",
       "        if (!display || display === 'none') {{\n",
       "            console.log([gd, 'removed!']);\n",
       "            Plotly.purge(gd);\n",
       "            observer.disconnect();\n",
       "        }}\n",
       "}});\n",
       "\n",
       "// Listen for the removal of the full notebook cells\n",
       "var notebookContainer = gd.closest('#notebook-container');\n",
       "if (notebookContainer) {{\n",
       "    x.observe(notebookContainer, {childList: true});\n",
       "}}\n",
       "\n",
       "// Listen for the clearing of the current output cell\n",
       "var outputEl = gd.closest('.output');\n",
       "if (outputEl) {{\n",
       "    x.observe(outputEl, {childList: true});\n",
       "}}\n",
       "\n",
       "                        })                };                });            </script>        </div>"
      ]
     },
     "metadata": {},
     "output_type": "display_data"
    }
   ],
   "source": [
    "df = top_players\n",
    "\n",
    "fig = go.Figure(\n",
    "    data=[\n",
    "        go.Table(\n",
    "            columnwidth = [30, 20, 20, 20, 90],\n",
    "            header = dict(values=list(df.columns),\n",
    "                          align=['left'],\n",
    "                          line_color='lightgray',\n",
    "                          fill_color='white'),\n",
    "            cells = dict(values=[df.Player, df.Team, df.KD, df['K D A'], df.Loadouts],\n",
    "                         align='left',\n",
    "                         fill_color='white', font_size=15))\n",
    "    ]\n",
    ")\n",
    "\n",
    "# to narrow spaces between several figures\n",
    "fig.update_layout(\n",
    "    width=1000,\n",
    "    height=250,\n",
    "    margin=dict(\n",
    "        l=0,\n",
    "        r=1,\n",
    "        b=0,\n",
    "        t=0\n",
    "        )\n",
    "    )\n",
    "fig.show()"
   ]
  },
  {
   "cell_type": "markdown",
   "id": "48769b44-22bb-4d2b-87c5-f68c127e04c2",
   "metadata": {},
   "source": [
    "##### Bullet chart"
   ]
  },
  {
   "cell_type": "code",
   "execution_count": 84,
   "id": "2fa75b2e-790b-455e-aa86-09010aa635f2",
   "metadata": {},
   "outputs": [
    {
     "data": {
      "text/plain": [
       "{'Kills': {'count': 151.0,\n",
       "  'mean': 2.0596026490066226,\n",
       "  'std': 2.4879222605204,\n",
       "  'min': 0.0,\n",
       "  '25%': 0.0,\n",
       "  '50%': 1.0,\n",
       "  '75%': 3.0,\n",
       "  'max': 15.0},\n",
       " 'KD': {'count': 151.0,\n",
       "  'mean': 0.9814569536423841,\n",
       "  'std': 1.3093206367430876,\n",
       "  'min': 0.0,\n",
       "  '25%': 0.0,\n",
       "  '50%': 0.5,\n",
       "  '75%': 1.5,\n",
       "  'max': 10.0}}"
      ]
     },
     "execution_count": 84,
     "metadata": {},
     "output_type": "execute_result"
    }
   ],
   "source": [
    "players_quartiles"
   ]
  },
  {
   "cell_type": "code",
   "execution_count": 85,
   "id": "86d18f9f-a6c9-4658-8f9b-fbb40ee7d7c0",
   "metadata": {},
   "outputs": [
    {
     "name": "stdout",
     "output_type": "stream",
     "text": [
      "players quartiles: \n",
      "Kills {'count': 151.0, 'mean': 2.0596026490066226, 'std': 2.4879222605204, 'min': 0.0, '25%': 0.0, '50%': 1.0, '75%': 3.0, 'max': 15.0}\n",
      "KD {'count': 151.0, 'mean': 0.9814569536423841, 'std': 1.3093206367430876, 'min': 0.0, '25%': 0.0, '50%': 0.5, '75%': 1.5, 'max': 10.0}\n",
      "player kills:  {'KD': 0.2, 'Kills': 1, 'Deaths': 4}\n",
      "lifetime kd:  0.62\n"
     ]
    }
   ],
   "source": [
    "open_file = open(\"match.pkl\", \"rb\")\n",
    "match = pickle.load(open_file)\n",
    "open_file.close()\n",
    "df_match = MatchPlayersToDf(match)\n",
    "df = MatchPlayersStandardize(df_match)\n",
    "df.head(2)\n",
    "\n",
    "players_quartiles = playersQuartiles(df)\n",
    "print('players quartiles: ')\n",
    "for k, v in players_quartiles.items():\n",
    "    print(k,v)\n",
    "player_kills = retrievePlayerKills(df, gamertag)\n",
    "print('player kills: ', player_kills)\n",
    "# kpis = ProfileGetKpis(profile)\n",
    "# player_kd = kpis['br_kd']\n",
    "lifetime_kd = 0.62\n",
    "lifetime_kills_ratio = 1.9\n",
    "print('lifetime kd: ', lifetime_kd)"
   ]
  },
  {
   "cell_type": "markdown",
   "id": "5ec03fd3-e944-48c3-ae19-92563978cc10",
   "metadata": {},
   "source": [
    "#### single bullet chart"
   ]
  },
  {
   "cell_type": "code",
   "execution_count": 86,
   "id": "f0f556fd-77ee-4365-bcee-4bd68ac68b5d",
   "metadata": {},
   "outputs": [
    {
     "data": {
      "application/vnd.plotly.v1+json": {
       "config": {
        "plotlyServerURL": "https://plot.ly"
       },
       "data": [
        {
         "delta": {
          "reference": 0.62
         },
         "domain": {
          "x": [
           0.1,
           1
          ],
          "y": [
           0,
           1
          ]
         },
         "gauge": {
          "axis": {
           "range": [
            null,
            4
           ],
           "tickmode": "array",
           "ticktext": [
            0.5,
            1,
            1.5,
            "...max: 26"
           ],
           "tickvals": [
            0.5,
            1,
            1.5,
            4
           ]
          },
          "bar": {
           "color": "black"
          },
          "shape": "bullet",
          "steps": [
           {
            "color": "grey",
            "range": [
             0,
             0.5
            ]
           },
           {
            "color": "darkgrey",
            "range": [
             0.5,
             1
            ]
           },
           {
            "color": "lightgrey",
            "range": [
             1,
             1.5
            ]
           }
          ],
          "threshold": {
           "line": {
            "color": "black",
            "width": 2
           },
           "thickness": 0.75,
           "value": 0.62
          }
         },
         "mode": "number+gauge+delta",
         "title": {
          "font": {
           "size": 15
          },
          "text": "KD"
         },
         "type": "indicator",
         "value": 0.2
        }
       ],
       "layout": {
        "height": 70,
        "margin": {
         "b": 20,
         "l": 0,
         "t": 0
        },
        "template": {
         "data": {
          "bar": [
           {
            "error_x": {
             "color": "#2a3f5f"
            },
            "error_y": {
             "color": "#2a3f5f"
            },
            "marker": {
             "line": {
              "color": "#E5ECF6",
              "width": 0.5
             },
             "pattern": {
              "fillmode": "overlay",
              "size": 10,
              "solidity": 0.2
             }
            },
            "type": "bar"
           }
          ],
          "barpolar": [
           {
            "marker": {
             "line": {
              "color": "#E5ECF6",
              "width": 0.5
             },
             "pattern": {
              "fillmode": "overlay",
              "size": 10,
              "solidity": 0.2
             }
            },
            "type": "barpolar"
           }
          ],
          "carpet": [
           {
            "aaxis": {
             "endlinecolor": "#2a3f5f",
             "gridcolor": "white",
             "linecolor": "white",
             "minorgridcolor": "white",
             "startlinecolor": "#2a3f5f"
            },
            "baxis": {
             "endlinecolor": "#2a3f5f",
             "gridcolor": "white",
             "linecolor": "white",
             "minorgridcolor": "white",
             "startlinecolor": "#2a3f5f"
            },
            "type": "carpet"
           }
          ],
          "choropleth": [
           {
            "colorbar": {
             "outlinewidth": 0,
             "ticks": ""
            },
            "type": "choropleth"
           }
          ],
          "contour": [
           {
            "colorbar": {
             "outlinewidth": 0,
             "ticks": ""
            },
            "colorscale": [
             [
              0,
              "#0d0887"
             ],
             [
              0.1111111111111111,
              "#46039f"
             ],
             [
              0.2222222222222222,
              "#7201a8"
             ],
             [
              0.3333333333333333,
              "#9c179e"
             ],
             [
              0.4444444444444444,
              "#bd3786"
             ],
             [
              0.5555555555555556,
              "#d8576b"
             ],
             [
              0.6666666666666666,
              "#ed7953"
             ],
             [
              0.7777777777777778,
              "#fb9f3a"
             ],
             [
              0.8888888888888888,
              "#fdca26"
             ],
             [
              1,
              "#f0f921"
             ]
            ],
            "type": "contour"
           }
          ],
          "contourcarpet": [
           {
            "colorbar": {
             "outlinewidth": 0,
             "ticks": ""
            },
            "type": "contourcarpet"
           }
          ],
          "heatmap": [
           {
            "colorbar": {
             "outlinewidth": 0,
             "ticks": ""
            },
            "colorscale": [
             [
              0,
              "#0d0887"
             ],
             [
              0.1111111111111111,
              "#46039f"
             ],
             [
              0.2222222222222222,
              "#7201a8"
             ],
             [
              0.3333333333333333,
              "#9c179e"
             ],
             [
              0.4444444444444444,
              "#bd3786"
             ],
             [
              0.5555555555555556,
              "#d8576b"
             ],
             [
              0.6666666666666666,
              "#ed7953"
             ],
             [
              0.7777777777777778,
              "#fb9f3a"
             ],
             [
              0.8888888888888888,
              "#fdca26"
             ],
             [
              1,
              "#f0f921"
             ]
            ],
            "type": "heatmap"
           }
          ],
          "heatmapgl": [
           {
            "colorbar": {
             "outlinewidth": 0,
             "ticks": ""
            },
            "colorscale": [
             [
              0,
              "#0d0887"
             ],
             [
              0.1111111111111111,
              "#46039f"
             ],
             [
              0.2222222222222222,
              "#7201a8"
             ],
             [
              0.3333333333333333,
              "#9c179e"
             ],
             [
              0.4444444444444444,
              "#bd3786"
             ],
             [
              0.5555555555555556,
              "#d8576b"
             ],
             [
              0.6666666666666666,
              "#ed7953"
             ],
             [
              0.7777777777777778,
              "#fb9f3a"
             ],
             [
              0.8888888888888888,
              "#fdca26"
             ],
             [
              1,
              "#f0f921"
             ]
            ],
            "type": "heatmapgl"
           }
          ],
          "histogram": [
           {
            "marker": {
             "pattern": {
              "fillmode": "overlay",
              "size": 10,
              "solidity": 0.2
             }
            },
            "type": "histogram"
           }
          ],
          "histogram2d": [
           {
            "colorbar": {
             "outlinewidth": 0,
             "ticks": ""
            },
            "colorscale": [
             [
              0,
              "#0d0887"
             ],
             [
              0.1111111111111111,
              "#46039f"
             ],
             [
              0.2222222222222222,
              "#7201a8"
             ],
             [
              0.3333333333333333,
              "#9c179e"
             ],
             [
              0.4444444444444444,
              "#bd3786"
             ],
             [
              0.5555555555555556,
              "#d8576b"
             ],
             [
              0.6666666666666666,
              "#ed7953"
             ],
             [
              0.7777777777777778,
              "#fb9f3a"
             ],
             [
              0.8888888888888888,
              "#fdca26"
             ],
             [
              1,
              "#f0f921"
             ]
            ],
            "type": "histogram2d"
           }
          ],
          "histogram2dcontour": [
           {
            "colorbar": {
             "outlinewidth": 0,
             "ticks": ""
            },
            "colorscale": [
             [
              0,
              "#0d0887"
             ],
             [
              0.1111111111111111,
              "#46039f"
             ],
             [
              0.2222222222222222,
              "#7201a8"
             ],
             [
              0.3333333333333333,
              "#9c179e"
             ],
             [
              0.4444444444444444,
              "#bd3786"
             ],
             [
              0.5555555555555556,
              "#d8576b"
             ],
             [
              0.6666666666666666,
              "#ed7953"
             ],
             [
              0.7777777777777778,
              "#fb9f3a"
             ],
             [
              0.8888888888888888,
              "#fdca26"
             ],
             [
              1,
              "#f0f921"
             ]
            ],
            "type": "histogram2dcontour"
           }
          ],
          "mesh3d": [
           {
            "colorbar": {
             "outlinewidth": 0,
             "ticks": ""
            },
            "type": "mesh3d"
           }
          ],
          "parcoords": [
           {
            "line": {
             "colorbar": {
              "outlinewidth": 0,
              "ticks": ""
             }
            },
            "type": "parcoords"
           }
          ],
          "pie": [
           {
            "automargin": true,
            "type": "pie"
           }
          ],
          "scatter": [
           {
            "marker": {
             "colorbar": {
              "outlinewidth": 0,
              "ticks": ""
             }
            },
            "type": "scatter"
           }
          ],
          "scatter3d": [
           {
            "line": {
             "colorbar": {
              "outlinewidth": 0,
              "ticks": ""
             }
            },
            "marker": {
             "colorbar": {
              "outlinewidth": 0,
              "ticks": ""
             }
            },
            "type": "scatter3d"
           }
          ],
          "scattercarpet": [
           {
            "marker": {
             "colorbar": {
              "outlinewidth": 0,
              "ticks": ""
             }
            },
            "type": "scattercarpet"
           }
          ],
          "scattergeo": [
           {
            "marker": {
             "colorbar": {
              "outlinewidth": 0,
              "ticks": ""
             }
            },
            "type": "scattergeo"
           }
          ],
          "scattergl": [
           {
            "marker": {
             "colorbar": {
              "outlinewidth": 0,
              "ticks": ""
             }
            },
            "type": "scattergl"
           }
          ],
          "scattermapbox": [
           {
            "marker": {
             "colorbar": {
              "outlinewidth": 0,
              "ticks": ""
             }
            },
            "type": "scattermapbox"
           }
          ],
          "scatterpolar": [
           {
            "marker": {
             "colorbar": {
              "outlinewidth": 0,
              "ticks": ""
             }
            },
            "type": "scatterpolar"
           }
          ],
          "scatterpolargl": [
           {
            "marker": {
             "colorbar": {
              "outlinewidth": 0,
              "ticks": ""
             }
            },
            "type": "scatterpolargl"
           }
          ],
          "scatterternary": [
           {
            "marker": {
             "colorbar": {
              "outlinewidth": 0,
              "ticks": ""
             }
            },
            "type": "scatterternary"
           }
          ],
          "surface": [
           {
            "colorbar": {
             "outlinewidth": 0,
             "ticks": ""
            },
            "colorscale": [
             [
              0,
              "#0d0887"
             ],
             [
              0.1111111111111111,
              "#46039f"
             ],
             [
              0.2222222222222222,
              "#7201a8"
             ],
             [
              0.3333333333333333,
              "#9c179e"
             ],
             [
              0.4444444444444444,
              "#bd3786"
             ],
             [
              0.5555555555555556,
              "#d8576b"
             ],
             [
              0.6666666666666666,
              "#ed7953"
             ],
             [
              0.7777777777777778,
              "#fb9f3a"
             ],
             [
              0.8888888888888888,
              "#fdca26"
             ],
             [
              1,
              "#f0f921"
             ]
            ],
            "type": "surface"
           }
          ],
          "table": [
           {
            "cells": {
             "fill": {
              "color": "#EBF0F8"
             },
             "line": {
              "color": "white"
             }
            },
            "header": {
             "fill": {
              "color": "#C8D4E3"
             },
             "line": {
              "color": "white"
             }
            },
            "type": "table"
           }
          ]
         },
         "layout": {
          "annotationdefaults": {
           "arrowcolor": "#2a3f5f",
           "arrowhead": 0,
           "arrowwidth": 1
          },
          "autotypenumbers": "strict",
          "coloraxis": {
           "colorbar": {
            "outlinewidth": 0,
            "ticks": ""
           }
          },
          "colorscale": {
           "diverging": [
            [
             0,
             "#8e0152"
            ],
            [
             0.1,
             "#c51b7d"
            ],
            [
             0.2,
             "#de77ae"
            ],
            [
             0.3,
             "#f1b6da"
            ],
            [
             0.4,
             "#fde0ef"
            ],
            [
             0.5,
             "#f7f7f7"
            ],
            [
             0.6,
             "#e6f5d0"
            ],
            [
             0.7,
             "#b8e186"
            ],
            [
             0.8,
             "#7fbc41"
            ],
            [
             0.9,
             "#4d9221"
            ],
            [
             1,
             "#276419"
            ]
           ],
           "sequential": [
            [
             0,
             "#0d0887"
            ],
            [
             0.1111111111111111,
             "#46039f"
            ],
            [
             0.2222222222222222,
             "#7201a8"
            ],
            [
             0.3333333333333333,
             "#9c179e"
            ],
            [
             0.4444444444444444,
             "#bd3786"
            ],
            [
             0.5555555555555556,
             "#d8576b"
            ],
            [
             0.6666666666666666,
             "#ed7953"
            ],
            [
             0.7777777777777778,
             "#fb9f3a"
            ],
            [
             0.8888888888888888,
             "#fdca26"
            ],
            [
             1,
             "#f0f921"
            ]
           ],
           "sequentialminus": [
            [
             0,
             "#0d0887"
            ],
            [
             0.1111111111111111,
             "#46039f"
            ],
            [
             0.2222222222222222,
             "#7201a8"
            ],
            [
             0.3333333333333333,
             "#9c179e"
            ],
            [
             0.4444444444444444,
             "#bd3786"
            ],
            [
             0.5555555555555556,
             "#d8576b"
            ],
            [
             0.6666666666666666,
             "#ed7953"
            ],
            [
             0.7777777777777778,
             "#fb9f3a"
            ],
            [
             0.8888888888888888,
             "#fdca26"
            ],
            [
             1,
             "#f0f921"
            ]
           ]
          },
          "colorway": [
           "#636efa",
           "#EF553B",
           "#00cc96",
           "#ab63fa",
           "#FFA15A",
           "#19d3f3",
           "#FF6692",
           "#B6E880",
           "#FF97FF",
           "#FECB52"
          ],
          "font": {
           "color": "#2a3f5f"
          },
          "geo": {
           "bgcolor": "white",
           "lakecolor": "white",
           "landcolor": "#E5ECF6",
           "showlakes": true,
           "showland": true,
           "subunitcolor": "white"
          },
          "hoverlabel": {
           "align": "left"
          },
          "hovermode": "closest",
          "mapbox": {
           "style": "light"
          },
          "paper_bgcolor": "white",
          "plot_bgcolor": "#E5ECF6",
          "polar": {
           "angularaxis": {
            "gridcolor": "white",
            "linecolor": "white",
            "ticks": ""
           },
           "bgcolor": "#E5ECF6",
           "radialaxis": {
            "gridcolor": "white",
            "linecolor": "white",
            "ticks": ""
           }
          },
          "scene": {
           "xaxis": {
            "backgroundcolor": "#E5ECF6",
            "gridcolor": "white",
            "gridwidth": 2,
            "linecolor": "white",
            "showbackground": true,
            "ticks": "",
            "zerolinecolor": "white"
           },
           "yaxis": {
            "backgroundcolor": "#E5ECF6",
            "gridcolor": "white",
            "gridwidth": 2,
            "linecolor": "white",
            "showbackground": true,
            "ticks": "",
            "zerolinecolor": "white"
           },
           "zaxis": {
            "backgroundcolor": "#E5ECF6",
            "gridcolor": "white",
            "gridwidth": 2,
            "linecolor": "white",
            "showbackground": true,
            "ticks": "",
            "zerolinecolor": "white"
           }
          },
          "shapedefaults": {
           "line": {
            "color": "#2a3f5f"
           }
          },
          "ternary": {
           "aaxis": {
            "gridcolor": "white",
            "linecolor": "white",
            "ticks": ""
           },
           "baxis": {
            "gridcolor": "white",
            "linecolor": "white",
            "ticks": ""
           },
           "bgcolor": "#E5ECF6",
           "caxis": {
            "gridcolor": "white",
            "linecolor": "white",
            "ticks": ""
           }
          },
          "title": {
           "x": 0.05
          },
          "xaxis": {
           "automargin": true,
           "gridcolor": "white",
           "linecolor": "white",
           "ticks": "",
           "title": {
            "standoff": 15
           },
           "zerolinecolor": "white",
           "zerolinewidth": 2
          },
          "yaxis": {
           "automargin": true,
           "gridcolor": "white",
           "linecolor": "white",
           "ticks": "",
           "title": {
            "standoff": 15
           },
           "zerolinecolor": "white",
           "zerolinewidth": 2
          }
         }
        },
        "width": 600
       }
      },
      "image/png": "[encoded data removed]",
      "text/html": [
       "<div>                            <div id=\"e70efad2-bad6-4eb5-b984-d063e9268bf3\" class=\"plotly-graph-div\" style=\"height:70px; width:600px;\"></div>            <script type=\"text/javascript\">                require([\"plotly\"], function(Plotly) {                    window.PLOTLYENV=window.PLOTLYENV || {};                                    if (document.getElementById(\"e70efad2-bad6-4eb5-b984-d063e9268bf3\")) {                    Plotly.newPlot(                        \"e70efad2-bad6-4eb5-b984-d063e9268bf3\",                        [{\"delta\":{\"reference\":0.62},\"domain\":{\"x\":[0.1,1],\"y\":[0,1]},\"gauge\":{\"axis\":{\"range\":[null,4],\"tickmode\":\"array\",\"ticktext\":[0.5,1.0,1.5,\"...max: 26\"],\"tickvals\":[0.5,1.0,1.5,4]},\"bar\":{\"color\":\"black\"},\"shape\":\"bullet\",\"steps\":[{\"color\":\"grey\",\"range\":[0,0.5]},{\"color\":\"darkgrey\",\"range\":[0.5,1.0]},{\"color\":\"lightgrey\",\"range\":[1.0,1.5]}],\"threshold\":{\"line\":{\"color\":\"black\",\"width\":2},\"thickness\":0.75,\"value\":0.62}},\"mode\":\"number+gauge+delta\",\"title\":{\"font\":{\"size\":15},\"text\":\"KD\"},\"type\":\"indicator\",\"value\":0.2}],                        {\"height\":70,\"margin\":{\"b\":20,\"l\":0,\"t\":0},\"template\":{\"data\":{\"bar\":[{\"error_x\":{\"color\":\"#2a3f5f\"},\"error_y\":{\"color\":\"#2a3f5f\"},\"marker\":{\"line\":{\"color\":\"#E5ECF6\",\"width\":0.5},\"pattern\":{\"fillmode\":\"overlay\",\"size\":10,\"solidity\":0.2}},\"type\":\"bar\"}],\"barpolar\":[{\"marker\":{\"line\":{\"color\":\"#E5ECF6\",\"width\":0.5},\"pattern\":{\"fillmode\":\"overlay\",\"size\":10,\"solidity\":0.2}},\"type\":\"barpolar\"}],\"carpet\":[{\"aaxis\":{\"endlinecolor\":\"#2a3f5f\",\"gridcolor\":\"white\",\"linecolor\":\"white\",\"minorgridcolor\":\"white\",\"startlinecolor\":\"#2a3f5f\"},\"baxis\":{\"endlinecolor\":\"#2a3f5f\",\"gridcolor\":\"white\",\"linecolor\":\"white\",\"minorgridcolor\":\"white\",\"startlinecolor\":\"#2a3f5f\"},\"type\":\"carpet\"}],\"choropleth\":[{\"colorbar\":{\"outlinewidth\":0,\"ticks\":\"\"},\"type\":\"choropleth\"}],\"contour\":[{\"colorbar\":{\"outlinewidth\":0,\"ticks\":\"\"},\"colorscale\":[[0.0,\"#0d0887\"],[0.1111111111111111,\"#46039f\"],[0.2222222222222222,\"#7201a8\"],[0.3333333333333333,\"#9c179e\"],[0.4444444444444444,\"#bd3786\"],[0.5555555555555556,\"#d8576b\"],[0.6666666666666666,\"#ed7953\"],[0.7777777777777778,\"#fb9f3a\"],[0.8888888888888888,\"#fdca26\"],[1.0,\"#f0f921\"]],\"type\":\"contour\"}],\"contourcarpet\":[{\"colorbar\":{\"outlinewidth\":0,\"ticks\":\"\"},\"type\":\"contourcarpet\"}],\"heatmap\":[{\"colorbar\":{\"outlinewidth\":0,\"ticks\":\"\"},\"colorscale\":[[0.0,\"#0d0887\"],[0.1111111111111111,\"#46039f\"],[0.2222222222222222,\"#7201a8\"],[0.3333333333333333,\"#9c179e\"],[0.4444444444444444,\"#bd3786\"],[0.5555555555555556,\"#d8576b\"],[0.6666666666666666,\"#ed7953\"],[0.7777777777777778,\"#fb9f3a\"],[0.8888888888888888,\"#fdca26\"],[1.0,\"#f0f921\"]],\"type\":\"heatmap\"}],\"heatmapgl\":[{\"colorbar\":{\"outlinewidth\":0,\"ticks\":\"\"},\"colorscale\":[[0.0,\"#0d0887\"],[0.1111111111111111,\"#46039f\"],[0.2222222222222222,\"#7201a8\"],[0.3333333333333333,\"#9c179e\"],[0.4444444444444444,\"#bd3786\"],[0.5555555555555556,\"#d8576b\"],[0.6666666666666666,\"#ed7953\"],[0.7777777777777778,\"#fb9f3a\"],[0.8888888888888888,\"#fdca26\"],[1.0,\"#f0f921\"]],\"type\":\"heatmapgl\"}],\"histogram\":[{\"marker\":{\"pattern\":{\"fillmode\":\"overlay\",\"size\":10,\"solidity\":0.2}},\"type\":\"histogram\"}],\"histogram2d\":[{\"colorbar\":{\"outlinewidth\":0,\"ticks\":\"\"},\"colorscale\":[[0.0,\"#0d0887\"],[0.1111111111111111,\"#46039f\"],[0.2222222222222222,\"#7201a8\"],[0.3333333333333333,\"#9c179e\"],[0.4444444444444444,\"#bd3786\"],[0.5555555555555556,\"#d8576b\"],[0.6666666666666666,\"#ed7953\"],[0.7777777777777778,\"#fb9f3a\"],[0.8888888888888888,\"#fdca26\"],[1.0,\"#f0f921\"]],\"type\":\"histogram2d\"}],\"histogram2dcontour\":[{\"colorbar\":{\"outlinewidth\":0,\"ticks\":\"\"},\"colorscale\":[[0.0,\"#0d0887\"],[0.1111111111111111,\"#46039f\"],[0.2222222222222222,\"#7201a8\"],[0.3333333333333333,\"#9c179e\"],[0.4444444444444444,\"#bd3786\"],[0.5555555555555556,\"#d8576b\"],[0.6666666666666666,\"#ed7953\"],[0.7777777777777778,\"#fb9f3a\"],[0.8888888888888888,\"#fdca26\"],[1.0,\"#f0f921\"]],\"type\":\"histogram2dcontour\"}],\"mesh3d\":[{\"colorbar\":{\"outlinewidth\":0,\"ticks\":\"\"},\"type\":\"mesh3d\"}],\"parcoords\":[{\"line\":{\"colorbar\":{\"outlinewidth\":0,\"ticks\":\"\"}},\"type\":\"parcoords\"}],\"pie\":[{\"automargin\":true,\"type\":\"pie\"}],\"scatter\":[{\"marker\":{\"colorbar\":{\"outlinewidth\":0,\"ticks\":\"\"}},\"type\":\"scatter\"}],\"scatter3d\":[{\"line\":{\"colorbar\":{\"outlinewidth\":0,\"ticks\":\"\"}},\"marker\":{\"colorbar\":{\"outlinewidth\":0,\"ticks\":\"\"}},\"type\":\"scatter3d\"}],\"scattercarpet\":[{\"marker\":{\"colorbar\":{\"outlinewidth\":0,\"ticks\":\"\"}},\"type\":\"scattercarpet\"}],\"scattergeo\":[{\"marker\":{\"colorbar\":{\"outlinewidth\":0,\"ticks\":\"\"}},\"type\":\"scattergeo\"}],\"scattergl\":[{\"marker\":{\"colorbar\":{\"outlinewidth\":0,\"ticks\":\"\"}},\"type\":\"scattergl\"}],\"scattermapbox\":[{\"marker\":{\"colorbar\":{\"outlinewidth\":0,\"ticks\":\"\"}},\"type\":\"scattermapbox\"}],\"scatterpolar\":[{\"marker\":{\"colorbar\":{\"outlinewidth\":0,\"ticks\":\"\"}},\"type\":\"scatterpolar\"}],\"scatterpolargl\":[{\"marker\":{\"colorbar\":{\"outlinewidth\":0,\"ticks\":\"\"}},\"type\":\"scatterpolargl\"}],\"scatterternary\":[{\"marker\":{\"colorbar\":{\"outlinewidth\":0,\"ticks\":\"\"}},\"type\":\"scatterternary\"}],\"surface\":[{\"colorbar\":{\"outlinewidth\":0,\"ticks\":\"\"},\"colorscale\":[[0.0,\"#0d0887\"],[0.1111111111111111,\"#46039f\"],[0.2222222222222222,\"#7201a8\"],[0.3333333333333333,\"#9c179e\"],[0.4444444444444444,\"#bd3786\"],[0.5555555555555556,\"#d8576b\"],[0.6666666666666666,\"#ed7953\"],[0.7777777777777778,\"#fb9f3a\"],[0.8888888888888888,\"#fdca26\"],[1.0,\"#f0f921\"]],\"type\":\"surface\"}],\"table\":[{\"cells\":{\"fill\":{\"color\":\"#EBF0F8\"},\"line\":{\"color\":\"white\"}},\"header\":{\"fill\":{\"color\":\"#C8D4E3\"},\"line\":{\"color\":\"white\"}},\"type\":\"table\"}]},\"layout\":{\"annotationdefaults\":{\"arrowcolor\":\"#2a3f5f\",\"arrowhead\":0,\"arrowwidth\":1},\"autotypenumbers\":\"strict\",\"coloraxis\":{\"colorbar\":{\"outlinewidth\":0,\"ticks\":\"\"}},\"colorscale\":{\"diverging\":[[0,\"#8e0152\"],[0.1,\"#c51b7d\"],[0.2,\"#de77ae\"],[0.3,\"#f1b6da\"],[0.4,\"#fde0ef\"],[0.5,\"#f7f7f7\"],[0.6,\"#e6f5d0\"],[0.7,\"#b8e186\"],[0.8,\"#7fbc41\"],[0.9,\"#4d9221\"],[1,\"#276419\"]],\"sequential\":[[0.0,\"#0d0887\"],[0.1111111111111111,\"#46039f\"],[0.2222222222222222,\"#7201a8\"],[0.3333333333333333,\"#9c179e\"],[0.4444444444444444,\"#bd3786\"],[0.5555555555555556,\"#d8576b\"],[0.6666666666666666,\"#ed7953\"],[0.7777777777777778,\"#fb9f3a\"],[0.8888888888888888,\"#fdca26\"],[1.0,\"#f0f921\"]],\"sequentialminus\":[[0.0,\"#0d0887\"],[0.1111111111111111,\"#46039f\"],[0.2222222222222222,\"#7201a8\"],[0.3333333333333333,\"#9c179e\"],[0.4444444444444444,\"#bd3786\"],[0.5555555555555556,\"#d8576b\"],[0.6666666666666666,\"#ed7953\"],[0.7777777777777778,\"#fb9f3a\"],[0.8888888888888888,\"#fdca26\"],[1.0,\"#f0f921\"]]},\"colorway\":[\"#636efa\",\"#EF553B\",\"#00cc96\",\"#ab63fa\",\"#FFA15A\",\"#19d3f3\",\"#FF6692\",\"#B6E880\",\"#FF97FF\",\"#FECB52\"],\"font\":{\"color\":\"#2a3f5f\"},\"geo\":{\"bgcolor\":\"white\",\"lakecolor\":\"white\",\"landcolor\":\"#E5ECF6\",\"showlakes\":true,\"showland\":true,\"subunitcolor\":\"white\"},\"hoverlabel\":{\"align\":\"left\"},\"hovermode\":\"closest\",\"mapbox\":{\"style\":\"light\"},\"paper_bgcolor\":\"white\",\"plot_bgcolor\":\"#E5ECF6\",\"polar\":{\"angularaxis\":{\"gridcolor\":\"white\",\"linecolor\":\"white\",\"ticks\":\"\"},\"bgcolor\":\"#E5ECF6\",\"radialaxis\":{\"gridcolor\":\"white\",\"linecolor\":\"white\",\"ticks\":\"\"}},\"scene\":{\"xaxis\":{\"backgroundcolor\":\"#E5ECF6\",\"gridcolor\":\"white\",\"gridwidth\":2,\"linecolor\":\"white\",\"showbackground\":true,\"ticks\":\"\",\"zerolinecolor\":\"white\"},\"yaxis\":{\"backgroundcolor\":\"#E5ECF6\",\"gridcolor\":\"white\",\"gridwidth\":2,\"linecolor\":\"white\",\"showbackground\":true,\"ticks\":\"\",\"zerolinecolor\":\"white\"},\"zaxis\":{\"backgroundcolor\":\"#E5ECF6\",\"gridcolor\":\"white\",\"gridwidth\":2,\"linecolor\":\"white\",\"showbackground\":true,\"ticks\":\"\",\"zerolinecolor\":\"white\"}},\"shapedefaults\":{\"line\":{\"color\":\"#2a3f5f\"}},\"ternary\":{\"aaxis\":{\"gridcolor\":\"white\",\"linecolor\":\"white\",\"ticks\":\"\"},\"baxis\":{\"gridcolor\":\"white\",\"linecolor\":\"white\",\"ticks\":\"\"},\"bgcolor\":\"#E5ECF6\",\"caxis\":{\"gridcolor\":\"white\",\"linecolor\":\"white\",\"ticks\":\"\"}},\"title\":{\"x\":0.05},\"xaxis\":{\"automargin\":true,\"gridcolor\":\"white\",\"linecolor\":\"white\",\"ticks\":\"\",\"title\":{\"standoff\":15},\"zerolinecolor\":\"white\",\"zerolinewidth\":2},\"yaxis\":{\"automargin\":true,\"gridcolor\":\"white\",\"linecolor\":\"white\",\"ticks\":\"\",\"title\":{\"standoff\":15},\"zerolinecolor\":\"white\",\"zerolinewidth\":2}}},\"width\":600},                        {\"responsive\": true}                    ).then(function(){\n",
       "                            \n",
       "var gd = document.getElementById('e70efad2-bad6-4eb5-b984-d063e9268bf3');\n",
       "var x = new MutationObserver(function (mutations, observer) {{\n",
       "        var display = window.getComputedStyle(gd).display;\n",
       "        if (!display || display === 'none') {{\n",
       "            console.log([gd, 'removed!']);\n",
       "            Plotly.purge(gd);\n",
       "            observer.disconnect();\n",
       "        }}\n",
       "}});\n",
       "\n",
       "// Listen for the removal of the full notebook cells\n",
       "var notebookContainer = gd.closest('#notebook-container');\n",
       "if (notebookContainer) {{\n",
       "    x.observe(notebookContainer, {childList: true});\n",
       "}}\n",
       "\n",
       "// Listen for the clearing of the current output cell\n",
       "var outputEl = gd.closest('.output');\n",
       "if (outputEl) {{\n",
       "    x.observe(outputEl, {childList: true});\n",
       "}}\n",
       "\n",
       "                        })                };                });            </script>        </div>"
      ]
     },
     "metadata": {},
     "output_type": "display_data"
    }
   ],
   "source": [
    "# matche's values\n",
    "kd_player = player_kills['KD'] if not player_kills['KD'] == 0 else 0.1\n",
    "kd_mean = round(players_quartiles['KD']['mean'], 1)\n",
    "kd_median = round(players_quartiles['KD']['50%'],1)\n",
    "kd_Q3 = round(players_quartiles['KD']['75%'],1)\n",
    "kd_max = round(players_quartiles['KD']['max'],1)\n",
    "gauge_length = 4\n",
    "\n",
    "fig = go.Figure(go.Indicator(\n",
    "    mode = \"number+gauge+delta\", value = kd_player,\n",
    "    domain = {'x': [0.1, 1], 'y': [0, 1]},\n",
    "    title = {'text' :\"KD\", 'font_size':15},\n",
    "    delta = {'reference': lifetime_kd},\n",
    "    gauge = {\n",
    "        'shape': \"bullet\",\n",
    "        'axis': {'range': [None, gauge_length]},\n",
    "        'threshold': {\n",
    "            'line': {'color': \"black\", 'width': 2},\n",
    "            'thickness': 0.75,\n",
    "            'value': lifetime_kd},\n",
    "        'steps': [\n",
    "            {'range': [0, kd_median], 'color': \"grey\"},\n",
    "            {'range': [kd_median, kd_mean], 'color': \"darkgrey\"},\n",
    "            {'range': [kd_mean, kd_Q3], 'color': \"lightgrey\"}],\n",
    "        'bar': {'color': \"black\"}\n",
    "    }))\n",
    "\n",
    "\n",
    "fig.update_layout(\n",
    "    height = 70,\n",
    "    width = 600,\n",
    "    margin = {'t':0, 'b':20, 'l':0}\n",
    ")\n",
    "ticks = [kd_median, kd_mean, kd_Q3, gauge_length]\n",
    "fig.update_traces(\n",
    "    gauge={\n",
    "        \"axis\": {\n",
    "            \"tickmode\": \"array\",\n",
    "            \"tickvals\": ticks,\n",
    "            \"ticktext\": [\"...max: 26\" if i == gauge_length else i for i in ticks],\n",
    "        }\n",
    "    }\n",
    ")\n",
    "fig.show()"
   ]
  },
  {
   "cell_type": "markdown",
   "id": "2094ba6c-db60-4d19-bf19-368cfa3953fa",
   "metadata": {},
   "source": [
    "#### multiple bullet charts"
   ]
  },
  {
   "cell_type": "code",
   "execution_count": 87,
   "id": "89fb394e-81dd-4433-b1c0-7dbcbb21d6a4",
   "metadata": {
    "tags": []
   },
   "outputs": [],
   "source": [
    "# matche's values\n",
    "# readify some variables to make our operations more explicit\n",
    "kd_player = player_kills['KD'] if not player_kills['KD'] == 0 else 0.1\n",
    "kd_mean = round(players_quartiles['KD']['mean'], 1)\n",
    "kd_median = round(players_quartiles['KD']['50%'],1)\n",
    "kd_Q3 = round(players_quartiles['KD']['75%'],1)\n",
    "kd_max = round(players_quartiles['KD']['max'],1)\n",
    "\n",
    "\n",
    "kills_player = player_kills['Kills'] if not player_kills['KD'] == 0 else 0.1\n",
    "kills_mean = round(players_quartiles['Kills']['mean'], 1)\n",
    "kills_median = round(players_quartiles['Kills']['50%'],1)\n",
    "kills_Q3 = round(players_quartiles['Kills']['75%'],1)\n",
    "kills_max = round(players_quartiles['Kills']['max'],1)\n",
    "\n",
    "len_gauge_kd = 4\n",
    "len_gauge_kills = 4"
   ]
  },
  {
   "cell_type": "code",
   "execution_count": 88,
   "id": "6b79faf6-0f83-4f6d-a6bd-9ded9d2ddc60",
   "metadata": {},
   "outputs": [
    {
     "data": {
      "text/plain": [
       "1"
      ]
     },
     "execution_count": 88,
     "metadata": {},
     "output_type": "execute_result"
    }
   ],
   "source": [
    "kills_player"
   ]
  },
  {
   "cell_type": "code",
   "execution_count": 89,
   "id": "45255235-c1b6-4fc2-bfb9-98a30ea848a6",
   "metadata": {},
   "outputs": [
    {
     "data": {
      "application/vnd.plotly.v1+json": {
       "config": {
        "plotlyServerURL": "https://plot.ly"
       },
       "data": [
        {
         "delta": {
          "reference": 0.62
         },
         "domain": {
          "x": [
           0.1,
           1
          ],
          "y": [
           0.5,
           0.7
          ]
         },
         "gauge": {
          "axis": {
           "range": [
            null,
            4
           ],
           "tickmode": "array",
           "ticktext": [
            0.5,
            1,
            1.5,
            "...15"
           ],
           "tickvals": [
            0.5,
            1,
            1.5,
            4
           ]
          },
          "bar": {
           "color": "black"
          },
          "shape": "bullet",
          "steps": [
           {
            "color": "grey",
            "range": [
             0,
             0.5
            ]
           },
           {
            "color": "darkgrey",
            "range": [
             0.5,
             1
            ]
           },
           {
            "color": "lightgrey",
            "range": [
             1,
             1.5
            ]
           }
          ],
          "threshold": {
           "line": {
            "color": "black",
            "width": 2
           },
           "thickness": 0.75,
           "value": 0.62
          }
         },
         "mode": "number+gauge+delta",
         "title": {
          "font": {
           "size": 15
          },
          "text": "K/D"
         },
         "type": "indicator",
         "value": 0.2
        },
        {
         "delta": {
          "reference": 1.9
         },
         "domain": {
          "x": [
           0.1,
           1
          ],
          "y": [
           0.1,
           0.3
          ]
         },
         "gauge": {
          "axis": {
           "range": [
            null,
            4
           ],
           "tickmode": "array",
           "ticktext": [
            1,
            2.1,
            3,
            "...15"
           ],
           "tickvals": [
            1,
            2.1,
            3,
            4
           ]
          },
          "bar": {
           "color": "black"
          },
          "shape": "bullet",
          "steps": [
           {
            "color": "grey",
            "range": [
             0,
             1
            ]
           },
           {
            "color": "darkgrey",
            "range": [
             1,
             2.1
            ]
           },
           {
            "color": "lightgrey",
            "range": [
             2.1,
             3
            ]
           }
          ],
          "threshold": {
           "line": {
            "color": "black",
            "width": 2
           },
           "thickness": 0.75,
           "value": 1.9
          }
         },
         "mode": "number+gauge+delta",
         "title": {
          "font": {
           "size": 15
          },
          "text": "Kills"
         },
         "type": "indicator",
         "value": 1
        }
       ],
       "layout": {
        "height": 200,
        "margin": {
         "b": 0,
         "l": 20,
         "t": 0
        },
        "template": {
         "data": {
          "bar": [
           {
            "error_x": {
             "color": "#2a3f5f"
            },
            "error_y": {
             "color": "#2a3f5f"
            },
            "marker": {
             "line": {
              "color": "#E5ECF6",
              "width": 0.5
             },
             "pattern": {
              "fillmode": "overlay",
              "size": 10,
              "solidity": 0.2
             }
            },
            "type": "bar"
           }
          ],
          "barpolar": [
           {
            "marker": {
             "line": {
              "color": "#E5ECF6",
              "width": 0.5
             },
             "pattern": {
              "fillmode": "overlay",
              "size": 10,
              "solidity": 0.2
             }
            },
            "type": "barpolar"
           }
          ],
          "carpet": [
           {
            "aaxis": {
             "endlinecolor": "#2a3f5f",
             "gridcolor": "white",
             "linecolor": "white",
             "minorgridcolor": "white",
             "startlinecolor": "#2a3f5f"
            },
            "baxis": {
             "endlinecolor": "#2a3f5f",
             "gridcolor": "white",
             "linecolor": "white",
             "minorgridcolor": "white",
             "startlinecolor": "#2a3f5f"
            },
            "type": "carpet"
           }
          ],
          "choropleth": [
           {
            "colorbar": {
             "outlinewidth": 0,
             "ticks": ""
            },
            "type": "choropleth"
           }
          ],
          "contour": [
           {
            "colorbar": {
             "outlinewidth": 0,
             "ticks": ""
            },
            "colorscale": [
             [
              0,
              "#0d0887"
             ],
             [
              0.1111111111111111,
              "#46039f"
             ],
             [
              0.2222222222222222,
              "#7201a8"
             ],
             [
              0.3333333333333333,
              "#9c179e"
             ],
             [
              0.4444444444444444,
              "#bd3786"
             ],
             [
              0.5555555555555556,
              "#d8576b"
             ],
             [
              0.6666666666666666,
              "#ed7953"
             ],
             [
              0.7777777777777778,
              "#fb9f3a"
             ],
             [
              0.8888888888888888,
              "#fdca26"
             ],
             [
              1,
              "#f0f921"
             ]
            ],
            "type": "contour"
           }
          ],
          "contourcarpet": [
           {
            "colorbar": {
             "outlinewidth": 0,
             "ticks": ""
            },
            "type": "contourcarpet"
           }
          ],
          "heatmap": [
           {
            "colorbar": {
             "outlinewidth": 0,
             "ticks": ""
            },
            "colorscale": [
             [
              0,
              "#0d0887"
             ],
             [
              0.1111111111111111,
              "#46039f"
             ],
             [
              0.2222222222222222,
              "#7201a8"
             ],
             [
              0.3333333333333333,
              "#9c179e"
             ],
             [
              0.4444444444444444,
              "#bd3786"
             ],
             [
              0.5555555555555556,
              "#d8576b"
             ],
             [
              0.6666666666666666,
              "#ed7953"
             ],
             [
              0.7777777777777778,
              "#fb9f3a"
             ],
             [
              0.8888888888888888,
              "#fdca26"
             ],
             [
              1,
              "#f0f921"
             ]
            ],
            "type": "heatmap"
           }
          ],
          "heatmapgl": [
           {
            "colorbar": {
             "outlinewidth": 0,
             "ticks": ""
            },
            "colorscale": [
             [
              0,
              "#0d0887"
             ],
             [
              0.1111111111111111,
              "#46039f"
             ],
             [
              0.2222222222222222,
              "#7201a8"
             ],
             [
              0.3333333333333333,
              "#9c179e"
             ],
             [
              0.4444444444444444,
              "#bd3786"
             ],
             [
              0.5555555555555556,
              "#d8576b"
             ],
             [
              0.6666666666666666,
              "#ed7953"
             ],
             [
              0.7777777777777778,
              "#fb9f3a"
             ],
             [
              0.8888888888888888,
              "#fdca26"
             ],
             [
              1,
              "#f0f921"
             ]
            ],
            "type": "heatmapgl"
           }
          ],
          "histogram": [
           {
            "marker": {
             "pattern": {
              "fillmode": "overlay",
              "size": 10,
              "solidity": 0.2
             }
            },
            "type": "histogram"
           }
          ],
          "histogram2d": [
           {
            "colorbar": {
             "outlinewidth": 0,
             "ticks": ""
            },
            "colorscale": [
             [
              0,
              "#0d0887"
             ],
             [
              0.1111111111111111,
              "#46039f"
             ],
             [
              0.2222222222222222,
              "#7201a8"
             ],
             [
              0.3333333333333333,
              "#9c179e"
             ],
             [
              0.4444444444444444,
              "#bd3786"
             ],
             [
              0.5555555555555556,
              "#d8576b"
             ],
             [
              0.6666666666666666,
              "#ed7953"
             ],
             [
              0.7777777777777778,
              "#fb9f3a"
             ],
             [
              0.8888888888888888,
              "#fdca26"
             ],
             [
              1,
              "#f0f921"
             ]
            ],
            "type": "histogram2d"
           }
          ],
          "histogram2dcontour": [
           {
            "colorbar": {
             "outlinewidth": 0,
             "ticks": ""
            },
            "colorscale": [
             [
              0,
              "#0d0887"
             ],
             [
              0.1111111111111111,
              "#46039f"
             ],
             [
              0.2222222222222222,
              "#7201a8"
             ],
             [
              0.3333333333333333,
              "#9c179e"
             ],
             [
              0.4444444444444444,
              "#bd3786"
             ],
             [
              0.5555555555555556,
              "#d8576b"
             ],
             [
              0.6666666666666666,
              "#ed7953"
             ],
             [
              0.7777777777777778,
              "#fb9f3a"
             ],
             [
              0.8888888888888888,
              "#fdca26"
             ],
             [
              1,
              "#f0f921"
             ]
            ],
            "type": "histogram2dcontour"
           }
          ],
          "mesh3d": [
           {
            "colorbar": {
             "outlinewidth": 0,
             "ticks": ""
            },
            "type": "mesh3d"
           }
          ],
          "parcoords": [
           {
            "line": {
             "colorbar": {
              "outlinewidth": 0,
              "ticks": ""
             }
            },
            "type": "parcoords"
           }
          ],
          "pie": [
           {
            "automargin": true,
            "type": "pie"
           }
          ],
          "scatter": [
           {
            "marker": {
             "colorbar": {
              "outlinewidth": 0,
              "ticks": ""
             }
            },
            "type": "scatter"
           }
          ],
          "scatter3d": [
           {
            "line": {
             "colorbar": {
              "outlinewidth": 0,
              "ticks": ""
             }
            },
            "marker": {
             "colorbar": {
              "outlinewidth": 0,
              "ticks": ""
             }
            },
            "type": "scatter3d"
           }
          ],
          "scattercarpet": [
           {
            "marker": {
             "colorbar": {
              "outlinewidth": 0,
              "ticks": ""
             }
            },
            "type": "scattercarpet"
           }
          ],
          "scattergeo": [
           {
            "marker": {
             "colorbar": {
              "outlinewidth": 0,
              "ticks": ""
             }
            },
            "type": "scattergeo"
           }
          ],
          "scattergl": [
           {
            "marker": {
             "colorbar": {
              "outlinewidth": 0,
              "ticks": ""
             }
            },
            "type": "scattergl"
           }
          ],
          "scattermapbox": [
           {
            "marker": {
             "colorbar": {
              "outlinewidth": 0,
              "ticks": ""
             }
            },
            "type": "scattermapbox"
           }
          ],
          "scatterpolar": [
           {
            "marker": {
             "colorbar": {
              "outlinewidth": 0,
              "ticks": ""
             }
            },
            "type": "scatterpolar"
           }
          ],
          "scatterpolargl": [
           {
            "marker": {
             "colorbar": {
              "outlinewidth": 0,
              "ticks": ""
             }
            },
            "type": "scatterpolargl"
           }
          ],
          "scatterternary": [
           {
            "marker": {
             "colorbar": {
              "outlinewidth": 0,
              "ticks": ""
             }
            },
            "type": "scatterternary"
           }
          ],
          "surface": [
           {
            "colorbar": {
             "outlinewidth": 0,
             "ticks": ""
            },
            "colorscale": [
             [
              0,
              "#0d0887"
             ],
             [
              0.1111111111111111,
              "#46039f"
             ],
             [
              0.2222222222222222,
              "#7201a8"
             ],
             [
              0.3333333333333333,
              "#9c179e"
             ],
             [
              0.4444444444444444,
              "#bd3786"
             ],
             [
              0.5555555555555556,
              "#d8576b"
             ],
             [
              0.6666666666666666,
              "#ed7953"
             ],
             [
              0.7777777777777778,
              "#fb9f3a"
             ],
             [
              0.8888888888888888,
              "#fdca26"
             ],
             [
              1,
              "#f0f921"
             ]
            ],
            "type": "surface"
           }
          ],
          "table": [
           {
            "cells": {
             "fill": {
              "color": "#EBF0F8"
             },
             "line": {
              "color": "white"
             }
            },
            "header": {
             "fill": {
              "color": "#C8D4E3"
             },
             "line": {
              "color": "white"
             }
            },
            "type": "table"
           }
          ]
         },
         "layout": {
          "annotationdefaults": {
           "arrowcolor": "#2a3f5f",
           "arrowhead": 0,
           "arrowwidth": 1
          },
          "autotypenumbers": "strict",
          "coloraxis": {
           "colorbar": {
            "outlinewidth": 0,
            "ticks": ""
           }
          },
          "colorscale": {
           "diverging": [
            [
             0,
             "#8e0152"
            ],
            [
             0.1,
             "#c51b7d"
            ],
            [
             0.2,
             "#de77ae"
            ],
            [
             0.3,
             "#f1b6da"
            ],
            [
             0.4,
             "#fde0ef"
            ],
            [
             0.5,
             "#f7f7f7"
            ],
            [
             0.6,
             "#e6f5d0"
            ],
            [
             0.7,
             "#b8e186"
            ],
            [
             0.8,
             "#7fbc41"
            ],
            [
             0.9,
             "#4d9221"
            ],
            [
             1,
             "#276419"
            ]
           ],
           "sequential": [
            [
             0,
             "#0d0887"
            ],
            [
             0.1111111111111111,
             "#46039f"
            ],
            [
             0.2222222222222222,
             "#7201a8"
            ],
            [
             0.3333333333333333,
             "#9c179e"
            ],
            [
             0.4444444444444444,
             "#bd3786"
            ],
            [
             0.5555555555555556,
             "#d8576b"
            ],
            [
             0.6666666666666666,
             "#ed7953"
            ],
            [
             0.7777777777777778,
             "#fb9f3a"
            ],
            [
             0.8888888888888888,
             "#fdca26"
            ],
            [
             1,
             "#f0f921"
            ]
           ],
           "sequentialminus": [
            [
             0,
             "#0d0887"
            ],
            [
             0.1111111111111111,
             "#46039f"
            ],
            [
             0.2222222222222222,
             "#7201a8"
            ],
            [
             0.3333333333333333,
             "#9c179e"
            ],
            [
             0.4444444444444444,
             "#bd3786"
            ],
            [
             0.5555555555555556,
             "#d8576b"
            ],
            [
             0.6666666666666666,
             "#ed7953"
            ],
            [
             0.7777777777777778,
             "#fb9f3a"
            ],
            [
             0.8888888888888888,
             "#fdca26"
            ],
            [
             1,
             "#f0f921"
            ]
           ]
          },
          "colorway": [
           "#636efa",
           "#EF553B",
           "#00cc96",
           "#ab63fa",
           "#FFA15A",
           "#19d3f3",
           "#FF6692",
           "#B6E880",
           "#FF97FF",
           "#FECB52"
          ],
          "font": {
           "color": "#2a3f5f"
          },
          "geo": {
           "bgcolor": "white",
           "lakecolor": "white",
           "landcolor": "#E5ECF6",
           "showlakes": true,
           "showland": true,
           "subunitcolor": "white"
          },
          "hoverlabel": {
           "align": "left"
          },
          "hovermode": "closest",
          "mapbox": {
           "style": "light"
          },
          "paper_bgcolor": "white",
          "plot_bgcolor": "#E5ECF6",
          "polar": {
           "angularaxis": {
            "gridcolor": "white",
            "linecolor": "white",
            "ticks": ""
           },
           "bgcolor": "#E5ECF6",
           "radialaxis": {
            "gridcolor": "white",
            "linecolor": "white",
            "ticks": ""
           }
          },
          "scene": {
           "xaxis": {
            "backgroundcolor": "#E5ECF6",
            "gridcolor": "white",
            "gridwidth": 2,
            "linecolor": "white",
            "showbackground": true,
            "ticks": "",
            "zerolinecolor": "white"
           },
           "yaxis": {
            "backgroundcolor": "#E5ECF6",
            "gridcolor": "white",
            "gridwidth": 2,
            "linecolor": "white",
            "showbackground": true,
            "ticks": "",
            "zerolinecolor": "white"
           },
           "zaxis": {
            "backgroundcolor": "#E5ECF6",
            "gridcolor": "white",
            "gridwidth": 2,
            "linecolor": "white",
            "showbackground": true,
            "ticks": "",
            "zerolinecolor": "white"
           }
          },
          "shapedefaults": {
           "line": {
            "color": "#2a3f5f"
           }
          },
          "ternary": {
           "aaxis": {
            "gridcolor": "white",
            "linecolor": "white",
            "ticks": ""
           },
           "baxis": {
            "gridcolor": "white",
            "linecolor": "white",
            "ticks": ""
           },
           "bgcolor": "#E5ECF6",
           "caxis": {
            "gridcolor": "white",
            "linecolor": "white",
            "ticks": ""
           }
          },
          "title": {
           "x": 0.05
          },
          "xaxis": {
           "automargin": true,
           "gridcolor": "white",
           "linecolor": "white",
           "ticks": "",
           "title": {
            "standoff": 15
           },
           "zerolinecolor": "white",
           "zerolinewidth": 2
          },
          "yaxis": {
           "automargin": true,
           "gridcolor": "white",
           "linecolor": "white",
           "ticks": "",
           "title": {
            "standoff": 15
           },
           "zerolinecolor": "white",
           "zerolinewidth": 2
          }
         }
        },
        "width": 600
       }
      },
      "image/png": "[encoded data removed]",
      "text/html": [
       "<div>                            <div id=\"50e45114-f3bc-4989-99e7-1b9da5c883ac\" class=\"plotly-graph-div\" style=\"height:200px; width:600px;\"></div>            <script type=\"text/javascript\">                require([\"plotly\"], function(Plotly) {                    window.PLOTLYENV=window.PLOTLYENV || {};                                    if (document.getElementById(\"50e45114-f3bc-4989-99e7-1b9da5c883ac\")) {                    Plotly.newPlot(                        \"50e45114-f3bc-4989-99e7-1b9da5c883ac\",                        [{\"delta\":{\"reference\":0.62},\"domain\":{\"x\":[0.1,1],\"y\":[0.5,0.7]},\"gauge\":{\"axis\":{\"range\":[null,4],\"tickmode\":\"array\",\"ticktext\":[0.5,1.0,1.5,\"...15\"],\"tickvals\":[0.5,1.0,1.5,4]},\"bar\":{\"color\":\"black\"},\"shape\":\"bullet\",\"steps\":[{\"color\":\"grey\",\"range\":[0,0.5]},{\"color\":\"darkgrey\",\"range\":[0.5,1.0]},{\"color\":\"lightgrey\",\"range\":[1.0,1.5]}],\"threshold\":{\"line\":{\"color\":\"black\",\"width\":2},\"thickness\":0.75,\"value\":0.62}},\"mode\":\"number+gauge+delta\",\"title\":{\"font\":{\"size\":15},\"text\":\"K/D\"},\"type\":\"indicator\",\"value\":0.2},{\"delta\":{\"reference\":1.9},\"domain\":{\"x\":[0.1,1],\"y\":[0.1,0.3]},\"gauge\":{\"axis\":{\"range\":[null,4],\"tickmode\":\"array\",\"ticktext\":[1.0,2.1,3.0,\"...15\"],\"tickvals\":[1.0,2.1,3.0,4]},\"bar\":{\"color\":\"black\"},\"shape\":\"bullet\",\"steps\":[{\"color\":\"grey\",\"range\":[0,1.0]},{\"color\":\"darkgrey\",\"range\":[1.0,2.1]},{\"color\":\"lightgrey\",\"range\":[2.1,3.0]}],\"threshold\":{\"line\":{\"color\":\"black\",\"width\":2},\"thickness\":0.75,\"value\":1.9}},\"mode\":\"number+gauge+delta\",\"title\":{\"font\":{\"size\":15},\"text\":\"Kills\"},\"type\":\"indicator\",\"value\":1}],                        {\"height\":200,\"margin\":{\"b\":0,\"l\":20,\"t\":0},\"template\":{\"data\":{\"bar\":[{\"error_x\":{\"color\":\"#2a3f5f\"},\"error_y\":{\"color\":\"#2a3f5f\"},\"marker\":{\"line\":{\"color\":\"#E5ECF6\",\"width\":0.5},\"pattern\":{\"fillmode\":\"overlay\",\"size\":10,\"solidity\":0.2}},\"type\":\"bar\"}],\"barpolar\":[{\"marker\":{\"line\":{\"color\":\"#E5ECF6\",\"width\":0.5},\"pattern\":{\"fillmode\":\"overlay\",\"size\":10,\"solidity\":0.2}},\"type\":\"barpolar\"}],\"carpet\":[{\"aaxis\":{\"endlinecolor\":\"#2a3f5f\",\"gridcolor\":\"white\",\"linecolor\":\"white\",\"minorgridcolor\":\"white\",\"startlinecolor\":\"#2a3f5f\"},\"baxis\":{\"endlinecolor\":\"#2a3f5f\",\"gridcolor\":\"white\",\"linecolor\":\"white\",\"minorgridcolor\":\"white\",\"startlinecolor\":\"#2a3f5f\"},\"type\":\"carpet\"}],\"choropleth\":[{\"colorbar\":{\"outlinewidth\":0,\"ticks\":\"\"},\"type\":\"choropleth\"}],\"contour\":[{\"colorbar\":{\"outlinewidth\":0,\"ticks\":\"\"},\"colorscale\":[[0.0,\"#0d0887\"],[0.1111111111111111,\"#46039f\"],[0.2222222222222222,\"#7201a8\"],[0.3333333333333333,\"#9c179e\"],[0.4444444444444444,\"#bd3786\"],[0.5555555555555556,\"#d8576b\"],[0.6666666666666666,\"#ed7953\"],[0.7777777777777778,\"#fb9f3a\"],[0.8888888888888888,\"#fdca26\"],[1.0,\"#f0f921\"]],\"type\":\"contour\"}],\"contourcarpet\":[{\"colorbar\":{\"outlinewidth\":0,\"ticks\":\"\"},\"type\":\"contourcarpet\"}],\"heatmap\":[{\"colorbar\":{\"outlinewidth\":0,\"ticks\":\"\"},\"colorscale\":[[0.0,\"#0d0887\"],[0.1111111111111111,\"#46039f\"],[0.2222222222222222,\"#7201a8\"],[0.3333333333333333,\"#9c179e\"],[0.4444444444444444,\"#bd3786\"],[0.5555555555555556,\"#d8576b\"],[0.6666666666666666,\"#ed7953\"],[0.7777777777777778,\"#fb9f3a\"],[0.8888888888888888,\"#fdca26\"],[1.0,\"#f0f921\"]],\"type\":\"heatmap\"}],\"heatmapgl\":[{\"colorbar\":{\"outlinewidth\":0,\"ticks\":\"\"},\"colorscale\":[[0.0,\"#0d0887\"],[0.1111111111111111,\"#46039f\"],[0.2222222222222222,\"#7201a8\"],[0.3333333333333333,\"#9c179e\"],[0.4444444444444444,\"#bd3786\"],[0.5555555555555556,\"#d8576b\"],[0.6666666666666666,\"#ed7953\"],[0.7777777777777778,\"#fb9f3a\"],[0.8888888888888888,\"#fdca26\"],[1.0,\"#f0f921\"]],\"type\":\"heatmapgl\"}],\"histogram\":[{\"marker\":{\"pattern\":{\"fillmode\":\"overlay\",\"size\":10,\"solidity\":0.2}},\"type\":\"histogram\"}],\"histogram2d\":[{\"colorbar\":{\"outlinewidth\":0,\"ticks\":\"\"},\"colorscale\":[[0.0,\"#0d0887\"],[0.1111111111111111,\"#46039f\"],[0.2222222222222222,\"#7201a8\"],[0.3333333333333333,\"#9c179e\"],[0.4444444444444444,\"#bd3786\"],[0.5555555555555556,\"#d8576b\"],[0.6666666666666666,\"#ed7953\"],[0.7777777777777778,\"#fb9f3a\"],[0.8888888888888888,\"#fdca26\"],[1.0,\"#f0f921\"]],\"type\":\"histogram2d\"}],\"histogram2dcontour\":[{\"colorbar\":{\"outlinewidth\":0,\"ticks\":\"\"},\"colorscale\":[[0.0,\"#0d0887\"],[0.1111111111111111,\"#46039f\"],[0.2222222222222222,\"#7201a8\"],[0.3333333333333333,\"#9c179e\"],[0.4444444444444444,\"#bd3786\"],[0.5555555555555556,\"#d8576b\"],[0.6666666666666666,\"#ed7953\"],[0.7777777777777778,\"#fb9f3a\"],[0.8888888888888888,\"#fdca26\"],[1.0,\"#f0f921\"]],\"type\":\"histogram2dcontour\"}],\"mesh3d\":[{\"colorbar\":{\"outlinewidth\":0,\"ticks\":\"\"},\"type\":\"mesh3d\"}],\"parcoords\":[{\"line\":{\"colorbar\":{\"outlinewidth\":0,\"ticks\":\"\"}},\"type\":\"parcoords\"}],\"pie\":[{\"automargin\":true,\"type\":\"pie\"}],\"scatter\":[{\"marker\":{\"colorbar\":{\"outlinewidth\":0,\"ticks\":\"\"}},\"type\":\"scatter\"}],\"scatter3d\":[{\"line\":{\"colorbar\":{\"outlinewidth\":0,\"ticks\":\"\"}},\"marker\":{\"colorbar\":{\"outlinewidth\":0,\"ticks\":\"\"}},\"type\":\"scatter3d\"}],\"scattercarpet\":[{\"marker\":{\"colorbar\":{\"outlinewidth\":0,\"ticks\":\"\"}},\"type\":\"scattercarpet\"}],\"scattergeo\":[{\"marker\":{\"colorbar\":{\"outlinewidth\":0,\"ticks\":\"\"}},\"type\":\"scattergeo\"}],\"scattergl\":[{\"marker\":{\"colorbar\":{\"outlinewidth\":0,\"ticks\":\"\"}},\"type\":\"scattergl\"}],\"scattermapbox\":[{\"marker\":{\"colorbar\":{\"outlinewidth\":0,\"ticks\":\"\"}},\"type\":\"scattermapbox\"}],\"scatterpolar\":[{\"marker\":{\"colorbar\":{\"outlinewidth\":0,\"ticks\":\"\"}},\"type\":\"scatterpolar\"}],\"scatterpolargl\":[{\"marker\":{\"colorbar\":{\"outlinewidth\":0,\"ticks\":\"\"}},\"type\":\"scatterpolargl\"}],\"scatterternary\":[{\"marker\":{\"colorbar\":{\"outlinewidth\":0,\"ticks\":\"\"}},\"type\":\"scatterternary\"}],\"surface\":[{\"colorbar\":{\"outlinewidth\":0,\"ticks\":\"\"},\"colorscale\":[[0.0,\"#0d0887\"],[0.1111111111111111,\"#46039f\"],[0.2222222222222222,\"#7201a8\"],[0.3333333333333333,\"#9c179e\"],[0.4444444444444444,\"#bd3786\"],[0.5555555555555556,\"#d8576b\"],[0.6666666666666666,\"#ed7953\"],[0.7777777777777778,\"#fb9f3a\"],[0.8888888888888888,\"#fdca26\"],[1.0,\"#f0f921\"]],\"type\":\"surface\"}],\"table\":[{\"cells\":{\"fill\":{\"color\":\"#EBF0F8\"},\"line\":{\"color\":\"white\"}},\"header\":{\"fill\":{\"color\":\"#C8D4E3\"},\"line\":{\"color\":\"white\"}},\"type\":\"table\"}]},\"layout\":{\"annotationdefaults\":{\"arrowcolor\":\"#2a3f5f\",\"arrowhead\":0,\"arrowwidth\":1},\"autotypenumbers\":\"strict\",\"coloraxis\":{\"colorbar\":{\"outlinewidth\":0,\"ticks\":\"\"}},\"colorscale\":{\"diverging\":[[0,\"#8e0152\"],[0.1,\"#c51b7d\"],[0.2,\"#de77ae\"],[0.3,\"#f1b6da\"],[0.4,\"#fde0ef\"],[0.5,\"#f7f7f7\"],[0.6,\"#e6f5d0\"],[0.7,\"#b8e186\"],[0.8,\"#7fbc41\"],[0.9,\"#4d9221\"],[1,\"#276419\"]],\"sequential\":[[0.0,\"#0d0887\"],[0.1111111111111111,\"#46039f\"],[0.2222222222222222,\"#7201a8\"],[0.3333333333333333,\"#9c179e\"],[0.4444444444444444,\"#bd3786\"],[0.5555555555555556,\"#d8576b\"],[0.6666666666666666,\"#ed7953\"],[0.7777777777777778,\"#fb9f3a\"],[0.8888888888888888,\"#fdca26\"],[1.0,\"#f0f921\"]],\"sequentialminus\":[[0.0,\"#0d0887\"],[0.1111111111111111,\"#46039f\"],[0.2222222222222222,\"#7201a8\"],[0.3333333333333333,\"#9c179e\"],[0.4444444444444444,\"#bd3786\"],[0.5555555555555556,\"#d8576b\"],[0.6666666666666666,\"#ed7953\"],[0.7777777777777778,\"#fb9f3a\"],[0.8888888888888888,\"#fdca26\"],[1.0,\"#f0f921\"]]},\"colorway\":[\"#636efa\",\"#EF553B\",\"#00cc96\",\"#ab63fa\",\"#FFA15A\",\"#19d3f3\",\"#FF6692\",\"#B6E880\",\"#FF97FF\",\"#FECB52\"],\"font\":{\"color\":\"#2a3f5f\"},\"geo\":{\"bgcolor\":\"white\",\"lakecolor\":\"white\",\"landcolor\":\"#E5ECF6\",\"showlakes\":true,\"showland\":true,\"subunitcolor\":\"white\"},\"hoverlabel\":{\"align\":\"left\"},\"hovermode\":\"closest\",\"mapbox\":{\"style\":\"light\"},\"paper_bgcolor\":\"white\",\"plot_bgcolor\":\"#E5ECF6\",\"polar\":{\"angularaxis\":{\"gridcolor\":\"white\",\"linecolor\":\"white\",\"ticks\":\"\"},\"bgcolor\":\"#E5ECF6\",\"radialaxis\":{\"gridcolor\":\"white\",\"linecolor\":\"white\",\"ticks\":\"\"}},\"scene\":{\"xaxis\":{\"backgroundcolor\":\"#E5ECF6\",\"gridcolor\":\"white\",\"gridwidth\":2,\"linecolor\":\"white\",\"showbackground\":true,\"ticks\":\"\",\"zerolinecolor\":\"white\"},\"yaxis\":{\"backgroundcolor\":\"#E5ECF6\",\"gridcolor\":\"white\",\"gridwidth\":2,\"linecolor\":\"white\",\"showbackground\":true,\"ticks\":\"\",\"zerolinecolor\":\"white\"},\"zaxis\":{\"backgroundcolor\":\"#E5ECF6\",\"gridcolor\":\"white\",\"gridwidth\":2,\"linecolor\":\"white\",\"showbackground\":true,\"ticks\":\"\",\"zerolinecolor\":\"white\"}},\"shapedefaults\":{\"line\":{\"color\":\"#2a3f5f\"}},\"ternary\":{\"aaxis\":{\"gridcolor\":\"white\",\"linecolor\":\"white\",\"ticks\":\"\"},\"baxis\":{\"gridcolor\":\"white\",\"linecolor\":\"white\",\"ticks\":\"\"},\"bgcolor\":\"#E5ECF6\",\"caxis\":{\"gridcolor\":\"white\",\"linecolor\":\"white\",\"ticks\":\"\"}},\"title\":{\"x\":0.05},\"xaxis\":{\"automargin\":true,\"gridcolor\":\"white\",\"linecolor\":\"white\",\"ticks\":\"\",\"title\":{\"standoff\":15},\"zerolinecolor\":\"white\",\"zerolinewidth\":2},\"yaxis\":{\"automargin\":true,\"gridcolor\":\"white\",\"linecolor\":\"white\",\"ticks\":\"\",\"title\":{\"standoff\":15},\"zerolinecolor\":\"white\",\"zerolinewidth\":2}}},\"width\":600},                        {\"responsive\": true}                    ).then(function(){\n",
       "                            \n",
       "var gd = document.getElementById('50e45114-f3bc-4989-99e7-1b9da5c883ac');\n",
       "var x = new MutationObserver(function (mutations, observer) {{\n",
       "        var display = window.getComputedStyle(gd).display;\n",
       "        if (!display || display === 'none') {{\n",
       "            console.log([gd, 'removed!']);\n",
       "            Plotly.purge(gd);\n",
       "            observer.disconnect();\n",
       "        }}\n",
       "}});\n",
       "\n",
       "// Listen for the removal of the full notebook cells\n",
       "var notebookContainer = gd.closest('#notebook-container');\n",
       "if (notebookContainer) {{\n",
       "    x.observe(notebookContainer, {childList: true});\n",
       "}}\n",
       "\n",
       "// Listen for the clearing of the current output cell\n",
       "var outputEl = gd.closest('.output');\n",
       "if (outputEl) {{\n",
       "    x.observe(outputEl, {childList: true});\n",
       "}}\n",
       "\n",
       "                        })                };                });            </script>        </div>"
      ]
     },
     "metadata": {},
     "output_type": "display_data"
    }
   ],
   "source": [
    "fig = go.Figure()\n",
    "\n",
    "# plot kd bullet chart\n",
    "ticks = [kd_median, kd_mean, kd_Q3, len_gauge_kd]\n",
    "\n",
    "fig.add_trace(go.Indicator(\n",
    "    mode = \"number+gauge+delta\", value = kd_player,\n",
    "    domain = {'x': [0.1, 1], 'y': [0.5, 0.7]},\n",
    "    title = {'text' :\"K/D\", 'font_size':15},\n",
    "    delta = {'reference': lifetime_kd},\n",
    "    gauge = {\n",
    "        'shape': \"bullet\",\n",
    "        'axis': {\n",
    "            'range': [None, len_gauge_kd],\n",
    "            'tickmode':'array',\n",
    "            'tickvals':ticks,\n",
    "            'ticktext':[f\"...{int(kills_max)}\" if i == len_gauge_kd else i for i in ticks]\n",
    "        },\n",
    "        'threshold': {\n",
    "            'line': {'color': \"black\", 'width': 2},\n",
    "            'thickness': 0.75,\n",
    "            'value': lifetime_kd},\n",
    "        'steps': [\n",
    "            {'range': [0, kd_median], 'color': \"grey\"},\n",
    "            {'range': [kd_median, kd_mean], 'color': \"darkgrey\"},\n",
    "            {'range': [kd_mean, kd_Q3], 'color': \"lightgrey\"}],\n",
    "        'bar': {'color': \"black\"}\n",
    "    }))\n",
    "\n",
    "# plot kills bullet chart\n",
    "ticks = [kills_median, kills_mean, kills_Q3, len_gauge_kills]\n",
    "\n",
    "fig.add_trace(go.Indicator(\n",
    "    mode = \"number+gauge+delta\", value = kills_player,\n",
    "    domain = {'x': [0.1, 1], 'y': [0.1, 0.3]},\n",
    "    title = {'text' :\"Kills\", 'font_size':15},\n",
    "    delta = {'reference': lifetime_kills_ratio},\n",
    "    gauge = {\n",
    "        'shape': \"bullet\",\n",
    "        'axis': {\n",
    "            'range': [None, len_gauge_kills],\n",
    "            'tickmode':'array',\n",
    "            'tickvals':ticks,\n",
    "            'ticktext':[f\"...{int(kills_max)}\" if i == len_gauge_kills else i for i in ticks]\n",
    "        },\n",
    "        'threshold': {\n",
    "            'line': {'color': \"black\", 'width': 2},\n",
    "            'thickness': 0.75,\n",
    "            'value': lifetime_kills_ratio},\n",
    "        'steps': [\n",
    "            {'range': [0, kills_median], 'color': \"grey\"},\n",
    "            {'range': [kills_median, kills_mean], 'color': \"darkgrey\"},\n",
    "            {'range': [kills_mean, kills_Q3], 'color': \"lightgrey\"}],\n",
    "        'bar': {'color': \"black\"}\n",
    "    }))\n",
    "\n",
    "\n",
    "fig.update_layout(\n",
    "    height = 200,\n",
    "    width = 600,\n",
    "    margin = {'t':0, 'b':0, 'l':20}\n",
    ")\n",
    "\n",
    "fig.show()"
   ]
  },
  {
   "cell_type": "markdown",
   "id": "28dd148b-7f9e-4595-be21-f6de1a001ea5",
   "metadata": {},
   "source": [
    "#### Sankey / Flow Chart tests"
   ]
  },
  {
   "cell_type": "code",
   "execution_count": 90,
   "id": "ff762a65-9fa6-44e4-a86a-0eaed58fcc52",
   "metadata": {},
   "outputs": [],
   "source": [
    "# model"
   ]
  },
  {
   "cell_type": "code",
   "execution_count": 91,
   "id": "68c39a1b-586b-4c15-a4b9-688783243542",
   "metadata": {},
   "outputs": [
    {
     "data": {
      "text/html": [
       "<div>\n",
       "<style scoped>\n",
       "    .dataframe tbody tr th:only-of-type {\n",
       "        vertical-align: middle;\n",
       "    }\n",
       "\n",
       "    .dataframe tbody tr th {\n",
       "        vertical-align: top;\n",
       "    }\n",
       "\n",
       "    .dataframe thead th {\n",
       "        text-align: right;\n",
       "    }\n",
       "</style>\n",
       "<table border=\"1\" class=\"dataframe\">\n",
       "  <thead>\n",
       "    <tr style=\"text-align: right;\">\n",
       "      <th></th>\n",
       "      <th>utcStartSeconds</th>\n",
       "      <th>utcEndSeconds</th>\n",
       "      <th>map</th>\n",
       "      <th>mode</th>\n",
       "      <th>matchID</th>\n",
       "      <th>duration</th>\n",
       "      <th>playlistName</th>\n",
       "      <th>version</th>\n",
       "      <th>gameType</th>\n",
       "      <th>playerCount</th>\n",
       "      <th>playerStats</th>\n",
       "      <th>player</th>\n",
       "      <th>teamCount</th>\n",
       "      <th>rankedTeams</th>\n",
       "      <th>draw</th>\n",
       "      <th>privateMatch</th>\n",
       "    </tr>\n",
       "  </thead>\n",
       "  <tbody>\n",
       "    <tr>\n",
       "      <th>0</th>\n",
       "      <td>1637275401</td>\n",
       "      <td>1637277038</td>\n",
       "      <td>mp_don4</td>\n",
       "      <td>br_brtrios</td>\n",
       "      <td>5010761031247628577</td>\n",
       "      <td>1637000</td>\n",
       "      <td>None</td>\n",
       "      <td>1</td>\n",
       "      <td>wz</td>\n",
       "      <td>151</td>\n",
       "      <td>{'kills': 0.0, 'medalXp': 0.0, 'matchXp': 541....</td>\n",
       "      <td>{'team': 'team_forty', 'rank': 54.0, 'awards':...</td>\n",
       "      <td>53</td>\n",
       "      <td>None</td>\n",
       "      <td>False</td>\n",
       "      <td>False</td>\n",
       "    </tr>\n",
       "  </tbody>\n",
       "</table>\n",
       "</div>"
      ],
      "text/plain": [
       "   utcStartSeconds  utcEndSeconds      map        mode              matchID  \\\n",
       "0       1637275401     1637277038  mp_don4  br_brtrios  5010761031247628577   \n",
       "\n",
       "   duration playlistName  version gameType  playerCount  \\\n",
       "0   1637000         None        1       wz          151   \n",
       "\n",
       "                                         playerStats  \\\n",
       "0  {'kills': 0.0, 'medalXp': 0.0, 'matchXp': 541....   \n",
       "\n",
       "                                              player  teamCount rankedTeams  \\\n",
       "0  {'team': 'team_forty', 'rank': 54.0, 'awards':...         53        None   \n",
       "\n",
       "    draw  privateMatch  \n",
       "0  False         False  "
      ]
     },
     "metadata": {},
     "output_type": "display_data"
    },
    {
     "name": "stdout",
     "output_type": "stream",
     "text": [
      "Index(['utcStartSeconds', 'utcEndSeconds', 'map', 'mode', 'matchID',\n",
      "       'duration', 'playlistName', 'version', 'gameType', 'playerCount',\n",
      "       'playerStats', 'player', 'teamCount', 'rankedTeams', 'draw',\n",
      "       'privateMatch'],\n",
      "      dtype='object')\n"
     ]
    }
   ],
   "source": [
    "# load offline data\n",
    "with open('match.pkl', 'rb') as f:\n",
    "    match = pickle.load(f)\n",
    "match = pd.DataFrame(match)\n",
    "display(match.head(1))\n",
    "print(match.keys())"
   ]
  },
  {
   "cell_type": "code",
   "execution_count": 92,
   "id": "40b4b81e-ee54-488c-81cb-fa52f08636e3",
   "metadata": {},
   "outputs": [],
   "source": [
    "# Build our players kills etc data\n",
    "\n",
    "player_col = match['player'].apply(pd.Series)\n",
    "player_stats_col = match['playerStats'].apply(pd.Series)\n",
    "\n",
    "keep_cols = [\n",
    "    'username',\n",
    "    'team',\n",
    "    'duration',\n",
    "    'teamSurvivalTime',\n",
    "    'timePlayed',  \n",
    "    'teamPlacement',\n",
    "    'kills',\n",
    "    'objectiveBrDownEnemyCircle1',\n",
    "    'objectiveBrDownEnemyCircle2',\n",
    "    'objectiveBrDownEnemyCircle3',\n",
    "    'objectiveBrDownEnemyCircle4',\n",
    "    'objectiveBrDownEnemyCircle5',\n",
    "    'objectiveBrDownEnemyCircle6'\n",
    "]"
   ]
  },
  {
   "cell_type": "code",
   "execution_count": 94,
   "id": "adff4023-d2c2-4b93-b9e3-559c9fd9d401",
   "metadata": {},
   "outputs": [
    {
     "data": {
      "text/html": [
       "<div>\n",
       "<style scoped>\n",
       "    .dataframe tbody tr th:only-of-type {\n",
       "        vertical-align: middle;\n",
       "    }\n",
       "\n",
       "    .dataframe tbody tr th {\n",
       "        vertical-align: top;\n",
       "    }\n",
       "\n",
       "    .dataframe thead th {\n",
       "        text-align: right;\n",
       "    }\n",
       "</style>\n",
       "<table border=\"1\" class=\"dataframe\">\n",
       "  <thead>\n",
       "    <tr style=\"text-align: right;\">\n",
       "      <th></th>\n",
       "      <th>username</th>\n",
       "      <th>team</th>\n",
       "      <th>duration</th>\n",
       "      <th>teamSurvivalTime</th>\n",
       "      <th>timePlayed</th>\n",
       "      <th>teamPlacement</th>\n",
       "      <th>kills</th>\n",
       "      <th>objectiveBrDownEnemyCircle1</th>\n",
       "      <th>objectiveBrDownEnemyCircle2</th>\n",
       "      <th>objectiveBrDownEnemyCircle3</th>\n",
       "      <th>objectiveBrDownEnemyCircle4</th>\n",
       "      <th>objectiveBrDownEnemyCircle5</th>\n",
       "      <th>objectiveBrDownEnemyCircle6</th>\n",
       "    </tr>\n",
       "  </thead>\n",
       "  <tbody>\n",
       "    <tr>\n",
       "      <th>124</th>\n",
       "      <td>DeadlyXhen</td>\n",
       "      <td>team_twenty</td>\n",
       "      <td>1637000</td>\n",
       "      <td>1590864.0</td>\n",
       "      <td>1739.0</td>\n",
       "      <td>1.0</td>\n",
       "      <td>15.0</td>\n",
       "      <td>8.0</td>\n",
       "      <td>3.0</td>\n",
       "      <td>1.0</td>\n",
       "      <td>NaN</td>\n",
       "      <td>2.0</td>\n",
       "      <td>3.0</td>\n",
       "    </tr>\n",
       "    <tr>\n",
       "      <th>27</th>\n",
       "      <td>Cunny-Boss</td>\n",
       "      <td>team_thirty_three</td>\n",
       "      <td>1637000</td>\n",
       "      <td>1379568.0</td>\n",
       "      <td>1454.0</td>\n",
       "      <td>5.0</td>\n",
       "      <td>11.0</td>\n",
       "      <td>7.0</td>\n",
       "      <td>NaN</td>\n",
       "      <td>6.0</td>\n",
       "      <td>NaN</td>\n",
       "      <td>NaN</td>\n",
       "      <td>NaN</td>\n",
       "    </tr>\n",
       "    <tr>\n",
       "      <th>18</th>\n",
       "      <td>GaelJMG</td>\n",
       "      <td>team_twenty_five</td>\n",
       "      <td>1637000</td>\n",
       "      <td>1590864.0</td>\n",
       "      <td>1674.0</td>\n",
       "      <td>2.0</td>\n",
       "      <td>10.0</td>\n",
       "      <td>5.0</td>\n",
       "      <td>1.0</td>\n",
       "      <td>1.0</td>\n",
       "      <td>NaN</td>\n",
       "      <td>2.0</td>\n",
       "      <td>1.0</td>\n",
       "    </tr>\n",
       "  </tbody>\n",
       "</table>\n",
       "</div>"
      ],
      "text/plain": [
       "       username               team  duration  teamSurvivalTime  timePlayed  \\\n",
       "124  DeadlyXhen        team_twenty   1637000         1590864.0      1739.0   \n",
       "27   Cunny-Boss  team_thirty_three   1637000         1379568.0      1454.0   \n",
       "18      GaelJMG   team_twenty_five   1637000         1590864.0      1674.0   \n",
       "\n",
       "     teamPlacement  kills  objectiveBrDownEnemyCircle1  \\\n",
       "124            1.0   15.0                          8.0   \n",
       "27             5.0   11.0                          7.0   \n",
       "18             2.0   10.0                          5.0   \n",
       "\n",
       "     objectiveBrDownEnemyCircle2  objectiveBrDownEnemyCircle3  \\\n",
       "124                          3.0                          1.0   \n",
       "27                           NaN                          6.0   \n",
       "18                           1.0                          1.0   \n",
       "\n",
       "     objectiveBrDownEnemyCircle4  objectiveBrDownEnemyCircle5  \\\n",
       "124                          NaN                          2.0   \n",
       "27                           NaN                          NaN   \n",
       "18                           NaN                          2.0   \n",
       "\n",
       "     objectiveBrDownEnemyCircle6  \n",
       "124                          3.0  \n",
       "27                           NaN  \n",
       "18                           1.0  "
      ]
     },
     "metadata": {},
     "output_type": "display_data"
    },
    {
     "data": {
      "text/html": [
       "<div>\n",
       "<style scoped>\n",
       "    .dataframe tbody tr th:only-of-type {\n",
       "        vertical-align: middle;\n",
       "    }\n",
       "\n",
       "    .dataframe tbody tr th {\n",
       "        vertical-align: top;\n",
       "    }\n",
       "\n",
       "    .dataframe thead th {\n",
       "        text-align: right;\n",
       "    }\n",
       "</style>\n",
       "<table border=\"1\" class=\"dataframe\">\n",
       "  <thead>\n",
       "    <tr style=\"text-align: right;\">\n",
       "      <th></th>\n",
       "      <th>username</th>\n",
       "      <th>team</th>\n",
       "      <th>duration</th>\n",
       "      <th>teamSurvivalTime</th>\n",
       "      <th>timePlayed</th>\n",
       "      <th>teamPlacement</th>\n",
       "      <th>kills</th>\n",
       "      <th>objectiveBrDownEnemyCircle1</th>\n",
       "      <th>objectiveBrDownEnemyCircle2</th>\n",
       "      <th>objectiveBrDownEnemyCircle3</th>\n",
       "      <th>objectiveBrDownEnemyCircle4</th>\n",
       "      <th>objectiveBrDownEnemyCircle5</th>\n",
       "      <th>objectiveBrDownEnemyCircle6</th>\n",
       "    </tr>\n",
       "  </thead>\n",
       "  <tbody>\n",
       "    <tr>\n",
       "      <th>138</th>\n",
       "      <td>THEFATHER</td>\n",
       "      <td>team_twenty</td>\n",
       "      <td>1637000</td>\n",
       "      <td>1590864.0</td>\n",
       "      <td>1722.0</td>\n",
       "      <td>1.0</td>\n",
       "      <td>7.0</td>\n",
       "      <td>4.0</td>\n",
       "      <td>1.0</td>\n",
       "      <td>1.0</td>\n",
       "      <td>1.0</td>\n",
       "      <td>NaN</td>\n",
       "      <td>NaN</td>\n",
       "    </tr>\n",
       "    <tr>\n",
       "      <th>124</th>\n",
       "      <td>DeadlyXhen</td>\n",
       "      <td>team_twenty</td>\n",
       "      <td>1637000</td>\n",
       "      <td>1590864.0</td>\n",
       "      <td>1739.0</td>\n",
       "      <td>1.0</td>\n",
       "      <td>15.0</td>\n",
       "      <td>8.0</td>\n",
       "      <td>3.0</td>\n",
       "      <td>1.0</td>\n",
       "      <td>NaN</td>\n",
       "      <td>2.0</td>\n",
       "      <td>3.0</td>\n",
       "    </tr>\n",
       "    <tr>\n",
       "      <th>92</th>\n",
       "      <td>platinium12345</td>\n",
       "      <td>team_twenty</td>\n",
       "      <td>1637000</td>\n",
       "      <td>1590864.0</td>\n",
       "      <td>1739.0</td>\n",
       "      <td>1.0</td>\n",
       "      <td>4.0</td>\n",
       "      <td>2.0</td>\n",
       "      <td>NaN</td>\n",
       "      <td>1.0</td>\n",
       "      <td>NaN</td>\n",
       "      <td>1.0</td>\n",
       "      <td>NaN</td>\n",
       "    </tr>\n",
       "    <tr>\n",
       "      <th>140</th>\n",
       "      <td>Titatan so garso</td>\n",
       "      <td>team_twenty_five</td>\n",
       "      <td>1637000</td>\n",
       "      <td>1590864.0</td>\n",
       "      <td>1685.0</td>\n",
       "      <td>2.0</td>\n",
       "      <td>2.0</td>\n",
       "      <td>1.0</td>\n",
       "      <td>NaN</td>\n",
       "      <td>1.0</td>\n",
       "      <td>NaN</td>\n",
       "      <td>NaN</td>\n",
       "      <td>NaN</td>\n",
       "    </tr>\n",
       "    <tr>\n",
       "      <th>18</th>\n",
       "      <td>GaelJMG</td>\n",
       "      <td>team_twenty_five</td>\n",
       "      <td>1637000</td>\n",
       "      <td>1590864.0</td>\n",
       "      <td>1674.0</td>\n",
       "      <td>2.0</td>\n",
       "      <td>10.0</td>\n",
       "      <td>5.0</td>\n",
       "      <td>1.0</td>\n",
       "      <td>1.0</td>\n",
       "      <td>NaN</td>\n",
       "      <td>2.0</td>\n",
       "      <td>1.0</td>\n",
       "    </tr>\n",
       "    <tr>\n",
       "      <th>125</th>\n",
       "      <td>TT10only</td>\n",
       "      <td>team_twenty_five</td>\n",
       "      <td>1637000</td>\n",
       "      <td>1590864.0</td>\n",
       "      <td>1684.0</td>\n",
       "      <td>2.0</td>\n",
       "      <td>2.0</td>\n",
       "      <td>1.0</td>\n",
       "      <td>NaN</td>\n",
       "      <td>1.0</td>\n",
       "      <td>NaN</td>\n",
       "      <td>NaN</td>\n",
       "      <td>NaN</td>\n",
       "    </tr>\n",
       "    <tr>\n",
       "      <th>2</th>\n",
       "      <td>Matteo_B1986</td>\n",
       "      <td>team_forty_three</td>\n",
       "      <td>1637000</td>\n",
       "      <td>1581120.0</td>\n",
       "      <td>1659.0</td>\n",
       "      <td>3.0</td>\n",
       "      <td>0.0</td>\n",
       "      <td>NaN</td>\n",
       "      <td>NaN</td>\n",
       "      <td>NaN</td>\n",
       "      <td>NaN</td>\n",
       "      <td>NaN</td>\n",
       "      <td>NaN</td>\n",
       "    </tr>\n",
       "    <tr>\n",
       "      <th>5</th>\n",
       "      <td>DamiaNik93</td>\n",
       "      <td>team_forty_three</td>\n",
       "      <td>1637000</td>\n",
       "      <td>1581120.0</td>\n",
       "      <td>1669.0</td>\n",
       "      <td>3.0</td>\n",
       "      <td>3.0</td>\n",
       "      <td>2.0</td>\n",
       "      <td>NaN</td>\n",
       "      <td>NaN</td>\n",
       "      <td>NaN</td>\n",
       "      <td>NaN</td>\n",
       "      <td>1.0</td>\n",
       "    </tr>\n",
       "    <tr>\n",
       "      <th>85</th>\n",
       "      <td>bLaCk_HooD</td>\n",
       "      <td>team_forty_three</td>\n",
       "      <td>1637000</td>\n",
       "      <td>1581120.0</td>\n",
       "      <td>1675.0</td>\n",
       "      <td>3.0</td>\n",
       "      <td>0.0</td>\n",
       "      <td>NaN</td>\n",
       "      <td>NaN</td>\n",
       "      <td>NaN</td>\n",
       "      <td>NaN</td>\n",
       "      <td>NaN</td>\n",
       "      <td>NaN</td>\n",
       "    </tr>\n",
       "  </tbody>\n",
       "</table>\n",
       "</div>"
      ],
      "text/plain": [
       "             username              team  duration  teamSurvivalTime  \\\n",
       "138         THEFATHER       team_twenty   1637000         1590864.0   \n",
       "124        DeadlyXhen       team_twenty   1637000         1590864.0   \n",
       "92     platinium12345       team_twenty   1637000         1590864.0   \n",
       "140  Titatan so garso  team_twenty_five   1637000         1590864.0   \n",
       "18            GaelJMG  team_twenty_five   1637000         1590864.0   \n",
       "125          TT10only  team_twenty_five   1637000         1590864.0   \n",
       "2        Matteo_B1986  team_forty_three   1637000         1581120.0   \n",
       "5          DamiaNik93  team_forty_three   1637000         1581120.0   \n",
       "85         bLaCk_HooD  team_forty_three   1637000         1581120.0   \n",
       "\n",
       "     timePlayed  teamPlacement  kills  objectiveBrDownEnemyCircle1  \\\n",
       "138      1722.0            1.0    7.0                          4.0   \n",
       "124      1739.0            1.0   15.0                          8.0   \n",
       "92       1739.0            1.0    4.0                          2.0   \n",
       "140      1685.0            2.0    2.0                          1.0   \n",
       "18       1674.0            2.0   10.0                          5.0   \n",
       "125      1684.0            2.0    2.0                          1.0   \n",
       "2        1659.0            3.0    0.0                          NaN   \n",
       "5        1669.0            3.0    3.0                          2.0   \n",
       "85       1675.0            3.0    0.0                          NaN   \n",
       "\n",
       "     objectiveBrDownEnemyCircle2  objectiveBrDownEnemyCircle3  \\\n",
       "138                          1.0                          1.0   \n",
       "124                          3.0                          1.0   \n",
       "92                           NaN                          1.0   \n",
       "140                          NaN                          1.0   \n",
       "18                           1.0                          1.0   \n",
       "125                          NaN                          1.0   \n",
       "2                            NaN                          NaN   \n",
       "5                            NaN                          NaN   \n",
       "85                           NaN                          NaN   \n",
       "\n",
       "     objectiveBrDownEnemyCircle4  objectiveBrDownEnemyCircle5  \\\n",
       "138                          1.0                          NaN   \n",
       "124                          NaN                          2.0   \n",
       "92                           NaN                          1.0   \n",
       "140                          NaN                          NaN   \n",
       "18                           NaN                          2.0   \n",
       "125                          NaN                          NaN   \n",
       "2                            NaN                          NaN   \n",
       "5                            NaN                          NaN   \n",
       "85                           NaN                          NaN   \n",
       "\n",
       "     objectiveBrDownEnemyCircle6  \n",
       "138                          NaN  \n",
       "124                          3.0  \n",
       "92                           NaN  \n",
       "140                          NaN  \n",
       "18                           1.0  \n",
       "125                          NaN  \n",
       "2                            NaN  \n",
       "5                            1.0  \n",
       "85                           NaN  "
      ]
     },
     "metadata": {},
     "output_type": "display_data"
    }
   ],
   "source": [
    "df = pd.concat([match, player_col, player_stats_col], axis = 1)[keep_cols]\n",
    "display(df.sort_values('kills', ascending = False).head(3))\n",
    "display(df.sort_values('teamPlacement', ascending = True).head(9))\n",
    "\n",
    "#df['duration'] = df['duration'].apply(lambda x: x/1000).apply(lambda x: pd.to_datetime(x, unit='s').strftime('%M'))\n",
    "#display(df.groupby('team'.agg('sum')))"
   ]
  },
  {
   "cell_type": "markdown",
   "id": "4fb02fb1-097d-4382-9634-76a113d5211a",
   "metadata": {},
   "source": [
    "#### Models"
   ]
  },
  {
   "cell_type": "code",
   "execution_count": 95,
   "id": "2001557e-c816-453a-bb88-9f46fe535d15",
   "metadata": {},
   "outputs": [
    {
     "name": "stdout",
     "output_type": "stream",
     "text": [
      "link: {'source': [0, 0, 1, 1, 0], 'target': [2, 3, 4, 5, 4], 'value': [8, 2, 2, 8, 4]}\n",
      "node: {'label': ['ZERO', 'ONE', 'TWO', 'THREE', 'FOUR', 'FIVE'], 'pad': 50, 'thickness': 5}\n",
      "data: Sankey({\n",
      "    'link': {'source': [0, 0, 1, 1, 0], 'target': [2, 3, 4, 5, 4], 'value': [8, 2, 2, 8, 4]},\n",
      "    'node': {'label': ['ZERO', 'ONE', 'TWO', 'THREE', 'FOUR', 'FIVE'], 'pad': 50, 'thickness': 5}\n",
      "})\n"
     ]
    },
    {
     "data": {
      "application/vnd.plotly.v1+json": {
       "config": {
        "plotlyServerURL": "https://plot.ly"
       },
       "data": [
        {
         "link": {
          "source": [
           0,
           0,
           1,
           1,
           0
          ],
          "target": [
           2,
           3,
           4,
           5,
           4
          ],
          "value": [
           8,
           2,
           2,
           8,
           4
          ]
         },
         "node": {
          "label": [
           "ZERO",
           "ONE",
           "TWO",
           "THREE",
           "FOUR",
           "FIVE"
          ],
          "pad": 50,
          "thickness": 5
         },
         "type": "sankey"
        }
       ],
       "layout": {
        "height": 400,
        "margin": {
         "b": 0,
         "l": 20,
         "t": 0
        },
        "template": {
         "data": {
          "bar": [
           {
            "error_x": {
             "color": "#2a3f5f"
            },
            "error_y": {
             "color": "#2a3f5f"
            },
            "marker": {
             "line": {
              "color": "#E5ECF6",
              "width": 0.5
             },
             "pattern": {
              "fillmode": "overlay",
              "size": 10,
              "solidity": 0.2
             }
            },
            "type": "bar"
           }
          ],
          "barpolar": [
           {
            "marker": {
             "line": {
              "color": "#E5ECF6",
              "width": 0.5
             },
             "pattern": {
              "fillmode": "overlay",
              "size": 10,
              "solidity": 0.2
             }
            },
            "type": "barpolar"
           }
          ],
          "carpet": [
           {
            "aaxis": {
             "endlinecolor": "#2a3f5f",
             "gridcolor": "white",
             "linecolor": "white",
             "minorgridcolor": "white",
             "startlinecolor": "#2a3f5f"
            },
            "baxis": {
             "endlinecolor": "#2a3f5f",
             "gridcolor": "white",
             "linecolor": "white",
             "minorgridcolor": "white",
             "startlinecolor": "#2a3f5f"
            },
            "type": "carpet"
           }
          ],
          "choropleth": [
           {
            "colorbar": {
             "outlinewidth": 0,
             "ticks": ""
            },
            "type": "choropleth"
           }
          ],
          "contour": [
           {
            "colorbar": {
             "outlinewidth": 0,
             "ticks": ""
            },
            "colorscale": [
             [
              0,
              "#0d0887"
             ],
             [
              0.1111111111111111,
              "#46039f"
             ],
             [
              0.2222222222222222,
              "#7201a8"
             ],
             [
              0.3333333333333333,
              "#9c179e"
             ],
             [
              0.4444444444444444,
              "#bd3786"
             ],
             [
              0.5555555555555556,
              "#d8576b"
             ],
             [
              0.6666666666666666,
              "#ed7953"
             ],
             [
              0.7777777777777778,
              "#fb9f3a"
             ],
             [
              0.8888888888888888,
              "#fdca26"
             ],
             [
              1,
              "#f0f921"
             ]
            ],
            "type": "contour"
           }
          ],
          "contourcarpet": [
           {
            "colorbar": {
             "outlinewidth": 0,
             "ticks": ""
            },
            "type": "contourcarpet"
           }
          ],
          "heatmap": [
           {
            "colorbar": {
             "outlinewidth": 0,
             "ticks": ""
            },
            "colorscale": [
             [
              0,
              "#0d0887"
             ],
             [
              0.1111111111111111,
              "#46039f"
             ],
             [
              0.2222222222222222,
              "#7201a8"
             ],
             [
              0.3333333333333333,
              "#9c179e"
             ],
             [
              0.4444444444444444,
              "#bd3786"
             ],
             [
              0.5555555555555556,
              "#d8576b"
             ],
             [
              0.6666666666666666,
              "#ed7953"
             ],
             [
              0.7777777777777778,
              "#fb9f3a"
             ],
             [
              0.8888888888888888,
              "#fdca26"
             ],
             [
              1,
              "#f0f921"
             ]
            ],
            "type": "heatmap"
           }
          ],
          "heatmapgl": [
           {
            "colorbar": {
             "outlinewidth": 0,
             "ticks": ""
            },
            "colorscale": [
             [
              0,
              "#0d0887"
             ],
             [
              0.1111111111111111,
              "#46039f"
             ],
             [
              0.2222222222222222,
              "#7201a8"
             ],
             [
              0.3333333333333333,
              "#9c179e"
             ],
             [
              0.4444444444444444,
              "#bd3786"
             ],
             [
              0.5555555555555556,
              "#d8576b"
             ],
             [
              0.6666666666666666,
              "#ed7953"
             ],
             [
              0.7777777777777778,
              "#fb9f3a"
             ],
             [
              0.8888888888888888,
              "#fdca26"
             ],
             [
              1,
              "#f0f921"
             ]
            ],
            "type": "heatmapgl"
           }
          ],
          "histogram": [
           {
            "marker": {
             "pattern": {
              "fillmode": "overlay",
              "size": 10,
              "solidity": 0.2
             }
            },
            "type": "histogram"
           }
          ],
          "histogram2d": [
           {
            "colorbar": {
             "outlinewidth": 0,
             "ticks": ""
            },
            "colorscale": [
             [
              0,
              "#0d0887"
             ],
             [
              0.1111111111111111,
              "#46039f"
             ],
             [
              0.2222222222222222,
              "#7201a8"
             ],
             [
              0.3333333333333333,
              "#9c179e"
             ],
             [
              0.4444444444444444,
              "#bd3786"
             ],
             [
              0.5555555555555556,
              "#d8576b"
             ],
             [
              0.6666666666666666,
              "#ed7953"
             ],
             [
              0.7777777777777778,
              "#fb9f3a"
             ],
             [
              0.8888888888888888,
              "#fdca26"
             ],
             [
              1,
              "#f0f921"
             ]
            ],
            "type": "histogram2d"
           }
          ],
          "histogram2dcontour": [
           {
            "colorbar": {
             "outlinewidth": 0,
             "ticks": ""
            },
            "colorscale": [
             [
              0,
              "#0d0887"
             ],
             [
              0.1111111111111111,
              "#46039f"
             ],
             [
              0.2222222222222222,
              "#7201a8"
             ],
             [
              0.3333333333333333,
              "#9c179e"
             ],
             [
              0.4444444444444444,
              "#bd3786"
             ],
             [
              0.5555555555555556,
              "#d8576b"
             ],
             [
              0.6666666666666666,
              "#ed7953"
             ],
             [
              0.7777777777777778,
              "#fb9f3a"
             ],
             [
              0.8888888888888888,
              "#fdca26"
             ],
             [
              1,
              "#f0f921"
             ]
            ],
            "type": "histogram2dcontour"
           }
          ],
          "mesh3d": [
           {
            "colorbar": {
             "outlinewidth": 0,
             "ticks": ""
            },
            "type": "mesh3d"
           }
          ],
          "parcoords": [
           {
            "line": {
             "colorbar": {
              "outlinewidth": 0,
              "ticks": ""
             }
            },
            "type": "parcoords"
           }
          ],
          "pie": [
           {
            "automargin": true,
            "type": "pie"
           }
          ],
          "scatter": [
           {
            "marker": {
             "colorbar": {
              "outlinewidth": 0,
              "ticks": ""
             }
            },
            "type": "scatter"
           }
          ],
          "scatter3d": [
           {
            "line": {
             "colorbar": {
              "outlinewidth": 0,
              "ticks": ""
             }
            },
            "marker": {
             "colorbar": {
              "outlinewidth": 0,
              "ticks": ""
             }
            },
            "type": "scatter3d"
           }
          ],
          "scattercarpet": [
           {
            "marker": {
             "colorbar": {
              "outlinewidth": 0,
              "ticks": ""
             }
            },
            "type": "scattercarpet"
           }
          ],
          "scattergeo": [
           {
            "marker": {
             "colorbar": {
              "outlinewidth": 0,
              "ticks": ""
             }
            },
            "type": "scattergeo"
           }
          ],
          "scattergl": [
           {
            "marker": {
             "colorbar": {
              "outlinewidth": 0,
              "ticks": ""
             }
            },
            "type": "scattergl"
           }
          ],
          "scattermapbox": [
           {
            "marker": {
             "colorbar": {
              "outlinewidth": 0,
              "ticks": ""
             }
            },
            "type": "scattermapbox"
           }
          ],
          "scatterpolar": [
           {
            "marker": {
             "colorbar": {
              "outlinewidth": 0,
              "ticks": ""
             }
            },
            "type": "scatterpolar"
           }
          ],
          "scatterpolargl": [
           {
            "marker": {
             "colorbar": {
              "outlinewidth": 0,
              "ticks": ""
             }
            },
            "type": "scatterpolargl"
           }
          ],
          "scatterternary": [
           {
            "marker": {
             "colorbar": {
              "outlinewidth": 0,
              "ticks": ""
             }
            },
            "type": "scatterternary"
           }
          ],
          "surface": [
           {
            "colorbar": {
             "outlinewidth": 0,
             "ticks": ""
            },
            "colorscale": [
             [
              0,
              "#0d0887"
             ],
             [
              0.1111111111111111,
              "#46039f"
             ],
             [
              0.2222222222222222,
              "#7201a8"
             ],
             [
              0.3333333333333333,
              "#9c179e"
             ],
             [
              0.4444444444444444,
              "#bd3786"
             ],
             [
              0.5555555555555556,
              "#d8576b"
             ],
             [
              0.6666666666666666,
              "#ed7953"
             ],
             [
              0.7777777777777778,
              "#fb9f3a"
             ],
             [
              0.8888888888888888,
              "#fdca26"
             ],
             [
              1,
              "#f0f921"
             ]
            ],
            "type": "surface"
           }
          ],
          "table": [
           {
            "cells": {
             "fill": {
              "color": "#EBF0F8"
             },
             "line": {
              "color": "white"
             }
            },
            "header": {
             "fill": {
              "color": "#C8D4E3"
             },
             "line": {
              "color": "white"
             }
            },
            "type": "table"
           }
          ]
         },
         "layout": {
          "annotationdefaults": {
           "arrowcolor": "#2a3f5f",
           "arrowhead": 0,
           "arrowwidth": 1
          },
          "autotypenumbers": "strict",
          "coloraxis": {
           "colorbar": {
            "outlinewidth": 0,
            "ticks": ""
           }
          },
          "colorscale": {
           "diverging": [
            [
             0,
             "#8e0152"
            ],
            [
             0.1,
             "#c51b7d"
            ],
            [
             0.2,
             "#de77ae"
            ],
            [
             0.3,
             "#f1b6da"
            ],
            [
             0.4,
             "#fde0ef"
            ],
            [
             0.5,
             "#f7f7f7"
            ],
            [
             0.6,
             "#e6f5d0"
            ],
            [
             0.7,
             "#b8e186"
            ],
            [
             0.8,
             "#7fbc41"
            ],
            [
             0.9,
             "#4d9221"
            ],
            [
             1,
             "#276419"
            ]
           ],
           "sequential": [
            [
             0,
             "#0d0887"
            ],
            [
             0.1111111111111111,
             "#46039f"
            ],
            [
             0.2222222222222222,
             "#7201a8"
            ],
            [
             0.3333333333333333,
             "#9c179e"
            ],
            [
             0.4444444444444444,
             "#bd3786"
            ],
            [
             0.5555555555555556,
             "#d8576b"
            ],
            [
             0.6666666666666666,
             "#ed7953"
            ],
            [
             0.7777777777777778,
             "#fb9f3a"
            ],
            [
             0.8888888888888888,
             "#fdca26"
            ],
            [
             1,
             "#f0f921"
            ]
           ],
           "sequentialminus": [
            [
             0,
             "#0d0887"
            ],
            [
             0.1111111111111111,
             "#46039f"
            ],
            [
             0.2222222222222222,
             "#7201a8"
            ],
            [
             0.3333333333333333,
             "#9c179e"
            ],
            [
             0.4444444444444444,
             "#bd3786"
            ],
            [
             0.5555555555555556,
             "#d8576b"
            ],
            [
             0.6666666666666666,
             "#ed7953"
            ],
            [
             0.7777777777777778,
             "#fb9f3a"
            ],
            [
             0.8888888888888888,
             "#fdca26"
            ],
            [
             1,
             "#f0f921"
            ]
           ]
          },
          "colorway": [
           "#636efa",
           "#EF553B",
           "#00cc96",
           "#ab63fa",
           "#FFA15A",
           "#19d3f3",
           "#FF6692",
           "#B6E880",
           "#FF97FF",
           "#FECB52"
          ],
          "font": {
           "color": "#2a3f5f"
          },
          "geo": {
           "bgcolor": "white",
           "lakecolor": "white",
           "landcolor": "#E5ECF6",
           "showlakes": true,
           "showland": true,
           "subunitcolor": "white"
          },
          "hoverlabel": {
           "align": "left"
          },
          "hovermode": "closest",
          "mapbox": {
           "style": "light"
          },
          "paper_bgcolor": "white",
          "plot_bgcolor": "#E5ECF6",
          "polar": {
           "angularaxis": {
            "gridcolor": "white",
            "linecolor": "white",
            "ticks": ""
           },
           "bgcolor": "#E5ECF6",
           "radialaxis": {
            "gridcolor": "white",
            "linecolor": "white",
            "ticks": ""
           }
          },
          "scene": {
           "xaxis": {
            "backgroundcolor": "#E5ECF6",
            "gridcolor": "white",
            "gridwidth": 2,
            "linecolor": "white",
            "showbackground": true,
            "ticks": "",
            "zerolinecolor": "white"
           },
           "yaxis": {
            "backgroundcolor": "#E5ECF6",
            "gridcolor": "white",
            "gridwidth": 2,
            "linecolor": "white",
            "showbackground": true,
            "ticks": "",
            "zerolinecolor": "white"
           },
           "zaxis": {
            "backgroundcolor": "#E5ECF6",
            "gridcolor": "white",
            "gridwidth": 2,
            "linecolor": "white",
            "showbackground": true,
            "ticks": "",
            "zerolinecolor": "white"
           }
          },
          "shapedefaults": {
           "line": {
            "color": "#2a3f5f"
           }
          },
          "ternary": {
           "aaxis": {
            "gridcolor": "white",
            "linecolor": "white",
            "ticks": ""
           },
           "baxis": {
            "gridcolor": "white",
            "linecolor": "white",
            "ticks": ""
           },
           "bgcolor": "#E5ECF6",
           "caxis": {
            "gridcolor": "white",
            "linecolor": "white",
            "ticks": ""
           }
          },
          "title": {
           "x": 0.05
          },
          "xaxis": {
           "automargin": true,
           "gridcolor": "white",
           "linecolor": "white",
           "ticks": "",
           "title": {
            "standoff": 15
           },
           "zerolinecolor": "white",
           "zerolinewidth": 2
          },
          "yaxis": {
           "automargin": true,
           "gridcolor": "white",
           "linecolor": "white",
           "ticks": "",
           "title": {
            "standoff": 15
           },
           "zerolinecolor": "white",
           "zerolinewidth": 2
          }
         }
        },
        "width": 800
       }
      },
      "image/png": "[encoded data removed]",
      "text/html": [
       "<div>                            <div id=\"9e19029c-6ec1-46cd-942a-5efb0dd634a4\" class=\"plotly-graph-div\" style=\"height:400px; width:800px;\"></div>            <script type=\"text/javascript\">                require([\"plotly\"], function(Plotly) {                    window.PLOTLYENV=window.PLOTLYENV || {};                                    if (document.getElementById(\"9e19029c-6ec1-46cd-942a-5efb0dd634a4\")) {                    Plotly.newPlot(                        \"9e19029c-6ec1-46cd-942a-5efb0dd634a4\",                        [{\"link\":{\"source\":[0,0,1,1,0],\"target\":[2,3,4,5,4],\"value\":[8,2,2,8,4]},\"node\":{\"label\":[\"ZERO\",\"ONE\",\"TWO\",\"THREE\",\"FOUR\",\"FIVE\"],\"pad\":50,\"thickness\":5},\"type\":\"sankey\"}],                        {\"height\":400,\"margin\":{\"b\":0,\"l\":20,\"t\":0},\"template\":{\"data\":{\"bar\":[{\"error_x\":{\"color\":\"#2a3f5f\"},\"error_y\":{\"color\":\"#2a3f5f\"},\"marker\":{\"line\":{\"color\":\"#E5ECF6\",\"width\":0.5},\"pattern\":{\"fillmode\":\"overlay\",\"size\":10,\"solidity\":0.2}},\"type\":\"bar\"}],\"barpolar\":[{\"marker\":{\"line\":{\"color\":\"#E5ECF6\",\"width\":0.5},\"pattern\":{\"fillmode\":\"overlay\",\"size\":10,\"solidity\":0.2}},\"type\":\"barpolar\"}],\"carpet\":[{\"aaxis\":{\"endlinecolor\":\"#2a3f5f\",\"gridcolor\":\"white\",\"linecolor\":\"white\",\"minorgridcolor\":\"white\",\"startlinecolor\":\"#2a3f5f\"},\"baxis\":{\"endlinecolor\":\"#2a3f5f\",\"gridcolor\":\"white\",\"linecolor\":\"white\",\"minorgridcolor\":\"white\",\"startlinecolor\":\"#2a3f5f\"},\"type\":\"carpet\"}],\"choropleth\":[{\"colorbar\":{\"outlinewidth\":0,\"ticks\":\"\"},\"type\":\"choropleth\"}],\"contour\":[{\"colorbar\":{\"outlinewidth\":0,\"ticks\":\"\"},\"colorscale\":[[0.0,\"#0d0887\"],[0.1111111111111111,\"#46039f\"],[0.2222222222222222,\"#7201a8\"],[0.3333333333333333,\"#9c179e\"],[0.4444444444444444,\"#bd3786\"],[0.5555555555555556,\"#d8576b\"],[0.6666666666666666,\"#ed7953\"],[0.7777777777777778,\"#fb9f3a\"],[0.8888888888888888,\"#fdca26\"],[1.0,\"#f0f921\"]],\"type\":\"contour\"}],\"contourcarpet\":[{\"colorbar\":{\"outlinewidth\":0,\"ticks\":\"\"},\"type\":\"contourcarpet\"}],\"heatmap\":[{\"colorbar\":{\"outlinewidth\":0,\"ticks\":\"\"},\"colorscale\":[[0.0,\"#0d0887\"],[0.1111111111111111,\"#46039f\"],[0.2222222222222222,\"#7201a8\"],[0.3333333333333333,\"#9c179e\"],[0.4444444444444444,\"#bd3786\"],[0.5555555555555556,\"#d8576b\"],[0.6666666666666666,\"#ed7953\"],[0.7777777777777778,\"#fb9f3a\"],[0.8888888888888888,\"#fdca26\"],[1.0,\"#f0f921\"]],\"type\":\"heatmap\"}],\"heatmapgl\":[{\"colorbar\":{\"outlinewidth\":0,\"ticks\":\"\"},\"colorscale\":[[0.0,\"#0d0887\"],[0.1111111111111111,\"#46039f\"],[0.2222222222222222,\"#7201a8\"],[0.3333333333333333,\"#9c179e\"],[0.4444444444444444,\"#bd3786\"],[0.5555555555555556,\"#d8576b\"],[0.6666666666666666,\"#ed7953\"],[0.7777777777777778,\"#fb9f3a\"],[0.8888888888888888,\"#fdca26\"],[1.0,\"#f0f921\"]],\"type\":\"heatmapgl\"}],\"histogram\":[{\"marker\":{\"pattern\":{\"fillmode\":\"overlay\",\"size\":10,\"solidity\":0.2}},\"type\":\"histogram\"}],\"histogram2d\":[{\"colorbar\":{\"outlinewidth\":0,\"ticks\":\"\"},\"colorscale\":[[0.0,\"#0d0887\"],[0.1111111111111111,\"#46039f\"],[0.2222222222222222,\"#7201a8\"],[0.3333333333333333,\"#9c179e\"],[0.4444444444444444,\"#bd3786\"],[0.5555555555555556,\"#d8576b\"],[0.6666666666666666,\"#ed7953\"],[0.7777777777777778,\"#fb9f3a\"],[0.8888888888888888,\"#fdca26\"],[1.0,\"#f0f921\"]],\"type\":\"histogram2d\"}],\"histogram2dcontour\":[{\"colorbar\":{\"outlinewidth\":0,\"ticks\":\"\"},\"colorscale\":[[0.0,\"#0d0887\"],[0.1111111111111111,\"#46039f\"],[0.2222222222222222,\"#7201a8\"],[0.3333333333333333,\"#9c179e\"],[0.4444444444444444,\"#bd3786\"],[0.5555555555555556,\"#d8576b\"],[0.6666666666666666,\"#ed7953\"],[0.7777777777777778,\"#fb9f3a\"],[0.8888888888888888,\"#fdca26\"],[1.0,\"#f0f921\"]],\"type\":\"histogram2dcontour\"}],\"mesh3d\":[{\"colorbar\":{\"outlinewidth\":0,\"ticks\":\"\"},\"type\":\"mesh3d\"}],\"parcoords\":[{\"line\":{\"colorbar\":{\"outlinewidth\":0,\"ticks\":\"\"}},\"type\":\"parcoords\"}],\"pie\":[{\"automargin\":true,\"type\":\"pie\"}],\"scatter\":[{\"marker\":{\"colorbar\":{\"outlinewidth\":0,\"ticks\":\"\"}},\"type\":\"scatter\"}],\"scatter3d\":[{\"line\":{\"colorbar\":{\"outlinewidth\":0,\"ticks\":\"\"}},\"marker\":{\"colorbar\":{\"outlinewidth\":0,\"ticks\":\"\"}},\"type\":\"scatter3d\"}],\"scattercarpet\":[{\"marker\":{\"colorbar\":{\"outlinewidth\":0,\"ticks\":\"\"}},\"type\":\"scattercarpet\"}],\"scattergeo\":[{\"marker\":{\"colorbar\":{\"outlinewidth\":0,\"ticks\":\"\"}},\"type\":\"scattergeo\"}],\"scattergl\":[{\"marker\":{\"colorbar\":{\"outlinewidth\":0,\"ticks\":\"\"}},\"type\":\"scattergl\"}],\"scattermapbox\":[{\"marker\":{\"colorbar\":{\"outlinewidth\":0,\"ticks\":\"\"}},\"type\":\"scattermapbox\"}],\"scatterpolar\":[{\"marker\":{\"colorbar\":{\"outlinewidth\":0,\"ticks\":\"\"}},\"type\":\"scatterpolar\"}],\"scatterpolargl\":[{\"marker\":{\"colorbar\":{\"outlinewidth\":0,\"ticks\":\"\"}},\"type\":\"scatterpolargl\"}],\"scatterternary\":[{\"marker\":{\"colorbar\":{\"outlinewidth\":0,\"ticks\":\"\"}},\"type\":\"scatterternary\"}],\"surface\":[{\"colorbar\":{\"outlinewidth\":0,\"ticks\":\"\"},\"colorscale\":[[0.0,\"#0d0887\"],[0.1111111111111111,\"#46039f\"],[0.2222222222222222,\"#7201a8\"],[0.3333333333333333,\"#9c179e\"],[0.4444444444444444,\"#bd3786\"],[0.5555555555555556,\"#d8576b\"],[0.6666666666666666,\"#ed7953\"],[0.7777777777777778,\"#fb9f3a\"],[0.8888888888888888,\"#fdca26\"],[1.0,\"#f0f921\"]],\"type\":\"surface\"}],\"table\":[{\"cells\":{\"fill\":{\"color\":\"#EBF0F8\"},\"line\":{\"color\":\"white\"}},\"header\":{\"fill\":{\"color\":\"#C8D4E3\"},\"line\":{\"color\":\"white\"}},\"type\":\"table\"}]},\"layout\":{\"annotationdefaults\":{\"arrowcolor\":\"#2a3f5f\",\"arrowhead\":0,\"arrowwidth\":1},\"autotypenumbers\":\"strict\",\"coloraxis\":{\"colorbar\":{\"outlinewidth\":0,\"ticks\":\"\"}},\"colorscale\":{\"diverging\":[[0,\"#8e0152\"],[0.1,\"#c51b7d\"],[0.2,\"#de77ae\"],[0.3,\"#f1b6da\"],[0.4,\"#fde0ef\"],[0.5,\"#f7f7f7\"],[0.6,\"#e6f5d0\"],[0.7,\"#b8e186\"],[0.8,\"#7fbc41\"],[0.9,\"#4d9221\"],[1,\"#276419\"]],\"sequential\":[[0.0,\"#0d0887\"],[0.1111111111111111,\"#46039f\"],[0.2222222222222222,\"#7201a8\"],[0.3333333333333333,\"#9c179e\"],[0.4444444444444444,\"#bd3786\"],[0.5555555555555556,\"#d8576b\"],[0.6666666666666666,\"#ed7953\"],[0.7777777777777778,\"#fb9f3a\"],[0.8888888888888888,\"#fdca26\"],[1.0,\"#f0f921\"]],\"sequentialminus\":[[0.0,\"#0d0887\"],[0.1111111111111111,\"#46039f\"],[0.2222222222222222,\"#7201a8\"],[0.3333333333333333,\"#9c179e\"],[0.4444444444444444,\"#bd3786\"],[0.5555555555555556,\"#d8576b\"],[0.6666666666666666,\"#ed7953\"],[0.7777777777777778,\"#fb9f3a\"],[0.8888888888888888,\"#fdca26\"],[1.0,\"#f0f921\"]]},\"colorway\":[\"#636efa\",\"#EF553B\",\"#00cc96\",\"#ab63fa\",\"#FFA15A\",\"#19d3f3\",\"#FF6692\",\"#B6E880\",\"#FF97FF\",\"#FECB52\"],\"font\":{\"color\":\"#2a3f5f\"},\"geo\":{\"bgcolor\":\"white\",\"lakecolor\":\"white\",\"landcolor\":\"#E5ECF6\",\"showlakes\":true,\"showland\":true,\"subunitcolor\":\"white\"},\"hoverlabel\":{\"align\":\"left\"},\"hovermode\":\"closest\",\"mapbox\":{\"style\":\"light\"},\"paper_bgcolor\":\"white\",\"plot_bgcolor\":\"#E5ECF6\",\"polar\":{\"angularaxis\":{\"gridcolor\":\"white\",\"linecolor\":\"white\",\"ticks\":\"\"},\"bgcolor\":\"#E5ECF6\",\"radialaxis\":{\"gridcolor\":\"white\",\"linecolor\":\"white\",\"ticks\":\"\"}},\"scene\":{\"xaxis\":{\"backgroundcolor\":\"#E5ECF6\",\"gridcolor\":\"white\",\"gridwidth\":2,\"linecolor\":\"white\",\"showbackground\":true,\"ticks\":\"\",\"zerolinecolor\":\"white\"},\"yaxis\":{\"backgroundcolor\":\"#E5ECF6\",\"gridcolor\":\"white\",\"gridwidth\":2,\"linecolor\":\"white\",\"showbackground\":true,\"ticks\":\"\",\"zerolinecolor\":\"white\"},\"zaxis\":{\"backgroundcolor\":\"#E5ECF6\",\"gridcolor\":\"white\",\"gridwidth\":2,\"linecolor\":\"white\",\"showbackground\":true,\"ticks\":\"\",\"zerolinecolor\":\"white\"}},\"shapedefaults\":{\"line\":{\"color\":\"#2a3f5f\"}},\"ternary\":{\"aaxis\":{\"gridcolor\":\"white\",\"linecolor\":\"white\",\"ticks\":\"\"},\"baxis\":{\"gridcolor\":\"white\",\"linecolor\":\"white\",\"ticks\":\"\"},\"bgcolor\":\"#E5ECF6\",\"caxis\":{\"gridcolor\":\"white\",\"linecolor\":\"white\",\"ticks\":\"\"}},\"title\":{\"x\":0.05},\"xaxis\":{\"automargin\":true,\"gridcolor\":\"white\",\"linecolor\":\"white\",\"ticks\":\"\",\"title\":{\"standoff\":15},\"zerolinecolor\":\"white\",\"zerolinewidth\":2},\"yaxis\":{\"automargin\":true,\"gridcolor\":\"white\",\"linecolor\":\"white\",\"ticks\":\"\",\"title\":{\"standoff\":15},\"zerolinecolor\":\"white\",\"zerolinewidth\":2}}},\"width\":800},                        {\"responsive\": true}                    ).then(function(){\n",
       "                            \n",
       "var gd = document.getElementById('9e19029c-6ec1-46cd-942a-5efb0dd634a4');\n",
       "var x = new MutationObserver(function (mutations, observer) {{\n",
       "        var display = window.getComputedStyle(gd).display;\n",
       "        if (!display || display === 'none') {{\n",
       "            console.log([gd, 'removed!']);\n",
       "            Plotly.purge(gd);\n",
       "            observer.disconnect();\n",
       "        }}\n",
       "}});\n",
       "\n",
       "// Listen for the removal of the full notebook cells\n",
       "var notebookContainer = gd.closest('#notebook-container');\n",
       "if (notebookContainer) {{\n",
       "    x.observe(notebookContainer, {childList: true});\n",
       "}}\n",
       "\n",
       "// Listen for the clearing of the current output cell\n",
       "var outputEl = gd.closest('.output');\n",
       "if (outputEl) {{\n",
       "    x.observe(outputEl, {childList: true});\n",
       "}}\n",
       "\n",
       "                        })                };                });            </script>        </div>"
      ]
     },
     "metadata": {},
     "output_type": "display_data"
    }
   ],
   "source": [
    "# data\n",
    "\n",
    "label = [\"ZERO\", \"ONE\", \"TWO\", \"THREE\", \"FOUR\", \"FIVE\"]\n",
    "source = [0, 0, 1, 1, 0]\n",
    "target = [2, 3, 4, 5, 4]\n",
    "value = [8, 2, 2, 8, 4]\n",
    "\n",
    "# data to dict, dict to sankey\n",
    "\n",
    "link = dict(source = source, target = target, value = value)\n",
    "print(f\"link: {link}\")\n",
    "\n",
    "node = dict(label = label, pad=50, thickness=5)\n",
    "print(f\"node: {node}\")\n",
    "\n",
    "data = go.Sankey(link = link, node=node)\n",
    "print(f\"data: {data}\")\n",
    "\n",
    "# plot\n",
    "\n",
    "fig = go.Figure(data)\n",
    "fig.update_layout(\n",
    "    height = 400,\n",
    "    width = 800,\n",
    "    margin = {'t':0, 'b':0, 'l':20}\n",
    ")\n",
    "\n",
    "fig.show()"
   ]
  },
  {
   "cell_type": "code",
   "execution_count": null,
   "id": "c16f5c2f-4b03-41d4-afdd-cb7d259b0880",
   "metadata": {},
   "outputs": [],
   "source": [
    "fig = go.Figure(data=[go.Sankey(\n",
    "    node = dict(\n",
    "      pad = 15,\n",
    "      thickness = 20,\n",
    "      line = dict(color = \"black\", width = 0.5),\n",
    "      label = [\"A1\", \"A2\", \"B1\", \"B2\", \"C1\", \"C2\"],\n",
    "      color = \"blue\"\n",
    "    ),\n",
    "    link = dict(\n",
    "      source = [0, 1, 0, 2, 3, 3], # indices correspond to labels, eg A1, A2, A1, B1, ...\n",
    "      target = [2, 3, 3, 4, 4, 5],\n",
    "      value = [8, 4, 2, 8, 4, 2]\n",
    "  ))])\n",
    "\n",
    "fig.update_layout(\n",
    "    title_text=\"Basic Sankey Diagram\",\n",
    "    font_size=10,\n",
    "    height = 200,\n",
    "    width = 800,\n",
    "    margin = {'t':0, 'b':0, 'l':20})\n",
    "fig.show()"
   ]
  },
  {
   "cell_type": "code",
   "execution_count": null,
   "id": "d834c9c8-0356-4b99-be0a-27049bbb04b1",
   "metadata": {},
   "outputs": [],
   "source": []
  }
 ],
 "metadata": {
  "kernelspec": {
   "display_name": "Python 3 (ipykernel)",
   "language": "python",
   "name": "python3"
  },
  "language_info": {
   "codemirror_mode": {
    "name": "ipython",
    "version": 3
   },
   "file_extension": ".py",
   "mimetype": "text/x-python",
   "name": "python",
   "nbconvert_exporter": "python",
   "pygments_lexer": "ipython3",
   "version": "3.9.5"
  }
 },
 "nbformat": 4,
 "nbformat_minor": 5
}
