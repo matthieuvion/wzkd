{
 "cells": [
  {
   "cell_type": "markdown",
   "id": "8a49d29b-b160-4061-b45f-ae7ca3a4bef2",
   "metadata": {},
   "source": [
    "## COD API, Profile --> explore, extract some KPI's"
   ]
  },
  {
   "cell_type": "markdown",
   "id": "38d2994f-f6ee-492d-8967-6c59a15a04ee",
   "metadata": {
    "tags": []
   },
   "source": [
    "## import stuff to work with"
   ]
  },
  {
   "cell_type": "code",
   "execution_count": 1,
   "id": "6fbccaa9-f802-4ce3-8cc6-06ad8acf5d1c",
   "metadata": {},
   "outputs": [],
   "source": [
    "import asyncio\n",
    "import os\n",
    "import dotenv\n",
    "from pprint import pprint\n",
    "import datetime\n",
    "from datetime import datetime, timezone, timedelta\n",
    "import pandas as pd\n",
    "import numpy as np\n",
    "import pickle\n",
    "\n",
    "\n",
    "import callofduty\n",
    "from callofduty import Mode, Platform, Title, TimeFrame, GameType"
   ]
  },
  {
   "cell_type": "code",
   "execution_count": 2,
   "id": "2f45074d-a84d-4075-a21d-87862c68e33f",
   "metadata": {},
   "outputs": [],
   "source": [
    "# Using SSO\n",
    "# We're storing our SSO token in an .env file stored locally to separate our config from code (w. python-dotenv). An.env-template file (with help to retrieve token) is provided for you to edit and populate the variable(s)\n",
    "# callofduty.py client .Login() goes through all the authentification steps and initiate a session to access protected routes\n",
    "# The client is asynchronous thus the 'await style'\n",
    "from dotenv import load_dotenv\n",
    "load_dotenv()\n",
    "client = await callofduty.Login(sso=os.environ[\"SSO\"])"
   ]
  },
  {
   "cell_type": "code",
   "execution_count": 3,
   "id": "dc792adc-caaf-4e3d-8c97-f2b08b11748d",
   "metadata": {},
   "outputs": [],
   "source": [
    "import urllib.parse\n",
    "from typing import List, Optional, Union\n",
    "\n",
    "from callofduty.client import Client\n",
    "from callofduty.http import HTTP\n",
    "from callofduty.http import Request\n",
    "\n",
    "async def GetProfile(\n",
    "    self, platform, username: str, title: Title, mode: Mode, **kwargs\n",
    "):\n",
    "    \"\"\" \n",
    "    Compared to client : modified so that we do not use Platform.abc as parameter\n",
    "    but instead our app-defined workflow (drop down menu) to select our platform of choice\"\n",
    "    \"\"\"\n",
    "    return (\n",
    "        await self.http.GetPlayerProfile(\n",
    "            platform, username, title.value, mode.value\n",
    "        )\n",
    "    )[\"data\"]\n",
    "\n",
    "Client.GetProfile = GetProfile\n",
    "profile = await client.GetProfile(\"battle\", \"AMADEVS#1689\", Title.ModernWarfare, Mode.Warzone)"
   ]
  },
  {
   "cell_type": "code",
   "execution_count": 4,
   "id": "eb1b70ce-203d-4c61-bfff-8c3ab9255020",
   "metadata": {},
   "outputs": [],
   "source": [
    "#save file if you want to work in offline mode\n",
    "#with open(\"profile.pkl\", 'wb') as f:\n",
    "#    pickle.dump(profile, f)"
   ]
  },
  {
   "cell_type": "code",
   "execution_count": null,
   "id": "bd6d37e2-06e6-4fbb-8ab4-f02b85539ad0",
   "metadata": {},
   "outputs": [],
   "source": [
    "# load offline data\n",
    "open_file = open(\"profile.pkl\", \"rb\")\n",
    "profile = pickle.load(open_file)\n",
    "open_file.close()"
   ]
  },
  {
   "cell_type": "markdown",
   "id": "1a59fbde-3e5d-407d-a1ea-3da68da213ce",
   "metadata": {},
   "source": [
    "### Overview of returned (Profile) stats"
   ]
  },
  {
   "cell_type": "code",
   "execution_count": 42,
   "id": "dc2a5ecc-39c6-4a0a-8edc-c38ec07103dc",
   "metadata": {},
   "outputs": [
    {
     "name": "stdout",
     "output_type": "stream",
     "text": [
      "{'engagement': None,\n",
      " 'level': 59.0,\n",
      " 'levelXpGained': 39309.0,\n",
      " 'levelXpRemainder': 3591.0,\n",
      " 'lifetime': {'accoladeData': {...},\n",
      "              'all': {...},\n",
      "              'itemData': {...},\n",
      "              'map': {},\n",
      "              'mode': {...},\n",
      "              'scorestreakData': {...}},\n",
      " 'maxLevel': 1.0,\n",
      " 'maxPrestige': 0.0,\n",
      " 'p': 0.0,\n",
      " 'paragonId': 0.0,\n",
      " 'paragonRank': 0.0,\n",
      " 'platform': 'battle',\n",
      " 'prestige': 24.0,\n",
      " 'prestigeId': 0.0,\n",
      " 's': 0.0,\n",
      " 'title': 'mw',\n",
      " 'totalXp': 1325315.0,\n",
      " 'type': 'wz',\n",
      " 'username': 'AMADEVS#1689',\n",
      " 'weekly': {'all': {...}, 'map': {}, 'mode': {...}}}\n"
     ]
    }
   ],
   "source": [
    "pprint(profile, depth=2)"
   ]
  },
  {
   "cell_type": "markdown",
   "id": "a6736452-04ff-4086-9eb9-9d8cb50cf84f",
   "metadata": {},
   "source": [
    "#### Lifetime"
   ]
  },
  {
   "cell_type": "code",
   "execution_count": 43,
   "id": "a055bc6b-513c-4106-bba0-157a8a69a5df",
   "metadata": {},
   "outputs": [
    {
     "name": "stdout",
     "output_type": "stream",
     "text": [
      "{'properties': {'accuracy': 0.1082363948225975,\n",
      "                'assists': 6385.0,\n",
      "                'bestAssists': 22.0,\n",
      "                'bestCaptures': 0.0,\n",
      "                'bestConfirmed': 0.0,\n",
      "                'bestDamage': 0.0,\n",
      "                'bestDeaths': 39.0,\n",
      "                'bestDefends': 0.0,\n",
      "                'bestDefuses': 0.0,\n",
      "                'bestDenied': 0.0,\n",
      "                'bestDestructions': 0.0,\n",
      "                'bestFieldgoals': 0.0,\n",
      "                'bestKD': 11.0,\n",
      "                'bestKillChains': 0.0,\n",
      "                'bestKillStreak': 10.0,\n",
      "                'bestKills': 35.0,\n",
      "                'bestKillsAsInfected': 0.0,\n",
      "                'bestKillsAsSurvivor': 0.0,\n",
      "                'bestMatchBonusXp': 0.0,\n",
      "                'bestMatchXp': 0.0,\n",
      "                'bestMedalXp': 0.0,\n",
      "                'bestPlants': 0.0,\n",
      "                'bestRescues': 0.0,\n",
      "                'bestReturns': 0.0,\n",
      "                'bestSPM': 824.0,\n",
      "                'bestScore': 15575.0,\n",
      "                'bestScoreXp': 0.0,\n",
      "                'bestSetbacks': 0.0,\n",
      "                'bestSguardWave': 0.0,\n",
      "                'bestSguardWeaponLevel': 0.0,\n",
      "                'bestSquardCrates': 0.0,\n",
      "                'bestSquardKills': 0.0,\n",
      "                'bestSquardRevives': 0.0,\n",
      "                'bestStabs': 0.0,\n",
      "                'bestTouchdowns': 0.0,\n",
      "                'currentWinStreak': 0.0,\n",
      "                'deaths': 16062.0,\n",
      "                'gamesPlayed': 3278.0,\n",
      "                'headshots': 3444.0,\n",
      "                'hits': 1619.0,\n",
      "                'kdRatio': 0.8017058968544006,\n",
      "                'kills': 12877.0,\n",
      "                'losses': 30.0,\n",
      "                'misses': 13339.0,\n",
      "                'recordDeathsInAMatch': 39.0,\n",
      "                'recordKillStreak': 10.0,\n",
      "                'recordKillsInAMatch': 35.0,\n",
      "                'recordLongestWinStreak': 7.0,\n",
      "                'recordXpInAMatch': 45791.0,\n",
      "                'score': 7905013.0,\n",
      "                'scorePerGame': 2411.5353874313605,\n",
      "                'scorePerMinute': 15948.780389387673,\n",
      "                'suicides': 2600.0,\n",
      "                'ties': 0.0,\n",
      "                'timePlayedTotal': 29739.0,\n",
      "                'totalGamesPlayed': 3278.0,\n",
      "                'totalShots': 14958.0,\n",
      "                'winLossRatio': 0.699999988079071,\n",
      "                'wins': 21.0,\n",
      "                'wlRatio': 0.699999988079071}}\n"
     ]
    }
   ],
   "source": [
    "pprint(profile['lifetime']['all'], depth=3)"
   ]
  },
  {
   "cell_type": "code",
   "execution_count": 44,
   "id": "7a748ca3-3c1e-4db2-aa4a-617c98be5ab4",
   "metadata": {},
   "outputs": [
    {
     "name": "stdout",
     "output_type": "stream",
     "text": [
      "{'properties': {'cash': 20328.0,\n",
      "                'contracts': 503.0,\n",
      "                'deaths': 8132.0,\n",
      "                'downs': 7357.0,\n",
      "                'gamesPlayed': 718.0,\n",
      "                'kdRatio': 0.8812100344318741,\n",
      "                'kills': 7166.0,\n",
      "                'objTime': 0.0,\n",
      "                'revives': 73.0,\n",
      "                'score': 3379246.0,\n",
      "                'scorePerMinute': 249.97905280198054,\n",
      "                'timePlayed': 811087.0,\n",
      "                'tokens': 0.0,\n",
      "                'topFive': 3.0,\n",
      "                'topTen': 3.0,\n",
      "                'topTwentyFive': 3.0,\n",
      "                'wins': 3.0}}\n"
     ]
    }
   ],
   "source": [
    "pprint(profile['lifetime']['mode']['br_dmz'], depth=3)"
   ]
  },
  {
   "cell_type": "code",
   "execution_count": 45,
   "id": "04ae0def-dc6c-4512-ae86-2c359093383b",
   "metadata": {},
   "outputs": [
    {
     "name": "stdout",
     "output_type": "stream",
     "text": [
      "{'properties': {'cash': 20328.0,\n",
      "                'contracts': 2345.0,\n",
      "                'deaths': 12270.0,\n",
      "                'downs': 9620.0,\n",
      "                'gamesPlayed': 2105.0,\n",
      "                'kdRatio': 0.7925835370823145,\n",
      "                'kills': 9725.0,\n",
      "                'objTime': 0.0,\n",
      "                'revives': 754.0,\n",
      "                'score': 6808871.0,\n",
      "                'scorePerMinute': 182.86662086036762,\n",
      "                'timePlayed': 2234045.0,\n",
      "                'tokens': 0.0,\n",
      "                'topFive': 147.0,\n",
      "                'topTen': 310.0,\n",
      "                'topTwentyFive': 857.0,\n",
      "                'wins': 30.0}}\n"
     ]
    }
   ],
   "source": [
    "pprint(profile['lifetime']['mode']['br_all'], depth=3)"
   ]
  },
  {
   "cell_type": "code",
   "execution_count": 46,
   "id": "eb7fe67b-1f6d-4aff-ad33-4c7d64161e7a",
   "metadata": {},
   "outputs": [
    {
     "name": "stdout",
     "output_type": "stream",
     "text": [
      "{'properties': {'cash': 0.0,\n",
      "                'contracts': 1842.0,\n",
      "                'deaths': 4138.0,\n",
      "                'downs': 2263.0,\n",
      "                'gamesPlayed': 1387.0,\n",
      "                'kdRatio': 0.6184146930884485,\n",
      "                'kills': 2559.0,\n",
      "                'objTime': 0.0,\n",
      "                'revives': 681.0,\n",
      "                'score': 3429625.0,\n",
      "                'scorePerMinute': 144.6124903194613,\n",
      "                'timePlayed': 1422958.0,\n",
      "                'tokens': 0.0,\n",
      "                'topFive': 144.0,\n",
      "                'topTen': 307.0,\n",
      "                'topTwentyFive': 854.0,\n",
      "                'wins': 27.0}}\n"
     ]
    }
   ],
   "source": [
    "pprint(profile['lifetime']['mode']['br'], depth=3)"
   ]
  },
  {
   "cell_type": "markdown",
   "id": "c1aeaea2-879b-472b-bc28-c4363026a6f2",
   "metadata": {},
   "source": [
    "#### Weekly"
   ]
  },
  {
   "cell_type": "code",
   "execution_count": 47,
   "id": "b1b4f958-5719-4eed-b5ed-1984aadbb241",
   "metadata": {},
   "outputs": [
    {
     "data": {
      "text/plain": [
       "dict_keys(['br_dbd_dbd', 'br_rebirth_rbrthquad', 'br_brtrios', 'br_gxp_gov', 'br_all', 'br_brduos', 'br_rumble_clash'])"
      ]
     },
     "execution_count": 47,
     "metadata": {},
     "output_type": "execute_result"
    }
   ],
   "source": [
    "profile['weekly']['mode'].keys()"
   ]
  },
  {
   "cell_type": "code",
   "execution_count": 48,
   "id": "7d004f50-99e3-48a3-a21d-6fc5e61bee3f",
   "metadata": {},
   "outputs": [
    {
     "name": "stdout",
     "output_type": "stream",
     "text": [
      "{'properties': {'assists': 85.0,\n",
      "                'avgLifeTime': 455.4591439688716,\n",
      "                'damageDone': 64092.0,\n",
      "                'damageTaken': 43803.0,\n",
      "                'deaths': 203.0,\n",
      "                'distanceTraveled': 14292025.139999999,\n",
      "                'executions': 0.0,\n",
      "                'gulagDeaths': 42.0,\n",
      "                'gulagKills': 15.0,\n",
      "                'headshotPercentage': 0.38125,\n",
      "                'headshots': 61.0,\n",
      "                'kdRatio': 0.7881773399014779,\n",
      "                'kills': 160.0,\n",
      "                'killsPerGame': 2.962962962962963,\n",
      "                'matchesPlayed': 54.0,\n",
      "                'nearmisses': 0.0,\n",
      "                'objectiveAssistDecoy': 1.0,\n",
      "                'objectiveBrCacheOpen': 151.0,\n",
      "                'objectiveBrDownEnemyCircle1': 42.0,\n",
      "                'objectiveBrDownEnemyCircle2': 4.0,\n",
      "                'objectiveBrDownEnemyCircle3': 1.0,\n",
      "                'objectiveBrDownEnemyCircle4': 2.0,\n",
      "                'objectiveBrDownEnemyCircle5': 3.0,\n",
      "                'objectiveBrDownEnemyCircle6': 1.0,\n",
      "                'objectiveBrKioskBuy': 15.0,\n",
      "                'objectiveBrMissionPickupTablet': 45.0,\n",
      "                'objectiveDestroyedEquipment': 3.0,\n",
      "                'objectiveDestroyedVehicleHeavy': 1.0,\n",
      "                'objectiveLastStandKill': 33.0,\n",
      "                'objectiveMunitionsBoxTeammateUsed': 5.0,\n",
      "                'objectiveReviver': 9.0,\n",
      "                'objectiveTeamWiped': 15.0,\n",
      "                'objectiveTrophyDefense': 3.0,\n",
      "                'score': 75155.0,\n",
      "                'scorePerMinute': 38.523574790906686,\n",
      "                'timePlayed': 117053.0,\n",
      "                'wallBangs': 0.0}}\n"
     ]
    }
   ],
   "source": [
    "pprint(profile['weekly']['all'], depth=3)"
   ]
  },
  {
   "cell_type": "code",
   "execution_count": 49,
   "id": "245313cd-aea2-4b86-a9e2-9edb677c51ca",
   "metadata": {},
   "outputs": [
    {
     "name": "stdout",
     "output_type": "stream",
     "text": [
      "{'properties': {'assists': 85.0,\n",
      "                'avgLifeTime': 455.4591439688716,\n",
      "                'damageDone': 64092.0,\n",
      "                'damageTaken': 43803.0,\n",
      "                'deaths': 203.0,\n",
      "                'distanceTraveled': 14292025.139999999,\n",
      "                'executions': 0.0,\n",
      "                'gulagDeaths': 42.0,\n",
      "                'gulagKills': 15.0,\n",
      "                'headshotPercentage': 0.38125,\n",
      "                'headshots': 61.0,\n",
      "                'kdRatio': 0.7881773399014779,\n",
      "                'kills': 160.0,\n",
      "                'killsPerGame': 2.962962962962963,\n",
      "                'matchesPlayed': 54.0,\n",
      "                'nearmisses': 0.0,\n",
      "                'objectiveAssistDecoy': 1.0,\n",
      "                'objectiveBrCacheOpen': 151.0,\n",
      "                'objectiveBrDownEnemyCircle1': 42.0,\n",
      "                'objectiveBrDownEnemyCircle2': 4.0,\n",
      "                'objectiveBrDownEnemyCircle3': 1.0,\n",
      "                'objectiveBrDownEnemyCircle4': 2.0,\n",
      "                'objectiveBrDownEnemyCircle5': 3.0,\n",
      "                'objectiveBrDownEnemyCircle6': 1.0,\n",
      "                'objectiveBrKioskBuy': 15.0,\n",
      "                'objectiveBrMissionPickupTablet': 45.0,\n",
      "                'objectiveDestroyedEquipment': 3.0,\n",
      "                'objectiveDestroyedVehicleHeavy': 1.0,\n",
      "                'objectiveLastStandKill': 33.0,\n",
      "                'objectiveMunitionsBoxTeammateUsed': 5.0,\n",
      "                'objectiveReviver': 9.0,\n",
      "                'objectiveTeamWiped': 15.0,\n",
      "                'objectiveTrophyDefense': 3.0,\n",
      "                'score': 75155.0,\n",
      "                'scorePerMinute': 38.523574790906686,\n",
      "                'timePlayed': 117053.0,\n",
      "                'wallBangs': 0.0}}\n"
     ]
    }
   ],
   "source": [
    "pprint(profile['weekly']['mode']['br_all'], depth=3)  "
   ]
  },
  {
   "cell_type": "code",
   "execution_count": 50,
   "id": "47fe1c0b-f957-40a8-a14c-a12d9314ee54",
   "metadata": {},
   "outputs": [
    {
     "name": "stdout",
     "output_type": "stream",
     "text": [
      "{'properties': {'assists': 7.0,\n",
      "                'avgLifeTime': 621.1851851851852,\n",
      "                'damageDone': 5028.0,\n",
      "                'damageTaken': 4369.0,\n",
      "                'deaths': 20.0,\n",
      "                'distanceTraveled': 1787297.48,\n",
      "                'executions': 0.0,\n",
      "                'gulagDeaths': 11.0,\n",
      "                'gulagKills': 2.0,\n",
      "                'headshotPercentage': 0.3333333333333333,\n",
      "                'headshots': 3.0,\n",
      "                'kdRatio': 0.45,\n",
      "                'kills': 9.0,\n",
      "                'killsPerGame': 1.2857142857142858,\n",
      "                'matchesPlayed': 7.0,\n",
      "                'nearmisses': 0.0,\n",
      "                'objectiveBrCacheOpen': 18.0,\n",
      "                'objectiveBrDownEnemyCircle1': 7.0,\n",
      "                'objectiveBrDownEnemyCircle2': 1.0,\n",
      "                'objectiveBrDownEnemyCircle4': 1.0,\n",
      "                'objectiveBrKioskBuy': 2.0,\n",
      "                'objectiveBrMissionPickupTablet': 11.0,\n",
      "                'objectiveLastStandKill': 3.0,\n",
      "                'objectiveTeamWiped': 1.0,\n",
      "                'objectiveTrophyDefense': 1.0,\n",
      "                'score': 8700.0,\n",
      "                'scorePerGame': 1242.857142857143,\n",
      "                'scorePerMinute': 31.12330073932745,\n",
      "                'timePlayed': 16772.0,\n",
      "                'wallBangs': 0.0}}\n"
     ]
    }
   ],
   "source": [
    "pprint(profile['weekly']['mode']['br_brtrios'], depth=3)"
   ]
  },
  {
   "cell_type": "code",
   "execution_count": 51,
   "id": "b53099d4-7753-44cc-bd0e-92d5b709d486",
   "metadata": {},
   "outputs": [
    {
     "name": "stdout",
     "output_type": "stream",
     "text": [
      "{'properties': {'assists': 10.0,\n",
      "                'avgLifeTime': 695.2307692307693,\n",
      "                'damageDone': 10025.0,\n",
      "                'damageTaken': 8670.0,\n",
      "                'deaths': 45.0,\n",
      "                'distanceTraveled': 5360463.099999999,\n",
      "                'executions': 0.0,\n",
      "                'gulagDeaths': 17.0,\n",
      "                'gulagKills': 9.0,\n",
      "                'headshotPercentage': 0.32,\n",
      "                'headshots': 8.0,\n",
      "                'kdRatio': 0.5555555555555556,\n",
      "                'kills': 25.0,\n",
      "                'killsPerGame': 1.25,\n",
      "                'matchesPlayed': 20.0,\n",
      "                'nearmisses': 0.0,\n",
      "                'objectiveBrCacheOpen': 56.0,\n",
      "                'objectiveBrDownEnemyCircle1': 20.0,\n",
      "                'objectiveBrKioskBuy': 10.0,\n",
      "                'objectiveBrMissionPickupTablet': 20.0,\n",
      "                'objectiveDestroyedEquipment': 1.0,\n",
      "                'objectiveLastStandKill': 11.0,\n",
      "                'objectiveMunitionsBoxTeammateUsed': 4.0,\n",
      "                'objectiveReviver': 3.0,\n",
      "                'objectiveTeamWiped': 9.0,\n",
      "                'objectiveTrophyDefense': 1.0,\n",
      "                'score': 27025.0,\n",
      "                'scorePerGame': 1351.25,\n",
      "                'scorePerMinute': 35.881832263775166,\n",
      "                'timePlayed': 45190.0,\n",
      "                'wallBangs': 0.0}}\n"
     ]
    }
   ],
   "source": [
    "pprint(profile['weekly']['mode']['br_brduos'], depth=3)"
   ]
  },
  {
   "cell_type": "code",
   "execution_count": 52,
   "id": "02d5b0e6-e83f-4fc2-8a46-d1177375065d",
   "metadata": {},
   "outputs": [
    {
     "name": "stdout",
     "output_type": "stream",
     "text": [
      "{'properties': {'assists': 58.0,\n",
      "                'avgLifeTime': 204.35714285714286,\n",
      "                'damageDone': 31950.0,\n",
      "                'damageTaken': 11508.0,\n",
      "                'deaths': 99.0,\n",
      "                'distanceTraveled': 2503927.56,\n",
      "                'executions': 0.0,\n",
      "                'gulagDeaths': 0.0,\n",
      "                'gulagKills': 0.0,\n",
      "                'headshotPercentage': 0.48484848484848486,\n",
      "                'headshots': 48.0,\n",
      "                'kdRatio': 1.0,\n",
      "                'kills': 99.0,\n",
      "                'killsPerGame': 7.615384615384615,\n",
      "                'matchesPlayed': 13.0,\n",
      "                'nearmisses': 0.0,\n",
      "                'objectiveBrCacheOpen': 25.0,\n",
      "                'objectiveDestroyedEquipment': 2.0,\n",
      "                'objectiveDestroyedVehicleHeavy': 1.0,\n",
      "                'score': 16600.0,\n",
      "                'scorePerGame': 1276.923076923077,\n",
      "                'scorePerMinute': 43.5162530583712,\n",
      "                'timePlayed': 22888.0,\n",
      "                'wallBangs': 0.0}}\n"
     ]
    }
   ],
   "source": [
    "pprint(profile['weekly']['mode']['br_rumble_clash'], depth=3)"
   ]
  },
  {
   "cell_type": "code",
   "execution_count": 53,
   "id": "992d65ac-31ac-4c13-9aa1-d01e92558f41",
   "metadata": {},
   "outputs": [],
   "source": [
    "# save file if you want to work in offline mode\n",
    "#with open(\"profile.pkl\", 'wb') as f:\n",
    "#    pickle.dump(profile, f)"
   ]
  },
  {
   "cell_type": "code",
   "execution_count": 54,
   "id": "6428beab-f95e-495c-a6b1-66099e90a413",
   "metadata": {},
   "outputs": [],
   "source": [
    "# load offline data\n",
    "open_file = open(\"profile.pkl\", \"rb\")\n",
    "loaded_profile = pickle.load(open_file)\n",
    "open_file.close()"
   ]
  },
  {
   "cell_type": "markdown",
   "id": "81447d02-d06c-4b8a-ba17-9b99fecf6893",
   "metadata": {
    "tags": []
   },
   "source": [
    "#### raw data"
   ]
  },
  {
   "cell_type": "code",
   "execution_count": 67,
   "id": "460b5dc5-ae5f-4b7d-a843-e780bb15d43f",
   "metadata": {},
   "outputs": [
    {
     "data": {
      "text/plain": [
       "dict_keys(['title', 'platform', 'username', 'type', 'level', 'maxLevel', 'levelXpRemainder', 'levelXpGained', 'prestige', 'prestigeId', 'maxPrestige', 'totalXp', 'paragonRank', 'paragonId', 's', 'p', 'lifetime', 'weekly', 'engagement'])"
      ]
     },
     "execution_count": 67,
     "metadata": {},
     "output_type": "execute_result"
    }
   ],
   "source": [
    "loaded_profile.keys()"
   ]
  },
  {
   "cell_type": "code",
   "execution_count": 107,
   "id": "be31fd4b-3ac1-4b1c-9d01-7f6c2c255483",
   "metadata": {},
   "outputs": [],
   "source": [
    "def ProfileGetKpis(result):\n",
    "    \"\"\"\n",
    "    From COD API profile json/dict, export some {key: player stats}\n",
    "    \"\"\"\n",
    "    return {\n",
    "        'level':int(result['level']),\n",
    "        'prestige':int(result['prestige']),\n",
    "        'matches_count_all':int(result['lifetime']['all']['properties']['totalGamesPlayed']),\n",
    "        'matches_count_br':int(result['lifetime']['mode']['br']['properties']['gamesPlayed']),\n",
    "        'br_kills':int(result['lifetime']['mode']['br']['properties']['kills']),\n",
    "        'br_kd':round(result['lifetime']['mode']['br']['properties']['kdRatio'],2),\n",
    "        'competitive_ratio':int(round(result['lifetime']['mode']['br']['properties']['gamesPlayed']*100/result['lifetime']['all']['properties']['totalGamesPlayed'],0))\n",
    "    }"
   ]
  },
  {
   "cell_type": "code",
   "execution_count": 108,
   "id": "b00fc1d1-ff8a-49a4-9ac3-e2bd4c0da8da",
   "metadata": {},
   "outputs": [
    {
     "data": {
      "text/plain": [
       "{'level': 59,\n",
       " 'prestige': 24,\n",
       " 'matches_count_all': 3278,\n",
       " 'matches_count_br': 1387,\n",
       " 'br_kills': 2559,\n",
       " 'br_kd': 0.62,\n",
       " 'competitive_ratio': 42}"
      ]
     },
     "execution_count": 108,
     "metadata": {},
     "output_type": "execute_result"
    }
   ],
   "source": [
    "ProfileGetKpis(loaded_profile)"
   ]
  },
  {
   "cell_type": "code",
   "execution_count": null,
   "id": "dcc611d1-caf9-4e78-b18e-ae3f12036657",
   "metadata": {},
   "outputs": [],
   "source": []
  }
 ],
 "metadata": {
  "kernelspec": {
   "display_name": "Python 3 (ipykernel)",
   "language": "python",
   "name": "python3"
  },
  "language_info": {
   "codemirror_mode": {
    "name": "ipython",
    "version": 3
   },
   "file_extension": ".py",
   "mimetype": "text/x-python",
   "name": "python",
   "nbconvert_exporter": "python",
   "pygments_lexer": "ipython3",
   "version": "3.9.5"
  }
 },
 "nbformat": 4,
 "nbformat_minor": 5
}
