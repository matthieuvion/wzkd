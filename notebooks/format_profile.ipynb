{
 "cells": [
  {
   "cell_type": "markdown",
   "id": "8a49d29b-b160-4061-b45f-ae7ca3a4bef2",
   "metadata": {},
   "source": [
    "## COD API, Profile --> explore, extract some KPI's"
   ]
  },
  {
   "cell_type": "markdown",
   "id": "38d2994f-f6ee-492d-8967-6c59a15a04ee",
   "metadata": {
    "tags": []
   },
   "source": [
    "## import stuff to work with"
   ]
  },
  {
   "cell_type": "code",
   "execution_count": 1,
   "id": "6fbccaa9-f802-4ce3-8cc6-06ad8acf5d1c",
   "metadata": {},
   "outputs": [],
   "source": [
    "import asyncio\n",
    "import os\n",
    "import dotenv\n",
    "from pprint import pprint\n",
    "import datetime\n",
    "from datetime import datetime, timezone, timedelta\n",
    "import pandas as pd\n",
    "import numpy as np\n",
    "import pickle\n",
    "\n",
    "\n",
    "import callofduty\n",
    "from callofduty import Mode, Platform, Title, TimeFrame, GameType"
   ]
  },
  {
   "cell_type": "code",
   "execution_count": 2,
   "id": "2f45074d-a84d-4075-a21d-87862c68e33f",
   "metadata": {},
   "outputs": [],
   "source": [
    "# Using SSO\n",
    "# We're storing our SSO token in an .env file stored locally to separate our config from code (w. python-dotenv). An.env-template file (with help to retrieve token) is provided for you to edit and populate the variable(s)\n",
    "# callofduty.py client .Login() goes through all the authentification steps and initiate a session to access protected routes\n",
    "# The client is asynchronous thus the 'await style'\n",
    "from dotenv import load_dotenv\n",
    "load_dotenv()\n",
    "client = await callofduty.Login(sso=os.environ[\"SSO\"])"
   ]
  },
  {
   "cell_type": "code",
   "execution_count": 3,
   "id": "dc792adc-caaf-4e3d-8c97-f2b08b11748d",
   "metadata": {},
   "outputs": [],
   "source": [
    "import urllib.parse\n",
    "from typing import List, Optional, Union\n",
    "\n",
    "from callofduty.client import Client\n",
    "from callofduty.http import HTTP\n",
    "from callofduty.http import Request\n",
    "\n",
    "async def GetProfile(\n",
    "    self, platform, username: str, title: Title, mode: Mode, **kwargs\n",
    "):\n",
    "    \"\"\" \n",
    "    Compared to client : modified so that we do not use Platform.abc as parameter\n",
    "    but instead our app-defined workflow (drop down menu) to select our platform of choice\"\n",
    "    \"\"\"\n",
    "    return (\n",
    "        await self.http.GetPlayerProfile(\n",
    "            platform, username, title.value, mode.value\n",
    "        )\n",
    "    )[\"data\"]\n",
    "\n",
    "Client.GetProfile = GetProfile\n",
    "profile = await client.GetProfile(\"battle\", \"AMADEVS#1689\", Title.ModernWarfare, Mode.Warzone)"
   ]
  },
  {
   "cell_type": "code",
   "execution_count": 4,
   "id": "eb1b70ce-203d-4c61-bfff-8c3ab9255020",
   "metadata": {},
   "outputs": [],
   "source": [
    "#save file if you want to work in offline mode\n",
    "with open(\"data/profile.pkl\", 'wb') as f:\n",
    "    pickle.dump(profile, f)"
   ]
  },
  {
   "cell_type": "code",
   "execution_count": 5,
   "id": "bd6d37e2-06e6-4fbb-8ab4-f02b85539ad0",
   "metadata": {},
   "outputs": [],
   "source": [
    "# load offline data\n",
    "open_file = open(\"data/profile.pkl\", \"rb\")\n",
    "profile = pickle.load(open_file)\n",
    "open_file.close()"
   ]
  },
  {
   "cell_type": "markdown",
   "id": "1a59fbde-3e5d-407d-a1ea-3da68da213ce",
   "metadata": {},
   "source": [
    "### Overview of returned (Profile) stats"
   ]
  },
  {
   "cell_type": "code",
   "execution_count": 10,
   "id": "dc2a5ecc-39c6-4a0a-8edc-c38ec07103dc",
   "metadata": {},
   "outputs": [
    {
     "name": "stdout",
     "output_type": "stream",
     "text": [
      "{'engagement': None,\n",
      " 'level': 243.0,\n",
      " 'levelXpGained': 26784.0,\n",
      " 'levelXpRemainder': 16116.0,\n",
      " 'lifetime': {'accoladeData': {...},\n",
      "              'all': {...},\n",
      "              'itemData': {...},\n",
      "              'map': {},\n",
      "              'mode': {...},\n",
      "              'scorestreakData': {...}},\n",
      " 'maxLevel': 1.0,\n",
      " 'maxPrestige': 0.0,\n",
      " 'p': 0.0,\n",
      " 'paragonId': 0.0,\n",
      " 'paragonRank': 0.0,\n",
      " 'platform': 'battle',\n",
      " 'prestige': 0.0,\n",
      " 'prestigeId': 0.0,\n",
      " 's': 0.0,\n",
      " 'title': 'mw',\n",
      " 'totalXp': 5325921.0,\n",
      " 'type': 'wz',\n",
      " 'username': 'AMADEVS#1689',\n",
      " 'weekly': {'all': {...}, 'map': {}, 'mode': {...}}}\n"
     ]
    }
   ],
   "source": [
    "pprint(profile, depth=2)"
   ]
  },
  {
   "cell_type": "markdown",
   "id": "a6736452-04ff-4086-9eb9-9d8cb50cf84f",
   "metadata": {},
   "source": [
    "#### Lifetime Stats"
   ]
  },
  {
   "cell_type": "code",
   "execution_count": 11,
   "id": "a055bc6b-513c-4106-bba0-157a8a69a5df",
   "metadata": {},
   "outputs": [
    {
     "name": "stdout",
     "output_type": "stream",
     "text": [
      "{'properties': {'accuracy': 0.1082363948225975,\n",
      "                'assists': 8672.0,\n",
      "                'bestAssists': 22.0,\n",
      "                'bestCaptures': 0.0,\n",
      "                'bestConfirmed': 0.0,\n",
      "                'bestDamage': 0.0,\n",
      "                'bestDeaths': 39.0,\n",
      "                'bestDefends': 0.0,\n",
      "                'bestDefuses': 0.0,\n",
      "                'bestDenied': 0.0,\n",
      "                'bestDestructions': 0.0,\n",
      "                'bestFieldgoals': 0.0,\n",
      "                'bestKD': 11.0,\n",
      "                'bestKillChains': 0.0,\n",
      "                'bestKillStreak': 10.0,\n",
      "                'bestKills': 35.0,\n",
      "                'bestKillsAsInfected': 0.0,\n",
      "                'bestKillsAsSurvivor': 0.0,\n",
      "                'bestMatchBonusXp': 0.0,\n",
      "                'bestMatchXp': 0.0,\n",
      "                'bestMedalXp': 0.0,\n",
      "                'bestPlants': 0.0,\n",
      "                'bestRescues': 0.0,\n",
      "                'bestReturns': 0.0,\n",
      "                'bestSPM': 824.0,\n",
      "                'bestScore': 15575.0,\n",
      "                'bestScoreXp': 0.0,\n",
      "                'bestSetbacks': 0.0,\n",
      "                'bestSguardWave': 0.0,\n",
      "                'bestSguardWeaponLevel': 0.0,\n",
      "                'bestSquardCrates': 0.0,\n",
      "                'bestSquardKills': 0.0,\n",
      "                'bestSquardRevives': 0.0,\n",
      "                'bestStabs': 0.0,\n",
      "                'bestTouchdowns': 0.0,\n",
      "                'currentWinStreak': 1.0,\n",
      "                'deaths': 21231.0,\n",
      "                'gamesPlayed': 4531.0,\n",
      "                'headshots': 4831.0,\n",
      "                'hits': 1619.0,\n",
      "                'kdRatio': 0.8132919073104858,\n",
      "                'kills': 17267.0,\n",
      "                'losses': 30.0,\n",
      "                'misses': 13339.0,\n",
      "                'recordDeathsInAMatch': 39.0,\n",
      "                'recordKillStreak': 10.0,\n",
      "                'recordKillsInAMatch': 35.0,\n",
      "                'recordLongestWinStreak': 7.0,\n",
      "                'recordXpInAMatch': 60296.0,\n",
      "                'score': 11053671.0,\n",
      "                'scorePerGame': 2439.565438093136,\n",
      "                'scorePerMinute': 22301.363865630992,\n",
      "                'suicides': 3424.0,\n",
      "                'ties': 0.0,\n",
      "                'timePlayedTotal': 29739.0,\n",
      "                'totalGamesPlayed': 4531.0,\n",
      "                'totalShots': 14958.0,\n",
      "                'winLossRatio': 0.699999988079071,\n",
      "                'wins': 21.0,\n",
      "                'wlRatio': 0.699999988079071}}\n"
     ]
    }
   ],
   "source": [
    "pprint(profile['lifetime']['all'], depth=3)"
   ]
  },
  {
   "cell_type": "code",
   "execution_count": 8,
   "id": "7a748ca3-3c1e-4db2-aa4a-617c98be5ab4",
   "metadata": {},
   "outputs": [
    {
     "name": "stdout",
     "output_type": "stream",
     "text": [
      "{'properties': {'cash': 25553.0,\n",
      "                'contracts': 797.0,\n",
      "                'deaths': 10737.0,\n",
      "                'downs': 9832.0,\n",
      "                'gamesPlayed': 946.0,\n",
      "                'kdRatio': 0.8875849864952966,\n",
      "                'kills': 9530.0,\n",
      "                'objTime': 0.0,\n",
      "                'revives': 73.0,\n",
      "                'score': 4498179.0,\n",
      "                'scorePerMinute': 244.93504324853637,\n",
      "                'timePlayed': 1101887.0,\n",
      "                'tokens': 0.0,\n",
      "                'topFive': 5.0,\n",
      "                'topTen': 5.0,\n",
      "                'topTwentyFive': 5.0,\n",
      "                'wins': 5.0}}\n"
     ]
    }
   ],
   "source": [
    "pprint(profile['lifetime']['mode']['br_dmz'], depth=3)"
   ]
  },
  {
   "cell_type": "code",
   "execution_count": 9,
   "id": "04ae0def-dc6c-4512-ae86-2c359093383b",
   "metadata": {},
   "outputs": [
    {
     "name": "stdout",
     "output_type": "stream",
     "text": [
      "{'properties': {'cash': 25553.0,\n",
      "                'contracts': 3375.0,\n",
      "                'deaths': 16635.0,\n",
      "                'downs': 13330.0,\n",
      "                'gamesPlayed': 2860.0,\n",
      "                'kdRatio': 0.8069131349564171,\n",
      "                'kills': 13423.0,\n",
      "                'objTime': 0.0,\n",
      "                'revives': 993.0,\n",
      "                'score': 9560059.0,\n",
      "                'scorePerMinute': 181.75783073241047,\n",
      "                'timePlayed': 3155867.0,\n",
      "                'tokens': 0.0,\n",
      "                'topFive': 250.0,\n",
      "                'topTen': 511.0,\n",
      "                'topTwentyFive': 1271.0,\n",
      "                'wins': 57.0}}\n"
     ]
    }
   ],
   "source": [
    "pprint(profile['lifetime']['mode']['br_all'], depth=3)"
   ]
  },
  {
   "cell_type": "code",
   "execution_count": 10,
   "id": "eb7fe67b-1f6d-4aff-ad33-4c7d64161e7a",
   "metadata": {},
   "outputs": [
    {
     "name": "stdout",
     "output_type": "stream",
     "text": [
      "{'properties': {'cash': 0.0,\n",
      "                'contracts': 2578.0,\n",
      "                'deaths': 5898.0,\n",
      "                'downs': 3498.0,\n",
      "                'gamesPlayed': 1914.0,\n",
      "                'kdRatio': 0.6600542556798915,\n",
      "                'kills': 3893.0,\n",
      "                'objTime': 0.0,\n",
      "                'revives': 920.0,\n",
      "                'score': 5061880.0,\n",
      "                'scorePerMinute': 147.86550988811965,\n",
      "                'timePlayed': 2053980.0,\n",
      "                'tokens': 0.0,\n",
      "                'topFive': 245.0,\n",
      "                'topTen': 506.0,\n",
      "                'topTwentyFive': 1266.0,\n",
      "                'wins': 52.0}}\n"
     ]
    }
   ],
   "source": [
    "pprint(profile['lifetime']['mode']['br'], depth=3)"
   ]
  },
  {
   "cell_type": "markdown",
   "id": "c1aeaea2-879b-472b-bc28-c4363026a6f2",
   "metadata": {},
   "source": [
    "#### Weekly Stats"
   ]
  },
  {
   "cell_type": "code",
   "execution_count": 11,
   "id": "b1b4f958-5719-4eed-b5ed-1984aadbb241",
   "metadata": {},
   "outputs": [
    {
     "data": {
      "text/plain": [
       "dict_keys(['br_rumble_clash_caldera', 'br_brtrios', 'br_all', 'br_brduos', 'br_brquads'])"
      ]
     },
     "execution_count": 11,
     "metadata": {},
     "output_type": "execute_result"
    }
   ],
   "source": [
    "profile['weekly']['mode'].keys()"
   ]
  },
  {
   "cell_type": "code",
   "execution_count": 12,
   "id": "7d004f50-99e3-48a3-a21d-6fc5e61bee3f",
   "metadata": {},
   "outputs": [
    {
     "name": "stdout",
     "output_type": "stream",
     "text": [
      "{'properties': {'assists': 70.0,\n",
      "                'avgLifeTime': 491.07782101167317,\n",
      "                'damageDone': 52480.0,\n",
      "                'damageTaken': 36286.0,\n",
      "                'deaths': 200.0,\n",
      "                'distanceTraveled': 14116222.994999997,\n",
      "                'executions': 0.0,\n",
      "                'gulagDeaths': 50.0,\n",
      "                'gulagKills': 18.0,\n",
      "                'headshotPercentage': 0.3404255319148936,\n",
      "                'headshots': 48.0,\n",
      "                'kdRatio': 0.705,\n",
      "                'kills': 141.0,\n",
      "                'killsPerGame': 2.473684210526316,\n",
      "                'matchesPlayed': 57.0,\n",
      "                'nearmisses': 0.0,\n",
      "                'objectiveBrCacheOpen': 122.0,\n",
      "                'objectiveBrDownEnemyCircle1': 49.0,\n",
      "                'objectiveBrDownEnemyCircle2': 5.0,\n",
      "                'objectiveBrDownEnemyCircle3': 1.0,\n",
      "                'objectiveBrDownEnemyCircle4': 1.0,\n",
      "                'objectiveBrDownEnemyCircle5': 1.0,\n",
      "                'objectiveBrKioskBuy': 26.0,\n",
      "                'objectiveBrMissionPickupTablet': 59.0,\n",
      "                'objectiveDestroyedEquipment': 3.0,\n",
      "                'objectiveDestroyedVehicleHeavy': 1.0,\n",
      "                'objectiveDestroyedVehicleMedium': 1.0,\n",
      "                'objectiveLastStandKill': 34.0,\n",
      "                'objectiveMunitionsBoxTeammateUsed': 7.0,\n",
      "                'objectiveReviver': 9.0,\n",
      "                'objectiveTeamWiped': 15.0,\n",
      "                'objectiveTrophyDefense': 2.0,\n",
      "                'score': 80050.0,\n",
      "                'scorePerMinute': 38.05652618317526,\n",
      "                'timePlayed': 126207.0,\n",
      "                'wallBangs': 0.0}}\n"
     ]
    }
   ],
   "source": [
    "pprint(profile['weekly']['all'], depth=3)"
   ]
  },
  {
   "cell_type": "code",
   "execution_count": 22,
   "id": "245313cd-aea2-4b86-a9e2-9edb677c51ca",
   "metadata": {},
   "outputs": [
    {
     "name": "stdout",
     "output_type": "stream",
     "text": [
      "{'properties': {'assists': 70.0,\n",
      "                'avgLifeTime': 491.07782101167317,\n",
      "                'damageDone': 52480.0,\n",
      "                'damageTaken': 36286.0,\n",
      "                'deaths': 200.0,\n",
      "                'distanceTraveled': 14116222.994999997,\n",
      "                'executions': 0.0,\n",
      "                'gulagDeaths': 50.0,\n",
      "                'gulagKills': 18.0,\n",
      "                'headshotPercentage': 0.3404255319148936,\n",
      "                'headshots': 48.0,\n",
      "                'kdRatio': 0.705,\n",
      "                'kills': 141.0,\n",
      "                'killsPerGame': 2.473684210526316,\n",
      "                'matchesPlayed': 57.0,\n",
      "                'nearmisses': 0.0,\n",
      "                'objectiveBrCacheOpen': 122.0,\n",
      "                'objectiveBrDownEnemyCircle1': 49.0,\n",
      "                'objectiveBrDownEnemyCircle2': 5.0,\n",
      "                'objectiveBrDownEnemyCircle3': 1.0,\n",
      "                'objectiveBrDownEnemyCircle4': 1.0,\n",
      "                'objectiveBrDownEnemyCircle5': 1.0,\n",
      "                'objectiveBrKioskBuy': 26.0,\n",
      "                'objectiveBrMissionPickupTablet': 59.0,\n",
      "                'objectiveDestroyedEquipment': 3.0,\n",
      "                'objectiveDestroyedVehicleHeavy': 1.0,\n",
      "                'objectiveDestroyedVehicleMedium': 1.0,\n",
      "                'objectiveLastStandKill': 34.0,\n",
      "                'objectiveMunitionsBoxTeammateUsed': 7.0,\n",
      "                'objectiveReviver': 9.0,\n",
      "                'objectiveTeamWiped': 15.0,\n",
      "                'objectiveTrophyDefense': 2.0,\n",
      "                'score': 80050.0,\n",
      "                'scorePerMinute': 38.05652618317526,\n",
      "                'timePlayed': 126207.0,\n",
      "                'wallBangs': 0.0}}\n"
     ]
    }
   ],
   "source": [
    "pprint(profile['weekly']['mode']['br_all'], depth=3)  "
   ]
  },
  {
   "cell_type": "code",
   "execution_count": 14,
   "id": "47fe1c0b-f957-40a8-a14c-a12d9314ee54",
   "metadata": {},
   "outputs": [
    {
     "name": "stdout",
     "output_type": "stream",
     "text": [
      "{'properties': {'assists': 18.0,\n",
      "                'avgLifeTime': 660.2682926829268,\n",
      "                'damageDone': 13637.0,\n",
      "                'damageTaken': 14085.0,\n",
      "                'deaths': 60.0,\n",
      "                'distanceTraveled': 5662823.86,\n",
      "                'executions': 0.0,\n",
      "                'gulagDeaths': 29.0,\n",
      "                'gulagKills': 9.0,\n",
      "                'headshotPercentage': 0.17857142857142858,\n",
      "                'headshots': 5.0,\n",
      "                'kdRatio': 0.4666666666666667,\n",
      "                'kills': 28.0,\n",
      "                'killsPerGame': 1.2727272727272727,\n",
      "                'matchesPlayed': 22.0,\n",
      "                'nearmisses': 0.0,\n",
      "                'objectiveBrCacheOpen': 43.0,\n",
      "                'objectiveBrDownEnemyCircle1': 20.0,\n",
      "                'objectiveBrDownEnemyCircle2': 2.0,\n",
      "                'objectiveBrDownEnemyCircle3': 1.0,\n",
      "                'objectiveBrDownEnemyCircle4': 1.0,\n",
      "                'objectiveBrDownEnemyCircle5': 1.0,\n",
      "                'objectiveBrKioskBuy': 14.0,\n",
      "                'objectiveBrMissionPickupTablet': 35.0,\n",
      "                'objectiveDestroyedEquipment': 1.0,\n",
      "                'objectiveLastStandKill': 14.0,\n",
      "                'objectiveMunitionsBoxTeammateUsed': 3.0,\n",
      "                'objectiveReviver': 2.0,\n",
      "                'objectiveTeamWiped': 4.0,\n",
      "                'objectiveTrophyDefense': 1.0,\n",
      "                'score': 32850.0,\n",
      "                'scorePerGame': 1493.1818181818182,\n",
      "                'scorePerMinute': 36.404270252299504,\n",
      "                'timePlayed': 54142.0,\n",
      "                'wallBangs': 0.0}}\n"
     ]
    }
   ],
   "source": [
    "pprint(profile['weekly']['mode']['br_brtrios'], depth=3)"
   ]
  },
  {
   "cell_type": "code",
   "execution_count": 15,
   "id": "b53099d4-7753-44cc-bd0e-92d5b709d486",
   "metadata": {},
   "outputs": [
    {
     "name": "stdout",
     "output_type": "stream",
     "text": [
      "{'properties': {'assists': 10.0,\n",
      "                'avgLifeTime': 685.223880597015,\n",
      "                'damageDone': 10381.0,\n",
      "                'damageTaken': 9068.0,\n",
      "                'deaths': 47.0,\n",
      "                'distanceTraveled': 5294555.919999999,\n",
      "                'executions': 0.0,\n",
      "                'gulagDeaths': 19.0,\n",
      "                'gulagKills': 9.0,\n",
      "                'headshotPercentage': 0.3076923076923077,\n",
      "                'headshots': 8.0,\n",
      "                'kdRatio': 0.5531914893617021,\n",
      "                'kills': 26.0,\n",
      "                'killsPerGame': 1.3,\n",
      "                'matchesPlayed': 20.0,\n",
      "                'nearmisses': 0.0,\n",
      "                'objectiveBrCacheOpen': 55.0,\n",
      "                'objectiveBrDownEnemyCircle1': 21.0,\n",
      "                'objectiveBrKioskBuy': 12.0,\n",
      "                'objectiveBrMissionPickupTablet': 21.0,\n",
      "                'objectiveDestroyedEquipment': 1.0,\n",
      "                'objectiveLastStandKill': 11.0,\n",
      "                'objectiveMunitionsBoxTeammateUsed': 4.0,\n",
      "                'objectiveReviver': 4.0,\n",
      "                'objectiveTeamWiped': 10.0,\n",
      "                'objectiveTrophyDefense': 1.0,\n",
      "                'score': 30575.0,\n",
      "                'scorePerGame': 1528.75,\n",
      "                'scorePerMinute': 39.95861468089741,\n",
      "                'timePlayed': 45910.0,\n",
      "                'wallBangs': 0.0}}\n"
     ]
    }
   ],
   "source": [
    "pprint(profile['weekly']['mode']['br_brduos'], depth=3)"
   ]
  },
  {
   "cell_type": "code",
   "execution_count": 16,
   "id": "02d5b0e6-e83f-4fc2-8a46-d1177375065d",
   "metadata": {},
   "outputs": [
    {
     "name": "stdout",
     "output_type": "stream",
     "text": [
      "{'properties': {'assists': 41.0,\n",
      "                'avgLifeTime': 211.07865168539325,\n",
      "                'damageDone': 24221.0,\n",
      "                'damageTaken': 9114.0,\n",
      "                'deaths': 78.0,\n",
      "                'distanceTraveled': 2031860.9849999999,\n",
      "                'executions': 0.0,\n",
      "                'gulagDeaths': 0.0,\n",
      "                'gulagKills': 0.0,\n",
      "                'headshotPercentage': 0.44155844155844154,\n",
      "                'headshots': 34.0,\n",
      "                'kdRatio': 0.9871794871794872,\n",
      "                'kills': 77.0,\n",
      "                'killsPerGame': 7.0,\n",
      "                'matchesPlayed': 11.0,\n",
      "                'nearmisses': 0.0,\n",
      "                'objectiveBrCacheOpen': 17.0,\n",
      "                'objectiveDestroyedEquipment': 1.0,\n",
      "                'objectiveDestroyedVehicleHeavy': 1.0,\n",
      "                'objectiveDestroyedVehicleMedium': 1.0,\n",
      "                'score': 12625.0,\n",
      "                'scorePerGame': 1147.7272727272727,\n",
      "                'scorePerMinute': 40.32258064516129,\n",
      "                'timePlayed': 18786.0,\n",
      "                'wallBangs': 0.0}}\n"
     ]
    }
   ],
   "source": [
    "pprint(profile['weekly']['mode']['br_rumble_clash'], depth=3)"
   ]
  },
  {
   "cell_type": "code",
   "execution_count": 17,
   "id": "992d65ac-31ac-4c13-9aa1-d01e92558f41",
   "metadata": {},
   "outputs": [],
   "source": [
    "# save file if you want to work in offline mode\n",
    "#with open(\"profile.pkl\", 'wb') as f:\n",
    "#    pickle.dump(profile, f)"
   ]
  },
  {
   "cell_type": "code",
   "execution_count": 18,
   "id": "6428beab-f95e-495c-a6b1-66099e90a413",
   "metadata": {},
   "outputs": [],
   "source": [
    "# load offline data\n",
    "open_file = open(\"data/profile.pkl\", \"rb\")\n",
    "loaded_profile = pickle.load(open_file)\n",
    "open_file.close()"
   ]
  },
  {
   "cell_type": "markdown",
   "id": "81447d02-d06c-4b8a-ba17-9b99fecf6893",
   "metadata": {
    "tags": []
   },
   "source": [
    "#### raw data"
   ]
  },
  {
   "cell_type": "code",
   "execution_count": 19,
   "id": "460b5dc5-ae5f-4b7d-a843-e780bb15d43f",
   "metadata": {},
   "outputs": [
    {
     "data": {
      "text/plain": [
       "dict_keys(['title', 'platform', 'username', 'type', 'level', 'maxLevel', 'levelXpRemainder', 'levelXpGained', 'prestige', 'prestigeId', 'maxPrestige', 'totalXp', 'paragonRank', 'paragonId', 's', 'p', 'lifetime', 'weekly', 'engagement'])"
      ]
     },
     "execution_count": 19,
     "metadata": {},
     "output_type": "execute_result"
    }
   ],
   "source": [
    "loaded_profile.keys()"
   ]
  },
  {
   "cell_type": "code",
   "execution_count": 25,
   "id": "be31fd4b-3ac1-4b1c-9d01-7f6c2c255483",
   "metadata": {},
   "outputs": [],
   "source": [
    "def ProfileGetKpis(result):\n",
    "    \"\"\"\n",
    "    From COD API Profile endpoint json/dict, export some {key: player stats}\n",
    "\n",
    "    Returns\n",
    "    -------\n",
    "    dict\n",
    "    \"\"\"\n",
    "    return {\n",
    "        'level': int(result['level']),\n",
    "        'prestige': int(result['prestige']),\n",
    "        'matches_count_all': int(result['lifetime']['all']['properties']['totalGamesPlayed']),\n",
    "        'matches_count_br': int(result['lifetime']['mode']['br']['properties']['gamesPlayed']),\n",
    "        'br_kills': int(result['lifetime']['mode']['br']['properties']['kills']),\n",
    "        'br_kills_ratio': round(result['lifetime']['mode']['br']['properties']['kills'] / result['lifetime']['mode']['br']['properties']['gamesPlayed'],1),\n",
    "        'br_kd':round(result['lifetime']['mode']['br']['properties']['kdRatio'],2),\n",
    "        'competitive_ratio': int(round(result['lifetime']['mode']['br']['properties']['gamesPlayed']*100/result['lifetime']['all']['properties']['totalGamesPlayed'],0))\n",
    "    }"
   ]
  },
  {
   "cell_type": "code",
   "execution_count": 26,
   "id": "b00fc1d1-ff8a-49a4-9ac3-e2bd4c0da8da",
   "metadata": {},
   "outputs": [
    {
     "data": {
      "text/plain": [
       "{'level': 68,\n",
       " 'prestige': 24,\n",
       " 'matches_count_all': 3294,\n",
       " 'matches_count_br': 1398,\n",
       " 'br_kills': 2575,\n",
       " 'br_kills_ratio': 1.8,\n",
       " 'br_kd': 0.62,\n",
       " 'competitive_ratio': 42}"
      ]
     },
     "execution_count": 26,
     "metadata": {},
     "output_type": "execute_result"
    }
   ],
   "source": [
    "ProfileGetKpis(loaded_profile)"
   ]
  },
  {
   "cell_type": "code",
   "execution_count": null,
   "id": "dcc611d1-caf9-4e78-b18e-ae3f12036657",
   "metadata": {},
   "outputs": [],
   "source": []
  }
 ],
 "metadata": {
  "kernelspec": {
   "display_name": "Python 3 (ipykernel)",
   "language": "python",
   "name": "python3"
  },
  "language_info": {
   "codemirror_mode": {
    "name": "ipython",
    "version": 3
   },
   "file_extension": ".py",
   "mimetype": "text/x-python",
   "name": "python",
   "nbconvert_exporter": "python",
   "pygments_lexer": "ipython3",
   "version": "3.10.4"
  }
 },
 "nbformat": 4,
 "nbformat_minor": 5
}
